{
  "nbformat": 4,
  "nbformat_minor": 0,
  "metadata": {
    "colab": {
      "provenance": [],
      "gpuType": "T4",
      "include_colab_link": true
    },
    "kernelspec": {
      "name": "python3",
      "display_name": "Python 3"
    },
    "language_info": {
      "name": "python"
    },
    "widgets": {
      "application/vnd.jupyter.widget-state+json": {
        "f044f3cbdf644c069200091119237229": {
          "model_module": "@jupyter-widgets/controls",
          "model_name": "VBoxModel",
          "model_module_version": "1.5.0",
          "state": {
            "_dom_classes": [],
            "_model_module": "@jupyter-widgets/controls",
            "_model_module_version": "1.5.0",
            "_model_name": "VBoxModel",
            "_view_count": null,
            "_view_module": "@jupyter-widgets/controls",
            "_view_module_version": "1.5.0",
            "_view_name": "VBoxView",
            "box_style": "",
            "children": [
              "IPY_MODEL_bd3b9be4abf54f3f86395e8af7257d09",
              "IPY_MODEL_5c3675774b0c4ded831bce988ac8e4ae"
            ],
            "layout": "IPY_MODEL_1fc1ea4a28094935b7360cb3c9c0213b"
          }
        },
        "bd3b9be4abf54f3f86395e8af7257d09": {
          "model_module": "@jupyter-widgets/controls",
          "model_name": "LabelModel",
          "model_module_version": "1.5.0",
          "state": {
            "_dom_classes": [],
            "_model_module": "@jupyter-widgets/controls",
            "_model_module_version": "1.5.0",
            "_model_name": "LabelModel",
            "_view_count": null,
            "_view_module": "@jupyter-widgets/controls",
            "_view_module_version": "1.5.0",
            "_view_name": "LabelView",
            "description": "",
            "description_tooltip": null,
            "layout": "IPY_MODEL_69facbd52da44ebbb069953379aad742",
            "placeholder": "​",
            "style": "IPY_MODEL_f508c8ecb50145ad9adcfb1d4ad1564d",
            "value": "0.012 MB of 0.012 MB uploaded\r"
          }
        },
        "5c3675774b0c4ded831bce988ac8e4ae": {
          "model_module": "@jupyter-widgets/controls",
          "model_name": "FloatProgressModel",
          "model_module_version": "1.5.0",
          "state": {
            "_dom_classes": [],
            "_model_module": "@jupyter-widgets/controls",
            "_model_module_version": "1.5.0",
            "_model_name": "FloatProgressModel",
            "_view_count": null,
            "_view_module": "@jupyter-widgets/controls",
            "_view_module_version": "1.5.0",
            "_view_name": "ProgressView",
            "bar_style": "",
            "description": "",
            "description_tooltip": null,
            "layout": "IPY_MODEL_26ce70cd64164eeaa4a428963b9225aa",
            "max": 1,
            "min": 0,
            "orientation": "horizontal",
            "style": "IPY_MODEL_2d201b1a895148d5b1eb1ef2f7a482ff",
            "value": 1
          }
        },
        "1fc1ea4a28094935b7360cb3c9c0213b": {
          "model_module": "@jupyter-widgets/base",
          "model_name": "LayoutModel",
          "model_module_version": "1.2.0",
          "state": {
            "_model_module": "@jupyter-widgets/base",
            "_model_module_version": "1.2.0",
            "_model_name": "LayoutModel",
            "_view_count": null,
            "_view_module": "@jupyter-widgets/base",
            "_view_module_version": "1.2.0",
            "_view_name": "LayoutView",
            "align_content": null,
            "align_items": null,
            "align_self": null,
            "border": null,
            "bottom": null,
            "display": null,
            "flex": null,
            "flex_flow": null,
            "grid_area": null,
            "grid_auto_columns": null,
            "grid_auto_flow": null,
            "grid_auto_rows": null,
            "grid_column": null,
            "grid_gap": null,
            "grid_row": null,
            "grid_template_areas": null,
            "grid_template_columns": null,
            "grid_template_rows": null,
            "height": null,
            "justify_content": null,
            "justify_items": null,
            "left": null,
            "margin": null,
            "max_height": null,
            "max_width": null,
            "min_height": null,
            "min_width": null,
            "object_fit": null,
            "object_position": null,
            "order": null,
            "overflow": null,
            "overflow_x": null,
            "overflow_y": null,
            "padding": null,
            "right": null,
            "top": null,
            "visibility": null,
            "width": null
          }
        },
        "69facbd52da44ebbb069953379aad742": {
          "model_module": "@jupyter-widgets/base",
          "model_name": "LayoutModel",
          "model_module_version": "1.2.0",
          "state": {
            "_model_module": "@jupyter-widgets/base",
            "_model_module_version": "1.2.0",
            "_model_name": "LayoutModel",
            "_view_count": null,
            "_view_module": "@jupyter-widgets/base",
            "_view_module_version": "1.2.0",
            "_view_name": "LayoutView",
            "align_content": null,
            "align_items": null,
            "align_self": null,
            "border": null,
            "bottom": null,
            "display": null,
            "flex": null,
            "flex_flow": null,
            "grid_area": null,
            "grid_auto_columns": null,
            "grid_auto_flow": null,
            "grid_auto_rows": null,
            "grid_column": null,
            "grid_gap": null,
            "grid_row": null,
            "grid_template_areas": null,
            "grid_template_columns": null,
            "grid_template_rows": null,
            "height": null,
            "justify_content": null,
            "justify_items": null,
            "left": null,
            "margin": null,
            "max_height": null,
            "max_width": null,
            "min_height": null,
            "min_width": null,
            "object_fit": null,
            "object_position": null,
            "order": null,
            "overflow": null,
            "overflow_x": null,
            "overflow_y": null,
            "padding": null,
            "right": null,
            "top": null,
            "visibility": null,
            "width": null
          }
        },
        "f508c8ecb50145ad9adcfb1d4ad1564d": {
          "model_module": "@jupyter-widgets/controls",
          "model_name": "DescriptionStyleModel",
          "model_module_version": "1.5.0",
          "state": {
            "_model_module": "@jupyter-widgets/controls",
            "_model_module_version": "1.5.0",
            "_model_name": "DescriptionStyleModel",
            "_view_count": null,
            "_view_module": "@jupyter-widgets/base",
            "_view_module_version": "1.2.0",
            "_view_name": "StyleView",
            "description_width": ""
          }
        },
        "26ce70cd64164eeaa4a428963b9225aa": {
          "model_module": "@jupyter-widgets/base",
          "model_name": "LayoutModel",
          "model_module_version": "1.2.0",
          "state": {
            "_model_module": "@jupyter-widgets/base",
            "_model_module_version": "1.2.0",
            "_model_name": "LayoutModel",
            "_view_count": null,
            "_view_module": "@jupyter-widgets/base",
            "_view_module_version": "1.2.0",
            "_view_name": "LayoutView",
            "align_content": null,
            "align_items": null,
            "align_self": null,
            "border": null,
            "bottom": null,
            "display": null,
            "flex": null,
            "flex_flow": null,
            "grid_area": null,
            "grid_auto_columns": null,
            "grid_auto_flow": null,
            "grid_auto_rows": null,
            "grid_column": null,
            "grid_gap": null,
            "grid_row": null,
            "grid_template_areas": null,
            "grid_template_columns": null,
            "grid_template_rows": null,
            "height": null,
            "justify_content": null,
            "justify_items": null,
            "left": null,
            "margin": null,
            "max_height": null,
            "max_width": null,
            "min_height": null,
            "min_width": null,
            "object_fit": null,
            "object_position": null,
            "order": null,
            "overflow": null,
            "overflow_x": null,
            "overflow_y": null,
            "padding": null,
            "right": null,
            "top": null,
            "visibility": null,
            "width": null
          }
        },
        "2d201b1a895148d5b1eb1ef2f7a482ff": {
          "model_module": "@jupyter-widgets/controls",
          "model_name": "ProgressStyleModel",
          "model_module_version": "1.5.0",
          "state": {
            "_model_module": "@jupyter-widgets/controls",
            "_model_module_version": "1.5.0",
            "_model_name": "ProgressStyleModel",
            "_view_count": null,
            "_view_module": "@jupyter-widgets/base",
            "_view_module_version": "1.2.0",
            "_view_name": "StyleView",
            "bar_color": null,
            "description_width": ""
          }
        },
        "9cf94f9059024e1d8a9868d2a55ab5e4": {
          "model_module": "@jupyter-widgets/controls",
          "model_name": "VBoxModel",
          "model_module_version": "1.5.0",
          "state": {
            "_dom_classes": [],
            "_model_module": "@jupyter-widgets/controls",
            "_model_module_version": "1.5.0",
            "_model_name": "VBoxModel",
            "_view_count": null,
            "_view_module": "@jupyter-widgets/controls",
            "_view_module_version": "1.5.0",
            "_view_name": "VBoxView",
            "box_style": "",
            "children": [
              "IPY_MODEL_d24ca89a1348483b9489c9af794fd5e3",
              "IPY_MODEL_681be83f8f694db4bce168eb6e35c4ab"
            ],
            "layout": "IPY_MODEL_4e0eb90c0a074645a68ea2bc512fe0c8"
          }
        },
        "d24ca89a1348483b9489c9af794fd5e3": {
          "model_module": "@jupyter-widgets/controls",
          "model_name": "LabelModel",
          "model_module_version": "1.5.0",
          "state": {
            "_dom_classes": [],
            "_model_module": "@jupyter-widgets/controls",
            "_model_module_version": "1.5.0",
            "_model_name": "LabelModel",
            "_view_count": null,
            "_view_module": "@jupyter-widgets/controls",
            "_view_module_version": "1.5.0",
            "_view_name": "LabelView",
            "description": "",
            "description_tooltip": null,
            "layout": "IPY_MODEL_d9bfada4cd5740f2a46cbe30cb8ce02d",
            "placeholder": "​",
            "style": "IPY_MODEL_664c27b758e7459ebf327f69b68e5976",
            "value": "0.012 MB of 0.012 MB uploaded\r"
          }
        },
        "681be83f8f694db4bce168eb6e35c4ab": {
          "model_module": "@jupyter-widgets/controls",
          "model_name": "FloatProgressModel",
          "model_module_version": "1.5.0",
          "state": {
            "_dom_classes": [],
            "_model_module": "@jupyter-widgets/controls",
            "_model_module_version": "1.5.0",
            "_model_name": "FloatProgressModel",
            "_view_count": null,
            "_view_module": "@jupyter-widgets/controls",
            "_view_module_version": "1.5.0",
            "_view_name": "ProgressView",
            "bar_style": "",
            "description": "",
            "description_tooltip": null,
            "layout": "IPY_MODEL_281e9d0a8b0b48fba07bcc1acf0323d0",
            "max": 1,
            "min": 0,
            "orientation": "horizontal",
            "style": "IPY_MODEL_4f049dc9ec2a47b6a70acc00dccb7bd9",
            "value": 1
          }
        },
        "4e0eb90c0a074645a68ea2bc512fe0c8": {
          "model_module": "@jupyter-widgets/base",
          "model_name": "LayoutModel",
          "model_module_version": "1.2.0",
          "state": {
            "_model_module": "@jupyter-widgets/base",
            "_model_module_version": "1.2.0",
            "_model_name": "LayoutModel",
            "_view_count": null,
            "_view_module": "@jupyter-widgets/base",
            "_view_module_version": "1.2.0",
            "_view_name": "LayoutView",
            "align_content": null,
            "align_items": null,
            "align_self": null,
            "border": null,
            "bottom": null,
            "display": null,
            "flex": null,
            "flex_flow": null,
            "grid_area": null,
            "grid_auto_columns": null,
            "grid_auto_flow": null,
            "grid_auto_rows": null,
            "grid_column": null,
            "grid_gap": null,
            "grid_row": null,
            "grid_template_areas": null,
            "grid_template_columns": null,
            "grid_template_rows": null,
            "height": null,
            "justify_content": null,
            "justify_items": null,
            "left": null,
            "margin": null,
            "max_height": null,
            "max_width": null,
            "min_height": null,
            "min_width": null,
            "object_fit": null,
            "object_position": null,
            "order": null,
            "overflow": null,
            "overflow_x": null,
            "overflow_y": null,
            "padding": null,
            "right": null,
            "top": null,
            "visibility": null,
            "width": null
          }
        },
        "d9bfada4cd5740f2a46cbe30cb8ce02d": {
          "model_module": "@jupyter-widgets/base",
          "model_name": "LayoutModel",
          "model_module_version": "1.2.0",
          "state": {
            "_model_module": "@jupyter-widgets/base",
            "_model_module_version": "1.2.0",
            "_model_name": "LayoutModel",
            "_view_count": null,
            "_view_module": "@jupyter-widgets/base",
            "_view_module_version": "1.2.0",
            "_view_name": "LayoutView",
            "align_content": null,
            "align_items": null,
            "align_self": null,
            "border": null,
            "bottom": null,
            "display": null,
            "flex": null,
            "flex_flow": null,
            "grid_area": null,
            "grid_auto_columns": null,
            "grid_auto_flow": null,
            "grid_auto_rows": null,
            "grid_column": null,
            "grid_gap": null,
            "grid_row": null,
            "grid_template_areas": null,
            "grid_template_columns": null,
            "grid_template_rows": null,
            "height": null,
            "justify_content": null,
            "justify_items": null,
            "left": null,
            "margin": null,
            "max_height": null,
            "max_width": null,
            "min_height": null,
            "min_width": null,
            "object_fit": null,
            "object_position": null,
            "order": null,
            "overflow": null,
            "overflow_x": null,
            "overflow_y": null,
            "padding": null,
            "right": null,
            "top": null,
            "visibility": null,
            "width": null
          }
        },
        "664c27b758e7459ebf327f69b68e5976": {
          "model_module": "@jupyter-widgets/controls",
          "model_name": "DescriptionStyleModel",
          "model_module_version": "1.5.0",
          "state": {
            "_model_module": "@jupyter-widgets/controls",
            "_model_module_version": "1.5.0",
            "_model_name": "DescriptionStyleModel",
            "_view_count": null,
            "_view_module": "@jupyter-widgets/base",
            "_view_module_version": "1.2.0",
            "_view_name": "StyleView",
            "description_width": ""
          }
        },
        "281e9d0a8b0b48fba07bcc1acf0323d0": {
          "model_module": "@jupyter-widgets/base",
          "model_name": "LayoutModel",
          "model_module_version": "1.2.0",
          "state": {
            "_model_module": "@jupyter-widgets/base",
            "_model_module_version": "1.2.0",
            "_model_name": "LayoutModel",
            "_view_count": null,
            "_view_module": "@jupyter-widgets/base",
            "_view_module_version": "1.2.0",
            "_view_name": "LayoutView",
            "align_content": null,
            "align_items": null,
            "align_self": null,
            "border": null,
            "bottom": null,
            "display": null,
            "flex": null,
            "flex_flow": null,
            "grid_area": null,
            "grid_auto_columns": null,
            "grid_auto_flow": null,
            "grid_auto_rows": null,
            "grid_column": null,
            "grid_gap": null,
            "grid_row": null,
            "grid_template_areas": null,
            "grid_template_columns": null,
            "grid_template_rows": null,
            "height": null,
            "justify_content": null,
            "justify_items": null,
            "left": null,
            "margin": null,
            "max_height": null,
            "max_width": null,
            "min_height": null,
            "min_width": null,
            "object_fit": null,
            "object_position": null,
            "order": null,
            "overflow": null,
            "overflow_x": null,
            "overflow_y": null,
            "padding": null,
            "right": null,
            "top": null,
            "visibility": null,
            "width": null
          }
        },
        "4f049dc9ec2a47b6a70acc00dccb7bd9": {
          "model_module": "@jupyter-widgets/controls",
          "model_name": "ProgressStyleModel",
          "model_module_version": "1.5.0",
          "state": {
            "_model_module": "@jupyter-widgets/controls",
            "_model_module_version": "1.5.0",
            "_model_name": "ProgressStyleModel",
            "_view_count": null,
            "_view_module": "@jupyter-widgets/base",
            "_view_module_version": "1.2.0",
            "_view_name": "StyleView",
            "bar_color": null,
            "description_width": ""
          }
        },
        "abc1b3405b3a453b8c63e787f89d8270": {
          "model_module": "@jupyter-widgets/controls",
          "model_name": "VBoxModel",
          "model_module_version": "1.5.0",
          "state": {
            "_dom_classes": [],
            "_model_module": "@jupyter-widgets/controls",
            "_model_module_version": "1.5.0",
            "_model_name": "VBoxModel",
            "_view_count": null,
            "_view_module": "@jupyter-widgets/controls",
            "_view_module_version": "1.5.0",
            "_view_name": "VBoxView",
            "box_style": "",
            "children": [
              "IPY_MODEL_73b97e0b363b4a4db9d83326bd86ee22",
              "IPY_MODEL_86bd6c2f0fe145699f8f4ab5f0ed78ca"
            ],
            "layout": "IPY_MODEL_4ece8e2681c0482c88de65332f42e89b"
          }
        },
        "73b97e0b363b4a4db9d83326bd86ee22": {
          "model_module": "@jupyter-widgets/controls",
          "model_name": "LabelModel",
          "model_module_version": "1.5.0",
          "state": {
            "_dom_classes": [],
            "_model_module": "@jupyter-widgets/controls",
            "_model_module_version": "1.5.0",
            "_model_name": "LabelModel",
            "_view_count": null,
            "_view_module": "@jupyter-widgets/controls",
            "_view_module_version": "1.5.0",
            "_view_name": "LabelView",
            "description": "",
            "description_tooltip": null,
            "layout": "IPY_MODEL_2b2f8ae3b87f45aa9efb6e0196e33d02",
            "placeholder": "​",
            "style": "IPY_MODEL_cf02a1e0e8784c2ba657f34884576490",
            "value": "0.012 MB of 0.012 MB uploaded\r"
          }
        },
        "86bd6c2f0fe145699f8f4ab5f0ed78ca": {
          "model_module": "@jupyter-widgets/controls",
          "model_name": "FloatProgressModel",
          "model_module_version": "1.5.0",
          "state": {
            "_dom_classes": [],
            "_model_module": "@jupyter-widgets/controls",
            "_model_module_version": "1.5.0",
            "_model_name": "FloatProgressModel",
            "_view_count": null,
            "_view_module": "@jupyter-widgets/controls",
            "_view_module_version": "1.5.0",
            "_view_name": "ProgressView",
            "bar_style": "",
            "description": "",
            "description_tooltip": null,
            "layout": "IPY_MODEL_3f5a60cff3f741628e6cdfe2d9a45220",
            "max": 1,
            "min": 0,
            "orientation": "horizontal",
            "style": "IPY_MODEL_c213df67e55c4b9f8c5dcf5467f43be5",
            "value": 1
          }
        },
        "4ece8e2681c0482c88de65332f42e89b": {
          "model_module": "@jupyter-widgets/base",
          "model_name": "LayoutModel",
          "model_module_version": "1.2.0",
          "state": {
            "_model_module": "@jupyter-widgets/base",
            "_model_module_version": "1.2.0",
            "_model_name": "LayoutModel",
            "_view_count": null,
            "_view_module": "@jupyter-widgets/base",
            "_view_module_version": "1.2.0",
            "_view_name": "LayoutView",
            "align_content": null,
            "align_items": null,
            "align_self": null,
            "border": null,
            "bottom": null,
            "display": null,
            "flex": null,
            "flex_flow": null,
            "grid_area": null,
            "grid_auto_columns": null,
            "grid_auto_flow": null,
            "grid_auto_rows": null,
            "grid_column": null,
            "grid_gap": null,
            "grid_row": null,
            "grid_template_areas": null,
            "grid_template_columns": null,
            "grid_template_rows": null,
            "height": null,
            "justify_content": null,
            "justify_items": null,
            "left": null,
            "margin": null,
            "max_height": null,
            "max_width": null,
            "min_height": null,
            "min_width": null,
            "object_fit": null,
            "object_position": null,
            "order": null,
            "overflow": null,
            "overflow_x": null,
            "overflow_y": null,
            "padding": null,
            "right": null,
            "top": null,
            "visibility": null,
            "width": null
          }
        },
        "2b2f8ae3b87f45aa9efb6e0196e33d02": {
          "model_module": "@jupyter-widgets/base",
          "model_name": "LayoutModel",
          "model_module_version": "1.2.0",
          "state": {
            "_model_module": "@jupyter-widgets/base",
            "_model_module_version": "1.2.0",
            "_model_name": "LayoutModel",
            "_view_count": null,
            "_view_module": "@jupyter-widgets/base",
            "_view_module_version": "1.2.0",
            "_view_name": "LayoutView",
            "align_content": null,
            "align_items": null,
            "align_self": null,
            "border": null,
            "bottom": null,
            "display": null,
            "flex": null,
            "flex_flow": null,
            "grid_area": null,
            "grid_auto_columns": null,
            "grid_auto_flow": null,
            "grid_auto_rows": null,
            "grid_column": null,
            "grid_gap": null,
            "grid_row": null,
            "grid_template_areas": null,
            "grid_template_columns": null,
            "grid_template_rows": null,
            "height": null,
            "justify_content": null,
            "justify_items": null,
            "left": null,
            "margin": null,
            "max_height": null,
            "max_width": null,
            "min_height": null,
            "min_width": null,
            "object_fit": null,
            "object_position": null,
            "order": null,
            "overflow": null,
            "overflow_x": null,
            "overflow_y": null,
            "padding": null,
            "right": null,
            "top": null,
            "visibility": null,
            "width": null
          }
        },
        "cf02a1e0e8784c2ba657f34884576490": {
          "model_module": "@jupyter-widgets/controls",
          "model_name": "DescriptionStyleModel",
          "model_module_version": "1.5.0",
          "state": {
            "_model_module": "@jupyter-widgets/controls",
            "_model_module_version": "1.5.0",
            "_model_name": "DescriptionStyleModel",
            "_view_count": null,
            "_view_module": "@jupyter-widgets/base",
            "_view_module_version": "1.2.0",
            "_view_name": "StyleView",
            "description_width": ""
          }
        },
        "3f5a60cff3f741628e6cdfe2d9a45220": {
          "model_module": "@jupyter-widgets/base",
          "model_name": "LayoutModel",
          "model_module_version": "1.2.0",
          "state": {
            "_model_module": "@jupyter-widgets/base",
            "_model_module_version": "1.2.0",
            "_model_name": "LayoutModel",
            "_view_count": null,
            "_view_module": "@jupyter-widgets/base",
            "_view_module_version": "1.2.0",
            "_view_name": "LayoutView",
            "align_content": null,
            "align_items": null,
            "align_self": null,
            "border": null,
            "bottom": null,
            "display": null,
            "flex": null,
            "flex_flow": null,
            "grid_area": null,
            "grid_auto_columns": null,
            "grid_auto_flow": null,
            "grid_auto_rows": null,
            "grid_column": null,
            "grid_gap": null,
            "grid_row": null,
            "grid_template_areas": null,
            "grid_template_columns": null,
            "grid_template_rows": null,
            "height": null,
            "justify_content": null,
            "justify_items": null,
            "left": null,
            "margin": null,
            "max_height": null,
            "max_width": null,
            "min_height": null,
            "min_width": null,
            "object_fit": null,
            "object_position": null,
            "order": null,
            "overflow": null,
            "overflow_x": null,
            "overflow_y": null,
            "padding": null,
            "right": null,
            "top": null,
            "visibility": null,
            "width": null
          }
        },
        "c213df67e55c4b9f8c5dcf5467f43be5": {
          "model_module": "@jupyter-widgets/controls",
          "model_name": "ProgressStyleModel",
          "model_module_version": "1.5.0",
          "state": {
            "_model_module": "@jupyter-widgets/controls",
            "_model_module_version": "1.5.0",
            "_model_name": "ProgressStyleModel",
            "_view_count": null,
            "_view_module": "@jupyter-widgets/base",
            "_view_module_version": "1.2.0",
            "_view_name": "StyleView",
            "bar_color": null,
            "description_width": ""
          }
        },
        "d4d44212afd2479087726d752f19083d": {
          "model_module": "@jupyter-widgets/controls",
          "model_name": "VBoxModel",
          "model_module_version": "1.5.0",
          "state": {
            "_dom_classes": [],
            "_model_module": "@jupyter-widgets/controls",
            "_model_module_version": "1.5.0",
            "_model_name": "VBoxModel",
            "_view_count": null,
            "_view_module": "@jupyter-widgets/controls",
            "_view_module_version": "1.5.0",
            "_view_name": "VBoxView",
            "box_style": "",
            "children": [
              "IPY_MODEL_7f0142d8017f441eba3a46e577bf37eb",
              "IPY_MODEL_a1ef121cd8eb4f93baab32b41130e363"
            ],
            "layout": "IPY_MODEL_428f3809c5e445a09639573149253c94"
          }
        },
        "7f0142d8017f441eba3a46e577bf37eb": {
          "model_module": "@jupyter-widgets/controls",
          "model_name": "LabelModel",
          "model_module_version": "1.5.0",
          "state": {
            "_dom_classes": [],
            "_model_module": "@jupyter-widgets/controls",
            "_model_module_version": "1.5.0",
            "_model_name": "LabelModel",
            "_view_count": null,
            "_view_module": "@jupyter-widgets/controls",
            "_view_module_version": "1.5.0",
            "_view_name": "LabelView",
            "description": "",
            "description_tooltip": null,
            "layout": "IPY_MODEL_899de4beea40427baeb5895f4ac3e621",
            "placeholder": "​",
            "style": "IPY_MODEL_9a8fa90d79174d61afe44e1e21a970ef",
            "value": "0.012 MB of 0.012 MB uploaded\r"
          }
        },
        "a1ef121cd8eb4f93baab32b41130e363": {
          "model_module": "@jupyter-widgets/controls",
          "model_name": "FloatProgressModel",
          "model_module_version": "1.5.0",
          "state": {
            "_dom_classes": [],
            "_model_module": "@jupyter-widgets/controls",
            "_model_module_version": "1.5.0",
            "_model_name": "FloatProgressModel",
            "_view_count": null,
            "_view_module": "@jupyter-widgets/controls",
            "_view_module_version": "1.5.0",
            "_view_name": "ProgressView",
            "bar_style": "",
            "description": "",
            "description_tooltip": null,
            "layout": "IPY_MODEL_7d12b00ac08c4608993c7765d92ba411",
            "max": 1,
            "min": 0,
            "orientation": "horizontal",
            "style": "IPY_MODEL_e5fe476aee9c4155b7a6673bbe0dac87",
            "value": 1
          }
        },
        "428f3809c5e445a09639573149253c94": {
          "model_module": "@jupyter-widgets/base",
          "model_name": "LayoutModel",
          "model_module_version": "1.2.0",
          "state": {
            "_model_module": "@jupyter-widgets/base",
            "_model_module_version": "1.2.0",
            "_model_name": "LayoutModel",
            "_view_count": null,
            "_view_module": "@jupyter-widgets/base",
            "_view_module_version": "1.2.0",
            "_view_name": "LayoutView",
            "align_content": null,
            "align_items": null,
            "align_self": null,
            "border": null,
            "bottom": null,
            "display": null,
            "flex": null,
            "flex_flow": null,
            "grid_area": null,
            "grid_auto_columns": null,
            "grid_auto_flow": null,
            "grid_auto_rows": null,
            "grid_column": null,
            "grid_gap": null,
            "grid_row": null,
            "grid_template_areas": null,
            "grid_template_columns": null,
            "grid_template_rows": null,
            "height": null,
            "justify_content": null,
            "justify_items": null,
            "left": null,
            "margin": null,
            "max_height": null,
            "max_width": null,
            "min_height": null,
            "min_width": null,
            "object_fit": null,
            "object_position": null,
            "order": null,
            "overflow": null,
            "overflow_x": null,
            "overflow_y": null,
            "padding": null,
            "right": null,
            "top": null,
            "visibility": null,
            "width": null
          }
        },
        "899de4beea40427baeb5895f4ac3e621": {
          "model_module": "@jupyter-widgets/base",
          "model_name": "LayoutModel",
          "model_module_version": "1.2.0",
          "state": {
            "_model_module": "@jupyter-widgets/base",
            "_model_module_version": "1.2.0",
            "_model_name": "LayoutModel",
            "_view_count": null,
            "_view_module": "@jupyter-widgets/base",
            "_view_module_version": "1.2.0",
            "_view_name": "LayoutView",
            "align_content": null,
            "align_items": null,
            "align_self": null,
            "border": null,
            "bottom": null,
            "display": null,
            "flex": null,
            "flex_flow": null,
            "grid_area": null,
            "grid_auto_columns": null,
            "grid_auto_flow": null,
            "grid_auto_rows": null,
            "grid_column": null,
            "grid_gap": null,
            "grid_row": null,
            "grid_template_areas": null,
            "grid_template_columns": null,
            "grid_template_rows": null,
            "height": null,
            "justify_content": null,
            "justify_items": null,
            "left": null,
            "margin": null,
            "max_height": null,
            "max_width": null,
            "min_height": null,
            "min_width": null,
            "object_fit": null,
            "object_position": null,
            "order": null,
            "overflow": null,
            "overflow_x": null,
            "overflow_y": null,
            "padding": null,
            "right": null,
            "top": null,
            "visibility": null,
            "width": null
          }
        },
        "9a8fa90d79174d61afe44e1e21a970ef": {
          "model_module": "@jupyter-widgets/controls",
          "model_name": "DescriptionStyleModel",
          "model_module_version": "1.5.0",
          "state": {
            "_model_module": "@jupyter-widgets/controls",
            "_model_module_version": "1.5.0",
            "_model_name": "DescriptionStyleModel",
            "_view_count": null,
            "_view_module": "@jupyter-widgets/base",
            "_view_module_version": "1.2.0",
            "_view_name": "StyleView",
            "description_width": ""
          }
        },
        "7d12b00ac08c4608993c7765d92ba411": {
          "model_module": "@jupyter-widgets/base",
          "model_name": "LayoutModel",
          "model_module_version": "1.2.0",
          "state": {
            "_model_module": "@jupyter-widgets/base",
            "_model_module_version": "1.2.0",
            "_model_name": "LayoutModel",
            "_view_count": null,
            "_view_module": "@jupyter-widgets/base",
            "_view_module_version": "1.2.0",
            "_view_name": "LayoutView",
            "align_content": null,
            "align_items": null,
            "align_self": null,
            "border": null,
            "bottom": null,
            "display": null,
            "flex": null,
            "flex_flow": null,
            "grid_area": null,
            "grid_auto_columns": null,
            "grid_auto_flow": null,
            "grid_auto_rows": null,
            "grid_column": null,
            "grid_gap": null,
            "grid_row": null,
            "grid_template_areas": null,
            "grid_template_columns": null,
            "grid_template_rows": null,
            "height": null,
            "justify_content": null,
            "justify_items": null,
            "left": null,
            "margin": null,
            "max_height": null,
            "max_width": null,
            "min_height": null,
            "min_width": null,
            "object_fit": null,
            "object_position": null,
            "order": null,
            "overflow": null,
            "overflow_x": null,
            "overflow_y": null,
            "padding": null,
            "right": null,
            "top": null,
            "visibility": null,
            "width": null
          }
        },
        "e5fe476aee9c4155b7a6673bbe0dac87": {
          "model_module": "@jupyter-widgets/controls",
          "model_name": "ProgressStyleModel",
          "model_module_version": "1.5.0",
          "state": {
            "_model_module": "@jupyter-widgets/controls",
            "_model_module_version": "1.5.0",
            "_model_name": "ProgressStyleModel",
            "_view_count": null,
            "_view_module": "@jupyter-widgets/base",
            "_view_module_version": "1.2.0",
            "_view_name": "StyleView",
            "bar_color": null,
            "description_width": ""
          }
        },
        "42e98cd35ba948ac83ec4704629a1364": {
          "model_module": "@jupyter-widgets/controls",
          "model_name": "VBoxModel",
          "model_module_version": "1.5.0",
          "state": {
            "_dom_classes": [],
            "_model_module": "@jupyter-widgets/controls",
            "_model_module_version": "1.5.0",
            "_model_name": "VBoxModel",
            "_view_count": null,
            "_view_module": "@jupyter-widgets/controls",
            "_view_module_version": "1.5.0",
            "_view_name": "VBoxView",
            "box_style": "",
            "children": [
              "IPY_MODEL_5b8ddb0404d147589ab84d8fc62164bb",
              "IPY_MODEL_dc9dbf6cf2c04cc8a9bb732bbccac4da"
            ],
            "layout": "IPY_MODEL_d60af0e0dab84cf293a04381ffd9be96"
          }
        },
        "5b8ddb0404d147589ab84d8fc62164bb": {
          "model_module": "@jupyter-widgets/controls",
          "model_name": "LabelModel",
          "model_module_version": "1.5.0",
          "state": {
            "_dom_classes": [],
            "_model_module": "@jupyter-widgets/controls",
            "_model_module_version": "1.5.0",
            "_model_name": "LabelModel",
            "_view_count": null,
            "_view_module": "@jupyter-widgets/controls",
            "_view_module_version": "1.5.0",
            "_view_name": "LabelView",
            "description": "",
            "description_tooltip": null,
            "layout": "IPY_MODEL_cabef52565624088afde7e79b25b94ea",
            "placeholder": "​",
            "style": "IPY_MODEL_b33b26e9b45946419c2055dd9c41a8d0",
            "value": "Waiting for wandb.init()...\r"
          }
        },
        "dc9dbf6cf2c04cc8a9bb732bbccac4da": {
          "model_module": "@jupyter-widgets/controls",
          "model_name": "FloatProgressModel",
          "model_module_version": "1.5.0",
          "state": {
            "_dom_classes": [],
            "_model_module": "@jupyter-widgets/controls",
            "_model_module_version": "1.5.0",
            "_model_name": "FloatProgressModel",
            "_view_count": null,
            "_view_module": "@jupyter-widgets/controls",
            "_view_module_version": "1.5.0",
            "_view_name": "ProgressView",
            "bar_style": "",
            "description": "",
            "description_tooltip": null,
            "layout": "IPY_MODEL_d0073174190a4763b1c04f5fe55c5588",
            "max": 1,
            "min": 0,
            "orientation": "horizontal",
            "style": "IPY_MODEL_b51dcbaf7e0747178ee2ba006c4c4dbb",
            "value": 1
          }
        },
        "d60af0e0dab84cf293a04381ffd9be96": {
          "model_module": "@jupyter-widgets/base",
          "model_name": "LayoutModel",
          "model_module_version": "1.2.0",
          "state": {
            "_model_module": "@jupyter-widgets/base",
            "_model_module_version": "1.2.0",
            "_model_name": "LayoutModel",
            "_view_count": null,
            "_view_module": "@jupyter-widgets/base",
            "_view_module_version": "1.2.0",
            "_view_name": "LayoutView",
            "align_content": null,
            "align_items": null,
            "align_self": null,
            "border": null,
            "bottom": null,
            "display": null,
            "flex": null,
            "flex_flow": null,
            "grid_area": null,
            "grid_auto_columns": null,
            "grid_auto_flow": null,
            "grid_auto_rows": null,
            "grid_column": null,
            "grid_gap": null,
            "grid_row": null,
            "grid_template_areas": null,
            "grid_template_columns": null,
            "grid_template_rows": null,
            "height": null,
            "justify_content": null,
            "justify_items": null,
            "left": null,
            "margin": null,
            "max_height": null,
            "max_width": null,
            "min_height": null,
            "min_width": null,
            "object_fit": null,
            "object_position": null,
            "order": null,
            "overflow": null,
            "overflow_x": null,
            "overflow_y": null,
            "padding": null,
            "right": null,
            "top": null,
            "visibility": null,
            "width": null
          }
        },
        "cabef52565624088afde7e79b25b94ea": {
          "model_module": "@jupyter-widgets/base",
          "model_name": "LayoutModel",
          "model_module_version": "1.2.0",
          "state": {
            "_model_module": "@jupyter-widgets/base",
            "_model_module_version": "1.2.0",
            "_model_name": "LayoutModel",
            "_view_count": null,
            "_view_module": "@jupyter-widgets/base",
            "_view_module_version": "1.2.0",
            "_view_name": "LayoutView",
            "align_content": null,
            "align_items": null,
            "align_self": null,
            "border": null,
            "bottom": null,
            "display": null,
            "flex": null,
            "flex_flow": null,
            "grid_area": null,
            "grid_auto_columns": null,
            "grid_auto_flow": null,
            "grid_auto_rows": null,
            "grid_column": null,
            "grid_gap": null,
            "grid_row": null,
            "grid_template_areas": null,
            "grid_template_columns": null,
            "grid_template_rows": null,
            "height": null,
            "justify_content": null,
            "justify_items": null,
            "left": null,
            "margin": null,
            "max_height": null,
            "max_width": null,
            "min_height": null,
            "min_width": null,
            "object_fit": null,
            "object_position": null,
            "order": null,
            "overflow": null,
            "overflow_x": null,
            "overflow_y": null,
            "padding": null,
            "right": null,
            "top": null,
            "visibility": null,
            "width": null
          }
        },
        "b33b26e9b45946419c2055dd9c41a8d0": {
          "model_module": "@jupyter-widgets/controls",
          "model_name": "DescriptionStyleModel",
          "model_module_version": "1.5.0",
          "state": {
            "_model_module": "@jupyter-widgets/controls",
            "_model_module_version": "1.5.0",
            "_model_name": "DescriptionStyleModel",
            "_view_count": null,
            "_view_module": "@jupyter-widgets/base",
            "_view_module_version": "1.2.0",
            "_view_name": "StyleView",
            "description_width": ""
          }
        },
        "d0073174190a4763b1c04f5fe55c5588": {
          "model_module": "@jupyter-widgets/base",
          "model_name": "LayoutModel",
          "model_module_version": "1.2.0",
          "state": {
            "_model_module": "@jupyter-widgets/base",
            "_model_module_version": "1.2.0",
            "_model_name": "LayoutModel",
            "_view_count": null,
            "_view_module": "@jupyter-widgets/base",
            "_view_module_version": "1.2.0",
            "_view_name": "LayoutView",
            "align_content": null,
            "align_items": null,
            "align_self": null,
            "border": null,
            "bottom": null,
            "display": null,
            "flex": null,
            "flex_flow": null,
            "grid_area": null,
            "grid_auto_columns": null,
            "grid_auto_flow": null,
            "grid_auto_rows": null,
            "grid_column": null,
            "grid_gap": null,
            "grid_row": null,
            "grid_template_areas": null,
            "grid_template_columns": null,
            "grid_template_rows": null,
            "height": null,
            "justify_content": null,
            "justify_items": null,
            "left": null,
            "margin": null,
            "max_height": null,
            "max_width": null,
            "min_height": null,
            "min_width": null,
            "object_fit": null,
            "object_position": null,
            "order": null,
            "overflow": null,
            "overflow_x": null,
            "overflow_y": null,
            "padding": null,
            "right": null,
            "top": null,
            "visibility": null,
            "width": null
          }
        },
        "b51dcbaf7e0747178ee2ba006c4c4dbb": {
          "model_module": "@jupyter-widgets/controls",
          "model_name": "ProgressStyleModel",
          "model_module_version": "1.5.0",
          "state": {
            "_model_module": "@jupyter-widgets/controls",
            "_model_module_version": "1.5.0",
            "_model_name": "ProgressStyleModel",
            "_view_count": null,
            "_view_module": "@jupyter-widgets/base",
            "_view_module_version": "1.2.0",
            "_view_name": "StyleView",
            "bar_color": null,
            "description_width": ""
          }
        },
        "37e31409c9d54a06bd167a64b793014a": {
          "model_module": "@jupyter-widgets/controls",
          "model_name": "VBoxModel",
          "model_module_version": "1.5.0",
          "state": {
            "_dom_classes": [],
            "_model_module": "@jupyter-widgets/controls",
            "_model_module_version": "1.5.0",
            "_model_name": "VBoxModel",
            "_view_count": null,
            "_view_module": "@jupyter-widgets/controls",
            "_view_module_version": "1.5.0",
            "_view_name": "VBoxView",
            "box_style": "",
            "children": [
              "IPY_MODEL_9a71d32498da46ef828a7b6def95826e",
              "IPY_MODEL_d50d2223b2c64b1599d8cc189a83db2c"
            ],
            "layout": "IPY_MODEL_df54b92b41064834a90fcde5aad2a97d"
          }
        },
        "9a71d32498da46ef828a7b6def95826e": {
          "model_module": "@jupyter-widgets/controls",
          "model_name": "LabelModel",
          "model_module_version": "1.5.0",
          "state": {
            "_dom_classes": [],
            "_model_module": "@jupyter-widgets/controls",
            "_model_module_version": "1.5.0",
            "_model_name": "LabelModel",
            "_view_count": null,
            "_view_module": "@jupyter-widgets/controls",
            "_view_module_version": "1.5.0",
            "_view_name": "LabelView",
            "description": "",
            "description_tooltip": null,
            "layout": "IPY_MODEL_471862f9a956465497be2ab20d381353",
            "placeholder": "​",
            "style": "IPY_MODEL_021d893deebf47cb9321c3acab99c8a4",
            "value": "0.028 MB of 0.028 MB uploaded\r"
          }
        },
        "d50d2223b2c64b1599d8cc189a83db2c": {
          "model_module": "@jupyter-widgets/controls",
          "model_name": "FloatProgressModel",
          "model_module_version": "1.5.0",
          "state": {
            "_dom_classes": [],
            "_model_module": "@jupyter-widgets/controls",
            "_model_module_version": "1.5.0",
            "_model_name": "FloatProgressModel",
            "_view_count": null,
            "_view_module": "@jupyter-widgets/controls",
            "_view_module_version": "1.5.0",
            "_view_name": "ProgressView",
            "bar_style": "",
            "description": "",
            "description_tooltip": null,
            "layout": "IPY_MODEL_8c42e9d206a54970ba64f0f131126a8b",
            "max": 1,
            "min": 0,
            "orientation": "horizontal",
            "style": "IPY_MODEL_5f9c7e3ead904b81a6916f82b061a13d",
            "value": 1
          }
        },
        "df54b92b41064834a90fcde5aad2a97d": {
          "model_module": "@jupyter-widgets/base",
          "model_name": "LayoutModel",
          "model_module_version": "1.2.0",
          "state": {
            "_model_module": "@jupyter-widgets/base",
            "_model_module_version": "1.2.0",
            "_model_name": "LayoutModel",
            "_view_count": null,
            "_view_module": "@jupyter-widgets/base",
            "_view_module_version": "1.2.0",
            "_view_name": "LayoutView",
            "align_content": null,
            "align_items": null,
            "align_self": null,
            "border": null,
            "bottom": null,
            "display": null,
            "flex": null,
            "flex_flow": null,
            "grid_area": null,
            "grid_auto_columns": null,
            "grid_auto_flow": null,
            "grid_auto_rows": null,
            "grid_column": null,
            "grid_gap": null,
            "grid_row": null,
            "grid_template_areas": null,
            "grid_template_columns": null,
            "grid_template_rows": null,
            "height": null,
            "justify_content": null,
            "justify_items": null,
            "left": null,
            "margin": null,
            "max_height": null,
            "max_width": null,
            "min_height": null,
            "min_width": null,
            "object_fit": null,
            "object_position": null,
            "order": null,
            "overflow": null,
            "overflow_x": null,
            "overflow_y": null,
            "padding": null,
            "right": null,
            "top": null,
            "visibility": null,
            "width": null
          }
        },
        "471862f9a956465497be2ab20d381353": {
          "model_module": "@jupyter-widgets/base",
          "model_name": "LayoutModel",
          "model_module_version": "1.2.0",
          "state": {
            "_model_module": "@jupyter-widgets/base",
            "_model_module_version": "1.2.0",
            "_model_name": "LayoutModel",
            "_view_count": null,
            "_view_module": "@jupyter-widgets/base",
            "_view_module_version": "1.2.0",
            "_view_name": "LayoutView",
            "align_content": null,
            "align_items": null,
            "align_self": null,
            "border": null,
            "bottom": null,
            "display": null,
            "flex": null,
            "flex_flow": null,
            "grid_area": null,
            "grid_auto_columns": null,
            "grid_auto_flow": null,
            "grid_auto_rows": null,
            "grid_column": null,
            "grid_gap": null,
            "grid_row": null,
            "grid_template_areas": null,
            "grid_template_columns": null,
            "grid_template_rows": null,
            "height": null,
            "justify_content": null,
            "justify_items": null,
            "left": null,
            "margin": null,
            "max_height": null,
            "max_width": null,
            "min_height": null,
            "min_width": null,
            "object_fit": null,
            "object_position": null,
            "order": null,
            "overflow": null,
            "overflow_x": null,
            "overflow_y": null,
            "padding": null,
            "right": null,
            "top": null,
            "visibility": null,
            "width": null
          }
        },
        "021d893deebf47cb9321c3acab99c8a4": {
          "model_module": "@jupyter-widgets/controls",
          "model_name": "DescriptionStyleModel",
          "model_module_version": "1.5.0",
          "state": {
            "_model_module": "@jupyter-widgets/controls",
            "_model_module_version": "1.5.0",
            "_model_name": "DescriptionStyleModel",
            "_view_count": null,
            "_view_module": "@jupyter-widgets/base",
            "_view_module_version": "1.2.0",
            "_view_name": "StyleView",
            "description_width": ""
          }
        },
        "8c42e9d206a54970ba64f0f131126a8b": {
          "model_module": "@jupyter-widgets/base",
          "model_name": "LayoutModel",
          "model_module_version": "1.2.0",
          "state": {
            "_model_module": "@jupyter-widgets/base",
            "_model_module_version": "1.2.0",
            "_model_name": "LayoutModel",
            "_view_count": null,
            "_view_module": "@jupyter-widgets/base",
            "_view_module_version": "1.2.0",
            "_view_name": "LayoutView",
            "align_content": null,
            "align_items": null,
            "align_self": null,
            "border": null,
            "bottom": null,
            "display": null,
            "flex": null,
            "flex_flow": null,
            "grid_area": null,
            "grid_auto_columns": null,
            "grid_auto_flow": null,
            "grid_auto_rows": null,
            "grid_column": null,
            "grid_gap": null,
            "grid_row": null,
            "grid_template_areas": null,
            "grid_template_columns": null,
            "grid_template_rows": null,
            "height": null,
            "justify_content": null,
            "justify_items": null,
            "left": null,
            "margin": null,
            "max_height": null,
            "max_width": null,
            "min_height": null,
            "min_width": null,
            "object_fit": null,
            "object_position": null,
            "order": null,
            "overflow": null,
            "overflow_x": null,
            "overflow_y": null,
            "padding": null,
            "right": null,
            "top": null,
            "visibility": null,
            "width": null
          }
        },
        "5f9c7e3ead904b81a6916f82b061a13d": {
          "model_module": "@jupyter-widgets/controls",
          "model_name": "ProgressStyleModel",
          "model_module_version": "1.5.0",
          "state": {
            "_model_module": "@jupyter-widgets/controls",
            "_model_module_version": "1.5.0",
            "_model_name": "ProgressStyleModel",
            "_view_count": null,
            "_view_module": "@jupyter-widgets/base",
            "_view_module_version": "1.2.0",
            "_view_name": "StyleView",
            "bar_color": null,
            "description_width": ""
          }
        },
        "8675d203ff5445058f154679815ed837": {
          "model_module": "@jupyter-widgets/controls",
          "model_name": "VBoxModel",
          "model_module_version": "1.5.0",
          "state": {
            "_dom_classes": [],
            "_model_module": "@jupyter-widgets/controls",
            "_model_module_version": "1.5.0",
            "_model_name": "VBoxModel",
            "_view_count": null,
            "_view_module": "@jupyter-widgets/controls",
            "_view_module_version": "1.5.0",
            "_view_name": "VBoxView",
            "box_style": "",
            "children": [
              "IPY_MODEL_a649b7cb1df94e2d809c9eb6c8e45a83",
              "IPY_MODEL_f29a337390ba41da80fa8b6e47858ccb"
            ],
            "layout": "IPY_MODEL_c46bda9205df492580644893a489cb65"
          }
        },
        "a649b7cb1df94e2d809c9eb6c8e45a83": {
          "model_module": "@jupyter-widgets/controls",
          "model_name": "LabelModel",
          "model_module_version": "1.5.0",
          "state": {
            "_dom_classes": [],
            "_model_module": "@jupyter-widgets/controls",
            "_model_module_version": "1.5.0",
            "_model_name": "LabelModel",
            "_view_count": null,
            "_view_module": "@jupyter-widgets/controls",
            "_view_module_version": "1.5.0",
            "_view_name": "LabelView",
            "description": "",
            "description_tooltip": null,
            "layout": "IPY_MODEL_4837dbf471f04fe392181814e8b9bbec",
            "placeholder": "​",
            "style": "IPY_MODEL_589a248059cb434fa2ab97ee32d5717b",
            "value": "Waiting for wandb.init()...\r"
          }
        },
        "f29a337390ba41da80fa8b6e47858ccb": {
          "model_module": "@jupyter-widgets/controls",
          "model_name": "FloatProgressModel",
          "model_module_version": "1.5.0",
          "state": {
            "_dom_classes": [],
            "_model_module": "@jupyter-widgets/controls",
            "_model_module_version": "1.5.0",
            "_model_name": "FloatProgressModel",
            "_view_count": null,
            "_view_module": "@jupyter-widgets/controls",
            "_view_module_version": "1.5.0",
            "_view_name": "ProgressView",
            "bar_style": "",
            "description": "",
            "description_tooltip": null,
            "layout": "IPY_MODEL_fe29f03d94034b9c8ae2bc9445465069",
            "max": 1,
            "min": 0,
            "orientation": "horizontal",
            "style": "IPY_MODEL_53807a5035884efaaef0e2fdea7ab0ea",
            "value": 1
          }
        },
        "c46bda9205df492580644893a489cb65": {
          "model_module": "@jupyter-widgets/base",
          "model_name": "LayoutModel",
          "model_module_version": "1.2.0",
          "state": {
            "_model_module": "@jupyter-widgets/base",
            "_model_module_version": "1.2.0",
            "_model_name": "LayoutModel",
            "_view_count": null,
            "_view_module": "@jupyter-widgets/base",
            "_view_module_version": "1.2.0",
            "_view_name": "LayoutView",
            "align_content": null,
            "align_items": null,
            "align_self": null,
            "border": null,
            "bottom": null,
            "display": null,
            "flex": null,
            "flex_flow": null,
            "grid_area": null,
            "grid_auto_columns": null,
            "grid_auto_flow": null,
            "grid_auto_rows": null,
            "grid_column": null,
            "grid_gap": null,
            "grid_row": null,
            "grid_template_areas": null,
            "grid_template_columns": null,
            "grid_template_rows": null,
            "height": null,
            "justify_content": null,
            "justify_items": null,
            "left": null,
            "margin": null,
            "max_height": null,
            "max_width": null,
            "min_height": null,
            "min_width": null,
            "object_fit": null,
            "object_position": null,
            "order": null,
            "overflow": null,
            "overflow_x": null,
            "overflow_y": null,
            "padding": null,
            "right": null,
            "top": null,
            "visibility": null,
            "width": null
          }
        },
        "4837dbf471f04fe392181814e8b9bbec": {
          "model_module": "@jupyter-widgets/base",
          "model_name": "LayoutModel",
          "model_module_version": "1.2.0",
          "state": {
            "_model_module": "@jupyter-widgets/base",
            "_model_module_version": "1.2.0",
            "_model_name": "LayoutModel",
            "_view_count": null,
            "_view_module": "@jupyter-widgets/base",
            "_view_module_version": "1.2.0",
            "_view_name": "LayoutView",
            "align_content": null,
            "align_items": null,
            "align_self": null,
            "border": null,
            "bottom": null,
            "display": null,
            "flex": null,
            "flex_flow": null,
            "grid_area": null,
            "grid_auto_columns": null,
            "grid_auto_flow": null,
            "grid_auto_rows": null,
            "grid_column": null,
            "grid_gap": null,
            "grid_row": null,
            "grid_template_areas": null,
            "grid_template_columns": null,
            "grid_template_rows": null,
            "height": null,
            "justify_content": null,
            "justify_items": null,
            "left": null,
            "margin": null,
            "max_height": null,
            "max_width": null,
            "min_height": null,
            "min_width": null,
            "object_fit": null,
            "object_position": null,
            "order": null,
            "overflow": null,
            "overflow_x": null,
            "overflow_y": null,
            "padding": null,
            "right": null,
            "top": null,
            "visibility": null,
            "width": null
          }
        },
        "589a248059cb434fa2ab97ee32d5717b": {
          "model_module": "@jupyter-widgets/controls",
          "model_name": "DescriptionStyleModel",
          "model_module_version": "1.5.0",
          "state": {
            "_model_module": "@jupyter-widgets/controls",
            "_model_module_version": "1.5.0",
            "_model_name": "DescriptionStyleModel",
            "_view_count": null,
            "_view_module": "@jupyter-widgets/base",
            "_view_module_version": "1.2.0",
            "_view_name": "StyleView",
            "description_width": ""
          }
        },
        "fe29f03d94034b9c8ae2bc9445465069": {
          "model_module": "@jupyter-widgets/base",
          "model_name": "LayoutModel",
          "model_module_version": "1.2.0",
          "state": {
            "_model_module": "@jupyter-widgets/base",
            "_model_module_version": "1.2.0",
            "_model_name": "LayoutModel",
            "_view_count": null,
            "_view_module": "@jupyter-widgets/base",
            "_view_module_version": "1.2.0",
            "_view_name": "LayoutView",
            "align_content": null,
            "align_items": null,
            "align_self": null,
            "border": null,
            "bottom": null,
            "display": null,
            "flex": null,
            "flex_flow": null,
            "grid_area": null,
            "grid_auto_columns": null,
            "grid_auto_flow": null,
            "grid_auto_rows": null,
            "grid_column": null,
            "grid_gap": null,
            "grid_row": null,
            "grid_template_areas": null,
            "grid_template_columns": null,
            "grid_template_rows": null,
            "height": null,
            "justify_content": null,
            "justify_items": null,
            "left": null,
            "margin": null,
            "max_height": null,
            "max_width": null,
            "min_height": null,
            "min_width": null,
            "object_fit": null,
            "object_position": null,
            "order": null,
            "overflow": null,
            "overflow_x": null,
            "overflow_y": null,
            "padding": null,
            "right": null,
            "top": null,
            "visibility": null,
            "width": null
          }
        },
        "53807a5035884efaaef0e2fdea7ab0ea": {
          "model_module": "@jupyter-widgets/controls",
          "model_name": "ProgressStyleModel",
          "model_module_version": "1.5.0",
          "state": {
            "_model_module": "@jupyter-widgets/controls",
            "_model_module_version": "1.5.0",
            "_model_name": "ProgressStyleModel",
            "_view_count": null,
            "_view_module": "@jupyter-widgets/base",
            "_view_module_version": "1.2.0",
            "_view_name": "StyleView",
            "bar_color": null,
            "description_width": ""
          }
        },
        "1d8a983107a74b1697a78bda0113d278": {
          "model_module": "@jupyter-widgets/controls",
          "model_name": "VBoxModel",
          "model_module_version": "1.5.0",
          "state": {
            "_dom_classes": [],
            "_model_module": "@jupyter-widgets/controls",
            "_model_module_version": "1.5.0",
            "_model_name": "VBoxModel",
            "_view_count": null,
            "_view_module": "@jupyter-widgets/controls",
            "_view_module_version": "1.5.0",
            "_view_name": "VBoxView",
            "box_style": "",
            "children": [
              "IPY_MODEL_e0a74953121b47bdaeb02b8a8434182b",
              "IPY_MODEL_de5e331e7052458497e8ff56ee3cbd0c"
            ],
            "layout": "IPY_MODEL_77da06a93b2648e9ad8fccbce365d8aa"
          }
        },
        "e0a74953121b47bdaeb02b8a8434182b": {
          "model_module": "@jupyter-widgets/controls",
          "model_name": "LabelModel",
          "model_module_version": "1.5.0",
          "state": {
            "_dom_classes": [],
            "_model_module": "@jupyter-widgets/controls",
            "_model_module_version": "1.5.0",
            "_model_name": "LabelModel",
            "_view_count": null,
            "_view_module": "@jupyter-widgets/controls",
            "_view_module_version": "1.5.0",
            "_view_name": "LabelView",
            "description": "",
            "description_tooltip": null,
            "layout": "IPY_MODEL_7d51eb66329943fa98fe3bb88637a720",
            "placeholder": "​",
            "style": "IPY_MODEL_ecd8103fba684b6ab0a02c4468f23d0b",
            "value": "0.028 MB of 0.028 MB uploaded\r"
          }
        },
        "de5e331e7052458497e8ff56ee3cbd0c": {
          "model_module": "@jupyter-widgets/controls",
          "model_name": "FloatProgressModel",
          "model_module_version": "1.5.0",
          "state": {
            "_dom_classes": [],
            "_model_module": "@jupyter-widgets/controls",
            "_model_module_version": "1.5.0",
            "_model_name": "FloatProgressModel",
            "_view_count": null,
            "_view_module": "@jupyter-widgets/controls",
            "_view_module_version": "1.5.0",
            "_view_name": "ProgressView",
            "bar_style": "",
            "description": "",
            "description_tooltip": null,
            "layout": "IPY_MODEL_f545eb95372f4bc8b8d27d4e39df392f",
            "max": 1,
            "min": 0,
            "orientation": "horizontal",
            "style": "IPY_MODEL_72fc6249ec364c34a8c49b5ef2123b43",
            "value": 1
          }
        },
        "77da06a93b2648e9ad8fccbce365d8aa": {
          "model_module": "@jupyter-widgets/base",
          "model_name": "LayoutModel",
          "model_module_version": "1.2.0",
          "state": {
            "_model_module": "@jupyter-widgets/base",
            "_model_module_version": "1.2.0",
            "_model_name": "LayoutModel",
            "_view_count": null,
            "_view_module": "@jupyter-widgets/base",
            "_view_module_version": "1.2.0",
            "_view_name": "LayoutView",
            "align_content": null,
            "align_items": null,
            "align_self": null,
            "border": null,
            "bottom": null,
            "display": null,
            "flex": null,
            "flex_flow": null,
            "grid_area": null,
            "grid_auto_columns": null,
            "grid_auto_flow": null,
            "grid_auto_rows": null,
            "grid_column": null,
            "grid_gap": null,
            "grid_row": null,
            "grid_template_areas": null,
            "grid_template_columns": null,
            "grid_template_rows": null,
            "height": null,
            "justify_content": null,
            "justify_items": null,
            "left": null,
            "margin": null,
            "max_height": null,
            "max_width": null,
            "min_height": null,
            "min_width": null,
            "object_fit": null,
            "object_position": null,
            "order": null,
            "overflow": null,
            "overflow_x": null,
            "overflow_y": null,
            "padding": null,
            "right": null,
            "top": null,
            "visibility": null,
            "width": null
          }
        },
        "7d51eb66329943fa98fe3bb88637a720": {
          "model_module": "@jupyter-widgets/base",
          "model_name": "LayoutModel",
          "model_module_version": "1.2.0",
          "state": {
            "_model_module": "@jupyter-widgets/base",
            "_model_module_version": "1.2.0",
            "_model_name": "LayoutModel",
            "_view_count": null,
            "_view_module": "@jupyter-widgets/base",
            "_view_module_version": "1.2.0",
            "_view_name": "LayoutView",
            "align_content": null,
            "align_items": null,
            "align_self": null,
            "border": null,
            "bottom": null,
            "display": null,
            "flex": null,
            "flex_flow": null,
            "grid_area": null,
            "grid_auto_columns": null,
            "grid_auto_flow": null,
            "grid_auto_rows": null,
            "grid_column": null,
            "grid_gap": null,
            "grid_row": null,
            "grid_template_areas": null,
            "grid_template_columns": null,
            "grid_template_rows": null,
            "height": null,
            "justify_content": null,
            "justify_items": null,
            "left": null,
            "margin": null,
            "max_height": null,
            "max_width": null,
            "min_height": null,
            "min_width": null,
            "object_fit": null,
            "object_position": null,
            "order": null,
            "overflow": null,
            "overflow_x": null,
            "overflow_y": null,
            "padding": null,
            "right": null,
            "top": null,
            "visibility": null,
            "width": null
          }
        },
        "ecd8103fba684b6ab0a02c4468f23d0b": {
          "model_module": "@jupyter-widgets/controls",
          "model_name": "DescriptionStyleModel",
          "model_module_version": "1.5.0",
          "state": {
            "_model_module": "@jupyter-widgets/controls",
            "_model_module_version": "1.5.0",
            "_model_name": "DescriptionStyleModel",
            "_view_count": null,
            "_view_module": "@jupyter-widgets/base",
            "_view_module_version": "1.2.0",
            "_view_name": "StyleView",
            "description_width": ""
          }
        },
        "f545eb95372f4bc8b8d27d4e39df392f": {
          "model_module": "@jupyter-widgets/base",
          "model_name": "LayoutModel",
          "model_module_version": "1.2.0",
          "state": {
            "_model_module": "@jupyter-widgets/base",
            "_model_module_version": "1.2.0",
            "_model_name": "LayoutModel",
            "_view_count": null,
            "_view_module": "@jupyter-widgets/base",
            "_view_module_version": "1.2.0",
            "_view_name": "LayoutView",
            "align_content": null,
            "align_items": null,
            "align_self": null,
            "border": null,
            "bottom": null,
            "display": null,
            "flex": null,
            "flex_flow": null,
            "grid_area": null,
            "grid_auto_columns": null,
            "grid_auto_flow": null,
            "grid_auto_rows": null,
            "grid_column": null,
            "grid_gap": null,
            "grid_row": null,
            "grid_template_areas": null,
            "grid_template_columns": null,
            "grid_template_rows": null,
            "height": null,
            "justify_content": null,
            "justify_items": null,
            "left": null,
            "margin": null,
            "max_height": null,
            "max_width": null,
            "min_height": null,
            "min_width": null,
            "object_fit": null,
            "object_position": null,
            "order": null,
            "overflow": null,
            "overflow_x": null,
            "overflow_y": null,
            "padding": null,
            "right": null,
            "top": null,
            "visibility": null,
            "width": null
          }
        },
        "72fc6249ec364c34a8c49b5ef2123b43": {
          "model_module": "@jupyter-widgets/controls",
          "model_name": "ProgressStyleModel",
          "model_module_version": "1.5.0",
          "state": {
            "_model_module": "@jupyter-widgets/controls",
            "_model_module_version": "1.5.0",
            "_model_name": "ProgressStyleModel",
            "_view_count": null,
            "_view_module": "@jupyter-widgets/base",
            "_view_module_version": "1.2.0",
            "_view_name": "StyleView",
            "bar_color": null,
            "description_width": ""
          }
        },
        "e7edc553c6714aefaf3bb6b2b8d7c734": {
          "model_module": "@jupyter-widgets/controls",
          "model_name": "VBoxModel",
          "model_module_version": "1.5.0",
          "state": {
            "_dom_classes": [],
            "_model_module": "@jupyter-widgets/controls",
            "_model_module_version": "1.5.0",
            "_model_name": "VBoxModel",
            "_view_count": null,
            "_view_module": "@jupyter-widgets/controls",
            "_view_module_version": "1.5.0",
            "_view_name": "VBoxView",
            "box_style": "",
            "children": [
              "IPY_MODEL_382dce0294f646b9981873eee2359b2a",
              "IPY_MODEL_5bd459fdc12c4a698630fcb042feda63"
            ],
            "layout": "IPY_MODEL_6f069368fc444321879945ccc264e51f"
          }
        },
        "382dce0294f646b9981873eee2359b2a": {
          "model_module": "@jupyter-widgets/controls",
          "model_name": "LabelModel",
          "model_module_version": "1.5.0",
          "state": {
            "_dom_classes": [],
            "_model_module": "@jupyter-widgets/controls",
            "_model_module_version": "1.5.0",
            "_model_name": "LabelModel",
            "_view_count": null,
            "_view_module": "@jupyter-widgets/controls",
            "_view_module_version": "1.5.0",
            "_view_name": "LabelView",
            "description": "",
            "description_tooltip": null,
            "layout": "IPY_MODEL_1baa120b7b7441c68a69878276b563fe",
            "placeholder": "​",
            "style": "IPY_MODEL_dc6821d8716b45c7be82c55231af7379",
            "value": "Waiting for wandb.init()...\r"
          }
        },
        "5bd459fdc12c4a698630fcb042feda63": {
          "model_module": "@jupyter-widgets/controls",
          "model_name": "FloatProgressModel",
          "model_module_version": "1.5.0",
          "state": {
            "_dom_classes": [],
            "_model_module": "@jupyter-widgets/controls",
            "_model_module_version": "1.5.0",
            "_model_name": "FloatProgressModel",
            "_view_count": null,
            "_view_module": "@jupyter-widgets/controls",
            "_view_module_version": "1.5.0",
            "_view_name": "ProgressView",
            "bar_style": "",
            "description": "",
            "description_tooltip": null,
            "layout": "IPY_MODEL_0a48051d4c1b42ecbf1fb7c9dcc02228",
            "max": 1,
            "min": 0,
            "orientation": "horizontal",
            "style": "IPY_MODEL_ad680785c148434d815fccfe36aeed9c",
            "value": 1
          }
        },
        "6f069368fc444321879945ccc264e51f": {
          "model_module": "@jupyter-widgets/base",
          "model_name": "LayoutModel",
          "model_module_version": "1.2.0",
          "state": {
            "_model_module": "@jupyter-widgets/base",
            "_model_module_version": "1.2.0",
            "_model_name": "LayoutModel",
            "_view_count": null,
            "_view_module": "@jupyter-widgets/base",
            "_view_module_version": "1.2.0",
            "_view_name": "LayoutView",
            "align_content": null,
            "align_items": null,
            "align_self": null,
            "border": null,
            "bottom": null,
            "display": null,
            "flex": null,
            "flex_flow": null,
            "grid_area": null,
            "grid_auto_columns": null,
            "grid_auto_flow": null,
            "grid_auto_rows": null,
            "grid_column": null,
            "grid_gap": null,
            "grid_row": null,
            "grid_template_areas": null,
            "grid_template_columns": null,
            "grid_template_rows": null,
            "height": null,
            "justify_content": null,
            "justify_items": null,
            "left": null,
            "margin": null,
            "max_height": null,
            "max_width": null,
            "min_height": null,
            "min_width": null,
            "object_fit": null,
            "object_position": null,
            "order": null,
            "overflow": null,
            "overflow_x": null,
            "overflow_y": null,
            "padding": null,
            "right": null,
            "top": null,
            "visibility": null,
            "width": null
          }
        },
        "1baa120b7b7441c68a69878276b563fe": {
          "model_module": "@jupyter-widgets/base",
          "model_name": "LayoutModel",
          "model_module_version": "1.2.0",
          "state": {
            "_model_module": "@jupyter-widgets/base",
            "_model_module_version": "1.2.0",
            "_model_name": "LayoutModel",
            "_view_count": null,
            "_view_module": "@jupyter-widgets/base",
            "_view_module_version": "1.2.0",
            "_view_name": "LayoutView",
            "align_content": null,
            "align_items": null,
            "align_self": null,
            "border": null,
            "bottom": null,
            "display": null,
            "flex": null,
            "flex_flow": null,
            "grid_area": null,
            "grid_auto_columns": null,
            "grid_auto_flow": null,
            "grid_auto_rows": null,
            "grid_column": null,
            "grid_gap": null,
            "grid_row": null,
            "grid_template_areas": null,
            "grid_template_columns": null,
            "grid_template_rows": null,
            "height": null,
            "justify_content": null,
            "justify_items": null,
            "left": null,
            "margin": null,
            "max_height": null,
            "max_width": null,
            "min_height": null,
            "min_width": null,
            "object_fit": null,
            "object_position": null,
            "order": null,
            "overflow": null,
            "overflow_x": null,
            "overflow_y": null,
            "padding": null,
            "right": null,
            "top": null,
            "visibility": null,
            "width": null
          }
        },
        "dc6821d8716b45c7be82c55231af7379": {
          "model_module": "@jupyter-widgets/controls",
          "model_name": "DescriptionStyleModel",
          "model_module_version": "1.5.0",
          "state": {
            "_model_module": "@jupyter-widgets/controls",
            "_model_module_version": "1.5.0",
            "_model_name": "DescriptionStyleModel",
            "_view_count": null,
            "_view_module": "@jupyter-widgets/base",
            "_view_module_version": "1.2.0",
            "_view_name": "StyleView",
            "description_width": ""
          }
        },
        "0a48051d4c1b42ecbf1fb7c9dcc02228": {
          "model_module": "@jupyter-widgets/base",
          "model_name": "LayoutModel",
          "model_module_version": "1.2.0",
          "state": {
            "_model_module": "@jupyter-widgets/base",
            "_model_module_version": "1.2.0",
            "_model_name": "LayoutModel",
            "_view_count": null,
            "_view_module": "@jupyter-widgets/base",
            "_view_module_version": "1.2.0",
            "_view_name": "LayoutView",
            "align_content": null,
            "align_items": null,
            "align_self": null,
            "border": null,
            "bottom": null,
            "display": null,
            "flex": null,
            "flex_flow": null,
            "grid_area": null,
            "grid_auto_columns": null,
            "grid_auto_flow": null,
            "grid_auto_rows": null,
            "grid_column": null,
            "grid_gap": null,
            "grid_row": null,
            "grid_template_areas": null,
            "grid_template_columns": null,
            "grid_template_rows": null,
            "height": null,
            "justify_content": null,
            "justify_items": null,
            "left": null,
            "margin": null,
            "max_height": null,
            "max_width": null,
            "min_height": null,
            "min_width": null,
            "object_fit": null,
            "object_position": null,
            "order": null,
            "overflow": null,
            "overflow_x": null,
            "overflow_y": null,
            "padding": null,
            "right": null,
            "top": null,
            "visibility": null,
            "width": null
          }
        },
        "ad680785c148434d815fccfe36aeed9c": {
          "model_module": "@jupyter-widgets/controls",
          "model_name": "ProgressStyleModel",
          "model_module_version": "1.5.0",
          "state": {
            "_model_module": "@jupyter-widgets/controls",
            "_model_module_version": "1.5.0",
            "_model_name": "ProgressStyleModel",
            "_view_count": null,
            "_view_module": "@jupyter-widgets/base",
            "_view_module_version": "1.2.0",
            "_view_name": "StyleView",
            "bar_color": null,
            "description_width": ""
          }
        },
        "a0776109d33d4dcc9541245bfe24f76a": {
          "model_module": "@jupyter-widgets/controls",
          "model_name": "VBoxModel",
          "model_module_version": "1.5.0",
          "state": {
            "_dom_classes": [],
            "_model_module": "@jupyter-widgets/controls",
            "_model_module_version": "1.5.0",
            "_model_name": "VBoxModel",
            "_view_count": null,
            "_view_module": "@jupyter-widgets/controls",
            "_view_module_version": "1.5.0",
            "_view_name": "VBoxView",
            "box_style": "",
            "children": [
              "IPY_MODEL_05185040baf64ae197a408156892b70c",
              "IPY_MODEL_c1fe70d7464d4292a8d73b61f7db7c1b"
            ],
            "layout": "IPY_MODEL_6c27b5c41f3144348a946835f0757ebf"
          }
        },
        "05185040baf64ae197a408156892b70c": {
          "model_module": "@jupyter-widgets/controls",
          "model_name": "LabelModel",
          "model_module_version": "1.5.0",
          "state": {
            "_dom_classes": [],
            "_model_module": "@jupyter-widgets/controls",
            "_model_module_version": "1.5.0",
            "_model_name": "LabelModel",
            "_view_count": null,
            "_view_module": "@jupyter-widgets/controls",
            "_view_module_version": "1.5.0",
            "_view_name": "LabelView",
            "description": "",
            "description_tooltip": null,
            "layout": "IPY_MODEL_49b96e9dea354558aae6d867048989b5",
            "placeholder": "​",
            "style": "IPY_MODEL_a8c7b9705a0b4b0e8e8ccd818b5cf63b",
            "value": "0.028 MB of 0.028 MB uploaded\r"
          }
        },
        "c1fe70d7464d4292a8d73b61f7db7c1b": {
          "model_module": "@jupyter-widgets/controls",
          "model_name": "FloatProgressModel",
          "model_module_version": "1.5.0",
          "state": {
            "_dom_classes": [],
            "_model_module": "@jupyter-widgets/controls",
            "_model_module_version": "1.5.0",
            "_model_name": "FloatProgressModel",
            "_view_count": null,
            "_view_module": "@jupyter-widgets/controls",
            "_view_module_version": "1.5.0",
            "_view_name": "ProgressView",
            "bar_style": "",
            "description": "",
            "description_tooltip": null,
            "layout": "IPY_MODEL_513130ecfbf04b87a47952aba22bb218",
            "max": 1,
            "min": 0,
            "orientation": "horizontal",
            "style": "IPY_MODEL_df023f8f56db412881a6ca27469b7290",
            "value": 1
          }
        },
        "6c27b5c41f3144348a946835f0757ebf": {
          "model_module": "@jupyter-widgets/base",
          "model_name": "LayoutModel",
          "model_module_version": "1.2.0",
          "state": {
            "_model_module": "@jupyter-widgets/base",
            "_model_module_version": "1.2.0",
            "_model_name": "LayoutModel",
            "_view_count": null,
            "_view_module": "@jupyter-widgets/base",
            "_view_module_version": "1.2.0",
            "_view_name": "LayoutView",
            "align_content": null,
            "align_items": null,
            "align_self": null,
            "border": null,
            "bottom": null,
            "display": null,
            "flex": null,
            "flex_flow": null,
            "grid_area": null,
            "grid_auto_columns": null,
            "grid_auto_flow": null,
            "grid_auto_rows": null,
            "grid_column": null,
            "grid_gap": null,
            "grid_row": null,
            "grid_template_areas": null,
            "grid_template_columns": null,
            "grid_template_rows": null,
            "height": null,
            "justify_content": null,
            "justify_items": null,
            "left": null,
            "margin": null,
            "max_height": null,
            "max_width": null,
            "min_height": null,
            "min_width": null,
            "object_fit": null,
            "object_position": null,
            "order": null,
            "overflow": null,
            "overflow_x": null,
            "overflow_y": null,
            "padding": null,
            "right": null,
            "top": null,
            "visibility": null,
            "width": null
          }
        },
        "49b96e9dea354558aae6d867048989b5": {
          "model_module": "@jupyter-widgets/base",
          "model_name": "LayoutModel",
          "model_module_version": "1.2.0",
          "state": {
            "_model_module": "@jupyter-widgets/base",
            "_model_module_version": "1.2.0",
            "_model_name": "LayoutModel",
            "_view_count": null,
            "_view_module": "@jupyter-widgets/base",
            "_view_module_version": "1.2.0",
            "_view_name": "LayoutView",
            "align_content": null,
            "align_items": null,
            "align_self": null,
            "border": null,
            "bottom": null,
            "display": null,
            "flex": null,
            "flex_flow": null,
            "grid_area": null,
            "grid_auto_columns": null,
            "grid_auto_flow": null,
            "grid_auto_rows": null,
            "grid_column": null,
            "grid_gap": null,
            "grid_row": null,
            "grid_template_areas": null,
            "grid_template_columns": null,
            "grid_template_rows": null,
            "height": null,
            "justify_content": null,
            "justify_items": null,
            "left": null,
            "margin": null,
            "max_height": null,
            "max_width": null,
            "min_height": null,
            "min_width": null,
            "object_fit": null,
            "object_position": null,
            "order": null,
            "overflow": null,
            "overflow_x": null,
            "overflow_y": null,
            "padding": null,
            "right": null,
            "top": null,
            "visibility": null,
            "width": null
          }
        },
        "a8c7b9705a0b4b0e8e8ccd818b5cf63b": {
          "model_module": "@jupyter-widgets/controls",
          "model_name": "DescriptionStyleModel",
          "model_module_version": "1.5.0",
          "state": {
            "_model_module": "@jupyter-widgets/controls",
            "_model_module_version": "1.5.0",
            "_model_name": "DescriptionStyleModel",
            "_view_count": null,
            "_view_module": "@jupyter-widgets/base",
            "_view_module_version": "1.2.0",
            "_view_name": "StyleView",
            "description_width": ""
          }
        },
        "513130ecfbf04b87a47952aba22bb218": {
          "model_module": "@jupyter-widgets/base",
          "model_name": "LayoutModel",
          "model_module_version": "1.2.0",
          "state": {
            "_model_module": "@jupyter-widgets/base",
            "_model_module_version": "1.2.0",
            "_model_name": "LayoutModel",
            "_view_count": null,
            "_view_module": "@jupyter-widgets/base",
            "_view_module_version": "1.2.0",
            "_view_name": "LayoutView",
            "align_content": null,
            "align_items": null,
            "align_self": null,
            "border": null,
            "bottom": null,
            "display": null,
            "flex": null,
            "flex_flow": null,
            "grid_area": null,
            "grid_auto_columns": null,
            "grid_auto_flow": null,
            "grid_auto_rows": null,
            "grid_column": null,
            "grid_gap": null,
            "grid_row": null,
            "grid_template_areas": null,
            "grid_template_columns": null,
            "grid_template_rows": null,
            "height": null,
            "justify_content": null,
            "justify_items": null,
            "left": null,
            "margin": null,
            "max_height": null,
            "max_width": null,
            "min_height": null,
            "min_width": null,
            "object_fit": null,
            "object_position": null,
            "order": null,
            "overflow": null,
            "overflow_x": null,
            "overflow_y": null,
            "padding": null,
            "right": null,
            "top": null,
            "visibility": null,
            "width": null
          }
        },
        "df023f8f56db412881a6ca27469b7290": {
          "model_module": "@jupyter-widgets/controls",
          "model_name": "ProgressStyleModel",
          "model_module_version": "1.5.0",
          "state": {
            "_model_module": "@jupyter-widgets/controls",
            "_model_module_version": "1.5.0",
            "_model_name": "ProgressStyleModel",
            "_view_count": null,
            "_view_module": "@jupyter-widgets/base",
            "_view_module_version": "1.2.0",
            "_view_name": "StyleView",
            "bar_color": null,
            "description_width": ""
          }
        },
        "dced7e1c49644d0b8995e53c68a28792": {
          "model_module": "@jupyter-widgets/controls",
          "model_name": "VBoxModel",
          "model_module_version": "1.5.0",
          "state": {
            "_dom_classes": [],
            "_model_module": "@jupyter-widgets/controls",
            "_model_module_version": "1.5.0",
            "_model_name": "VBoxModel",
            "_view_count": null,
            "_view_module": "@jupyter-widgets/controls",
            "_view_module_version": "1.5.0",
            "_view_name": "VBoxView",
            "box_style": "",
            "children": [
              "IPY_MODEL_d29c128c1ad046078117308325a4d443",
              "IPY_MODEL_84b4ce42e2d14cbf8536dc6271be3a0e"
            ],
            "layout": "IPY_MODEL_5862781800f64aaeae3943daa2777be7"
          }
        },
        "d29c128c1ad046078117308325a4d443": {
          "model_module": "@jupyter-widgets/controls",
          "model_name": "LabelModel",
          "model_module_version": "1.5.0",
          "state": {
            "_dom_classes": [],
            "_model_module": "@jupyter-widgets/controls",
            "_model_module_version": "1.5.0",
            "_model_name": "LabelModel",
            "_view_count": null,
            "_view_module": "@jupyter-widgets/controls",
            "_view_module_version": "1.5.0",
            "_view_name": "LabelView",
            "description": "",
            "description_tooltip": null,
            "layout": "IPY_MODEL_7264ff1af86f4470b5e17ca6721a586e",
            "placeholder": "​",
            "style": "IPY_MODEL_92c3ec44b3724d64b81a45ea15ff9440",
            "value": "Waiting for wandb.init()...\r"
          }
        },
        "84b4ce42e2d14cbf8536dc6271be3a0e": {
          "model_module": "@jupyter-widgets/controls",
          "model_name": "FloatProgressModel",
          "model_module_version": "1.5.0",
          "state": {
            "_dom_classes": [],
            "_model_module": "@jupyter-widgets/controls",
            "_model_module_version": "1.5.0",
            "_model_name": "FloatProgressModel",
            "_view_count": null,
            "_view_module": "@jupyter-widgets/controls",
            "_view_module_version": "1.5.0",
            "_view_name": "ProgressView",
            "bar_style": "",
            "description": "",
            "description_tooltip": null,
            "layout": "IPY_MODEL_53233d07ea564bd3bd48628bb208174a",
            "max": 1,
            "min": 0,
            "orientation": "horizontal",
            "style": "IPY_MODEL_e41b9c1af92f4f09a3644e7e2bc911b1",
            "value": 1
          }
        },
        "5862781800f64aaeae3943daa2777be7": {
          "model_module": "@jupyter-widgets/base",
          "model_name": "LayoutModel",
          "model_module_version": "1.2.0",
          "state": {
            "_model_module": "@jupyter-widgets/base",
            "_model_module_version": "1.2.0",
            "_model_name": "LayoutModel",
            "_view_count": null,
            "_view_module": "@jupyter-widgets/base",
            "_view_module_version": "1.2.0",
            "_view_name": "LayoutView",
            "align_content": null,
            "align_items": null,
            "align_self": null,
            "border": null,
            "bottom": null,
            "display": null,
            "flex": null,
            "flex_flow": null,
            "grid_area": null,
            "grid_auto_columns": null,
            "grid_auto_flow": null,
            "grid_auto_rows": null,
            "grid_column": null,
            "grid_gap": null,
            "grid_row": null,
            "grid_template_areas": null,
            "grid_template_columns": null,
            "grid_template_rows": null,
            "height": null,
            "justify_content": null,
            "justify_items": null,
            "left": null,
            "margin": null,
            "max_height": null,
            "max_width": null,
            "min_height": null,
            "min_width": null,
            "object_fit": null,
            "object_position": null,
            "order": null,
            "overflow": null,
            "overflow_x": null,
            "overflow_y": null,
            "padding": null,
            "right": null,
            "top": null,
            "visibility": null,
            "width": null
          }
        },
        "7264ff1af86f4470b5e17ca6721a586e": {
          "model_module": "@jupyter-widgets/base",
          "model_name": "LayoutModel",
          "model_module_version": "1.2.0",
          "state": {
            "_model_module": "@jupyter-widgets/base",
            "_model_module_version": "1.2.0",
            "_model_name": "LayoutModel",
            "_view_count": null,
            "_view_module": "@jupyter-widgets/base",
            "_view_module_version": "1.2.0",
            "_view_name": "LayoutView",
            "align_content": null,
            "align_items": null,
            "align_self": null,
            "border": null,
            "bottom": null,
            "display": null,
            "flex": null,
            "flex_flow": null,
            "grid_area": null,
            "grid_auto_columns": null,
            "grid_auto_flow": null,
            "grid_auto_rows": null,
            "grid_column": null,
            "grid_gap": null,
            "grid_row": null,
            "grid_template_areas": null,
            "grid_template_columns": null,
            "grid_template_rows": null,
            "height": null,
            "justify_content": null,
            "justify_items": null,
            "left": null,
            "margin": null,
            "max_height": null,
            "max_width": null,
            "min_height": null,
            "min_width": null,
            "object_fit": null,
            "object_position": null,
            "order": null,
            "overflow": null,
            "overflow_x": null,
            "overflow_y": null,
            "padding": null,
            "right": null,
            "top": null,
            "visibility": null,
            "width": null
          }
        },
        "92c3ec44b3724d64b81a45ea15ff9440": {
          "model_module": "@jupyter-widgets/controls",
          "model_name": "DescriptionStyleModel",
          "model_module_version": "1.5.0",
          "state": {
            "_model_module": "@jupyter-widgets/controls",
            "_model_module_version": "1.5.0",
            "_model_name": "DescriptionStyleModel",
            "_view_count": null,
            "_view_module": "@jupyter-widgets/base",
            "_view_module_version": "1.2.0",
            "_view_name": "StyleView",
            "description_width": ""
          }
        },
        "53233d07ea564bd3bd48628bb208174a": {
          "model_module": "@jupyter-widgets/base",
          "model_name": "LayoutModel",
          "model_module_version": "1.2.0",
          "state": {
            "_model_module": "@jupyter-widgets/base",
            "_model_module_version": "1.2.0",
            "_model_name": "LayoutModel",
            "_view_count": null,
            "_view_module": "@jupyter-widgets/base",
            "_view_module_version": "1.2.0",
            "_view_name": "LayoutView",
            "align_content": null,
            "align_items": null,
            "align_self": null,
            "border": null,
            "bottom": null,
            "display": null,
            "flex": null,
            "flex_flow": null,
            "grid_area": null,
            "grid_auto_columns": null,
            "grid_auto_flow": null,
            "grid_auto_rows": null,
            "grid_column": null,
            "grid_gap": null,
            "grid_row": null,
            "grid_template_areas": null,
            "grid_template_columns": null,
            "grid_template_rows": null,
            "height": null,
            "justify_content": null,
            "justify_items": null,
            "left": null,
            "margin": null,
            "max_height": null,
            "max_width": null,
            "min_height": null,
            "min_width": null,
            "object_fit": null,
            "object_position": null,
            "order": null,
            "overflow": null,
            "overflow_x": null,
            "overflow_y": null,
            "padding": null,
            "right": null,
            "top": null,
            "visibility": null,
            "width": null
          }
        },
        "e41b9c1af92f4f09a3644e7e2bc911b1": {
          "model_module": "@jupyter-widgets/controls",
          "model_name": "ProgressStyleModel",
          "model_module_version": "1.5.0",
          "state": {
            "_model_module": "@jupyter-widgets/controls",
            "_model_module_version": "1.5.0",
            "_model_name": "ProgressStyleModel",
            "_view_count": null,
            "_view_module": "@jupyter-widgets/base",
            "_view_module_version": "1.2.0",
            "_view_name": "StyleView",
            "bar_color": null,
            "description_width": ""
          }
        },
        "a7a1e6b550a0457ab618097024597eca": {
          "model_module": "@jupyter-widgets/controls",
          "model_name": "VBoxModel",
          "model_module_version": "1.5.0",
          "state": {
            "_dom_classes": [],
            "_model_module": "@jupyter-widgets/controls",
            "_model_module_version": "1.5.0",
            "_model_name": "VBoxModel",
            "_view_count": null,
            "_view_module": "@jupyter-widgets/controls",
            "_view_module_version": "1.5.0",
            "_view_name": "VBoxView",
            "box_style": "",
            "children": [
              "IPY_MODEL_a2ef5d03b0b0456b89705c5bb05b67eb",
              "IPY_MODEL_b1a3d1ff53344e218f17d43d55103d32"
            ],
            "layout": "IPY_MODEL_0c1f188b1bd047bcb70dacd9e2b562bc"
          }
        },
        "a2ef5d03b0b0456b89705c5bb05b67eb": {
          "model_module": "@jupyter-widgets/controls",
          "model_name": "LabelModel",
          "model_module_version": "1.5.0",
          "state": {
            "_dom_classes": [],
            "_model_module": "@jupyter-widgets/controls",
            "_model_module_version": "1.5.0",
            "_model_name": "LabelModel",
            "_view_count": null,
            "_view_module": "@jupyter-widgets/controls",
            "_view_module_version": "1.5.0",
            "_view_name": "LabelView",
            "description": "",
            "description_tooltip": null,
            "layout": "IPY_MODEL_d43adecf972849cda6460677b112c0b8",
            "placeholder": "​",
            "style": "IPY_MODEL_5411336b35c24240a34ff7c12fd95abc",
            "value": "0.028 MB of 0.028 MB uploaded\r"
          }
        },
        "b1a3d1ff53344e218f17d43d55103d32": {
          "model_module": "@jupyter-widgets/controls",
          "model_name": "FloatProgressModel",
          "model_module_version": "1.5.0",
          "state": {
            "_dom_classes": [],
            "_model_module": "@jupyter-widgets/controls",
            "_model_module_version": "1.5.0",
            "_model_name": "FloatProgressModel",
            "_view_count": null,
            "_view_module": "@jupyter-widgets/controls",
            "_view_module_version": "1.5.0",
            "_view_name": "ProgressView",
            "bar_style": "",
            "description": "",
            "description_tooltip": null,
            "layout": "IPY_MODEL_8617d0739a2d4824bf6a604825e53d94",
            "max": 1,
            "min": 0,
            "orientation": "horizontal",
            "style": "IPY_MODEL_a315af61a6894225a93d6bc6f5e17a87",
            "value": 1
          }
        },
        "0c1f188b1bd047bcb70dacd9e2b562bc": {
          "model_module": "@jupyter-widgets/base",
          "model_name": "LayoutModel",
          "model_module_version": "1.2.0",
          "state": {
            "_model_module": "@jupyter-widgets/base",
            "_model_module_version": "1.2.0",
            "_model_name": "LayoutModel",
            "_view_count": null,
            "_view_module": "@jupyter-widgets/base",
            "_view_module_version": "1.2.0",
            "_view_name": "LayoutView",
            "align_content": null,
            "align_items": null,
            "align_self": null,
            "border": null,
            "bottom": null,
            "display": null,
            "flex": null,
            "flex_flow": null,
            "grid_area": null,
            "grid_auto_columns": null,
            "grid_auto_flow": null,
            "grid_auto_rows": null,
            "grid_column": null,
            "grid_gap": null,
            "grid_row": null,
            "grid_template_areas": null,
            "grid_template_columns": null,
            "grid_template_rows": null,
            "height": null,
            "justify_content": null,
            "justify_items": null,
            "left": null,
            "margin": null,
            "max_height": null,
            "max_width": null,
            "min_height": null,
            "min_width": null,
            "object_fit": null,
            "object_position": null,
            "order": null,
            "overflow": null,
            "overflow_x": null,
            "overflow_y": null,
            "padding": null,
            "right": null,
            "top": null,
            "visibility": null,
            "width": null
          }
        },
        "d43adecf972849cda6460677b112c0b8": {
          "model_module": "@jupyter-widgets/base",
          "model_name": "LayoutModel",
          "model_module_version": "1.2.0",
          "state": {
            "_model_module": "@jupyter-widgets/base",
            "_model_module_version": "1.2.0",
            "_model_name": "LayoutModel",
            "_view_count": null,
            "_view_module": "@jupyter-widgets/base",
            "_view_module_version": "1.2.0",
            "_view_name": "LayoutView",
            "align_content": null,
            "align_items": null,
            "align_self": null,
            "border": null,
            "bottom": null,
            "display": null,
            "flex": null,
            "flex_flow": null,
            "grid_area": null,
            "grid_auto_columns": null,
            "grid_auto_flow": null,
            "grid_auto_rows": null,
            "grid_column": null,
            "grid_gap": null,
            "grid_row": null,
            "grid_template_areas": null,
            "grid_template_columns": null,
            "grid_template_rows": null,
            "height": null,
            "justify_content": null,
            "justify_items": null,
            "left": null,
            "margin": null,
            "max_height": null,
            "max_width": null,
            "min_height": null,
            "min_width": null,
            "object_fit": null,
            "object_position": null,
            "order": null,
            "overflow": null,
            "overflow_x": null,
            "overflow_y": null,
            "padding": null,
            "right": null,
            "top": null,
            "visibility": null,
            "width": null
          }
        },
        "5411336b35c24240a34ff7c12fd95abc": {
          "model_module": "@jupyter-widgets/controls",
          "model_name": "DescriptionStyleModel",
          "model_module_version": "1.5.0",
          "state": {
            "_model_module": "@jupyter-widgets/controls",
            "_model_module_version": "1.5.0",
            "_model_name": "DescriptionStyleModel",
            "_view_count": null,
            "_view_module": "@jupyter-widgets/base",
            "_view_module_version": "1.2.0",
            "_view_name": "StyleView",
            "description_width": ""
          }
        },
        "8617d0739a2d4824bf6a604825e53d94": {
          "model_module": "@jupyter-widgets/base",
          "model_name": "LayoutModel",
          "model_module_version": "1.2.0",
          "state": {
            "_model_module": "@jupyter-widgets/base",
            "_model_module_version": "1.2.0",
            "_model_name": "LayoutModel",
            "_view_count": null,
            "_view_module": "@jupyter-widgets/base",
            "_view_module_version": "1.2.0",
            "_view_name": "LayoutView",
            "align_content": null,
            "align_items": null,
            "align_self": null,
            "border": null,
            "bottom": null,
            "display": null,
            "flex": null,
            "flex_flow": null,
            "grid_area": null,
            "grid_auto_columns": null,
            "grid_auto_flow": null,
            "grid_auto_rows": null,
            "grid_column": null,
            "grid_gap": null,
            "grid_row": null,
            "grid_template_areas": null,
            "grid_template_columns": null,
            "grid_template_rows": null,
            "height": null,
            "justify_content": null,
            "justify_items": null,
            "left": null,
            "margin": null,
            "max_height": null,
            "max_width": null,
            "min_height": null,
            "min_width": null,
            "object_fit": null,
            "object_position": null,
            "order": null,
            "overflow": null,
            "overflow_x": null,
            "overflow_y": null,
            "padding": null,
            "right": null,
            "top": null,
            "visibility": null,
            "width": null
          }
        },
        "a315af61a6894225a93d6bc6f5e17a87": {
          "model_module": "@jupyter-widgets/controls",
          "model_name": "ProgressStyleModel",
          "model_module_version": "1.5.0",
          "state": {
            "_model_module": "@jupyter-widgets/controls",
            "_model_module_version": "1.5.0",
            "_model_name": "ProgressStyleModel",
            "_view_count": null,
            "_view_module": "@jupyter-widgets/base",
            "_view_module_version": "1.2.0",
            "_view_name": "StyleView",
            "bar_color": null,
            "description_width": ""
          }
        },
        "2566ce5e46a84c17868e17cac0e6c104": {
          "model_module": "@jupyter-widgets/controls",
          "model_name": "VBoxModel",
          "model_module_version": "1.5.0",
          "state": {
            "_dom_classes": [],
            "_model_module": "@jupyter-widgets/controls",
            "_model_module_version": "1.5.0",
            "_model_name": "VBoxModel",
            "_view_count": null,
            "_view_module": "@jupyter-widgets/controls",
            "_view_module_version": "1.5.0",
            "_view_name": "VBoxView",
            "box_style": "",
            "children": [
              "IPY_MODEL_3ff4eb7e576b4f9abc58fb3030731e98",
              "IPY_MODEL_7294b1aff9df4b459fd5733ec0613f56"
            ],
            "layout": "IPY_MODEL_fe9ea93fbbc64fa79e9b69fe43b1942f"
          }
        },
        "3ff4eb7e576b4f9abc58fb3030731e98": {
          "model_module": "@jupyter-widgets/controls",
          "model_name": "LabelModel",
          "model_module_version": "1.5.0",
          "state": {
            "_dom_classes": [],
            "_model_module": "@jupyter-widgets/controls",
            "_model_module_version": "1.5.0",
            "_model_name": "LabelModel",
            "_view_count": null,
            "_view_module": "@jupyter-widgets/controls",
            "_view_module_version": "1.5.0",
            "_view_name": "LabelView",
            "description": "",
            "description_tooltip": null,
            "layout": "IPY_MODEL_d7f3154fbab44efebcb1693e97091fde",
            "placeholder": "​",
            "style": "IPY_MODEL_91636d6a17e14cc0911ed47e80146685",
            "value": "Waiting for wandb.init()...\r"
          }
        },
        "7294b1aff9df4b459fd5733ec0613f56": {
          "model_module": "@jupyter-widgets/controls",
          "model_name": "FloatProgressModel",
          "model_module_version": "1.5.0",
          "state": {
            "_dom_classes": [],
            "_model_module": "@jupyter-widgets/controls",
            "_model_module_version": "1.5.0",
            "_model_name": "FloatProgressModel",
            "_view_count": null,
            "_view_module": "@jupyter-widgets/controls",
            "_view_module_version": "1.5.0",
            "_view_name": "ProgressView",
            "bar_style": "",
            "description": "",
            "description_tooltip": null,
            "layout": "IPY_MODEL_50c486923d9c4e5a92879fd6357fcd0f",
            "max": 1,
            "min": 0,
            "orientation": "horizontal",
            "style": "IPY_MODEL_be197b262ce545bd9941cf6212327b73",
            "value": 1
          }
        },
        "fe9ea93fbbc64fa79e9b69fe43b1942f": {
          "model_module": "@jupyter-widgets/base",
          "model_name": "LayoutModel",
          "model_module_version": "1.2.0",
          "state": {
            "_model_module": "@jupyter-widgets/base",
            "_model_module_version": "1.2.0",
            "_model_name": "LayoutModel",
            "_view_count": null,
            "_view_module": "@jupyter-widgets/base",
            "_view_module_version": "1.2.0",
            "_view_name": "LayoutView",
            "align_content": null,
            "align_items": null,
            "align_self": null,
            "border": null,
            "bottom": null,
            "display": null,
            "flex": null,
            "flex_flow": null,
            "grid_area": null,
            "grid_auto_columns": null,
            "grid_auto_flow": null,
            "grid_auto_rows": null,
            "grid_column": null,
            "grid_gap": null,
            "grid_row": null,
            "grid_template_areas": null,
            "grid_template_columns": null,
            "grid_template_rows": null,
            "height": null,
            "justify_content": null,
            "justify_items": null,
            "left": null,
            "margin": null,
            "max_height": null,
            "max_width": null,
            "min_height": null,
            "min_width": null,
            "object_fit": null,
            "object_position": null,
            "order": null,
            "overflow": null,
            "overflow_x": null,
            "overflow_y": null,
            "padding": null,
            "right": null,
            "top": null,
            "visibility": null,
            "width": null
          }
        },
        "d7f3154fbab44efebcb1693e97091fde": {
          "model_module": "@jupyter-widgets/base",
          "model_name": "LayoutModel",
          "model_module_version": "1.2.0",
          "state": {
            "_model_module": "@jupyter-widgets/base",
            "_model_module_version": "1.2.0",
            "_model_name": "LayoutModel",
            "_view_count": null,
            "_view_module": "@jupyter-widgets/base",
            "_view_module_version": "1.2.0",
            "_view_name": "LayoutView",
            "align_content": null,
            "align_items": null,
            "align_self": null,
            "border": null,
            "bottom": null,
            "display": null,
            "flex": null,
            "flex_flow": null,
            "grid_area": null,
            "grid_auto_columns": null,
            "grid_auto_flow": null,
            "grid_auto_rows": null,
            "grid_column": null,
            "grid_gap": null,
            "grid_row": null,
            "grid_template_areas": null,
            "grid_template_columns": null,
            "grid_template_rows": null,
            "height": null,
            "justify_content": null,
            "justify_items": null,
            "left": null,
            "margin": null,
            "max_height": null,
            "max_width": null,
            "min_height": null,
            "min_width": null,
            "object_fit": null,
            "object_position": null,
            "order": null,
            "overflow": null,
            "overflow_x": null,
            "overflow_y": null,
            "padding": null,
            "right": null,
            "top": null,
            "visibility": null,
            "width": null
          }
        },
        "91636d6a17e14cc0911ed47e80146685": {
          "model_module": "@jupyter-widgets/controls",
          "model_name": "DescriptionStyleModel",
          "model_module_version": "1.5.0",
          "state": {
            "_model_module": "@jupyter-widgets/controls",
            "_model_module_version": "1.5.0",
            "_model_name": "DescriptionStyleModel",
            "_view_count": null,
            "_view_module": "@jupyter-widgets/base",
            "_view_module_version": "1.2.0",
            "_view_name": "StyleView",
            "description_width": ""
          }
        },
        "50c486923d9c4e5a92879fd6357fcd0f": {
          "model_module": "@jupyter-widgets/base",
          "model_name": "LayoutModel",
          "model_module_version": "1.2.0",
          "state": {
            "_model_module": "@jupyter-widgets/base",
            "_model_module_version": "1.2.0",
            "_model_name": "LayoutModel",
            "_view_count": null,
            "_view_module": "@jupyter-widgets/base",
            "_view_module_version": "1.2.0",
            "_view_name": "LayoutView",
            "align_content": null,
            "align_items": null,
            "align_self": null,
            "border": null,
            "bottom": null,
            "display": null,
            "flex": null,
            "flex_flow": null,
            "grid_area": null,
            "grid_auto_columns": null,
            "grid_auto_flow": null,
            "grid_auto_rows": null,
            "grid_column": null,
            "grid_gap": null,
            "grid_row": null,
            "grid_template_areas": null,
            "grid_template_columns": null,
            "grid_template_rows": null,
            "height": null,
            "justify_content": null,
            "justify_items": null,
            "left": null,
            "margin": null,
            "max_height": null,
            "max_width": null,
            "min_height": null,
            "min_width": null,
            "object_fit": null,
            "object_position": null,
            "order": null,
            "overflow": null,
            "overflow_x": null,
            "overflow_y": null,
            "padding": null,
            "right": null,
            "top": null,
            "visibility": null,
            "width": null
          }
        },
        "be197b262ce545bd9941cf6212327b73": {
          "model_module": "@jupyter-widgets/controls",
          "model_name": "ProgressStyleModel",
          "model_module_version": "1.5.0",
          "state": {
            "_model_module": "@jupyter-widgets/controls",
            "_model_module_version": "1.5.0",
            "_model_name": "ProgressStyleModel",
            "_view_count": null,
            "_view_module": "@jupyter-widgets/base",
            "_view_module_version": "1.2.0",
            "_view_name": "StyleView",
            "bar_color": null,
            "description_width": ""
          }
        },
        "42641a415b2041eab3afb4cfeafa6ced": {
          "model_module": "@jupyter-widgets/controls",
          "model_name": "VBoxModel",
          "model_module_version": "1.5.0",
          "state": {
            "_dom_classes": [],
            "_model_module": "@jupyter-widgets/controls",
            "_model_module_version": "1.5.0",
            "_model_name": "VBoxModel",
            "_view_count": null,
            "_view_module": "@jupyter-widgets/controls",
            "_view_module_version": "1.5.0",
            "_view_name": "VBoxView",
            "box_style": "",
            "children": [
              "IPY_MODEL_a2a17042f6db4b029a34c7cd1e9bb431",
              "IPY_MODEL_7e16f0b15305472cb2133a1b989f2a54"
            ],
            "layout": "IPY_MODEL_d317ca485e5d4ec89b3c8f9783c8e255"
          }
        },
        "a2a17042f6db4b029a34c7cd1e9bb431": {
          "model_module": "@jupyter-widgets/controls",
          "model_name": "LabelModel",
          "model_module_version": "1.5.0",
          "state": {
            "_dom_classes": [],
            "_model_module": "@jupyter-widgets/controls",
            "_model_module_version": "1.5.0",
            "_model_name": "LabelModel",
            "_view_count": null,
            "_view_module": "@jupyter-widgets/controls",
            "_view_module_version": "1.5.0",
            "_view_name": "LabelView",
            "description": "",
            "description_tooltip": null,
            "layout": "IPY_MODEL_cf06c1d93b56457a8e1354ef770978ba",
            "placeholder": "​",
            "style": "IPY_MODEL_28444d776d6747f48ab3d34644ff88ff",
            "value": "0.028 MB of 0.028 MB uploaded\r"
          }
        },
        "7e16f0b15305472cb2133a1b989f2a54": {
          "model_module": "@jupyter-widgets/controls",
          "model_name": "FloatProgressModel",
          "model_module_version": "1.5.0",
          "state": {
            "_dom_classes": [],
            "_model_module": "@jupyter-widgets/controls",
            "_model_module_version": "1.5.0",
            "_model_name": "FloatProgressModel",
            "_view_count": null,
            "_view_module": "@jupyter-widgets/controls",
            "_view_module_version": "1.5.0",
            "_view_name": "ProgressView",
            "bar_style": "",
            "description": "",
            "description_tooltip": null,
            "layout": "IPY_MODEL_32a224e6b49141ebbdd5e6001e466cff",
            "max": 1,
            "min": 0,
            "orientation": "horizontal",
            "style": "IPY_MODEL_00a33404015246bcb3937a011e5a3c4e",
            "value": 1
          }
        },
        "d317ca485e5d4ec89b3c8f9783c8e255": {
          "model_module": "@jupyter-widgets/base",
          "model_name": "LayoutModel",
          "model_module_version": "1.2.0",
          "state": {
            "_model_module": "@jupyter-widgets/base",
            "_model_module_version": "1.2.0",
            "_model_name": "LayoutModel",
            "_view_count": null,
            "_view_module": "@jupyter-widgets/base",
            "_view_module_version": "1.2.0",
            "_view_name": "LayoutView",
            "align_content": null,
            "align_items": null,
            "align_self": null,
            "border": null,
            "bottom": null,
            "display": null,
            "flex": null,
            "flex_flow": null,
            "grid_area": null,
            "grid_auto_columns": null,
            "grid_auto_flow": null,
            "grid_auto_rows": null,
            "grid_column": null,
            "grid_gap": null,
            "grid_row": null,
            "grid_template_areas": null,
            "grid_template_columns": null,
            "grid_template_rows": null,
            "height": null,
            "justify_content": null,
            "justify_items": null,
            "left": null,
            "margin": null,
            "max_height": null,
            "max_width": null,
            "min_height": null,
            "min_width": null,
            "object_fit": null,
            "object_position": null,
            "order": null,
            "overflow": null,
            "overflow_x": null,
            "overflow_y": null,
            "padding": null,
            "right": null,
            "top": null,
            "visibility": null,
            "width": null
          }
        },
        "cf06c1d93b56457a8e1354ef770978ba": {
          "model_module": "@jupyter-widgets/base",
          "model_name": "LayoutModel",
          "model_module_version": "1.2.0",
          "state": {
            "_model_module": "@jupyter-widgets/base",
            "_model_module_version": "1.2.0",
            "_model_name": "LayoutModel",
            "_view_count": null,
            "_view_module": "@jupyter-widgets/base",
            "_view_module_version": "1.2.0",
            "_view_name": "LayoutView",
            "align_content": null,
            "align_items": null,
            "align_self": null,
            "border": null,
            "bottom": null,
            "display": null,
            "flex": null,
            "flex_flow": null,
            "grid_area": null,
            "grid_auto_columns": null,
            "grid_auto_flow": null,
            "grid_auto_rows": null,
            "grid_column": null,
            "grid_gap": null,
            "grid_row": null,
            "grid_template_areas": null,
            "grid_template_columns": null,
            "grid_template_rows": null,
            "height": null,
            "justify_content": null,
            "justify_items": null,
            "left": null,
            "margin": null,
            "max_height": null,
            "max_width": null,
            "min_height": null,
            "min_width": null,
            "object_fit": null,
            "object_position": null,
            "order": null,
            "overflow": null,
            "overflow_x": null,
            "overflow_y": null,
            "padding": null,
            "right": null,
            "top": null,
            "visibility": null,
            "width": null
          }
        },
        "28444d776d6747f48ab3d34644ff88ff": {
          "model_module": "@jupyter-widgets/controls",
          "model_name": "DescriptionStyleModel",
          "model_module_version": "1.5.0",
          "state": {
            "_model_module": "@jupyter-widgets/controls",
            "_model_module_version": "1.5.0",
            "_model_name": "DescriptionStyleModel",
            "_view_count": null,
            "_view_module": "@jupyter-widgets/base",
            "_view_module_version": "1.2.0",
            "_view_name": "StyleView",
            "description_width": ""
          }
        },
        "32a224e6b49141ebbdd5e6001e466cff": {
          "model_module": "@jupyter-widgets/base",
          "model_name": "LayoutModel",
          "model_module_version": "1.2.0",
          "state": {
            "_model_module": "@jupyter-widgets/base",
            "_model_module_version": "1.2.0",
            "_model_name": "LayoutModel",
            "_view_count": null,
            "_view_module": "@jupyter-widgets/base",
            "_view_module_version": "1.2.0",
            "_view_name": "LayoutView",
            "align_content": null,
            "align_items": null,
            "align_self": null,
            "border": null,
            "bottom": null,
            "display": null,
            "flex": null,
            "flex_flow": null,
            "grid_area": null,
            "grid_auto_columns": null,
            "grid_auto_flow": null,
            "grid_auto_rows": null,
            "grid_column": null,
            "grid_gap": null,
            "grid_row": null,
            "grid_template_areas": null,
            "grid_template_columns": null,
            "grid_template_rows": null,
            "height": null,
            "justify_content": null,
            "justify_items": null,
            "left": null,
            "margin": null,
            "max_height": null,
            "max_width": null,
            "min_height": null,
            "min_width": null,
            "object_fit": null,
            "object_position": null,
            "order": null,
            "overflow": null,
            "overflow_x": null,
            "overflow_y": null,
            "padding": null,
            "right": null,
            "top": null,
            "visibility": null,
            "width": null
          }
        },
        "00a33404015246bcb3937a011e5a3c4e": {
          "model_module": "@jupyter-widgets/controls",
          "model_name": "ProgressStyleModel",
          "model_module_version": "1.5.0",
          "state": {
            "_model_module": "@jupyter-widgets/controls",
            "_model_module_version": "1.5.0",
            "_model_name": "ProgressStyleModel",
            "_view_count": null,
            "_view_module": "@jupyter-widgets/base",
            "_view_module_version": "1.2.0",
            "_view_name": "StyleView",
            "bar_color": null,
            "description_width": ""
          }
        },
        "7592b2424ce843f3a18f5617163b39e3": {
          "model_module": "@jupyter-widgets/controls",
          "model_name": "VBoxModel",
          "model_module_version": "1.5.0",
          "state": {
            "_dom_classes": [],
            "_model_module": "@jupyter-widgets/controls",
            "_model_module_version": "1.5.0",
            "_model_name": "VBoxModel",
            "_view_count": null,
            "_view_module": "@jupyter-widgets/controls",
            "_view_module_version": "1.5.0",
            "_view_name": "VBoxView",
            "box_style": "",
            "children": [
              "IPY_MODEL_ec61c2ed932b40619057259b7d7a8868",
              "IPY_MODEL_f90f44df615f4a29bef23e3842685bb6"
            ],
            "layout": "IPY_MODEL_391f743d87f14dadb6f7d257dca006e8"
          }
        },
        "ec61c2ed932b40619057259b7d7a8868": {
          "model_module": "@jupyter-widgets/controls",
          "model_name": "LabelModel",
          "model_module_version": "1.5.0",
          "state": {
            "_dom_classes": [],
            "_model_module": "@jupyter-widgets/controls",
            "_model_module_version": "1.5.0",
            "_model_name": "LabelModel",
            "_view_count": null,
            "_view_module": "@jupyter-widgets/controls",
            "_view_module_version": "1.5.0",
            "_view_name": "LabelView",
            "description": "",
            "description_tooltip": null,
            "layout": "IPY_MODEL_40670cdb101442049bb472687d3ea32c",
            "placeholder": "​",
            "style": "IPY_MODEL_3a69e55527e6450ba7b6ae657d7eba65",
            "value": "Waiting for wandb.init()...\r"
          }
        },
        "f90f44df615f4a29bef23e3842685bb6": {
          "model_module": "@jupyter-widgets/controls",
          "model_name": "FloatProgressModel",
          "model_module_version": "1.5.0",
          "state": {
            "_dom_classes": [],
            "_model_module": "@jupyter-widgets/controls",
            "_model_module_version": "1.5.0",
            "_model_name": "FloatProgressModel",
            "_view_count": null,
            "_view_module": "@jupyter-widgets/controls",
            "_view_module_version": "1.5.0",
            "_view_name": "ProgressView",
            "bar_style": "",
            "description": "",
            "description_tooltip": null,
            "layout": "IPY_MODEL_cd22dabc87ed4e58be3ca114bc66230b",
            "max": 1,
            "min": 0,
            "orientation": "horizontal",
            "style": "IPY_MODEL_6cb3eb7c1f4d4d38b2bc4abac2908136",
            "value": 1
          }
        },
        "391f743d87f14dadb6f7d257dca006e8": {
          "model_module": "@jupyter-widgets/base",
          "model_name": "LayoutModel",
          "model_module_version": "1.2.0",
          "state": {
            "_model_module": "@jupyter-widgets/base",
            "_model_module_version": "1.2.0",
            "_model_name": "LayoutModel",
            "_view_count": null,
            "_view_module": "@jupyter-widgets/base",
            "_view_module_version": "1.2.0",
            "_view_name": "LayoutView",
            "align_content": null,
            "align_items": null,
            "align_self": null,
            "border": null,
            "bottom": null,
            "display": null,
            "flex": null,
            "flex_flow": null,
            "grid_area": null,
            "grid_auto_columns": null,
            "grid_auto_flow": null,
            "grid_auto_rows": null,
            "grid_column": null,
            "grid_gap": null,
            "grid_row": null,
            "grid_template_areas": null,
            "grid_template_columns": null,
            "grid_template_rows": null,
            "height": null,
            "justify_content": null,
            "justify_items": null,
            "left": null,
            "margin": null,
            "max_height": null,
            "max_width": null,
            "min_height": null,
            "min_width": null,
            "object_fit": null,
            "object_position": null,
            "order": null,
            "overflow": null,
            "overflow_x": null,
            "overflow_y": null,
            "padding": null,
            "right": null,
            "top": null,
            "visibility": null,
            "width": null
          }
        },
        "40670cdb101442049bb472687d3ea32c": {
          "model_module": "@jupyter-widgets/base",
          "model_name": "LayoutModel",
          "model_module_version": "1.2.0",
          "state": {
            "_model_module": "@jupyter-widgets/base",
            "_model_module_version": "1.2.0",
            "_model_name": "LayoutModel",
            "_view_count": null,
            "_view_module": "@jupyter-widgets/base",
            "_view_module_version": "1.2.0",
            "_view_name": "LayoutView",
            "align_content": null,
            "align_items": null,
            "align_self": null,
            "border": null,
            "bottom": null,
            "display": null,
            "flex": null,
            "flex_flow": null,
            "grid_area": null,
            "grid_auto_columns": null,
            "grid_auto_flow": null,
            "grid_auto_rows": null,
            "grid_column": null,
            "grid_gap": null,
            "grid_row": null,
            "grid_template_areas": null,
            "grid_template_columns": null,
            "grid_template_rows": null,
            "height": null,
            "justify_content": null,
            "justify_items": null,
            "left": null,
            "margin": null,
            "max_height": null,
            "max_width": null,
            "min_height": null,
            "min_width": null,
            "object_fit": null,
            "object_position": null,
            "order": null,
            "overflow": null,
            "overflow_x": null,
            "overflow_y": null,
            "padding": null,
            "right": null,
            "top": null,
            "visibility": null,
            "width": null
          }
        },
        "3a69e55527e6450ba7b6ae657d7eba65": {
          "model_module": "@jupyter-widgets/controls",
          "model_name": "DescriptionStyleModel",
          "model_module_version": "1.5.0",
          "state": {
            "_model_module": "@jupyter-widgets/controls",
            "_model_module_version": "1.5.0",
            "_model_name": "DescriptionStyleModel",
            "_view_count": null,
            "_view_module": "@jupyter-widgets/base",
            "_view_module_version": "1.2.0",
            "_view_name": "StyleView",
            "description_width": ""
          }
        },
        "cd22dabc87ed4e58be3ca114bc66230b": {
          "model_module": "@jupyter-widgets/base",
          "model_name": "LayoutModel",
          "model_module_version": "1.2.0",
          "state": {
            "_model_module": "@jupyter-widgets/base",
            "_model_module_version": "1.2.0",
            "_model_name": "LayoutModel",
            "_view_count": null,
            "_view_module": "@jupyter-widgets/base",
            "_view_module_version": "1.2.0",
            "_view_name": "LayoutView",
            "align_content": null,
            "align_items": null,
            "align_self": null,
            "border": null,
            "bottom": null,
            "display": null,
            "flex": null,
            "flex_flow": null,
            "grid_area": null,
            "grid_auto_columns": null,
            "grid_auto_flow": null,
            "grid_auto_rows": null,
            "grid_column": null,
            "grid_gap": null,
            "grid_row": null,
            "grid_template_areas": null,
            "grid_template_columns": null,
            "grid_template_rows": null,
            "height": null,
            "justify_content": null,
            "justify_items": null,
            "left": null,
            "margin": null,
            "max_height": null,
            "max_width": null,
            "min_height": null,
            "min_width": null,
            "object_fit": null,
            "object_position": null,
            "order": null,
            "overflow": null,
            "overflow_x": null,
            "overflow_y": null,
            "padding": null,
            "right": null,
            "top": null,
            "visibility": null,
            "width": null
          }
        },
        "6cb3eb7c1f4d4d38b2bc4abac2908136": {
          "model_module": "@jupyter-widgets/controls",
          "model_name": "ProgressStyleModel",
          "model_module_version": "1.5.0",
          "state": {
            "_model_module": "@jupyter-widgets/controls",
            "_model_module_version": "1.5.0",
            "_model_name": "ProgressStyleModel",
            "_view_count": null,
            "_view_module": "@jupyter-widgets/base",
            "_view_module_version": "1.2.0",
            "_view_name": "StyleView",
            "bar_color": null,
            "description_width": ""
          }
        },
        "7cca19ec44104da186671d2b18e990ac": {
          "model_module": "@jupyter-widgets/controls",
          "model_name": "VBoxModel",
          "model_module_version": "1.5.0",
          "state": {
            "_dom_classes": [],
            "_model_module": "@jupyter-widgets/controls",
            "_model_module_version": "1.5.0",
            "_model_name": "VBoxModel",
            "_view_count": null,
            "_view_module": "@jupyter-widgets/controls",
            "_view_module_version": "1.5.0",
            "_view_name": "VBoxView",
            "box_style": "",
            "children": [
              "IPY_MODEL_6109c3878b9246d8b9636d1b8a7356b0",
              "IPY_MODEL_851530c21fa8414c9946d7e39fa64d8a"
            ],
            "layout": "IPY_MODEL_d9900590bde74e47ae05048b229666c7"
          }
        },
        "6109c3878b9246d8b9636d1b8a7356b0": {
          "model_module": "@jupyter-widgets/controls",
          "model_name": "LabelModel",
          "model_module_version": "1.5.0",
          "state": {
            "_dom_classes": [],
            "_model_module": "@jupyter-widgets/controls",
            "_model_module_version": "1.5.0",
            "_model_name": "LabelModel",
            "_view_count": null,
            "_view_module": "@jupyter-widgets/controls",
            "_view_module_version": "1.5.0",
            "_view_name": "LabelView",
            "description": "",
            "description_tooltip": null,
            "layout": "IPY_MODEL_46d71f4e864043168af6626dd5e31f87",
            "placeholder": "​",
            "style": "IPY_MODEL_eb184ca1c5594a4385a9042a4246f6fb",
            "value": "Waiting for wandb.init()...\r"
          }
        },
        "851530c21fa8414c9946d7e39fa64d8a": {
          "model_module": "@jupyter-widgets/controls",
          "model_name": "FloatProgressModel",
          "model_module_version": "1.5.0",
          "state": {
            "_dom_classes": [],
            "_model_module": "@jupyter-widgets/controls",
            "_model_module_version": "1.5.0",
            "_model_name": "FloatProgressModel",
            "_view_count": null,
            "_view_module": "@jupyter-widgets/controls",
            "_view_module_version": "1.5.0",
            "_view_name": "ProgressView",
            "bar_style": "",
            "description": "",
            "description_tooltip": null,
            "layout": "IPY_MODEL_d7bead6c61f14b35b95fd0e3577bb7e6",
            "max": 1,
            "min": 0,
            "orientation": "horizontal",
            "style": "IPY_MODEL_75584978721741da89c389ee70ca4ab5",
            "value": 1
          }
        },
        "d9900590bde74e47ae05048b229666c7": {
          "model_module": "@jupyter-widgets/base",
          "model_name": "LayoutModel",
          "model_module_version": "1.2.0",
          "state": {
            "_model_module": "@jupyter-widgets/base",
            "_model_module_version": "1.2.0",
            "_model_name": "LayoutModel",
            "_view_count": null,
            "_view_module": "@jupyter-widgets/base",
            "_view_module_version": "1.2.0",
            "_view_name": "LayoutView",
            "align_content": null,
            "align_items": null,
            "align_self": null,
            "border": null,
            "bottom": null,
            "display": null,
            "flex": null,
            "flex_flow": null,
            "grid_area": null,
            "grid_auto_columns": null,
            "grid_auto_flow": null,
            "grid_auto_rows": null,
            "grid_column": null,
            "grid_gap": null,
            "grid_row": null,
            "grid_template_areas": null,
            "grid_template_columns": null,
            "grid_template_rows": null,
            "height": null,
            "justify_content": null,
            "justify_items": null,
            "left": null,
            "margin": null,
            "max_height": null,
            "max_width": null,
            "min_height": null,
            "min_width": null,
            "object_fit": null,
            "object_position": null,
            "order": null,
            "overflow": null,
            "overflow_x": null,
            "overflow_y": null,
            "padding": null,
            "right": null,
            "top": null,
            "visibility": null,
            "width": null
          }
        },
        "46d71f4e864043168af6626dd5e31f87": {
          "model_module": "@jupyter-widgets/base",
          "model_name": "LayoutModel",
          "model_module_version": "1.2.0",
          "state": {
            "_model_module": "@jupyter-widgets/base",
            "_model_module_version": "1.2.0",
            "_model_name": "LayoutModel",
            "_view_count": null,
            "_view_module": "@jupyter-widgets/base",
            "_view_module_version": "1.2.0",
            "_view_name": "LayoutView",
            "align_content": null,
            "align_items": null,
            "align_self": null,
            "border": null,
            "bottom": null,
            "display": null,
            "flex": null,
            "flex_flow": null,
            "grid_area": null,
            "grid_auto_columns": null,
            "grid_auto_flow": null,
            "grid_auto_rows": null,
            "grid_column": null,
            "grid_gap": null,
            "grid_row": null,
            "grid_template_areas": null,
            "grid_template_columns": null,
            "grid_template_rows": null,
            "height": null,
            "justify_content": null,
            "justify_items": null,
            "left": null,
            "margin": null,
            "max_height": null,
            "max_width": null,
            "min_height": null,
            "min_width": null,
            "object_fit": null,
            "object_position": null,
            "order": null,
            "overflow": null,
            "overflow_x": null,
            "overflow_y": null,
            "padding": null,
            "right": null,
            "top": null,
            "visibility": null,
            "width": null
          }
        },
        "eb184ca1c5594a4385a9042a4246f6fb": {
          "model_module": "@jupyter-widgets/controls",
          "model_name": "DescriptionStyleModel",
          "model_module_version": "1.5.0",
          "state": {
            "_model_module": "@jupyter-widgets/controls",
            "_model_module_version": "1.5.0",
            "_model_name": "DescriptionStyleModel",
            "_view_count": null,
            "_view_module": "@jupyter-widgets/base",
            "_view_module_version": "1.2.0",
            "_view_name": "StyleView",
            "description_width": ""
          }
        },
        "d7bead6c61f14b35b95fd0e3577bb7e6": {
          "model_module": "@jupyter-widgets/base",
          "model_name": "LayoutModel",
          "model_module_version": "1.2.0",
          "state": {
            "_model_module": "@jupyter-widgets/base",
            "_model_module_version": "1.2.0",
            "_model_name": "LayoutModel",
            "_view_count": null,
            "_view_module": "@jupyter-widgets/base",
            "_view_module_version": "1.2.0",
            "_view_name": "LayoutView",
            "align_content": null,
            "align_items": null,
            "align_self": null,
            "border": null,
            "bottom": null,
            "display": null,
            "flex": null,
            "flex_flow": null,
            "grid_area": null,
            "grid_auto_columns": null,
            "grid_auto_flow": null,
            "grid_auto_rows": null,
            "grid_column": null,
            "grid_gap": null,
            "grid_row": null,
            "grid_template_areas": null,
            "grid_template_columns": null,
            "grid_template_rows": null,
            "height": null,
            "justify_content": null,
            "justify_items": null,
            "left": null,
            "margin": null,
            "max_height": null,
            "max_width": null,
            "min_height": null,
            "min_width": null,
            "object_fit": null,
            "object_position": null,
            "order": null,
            "overflow": null,
            "overflow_x": null,
            "overflow_y": null,
            "padding": null,
            "right": null,
            "top": null,
            "visibility": null,
            "width": null
          }
        },
        "75584978721741da89c389ee70ca4ab5": {
          "model_module": "@jupyter-widgets/controls",
          "model_name": "ProgressStyleModel",
          "model_module_version": "1.5.0",
          "state": {
            "_model_module": "@jupyter-widgets/controls",
            "_model_module_version": "1.5.0",
            "_model_name": "ProgressStyleModel",
            "_view_count": null,
            "_view_module": "@jupyter-widgets/base",
            "_view_module_version": "1.2.0",
            "_view_name": "StyleView",
            "bar_color": null,
            "description_width": ""
          }
        },
        "89c5c6d98c4d4654b3bdc3970495a5a7": {
          "model_module": "@jupyter-widgets/controls",
          "model_name": "VBoxModel",
          "model_module_version": "1.5.0",
          "state": {
            "_dom_classes": [],
            "_model_module": "@jupyter-widgets/controls",
            "_model_module_version": "1.5.0",
            "_model_name": "VBoxModel",
            "_view_count": null,
            "_view_module": "@jupyter-widgets/controls",
            "_view_module_version": "1.5.0",
            "_view_name": "VBoxView",
            "box_style": "",
            "children": [
              "IPY_MODEL_3152fab876074c70bbc6b3016c8aad71",
              "IPY_MODEL_8cc4a06769c242db803a1119a9329e32"
            ],
            "layout": "IPY_MODEL_23156cdf12574c86984164546c53aa01"
          }
        },
        "3152fab876074c70bbc6b3016c8aad71": {
          "model_module": "@jupyter-widgets/controls",
          "model_name": "LabelModel",
          "model_module_version": "1.5.0",
          "state": {
            "_dom_classes": [],
            "_model_module": "@jupyter-widgets/controls",
            "_model_module_version": "1.5.0",
            "_model_name": "LabelModel",
            "_view_count": null,
            "_view_module": "@jupyter-widgets/controls",
            "_view_module_version": "1.5.0",
            "_view_name": "LabelView",
            "description": "",
            "description_tooltip": null,
            "layout": "IPY_MODEL_12ac9b1222d54bfba6a5b99d4f35c688",
            "placeholder": "​",
            "style": "IPY_MODEL_bcbd6b29ae3f4985a1081f9a145cf520",
            "value": "0.028 MB of 0.028 MB uploaded\r"
          }
        },
        "8cc4a06769c242db803a1119a9329e32": {
          "model_module": "@jupyter-widgets/controls",
          "model_name": "FloatProgressModel",
          "model_module_version": "1.5.0",
          "state": {
            "_dom_classes": [],
            "_model_module": "@jupyter-widgets/controls",
            "_model_module_version": "1.5.0",
            "_model_name": "FloatProgressModel",
            "_view_count": null,
            "_view_module": "@jupyter-widgets/controls",
            "_view_module_version": "1.5.0",
            "_view_name": "ProgressView",
            "bar_style": "",
            "description": "",
            "description_tooltip": null,
            "layout": "IPY_MODEL_bea9a3e55a484b5590e98d1167bd2bf3",
            "max": 1,
            "min": 0,
            "orientation": "horizontal",
            "style": "IPY_MODEL_d8739da318464dd19d5ca8095539328d",
            "value": 1
          }
        },
        "23156cdf12574c86984164546c53aa01": {
          "model_module": "@jupyter-widgets/base",
          "model_name": "LayoutModel",
          "model_module_version": "1.2.0",
          "state": {
            "_model_module": "@jupyter-widgets/base",
            "_model_module_version": "1.2.0",
            "_model_name": "LayoutModel",
            "_view_count": null,
            "_view_module": "@jupyter-widgets/base",
            "_view_module_version": "1.2.0",
            "_view_name": "LayoutView",
            "align_content": null,
            "align_items": null,
            "align_self": null,
            "border": null,
            "bottom": null,
            "display": null,
            "flex": null,
            "flex_flow": null,
            "grid_area": null,
            "grid_auto_columns": null,
            "grid_auto_flow": null,
            "grid_auto_rows": null,
            "grid_column": null,
            "grid_gap": null,
            "grid_row": null,
            "grid_template_areas": null,
            "grid_template_columns": null,
            "grid_template_rows": null,
            "height": null,
            "justify_content": null,
            "justify_items": null,
            "left": null,
            "margin": null,
            "max_height": null,
            "max_width": null,
            "min_height": null,
            "min_width": null,
            "object_fit": null,
            "object_position": null,
            "order": null,
            "overflow": null,
            "overflow_x": null,
            "overflow_y": null,
            "padding": null,
            "right": null,
            "top": null,
            "visibility": null,
            "width": null
          }
        },
        "12ac9b1222d54bfba6a5b99d4f35c688": {
          "model_module": "@jupyter-widgets/base",
          "model_name": "LayoutModel",
          "model_module_version": "1.2.0",
          "state": {
            "_model_module": "@jupyter-widgets/base",
            "_model_module_version": "1.2.0",
            "_model_name": "LayoutModel",
            "_view_count": null,
            "_view_module": "@jupyter-widgets/base",
            "_view_module_version": "1.2.0",
            "_view_name": "LayoutView",
            "align_content": null,
            "align_items": null,
            "align_self": null,
            "border": null,
            "bottom": null,
            "display": null,
            "flex": null,
            "flex_flow": null,
            "grid_area": null,
            "grid_auto_columns": null,
            "grid_auto_flow": null,
            "grid_auto_rows": null,
            "grid_column": null,
            "grid_gap": null,
            "grid_row": null,
            "grid_template_areas": null,
            "grid_template_columns": null,
            "grid_template_rows": null,
            "height": null,
            "justify_content": null,
            "justify_items": null,
            "left": null,
            "margin": null,
            "max_height": null,
            "max_width": null,
            "min_height": null,
            "min_width": null,
            "object_fit": null,
            "object_position": null,
            "order": null,
            "overflow": null,
            "overflow_x": null,
            "overflow_y": null,
            "padding": null,
            "right": null,
            "top": null,
            "visibility": null,
            "width": null
          }
        },
        "bcbd6b29ae3f4985a1081f9a145cf520": {
          "model_module": "@jupyter-widgets/controls",
          "model_name": "DescriptionStyleModel",
          "model_module_version": "1.5.0",
          "state": {
            "_model_module": "@jupyter-widgets/controls",
            "_model_module_version": "1.5.0",
            "_model_name": "DescriptionStyleModel",
            "_view_count": null,
            "_view_module": "@jupyter-widgets/base",
            "_view_module_version": "1.2.0",
            "_view_name": "StyleView",
            "description_width": ""
          }
        },
        "bea9a3e55a484b5590e98d1167bd2bf3": {
          "model_module": "@jupyter-widgets/base",
          "model_name": "LayoutModel",
          "model_module_version": "1.2.0",
          "state": {
            "_model_module": "@jupyter-widgets/base",
            "_model_module_version": "1.2.0",
            "_model_name": "LayoutModel",
            "_view_count": null,
            "_view_module": "@jupyter-widgets/base",
            "_view_module_version": "1.2.0",
            "_view_name": "LayoutView",
            "align_content": null,
            "align_items": null,
            "align_self": null,
            "border": null,
            "bottom": null,
            "display": null,
            "flex": null,
            "flex_flow": null,
            "grid_area": null,
            "grid_auto_columns": null,
            "grid_auto_flow": null,
            "grid_auto_rows": null,
            "grid_column": null,
            "grid_gap": null,
            "grid_row": null,
            "grid_template_areas": null,
            "grid_template_columns": null,
            "grid_template_rows": null,
            "height": null,
            "justify_content": null,
            "justify_items": null,
            "left": null,
            "margin": null,
            "max_height": null,
            "max_width": null,
            "min_height": null,
            "min_width": null,
            "object_fit": null,
            "object_position": null,
            "order": null,
            "overflow": null,
            "overflow_x": null,
            "overflow_y": null,
            "padding": null,
            "right": null,
            "top": null,
            "visibility": null,
            "width": null
          }
        },
        "d8739da318464dd19d5ca8095539328d": {
          "model_module": "@jupyter-widgets/controls",
          "model_name": "ProgressStyleModel",
          "model_module_version": "1.5.0",
          "state": {
            "_model_module": "@jupyter-widgets/controls",
            "_model_module_version": "1.5.0",
            "_model_name": "ProgressStyleModel",
            "_view_count": null,
            "_view_module": "@jupyter-widgets/base",
            "_view_module_version": "1.2.0",
            "_view_name": "StyleView",
            "bar_color": null,
            "description_width": ""
          }
        },
        "8a5beb7141a74afdbfa10d3ad2aa5004": {
          "model_module": "@jupyter-widgets/controls",
          "model_name": "VBoxModel",
          "model_module_version": "1.5.0",
          "state": {
            "_dom_classes": [],
            "_model_module": "@jupyter-widgets/controls",
            "_model_module_version": "1.5.0",
            "_model_name": "VBoxModel",
            "_view_count": null,
            "_view_module": "@jupyter-widgets/controls",
            "_view_module_version": "1.5.0",
            "_view_name": "VBoxView",
            "box_style": "",
            "children": [
              "IPY_MODEL_3ac402a29c654d38b2f25c6b7fa7d139",
              "IPY_MODEL_548fbbdd80f2401cab737d0cb3c0bd52"
            ],
            "layout": "IPY_MODEL_a0b8b9e71a5d4b558c5613c4c9fc9b42"
          }
        },
        "3ac402a29c654d38b2f25c6b7fa7d139": {
          "model_module": "@jupyter-widgets/controls",
          "model_name": "LabelModel",
          "model_module_version": "1.5.0",
          "state": {
            "_dom_classes": [],
            "_model_module": "@jupyter-widgets/controls",
            "_model_module_version": "1.5.0",
            "_model_name": "LabelModel",
            "_view_count": null,
            "_view_module": "@jupyter-widgets/controls",
            "_view_module_version": "1.5.0",
            "_view_name": "LabelView",
            "description": "",
            "description_tooltip": null,
            "layout": "IPY_MODEL_8221078d81a84f198ed9de25e574ce1e",
            "placeholder": "​",
            "style": "IPY_MODEL_2a8e941fd2bf42098f8940da8eb0483c",
            "value": "Waiting for wandb.init()...\r"
          }
        },
        "548fbbdd80f2401cab737d0cb3c0bd52": {
          "model_module": "@jupyter-widgets/controls",
          "model_name": "FloatProgressModel",
          "model_module_version": "1.5.0",
          "state": {
            "_dom_classes": [],
            "_model_module": "@jupyter-widgets/controls",
            "_model_module_version": "1.5.0",
            "_model_name": "FloatProgressModel",
            "_view_count": null,
            "_view_module": "@jupyter-widgets/controls",
            "_view_module_version": "1.5.0",
            "_view_name": "ProgressView",
            "bar_style": "",
            "description": "",
            "description_tooltip": null,
            "layout": "IPY_MODEL_5fc00ae98fe14597930361e1c6c95421",
            "max": 1,
            "min": 0,
            "orientation": "horizontal",
            "style": "IPY_MODEL_2707ddc54dcc446089ee24ad75e9e220",
            "value": 1
          }
        },
        "a0b8b9e71a5d4b558c5613c4c9fc9b42": {
          "model_module": "@jupyter-widgets/base",
          "model_name": "LayoutModel",
          "model_module_version": "1.2.0",
          "state": {
            "_model_module": "@jupyter-widgets/base",
            "_model_module_version": "1.2.0",
            "_model_name": "LayoutModel",
            "_view_count": null,
            "_view_module": "@jupyter-widgets/base",
            "_view_module_version": "1.2.0",
            "_view_name": "LayoutView",
            "align_content": null,
            "align_items": null,
            "align_self": null,
            "border": null,
            "bottom": null,
            "display": null,
            "flex": null,
            "flex_flow": null,
            "grid_area": null,
            "grid_auto_columns": null,
            "grid_auto_flow": null,
            "grid_auto_rows": null,
            "grid_column": null,
            "grid_gap": null,
            "grid_row": null,
            "grid_template_areas": null,
            "grid_template_columns": null,
            "grid_template_rows": null,
            "height": null,
            "justify_content": null,
            "justify_items": null,
            "left": null,
            "margin": null,
            "max_height": null,
            "max_width": null,
            "min_height": null,
            "min_width": null,
            "object_fit": null,
            "object_position": null,
            "order": null,
            "overflow": null,
            "overflow_x": null,
            "overflow_y": null,
            "padding": null,
            "right": null,
            "top": null,
            "visibility": null,
            "width": null
          }
        },
        "8221078d81a84f198ed9de25e574ce1e": {
          "model_module": "@jupyter-widgets/base",
          "model_name": "LayoutModel",
          "model_module_version": "1.2.0",
          "state": {
            "_model_module": "@jupyter-widgets/base",
            "_model_module_version": "1.2.0",
            "_model_name": "LayoutModel",
            "_view_count": null,
            "_view_module": "@jupyter-widgets/base",
            "_view_module_version": "1.2.0",
            "_view_name": "LayoutView",
            "align_content": null,
            "align_items": null,
            "align_self": null,
            "border": null,
            "bottom": null,
            "display": null,
            "flex": null,
            "flex_flow": null,
            "grid_area": null,
            "grid_auto_columns": null,
            "grid_auto_flow": null,
            "grid_auto_rows": null,
            "grid_column": null,
            "grid_gap": null,
            "grid_row": null,
            "grid_template_areas": null,
            "grid_template_columns": null,
            "grid_template_rows": null,
            "height": null,
            "justify_content": null,
            "justify_items": null,
            "left": null,
            "margin": null,
            "max_height": null,
            "max_width": null,
            "min_height": null,
            "min_width": null,
            "object_fit": null,
            "object_position": null,
            "order": null,
            "overflow": null,
            "overflow_x": null,
            "overflow_y": null,
            "padding": null,
            "right": null,
            "top": null,
            "visibility": null,
            "width": null
          }
        },
        "2a8e941fd2bf42098f8940da8eb0483c": {
          "model_module": "@jupyter-widgets/controls",
          "model_name": "DescriptionStyleModel",
          "model_module_version": "1.5.0",
          "state": {
            "_model_module": "@jupyter-widgets/controls",
            "_model_module_version": "1.5.0",
            "_model_name": "DescriptionStyleModel",
            "_view_count": null,
            "_view_module": "@jupyter-widgets/base",
            "_view_module_version": "1.2.0",
            "_view_name": "StyleView",
            "description_width": ""
          }
        },
        "5fc00ae98fe14597930361e1c6c95421": {
          "model_module": "@jupyter-widgets/base",
          "model_name": "LayoutModel",
          "model_module_version": "1.2.0",
          "state": {
            "_model_module": "@jupyter-widgets/base",
            "_model_module_version": "1.2.0",
            "_model_name": "LayoutModel",
            "_view_count": null,
            "_view_module": "@jupyter-widgets/base",
            "_view_module_version": "1.2.0",
            "_view_name": "LayoutView",
            "align_content": null,
            "align_items": null,
            "align_self": null,
            "border": null,
            "bottom": null,
            "display": null,
            "flex": null,
            "flex_flow": null,
            "grid_area": null,
            "grid_auto_columns": null,
            "grid_auto_flow": null,
            "grid_auto_rows": null,
            "grid_column": null,
            "grid_gap": null,
            "grid_row": null,
            "grid_template_areas": null,
            "grid_template_columns": null,
            "grid_template_rows": null,
            "height": null,
            "justify_content": null,
            "justify_items": null,
            "left": null,
            "margin": null,
            "max_height": null,
            "max_width": null,
            "min_height": null,
            "min_width": null,
            "object_fit": null,
            "object_position": null,
            "order": null,
            "overflow": null,
            "overflow_x": null,
            "overflow_y": null,
            "padding": null,
            "right": null,
            "top": null,
            "visibility": null,
            "width": null
          }
        },
        "2707ddc54dcc446089ee24ad75e9e220": {
          "model_module": "@jupyter-widgets/controls",
          "model_name": "ProgressStyleModel",
          "model_module_version": "1.5.0",
          "state": {
            "_model_module": "@jupyter-widgets/controls",
            "_model_module_version": "1.5.0",
            "_model_name": "ProgressStyleModel",
            "_view_count": null,
            "_view_module": "@jupyter-widgets/base",
            "_view_module_version": "1.2.0",
            "_view_name": "StyleView",
            "bar_color": null,
            "description_width": ""
          }
        }
      }
    },
    "accelerator": "GPU"
  },
  "cells": [
    {
      "cell_type": "markdown",
      "metadata": {
        "id": "view-in-github",
        "colab_type": "text"
      },
      "source": [
        "<a href=\"https://colab.research.google.com/github/VrijKun/CS6910_Assignement_3/blob/main/DL_Assignement_3.ipynb\" target=\"_parent\"><img src=\"https://colab.research.google.com/assets/colab-badge.svg\" alt=\"Open In Colab\"/></a>"
      ]
    },
    {
      "cell_type": "code",
      "source": [
        "!nvidia-smi\n"
      ],
      "metadata": {
        "colab": {
          "base_uri": "https://localhost:8080/"
        },
        "id": "9lHT4qEMQnyv",
        "outputId": "94c78d2b-3f8d-42f2-cfe6-24e142ea6f95"
      },
      "execution_count": null,
      "outputs": [
        {
          "output_type": "stream",
          "name": "stdout",
          "text": [
            "Fri May 17 13:51:50 2024       \n",
            "+---------------------------------------------------------------------------------------+\n",
            "| NVIDIA-SMI 537.42                 Driver Version: 537.42       CUDA Version: 12.2     |\n",
            "|-----------------------------------------+----------------------+----------------------+\n",
            "| GPU  Name                     TCC/WDDM  | Bus-Id        Disp.A | Volatile Uncorr. ECC |\n",
            "| Fan  Temp   Perf          Pwr:Usage/Cap |         Memory-Usage | GPU-Util  Compute M. |\n",
            "|                                         |                      |               MIG M. |\n",
            "|=========================================+======================+======================|\n",
            "|   0  NVIDIA T1000 8GB             WDDM  | 00000000:47:00.0  On |                  N/A |\n",
            "| 33%   40C    P8              N/A /  50W |   1554MiB /  8192MiB |      2%      Default |\n",
            "|                                         |                      |                  N/A |\n",
            "+-----------------------------------------+----------------------+----------------------+\n",
            "                                                                                         \n",
            "+---------------------------------------------------------------------------------------+\n",
            "| Processes:                                                                            |\n",
            "|  GPU   GI   CI        PID   Type   Process name                            GPU Memory |\n",
            "|        ID   ID                                                             Usage      |\n",
            "|=======================================================================================|\n",
            "|    0   N/A  N/A     10336      C   C:\\Users\\aslwo\\anaconda3\\python.exe       N/A      |\n",
            "|    0   N/A  N/A     10428    C+G   ...siveControlPanel\\SystemSettings.exe    N/A      |\n",
            "|    0   N/A  N/A     11088    C+G   C:\\Windows\\explorer.exe                   N/A      |\n",
            "|    0   N/A  N/A     12856    C+G   ...cal\\Microsoft\\OneDrive\\OneDrive.exe    N/A      |\n",
            "|    0   N/A  N/A     13156    C+G   ...nt.CBS_cw5n1h2txyewy\\SearchHost.exe    N/A      |\n",
            "|    0   N/A  N/A     13180    C+G   ...2txyewy\\StartMenuExperienceHost.exe    N/A      |\n",
            "|    0   N/A  N/A     15116    C+G   ...crosoft\\Edge\\Application\\msedge.exe    N/A      |\n",
            "|    0   N/A  N/A     15604    C+G   ...5n1h2txyewy\\ShellExperienceHost.exe    N/A      |\n",
            "|    0   N/A  N/A     16080    C+G   ...ekyb3d8bbwe\\PhoneExperienceHost.exe    N/A      |\n",
            "|    0   N/A  N/A     16532    C+G   ...41.0_x64__v10z8vjag6ke6\\HP.myHP.exe    N/A      |\n",
            "|    0   N/A  N/A     18140    C+G   ...on\\124.0.2478.97\\msedgewebview2.exe    N/A      |\n",
            "|    0   N/A  N/A     19804    C+G   ...__8wekyb3d8bbwe\\WindowsTerminal.exe    N/A      |\n",
            "+---------------------------------------------------------------------------------------+\n"
          ]
        }
      ]
    },
    {
      "cell_type": "code",
      "source": [
        "# Run while using google Collab\n",
        "!yes | wget \"https://drive.google.com/drive/folders/1tmm5HT2Zwj-4vDZzRFc4Av4KoWHYowoG?usp=sharing\""
      ],
      "metadata": {
        "id": "DNTkPBjP9dlM",
        "colab": {
          "base_uri": "https://localhost:8080/"
        },
        "outputId": "537abb8a-21ba-4090-906d-042767a8cf8e"
      },
      "execution_count": null,
      "outputs": [
        {
          "output_type": "stream",
          "name": "stdout",
          "text": [
            "--2024-05-17 05:37:20--  https://drive.google.com/drive/folders/1tmm5HT2Zwj-4vDZzRFc4Av4KoWHYowoG?usp=sharing\n",
            "Resolving drive.google.com (drive.google.com)... 173.194.194.138, 173.194.194.101, 173.194.194.139, ...\n",
            "Connecting to drive.google.com (drive.google.com)|173.194.194.138|:443... connected.\n",
            "HTTP request sent, awaiting response... 200 OK\n",
            "Length: unspecified [text/html]\n",
            "Saving to: ‘1tmm5HT2Zwj-4vDZzRFc4Av4KoWHYowoG?usp=sharing’\n",
            "\n",
            "1tmm5HT2Zwj-4vDZzRF     [  <=>               ] 401.47K  1.09MB/s    in 0.4s    \n",
            "\n",
            "2024-05-17 05:37:21 (1.09 MB/s) - ‘1tmm5HT2Zwj-4vDZzRFc4Av4KoWHYowoG?usp=sharing’ saved [411110]\n",
            "\n"
          ]
        }
      ]
    },
    {
      "cell_type": "code",
      "source": [
        "# Run while using google Collab\n",
        "from google.colab import drive\n",
        "drive.mount('/content/drive')\n"
      ],
      "metadata": {
        "colab": {
          "base_uri": "https://localhost:8080/"
        },
        "id": "6vIU8i0W7h5V",
        "outputId": "c494b6b3-92b1-49b2-ccb4-2a79ae39d515"
      },
      "execution_count": null,
      "outputs": [
        {
          "output_type": "stream",
          "name": "stdout",
          "text": [
            "Mounted at /content/drive\n"
          ]
        }
      ]
    },
    {
      "cell_type": "code",
      "source": [
        "# Run while using google Collab\n",
        "\n",
        "import pandas as pds\n",
        "\n",
        "# function for loading data\n",
        "def dt_ld(path):\n",
        "  with open(path) as fil :\n",
        "    dt = pds.read_csv(fil,sep=',',header=None,names=[\"eng\",\"hin\",\"\"],skip_blank_lines=True,index_col=None)\n",
        "  word_data = dt[dt['eng'].notna()]\n",
        "  word_data = dt[dt['hin'].notna()]\n",
        "  word_data = dt[['eng', 'hin']]\n",
        "  return word_data\n",
        "\n",
        "train_data = dt_ld(\"/content/drive/MyDrive/aksharantar_sampled/hin/hin_train.csv\")\n",
        "valid_data = dt_ld(\"/content/drive/MyDrive/aksharantar_sampled/hin/hin_valid.csv\")\n",
        "test_data = dt_ld(\"/content/drive/MyDrive/aksharantar_sampled/hin/hin_test.csv\")\n",
        "\n",
        "print(test_data)\n",
        "# Saving the data in CSV's again in list form\n",
        "test_hin = list(test_data['hin'])\n",
        "test_eng = list(test_data['eng'])\n",
        "\n",
        "# Some visualization of data\n",
        "print(test_eng)\n",
        "print(test_hin)\n",
        "print(len(train_data))\n",
        "print(len(valid_data))\n",
        "print(len(test_data))\n",
        "#print(\"test_hindi: \", test_hin)\n",
        "#print(\"test_english: \", test_eng)\n",
        "\n"
      ],
      "metadata": {
        "id": "1d_5GXyE-dLF",
        "colab": {
          "base_uri": "https://localhost:8080/"
        },
        "outputId": "59c127fa-593a-4f28-c9a5-9e5a24b4acf0"
      },
      "execution_count": null,
      "outputs": [
        {
          "output_type": "stream",
          "name": "stdout",
          "text": [
            "               eng          hin\n",
            "0          thermax      थरमैक्स\n",
            "1        sikhaaega      सिखाएगा\n",
            "2            learn         लर्न\n",
            "3         twitters     ट्विटर्स\n",
            "4      tirunelveli  तिरुनेलवेली\n",
            "...            ...          ...\n",
            "4091       saflata       सफ़लता\n",
            "4092        shbana        शबाना\n",
            "4093  khaatootolaa     खातूटोला\n",
            "4094    shivastava     शिवास्तव\n",
            "4095  preranapuree  प्रेरणापुरी\n",
            "\n",
            "[4096 rows x 2 columns]\n",
            "['thermax', 'sikhaaega', 'learn', 'twitters', 'tirunelveli', 'independence', 'speshiyon', 'shurooh', 'kolhapur', 'ajhar', 'karaar', 'anka', 'wpd', 'haashie', 'glendale', 'udhed', 'ekthi', 'idea', 'ambikapur', 'makerere', 'saboodaane', 'foohadta', 'sequent', 'shueb', 'panihati', 'sametati', 'ukhrul', 'brahmlin', 'utaraadhikaaree', 'iqbal', 'dayaalapuraa', 'sohrai', 'takreeban', 'farrukhnagar', 'theinga', 'tyoiharon', 'karneshvardhaam', 'umanath', 'daanshil', 'saahityotsav', 'shantiniketan', 'shikayatkarta', 'andarkhane', 'panter', 'leedaron', 'galgand', 'kaarniyaan', 'murgipaalan', 'mushahid', 'modules', 'rajouri', 'sushrushaa', 'shringaar', 'holt', 'laigikata', 'ijaajat', 'vankshetra', 'bhutal', 'swaadpremiyon', 'nineteez', 'frektar', 'likhkar', 'eyarkandeeshnar', 'nabz', 'quess', 'bouni', 'kaaragujaariyaan', 'gaangnam', 'tapia', 'tezpur', 'talve', 'seemaai', 'darshnaarthi', 'rivas', 'tarkvaad', 'anusaarakaa', 'coachella', 'latakakar', 'patravaliyan', 'parishad', 'spinj', 'anshida', 'dejesus', 'saraaymohiuddinpur', 'lowell', 'capacitor', 'passengerjind', 'granthiyon', 'buena', 'canterbury', 'kaathiyavadi', 'tekchandani', 'fisad', 'beraharamee', 'nishkarshah', 'activities', 'rikailleebreshan', 'shasanadhikaariyon', 'fijoolkharchi', 'dablyoopeedee', 'pace', 'dastar', 'catlin', 'joddta', 'killat', 'gruhnagar', 'wonder', 'vatar', 'shving', 'pashtun', 'farm', 'dibanu', 'pashchamee', 'uthapatak', 'nilaabh', 'laxmeeniyaan', 'mahaanagarawaasiyon', 'upneta', 'convention', 'sharp', 'kaaryayojana', 'maas', 'westing', 'kurvetee', 'jyaada', 'mukeshvari', 'shrimati', 'vivekadhikaron', 'loksabhavalee', 'kabahaa', 'bhraantiyon', 'vivekahin', 'balmiki', 'haryana', 'jivraj', 'flynn', 'rana', 'vishnupura', 'ghotaalebaajon', 'hairatangenz', 'takaleephadeh', 'peepaadh', 'dhabhaashaaraa', 'antdiyan', 'robin', 'singar', 'gumshudagi', 'balkrishna', 'phabti', 'palatne', 'lahlahaati', 'nagaada', 'udanen', 'klein', 'juloos', 'karyabhar', 'manto', 'paimaish', 'covina', 'penshan', 'ogastaavestalaind', 'centreeng', 'activa', 'barker', 'valkan', 'vruton', 'kabaddi', 'raunakh', 'caitlyn', 'phoos', 'jangadnaa', 'upakhyaanon', 'sundram', 'cochin', 'neko', 'kaushal', 'phaliya', 'acevedo', 'kottayam', 'dilaaega', 'kurvi', 'saunpengi', 'lekhan', 'gudepu', 'pharase', 'nubiya', 'taja', 'aantrit', 'qazi', 'murgipalan', 'eddy', 'nagine', 'subha', 'luis', 'vijayapuram', 'bataao', 'ochoa', 'science', 'sarkarein', 'bremerton', 'gurupado', 'sanyukt', 'raalod', 'baadhaon', 'gaumutra', 'sabhaen', 'tani', 'delhi', 'suken', 'vineet', 'chimate', 'kikiyana', 'rocket', 'maxwell', 'hippo', 'deepan', 'arymaa', 'bhulata', 'karmaacharee', 'durgapur', 'tribhaashaa', 'soodkhoron', 'prastaavon', 'survin', 'prapti', 'girivaasiyon', 'siducing', 'welwet', 'muqarrar', 'baxter', 'denier', 'cw', 'uthani', 'ghasi', 'ikattha', 'bhupsingh', 'dabochne', 'crosby', 'naameegiraamee', 'hurley', 'jarda', 'liepradhanmantri', 'bhranti', 'agencyyon', 'bago', 'forcee', 'bosaan', 'karki', 'ginate', 'manokaamnaaon', 'sammpattiyaan', 'politheenon', 'mtake', 'parichar', 'badabadee', 'crane', 'laamiyaan', 'ulhasnagar', 'prabhanmantri', 'shiwalapurwa', 'ferth', 'suhagin', 'saraikela', 'romeoville', 'raajsthanvasiyon', 'pratirodhaatmak', 'svarnikaa', 'vyavasthapana', 'tel', 'galatfahmi', 'takeinsider', 'microfiber', 'shreemahapoorn', 'fallujaa', 'donaldson', 'chadhne', 'jeevvigyaaniyon', 'cricketing', 'reduction', 'awaazen', 'wlaad', 'prathmik', 'thenga', 'excel', 'chatakaate', 'kubuddin', 'taaza', 'padani', 'nichaai', 'wausau', 'aalochakon', 'jaljale', 'surat', 'jeevati', 'prahaarak', 'shreesadguru', 'sanchalanon', 'bhal', 'tughlaq', 'uthaapatak', 'hastaantaraneey', 'utsaahawarddhan', 'sangoshtree', 'shaasanadhikariyon', 'mahadhipatiyon', 'fatima', 'fode', 'kantinyoo', 'kaamanaen', 'chutile', 'sankhyaen', 'kranj', 'barsata', 'parikalpit', 'harpal', 'maaoont', 'grover', 'biolozis', 'halisahar', 'angelo', 'janeudharee', 'bichbachaav', 'pokar', 'apvartit', 'aastin', 'pratishthaavaale', 'buenaventura', 'deccan', 'seriw', 'pardaa', 'emile', 'shaili', 'eastvale', 'chhallaa', 'lakshyon', 'hoaf', 'jarurih', 'rahya', 'mahkane', 'devi', 'nielsen', 'bhira', 'chabutare', 'bhushan', 'rukte', 'aamdani', 'talkshow', 'junagadh', 'padhata', 'odhakar', 'broke', 'talaasha', 'parivaarwaale', 'trubyunal', 'brock', 'yallaappaa', 'tasvaron', 'tugalaki', 'pick', 'circulation', 'jvar', 'kanindham', 'kush', 'properfacebuk', 'ashrafi', 'chadhen', 'vangchuk', 'honeywell', 'radiumdharmee', 'ladhege', 'sachan', 'arthshastriyon', 'canton', 'aatmamugdha', 'pontiac', 'lopez', 'ghontanaa', 'ambani', 'maryadaon', 'ratlam', 'hercules', 'akola', 'sakshan', 'notbandeeshuda', 'lagavaatee', 'alive', 'jivant', 'foda', 'fatahee', 'noobiyaa', 'lalmanee', 'faisala', 'krutyaa', 'dhuan', 'ahuja', 'pratipaalpur', 'namkeen', 'manjilen', 'laffaajee', 'juraab', 'fulae', 'castalloy', 'black', 'sooraj', 'bronch', 'avarnataa', 'johari', 'tevree', 'sanders', 'welder', 'eneeyoo', 'bharashtachaariyon', 'laalmanee', 'khaatedaar', 'aazmaanaa', 'aavrittiyon', 'kullawee', 'bahawalpur', 'prathmikta', 'mobile', 'katihar', 'swecha', 'haamidan', 'samdharshni', 'dridh', 'gond', 'wishesh', 'kaabilegour', 'laurense', 'hisham', 'chausinga', 'pafin', 'mate', 'buildcon', 'teekon', 'athak', 'jindagee', 'chayal', 'maap', 'last', 'gajra', 'ratrichar', 'kaathalaa', 'sahuuliyata', 'pattnaik', 'nyayalayeen', 'mukhyamantriyon', 'jeetanewalon', 'swaphoto', 'clifton', 'doda', 'pendulum', 'chipakane', 'nalakasa', 'chhah', 'gond', 'sameekshaakartaa', 'mantripad', 'liberation', 'asamaany', 'chungiyon', 'arica', 'balot', 'thin', 'formic', 'yuddhak', 'vegas', 'las', 'chitranshi', 'avranta', 'wasting', 'vitark', 'mukabaale', 'dharmapoorwee', 'ambaani', 'ibija', 'mahamedia', 'suzlon', 'varnit', 'jhuthlane', 'madurai', 'kaundal', 'lapatta', 'kshin', 'tewaree', 'raichur', 'lindon', 'pulama', 'olraunder', 'garibon', 'callahan', 'wabag', 'kaipdhari', 'atta', 'bareli', 'jing', 'jivan', 'reddy', 'pehni', 'tanu', 'deepika', 'lohati', 'kakkad', 'maulviyon', 'dungarpur', 'zaalaanaa', 'lakme', 'prospectus', 'westinghouse', 'bawara', 'thakkr', 'ichchhaachaaree', 'triya', 'dhavakon', 'damle', 'shravanabelagola', 'nilkamal', 'karmacharee', 'poorwottar', 'lehrayi', 'haito', 'prakaandh', 'khelmantree', 'bhavishya', 'egmor', 'shringar', 'saupengee', 'knoxville', 'bender', 'sundaram', 'pradesh', 'samvedikaran', 'laguna', 'bhisham', 'yemmiganur', 'huhtamaki', 'vadli', 'gail', 'race', 'salazar', 'diphtheria', 'dradh', 'shadadhi', 'prabodhini', 'lokpratinidhiyon', 'jatati', 'mangla', 'berwyn', 'mum', 'udaygadhi', 'akapulko', 'vaidhruti', 'charanbaddh', 'mandadi', 'euclid', 'paarampariktaa', 'hafate', 'sathiya', 'sanghiyataa', 'mukhyaatithiyon', 'vyavasthavirodhi', 'raktadaataaon', 'baramade', 'tarutal', 'kutta', 'jhaadaa', 'kishun', 'schaeffler', 'amrohi', 'raidical', 'jenner', 'varshiya', 'hasino', 'shaavakon', 'rupa', 'swaarthparak', 'weronika', 'webb', 'mahapatra', 'chenkein', 'agra', 'jiyaangkou', 'westwork', 'janaganna', 'pasco', 'jadhav', 'enterprise', 'sanshayon', 'varnavyavasthaavaadiyon', 'upasthiyon', 'mudichu', 'parnstaron', 'ia', 'baila', 'livaal', 'hillsboro', 'rashtriyadhyaksha', 'peedablyootee', 'thousand', 'shaakir', 'salahkaar', 'vishwakarma', 'ridge', 'swaasthyaheenataa', 'rishvatkhor', 'praavinses', 'daftarvaale', 'physician', 'log', 'jodhika', 'sevalaa', 'doobat', 'sipah', 'bharamaa', 'prtigyaa', 'meghwal', 'nandoi', 'aurora', 'formuley', 'durghtna', 'swatantrasingh', 'monterey', 'baalti', 'columbia', 'whittier', 'dukke', 'cubeck', 'chamakna', 'sheelbhag', 'bistagond', 'findlay', 'bapaa', 'dehra', 'aise', 'shrankhala', 'hastaaksharon', 'tirupati', 'mangalmoortih', 'kursiyon', 'mithaiyaan', 'pahno', 'halebid', 'bangsh', 'officially', 'sevai', 'gurjar', 'samanvayaka', 'parnel', 'sunsan', 'cusex', 'madhya', 'yudhrat', 'urbandale', 'briggs', 'error', 'chikhali', 'waan', 'adhikaariyaan', 'roanoke', 'haokip', 'poorvapekshaaon', 'masheenawat', 'kadmo', 'kurami', 'vidyaathyon', 'simtataa', 'sangrur', 'strongsville', 'agvaai', 'jangan', 'nagraj', 'yariyan', 'bhagyeshwar', 'jivati', 'sudkhoron', 'rukwaakar', 'brahmvarta', 'gray', 'bhraanti', 'purooshottamapur', 'teji', 'svaatan', 'mantarimandaliya', 'ashley', 'mathews', 'moolon', 'akzo', 'hamirpur', 'pokhriyal', 'bolateen', 'pratishthavale', 'dabangata', 'dhuriya', 'teap', 'gazi', 'ijajat', 'mejbani', 'toledo', 'mohadhaa', 'putli', 'sanchari', 'taapanee', 'little', 'narnaari', 'dhaniye', 'gadhoonga', 'faadi', 'gammat', 'tuberculosis', 'nagarjuna', 'raajneechi', 'medizensar', 'laphphaajee', 'commerce', 'maathaloo', 'chatagaon', 'hilig', 'isnpector', 'testing', 'naushad', 'falluja', 'pik', 'jiwan', 'katal', 'dablyooeeef', 'besil', 'slidon', 'saindan', 'jeremy', 'gaanv', 'todenge', 'udaan', 'saptkraanti', 'miranda', 'vyapak', 'maddy', 'sabhasadon', 'nauvahan', 'atmaen', 'rosa', 'damaae', 'midwest', 'trelarah', 'marlborough', 'waco', 'vimarshon', 'khan', 'difarard', 'sarsaa', 'hester', 'uttar', 'kasera', 'kuraaane', 'dayitvon', 'chayaniton', 'morales', 'heros', 'premamoolak', 'moran', 'zydus', 'nelson', 'amarpal', 'phatne', 'tinka', 'gaayikaao', 'pakayen', 'bhrashtachariyon', 'chalit', 'affle', 'mod', 'rajnitikaaron', 'arthon', 'gaaligalauj', 'anyonyashritata', 'udaya', 'cutlery', 'pratibandhah', 'neelaabh', 'bilae', 'khullamkhulla', 'swanson', 'anvaahaarya', 'rewari', 'sahkalakar', 'championship', 'bhadkaayaa', 'namdhari', 'alba', 'watanukoollan', 'khaatadhaarak', 'texas', 'special', 'harvansh', 'dinu', 'shaniwar', 'de', 'dabi', 'nahinkarvaaee', 'maarvaad', 'peediyon', 'brigton', 'mnaey', 'ligar', 'dilaega', 'aadhin', 'parwa', 'hempstead', 'mamooli', 'pradeshikaa', 'verification', 'fefada', 'wisangatiyaa', 'kachchhe', 'ghost', 'pipli', 'lovasa', 'helper', 'doobnewaale', 'bakhshane', 'indriyonke', 'barhad', 'risaalee', 'kaksheevati', 'vishvarakt', 'lodi', 'peachtree', 'ghumakkdon', 'ojha', 'ilaaj', 'arunai', 'ayodhyeanath', 'bhautikwadiyon', 'roket', 'nurochemistry', 'coldvel', 'aawaazen', 'mool', 'multiplexon', 'tyoihar', 'rotation', 'belacha', 'sahakalaakar', 'jadit', 'nagaaraa', 'barpaya', 'doongarpur', 'land', 'uchchhrunkhalataa', 'failaiya', 'suchi', 'noon', 'rp', 'shield', 'palanpur', 'electrosteel', 'obscura', 'cigretton', 'dikhaee', 'russell', 'nazarandaaz', 'kualalampoor', 'austin', 'raidcras', 'tcns', 'svaayattshasan', 'mood', 'daulatabad', 'bhulta', 'pratikaara', 'nights', 'nakam', 'shutting', 'raashtra', 'bechkar', 'stone', 'wardha', 'deedablyutee', 'desabathula', 'baapa', 'baghbaan', 'aadeshah', 'udelkar', 'tarko', 'yaaddaasht', 'inhalation', 'safradganj', 'roopak', 'scranton', 'varnavyavasthaawaadiyon', 'shikshakarmiyon', 'khandelwal', 'beverages', 'pidiya', 'nadaf', 'jehe', 'dhahaaenge', 'mastmaula', 'agartala', 'jamayaa', 'pardesi', 'arya', 'velvet', 'aapdaein', 'aagashe', 'achchi', 'udghosh', 'swabhawatah', 'bani', 'raykar', 'pidilite', 'dual', 'bheera', 'silva', 'adhikaran', 'rangkata', 'srichakra', 'gowmutra', 'nichalaa', 'burhanpur', 'sahooliyata', 'labdh', 'poole', 'strasion', 'picking', 'oditar', 'deniar', 'ajit', 'langdon', 'avashist', 'jha', 'prashasnik', 'bossier', 'badhachadhakar', 'giridih', 'bhuj', 'reading', 'fawaare', 'advait', 'rukate', 'anonditaa', 'fontana', 'nyutriyo', 'pailoton', 'jaden', 'boriwali', 'ilaichi', 'alliance', 'dhammaa', 'nahargadh', 'nsiu', 'sapaat', 'lengdan', 'panama', 'putle', 'aasaapaas', 'alwadhi', 'mufalisi', 'sansathaan', 'darshnaarthee', 'lokotsav', 'graahakonne', 'uchchaadhikaareeyo', 'bhav', 'reja', 'motherson', 'kauplaiks', 'aaburod', 'heidelbergceat', 'chimati', 'surfactants', 'mitao', 'kailana', 'tankar', 'odhkar', 'merta', 'megavaal', 'rasyanik', 'soochnah', 'sugamata', 'jockey', 'munaf', 'niswarth', 'kshetradwaaraa', 'mahawar', 'buldhana', 'dhamkata', 'bhusvami', 'vigyan', 'quete', 'bevkufana', 'jajmau', 'beltran', 'vilas', 'makhdumpur', 'kolorado', 'blackburn', 'suniti', 'ghigghee', 'flavonoids', 'chahunmukhi', 'supachye', 'siratee', 'vishnu', 'chaudahavan', 'chaudhari', 'aabru', 'balurak', 'davangere', 'anurit', 'shipping', 'patiala', 'jaanam', 'financial', 'damae', 'policy', 'icc', 'kuchchh', 'cheekhna', 'reliance', 'urvarakon', 'ravael', 'ladhkiyon', 'mukeshwaree', 'wankshetra', 'ummeede', 'kahaavah', 'kaantipoorn', 'badaaen', 'enseeaardablyusee', 'pratibaddhataa', 'follow', 'sevamukta', 'evanston', 'charas', 'hills', 'robertsan', 'bhadauriya', 'glaxosmithkline', 'producton', 'guevara', 'vigyaanon', 'jarvis', 'laphz', 'font', 'paradheen', 'shak', 'ganjhoo', 'dit', 'danptiyon', 'maadhikhedhaa', 'pratishthaanon', 'soond', 'ginte', 'alagalag', 'swastikakaar', 'pratikaraa', 'aastik', 'niveshkartaa', 'saval', 'sanskritiyan', 'raubdar', 'raghuram', 'intaravyu', 'chharhari', 'sawyer', 'bhasapa', 'jvaaron', 'sansthita', 'parshdon', 'pulatskar', 'uthaaeange', 'laengee', 'oeeef', 'valsad', 'mulon', 'putliyan', 'shmil', 'riggs', 'camarillo', 'saflataa', 'vinasht', 'kping', 'jayalalithaa', 'items', 'soccer', 'asphalt', 'mehrotra', 'chune', 'zarakh', 'mejbaani', 'muflisi', 'luna', 'warnavyavasthaavaadiyon', 'lipaaee', 'uthni', 'bajaj', 'hisarah', 'dampatiyon', 'watson', 'augustustine', 'pataakshep', 'dhandhekhoree', 'ubhregaa', 'anton', 'apardarshi', 'nihlaani', 'tivolee', 'hogis', 'winter', 'badalavaakar', 'ghumaee', 'petaluma', 'beeemdablyooem', 'bakhshate', 'sanvedikaran', 'telon', 'ghummakkadon', 'haanfte', 'farheen', 'james', 'kiratpur', 'redding', 'shaq', 'surprise', 'kisanon', 'chalenge', 'yoder', 'stein', 'paithelojist', 'labeling', 'ikthiyosis', 'liberation', 'phoodon', 'nanhein', 'bhadauria', 'jatilaa', 'pahunchanee', 'raashtron', 'blossom', 'tandon', 'gadbadbadee', 'sanasthita', 'yatraen', 'aadan', 'javate', 'niyuttiyon', 'bhishm', 'hundiya', 'murgeepaalan', 'malekar', 'loveland', 'mavey', 'vikram', 'hanfte', 'barrackpore', 'ghaziabad', 'tarkon', 'spf', 'artemis', 'aipp', 'jaiban', 'gairairaadatan', 'vivekadhin', 'sabajooniyar', 'faliya', 'prekshakganon', 'purvaasiyon', 'vipannata', 'maanga', 'ordanens', 'pradhan', 'abhiyuktonke', 'viratkhand', 'hijbul', 'vidyaon', 'manju', 'chhawindra', 'chhupkar', 'doranda', 'saym', 'mithhaiyaan', 'jeevvigyaniyon', 'pashtuun', 'brahraachaarinee', 'jerusalem', 'altamonte', 'sihuntaa', 'hemwati', 'koshadhikaaree', 'ashanka', 'bean', 'vaigyanikata', 'jheelon', 'robarto', 'shrirampur', 'manchiya', 'vasoolataa', 'morrison', 'mhagranth', 'transistor', 'sarvjaatiya', 'patotsav', 'houkee', 'medithsan', 'udana', 'saraaymohiuddeenpur', 'petersburg', 'ranjkatha', 'diya', 'mohindar', 'mastek', 'nirbadh', 'ehsaas', 'avrutiyon', 'eshiyavan', 'thki', 'turbine', 'dimaak', 'jodhpur', 'durdhara', 'khaastaur', 'makrani', 'high', 'fatahi', 'mariya', 'ganv', 'pendulam', 'aavishakaar', 'natijeh', 'jeffersonville', 'brahmasiddhi', 'tulshidas', 'reeta', 'charchaamanch', 'pratikaaraa', 'tarkwaad', 'dabangon', 'hichkicha', 'sheershakon', 'dam', 'dviarthee', 'jawabah', 'bahumaan', 'jaanchkarata', 'vandemaataram', 'should', 'agsta', 'neu', 'dastakhatshuda', 'surinama', 'kingkhan', 'taras', 'rekannecting', 'phaibrik', 'clair', 'chhejat', 'mominatolaa', 'virodh', 'arena', 'unionwaadi', 'bamleshvaree', 'boca', 'immaturity', 'sansthaan', 'jin', 'dadrewa', 'kide', 'karawanou', 'putin', 'tankaar', 'khatakati', 'jadd', 'pushpa', 'gm', 'yusugi', 'korola', 'pyade', 'karavaayegee', 'balaatkaariyon', 'jatatee', 'gurdaspur', 'shreshthaswaroop', 'shubhprabhaa', 'europlast', 'rashtrabhakton', 'canterbari', 'communicators', 'mahamanch', 'conway', 'dwf', 'reeves', 'dabhoi', 'bhootal', 'insaano', 'emily', 'vigyaanam', 'sapatey', 'atwaal', 'hindan', 'aaufisaree', 'montclair', 'purnsveekrit', 'richardson', 'sandrbh', 'fargo', 'aleem', 'saptakranti', 'hr', 'imaandaari', 'kontrekting', 'gangajal', 'gaur', 'adhikariyon', 'bandhan', 'sendha', 'dablyoopidi', 'gravita', 'lincoln', 'pravrittivigyanon', 'cementation', 'bagad', 'gentry', 'datson', 'montebello', 'renewables', 'naksalwad', 'aitraz', 'itibhagwatee', 'niveshkarta', 'patkathayen', 'kaabiletaarif', 'bhaadas', 'bhogte', 'holding', 'dhatta', 'dhoron', 'upakhyanon', 'fayetteville', 'stockton', 'brijesh', 'pratigya', 'badhaati', 'then', 'thomas', 'dhyeywadi', 'tuesday', 'wgpl', 'ovum', 'gati', 'nucleus', 'kraar', 'purooshottamaachary', 'manchanda', 'lahsun', 'naqaab', 'suja', 'mckenzie', 'purzon', 'bahunt', 'bravo', 'amaanat', 'jhuthla', 'bush', 'chaukhate', 'apar', 'asthetic', 'kshetradwara', 'sajja', 'dhahaane', 'nariyalyukt', 'jealous', 'kursiyo', 'singhaadey', 'amy', 'antarmukh', 'thakkar', 'badbolepan', 'naxaliyon', 'manner', 'himali', 'naksalavaad', 'half', 'mahaadharmaadhyaksha', 'parmoujood', 'tippanikar', 'perels', 'bhapaee', 'beetaane', 'valve', 'dwirookta', 'eddie', 'jivaniyaan', 'panghal', 'khand', 'urvarkon', 'besin', 'giriwasiyon', 'paradhin', 'pukhtaa', 'achnera', 'carson', 'delta', 'tripura', 'alaymani', 'kheda', 'nahargarh', 'shalimar', 'immaichyority', 'elendt', 'properphasebuk', 'udanon', 'mhajan', 'moses', 'bataayaaki', 'alai', 'ilectromeetar', 'amod', 'rookenge', 'maariya', 'raagon', 'aaipief', 'phalitartha', 'supachy', 'awashist', 'ishat', 'rate', 'aata', 'mahalon', 'warishthon', 'jalapot', 'katrina', 'jismafaroshee', 'salary', 'raza', 'rectare', 'basil', 'badhaataa', 'charanbaddha', 'bhadkaya', 'sahityotsav', 'naraseepura', 'samjhunga', 'chandrapur', 'sarkaa', 'dhaah', 'praudh', 'ahitakaaree', 'darawani', 'belinda', 'alayamanee', 'datsun', 'ate', 'fasteners', 'bangravala', 'saira', 'atthas', 'nirdal', 'mahbubnagar', 'daratey', 'valkkan', 'khastaur', 'barsaai', 'ananddaayak', 'banbi', 'toh', 'asmanye', 'wipannta', 'spast', 'amzera', 'bechakar', 'ghatabadh', 'kaushalta', 'machine', 'wireless', 'fainn', 'gaano', 'khambhat', 'kyooaaeepeees', 'dublin', 'mta', 'samruddhiyon', 'radhakrushnadas', 'kaansting', 'idukki', 'industrial', 'bharatwanshee', 'maangi', 'robins', 'vladimir', 'pehowa', 'bagh', 'ummidwaaree', 'saafgoi', 'koottaa', 'adain', 'grenite', 'ustara', 'dhundhta', 'sangheeyataa', 'kumari', 'depthiriya', 'adchane', 'koriyaah', 'prapat', 'chhudawaaya', 'suiyan', 'veronika', 'schaeffler', 'jyaadaa', 'potter', 'media', 'yarushalem', 'pichde', 'letaseng', 'arthavyawasthataaon', 'kakoo', 'nirdeshika', 'seto', 'navate', 'samvedansheelata', 'roadrej', 'chhahon', 'laphj', 'vanshvad', 'rohtak', 'atakta', 'baawaraa', 'kribarabh', 'prakashakah', 'styrolution', 'apaardarshi', 'bengaluru', 'andhapan', 'mainan', 'kyaah', 'formulae', 'hamalavar', 'amavasya', 'purvapekshaaon', 'daishawaalaa', 'oklahoma', 'darmait', 'sahakalakar', 'fatma', 'khalati', 'dayitva', 'kyusaiks', 'tolakarmee', 'version', 'parisamvad', 'immune', 'bachti', 'utilities', 'malmaas', 'cadmium', 'antioch', 'khatedaar', 'mohini', 'vishwasniiyataa', 'rehman', 'kanblon', 'aaryika', 'marrej', 'chheenk', 'phalata', 'baagoraa', 'pakaude', 'lucie', 'fatehgadh', 'grahanakaal', 'jobs', 'sadanand', 'dutt', 'murgeepalan', 'lurhakate', 'palmonari', 'win', 'ubhaara', 'beck', 'padaraunaa', 'bandhate', 'kapoor', 'sevaala', 'vershan', 'chidhate', 'thane', 'nikalogi', 'mogali', 'dredger', 'nagarik', 'gajipur', 'vadak', 'mitchell', 'gyatvy', 'standhaari', 'dhoraaji', 'abdunnaasir', 'vishvwandhya', 'satyaarthprakash', 'shivamogga', 'ghumakkdi', 'gayen', 'chee', 'theateron', 'anadhikaarik', 'shasak', 'hines', 'bettiah', 'dhatna', 'rahamat', 'motihari', 'pearson', 'ujback', 'wheeling', 'pythogaras', 'wipro', 'kaabiletaareef', 'jamaate', 'pulam', 'daubaaraa', 'portillo', 'adhik', 'dhumrapaan', 'daampatya', 'jamudiya', 'pedoo', 'pipra', 'blair', 'communications', 'alayans', 'aradas', 'gudna', 'just', 'aawajon', 'benvar', 'amarillo', 'bramhaand', 'dikhai', 'tantro', 'aasan', 'tuglakabad', 'sutton', 'kandrour', 'khanna', 'nikalani', 'dibanoo', 'immachyoritee', 'tolaasan', 'jaanaakaree', 'liwaal', 'engeline', 'rushitaa', 'flint', 'vrishchikahsaptah', 'aasmatee', 'girkar', 'vaigyaanik', 'bishadhee', 'phoolatee', 'punahsthapana', 'badh', 'gandha', 'chakshu', 'miktaam', 'liidaron', 'zabardast', 'stuti', 'aurato', 'heblikar', 'rattebaajee', 'francisca', 'mumba', 'pratiyukti', 'darati', 'pranon', 'madison', 'nibhaaegee', 'myers', 'kashyap', 'brigadier', 'ambikaaon', 'hogaah', 'ishaak', 'sumi', 'deshbhaktimaya', 'dharmapatriyaan', 'krishnanagar', 'ea', 'aayudhnirmaanee', 'taaja', 'ajasra', 'fijulkharchi', 'mantrayon', 'tanta', 'dealership', 'chapel', 'dhwanimikon', 'education', 'jarakh', 'neet', 'jilawaasiyon', 'samprabhuta', 'kasegaa', 'pakanevala', 'deepn', 'kalasaanaa', 'mugaalataa', 'tokne', 'falibhoot', 'gyonth', 'dikhaai', 'shaamjeebhaaee', 'pahnaakar', 'kisaani', 'udhaaradaataaon', 'ramtek', 'wyaakhyaatmaktaa', 'somvaar', 'vista', 'polimer', 'raktaabh', 'bhugta', 'bhrashtachareeyon', 'khatakti', 'mukhyamantriyon', 'mad', 'kakshaang', 'jain', 'mahin', 'survana', 'baangarotiya', 'rasaayanik', 'aurora', 'chamchagiree', 'ncrwc', 'ainthey', 'essel', 'deshsewa', 'ilectrotecs', 'workcharge', 'kaarwaai', 'jhanktaa', 'urgent', 'sapraman', 'maurya', 'jini', 'jagadeeshachandra', 'asurakshit', 'kaavyoktiyaan', 'alnkaar', 'svadpremiyon', 'jaatak', 'rollers', 'ashaktataa', 'kaathiyavadee', 'aavriti', 'vidyaayein', 'vidhivat', 'raadhe', 'mukhyamantrisamvaaddaata', 'praansangalee', 'kanalog', 'pudukkottai', 'nicky', 'fuhadtaa', 'patachep', 'retreate', 'manovaigyaaniyon', 'stanadhari', 'mukhyopadhyaay', 'nirbaadh', 'todne', 'avuti', 'parikshankartaon', 'extactor', 'nashik', 'rasayanon', 'vaitravati', 'ogrenaaij', 'chausingha', 'phalodi', 'skhalan', 'panaamaa', 'nigar', 'monte', 'suneeti', 'shrabon', 'ambikaon', 'gujara', 'photofrem', 'prahlaad', 'beesavaan', 'dvivedi', 'denewaali', 'burleson', 'bharadwaj', 'jataati', 'malegaon', 'rahugaan', 'mahamantra', 'beast', 'divyata', 'sanjivan', 'kuposhit', 'eksclation', 'chadhega', 'texarkana', 'dungerpur', 'sarahi', 'laalaparee', 'aeronautics', 'worth', 'aasteen', 'svapnika', 'upakaaryaalayon', 'mimicry', 'ballabh', 'veriphication', 'hackensack', 'aakaash', 'bona', 'clock', 'daphan', 'pegav', 'kahlaya', 'madheekhedha', 'teleebag', 'dhaarak', 'nikaalani', 'kanghe', 'prashnottari', 'kakinada', 'bhaagyoday', 'singer', 'machaye', 'lekhakganon', 'uchhalne', 'dharmarajne', 'ainjal', 'bantata', 'pharm', 'ravel', 'hanumangarh', 'veeraangnaaon', 'gaytri', 'venkatraman', 'dibnoo', 'purooshottamachaary', 'sanyojakon', 'jhaauganj', 'sarkaren', 'newtest', 'shrikar', 'mitaao', 'diyotsiddh', 'bhoopsingh', 'charchaaen', 'prasarakon', 'nishpaap', 'flin', 'ranneetibanaa', 'eeaarjee', 'dhaagaa', 'gomukh', 'jud', 'khanikarmi', 'sharabh', 'arellano', 'ukhadhakar', 'lenevali', 'kumar', 'singhde', 'toncil', 'davindarpal', 'singaar', 'khisakate', 'enid', 'megapixal', 'digvijay', 'fazalon', 'doge', 'labelon', 'munafa', 'badhane', 'very', 'saatsera', 'ortega', 'rowe', 'bhatia', 'raajsthanwasiyon', 'baagbageechon', 'wilkinson', 'daraati', 'atke', 'pramukhataapoorwak', 'yatna', 'nitin', 'city', 'radico', 'dukanon', 'jalsansadhan', 'masyendranath', 'behar', 'barsheey', 'avru', 'daw', 'naqab', 'saregama', 'hugli', 'satti', 'neg', 'mahabaleshwar', 'placentia', 'varsaache', 'kumau', 'emi', 'theatrs', 'erika', 'khinchakar', 'raubadar', 'alto', 'kavyavidhaaon', 'coon', 'akron', 'tahkhaana', 'samajjanon', 'machaaye', 'suryadev', 'prathamik', 'pravritriyon', 'taajaa', 'jivanshaili', 'raktdaataaon', 'baleshwar', 'bhautikwaadiyon', 'lagaateen', 'jhaiyaan', 'vanshvaad', 'navanagar', 'najarandaaz', 'anshaankan', 'funkane', 'matpatron', 'module', 'farms', 'pahunchogee', 'maidi', 'thief', 'pfaudler', 'amit', 'poorvabhadrapad', 'landara', 'gonpo', 'vesle', 'shaao', 'hamidan', 'weeks', 'mineral', 'centennial', 'bastiyo', 'bagbagichon', 'pranit', 'bhedabhaavon', 'karaahanaa', 'greenville', 'sherawat', 'ralaud', 'jatakon', 'rishte', 'bentonville', 'najibabaad', 'financiers', 'phatahee', 'kerala', 'ladaaiyon', 'harijan', 'whitaker', 'vidisha', 'paul', 'aryon', 'khilana', 'chhutane', 'dukhiyon', 'poorneshwari', 'visabal', 'daramyanee', 'yari', 'vidhamaan', 'yatraein', 'sunteck', 'gujarata', 'niyanta', 'dum', 'awasthi', 'plus', 'bhen', 'stops', 'dhakelte', 'kpo', 'damghontu', 'insano', 'merraige', 'asfalt', 'laundry', 'ratnaabhooshan', 'ski', 'dushwaariyon', 'anupryogon', 'deshseva', 'lela', 'jagaragallu', 'mejbani', 'dehri', 'chkkar', 'crawford', 'guduri', 'dvc', 'prakriyagat', 'nag', 'matsyavatar', 'scootaron', 'ardhavishvas', 'daramyaanee', 'survanaa', 'sthitiyan', 'dharmaanand', 'sofner', 'squash', 'vidhansabhaen', 'randolph', 'mezbaan', 'sprit', 'sheelabhang', 'kalmein', 'swarnikaa', 'mandi', 'arthawyavasthataaon', 'kundaliya', 'nimkathana', 'farm', 'hatyaaropit', 'putta', 'faurensis', 'purooshottamachary', 'bonds', 'shikaayatkartaa', 'cronfrencing', 'ubal', 'baabaao', 'halmatpura', 'haqeeqat', 'barman', 'vartmaan', 'baantin', 'achanbha', 'jiwanparyant', 'wadara', 'sadaqen', 'aisa', 'jyotishyshastron', 'pythagoras', 'engelin', 'kapolkalpana', 'dropadiyon', 'rozlyn', 'sriram', 'gopaalak', 'bangbandhu', 'mistriyan', 'usay', 'mercado', 'maisore', 'offshor', 'kapurthala', 'sahovaliya', 'maladahiya', 'hymen', 'indaurnagar', 'visheshagyataon', 'usaki', 'caplin', 'mahapran', 'rupesh', 'reno', 'sudeepton', 'swamy', 'amara', 'vyavasthaamoolak', 'sensing', 'tyler', 'sangareddi', 'pehno', 'mardani', 'bamleshwaree', 'deewani', 'fincorp', 'navaa', 'shimat', 'sohawal', 'banaam', 'prawrutriyon', 'xiong', 'varsted', 'raajon', 'cheekhana', 'naimul', 'badhotri', 'antony', 'chhanyasa', 'nirdeshikaa', 'niptaaraa', 'judne', 'sujhati', 'pathalogist', 'tide', 'shrungar', 'braandes', 'parmeshvarpur', 'jedateeisaaft', 'uddhaatan', 'stan', 'aadivaadiyon', 'julaahon', 'maharaja', 'gatishilata', 'shipra', 'tribunal', 'khyber', 'wanvibhag', 'ghataatop', 'dharmagranthon', 'prawrittiyon', 'gaanth', 'mysore', 'sehgal', 'namkin', 'vaidh', 'vanaspatiyaan', 'jiangkou', 'pakhandi', 'protekts', 'elbaino', 'linden', 'sohaval', 'bhurbhura', 'gastrology', 'widroop', 'sajsajja', 'raatrichar', 'rojana', 'jalbhrav', 'montgomery', 'sev', 'bhrastrachariyon', 'dwn', 'streshan', 'ganthe', 'gehlot', 'chhateni', 'vishwasniiya', 'jivaniyan', 'dastaanen', 'dhona', 'kharuwaar', 'suriname', 'mangalsinh', 'anyonyashritta', 'ninties', 'paancholaas', 'reson', 'vaataanukooliton', 'chatushkoniya', 'aamdi', 'dushtaapurvak', 'bechate', 'chuka', 'mizoram', 'torrance', 'anuchit', 'avarodhak', 'ross', 'achyut', 'oodhami', 'haraval', 'gould', 'daaw', 'srijanvigyanee', 'nextgen', 'rukavaton', 'bhavanaon', 'dehdhaari', 'parikhaen', 'utaney', 'sanskrition', 'prospex', 'naeedilli', 'saayn', 'geneva', 'rasad', 'baramula', 'vandemataram', 'safari', 'chamba', 'sawal', 'bannari', 'fatehpur', 'pehnate', 'spray', 'normal', 'allout', 'manassas', 'mantriyonke', 'karyakaryakartaon', 'phaadanhe', 'greg', 'baitool', 'kushan', 'subbanee', 'infibeam', 'khatakhataakar', 'chachaji', 'chandrabali', 'baripada', 'roohelkhand', 'ghairakaanoonee', 'aarekhah', 'pramukhkarmiyon', 'lee', 'thiyeters', 'assam', 'faanon', 'jyada', 'theateron', 'safaikarmi', 'bieseses', 'cronfrensing', 'jeevraaj', 'thirake', 'shaksubahey', 'paratrooper', 'dabhara', 'usi', 'nihsandeh', 'mahanatam', 'banthia', 'anam', 'kashmir', 'baavadee', 'bhutto', 'maarake', 'kaaryayojna', 'francisko', 'adani', 'dhuriyaa', 'mhavidya', 'megapixel', 'cryptocurrencyon', 'muth', 'authoritee', 'aparivartanshil', 'pradhanmantriki', 'aagaashe', 'navjaagaran', 'attraa', 'ubala', 'amanati', 'khammam', 'haaranaa', 'bhavabhivyaktiyon', 'pushkar', 'shaantiyon', 'nerolac', 'chauka', 'siddhalingaa', 'bharatnatyam', 'javabah', 'dushwariyon', 'manchiy', 'jiyo', 'sapramaan', 'sim', 'peeechdablyooseees', 'bahav', 'tik', 'agavai', 'higman', 'qiwi', 'agyat', 'agende', 'lynchburg', 'maangeena', 'khatakhataaegee', 'jodhikaa', 'srujanvigyaani', 'detasan', 'badalwa', 'urf', 'chhaapemaar', 'lux', 'bhopal', 'phalibhoot', 'paithelaujist', 'paryaptta', 'furti', 'mrutyuniwaarak', 'maruti', 'uthaakar', 'alo', 'pegaw', 'pilibhit', 'somi', 'sanchalnon', 'kanchipuram', 'daraatee', 'yaddasht', 'sabudana', 'welding', 'veronica', 'stimberwala', 'mayajaal', 'pes', 'atul', 'outomaitically', 'jaanchana', 'mithilanchal', 'phiksingah', 'sajetee', 'plano', 'visangatiyaa', 'khhomche', 'lagna', 'mukeshwari', 'tasvaaron', 'dev', 'vesh', 'jyothy', 'landal', 'viraangnaaon', 'yanit', 'purnia', 'chauk', 'ladeen', 'chest', 'kasega', 'abut', 'renuka', 'loowe', 'gulaabaag', 'lajjalu', 'sabhaar', 'gairarashtravaadee', 'dhaavakon', 'lim', 'vidhaaein', 'svayamsveekrat', 'electrotex', 'ramraj', 'janbhavna', 'yauniktaa', 'haathe', 'dune', 'protects', 'vareinye', 'mazboori', 'praveenchand', 'vaigyanik', 'torrent', 'aatmayen', 'samprati', 'matthe', 'savita', 'atlantic', 'jalgti', 'chacchaa', 'afreen', 'bazaru', 'chauki', 'pharse', 'tuning', 'nodaraanee', 'maum', 'vidhaanee', 'gujar', 'pakadkar', 'aankhen', 'aapka', 'warner', 'anvaharya', 'likhehain', 'paathyakram', 'shavkon', 'yarooshaleim', 'mandalaayukto', 'naino', 'jhaaiyaan', 'simferopol', 'dhamm', 'nikharegaa', 'ghumaan', 'hounga', 'dhakal', 'sagarika', 'bernard', 'yogabal', 'breweries', 'dish', 'aithan', 'vartamaan', 'tremasik', 'tasvire', 'vyvhargat', 'maratha', 'banvaa', 'svarnika', 'prasath', 'overall', 'purwafalguni', 'properphasebook', 'suven', 'sapate', 'jh', 'karghe', 'deshkaal', 'nathdwara', 'thanvi', 'oran', 'serrano', 'ear', 'submission', 'dharak', 'tadad', 'greenwood', 'haute', 'behuria', 'niyantaaon', 'churu', 'missouri', 'anyaya', 'generat', 'nyutest', 'garud', 'swaastikakaar', 'shaie', 'siddhantavaadiyon', 'anawashyak', 'seaten', 'gulshan', 'riya', 'firmian', 'tyre', 'chi', 'badlapur', 'yuddhanaukaa', 'nbcc', 'shreeganganagarvaasiyon', 'udaa', 'cambridge', 'airway', 'idol', 'calumet', 'aajmaanaa', 'tantrikao', 'jonesboro', 'buddhijeewon', 'klozup', 'nmdc', 'raashtrapit', 'kamarhati', 'asphault', 'fransisko', 'bhalla', 'maulvidon', 'narwar', 'lahlahati', 'byaawa', 'ghataaegi', 'naamajadagee', 'takah', 'sevagram', 'laamiyan', 'gin', 'swechha', 'antadiyaan', 'arya', 'polishing', 'jokhimabharaa', 'umadatee', 'tantra', 'samoa', 'csi', 'mandya', 'lawrie', 'pahante', 'ankor', 'nimnavat', 'rapping', 'roopesh', 'pratibaddhata', 'nadep', 'sailaaneepan', 'menrajya', 'daav', 'aaboorod', 'pathyakramon', 'nividaataaon', 'gandhipura', 'phwcs', 'narayangadh', 'jaylalita', 'susanskrut', 'masood', 'woonsocket', 'sanskrutiyan', 'urff', 'theratipally', 'pratinirdesh', 'ulhaaspur', 'pahanate', 'dhawakon', 'bhagedh', 'pransangali', 'jalvayu', 'bhijvaai', 'sayra', 'krendron', 'maujud', 'siddhaant', 'kamyuniketars', 'chidchidapan', 'muthoot', 'wiwekadhikaron', 'maloun', 'cincinnati', 'registan', 'parosne', 'vichaarakon', 'janbhawna', 'andaman', 'badyal', 'morepen', 'beard', 'nodarani', 'dikhayee', 'chink', 'wyakhyatmakta', 'shaishav', 'aainthoo', 'ahemdabadah', 'jaayke', 'cigniti', 'kurukshetra', 'pravritteeyon', 'charcha', 'lakshmeechandra', 'hammond', 'nibhaegi', 'dhunai', 'janbhaavna', 'cant', 'melaghaat', 'mue', 'shwing', 'dampatya', 'kpada', 'santati', 'maanavtarhit', 'anuprayogi', 'harvey', 'kaju', 'cerritos', 'texmaco', 'sanchar', 'tuth', 'lozano', 'ropaney', 'hollywood', 'chhinke', 'dhamma', 'technoplast', 'pujapath', 'chanan', 'shrankhalaaon', 'chhednaa', 'carbogen', 'vyavadhan', 'schultz', 'istrailiyon', 'squash', 'danville', 'prana', 'thaakurvaadee', 'prayogshaastra', 'wyakteeyon', 'metrologist', 'madhura', 'paliyon', 'denver', 'apj', 'beni', 'pratisthaan', 'bhrashtaachaariyon', 'lakeer', 'sudhaargrah', 'sandali', 'jagriti', 'talwar', 'janashiksha', 'tapuwo', 'bulletin', 'ballebaajee', 'maadheekhedhaa', 'arthshaastriyon', 'scaining', 'mehman', 'rahegi', 'jamshedpur', 'tyauharon', 'darshaana', 'beechbachaav', 'sulati', 'varshan', 'sudhaaratee', 'wasaamukt', 'patil', 'jewaab', 'soto', 'dhtuen', 'dose', 'bhaagadaud', 'pagabadha', 'arushi', 'agusta', 'titan', 'equities', 'airtel', 'alaps', 'naksali', 'achivement', 'galaega', 'foodon', 'rajnichi', 'arya', 'streamwood', 'ghot', 'music', 'purkayastha', 'nora', 'tonic', 'gujaarne', 'water', 'sunsaan', 'sirsa', 'tangirala', 'hanson', 'varun', 'dreijer', 'doudaate', 'sharabon', 'vyakteeyon', 'saatseraa', 'darjano', 'agniyaan', 'dhonaa', 'karyakartriyon', 'awasthaen', 'himamaanav', 'two', 'ail', 'bandhuon', 'shraddhavanon', 'mariyo', 'vyaghat', 'michael', 'adrgh', 'vitthal', 'prarup', 'dhoondhti', 'dubana', 'ladne', 'form', 'zuari', 'pariwarwale', 'peranormal', 'bhuvneshvaprasad', 'iris', 'pratigyapoorn', 'lebalon', 'shreekrushnan', 'snikarse', 'kain', 'bhooswaami', 'karta', 'anyay', 'nokari', 'precision', 'chrom', 'jue', 'bowling', 'taapti', 'catholicon', 'nazarandaz', 'mulchand', 'sweccha', 'nanyaulaa', 'ghontana', 'advaitwad', 'underwood', 'lubhaavna', 'petroselee', 'amdi', 'ropane', 'daisy', 'jababee', 'cup', 'phaade', 'ulahna', 'unnatiyon', 'molina', 'gaandchubhonachoosnachhote', 'han', 'pradarshan', 'sarjuga', 'bidar', 'amargad', 'juye', 'tonk', 'devaapur', 'intelligence', 'neetiyon', 'khanaudaa', 'porbandar', 'sim', 'lagnesh', 'gaayikao', 'prishthabhoomiyon', 'moolchand', 'silchar', 'margarita', 'udakishuganj', 'sirtee', 'yamala', 'prashikshu', 'sierra', 'aalhaa', 'peck', 'taskhir', 'daka', 'nominate', 'sapat', 'coimbatore', 'koraput', 'svayattshasan', 'vidyutikrit', 'kikiyaanaa', 'arunaai', 'rigal', 'diamond', 'mridubhaashee', 'walters', 'sutrapada', 'keeti', 'zilaadhikaari', 'mangesh', 'pension', 'laganewale', 'jilavasiyon', 'ploskee', 'eksath', 'sekhar', 'dow', 'ardhawishwaas', 'rajasthan', 'vikaskhand', 'samshayon', 'badhanaa', 'classon', 'ikhrul', 'furaame', 'ebaz', 'baataaya', 'jushantan', 'strong', 'rajnitikaron', 'panipat', 'blankaard', 'jhabua', 'jacinto', 'barahsinga', 'suchnah', 'electromagic', 'lalmani', 'bhaaulaal', 'kathua', 'palaari', 'amitao', 'tadanrustee', 'vaabastaa', 'vlad', 'slash', 'waterbury', 'selfie', 'luis', 'panchasootra', 'aryama', 'vaadak', 'junction', 'generic', 'jiya', 'aden', 'sophner', 'qwvga', 'dhvanimikon', 'feeds', 'sukadiyaal', 'angadh', 'bavji', 'chhodiye', 'cipla', 'vigyanon', 'dhasmaanaa', 'longewal', 'badam', 'atraikt', 'saraaha', 'nrityashaili', 'sanvari', 'yakshadhipati', 'arabpatiyon', 'mukaddamon', 'phode', 'sihunta', 'jeewan', 'dhoondhata', 'cruces', 'kaaryakartriyon', 'pratibaddhtaaen', 'dlw', 'plan', 'pailot', 'adhiwas', 'phainn', 'favvara', 'halchal', 'wishvaweer', 'crest', 'brahmleen', 'virechan', 'yaaddaashta', 'ujjain', 'sahyaatre', 'jimme', 'sarawagi', 'dekhiyegaa', 'wajood', 'kundal', 'ria', 'slider', 'management', 'karyakaaryakartaon', 'cristis', 'ruktey', 'distrabyuters', 'spell', 'damapar', 'thikane', 'interactuality', 'cdyaan', 'south', 'aapkaa', 'nahinkarwaaee', 'jaagriti', 'choodhe', 'thirty', 'nadsa', 'gsm', 'gujarat', 'darshnarthee', 'nabha', 'dhokebaaj', 'lega', 'beeaaeeaaeeteeem', 'somwaar', 'wanon', 'audhyogikaran', 'agrahari', 'aafa', 'teemaardaron', 'misra', 'cerebra', 'naagrik', 'dastaar', 'makarh', 'gtor', 'ballistic', 'chadhegaa', 'maange', 'nilabh', 'mensharaab', 'singhade', 'hisaarah', 'ramkot', 'baithate', 'taskheer', 'ishaara', 'solapur', 'mejbaani', 'florence', 'paraamarshak', 'jhaadane', 'theaters', 'aadaan', 'ambience', 'surakshaah', 'hikaarico', 'baanyaa', 'rookvaai', 'mitravat', 'bokaro', 'maurya', 'pratinidhikaaree', 'chandramaon', 'parosane', 'dhaiya', 'spirits', 'leandro', 'sean', 'swarthparak', 'chuchiyaan', 'mahamidiya', 'poorwajanmon', 'shohadapantee', 'kushaan', 'jamloki', 'everest', 'taswaaron', 'advivas', 'premlata', 'murrieta', 'vaimanasya', 'kelly', 'tinplate', 'vaan', 'mahamantr', 'mezbaan', 'shumali', 'fulaaye', 'pruitt', 'rojvelt', 'prashasanik', 'ulazaanon', 'patrakaarvarta', 'duar', 'kathfodave', 'bipin', 'offerh', 'isayiyon', 'propellent', 'kansai', 'sikhin', 'cdcl', 'abbott', 'katlari', 'aadiwadiyon', 'chitrakathaa', 'avshisht', 'phyuchuristic', 'tereeh', 'nanhe', 'avery', 'suba', 'shakhayen', 'trikaldarshee', 'paalasaahee', 'failaiye', 'jhauvaa', 'jamati', 'janhani', 'ponding', 'taswaron', 'deshkal', 'hichkichaa', 'basteeh', 'garibi', 'phadphadaaen', 'sitaram', 'kmere', 'bairakpur', 'svayamswikrat', 'kaasovo', 'majboori', 'convocation', 'skipper', 'jaipur', 'prasthaanon', 'narm', 'radiopremi', 'titagarh', 'chico', 'rajyamantreesvatantra', 'mainval', 'gujarana', 'satluj', 'jatiyon', 'anhoni', 'telelinks', 'labs', 'harawal', 'marriage', 'maniya', 'tractors', 'kanchan', 'lairi', 'kaaryaawadhi', 'jalbharav', 'bhaadaa', 'baagora', 'piega', 'stephens', 'abhimat', 'accelya', 'wirerless', 'chauda', 'parbhani', 'khaatedar', 'badhna', 'burch', 'upadrawon', 'tikiyon', 'milk', 'dubona', 'baker', 'sutali', 'buddharam', 'wealth', 'patrani', 'ardhavishwaas', 'paim', 'castaneda', 'baljit', 'bhatnagar', 'jaatakon', 'ecuador', 'swargdoot', 'rushikul', 'tate', 'kanthhar', 'beaulad', 'europea', 'gaye', 'dadreva', 'bikherane', 'hamlo', 'pakdaae', 'uplabdhiyon', 'colorado', 'packard', 'jagruti', 'andhra', 'chounkate', 'bekhvaabiyaan', 'naphaa', 'sinha', 'utpidan', 'saga', 'aarya', 'dikhaaiye', 'anishtata', 'udan', 'sanyuktawastha', 'shamtal', 'evava', 'adhiwaktaagan', 'ralhan', 'jhuthalane', 'purvaabhaas', 'bijendrasinh', 'chinmani', 'loksbhavaali', 'ladki', 'narsinghgarh', 'sanghathanamantriyon', 'roopi', 'karykartaon', 'augusta', 'manmarji', 'antrmukh', 'anumar', 'rishtanaataa', 'dviarthi', 'chootile', 'hattiesburg', 'yoojee', 'raaj', 'raigulization', 'vindhya', 'fixingah', 'kamjor', 'bhara', 'chaudhavan', 'falne', 'shrunkhla', 'vipannta', 'proofread', 'zamana', 'ghataaegee', 'danga', 'erica', 'bhola', 'vyakhyatmakta', 'yojnah', 'webuniyadee', 'rumani', 'sahu', 'pradhaannagar', 'seattle', 'stain', 'insaani', 'hamla', 'nutrio', 'ladadd', 'antadiyan', 'kushwaha', 'kochchih', 'ganapathy', 'farmic', 'padengee', 'arth', 'mukarrar', 'niptakar', 'holidays', 'cooch', 'utthak', 'sulkhan', 'kamere', 'jagayega', 'santree', 'shakhsiyaten', 'panchang', 'zalana', 'nitya', 'ichchhee', 'habra', 'paaliyon', 'azoospermia', 'taavij', 'foodworks', 'graham', 'prabhaanmantree', 'seth', 'jagtap', 'harshit', 'dubna', 'raktadataon', 'mexico', 'tasir', 'eyarkandishnar', 'eddi', 'macon', 'israni', 'ainth', 'shreemahapurn', 'dork', 'jeenon', 'ghareebon', 'taraashakar', 'observer', 'aarya', 'ukhad', 'saathsaath', 'packagon', 'hindon', 'aprihary', 'manzil', 'lx', 'karvi', 'dubhashiyon', 'rikannekting', 'wind', 'client', 'shararat', 'ventura', 'rollins', 'haynes', 'niketan', 'krantiyon', 'twin', 'divya', 'gidgidate', 'nigmaayukt', 'gabalee', 'novato', 'rishwatkhor', 'faansi', 'garjana', 'nihlani', 'pintaa', 'greer', 'lewisville', 'prakaashit', 'clariant', 'khaayal', 'dwiarthi', 'raakhe', 'bulandshahr', 'stafford', 'najariyon', 'world', 'jeevniyaan', 'parmeshwarpur', 'uthanee', 'nyootriyo', 'jetha', 'baagbagichon', 'suchikitsaa', 'nagmandal', 'pradadhikariyon', 'urvarta', 'neal', 'kriptocurrencyon', 'svaayattshaasan', 'zarda', 'uplakshya', 'chhudwaya', 'vidagdhaa', 'mukhyamantripatana', 'gene', 'ratanpur', 'mhantam', 'guna', 'mtech', 'denevali', 'naabhikund', 'visheshanon', 'langaron', 'polythenon', 'sambit', 'dhundh', 'haan', 'takra', 'dhandhekhori', 'pulinde', 'epoklips', 'vigyaanapeediyaa', 'mahoney', 'poonjitantra', 'khare', 'ekstactor', 'zunheboto', 'priyamani', 'sawaal', 'sukhakar', 'aalochak', 'phaans', 'jayalalitaa', 'amjhera', 'bombay', 'vyagra', 'apnani', 'risane', 'chhure', 'charlotte', 'jose', 'raileeh', 'mejbaan', 'dhandhanya', 'dabur', 'bsss', 'najib', 'avsthayen', 'jabalpur', 'dharmanirpekshtaake', 'farmer', 'nacl', 'somerville', 'bull', 'jhulae', 'khagyaar', 'meharaam', 'dhasmana', 'ripan', 'bhagdaud', 'mithya', 'lalaaniyaa', 'bhulon', 'vadali', 'nagappattinam', 'vaimanya', 'biggest', 'jodta', 'mahattaron', 'orchha', 'dhairyavaan', 'sund', 'prince', 'zuban', 'camstudio', 'yooropiyaa', 'meza', 'bhusawal', 'gayatri', 'ware', 'buddhizeevon', 'enth', 'radar', 'ilayachi', 'ubaal', 'shreeganganagarwaasiyon', 'fitzgerald', 'jeevanshaili', 'chart', 'sargi', 'vedon', 'murmur', 'bhaate', 'wipkha', 'bayaane', 'madanaganja', 'packageon', 'varnankartaaon', 'jyada', 'lokotsaw', 'tewree', 'jhaugunj', 'malwan', 'tadanrusti', 'el', 'qabzaa', 'susanskrit', 'sandhol', 'aamariyapadha', 'haabban', 'bowling', 'rasme', 'emdablyupiel', 'vidhaaon', 'bowie', 'chennai', 'kamaljeet', 'singha', 'pensiondhariyon', 'barah', 'dubana', 'esetal', 'chouhan', 'phalne', 'siddhaarthah', 'apex', 'dalton', 'shrikhand', 'textiles', 'agarwal', 'mithyaachariyon', 'cement', 'kraanfrensing', 'sanskrutiyon', 'dhankkar', 'nizamabad', 'chhatenee', 'dushkriyaa', 'sasaram', 'chidhte', 'lamba', 'lautis', 'khaen', 'dhndhe', 'antayant', 'mass', 'baraamad', 'kremistry', 'uthanevale', 'lehna', 'siragitti', 'control', 'andaajee', 'cateline', 'pakshpat', 'fodo', 'franciska', 'prayogaprushth', 'krantidhara', 'daishwala', 'khurasan', 'quarantine', 'fond', 'pakshapat', 'putla', 'truth', 'sathsath', 'mohim', 'johnson', 'cpm', 'bataaya', 'palmer', 'tughlaqabad', 'apcotex', 'hairam', 'sarebajar', 'jerusalem', 'mold', 'warnankartaaon', 'hooper', 'waters', 'lubhaate', 'fefda', 'kamottejna', 'dampati', 'soya', 'barbartapurna', 'tadipar', 'lutf', 'tariko', 'chataa', 'pittman', 'pahla', 'multimedia', 'tyohaar', 'label', 'le', 'tirthatan', 'satuaa', 'vargas', 'dabolim', 'soochnaah', 'labelling', 'roseville', 'phaaeebrets', 'aalto', 'partanee', 'asmitaon', 'want', 'tadpatee', 'patel', 'kaaji', 'dostanapurna', 'kshetron', 'lynch', 'state', 'ragon', 'malhotra', 'pragyatantra', 'duneerti', 'crosse', 'avyavasayi', 'dhiryawaan', 'time', 'ashariri', 'chandradas', 'jyotishi', 'alexandria', 'bewakoofaanaa', 'sirpur', 'uzbek', 'kharuvaar', 'dharmaviheenataa', 'surendranagar', 'aalha', 'arunachal', 'krueger', 'bagli', 'davindarpaal', 'chaplusi', 'sanskariyon', 'engines', 'mendez', 'siyah', 'gujaarane', 'gajara', 'kavi', 'midnapore', 'vrutton', 'sirmon', 'vartman', 'ubhrega', 'pilot', 'narbhakshi', 'entreeks', 'dayton', 'badoo', 'allrounder', 'nishra', 'wadhawan', 'jensen', 'pali', 'trimasik', 'attraikt', 'vavidyaalaya', 'chandan', 'mega', 'mansfield', 'mattancheri', 'navketan', 'kamtar', 'pityooniya', 'purooshottampur', 'tapan', 'jubaan', 'enseeaardablyoosee', 'haimbalin', 'aaraam', 'yashpal', 'wokha', 'chhetri', 'omaxe', 'parween', 'kukreja', 'premphalah', 'narmi', 'shrinkhalaon', 'avrodhak', 'teeron', 'ganesha', 'jhada', 'anupama', 'talabgaar', 'bindal', 'zavala', 'aamriyapada', 'pratinidhikaree', 'halmatpuraa', 'boodam', 'macias', 'medical', 'respecting', 'ranjkta', 'da', 'suction', 'bhumi', 'tyoharon', 'rangate', 'uttra', 'penshandhaariyon', 'karykartaaon', 'vidyaaon', 'dafan', 'sarhind', 'khaaskar', 'raith', 'gudagaunw', 'sahab', 'udaanon', 'majesco', 'pushpa', 'keshari', 'bombi', 'kargil', 'takara', 'biji', 'chrome', 'stithi', 'gulf', 'kaaloniwaasiyon', 'aavritiyon', 'suhanubhooti', 'chamach', 'virodhabhasi', 'saabhaar', 'allcargo', 'harana', 'avyavasayee', 'pravinses', 'chhetthari', 'pratishthi', 'sapa', 'patki', 'parchiyon', 'prativad', 'liphaaphaa', 'darshana', 'garrison', 'aakandon', 'dhandon', 'distreebyootaree', 'khatri', 'panjika', 'baatah', 'ravaley', 'kangan', 'premaatmak', 'sipahi', 'notebandishuda', 'devlaha', 'halla', 'jhamaaten', 'massey', 'usak', 'pitamah', 'vivaranahbhaarateey', 'nagercoil', 'lakhkhi', 'achhi', 'satin', 'nagpur', 'basirhat', 'chhelai', 'ubarkar', 'sanyuktavastha', 'suri', 'bhapaai', 'vyaktigat', 'mhathir', 'flesh', 'rashtrak', 'raajbhaaee', 'hong', 'langron', 'subhaay', 'fund', 'flowers', 'uthane', 'badaa', 'mishra', 'shat', 'manhattan', 'sarguja', 'evening', 'grahankaal', 'bagali', 'neeoo', 'mundwa', 'tolasan', 'jedateeisaft', 'naagmandal', 'kanaal', 'machilipatnam', 'felix', 'hastaksharon', 'bhilai', 'contracting', 'qraar', 'jaun', 'bhaloo', 'fortis', 'girijagharon', 'jainon', 'arthavyavasthaah', 'oxys', 'khitabon', 'enka', 'chashma', 'batao', 'ghrutakumaaree', 'pratestent', 'bauer', 'lakshmidhar', 'siyasi', 'upyogitawadiyon', 'toogaa', 'samadjiyon', 'khurpaka', 'kumavat', 'mwp', 'suraj', 'neuroscientists', 'chandreshwaranagar', 'tanish', 'farukhnagar', 'awaazon', 'najraane', 'pashuchaaraa', 'webuniyadi', 'danbury', 'naidillee', 'chhalla', 'rowan', 'sheopur', 'rawlani', 'sanvaree', 'dhaak', 'masse', 'insurance', 'samprbhuta', 'raashtraa', 'jauhari', 'judai', 'badamaashon', 'khitaabon', 'swayam', 'aagah', 'dhindhwal', 'ghise', 'sappaanwaalee', 'nikharen', 'baadhit', 'brahmapur', 'baytown', 'koling', 'samadhiyon', 'yooniyanwaadi', 'chhapemar', 'gareebon', 'thousand', 'dasila', 'kanjentevaaitis', 'badhaon', 'lagega', 'durghatna', 'nitiyon', 'capdhari', 'atri', 'singam', 'vastvik', 'substensis', 'peelepan', 'uthnee', 'handiyaa', 'pratirakshi', 'lalkarta', 'dukaanon', 'nividaataon', 'sarvjaateeya', 'narsanharon', 'neemkathana', 'herrera', 'junun', 'ikai', 'jagdalpur', 'swiftlet', 'jalagati', 'pitts', 'ropi', 'adanga', 'alasi', 'chaukiyan', 'layton', 'vakrangee', 'development', 'shawnee', 'pardesiyon', 'bhoogol', 'bagichi', 'sivan', 'stray', 'aalsi', 'view', 'vishhin', 'kissagoi', 'mahanideshak', 'chikitsaevam', 'bhattacharya', 'trenton', 'kanyaein', 'priyadarshini', 'hukhookh', 'shulkah', 'rane', 'mahavidya', 'sanshyon', 'shreneeh', 'odom', 'benitez', 'tyohar', 'matiyaanaa', 'shavyaatra', 'rishtey', 'rehaana', 'qss', 'anaavashyak', 'rijhaayaa', 'brigade', 'sapane', 'chuneen', 'koshadhikaari', 'karab', 'paltane', 'karneshwardham', 'aaryanas', 'pratishthanon', 'karaikal', 'uski', 'vipreetataa', 'parikshao', 'fyuji', 'laaminaar', 'jutati', 'kaushik', 'bekaaboo', 'nano', 'orissa', 'tomar', 'ropee', 'thappadhabaajhee', 'baabat', 'attahasa', 'colan', 'pratileetar', 'bhusi', 'haliyaa', 'utpeedan', 'pope', 'karkhele', 'bahulya', 'aswbhavik', 'kathhnaeeyon', 'ramjeelaal', 'vasulta', 'mukhyamantri', 'maria', 'satmev', 'baksa', 'udar', 'man', 'buddhijivon', 'sudip', 'jodo', 'tasdeek', 'nikaalni', 'bhatkaanaa', 'harna', 'dillon', 'registerd', 'bhandara', 'lalaniya', 'lima', 'lalkrishna', 'ratnabhooshan', 'sparivar', 'sah', 'sametti', 'pyria', 'maamalonmen', 'braat', 'vaiisan', 'villa', 'linda', 'khariya', 'chellani', 'electronics', 'rishiraj', 'udaipur', 'pagla', 'ritukaant', 'kurmi', 'dastaanaa', 'emrald', 'ghumaaee', 'updraviyon', 'oklahoma', 'dharmaraajne', 'jhaohuee', 'uppidan', 'khemik', 'tugalki', 'duar', 'avi', 'jadet', 'taiboo', 'programmers', 'taylorsville', 'chadron', 'racer', 'bhakaa', 'andhabhakto', 'obrayan', 'krutya', 'peeran', 'najriyon', 'mayur', 'chaudhawan', 'swargadoot', 'feka', 'independet', 'tinkaa', 'gurdon', 'jaatiyon', 'samanwayaka', 'sube', 'chandana', 'praarambhikataa', 'trap', 'udant', 'dynamatic', 'vidyuteekrit', 'lalaniyaa', 'wadaraa', 'ved', 'fadfadaen', 'traded', 'akhuaapaadaa', 'saraha', 'vigyaanvaadiyon', 'kamzor', 'youngstown', 'aaryam', 'patkathaein', 'bajpai', 'jassee', 'nau', 'evav', 'lagataar', 'suman', 'padanee', 'mindtree', 'distributary', 'jankaron', 'shankacharaachaarya', 'offshore', 'dukhon', 'nesco', 'phooltee', 'tools', 'verger', 'dumghontu', 'videoh', 'rajman', 'aatmamugdh', 'rockford', 'mitra', 'devnaar', 'ocoee', 'uttariya', 'kainawij', 'galaxion', 'jivaniya', 'hakikat', 'eliminator', 'augustine', 'kar', 'bitane', 'daftarwale', 'bairaadh', 'kambalon', 'jwar', 'fatama', 'vives', 'dwt', 'dhaatuein', 'siyaha', 'pitne', 'bichchon', 'jita', 'sevala', 'bataur', 'aditya', 'kshetren', 'ankeny', 'chheter', 'mukarte', 'enthe', 'balty', 'khangaali', 'beeeseses', 'banjajasam', 'pushpit', 'linmarga', 'pereddy', 'bodara', 'focus', 'dootaay', 'sreeleathers', 'mahankmadaan', 'ghunsa', 'kaavyavidhaaon', 'kshatriyaadi', 'jaankaaron', 'rakhna', 'rishtedaaro', 'shravani', 'kubuddeen', 'jewellers', 'mehaman', 'rojlin', 'jaikara', 'chabutre', 'haradil', 'truck', 'neurovascular', 'khelaane', 'stration', 'lakshayatirth', 'nations', 'paathshaalaayein', 'nivedanah', 'lidaron', 'tanla', 'sevakon', 'poorvapekshaon', 'mani', 'somvar', 'pran', 'avegyanik', 'aviation', 'brown', 'naakaam', 'adhivas', 'janjagran', 'rajnandgaon', 'larry', 'bhalu', 'tareeko', 'chicopee', 'refractories', 'baramad', 'kav', 'emerald', 'vivekaadheen', 'fadfadaaen', 'kaylana', 'paints', 'pittsburgh', 'hokhat', 'chaurasiya', 'sacchidanand', 'seide', 'charon', 'rizvi', 'clay', 'danpati', 'doorgadh', 'devapur', 'manwaayaa', 'latakkar', 'mehmaan', 'niya', 'udhampur', 'ataher', 'chhupata', 'tungnath', 'raghupati', 'prakandh', 'changed', 'gangtok', 'cricket', 'francisco', 'bhagane', 'adangaa', 'fixingh', 'kamau', 'tikone', 'pam', 'tarikon', 'aagaman', 'kidwai', 'aashriton', 'raghavan', 'janeudhari', 'davenport', 'preranaapuree', 'mahasinh', 'lordaa', 'introduction', 'swabhavatah', 'grishmotsav', 'talaashegaa', 'saharsa', 'mckay', 'moshe', 'granthiyan', 'lohaati', 'aliance', 'tagde', 'chinke', 'siwan', 'thaki', 'letakar', 'hikariko', 'tyres', 'nrutyon', 'deerfield', 'charit', 'bethlehem', 'fineotex', 'asahi', 'pehan', 'dhanshyaam', 'faarensis', 'lahanaa', 'dwarikesh', 'dubaana', 'karaboriyon', 'golamuree', 'raakhnau', 'vipanak', 'punchang', 'breed', 'gullaravaalaa', 'awp', 'baji', 'harpaal', 'premeshwar', 'prapt', 'naksalwaad', 'kanthahar', 'oxide', 'khairati', 'deshke', 'sunaseer', 'aphasaron', 'seho', 'chabate', 'miti', 'belcha', 'saflata', 'shbana', 'khaatootolaa', 'shivastava', 'preranapuree']\n",
            "['थरमैक्स', 'सिखाएगा', 'लर्न', 'ट्विटर्स', 'तिरुनेलवेली', 'इंडिपेंडेंस', 'स्पेशियों', 'शुरूः', 'कोल्हापुर', 'अजहर', 'क़रार', 'अंक', 'डब्ल्यूपीडी', 'हाशिए', 'ग्लेंडल', 'उधेड़', 'इकठ्ठी', 'आईडिया', 'अम्बिकापुर', 'माकेरेरे', 'साबूदाने', 'फूहड़ता', 'सेक्वेंट', 'शुऐब', 'पानीहाटी', 'समेटती', 'उखरुल', 'ब्रह्मलीन', 'उतराधिकारी', 'इक़बाल', 'दयालपुरा', 'सोहराई', 'तक़रीबन', 'फर्रूखनगर', 'ठेंगा', 'त्यौहारों', 'कर्णेश्वरधाम', 'उमानाथ', 'दानशील', 'साहित्योत्सव', 'शांतिनिकेतन', 'शिकायतकर्ता', 'अंदरखाने', 'पंटर', 'लीडरों', 'गलगंड', 'कार्नियां', 'मुर्गीपालन', 'मुशाहिद', 'मॉड्यूल्स', 'रजौरी', 'सुश्रुषा', 'शृंगार', 'होल्ट', 'लैंगिकता', 'इजाजत', 'वनक्षेत्र', 'भूतल', 'स्वादप्रेमियों', 'नाइनटीज', 'फ्रेक्टर', 'लिखकर', 'एयरकंडीशनर', 'नब्ज़', 'कुएस', 'बौनी', 'कारगुजारियां', 'गांगनाम', 'तापीया', 'तेज़पुर', 'तलवे', 'सीमाई', 'दर्शनार्थी', 'रिवास', 'तर्कवाद', 'अनुसारका', 'कोचेला', 'लटककर', 'पत्रावलियां', 'परिषद', 'स्पिन्ज', 'अनशिदा', 'डिजीसस', 'सरायमोहिउद्दीनपुर', 'लॉवेल', 'कैपेसिटर', 'पैसेंजरजींद', 'ग्रंथियों', 'बुएना', 'कैंटरबरी', 'काठियावड़ी', 'टेकचंदानी', 'फ़ीसद', 'बेरहरमी', 'निष्कर्षः', 'ऐक्टिविटीज', 'रिकैलीब्रेशन', 'शासनाधिकारियों', 'फिजूलखर्ची', 'डब्ल्यूपीडी', 'पेस', 'दस्तार', 'कैटलिन', 'जोड़ता', 'किल्लत', 'गृहनगर', 'वंडर', 'वाटर', 'श्विंग', 'पश्तून', 'फार्म', 'डिबनू', 'पश्चमी', 'उठापटक', 'नीलाभ', 'लक्ष्मीनियां', 'महानगरवासियों', 'उपनेता', 'कन्वेंशन', 'शाॅर्प', 'कार्ययोजना', 'मास', 'वेस्टिंग', 'कुर्वेती', 'ज़यादा', 'मुकेश्वरी', 'श्रीमति', 'विवेकाधिकारों', 'लोकसभावाली', 'कबहा', 'भ्रांतियों', 'विवेकहीन', 'बाल्मीकि', 'हरयाणा', 'जीवराज', 'फ्लिन', 'राणा', 'विष्णुपुरा', 'घोटालेबाजों', 'हैरतअंगेज़', 'तकलीफ़देह', 'पीपाड़', 'धभाशारा', 'अंतडियां', 'राबिन', 'सिंगार', 'गुमशुदगी', 'बालकृष्ण', 'फब्ती', 'पलटने', 'लहलहाती', 'नगाड़ा', 'उड़ानें', 'क्लेन', 'जूलूस', 'कार्यभार', 'मंटो', 'पैमाइश', 'कोविना', 'पेंषन', 'ऑगस्टावेस्टलैंड', 'सैंट्रींग', 'ऐक्टिवा', 'बार्कर', 'वल्कन', 'वृत्तों', 'कबड्डी', 'रौनक़', 'कैटलिन', 'फूस', 'जनगणना', 'उपाख्यानों', 'सुंदरम', 'कोचीन', 'नेको', 'कौशल', 'फालिया', 'एस्वेडो', 'कोट्टयम', 'दिलाएगा', 'कर्वी', 'सौंपेंगी', 'लेख़न', 'गुडेपु', 'फरसे', 'नूबिया', 'ताजा', 'आंत्रित', 'काजी', 'मुर्गीपालन', 'एड्डी', 'नगीने', 'सुब्हा', 'लुइस', 'विजयापुरम', 'बताअाे', 'ओकोआ', 'साइंस', 'सरकारें', 'ब्रेमटन', 'गुरुपदो', 'संयुक्त', 'रालोद', 'बाधाओं', 'गौमूत्र', 'सभाएं', 'तनी', 'दिल्ली', 'सुजेन', 'विनीत', 'चिमाते', 'किकियाना', 'रॊकेट', 'मैक्सवेल', 'हिप्पो', 'दीपन', 'अर्यमा', 'भूलता', 'कर्माचारी', 'दुर्गापुर', 'त्रिभाषा', 'सूदखोरों', 'प्रस्तावों', 'सुरवीन', 'प्राप्ती', 'गिरिवासियों', 'सिडयूसिंग', 'वेलवेट', 'मुक़र्रर', 'बैक्सटर', 'डेनिअर', 'सीडब्ल्यू', 'उठनी', 'घासी', 'इकट्ठा', 'भूपसिंह', 'दबोचने', 'क्रॉस्बी', 'नामीगिरामी', 'हर्ले', 'जर्दा', 'लिएप्रधानमंत्री', 'भ्रांति', 'ऐजेंसियों', 'बागो', 'फारसी', 'बोसान', 'कार्की', 'गिनते', 'मनोकामनाओं', 'संम्पत्तियां', 'पॉलिथीनों', 'एमटेक', 'परिचर', 'बडबडी', 'क्रेन', 'लामियां', 'उल्हासनगर', 'प्रभानमंत्री', 'शिवालापुरवा', 'फर्थ', 'सुहागिन', 'सरायकेला', 'रोमियोविल', 'राजस्थानवासियों', 'प्रतिरोधात्मक', 'स्वर्णिका', 'व्यवस्थापना', 'तेल', 'ग़लतफ़हमी', 'टेकइनसाइडर', 'माइक्रोफाइबर', 'श्रीमहापूर्ण', 'फ़ल्लूजा', 'डोनल्डसन', 'चढ़ने', 'जीवविज्ञानियों', 'क्रिकेटिंग', 'रिडक्शन', 'आवाज़ें', 'व्लाद', 'प्राथमिक', 'ठेंगा', 'एक्सेल', 'चटकाते', 'कुबुद्दीन', 'ताजा', 'पड़नी', 'नीचाई', 'वौसौ', 'आलोचकों', 'ज़लज़ले', 'सूरत', 'जीवति', 'प्रहारक', 'श्रीसद्गुरु', 'संचालनों', 'भाल', 'तुगलक', 'उठापटक', 'हस्तांतरणीय', 'उत्साहवर्द्धन', 'संगोष्ट्री', 'शासनाधिकारियों', 'महाधिपतियों', 'फातिमा', 'फोड़े', 'कंटिन्यू', 'कामानाएं', 'चुटीले', 'संख्याएं', 'करंज', 'बरसाता', 'परिकल्पित', 'हरपाल', 'माऊंट', 'ग्रोवर', 'बायोलॉजिस्', 'हालिशहर', 'एंजेलो', 'जनेऊधारी', 'बीचबचाव', 'पोकर', 'अपवर्तित', 'आस्तीन', 'प्रतिष्ठावाले', 'ब्युनावेंचुरा', 'डेक्कन', 'सेरिव', 'पर्दा', 'एमिल', 'शैली', 'ईस्टवेल', 'छल्ला', 'लक्ष्यों', 'हॉफ', 'जरूरीः', 'रह्या', 'महकने', 'देवी', 'नील्सन', 'भीरा', 'चबूतरे', 'भूषण', 'रुकते', 'आमदनी', 'टॉकशो', 'जूनागढ़', 'पढ़ाता', 'ओढ़कर', 'ब्रोक', 'तलाशा', 'परिवारवाले', 'ट्रिब्यूनल', 'ब्रोक', 'यल्लाप्पा', 'तस्वारों', 'तुगलकी', 'पिक', 'सर्किलेशन', 'ज्वार', 'कनिंघम', 'कुश', 'प्रॉपरफेसबुक', 'अशरफी', 'चढ़ें', 'वांगचुक', 'हनीवेल', 'रेडियमधर्मी', 'लड़ेगे', 'सचन', 'अर्थशास्त्रीयों', 'कैंटन', 'आत्ममुग्ध', 'पॉन्टिएक', 'लोपेज़', 'घोंटना', 'अम्बानी', 'मर्यादाओं', 'रतलाम', 'हरक्यूलिस', 'अकोला', 'सक्शन', 'नोटबंदीशुदा', 'लगवाती', 'अलाइव', 'जीवंत', 'फोड़ा', 'फटही', 'नूबिया', 'लालमणी', 'फ़ैसला', 'कृत्या', 'धुआं', 'आहूजा', 'प्रतिपालपुर', 'नमकीन', 'मंजिलें', 'लफ्फाजी', 'जुराब', 'फुलाए', 'केस्टालॉय', 'ब्लैक', 'सूरज', 'ब्रॉन्च', 'अवर्णता', 'जोहरी', 'तेवरी', 'सेंडर्स', 'वेल्डर', 'एनईयू', 'भरष्टाचारियों', 'लालमणी', 'खातेदार', 'आजमाना', 'आवृत्तियों', 'कुल्लवी', 'बहावलपुर', 'प्राथमिकता', 'मोबाइल', 'कटिहार', 'स्वेच्छा', 'हामिदन', 'समदर्शिनी', 'दृढ़', 'गोंद', 'विशेश', 'काबिलेगौर', 'लौरेंस', 'हिशाम', 'चौसिंगा', 'पफिन', 'मेट', 'बिल्डकॉन', 'टीकों', 'अथक', 'जिदंगी', 'चायल', 'माप', 'लास्ट', 'गजरा', 'रात्रिचर', 'काथला', 'सहूलियत', 'पटनायक', 'न्यायालयीन', 'मुख्यमंत्रियाें', 'जीतनेवालों', 'स्वफ़ोटो', 'क्लिफ्टन', 'डोडा', 'पेंडुलम', 'चिपकने', 'नलकसा', 'छह', 'गोंड', 'समीक्षाकर्ता', 'मंत्रीपद', 'लिब्रेशन', 'असमान्य', 'चुंगियों', 'एरिका', 'बेलोट', 'थींं', 'फार्मिक', 'युद्धक', 'वेगास', 'लास्ट', 'चित्रांशी', 'अवर्णता', 'वेस्टिंग', 'वितर्क', 'मुकबाले', 'धर्मपूर्वी', 'अंबानी', 'इबीजा', 'महामीडिया', 'सुज़लोन', 'वर्णित', 'झुठलाने', 'मदुरई', 'कौण्डल', 'लापत्ता', 'क्षीण', 'तेवरी', 'रायचूर', 'लिंडन', 'पुलमा', 'ऑलराउंडर', 'ग़रीबों', 'कालाहान', 'वाबाग', 'कैपधारी', 'आटा', 'बरेली', 'जिंग', 'जीवन', 'रेड्डी', 'पहनी', 'तनु', 'दीपिका', 'लोहाती', 'कक्कड़', 'मौलवियों', 'डूंगरपुर', 'झालाना', 'लक्मे', 'प्रोस्पैक्ट्स', 'वेस्टिंगहाउस', 'बावरा', 'ठक्कर', 'इच्छाचारी', 'त्रिया', 'धावकों', 'दामले', 'श्रवणाबेलागोला', 'नीलकमल', 'कर्माचारी', 'पूर्वाेत्तर', 'लहराई', 'हैतो', 'प्रकाण्ड़', 'खेलमंत्री', 'भविष्य', 'एगमोर', 'शृंगार', 'सौंपेंगी', 'नॉक्सविल', 'बेंडर', 'सुंदरम', 'प्रदेश', 'संवेदीकरण', 'लगुना', 'भीष्म', 'येम्मिगनुर', 'हुहतमाकी', 'वडाली', 'गेल', 'रेस', 'सालाज़र', 'डिप्थीरिया', 'दृढ़', 'शदधि', 'प्रबोधिनी', 'लोकप्रतिनिधियों', 'जताती', 'मंगला', 'बर्विन', 'मम', 'उदयगढ़ी', 'अकापुल्को', 'वैधृति', 'चरणबद्घ', 'मनदड़ी', 'यूक्लिड', 'पारंपरिकता', 'हांफते', 'साथिया', 'संघीयता', 'मुख्यअतिथियों', 'व्यवस्थाविरोधी', 'रक्तदाताओं', 'बरामदे', 'तरुतल', 'कुत्ता', 'झाड़ा', 'किशुन', 'स्कैफ़लर', 'अमरोही', 'रैडिकल', 'जेनर', 'वर्षिय', 'हसीनों', 'शावकों', 'रूपा', 'स्वार्थपरक', 'वेरोनिका', 'वेब', 'महापात्रा', 'छींके', 'अग्र', 'जियांगकोऊ', 'वेस्टवर्क', 'जनगणना', 'पास्को', 'जाधव', 'एंटरप्राइज', 'संशयों', 'वर्णव्यवस्थावादियों', 'उपस्थियों', 'मुडिचु', 'पर्नस्टारों', 'ईए', 'बैला', 'लिवाल', 'हिल्सबोरो', 'राष्ट्रियाध्यक्ष', 'पीडब्ल्यूटी', 'थाउजेंड', 'शाकिर', 'सलाहकार', 'विश्वकर्मा', 'रिज', 'स्वास्थ्यहीनता', 'रिश्वतखोर', 'प्राविंसेस', 'दफ्तरवाले', 'फिजिशियन', 'लोग', 'जोधिका', 'सेवाला', 'डूबत', 'सिपाह', 'भरमा', 'प्रतिज्ञा', 'मेघवाल', 'नंदोई', 'ऑरोरा', 'फार्मूले', 'दुर्घटना', 'स्वतंत्रसिंह', 'मोंटेरे', 'बाल्टी', 'कोलंबिया', 'व्हिटियर', 'दुक्के', 'क्यूबेक', 'चमकना', 'शीलभंग', 'बिस्तागोंड', 'फाइंडले', 'बापा', 'देहरा', 'ऐसे', 'श्रंखला', 'हस्ताक्षरों', 'तिरुपति', 'मंगलमूर्तिः', 'कुर्सियों', 'मिठाइयाँ', 'पहनो', 'हैलबिड', 'बंगश', 'ऑफिशियली', 'सेंवई', 'गुर्जर', 'समन्वयक', 'पार्नेल', 'सूनसान', 'क्यूसैक्स', 'मध्य', 'युद्धरत', 'अर्बनडेल', 'ब्रिग्स', 'एरर', 'चिखली', 'वाण', 'अधिकारियां', 'रोनोक', 'हाओकिप', 'पूर्वापेक्षाओं', 'मशीनवत', 'कदमो', 'कुरमी', 'विद्याथयों', 'सिमटता', 'संगरूर', 'स्ट्रोंगस्विल', 'अगवाई', 'जनगन', 'नागराज', 'यारियां', 'भाग्येष्वर', 'जीवति', 'सूदखोरों', 'रुकवाकर', 'ब्रह्मवर्ता', 'ग्रे', 'भ्रांति', 'पुरूषोत्तमपुर', 'तेजी', 'स्वातं', 'मंत्रिमंडलीय', 'एशले', 'मेथिव्स', 'मूलों', 'एक्ज़ो', 'हमीरपुर', 'पोखरियाल', 'बोलतीं', 'प्रतिष्ठावाले', 'दबंगता', 'धुरिया', 'टिप', 'गाज़ी', 'इजाजत', 'मेज़बानी', 'टोलेडो', 'मोहड़ा', 'पुतली', 'संचारी', 'टापनी', 'लिटिल', 'नरनारी', 'धनिये', 'गाड़ूँगा', 'फाड़ी', 'गम्मत', 'ट्यूबरक्यूलोसिस', 'नागार्जुन', 'राजनीचि', 'मेडिजेन्सर', 'लफ्फाजी', 'कॉमर्स', 'माथलू', 'चटगांव', 'हीलिग', 'इस्न्पेक्टोर', 'टेस्टिंग', 'नौशाद', 'फ़ल्लूजा', 'पिक', 'जीवन', 'कताल', 'डब्ल्यूईएफ', 'बेसिल', 'स्लाइडों', 'सैंदान', 'जेरेमी', 'गॉंव', 'तोड़ेंगे', 'उड़ान', 'सप्तक्रांति', 'मिरांडा', 'व्यापक', 'मैडी', 'सभासदों', 'नौवहन', 'आत्माएं', 'रोज़ा', 'दमाए', 'मिडवेस्ट', 'ट्रेलरः', 'मालबर', 'वाको', 'विमर्शों', 'खान', 'डिफरर्ड', 'सरसा', 'हेस्टर', 'उत्तर', 'कसेरा', 'कुरआने', 'दायित्वों', 'चयनितों', 'मोराल्स', 'हीरोज', 'प्रेममूलक', 'मोरन', 'ज़ाइडस', 'नेल्सन', 'अमरपाल', 'फटने', 'टिंका', 'गायिकाओ', 'पकाएं', 'भ्रष्टाचारीयों', 'चालित', 'एफल', 'मॉड', 'राजनीतिकारों', 'अर्थों', 'गालीगलौज', 'अन्योन्याश्रितता', 'उडाया', 'कटलरी', 'प्रतिबन्धः', 'नीलाभ', 'बिलाई', 'खुल्लमखुल्ला', 'स्वानसन', 'अन्वाहार्य', 'रेवाड़ी', 'सहकलाकार', 'चैंपियनशिप', 'भड़काया', 'नामधारी', 'अल्बा', 'वातानुकूलन', 'खाताधारक', 'टेक्सस', 'स्पेशल', 'हरवंश', 'दीनु', 'शनिवार', 'डीई', 'डाबी', 'नहींकरवाई', 'मारवाड़', 'पीड़ियों', 'ब्रिगटन', 'मनाए', 'लिगर', 'दिलाएगा', 'आधीन', 'परवा', 'हेम्प्सटेड', 'मामूली', 'प्रदेशिका', 'वैरीफ़िकेशन', 'फेफड़ा', 'विसंगतिया', 'कच्छे', 'घोस्ट', 'पिपली', 'लवासा', 'हेल्पर', 'डूबनेवाले', 'बख्शने', 'इन्द्रियोंके', 'बरहद', 'रिसाली', 'काक्षीवती', 'विश्वरक्त', 'लोदी', 'पीचट्री', 'घुमक्कड़ों', 'ओझा', 'इलाज़', 'अरुणाई', 'अयोध्यानाथ', 'भौतिकवादियों', 'रॊकेट', 'न्यूरोकेमिस्ट्री', 'काल्डवेल', 'आवाज़ें', 'मूल', 'मल्टिप्लेक्सों', 'त्यौहार', 'रोटेशन', 'बेलचा', 'सहकलाकार', 'जड़ित', 'नगाड़ा', 'बरपाया', 'डूंगरपुर', 'लैंड', 'उच्छृंखलता', 'फैलाइए', 'सूची', 'नून', 'आरपी', 'सील्ड', 'पालनपुर', 'इलेक्ट्रोस्टील', 'ऑब्स्क्योरा', 'सिगरेटों', 'दिखाईं', 'रसल', 'नजरंदाज', 'कुआलालंपूर', 'ऑस्टिन', 'रैडक्रास', 'टीसीएनएस', 'स्वायत्तशासन', 'मूड', 'दौलताबाद', 'भूलता', 'प्रतिकारा', 'नाइट्रस', 'नाकाम', 'शुटिंग', 'राष्ट्रा', 'बेचकर', 'स्टोन', 'वर्धा', 'डीडब्ल्यूटी', 'देसबथुला', 'बापा', 'बाघबान', 'आदेशः', 'उड़ेलकर', 'तर्कों', 'याद्दाश्त', 'इनहेलेशन', 'सफरदगंज', 'रूपक', 'स्क्रेनटन', 'वर्णव्यवस्थावादियों', 'शिक्षाकार्मियों', 'खंडेलवाल', 'बेवरेजेस', 'पीडिया', 'नदफ', 'जेहे', 'ढहाएँगे', 'मस्तमौला', 'अगरतला', 'जमाया', 'परदेसी', 'आर्यों', 'वेलवेट', 'आपदाएं', 'आगाशे', 'अच्छी', 'उदघोष', 'स्वभावतः', 'बानी', 'राइकर', 'पीडीलाइट', 'ड्युअल', 'भीरा', 'सिल्वा', 'अधिकरन', 'रंजकता', 'श्रीचक्र', 'गौमूत्र', 'निचला', 'बुरहानपुर', 'सहूलियत', 'लब्ध', 'पूल', 'स्ट्रेशन', 'पीकिंग', 'ऑडिटर', 'डेनिअर', 'अजित', 'लैंगडन', 'अवशिष्ट', 'झ', 'प्रशासनिक', 'बोसीयर', 'बढ़ाचढ़ाकर', 'गिरिडीह', 'भुज', 'रीडिंग', 'फव्वारे', 'अद्वैत', 'रुकते', 'अनोंदिता', 'फोंटाना', 'न्यूट्रियो', 'पायलटों', 'जड़ें', 'बोरीवली', 'इलाइची', 'एलियंस', 'धम्मा', 'नाहरगढ', 'एनएसआईयू', 'सपाट', 'लैंगडन', 'पनामा', 'पुतले', 'आसापास', 'अल्वधि', 'मुफलिसी', 'संसथान', 'दर्शनार्थी', 'लोकोत्सव', 'ग्राहकोंने', 'उच्चअधिकारीयो', 'बहाव', 'रेजा', 'मदरसन', 'काॅप्लेक्स', 'आबूरोड', 'हैडलबेर्गसिएट', 'चिमटी', 'सर्फेकटेंट्स', 'मिटाओ', 'कायलाना', 'टंकार', 'ओढ़कर', 'मेड़ता', 'मेगवाल', 'रसायनिक', 'सूचनाः', 'सुगमता', 'जोकि', 'मुनाफ', 'निस्वार्थ', 'क्षेत्रद्वारा', 'महावर', 'बुलढाना', 'धमकाता', 'भूस्वामी', 'विज्ञान', 'क्यूट', 'बेवकूफाना', 'जाजमऊ', 'बेल्ट्रान', 'विलास', 'मखदुमपुर', 'कोलोराडो', 'ब्लैकबर्न', 'सुनीति', 'घिग्घी', 'फ्लेवनाइड्स', 'चहुंमुखी', 'सुपाच्य', 'सिरती', 'विष्णु', 'चौदहवां', 'चौधरी', 'आबरू', 'बलुरक', 'दावणगेरे', 'अनुरीत', 'शिपिंग', 'पटियाला', 'जानम', 'फाइनेंसियल', 'दमाए', 'पालिसी', 'आइसीसी', 'कुच्छ', 'चीखना', 'रिलायंस', 'उर्वरकों', 'रवैल', 'लड़कियो', 'मुकेश्वरी', 'वनक्षेत्र', 'उम्मीदे', 'कहावह', 'कांतिपूर्ण', 'बड़ाएँ', 'एनसीआरडब्ल्यूसी', 'प्रतिबद्धाता', 'फ़ॉलो', 'सेवामुक्त', 'इवान्स्टन', 'चरस', 'हील्स', 'रॉबर्टसन', 'भदौरिया', 'ग्लैक्सोस्मिथक्लीन', 'प्रॉडक्टों', 'गेवारा', 'विज्ञानों', 'जार्विस', 'लफ्ज', 'फॉन्ट', 'पराधीन', 'शक़', 'गंझू', 'डिट', 'दंपतियों', 'माड़ीखेड़ा', 'प्रतिष्ठानोंं', 'सूंड़', 'गिनते', 'अलगअलग', 'स्वास्तिकाकार', 'प्रतिकारा', 'आस्तिक', 'निवेशकर्ता', 'सवाल', 'संस्कृतियां', 'रौबदार', 'रघुराम', 'इंटरव्यु', 'छरहरी', 'सॉयर', 'भासपा', 'ज्वारों', 'संस्थिता', 'पार्षदों', 'पुलत्स्कर', 'उठाएँगे', 'लाएंगी', 'ओईएफ', 'वलसाड', 'मूलों', 'पुतलियां', 'शमिल', 'रिग्स', 'कैमेरिलो', 'सफ़लता', 'विनष्ट', 'कपिंग', 'जयललिता', 'आइटम्स', 'सॉकर', 'एस्फाल्ट', 'मेहरोत्रा', 'चुने', 'जरख', 'मेज़बानी', 'मुफलिसी', 'लूना', 'वर्णव्यवस्थावादियों', 'लिपाई', 'उठनी', 'बजाज', 'हिसारः', 'दंपतियों', 'वॉटसन', 'अगस्टाइन', 'पटाक्षेप', 'धंधेखोरी', 'उभरेगा', 'एंटोन', 'अपारदर्शी', 'निहलानी', 'टिवोली', 'होगिस', 'विंटर', 'बदलवाकर', 'घुमाई', 'पेटालुमा', 'बीएमडब्ल्यूएम', 'बख्शते', 'संवेदीकरण', 'तेलों', 'घुमक्कड़ों', 'हांफते', 'फरहीन', 'जेम्स', 'कीरतपुर', 'रेडिंग', 'शक़', 'सरप्राइज़', 'किसानों', 'चलेंगे', 'योडेर', 'स्टीन', 'पैथेलॉजिस्ट', 'लेबलिंग', 'इक्थियोसिस', 'लिबरेशन', 'फूडॉन', 'नन्हें', 'भदौरिया', 'जटिला', 'पहुंचनी', 'राष्ट्रोंं', 'ब्लॉसम', 'टंडन', 'गड़बड़बड़ी', 'संस्थिता', 'यात्राएं', 'आदान', 'जावते', 'नियुत्तियों', 'भीष्म', 'हंडिया', 'मुर्गीपालन', 'मालेकर', 'लवलैंड', 'मावे', 'विक्रम', 'हांफते', 'बैरकपुर', 'ग़ाज़ियाबाद', 'तर्कों', 'एसपीएफ', 'आर्टेमिस', 'ऐप्प', 'जयबाण', 'गैरइरादतन', 'विवेकाधीन', 'सबजूनियर', 'फालिया', 'प्रेक्षकगणों', 'पुरवासियों', 'विपन्नता', 'मांगा', 'ऑर्डनेंस', 'प्रधान', 'अभियुक्तोंके', 'विराटखंड', 'हिजबुल', 'विद्याओं', 'मंजू', 'छविंद्र', 'छुपकर', 'डोरंडा', 'सायं', 'मिठाइयाँ', 'जीवविज्ञानियों', 'पश्तून', 'ब्रह्राचारिणी', 'यरूशलेम', 'एल्टामोंटे', 'सिहुंता', 'हेमवती', 'कोषाधिकारी', 'आशंका', 'बीन', 'वैज्ञानिकता', 'झीलों', 'रोबर्तो', 'श्रीरामपुर', 'मंचीय', 'वसूलता', 'मोरीसन', 'महाग्रंथ', 'ट्रांजिस्टर', 'सर्वजातीय', 'पाटोत्सव', 'हाॅकी', 'मेडिथ्सन', 'उड़ाना', 'सरायमोहिउद्दीनपुर', 'पीटर्सबर्ग', 'रंजकता', 'दीया', 'माेहिंदर', 'मस्टेक', 'निर्बाध', 'एहसास', 'आवृत्तियों', 'एशियवन', 'थकी', 'टरबाइन', 'दिमाक', 'जोधपुर', 'दरदरा', 'ख़ासतौर', 'मकरानी', 'हाई', 'फटही', 'मारिया', 'गॉंव', 'पेंडुलम', 'आविष्कार', 'नतीजेः', 'जेफरसनविल', 'ब्रह्मसिद्धि', 'तुलसीदास', 'रीता', 'चर्चामंच', 'प्रतिकारा', 'तर्कवाद', 'दबंगों', 'हिचकिचा', 'शीर्षकों', 'डम', 'द्विअर्थी', 'जवाबः', 'बहुमान', 'जांचकर्ता', 'वन्देमातरम्', 'शुड', 'अगस्ता', 'एनईयू', 'दस्तखतशुदा', 'सूरीनाम', 'किंगखान', 'तरस', 'रिकनेक्टिंग', 'फाइब्रिक', 'क्लेयर', 'छीजत', 'मोमिनटोला', 'विरोध', 'अरेना', 'यूनियनवादी', 'बम्लेश्वरी', 'बोका', 'इम्मैच्योरिटी', 'संसथान', 'जीन', 'ददरेवा', 'कीड़े', 'करावणौ', 'पुतिन', 'टंकार', 'खटकती', 'जड़', 'पुष्प', 'जीएम', 'युसूगी', 'कोरोला', 'प्यादे', 'करवायेगी', 'बलात्कारियों', 'जताती', 'गुरदासपुर', 'श्रेष्ठस्वरूप', 'शुभप्रभा', 'यूरोप्लास्ट', 'राष्ट्रभक्तों', 'कैंटरबरी', 'कम्युनिकेटर्स', 'महामंच', 'कॉन्वे', 'डीडब्ल्यूएफ', 'रीव्स', 'डभोई', 'भूतल', 'इंसानो', 'एमिल', 'विज्ञानम', 'सपाटे', 'अटवाल', 'हिंडन', 'ऑफिसरी', 'मोंटक्लेयर', 'पुर्नस्वीकृत', 'रिचर्डसन', 'संदर्भ', 'फार्गो', 'अलीम', 'सप्तक्रांति', 'एचआर', 'इमानदारी', 'कॉन्ट्रेक्टिंग', 'गंगाजल', 'गौर', 'अधिकरियों', 'बंधान', 'सेंधा', 'डब्ल्यूपीडी', 'ग्रविटा', 'लिंगकन', 'प्रवृत्तिविज्ञानों', 'सीमेंटेशन', 'बगड़', 'जेन्ट्री', 'डैटसन', 'मोंटेबेल्लो', 'रिन्यूएबल्स', 'नक्सलवाद', 'ऐतराज़', 'इतिभगवती', 'निवेशकर्ता', 'पटकथाएं', 'काबिलेतारीफ', 'भादस', 'भोगते', 'होल्डिंग', 'धत्ता', 'धोरों', 'उपाख्यानों', 'फयेत्तेविल्ले', 'स्टॉकटन', 'ब्रजेश', 'प्रतिज्ञा', 'बढ़ाती', 'थेन', 'थॉमस', 'ध्येयवादी', 'ट्यूजडे', 'डब्ल्यूजीपीएल', 'ओवम', 'गति', 'न्यूक्लियस', 'क़रार', 'पुरूषोत्तमाचार्य', 'मनचंदा', 'लहसुन', 'नक़ाब', 'सूजा', 'मैकेंज़ी', 'पुर्जों', 'बहुंत', 'ब्रावो', 'अमानत', 'झुठला', 'बुश', 'चौखटे', 'अपर', 'एस्थेटिक', 'क्षेत्रद्वारा', 'सज्जा', 'ढहाने', 'नारियलयुक्त', 'जूलूस', 'कुर्सियॉ', 'सिंघाड़े', 'एमी', 'अंतर्मुख', 'ठक्कर', 'बड़बोलेपन', 'नक्सलियों', 'मैनर', 'हिमाली', 'नक्सलवाद', 'हॉफ', 'महाधर्माध्यक्ष', 'परमौजूद', 'टिप्पणीकार', 'पेरेल्स', 'भपाई', 'बीताने', 'वाल्व', 'द्विरुक्त', 'एड्डी', 'जीवनियां', 'पंघाल', 'खंडा', 'उर्वरकों', 'बेसिन', 'गिरिवासियों', 'पराधीन', 'पुख़्ता', 'अछनेरा', 'कार्सन', 'डेल्टा', 'त्रिपुरा', 'अलयमनी', 'खेड़ा', 'नाहरगढ', 'शालीमार', 'इम्मैच्योरिटी', 'एलएंडटी', 'प्रॉपरफेसबुक', 'उड़ानों', 'महाजन', 'मोसेस', 'बतायाकि', 'अली', 'इलेक्ट्रोमीटर', 'आमोद', 'रूकेंगे', 'मारिया', 'रागों', 'आइपीएफ', 'फलितार्थ', 'सुपाच्य', 'अवशिष्ट', 'ईष्ट', 'रेट', 'आटा', 'महलों', 'वरिष्ठों', 'जलपोत', 'कैटरीना', 'जिस्मफरोशी', 'सैलरी', 'रज़ा', 'रैकेटियर', 'बेसिल', 'बढ़ाता', 'चरणबद्घ', 'भड़काया', 'साहित्योत्सव', 'नरसीपुरा', 'समझूंगा', 'चंद्रपुर', 'सरका', 'ढाह', 'प्रौढ', 'अहितकारी', 'डरावनी', 'बेलिंडा', 'अलयमनी', 'डैटसन', 'अते', 'फास्नर्स', 'बंगरावाला', 'सायरा', 'अट्टहास', 'निर्दल', 'महबूबनगर', 'डराते', 'वल्कन', 'ख़ासतौर', 'बरसाई', 'आनंददायक', 'बांबी', 'तो', 'असमान्य', 'विपन्नता', 'स्पस्ट', 'अमझेरा', 'बेचकर', 'घटबढ़', 'कौशलता', 'मशीन', 'वायरलेस', 'फैंन', 'गानो', 'खंभात', 'क्यूआईपीएस', 'डबलिन', 'एमटीए', 'समृद्धियों', 'राधाकृष्णदास', 'कांस्टिंग', 'इड्डुक्कि', 'इंडस्ट्रियल', 'भारतवंशी', 'मांगी', 'रॉबिंस', 'व्लादिमीर', 'पेहोवा', 'बाग', 'उम्मीदवारी', 'साफगोई', 'कूत्ता', 'एडेन', 'ग्रेनाइट', 'उस्तरा', 'ढूंढता', 'संघीयता', 'कुमारी', 'डिप्थीरिया', 'अड़चने', 'कोरियाः', 'प्रपात', 'छुड़वाया', 'सूइयां', 'वेरोनिका', 'स्कैफलर', 'ज़यादा', 'पॉटर', 'मीडिया', 'यरूशलेम', 'पिछड़े', 'लेटसेंग', 'अर्थव्यवस्थताओं', 'काकू', 'निर्देशिका', 'सेटो', 'नवाते', 'संवेदन्शीलता', 'रोडरेज', 'छहों', 'लफ्ज', 'वंशवाद', 'रोहतक', 'अटकता', 'बावरा', 'कृबरभ', 'प्रकाशकः', 'स्टायरोल्यूशन', 'अपारदर्शी', 'बेंगलुरु', 'अंधापन', 'मैनन', 'क्याः', 'फार्मूले', 'हमलावर', 'अमावस्या', 'पूर्वापेक्षाओं', 'डैशवाला', 'ओकलाहोमा', 'डारमैट', 'सहकलाकार', 'फातमा', 'खलती', 'दायित्व', 'क्यूसैक्स', 'टोलकर्मी', 'वर्शन', 'परिसंवाद', 'इम्युन', 'बचती', 'यूटिलिटीज', 'मलमास', 'कैडमियम', 'एन्टीओक', 'खातेदार', 'मोहिनी', 'विश्वसनीयता', 'रहमान', 'कंबलों', 'आर्यिका', 'मैरेज', 'छींक', 'फलता', 'बागोरा', 'पकौड़े', 'लूसी', 'फतेहगढ़', 'ग्रहणकाल', 'जॉब्स', 'सदानंद', 'दत्त', 'मुर्गीपालन', 'लुढ़कते', 'पल्मोनरी', 'डब्ल्यूआईएन', 'उभारा', 'बेक', 'पडरौना', 'बांधते', 'कपूर', 'सेवाला', 'वर्शन', 'चिढ़ते', 'थाणे', 'निकलेगी', 'मोगली', 'ड्रेजर', 'नागारिक', 'गाजीपुर', 'वादक', 'मिचेल', 'ज्ञातव्य', 'स्तनधारी', 'धोराजी', 'अब्दुन्नासिर', 'विश्ववंद्या', 'सत्यार्थप्रकाश', 'शिवमोगा', 'घुमक्कड़ी', 'गाएं', 'ची', 'थिएटरों', 'अनाधिकारिक', 'शासक', 'हाइंस', 'बेतिया', 'धटना', 'रहमत', 'मोतिहारी', 'पियरसन', 'उज़्बेक', 'व्हीलिंग', 'पाइथागोरस', 'विप्रो', 'काबिलेतारीफ', 'जमाती', 'पुलम', 'दौबारा', 'पोर्टिलो', 'अधीक', 'धुम्रपान', 'दांपत्य', 'जामुड़िया', 'पेडू', 'पिपरा', 'ब्लेयर', 'कम्यूनिकेशन्स', 'अलायंस', 'अरदास', 'गुदना', 'जस्ट', 'आवाज़ों', 'बेंवर', 'अमारिलो', 'ब्रह्माण्ड़', 'दिखार्इ', 'तंत्रों', 'आसान', 'तुगलकाबाद', 'सट्टन', 'कंदरौर', 'खन्ना', 'निकालनी', 'डिबनू', 'इम्मैच्योरिटी', 'तोलासन', 'जानाकरी', 'लिवाल', 'एंजेलिन', 'ऋषिता', 'फ्लिंट', 'वृश्चिकःसप्ताह', 'आसमती', 'गिरकर', 'वैज्ञानिक', 'बिशड़ी', 'फूलती', 'पुनःस्थापना', 'बाध', 'गंध', 'चक्षु', 'मिकटॉम', 'लीडरों', 'ज़बर्दस्त', 'स्तुति', 'औरतो', 'हेब्लिकर', 'रट्टेबाजी', 'फ्रांसिस्का', 'बंबा', 'प्रतियुक्ति', 'डराती', 'प्राणों', 'मेडिसन', 'निभाएगी', 'मयर्स', 'कश्यप', 'ब्रिगेडियर', 'अम्बिकाओं', 'होगाः', 'इशाक', 'सुमि', 'देशभक्तिमय', 'धर्मपत्रियां', 'कृष्णानगर', 'ईए', 'आयुधनिर्माणी', 'ताजा', 'अजस्र', 'फिजूलखर्ची', 'मंत्रयों', 'तांता', 'डीलरशिप', 'चैपल', 'ध्वनिमिकों', 'एजुकेशन', 'जरख', 'नीट', 'जिलावासियों', 'संप्रभुता', 'कसेगा', 'पकानेवाला', 'दीपन', 'कलसाना', 'मुगालता', 'टोकने', 'फलीभूत', 'ग्योंठ', 'दिखार्इ', 'शामजीभाई', 'पहनाकर', 'किसानी', 'उधारदाताओं', 'रामटेक', 'व्याख्यात्मकता', 'साेमवार', 'विस्टा', 'पॉलिमर', 'रक्ताभ', 'भुगता', 'भ्रष्टाचारीयों', 'खटकती', 'मुख्यमन्त्रियों', 'मैड', 'कक्षांग', 'जैन', 'महीन', 'सुर्वणा', 'बांगरोटिया', 'रसायनिक', 'औरोरा', 'चमचागिरी', 'एनसीआरडब्ल्यूसी', 'ऐंठे', 'एस्सेल', 'देशसेवा', 'इलेक्ट्रोटेक्स', 'वर्कचार्ज', 'कार्वाई', 'झांकता', 'अर्जेंट', 'सप्रमाण', 'मौर्यों', 'जिनी', 'जगदीशचंद्र', 'असुरक्षित', 'काव्योक्तियां', 'अलंकार', 'स्वादप्रेमियों', 'जातक', 'रोलर्स', 'अशक्तता', 'काठियावड़ी', 'आवृत्ति', 'विद्याएं', 'विधिवत', 'राधे', 'मुख्यमंत्रीसंवाददाता', 'प्राणसंगली', 'कनलोग', 'पुदुकोट्टई', 'निकी', 'फूहड़ता', 'पटाक्षेप', 'रीट्वीट', 'मनोवैज्ञानियों', 'स्तनधारी', 'मुखोपाध्याय', 'निर्बाध', 'तोडऩे', 'आवृत्ति', 'परीक्षणकर्ताओं', 'एक्सटेक्टर', 'नाशिक', 'रसायनों', 'वैत्रवती', 'ऑग्रेनाइज', 'चौसिंगा', 'फलोदी', 'स्खलन', 'पनामा', 'निगर', 'मोंटे', 'सुनीति', 'शराबों', 'अम्बिकाओं', 'गुजारा', 'फोटोफ्रेम', 'प्रहलाद', 'बीसवां', 'द्विवेदी', 'देनेवाली', 'बर्ल्सन', 'भारद्वाज', 'जताती', 'मालेगांव', 'रहुगाँ', 'महामंत्र', 'बीस्ट', 'दिव्यता', 'संजीवन', 'कुपोषित', 'एक्सक्लेशन', 'चढ़ेगा', 'टेक्सरकाना', 'डूंगरपुर', 'सराही', 'लालपरी', 'एरोनॉटिक्स', 'वर्थ', 'आस्तीन', 'स्वप्निका', 'उपकार्यालयों', 'मिमिक्री', 'बल्लभ', 'वैरीफ़िकेशन', 'हैकेंसैक', 'आकाश', 'बोना', 'क्लाक', 'द़फन', 'पेगव', 'कहलाया', 'माड़ीखेड़ा', 'तेलीबाग', 'धारक', 'निकालनी', 'कंघे', 'प्रश्नोत्तरी', 'काकीनाड़ा', 'भाग्योदय', 'सिंगार', 'मचाए', 'लेखकगणों', 'उछालने', 'धर्मराजने', 'ऐंजल', 'बंटता', 'फाॅर्म', 'रवैल', 'हनुमानगढ़', 'वीरांगनाओं', 'गायत्री', 'वेंकटरमन', 'डिबनू', 'पुरूषोत्तमाचार्य', 'संयोजकों', 'झाउगंज', 'सरकारें', 'न्यूटेस्ट', 'श्रीकर', 'मिटाओ', 'दियोटसिद्ध', 'भूपसिंह', 'चर्चाएँ', 'प्रसारकों', 'निष्पाप', 'फ्लिन', 'रणनीतिबना', 'ईआरजी', 'धागा', 'गौमुख', 'जूड', 'खनिकर्म', 'शरभ', 'अरेलानो', 'उखड़कर', 'लेनेवाली', 'कुमार', 'सिंघाड़े', 'टोंसिल', 'दविन्दरपाल', 'सिंगार', 'खिसकते', 'एनिड', 'मेगापिक्सल', 'दिग्विजय', 'फजलों', 'दोगे', 'लेबलों', 'मुनाफा', 'बड़ने', 'वैरी', 'सातसेरा', 'ओर्टेगा', 'रोवे', 'भाटिया', 'राजस्थानवासियों', 'बागबगीचों', 'विल्किंसन', 'डराती', 'अटके', 'प्रमुखतापूर्वक', 'यत्न', 'नितिन', 'सिटी', 'रेडिको', 'दुकानों', 'जलसंसाधन', 'मत्स्येंद्रनाथ', 'बिहार', 'बर्षीय', 'अवरु', 'दाव', 'नक़ाब', 'सारेगामा', 'हुगली', 'सत्ती', 'नेग', 'महाबलेश्वर', 'प्लेसेंटिया', 'वर्साचे', 'कुमाऊ', 'एमी', 'थियेटर्स', 'एरिका', 'खिंचकर', 'रौबदार', 'ऑल्टो', 'काव्यविधाओं', 'कून', 'अक्रोन', 'तहखाना', 'समाजजनों', 'मचाए', 'सूर्यदेव', 'प्राथमिक', 'प्रवृत्रियों', 'ताजा', 'जीवनशैली', 'रक्तदाताओं', 'बालेश्वर', 'भौतिकवादियों', 'लगातीं', 'झाइयां', 'वंशवाद', 'नवानगर', 'नजरंदाज', 'अंशांकन', 'फुंकने', 'मतपत्रों', 'मॉड्यूल', 'फार्म्स', 'पहुंचोगी', 'मैडी', 'थीफ', 'फाउडलर', 'अमित', 'पूर्वाभाद्रपद', 'लंगड़ा', 'गोंपो', 'वेस्ले', 'शाओ', 'हामिदन', 'वीक्स', 'मिनरल', 'सेंटेंनियल', 'बस्तियो', 'बागबगीचों', 'प्रनीत', 'भेदभावों', 'कराहना', 'ग्रीनविल', 'सहरावत', 'रालोद', 'जातकों', 'रिश्ते', 'बेंटनविल', 'नजीबाबाद', 'फाइनेंसर्स', 'फटही', 'केरला', 'लड़ाईयों', 'हरिजन', 'वाईटेकर', 'विदिशा', 'पॉल', 'आर्यों', 'खिलाना', 'छूटने', 'दुखियों', 'पूर्णेश्वरी', 'विसबल', 'दरम्यानी', 'यारी', 'विधमान', 'यात्राएं', 'सनटेक', 'गुजारता', 'नियंता', 'डम', 'अवस्थी', 'पल्स', 'भें', 'स्टॉप्स', 'धकेलते', 'केपीओ', 'दमघोंटू', 'इंसानो', 'मैरेज', 'एस्फाल्ट', 'लॉन्ड्री', 'रत्नाभूषण', 'स्की', 'दुश्वारियों', 'अनुप्रयोगों', 'देशसेवा', 'लेलऽ', 'जगारागल्लू', 'मेजबानी', 'डेहरी', 'चक्कर', 'क्रोफोर्ड', 'गुदुरी', 'डीवीसी', 'प्रक्रियागत', 'नग', 'मत्स्यावतार', 'स्कूटरों', 'अर्धविश्वास', 'दरम्यानी', 'सुर्वणा', 'स्थितियां', 'धर्मानंद', 'सॉफ़्नर', 'स्क्वैश', 'विधानसभाएं', 'रैंडोल्फ', 'मेज़बान', 'स्प्रिट', 'शीलभंग', 'कलमें', 'स्वर्णिका', 'मंडी', 'अर्थव्यवस्थताओं', 'कुंडलियाँ', 'नीमकाथाना', 'फाॅर्म', 'हत्यारोपित', 'पुट्टा', 'फारेंसिस', 'पुरूषोत्तमाचार्य', 'बॉंन्ड्स', 'शिकायतकर्ता', 'क्रान्फ्रेंसिंग', 'उबाल', 'बाबाओ', 'हलमतपुरा', 'हकीकत', 'बर्मन', 'वर्तमान', 'बांटीं', 'अचंभा', 'जीवनपर्यंत', 'वदरा', 'सडक़ें', 'एेसा', 'ज्योतिष्यशास्त्रों', 'पाइथागोरस', 'एंजेलिन', 'कपोलकल्पना', 'द्रोपदियों', 'रोजलिन', 'श्रीराम', 'गोपालक', 'बंगबंधु', 'मिस्त्रियां', 'उसेे', 'मर्काडो', 'मैसोर', 'ऑफशोर', 'कपूरथला', 'साहोवालिया', 'मलदहिया', 'हाइमन', 'इंदौरनगर', 'विशेषज्ञताओं', 'उसकी', 'कैपलिन', 'महाप्राण', 'रुपेश', 'रिनो', 'सुदीप्तों', 'स्वामी', 'अमारा', 'व्यवस्थामूलक', 'सेंसिंग', 'टाइलर', 'संगारेड्डी', 'पहनो', 'मरदानी', 'बम्लेश्वरी', 'दिवानी', 'फिनकॉर्प', 'नवा', 'शिमट', 'सोहावल', 'बनाम', 'प्रवृत्रियों', 'शियोंग', 'वर्स्टेड', 'राजों', 'चीखना', 'नैमुल', 'बढ़ोतरी', 'एंटोनी', 'छांयसा', 'निर्देशिका', 'निपटारा', 'जुडने', 'सुझाती', 'पैथेलॉजिस्ट', 'टाइड', 'शृंगार', 'ब्रान्डेस', 'परमेश्वरपुर', 'जेडटीईसाफ्ट', 'उद्धाटन', 'स्टैन', 'आदिवादियों', 'जुलाहों', 'महाराजा', 'गतिशीलता', 'शिप्रा', 'ट्रिब्युनल', 'ख़ैबर', 'वनविभाग', 'घटाटोप', 'धर्मग्रंथों', 'प्रवृत्तीयों', 'गांठ', 'मैसोर', 'सहगल', 'नमकीन', 'वैध्', 'वनस्पतियाँ', 'जियांगकोऊ', 'पाखंडी', 'प्रोटेक्ट्स', 'एल्बाइनो', 'लिंडेन', 'सोहावल', 'भुरभुरा', 'गैस्ट्रोलॉजी', 'विद्रूप', 'साजसज्जा', 'रात्रिचर', 'रोजना', 'जलभराव', 'मोंटगोमरी', 'सेव', 'भ्रष्ट्राचारियों', 'डीडब्ल्यूएन', 'स्ट्रेशन', 'गांठे', 'गहलोत', 'छतेनी', 'विश्वसनीय', 'जीवनियां', 'दस्तानें', 'धोना', 'खरुवार', 'सूरीनाम', 'मंगलसिंह', 'अन्योन्याश्रितता', 'नाइनटीज', 'पांचोलास', 'रेसों', 'वातानुकूलितों', 'चतुष्कोणीय', 'आमदी', 'दुष्टतापूर्वक', 'बेचते', 'चौका', 'मिज़ोरम', 'टोरेंस', 'अनुचित', 'अवरोधक', 'रॉस', 'अच्युत', 'ऊधामी', 'हरावल', 'गोल्ड', 'दाव', 'सृजनविज्ञानी', 'नेक्स्टजेन', 'रूकावटों', 'भावनाओं', 'देहधारी', 'परीक्षाएं', 'उतने', 'संस्कृतिओं', 'प्रॉस्पेक्स', 'नईदिल्ली', 'सायं', 'जिनीवा', 'रसद', 'बारामुला', 'वन्देमातरम्', 'सफारी', 'चम्बा', 'सवाल', 'बन्नारी', 'फ़तेहपुर', 'पहनता', 'स्प्रे', 'नॉर्मल', 'ऑलआउट', 'मनासस', 'मंत्रियोंके', 'कार्यकार्यकर्ताओं', 'फाडऩे', 'ग्रेग', 'बैतूल', 'कुषाण', 'सुब्बनी', 'इन्फिबीम', 'खटखटाकर', 'चाचाजी', 'चंद्रबली', 'बारिपदा', 'रूहेलखंड', 'ग़ैरकानूनी', 'आरेखः', 'प्रमुखकर्मियों', 'ली', 'थियेटर्स', 'असम', 'फानों', 'ज़्यादा', 'थियेटरों', 'सफाईकर्मी', 'बीएसएसएस', 'क्रान्फ्रेंसिंग', 'जीवराज', 'थिरके', 'शकसुबहे', 'पैराट्रूपर', 'डभरा', 'उसी', 'निःसंदेह', 'महानतम', 'बांठिया', 'अनम', 'कश्मीर', 'बावडी', 'भुट्टो', 'मारके', 'कार्ययोजना', 'फ्रांसिस्को', 'अदाणी', 'धुरिया', 'महाविद्या', 'मेगापिक्सल', 'क्रिप्टोकरेंसियों', 'मूठ', 'ऑथोरिटी', 'अपरिवर्तनशील', 'प्रधानमंत्रीकी', 'आगाशे', 'नवजागरण', 'अट्टरा', 'उबाला', 'अमानती', 'खम्मम', 'हारना', 'भावाभिव्यक्तियों', 'पुष्कर', 'शांतियों', 'नेरोलेक', 'चौका', 'सिद्दालिंगा', 'भरतनाट्यम्', 'जवाबः', 'दुश्वारियों', 'मंचीय', 'जीयो', 'सप्रमाण', 'सीम', 'पीएचडब्ल्यूसीएस', 'बहाव', 'टिक', 'अगवाई', 'हाइमन', 'क्यूआईडब्ल्यूआई', 'अज्ञात', 'एजेंडे', 'लिंचबर्ग', 'मांगीना', 'खटखटाएगी', 'जोधिका', 'सृजनविज्ञानी', 'डेटसन', 'बदलवा', 'उर्फ', 'छापेमार', 'लक्स', 'भोपाल', 'फलीभूत', 'पैथेलॉजिस्ट', 'पर्याप्तता', 'फूर्ति', 'मृत्युनिवारक', 'मारुति', 'उठाकर', 'एएलओ', 'पेगव', 'पीलीभीत', 'सोमी', 'संचालनों', 'कांचीपुरम', 'डराती', 'याद्दाश्त', 'साबुदाना', 'वेल्डिंग', 'वेरोनिका', 'स्टिम्बेरवाला', 'मायाजाल', 'पेस', 'अतुल', 'औटोमैटिकली', 'जांचना', 'मिथिलांचल', 'फिक्सिंगः', 'सजेती', 'प्लानो', 'विसंगतिया', 'खोमचे', 'लगना', 'मुकेश्वरी', 'तस्वारों', 'देव', 'वेश', 'ज्योथी', 'लेंडल', 'वीरांगनाओं', 'यनित', 'पूर्णिया', 'चौक', 'लड़ीं', 'चेस्ट', 'कसेगा', 'एबट', 'रेनुका', 'लूवे', 'गुलाबाग', 'लज्जालु', 'साभार', 'गैरराष्ट्रवादी', 'धावकों', 'लिम', 'विद्याएं', 'स्वयंस्वीकृत', 'इलेक्ट्रोटेक्स', 'रामराज', 'जनभावना', 'यौनिकता', 'हाथे', 'दूने', 'प्रोटेक्ट्स', 'वरेण्य', 'मज़बूरी', 'प्रवीनचंद', 'वैज्ञानिक', 'टोरेंट', 'आत्माएं', 'संप्रति', 'मत्थे', 'सविता', 'अटलांटिक', 'जलगति', 'चच्चा', 'आफरीन', 'बाजारू', 'चौकी', 'फरसे', 'ट्यूनिंग', 'नोडरानी', 'मौम', 'विधाणी', 'गुजार', 'पकडकर', 'ऑंखें', 'आपका', 'वार्नर', 'अन्वाहार्य', 'लिखेहैं', 'पाठ्यक्रम', 'शावकों', 'यरूशलेम', 'मण्डलायुक्तो', 'नैनो', 'झाइयां', 'सिम्फरपोल', 'धम्म', 'निखरेगा', 'घुमाण', 'होऊंगा', 'ढकाल', 'सागरिका', 'बर्नार्ड', 'योगबल', 'ब्रेवरीज', 'डिश', 'ऐठन', 'वर्तमान', 'त्रैमासिक', 'तस्वीरे', 'व्यवहारगत', 'मराठा', 'बनवा', 'स्वर्णिका', 'प्रसाथ', 'ओवरऑल', 'पूर्वाफाल्गुनी', 'प्रॉपरफेसबुक', 'सुवेन', 'सपाटे', 'झ', 'करघे', 'देशकाल', 'नाथवाड़ा', 'थानवी', 'ओरण', 'सेरानो', 'इअर', 'सबमिशन', 'धारक', 'तदाद', 'ग्रीनवुड', 'हाउते', 'बहुरिया', 'नियंताओं', 'चूरू', 'मिसौरी', 'अन्याय', 'जेनरेट', 'न्यूटेस्ट', 'गरुड़', 'स्वास्तिकाकार', 'शैइ', 'सिद्धांतवादियों', 'अनावश्यक', 'सीटें', 'गुलशन', 'रिया', 'फर्मिऑन', 'टायर', 'ची', 'बदलापुर', 'युद्धनौका', 'एनबीसीसी', 'श्रीगंगानगरवासियों', 'उदा', 'कैंब्रिज', 'एयरवे', 'आइडल', 'कैल्यूमेट', 'आजमाना', 'तंत्रिकाओं', 'जोन्सबोरो', 'बुद्धिजीवों', 'क्लोज़अप', 'एनएमडीसी', 'राष्ट्रपित', 'कमारहाटी', 'एस्फाल्ट', 'फ्रांसिस्को', 'भल्ला', 'मौलवियों', 'नरवर', 'लहलहाती', 'ब्यावर', 'घटाएगी', 'नामजदगी', 'तकः', 'सेवाग्राम', 'लामियां', 'जिन', 'स्वेच्छा', 'अंतडियां', 'आर्यो', 'पॉलिशिंग', 'जोखिमभरा', 'उमड़ती', 'तंत्र', 'सामोआ', 'सीएसआई', 'मांड्या', 'लॉरी', 'पहनते', 'अंकोर', 'निम्नवत्', 'रैपिंग', 'रुपेश', 'प्रतिबद्धाता', 'नाडेप', 'सैलानीपन', 'मेंराज्य', 'दाव', 'आबूरोड', 'पाठ्यक्रमों', 'निविदाताओं', 'गांधीपुरा', 'पीएचडब्ल्यूसीएस', 'नारायणगढ़', 'जयललिता', 'सुसंस्कृत', 'मसूद', 'वुनसोकेट', 'संस्कृतियां', 'उर्फ', 'थेराटीपल्ली', 'प्रतिनिर्देश', 'उल्हासपुर', 'पहनते', 'धावकों', 'भगेड़', 'प्राणसंगली', 'जलवायु', 'भिजवाई', 'सायरा', 'क्रेन्द्रों', 'मौजुद', 'सिद्घांत', 'कम्युनिकेटर्स', 'चिड़चिड़ापन', 'मुथूट', 'विवेकाधिकारों', 'मलौन', 'सिनसिनाटी', 'रेगिस्तान', 'परोसने', 'विचारकों', 'जनभावना', 'अंडमान', 'बडयाल', 'मोरपेन', 'बियर्ड', 'नोडरानी', 'दिखायेे', 'छींक', 'व्याख्यात्मकता', 'शैशव', 'आइंथू', 'अहमदाबादः', 'जायके', 'सिग्निटी', 'कुरुक्षेत्र', 'प्रवृत्तीयों', 'चर्चा', 'लक्ष्मीचन्द्र', 'हैमंड', 'निभाएगी', 'धुनाई', 'जनभावना', 'कांट', 'मेलघाट', 'मुऐ', 'श्विंग', 'दांपत्य', 'कपड़ा', 'संतति', 'मानवटरहित', 'अनुप्रयोगों', 'हार्वे', 'काजू', 'सेररितोस', 'टेक्समैको', 'संचार', 'ट्रुथ', 'लोज़ानों', 'रोपने', 'हॉलीवुड', 'छींके', 'धम्मा', 'टेक्नोप्लास्ट', 'पूजापाठ', 'चानन', 'श्रंखलाओं', 'छेड़ना', 'कार्बोजेन', 'व्यवधान', 'शुल्ट्ज', 'इस्त्राइलियों', 'स्क्वाश', 'डैनविल', 'प्राना', 'ठाकुरवादी', 'प्रयोगशास्त्र', 'व्यक्तीयों', 'मैट्रोलॉजिस्ट', 'मढ़ौरा', 'पालियों', 'डेनवर', 'एपीजे', 'बैनी', 'प्रतिस्थान', 'भ्रष्टाचारीयों', 'लकीर', 'सुधारगृह', 'संदली', 'जागृति', 'तलवार', 'जनशिक्षा', 'टापुओं', 'बुलेटिन', 'बल्लेबाज़ी', 'माड़ीखेड़ा', 'अर्थशास्त्रीयों', 'स्कैनिंग', 'मेहमान', 'रहेगी', 'जमशेदपुर', 'त्यौहारों', 'दर्शाना', 'बीचबचाव', 'सुलाती', 'वर्शन', 'सुधारती', 'वसामुक्त', 'पाटिल', 'जेवाब', 'सोटो', 'धातुएं', 'डोसे', 'भागदौड', 'पगबाधा', 'आरुषि', 'अगस्ता', 'टाइटन', 'इक्विटीज', 'एयरटेल', 'ऐल्प्स', 'नक्सली', 'अचीवमेंट', 'गलाएगा', 'फूडॉन', 'राजनीचि', 'आर्य', 'स्ट्रीमवुड', 'घोट', 'म्यूजिक', 'पुरकायस्थ', 'नोरा', 'टॉनिक', 'गुजारने', 'वाटर', 'सूनसान', 'सिरसा', 'टेंगीरला', 'हेनसन', 'वरुण', 'ड्रेजर', 'दौड़ाते', 'शराबों', 'व्यक्तीयों', 'सातसेरा', 'दर्जनों', 'अग्नियां', 'धोना', 'कार्यकर्त्रियों', 'अवस्थाएं', 'हिममानव', 'टु', 'ऐल', 'बंधुओं', 'श्रद्धावानों', 'मारियो', 'व्याघात', 'माईकल', 'अद्र्घ', 'विट्ठल', 'प्रारूप', 'ढूंढती', 'डुबाना', 'लडने', 'फार्म', 'जुवारी', 'परिवारवाले', 'पैरानॉर्मल', 'भुवनेश्वप्रसाद', 'आईरिस', 'प्रतिज्ञापूर्ण', 'लेबलों', 'श्रीकृष्णन', 'स्नीकर्स', 'कईं', 'भूस्वामी', 'कटरा', 'अन्याय', 'नोकरी', 'प्रिसिशन', 'क्रोम', 'जुए', 'बोलिंग', 'ताप्ती', 'कैथोलिकों', 'नजरंदाज', 'मूलचंद', 'स्वेच्छा', 'नन्यौला', 'घोंटना', 'अद्वैतवाद', 'अंडरवुड', 'लुभावना', 'पेट्रोसेली', 'आमदी', 'रोपने', 'डेजी', 'जबाबी', 'कप', 'फाड़े', 'उलाहना', 'उन्नतियों', 'मोलिना', 'गांडचुभोनाचूसनाछोटे', 'हां', 'प्रर्दशन', 'सरगुजा', 'बीदर', 'अमरगढ़', 'जुए', 'टोंक', 'देवापुर', 'इंटेलीजेंस', 'नीतियों', 'खनौदा', 'पोरबंदर', 'सिम', 'लग्नेश', 'गायिकाओ', 'पृष्ठभूमियों', 'मूलचंद', 'सिल्चर', 'मार्गरिटा', 'उदाकिशुनगंज', 'सिरती', 'यमला', 'प्रशिक्षु', 'सिएरा', 'आल्हा', 'पेक', 'तसखीर', 'डाका', 'नॉमिनेट', 'सपाट', 'कोयम्बटूर', 'कोरापुट', 'स्वायत्तशासन', 'विद्युतीकृत', 'किकियाना', 'अरुणाई', 'रीगल', 'डायमंड', 'मृदुभाषी', 'वाल्टर्स', 'सूत्रपाडा', 'कीति', 'ज़िलाधिकारी', 'मंगेश', 'पेंषन', 'लगनेवाले', 'जिलावासियों', 'प्लोस्की', 'एकसाथ', 'सेखर', 'डीओडब्ल्यू', 'अर्धविश्वास', 'राजस्थान', 'विकासखण्ड', 'संशयों', 'बढना', 'क्लासों', 'उखरुल', 'फुरामे', 'एबज', 'बाताया', 'जुशान्तान', 'स्ट्रॉन्ग', 'राजनीतिकारों', 'पानीपत', 'ब्लांकार्ड', 'झाबुआ', 'जकिंटो', 'बारहसिंगा', 'सूचनाः', 'इलेक्ट्रोमैजिक', 'लालमणी', 'भाऊलाल', 'कठुआ', 'पलारी', 'अमिताव', 'तदंरुस्ती', 'वाबस्ता', 'व्लाद', 'स्लैश', 'वाटरबरी', 'सेल्फी', 'लुईस', 'पंचसूत्र', 'अर्यमा', 'वादक', 'जंक्शन', 'जेनरिक', 'जिया', 'एडेन', 'सॉफ़्नर', 'क्यूडब्ल्यूवीजीए', 'ध्वनिमिकों', 'फीड्स', 'सुकडि़याल', 'अनगढ़', 'बावजी', 'छोडिये', 'सिप्ला', 'विज्ञानों', 'धस्माना', 'लोंगोवाल', 'बदाम', 'अट्रैक्ट', 'सराहा', 'नृत्यशैली', 'संवरी', 'यक्षाधिपति', 'अरबपतियों', 'मुकद्दमों', 'फोड़े', 'सिहुंता', 'जीवन', 'ढूंढता', 'क्रुसेस', 'कार्यकर्त्रियों', 'प्रतिबद्धताएं', 'डीएलडब्ल्यू', 'प्लेन', 'पायलट', 'अधिवास', 'फैंन', 'फव्वारा', 'हालचाल', 'विश्ववीर', 'क्रेस्ट', 'ब्रह्मलीन', 'विरेचन', 'याद्दाश्त', 'उज्जैन', 'सहयात्री', 'जिम्मे', 'सारावागी', 'देखियेगा', 'वजूद', 'कुंडल', 'रिया', 'स्लाइडर', 'मैनेजमेंट', 'कार्यकार्यकर्ताओं', 'क्रिस्टिस', 'रुकते', 'डिस्ट्रब्यूटर्स', 'स्पेल', 'दमपर', 'ठिकाने', 'इंटरटेक्चुअलिटी', 'सीडीयां', 'साउथ', 'आपका', 'नहींकरवाई', 'जागृति', 'चूड़े', 'थर्टी', 'नक्सल', 'जीएसएम', 'गुजरात', 'दर्शनार्थी', 'नाभा', 'धोखेबाज', 'लेगा', 'बीआईआईटीएम', 'साेमवार', 'वाणों', 'औद्योगिकरण', 'अग्रहरि', 'आफॅ', 'तीमारदारों', 'मिश्रा', 'सेरेब्रा', 'नागारिक', 'दस्तार', 'मकरः', 'जीतोड़', 'बैलिस्टिक', 'चढ़ेगा', 'मांगे', 'नीलाभ', 'मेंशराब', 'सिंघाड़े', 'हिसारः', 'रामकोट', 'बैठते', 'तसखीर', 'इशारा', 'सोलापुर', 'मेजबानी', 'फ्लोरेंस', 'परामर्शक', 'झाड़ने', 'थियेटर्स', 'आदान', 'आंबियंस', 'सुरक्षाः', 'हिकारिको', 'बांया', 'रुकवाई', 'मित्रवत', 'बोकारो', 'मौर्या', 'प्रतिनिधिकारी', 'चंद्रमाओं', 'परोसने', 'ढैया', 'स्पिरिट्स', 'लियान्ड्रो', 'शॉन', 'स्वार्थपरक', 'चूचियां', 'महामीडिया', 'पूर्वजन्मों', 'शोहदापंती', 'कुषाण', 'जमलोकी', 'एवरेस्ट', 'तस्वारों', 'अधिवास', 'प्रेमलता', 'मुर्रिएटा', 'वैमनस्य', 'केली', 'टिनप्लेट', 'वाण', 'महामंत्र', 'मेजबान', 'शुमाली', 'फुलाए', 'प्रूट', 'रुजवेल्ट', 'प्रशासनिक', 'उलझानों', 'पत्रकारवार्ता', 'दुआर', 'कठफोड़वे', 'बिपिन', 'ऑफरः', 'ईसाइयों', 'प्रोपेलेंट', 'कंसाई', 'सीखीं', 'सीडीसीएल', 'एबोट', 'कटलरी', 'आदिवादियों', 'चित्रकथा', 'अवशिष्ट', 'फ्यूचुरिस्टिक', 'तेरीः', 'नन्हें', 'एवरी', 'सूबा', 'शाखाएं', 'त्रिकालदर्शी', 'पालसाही', 'फैलाइए', 'झउवा', 'जमाती', 'जनहानि', 'पोंडिंग', 'तस्वारों', 'देशकाल', 'हिचकिचा', 'बस्तीः', 'गरीबी', 'फड़फड़ाएं', 'सीताराम', 'कमेरे', 'बैरकपुर', 'स्वयंस्वीकृत', 'कासोवो', 'मज़बूरी', 'कन्वोकेशन', 'स्किपर', 'जयपुर', 'प्रस्थानों', 'नरम', 'रेडियोप्रेमी', 'टीटागढ़', 'चिको', 'राज्यमंत्रीस्वतंत्र', 'मैनवल', 'गुजारना', 'सतलुज', 'जातियों', 'अनहोनी', 'टेलीलिंक्स', 'लैब्स', 'हरावल', 'मैरेज', 'मनिया', 'ट्रैक्टर्स', 'कंचन', 'लैरी', 'कार्यावधि', 'जलभराव', 'भाड़ा', 'बागोरा', 'पिएगा', 'स्टीफेंस', 'अभिमत', 'एक्सेल्या', 'वायरलेस', 'चौड़ा', 'परभणी', 'खातेदार', 'बढना', 'बर्च', 'उपद्रवों', 'टिकियों', 'मिल्क', 'डुबोना', 'बेकर', 'सुतली', 'बुद्धाराम', 'वेल्थ', 'पटरानी', 'अर्धविश्वास', 'पैम', 'कास्टानेडा', 'बलजीत', 'भटनागर', 'जातकों', 'इक्वाडोर', 'स्वर्गदूत', 'ऋषिकुल', 'टेट', 'कंठहार', 'बेऔलाद', 'यूरोपिया', 'गए', 'ददरेवा', 'बिखेरने', 'हमलो', 'पकड़ाए', 'उपलब्धियों', 'कोलोराडो', 'पैकर्ड', 'जागृति', 'आंध्रा', 'चौंकाते', 'बेख्वाबियां', 'नफ़ा', 'सिन्हा', 'उत्पीडऩ', 'सागा', 'आर्य', 'दिखाइये', 'अनिष्टता', 'उड़ान', 'संयुक्तावस्था', 'शमलात', 'एवव', 'अधिवक्तागण', 'रल्हन', 'झुठलाने', 'पूर्वाभास', 'बिजेन्द्रसिंह', 'चिनमणि', 'लोकसभावाली', 'लड़की', 'नरसिंहगढ़', 'संगठनमंत्रियों', 'रूपी', 'कार्यकर्ताओं', 'अगस्ता', 'मनमर्जी', 'अंतर्मुख', 'अनुमार', 'रिश्तानाता', 'द्विअर्थी', 'चुटीले', 'हैटीज़बर्ग', 'यूजी', 'राज', 'रैगुलाइजेशन', 'विंध्या', 'फिक्सिंगः', 'कमज़ोर', 'भरा', 'चौदहवां', 'फलने', 'श्रंखला', 'विपन्नता', 'प्रूफ़रीड', 'ज़माना', 'घटाएगी', 'दंगा', 'एरिका', 'भोला', 'व्याख्यात्मकता', 'योजनाः', 'वेबुनियादी', 'रुमानी', 'साहू', 'प्रधाननगर', 'सीऐटल', 'स्टैन', 'इनसानी', 'हमला', 'न्यूट्रियो', 'लदड', 'अंतडियां', 'कुशवाहा', 'कोच्चिः', 'गणपति', 'फार्मिक', 'पड़ेंगी', 'अर्थ', 'मुक़र्रर', 'निपटाकर', 'होलिडेस', 'कूच', 'उठ्ठक', 'सुलखान', 'कमेरे', 'जगाएगा', 'संत्री', 'शख्सियतें', 'पंचांग', 'झालाना', 'नित्या', 'इच्छी', 'हाबरा', 'पालियों', 'एजूस्पर्मिया', 'तावीज', 'फ़ूडवर्क्स', 'ग्राहम', 'प्रभानमंत्री', 'सेथ', 'जगताप', 'हर्षित', 'डूबना', 'रक्तदाताओं', 'मेक्सिको', 'तासीर', 'एयरकंडीशनर', 'एड्डी', 'मैकॉन', 'इसरानी', 'ऐंठ', 'श्रीमहापूर्ण', 'डॉर्क', 'जीनों', 'ग़रीबों', 'तराशकर', 'ऑब्जर्वर', 'आर्यो', 'उखड', 'साथसाथ', 'पैकेजों', 'हिंडन', 'अपरिहार्य', 'मंजिल', 'एलएक्स', 'कर्वी', 'दुभाषियों', 'रिकनेक्टिंग', 'विंड', 'क्लांइट', 'शरारत', 'वेंचुरा', 'रोलिंस', 'हैन्स', 'निकेतन', 'क्रांतियों', 'ट्विन', 'दिव्य', 'गिड़गिड़ाते', 'निगमायुक्त', 'गबली', 'नोवाटो', 'रिश्वतखोर', 'फांसी', 'गर्जना', 'निहलानी', 'पिंटा', 'ग्रीर', 'लेविसविल', 'प्रकाषित', 'क्लैरिएंट', 'क़ायल', 'द्विअर्थी', 'राखे', 'बुलंदशहर', 'स्टेफोर्ड', 'नजरियों', 'वर्ल्ड', 'जीवनियां', 'परमेश्वरपुर', 'उठनी', 'न्यूट्रियो', 'जेठा', 'बागबगीचों', 'सुचिकित्सा', 'नागमण्डल', 'प्रदाधिकारियों', 'उर्वरता', 'नील', 'क्रिप्टोकरेंसियों', 'स्वायत्तशासन', 'जर्दा', 'उपलक्ष्य', 'छुड़वाया', 'विदग्धा', 'मुख्यमंत्रीपटना', 'जैने', 'रतनपुर', 'महानतम', 'गुना', 'एमटेक', 'देनेवाली', 'नाभिकुंड', 'विशेषणों', 'लंगरों', 'पॉलिथीनों', 'संबित', 'ढूंढ', 'हां', 'टकरा', 'धंधेखोरी', 'पुलिंदे', 'एपोक्लिप्स', 'विज्ञानपीडिया', 'महोनी', 'पूंजीतंत्र', 'खरे', 'एक्सटेक्टर', 'ज़ुन्हेबोटो', 'प्रियामणि', 'सवाल', 'सूखाकर', 'आलोचक', 'फाँस', 'जयललिता', 'अमझेरा', 'बॉम्बे', 'व्यग्र', 'अपनानी', 'रिसने', 'छुरे', 'शार्लेट', 'जोस', 'रैलीः', 'मेज़बान', 'धनधान्य', 'डाबर', 'बीएसएसएस', 'नजीब', 'अवस्थाएं', 'जबलपुर', 'धर्मनिरपेक्षताके', 'फार्मर', 'एनएसीएल', 'समरविल', 'बुल', 'झुलए', 'खग्यार', 'मेहराम', 'धस्माना', 'रिपन', 'भागदौड़', 'मिथ्या', 'ललानिया', 'भूलों', 'वडाली', 'नागापट्टिनम', 'वैमनस्य', 'बिगेस्ट', 'जोड़ता', 'महत्तरों', 'ओरछा', 'धैर्यवान', 'सूंड़', 'प्रिंस', 'ज़ुबान', 'कैमस्टूडियो', 'यूरोपिया', 'मेज़ा', 'भुसावल', 'गायत्री', 'वेयर', 'बुद्धिजीवों', 'ऐंठ', 'रदर', 'इलाइची', 'उबाल', 'श्रीगंगानगरवासियों', 'फिजराल्ड़', 'जीवनशैली', 'चार्ट', 'सरगी', 'वेदों', 'मरमर', 'भाते', 'विप्ख', 'बयाने', 'मदनगंज', 'पैकेजों', 'वर्णनकर्ताओं', 'ज़यादा', 'लोकोत्सव', 'तेवरी', 'झाउगंज', 'मालवान', 'तदंरुस्ती', 'ऐल', 'क़ब्ज़ा', 'सुसंस्कृत', 'संधोल', 'आमरियापाड़ा', 'हाब्बन', 'बाउलिंग', 'रस्मे', 'एमडब्ल्यूपीएल', 'विद्याओं', 'बोवी', 'चेन्नई', 'कमलजीत', 'सिंहा', 'पेंशनधारियों', 'बारह', 'डूबना', 'एसेटल', 'चौहान', 'फलने', 'सिद्धार्थः', 'एपेक्स', 'डाल्टन', 'श्रीखंड', 'टेक्सटाइल्स', 'अग्रवाल', 'मिथ्याचारियों', 'सिमटे', 'क्रान्फ्रेंसिंग', 'संस्कृतियों', 'ढंककर', 'निज़ामाबाद', 'छतेनी', 'दुष्क्रिया', 'सासाराम', 'चिढ़ते', 'लाम्बा', 'लउटिस', 'खाएँ', 'धंधे', 'अन्त्यन्त', 'मास', 'बरामद', 'क्रेमिस्ट्री', 'उठनेवाले', 'लहना', 'सिरगिट्टी', 'कंट्रोल', 'अंदाजी', 'कैटलिन', 'पक्षपात', 'फोड़ों', 'फ्रांसिस्का', 'प्रयोगपृष्ठ', 'क्रांतिधरा', 'डैशवाला', 'खुरासान', 'क्वॉरेनटाइन', 'फोंड', 'पक्षपात', 'पुतला', 'ट्रुथ', 'साथसाथ', 'मोहिम', 'जॉनसन', 'सीपीएम', 'बाताया', 'पाल्मर', 'तुगलकाबाद', 'एपकोटेक्स', 'हैरम', 'सरेबाजार', 'येरुशलम', 'मोल्ड', 'वर्णनकर्ताओं', 'हूपर', 'वाटर्स', 'लुभाते', 'फेफड़ा', 'कामोत्तेजना', 'दंपति', 'सोया', 'बर्बरतापूर्ण', 'तड़ीपार', 'लुत्फ', 'तरीको', 'चता', 'पिटमैन', 'पहला', 'मल्टीमीडिया', 'त्यौहार', 'लेबल', 'ले', 'तीर्थाटन', 'सतुआ', 'वर्गस', 'डाबोलिम', 'सूचनाः', 'लेबलिंग', 'रोज़विल', 'फ़ाईब्रेट्स', 'ऑल्टो', 'परतानी', 'अस्मिताओं', 'वांट', 'तड़पती', 'पटेल', 'काजी', 'दोस्तानापूर्ण', 'क्षेत्राें', 'लिंच', 'स्टेट', 'रागों', 'मल्होत्रा', 'प्रज्ञातंत्र', 'दुर्नीति', 'क्रॉस', 'अव्यवसायी', 'धैर्यवान', 'टाइम', 'अशरीरी', 'चन्द्रदास', 'ज्योतिषि', 'एलेक्जेंड्रिया', 'बेवकूफाना', 'सिरपुर', 'उज़्बेक', 'खरुवार', 'धर्मविहीनता', 'सुरेंद्रनगर', 'आल्हा', 'अरुणाचल', 'क्रुएगर', 'बागली', 'दविन्दरपाल', 'चापलूसी', 'संस्कारियों', 'इंजन्स', 'मेंडेज़', 'सियाह', 'गुजारने', 'गजरा', 'कवि', 'मिदनापुर', 'वृत्तों', 'सिरमोन', 'वर्तमान', 'उभरेगा', 'पायलट', 'नरभक्षी', 'एंट्रीक्स', 'डेटन', 'बडू', 'ऑलराउंडर', 'निश्रा', 'वधावन', 'जेन्सन', 'पाली', 'त्रैमासिक', 'अट्रैक्ट', 'वविद्यालय', 'चंदन', 'मेगा', 'मैन्सफील्ड', 'मट्टानचेरी', 'नवकेतन', 'कमतर', 'पिट्यूनिया', 'पुरूषोत्तमपुर', 'तपन', 'ज़ुबान', 'एनसीआरडब्ल्यूसी', 'हैम्बलिन', 'आराम', 'यशपाल', 'वोखा', 'छेत्री', 'ओमैक्स', 'परवीन', 'कुकरेजा', 'प्रेमफलः', 'नरमी', 'श्रंखलाओं', 'अवरोधक', 'तीरों', 'गणेशा', 'झाड़ा', 'अनुपमा', 'तलबगार', 'बिन्दल', 'ज़वाला', 'आमरियापाड़ा', 'प्रतिनिधिकारी', 'हलमतपुरा', 'बूदम', 'मैकियास', 'मेडीकल', 'रिस्पेक्टिंग', 'रंजकता', 'दा', 'सक्शन', 'भूमी', 'त्यौहारों', 'रंगते', 'उत्तरा', 'पेंशनधारियों', 'कार्यकर्ताओं', 'विद्याओं', 'द़फन', 'सरहिंद', 'ख़ासकर', 'रैथ', 'गुडगौंव', 'साहब', 'उड़ानों', 'मेजेस्को', 'पुष्पा', 'केशरी', 'बांबी', 'कारगिल', 'टकरा', 'बिजी', 'क्रोम', 'स्तिथि', 'गल्फ', 'कालोनीवासियों', 'आवृत्तियों', 'सुहानुभूति', 'चमच', 'विरोधाभासी', 'साभार', 'ऑलकार्गो', 'हारना', 'अव्यवसायी', 'प्राविंसेस', 'छेत्री', 'प्रतिष्ठी', 'सपा्', 'पटकी', 'पर्चियों', 'प्रतिवाद', 'लिफ़ाफ़ा', 'दर्शाना', 'गेरीसन', 'आकंड़ों', 'धंधों', 'डिस्ट्रीब्यूटरी', 'खत्री', 'पंजिका', 'बातः', 'रावले', 'कंगन', 'प्रेमात्मक', 'सिपाही', 'नोटबंदीशुदा', 'देवलहा', 'हल्ला', 'ज़मातें', 'मैसी', 'उसक', 'पितामह', 'विवरणःभारतीय', 'नागेरकोइल', 'लख्खी', 'अच्छी', 'सैटिन', 'नागपुर', 'बसीरहाट', 'छेलै', 'उबरकर', 'संयुक्तावस्था', 'सूरी', 'भपाई', 'व्यक्तिगत', 'महाथिर', 'फ्लेश', 'राष्ट्रक', 'राजभाई', 'हॉन्ग', 'लंगरों', 'सुभाय', 'फंड', 'फ्लावर्स', 'उठने', 'बडा़', 'मिश्रा', 'षट्', 'मैनहट्टन', 'सरगुजा', 'ईवनिंग', 'ग्रहणकाल', 'बागली', 'नीऊ', 'मुंडवा', 'तोलासन', 'जेडटीईसाफ्ट', 'नागमण्डल', 'कनाल', 'मछलीपट्टनम', 'फेलिक्स', 'हस्ताक्षरों', 'भिलाई', 'कॉन्ट्रेक्टिंग', 'क़रार', 'जौं', 'भाालू', 'फोर्टिस', 'गिरजाघरों', 'जैनों', 'अर्थव्यवस्थाः', 'ऑक्सीज', 'खिताबों', 'एनका', 'चष्मा', 'बताअाे', 'घृतकुमारी', 'प्राटेस्टेंट', 'ब्युर', 'लक्ष्मीधर', 'सियासी', 'उपयोगितावादियों', 'टूगा', 'समाधियों', 'खुरपका', 'कुमावत', 'एमडब्ल्यूपी', 'सूरज', 'न्यूरोसाइंटिस्ट्स', 'चंद्रेश्वरनगर', 'टैनिस', 'फर्रूखनगर', 'आवाज़ों', 'नजराने', 'पशुचारा', 'वेबुनियादी', 'डेनबरी', 'नईदिल्ली', 'छल्ला', 'रोवन', 'श्योपुर', 'रव्लानी', 'संवरी', 'धाक', 'मस्से', 'इंश्योरेंस', 'संप्रभुता', 'राष्ट्रा', 'जौहरी', 'जुदाई', 'बदमाशाें', 'खिताबों', 'स्वयँ', 'आग़ा', 'ढिंडवाल', 'घिसे', 'सप्पांवाली', 'निखारें', 'बाधित', 'ब्रह्मपुर', 'बैटाउन', 'कोलिंग', 'समाधियों', 'यूनियनवादी', 'छापेमार', 'ग़रीबों', 'थाऊजेंड', 'डसीला', 'कंजेंटेवाइटिस', 'बाधाओं', 'लगेगा', 'दुर्घटना', 'नितियों', 'कैपधारी', 'अत्री', 'सिंगम', 'वास्तविक', 'सबस्टेंसिस', 'पीलेपन', 'उठनी', 'हंडिया', 'प्रतिरक्षी', 'ललकारता', 'दुकानों', 'निविदाताओं', 'सर्वजातीय', 'नरसंहारों', 'नीमकाथाना', 'हेरेरा', 'जुनून', 'इकाई', 'जगदलपुर', 'स्विफ्टलेट', 'जलगति', 'पिट्स', 'रोपी', 'अड़ंगा', 'आलसी', 'चौकियां', 'लेटन', 'वकरंगी', 'डेवलपमेंट', 'शॉनी', 'परदेसियों', 'भूगोल', 'बगीची', 'सिवान', 'स्ट्रे', 'आलसी', 'व्यू', 'विषहीन', 'किस्सागोई', 'महानिदेशक', 'चिकित्साएवं', 'भट्टाचार्य', 'ट्रेंटन', 'कन्याएं', 'प्रियदर्शिनी', 'हुक़ूक़', 'शुल्कः', 'राणे', 'महाविद्या', 'संशयों', 'श्रेणीः', 'ओडोम', 'बेनिटेज़', 'त्यौहार', 'मतियाना', 'शवयात्रा', 'रिश्ते', 'रेहाना', 'क्यूएसएस', 'अनावश्यक', 'रिझाया', 'ब्रिगेड', 'सपने', 'चुनीं', 'कोषाधिकारी', 'करब', 'पलटने', 'कर्णेश्वरधाम', 'आर्यनस', 'प्रतिष्ठानोंं', 'कराईकल', 'उसकी', 'विपरीतता', 'परीक्षाओ', 'फ्यूजी', 'लामिनार', 'जुटाती', 'कौशिक', 'बेकाबू', 'नैनो', 'ओडिसा', 'तोमर', 'रोपी', 'थप्पड़बाज़ी', 'बाबत', 'अट्टहास', 'कोलन', 'प्रतिलीटर', 'भूसी', 'हलिया', 'उत्पीडऩ', 'पोप', 'करखेले', 'बाहुल्य', 'अस्वभाविक', 'कठनाईयों', 'रामजीलाल', 'वसूलता', 'मुख्यमंत्री', 'मारिया', 'सत्मेव', 'बक्सा', 'उदर', 'मैन', 'बुद्धिजीवों', 'सुदीप', 'जोड़ो', 'तसदीक', 'निकालनी', 'भटकाना', 'हारना', 'डिल्लों', 'रजिस्टर्ड', 'भंडारा', 'ललानिया', 'लिमा', 'लालकृष्ण', 'रत्नाभूषण', 'सपरिवार', 'साह', 'समेटती', 'पाइरिया', 'मामलोंमें', 'बरात', 'वैइसन', 'विला', 'लिंडा', 'खरिया', 'चेलानी', 'इलेक्ट्रॉनिक्स', 'ऋषिराज', 'उदयपुर', 'पगला', 'ऋतुकांत', 'कुर्मी', 'दस्ताना', 'एमरल्ड', 'घुमाई', 'उपद्रवियों', 'ओक्लाहोमा', 'धर्मराजने', 'झाओहुई', 'उप्पीड़न', 'खेमिक', 'तुगलकी', 'दोआर', 'अवि', 'जड़ित', 'टैबू', 'प्रोग्रामर्स', 'टेलर्सविले', 'चादरों', 'रेसर', 'भका', 'अंधभक्तो', 'ओब्रायन', 'कृत्या', 'पीरान', 'नजरियों', 'मयूर', 'चौदहवां', 'स्वर्गदूत', 'फेका', 'इंडिपेन्डेट', 'टिंका', 'गुर्दों', 'जातियों', 'समन्वयक', 'सूबे', 'चंदन', 'प्रारंभिकता', 'ट्रैप', 'उदंत', 'डायनामेटिक', 'विद्युतीकृत', 'ललानिया', 'वदरा', 'वेड', 'फड़फड़ाएं', 'ट्रेडेड', 'अखुआपाड़ा', 'सराहा', 'विज्ञानवादियों', 'कमज़ोर', 'यंगस्टाउन', 'आर्यम्', 'पटकथाएं', 'बाजपेयी', 'जस्सी', 'नाऊ', 'एवव', 'लागातार', 'सुमन', 'पड़नी', 'माइंडट्री', 'ड्रिस्ट्रीब्यूट्री', 'जानकारों', 'शंकचराचार्य', 'ऑफशोर', 'दुखों', 'नेस्को', 'फूलती', 'टूल्स', 'वर्गर', 'दमघोंटू', 'वीडियोः', 'राजमां', 'आत्ममुग्ध', 'रॉकफोर्ड', 'मित्रा', 'देवनार', 'ओकोई', 'उत्तरिया', 'कैनविज', 'गैलेक्सियों', 'जीवनियां', 'हकीकत', 'एलिमिनेटर', 'अगस्टाइन', 'कर', 'बीताने', 'दफ्तरवाले', 'बैराढ', 'कंबलों', 'ज्वार', 'फातमा', 'विवेस', 'डीडब्ल्यूटी', 'धातुएं', 'सियाह', 'पीटने', 'बिच्चों', 'जिता', 'सेवाला', 'बताैर', 'आदित्या', 'क्षेत्रें', 'एंकेनी', 'छेत्र', 'मुकरते', 'ऐंठे', 'बाल्टी', 'खंगाली', 'बीएसएसएस', 'ब्ंजजसम', 'पुष्पित', 'लिंमर्ग', 'पेरेड्डी', 'बोदरा', 'फ़ोकस', 'दूताय', 'श्रीलेदर्स', 'महंकमदान', 'घूंसा', 'काव्यविधाओं', 'क्षत्रियादि', 'जानकारों', 'रखना', 'रिश्तेदारो', 'श्रावणी', 'कुबुद्दीन', 'ज्वेलर्स', 'मेहमान', 'रोजलिन', 'जयकारा', 'चबूतरे', 'हरदिल', 'ट्रक', 'न्यूरोवेस्कुलर', 'खेलाने', 'स्ट्रेशन', 'लक्ष्यतीर्थ', 'नेशंस', 'पाठशालाएं', 'निवेदनः', 'लीडरों', 'टेनला', 'सेवकों', 'पूर्वापेक्षाओं', 'मणि', 'साेमवार', 'प्राण', 'अवैज्ञानिक', 'ऐवीऐशन', 'ब्राउन', 'नाकाम', 'अधिवास', 'जनजागरण', 'राजनंदगांव', 'लैरी', 'भाालू', 'तरीको', 'चिकोपी', 'रिफ्रेक्टरीज़', 'बरामद', 'काव', 'एमरल्ड', 'विवेकाधीन', 'फड़फड़ाएं', 'कायलाना', 'पेंट्स', 'पिट्सबर्ग', 'होखत', 'चौरसिया', 'सच्चिदानंद', 'सीड', 'चारों', 'रिज़वी', 'क्ले', 'दंपति', 'दूर्गध', 'देवापुर', 'मनवाया', 'लटककर', 'मेहमान', 'निया', 'उधमपुर', 'अतहर', 'छुपता', 'तुंगनाथ', 'रघुपति', 'प्रकाण्ड़', 'चेंज्ड', 'गंगटोक', 'क्रिकेट', 'फ्रांसिस्को', 'भगाने', 'अड़ंगा', 'फिक्सिंगः', 'कमाऊ', 'तिकोने', 'पैम', 'तरीक़ों', 'आगमन', 'किदवई', 'आश्रितों', 'राघवन', 'जनेऊधारी', 'डेवनपोर्ट', 'प्रेरणापुरी', 'महासिंह', 'लोरदा', 'इंट्रोडक्शन', 'स्वभावतः', 'ग्रीष्मोत्सव', 'तलाशेगा', 'सहरसा', 'मैके', 'मोशे', 'ग्रंथियां', 'लोहाती', 'अलायंस', 'तगड़े', 'छींके', 'सिवान', 'थकी', 'लेटकर', 'हिकारिको', 'टायर्स', 'नृत्यों', 'डियरफील्ड', 'चरित', 'बैथलहम', 'फिनोटेक्स', 'असाही', 'पहन', 'धनश्याम', 'फारेंसिस', 'लहना', 'द्वारिकेश', 'डुबाना', 'काराबोरियों', 'गोलमुरी', 'राखणौ', 'विपणक', 'पंचांग', 'ब्रीद', 'गुल्लरवाला', 'एडब्ल्यूपी', 'बाज़ी', 'हरपाल', 'प्रेमेश्वर', 'प्राप्त', 'नक्सलवाद', 'कंठहार', 'ऑक्साइड', 'खैराती', 'देशके', 'सुनासीर', 'अफसराें', 'सेहो', 'चबाते', 'मिति', 'बेलचा', 'सफ़लता', 'शबाना', 'खातूटोला', 'शिवास्तव', 'प्रेरणापुरी']\n",
            "51200\n",
            "4096\n",
            "4096\n"
          ]
        }
      ]
    },
    {
      "cell_type": "code",
      "source": [
        "# For Local run\n",
        "# Had to intall panda, there was no other way\n",
        "\n",
        "!pip install pandas"
      ],
      "metadata": {
        "colab": {
          "base_uri": "https://localhost:8080/"
        },
        "id": "VaVQFWdLoFkn",
        "outputId": "d0edea44-e890-4ab0-9c28-d38bbca2f89a"
      },
      "execution_count": null,
      "outputs": [
        {
          "output_type": "stream",
          "name": "stdout",
          "text": [
            "Requirement already satisfied: pandas in c:\\users\\aslwo\\anaconda3\\lib\\site-packages (2.1.4)\n",
            "Requirement already satisfied: numpy<2,>=1.23.2 in c:\\users\\aslwo\\anaconda3\\lib\\site-packages (from pandas) (1.24.3)\n",
            "Requirement already satisfied: python-dateutil>=2.8.2 in c:\\users\\aslwo\\anaconda3\\lib\\site-packages (from pandas) (2.8.2)\n",
            "Requirement already satisfied: pytz>=2020.1 in c:\\users\\aslwo\\anaconda3\\lib\\site-packages (from pandas) (2023.3.post1)\n",
            "Requirement already satisfied: tzdata>=2022.1 in c:\\users\\aslwo\\anaconda3\\lib\\site-packages (from pandas) (2023.3)\n",
            "Requirement already satisfied: six>=1.5 in c:\\users\\aslwo\\anaconda3\\lib\\site-packages (from python-dateutil>=2.8.2->pandas) (1.16.0)\n"
          ]
        }
      ]
    },
    {
      "cell_type": "code",
      "source": [
        "# For Local run\n",
        "import pandas as pd\n",
        "\n",
        "# Define the function for loading data\n",
        "def dt_ld(path):\n",
        "    # Load data from the CSV file using pandas\n",
        "    dt = pd.read_csv(path, sep=',', header=None, names=[\"eng\", \"hin\", \"\"], skip_blank_lines=True, index_col=None, encoding='utf-8')\n",
        "\n",
        "    # Filter out rows where either 'eng' or 'hin' column is NaN\n",
        "    word_data = dt.dropna(subset=['eng', 'hin'])\n",
        "\n",
        "    # Select only 'eng' and 'hin' columns\n",
        "    word_data = word_data[['eng', 'hin']]\n",
        "\n",
        "    return word_data\n",
        "\n",
        "# Define the file paths for train, valid, and test data on your local machine\n",
        "\n",
        "train_file_path = r\"C:\\Users\\aslwo\\Downloads\\aksharantar_sampled\\hin\\hin_train.csv\"\n",
        "valid_file_path = r\"C:\\Users\\aslwo\\Downloads\\aksharantar_sampled\\hin\\hin_valid.csv\"\n",
        "test_file_path = r\"C:\\Users\\aslwo\\Downloads\\aksharantar_sampled\\hin\\hin_test.csv\"\n",
        "\n",
        "# Load the data using the defined function\n",
        "train_data = dt_ld(train_file_path)\n",
        "valid_data = dt_ld(valid_file_path)\n",
        "test_data = dt_ld(test_file_path)\n",
        "\n",
        "# Display test_data\n",
        "print(test_data)\n",
        "\n",
        "# Extracting 'eng' and 'hin' columns into lists\n",
        "test_hin = list(test_data['hin'])\n",
        "test_eng = list(test_data['eng'])\n",
        "\n",
        "# Some visualization of data\n",
        "print(test_eng)\n",
        "print(test_hin)\n",
        "print(len(train_data))\n",
        "print(len(valid_data))\n",
        "print(len(test_data))\n"
      ],
      "metadata": {
        "colab": {
          "base_uri": "https://localhost:8080/"
        },
        "id": "84WpCJlDoTjX",
        "outputId": "dfadef77-4673-47bc-f831-fbe1be5718b6"
      },
      "execution_count": null,
      "outputs": [
        {
          "output_type": "stream",
          "name": "stdout",
          "text": [
            "               eng          hin\n",
            "0          thermax      थरमैक्स\n",
            "1        sikhaaega      सिखाएगा\n",
            "2            learn         लर्न\n",
            "3         twitters     ट्विटर्स\n",
            "4      tirunelveli  तिरुनेलवेली\n",
            "...            ...          ...\n",
            "4091       saflata       सफ़लता\n",
            "4092        shbana        शबाना\n",
            "4093  khaatootolaa     खातूटोला\n",
            "4094    shivastava     शिवास्तव\n",
            "4095  preranapuree  प्रेरणापुरी\n",
            "\n",
            "[4096 rows x 2 columns]\n",
            "['thermax', 'sikhaaega', 'learn', 'twitters', 'tirunelveli', 'independence', 'speshiyon', 'shurooh', 'kolhapur', 'ajhar', 'karaar', 'anka', 'wpd', 'haashie', 'glendale', 'udhed', 'ekthi', 'idea', 'ambikapur', 'makerere', 'saboodaane', 'foohadta', 'sequent', 'shueb', 'panihati', 'sametati', 'ukhrul', 'brahmlin', 'utaraadhikaaree', 'iqbal', 'dayaalapuraa', 'sohrai', 'takreeban', 'farrukhnagar', 'theinga', 'tyoiharon', 'karneshvardhaam', 'umanath', 'daanshil', 'saahityotsav', 'shantiniketan', 'shikayatkarta', 'andarkhane', 'panter', 'leedaron', 'galgand', 'kaarniyaan', 'murgipaalan', 'mushahid', 'modules', 'rajouri', 'sushrushaa', 'shringaar', 'holt', 'laigikata', 'ijaajat', 'vankshetra', 'bhutal', 'swaadpremiyon', 'nineteez', 'frektar', 'likhkar', 'eyarkandeeshnar', 'nabz', 'quess', 'bouni', 'kaaragujaariyaan', 'gaangnam', 'tapia', 'tezpur', 'talve', 'seemaai', 'darshnaarthi', 'rivas', 'tarkvaad', 'anusaarakaa', 'coachella', 'latakakar', 'patravaliyan', 'parishad', 'spinj', 'anshida', 'dejesus', 'saraaymohiuddinpur', 'lowell', 'capacitor', 'passengerjind', 'granthiyon', 'buena', 'canterbury', 'kaathiyavadi', 'tekchandani', 'fisad', 'beraharamee', 'nishkarshah', 'activities', 'rikailleebreshan', 'shasanadhikaariyon', 'fijoolkharchi', 'dablyoopeedee', 'pace', 'dastar', 'catlin', 'joddta', 'killat', 'gruhnagar', 'wonder', 'vatar', 'shving', 'pashtun', 'farm', 'dibanu', 'pashchamee', 'uthapatak', 'nilaabh', 'laxmeeniyaan', 'mahaanagarawaasiyon', 'upneta', 'convention', 'sharp', 'kaaryayojana', 'maas', 'westing', 'kurvetee', 'jyaada', 'mukeshvari', 'shrimati', 'vivekadhikaron', 'loksabhavalee', 'kabahaa', 'bhraantiyon', 'vivekahin', 'balmiki', 'haryana', 'jivraj', 'flynn', 'rana', 'vishnupura', 'ghotaalebaajon', 'hairatangenz', 'takaleephadeh', 'peepaadh', 'dhabhaashaaraa', 'antdiyan', 'robin', 'singar', 'gumshudagi', 'balkrishna', 'phabti', 'palatne', 'lahlahaati', 'nagaada', 'udanen', 'klein', 'juloos', 'karyabhar', 'manto', 'paimaish', 'covina', 'penshan', 'ogastaavestalaind', 'centreeng', 'activa', 'barker', 'valkan', 'vruton', 'kabaddi', 'raunakh', 'caitlyn', 'phoos', 'jangadnaa', 'upakhyaanon', 'sundram', 'cochin', 'neko', 'kaushal', 'phaliya', 'acevedo', 'kottayam', 'dilaaega', 'kurvi', 'saunpengi', 'lekhan', 'gudepu', 'pharase', 'nubiya', 'taja', 'aantrit', 'qazi', 'murgipalan', 'eddy', 'nagine', 'subha', 'luis', 'vijayapuram', 'bataao', 'ochoa', 'science', 'sarkarein', 'bremerton', 'gurupado', 'sanyukt', 'raalod', 'baadhaon', 'gaumutra', 'sabhaen', 'tani', 'delhi', 'suken', 'vineet', 'chimate', 'kikiyana', 'rocket', 'maxwell', 'hippo', 'deepan', 'arymaa', 'bhulata', 'karmaacharee', 'durgapur', 'tribhaashaa', 'soodkhoron', 'prastaavon', 'survin', 'prapti', 'girivaasiyon', 'siducing', 'welwet', 'muqarrar', 'baxter', 'denier', 'cw', 'uthani', 'ghasi', 'ikattha', 'bhupsingh', 'dabochne', 'crosby', 'naameegiraamee', 'hurley', 'jarda', 'liepradhanmantri', 'bhranti', 'agencyyon', 'bago', 'forcee', 'bosaan', 'karki', 'ginate', 'manokaamnaaon', 'sammpattiyaan', 'politheenon', 'mtake', 'parichar', 'badabadee', 'crane', 'laamiyaan', 'ulhasnagar', 'prabhanmantri', 'shiwalapurwa', 'ferth', 'suhagin', 'saraikela', 'romeoville', 'raajsthanvasiyon', 'pratirodhaatmak', 'svarnikaa', 'vyavasthapana', 'tel', 'galatfahmi', 'takeinsider', 'microfiber', 'shreemahapoorn', 'fallujaa', 'donaldson', 'chadhne', 'jeevvigyaaniyon', 'cricketing', 'reduction', 'awaazen', 'wlaad', 'prathmik', 'thenga', 'excel', 'chatakaate', 'kubuddin', 'taaza', 'padani', 'nichaai', 'wausau', 'aalochakon', 'jaljale', 'surat', 'jeevati', 'prahaarak', 'shreesadguru', 'sanchalanon', 'bhal', 'tughlaq', 'uthaapatak', 'hastaantaraneey', 'utsaahawarddhan', 'sangoshtree', 'shaasanadhikariyon', 'mahadhipatiyon', 'fatima', 'fode', 'kantinyoo', 'kaamanaen', 'chutile', 'sankhyaen', 'kranj', 'barsata', 'parikalpit', 'harpal', 'maaoont', 'grover', 'biolozis', 'halisahar', 'angelo', 'janeudharee', 'bichbachaav', 'pokar', 'apvartit', 'aastin', 'pratishthaavaale', 'buenaventura', 'deccan', 'seriw', 'pardaa', 'emile', 'shaili', 'eastvale', 'chhallaa', 'lakshyon', 'hoaf', 'jarurih', 'rahya', 'mahkane', 'devi', 'nielsen', 'bhira', 'chabutare', 'bhushan', 'rukte', 'aamdani', 'talkshow', 'junagadh', 'padhata', 'odhakar', 'broke', 'talaasha', 'parivaarwaale', 'trubyunal', 'brock', 'yallaappaa', 'tasvaron', 'tugalaki', 'pick', 'circulation', 'jvar', 'kanindham', 'kush', 'properfacebuk', 'ashrafi', 'chadhen', 'vangchuk', 'honeywell', 'radiumdharmee', 'ladhege', 'sachan', 'arthshastriyon', 'canton', 'aatmamugdha', 'pontiac', 'lopez', 'ghontanaa', 'ambani', 'maryadaon', 'ratlam', 'hercules', 'akola', 'sakshan', 'notbandeeshuda', 'lagavaatee', 'alive', 'jivant', 'foda', 'fatahee', 'noobiyaa', 'lalmanee', 'faisala', 'krutyaa', 'dhuan', 'ahuja', 'pratipaalpur', 'namkeen', 'manjilen', 'laffaajee', 'juraab', 'fulae', 'castalloy', 'black', 'sooraj', 'bronch', 'avarnataa', 'johari', 'tevree', 'sanders', 'welder', 'eneeyoo', 'bharashtachaariyon', 'laalmanee', 'khaatedaar', 'aazmaanaa', 'aavrittiyon', 'kullawee', 'bahawalpur', 'prathmikta', 'mobile', 'katihar', 'swecha', 'haamidan', 'samdharshni', 'dridh', 'gond', 'wishesh', 'kaabilegour', 'laurense', 'hisham', 'chausinga', 'pafin', 'mate', 'buildcon', 'teekon', 'athak', 'jindagee', 'chayal', 'maap', 'last', 'gajra', 'ratrichar', 'kaathalaa', 'sahuuliyata', 'pattnaik', 'nyayalayeen', 'mukhyamantriyon', 'jeetanewalon', 'swaphoto', 'clifton', 'doda', 'pendulum', 'chipakane', 'nalakasa', 'chhah', 'gond', 'sameekshaakartaa', 'mantripad', 'liberation', 'asamaany', 'chungiyon', 'arica', 'balot', 'thin', 'formic', 'yuddhak', 'vegas', 'las', 'chitranshi', 'avranta', 'wasting', 'vitark', 'mukabaale', 'dharmapoorwee', 'ambaani', 'ibija', 'mahamedia', 'suzlon', 'varnit', 'jhuthlane', 'madurai', 'kaundal', 'lapatta', 'kshin', 'tewaree', 'raichur', 'lindon', 'pulama', 'olraunder', 'garibon', 'callahan', 'wabag', 'kaipdhari', 'atta', 'bareli', 'jing', 'jivan', 'reddy', 'pehni', 'tanu', 'deepika', 'lohati', 'kakkad', 'maulviyon', 'dungarpur', 'zaalaanaa', 'lakme', 'prospectus', 'westinghouse', 'bawara', 'thakkr', 'ichchhaachaaree', 'triya', 'dhavakon', 'damle', 'shravanabelagola', 'nilkamal', 'karmacharee', 'poorwottar', 'lehrayi', 'haito', 'prakaandh', 'khelmantree', 'bhavishya', 'egmor', 'shringar', 'saupengee', 'knoxville', 'bender', 'sundaram', 'pradesh', 'samvedikaran', 'laguna', 'bhisham', 'yemmiganur', 'huhtamaki', 'vadli', 'gail', 'race', 'salazar', 'diphtheria', 'dradh', 'shadadhi', 'prabodhini', 'lokpratinidhiyon', 'jatati', 'mangla', 'berwyn', 'mum', 'udaygadhi', 'akapulko', 'vaidhruti', 'charanbaddh', 'mandadi', 'euclid', 'paarampariktaa', 'hafate', 'sathiya', 'sanghiyataa', 'mukhyaatithiyon', 'vyavasthavirodhi', 'raktadaataaon', 'baramade', 'tarutal', 'kutta', 'jhaadaa', 'kishun', 'schaeffler', 'amrohi', 'raidical', 'jenner', 'varshiya', 'hasino', 'shaavakon', 'rupa', 'swaarthparak', 'weronika', 'webb', 'mahapatra', 'chenkein', 'agra', 'jiyaangkou', 'westwork', 'janaganna', 'pasco', 'jadhav', 'enterprise', 'sanshayon', 'varnavyavasthaavaadiyon', 'upasthiyon', 'mudichu', 'parnstaron', 'ia', 'baila', 'livaal', 'hillsboro', 'rashtriyadhyaksha', 'peedablyootee', 'thousand', 'shaakir', 'salahkaar', 'vishwakarma', 'ridge', 'swaasthyaheenataa', 'rishvatkhor', 'praavinses', 'daftarvaale', 'physician', 'log', 'jodhika', 'sevalaa', 'doobat', 'sipah', 'bharamaa', 'prtigyaa', 'meghwal', 'nandoi', 'aurora', 'formuley', 'durghtna', 'swatantrasingh', 'monterey', 'baalti', 'columbia', 'whittier', 'dukke', 'cubeck', 'chamakna', 'sheelbhag', 'bistagond', 'findlay', 'bapaa', 'dehra', 'aise', 'shrankhala', 'hastaaksharon', 'tirupati', 'mangalmoortih', 'kursiyon', 'mithaiyaan', 'pahno', 'halebid', 'bangsh', 'officially', 'sevai', 'gurjar', 'samanvayaka', 'parnel', 'sunsan', 'cusex', 'madhya', 'yudhrat', 'urbandale', 'briggs', 'error', 'chikhali', 'waan', 'adhikaariyaan', 'roanoke', 'haokip', 'poorvapekshaaon', 'masheenawat', 'kadmo', 'kurami', 'vidyaathyon', 'simtataa', 'sangrur', 'strongsville', 'agvaai', 'jangan', 'nagraj', 'yariyan', 'bhagyeshwar', 'jivati', 'sudkhoron', 'rukwaakar', 'brahmvarta', 'gray', 'bhraanti', 'purooshottamapur', 'teji', 'svaatan', 'mantarimandaliya', 'ashley', 'mathews', 'moolon', 'akzo', 'hamirpur', 'pokhriyal', 'bolateen', 'pratishthavale', 'dabangata', 'dhuriya', 'teap', 'gazi', 'ijajat', 'mejbani', 'toledo', 'mohadhaa', 'putli', 'sanchari', 'taapanee', 'little', 'narnaari', 'dhaniye', 'gadhoonga', 'faadi', 'gammat', 'tuberculosis', 'nagarjuna', 'raajneechi', 'medizensar', 'laphphaajee', 'commerce', 'maathaloo', 'chatagaon', 'hilig', 'isnpector', 'testing', 'naushad', 'falluja', 'pik', 'jiwan', 'katal', 'dablyooeeef', 'besil', 'slidon', 'saindan', 'jeremy', 'gaanv', 'todenge', 'udaan', 'saptkraanti', 'miranda', 'vyapak', 'maddy', 'sabhasadon', 'nauvahan', 'atmaen', 'rosa', 'damaae', 'midwest', 'trelarah', 'marlborough', 'waco', 'vimarshon', 'khan', 'difarard', 'sarsaa', 'hester', 'uttar', 'kasera', 'kuraaane', 'dayitvon', 'chayaniton', 'morales', 'heros', 'premamoolak', 'moran', 'zydus', 'nelson', 'amarpal', 'phatne', 'tinka', 'gaayikaao', 'pakayen', 'bhrashtachariyon', 'chalit', 'affle', 'mod', 'rajnitikaaron', 'arthon', 'gaaligalauj', 'anyonyashritata', 'udaya', 'cutlery', 'pratibandhah', 'neelaabh', 'bilae', 'khullamkhulla', 'swanson', 'anvaahaarya', 'rewari', 'sahkalakar', 'championship', 'bhadkaayaa', 'namdhari', 'alba', 'watanukoollan', 'khaatadhaarak', 'texas', 'special', 'harvansh', 'dinu', 'shaniwar', 'de', 'dabi', 'nahinkarvaaee', 'maarvaad', 'peediyon', 'brigton', 'mnaey', 'ligar', 'dilaega', 'aadhin', 'parwa', 'hempstead', 'mamooli', 'pradeshikaa', 'verification', 'fefada', 'wisangatiyaa', 'kachchhe', 'ghost', 'pipli', 'lovasa', 'helper', 'doobnewaale', 'bakhshane', 'indriyonke', 'barhad', 'risaalee', 'kaksheevati', 'vishvarakt', 'lodi', 'peachtree', 'ghumakkdon', 'ojha', 'ilaaj', 'arunai', 'ayodhyeanath', 'bhautikwadiyon', 'roket', 'nurochemistry', 'coldvel', 'aawaazen', 'mool', 'multiplexon', 'tyoihar', 'rotation', 'belacha', 'sahakalaakar', 'jadit', 'nagaaraa', 'barpaya', 'doongarpur', 'land', 'uchchhrunkhalataa', 'failaiya', 'suchi', 'noon', 'rp', 'shield', 'palanpur', 'electrosteel', 'obscura', 'cigretton', 'dikhaee', 'russell', 'nazarandaaz', 'kualalampoor', 'austin', 'raidcras', 'tcns', 'svaayattshasan', 'mood', 'daulatabad', 'bhulta', 'pratikaara', 'nights', 'nakam', 'shutting', 'raashtra', 'bechkar', 'stone', 'wardha', 'deedablyutee', 'desabathula', 'baapa', 'baghbaan', 'aadeshah', 'udelkar', 'tarko', 'yaaddaasht', 'inhalation', 'safradganj', 'roopak', 'scranton', 'varnavyavasthaawaadiyon', 'shikshakarmiyon', 'khandelwal', 'beverages', 'pidiya', 'nadaf', 'jehe', 'dhahaaenge', 'mastmaula', 'agartala', 'jamayaa', 'pardesi', 'arya', 'velvet', 'aapdaein', 'aagashe', 'achchi', 'udghosh', 'swabhawatah', 'bani', 'raykar', 'pidilite', 'dual', 'bheera', 'silva', 'adhikaran', 'rangkata', 'srichakra', 'gowmutra', 'nichalaa', 'burhanpur', 'sahooliyata', 'labdh', 'poole', 'strasion', 'picking', 'oditar', 'deniar', 'ajit', 'langdon', 'avashist', 'jha', 'prashasnik', 'bossier', 'badhachadhakar', 'giridih', 'bhuj', 'reading', 'fawaare', 'advait', 'rukate', 'anonditaa', 'fontana', 'nyutriyo', 'pailoton', 'jaden', 'boriwali', 'ilaichi', 'alliance', 'dhammaa', 'nahargadh', 'nsiu', 'sapaat', 'lengdan', 'panama', 'putle', 'aasaapaas', 'alwadhi', 'mufalisi', 'sansathaan', 'darshnaarthee', 'lokotsav', 'graahakonne', 'uchchaadhikaareeyo', 'bhav', 'reja', 'motherson', 'kauplaiks', 'aaburod', 'heidelbergceat', 'chimati', 'surfactants', 'mitao', 'kailana', 'tankar', 'odhkar', 'merta', 'megavaal', 'rasyanik', 'soochnah', 'sugamata', 'jockey', 'munaf', 'niswarth', 'kshetradwaaraa', 'mahawar', 'buldhana', 'dhamkata', 'bhusvami', 'vigyan', 'quete', 'bevkufana', 'jajmau', 'beltran', 'vilas', 'makhdumpur', 'kolorado', 'blackburn', 'suniti', 'ghigghee', 'flavonoids', 'chahunmukhi', 'supachye', 'siratee', 'vishnu', 'chaudahavan', 'chaudhari', 'aabru', 'balurak', 'davangere', 'anurit', 'shipping', 'patiala', 'jaanam', 'financial', 'damae', 'policy', 'icc', 'kuchchh', 'cheekhna', 'reliance', 'urvarakon', 'ravael', 'ladhkiyon', 'mukeshwaree', 'wankshetra', 'ummeede', 'kahaavah', 'kaantipoorn', 'badaaen', 'enseeaardablyusee', 'pratibaddhataa', 'follow', 'sevamukta', 'evanston', 'charas', 'hills', 'robertsan', 'bhadauriya', 'glaxosmithkline', 'producton', 'guevara', 'vigyaanon', 'jarvis', 'laphz', 'font', 'paradheen', 'shak', 'ganjhoo', 'dit', 'danptiyon', 'maadhikhedhaa', 'pratishthaanon', 'soond', 'ginte', 'alagalag', 'swastikakaar', 'pratikaraa', 'aastik', 'niveshkartaa', 'saval', 'sanskritiyan', 'raubdar', 'raghuram', 'intaravyu', 'chharhari', 'sawyer', 'bhasapa', 'jvaaron', 'sansthita', 'parshdon', 'pulatskar', 'uthaaeange', 'laengee', 'oeeef', 'valsad', 'mulon', 'putliyan', 'shmil', 'riggs', 'camarillo', 'saflataa', 'vinasht', 'kping', 'jayalalithaa', 'items', 'soccer', 'asphalt', 'mehrotra', 'chune', 'zarakh', 'mejbaani', 'muflisi', 'luna', 'warnavyavasthaavaadiyon', 'lipaaee', 'uthni', 'bajaj', 'hisarah', 'dampatiyon', 'watson', 'augustustine', 'pataakshep', 'dhandhekhoree', 'ubhregaa', 'anton', 'apardarshi', 'nihlaani', 'tivolee', 'hogis', 'winter', 'badalavaakar', 'ghumaee', 'petaluma', 'beeemdablyooem', 'bakhshate', 'sanvedikaran', 'telon', 'ghummakkadon', 'haanfte', 'farheen', 'james', 'kiratpur', 'redding', 'shaq', 'surprise', 'kisanon', 'chalenge', 'yoder', 'stein', 'paithelojist', 'labeling', 'ikthiyosis', 'liberation', 'phoodon', 'nanhein', 'bhadauria', 'jatilaa', 'pahunchanee', 'raashtron', 'blossom', 'tandon', 'gadbadbadee', 'sanasthita', 'yatraen', 'aadan', 'javate', 'niyuttiyon', 'bhishm', 'hundiya', 'murgeepaalan', 'malekar', 'loveland', 'mavey', 'vikram', 'hanfte', 'barrackpore', 'ghaziabad', 'tarkon', 'spf', 'artemis', 'aipp', 'jaiban', 'gairairaadatan', 'vivekadhin', 'sabajooniyar', 'faliya', 'prekshakganon', 'purvaasiyon', 'vipannata', 'maanga', 'ordanens', 'pradhan', 'abhiyuktonke', 'viratkhand', 'hijbul', 'vidyaon', 'manju', 'chhawindra', 'chhupkar', 'doranda', 'saym', 'mithhaiyaan', 'jeevvigyaniyon', 'pashtuun', 'brahraachaarinee', 'jerusalem', 'altamonte', 'sihuntaa', 'hemwati', 'koshadhikaaree', 'ashanka', 'bean', 'vaigyanikata', 'jheelon', 'robarto', 'shrirampur', 'manchiya', 'vasoolataa', 'morrison', 'mhagranth', 'transistor', 'sarvjaatiya', 'patotsav', 'houkee', 'medithsan', 'udana', 'saraaymohiuddeenpur', 'petersburg', 'ranjkatha', 'diya', 'mohindar', 'mastek', 'nirbadh', 'ehsaas', 'avrutiyon', 'eshiyavan', 'thki', 'turbine', 'dimaak', 'jodhpur', 'durdhara', 'khaastaur', 'makrani', 'high', 'fatahi', 'mariya', 'ganv', 'pendulam', 'aavishakaar', 'natijeh', 'jeffersonville', 'brahmasiddhi', 'tulshidas', 'reeta', 'charchaamanch', 'pratikaaraa', 'tarkwaad', 'dabangon', 'hichkicha', 'sheershakon', 'dam', 'dviarthee', 'jawabah', 'bahumaan', 'jaanchkarata', 'vandemaataram', 'should', 'agsta', 'neu', 'dastakhatshuda', 'surinama', 'kingkhan', 'taras', 'rekannecting', 'phaibrik', 'clair', 'chhejat', 'mominatolaa', 'virodh', 'arena', 'unionwaadi', 'bamleshvaree', 'boca', 'immaturity', 'sansthaan', 'jin', 'dadrewa', 'kide', 'karawanou', 'putin', 'tankaar', 'khatakati', 'jadd', 'pushpa', 'gm', 'yusugi', 'korola', 'pyade', 'karavaayegee', 'balaatkaariyon', 'jatatee', 'gurdaspur', 'shreshthaswaroop', 'shubhprabhaa', 'europlast', 'rashtrabhakton', 'canterbari', 'communicators', 'mahamanch', 'conway', 'dwf', 'reeves', 'dabhoi', 'bhootal', 'insaano', 'emily', 'vigyaanam', 'sapatey', 'atwaal', 'hindan', 'aaufisaree', 'montclair', 'purnsveekrit', 'richardson', 'sandrbh', 'fargo', 'aleem', 'saptakranti', 'hr', 'imaandaari', 'kontrekting', 'gangajal', 'gaur', 'adhikariyon', 'bandhan', 'sendha', 'dablyoopidi', 'gravita', 'lincoln', 'pravrittivigyanon', 'cementation', 'bagad', 'gentry', 'datson', 'montebello', 'renewables', 'naksalwad', 'aitraz', 'itibhagwatee', 'niveshkarta', 'patkathayen', 'kaabiletaarif', 'bhaadas', 'bhogte', 'holding', 'dhatta', 'dhoron', 'upakhyanon', 'fayetteville', 'stockton', 'brijesh', 'pratigya', 'badhaati', 'then', 'thomas', 'dhyeywadi', 'tuesday', 'wgpl', 'ovum', 'gati', 'nucleus', 'kraar', 'purooshottamaachary', 'manchanda', 'lahsun', 'naqaab', 'suja', 'mckenzie', 'purzon', 'bahunt', 'bravo', 'amaanat', 'jhuthla', 'bush', 'chaukhate', 'apar', 'asthetic', 'kshetradwara', 'sajja', 'dhahaane', 'nariyalyukt', 'jealous', 'kursiyo', 'singhaadey', 'amy', 'antarmukh', 'thakkar', 'badbolepan', 'naxaliyon', 'manner', 'himali', 'naksalavaad', 'half', 'mahaadharmaadhyaksha', 'parmoujood', 'tippanikar', 'perels', 'bhapaee', 'beetaane', 'valve', 'dwirookta', 'eddie', 'jivaniyaan', 'panghal', 'khand', 'urvarkon', 'besin', 'giriwasiyon', 'paradhin', 'pukhtaa', 'achnera', 'carson', 'delta', 'tripura', 'alaymani', 'kheda', 'nahargarh', 'shalimar', 'immaichyority', 'elendt', 'properphasebuk', 'udanon', 'mhajan', 'moses', 'bataayaaki', 'alai', 'ilectromeetar', 'amod', 'rookenge', 'maariya', 'raagon', 'aaipief', 'phalitartha', 'supachy', 'awashist', 'ishat', 'rate', 'aata', 'mahalon', 'warishthon', 'jalapot', 'katrina', 'jismafaroshee', 'salary', 'raza', 'rectare', 'basil', 'badhaataa', 'charanbaddha', 'bhadkaya', 'sahityotsav', 'naraseepura', 'samjhunga', 'chandrapur', 'sarkaa', 'dhaah', 'praudh', 'ahitakaaree', 'darawani', 'belinda', 'alayamanee', 'datsun', 'ate', 'fasteners', 'bangravala', 'saira', 'atthas', 'nirdal', 'mahbubnagar', 'daratey', 'valkkan', 'khastaur', 'barsaai', 'ananddaayak', 'banbi', 'toh', 'asmanye', 'wipannta', 'spast', 'amzera', 'bechakar', 'ghatabadh', 'kaushalta', 'machine', 'wireless', 'fainn', 'gaano', 'khambhat', 'kyooaaeepeees', 'dublin', 'mta', 'samruddhiyon', 'radhakrushnadas', 'kaansting', 'idukki', 'industrial', 'bharatwanshee', 'maangi', 'robins', 'vladimir', 'pehowa', 'bagh', 'ummidwaaree', 'saafgoi', 'koottaa', 'adain', 'grenite', 'ustara', 'dhundhta', 'sangheeyataa', 'kumari', 'depthiriya', 'adchane', 'koriyaah', 'prapat', 'chhudawaaya', 'suiyan', 'veronika', 'schaeffler', 'jyaadaa', 'potter', 'media', 'yarushalem', 'pichde', 'letaseng', 'arthavyawasthataaon', 'kakoo', 'nirdeshika', 'seto', 'navate', 'samvedansheelata', 'roadrej', 'chhahon', 'laphj', 'vanshvad', 'rohtak', 'atakta', 'baawaraa', 'kribarabh', 'prakashakah', 'styrolution', 'apaardarshi', 'bengaluru', 'andhapan', 'mainan', 'kyaah', 'formulae', 'hamalavar', 'amavasya', 'purvapekshaaon', 'daishawaalaa', 'oklahoma', 'darmait', 'sahakalakar', 'fatma', 'khalati', 'dayitva', 'kyusaiks', 'tolakarmee', 'version', 'parisamvad', 'immune', 'bachti', 'utilities', 'malmaas', 'cadmium', 'antioch', 'khatedaar', 'mohini', 'vishwasniiyataa', 'rehman', 'kanblon', 'aaryika', 'marrej', 'chheenk', 'phalata', 'baagoraa', 'pakaude', 'lucie', 'fatehgadh', 'grahanakaal', 'jobs', 'sadanand', 'dutt', 'murgeepalan', 'lurhakate', 'palmonari', 'win', 'ubhaara', 'beck', 'padaraunaa', 'bandhate', 'kapoor', 'sevaala', 'vershan', 'chidhate', 'thane', 'nikalogi', 'mogali', 'dredger', 'nagarik', 'gajipur', 'vadak', 'mitchell', 'gyatvy', 'standhaari', 'dhoraaji', 'abdunnaasir', 'vishvwandhya', 'satyaarthprakash', 'shivamogga', 'ghumakkdi', 'gayen', 'chee', 'theateron', 'anadhikaarik', 'shasak', 'hines', 'bettiah', 'dhatna', 'rahamat', 'motihari', 'pearson', 'ujback', 'wheeling', 'pythogaras', 'wipro', 'kaabiletaareef', 'jamaate', 'pulam', 'daubaaraa', 'portillo', 'adhik', 'dhumrapaan', 'daampatya', 'jamudiya', 'pedoo', 'pipra', 'blair', 'communications', 'alayans', 'aradas', 'gudna', 'just', 'aawajon', 'benvar', 'amarillo', 'bramhaand', 'dikhai', 'tantro', 'aasan', 'tuglakabad', 'sutton', 'kandrour', 'khanna', 'nikalani', 'dibanoo', 'immachyoritee', 'tolaasan', 'jaanaakaree', 'liwaal', 'engeline', 'rushitaa', 'flint', 'vrishchikahsaptah', 'aasmatee', 'girkar', 'vaigyaanik', 'bishadhee', 'phoolatee', 'punahsthapana', 'badh', 'gandha', 'chakshu', 'miktaam', 'liidaron', 'zabardast', 'stuti', 'aurato', 'heblikar', 'rattebaajee', 'francisca', 'mumba', 'pratiyukti', 'darati', 'pranon', 'madison', 'nibhaaegee', 'myers', 'kashyap', 'brigadier', 'ambikaaon', 'hogaah', 'ishaak', 'sumi', 'deshbhaktimaya', 'dharmapatriyaan', 'krishnanagar', 'ea', 'aayudhnirmaanee', 'taaja', 'ajasra', 'fijulkharchi', 'mantrayon', 'tanta', 'dealership', 'chapel', 'dhwanimikon', 'education', 'jarakh', 'neet', 'jilawaasiyon', 'samprabhuta', 'kasegaa', 'pakanevala', 'deepn', 'kalasaanaa', 'mugaalataa', 'tokne', 'falibhoot', 'gyonth', 'dikhaai', 'shaamjeebhaaee', 'pahnaakar', 'kisaani', 'udhaaradaataaon', 'ramtek', 'wyaakhyaatmaktaa', 'somvaar', 'vista', 'polimer', 'raktaabh', 'bhugta', 'bhrashtachareeyon', 'khatakti', 'mukhyamantriyon', 'mad', 'kakshaang', 'jain', 'mahin', 'survana', 'baangarotiya', 'rasaayanik', 'aurora', 'chamchagiree', 'ncrwc', 'ainthey', 'essel', 'deshsewa', 'ilectrotecs', 'workcharge', 'kaarwaai', 'jhanktaa', 'urgent', 'sapraman', 'maurya', 'jini', 'jagadeeshachandra', 'asurakshit', 'kaavyoktiyaan', 'alnkaar', 'svadpremiyon', 'jaatak', 'rollers', 'ashaktataa', 'kaathiyavadee', 'aavriti', 'vidyaayein', 'vidhivat', 'raadhe', 'mukhyamantrisamvaaddaata', 'praansangalee', 'kanalog', 'pudukkottai', 'nicky', 'fuhadtaa', 'patachep', 'retreate', 'manovaigyaaniyon', 'stanadhari', 'mukhyopadhyaay', 'nirbaadh', 'todne', 'avuti', 'parikshankartaon', 'extactor', 'nashik', 'rasayanon', 'vaitravati', 'ogrenaaij', 'chausingha', 'phalodi', 'skhalan', 'panaamaa', 'nigar', 'monte', 'suneeti', 'shrabon', 'ambikaon', 'gujara', 'photofrem', 'prahlaad', 'beesavaan', 'dvivedi', 'denewaali', 'burleson', 'bharadwaj', 'jataati', 'malegaon', 'rahugaan', 'mahamantra', 'beast', 'divyata', 'sanjivan', 'kuposhit', 'eksclation', 'chadhega', 'texarkana', 'dungerpur', 'sarahi', 'laalaparee', 'aeronautics', 'worth', 'aasteen', 'svapnika', 'upakaaryaalayon', 'mimicry', 'ballabh', 'veriphication', 'hackensack', 'aakaash', 'bona', 'clock', 'daphan', 'pegav', 'kahlaya', 'madheekhedha', 'teleebag', 'dhaarak', 'nikaalani', 'kanghe', 'prashnottari', 'kakinada', 'bhaagyoday', 'singer', 'machaye', 'lekhakganon', 'uchhalne', 'dharmarajne', 'ainjal', 'bantata', 'pharm', 'ravel', 'hanumangarh', 'veeraangnaaon', 'gaytri', 'venkatraman', 'dibnoo', 'purooshottamachaary', 'sanyojakon', 'jhaauganj', 'sarkaren', 'newtest', 'shrikar', 'mitaao', 'diyotsiddh', 'bhoopsingh', 'charchaaen', 'prasarakon', 'nishpaap', 'flin', 'ranneetibanaa', 'eeaarjee', 'dhaagaa', 'gomukh', 'jud', 'khanikarmi', 'sharabh', 'arellano', 'ukhadhakar', 'lenevali', 'kumar', 'singhde', 'toncil', 'davindarpal', 'singaar', 'khisakate', 'enid', 'megapixal', 'digvijay', 'fazalon', 'doge', 'labelon', 'munafa', 'badhane', 'very', 'saatsera', 'ortega', 'rowe', 'bhatia', 'raajsthanwasiyon', 'baagbageechon', 'wilkinson', 'daraati', 'atke', 'pramukhataapoorwak', 'yatna', 'nitin', 'city', 'radico', 'dukanon', 'jalsansadhan', 'masyendranath', 'behar', 'barsheey', 'avru', 'daw', 'naqab', 'saregama', 'hugli', 'satti', 'neg', 'mahabaleshwar', 'placentia', 'varsaache', 'kumau', 'emi', 'theatrs', 'erika', 'khinchakar', 'raubadar', 'alto', 'kavyavidhaaon', 'coon', 'akron', 'tahkhaana', 'samajjanon', 'machaaye', 'suryadev', 'prathamik', 'pravritriyon', 'taajaa', 'jivanshaili', 'raktdaataaon', 'baleshwar', 'bhautikwaadiyon', 'lagaateen', 'jhaiyaan', 'vanshvaad', 'navanagar', 'najarandaaz', 'anshaankan', 'funkane', 'matpatron', 'module', 'farms', 'pahunchogee', 'maidi', 'thief', 'pfaudler', 'amit', 'poorvabhadrapad', 'landara', 'gonpo', 'vesle', 'shaao', 'hamidan', 'weeks', 'mineral', 'centennial', 'bastiyo', 'bagbagichon', 'pranit', 'bhedabhaavon', 'karaahanaa', 'greenville', 'sherawat', 'ralaud', 'jatakon', 'rishte', 'bentonville', 'najibabaad', 'financiers', 'phatahee', 'kerala', 'ladaaiyon', 'harijan', 'whitaker', 'vidisha', 'paul', 'aryon', 'khilana', 'chhutane', 'dukhiyon', 'poorneshwari', 'visabal', 'daramyanee', 'yari', 'vidhamaan', 'yatraein', 'sunteck', 'gujarata', 'niyanta', 'dum', 'awasthi', 'plus', 'bhen', 'stops', 'dhakelte', 'kpo', 'damghontu', 'insano', 'merraige', 'asfalt', 'laundry', 'ratnaabhooshan', 'ski', 'dushwaariyon', 'anupryogon', 'deshseva', 'lela', 'jagaragallu', 'mejbani', 'dehri', 'chkkar', 'crawford', 'guduri', 'dvc', 'prakriyagat', 'nag', 'matsyavatar', 'scootaron', 'ardhavishvas', 'daramyaanee', 'survanaa', 'sthitiyan', 'dharmaanand', 'sofner', 'squash', 'vidhansabhaen', 'randolph', 'mezbaan', 'sprit', 'sheelabhang', 'kalmein', 'swarnikaa', 'mandi', 'arthawyavasthataaon', 'kundaliya', 'nimkathana', 'farm', 'hatyaaropit', 'putta', 'faurensis', 'purooshottamachary', 'bonds', 'shikaayatkartaa', 'cronfrencing', 'ubal', 'baabaao', 'halmatpura', 'haqeeqat', 'barman', 'vartmaan', 'baantin', 'achanbha', 'jiwanparyant', 'wadara', 'sadaqen', 'aisa', 'jyotishyshastron', 'pythagoras', 'engelin', 'kapolkalpana', 'dropadiyon', 'rozlyn', 'sriram', 'gopaalak', 'bangbandhu', 'mistriyan', 'usay', 'mercado', 'maisore', 'offshor', 'kapurthala', 'sahovaliya', 'maladahiya', 'hymen', 'indaurnagar', 'visheshagyataon', 'usaki', 'caplin', 'mahapran', 'rupesh', 'reno', 'sudeepton', 'swamy', 'amara', 'vyavasthaamoolak', 'sensing', 'tyler', 'sangareddi', 'pehno', 'mardani', 'bamleshwaree', 'deewani', 'fincorp', 'navaa', 'shimat', 'sohawal', 'banaam', 'prawrutriyon', 'xiong', 'varsted', 'raajon', 'cheekhana', 'naimul', 'badhotri', 'antony', 'chhanyasa', 'nirdeshikaa', 'niptaaraa', 'judne', 'sujhati', 'pathalogist', 'tide', 'shrungar', 'braandes', 'parmeshvarpur', 'jedateeisaaft', 'uddhaatan', 'stan', 'aadivaadiyon', 'julaahon', 'maharaja', 'gatishilata', 'shipra', 'tribunal', 'khyber', 'wanvibhag', 'ghataatop', 'dharmagranthon', 'prawrittiyon', 'gaanth', 'mysore', 'sehgal', 'namkin', 'vaidh', 'vanaspatiyaan', 'jiangkou', 'pakhandi', 'protekts', 'elbaino', 'linden', 'sohaval', 'bhurbhura', 'gastrology', 'widroop', 'sajsajja', 'raatrichar', 'rojana', 'jalbhrav', 'montgomery', 'sev', 'bhrastrachariyon', 'dwn', 'streshan', 'ganthe', 'gehlot', 'chhateni', 'vishwasniiya', 'jivaniyan', 'dastaanen', 'dhona', 'kharuwaar', 'suriname', 'mangalsinh', 'anyonyashritta', 'ninties', 'paancholaas', 'reson', 'vaataanukooliton', 'chatushkoniya', 'aamdi', 'dushtaapurvak', 'bechate', 'chuka', 'mizoram', 'torrance', 'anuchit', 'avarodhak', 'ross', 'achyut', 'oodhami', 'haraval', 'gould', 'daaw', 'srijanvigyanee', 'nextgen', 'rukavaton', 'bhavanaon', 'dehdhaari', 'parikhaen', 'utaney', 'sanskrition', 'prospex', 'naeedilli', 'saayn', 'geneva', 'rasad', 'baramula', 'vandemataram', 'safari', 'chamba', 'sawal', 'bannari', 'fatehpur', 'pehnate', 'spray', 'normal', 'allout', 'manassas', 'mantriyonke', 'karyakaryakartaon', 'phaadanhe', 'greg', 'baitool', 'kushan', 'subbanee', 'infibeam', 'khatakhataakar', 'chachaji', 'chandrabali', 'baripada', 'roohelkhand', 'ghairakaanoonee', 'aarekhah', 'pramukhkarmiyon', 'lee', 'thiyeters', 'assam', 'faanon', 'jyada', 'theateron', 'safaikarmi', 'bieseses', 'cronfrensing', 'jeevraaj', 'thirake', 'shaksubahey', 'paratrooper', 'dabhara', 'usi', 'nihsandeh', 'mahanatam', 'banthia', 'anam', 'kashmir', 'baavadee', 'bhutto', 'maarake', 'kaaryayojna', 'francisko', 'adani', 'dhuriyaa', 'mhavidya', 'megapixel', 'cryptocurrencyon', 'muth', 'authoritee', 'aparivartanshil', 'pradhanmantriki', 'aagaashe', 'navjaagaran', 'attraa', 'ubala', 'amanati', 'khammam', 'haaranaa', 'bhavabhivyaktiyon', 'pushkar', 'shaantiyon', 'nerolac', 'chauka', 'siddhalingaa', 'bharatnatyam', 'javabah', 'dushwariyon', 'manchiy', 'jiyo', 'sapramaan', 'sim', 'peeechdablyooseees', 'bahav', 'tik', 'agavai', 'higman', 'qiwi', 'agyat', 'agende', 'lynchburg', 'maangeena', 'khatakhataaegee', 'jodhikaa', 'srujanvigyaani', 'detasan', 'badalwa', 'urf', 'chhaapemaar', 'lux', 'bhopal', 'phalibhoot', 'paithelaujist', 'paryaptta', 'furti', 'mrutyuniwaarak', 'maruti', 'uthaakar', 'alo', 'pegaw', 'pilibhit', 'somi', 'sanchalnon', 'kanchipuram', 'daraatee', 'yaddasht', 'sabudana', 'welding', 'veronica', 'stimberwala', 'mayajaal', 'pes', 'atul', 'outomaitically', 'jaanchana', 'mithilanchal', 'phiksingah', 'sajetee', 'plano', 'visangatiyaa', 'khhomche', 'lagna', 'mukeshwari', 'tasvaaron', 'dev', 'vesh', 'jyothy', 'landal', 'viraangnaaon', 'yanit', 'purnia', 'chauk', 'ladeen', 'chest', 'kasega', 'abut', 'renuka', 'loowe', 'gulaabaag', 'lajjalu', 'sabhaar', 'gairarashtravaadee', 'dhaavakon', 'lim', 'vidhaaein', 'svayamsveekrat', 'electrotex', 'ramraj', 'janbhavna', 'yauniktaa', 'haathe', 'dune', 'protects', 'vareinye', 'mazboori', 'praveenchand', 'vaigyanik', 'torrent', 'aatmayen', 'samprati', 'matthe', 'savita', 'atlantic', 'jalgti', 'chacchaa', 'afreen', 'bazaru', 'chauki', 'pharse', 'tuning', 'nodaraanee', 'maum', 'vidhaanee', 'gujar', 'pakadkar', 'aankhen', 'aapka', 'warner', 'anvaharya', 'likhehain', 'paathyakram', 'shavkon', 'yarooshaleim', 'mandalaayukto', 'naino', 'jhaaiyaan', 'simferopol', 'dhamm', 'nikharegaa', 'ghumaan', 'hounga', 'dhakal', 'sagarika', 'bernard', 'yogabal', 'breweries', 'dish', 'aithan', 'vartamaan', 'tremasik', 'tasvire', 'vyvhargat', 'maratha', 'banvaa', 'svarnika', 'prasath', 'overall', 'purwafalguni', 'properphasebook', 'suven', 'sapate', 'jh', 'karghe', 'deshkaal', 'nathdwara', 'thanvi', 'oran', 'serrano', 'ear', 'submission', 'dharak', 'tadad', 'greenwood', 'haute', 'behuria', 'niyantaaon', 'churu', 'missouri', 'anyaya', 'generat', 'nyutest', 'garud', 'swaastikakaar', 'shaie', 'siddhantavaadiyon', 'anawashyak', 'seaten', 'gulshan', 'riya', 'firmian', 'tyre', 'chi', 'badlapur', 'yuddhanaukaa', 'nbcc', 'shreeganganagarvaasiyon', 'udaa', 'cambridge', 'airway', 'idol', 'calumet', 'aajmaanaa', 'tantrikao', 'jonesboro', 'buddhijeewon', 'klozup', 'nmdc', 'raashtrapit', 'kamarhati', 'asphault', 'fransisko', 'bhalla', 'maulvidon', 'narwar', 'lahlahati', 'byaawa', 'ghataaegi', 'naamajadagee', 'takah', 'sevagram', 'laamiyan', 'gin', 'swechha', 'antadiyaan', 'arya', 'polishing', 'jokhimabharaa', 'umadatee', 'tantra', 'samoa', 'csi', 'mandya', 'lawrie', 'pahante', 'ankor', 'nimnavat', 'rapping', 'roopesh', 'pratibaddhata', 'nadep', 'sailaaneepan', 'menrajya', 'daav', 'aaboorod', 'pathyakramon', 'nividaataaon', 'gandhipura', 'phwcs', 'narayangadh', 'jaylalita', 'susanskrut', 'masood', 'woonsocket', 'sanskrutiyan', 'urff', 'theratipally', 'pratinirdesh', 'ulhaaspur', 'pahanate', 'dhawakon', 'bhagedh', 'pransangali', 'jalvayu', 'bhijvaai', 'sayra', 'krendron', 'maujud', 'siddhaant', 'kamyuniketars', 'chidchidapan', 'muthoot', 'wiwekadhikaron', 'maloun', 'cincinnati', 'registan', 'parosne', 'vichaarakon', 'janbhawna', 'andaman', 'badyal', 'morepen', 'beard', 'nodarani', 'dikhayee', 'chink', 'wyakhyatmakta', 'shaishav', 'aainthoo', 'ahemdabadah', 'jaayke', 'cigniti', 'kurukshetra', 'pravritteeyon', 'charcha', 'lakshmeechandra', 'hammond', 'nibhaegi', 'dhunai', 'janbhaavna', 'cant', 'melaghaat', 'mue', 'shwing', 'dampatya', 'kpada', 'santati', 'maanavtarhit', 'anuprayogi', 'harvey', 'kaju', 'cerritos', 'texmaco', 'sanchar', 'tuth', 'lozano', 'ropaney', 'hollywood', 'chhinke', 'dhamma', 'technoplast', 'pujapath', 'chanan', 'shrankhalaaon', 'chhednaa', 'carbogen', 'vyavadhan', 'schultz', 'istrailiyon', 'squash', 'danville', 'prana', 'thaakurvaadee', 'prayogshaastra', 'wyakteeyon', 'metrologist', 'madhura', 'paliyon', 'denver', 'apj', 'beni', 'pratisthaan', 'bhrashtaachaariyon', 'lakeer', 'sudhaargrah', 'sandali', 'jagriti', 'talwar', 'janashiksha', 'tapuwo', 'bulletin', 'ballebaajee', 'maadheekhedhaa', 'arthshaastriyon', 'scaining', 'mehman', 'rahegi', 'jamshedpur', 'tyauharon', 'darshaana', 'beechbachaav', 'sulati', 'varshan', 'sudhaaratee', 'wasaamukt', 'patil', 'jewaab', 'soto', 'dhtuen', 'dose', 'bhaagadaud', 'pagabadha', 'arushi', 'agusta', 'titan', 'equities', 'airtel', 'alaps', 'naksali', 'achivement', 'galaega', 'foodon', 'rajnichi', 'arya', 'streamwood', 'ghot', 'music', 'purkayastha', 'nora', 'tonic', 'gujaarne', 'water', 'sunsaan', 'sirsa', 'tangirala', 'hanson', 'varun', 'dreijer', 'doudaate', 'sharabon', 'vyakteeyon', 'saatseraa', 'darjano', 'agniyaan', 'dhonaa', 'karyakartriyon', 'awasthaen', 'himamaanav', 'two', 'ail', 'bandhuon', 'shraddhavanon', 'mariyo', 'vyaghat', 'michael', 'adrgh', 'vitthal', 'prarup', 'dhoondhti', 'dubana', 'ladne', 'form', 'zuari', 'pariwarwale', 'peranormal', 'bhuvneshvaprasad', 'iris', 'pratigyapoorn', 'lebalon', 'shreekrushnan', 'snikarse', 'kain', 'bhooswaami', 'karta', 'anyay', 'nokari', 'precision', 'chrom', 'jue', 'bowling', 'taapti', 'catholicon', 'nazarandaz', 'mulchand', 'sweccha', 'nanyaulaa', 'ghontana', 'advaitwad', 'underwood', 'lubhaavna', 'petroselee', 'amdi', 'ropane', 'daisy', 'jababee', 'cup', 'phaade', 'ulahna', 'unnatiyon', 'molina', 'gaandchubhonachoosnachhote', 'han', 'pradarshan', 'sarjuga', 'bidar', 'amargad', 'juye', 'tonk', 'devaapur', 'intelligence', 'neetiyon', 'khanaudaa', 'porbandar', 'sim', 'lagnesh', 'gaayikao', 'prishthabhoomiyon', 'moolchand', 'silchar', 'margarita', 'udakishuganj', 'sirtee', 'yamala', 'prashikshu', 'sierra', 'aalhaa', 'peck', 'taskhir', 'daka', 'nominate', 'sapat', 'coimbatore', 'koraput', 'svayattshasan', 'vidyutikrit', 'kikiyaanaa', 'arunaai', 'rigal', 'diamond', 'mridubhaashee', 'walters', 'sutrapada', 'keeti', 'zilaadhikaari', 'mangesh', 'pension', 'laganewale', 'jilavasiyon', 'ploskee', 'eksath', 'sekhar', 'dow', 'ardhawishwaas', 'rajasthan', 'vikaskhand', 'samshayon', 'badhanaa', 'classon', 'ikhrul', 'furaame', 'ebaz', 'baataaya', 'jushantan', 'strong', 'rajnitikaron', 'panipat', 'blankaard', 'jhabua', 'jacinto', 'barahsinga', 'suchnah', 'electromagic', 'lalmani', 'bhaaulaal', 'kathua', 'palaari', 'amitao', 'tadanrustee', 'vaabastaa', 'vlad', 'slash', 'waterbury', 'selfie', 'luis', 'panchasootra', 'aryama', 'vaadak', 'junction', 'generic', 'jiya', 'aden', 'sophner', 'qwvga', 'dhvanimikon', 'feeds', 'sukadiyaal', 'angadh', 'bavji', 'chhodiye', 'cipla', 'vigyanon', 'dhasmaanaa', 'longewal', 'badam', 'atraikt', 'saraaha', 'nrityashaili', 'sanvari', 'yakshadhipati', 'arabpatiyon', 'mukaddamon', 'phode', 'sihunta', 'jeewan', 'dhoondhata', 'cruces', 'kaaryakartriyon', 'pratibaddhtaaen', 'dlw', 'plan', 'pailot', 'adhiwas', 'phainn', 'favvara', 'halchal', 'wishvaweer', 'crest', 'brahmleen', 'virechan', 'yaaddaashta', 'ujjain', 'sahyaatre', 'jimme', 'sarawagi', 'dekhiyegaa', 'wajood', 'kundal', 'ria', 'slider', 'management', 'karyakaaryakartaon', 'cristis', 'ruktey', 'distrabyuters', 'spell', 'damapar', 'thikane', 'interactuality', 'cdyaan', 'south', 'aapkaa', 'nahinkarwaaee', 'jaagriti', 'choodhe', 'thirty', 'nadsa', 'gsm', 'gujarat', 'darshnarthee', 'nabha', 'dhokebaaj', 'lega', 'beeaaeeaaeeteeem', 'somwaar', 'wanon', 'audhyogikaran', 'agrahari', 'aafa', 'teemaardaron', 'misra', 'cerebra', 'naagrik', 'dastaar', 'makarh', 'gtor', 'ballistic', 'chadhegaa', 'maange', 'nilabh', 'mensharaab', 'singhade', 'hisaarah', 'ramkot', 'baithate', 'taskheer', 'ishaara', 'solapur', 'mejbaani', 'florence', 'paraamarshak', 'jhaadane', 'theaters', 'aadaan', 'ambience', 'surakshaah', 'hikaarico', 'baanyaa', 'rookvaai', 'mitravat', 'bokaro', 'maurya', 'pratinidhikaaree', 'chandramaon', 'parosane', 'dhaiya', 'spirits', 'leandro', 'sean', 'swarthparak', 'chuchiyaan', 'mahamidiya', 'poorwajanmon', 'shohadapantee', 'kushaan', 'jamloki', 'everest', 'taswaaron', 'advivas', 'premlata', 'murrieta', 'vaimanasya', 'kelly', 'tinplate', 'vaan', 'mahamantr', 'mezbaan', 'shumali', 'fulaaye', 'pruitt', 'rojvelt', 'prashasanik', 'ulazaanon', 'patrakaarvarta', 'duar', 'kathfodave', 'bipin', 'offerh', 'isayiyon', 'propellent', 'kansai', 'sikhin', 'cdcl', 'abbott', 'katlari', 'aadiwadiyon', 'chitrakathaa', 'avshisht', 'phyuchuristic', 'tereeh', 'nanhe', 'avery', 'suba', 'shakhayen', 'trikaldarshee', 'paalasaahee', 'failaiye', 'jhauvaa', 'jamati', 'janhani', 'ponding', 'taswaron', 'deshkal', 'hichkichaa', 'basteeh', 'garibi', 'phadphadaaen', 'sitaram', 'kmere', 'bairakpur', 'svayamswikrat', 'kaasovo', 'majboori', 'convocation', 'skipper', 'jaipur', 'prasthaanon', 'narm', 'radiopremi', 'titagarh', 'chico', 'rajyamantreesvatantra', 'mainval', 'gujarana', 'satluj', 'jatiyon', 'anhoni', 'telelinks', 'labs', 'harawal', 'marriage', 'maniya', 'tractors', 'kanchan', 'lairi', 'kaaryaawadhi', 'jalbharav', 'bhaadaa', 'baagora', 'piega', 'stephens', 'abhimat', 'accelya', 'wirerless', 'chauda', 'parbhani', 'khaatedar', 'badhna', 'burch', 'upadrawon', 'tikiyon', 'milk', 'dubona', 'baker', 'sutali', 'buddharam', 'wealth', 'patrani', 'ardhavishwaas', 'paim', 'castaneda', 'baljit', 'bhatnagar', 'jaatakon', 'ecuador', 'swargdoot', 'rushikul', 'tate', 'kanthhar', 'beaulad', 'europea', 'gaye', 'dadreva', 'bikherane', 'hamlo', 'pakdaae', 'uplabdhiyon', 'colorado', 'packard', 'jagruti', 'andhra', 'chounkate', 'bekhvaabiyaan', 'naphaa', 'sinha', 'utpidan', 'saga', 'aarya', 'dikhaaiye', 'anishtata', 'udan', 'sanyuktawastha', 'shamtal', 'evava', 'adhiwaktaagan', 'ralhan', 'jhuthalane', 'purvaabhaas', 'bijendrasinh', 'chinmani', 'loksbhavaali', 'ladki', 'narsinghgarh', 'sanghathanamantriyon', 'roopi', 'karykartaon', 'augusta', 'manmarji', 'antrmukh', 'anumar', 'rishtanaataa', 'dviarthi', 'chootile', 'hattiesburg', 'yoojee', 'raaj', 'raigulization', 'vindhya', 'fixingah', 'kamjor', 'bhara', 'chaudhavan', 'falne', 'shrunkhla', 'vipannta', 'proofread', 'zamana', 'ghataaegee', 'danga', 'erica', 'bhola', 'vyakhyatmakta', 'yojnah', 'webuniyadee', 'rumani', 'sahu', 'pradhaannagar', 'seattle', 'stain', 'insaani', 'hamla', 'nutrio', 'ladadd', 'antadiyan', 'kushwaha', 'kochchih', 'ganapathy', 'farmic', 'padengee', 'arth', 'mukarrar', 'niptakar', 'holidays', 'cooch', 'utthak', 'sulkhan', 'kamere', 'jagayega', 'santree', 'shakhsiyaten', 'panchang', 'zalana', 'nitya', 'ichchhee', 'habra', 'paaliyon', 'azoospermia', 'taavij', 'foodworks', 'graham', 'prabhaanmantree', 'seth', 'jagtap', 'harshit', 'dubna', 'raktadataon', 'mexico', 'tasir', 'eyarkandishnar', 'eddi', 'macon', 'israni', 'ainth', 'shreemahapurn', 'dork', 'jeenon', 'ghareebon', 'taraashakar', 'observer', 'aarya', 'ukhad', 'saathsaath', 'packagon', 'hindon', 'aprihary', 'manzil', 'lx', 'karvi', 'dubhashiyon', 'rikannekting', 'wind', 'client', 'shararat', 'ventura', 'rollins', 'haynes', 'niketan', 'krantiyon', 'twin', 'divya', 'gidgidate', 'nigmaayukt', 'gabalee', 'novato', 'rishwatkhor', 'faansi', 'garjana', 'nihlani', 'pintaa', 'greer', 'lewisville', 'prakaashit', 'clariant', 'khaayal', 'dwiarthi', 'raakhe', 'bulandshahr', 'stafford', 'najariyon', 'world', 'jeevniyaan', 'parmeshwarpur', 'uthanee', 'nyootriyo', 'jetha', 'baagbagichon', 'suchikitsaa', 'nagmandal', 'pradadhikariyon', 'urvarta', 'neal', 'kriptocurrencyon', 'svaayattshaasan', 'zarda', 'uplakshya', 'chhudwaya', 'vidagdhaa', 'mukhyamantripatana', 'gene', 'ratanpur', 'mhantam', 'guna', 'mtech', 'denevali', 'naabhikund', 'visheshanon', 'langaron', 'polythenon', 'sambit', 'dhundh', 'haan', 'takra', 'dhandhekhori', 'pulinde', 'epoklips', 'vigyaanapeediyaa', 'mahoney', 'poonjitantra', 'khare', 'ekstactor', 'zunheboto', 'priyamani', 'sawaal', 'sukhakar', 'aalochak', 'phaans', 'jayalalitaa', 'amjhera', 'bombay', 'vyagra', 'apnani', 'risane', 'chhure', 'charlotte', 'jose', 'raileeh', 'mejbaan', 'dhandhanya', 'dabur', 'bsss', 'najib', 'avsthayen', 'jabalpur', 'dharmanirpekshtaake', 'farmer', 'nacl', 'somerville', 'bull', 'jhulae', 'khagyaar', 'meharaam', 'dhasmana', 'ripan', 'bhagdaud', 'mithya', 'lalaaniyaa', 'bhulon', 'vadali', 'nagappattinam', 'vaimanya', 'biggest', 'jodta', 'mahattaron', 'orchha', 'dhairyavaan', 'sund', 'prince', 'zuban', 'camstudio', 'yooropiyaa', 'meza', 'bhusawal', 'gayatri', 'ware', 'buddhizeevon', 'enth', 'radar', 'ilayachi', 'ubaal', 'shreeganganagarwaasiyon', 'fitzgerald', 'jeevanshaili', 'chart', 'sargi', 'vedon', 'murmur', 'bhaate', 'wipkha', 'bayaane', 'madanaganja', 'packageon', 'varnankartaaon', 'jyada', 'lokotsaw', 'tewree', 'jhaugunj', 'malwan', 'tadanrusti', 'el', 'qabzaa', 'susanskrit', 'sandhol', 'aamariyapadha', 'haabban', 'bowling', 'rasme', 'emdablyupiel', 'vidhaaon', 'bowie', 'chennai', 'kamaljeet', 'singha', 'pensiondhariyon', 'barah', 'dubana', 'esetal', 'chouhan', 'phalne', 'siddhaarthah', 'apex', 'dalton', 'shrikhand', 'textiles', 'agarwal', 'mithyaachariyon', 'cement', 'kraanfrensing', 'sanskrutiyon', 'dhankkar', 'nizamabad', 'chhatenee', 'dushkriyaa', 'sasaram', 'chidhte', 'lamba', 'lautis', 'khaen', 'dhndhe', 'antayant', 'mass', 'baraamad', 'kremistry', 'uthanevale', 'lehna', 'siragitti', 'control', 'andaajee', 'cateline', 'pakshpat', 'fodo', 'franciska', 'prayogaprushth', 'krantidhara', 'daishwala', 'khurasan', 'quarantine', 'fond', 'pakshapat', 'putla', 'truth', 'sathsath', 'mohim', 'johnson', 'cpm', 'bataaya', 'palmer', 'tughlaqabad', 'apcotex', 'hairam', 'sarebajar', 'jerusalem', 'mold', 'warnankartaaon', 'hooper', 'waters', 'lubhaate', 'fefda', 'kamottejna', 'dampati', 'soya', 'barbartapurna', 'tadipar', 'lutf', 'tariko', 'chataa', 'pittman', 'pahla', 'multimedia', 'tyohaar', 'label', 'le', 'tirthatan', 'satuaa', 'vargas', 'dabolim', 'soochnaah', 'labelling', 'roseville', 'phaaeebrets', 'aalto', 'partanee', 'asmitaon', 'want', 'tadpatee', 'patel', 'kaaji', 'dostanapurna', 'kshetron', 'lynch', 'state', 'ragon', 'malhotra', 'pragyatantra', 'duneerti', 'crosse', 'avyavasayi', 'dhiryawaan', 'time', 'ashariri', 'chandradas', 'jyotishi', 'alexandria', 'bewakoofaanaa', 'sirpur', 'uzbek', 'kharuvaar', 'dharmaviheenataa', 'surendranagar', 'aalha', 'arunachal', 'krueger', 'bagli', 'davindarpaal', 'chaplusi', 'sanskariyon', 'engines', 'mendez', 'siyah', 'gujaarane', 'gajara', 'kavi', 'midnapore', 'vrutton', 'sirmon', 'vartman', 'ubhrega', 'pilot', 'narbhakshi', 'entreeks', 'dayton', 'badoo', 'allrounder', 'nishra', 'wadhawan', 'jensen', 'pali', 'trimasik', 'attraikt', 'vavidyaalaya', 'chandan', 'mega', 'mansfield', 'mattancheri', 'navketan', 'kamtar', 'pityooniya', 'purooshottampur', 'tapan', 'jubaan', 'enseeaardablyoosee', 'haimbalin', 'aaraam', 'yashpal', 'wokha', 'chhetri', 'omaxe', 'parween', 'kukreja', 'premphalah', 'narmi', 'shrinkhalaon', 'avrodhak', 'teeron', 'ganesha', 'jhada', 'anupama', 'talabgaar', 'bindal', 'zavala', 'aamriyapada', 'pratinidhikaree', 'halmatpuraa', 'boodam', 'macias', 'medical', 'respecting', 'ranjkta', 'da', 'suction', 'bhumi', 'tyoharon', 'rangate', 'uttra', 'penshandhaariyon', 'karykartaaon', 'vidyaaon', 'dafan', 'sarhind', 'khaaskar', 'raith', 'gudagaunw', 'sahab', 'udaanon', 'majesco', 'pushpa', 'keshari', 'bombi', 'kargil', 'takara', 'biji', 'chrome', 'stithi', 'gulf', 'kaaloniwaasiyon', 'aavritiyon', 'suhanubhooti', 'chamach', 'virodhabhasi', 'saabhaar', 'allcargo', 'harana', 'avyavasayee', 'pravinses', 'chhetthari', 'pratishthi', 'sapa', 'patki', 'parchiyon', 'prativad', 'liphaaphaa', 'darshana', 'garrison', 'aakandon', 'dhandon', 'distreebyootaree', 'khatri', 'panjika', 'baatah', 'ravaley', 'kangan', 'premaatmak', 'sipahi', 'notebandishuda', 'devlaha', 'halla', 'jhamaaten', 'massey', 'usak', 'pitamah', 'vivaranahbhaarateey', 'nagercoil', 'lakhkhi', 'achhi', 'satin', 'nagpur', 'basirhat', 'chhelai', 'ubarkar', 'sanyuktavastha', 'suri', 'bhapaai', 'vyaktigat', 'mhathir', 'flesh', 'rashtrak', 'raajbhaaee', 'hong', 'langron', 'subhaay', 'fund', 'flowers', 'uthane', 'badaa', 'mishra', 'shat', 'manhattan', 'sarguja', 'evening', 'grahankaal', 'bagali', 'neeoo', 'mundwa', 'tolasan', 'jedateeisaft', 'naagmandal', 'kanaal', 'machilipatnam', 'felix', 'hastaksharon', 'bhilai', 'contracting', 'qraar', 'jaun', 'bhaloo', 'fortis', 'girijagharon', 'jainon', 'arthavyavasthaah', 'oxys', 'khitabon', 'enka', 'chashma', 'batao', 'ghrutakumaaree', 'pratestent', 'bauer', 'lakshmidhar', 'siyasi', 'upyogitawadiyon', 'toogaa', 'samadjiyon', 'khurpaka', 'kumavat', 'mwp', 'suraj', 'neuroscientists', 'chandreshwaranagar', 'tanish', 'farukhnagar', 'awaazon', 'najraane', 'pashuchaaraa', 'webuniyadi', 'danbury', 'naidillee', 'chhalla', 'rowan', 'sheopur', 'rawlani', 'sanvaree', 'dhaak', 'masse', 'insurance', 'samprbhuta', 'raashtraa', 'jauhari', 'judai', 'badamaashon', 'khitaabon', 'swayam', 'aagah', 'dhindhwal', 'ghise', 'sappaanwaalee', 'nikharen', 'baadhit', 'brahmapur', 'baytown', 'koling', 'samadhiyon', 'yooniyanwaadi', 'chhapemar', 'gareebon', 'thousand', 'dasila', 'kanjentevaaitis', 'badhaon', 'lagega', 'durghatna', 'nitiyon', 'capdhari', 'atri', 'singam', 'vastvik', 'substensis', 'peelepan', 'uthnee', 'handiyaa', 'pratirakshi', 'lalkarta', 'dukaanon', 'nividaataon', 'sarvjaateeya', 'narsanharon', 'neemkathana', 'herrera', 'junun', 'ikai', 'jagdalpur', 'swiftlet', 'jalagati', 'pitts', 'ropi', 'adanga', 'alasi', 'chaukiyan', 'layton', 'vakrangee', 'development', 'shawnee', 'pardesiyon', 'bhoogol', 'bagichi', 'sivan', 'stray', 'aalsi', 'view', 'vishhin', 'kissagoi', 'mahanideshak', 'chikitsaevam', 'bhattacharya', 'trenton', 'kanyaein', 'priyadarshini', 'hukhookh', 'shulkah', 'rane', 'mahavidya', 'sanshyon', 'shreneeh', 'odom', 'benitez', 'tyohar', 'matiyaanaa', 'shavyaatra', 'rishtey', 'rehaana', 'qss', 'anaavashyak', 'rijhaayaa', 'brigade', 'sapane', 'chuneen', 'koshadhikaari', 'karab', 'paltane', 'karneshwardham', 'aaryanas', 'pratishthanon', 'karaikal', 'uski', 'vipreetataa', 'parikshao', 'fyuji', 'laaminaar', 'jutati', 'kaushik', 'bekaaboo', 'nano', 'orissa', 'tomar', 'ropee', 'thappadhabaajhee', 'baabat', 'attahasa', 'colan', 'pratileetar', 'bhusi', 'haliyaa', 'utpeedan', 'pope', 'karkhele', 'bahulya', 'aswbhavik', 'kathhnaeeyon', 'ramjeelaal', 'vasulta', 'mukhyamantri', 'maria', 'satmev', 'baksa', 'udar', 'man', 'buddhijivon', 'sudip', 'jodo', 'tasdeek', 'nikaalni', 'bhatkaanaa', 'harna', 'dillon', 'registerd', 'bhandara', 'lalaniya', 'lima', 'lalkrishna', 'ratnabhooshan', 'sparivar', 'sah', 'sametti', 'pyria', 'maamalonmen', 'braat', 'vaiisan', 'villa', 'linda', 'khariya', 'chellani', 'electronics', 'rishiraj', 'udaipur', 'pagla', 'ritukaant', 'kurmi', 'dastaanaa', 'emrald', 'ghumaaee', 'updraviyon', 'oklahoma', 'dharmaraajne', 'jhaohuee', 'uppidan', 'khemik', 'tugalki', 'duar', 'avi', 'jadet', 'taiboo', 'programmers', 'taylorsville', 'chadron', 'racer', 'bhakaa', 'andhabhakto', 'obrayan', 'krutya', 'peeran', 'najriyon', 'mayur', 'chaudhawan', 'swargadoot', 'feka', 'independet', 'tinkaa', 'gurdon', 'jaatiyon', 'samanwayaka', 'sube', 'chandana', 'praarambhikataa', 'trap', 'udant', 'dynamatic', 'vidyuteekrit', 'lalaniyaa', 'wadaraa', 'ved', 'fadfadaen', 'traded', 'akhuaapaadaa', 'saraha', 'vigyaanvaadiyon', 'kamzor', 'youngstown', 'aaryam', 'patkathaein', 'bajpai', 'jassee', 'nau', 'evav', 'lagataar', 'suman', 'padanee', 'mindtree', 'distributary', 'jankaron', 'shankacharaachaarya', 'offshore', 'dukhon', 'nesco', 'phooltee', 'tools', 'verger', 'dumghontu', 'videoh', 'rajman', 'aatmamugdh', 'rockford', 'mitra', 'devnaar', 'ocoee', 'uttariya', 'kainawij', 'galaxion', 'jivaniya', 'hakikat', 'eliminator', 'augustine', 'kar', 'bitane', 'daftarwale', 'bairaadh', 'kambalon', 'jwar', 'fatama', 'vives', 'dwt', 'dhaatuein', 'siyaha', 'pitne', 'bichchon', 'jita', 'sevala', 'bataur', 'aditya', 'kshetren', 'ankeny', 'chheter', 'mukarte', 'enthe', 'balty', 'khangaali', 'beeeseses', 'banjajasam', 'pushpit', 'linmarga', 'pereddy', 'bodara', 'focus', 'dootaay', 'sreeleathers', 'mahankmadaan', 'ghunsa', 'kaavyavidhaaon', 'kshatriyaadi', 'jaankaaron', 'rakhna', 'rishtedaaro', 'shravani', 'kubuddeen', 'jewellers', 'mehaman', 'rojlin', 'jaikara', 'chabutre', 'haradil', 'truck', 'neurovascular', 'khelaane', 'stration', 'lakshayatirth', 'nations', 'paathshaalaayein', 'nivedanah', 'lidaron', 'tanla', 'sevakon', 'poorvapekshaon', 'mani', 'somvar', 'pran', 'avegyanik', 'aviation', 'brown', 'naakaam', 'adhivas', 'janjagran', 'rajnandgaon', 'larry', 'bhalu', 'tareeko', 'chicopee', 'refractories', 'baramad', 'kav', 'emerald', 'vivekaadheen', 'fadfadaaen', 'kaylana', 'paints', 'pittsburgh', 'hokhat', 'chaurasiya', 'sacchidanand', 'seide', 'charon', 'rizvi', 'clay', 'danpati', 'doorgadh', 'devapur', 'manwaayaa', 'latakkar', 'mehmaan', 'niya', 'udhampur', 'ataher', 'chhupata', 'tungnath', 'raghupati', 'prakandh', 'changed', 'gangtok', 'cricket', 'francisco', 'bhagane', 'adangaa', 'fixingh', 'kamau', 'tikone', 'pam', 'tarikon', 'aagaman', 'kidwai', 'aashriton', 'raghavan', 'janeudhari', 'davenport', 'preranaapuree', 'mahasinh', 'lordaa', 'introduction', 'swabhavatah', 'grishmotsav', 'talaashegaa', 'saharsa', 'mckay', 'moshe', 'granthiyan', 'lohaati', 'aliance', 'tagde', 'chinke', 'siwan', 'thaki', 'letakar', 'hikariko', 'tyres', 'nrutyon', 'deerfield', 'charit', 'bethlehem', 'fineotex', 'asahi', 'pehan', 'dhanshyaam', 'faarensis', 'lahanaa', 'dwarikesh', 'dubaana', 'karaboriyon', 'golamuree', 'raakhnau', 'vipanak', 'punchang', 'breed', 'gullaravaalaa', 'awp', 'baji', 'harpaal', 'premeshwar', 'prapt', 'naksalwaad', 'kanthahar', 'oxide', 'khairati', 'deshke', 'sunaseer', 'aphasaron', 'seho', 'chabate', 'miti', 'belcha', 'saflata', 'shbana', 'khaatootolaa', 'shivastava', 'preranapuree']\n",
            "['थरमैक्स', 'सिखाएगा', 'लर्न', 'ट्विटर्स', 'तिरुनेलवेली', 'इंडिपेंडेंस', 'स्पेशियों', 'शुरूः', 'कोल्हापुर', 'अजहर', 'क़रार', 'अंक', 'डब्ल्यूपीडी', 'हाशिए', 'ग्लेंडल', 'उधेड़', 'इकठ्ठी', 'आईडिया', 'अम्बिकापुर', 'माकेरेरे', 'साबूदाने', 'फूहड़ता', 'सेक्वेंट', 'शुऐब', 'पानीहाटी', 'समेटती', 'उखरुल', 'ब्रह्मलीन', 'उतराधिकारी', 'इक़बाल', 'दयालपुरा', 'सोहराई', 'तक़रीबन', 'फर्रूखनगर', 'ठेंगा', 'त्यौहारों', 'कर्णेश्वरधाम', 'उमानाथ', 'दानशील', 'साहित्योत्सव', 'शांतिनिकेतन', 'शिकायतकर्ता', 'अंदरखाने', 'पंटर', 'लीडरों', 'गलगंड', 'कार्नियां', 'मुर्गीपालन', 'मुशाहिद', 'मॉड्यूल्स', 'रजौरी', 'सुश्रुषा', 'शृंगार', 'होल्ट', 'लैंगिकता', 'इजाजत', 'वनक्षेत्र', 'भूतल', 'स्वादप्रेमियों', 'नाइनटीज', 'फ्रेक्टर', 'लिखकर', 'एयरकंडीशनर', 'नब्ज़', 'कुएस', 'बौनी', 'कारगुजारियां', 'गांगनाम', 'तापीया', 'तेज़पुर', 'तलवे', 'सीमाई', 'दर्शनार्थी', 'रिवास', 'तर्कवाद', 'अनुसारका', 'कोचेला', 'लटककर', 'पत्रावलियां', 'परिषद', 'स्पिन्ज', 'अनशिदा', 'डिजीसस', 'सरायमोहिउद्दीनपुर', 'लॉवेल', 'कैपेसिटर', 'पैसेंजरजींद', 'ग्रंथियों', 'बुएना', 'कैंटरबरी', 'काठियावड़ी', 'टेकचंदानी', 'फ़ीसद', 'बेरहरमी', 'निष्कर्षः', 'ऐक्टिविटीज', 'रिकैलीब्रेशन', 'शासनाधिकारियों', 'फिजूलखर्ची', 'डब्ल्यूपीडी', 'पेस', 'दस्तार', 'कैटलिन', 'जोड़ता', 'किल्लत', 'गृहनगर', 'वंडर', 'वाटर', 'श्विंग', 'पश्तून', 'फार्म', 'डिबनू', 'पश्चमी', 'उठापटक', 'नीलाभ', 'लक्ष्मीनियां', 'महानगरवासियों', 'उपनेता', 'कन्वेंशन', 'शाॅर्प', 'कार्ययोजना', 'मास', 'वेस्टिंग', 'कुर्वेती', 'ज़यादा', 'मुकेश्वरी', 'श्रीमति', 'विवेकाधिकारों', 'लोकसभावाली', 'कबहा', 'भ्रांतियों', 'विवेकहीन', 'बाल्मीकि', 'हरयाणा', 'जीवराज', 'फ्लिन', 'राणा', 'विष्णुपुरा', 'घोटालेबाजों', 'हैरतअंगेज़', 'तकलीफ़देह', 'पीपाड़', 'धभाशारा', 'अंतडियां', 'राबिन', 'सिंगार', 'गुमशुदगी', 'बालकृष्ण', 'फब्ती', 'पलटने', 'लहलहाती', 'नगाड़ा', 'उड़ानें', 'क्लेन', 'जूलूस', 'कार्यभार', 'मंटो', 'पैमाइश', 'कोविना', 'पेंषन', 'ऑगस्टावेस्टलैंड', 'सैंट्रींग', 'ऐक्टिवा', 'बार्कर', 'वल्कन', 'वृत्तों', 'कबड्डी', 'रौनक़', 'कैटलिन', 'फूस', 'जनगणना', 'उपाख्यानों', 'सुंदरम', 'कोचीन', 'नेको', 'कौशल', 'फालिया', 'एस्वेडो', 'कोट्टयम', 'दिलाएगा', 'कर्वी', 'सौंपेंगी', 'लेख़न', 'गुडेपु', 'फरसे', 'नूबिया', 'ताजा', 'आंत्रित', 'काजी', 'मुर्गीपालन', 'एड्डी', 'नगीने', 'सुब्हा', 'लुइस', 'विजयापुरम', 'बताअाे', 'ओकोआ', 'साइंस', 'सरकारें', 'ब्रेमटन', 'गुरुपदो', 'संयुक्त', 'रालोद', 'बाधाओं', 'गौमूत्र', 'सभाएं', 'तनी', 'दिल्ली', 'सुजेन', 'विनीत', 'चिमाते', 'किकियाना', 'रॊकेट', 'मैक्सवेल', 'हिप्पो', 'दीपन', 'अर्यमा', 'भूलता', 'कर्माचारी', 'दुर्गापुर', 'त्रिभाषा', 'सूदखोरों', 'प्रस्तावों', 'सुरवीन', 'प्राप्ती', 'गिरिवासियों', 'सिडयूसिंग', 'वेलवेट', 'मुक़र्रर', 'बैक्सटर', 'डेनिअर', 'सीडब्ल्यू', 'उठनी', 'घासी', 'इकट्ठा', 'भूपसिंह', 'दबोचने', 'क्रॉस्बी', 'नामीगिरामी', 'हर्ले', 'जर्दा', 'लिएप्रधानमंत्री', 'भ्रांति', 'ऐजेंसियों', 'बागो', 'फारसी', 'बोसान', 'कार्की', 'गिनते', 'मनोकामनाओं', 'संम्पत्तियां', 'पॉलिथीनों', 'एमटेक', 'परिचर', 'बडबडी', 'क्रेन', 'लामियां', 'उल्हासनगर', 'प्रभानमंत्री', 'शिवालापुरवा', 'फर्थ', 'सुहागिन', 'सरायकेला', 'रोमियोविल', 'राजस्थानवासियों', 'प्रतिरोधात्मक', 'स्वर्णिका', 'व्यवस्थापना', 'तेल', 'ग़लतफ़हमी', 'टेकइनसाइडर', 'माइक्रोफाइबर', 'श्रीमहापूर्ण', 'फ़ल्लूजा', 'डोनल्डसन', 'चढ़ने', 'जीवविज्ञानियों', 'क्रिकेटिंग', 'रिडक्शन', 'आवाज़ें', 'व्लाद', 'प्राथमिक', 'ठेंगा', 'एक्सेल', 'चटकाते', 'कुबुद्दीन', 'ताजा', 'पड़नी', 'नीचाई', 'वौसौ', 'आलोचकों', 'ज़लज़ले', 'सूरत', 'जीवति', 'प्रहारक', 'श्रीसद्गुरु', 'संचालनों', 'भाल', 'तुगलक', 'उठापटक', 'हस्तांतरणीय', 'उत्साहवर्द्धन', 'संगोष्ट्री', 'शासनाधिकारियों', 'महाधिपतियों', 'फातिमा', 'फोड़े', 'कंटिन्यू', 'कामानाएं', 'चुटीले', 'संख्याएं', 'करंज', 'बरसाता', 'परिकल्पित', 'हरपाल', 'माऊंट', 'ग्रोवर', 'बायोलॉजिस्', 'हालिशहर', 'एंजेलो', 'जनेऊधारी', 'बीचबचाव', 'पोकर', 'अपवर्तित', 'आस्तीन', 'प्रतिष्ठावाले', 'ब्युनावेंचुरा', 'डेक्कन', 'सेरिव', 'पर्दा', 'एमिल', 'शैली', 'ईस्टवेल', 'छल्ला', 'लक्ष्यों', 'हॉफ', 'जरूरीः', 'रह्या', 'महकने', 'देवी', 'नील्सन', 'भीरा', 'चबूतरे', 'भूषण', 'रुकते', 'आमदनी', 'टॉकशो', 'जूनागढ़', 'पढ़ाता', 'ओढ़कर', 'ब्रोक', 'तलाशा', 'परिवारवाले', 'ट्रिब्यूनल', 'ब्रोक', 'यल्लाप्पा', 'तस्वारों', 'तुगलकी', 'पिक', 'सर्किलेशन', 'ज्वार', 'कनिंघम', 'कुश', 'प्रॉपरफेसबुक', 'अशरफी', 'चढ़ें', 'वांगचुक', 'हनीवेल', 'रेडियमधर्मी', 'लड़ेगे', 'सचन', 'अर्थशास्त्रीयों', 'कैंटन', 'आत्ममुग्ध', 'पॉन्टिएक', 'लोपेज़', 'घोंटना', 'अम्बानी', 'मर्यादाओं', 'रतलाम', 'हरक्यूलिस', 'अकोला', 'सक्शन', 'नोटबंदीशुदा', 'लगवाती', 'अलाइव', 'जीवंत', 'फोड़ा', 'फटही', 'नूबिया', 'लालमणी', 'फ़ैसला', 'कृत्या', 'धुआं', 'आहूजा', 'प्रतिपालपुर', 'नमकीन', 'मंजिलें', 'लफ्फाजी', 'जुराब', 'फुलाए', 'केस्टालॉय', 'ब्लैक', 'सूरज', 'ब्रॉन्च', 'अवर्णता', 'जोहरी', 'तेवरी', 'सेंडर्स', 'वेल्डर', 'एनईयू', 'भरष्टाचारियों', 'लालमणी', 'खातेदार', 'आजमाना', 'आवृत्तियों', 'कुल्लवी', 'बहावलपुर', 'प्राथमिकता', 'मोबाइल', 'कटिहार', 'स्वेच्छा', 'हामिदन', 'समदर्शिनी', 'दृढ़', 'गोंद', 'विशेश', 'काबिलेगौर', 'लौरेंस', 'हिशाम', 'चौसिंगा', 'पफिन', 'मेट', 'बिल्डकॉन', 'टीकों', 'अथक', 'जिदंगी', 'चायल', 'माप', 'लास्ट', 'गजरा', 'रात्रिचर', 'काथला', 'सहूलियत', 'पटनायक', 'न्यायालयीन', 'मुख्यमंत्रियाें', 'जीतनेवालों', 'स्वफ़ोटो', 'क्लिफ्टन', 'डोडा', 'पेंडुलम', 'चिपकने', 'नलकसा', 'छह', 'गोंड', 'समीक्षाकर्ता', 'मंत्रीपद', 'लिब्रेशन', 'असमान्य', 'चुंगियों', 'एरिका', 'बेलोट', 'थींं', 'फार्मिक', 'युद्धक', 'वेगास', 'लास्ट', 'चित्रांशी', 'अवर्णता', 'वेस्टिंग', 'वितर्क', 'मुकबाले', 'धर्मपूर्वी', 'अंबानी', 'इबीजा', 'महामीडिया', 'सुज़लोन', 'वर्णित', 'झुठलाने', 'मदुरई', 'कौण्डल', 'लापत्ता', 'क्षीण', 'तेवरी', 'रायचूर', 'लिंडन', 'पुलमा', 'ऑलराउंडर', 'ग़रीबों', 'कालाहान', 'वाबाग', 'कैपधारी', 'आटा', 'बरेली', 'जिंग', 'जीवन', 'रेड्डी', 'पहनी', 'तनु', 'दीपिका', 'लोहाती', 'कक्कड़', 'मौलवियों', 'डूंगरपुर', 'झालाना', 'लक्मे', 'प्रोस्पैक्ट्स', 'वेस्टिंगहाउस', 'बावरा', 'ठक्कर', 'इच्छाचारी', 'त्रिया', 'धावकों', 'दामले', 'श्रवणाबेलागोला', 'नीलकमल', 'कर्माचारी', 'पूर्वाेत्तर', 'लहराई', 'हैतो', 'प्रकाण्ड़', 'खेलमंत्री', 'भविष्य', 'एगमोर', 'शृंगार', 'सौंपेंगी', 'नॉक्सविल', 'बेंडर', 'सुंदरम', 'प्रदेश', 'संवेदीकरण', 'लगुना', 'भीष्म', 'येम्मिगनुर', 'हुहतमाकी', 'वडाली', 'गेल', 'रेस', 'सालाज़र', 'डिप्थीरिया', 'दृढ़', 'शदधि', 'प्रबोधिनी', 'लोकप्रतिनिधियों', 'जताती', 'मंगला', 'बर्विन', 'मम', 'उदयगढ़ी', 'अकापुल्को', 'वैधृति', 'चरणबद्घ', 'मनदड़ी', 'यूक्लिड', 'पारंपरिकता', 'हांफते', 'साथिया', 'संघीयता', 'मुख्यअतिथियों', 'व्यवस्थाविरोधी', 'रक्तदाताओं', 'बरामदे', 'तरुतल', 'कुत्ता', 'झाड़ा', 'किशुन', 'स्कैफ़लर', 'अमरोही', 'रैडिकल', 'जेनर', 'वर्षिय', 'हसीनों', 'शावकों', 'रूपा', 'स्वार्थपरक', 'वेरोनिका', 'वेब', 'महापात्रा', 'छींके', 'अग्र', 'जियांगकोऊ', 'वेस्टवर्क', 'जनगणना', 'पास्को', 'जाधव', 'एंटरप्राइज', 'संशयों', 'वर्णव्यवस्थावादियों', 'उपस्थियों', 'मुडिचु', 'पर्नस्टारों', 'ईए', 'बैला', 'लिवाल', 'हिल्सबोरो', 'राष्ट्रियाध्यक्ष', 'पीडब्ल्यूटी', 'थाउजेंड', 'शाकिर', 'सलाहकार', 'विश्वकर्मा', 'रिज', 'स्वास्थ्यहीनता', 'रिश्वतखोर', 'प्राविंसेस', 'दफ्तरवाले', 'फिजिशियन', 'लोग', 'जोधिका', 'सेवाला', 'डूबत', 'सिपाह', 'भरमा', 'प्रतिज्ञा', 'मेघवाल', 'नंदोई', 'ऑरोरा', 'फार्मूले', 'दुर्घटना', 'स्वतंत्रसिंह', 'मोंटेरे', 'बाल्टी', 'कोलंबिया', 'व्हिटियर', 'दुक्के', 'क्यूबेक', 'चमकना', 'शीलभंग', 'बिस्तागोंड', 'फाइंडले', 'बापा', 'देहरा', 'ऐसे', 'श्रंखला', 'हस्ताक्षरों', 'तिरुपति', 'मंगलमूर्तिः', 'कुर्सियों', 'मिठाइयाँ', 'पहनो', 'हैलबिड', 'बंगश', 'ऑफिशियली', 'सेंवई', 'गुर्जर', 'समन्वयक', 'पार्नेल', 'सूनसान', 'क्यूसैक्स', 'मध्य', 'युद्धरत', 'अर्बनडेल', 'ब्रिग्स', 'एरर', 'चिखली', 'वाण', 'अधिकारियां', 'रोनोक', 'हाओकिप', 'पूर्वापेक्षाओं', 'मशीनवत', 'कदमो', 'कुरमी', 'विद्याथयों', 'सिमटता', 'संगरूर', 'स्ट्रोंगस्विल', 'अगवाई', 'जनगन', 'नागराज', 'यारियां', 'भाग्येष्वर', 'जीवति', 'सूदखोरों', 'रुकवाकर', 'ब्रह्मवर्ता', 'ग्रे', 'भ्रांति', 'पुरूषोत्तमपुर', 'तेजी', 'स्वातं', 'मंत्रिमंडलीय', 'एशले', 'मेथिव्स', 'मूलों', 'एक्ज़ो', 'हमीरपुर', 'पोखरियाल', 'बोलतीं', 'प्रतिष्ठावाले', 'दबंगता', 'धुरिया', 'टिप', 'गाज़ी', 'इजाजत', 'मेज़बानी', 'टोलेडो', 'मोहड़ा', 'पुतली', 'संचारी', 'टापनी', 'लिटिल', 'नरनारी', 'धनिये', 'गाड़ूँगा', 'फाड़ी', 'गम्मत', 'ट्यूबरक्यूलोसिस', 'नागार्जुन', 'राजनीचि', 'मेडिजेन्सर', 'लफ्फाजी', 'कॉमर्स', 'माथलू', 'चटगांव', 'हीलिग', 'इस्न्पेक्टोर', 'टेस्टिंग', 'नौशाद', 'फ़ल्लूजा', 'पिक', 'जीवन', 'कताल', 'डब्ल्यूईएफ', 'बेसिल', 'स्लाइडों', 'सैंदान', 'जेरेमी', 'गॉंव', 'तोड़ेंगे', 'उड़ान', 'सप्तक्रांति', 'मिरांडा', 'व्यापक', 'मैडी', 'सभासदों', 'नौवहन', 'आत्माएं', 'रोज़ा', 'दमाए', 'मिडवेस्ट', 'ट्रेलरः', 'मालबर', 'वाको', 'विमर्शों', 'खान', 'डिफरर्ड', 'सरसा', 'हेस्टर', 'उत्तर', 'कसेरा', 'कुरआने', 'दायित्वों', 'चयनितों', 'मोराल्स', 'हीरोज', 'प्रेममूलक', 'मोरन', 'ज़ाइडस', 'नेल्सन', 'अमरपाल', 'फटने', 'टिंका', 'गायिकाओ', 'पकाएं', 'भ्रष्टाचारीयों', 'चालित', 'एफल', 'मॉड', 'राजनीतिकारों', 'अर्थों', 'गालीगलौज', 'अन्योन्याश्रितता', 'उडाया', 'कटलरी', 'प्रतिबन्धः', 'नीलाभ', 'बिलाई', 'खुल्लमखुल्ला', 'स्वानसन', 'अन्वाहार्य', 'रेवाड़ी', 'सहकलाकार', 'चैंपियनशिप', 'भड़काया', 'नामधारी', 'अल्बा', 'वातानुकूलन', 'खाताधारक', 'टेक्सस', 'स्पेशल', 'हरवंश', 'दीनु', 'शनिवार', 'डीई', 'डाबी', 'नहींकरवाई', 'मारवाड़', 'पीड़ियों', 'ब्रिगटन', 'मनाए', 'लिगर', 'दिलाएगा', 'आधीन', 'परवा', 'हेम्प्सटेड', 'मामूली', 'प्रदेशिका', 'वैरीफ़िकेशन', 'फेफड़ा', 'विसंगतिया', 'कच्छे', 'घोस्ट', 'पिपली', 'लवासा', 'हेल्पर', 'डूबनेवाले', 'बख्शने', 'इन्द्रियोंके', 'बरहद', 'रिसाली', 'काक्षीवती', 'विश्वरक्त', 'लोदी', 'पीचट्री', 'घुमक्कड़ों', 'ओझा', 'इलाज़', 'अरुणाई', 'अयोध्यानाथ', 'भौतिकवादियों', 'रॊकेट', 'न्यूरोकेमिस्ट्री', 'काल्डवेल', 'आवाज़ें', 'मूल', 'मल्टिप्लेक्सों', 'त्यौहार', 'रोटेशन', 'बेलचा', 'सहकलाकार', 'जड़ित', 'नगाड़ा', 'बरपाया', 'डूंगरपुर', 'लैंड', 'उच्छृंखलता', 'फैलाइए', 'सूची', 'नून', 'आरपी', 'सील्ड', 'पालनपुर', 'इलेक्ट्रोस्टील', 'ऑब्स्क्योरा', 'सिगरेटों', 'दिखाईं', 'रसल', 'नजरंदाज', 'कुआलालंपूर', 'ऑस्टिन', 'रैडक्रास', 'टीसीएनएस', 'स्वायत्तशासन', 'मूड', 'दौलताबाद', 'भूलता', 'प्रतिकारा', 'नाइट्रस', 'नाकाम', 'शुटिंग', 'राष्ट्रा', 'बेचकर', 'स्टोन', 'वर्धा', 'डीडब्ल्यूटी', 'देसबथुला', 'बापा', 'बाघबान', 'आदेशः', 'उड़ेलकर', 'तर्कों', 'याद्दाश्त', 'इनहेलेशन', 'सफरदगंज', 'रूपक', 'स्क्रेनटन', 'वर्णव्यवस्थावादियों', 'शिक्षाकार्मियों', 'खंडेलवाल', 'बेवरेजेस', 'पीडिया', 'नदफ', 'जेहे', 'ढहाएँगे', 'मस्तमौला', 'अगरतला', 'जमाया', 'परदेसी', 'आर्यों', 'वेलवेट', 'आपदाएं', 'आगाशे', 'अच्छी', 'उदघोष', 'स्वभावतः', 'बानी', 'राइकर', 'पीडीलाइट', 'ड्युअल', 'भीरा', 'सिल्वा', 'अधिकरन', 'रंजकता', 'श्रीचक्र', 'गौमूत्र', 'निचला', 'बुरहानपुर', 'सहूलियत', 'लब्ध', 'पूल', 'स्ट्रेशन', 'पीकिंग', 'ऑडिटर', 'डेनिअर', 'अजित', 'लैंगडन', 'अवशिष्ट', 'झ', 'प्रशासनिक', 'बोसीयर', 'बढ़ाचढ़ाकर', 'गिरिडीह', 'भुज', 'रीडिंग', 'फव्वारे', 'अद्वैत', 'रुकते', 'अनोंदिता', 'फोंटाना', 'न्यूट्रियो', 'पायलटों', 'जड़ें', 'बोरीवली', 'इलाइची', 'एलियंस', 'धम्मा', 'नाहरगढ', 'एनएसआईयू', 'सपाट', 'लैंगडन', 'पनामा', 'पुतले', 'आसापास', 'अल्वधि', 'मुफलिसी', 'संसथान', 'दर्शनार्थी', 'लोकोत्सव', 'ग्राहकोंने', 'उच्चअधिकारीयो', 'बहाव', 'रेजा', 'मदरसन', 'काॅप्लेक्स', 'आबूरोड', 'हैडलबेर्गसिएट', 'चिमटी', 'सर्फेकटेंट्स', 'मिटाओ', 'कायलाना', 'टंकार', 'ओढ़कर', 'मेड़ता', 'मेगवाल', 'रसायनिक', 'सूचनाः', 'सुगमता', 'जोकि', 'मुनाफ', 'निस्वार्थ', 'क्षेत्रद्वारा', 'महावर', 'बुलढाना', 'धमकाता', 'भूस्वामी', 'विज्ञान', 'क्यूट', 'बेवकूफाना', 'जाजमऊ', 'बेल्ट्रान', 'विलास', 'मखदुमपुर', 'कोलोराडो', 'ब्लैकबर्न', 'सुनीति', 'घिग्घी', 'फ्लेवनाइड्स', 'चहुंमुखी', 'सुपाच्य', 'सिरती', 'विष्णु', 'चौदहवां', 'चौधरी', 'आबरू', 'बलुरक', 'दावणगेरे', 'अनुरीत', 'शिपिंग', 'पटियाला', 'जानम', 'फाइनेंसियल', 'दमाए', 'पालिसी', 'आइसीसी', 'कुच्छ', 'चीखना', 'रिलायंस', 'उर्वरकों', 'रवैल', 'लड़कियो', 'मुकेश्वरी', 'वनक्षेत्र', 'उम्मीदे', 'कहावह', 'कांतिपूर्ण', 'बड़ाएँ', 'एनसीआरडब्ल्यूसी', 'प्रतिबद्धाता', 'फ़ॉलो', 'सेवामुक्त', 'इवान्स्टन', 'चरस', 'हील्स', 'रॉबर्टसन', 'भदौरिया', 'ग्लैक्सोस्मिथक्लीन', 'प्रॉडक्टों', 'गेवारा', 'विज्ञानों', 'जार्विस', 'लफ्ज', 'फॉन्ट', 'पराधीन', 'शक़', 'गंझू', 'डिट', 'दंपतियों', 'माड़ीखेड़ा', 'प्रतिष्ठानोंं', 'सूंड़', 'गिनते', 'अलगअलग', 'स्वास्तिकाकार', 'प्रतिकारा', 'आस्तिक', 'निवेशकर्ता', 'सवाल', 'संस्कृतियां', 'रौबदार', 'रघुराम', 'इंटरव्यु', 'छरहरी', 'सॉयर', 'भासपा', 'ज्वारों', 'संस्थिता', 'पार्षदों', 'पुलत्स्कर', 'उठाएँगे', 'लाएंगी', 'ओईएफ', 'वलसाड', 'मूलों', 'पुतलियां', 'शमिल', 'रिग्स', 'कैमेरिलो', 'सफ़लता', 'विनष्ट', 'कपिंग', 'जयललिता', 'आइटम्स', 'सॉकर', 'एस्फाल्ट', 'मेहरोत्रा', 'चुने', 'जरख', 'मेज़बानी', 'मुफलिसी', 'लूना', 'वर्णव्यवस्थावादियों', 'लिपाई', 'उठनी', 'बजाज', 'हिसारः', 'दंपतियों', 'वॉटसन', 'अगस्टाइन', 'पटाक्षेप', 'धंधेखोरी', 'उभरेगा', 'एंटोन', 'अपारदर्शी', 'निहलानी', 'टिवोली', 'होगिस', 'विंटर', 'बदलवाकर', 'घुमाई', 'पेटालुमा', 'बीएमडब्ल्यूएम', 'बख्शते', 'संवेदीकरण', 'तेलों', 'घुमक्कड़ों', 'हांफते', 'फरहीन', 'जेम्स', 'कीरतपुर', 'रेडिंग', 'शक़', 'सरप्राइज़', 'किसानों', 'चलेंगे', 'योडेर', 'स्टीन', 'पैथेलॉजिस्ट', 'लेबलिंग', 'इक्थियोसिस', 'लिबरेशन', 'फूडॉन', 'नन्हें', 'भदौरिया', 'जटिला', 'पहुंचनी', 'राष्ट्रोंं', 'ब्लॉसम', 'टंडन', 'गड़बड़बड़ी', 'संस्थिता', 'यात्राएं', 'आदान', 'जावते', 'नियुत्तियों', 'भीष्म', 'हंडिया', 'मुर्गीपालन', 'मालेकर', 'लवलैंड', 'मावे', 'विक्रम', 'हांफते', 'बैरकपुर', 'ग़ाज़ियाबाद', 'तर्कों', 'एसपीएफ', 'आर्टेमिस', 'ऐप्प', 'जयबाण', 'गैरइरादतन', 'विवेकाधीन', 'सबजूनियर', 'फालिया', 'प्रेक्षकगणों', 'पुरवासियों', 'विपन्नता', 'मांगा', 'ऑर्डनेंस', 'प्रधान', 'अभियुक्तोंके', 'विराटखंड', 'हिजबुल', 'विद्याओं', 'मंजू', 'छविंद्र', 'छुपकर', 'डोरंडा', 'सायं', 'मिठाइयाँ', 'जीवविज्ञानियों', 'पश्तून', 'ब्रह्राचारिणी', 'यरूशलेम', 'एल्टामोंटे', 'सिहुंता', 'हेमवती', 'कोषाधिकारी', 'आशंका', 'बीन', 'वैज्ञानिकता', 'झीलों', 'रोबर्तो', 'श्रीरामपुर', 'मंचीय', 'वसूलता', 'मोरीसन', 'महाग्रंथ', 'ट्रांजिस्टर', 'सर्वजातीय', 'पाटोत्सव', 'हाॅकी', 'मेडिथ्सन', 'उड़ाना', 'सरायमोहिउद्दीनपुर', 'पीटर्सबर्ग', 'रंजकता', 'दीया', 'माेहिंदर', 'मस्टेक', 'निर्बाध', 'एहसास', 'आवृत्तियों', 'एशियवन', 'थकी', 'टरबाइन', 'दिमाक', 'जोधपुर', 'दरदरा', 'ख़ासतौर', 'मकरानी', 'हाई', 'फटही', 'मारिया', 'गॉंव', 'पेंडुलम', 'आविष्कार', 'नतीजेः', 'जेफरसनविल', 'ब्रह्मसिद्धि', 'तुलसीदास', 'रीता', 'चर्चामंच', 'प्रतिकारा', 'तर्कवाद', 'दबंगों', 'हिचकिचा', 'शीर्षकों', 'डम', 'द्विअर्थी', 'जवाबः', 'बहुमान', 'जांचकर्ता', 'वन्देमातरम्', 'शुड', 'अगस्ता', 'एनईयू', 'दस्तखतशुदा', 'सूरीनाम', 'किंगखान', 'तरस', 'रिकनेक्टिंग', 'फाइब्रिक', 'क्लेयर', 'छीजत', 'मोमिनटोला', 'विरोध', 'अरेना', 'यूनियनवादी', 'बम्लेश्वरी', 'बोका', 'इम्मैच्योरिटी', 'संसथान', 'जीन', 'ददरेवा', 'कीड़े', 'करावणौ', 'पुतिन', 'टंकार', 'खटकती', 'जड़', 'पुष्प', 'जीएम', 'युसूगी', 'कोरोला', 'प्यादे', 'करवायेगी', 'बलात्कारियों', 'जताती', 'गुरदासपुर', 'श्रेष्ठस्वरूप', 'शुभप्रभा', 'यूरोप्लास्ट', 'राष्ट्रभक्तों', 'कैंटरबरी', 'कम्युनिकेटर्स', 'महामंच', 'कॉन्वे', 'डीडब्ल्यूएफ', 'रीव्स', 'डभोई', 'भूतल', 'इंसानो', 'एमिल', 'विज्ञानम', 'सपाटे', 'अटवाल', 'हिंडन', 'ऑफिसरी', 'मोंटक्लेयर', 'पुर्नस्वीकृत', 'रिचर्डसन', 'संदर्भ', 'फार्गो', 'अलीम', 'सप्तक्रांति', 'एचआर', 'इमानदारी', 'कॉन्ट्रेक्टिंग', 'गंगाजल', 'गौर', 'अधिकरियों', 'बंधान', 'सेंधा', 'डब्ल्यूपीडी', 'ग्रविटा', 'लिंगकन', 'प्रवृत्तिविज्ञानों', 'सीमेंटेशन', 'बगड़', 'जेन्ट्री', 'डैटसन', 'मोंटेबेल्लो', 'रिन्यूएबल्स', 'नक्सलवाद', 'ऐतराज़', 'इतिभगवती', 'निवेशकर्ता', 'पटकथाएं', 'काबिलेतारीफ', 'भादस', 'भोगते', 'होल्डिंग', 'धत्ता', 'धोरों', 'उपाख्यानों', 'फयेत्तेविल्ले', 'स्टॉकटन', 'ब्रजेश', 'प्रतिज्ञा', 'बढ़ाती', 'थेन', 'थॉमस', 'ध्येयवादी', 'ट्यूजडे', 'डब्ल्यूजीपीएल', 'ओवम', 'गति', 'न्यूक्लियस', 'क़रार', 'पुरूषोत्तमाचार्य', 'मनचंदा', 'लहसुन', 'नक़ाब', 'सूजा', 'मैकेंज़ी', 'पुर्जों', 'बहुंत', 'ब्रावो', 'अमानत', 'झुठला', 'बुश', 'चौखटे', 'अपर', 'एस्थेटिक', 'क्षेत्रद्वारा', 'सज्जा', 'ढहाने', 'नारियलयुक्त', 'जूलूस', 'कुर्सियॉ', 'सिंघाड़े', 'एमी', 'अंतर्मुख', 'ठक्कर', 'बड़बोलेपन', 'नक्सलियों', 'मैनर', 'हिमाली', 'नक्सलवाद', 'हॉफ', 'महाधर्माध्यक्ष', 'परमौजूद', 'टिप्पणीकार', 'पेरेल्स', 'भपाई', 'बीताने', 'वाल्व', 'द्विरुक्त', 'एड्डी', 'जीवनियां', 'पंघाल', 'खंडा', 'उर्वरकों', 'बेसिन', 'गिरिवासियों', 'पराधीन', 'पुख़्ता', 'अछनेरा', 'कार्सन', 'डेल्टा', 'त्रिपुरा', 'अलयमनी', 'खेड़ा', 'नाहरगढ', 'शालीमार', 'इम्मैच्योरिटी', 'एलएंडटी', 'प्रॉपरफेसबुक', 'उड़ानों', 'महाजन', 'मोसेस', 'बतायाकि', 'अली', 'इलेक्ट्रोमीटर', 'आमोद', 'रूकेंगे', 'मारिया', 'रागों', 'आइपीएफ', 'फलितार्थ', 'सुपाच्य', 'अवशिष्ट', 'ईष्ट', 'रेट', 'आटा', 'महलों', 'वरिष्ठों', 'जलपोत', 'कैटरीना', 'जिस्मफरोशी', 'सैलरी', 'रज़ा', 'रैकेटियर', 'बेसिल', 'बढ़ाता', 'चरणबद्घ', 'भड़काया', 'साहित्योत्सव', 'नरसीपुरा', 'समझूंगा', 'चंद्रपुर', 'सरका', 'ढाह', 'प्रौढ', 'अहितकारी', 'डरावनी', 'बेलिंडा', 'अलयमनी', 'डैटसन', 'अते', 'फास्नर्स', 'बंगरावाला', 'सायरा', 'अट्टहास', 'निर्दल', 'महबूबनगर', 'डराते', 'वल्कन', 'ख़ासतौर', 'बरसाई', 'आनंददायक', 'बांबी', 'तो', 'असमान्य', 'विपन्नता', 'स्पस्ट', 'अमझेरा', 'बेचकर', 'घटबढ़', 'कौशलता', 'मशीन', 'वायरलेस', 'फैंन', 'गानो', 'खंभात', 'क्यूआईपीएस', 'डबलिन', 'एमटीए', 'समृद्धियों', 'राधाकृष्णदास', 'कांस्टिंग', 'इड्डुक्कि', 'इंडस्ट्रियल', 'भारतवंशी', 'मांगी', 'रॉबिंस', 'व्लादिमीर', 'पेहोवा', 'बाग', 'उम्मीदवारी', 'साफगोई', 'कूत्ता', 'एडेन', 'ग्रेनाइट', 'उस्तरा', 'ढूंढता', 'संघीयता', 'कुमारी', 'डिप्थीरिया', 'अड़चने', 'कोरियाः', 'प्रपात', 'छुड़वाया', 'सूइयां', 'वेरोनिका', 'स्कैफलर', 'ज़यादा', 'पॉटर', 'मीडिया', 'यरूशलेम', 'पिछड़े', 'लेटसेंग', 'अर्थव्यवस्थताओं', 'काकू', 'निर्देशिका', 'सेटो', 'नवाते', 'संवेदन्शीलता', 'रोडरेज', 'छहों', 'लफ्ज', 'वंशवाद', 'रोहतक', 'अटकता', 'बावरा', 'कृबरभ', 'प्रकाशकः', 'स्टायरोल्यूशन', 'अपारदर्शी', 'बेंगलुरु', 'अंधापन', 'मैनन', 'क्याः', 'फार्मूले', 'हमलावर', 'अमावस्या', 'पूर्वापेक्षाओं', 'डैशवाला', 'ओकलाहोमा', 'डारमैट', 'सहकलाकार', 'फातमा', 'खलती', 'दायित्व', 'क्यूसैक्स', 'टोलकर्मी', 'वर्शन', 'परिसंवाद', 'इम्युन', 'बचती', 'यूटिलिटीज', 'मलमास', 'कैडमियम', 'एन्टीओक', 'खातेदार', 'मोहिनी', 'विश्वसनीयता', 'रहमान', 'कंबलों', 'आर्यिका', 'मैरेज', 'छींक', 'फलता', 'बागोरा', 'पकौड़े', 'लूसी', 'फतेहगढ़', 'ग्रहणकाल', 'जॉब्स', 'सदानंद', 'दत्त', 'मुर्गीपालन', 'लुढ़कते', 'पल्मोनरी', 'डब्ल्यूआईएन', 'उभारा', 'बेक', 'पडरौना', 'बांधते', 'कपूर', 'सेवाला', 'वर्शन', 'चिढ़ते', 'थाणे', 'निकलेगी', 'मोगली', 'ड्रेजर', 'नागारिक', 'गाजीपुर', 'वादक', 'मिचेल', 'ज्ञातव्य', 'स्तनधारी', 'धोराजी', 'अब्दुन्नासिर', 'विश्ववंद्या', 'सत्यार्थप्रकाश', 'शिवमोगा', 'घुमक्कड़ी', 'गाएं', 'ची', 'थिएटरों', 'अनाधिकारिक', 'शासक', 'हाइंस', 'बेतिया', 'धटना', 'रहमत', 'मोतिहारी', 'पियरसन', 'उज़्बेक', 'व्हीलिंग', 'पाइथागोरस', 'विप्रो', 'काबिलेतारीफ', 'जमाती', 'पुलम', 'दौबारा', 'पोर्टिलो', 'अधीक', 'धुम्रपान', 'दांपत्य', 'जामुड़िया', 'पेडू', 'पिपरा', 'ब्लेयर', 'कम्यूनिकेशन्स', 'अलायंस', 'अरदास', 'गुदना', 'जस्ट', 'आवाज़ों', 'बेंवर', 'अमारिलो', 'ब्रह्माण्ड़', 'दिखार्इ', 'तंत्रों', 'आसान', 'तुगलकाबाद', 'सट्टन', 'कंदरौर', 'खन्ना', 'निकालनी', 'डिबनू', 'इम्मैच्योरिटी', 'तोलासन', 'जानाकरी', 'लिवाल', 'एंजेलिन', 'ऋषिता', 'फ्लिंट', 'वृश्चिकःसप्ताह', 'आसमती', 'गिरकर', 'वैज्ञानिक', 'बिशड़ी', 'फूलती', 'पुनःस्थापना', 'बाध', 'गंध', 'चक्षु', 'मिकटॉम', 'लीडरों', 'ज़बर्दस्त', 'स्तुति', 'औरतो', 'हेब्लिकर', 'रट्टेबाजी', 'फ्रांसिस्का', 'बंबा', 'प्रतियुक्ति', 'डराती', 'प्राणों', 'मेडिसन', 'निभाएगी', 'मयर्स', 'कश्यप', 'ब्रिगेडियर', 'अम्बिकाओं', 'होगाः', 'इशाक', 'सुमि', 'देशभक्तिमय', 'धर्मपत्रियां', 'कृष्णानगर', 'ईए', 'आयुधनिर्माणी', 'ताजा', 'अजस्र', 'फिजूलखर्ची', 'मंत्रयों', 'तांता', 'डीलरशिप', 'चैपल', 'ध्वनिमिकों', 'एजुकेशन', 'जरख', 'नीट', 'जिलावासियों', 'संप्रभुता', 'कसेगा', 'पकानेवाला', 'दीपन', 'कलसाना', 'मुगालता', 'टोकने', 'फलीभूत', 'ग्योंठ', 'दिखार्इ', 'शामजीभाई', 'पहनाकर', 'किसानी', 'उधारदाताओं', 'रामटेक', 'व्याख्यात्मकता', 'साेमवार', 'विस्टा', 'पॉलिमर', 'रक्ताभ', 'भुगता', 'भ्रष्टाचारीयों', 'खटकती', 'मुख्यमन्त्रियों', 'मैड', 'कक्षांग', 'जैन', 'महीन', 'सुर्वणा', 'बांगरोटिया', 'रसायनिक', 'औरोरा', 'चमचागिरी', 'एनसीआरडब्ल्यूसी', 'ऐंठे', 'एस्सेल', 'देशसेवा', 'इलेक्ट्रोटेक्स', 'वर्कचार्ज', 'कार्वाई', 'झांकता', 'अर्जेंट', 'सप्रमाण', 'मौर्यों', 'जिनी', 'जगदीशचंद्र', 'असुरक्षित', 'काव्योक्तियां', 'अलंकार', 'स्वादप्रेमियों', 'जातक', 'रोलर्स', 'अशक्तता', 'काठियावड़ी', 'आवृत्ति', 'विद्याएं', 'विधिवत', 'राधे', 'मुख्यमंत्रीसंवाददाता', 'प्राणसंगली', 'कनलोग', 'पुदुकोट्टई', 'निकी', 'फूहड़ता', 'पटाक्षेप', 'रीट्वीट', 'मनोवैज्ञानियों', 'स्तनधारी', 'मुखोपाध्याय', 'निर्बाध', 'तोडऩे', 'आवृत्ति', 'परीक्षणकर्ताओं', 'एक्सटेक्टर', 'नाशिक', 'रसायनों', 'वैत्रवती', 'ऑग्रेनाइज', 'चौसिंगा', 'फलोदी', 'स्खलन', 'पनामा', 'निगर', 'मोंटे', 'सुनीति', 'शराबों', 'अम्बिकाओं', 'गुजारा', 'फोटोफ्रेम', 'प्रहलाद', 'बीसवां', 'द्विवेदी', 'देनेवाली', 'बर्ल्सन', 'भारद्वाज', 'जताती', 'मालेगांव', 'रहुगाँ', 'महामंत्र', 'बीस्ट', 'दिव्यता', 'संजीवन', 'कुपोषित', 'एक्सक्लेशन', 'चढ़ेगा', 'टेक्सरकाना', 'डूंगरपुर', 'सराही', 'लालपरी', 'एरोनॉटिक्स', 'वर्थ', 'आस्तीन', 'स्वप्निका', 'उपकार्यालयों', 'मिमिक्री', 'बल्लभ', 'वैरीफ़िकेशन', 'हैकेंसैक', 'आकाश', 'बोना', 'क्लाक', 'द़फन', 'पेगव', 'कहलाया', 'माड़ीखेड़ा', 'तेलीबाग', 'धारक', 'निकालनी', 'कंघे', 'प्रश्नोत्तरी', 'काकीनाड़ा', 'भाग्योदय', 'सिंगार', 'मचाए', 'लेखकगणों', 'उछालने', 'धर्मराजने', 'ऐंजल', 'बंटता', 'फाॅर्म', 'रवैल', 'हनुमानगढ़', 'वीरांगनाओं', 'गायत्री', 'वेंकटरमन', 'डिबनू', 'पुरूषोत्तमाचार्य', 'संयोजकों', 'झाउगंज', 'सरकारें', 'न्यूटेस्ट', 'श्रीकर', 'मिटाओ', 'दियोटसिद्ध', 'भूपसिंह', 'चर्चाएँ', 'प्रसारकों', 'निष्पाप', 'फ्लिन', 'रणनीतिबना', 'ईआरजी', 'धागा', 'गौमुख', 'जूड', 'खनिकर्म', 'शरभ', 'अरेलानो', 'उखड़कर', 'लेनेवाली', 'कुमार', 'सिंघाड़े', 'टोंसिल', 'दविन्दरपाल', 'सिंगार', 'खिसकते', 'एनिड', 'मेगापिक्सल', 'दिग्विजय', 'फजलों', 'दोगे', 'लेबलों', 'मुनाफा', 'बड़ने', 'वैरी', 'सातसेरा', 'ओर्टेगा', 'रोवे', 'भाटिया', 'राजस्थानवासियों', 'बागबगीचों', 'विल्किंसन', 'डराती', 'अटके', 'प्रमुखतापूर्वक', 'यत्न', 'नितिन', 'सिटी', 'रेडिको', 'दुकानों', 'जलसंसाधन', 'मत्स्येंद्रनाथ', 'बिहार', 'बर्षीय', 'अवरु', 'दाव', 'नक़ाब', 'सारेगामा', 'हुगली', 'सत्ती', 'नेग', 'महाबलेश्वर', 'प्लेसेंटिया', 'वर्साचे', 'कुमाऊ', 'एमी', 'थियेटर्स', 'एरिका', 'खिंचकर', 'रौबदार', 'ऑल्टो', 'काव्यविधाओं', 'कून', 'अक्रोन', 'तहखाना', 'समाजजनों', 'मचाए', 'सूर्यदेव', 'प्राथमिक', 'प्रवृत्रियों', 'ताजा', 'जीवनशैली', 'रक्तदाताओं', 'बालेश्वर', 'भौतिकवादियों', 'लगातीं', 'झाइयां', 'वंशवाद', 'नवानगर', 'नजरंदाज', 'अंशांकन', 'फुंकने', 'मतपत्रों', 'मॉड्यूल', 'फार्म्स', 'पहुंचोगी', 'मैडी', 'थीफ', 'फाउडलर', 'अमित', 'पूर्वाभाद्रपद', 'लंगड़ा', 'गोंपो', 'वेस्ले', 'शाओ', 'हामिदन', 'वीक्स', 'मिनरल', 'सेंटेंनियल', 'बस्तियो', 'बागबगीचों', 'प्रनीत', 'भेदभावों', 'कराहना', 'ग्रीनविल', 'सहरावत', 'रालोद', 'जातकों', 'रिश्ते', 'बेंटनविल', 'नजीबाबाद', 'फाइनेंसर्स', 'फटही', 'केरला', 'लड़ाईयों', 'हरिजन', 'वाईटेकर', 'विदिशा', 'पॉल', 'आर्यों', 'खिलाना', 'छूटने', 'दुखियों', 'पूर्णेश्वरी', 'विसबल', 'दरम्यानी', 'यारी', 'विधमान', 'यात्राएं', 'सनटेक', 'गुजारता', 'नियंता', 'डम', 'अवस्थी', 'पल्स', 'भें', 'स्टॉप्स', 'धकेलते', 'केपीओ', 'दमघोंटू', 'इंसानो', 'मैरेज', 'एस्फाल्ट', 'लॉन्ड्री', 'रत्नाभूषण', 'स्की', 'दुश्वारियों', 'अनुप्रयोगों', 'देशसेवा', 'लेलऽ', 'जगारागल्लू', 'मेजबानी', 'डेहरी', 'चक्कर', 'क्रोफोर्ड', 'गुदुरी', 'डीवीसी', 'प्रक्रियागत', 'नग', 'मत्स्यावतार', 'स्कूटरों', 'अर्धविश्वास', 'दरम्यानी', 'सुर्वणा', 'स्थितियां', 'धर्मानंद', 'सॉफ़्नर', 'स्क्वैश', 'विधानसभाएं', 'रैंडोल्फ', 'मेज़बान', 'स्प्रिट', 'शीलभंग', 'कलमें', 'स्वर्णिका', 'मंडी', 'अर्थव्यवस्थताओं', 'कुंडलियाँ', 'नीमकाथाना', 'फाॅर्म', 'हत्यारोपित', 'पुट्टा', 'फारेंसिस', 'पुरूषोत्तमाचार्य', 'बॉंन्ड्स', 'शिकायतकर्ता', 'क्रान्फ्रेंसिंग', 'उबाल', 'बाबाओ', 'हलमतपुरा', 'हकीकत', 'बर्मन', 'वर्तमान', 'बांटीं', 'अचंभा', 'जीवनपर्यंत', 'वदरा', 'सडक़ें', 'एेसा', 'ज्योतिष्यशास्त्रों', 'पाइथागोरस', 'एंजेलिन', 'कपोलकल्पना', 'द्रोपदियों', 'रोजलिन', 'श्रीराम', 'गोपालक', 'बंगबंधु', 'मिस्त्रियां', 'उसेे', 'मर्काडो', 'मैसोर', 'ऑफशोर', 'कपूरथला', 'साहोवालिया', 'मलदहिया', 'हाइमन', 'इंदौरनगर', 'विशेषज्ञताओं', 'उसकी', 'कैपलिन', 'महाप्राण', 'रुपेश', 'रिनो', 'सुदीप्तों', 'स्वामी', 'अमारा', 'व्यवस्थामूलक', 'सेंसिंग', 'टाइलर', 'संगारेड्डी', 'पहनो', 'मरदानी', 'बम्लेश्वरी', 'दिवानी', 'फिनकॉर्प', 'नवा', 'शिमट', 'सोहावल', 'बनाम', 'प्रवृत्रियों', 'शियोंग', 'वर्स्टेड', 'राजों', 'चीखना', 'नैमुल', 'बढ़ोतरी', 'एंटोनी', 'छांयसा', 'निर्देशिका', 'निपटारा', 'जुडने', 'सुझाती', 'पैथेलॉजिस्ट', 'टाइड', 'शृंगार', 'ब्रान्डेस', 'परमेश्वरपुर', 'जेडटीईसाफ्ट', 'उद्धाटन', 'स्टैन', 'आदिवादियों', 'जुलाहों', 'महाराजा', 'गतिशीलता', 'शिप्रा', 'ट्रिब्युनल', 'ख़ैबर', 'वनविभाग', 'घटाटोप', 'धर्मग्रंथों', 'प्रवृत्तीयों', 'गांठ', 'मैसोर', 'सहगल', 'नमकीन', 'वैध्', 'वनस्पतियाँ', 'जियांगकोऊ', 'पाखंडी', 'प्रोटेक्ट्स', 'एल्बाइनो', 'लिंडेन', 'सोहावल', 'भुरभुरा', 'गैस्ट्रोलॉजी', 'विद्रूप', 'साजसज्जा', 'रात्रिचर', 'रोजना', 'जलभराव', 'मोंटगोमरी', 'सेव', 'भ्रष्ट्राचारियों', 'डीडब्ल्यूएन', 'स्ट्रेशन', 'गांठे', 'गहलोत', 'छतेनी', 'विश्वसनीय', 'जीवनियां', 'दस्तानें', 'धोना', 'खरुवार', 'सूरीनाम', 'मंगलसिंह', 'अन्योन्याश्रितता', 'नाइनटीज', 'पांचोलास', 'रेसों', 'वातानुकूलितों', 'चतुष्कोणीय', 'आमदी', 'दुष्टतापूर्वक', 'बेचते', 'चौका', 'मिज़ोरम', 'टोरेंस', 'अनुचित', 'अवरोधक', 'रॉस', 'अच्युत', 'ऊधामी', 'हरावल', 'गोल्ड', 'दाव', 'सृजनविज्ञानी', 'नेक्स्टजेन', 'रूकावटों', 'भावनाओं', 'देहधारी', 'परीक्षाएं', 'उतने', 'संस्कृतिओं', 'प्रॉस्पेक्स', 'नईदिल्ली', 'सायं', 'जिनीवा', 'रसद', 'बारामुला', 'वन्देमातरम्', 'सफारी', 'चम्बा', 'सवाल', 'बन्नारी', 'फ़तेहपुर', 'पहनता', 'स्प्रे', 'नॉर्मल', 'ऑलआउट', 'मनासस', 'मंत्रियोंके', 'कार्यकार्यकर्ताओं', 'फाडऩे', 'ग्रेग', 'बैतूल', 'कुषाण', 'सुब्बनी', 'इन्फिबीम', 'खटखटाकर', 'चाचाजी', 'चंद्रबली', 'बारिपदा', 'रूहेलखंड', 'ग़ैरकानूनी', 'आरेखः', 'प्रमुखकर्मियों', 'ली', 'थियेटर्स', 'असम', 'फानों', 'ज़्यादा', 'थियेटरों', 'सफाईकर्मी', 'बीएसएसएस', 'क्रान्फ्रेंसिंग', 'जीवराज', 'थिरके', 'शकसुबहे', 'पैराट्रूपर', 'डभरा', 'उसी', 'निःसंदेह', 'महानतम', 'बांठिया', 'अनम', 'कश्मीर', 'बावडी', 'भुट्टो', 'मारके', 'कार्ययोजना', 'फ्रांसिस्को', 'अदाणी', 'धुरिया', 'महाविद्या', 'मेगापिक्सल', 'क्रिप्टोकरेंसियों', 'मूठ', 'ऑथोरिटी', 'अपरिवर्तनशील', 'प्रधानमंत्रीकी', 'आगाशे', 'नवजागरण', 'अट्टरा', 'उबाला', 'अमानती', 'खम्मम', 'हारना', 'भावाभिव्यक्तियों', 'पुष्कर', 'शांतियों', 'नेरोलेक', 'चौका', 'सिद्दालिंगा', 'भरतनाट्यम्', 'जवाबः', 'दुश्वारियों', 'मंचीय', 'जीयो', 'सप्रमाण', 'सीम', 'पीएचडब्ल्यूसीएस', 'बहाव', 'टिक', 'अगवाई', 'हाइमन', 'क्यूआईडब्ल्यूआई', 'अज्ञात', 'एजेंडे', 'लिंचबर्ग', 'मांगीना', 'खटखटाएगी', 'जोधिका', 'सृजनविज्ञानी', 'डेटसन', 'बदलवा', 'उर्फ', 'छापेमार', 'लक्स', 'भोपाल', 'फलीभूत', 'पैथेलॉजिस्ट', 'पर्याप्तता', 'फूर्ति', 'मृत्युनिवारक', 'मारुति', 'उठाकर', 'एएलओ', 'पेगव', 'पीलीभीत', 'सोमी', 'संचालनों', 'कांचीपुरम', 'डराती', 'याद्दाश्त', 'साबुदाना', 'वेल्डिंग', 'वेरोनिका', 'स्टिम्बेरवाला', 'मायाजाल', 'पेस', 'अतुल', 'औटोमैटिकली', 'जांचना', 'मिथिलांचल', 'फिक्सिंगः', 'सजेती', 'प्लानो', 'विसंगतिया', 'खोमचे', 'लगना', 'मुकेश्वरी', 'तस्वारों', 'देव', 'वेश', 'ज्योथी', 'लेंडल', 'वीरांगनाओं', 'यनित', 'पूर्णिया', 'चौक', 'लड़ीं', 'चेस्ट', 'कसेगा', 'एबट', 'रेनुका', 'लूवे', 'गुलाबाग', 'लज्जालु', 'साभार', 'गैरराष्ट्रवादी', 'धावकों', 'लिम', 'विद्याएं', 'स्वयंस्वीकृत', 'इलेक्ट्रोटेक्स', 'रामराज', 'जनभावना', 'यौनिकता', 'हाथे', 'दूने', 'प्रोटेक्ट्स', 'वरेण्य', 'मज़बूरी', 'प्रवीनचंद', 'वैज्ञानिक', 'टोरेंट', 'आत्माएं', 'संप्रति', 'मत्थे', 'सविता', 'अटलांटिक', 'जलगति', 'चच्चा', 'आफरीन', 'बाजारू', 'चौकी', 'फरसे', 'ट्यूनिंग', 'नोडरानी', 'मौम', 'विधाणी', 'गुजार', 'पकडकर', 'ऑंखें', 'आपका', 'वार्नर', 'अन्वाहार्य', 'लिखेहैं', 'पाठ्यक्रम', 'शावकों', 'यरूशलेम', 'मण्डलायुक्तो', 'नैनो', 'झाइयां', 'सिम्फरपोल', 'धम्म', 'निखरेगा', 'घुमाण', 'होऊंगा', 'ढकाल', 'सागरिका', 'बर्नार्ड', 'योगबल', 'ब्रेवरीज', 'डिश', 'ऐठन', 'वर्तमान', 'त्रैमासिक', 'तस्वीरे', 'व्यवहारगत', 'मराठा', 'बनवा', 'स्वर्णिका', 'प्रसाथ', 'ओवरऑल', 'पूर्वाफाल्गुनी', 'प्रॉपरफेसबुक', 'सुवेन', 'सपाटे', 'झ', 'करघे', 'देशकाल', 'नाथवाड़ा', 'थानवी', 'ओरण', 'सेरानो', 'इअर', 'सबमिशन', 'धारक', 'तदाद', 'ग्रीनवुड', 'हाउते', 'बहुरिया', 'नियंताओं', 'चूरू', 'मिसौरी', 'अन्याय', 'जेनरेट', 'न्यूटेस्ट', 'गरुड़', 'स्वास्तिकाकार', 'शैइ', 'सिद्धांतवादियों', 'अनावश्यक', 'सीटें', 'गुलशन', 'रिया', 'फर्मिऑन', 'टायर', 'ची', 'बदलापुर', 'युद्धनौका', 'एनबीसीसी', 'श्रीगंगानगरवासियों', 'उदा', 'कैंब्रिज', 'एयरवे', 'आइडल', 'कैल्यूमेट', 'आजमाना', 'तंत्रिकाओं', 'जोन्सबोरो', 'बुद्धिजीवों', 'क्लोज़अप', 'एनएमडीसी', 'राष्ट्रपित', 'कमारहाटी', 'एस्फाल्ट', 'फ्रांसिस्को', 'भल्ला', 'मौलवियों', 'नरवर', 'लहलहाती', 'ब्यावर', 'घटाएगी', 'नामजदगी', 'तकः', 'सेवाग्राम', 'लामियां', 'जिन', 'स्वेच्छा', 'अंतडियां', 'आर्यो', 'पॉलिशिंग', 'जोखिमभरा', 'उमड़ती', 'तंत्र', 'सामोआ', 'सीएसआई', 'मांड्या', 'लॉरी', 'पहनते', 'अंकोर', 'निम्नवत्', 'रैपिंग', 'रुपेश', 'प्रतिबद्धाता', 'नाडेप', 'सैलानीपन', 'मेंराज्य', 'दाव', 'आबूरोड', 'पाठ्यक्रमों', 'निविदाताओं', 'गांधीपुरा', 'पीएचडब्ल्यूसीएस', 'नारायणगढ़', 'जयललिता', 'सुसंस्कृत', 'मसूद', 'वुनसोकेट', 'संस्कृतियां', 'उर्फ', 'थेराटीपल्ली', 'प्रतिनिर्देश', 'उल्हासपुर', 'पहनते', 'धावकों', 'भगेड़', 'प्राणसंगली', 'जलवायु', 'भिजवाई', 'सायरा', 'क्रेन्द्रों', 'मौजुद', 'सिद्घांत', 'कम्युनिकेटर्स', 'चिड़चिड़ापन', 'मुथूट', 'विवेकाधिकारों', 'मलौन', 'सिनसिनाटी', 'रेगिस्तान', 'परोसने', 'विचारकों', 'जनभावना', 'अंडमान', 'बडयाल', 'मोरपेन', 'बियर्ड', 'नोडरानी', 'दिखायेे', 'छींक', 'व्याख्यात्मकता', 'शैशव', 'आइंथू', 'अहमदाबादः', 'जायके', 'सिग्निटी', 'कुरुक्षेत्र', 'प्रवृत्तीयों', 'चर्चा', 'लक्ष्मीचन्द्र', 'हैमंड', 'निभाएगी', 'धुनाई', 'जनभावना', 'कांट', 'मेलघाट', 'मुऐ', 'श्विंग', 'दांपत्य', 'कपड़ा', 'संतति', 'मानवटरहित', 'अनुप्रयोगों', 'हार्वे', 'काजू', 'सेररितोस', 'टेक्समैको', 'संचार', 'ट्रुथ', 'लोज़ानों', 'रोपने', 'हॉलीवुड', 'छींके', 'धम्मा', 'टेक्नोप्लास्ट', 'पूजापाठ', 'चानन', 'श्रंखलाओं', 'छेड़ना', 'कार्बोजेन', 'व्यवधान', 'शुल्ट्ज', 'इस्त्राइलियों', 'स्क्वाश', 'डैनविल', 'प्राना', 'ठाकुरवादी', 'प्रयोगशास्त्र', 'व्यक्तीयों', 'मैट्रोलॉजिस्ट', 'मढ़ौरा', 'पालियों', 'डेनवर', 'एपीजे', 'बैनी', 'प्रतिस्थान', 'भ्रष्टाचारीयों', 'लकीर', 'सुधारगृह', 'संदली', 'जागृति', 'तलवार', 'जनशिक्षा', 'टापुओं', 'बुलेटिन', 'बल्लेबाज़ी', 'माड़ीखेड़ा', 'अर्थशास्त्रीयों', 'स्कैनिंग', 'मेहमान', 'रहेगी', 'जमशेदपुर', 'त्यौहारों', 'दर्शाना', 'बीचबचाव', 'सुलाती', 'वर्शन', 'सुधारती', 'वसामुक्त', 'पाटिल', 'जेवाब', 'सोटो', 'धातुएं', 'डोसे', 'भागदौड', 'पगबाधा', 'आरुषि', 'अगस्ता', 'टाइटन', 'इक्विटीज', 'एयरटेल', 'ऐल्प्स', 'नक्सली', 'अचीवमेंट', 'गलाएगा', 'फूडॉन', 'राजनीचि', 'आर्य', 'स्ट्रीमवुड', 'घोट', 'म्यूजिक', 'पुरकायस्थ', 'नोरा', 'टॉनिक', 'गुजारने', 'वाटर', 'सूनसान', 'सिरसा', 'टेंगीरला', 'हेनसन', 'वरुण', 'ड्रेजर', 'दौड़ाते', 'शराबों', 'व्यक्तीयों', 'सातसेरा', 'दर्जनों', 'अग्नियां', 'धोना', 'कार्यकर्त्रियों', 'अवस्थाएं', 'हिममानव', 'टु', 'ऐल', 'बंधुओं', 'श्रद्धावानों', 'मारियो', 'व्याघात', 'माईकल', 'अद्र्घ', 'विट्ठल', 'प्रारूप', 'ढूंढती', 'डुबाना', 'लडने', 'फार्म', 'जुवारी', 'परिवारवाले', 'पैरानॉर्मल', 'भुवनेश्वप्रसाद', 'आईरिस', 'प्रतिज्ञापूर्ण', 'लेबलों', 'श्रीकृष्णन', 'स्नीकर्स', 'कईं', 'भूस्वामी', 'कटरा', 'अन्याय', 'नोकरी', 'प्रिसिशन', 'क्रोम', 'जुए', 'बोलिंग', 'ताप्ती', 'कैथोलिकों', 'नजरंदाज', 'मूलचंद', 'स्वेच्छा', 'नन्यौला', 'घोंटना', 'अद्वैतवाद', 'अंडरवुड', 'लुभावना', 'पेट्रोसेली', 'आमदी', 'रोपने', 'डेजी', 'जबाबी', 'कप', 'फाड़े', 'उलाहना', 'उन्नतियों', 'मोलिना', 'गांडचुभोनाचूसनाछोटे', 'हां', 'प्रर्दशन', 'सरगुजा', 'बीदर', 'अमरगढ़', 'जुए', 'टोंक', 'देवापुर', 'इंटेलीजेंस', 'नीतियों', 'खनौदा', 'पोरबंदर', 'सिम', 'लग्नेश', 'गायिकाओ', 'पृष्ठभूमियों', 'मूलचंद', 'सिल्चर', 'मार्गरिटा', 'उदाकिशुनगंज', 'सिरती', 'यमला', 'प्रशिक्षु', 'सिएरा', 'आल्हा', 'पेक', 'तसखीर', 'डाका', 'नॉमिनेट', 'सपाट', 'कोयम्बटूर', 'कोरापुट', 'स्वायत्तशासन', 'विद्युतीकृत', 'किकियाना', 'अरुणाई', 'रीगल', 'डायमंड', 'मृदुभाषी', 'वाल्टर्स', 'सूत्रपाडा', 'कीति', 'ज़िलाधिकारी', 'मंगेश', 'पेंषन', 'लगनेवाले', 'जिलावासियों', 'प्लोस्की', 'एकसाथ', 'सेखर', 'डीओडब्ल्यू', 'अर्धविश्वास', 'राजस्थान', 'विकासखण्ड', 'संशयों', 'बढना', 'क्लासों', 'उखरुल', 'फुरामे', 'एबज', 'बाताया', 'जुशान्तान', 'स्ट्रॉन्ग', 'राजनीतिकारों', 'पानीपत', 'ब्लांकार्ड', 'झाबुआ', 'जकिंटो', 'बारहसिंगा', 'सूचनाः', 'इलेक्ट्रोमैजिक', 'लालमणी', 'भाऊलाल', 'कठुआ', 'पलारी', 'अमिताव', 'तदंरुस्ती', 'वाबस्ता', 'व्लाद', 'स्लैश', 'वाटरबरी', 'सेल्फी', 'लुईस', 'पंचसूत्र', 'अर्यमा', 'वादक', 'जंक्शन', 'जेनरिक', 'जिया', 'एडेन', 'सॉफ़्नर', 'क्यूडब्ल्यूवीजीए', 'ध्वनिमिकों', 'फीड्स', 'सुकडि़याल', 'अनगढ़', 'बावजी', 'छोडिये', 'सिप्ला', 'विज्ञानों', 'धस्माना', 'लोंगोवाल', 'बदाम', 'अट्रैक्ट', 'सराहा', 'नृत्यशैली', 'संवरी', 'यक्षाधिपति', 'अरबपतियों', 'मुकद्दमों', 'फोड़े', 'सिहुंता', 'जीवन', 'ढूंढता', 'क्रुसेस', 'कार्यकर्त्रियों', 'प्रतिबद्धताएं', 'डीएलडब्ल्यू', 'प्लेन', 'पायलट', 'अधिवास', 'फैंन', 'फव्वारा', 'हालचाल', 'विश्ववीर', 'क्रेस्ट', 'ब्रह्मलीन', 'विरेचन', 'याद्दाश्त', 'उज्जैन', 'सहयात्री', 'जिम्मे', 'सारावागी', 'देखियेगा', 'वजूद', 'कुंडल', 'रिया', 'स्लाइडर', 'मैनेजमेंट', 'कार्यकार्यकर्ताओं', 'क्रिस्टिस', 'रुकते', 'डिस्ट्रब्यूटर्स', 'स्पेल', 'दमपर', 'ठिकाने', 'इंटरटेक्चुअलिटी', 'सीडीयां', 'साउथ', 'आपका', 'नहींकरवाई', 'जागृति', 'चूड़े', 'थर्टी', 'नक्सल', 'जीएसएम', 'गुजरात', 'दर्शनार्थी', 'नाभा', 'धोखेबाज', 'लेगा', 'बीआईआईटीएम', 'साेमवार', 'वाणों', 'औद्योगिकरण', 'अग्रहरि', 'आफॅ', 'तीमारदारों', 'मिश्रा', 'सेरेब्रा', 'नागारिक', 'दस्तार', 'मकरः', 'जीतोड़', 'बैलिस्टिक', 'चढ़ेगा', 'मांगे', 'नीलाभ', 'मेंशराब', 'सिंघाड़े', 'हिसारः', 'रामकोट', 'बैठते', 'तसखीर', 'इशारा', 'सोलापुर', 'मेजबानी', 'फ्लोरेंस', 'परामर्शक', 'झाड़ने', 'थियेटर्स', 'आदान', 'आंबियंस', 'सुरक्षाः', 'हिकारिको', 'बांया', 'रुकवाई', 'मित्रवत', 'बोकारो', 'मौर्या', 'प्रतिनिधिकारी', 'चंद्रमाओं', 'परोसने', 'ढैया', 'स्पिरिट्स', 'लियान्ड्रो', 'शॉन', 'स्वार्थपरक', 'चूचियां', 'महामीडिया', 'पूर्वजन्मों', 'शोहदापंती', 'कुषाण', 'जमलोकी', 'एवरेस्ट', 'तस्वारों', 'अधिवास', 'प्रेमलता', 'मुर्रिएटा', 'वैमनस्य', 'केली', 'टिनप्लेट', 'वाण', 'महामंत्र', 'मेजबान', 'शुमाली', 'फुलाए', 'प्रूट', 'रुजवेल्ट', 'प्रशासनिक', 'उलझानों', 'पत्रकारवार्ता', 'दुआर', 'कठफोड़वे', 'बिपिन', 'ऑफरः', 'ईसाइयों', 'प्रोपेलेंट', 'कंसाई', 'सीखीं', 'सीडीसीएल', 'एबोट', 'कटलरी', 'आदिवादियों', 'चित्रकथा', 'अवशिष्ट', 'फ्यूचुरिस्टिक', 'तेरीः', 'नन्हें', 'एवरी', 'सूबा', 'शाखाएं', 'त्रिकालदर्शी', 'पालसाही', 'फैलाइए', 'झउवा', 'जमाती', 'जनहानि', 'पोंडिंग', 'तस्वारों', 'देशकाल', 'हिचकिचा', 'बस्तीः', 'गरीबी', 'फड़फड़ाएं', 'सीताराम', 'कमेरे', 'बैरकपुर', 'स्वयंस्वीकृत', 'कासोवो', 'मज़बूरी', 'कन्वोकेशन', 'स्किपर', 'जयपुर', 'प्रस्थानों', 'नरम', 'रेडियोप्रेमी', 'टीटागढ़', 'चिको', 'राज्यमंत्रीस्वतंत्र', 'मैनवल', 'गुजारना', 'सतलुज', 'जातियों', 'अनहोनी', 'टेलीलिंक्स', 'लैब्स', 'हरावल', 'मैरेज', 'मनिया', 'ट्रैक्टर्स', 'कंचन', 'लैरी', 'कार्यावधि', 'जलभराव', 'भाड़ा', 'बागोरा', 'पिएगा', 'स्टीफेंस', 'अभिमत', 'एक्सेल्या', 'वायरलेस', 'चौड़ा', 'परभणी', 'खातेदार', 'बढना', 'बर्च', 'उपद्रवों', 'टिकियों', 'मिल्क', 'डुबोना', 'बेकर', 'सुतली', 'बुद्धाराम', 'वेल्थ', 'पटरानी', 'अर्धविश्वास', 'पैम', 'कास्टानेडा', 'बलजीत', 'भटनागर', 'जातकों', 'इक्वाडोर', 'स्वर्गदूत', 'ऋषिकुल', 'टेट', 'कंठहार', 'बेऔलाद', 'यूरोपिया', 'गए', 'ददरेवा', 'बिखेरने', 'हमलो', 'पकड़ाए', 'उपलब्धियों', 'कोलोराडो', 'पैकर्ड', 'जागृति', 'आंध्रा', 'चौंकाते', 'बेख्वाबियां', 'नफ़ा', 'सिन्हा', 'उत्पीडऩ', 'सागा', 'आर्य', 'दिखाइये', 'अनिष्टता', 'उड़ान', 'संयुक्तावस्था', 'शमलात', 'एवव', 'अधिवक्तागण', 'रल्हन', 'झुठलाने', 'पूर्वाभास', 'बिजेन्द्रसिंह', 'चिनमणि', 'लोकसभावाली', 'लड़की', 'नरसिंहगढ़', 'संगठनमंत्रियों', 'रूपी', 'कार्यकर्ताओं', 'अगस्ता', 'मनमर्जी', 'अंतर्मुख', 'अनुमार', 'रिश्तानाता', 'द्विअर्थी', 'चुटीले', 'हैटीज़बर्ग', 'यूजी', 'राज', 'रैगुलाइजेशन', 'विंध्या', 'फिक्सिंगः', 'कमज़ोर', 'भरा', 'चौदहवां', 'फलने', 'श्रंखला', 'विपन्नता', 'प्रूफ़रीड', 'ज़माना', 'घटाएगी', 'दंगा', 'एरिका', 'भोला', 'व्याख्यात्मकता', 'योजनाः', 'वेबुनियादी', 'रुमानी', 'साहू', 'प्रधाननगर', 'सीऐटल', 'स्टैन', 'इनसानी', 'हमला', 'न्यूट्रियो', 'लदड', 'अंतडियां', 'कुशवाहा', 'कोच्चिः', 'गणपति', 'फार्मिक', 'पड़ेंगी', 'अर्थ', 'मुक़र्रर', 'निपटाकर', 'होलिडेस', 'कूच', 'उठ्ठक', 'सुलखान', 'कमेरे', 'जगाएगा', 'संत्री', 'शख्सियतें', 'पंचांग', 'झालाना', 'नित्या', 'इच्छी', 'हाबरा', 'पालियों', 'एजूस्पर्मिया', 'तावीज', 'फ़ूडवर्क्स', 'ग्राहम', 'प्रभानमंत्री', 'सेथ', 'जगताप', 'हर्षित', 'डूबना', 'रक्तदाताओं', 'मेक्सिको', 'तासीर', 'एयरकंडीशनर', 'एड्डी', 'मैकॉन', 'इसरानी', 'ऐंठ', 'श्रीमहापूर्ण', 'डॉर्क', 'जीनों', 'ग़रीबों', 'तराशकर', 'ऑब्जर्वर', 'आर्यो', 'उखड', 'साथसाथ', 'पैकेजों', 'हिंडन', 'अपरिहार्य', 'मंजिल', 'एलएक्स', 'कर्वी', 'दुभाषियों', 'रिकनेक्टिंग', 'विंड', 'क्लांइट', 'शरारत', 'वेंचुरा', 'रोलिंस', 'हैन्स', 'निकेतन', 'क्रांतियों', 'ट्विन', 'दिव्य', 'गिड़गिड़ाते', 'निगमायुक्त', 'गबली', 'नोवाटो', 'रिश्वतखोर', 'फांसी', 'गर्जना', 'निहलानी', 'पिंटा', 'ग्रीर', 'लेविसविल', 'प्रकाषित', 'क्लैरिएंट', 'क़ायल', 'द्विअर्थी', 'राखे', 'बुलंदशहर', 'स्टेफोर्ड', 'नजरियों', 'वर्ल्ड', 'जीवनियां', 'परमेश्वरपुर', 'उठनी', 'न्यूट्रियो', 'जेठा', 'बागबगीचों', 'सुचिकित्सा', 'नागमण्डल', 'प्रदाधिकारियों', 'उर्वरता', 'नील', 'क्रिप्टोकरेंसियों', 'स्वायत्तशासन', 'जर्दा', 'उपलक्ष्य', 'छुड़वाया', 'विदग्धा', 'मुख्यमंत्रीपटना', 'जैने', 'रतनपुर', 'महानतम', 'गुना', 'एमटेक', 'देनेवाली', 'नाभिकुंड', 'विशेषणों', 'लंगरों', 'पॉलिथीनों', 'संबित', 'ढूंढ', 'हां', 'टकरा', 'धंधेखोरी', 'पुलिंदे', 'एपोक्लिप्स', 'विज्ञानपीडिया', 'महोनी', 'पूंजीतंत्र', 'खरे', 'एक्सटेक्टर', 'ज़ुन्हेबोटो', 'प्रियामणि', 'सवाल', 'सूखाकर', 'आलोचक', 'फाँस', 'जयललिता', 'अमझेरा', 'बॉम्बे', 'व्यग्र', 'अपनानी', 'रिसने', 'छुरे', 'शार्लेट', 'जोस', 'रैलीः', 'मेज़बान', 'धनधान्य', 'डाबर', 'बीएसएसएस', 'नजीब', 'अवस्थाएं', 'जबलपुर', 'धर्मनिरपेक्षताके', 'फार्मर', 'एनएसीएल', 'समरविल', 'बुल', 'झुलए', 'खग्यार', 'मेहराम', 'धस्माना', 'रिपन', 'भागदौड़', 'मिथ्या', 'ललानिया', 'भूलों', 'वडाली', 'नागापट्टिनम', 'वैमनस्य', 'बिगेस्ट', 'जोड़ता', 'महत्तरों', 'ओरछा', 'धैर्यवान', 'सूंड़', 'प्रिंस', 'ज़ुबान', 'कैमस्टूडियो', 'यूरोपिया', 'मेज़ा', 'भुसावल', 'गायत्री', 'वेयर', 'बुद्धिजीवों', 'ऐंठ', 'रदर', 'इलाइची', 'उबाल', 'श्रीगंगानगरवासियों', 'फिजराल्ड़', 'जीवनशैली', 'चार्ट', 'सरगी', 'वेदों', 'मरमर', 'भाते', 'विप्ख', 'बयाने', 'मदनगंज', 'पैकेजों', 'वर्णनकर्ताओं', 'ज़यादा', 'लोकोत्सव', 'तेवरी', 'झाउगंज', 'मालवान', 'तदंरुस्ती', 'ऐल', 'क़ब्ज़ा', 'सुसंस्कृत', 'संधोल', 'आमरियापाड़ा', 'हाब्बन', 'बाउलिंग', 'रस्मे', 'एमडब्ल्यूपीएल', 'विद्याओं', 'बोवी', 'चेन्नई', 'कमलजीत', 'सिंहा', 'पेंशनधारियों', 'बारह', 'डूबना', 'एसेटल', 'चौहान', 'फलने', 'सिद्धार्थः', 'एपेक्स', 'डाल्टन', 'श्रीखंड', 'टेक्सटाइल्स', 'अग्रवाल', 'मिथ्याचारियों', 'सिमटे', 'क्रान्फ्रेंसिंग', 'संस्कृतियों', 'ढंककर', 'निज़ामाबाद', 'छतेनी', 'दुष्क्रिया', 'सासाराम', 'चिढ़ते', 'लाम्बा', 'लउटिस', 'खाएँ', 'धंधे', 'अन्त्यन्त', 'मास', 'बरामद', 'क्रेमिस्ट्री', 'उठनेवाले', 'लहना', 'सिरगिट्टी', 'कंट्रोल', 'अंदाजी', 'कैटलिन', 'पक्षपात', 'फोड़ों', 'फ्रांसिस्का', 'प्रयोगपृष्ठ', 'क्रांतिधरा', 'डैशवाला', 'खुरासान', 'क्वॉरेनटाइन', 'फोंड', 'पक्षपात', 'पुतला', 'ट्रुथ', 'साथसाथ', 'मोहिम', 'जॉनसन', 'सीपीएम', 'बाताया', 'पाल्मर', 'तुगलकाबाद', 'एपकोटेक्स', 'हैरम', 'सरेबाजार', 'येरुशलम', 'मोल्ड', 'वर्णनकर्ताओं', 'हूपर', 'वाटर्स', 'लुभाते', 'फेफड़ा', 'कामोत्तेजना', 'दंपति', 'सोया', 'बर्बरतापूर्ण', 'तड़ीपार', 'लुत्फ', 'तरीको', 'चता', 'पिटमैन', 'पहला', 'मल्टीमीडिया', 'त्यौहार', 'लेबल', 'ले', 'तीर्थाटन', 'सतुआ', 'वर्गस', 'डाबोलिम', 'सूचनाः', 'लेबलिंग', 'रोज़विल', 'फ़ाईब्रेट्स', 'ऑल्टो', 'परतानी', 'अस्मिताओं', 'वांट', 'तड़पती', 'पटेल', 'काजी', 'दोस्तानापूर्ण', 'क्षेत्राें', 'लिंच', 'स्टेट', 'रागों', 'मल्होत्रा', 'प्रज्ञातंत्र', 'दुर्नीति', 'क्रॉस', 'अव्यवसायी', 'धैर्यवान', 'टाइम', 'अशरीरी', 'चन्द्रदास', 'ज्योतिषि', 'एलेक्जेंड्रिया', 'बेवकूफाना', 'सिरपुर', 'उज़्बेक', 'खरुवार', 'धर्मविहीनता', 'सुरेंद्रनगर', 'आल्हा', 'अरुणाचल', 'क्रुएगर', 'बागली', 'दविन्दरपाल', 'चापलूसी', 'संस्कारियों', 'इंजन्स', 'मेंडेज़', 'सियाह', 'गुजारने', 'गजरा', 'कवि', 'मिदनापुर', 'वृत्तों', 'सिरमोन', 'वर्तमान', 'उभरेगा', 'पायलट', 'नरभक्षी', 'एंट्रीक्स', 'डेटन', 'बडू', 'ऑलराउंडर', 'निश्रा', 'वधावन', 'जेन्सन', 'पाली', 'त्रैमासिक', 'अट्रैक्ट', 'वविद्यालय', 'चंदन', 'मेगा', 'मैन्सफील्ड', 'मट्टानचेरी', 'नवकेतन', 'कमतर', 'पिट्यूनिया', 'पुरूषोत्तमपुर', 'तपन', 'ज़ुबान', 'एनसीआरडब्ल्यूसी', 'हैम्बलिन', 'आराम', 'यशपाल', 'वोखा', 'छेत्री', 'ओमैक्स', 'परवीन', 'कुकरेजा', 'प्रेमफलः', 'नरमी', 'श्रंखलाओं', 'अवरोधक', 'तीरों', 'गणेशा', 'झाड़ा', 'अनुपमा', 'तलबगार', 'बिन्दल', 'ज़वाला', 'आमरियापाड़ा', 'प्रतिनिधिकारी', 'हलमतपुरा', 'बूदम', 'मैकियास', 'मेडीकल', 'रिस्पेक्टिंग', 'रंजकता', 'दा', 'सक्शन', 'भूमी', 'त्यौहारों', 'रंगते', 'उत्तरा', 'पेंशनधारियों', 'कार्यकर्ताओं', 'विद्याओं', 'द़फन', 'सरहिंद', 'ख़ासकर', 'रैथ', 'गुडगौंव', 'साहब', 'उड़ानों', 'मेजेस्को', 'पुष्पा', 'केशरी', 'बांबी', 'कारगिल', 'टकरा', 'बिजी', 'क्रोम', 'स्तिथि', 'गल्फ', 'कालोनीवासियों', 'आवृत्तियों', 'सुहानुभूति', 'चमच', 'विरोधाभासी', 'साभार', 'ऑलकार्गो', 'हारना', 'अव्यवसायी', 'प्राविंसेस', 'छेत्री', 'प्रतिष्ठी', 'सपा्', 'पटकी', 'पर्चियों', 'प्रतिवाद', 'लिफ़ाफ़ा', 'दर्शाना', 'गेरीसन', 'आकंड़ों', 'धंधों', 'डिस्ट्रीब्यूटरी', 'खत्री', 'पंजिका', 'बातः', 'रावले', 'कंगन', 'प्रेमात्मक', 'सिपाही', 'नोटबंदीशुदा', 'देवलहा', 'हल्ला', 'ज़मातें', 'मैसी', 'उसक', 'पितामह', 'विवरणःभारतीय', 'नागेरकोइल', 'लख्खी', 'अच्छी', 'सैटिन', 'नागपुर', 'बसीरहाट', 'छेलै', 'उबरकर', 'संयुक्तावस्था', 'सूरी', 'भपाई', 'व्यक्तिगत', 'महाथिर', 'फ्लेश', 'राष्ट्रक', 'राजभाई', 'हॉन्ग', 'लंगरों', 'सुभाय', 'फंड', 'फ्लावर्स', 'उठने', 'बडा़', 'मिश्रा', 'षट्', 'मैनहट्टन', 'सरगुजा', 'ईवनिंग', 'ग्रहणकाल', 'बागली', 'नीऊ', 'मुंडवा', 'तोलासन', 'जेडटीईसाफ्ट', 'नागमण्डल', 'कनाल', 'मछलीपट्टनम', 'फेलिक्स', 'हस्ताक्षरों', 'भिलाई', 'कॉन्ट्रेक्टिंग', 'क़रार', 'जौं', 'भाालू', 'फोर्टिस', 'गिरजाघरों', 'जैनों', 'अर्थव्यवस्थाः', 'ऑक्सीज', 'खिताबों', 'एनका', 'चष्मा', 'बताअाे', 'घृतकुमारी', 'प्राटेस्टेंट', 'ब्युर', 'लक्ष्मीधर', 'सियासी', 'उपयोगितावादियों', 'टूगा', 'समाधियों', 'खुरपका', 'कुमावत', 'एमडब्ल्यूपी', 'सूरज', 'न्यूरोसाइंटिस्ट्स', 'चंद्रेश्वरनगर', 'टैनिस', 'फर्रूखनगर', 'आवाज़ों', 'नजराने', 'पशुचारा', 'वेबुनियादी', 'डेनबरी', 'नईदिल्ली', 'छल्ला', 'रोवन', 'श्योपुर', 'रव्लानी', 'संवरी', 'धाक', 'मस्से', 'इंश्योरेंस', 'संप्रभुता', 'राष्ट्रा', 'जौहरी', 'जुदाई', 'बदमाशाें', 'खिताबों', 'स्वयँ', 'आग़ा', 'ढिंडवाल', 'घिसे', 'सप्पांवाली', 'निखारें', 'बाधित', 'ब्रह्मपुर', 'बैटाउन', 'कोलिंग', 'समाधियों', 'यूनियनवादी', 'छापेमार', 'ग़रीबों', 'थाऊजेंड', 'डसीला', 'कंजेंटेवाइटिस', 'बाधाओं', 'लगेगा', 'दुर्घटना', 'नितियों', 'कैपधारी', 'अत्री', 'सिंगम', 'वास्तविक', 'सबस्टेंसिस', 'पीलेपन', 'उठनी', 'हंडिया', 'प्रतिरक्षी', 'ललकारता', 'दुकानों', 'निविदाताओं', 'सर्वजातीय', 'नरसंहारों', 'नीमकाथाना', 'हेरेरा', 'जुनून', 'इकाई', 'जगदलपुर', 'स्विफ्टलेट', 'जलगति', 'पिट्स', 'रोपी', 'अड़ंगा', 'आलसी', 'चौकियां', 'लेटन', 'वकरंगी', 'डेवलपमेंट', 'शॉनी', 'परदेसियों', 'भूगोल', 'बगीची', 'सिवान', 'स्ट्रे', 'आलसी', 'व्यू', 'विषहीन', 'किस्सागोई', 'महानिदेशक', 'चिकित्साएवं', 'भट्टाचार्य', 'ट्रेंटन', 'कन्याएं', 'प्रियदर्शिनी', 'हुक़ूक़', 'शुल्कः', 'राणे', 'महाविद्या', 'संशयों', 'श्रेणीः', 'ओडोम', 'बेनिटेज़', 'त्यौहार', 'मतियाना', 'शवयात्रा', 'रिश्ते', 'रेहाना', 'क्यूएसएस', 'अनावश्यक', 'रिझाया', 'ब्रिगेड', 'सपने', 'चुनीं', 'कोषाधिकारी', 'करब', 'पलटने', 'कर्णेश्वरधाम', 'आर्यनस', 'प्रतिष्ठानोंं', 'कराईकल', 'उसकी', 'विपरीतता', 'परीक्षाओ', 'फ्यूजी', 'लामिनार', 'जुटाती', 'कौशिक', 'बेकाबू', 'नैनो', 'ओडिसा', 'तोमर', 'रोपी', 'थप्पड़बाज़ी', 'बाबत', 'अट्टहास', 'कोलन', 'प्रतिलीटर', 'भूसी', 'हलिया', 'उत्पीडऩ', 'पोप', 'करखेले', 'बाहुल्य', 'अस्वभाविक', 'कठनाईयों', 'रामजीलाल', 'वसूलता', 'मुख्यमंत्री', 'मारिया', 'सत्मेव', 'बक्सा', 'उदर', 'मैन', 'बुद्धिजीवों', 'सुदीप', 'जोड़ो', 'तसदीक', 'निकालनी', 'भटकाना', 'हारना', 'डिल्लों', 'रजिस्टर्ड', 'भंडारा', 'ललानिया', 'लिमा', 'लालकृष्ण', 'रत्नाभूषण', 'सपरिवार', 'साह', 'समेटती', 'पाइरिया', 'मामलोंमें', 'बरात', 'वैइसन', 'विला', 'लिंडा', 'खरिया', 'चेलानी', 'इलेक्ट्रॉनिक्स', 'ऋषिराज', 'उदयपुर', 'पगला', 'ऋतुकांत', 'कुर्मी', 'दस्ताना', 'एमरल्ड', 'घुमाई', 'उपद्रवियों', 'ओक्लाहोमा', 'धर्मराजने', 'झाओहुई', 'उप्पीड़न', 'खेमिक', 'तुगलकी', 'दोआर', 'अवि', 'जड़ित', 'टैबू', 'प्रोग्रामर्स', 'टेलर्सविले', 'चादरों', 'रेसर', 'भका', 'अंधभक्तो', 'ओब्रायन', 'कृत्या', 'पीरान', 'नजरियों', 'मयूर', 'चौदहवां', 'स्वर्गदूत', 'फेका', 'इंडिपेन्डेट', 'टिंका', 'गुर्दों', 'जातियों', 'समन्वयक', 'सूबे', 'चंदन', 'प्रारंभिकता', 'ट्रैप', 'उदंत', 'डायनामेटिक', 'विद्युतीकृत', 'ललानिया', 'वदरा', 'वेड', 'फड़फड़ाएं', 'ट्रेडेड', 'अखुआपाड़ा', 'सराहा', 'विज्ञानवादियों', 'कमज़ोर', 'यंगस्टाउन', 'आर्यम्', 'पटकथाएं', 'बाजपेयी', 'जस्सी', 'नाऊ', 'एवव', 'लागातार', 'सुमन', 'पड़नी', 'माइंडट्री', 'ड्रिस्ट्रीब्यूट्री', 'जानकारों', 'शंकचराचार्य', 'ऑफशोर', 'दुखों', 'नेस्को', 'फूलती', 'टूल्स', 'वर्गर', 'दमघोंटू', 'वीडियोः', 'राजमां', 'आत्ममुग्ध', 'रॉकफोर्ड', 'मित्रा', 'देवनार', 'ओकोई', 'उत्तरिया', 'कैनविज', 'गैलेक्सियों', 'जीवनियां', 'हकीकत', 'एलिमिनेटर', 'अगस्टाइन', 'कर', 'बीताने', 'दफ्तरवाले', 'बैराढ', 'कंबलों', 'ज्वार', 'फातमा', 'विवेस', 'डीडब्ल्यूटी', 'धातुएं', 'सियाह', 'पीटने', 'बिच्चों', 'जिता', 'सेवाला', 'बताैर', 'आदित्या', 'क्षेत्रें', 'एंकेनी', 'छेत्र', 'मुकरते', 'ऐंठे', 'बाल्टी', 'खंगाली', 'बीएसएसएस', 'ब्ंजजसम', 'पुष्पित', 'लिंमर्ग', 'पेरेड्डी', 'बोदरा', 'फ़ोकस', 'दूताय', 'श्रीलेदर्स', 'महंकमदान', 'घूंसा', 'काव्यविधाओं', 'क्षत्रियादि', 'जानकारों', 'रखना', 'रिश्तेदारो', 'श्रावणी', 'कुबुद्दीन', 'ज्वेलर्स', 'मेहमान', 'रोजलिन', 'जयकारा', 'चबूतरे', 'हरदिल', 'ट्रक', 'न्यूरोवेस्कुलर', 'खेलाने', 'स्ट्रेशन', 'लक्ष्यतीर्थ', 'नेशंस', 'पाठशालाएं', 'निवेदनः', 'लीडरों', 'टेनला', 'सेवकों', 'पूर्वापेक्षाओं', 'मणि', 'साेमवार', 'प्राण', 'अवैज्ञानिक', 'ऐवीऐशन', 'ब्राउन', 'नाकाम', 'अधिवास', 'जनजागरण', 'राजनंदगांव', 'लैरी', 'भाालू', 'तरीको', 'चिकोपी', 'रिफ्रेक्टरीज़', 'बरामद', 'काव', 'एमरल्ड', 'विवेकाधीन', 'फड़फड़ाएं', 'कायलाना', 'पेंट्स', 'पिट्सबर्ग', 'होखत', 'चौरसिया', 'सच्चिदानंद', 'सीड', 'चारों', 'रिज़वी', 'क्ले', 'दंपति', 'दूर्गध', 'देवापुर', 'मनवाया', 'लटककर', 'मेहमान', 'निया', 'उधमपुर', 'अतहर', 'छुपता', 'तुंगनाथ', 'रघुपति', 'प्रकाण्ड़', 'चेंज्ड', 'गंगटोक', 'क्रिकेट', 'फ्रांसिस्को', 'भगाने', 'अड़ंगा', 'फिक्सिंगः', 'कमाऊ', 'तिकोने', 'पैम', 'तरीक़ों', 'आगमन', 'किदवई', 'आश्रितों', 'राघवन', 'जनेऊधारी', 'डेवनपोर्ट', 'प्रेरणापुरी', 'महासिंह', 'लोरदा', 'इंट्रोडक्शन', 'स्वभावतः', 'ग्रीष्मोत्सव', 'तलाशेगा', 'सहरसा', 'मैके', 'मोशे', 'ग्रंथियां', 'लोहाती', 'अलायंस', 'तगड़े', 'छींके', 'सिवान', 'थकी', 'लेटकर', 'हिकारिको', 'टायर्स', 'नृत्यों', 'डियरफील्ड', 'चरित', 'बैथलहम', 'फिनोटेक्स', 'असाही', 'पहन', 'धनश्याम', 'फारेंसिस', 'लहना', 'द्वारिकेश', 'डुबाना', 'काराबोरियों', 'गोलमुरी', 'राखणौ', 'विपणक', 'पंचांग', 'ब्रीद', 'गुल्लरवाला', 'एडब्ल्यूपी', 'बाज़ी', 'हरपाल', 'प्रेमेश्वर', 'प्राप्त', 'नक्सलवाद', 'कंठहार', 'ऑक्साइड', 'खैराती', 'देशके', 'सुनासीर', 'अफसराें', 'सेहो', 'चबाते', 'मिति', 'बेलचा', 'सफ़लता', 'शबाना', 'खातूटोला', 'शिवास्तव', 'प्रेरणापुरी']\n",
            "51200\n",
            "4096\n",
            "4096\n"
          ]
        }
      ]
    },
    {
      "cell_type": "code",
      "source": [
        "# Creating tokenizied dataset here\n",
        "\n",
        "# Define a function to generate unique tokens for Hindi and English words from a dataset\n",
        "def uni_tok(dataset):\n",
        "  # Extract Hindi and English sentences from the dataset\n",
        "  hin = dataset['hin'].values\n",
        "  eng = dataset['eng'].values\n",
        "\n",
        "  # Initialize sets to store unique tokens for Hindi and English\n",
        "  hin_token = set()\n",
        "  eng_token = set()\n",
        "\n",
        "  # Iterate through pairs of Hindi and English sentences\n",
        "  for i, j in zip(eng, hin):\n",
        "    # Iterate through characters in Hindi sentence\n",
        "    for chare in j:\n",
        "      # Add each character to Hindi tokens set\n",
        "      hin_token.add(chare)\n",
        "    # Iterate through characters in English sentence\n",
        "    for chare in i:\n",
        "      # Add each character to English tokens set\n",
        "      eng_token.add(chare)\n",
        "\n",
        "  # Sort the sets and convert them to lists\n",
        "  hin_token = sorted(list(hin_token))\n",
        "  eng_token = sorted(list(eng_token))\n",
        "\n",
        "  # Return the lists of unique Hindi and English tokens\n",
        "  return hin_token, eng_token\n",
        "\n",
        "# Call the function to generate tokens for the training data\n",
        "hindi_token, english_token = uni_tok(train_data)\n",
        "\n",
        "# Print some statistics and samples of the generated tokens\n",
        "print(\"english_token : \", english_token)\n",
        "print(\"length of english words : \", len(english_token))\n",
        "print(\"hindi_token : \", hindi_token)\n",
        "print(\"length of hindi words : \", len(hindi_token))\n",
        "\n",
        "# \"Matraon\" ke liye alag se token hai mtlb ki"
      ],
      "metadata": {
        "colab": {
          "base_uri": "https://localhost:8080/"
        },
        "id": "lOO8dojV7snM",
        "outputId": "48dc77b6-df3d-4a91-8dce-55a31386cde5"
      },
      "execution_count": null,
      "outputs": [
        {
          "output_type": "stream",
          "name": "stdout",
          "text": [
            "english_token :  ['a', 'b', 'c', 'd', 'e', 'f', 'g', 'h', 'i', 'j', 'k', 'l', 'm', 'n', 'o', 'p', 'q', 'r', 's', 't', 'u', 'v', 'w', 'x', 'y', 'z']\n",
            "length of english words :  26\n",
            "hindi_token :  ['ँ', 'ं', 'ः', 'अ', 'आ', 'इ', 'ई', 'उ', 'ऊ', 'ऋ', 'ए', 'ऐ', 'ऑ', 'ओ', 'औ', 'क', 'ख', 'ग', 'घ', 'ङ', 'च', 'छ', 'ज', 'झ', 'ञ', 'ट', 'ठ', 'ड', 'ढ', 'ण', 'त', 'थ', 'द', 'ध', 'न', 'प', 'फ', 'ब', 'भ', 'म', 'य', 'र', 'ल', 'ळ', 'व', 'श', 'ष', 'स', 'ह', '़', 'ऽ', 'ा', 'ि', 'ी', 'ु', 'ू', 'ृ', 'ॅ', 'े', 'ै', 'ॉ', 'ो', 'ौ', '्']\n",
            "length of hindi words :  64\n"
          ]
        }
      ]
    },
    {
      "cell_type": "code",
      "source": [
        "# Creating token map here\n",
        "\n",
        "def tokenize_map(language_tokens , english_tokens):\n",
        "\n",
        "    # Create English token map with characters as keys and their index + 1 as values\n",
        "    english_token_map = dict([(ch,i+1) for i,ch in enumerate(english_tokens)])\n",
        "\n",
        "    # Create language token map with characters as keys and their index + 1 as values\n",
        "    language_token_map = dict([(ch,i+1) for i,ch in enumerate(language_tokens)])\n",
        "\n",
        "    # Create a reverse language token map with index + 1 as keys and characters as values\n",
        "    reverse_language_token_map = dict([(i+1,ch) for i,ch in enumerate(language_tokens)])\n",
        "\n",
        "    # Adding blank space to both token maps with value 0\n",
        "    language_token_map[\" \"] = 0\n",
        "    english_token_map[\" \"] = 0\n",
        "\n",
        "    # Add special tokens for beginning and end of sentence in language token map\n",
        "    language_token_map[';']=65\n",
        "    language_token_map['.']=66\n",
        "\n",
        "    # Add special tokens for beginning and end of sentence in English token map\n",
        "    english_token_map[';']=27\n",
        "    english_token_map['.']=28\n",
        "\n",
        "    # Add <unk> token for unknown characters to language token maps\n",
        "    language_token_map['<unk>']=64\n",
        "\n",
        "    # Update the reverse language token map with special tokens\n",
        "    reverse_language_token_map[64]='<unk>'\n",
        "    reverse_language_token_map[65]=';'\n",
        "    reverse_language_token_map[66]='.'\n",
        "    reverse_language_token_map[0]=''\n",
        "\n",
        "    # Return the Marathi token map, English token map, and reverse Marathi token map\n",
        "    return language_token_map, reverse_language_token_map, english_token_map\n",
        "\n",
        "# Call the function to generate token maps for hindi and english\n",
        "hin_token_map, reverse_hin_token_map, eng_token_map = tokenize_map(hindi_token, english_token)\n",
        "\n",
        "# Print the generated token maps\n",
        "print(hin_token_map)\n",
        "print(reverse_hin_token_map)\n",
        "print(eng_token_map)\n",
        "\n",
        "# Print the lengths of Marathi and English token maps\n",
        "print('hindi token map length:', len(hin_token_map))\n",
        "print('english token map length:', len(eng_token_map))\n",
        "\n"
      ],
      "metadata": {
        "colab": {
          "base_uri": "https://localhost:8080/"
        },
        "id": "EP1SUzLZZx1X",
        "outputId": "f8f3fd2a-133a-4c5e-8d8f-fcea2209cd93"
      },
      "execution_count": null,
      "outputs": [
        {
          "output_type": "stream",
          "name": "stdout",
          "text": [
            "{'ँ': 1, 'ं': 2, 'ः': 3, 'अ': 4, 'आ': 5, 'इ': 6, 'ई': 7, 'उ': 8, 'ऊ': 9, 'ऋ': 10, 'ए': 11, 'ऐ': 12, 'ऑ': 13, 'ओ': 14, 'औ': 15, 'क': 16, 'ख': 17, 'ग': 18, 'घ': 19, 'ङ': 20, 'च': 21, 'छ': 22, 'ज': 23, 'झ': 24, 'ञ': 25, 'ट': 26, 'ठ': 27, 'ड': 28, 'ढ': 29, 'ण': 30, 'त': 31, 'थ': 32, 'द': 33, 'ध': 34, 'न': 35, 'प': 36, 'फ': 37, 'ब': 38, 'भ': 39, 'म': 40, 'य': 41, 'र': 42, 'ल': 43, 'ळ': 44, 'व': 45, 'श': 46, 'ष': 47, 'स': 48, 'ह': 49, '़': 50, 'ऽ': 51, 'ा': 52, 'ि': 53, 'ी': 54, 'ु': 55, 'ू': 56, 'ृ': 57, 'ॅ': 58, 'े': 59, 'ै': 60, 'ॉ': 61, 'ो': 62, 'ौ': 63, '्': 64, ' ': 0, ';': 65, '.': 66, '<unk>': 64}\n",
            "{1: 'ँ', 2: 'ं', 3: 'ः', 4: 'अ', 5: 'आ', 6: 'इ', 7: 'ई', 8: 'उ', 9: 'ऊ', 10: 'ऋ', 11: 'ए', 12: 'ऐ', 13: 'ऑ', 14: 'ओ', 15: 'औ', 16: 'क', 17: 'ख', 18: 'ग', 19: 'घ', 20: 'ङ', 21: 'च', 22: 'छ', 23: 'ज', 24: 'झ', 25: 'ञ', 26: 'ट', 27: 'ठ', 28: 'ड', 29: 'ढ', 30: 'ण', 31: 'त', 32: 'थ', 33: 'द', 34: 'ध', 35: 'न', 36: 'प', 37: 'फ', 38: 'ब', 39: 'भ', 40: 'म', 41: 'य', 42: 'र', 43: 'ल', 44: 'ळ', 45: 'व', 46: 'श', 47: 'ष', 48: 'स', 49: 'ह', 50: '़', 51: 'ऽ', 52: 'ा', 53: 'ि', 54: 'ी', 55: 'ु', 56: 'ू', 57: 'ृ', 58: 'ॅ', 59: 'े', 60: 'ै', 61: 'ॉ', 62: 'ो', 63: 'ौ', 64: '<unk>', 65: ';', 66: '.', 0: ''}\n",
            "{'a': 1, 'b': 2, 'c': 3, 'd': 4, 'e': 5, 'f': 6, 'g': 7, 'h': 8, 'i': 9, 'j': 10, 'k': 11, 'l': 12, 'm': 13, 'n': 14, 'o': 15, 'p': 16, 'q': 17, 'r': 18, 's': 19, 't': 20, 'u': 21, 'v': 22, 'w': 23, 'x': 24, 'y': 25, 'z': 26, ' ': 0, ';': 27, '.': 28}\n",
            "hindi token map length: 68\n",
            "english token map length: 29\n"
          ]
        }
      ]
    },
    {
      "cell_type": "code",
      "source": [
        "# Lets see what is the maximun word length avaiolable in the dataset\n",
        "\n",
        "# Assigning values from the 'hin' and 'eng' columns of the test_data DataFrame to variables 'hiii' and 'ennn' respectively.\n",
        "hiii = test_data['hin'].values\n",
        "ennn = test_data['eng'].values\n",
        "\n",
        "# Adding ';' at the beginning and '.' at the end of each element in the 'hiii' and 'ennn' arrays.\n",
        "# Adding special characters like ';' and '.' the start and end of a sentence or phrase, which is necessary for subsequent processing or analysis being performed on the strings.\n",
        "hiii = ';' + hiii + '.'\n",
        "ennn = ';' + ennn + '.'\n",
        "\n",
        "#print(hiii)\n",
        "\n",
        "# Finding the maximum length of a string in the 'hiii' array.\n",
        "maximum_hin = max([len(i) for i in hiii])\n",
        "# Finding the maximum length of a string in the 'ennn' array.\n",
        "maximum_eng = max([len(i) for i in ennn])\n",
        "\n",
        "# Printing the maximum word length in Hindi.\n",
        "print(\"maximum word length in hindi is : \", maximum_hin)\n",
        "# Printing the maximum word length in English.\n",
        "print(\"maximum word length in english is : \", maximum_eng)\n"
      ],
      "metadata": {
        "colab": {
          "base_uri": "https://localhost:8080/"
        },
        "id": "3t1NmzzG-FEi",
        "outputId": "c631fece-f9b6-40b1-d66b-236899ac2531"
      },
      "execution_count": null,
      "outputs": [
        {
          "output_type": "stream",
          "name": "stdout",
          "text": [
            "maximum word length in hindi is :  22\n",
            "maximum word length in english is :  28\n"
          ]
        }
      ]
    },
    {
      "cell_type": "code",
      "source": [
        "# NOw we do one hot encoding\n",
        "\n",
        "import torch\n",
        "#unknown token present in validation set as 'r.(in hindi)'\n",
        "unknown_token=64\n",
        "def process(data):\n",
        "    x,y = data['eng'].values, data['hin'].values\n",
        "    x = \";\" + x + \".\"\n",
        "    y = \";\" + y + \".\"\n",
        "    print(x[0:3])\n",
        "    print(y[0:3])\n",
        "\n",
        "    a = torch.zeros((len(x),maximum_eng),dtype=torch.int64)\n",
        "    print(a.shape)\n",
        "\n",
        "    b = torch.zeros((len(y),maximum_eng),dtype=torch.int64)\n",
        "\n",
        "    data=[]\n",
        "    for i,(xx,yy) in enumerate(zip(x,y)):\n",
        "        for j,ch in enumerate(xx):\n",
        "            a[i,j] = eng_token_map[ch]\n",
        "\n",
        "        #a[i,j+1:] = eng_token_map[\" \"]\n",
        "        for j,ch in enumerate(yy):\n",
        "            if ch in hin_token_map:\n",
        "             b[i,j] = hin_token_map[ch]\n",
        "            else:\n",
        "              b[i,j]= unknown_token\n",
        "\n",
        "\n",
        "    '''\n",
        "    data = []\n",
        "    for xx, yy in zip(x, y):\n",
        "        a_seq = [eng_token_map[ch] for ch in xx]\n",
        "        b_seq = [hin_token_map.get(ch, unknown_token) for ch in yy]\n",
        "        data.append((a_seq, b_seq))\n",
        "    '''\n",
        "\n",
        "    data = [(a[i], b[i]) for i in range(len(x))]\n",
        "    print(a.shape)\n",
        "    print(b.shape)\n",
        "    return data\n",
        "\n",
        "print(train_data)\n",
        "train_procs = process(train_data)\n",
        "valid_procs = process(valid_data)\n",
        "test_procs = process(test_data)\n",
        "# print(train_process.shape)\n",
        "print('\\n')\n",
        "print('num of rows:',len(train_procs))\n",
        "print('num of columns:',len(train_procs[0]))\n",
        "print(train_procs[0][1])\n",
        "#print(valid_procs[0][1])\n",
        "#print(test_procs[0][1])\n",
        "\n"
      ],
      "metadata": {
        "id": "Y50ML0xPARbJ",
        "colab": {
          "base_uri": "https://localhost:8080/"
        },
        "outputId": "f5f21914-017e-442b-8d5f-17183940bfbd"
      },
      "execution_count": null,
      "outputs": [
        {
          "output_type": "stream",
          "name": "stdout",
          "text": [
            "               eng         hin\n",
            "0      shastragaar  शस्त्रागार\n",
            "1          bindhya    बिन्द्या\n",
            "2        kirankant    किरणकांत\n",
            "3      yagyopaveet   यज्ञोपवीत\n",
            "4          ratania     रटानिया\n",
            "...            ...         ...\n",
            "51195        toned        टोंड\n",
            "51196   mutanaazaa    मुतनाज़ा\n",
            "51197    asahmaton     असहमतों\n",
            "51198    sulgaayin    सुलगायीं\n",
            "51199  anchuthengu   अंचुतेंगु\n",
            "\n",
            "[51200 rows x 2 columns]\n",
            "[';shastragaar.' ';bindhya.' ';kirankant.']\n",
            "[';शस्त्रागार.' ';बिन्द्या.' ';किरणकांत.']\n",
            "torch.Size([51200, 28])\n",
            "torch.Size([51200, 28])\n",
            "torch.Size([51200, 28])\n",
            "[';jaisawal.' ';bajai.' ';sanghthan.']\n",
            "[';जयसवाल.' ';बजाई.' ';संघठन.']\n",
            "torch.Size([4096, 28])\n",
            "torch.Size([4096, 28])\n",
            "torch.Size([4096, 28])\n",
            "[';thermax.' ';sikhaaega.' ';learn.']\n",
            "[';थरमैक्स.' ';सिखाएगा.' ';लर्न.']\n",
            "torch.Size([4096, 28])\n",
            "torch.Size([4096, 28])\n",
            "torch.Size([4096, 28])\n",
            "\n",
            "\n",
            "num of rows: 51200\n",
            "num of columns: 2\n",
            "tensor([65, 46, 48, 64, 31, 64, 42, 52, 18, 52, 42, 66,  0,  0,  0,  0,  0,  0,\n",
            "         0,  0,  0,  0,  0,  0,  0,  0,  0,  0])\n"
          ]
        }
      ]
    },
    {
      "cell_type": "code",
      "source": [
        "# For reading the words, bro...\n",
        "\n",
        "def reverse_tokenize(data):\n",
        "    # Convert each element in data to an integer\n",
        "    data = map(int, data)\n",
        "    # Map each integer to its corresponding character using reverse_marathi_token_map\n",
        "    characters = map(reverse_hin_token_map.get, data)\n",
        "    # Join the characters into a single string\n",
        "    predicted_seq = ''.join(characters)\n",
        "    return predicted_seq"
      ],
      "metadata": {
        "id": "VvnAb8a5BQzZ"
      },
      "execution_count": null,
      "outputs": []
    },
    {
      "cell_type": "code",
      "source": [
        "\n",
        "import torch\n",
        "\n",
        "device = torch.device('cuda' if torch.cuda.is_available() else 'cpu')\n",
        "\n",
        "BATCH_bitch_SIZE = 16\n",
        "\n",
        "PAD_IDX = 0\n",
        "BOS_IDX = ';'\n",
        "EOS_IDX = '.'\n",
        "from torch.nn.utils.rnn import pad_sequence\n",
        "from torch.utils.data import DataLoader\n",
        "\n",
        "\n",
        "train_itersn = DataLoader(train_procs, batch_size=BATCH_bitch_SIZE,\n",
        "                        shuffle=False)\n",
        "valid_itersn = DataLoader(valid_procs, batch_size=BATCH_bitch_SIZE,\n",
        "                        shuffle=False)\n",
        "test_itersn = DataLoader(test_procs, batch_size=BATCH_bitch_SIZE,\n",
        "                       shuffle=False)\n",
        "\n",
        "# Let's see what we got\n",
        "print(len(train_itersn))\n",
        "print(train_itersn)\n",
        "print(len(test_itersn))\n",
        "print(len(valid_itersn))"
      ],
      "metadata": {
        "colab": {
          "base_uri": "https://localhost:8080/"
        },
        "id": "jUiH0-giEBGS",
        "outputId": "75876e83-e62e-46cc-9775-9319672ab6dc"
      },
      "execution_count": null,
      "outputs": [
        {
          "output_type": "stream",
          "name": "stdout",
          "text": [
            "3200\n",
            "<torch.utils.data.dataloader.DataLoader object at 0x000001A20033A9D0>\n",
            "256\n",
            "256\n"
          ]
        }
      ]
    },
    {
      "cell_type": "code",
      "source": [
        "import torch\n",
        "import torch.nn as nn\n",
        "import torch.optim as optim\n",
        "import string\n",
        "import random\n",
        "from collections import Counter\n",
        "# Set random seed for reproducibility\n",
        "SEED = 1234\n",
        "random.seed(SEED)\n",
        "torch.manual_seed(SEED)\n",
        "import os\n"
      ],
      "metadata": {
        "id": "aFI61OHpGqhJ"
      },
      "execution_count": null,
      "outputs": []
    },
    {
      "cell_type": "markdown",
      "source": [
        "# Attention implimenetation here"
      ],
      "metadata": {
        "id": "lCdaE9frJltJ"
      }
    },
    {
      "cell_type": "code",
      "source": [
        "import random\n",
        "from typing import Tuple\n",
        "\n",
        "import torch.nn as nn\n",
        "import torch.optim as optim\n",
        "import torch.nn.functional as F\n",
        "from torch import Tensor\n",
        "\n",
        "\n",
        "class Encoder(nn.Module):\n",
        "    def __init__(self, input_dimension: int, emb_dimension: int, enc_hid_dimension: int, dec_hid_dimension: int, dropout: float):\n",
        "        super().__init__()\n",
        "\n",
        "        self.input_dimension = input_dimension\n",
        "        self.emb_dimension = emb_dimension\n",
        "        self.enc_hid_dimension = enc_hid_dimension\n",
        "        self.dec_hid_dimension = dec_hid_dimension\n",
        "        self.dropout = dropout\n",
        "\n",
        "        #print('inp. dim')\n",
        "        #print(self.input_dim)\n",
        "        #print('emb. dim')\n",
        "        #print(self.emb_dim)\n",
        "        self.embedding = nn.Embedding(self.input_dimension, self.emb_dimension)\n",
        "\n",
        "\n",
        "        self.rnn = nn.GRU(emb_dimension, enc_hid_dimension, bidirectional = True)\n",
        "\n",
        "        self.fc = nn.Linear(enc_hid_dimension * 2, dec_hid_dimension)\n",
        "\n",
        "        self.dropout = nn.Dropout(dropout)\n",
        "\n",
        "    def forward(self, src: Tensor) -> Tuple[Tensor]:\n",
        "        src = src.permute(1,0)\n",
        "        #print(src)\n",
        "        embedded = self.dropout(self.embedding(src))\n",
        "\n",
        "        outputs, hidden = self.rnn(embedded)\n",
        "\n",
        "        hidden = torch.tanh(self.fc(torch.cat((hidden[-2,:,:], hidden[-1,:,:]), dim = 1)))\n",
        "\n",
        "        return outputs, hidden\n",
        "\n",
        "\n",
        "class Attention(nn.Module):\n",
        "    def __init__(self, enc_hid_dimension: int, dec_hid_dimension: int, attn_dimension: int):\n",
        "        super().__init__()\n",
        "\n",
        "        self.enc_hid_dimension = enc_hid_dimension\n",
        "        self.dec_hid_dimension = dec_hid_dimension\n",
        "\n",
        "        self.attn_in = (enc_hid_dimension * 2) + dec_hid_dimension\n",
        "\n",
        "        self.attn = nn.Linear(self.attn_in, attn_dimension)\n",
        "\n",
        "    def forward(self, decoder_hidden: Tensor, encoder_outputs: Tensor) -> Tensor:\n",
        "\n",
        "        src_len = encoder_outputs.shape[0]\n",
        "\n",
        "        repeated_decoder_hidden = decoder_hidden.unsqueeze(1).repeat(1, src_len, 1)\n",
        "\n",
        "        encoder_outputs = encoder_outputs.permute(1, 0, 2)\n",
        "\n",
        "        energy = torch.tanh(self.attn(torch.cat((\n",
        "            repeated_decoder_hidden,\n",
        "            encoder_outputs),\n",
        "            dim = 2)))\n",
        "\n",
        "        attention = torch.sum(energy, dim=2)\n",
        "\n",
        "        return F.softmax(attention, dim=1)\n",
        "\n",
        "\n",
        "class Decoder(nn.Module):\n",
        "    def __init__(self, output_dimension: int, emb_dimension: int, enc_hid_dimension: int, dec_hid_dimension: int, dropout: int, attention: nn.Module):\n",
        "        super().__init__()\n",
        "\n",
        "        self.emb_dimension = emb_dimension\n",
        "        self.enc_hid_dimension = enc_hid_dimension\n",
        "        self.dec_hid_dimension = dec_hid_dimension\n",
        "        self.output_dimension = output_dimension\n",
        "        self.dropout = dropout\n",
        "        self.attention = attention\n",
        "\n",
        "        self.embedding = nn.Embedding(output_dimension, emb_dimension)\n",
        "\n",
        "        self.rnn = nn.GRU((enc_hid_dimension * 2) + emb_dimension, dec_hid_dimension)\n",
        "\n",
        "        self.out = nn.Linear(self.attention.attn_in + emb_dimension, output_dimension)\n",
        "\n",
        "        self.dropout = nn.Dropout(dropout)\n",
        "\n",
        "\n",
        "    def _weighted_encoder_rep(self, decoder_hidden: Tensor, encoder_outputs: Tensor) -> Tensor:\n",
        "\n",
        "        a = self.attention(decoder_hidden, encoder_outputs)\n",
        "\n",
        "        a = a.unsqueeze(1)\n",
        "\n",
        "        encoder_outputs = encoder_outputs.permute(1, 0, 2)\n",
        "\n",
        "        weighted_encoder_rep = torch.bmm(a, encoder_outputs)\n",
        "\n",
        "        weighted_encoder_rep = weighted_encoder_rep.permute(1, 0, 2)\n",
        "\n",
        "        return weighted_encoder_rep\n",
        "\n",
        "\n",
        "    def forward(self, input_: Tensor, decoder_hidden: Tensor, encoder_outputs: Tensor) -> Tuple[Tensor]:\n",
        "\n",
        "        input_ = input_.unsqueeze(0)\n",
        "        input_ = input_.permute(1,0)\n",
        "        embedded = self.dropout(self.embedding(input_))\n",
        "        weighted_encoder_rep = self._weighted_encoder_rep(decoder_hidden,\n",
        "                                                          encoder_outputs)\n",
        "\n",
        "        #print(weighted_encoder_rep.shape)\n",
        "        embedded = embedded.permute(1,0,2)\n",
        "\n",
        "        rnn_input = torch.cat((embedded, weighted_encoder_rep), dim = 2)\n",
        "\n",
        "        output, decoder_hidden = self.rnn(rnn_input, decoder_hidden.unsqueeze(0))\n",
        "\n",
        "        embedded = embedded.squeeze(0)\n",
        "        output = output.squeeze(0)\n",
        "        weighted_encoder_rep = weighted_encoder_rep.squeeze(0)\n",
        "\n",
        "        output = self.out(torch.cat((output, weighted_encoder_rep, embedded), dim = 1))\n",
        "\n",
        "        return output, decoder_hidden.squeeze(0)\n",
        "\n",
        "\n",
        "class Seq2Seq(nn.Module):\n",
        "    def __init__(self, encoder: nn.Module, decoder: nn.Module, device: torch.device):\n",
        "        super().__init__()\n",
        "\n",
        "        self.encoder = encoder\n",
        "        self.decoder = decoder\n",
        "        self.device = device\n",
        "\n",
        "    def forward(self, src: Tensor, trg: Tensor, teacher_forcing_ratio: float = 0.5) -> Tensor:\n",
        "\n",
        "        batch_size = src.shape[0]\n",
        "        max_len = trg.shape[1]\n",
        "        trg_vocab_size = self.decoder.output_dimension\n",
        "        outputs = torch.zeros(max_len, batch_size, trg_vocab_size).to(self.device)\n",
        "        #ATTENTION HEAT MAP METHOD\n",
        "        #attentions = torch.zeros(max_len, batch_size, src.shape[1]).to(self.device)\n",
        "\n",
        "        encoder_outputs, hidden = self.encoder(src)\n",
        "\n",
        "        # first input to the decoder is the <sos> token\n",
        "        trg = trg.permute(1,0)\n",
        "        output = trg[0,:]\n",
        "\n",
        "        for t in range(1, max_len):\n",
        "            output, hidden = self.decoder(output, hidden, encoder_outputs)\n",
        "            outputs[t] = output\n",
        "            teacher_force = random.random() < teacher_forcing_ratio\n",
        "            top1 = output.max(1)[1]\n",
        "            output = (trg[t] if teacher_force else top1)\n",
        "\n",
        "        return outputs\n",
        "\n",
        "\n",
        "INPUT_DIMENSION = len(eng_token_map)\n",
        "OUTPUT_DIMENSION = len(hin_token_map)\n",
        "ENC_EMB_DIMENSION = 512\n",
        "DEC_EMB_DIMENSION = 512\n",
        "ENC_HID_DIMENSION  = 256\n",
        "DEC_HID_DIMENSION  = 256\n",
        "ATTN_DIMENSION  = 256\n",
        "ENC_DROPOUT = 0.3\n",
        "DEC_DROPOUT = 0.3\n",
        "\n",
        "encoder_bkl = Encoder(INPUT_DIMENSION , ENC_EMB_DIMENSION, ENC_HID_DIMENSION, DEC_HID_DIMENSION, ENC_DROPOUT)\n",
        "attension_bkl = Attention(ENC_HID_DIMENSION, DEC_HID_DIMENSION, ATTN_DIMENSION)\n",
        "decoder_bkl = Decoder(OUTPUT_DIMENSION , DEC_EMB_DIMENSION,  ENC_HID_DIMENSION, DEC_HID_DIMENSION, DEC_DROPOUT, attension_bkl)\n",
        "model_bkl = Seq2Seq(encoder_bkl, decoder_bkl, device).to(device)\n",
        "\n",
        "\n",
        "def init_weights(m: nn.Module):\n",
        "    for name, param in m.named_parameters():\n",
        "        if 'weight' in name:\n",
        "            nn.init.normal_(param.data, mean=0, std=0.01)\n",
        "        else:\n",
        "            nn.init.constant_(param.data, 0)\n",
        "\n",
        "#added custom weights\n",
        "model_bkl.apply(init_weights)\n",
        "\n",
        "optimizer = optim.Adam(model_bkl.parameters())\n",
        "\n",
        "\n",
        "def count_parameters(model: nn.Module):\n",
        "    return sum(p.numel() for p in model.parameters() if p.requires_grad)\n",
        "\n",
        "\n",
        "print(f'The model has {count_parameters(model_bkl):,} trainable parameters')\n",
        "print(\"That's alot of parameters!\")"
      ],
      "metadata": {
        "colab": {
          "base_uri": "https://localhost:8080/"
        },
        "id": "EbIItUKpwflu",
        "outputId": "2c0e39a8-e5e0-48fb-8b95-53e45d7c6af8"
      },
      "execution_count": null,
      "outputs": [
        {
          "output_type": "stream",
          "name": "stdout",
          "text": [
            "The model has 2,632,260 trainable parameters\n",
            "That's alot of parameters!\n"
          ]
        }
      ]
    },
    {
      "cell_type": "markdown",
      "source": [
        "# Wandb implimenststion of Attantion"
      ],
      "metadata": {
        "id": "b9Rd9asq8Wk9"
      }
    },
    {
      "cell_type": "code",
      "source": [
        "!pip install --upgrade wandb\n",
        "!wandb login 3c21150eb43b007ee446a1ff6e87f640ec7528c4 #my API key for wandb login\n",
        "import wandb"
      ],
      "metadata": {
        "colab": {
          "base_uri": "https://localhost:8080/"
        },
        "id": "_qNbTSZcFxOk",
        "outputId": "e3ce091f-fc3a-4e82-8076-4fe391d3ee4a"
      },
      "execution_count": null,
      "outputs": [
        {
          "output_type": "stream",
          "name": "stdout",
          "text": [
            "Requirement already satisfied: wandb in c:\\users\\asl 5\\.conda\\envs\\cuda121_pytorch222\\lib\\site-packages (0.17.0)\n",
            "Requirement already satisfied: click!=8.0.0,>=7.1 in c:\\users\\asl 5\\.conda\\envs\\cuda121_pytorch222\\lib\\site-packages (from wandb) (8.1.7)\n",
            "Requirement already satisfied: docker-pycreds>=0.4.0 in c:\\users\\asl 5\\.conda\\envs\\cuda121_pytorch222\\lib\\site-packages (from wandb) (0.4.0)\n",
            "Requirement already satisfied: gitpython!=3.1.29,>=1.0.0 in c:\\users\\asl 5\\.conda\\envs\\cuda121_pytorch222\\lib\\site-packages (from wandb) (3.1.43)\n",
            "Requirement already satisfied: platformdirs in c:\\users\\asl 5\\.conda\\envs\\cuda121_pytorch222\\lib\\site-packages (from wandb) (3.10.0)\n",
            "Requirement already satisfied: protobuf!=4.21.0,<5,>=3.19.0 in c:\\users\\asl 5\\.conda\\envs\\cuda121_pytorch222\\lib\\site-packages (from wandb) (4.25.3)\n",
            "Requirement already satisfied: psutil>=5.0.0 in c:\\users\\asl 5\\.conda\\envs\\cuda121_pytorch222\\lib\\site-packages (from wandb) (5.9.0)\n",
            "Requirement already satisfied: pyyaml in c:\\users\\asl 5\\.conda\\envs\\cuda121_pytorch222\\lib\\site-packages (from wandb) (6.0.1)\n",
            "Requirement already satisfied: requests<3,>=2.0.0 in c:\\users\\asl 5\\.conda\\envs\\cuda121_pytorch222\\lib\\site-packages (from wandb) (2.31.0)\n",
            "Requirement already satisfied: sentry-sdk>=1.0.0 in c:\\users\\asl 5\\.conda\\envs\\cuda121_pytorch222\\lib\\site-packages (from wandb) (2.1.1)\n",
            "Requirement already satisfied: setproctitle in c:\\users\\asl 5\\.conda\\envs\\cuda121_pytorch222\\lib\\site-packages (from wandb) (1.3.3)\n",
            "Requirement already satisfied: setuptools in c:\\users\\asl 5\\.conda\\envs\\cuda121_pytorch222\\lib\\site-packages (from wandb) (68.2.2)\n",
            "Requirement already satisfied: typing-extensions in c:\\users\\asl 5\\.conda\\envs\\cuda121_pytorch222\\lib\\site-packages (from wandb) (4.9.0)\n",
            "Requirement already satisfied: colorama in c:\\users\\asl 5\\.conda\\envs\\cuda121_pytorch222\\lib\\site-packages (from click!=8.0.0,>=7.1->wandb) (0.4.6)\n",
            "Requirement already satisfied: six>=1.4.0 in c:\\users\\asl 5\\.conda\\envs\\cuda121_pytorch222\\lib\\site-packages (from docker-pycreds>=0.4.0->wandb) (1.16.0)\n",
            "Requirement already satisfied: gitdb<5,>=4.0.1 in c:\\users\\asl 5\\.conda\\envs\\cuda121_pytorch222\\lib\\site-packages (from gitpython!=3.1.29,>=1.0.0->wandb) (4.0.11)\n",
            "Requirement already satisfied: charset-normalizer<4,>=2 in c:\\users\\asl 5\\.conda\\envs\\cuda121_pytorch222\\lib\\site-packages (from requests<3,>=2.0.0->wandb) (2.0.4)\n",
            "Requirement already satisfied: idna<4,>=2.5 in c:\\users\\asl 5\\.conda\\envs\\cuda121_pytorch222\\lib\\site-packages (from requests<3,>=2.0.0->wandb) (3.4)\n",
            "Requirement already satisfied: urllib3<3,>=1.21.1 in c:\\users\\asl 5\\.conda\\envs\\cuda121_pytorch222\\lib\\site-packages (from requests<3,>=2.0.0->wandb) (2.1.0)\n",
            "Requirement already satisfied: certifi>=2017.4.17 in c:\\users\\asl 5\\.conda\\envs\\cuda121_pytorch222\\lib\\site-packages (from requests<3,>=2.0.0->wandb) (2024.2.2)\n",
            "Requirement already satisfied: smmap<6,>=3.0.1 in c:\\users\\asl 5\\.conda\\envs\\cuda121_pytorch222\\lib\\site-packages (from gitdb<5,>=4.0.1->gitpython!=3.1.29,>=1.0.0->wandb) (5.0.1)\n"
          ]
        },
        {
          "output_type": "stream",
          "name": "stderr",
          "text": [
            "wandb: Appending key for api.wandb.ai to your netrc file: C:\\Users\\ASL 5\\.netrc\n"
          ]
        }
      ]
    },
    {
      "cell_type": "code",
      "source": [
        "# Wandb Implimentation\n",
        "\n",
        "import math\n",
        "import time\n",
        "sweep_config = {\n",
        "    'method': 'bayes', #grid, random,bayes\n",
        "    'metric': {\n",
        "      'name': 'valid_accuracy',\n",
        "      'goal': 'maximize'\n",
        "    },\n",
        "    'parameters': {\n",
        "        'embed_dimension': {\n",
        "            'values': [64,128,256,512]\n",
        "        },\n",
        "        'hidden_layer_dimension': {\n",
        "            'values': [64,128,256,512]\n",
        "        },\n",
        "        'attention_dimension':{\n",
        "            'values':[64,128,256]\n",
        "        },\n",
        "        'dropout':{\n",
        "            'values':[0.3,0.5,0.6]\n",
        "        },\n",
        "    }\n",
        "}\n",
        "\n",
        "sweep_id = wandb.sweep(sweep_config, entity='ed23d015', project=\"DL_Assignment_3\")\n",
        "\n",
        "def sweep_train():\n",
        "  # Default values for hyper-parameters we're going to sweep over\n",
        "  config_defaults = {\n",
        "      'embed_dimension':256,\n",
        "      'hidden_layer_dimension':256,\n",
        "      'attention_dimension':128,\n",
        "      'dropout':0.6,\n",
        "  }\n",
        "\n",
        "  # Initialize a new wandb run\n",
        "  wandb.init(project='DL_Assignment_3', entity='ed23d015',config=config_defaults)\n",
        "  wandb.run.name = 'embed_dimension:'+ str(wandb.config.embed_dimension)+' ;hl:'+str(wandb.config.hidden_layer_dimension)+ ' ;attention_dimension:'+str(wandb.config.attention_dimension)+ ' ;dropout:'+str(wandb.config.dropout)\n",
        "\n",
        "  config = wandb.config\n",
        "  embed_dimension = config.embed_dimension\n",
        "  hidden_layer_dimension = config.hidden_layer_dimension\n",
        "  attention_dimension = config.attention_dimension\n",
        "  dropout = config.dropout\n",
        "\n",
        "  # Doing Model training here\n",
        "  INPUT_DIM = len(eng_token_map)\n",
        "  OUTPUT_DIM = len(hin_token_map)\n",
        "\n",
        "\n",
        "  encoder_bkl = Encoder(INPUT_DIM, embed_dimension, hidden_layer_dimension, hidden_layer_dimension, dropout)\n",
        "\n",
        "  attension_bkl = Attention(hidden_layer_dimension, hidden_layer_dimension, attention_dimension)\n",
        "\n",
        "  decoder_bkl = Decoder(OUTPUT_DIM, embed_dimension, hidden_layer_dimension, hidden_layer_dimension, dropout, attension_bkl)\n",
        "\n",
        "  model_bkl = Seq2Seq(encoder_bkl, decoder_bkl, device).to(device)\n",
        "  model_bkl.apply(init_weights)\n",
        "  optimizer = optim.Adam(model_bkl.parameters())\n",
        "  criterion = nn.CrossEntropyLoss()\n",
        "\n",
        "  model_bkl.train()\n",
        "\n",
        "  # Initializing losses and accuracies\n",
        "  training_epoch_loss = 0\n",
        "  training_epoch_accuracy = 0\n",
        "  validation_epoch_loss = 0\n",
        "  validation_epoch_accuracy = 0\n",
        "\n",
        "  num_epoch = 10\n",
        "  CLIP = 1\n",
        "\n",
        "  for epoch in range(num_epoch):\n",
        "\n",
        "  #TRAINING BLOCK\n",
        "    model_bkl.train()\n",
        "    for _, (source, target) in enumerate(train_itersn):\n",
        "        source, target = source.to(device), target.to(device)\n",
        "        #print(\"target1: \", target)\n",
        "        optimizer.zero_grad()\n",
        "\n",
        "        output = model_bkl(source, target)\n",
        "\n",
        "        output = output[1:].view(-1, output.shape[-1])\n",
        "        target = target.permute(1,0)\n",
        "        target = torch.reshape(target[1:], (-1,))\n",
        "        #print(\"target2: \", target.shape)\n",
        "        loss = criterion(output, target)\n",
        "\n",
        "        # calculating accuracy\n",
        "        predz = torch.argmax(output, dim=1)\n",
        "        #print(\"pred: \", predz)\n",
        "        #print(\"target3: \", target)\n",
        "        non_pad_elements = (target != 0).nonzero(as_tuple=True)[0]\n",
        "        #print(\"non_pad_elements: \", non_pad_elements)\n",
        "        train_correct = predz[non_pad_elements] == target[non_pad_elements]\n",
        "\n",
        "        #print(\"len(non_pad_elements): \", len(non_pad_elements))\n",
        "        training_epoch_accuracy += train_correct.sum().item() / len(non_pad_elements)\n",
        "        loss.backward()\n",
        "\n",
        "        torch.nn.utils.clip_grad_norm_(model_bkl.parameters(), CLIP)\n",
        "\n",
        "        optimizer.step()\n",
        "\n",
        "        training_epoch_loss += loss.item()\n",
        "\n",
        "\n",
        "    training_epoch_loss = training_epoch_loss / len(train_itersn)\n",
        "    training_epoch_accuracy = training_epoch_accuracy / len(train_itersn)\n",
        "\n",
        "\n",
        "    #EVALUATION MODE ON\n",
        "    model_bkl.eval()\n",
        "\n",
        "    with torch.no_grad():\n",
        "\n",
        "        for _, (source, target) in enumerate(valid_itersn):\n",
        "            source, target = source.to(device), target.to(device)\n",
        "\n",
        "            output = model_bkl(source, target, 0) # Turn off teacher forcing\n",
        "\n",
        "            output = output[1:].view(-1, output.shape[-1])\n",
        "            target = target.permute(1,0)\n",
        "            target = torch.reshape(target[1:], (-1,))\n",
        "\n",
        "            loss = criterion(output, target)\n",
        "\n",
        "            validation_epoch_loss += loss.item()\n",
        "            # Calculating accuracy\n",
        "            predz = torch.argmax(output, dim=1)\n",
        "            non_pad_elements = (target != 0).nonzero(as_tuple=True)[0]\n",
        "            val_correct = predz[non_pad_elements] == target[non_pad_elements]\n",
        "            validation_epoch_accuracy += val_correct.sum().item() / len(non_pad_elements)\n",
        "\n",
        "    validation_epoch_accuracy = validation_epoch_accuracy / len(valid_itersn)\n",
        "    validation_epoch_loss = validation_epoch_loss / len(valid_itersn)\n",
        "\n",
        "    print(f'Epoch: {epoch+1:02} |Train Loss: {training_epoch_loss:.3f} | Train accuracy: {training_epoch_accuracy:.3f}|Val. Loss: {validation_epoch_loss:.3f} | Val accuracy: {validation_epoch_accuracy:.3f}')\n",
        "    wandb.log({\"train_loss\":training_epoch_loss,\"train_accuracy\": training_epoch_accuracy,\"val_loss\":validation_epoch_loss,\"val_accuracy\":validation_epoch_accuracy},)\n",
        "\n",
        "    # Emptying the cache after one complete run\n",
        "    if epoch==num_epoch-1:\n",
        "            torch.cuda.empty_cache()\n",
        "\n",
        "\n",
        "#RUNNING THE SWEEP\n",
        "wandb.agent(sweep_id, function=sweep_train, count=120)"
      ],
      "metadata": {
        "colab": {
          "base_uri": "https://localhost:8080/",
          "height": 1000,
          "referenced_widgets": [
            "f044f3cbdf644c069200091119237229",
            "bd3b9be4abf54f3f86395e8af7257d09",
            "5c3675774b0c4ded831bce988ac8e4ae",
            "1fc1ea4a28094935b7360cb3c9c0213b",
            "69facbd52da44ebbb069953379aad742",
            "f508c8ecb50145ad9adcfb1d4ad1564d",
            "26ce70cd64164eeaa4a428963b9225aa",
            "2d201b1a895148d5b1eb1ef2f7a482ff",
            "9cf94f9059024e1d8a9868d2a55ab5e4",
            "d24ca89a1348483b9489c9af794fd5e3",
            "681be83f8f694db4bce168eb6e35c4ab",
            "4e0eb90c0a074645a68ea2bc512fe0c8",
            "d9bfada4cd5740f2a46cbe30cb8ce02d",
            "664c27b758e7459ebf327f69b68e5976",
            "281e9d0a8b0b48fba07bcc1acf0323d0",
            "4f049dc9ec2a47b6a70acc00dccb7bd9",
            "abc1b3405b3a453b8c63e787f89d8270",
            "73b97e0b363b4a4db9d83326bd86ee22",
            "86bd6c2f0fe145699f8f4ab5f0ed78ca",
            "4ece8e2681c0482c88de65332f42e89b",
            "2b2f8ae3b87f45aa9efb6e0196e33d02",
            "cf02a1e0e8784c2ba657f34884576490",
            "3f5a60cff3f741628e6cdfe2d9a45220",
            "c213df67e55c4b9f8c5dcf5467f43be5",
            "d4d44212afd2479087726d752f19083d",
            "7f0142d8017f441eba3a46e577bf37eb",
            "a1ef121cd8eb4f93baab32b41130e363",
            "428f3809c5e445a09639573149253c94",
            "899de4beea40427baeb5895f4ac3e621",
            "9a8fa90d79174d61afe44e1e21a970ef",
            "7d12b00ac08c4608993c7765d92ba411",
            "e5fe476aee9c4155b7a6673bbe0dac87"
          ]
        },
        "id": "Q_mn5Fzk8j9r",
        "outputId": "ec772afd-6bbf-4aac-87ea-7a4ea7f42058"
      },
      "execution_count": null,
      "outputs": [
        {
          "output_type": "stream",
          "name": "stdout",
          "text": [
            "Create sweep with ID: 4y27zte3\n",
            "Sweep URL: https://wandb.ai/ed23d015/DL_Assignment_3/sweeps/4y27zte3\n"
          ]
        },
        {
          "output_type": "stream",
          "name": "stderr",
          "text": [
            "\u001b[34m\u001b[1mwandb\u001b[0m: Agent Starting Run: 6r83dwzx with config:\n",
            "\u001b[34m\u001b[1mwandb\u001b[0m: \tattention_dimension: 256\n",
            "\u001b[34m\u001b[1mwandb\u001b[0m: \tdropout: 0.3\n",
            "\u001b[34m\u001b[1mwandb\u001b[0m: \tembed_dimension: 128\n",
            "\u001b[34m\u001b[1mwandb\u001b[0m: \thidden_layer_dimension: 512\n",
            "\u001b[34m\u001b[1mwandb\u001b[0m: Currently logged in as: \u001b[33med23d015\u001b[0m. Use \u001b[1m`wandb login --relogin`\u001b[0m to force relogin\n",
            "\u001b[34m\u001b[1mwandb\u001b[0m: \u001b[33mWARNING\u001b[0m Ignored wandb.init() arg project when running a sweep.\n",
            "\u001b[34m\u001b[1mwandb\u001b[0m: \u001b[33mWARNING\u001b[0m Ignored wandb.init() arg entity when running a sweep.\n"
          ]
        },
        {
          "output_type": "display_data",
          "data": {
            "text/plain": [
              "<IPython.core.display.HTML object>"
            ],
            "text/html": [
              "Tracking run with wandb version 0.17.0"
            ]
          },
          "metadata": {}
        },
        {
          "output_type": "display_data",
          "data": {
            "text/plain": [
              "<IPython.core.display.HTML object>"
            ],
            "text/html": [
              "Run data is saved locally in <code>/content/wandb/run-20240514_132836-6r83dwzx</code>"
            ]
          },
          "metadata": {}
        },
        {
          "output_type": "display_data",
          "data": {
            "text/plain": [
              "<IPython.core.display.HTML object>"
            ],
            "text/html": [
              "Syncing run <strong><a href='https://wandb.ai/ed23d015/DL_Assignment_3/runs/6r83dwzx' target=\"_blank\">pious-sweep-1</a></strong> to <a href='https://wandb.ai/ed23d015/DL_Assignment_3' target=\"_blank\">Weights & Biases</a> (<a href='https://wandb.me/run' target=\"_blank\">docs</a>)<br/>Sweep page: <a href='https://wandb.ai/ed23d015/DL_Assignment_3/sweeps/4y27zte3' target=\"_blank\">https://wandb.ai/ed23d015/DL_Assignment_3/sweeps/4y27zte3</a>"
            ]
          },
          "metadata": {}
        },
        {
          "output_type": "display_data",
          "data": {
            "text/plain": [
              "<IPython.core.display.HTML object>"
            ],
            "text/html": [
              " View project at <a href='https://wandb.ai/ed23d015/DL_Assignment_3' target=\"_blank\">https://wandb.ai/ed23d015/DL_Assignment_3</a>"
            ]
          },
          "metadata": {}
        },
        {
          "output_type": "display_data",
          "data": {
            "text/plain": [
              "<IPython.core.display.HTML object>"
            ],
            "text/html": [
              " View sweep at <a href='https://wandb.ai/ed23d015/DL_Assignment_3/sweeps/4y27zte3' target=\"_blank\">https://wandb.ai/ed23d015/DL_Assignment_3/sweeps/4y27zte3</a>"
            ]
          },
          "metadata": {}
        },
        {
          "output_type": "display_data",
          "data": {
            "text/plain": [
              "<IPython.core.display.HTML object>"
            ],
            "text/html": [
              " View run at <a href='https://wandb.ai/ed23d015/DL_Assignment_3/runs/6r83dwzx' target=\"_blank\">https://wandb.ai/ed23d015/DL_Assignment_3/runs/6r83dwzx</a>"
            ]
          },
          "metadata": {}
        },
        {
          "output_type": "stream",
          "name": "stdout",
          "text": [
            "Epoch: 01 |Train Loss: 0.775 | Train accuracy: 0.362|Val. Loss: 0.508 | Val accuracy: 0.516\n",
            "Epoch: 02 |Train Loss: 0.409 | Train accuracy: 0.631|Val. Loss: 0.411 | Val accuracy: 0.612\n",
            "Epoch: 03 |Train Loss: 0.320 | Train accuracy: 0.708|Val. Loss: 0.396 | Val accuracy: 0.628\n",
            "Epoch: 04 |Train Loss: 0.277 | Train accuracy: 0.747|Val. Loss: 0.395 | Val accuracy: 0.650\n",
            "Epoch: 05 |Train Loss: 0.249 | Train accuracy: 0.772|Val. Loss: 0.396 | Val accuracy: 0.659\n",
            "Epoch: 06 |Train Loss: 0.229 | Train accuracy: 0.790|Val. Loss: 0.409 | Val accuracy: 0.656\n",
            "Epoch: 07 |Train Loss: 0.212 | Train accuracy: 0.806|Val. Loss: 0.416 | Val accuracy: 0.656\n",
            "Epoch: 08 |Train Loss: 0.199 | Train accuracy: 0.818|Val. Loss: 0.406 | Val accuracy: 0.664\n",
            "Epoch: 09 |Train Loss: 0.189 | Train accuracy: 0.828|Val. Loss: 0.423 | Val accuracy: 0.663\n",
            "Epoch: 10 |Train Loss: 0.180 | Train accuracy: 0.836|Val. Loss: 0.437 | Val accuracy: 0.657\n"
          ]
        },
        {
          "output_type": "display_data",
          "data": {
            "text/plain": [
              "VBox(children=(Label(value='0.001 MB of 0.012 MB uploaded\\r'), FloatProgress(value=0.10036689767631472, max=1.…"
            ],
            "application/vnd.jupyter.widget-view+json": {
              "version_major": 2,
              "version_minor": 0,
              "model_id": "f044f3cbdf644c069200091119237229"
            }
          },
          "metadata": {}
        },
        {
          "output_type": "display_data",
          "data": {
            "text/plain": [
              "<IPython.core.display.HTML object>"
            ],
            "text/html": [
              "<style>\n",
              "    table.wandb td:nth-child(1) { padding: 0 10px; text-align: left ; width: auto;} td:nth-child(2) {text-align: left ; width: 100%}\n",
              "    .wandb-row { display: flex; flex-direction: row; flex-wrap: wrap; justify-content: flex-start; width: 100% }\n",
              "    .wandb-col { display: flex; flex-direction: column; flex-basis: 100%; flex: 1; padding: 10px; }\n",
              "    </style>\n",
              "<div class=\"wandb-row\"><div class=\"wandb-col\"><h3>Run history:</h3><br/><table class=\"wandb\"><tr><td>train_accuracy</td><td>▁▅▆▇▇▇████</td></tr><tr><td>train_loss</td><td>█▄▃▂▂▂▁▁▁▁</td></tr><tr><td>val_accuracy</td><td>▁▆▆▇██████</td></tr><tr><td>val_loss</td><td>█▂▁▁▁▂▂▂▃▄</td></tr></table><br/></div><div class=\"wandb-col\"><h3>Run summary:</h3><br/><table class=\"wandb\"><tr><td>train_accuracy</td><td>0.83577</td></tr><tr><td>train_loss</td><td>0.17972</td></tr><tr><td>val_accuracy</td><td>0.6572</td></tr><tr><td>val_loss</td><td>0.43668</td></tr></table><br/></div></div>"
            ]
          },
          "metadata": {}
        },
        {
          "output_type": "display_data",
          "data": {
            "text/plain": [
              "<IPython.core.display.HTML object>"
            ],
            "text/html": [
              " View run <strong style=\"color:#cdcd00\">pious-sweep-1</strong> at: <a href='https://wandb.ai/ed23d015/DL_Assignment_3/runs/6r83dwzx' target=\"_blank\">https://wandb.ai/ed23d015/DL_Assignment_3/runs/6r83dwzx</a><br/> View project at: <a href='https://wandb.ai/ed23d015/DL_Assignment_3' target=\"_blank\">https://wandb.ai/ed23d015/DL_Assignment_3</a><br/>Synced 5 W&B file(s), 0 media file(s), 0 artifact file(s) and 0 other file(s)"
            ]
          },
          "metadata": {}
        },
        {
          "output_type": "display_data",
          "data": {
            "text/plain": [
              "<IPython.core.display.HTML object>"
            ],
            "text/html": [
              "Find logs at: <code>./wandb/run-20240514_132836-6r83dwzx/logs</code>"
            ]
          },
          "metadata": {}
        },
        {
          "output_type": "stream",
          "name": "stderr",
          "text": [
            "\u001b[34m\u001b[1mwandb\u001b[0m: Sweep Agent: Waiting for job.\n",
            "\u001b[34m\u001b[1mwandb\u001b[0m: Job received.\n",
            "\u001b[34m\u001b[1mwandb\u001b[0m: Agent Starting Run: 5uiz7z0e with config:\n",
            "\u001b[34m\u001b[1mwandb\u001b[0m: \tattention_dimension: 128\n",
            "\u001b[34m\u001b[1mwandb\u001b[0m: \tdropout: 0.6\n",
            "\u001b[34m\u001b[1mwandb\u001b[0m: \tembed_dimension: 128\n",
            "\u001b[34m\u001b[1mwandb\u001b[0m: \thidden_layer_dimension: 256\n",
            "\u001b[34m\u001b[1mwandb\u001b[0m: \u001b[33mWARNING\u001b[0m Ignored wandb.init() arg project when running a sweep.\n",
            "\u001b[34m\u001b[1mwandb\u001b[0m: \u001b[33mWARNING\u001b[0m Ignored wandb.init() arg entity when running a sweep.\n"
          ]
        },
        {
          "output_type": "display_data",
          "data": {
            "text/plain": [
              "<IPython.core.display.HTML object>"
            ],
            "text/html": [
              "Tracking run with wandb version 0.17.0"
            ]
          },
          "metadata": {}
        },
        {
          "output_type": "display_data",
          "data": {
            "text/plain": [
              "<IPython.core.display.HTML object>"
            ],
            "text/html": [
              "Run data is saved locally in <code>/content/wandb/run-20240514_140003-5uiz7z0e</code>"
            ]
          },
          "metadata": {}
        },
        {
          "output_type": "display_data",
          "data": {
            "text/plain": [
              "<IPython.core.display.HTML object>"
            ],
            "text/html": [
              "Syncing run <strong><a href='https://wandb.ai/ed23d015/DL_Assignment_3/runs/5uiz7z0e' target=\"_blank\">vocal-sweep-2</a></strong> to <a href='https://wandb.ai/ed23d015/DL_Assignment_3' target=\"_blank\">Weights & Biases</a> (<a href='https://wandb.me/run' target=\"_blank\">docs</a>)<br/>Sweep page: <a href='https://wandb.ai/ed23d015/DL_Assignment_3/sweeps/4y27zte3' target=\"_blank\">https://wandb.ai/ed23d015/DL_Assignment_3/sweeps/4y27zte3</a>"
            ]
          },
          "metadata": {}
        },
        {
          "output_type": "display_data",
          "data": {
            "text/plain": [
              "<IPython.core.display.HTML object>"
            ],
            "text/html": [
              " View project at <a href='https://wandb.ai/ed23d015/DL_Assignment_3' target=\"_blank\">https://wandb.ai/ed23d015/DL_Assignment_3</a>"
            ]
          },
          "metadata": {}
        },
        {
          "output_type": "display_data",
          "data": {
            "text/plain": [
              "<IPython.core.display.HTML object>"
            ],
            "text/html": [
              " View sweep at <a href='https://wandb.ai/ed23d015/DL_Assignment_3/sweeps/4y27zte3' target=\"_blank\">https://wandb.ai/ed23d015/DL_Assignment_3/sweeps/4y27zte3</a>"
            ]
          },
          "metadata": {}
        },
        {
          "output_type": "display_data",
          "data": {
            "text/plain": [
              "<IPython.core.display.HTML object>"
            ],
            "text/html": [
              " View run at <a href='https://wandb.ai/ed23d015/DL_Assignment_3/runs/5uiz7z0e' target=\"_blank\">https://wandb.ai/ed23d015/DL_Assignment_3/runs/5uiz7z0e</a>"
            ]
          },
          "metadata": {}
        },
        {
          "output_type": "stream",
          "name": "stdout",
          "text": [
            "Epoch: 01 |Train Loss: 0.922 | Train accuracy: 0.255|Val. Loss: 0.645 | Val accuracy: 0.396\n",
            "Epoch: 02 |Train Loss: 0.510 | Train accuracy: 0.556|Val. Loss: 0.451 | Val accuracy: 0.596\n",
            "Epoch: 03 |Train Loss: 0.324 | Train accuracy: 0.711|Val. Loss: 0.402 | Val accuracy: 0.642\n",
            "Epoch: 04 |Train Loss: 0.277 | Train accuracy: 0.750|Val. Loss: 0.392 | Val accuracy: 0.655\n",
            "Epoch: 05 |Train Loss: 0.252 | Train accuracy: 0.773|Val. Loss: 0.379 | Val accuracy: 0.672\n",
            "Epoch: 06 |Train Loss: 0.236 | Train accuracy: 0.787|Val. Loss: 0.378 | Val accuracy: 0.682\n",
            "Epoch: 07 |Train Loss: 0.226 | Train accuracy: 0.795|Val. Loss: 0.361 | Val accuracy: 0.686\n",
            "Epoch: 08 |Train Loss: 0.220 | Train accuracy: 0.801|Val. Loss: 0.365 | Val accuracy: 0.687\n",
            "Epoch: 09 |Train Loss: 0.211 | Train accuracy: 0.809|Val. Loss: 0.367 | Val accuracy: 0.696\n",
            "Epoch: 10 |Train Loss: 0.205 | Train accuracy: 0.815|Val. Loss: 0.366 | Val accuracy: 0.693\n"
          ]
        },
        {
          "output_type": "display_data",
          "data": {
            "text/plain": [
              "VBox(children=(Label(value='0.001 MB of 0.001 MB uploaded\\r'), FloatProgress(value=1.0, max=1.0)))"
            ],
            "application/vnd.jupyter.widget-view+json": {
              "version_major": 2,
              "version_minor": 0,
              "model_id": "9cf94f9059024e1d8a9868d2a55ab5e4"
            }
          },
          "metadata": {}
        },
        {
          "output_type": "display_data",
          "data": {
            "text/plain": [
              "<IPython.core.display.HTML object>"
            ],
            "text/html": [
              "<style>\n",
              "    table.wandb td:nth-child(1) { padding: 0 10px; text-align: left ; width: auto;} td:nth-child(2) {text-align: left ; width: 100%}\n",
              "    .wandb-row { display: flex; flex-direction: row; flex-wrap: wrap; justify-content: flex-start; width: 100% }\n",
              "    .wandb-col { display: flex; flex-direction: column; flex-basis: 100%; flex: 1; padding: 10px; }\n",
              "    </style>\n",
              "<div class=\"wandb-row\"><div class=\"wandb-col\"><h3>Run history:</h3><br/><table class=\"wandb\"><tr><td>train_accuracy</td><td>▁▅▇▇▇█████</td></tr><tr><td>train_loss</td><td>█▄▂▂▁▁▁▁▁▁</td></tr><tr><td>val_accuracy</td><td>▁▆▇▇▇█████</td></tr><tr><td>val_loss</td><td>█▃▂▂▁▁▁▁▁▁</td></tr></table><br/></div><div class=\"wandb-col\"><h3>Run summary:</h3><br/><table class=\"wandb\"><tr><td>train_accuracy</td><td>0.81465</td></tr><tr><td>train_loss</td><td>0.20546</td></tr><tr><td>val_accuracy</td><td>0.69345</td></tr><tr><td>val_loss</td><td>0.36635</td></tr></table><br/></div></div>"
            ]
          },
          "metadata": {}
        },
        {
          "output_type": "display_data",
          "data": {
            "text/plain": [
              "<IPython.core.display.HTML object>"
            ],
            "text/html": [
              " View run <strong style=\"color:#cdcd00\">vocal-sweep-2</strong> at: <a href='https://wandb.ai/ed23d015/DL_Assignment_3/runs/5uiz7z0e' target=\"_blank\">https://wandb.ai/ed23d015/DL_Assignment_3/runs/5uiz7z0e</a><br/> View project at: <a href='https://wandb.ai/ed23d015/DL_Assignment_3' target=\"_blank\">https://wandb.ai/ed23d015/DL_Assignment_3</a><br/>Synced 5 W&B file(s), 0 media file(s), 0 artifact file(s) and 0 other file(s)"
            ]
          },
          "metadata": {}
        },
        {
          "output_type": "display_data",
          "data": {
            "text/plain": [
              "<IPython.core.display.HTML object>"
            ],
            "text/html": [
              "Find logs at: <code>./wandb/run-20240514_140003-5uiz7z0e/logs</code>"
            ]
          },
          "metadata": {}
        },
        {
          "output_type": "stream",
          "name": "stderr",
          "text": [
            "\u001b[34m\u001b[1mwandb\u001b[0m: Agent Starting Run: hf7sw6z9 with config:\n",
            "\u001b[34m\u001b[1mwandb\u001b[0m: \tattention_dimension: 256\n",
            "\u001b[34m\u001b[1mwandb\u001b[0m: \tdropout: 0.3\n",
            "\u001b[34m\u001b[1mwandb\u001b[0m: \tembed_dimension: 128\n",
            "\u001b[34m\u001b[1mwandb\u001b[0m: \thidden_layer_dimension: 512\n",
            "\u001b[34m\u001b[1mwandb\u001b[0m: \u001b[33mWARNING\u001b[0m Ignored wandb.init() arg project when running a sweep.\n",
            "\u001b[34m\u001b[1mwandb\u001b[0m: \u001b[33mWARNING\u001b[0m Ignored wandb.init() arg entity when running a sweep.\n"
          ]
        },
        {
          "output_type": "display_data",
          "data": {
            "text/plain": [
              "<IPython.core.display.HTML object>"
            ],
            "text/html": [
              "Tracking run with wandb version 0.17.0"
            ]
          },
          "metadata": {}
        },
        {
          "output_type": "display_data",
          "data": {
            "text/plain": [
              "<IPython.core.display.HTML object>"
            ],
            "text/html": [
              "Run data is saved locally in <code>/content/wandb/run-20240514_143003-hf7sw6z9</code>"
            ]
          },
          "metadata": {}
        },
        {
          "output_type": "display_data",
          "data": {
            "text/plain": [
              "<IPython.core.display.HTML object>"
            ],
            "text/html": [
              "Syncing run <strong><a href='https://wandb.ai/ed23d015/DL_Assignment_3/runs/hf7sw6z9' target=\"_blank\">avid-sweep-3</a></strong> to <a href='https://wandb.ai/ed23d015/DL_Assignment_3' target=\"_blank\">Weights & Biases</a> (<a href='https://wandb.me/run' target=\"_blank\">docs</a>)<br/>Sweep page: <a href='https://wandb.ai/ed23d015/DL_Assignment_3/sweeps/4y27zte3' target=\"_blank\">https://wandb.ai/ed23d015/DL_Assignment_3/sweeps/4y27zte3</a>"
            ]
          },
          "metadata": {}
        },
        {
          "output_type": "display_data",
          "data": {
            "text/plain": [
              "<IPython.core.display.HTML object>"
            ],
            "text/html": [
              " View project at <a href='https://wandb.ai/ed23d015/DL_Assignment_3' target=\"_blank\">https://wandb.ai/ed23d015/DL_Assignment_3</a>"
            ]
          },
          "metadata": {}
        },
        {
          "output_type": "display_data",
          "data": {
            "text/plain": [
              "<IPython.core.display.HTML object>"
            ],
            "text/html": [
              " View sweep at <a href='https://wandb.ai/ed23d015/DL_Assignment_3/sweeps/4y27zte3' target=\"_blank\">https://wandb.ai/ed23d015/DL_Assignment_3/sweeps/4y27zte3</a>"
            ]
          },
          "metadata": {}
        },
        {
          "output_type": "display_data",
          "data": {
            "text/plain": [
              "<IPython.core.display.HTML object>"
            ],
            "text/html": [
              " View run at <a href='https://wandb.ai/ed23d015/DL_Assignment_3/runs/hf7sw6z9' target=\"_blank\">https://wandb.ai/ed23d015/DL_Assignment_3/runs/hf7sw6z9</a>"
            ]
          },
          "metadata": {}
        },
        {
          "output_type": "stream",
          "name": "stdout",
          "text": [
            "Epoch: 01 |Train Loss: 0.797 | Train accuracy: 0.346|Val. Loss: 0.518 | Val accuracy: 0.499\n",
            "Epoch: 02 |Train Loss: 0.421 | Train accuracy: 0.623|Val. Loss: 0.429 | Val accuracy: 0.603\n",
            "Epoch: 03 |Train Loss: 0.327 | Train accuracy: 0.704|Val. Loss: 0.406 | Val accuracy: 0.630\n",
            "Epoch: 04 |Train Loss: 0.281 | Train accuracy: 0.744|Val. Loss: 0.402 | Val accuracy: 0.649\n",
            "Epoch: 05 |Train Loss: 0.253 | Train accuracy: 0.769|Val. Loss: 0.399 | Val accuracy: 0.658\n",
            "Epoch: 06 |Train Loss: 0.231 | Train accuracy: 0.790|Val. Loss: 0.391 | Val accuracy: 0.668\n",
            "Epoch: 07 |Train Loss: 0.215 | Train accuracy: 0.804|Val. Loss: 0.407 | Val accuracy: 0.671\n",
            "Epoch: 08 |Train Loss: 0.200 | Train accuracy: 0.818|Val. Loss: 0.429 | Val accuracy: 0.651\n",
            "Epoch: 09 |Train Loss: 0.189 | Train accuracy: 0.828|Val. Loss: 0.420 | Val accuracy: 0.667\n",
            "Epoch: 10 |Train Loss: 0.181 | Train accuracy: 0.835|Val. Loss: 0.430 | Val accuracy: 0.662\n"
          ]
        },
        {
          "output_type": "display_data",
          "data": {
            "text/plain": [
              "VBox(children=(Label(value='0.001 MB of 0.001 MB uploaded\\r'), FloatProgress(value=1.0, max=1.0)))"
            ],
            "application/vnd.jupyter.widget-view+json": {
              "version_major": 2,
              "version_minor": 0,
              "model_id": "abc1b3405b3a453b8c63e787f89d8270"
            }
          },
          "metadata": {}
        },
        {
          "output_type": "display_data",
          "data": {
            "text/plain": [
              "<IPython.core.display.HTML object>"
            ],
            "text/html": [
              "<style>\n",
              "    table.wandb td:nth-child(1) { padding: 0 10px; text-align: left ; width: auto;} td:nth-child(2) {text-align: left ; width: 100%}\n",
              "    .wandb-row { display: flex; flex-direction: row; flex-wrap: wrap; justify-content: flex-start; width: 100% }\n",
              "    .wandb-col { display: flex; flex-direction: column; flex-basis: 100%; flex: 1; padding: 10px; }\n",
              "    </style>\n",
              "<div class=\"wandb-row\"><div class=\"wandb-col\"><h3>Run history:</h3><br/><table class=\"wandb\"><tr><td>train_accuracy</td><td>▁▅▆▇▇▇████</td></tr><tr><td>train_loss</td><td>█▄▃▂▂▂▁▁▁▁</td></tr><tr><td>val_accuracy</td><td>▁▅▆▇▇██▇██</td></tr><tr><td>val_loss</td><td>█▃▂▂▁▁▂▃▃▃</td></tr></table><br/></div><div class=\"wandb-col\"><h3>Run summary:</h3><br/><table class=\"wandb\"><tr><td>train_accuracy</td><td>0.83473</td></tr><tr><td>train_loss</td><td>0.18124</td></tr><tr><td>val_accuracy</td><td>0.66206</td></tr><tr><td>val_loss</td><td>0.42985</td></tr></table><br/></div></div>"
            ]
          },
          "metadata": {}
        },
        {
          "output_type": "display_data",
          "data": {
            "text/plain": [
              "<IPython.core.display.HTML object>"
            ],
            "text/html": [
              " View run <strong style=\"color:#cdcd00\">avid-sweep-3</strong> at: <a href='https://wandb.ai/ed23d015/DL_Assignment_3/runs/hf7sw6z9' target=\"_blank\">https://wandb.ai/ed23d015/DL_Assignment_3/runs/hf7sw6z9</a><br/> View project at: <a href='https://wandb.ai/ed23d015/DL_Assignment_3' target=\"_blank\">https://wandb.ai/ed23d015/DL_Assignment_3</a><br/>Synced 5 W&B file(s), 0 media file(s), 0 artifact file(s) and 0 other file(s)"
            ]
          },
          "metadata": {}
        },
        {
          "output_type": "display_data",
          "data": {
            "text/plain": [
              "<IPython.core.display.HTML object>"
            ],
            "text/html": [
              "Find logs at: <code>./wandb/run-20240514_143003-hf7sw6z9/logs</code>"
            ]
          },
          "metadata": {}
        },
        {
          "output_type": "stream",
          "name": "stderr",
          "text": [
            "\u001b[34m\u001b[1mwandb\u001b[0m: Agent Starting Run: yac6eswg with config:\n",
            "\u001b[34m\u001b[1mwandb\u001b[0m: \tattention_dimension: 64\n",
            "\u001b[34m\u001b[1mwandb\u001b[0m: \tdropout: 0.6\n",
            "\u001b[34m\u001b[1mwandb\u001b[0m: \tembed_dimension: 256\n",
            "\u001b[34m\u001b[1mwandb\u001b[0m: \thidden_layer_dimension: 256\n",
            "\u001b[34m\u001b[1mwandb\u001b[0m: \u001b[33mWARNING\u001b[0m Ignored wandb.init() arg project when running a sweep.\n",
            "\u001b[34m\u001b[1mwandb\u001b[0m: \u001b[33mWARNING\u001b[0m Ignored wandb.init() arg entity when running a sweep.\n"
          ]
        },
        {
          "output_type": "display_data",
          "data": {
            "text/plain": [
              "<IPython.core.display.HTML object>"
            ],
            "text/html": [
              "Tracking run with wandb version 0.17.0"
            ]
          },
          "metadata": {}
        },
        {
          "output_type": "display_data",
          "data": {
            "text/plain": [
              "<IPython.core.display.HTML object>"
            ],
            "text/html": [
              "Run data is saved locally in <code>/content/wandb/run-20240514_150120-yac6eswg</code>"
            ]
          },
          "metadata": {}
        },
        {
          "output_type": "display_data",
          "data": {
            "text/plain": [
              "<IPython.core.display.HTML object>"
            ],
            "text/html": [
              "Syncing run <strong><a href='https://wandb.ai/ed23d015/DL_Assignment_3/runs/yac6eswg' target=\"_blank\">peachy-sweep-4</a></strong> to <a href='https://wandb.ai/ed23d015/DL_Assignment_3' target=\"_blank\">Weights & Biases</a> (<a href='https://wandb.me/run' target=\"_blank\">docs</a>)<br/>Sweep page: <a href='https://wandb.ai/ed23d015/DL_Assignment_3/sweeps/4y27zte3' target=\"_blank\">https://wandb.ai/ed23d015/DL_Assignment_3/sweeps/4y27zte3</a>"
            ]
          },
          "metadata": {}
        },
        {
          "output_type": "display_data",
          "data": {
            "text/plain": [
              "<IPython.core.display.HTML object>"
            ],
            "text/html": [
              " View project at <a href='https://wandb.ai/ed23d015/DL_Assignment_3' target=\"_blank\">https://wandb.ai/ed23d015/DL_Assignment_3</a>"
            ]
          },
          "metadata": {}
        },
        {
          "output_type": "display_data",
          "data": {
            "text/plain": [
              "<IPython.core.display.HTML object>"
            ],
            "text/html": [
              " View sweep at <a href='https://wandb.ai/ed23d015/DL_Assignment_3/sweeps/4y27zte3' target=\"_blank\">https://wandb.ai/ed23d015/DL_Assignment_3/sweeps/4y27zte3</a>"
            ]
          },
          "metadata": {}
        },
        {
          "output_type": "display_data",
          "data": {
            "text/plain": [
              "<IPython.core.display.HTML object>"
            ],
            "text/html": [
              " View run at <a href='https://wandb.ai/ed23d015/DL_Assignment_3/runs/yac6eswg' target=\"_blank\">https://wandb.ai/ed23d015/DL_Assignment_3/runs/yac6eswg</a>"
            ]
          },
          "metadata": {}
        },
        {
          "output_type": "stream",
          "name": "stdout",
          "text": [
            "Epoch: 01 |Train Loss: 0.657 | Train accuracy: 0.459|Val. Loss: 0.411 | Val accuracy: 0.609\n",
            "Epoch: 02 |Train Loss: 0.293 | Train accuracy: 0.734|Val. Loss: 0.396 | Val accuracy: 0.654\n",
            "Epoch: 03 |Train Loss: 0.248 | Train accuracy: 0.775|Val. Loss: 0.364 | Val accuracy: 0.684\n",
            "Epoch: 04 |Train Loss: 0.229 | Train accuracy: 0.794|Val. Loss: 0.373 | Val accuracy: 0.680\n",
            "Epoch: 05 |Train Loss: 0.214 | Train accuracy: 0.807|Val. Loss: 0.373 | Val accuracy: 0.682\n",
            "Epoch: 06 |Train Loss: 0.202 | Train accuracy: 0.818|Val. Loss: 0.369 | Val accuracy: 0.690\n",
            "Epoch: 07 |Train Loss: 0.196 | Train accuracy: 0.824|Val. Loss: 0.366 | Val accuracy: 0.698\n",
            "Epoch: 08 |Train Loss: 0.188 | Train accuracy: 0.830|Val. Loss: 0.360 | Val accuracy: 0.699\n",
            "Epoch: 09 |Train Loss: 0.185 | Train accuracy: 0.833|Val. Loss: 0.365 | Val accuracy: 0.700\n",
            "Epoch: 10 |Train Loss: 0.181 | Train accuracy: 0.838|Val. Loss: 0.366 | Val accuracy: 0.707\n"
          ]
        },
        {
          "output_type": "display_data",
          "data": {
            "text/plain": [
              "VBox(children=(Label(value='0.001 MB of 0.012 MB uploaded\\r'), FloatProgress(value=0.10040783034257748, max=1.…"
            ],
            "application/vnd.jupyter.widget-view+json": {
              "version_major": 2,
              "version_minor": 0,
              "model_id": "d4d44212afd2479087726d752f19083d"
            }
          },
          "metadata": {}
        },
        {
          "output_type": "display_data",
          "data": {
            "text/plain": [
              "<IPython.core.display.HTML object>"
            ],
            "text/html": [
              "<style>\n",
              "    table.wandb td:nth-child(1) { padding: 0 10px; text-align: left ; width: auto;} td:nth-child(2) {text-align: left ; width: 100%}\n",
              "    .wandb-row { display: flex; flex-direction: row; flex-wrap: wrap; justify-content: flex-start; width: 100% }\n",
              "    .wandb-col { display: flex; flex-direction: column; flex-basis: 100%; flex: 1; padding: 10px; }\n",
              "    </style>\n",
              "<div class=\"wandb-row\"><div class=\"wandb-col\"><h3>Run history:</h3><br/><table class=\"wandb\"><tr><td>train_accuracy</td><td>▁▆▇▇▇█████</td></tr><tr><td>train_loss</td><td>█▃▂▂▁▁▁▁▁▁</td></tr><tr><td>val_accuracy</td><td>▁▄▆▆▆▇▇▇██</td></tr><tr><td>val_loss</td><td>█▆▂▃▃▂▂▁▂▂</td></tr></table><br/></div><div class=\"wandb-col\"><h3>Run summary:</h3><br/><table class=\"wandb\"><tr><td>train_accuracy</td><td>0.83769</td></tr><tr><td>train_loss</td><td>0.18065</td></tr><tr><td>val_accuracy</td><td>0.70722</td></tr><tr><td>val_loss</td><td>0.36589</td></tr></table><br/></div></div>"
            ]
          },
          "metadata": {}
        },
        {
          "output_type": "display_data",
          "data": {
            "text/plain": [
              "<IPython.core.display.HTML object>"
            ],
            "text/html": [
              " View run <strong style=\"color:#cdcd00\">peachy-sweep-4</strong> at: <a href='https://wandb.ai/ed23d015/DL_Assignment_3/runs/yac6eswg' target=\"_blank\">https://wandb.ai/ed23d015/DL_Assignment_3/runs/yac6eswg</a><br/> View project at: <a href='https://wandb.ai/ed23d015/DL_Assignment_3' target=\"_blank\">https://wandb.ai/ed23d015/DL_Assignment_3</a><br/>Synced 5 W&B file(s), 0 media file(s), 0 artifact file(s) and 0 other file(s)"
            ]
          },
          "metadata": {}
        },
        {
          "output_type": "display_data",
          "data": {
            "text/plain": [
              "<IPython.core.display.HTML object>"
            ],
            "text/html": [
              "Find logs at: <code>./wandb/run-20240514_150120-yac6eswg/logs</code>"
            ]
          },
          "metadata": {}
        },
        {
          "output_type": "stream",
          "name": "stderr",
          "text": [
            "\u001b[34m\u001b[1mwandb\u001b[0m: Agent Starting Run: re3xhged with config:\n",
            "\u001b[34m\u001b[1mwandb\u001b[0m: \tattention_dimension: 128\n",
            "\u001b[34m\u001b[1mwandb\u001b[0m: \tdropout: 0.3\n",
            "\u001b[34m\u001b[1mwandb\u001b[0m: \tembed_dimension: 512\n",
            "\u001b[34m\u001b[1mwandb\u001b[0m: \thidden_layer_dimension: 512\n",
            "\u001b[34m\u001b[1mwandb\u001b[0m: \u001b[33mWARNING\u001b[0m Ignored wandb.init() arg project when running a sweep.\n",
            "\u001b[34m\u001b[1mwandb\u001b[0m: \u001b[33mWARNING\u001b[0m Ignored wandb.init() arg entity when running a sweep.\n"
          ]
        },
        {
          "output_type": "display_data",
          "data": {
            "text/plain": [
              "<IPython.core.display.HTML object>"
            ],
            "text/html": [
              "Tracking run with wandb version 0.17.0"
            ]
          },
          "metadata": {}
        },
        {
          "output_type": "display_data",
          "data": {
            "text/plain": [
              "<IPython.core.display.HTML object>"
            ],
            "text/html": [
              "Run data is saved locally in <code>/content/wandb/run-20240514_153110-re3xhged</code>"
            ]
          },
          "metadata": {}
        },
        {
          "output_type": "display_data",
          "data": {
            "text/plain": [
              "<IPython.core.display.HTML object>"
            ],
            "text/html": [
              "Syncing run <strong><a href='https://wandb.ai/ed23d015/DL_Assignment_3/runs/re3xhged' target=\"_blank\">mild-sweep-5</a></strong> to <a href='https://wandb.ai/ed23d015/DL_Assignment_3' target=\"_blank\">Weights & Biases</a> (<a href='https://wandb.me/run' target=\"_blank\">docs</a>)<br/>Sweep page: <a href='https://wandb.ai/ed23d015/DL_Assignment_3/sweeps/4y27zte3' target=\"_blank\">https://wandb.ai/ed23d015/DL_Assignment_3/sweeps/4y27zte3</a>"
            ]
          },
          "metadata": {}
        },
        {
          "output_type": "display_data",
          "data": {
            "text/plain": [
              "<IPython.core.display.HTML object>"
            ],
            "text/html": [
              " View project at <a href='https://wandb.ai/ed23d015/DL_Assignment_3' target=\"_blank\">https://wandb.ai/ed23d015/DL_Assignment_3</a>"
            ]
          },
          "metadata": {}
        },
        {
          "output_type": "display_data",
          "data": {
            "text/plain": [
              "<IPython.core.display.HTML object>"
            ],
            "text/html": [
              " View sweep at <a href='https://wandb.ai/ed23d015/DL_Assignment_3/sweeps/4y27zte3' target=\"_blank\">https://wandb.ai/ed23d015/DL_Assignment_3/sweeps/4y27zte3</a>"
            ]
          },
          "metadata": {}
        },
        {
          "output_type": "display_data",
          "data": {
            "text/plain": [
              "<IPython.core.display.HTML object>"
            ],
            "text/html": [
              " View run at <a href='https://wandb.ai/ed23d015/DL_Assignment_3/runs/re3xhged' target=\"_blank\">https://wandb.ai/ed23d015/DL_Assignment_3/runs/re3xhged</a>"
            ]
          },
          "metadata": {}
        },
        {
          "output_type": "stream",
          "name": "stdout",
          "text": [
            "Epoch: 01 |Train Loss: 0.572 | Train accuracy: 0.525|Val. Loss: 0.402 | Val accuracy: 0.627\n",
            "Epoch: 02 |Train Loss: 0.262 | Train accuracy: 0.765|Val. Loss: 0.385 | Val accuracy: 0.657\n",
            "Epoch: 03 |Train Loss: 0.223 | Train accuracy: 0.800|Val. Loss: 0.407 | Val accuracy: 0.667\n",
            "Epoch: 04 |Train Loss: 0.207 | Train accuracy: 0.816|Val. Loss: 0.402 | Val accuracy: 0.680\n"
          ]
        },
        {
          "output_type": "stream",
          "name": "stderr",
          "text": [
            "\u001b[34m\u001b[1mwandb\u001b[0m: Ctrl + C detected. Stopping sweep.\n"
          ]
        }
      ]
    },
    {
      "cell_type": "markdown",
      "source": [
        "# For comparing word accuracy (Attention model)"
      ],
      "metadata": {
        "id": "vJJBHPfzo-cO"
      }
    },
    {
      "cell_type": "code",
      "source": [
        "\n",
        "import math\n",
        "import time\n",
        "import numpy as np\n",
        "\n",
        "criterion = nn.CrossEntropyLoss()\n",
        "\n",
        "# might need to remove the codwe bolow\n",
        "'''\n",
        "INPUT_DIMENSION = len(eng_token_map)\n",
        "OUTPUT_DIMENSION = len(hin_token_map)\n",
        "ENC_EMB_DIMENSION = 512\n",
        "DEC_EMB_DIMENSION = 512\n",
        "ENC_HID_DIMENSION  = 256\n",
        "DEC_HID_DIMENSION  = 256\n",
        "ATTN_DIMENSION  = 256\n",
        "ENC_DROPOUT = 0.3\n",
        "DEC_DROPOUT = 0.3\n",
        "\n",
        "encoder_bkl = Encoder(INPUT_DIMENSION , ENC_EMB_DIMENSION, ENC_HID_DIMENSION, DEC_HID_DIMENSION, ENC_DROPOUT)\n",
        "attension_bkl = Attention(ENC_HID_DIMENSION, DEC_HID_DIMENSION, ATTN_DIMENSION)\n",
        "decoder_bkl = Decoder(OUTPUT_DIMENSION , DEC_EMB_DIMENSION,  ENC_HID_DIMENSION, DEC_HID_DIMENSION, DEC_DROPOUT, attension_bkl)\n",
        "model_bkl = Seq2Seq(encoder_bkl, decoder_bkl, device).to(device)\n",
        "'''\n",
        "'''\n",
        "def init_weights(m: nn.Module):\n",
        "    for name, param in m.named_parameters():\n",
        "        if 'weight' in name:\n",
        "            nn.init.normal_(param.data, mean=0, std=0.01)\n",
        "        else:\n",
        "            nn.init.constant_(param.data, 0)\n",
        "\n",
        "#added custom weights\n",
        "model_bkl.apply(init_weights)\n",
        "\n",
        "optimizer = optim.Adam(model_bkl.parameters())\n",
        "\n",
        "\n",
        "def count_parameters(model: nn.Module):\n",
        "    return sum(p.numel() for p in model.parameters() if p.requires_grad)\n",
        "'''\n",
        "def train(model_bkl: nn.Module, iterator: torch.utils.data.DataLoader, optimizer: optim.Optimizer, criterion: nn.Module, clip: float):\n",
        "\n",
        "    model_bkl.train()\n",
        "\n",
        "    epoch_loss = 0\n",
        "    epoch_accuracy = 0\n",
        "    epoch_word_accuracy = 0\n",
        "    total_charecters = 0\n",
        "    correct_charecters = 0\n",
        "    total_words = 0\n",
        "    correct_words = 0\n",
        "\n",
        "\n",
        "    for _, (source, target) in enumerate(iterator):\n",
        "        source, target = source.to(device), target.to(device)\n",
        "        optimizer.zero_grad()\n",
        "\n",
        "        output = model_bkl(source, target)\n",
        "        output = output[1:].view(-1, output.shape[-1])\n",
        "        target = target.permute(1,0)\n",
        "        target = torch.reshape(target[1:], (-1,))\n",
        "        loss = criterion(output, target)\n",
        "\n",
        "        # calculate character level accuracy\n",
        "        preds = torch.argmax(output, dim=1)\n",
        "        non_pad_elements = (target != 0).nonzero(as_tuple=True)[0]\n",
        "        correct = preds[non_pad_elements] == target[non_pad_elements]\n",
        "        epoch_accuracy += correct.sum().item() / len(non_pad_elements)\n",
        "\n",
        "        loss.backward()\n",
        "\n",
        "        torch.nn.utils.clip_grad_norm_(model_bkl.parameters(), clip)\n",
        "\n",
        "        optimizer.step()\n",
        "\n",
        "        epoch_loss += loss.item()\n",
        "\n",
        "    return epoch_loss / len(iterator), epoch_accuracy / len(iterator)\n",
        "\n",
        "\n",
        "def evaluate(model_bkl: nn.Module, iterator: torch.utils.data.DataLoader, criterion: nn.Module):\n",
        "\n",
        "    model_bkl.eval()\n",
        "\n",
        "    epoch_loss = 0\n",
        "    epoch_accuracy = 0\n",
        "    epoch_word_accuracy = 0\n",
        "    total_charecters = 0\n",
        "    correct_charecters = 0\n",
        "    total_words = 0\n",
        "    correct_words = 0\n",
        "    solution = []\n",
        "    with torch.no_grad():\n",
        "\n",
        "        for _, (source, target) in enumerate(iterator):\n",
        "            source, target = source.to(device), target.to(device)\n",
        "\n",
        "            output = model_bkl(source, target, 0) # Turn off teacher forcing\n",
        "\n",
        "            output = output[1:].view(-1, output.shape[-1])\n",
        "            target = target.permute(1,0)\n",
        "            target = torch.reshape(target[1:], (-1,))\n",
        "\n",
        "            loss = criterion(output, target)\n",
        "\n",
        "            epoch_loss += loss.item()\n",
        "\n",
        "            # calculate accuracy\n",
        "            preds = torch.argmax(output, dim=1)\n",
        "            non_pad_elements = (target != 0).nonzero(as_tuple=True)[0]\n",
        "            correct = preds[non_pad_elements] == target[non_pad_elements]\n",
        "            epoch_accuracy += correct.sum().item() / len(non_pad_elements)\n",
        "\n",
        "            b=np.zeros((16,27))\n",
        "            for i in range(16):\n",
        "              for j in range (27):\n",
        "                 b[i][j]=preds[16*j+i]\n",
        "\n",
        "            for i in range(16):\n",
        "              # print('reverse_tokenize(b[i]: ' , reverse_tokenize(b[i]))\n",
        "              solution.append(reverse_tokenize(b[i]))\n",
        "\n",
        "\n",
        "    return epoch_loss / len(iterator), epoch_accuracy / len(iterator), solution\n",
        "\n",
        "\n",
        "def epoch_time(start_time: int, end_time: int):\n",
        "    elapsed_time = end_time - start_time\n",
        "    elapsed_mins = int(elapsed_time / 60)\n",
        "    elapsed_secs = int(elapsed_time - (elapsed_mins * 60))\n",
        "    return elapsed_mins, elapsed_secs\n",
        "\n",
        "\n",
        "CLIP = 1\n",
        "num_epoch = 10\n",
        "\n",
        "best_valid_loss = float('inf')\n",
        "\n",
        "for epoch in range(num_epoch):\n",
        "    # To calculate the computation time for an epoch\n",
        "    start_time = time.time()\n",
        "\n",
        "    train_loss,train_acc = train(model_bkl, train_itersn, optimizer, criterion, CLIP)\n",
        "    #valid_loss,valid_accuracy,solution_valid = evaluate(model_bkl, test_itersn, criterion)\n",
        "    valid_loss,valid_accuracy,solution_valid = evaluate(model_bkl, valid_itersn, criterion)\n",
        "\n",
        "    end_time = time.time()\n",
        "\n",
        "    epoch_in_mins, epoch_in_secs = epoch_time(start_time, end_time)\n",
        "\n",
        "    print(f'Epoch: {epoch+1:02} | Time: {epoch_in_mins}m {epoch_in_secs}s')\n",
        "    print(f'\\tTrain Loss: {train_loss:.3f} | Train accuracy: {train_acc:.3f}')\n",
        "    print(f'\\t Val. Loss: {valid_loss:.3f} | Val accuracy: {valid_accuracy:.3f}')\n",
        "    print(solution_valid[0])\n",
        "\n",
        "# testing_loss, testing_accuracy, solution_test_attain = evaluate(model_bkl, train_itersn, criterion)\n",
        "testing_loss, testing_accuracy, solution_test_attain = evaluate(model_bkl, test_itersn, criterion)\n",
        "\n",
        "print(f'| Val Loss: {testing_loss:.3f} | Val accuracy: {testing_accuracy:.3f} |')"
      ],
      "metadata": {
        "colab": {
          "base_uri": "https://localhost:8080/"
        },
        "id": "Y1RliBYNjSRm",
        "outputId": "1a55fd1f-1d2f-4027-eeca-66449e097e32"
      },
      "execution_count": null,
      "outputs": [
        {
          "output_type": "stream",
          "name": "stdout",
          "text": [
            "Epoch: 01 | Time: 3m 42s\n",
            "\tTrain Loss: 0.359 | Train accuracy: 0.682\n",
            "\t Val. Loss: 0.396 | Val accuracy: 0.635\n",
            "जैसावल.\n",
            "Epoch: 02 | Time: 3m 34s\n",
            "\tTrain Loss: 0.247 | Train accuracy: 0.778\n",
            "\t Val. Loss: 0.390 | Val accuracy: 0.658\n",
            "जैसावल.\n",
            "Epoch: 03 | Time: 3m 40s\n",
            "\tTrain Loss: 0.219 | Train accuracy: 0.804\n",
            "\t Val. Loss: 0.371 | Val accuracy: 0.670\n",
            "जैसावल.\n",
            "Epoch: 04 | Time: 3m 43s\n",
            "\tTrain Loss: 0.201 | Train accuracy: 0.820\n",
            "\t Val. Loss: 0.378 | Val accuracy: 0.683\n",
            "जैसावल.\n",
            "Epoch: 05 | Time: 3m 39s\n",
            "\tTrain Loss: 0.188 | Train accuracy: 0.832\n",
            "\t Val. Loss: 0.374 | Val accuracy: 0.694\n",
            "जैसववाल.\n",
            "Epoch: 06 | Time: 3m 40s\n",
            "\tTrain Loss: 0.179 | Train accuracy: 0.841\n",
            "\t Val. Loss: 0.376 | Val accuracy: 0.694\n",
            "जैसावल.\n",
            "Epoch: 07 | Time: 3m 39s\n",
            "\tTrain Loss: 0.173 | Train accuracy: 0.846\n",
            "\t Val. Loss: 0.373 | Val accuracy: 0.695\n",
            "जैसवाल.\n",
            "Epoch: 08 | Time: 3m 35s\n",
            "\tTrain Loss: 0.168 | Train accuracy: 0.851\n",
            "\t Val. Loss: 0.386 | Val accuracy: 0.691\n",
            "जैसावल.\n",
            "Epoch: 09 | Time: 3m 27s\n",
            "\tTrain Loss: 0.164 | Train accuracy: 0.854\n",
            "\t Val. Loss: 0.401 | Val accuracy: 0.692\n",
            "जैसावल.\n",
            "Epoch: 10 | Time: 3m 26s\n",
            "\tTrain Loss: 0.159 | Train accuracy: 0.859\n",
            "\t Val. Loss: 0.385 | Val accuracy: 0.698\n",
            "जैसावल.\n",
            "| Val Loss: 0.442 | Val accuracy: 0.688 |\n"
          ]
        }
      ]
    },
    {
      "cell_type": "markdown",
      "source": [
        "# Vanilla Sequence to Sequence Model"
      ],
      "metadata": {
        "id": "4es7SQFZMaUZ"
      }
    },
    {
      "cell_type": "code",
      "source": [
        "# Define the vocabulary of English and Devanagari characters\n",
        "\n",
        "# Define the maximum sequence lengths for input and output sequences\n",
        "MAX_LEN_EN = 30\n",
        "MAX_LEN_MA = 30\n",
        "\n",
        "# Define the start and end of sequence tokens\n",
        "BOS_token = 28\n",
        "EOS_token = 29\n",
        "\n",
        "\n",
        "class Encoder(nn.Module):\n",
        "    def __init__(self, input_size, embedding_size, hidden_size, num_layers=1 , cell_type=\"lstm\", p = 0.3):\n",
        "        super(Encoder, self).__init__()\n",
        "        self.hidden_size = hidden_size\n",
        "        self.num_layers = num_layers\n",
        "        self.cell_type=cell_type\n",
        "        self.dropout=nn.Dropout(p)\n",
        "        self.embedding = nn.Embedding(input_size,embedding_size)\n",
        "\n",
        "        if cell_type == \"gru\":\n",
        "            self.rnn = nn.GRU(input_size, hidden_size, num_layers,dropout=p)\n",
        "        elif cell_type == \"lstm\":\n",
        "            self.rnn = nn.LSTM(input_size, hidden_size, num_layers,dropout=p)\n",
        "        elif cell_type == \"rnn\":\n",
        "            self.rnn = nn.RNN(input_size, hidden_size, num_layers,dropout=p)\n",
        "        else:\n",
        "            raise ValueError(\"Invalid cell type selected: {}\".format(cell_type))\n",
        "\n",
        "    def forward(self, x):\n",
        "\n",
        "        x=x.permute(1,0)\n",
        "        embedding=self.dropout(self.embedding(x))\n",
        "        if self.cell_type==\"lstm\":\n",
        "         outputs,(hidden,cell)=self.rnn(embedding)\n",
        "        else:\n",
        "           hidden, cell = self.rnn(embedding)\n",
        "        return hidden, cell\n",
        "\n",
        "\n",
        "class Decoder(nn.Module):\n",
        "    def __init__(self, input_size, embedding_size, hidden_size, output_size, num_layers=1, cell_type=\"lstm\",p = 0.3):\n",
        "        super(Decoder, self).__init__()\n",
        "        self.hidden_size = hidden_size\n",
        "        self.num_layers = num_layers\n",
        "        self.dropout=nn.Dropout(p)\n",
        "        self.embedding=nn.Embedding(input_size, embedding_size)\n",
        "        self.cell_type=cell_type\n",
        "\n",
        "        self.output_size = output_size\n",
        "        if cell_type == \"gru\":\n",
        "            self.rnn = nn.GRU(output_size, hidden_size, num_layers)\n",
        "        elif cell_type == \"lstm\":\n",
        "            self.rnn = nn.LSTM(embedding_size, hidden_size, num_layers,dropout=p)\n",
        "        elif cell_type == \"rnn\":\n",
        "            self.rnn = nn.RNN(output_size, hidden_size, num_layers)\n",
        "        else:\n",
        "            raise ValueError(\"Invalid cell type selected: {}\".format(cell_type))\n",
        "        self.fc = nn.Linear(hidden_size, output_size)\n",
        "\n",
        "    def forward(self, x, hidden,cell):\n",
        "       # shape of x: (N) but we want (1,N)\n",
        "       x=x.unsqueeze(0)\n",
        "\n",
        "       embedding= self.dropout(self.embedding(x))\n",
        "       #embedding shape: (1,N,hidden_size)\n",
        "\n",
        "       if self.cell_type==\"lstm\":\n",
        "        outputs,(hidden,cell) = self.rnn(embedding, (hidden,cell))\n",
        "       else:\n",
        "         outputs, hidden = self.rnn(embedding, hidden)\n",
        "       #shape of outputs: (1,N,hidden_size)\n",
        "\n",
        "\n",
        "       predictions=self.fc(outputs)\n",
        "       #shape of predictions: (1,N,length_of_vocab)\n",
        "\n",
        "       predictions = predictions.squeeze(0)\n",
        "\n",
        "       if self.cell_type==\"lstm\":\n",
        "         return predictions, hidden, cell\n",
        "       else:\n",
        "         return predictions, hidden\n",
        "\n",
        "\n",
        "class Seq2Seq(nn.Module):\n",
        "    def __init__(\n",
        "        self,encoder,decoder,cell_type=\"lstm\"):\n",
        "        super(Seq2Seq, self).__init__()\n",
        "        self.encoder = encoder\n",
        "        self.decoder = decoder\n",
        "        self.cell_type = cell_type\n",
        "\n",
        "    def forward(self, source, target, teacher_force_ratio=0.5):\n",
        "        batch_size = source.shape[0]\n",
        "\n",
        "        target_len = target.shape[1]\n",
        "        target_vocab_size=self.decoder.output_size\n",
        "\n",
        "        outputs=torch.zeros(target_len,batch_size,target_vocab_size).to(device)\n",
        "\n",
        "        cell,hidden=self.encoder(source)\n",
        "\n",
        "        target = target.permute(1,0)\n",
        "        x = target[0,:]\n",
        "        for t in range(1,target_len):\n",
        "          if self.cell_type==\"lstm\":\n",
        "           output,hidden,cell =self.decoder(x,hidden,cell)\n",
        "          else:\n",
        "            output, hidden = self.decoder(x,hidden,cell)\n",
        "\n",
        "          outputs[t] = output\n",
        "\n",
        "          best_guess = output.argmax(1)\n",
        "\n",
        "          x= target[t] if random.random() < teacher_force_ratio else best_guess\n",
        "        return outputs\n",
        "\n",
        "'''\n",
        "INPUT_DIMENSION = len(eng_token_map)\n",
        "OUTPUT_DIMENSION = len(hin_token_map)\n",
        "ENC_EMB_DIMENSION = 512\n",
        "DEC_EMB_DIMENSION = 512\n",
        "ENC_HID_DIMENSION  = 256\n",
        "DEC_HID_DIMENSION  = 256\n",
        "ATTN_DIMENSION  = 256\n",
        "ENC_DROPOUT = 0.3\n",
        "DEC_DROPOUT = 0.3\n",
        "\n",
        "encoder_bkl = Encoder(INPUT_DIMENSION , ENC_EMB_DIMENSION, ENC_HID_DIMENSION, DEC_HID_DIMENSION, ENC_DROPOUT)\n",
        "attension_bkl = Attention(ENC_HID_DIMENSION, DEC_HID_DIMENSION, ATTN_DIMENSION)\n",
        "decoder_bkl = Decoder(OUTPUT_DIMENSION , DEC_EMB_DIMENSION,  ENC_HID_DIMENSION, DEC_HID_DIMENSION, DEC_DROPOUT, attension_bkl)\n",
        "model_bkl = Seq2Seq(encoder_bkl, decoder_bkl, device).to(device)\n",
        "'''\n",
        "encoder_embedding_size = 29\n",
        "decoder_embedding_size = 68\n",
        "'''\n",
        "encoder_embedding_size  = 512\n",
        "decoder_embedding_size  = 512\n",
        "'''\n",
        "cell_type=\"lstm\"\n",
        "layer_size = 1\n",
        "dropout = 0.3\n",
        "# model_bkl training here\n",
        "hidden_layers = hidden_size = 64\n",
        "input_size_encoder = len(eng_token_map)\n",
        "output_size=input_size_decoder=len(hin_token_map)\n",
        "'''\n",
        "encoder_embedding_size = 29 # Might need to chnge here\n",
        "decoder_embedding_size = 68\n",
        "'''\n",
        "encoder_net_bkl = Encoder(input_size_encoder, encoder_embedding_size, hidden_layers, layer_size, cell_type, p = dropout)\n",
        "decoder_net_bkl = Decoder(input_size_decoder, decoder_embedding_size, hidden_layers, output_size, layer_size, cell_type, p = dropout)\n",
        "model_bkl = Seq2Seq(encoder_net_bkl,decoder_net_bkl ,cell_type).to(device)\n",
        "\n",
        "def init_weights(m: nn.Module):\n",
        "    for name, param in m.named_parameters():\n",
        "        if 'weight' in name:\n",
        "            nn.init.normal_(param.data, mean=0, std=0.01)\n",
        "        else:\n",
        "            nn.init.constant_(param.data, 0)\n",
        "\n",
        "#added custom weights\n",
        "model_bkl.apply(init_weights)\n",
        "\n",
        "optimizer = optim.Adam(model_bkl.parameters())\n",
        "\n",
        "\n",
        "def count_parameters(model: nn.Module):\n",
        "    return sum(p.numel() for p in model.parameters() if p.requires_grad)\n",
        "\n",
        "\n",
        "print(f'The model has {count_parameters(model_bkl):,} trainable parameters')\n",
        "print(\"That's alot of parameters!\")"
      ],
      "metadata": {
        "id": "BWNMQwLODXys",
        "colab": {
          "base_uri": "https://localhost:8080/"
        },
        "outputId": "b2aafe67-43e9-4f16-e717-f475e730b424"
      },
      "execution_count": null,
      "outputs": [
        {
          "output_type": "stream",
          "name": "stdout",
          "text": [
            "The model has 68,509 trainable parameters\n",
            "That's alot of parameters!\n"
          ]
        }
      ]
    },
    {
      "cell_type": "markdown",
      "source": [
        "# Wandb implimentstion of Vanilla Sequence to Sequence Model\n",
        "---\n",
        "\n"
      ],
      "metadata": {
        "id": "REhsy47AMwvQ"
      }
    },
    {
      "cell_type": "code",
      "source": [
        "sweep_config = {\n",
        "    'method': 'bayes', #grid, random,bayes\n",
        "    'metric': {\n",
        "      'name': 'val_accuracy',\n",
        "      'goal': 'maximize'\n",
        "    },\n",
        "    'parameters': {\n",
        "        'lr': {\n",
        "            'values': [0.001,0.0001]\n",
        "        },\n",
        "        'layer_size': {\n",
        "            'values': [1,2,3,4]\n",
        "        },\n",
        "        'cell_type':{\n",
        "            'values':['rnn','lstm','gru']\n",
        "        },\n",
        "        'dropout':{\n",
        "            'values':[0,0.2,0.4,0.6]\n",
        "        },\n",
        "        'hidden_layers':{\n",
        "            'values':[64,128,256]\n",
        "        },\n",
        "\n",
        "    }\n",
        "}\n",
        "\n",
        "sweep_id = wandb.sweep(sweep_config, entity='ed23d015', project=\"DL_Assignment_3\")\n",
        "\n",
        "def sweep_train():\n",
        "  # Default values for hyper-parameters we're going to sweep over\n",
        "  config_defaults = {\n",
        "      'lr':0.0001,\n",
        "      'layer_size':4,\n",
        "      'cell_type':'lstm',\n",
        "      'dropout':0.4,\n",
        "      'hidden_layers':128,\n",
        "  }\n",
        "\n",
        "  # Initialize a new wandb run\n",
        "  wandb.init(project='DL_Assignment_3', entity='ed23d015',config=config_defaults)\n",
        "  wandb.run.name = 'cell:'+ str(wandb.config.cell_type)+' ;lr:'+str(wandb.config.lr)+ ' ;layer_size:'+str(wandb.config.layer_size)+ ' ;dropout:'+str(wandb.config.dropout)+' ;hidden:'+str(wandb.config.hidden_layers)\n",
        "\n",
        "  config = wandb.config\n",
        "  lr = config.lr\n",
        "  layer_size = config.layer_size\n",
        "  cell_type = config.cell_type\n",
        "  hidden_layers = config.hidden_layers\n",
        "  dropout = config.dropout\n",
        "\n",
        "  encoder_embedding_size  = 512\n",
        "  decoder_embedding_size  = 512\n",
        "\n",
        "  # model_bkl training here\n",
        "\n",
        "  input_size_encoder = len(eng_token_map)\n",
        "  output_size=input_size_decoder=len(hin_token_map)\n",
        "\n",
        "  encoder_embedding_size = 29\n",
        "  decoder_embedding_size = 68\n",
        "  encoder_net_bkl = Encoder(input_size_encoder, encoder_embedding_size, hidden_layers, layer_size, cell_type, dropout).to(device)\n",
        "  decoder_net_bkl = Decoder(input_size_decoder, decoder_embedding_size, hidden_layers, output_size, layer_size, cell_type, p = dropout).to(device)\n",
        "  model_bkl = Seq2Seq(encoder_net_bkl,decoder_net_bkl ,cell_type).to(device)\n",
        "  criterion = nn.CrossEntropyLoss()\n",
        "  import math\n",
        "  import time\n",
        "\n",
        "  optimizer = optim.Adam(model_bkl.parameters(),lr=lr)\n",
        "  model_bkl.train()\n",
        "\n",
        "  training_epoch_loss = 0\n",
        "  training_epoch_accuracy = 0\n",
        "  validation_epoch_loss = 0\n",
        "  validation_epoch_accuracy = 0\n",
        "\n",
        "  num_epoch = 10\n",
        "  CLIP = 1\n",
        "\n",
        "  for epoch in range(num_epoch):\n",
        "\n",
        "  #TRAINING BLOCK\n",
        "    model_bkl.train()\n",
        "    for _, (source, target) in enumerate(train_itersn):\n",
        "        source, target = source.to(device), target.to(device)\n",
        "\n",
        "        optimizer.zero_grad()\n",
        "\n",
        "        output = model_bkl(source, target)\n",
        "        output = output[1:].view(-1, output.shape[-1])\n",
        "        target = target.permute(1,0)\n",
        "        target = torch.reshape(target[1:], (-1,))\n",
        "        loss = criterion(output, target)\n",
        "\n",
        "        # calculate accuracy\n",
        "        preds = torch.argmax(output, dim=1)\n",
        "        non_pad_elements = (target != 0).nonzero(as_tuple=True)[0]\n",
        "        train_correct = preds[non_pad_elements] == target[non_pad_elements]\n",
        "        training_epoch_accuracy += train_correct.sum().item() / len(non_pad_elements)\n",
        "        loss.backward()\n",
        "\n",
        "        #READ IF WE CAN PASS CLIP AS A HYPERPARAMETER\n",
        "        torch.nn.utils.clip_grad_norm_(model_bkl.parameters(), CLIP)\n",
        "\n",
        "        optimizer.step()\n",
        "\n",
        "        training_epoch_loss += loss.item()\n",
        "\n",
        "\n",
        "    training_epoch_loss = training_epoch_loss / len(train_itersn)\n",
        "    training_epoch_accuracy = training_epoch_accuracy / len(train_itersn)\n",
        "\n",
        "\n",
        "    #EVALUATION MODE\n",
        "    model_bkl.eval()\n",
        "\n",
        "    with torch.no_grad():\n",
        "\n",
        "        for _, (source, target) in enumerate(valid_itersn):\n",
        "            source, target = source.to(device), target.to(device)\n",
        "\n",
        "            output = model_bkl(source, target, 0) #turn off teacher forcing\n",
        "\n",
        "            output = output[1:].view(-1, output.shape[-1])\n",
        "            target = target.permute(1,0)\n",
        "            target = torch.reshape(target[1:], (-1,))\n",
        "\n",
        "            loss = criterion(output, target)\n",
        "\n",
        "            validation_epoch_loss += loss.item()\n",
        "            # calculate accuracy\n",
        "            preds = torch.argmax(output, dim=1)\n",
        "            non_pad_elements = (target != 0).nonzero(as_tuple=True)[0]\n",
        "            val_correct = preds[non_pad_elements] == target[non_pad_elements]\n",
        "            validation_epoch_accuracy += val_correct.sum().item() / len(non_pad_elements)\n",
        "\n",
        "    validation_epoch_loss = validation_epoch_loss / len(valid_itersn)\n",
        "    validation_epoch_accuracy = validation_epoch_accuracy / len(valid_itersn)\n",
        "\n",
        "    print(f'Epoch: {epoch+1:02} |Train Loss: {training_epoch_loss:.3f} | Train accuracy: {training_epoch_accuracy:.3f}|Val. Loss: {validation_epoch_loss:.3f} | Val accuracy: {validation_epoch_accuracy:.3f}')\n",
        "    wandb.log({\"train_loss\":training_epoch_loss,\"train_accuracy\": training_epoch_accuracy,\"val_loss\":validation_epoch_loss,\"val_accuracy\":validation_epoch_accuracy},)\n",
        "    #emptying the cache after one complete run\n",
        "    if epoch==num_epoch-1:\n",
        "            torch.cuda.empty_cache()\n",
        "\n",
        "\n",
        "#RUNNING THE SWEEP\n",
        "wandb.agent(sweep_id, function=sweep_train, count=40)\n"
      ],
      "metadata": {
        "colab": {
          "base_uri": "https://localhost:8080/",
          "height": 1000,
          "referenced_widgets": [
            "42e98cd35ba948ac83ec4704629a1364",
            "5b8ddb0404d147589ab84d8fc62164bb",
            "dc9dbf6cf2c04cc8a9bb732bbccac4da",
            "d60af0e0dab84cf293a04381ffd9be96",
            "cabef52565624088afde7e79b25b94ea",
            "b33b26e9b45946419c2055dd9c41a8d0",
            "d0073174190a4763b1c04f5fe55c5588",
            "b51dcbaf7e0747178ee2ba006c4c4dbb",
            "37e31409c9d54a06bd167a64b793014a",
            "9a71d32498da46ef828a7b6def95826e",
            "d50d2223b2c64b1599d8cc189a83db2c",
            "df54b92b41064834a90fcde5aad2a97d",
            "471862f9a956465497be2ab20d381353",
            "021d893deebf47cb9321c3acab99c8a4",
            "8c42e9d206a54970ba64f0f131126a8b",
            "5f9c7e3ead904b81a6916f82b061a13d",
            "8675d203ff5445058f154679815ed837",
            "a649b7cb1df94e2d809c9eb6c8e45a83",
            "f29a337390ba41da80fa8b6e47858ccb",
            "c46bda9205df492580644893a489cb65",
            "4837dbf471f04fe392181814e8b9bbec",
            "589a248059cb434fa2ab97ee32d5717b",
            "fe29f03d94034b9c8ae2bc9445465069",
            "53807a5035884efaaef0e2fdea7ab0ea",
            "1d8a983107a74b1697a78bda0113d278",
            "e0a74953121b47bdaeb02b8a8434182b",
            "de5e331e7052458497e8ff56ee3cbd0c",
            "77da06a93b2648e9ad8fccbce365d8aa",
            "7d51eb66329943fa98fe3bb88637a720",
            "ecd8103fba684b6ab0a02c4468f23d0b",
            "f545eb95372f4bc8b8d27d4e39df392f",
            "72fc6249ec364c34a8c49b5ef2123b43",
            "e7edc553c6714aefaf3bb6b2b8d7c734",
            "382dce0294f646b9981873eee2359b2a",
            "5bd459fdc12c4a698630fcb042feda63",
            "6f069368fc444321879945ccc264e51f",
            "1baa120b7b7441c68a69878276b563fe",
            "dc6821d8716b45c7be82c55231af7379",
            "0a48051d4c1b42ecbf1fb7c9dcc02228",
            "ad680785c148434d815fccfe36aeed9c",
            "a0776109d33d4dcc9541245bfe24f76a",
            "05185040baf64ae197a408156892b70c",
            "c1fe70d7464d4292a8d73b61f7db7c1b",
            "6c27b5c41f3144348a946835f0757ebf",
            "49b96e9dea354558aae6d867048989b5",
            "a8c7b9705a0b4b0e8e8ccd818b5cf63b",
            "513130ecfbf04b87a47952aba22bb218",
            "df023f8f56db412881a6ca27469b7290",
            "dced7e1c49644d0b8995e53c68a28792",
            "d29c128c1ad046078117308325a4d443",
            "84b4ce42e2d14cbf8536dc6271be3a0e",
            "5862781800f64aaeae3943daa2777be7",
            "7264ff1af86f4470b5e17ca6721a586e",
            "92c3ec44b3724d64b81a45ea15ff9440",
            "53233d07ea564bd3bd48628bb208174a",
            "e41b9c1af92f4f09a3644e7e2bc911b1",
            "a7a1e6b550a0457ab618097024597eca",
            "a2ef5d03b0b0456b89705c5bb05b67eb",
            "b1a3d1ff53344e218f17d43d55103d32",
            "0c1f188b1bd047bcb70dacd9e2b562bc",
            "d43adecf972849cda6460677b112c0b8",
            "5411336b35c24240a34ff7c12fd95abc",
            "8617d0739a2d4824bf6a604825e53d94",
            "a315af61a6894225a93d6bc6f5e17a87",
            "2566ce5e46a84c17868e17cac0e6c104",
            "3ff4eb7e576b4f9abc58fb3030731e98",
            "7294b1aff9df4b459fd5733ec0613f56",
            "fe9ea93fbbc64fa79e9b69fe43b1942f",
            "d7f3154fbab44efebcb1693e97091fde",
            "91636d6a17e14cc0911ed47e80146685",
            "50c486923d9c4e5a92879fd6357fcd0f",
            "be197b262ce545bd9941cf6212327b73",
            "42641a415b2041eab3afb4cfeafa6ced",
            "a2a17042f6db4b029a34c7cd1e9bb431",
            "7e16f0b15305472cb2133a1b989f2a54",
            "d317ca485e5d4ec89b3c8f9783c8e255",
            "cf06c1d93b56457a8e1354ef770978ba",
            "28444d776d6747f48ab3d34644ff88ff",
            "32a224e6b49141ebbdd5e6001e466cff",
            "00a33404015246bcb3937a011e5a3c4e",
            "7592b2424ce843f3a18f5617163b39e3",
            "ec61c2ed932b40619057259b7d7a8868",
            "f90f44df615f4a29bef23e3842685bb6",
            "391f743d87f14dadb6f7d257dca006e8",
            "40670cdb101442049bb472687d3ea32c",
            "3a69e55527e6450ba7b6ae657d7eba65",
            "cd22dabc87ed4e58be3ca114bc66230b",
            "6cb3eb7c1f4d4d38b2bc4abac2908136"
          ]
        },
        "id": "8nXjA9Ae7cOB",
        "outputId": "8b1e0dc4-8ba7-452b-9569-7a0fef9c3c1e"
      },
      "execution_count": null,
      "outputs": [
        {
          "output_type": "stream",
          "name": "stdout",
          "text": [
            "Create sweep with ID: t1lheec6\n",
            "Sweep URL: https://wandb.ai/ed23d015/DL_Assignment_3/sweeps/t1lheec6\n"
          ]
        },
        {
          "output_type": "stream",
          "name": "stderr",
          "text": [
            "\u001b[34m\u001b[1mwandb\u001b[0m: Agent Starting Run: 75g9chzu with config:\n",
            "\u001b[34m\u001b[1mwandb\u001b[0m: \tcell_type: lstm\n",
            "\u001b[34m\u001b[1mwandb\u001b[0m: \tdropout: 0\n",
            "\u001b[34m\u001b[1mwandb\u001b[0m: \thidden_layers: 64\n",
            "\u001b[34m\u001b[1mwandb\u001b[0m: \tlayer_size: 3\n",
            "\u001b[34m\u001b[1mwandb\u001b[0m: \tlr: 0.0001\n",
            "\u001b[34m\u001b[1mwandb\u001b[0m: \u001b[33mWARNING\u001b[0m Ignored wandb.init() arg project when running a sweep.\n",
            "\u001b[34m\u001b[1mwandb\u001b[0m: \u001b[33mWARNING\u001b[0m Ignored wandb.init() arg entity when running a sweep.\n"
          ]
        },
        {
          "output_type": "display_data",
          "data": {
            "text/plain": [
              "VBox(children=(Label(value='Waiting for wandb.init()...\\r'), FloatProgress(value=0.01127777777777131, max=1.0)…"
            ],
            "application/vnd.jupyter.widget-view+json": {
              "version_major": 2,
              "version_minor": 0,
              "model_id": "42e98cd35ba948ac83ec4704629a1364"
            }
          },
          "metadata": {}
        },
        {
          "output_type": "display_data",
          "data": {
            "text/plain": [
              "<IPython.core.display.HTML object>"
            ],
            "text/html": [
              "Tracking run with wandb version 0.17.0"
            ]
          },
          "metadata": {}
        },
        {
          "output_type": "display_data",
          "data": {
            "text/plain": [
              "<IPython.core.display.HTML object>"
            ],
            "text/html": [
              "Run data is saved locally in <code>C:\\Users\\aslwo\\wandb\\run-20240516_190614-75g9chzu</code>"
            ]
          },
          "metadata": {}
        },
        {
          "output_type": "display_data",
          "data": {
            "text/plain": [
              "<IPython.core.display.HTML object>"
            ],
            "text/html": [
              "Syncing run <strong><a href='https://wandb.ai/ed23d015/DL_Assignment_3/runs/75g9chzu' target=\"_blank\">colorful-sweep-1</a></strong> to <a href='https://wandb.ai/ed23d015/DL_Assignment_3' target=\"_blank\">Weights & Biases</a> (<a href='https://wandb.me/run' target=\"_blank\">docs</a>)<br/>Sweep page: <a href='https://wandb.ai/ed23d015/DL_Assignment_3/sweeps/t1lheec6' target=\"_blank\">https://wandb.ai/ed23d015/DL_Assignment_3/sweeps/t1lheec6</a>"
            ]
          },
          "metadata": {}
        },
        {
          "output_type": "display_data",
          "data": {
            "text/plain": [
              "<IPython.core.display.HTML object>"
            ],
            "text/html": [
              " View project at <a href='https://wandb.ai/ed23d015/DL_Assignment_3' target=\"_blank\">https://wandb.ai/ed23d015/DL_Assignment_3</a>"
            ]
          },
          "metadata": {}
        },
        {
          "output_type": "display_data",
          "data": {
            "text/plain": [
              "<IPython.core.display.HTML object>"
            ],
            "text/html": [
              " View sweep at <a href='https://wandb.ai/ed23d015/DL_Assignment_3/sweeps/t1lheec6' target=\"_blank\">https://wandb.ai/ed23d015/DL_Assignment_3/sweeps/t1lheec6</a>"
            ]
          },
          "metadata": {}
        },
        {
          "output_type": "display_data",
          "data": {
            "text/plain": [
              "<IPython.core.display.HTML object>"
            ],
            "text/html": [
              " View run at <a href='https://wandb.ai/ed23d015/DL_Assignment_3/runs/75g9chzu' target=\"_blank\">https://wandb.ai/ed23d015/DL_Assignment_3/runs/75g9chzu</a>"
            ]
          },
          "metadata": {}
        },
        {
          "output_type": "stream",
          "name": "stdout",
          "text": [
            "Epoch: 01 |Train Loss: 1.257 | Train accuracy: 0.120|Val. Loss: 0.941 | Val accuracy: 0.164\n",
            "Epoch: 02 |Train Loss: 1.065 | Train accuracy: 0.161|Val. Loss: 0.924 | Val accuracy: 0.157\n",
            "Epoch: 03 |Train Loss: 1.023 | Train accuracy: 0.184|Val. Loss: 0.918 | Val accuracy: 0.168\n",
            "Epoch: 04 |Train Loss: 0.985 | Train accuracy: 0.203|Val. Loss: 0.893 | Val accuracy: 0.187\n",
            "Epoch: 05 |Train Loss: 0.961 | Train accuracy: 0.215|Val. Loss: 0.871 | Val accuracy: 0.194\n",
            "Epoch: 06 |Train Loss: 0.940 | Train accuracy: 0.229|Val. Loss: 0.864 | Val accuracy: 0.203\n",
            "Epoch: 07 |Train Loss: 0.920 | Train accuracy: 0.238|Val. Loss: 0.849 | Val accuracy: 0.211\n",
            "Epoch: 08 |Train Loss: 0.901 | Train accuracy: 0.252|Val. Loss: 0.840 | Val accuracy: 0.231\n",
            "Epoch: 09 |Train Loss: 0.880 | Train accuracy: 0.267|Val. Loss: 0.816 | Val accuracy: 0.236\n",
            "Epoch: 10 |Train Loss: 0.862 | Train accuracy: 0.279|Val. Loss: 0.799 | Val accuracy: 0.245\n"
          ]
        },
        {
          "output_type": "display_data",
          "data": {
            "text/plain": [
              "VBox(children=(Label(value='0.001 MB of 0.001 MB uploaded\\r'), FloatProgress(value=1.0, max=1.0)))"
            ],
            "application/vnd.jupyter.widget-view+json": {
              "version_major": 2,
              "version_minor": 0,
              "model_id": "37e31409c9d54a06bd167a64b793014a"
            }
          },
          "metadata": {}
        },
        {
          "output_type": "display_data",
          "data": {
            "text/plain": [
              "<IPython.core.display.HTML object>"
            ],
            "text/html": [
              "<style>\n",
              "    table.wandb td:nth-child(1) { padding: 0 10px; text-align: left ; width: auto;} td:nth-child(2) {text-align: left ; width: 100%}\n",
              "    .wandb-row { display: flex; flex-direction: row; flex-wrap: wrap; justify-content: flex-start; width: 100% }\n",
              "    .wandb-col { display: flex; flex-direction: column; flex-basis: 100%; flex: 1; padding: 10px; }\n",
              "    </style>\n",
              "<div class=\"wandb-row\"><div class=\"wandb-col\"><h3>Run history:</h3><br/><table class=\"wandb\"><tr><td>train_accuracy</td><td>▁▃▄▅▅▆▆▇▇█</td></tr><tr><td>train_loss</td><td>█▅▄▃▃▂▂▂▁▁</td></tr><tr><td>val_accuracy</td><td>▂▁▂▃▄▅▅▇▇█</td></tr><tr><td>val_loss</td><td>█▇▇▆▅▄▃▃▂▁</td></tr></table><br/></div><div class=\"wandb-col\"><h3>Run summary:</h3><br/><table class=\"wandb\"><tr><td>train_accuracy</td><td>0.27876</td></tr><tr><td>train_loss</td><td>0.8616</td></tr><tr><td>val_accuracy</td><td>0.24463</td></tr><tr><td>val_loss</td><td>0.79947</td></tr></table><br/></div></div>"
            ]
          },
          "metadata": {}
        },
        {
          "output_type": "display_data",
          "data": {
            "text/plain": [
              "<IPython.core.display.HTML object>"
            ],
            "text/html": [
              " View run <strong style=\"color:#cdcd00\">colorful-sweep-1</strong> at: <a href='https://wandb.ai/ed23d015/DL_Assignment_3/runs/75g9chzu' target=\"_blank\">https://wandb.ai/ed23d015/DL_Assignment_3/runs/75g9chzu</a><br/> View project at: <a href='https://wandb.ai/ed23d015/DL_Assignment_3' target=\"_blank\">https://wandb.ai/ed23d015/DL_Assignment_3</a><br/>Synced 6 W&B file(s), 0 media file(s), 0 artifact file(s) and 0 other file(s)"
            ]
          },
          "metadata": {}
        },
        {
          "output_type": "display_data",
          "data": {
            "text/plain": [
              "<IPython.core.display.HTML object>"
            ],
            "text/html": [
              "Find logs at: <code>.\\wandb\\run-20240516_190614-75g9chzu\\logs</code>"
            ]
          },
          "metadata": {}
        },
        {
          "output_type": "stream",
          "name": "stderr",
          "text": [
            "\u001b[34m\u001b[1mwandb\u001b[0m: Sweep Agent: Waiting for job.\n",
            "\u001b[34m\u001b[1mwandb\u001b[0m: Job received.\n",
            "\u001b[34m\u001b[1mwandb\u001b[0m: Agent Starting Run: bj54812s with config:\n",
            "\u001b[34m\u001b[1mwandb\u001b[0m: \tcell_type: rnn\n",
            "\u001b[34m\u001b[1mwandb\u001b[0m: \tdropout: 0\n",
            "\u001b[34m\u001b[1mwandb\u001b[0m: \thidden_layers: 256\n",
            "\u001b[34m\u001b[1mwandb\u001b[0m: \tlayer_size: 1\n",
            "\u001b[34m\u001b[1mwandb\u001b[0m: \tlr: 0.001\n",
            "\u001b[34m\u001b[1mwandb\u001b[0m: \u001b[33mWARNING\u001b[0m Ignored wandb.init() arg project when running a sweep.\n",
            "\u001b[34m\u001b[1mwandb\u001b[0m: \u001b[33mWARNING\u001b[0m Ignored wandb.init() arg entity when running a sweep.\n"
          ]
        },
        {
          "output_type": "display_data",
          "data": {
            "text/plain": [
              "VBox(children=(Label(value='Waiting for wandb.init()...\\r'), FloatProgress(value=0.01127777777777131, max=1.0)…"
            ],
            "application/vnd.jupyter.widget-view+json": {
              "version_major": 2,
              "version_minor": 0,
              "model_id": "8675d203ff5445058f154679815ed837"
            }
          },
          "metadata": {}
        },
        {
          "output_type": "display_data",
          "data": {
            "text/plain": [
              "<IPython.core.display.HTML object>"
            ],
            "text/html": [
              "Tracking run with wandb version 0.17.0"
            ]
          },
          "metadata": {}
        },
        {
          "output_type": "display_data",
          "data": {
            "text/plain": [
              "<IPython.core.display.HTML object>"
            ],
            "text/html": [
              "Run data is saved locally in <code>C:\\Users\\aslwo\\wandb\\run-20240516_193019-bj54812s</code>"
            ]
          },
          "metadata": {}
        },
        {
          "output_type": "display_data",
          "data": {
            "text/plain": [
              "<IPython.core.display.HTML object>"
            ],
            "text/html": [
              "Syncing run <strong><a href='https://wandb.ai/ed23d015/DL_Assignment_3/runs/bj54812s' target=\"_blank\">eager-sweep-2</a></strong> to <a href='https://wandb.ai/ed23d015/DL_Assignment_3' target=\"_blank\">Weights & Biases</a> (<a href='https://wandb.me/run' target=\"_blank\">docs</a>)<br/>Sweep page: <a href='https://wandb.ai/ed23d015/DL_Assignment_3/sweeps/t1lheec6' target=\"_blank\">https://wandb.ai/ed23d015/DL_Assignment_3/sweeps/t1lheec6</a>"
            ]
          },
          "metadata": {}
        },
        {
          "output_type": "display_data",
          "data": {
            "text/plain": [
              "<IPython.core.display.HTML object>"
            ],
            "text/html": [
              " View project at <a href='https://wandb.ai/ed23d015/DL_Assignment_3' target=\"_blank\">https://wandb.ai/ed23d015/DL_Assignment_3</a>"
            ]
          },
          "metadata": {}
        },
        {
          "output_type": "display_data",
          "data": {
            "text/plain": [
              "<IPython.core.display.HTML object>"
            ],
            "text/html": [
              " View sweep at <a href='https://wandb.ai/ed23d015/DL_Assignment_3/sweeps/t1lheec6' target=\"_blank\">https://wandb.ai/ed23d015/DL_Assignment_3/sweeps/t1lheec6</a>"
            ]
          },
          "metadata": {}
        },
        {
          "output_type": "display_data",
          "data": {
            "text/plain": [
              "<IPython.core.display.HTML object>"
            ],
            "text/html": [
              " View run at <a href='https://wandb.ai/ed23d015/DL_Assignment_3/runs/bj54812s' target=\"_blank\">https://wandb.ai/ed23d015/DL_Assignment_3/runs/bj54812s</a>"
            ]
          },
          "metadata": {}
        },
        {
          "output_type": "stream",
          "name": "stdout",
          "text": [
            "Epoch: 01 |Train Loss: 1.088 | Train accuracy: 0.160|Val. Loss: 1.118 | Val accuracy: 0.085\n",
            "Epoch: 02 |Train Loss: 1.060 | Train accuracy: 0.171|Val. Loss: 1.116 | Val accuracy: 0.092\n",
            "Epoch: 03 |Train Loss: 1.053 | Train accuracy: 0.174|Val. Loss: 1.137 | Val accuracy: 0.093\n",
            "Epoch: 04 |Train Loss: 1.050 | Train accuracy: 0.175|Val. Loss: 1.118 | Val accuracy: 0.081\n",
            "Epoch: 05 |Train Loss: 1.050 | Train accuracy: 0.174|Val. Loss: 1.191 | Val accuracy: 0.095\n",
            "Epoch: 06 |Train Loss: 1.048 | Train accuracy: 0.176|Val. Loss: 1.245 | Val accuracy: 0.095\n",
            "Epoch: 07 |Train Loss: 1.046 | Train accuracy: 0.177|Val. Loss: 1.151 | Val accuracy: 0.068\n",
            "Epoch: 08 |Train Loss: 1.046 | Train accuracy: 0.176|Val. Loss: 1.117 | Val accuracy: 0.095\n",
            "Epoch: 09 |Train Loss: 1.045 | Train accuracy: 0.177|Val. Loss: 1.115 | Val accuracy: 0.090\n",
            "Epoch: 10 |Train Loss: 1.043 | Train accuracy: 0.178|Val. Loss: 1.102 | Val accuracy: 0.092\n"
          ]
        },
        {
          "output_type": "display_data",
          "data": {
            "text/plain": [
              "VBox(children=(Label(value='0.001 MB of 0.001 MB uploaded\\r'), FloatProgress(value=1.0, max=1.0)))"
            ],
            "application/vnd.jupyter.widget-view+json": {
              "version_major": 2,
              "version_minor": 0,
              "model_id": "1d8a983107a74b1697a78bda0113d278"
            }
          },
          "metadata": {}
        },
        {
          "output_type": "display_data",
          "data": {
            "text/plain": [
              "<IPython.core.display.HTML object>"
            ],
            "text/html": [
              "<style>\n",
              "    table.wandb td:nth-child(1) { padding: 0 10px; text-align: left ; width: auto;} td:nth-child(2) {text-align: left ; width: 100%}\n",
              "    .wandb-row { display: flex; flex-direction: row; flex-wrap: wrap; justify-content: flex-start; width: 100% }\n",
              "    .wandb-col { display: flex; flex-direction: column; flex-basis: 100%; flex: 1; padding: 10px; }\n",
              "    </style>\n",
              "<div class=\"wandb-row\"><div class=\"wandb-col\"><h3>Run history:</h3><br/><table class=\"wandb\"><tr><td>train_accuracy</td><td>▁▅▆▇▇▇█▇██</td></tr><tr><td>train_loss</td><td>█▄▃▂▂▂▁▁▁▁</td></tr><tr><td>val_accuracy</td><td>▅▇▇▄██▁█▇▇</td></tr><tr><td>val_loss</td><td>▂▂▃▂▅█▃▂▂▁</td></tr></table><br/></div><div class=\"wandb-col\"><h3>Run summary:</h3><br/><table class=\"wandb\"><tr><td>train_accuracy</td><td>0.17804</td></tr><tr><td>train_loss</td><td>1.04334</td></tr><tr><td>val_accuracy</td><td>0.09189</td></tr><tr><td>val_loss</td><td>1.10182</td></tr></table><br/></div></div>"
            ]
          },
          "metadata": {}
        },
        {
          "output_type": "display_data",
          "data": {
            "text/plain": [
              "<IPython.core.display.HTML object>"
            ],
            "text/html": [
              " View run <strong style=\"color:#cdcd00\">eager-sweep-2</strong> at: <a href='https://wandb.ai/ed23d015/DL_Assignment_3/runs/bj54812s' target=\"_blank\">https://wandb.ai/ed23d015/DL_Assignment_3/runs/bj54812s</a><br/> View project at: <a href='https://wandb.ai/ed23d015/DL_Assignment_3' target=\"_blank\">https://wandb.ai/ed23d015/DL_Assignment_3</a><br/>Synced 6 W&B file(s), 0 media file(s), 0 artifact file(s) and 0 other file(s)"
            ]
          },
          "metadata": {}
        },
        {
          "output_type": "display_data",
          "data": {
            "text/plain": [
              "<IPython.core.display.HTML object>"
            ],
            "text/html": [
              "Find logs at: <code>.\\wandb\\run-20240516_193019-bj54812s\\logs</code>"
            ]
          },
          "metadata": {}
        },
        {
          "output_type": "stream",
          "name": "stderr",
          "text": [
            "\u001b[34m\u001b[1mwandb\u001b[0m: Agent Starting Run: 7vuggr5j with config:\n",
            "\u001b[34m\u001b[1mwandb\u001b[0m: \tcell_type: lstm\n",
            "\u001b[34m\u001b[1mwandb\u001b[0m: \tdropout: 0.4\n",
            "\u001b[34m\u001b[1mwandb\u001b[0m: \thidden_layers: 256\n",
            "\u001b[34m\u001b[1mwandb\u001b[0m: \tlayer_size: 2\n",
            "\u001b[34m\u001b[1mwandb\u001b[0m: \tlr: 0.001\n",
            "\u001b[34m\u001b[1mwandb\u001b[0m: \u001b[33mWARNING\u001b[0m Ignored wandb.init() arg project when running a sweep.\n",
            "\u001b[34m\u001b[1mwandb\u001b[0m: \u001b[33mWARNING\u001b[0m Ignored wandb.init() arg entity when running a sweep.\n"
          ]
        },
        {
          "output_type": "display_data",
          "data": {
            "text/plain": [
              "VBox(children=(Label(value='Waiting for wandb.init()...\\r'), FloatProgress(value=0.011288888888884685, max=1.0…"
            ],
            "application/vnd.jupyter.widget-view+json": {
              "version_major": 2,
              "version_minor": 0,
              "model_id": "e7edc553c6714aefaf3bb6b2b8d7c734"
            }
          },
          "metadata": {}
        },
        {
          "output_type": "display_data",
          "data": {
            "text/plain": [
              "<IPython.core.display.HTML object>"
            ],
            "text/html": [
              "Tracking run with wandb version 0.17.0"
            ]
          },
          "metadata": {}
        },
        {
          "output_type": "display_data",
          "data": {
            "text/plain": [
              "<IPython.core.display.HTML object>"
            ],
            "text/html": [
              "Run data is saved locally in <code>C:\\Users\\aslwo\\wandb\\run-20240516_194735-7vuggr5j</code>"
            ]
          },
          "metadata": {}
        },
        {
          "output_type": "display_data",
          "data": {
            "text/plain": [
              "<IPython.core.display.HTML object>"
            ],
            "text/html": [
              "Syncing run <strong><a href='https://wandb.ai/ed23d015/DL_Assignment_3/runs/7vuggr5j' target=\"_blank\">fancy-sweep-3</a></strong> to <a href='https://wandb.ai/ed23d015/DL_Assignment_3' target=\"_blank\">Weights & Biases</a> (<a href='https://wandb.me/run' target=\"_blank\">docs</a>)<br/>Sweep page: <a href='https://wandb.ai/ed23d015/DL_Assignment_3/sweeps/t1lheec6' target=\"_blank\">https://wandb.ai/ed23d015/DL_Assignment_3/sweeps/t1lheec6</a>"
            ]
          },
          "metadata": {}
        },
        {
          "output_type": "display_data",
          "data": {
            "text/plain": [
              "<IPython.core.display.HTML object>"
            ],
            "text/html": [
              " View project at <a href='https://wandb.ai/ed23d015/DL_Assignment_3' target=\"_blank\">https://wandb.ai/ed23d015/DL_Assignment_3</a>"
            ]
          },
          "metadata": {}
        },
        {
          "output_type": "display_data",
          "data": {
            "text/plain": [
              "<IPython.core.display.HTML object>"
            ],
            "text/html": [
              " View sweep at <a href='https://wandb.ai/ed23d015/DL_Assignment_3/sweeps/t1lheec6' target=\"_blank\">https://wandb.ai/ed23d015/DL_Assignment_3/sweeps/t1lheec6</a>"
            ]
          },
          "metadata": {}
        },
        {
          "output_type": "display_data",
          "data": {
            "text/plain": [
              "<IPython.core.display.HTML object>"
            ],
            "text/html": [
              " View run at <a href='https://wandb.ai/ed23d015/DL_Assignment_3/runs/7vuggr5j' target=\"_blank\">https://wandb.ai/ed23d015/DL_Assignment_3/runs/7vuggr5j</a>"
            ]
          },
          "metadata": {}
        },
        {
          "output_type": "stream",
          "name": "stdout",
          "text": [
            "Epoch: 01 |Train Loss: 1.035 | Train accuracy: 0.177|Val. Loss: 0.930 | Val accuracy: 0.132\n",
            "Epoch: 02 |Train Loss: 0.955 | Train accuracy: 0.215|Val. Loss: 0.852 | Val accuracy: 0.196\n",
            "Epoch: 03 |Train Loss: 0.817 | Train accuracy: 0.316|Val. Loss: 0.676 | Val accuracy: 0.370\n",
            "Epoch: 04 |Train Loss: 0.616 | Train accuracy: 0.476|Val. Loss: 0.537 | Val accuracy: 0.506\n",
            "Epoch: 05 |Train Loss: 0.480 | Train accuracy: 0.581|Val. Loss: 0.463 | Val accuracy: 0.569\n",
            "Epoch: 06 |Train Loss: 0.405 | Train accuracy: 0.640|Val. Loss: 0.420 | Val accuracy: 0.606\n",
            "Epoch: 07 |Train Loss: 0.358 | Train accuracy: 0.678|Val. Loss: 0.422 | Val accuracy: 0.621\n",
            "Epoch: 08 |Train Loss: 0.328 | Train accuracy: 0.704|Val. Loss: 0.399 | Val accuracy: 0.642\n",
            "Epoch: 09 |Train Loss: 0.307 | Train accuracy: 0.722|Val. Loss: 0.387 | Val accuracy: 0.650\n",
            "Epoch: 10 |Train Loss: 0.291 | Train accuracy: 0.736|Val. Loss: 0.393 | Val accuracy: 0.655\n"
          ]
        },
        {
          "output_type": "display_data",
          "data": {
            "text/plain": [
              "VBox(children=(Label(value='0.001 MB of 0.001 MB uploaded\\r'), FloatProgress(value=1.0, max=1.0)))"
            ],
            "application/vnd.jupyter.widget-view+json": {
              "version_major": 2,
              "version_minor": 0,
              "model_id": "a0776109d33d4dcc9541245bfe24f76a"
            }
          },
          "metadata": {}
        },
        {
          "output_type": "display_data",
          "data": {
            "text/plain": [
              "<IPython.core.display.HTML object>"
            ],
            "text/html": [
              "<style>\n",
              "    table.wandb td:nth-child(1) { padding: 0 10px; text-align: left ; width: auto;} td:nth-child(2) {text-align: left ; width: 100%}\n",
              "    .wandb-row { display: flex; flex-direction: row; flex-wrap: wrap; justify-content: flex-start; width: 100% }\n",
              "    .wandb-col { display: flex; flex-direction: column; flex-basis: 100%; flex: 1; padding: 10px; }\n",
              "    </style>\n",
              "<div class=\"wandb-row\"><div class=\"wandb-col\"><h3>Run history:</h3><br/><table class=\"wandb\"><tr><td>train_accuracy</td><td>▁▁▃▅▆▇▇███</td></tr><tr><td>train_loss</td><td>█▇▆▄▃▂▂▁▁▁</td></tr><tr><td>val_accuracy</td><td>▁▂▄▆▇▇████</td></tr><tr><td>val_loss</td><td>█▇▅▃▂▁▁▁▁▁</td></tr></table><br/></div><div class=\"wandb-col\"><h3>Run summary:</h3><br/><table class=\"wandb\"><tr><td>train_accuracy</td><td>0.73599</td></tr><tr><td>train_loss</td><td>0.29051</td></tr><tr><td>val_accuracy</td><td>0.65528</td></tr><tr><td>val_loss</td><td>0.39258</td></tr></table><br/></div></div>"
            ]
          },
          "metadata": {}
        },
        {
          "output_type": "display_data",
          "data": {
            "text/plain": [
              "<IPython.core.display.HTML object>"
            ],
            "text/html": [
              " View run <strong style=\"color:#cdcd00\">fancy-sweep-3</strong> at: <a href='https://wandb.ai/ed23d015/DL_Assignment_3/runs/7vuggr5j' target=\"_blank\">https://wandb.ai/ed23d015/DL_Assignment_3/runs/7vuggr5j</a><br/> View project at: <a href='https://wandb.ai/ed23d015/DL_Assignment_3' target=\"_blank\">https://wandb.ai/ed23d015/DL_Assignment_3</a><br/>Synced 6 W&B file(s), 0 media file(s), 0 artifact file(s) and 0 other file(s)"
            ]
          },
          "metadata": {}
        },
        {
          "output_type": "display_data",
          "data": {
            "text/plain": [
              "<IPython.core.display.HTML object>"
            ],
            "text/html": [
              "Find logs at: <code>.\\wandb\\run-20240516_194735-7vuggr5j\\logs</code>"
            ]
          },
          "metadata": {}
        },
        {
          "output_type": "stream",
          "name": "stderr",
          "text": [
            "\u001b[34m\u001b[1mwandb\u001b[0m: Agent Starting Run: 5cgint2d with config:\n",
            "\u001b[34m\u001b[1mwandb\u001b[0m: \tcell_type: rnn\n",
            "\u001b[34m\u001b[1mwandb\u001b[0m: \tdropout: 0.2\n",
            "\u001b[34m\u001b[1mwandb\u001b[0m: \thidden_layers: 64\n",
            "\u001b[34m\u001b[1mwandb\u001b[0m: \tlayer_size: 2\n",
            "\u001b[34m\u001b[1mwandb\u001b[0m: \tlr: 0.0001\n",
            "\u001b[34m\u001b[1mwandb\u001b[0m: \u001b[33mWARNING\u001b[0m Ignored wandb.init() arg project when running a sweep.\n",
            "\u001b[34m\u001b[1mwandb\u001b[0m: \u001b[33mWARNING\u001b[0m Ignored wandb.init() arg entity when running a sweep.\n"
          ]
        },
        {
          "output_type": "display_data",
          "data": {
            "text/plain": [
              "VBox(children=(Label(value='Waiting for wandb.init()...\\r'), FloatProgress(value=0.011111111111111112, max=1.0…"
            ],
            "application/vnd.jupyter.widget-view+json": {
              "version_major": 2,
              "version_minor": 0,
              "model_id": "dced7e1c49644d0b8995e53c68a28792"
            }
          },
          "metadata": {}
        },
        {
          "output_type": "display_data",
          "data": {
            "text/plain": [
              "<IPython.core.display.HTML object>"
            ],
            "text/html": [
              "Tracking run with wandb version 0.17.0"
            ]
          },
          "metadata": {}
        },
        {
          "output_type": "display_data",
          "data": {
            "text/plain": [
              "<IPython.core.display.HTML object>"
            ],
            "text/html": [
              "Run data is saved locally in <code>C:\\Users\\aslwo\\wandb\\run-20240516_201321-5cgint2d</code>"
            ]
          },
          "metadata": {}
        },
        {
          "output_type": "display_data",
          "data": {
            "text/plain": [
              "<IPython.core.display.HTML object>"
            ],
            "text/html": [
              "Syncing run <strong><a href='https://wandb.ai/ed23d015/DL_Assignment_3/runs/5cgint2d' target=\"_blank\">balmy-sweep-4</a></strong> to <a href='https://wandb.ai/ed23d015/DL_Assignment_3' target=\"_blank\">Weights & Biases</a> (<a href='https://wandb.me/run' target=\"_blank\">docs</a>)<br/>Sweep page: <a href='https://wandb.ai/ed23d015/DL_Assignment_3/sweeps/t1lheec6' target=\"_blank\">https://wandb.ai/ed23d015/DL_Assignment_3/sweeps/t1lheec6</a>"
            ]
          },
          "metadata": {}
        },
        {
          "output_type": "display_data",
          "data": {
            "text/plain": [
              "<IPython.core.display.HTML object>"
            ],
            "text/html": [
              " View project at <a href='https://wandb.ai/ed23d015/DL_Assignment_3' target=\"_blank\">https://wandb.ai/ed23d015/DL_Assignment_3</a>"
            ]
          },
          "metadata": {}
        },
        {
          "output_type": "display_data",
          "data": {
            "text/plain": [
              "<IPython.core.display.HTML object>"
            ],
            "text/html": [
              " View sweep at <a href='https://wandb.ai/ed23d015/DL_Assignment_3/sweeps/t1lheec6' target=\"_blank\">https://wandb.ai/ed23d015/DL_Assignment_3/sweeps/t1lheec6</a>"
            ]
          },
          "metadata": {}
        },
        {
          "output_type": "display_data",
          "data": {
            "text/plain": [
              "<IPython.core.display.HTML object>"
            ],
            "text/html": [
              " View run at <a href='https://wandb.ai/ed23d015/DL_Assignment_3/runs/5cgint2d' target=\"_blank\">https://wandb.ai/ed23d015/DL_Assignment_3/runs/5cgint2d</a>"
            ]
          },
          "metadata": {}
        },
        {
          "output_type": "stream",
          "name": "stdout",
          "text": [
            "Epoch: 01 |Train Loss: 1.261 | Train accuracy: 0.119|Val. Loss: 1.090 | Val accuracy: 0.091\n",
            "Epoch: 02 |Train Loss: 1.100 | Train accuracy: 0.151|Val. Loss: 1.106 | Val accuracy: 0.100\n",
            "Epoch: 03 |Train Loss: 1.088 | Train accuracy: 0.156|Val. Loss: 1.101 | Val accuracy: 0.100\n",
            "Epoch: 04 |Train Loss: 1.081 | Train accuracy: 0.160|Val. Loss: 1.099 | Val accuracy: 0.100\n",
            "Epoch: 05 |Train Loss: 1.073 | Train accuracy: 0.163|Val. Loss: 1.097 | Val accuracy: 0.100\n",
            "Epoch: 06 |Train Loss: 1.071 | Train accuracy: 0.164|Val. Loss: 1.096 | Val accuracy: 0.100\n",
            "Epoch: 07 |Train Loss: 1.067 | Train accuracy: 0.165|Val. Loss: 1.100 | Val accuracy: 0.100\n",
            "Epoch: 08 |Train Loss: 1.064 | Train accuracy: 0.167|Val. Loss: 1.103 | Val accuracy: 0.100\n",
            "Epoch: 09 |Train Loss: 1.063 | Train accuracy: 0.168|Val. Loss: 1.095 | Val accuracy: 0.100\n",
            "Epoch: 10 |Train Loss: 1.063 | Train accuracy: 0.167|Val. Loss: 1.091 | Val accuracy: 0.100\n"
          ]
        },
        {
          "output_type": "display_data",
          "data": {
            "text/plain": [
              "VBox(children=(Label(value='0.001 MB of 0.001 MB uploaded\\r'), FloatProgress(value=1.0, max=1.0)))"
            ],
            "application/vnd.jupyter.widget-view+json": {
              "version_major": 2,
              "version_minor": 0,
              "model_id": "a7a1e6b550a0457ab618097024597eca"
            }
          },
          "metadata": {}
        },
        {
          "output_type": "display_data",
          "data": {
            "text/plain": [
              "<IPython.core.display.HTML object>"
            ],
            "text/html": [
              "<style>\n",
              "    table.wandb td:nth-child(1) { padding: 0 10px; text-align: left ; width: auto;} td:nth-child(2) {text-align: left ; width: 100%}\n",
              "    .wandb-row { display: flex; flex-direction: row; flex-wrap: wrap; justify-content: flex-start; width: 100% }\n",
              "    .wandb-col { display: flex; flex-direction: column; flex-basis: 100%; flex: 1; padding: 10px; }\n",
              "    </style>\n",
              "<div class=\"wandb-row\"><div class=\"wandb-col\"><h3>Run history:</h3><br/><table class=\"wandb\"><tr><td>train_accuracy</td><td>▁▆▆▇▇▇████</td></tr><tr><td>train_loss</td><td>█▂▂▂▁▁▁▁▁▁</td></tr><tr><td>val_accuracy</td><td>▁█████████</td></tr><tr><td>val_loss</td><td>▁█▆▅▄▃▅▆▃▂</td></tr></table><br/></div><div class=\"wandb-col\"><h3>Run summary:</h3><br/><table class=\"wandb\"><tr><td>train_accuracy</td><td>0.16661</td></tr><tr><td>train_loss</td><td>1.06335</td></tr><tr><td>val_accuracy</td><td>0.09955</td></tr><tr><td>val_loss</td><td>1.09147</td></tr></table><br/></div></div>"
            ]
          },
          "metadata": {}
        },
        {
          "output_type": "display_data",
          "data": {
            "text/plain": [
              "<IPython.core.display.HTML object>"
            ],
            "text/html": [
              " View run <strong style=\"color:#cdcd00\">balmy-sweep-4</strong> at: <a href='https://wandb.ai/ed23d015/DL_Assignment_3/runs/5cgint2d' target=\"_blank\">https://wandb.ai/ed23d015/DL_Assignment_3/runs/5cgint2d</a><br/> View project at: <a href='https://wandb.ai/ed23d015/DL_Assignment_3' target=\"_blank\">https://wandb.ai/ed23d015/DL_Assignment_3</a><br/>Synced 6 W&B file(s), 0 media file(s), 0 artifact file(s) and 0 other file(s)"
            ]
          },
          "metadata": {}
        },
        {
          "output_type": "display_data",
          "data": {
            "text/plain": [
              "<IPython.core.display.HTML object>"
            ],
            "text/html": [
              "Find logs at: <code>.\\wandb\\run-20240516_201321-5cgint2d\\logs</code>"
            ]
          },
          "metadata": {}
        },
        {
          "output_type": "stream",
          "name": "stderr",
          "text": [
            "\u001b[34m\u001b[1mwandb\u001b[0m: Agent Starting Run: d9y6jco5 with config:\n",
            "\u001b[34m\u001b[1mwandb\u001b[0m: \tcell_type: gru\n",
            "\u001b[34m\u001b[1mwandb\u001b[0m: \tdropout: 0.4\n",
            "\u001b[34m\u001b[1mwandb\u001b[0m: \thidden_layers: 256\n",
            "\u001b[34m\u001b[1mwandb\u001b[0m: \tlayer_size: 2\n",
            "\u001b[34m\u001b[1mwandb\u001b[0m: \tlr: 0.0001\n",
            "\u001b[34m\u001b[1mwandb\u001b[0m: \u001b[33mWARNING\u001b[0m Ignored wandb.init() arg project when running a sweep.\n",
            "\u001b[34m\u001b[1mwandb\u001b[0m: \u001b[33mWARNING\u001b[0m Ignored wandb.init() arg entity when running a sweep.\n"
          ]
        },
        {
          "output_type": "display_data",
          "data": {
            "text/plain": [
              "VBox(children=(Label(value='Waiting for wandb.init()...\\r'), FloatProgress(value=0.011111111111111112, max=1.0…"
            ],
            "application/vnd.jupyter.widget-view+json": {
              "version_major": 2,
              "version_minor": 0,
              "model_id": "2566ce5e46a84c17868e17cac0e6c104"
            }
          },
          "metadata": {}
        },
        {
          "output_type": "display_data",
          "data": {
            "text/plain": [
              "<IPython.core.display.HTML object>"
            ],
            "text/html": [
              "Tracking run with wandb version 0.17.0"
            ]
          },
          "metadata": {}
        },
        {
          "output_type": "display_data",
          "data": {
            "text/plain": [
              "<IPython.core.display.HTML object>"
            ],
            "text/html": [
              "Run data is saved locally in <code>C:\\Users\\aslwo\\wandb\\run-20240516_203448-d9y6jco5</code>"
            ]
          },
          "metadata": {}
        },
        {
          "output_type": "display_data",
          "data": {
            "text/plain": [
              "<IPython.core.display.HTML object>"
            ],
            "text/html": [
              "Syncing run <strong><a href='https://wandb.ai/ed23d015/DL_Assignment_3/runs/d9y6jco5' target=\"_blank\">fresh-sweep-5</a></strong> to <a href='https://wandb.ai/ed23d015/DL_Assignment_3' target=\"_blank\">Weights & Biases</a> (<a href='https://wandb.me/run' target=\"_blank\">docs</a>)<br/>Sweep page: <a href='https://wandb.ai/ed23d015/DL_Assignment_3/sweeps/t1lheec6' target=\"_blank\">https://wandb.ai/ed23d015/DL_Assignment_3/sweeps/t1lheec6</a>"
            ]
          },
          "metadata": {}
        },
        {
          "output_type": "display_data",
          "data": {
            "text/plain": [
              "<IPython.core.display.HTML object>"
            ],
            "text/html": [
              " View project at <a href='https://wandb.ai/ed23d015/DL_Assignment_3' target=\"_blank\">https://wandb.ai/ed23d015/DL_Assignment_3</a>"
            ]
          },
          "metadata": {}
        },
        {
          "output_type": "display_data",
          "data": {
            "text/plain": [
              "<IPython.core.display.HTML object>"
            ],
            "text/html": [
              " View sweep at <a href='https://wandb.ai/ed23d015/DL_Assignment_3/sweeps/t1lheec6' target=\"_blank\">https://wandb.ai/ed23d015/DL_Assignment_3/sweeps/t1lheec6</a>"
            ]
          },
          "metadata": {}
        },
        {
          "output_type": "display_data",
          "data": {
            "text/plain": [
              "<IPython.core.display.HTML object>"
            ],
            "text/html": [
              " View run at <a href='https://wandb.ai/ed23d015/DL_Assignment_3/runs/d9y6jco5' target=\"_blank\">https://wandb.ai/ed23d015/DL_Assignment_3/runs/d9y6jco5</a>"
            ]
          },
          "metadata": {}
        },
        {
          "output_type": "stream",
          "name": "stdout",
          "text": [
            "Epoch: 01 |Train Loss: 1.095 | Train accuracy: 0.161|Val. Loss: 0.884 | Val accuracy: 0.175\n",
            "Epoch: 02 |Train Loss: 0.923 | Train accuracy: 0.244|Val. Loss: 0.788 | Val accuracy: 0.256\n",
            "Epoch: 03 |Train Loss: 0.809 | Train accuracy: 0.319|Val. Loss: 0.686 | Val accuracy: 0.323\n",
            "Epoch: 04 |Train Loss: 0.710 | Train accuracy: 0.388|Val. Loss: 0.612 | Val accuracy: 0.388\n",
            "Epoch: 05 |Train Loss: 0.626 | Train accuracy: 0.451|Val. Loss: 0.556 | Val accuracy: 0.450\n",
            "Epoch: 06 |Train Loss: 0.566 | Train accuracy: 0.497|Val. Loss: 0.518 | Val accuracy: 0.495\n",
            "Epoch: 07 |Train Loss: 0.521 | Train accuracy: 0.533|Val. Loss: 0.493 | Val accuracy: 0.520\n",
            "Epoch: 08 |Train Loss: 0.485 | Train accuracy: 0.563|Val. Loss: 0.469 | Val accuracy: 0.539\n",
            "Epoch: 09 |Train Loss: 0.453 | Train accuracy: 0.589|Val. Loss: 0.451 | Val accuracy: 0.559\n",
            "Epoch: 10 |Train Loss: 0.428 | Train accuracy: 0.611|Val. Loss: 0.438 | Val accuracy: 0.572\n"
          ]
        },
        {
          "output_type": "display_data",
          "data": {
            "text/plain": [
              "VBox(children=(Label(value='0.001 MB of 0.001 MB uploaded\\r'), FloatProgress(value=1.0, max=1.0)))"
            ],
            "application/vnd.jupyter.widget-view+json": {
              "version_major": 2,
              "version_minor": 0,
              "model_id": "42641a415b2041eab3afb4cfeafa6ced"
            }
          },
          "metadata": {}
        },
        {
          "output_type": "display_data",
          "data": {
            "text/plain": [
              "<IPython.core.display.HTML object>"
            ],
            "text/html": [
              "<style>\n",
              "    table.wandb td:nth-child(1) { padding: 0 10px; text-align: left ; width: auto;} td:nth-child(2) {text-align: left ; width: 100%}\n",
              "    .wandb-row { display: flex; flex-direction: row; flex-wrap: wrap; justify-content: flex-start; width: 100% }\n",
              "    .wandb-col { display: flex; flex-direction: column; flex-basis: 100%; flex: 1; padding: 10px; }\n",
              "    </style>\n",
              "<div class=\"wandb-row\"><div class=\"wandb-col\"><h3>Run history:</h3><br/><table class=\"wandb\"><tr><td>train_accuracy</td><td>▁▂▃▅▆▆▇▇██</td></tr><tr><td>train_loss</td><td>█▆▅▄▃▂▂▂▁▁</td></tr><tr><td>val_accuracy</td><td>▁▂▄▅▆▇▇▇██</td></tr><tr><td>val_loss</td><td>█▆▅▄▃▂▂▁▁▁</td></tr></table><br/></div><div class=\"wandb-col\"><h3>Run summary:</h3><br/><table class=\"wandb\"><tr><td>train_accuracy</td><td>0.61105</td></tr><tr><td>train_loss</td><td>0.42799</td></tr><tr><td>val_accuracy</td><td>0.5721</td></tr><tr><td>val_loss</td><td>0.43807</td></tr></table><br/></div></div>"
            ]
          },
          "metadata": {}
        },
        {
          "output_type": "display_data",
          "data": {
            "text/plain": [
              "<IPython.core.display.HTML object>"
            ],
            "text/html": [
              " View run <strong style=\"color:#cdcd00\">fresh-sweep-5</strong> at: <a href='https://wandb.ai/ed23d015/DL_Assignment_3/runs/d9y6jco5' target=\"_blank\">https://wandb.ai/ed23d015/DL_Assignment_3/runs/d9y6jco5</a><br/> View project at: <a href='https://wandb.ai/ed23d015/DL_Assignment_3' target=\"_blank\">https://wandb.ai/ed23d015/DL_Assignment_3</a><br/>Synced 6 W&B file(s), 0 media file(s), 0 artifact file(s) and 0 other file(s)"
            ]
          },
          "metadata": {}
        },
        {
          "output_type": "display_data",
          "data": {
            "text/plain": [
              "<IPython.core.display.HTML object>"
            ],
            "text/html": [
              "Find logs at: <code>.\\wandb\\run-20240516_203448-d9y6jco5\\logs</code>"
            ]
          },
          "metadata": {}
        },
        {
          "output_type": "stream",
          "name": "stderr",
          "text": [
            "\u001b[34m\u001b[1mwandb\u001b[0m: Agent Starting Run: taru1vek with config:\n",
            "\u001b[34m\u001b[1mwandb\u001b[0m: \tcell_type: gru\n",
            "\u001b[34m\u001b[1mwandb\u001b[0m: \tdropout: 0.4\n",
            "\u001b[34m\u001b[1mwandb\u001b[0m: \thidden_layers: 256\n",
            "\u001b[34m\u001b[1mwandb\u001b[0m: \tlayer_size: 3\n",
            "\u001b[34m\u001b[1mwandb\u001b[0m: \tlr: 0.0001\n",
            "\u001b[34m\u001b[1mwandb\u001b[0m: \u001b[33mWARNING\u001b[0m Ignored wandb.init() arg project when running a sweep.\n",
            "\u001b[34m\u001b[1mwandb\u001b[0m: \u001b[33mWARNING\u001b[0m Ignored wandb.init() arg entity when running a sweep.\n"
          ]
        },
        {
          "output_type": "display_data",
          "data": {
            "text/plain": [
              "VBox(children=(Label(value='Waiting for wandb.init()...\\r'), FloatProgress(value=0.01127777777777131, max=1.0)…"
            ],
            "application/vnd.jupyter.widget-view+json": {
              "version_major": 2,
              "version_minor": 0,
              "model_id": "7592b2424ce843f3a18f5617163b39e3"
            }
          },
          "metadata": {}
        },
        {
          "output_type": "display_data",
          "data": {
            "text/plain": [
              "<IPython.core.display.HTML object>"
            ],
            "text/html": [
              "Tracking run with wandb version 0.17.0"
            ]
          },
          "metadata": {}
        },
        {
          "output_type": "display_data",
          "data": {
            "text/plain": [
              "<IPython.core.display.HTML object>"
            ],
            "text/html": [
              "Run data is saved locally in <code>C:\\Users\\aslwo\\wandb\\run-20240516_205954-taru1vek</code>"
            ]
          },
          "metadata": {}
        },
        {
          "output_type": "display_data",
          "data": {
            "text/plain": [
              "<IPython.core.display.HTML object>"
            ],
            "text/html": [
              "Syncing run <strong><a href='https://wandb.ai/ed23d015/DL_Assignment_3/runs/taru1vek' target=\"_blank\">misty-sweep-6</a></strong> to <a href='https://wandb.ai/ed23d015/DL_Assignment_3' target=\"_blank\">Weights & Biases</a> (<a href='https://wandb.me/run' target=\"_blank\">docs</a>)<br/>Sweep page: <a href='https://wandb.ai/ed23d015/DL_Assignment_3/sweeps/t1lheec6' target=\"_blank\">https://wandb.ai/ed23d015/DL_Assignment_3/sweeps/t1lheec6</a>"
            ]
          },
          "metadata": {}
        },
        {
          "output_type": "display_data",
          "data": {
            "text/plain": [
              "<IPython.core.display.HTML object>"
            ],
            "text/html": [
              " View project at <a href='https://wandb.ai/ed23d015/DL_Assignment_3' target=\"_blank\">https://wandb.ai/ed23d015/DL_Assignment_3</a>"
            ]
          },
          "metadata": {}
        },
        {
          "output_type": "display_data",
          "data": {
            "text/plain": [
              "<IPython.core.display.HTML object>"
            ],
            "text/html": [
              " View sweep at <a href='https://wandb.ai/ed23d015/DL_Assignment_3/sweeps/t1lheec6' target=\"_blank\">https://wandb.ai/ed23d015/DL_Assignment_3/sweeps/t1lheec6</a>"
            ]
          },
          "metadata": {}
        },
        {
          "output_type": "display_data",
          "data": {
            "text/plain": [
              "<IPython.core.display.HTML object>"
            ],
            "text/html": [
              " View run at <a href='https://wandb.ai/ed23d015/DL_Assignment_3/runs/taru1vek' target=\"_blank\">https://wandb.ai/ed23d015/DL_Assignment_3/runs/taru1vek</a>"
            ]
          },
          "metadata": {}
        },
        {
          "output_type": "stream",
          "name": "stdout",
          "text": [
            "Epoch: 01 |Train Loss: 1.092 | Train accuracy: 0.161|Val. Loss: 0.888 | Val accuracy: 0.175\n"
          ]
        }
      ]
    },
    {
      "cell_type": "markdown",
      "source": [
        "# For comparing word accuracy (Vanilla model)"
      ],
      "metadata": {
        "id": "kqeBSugfahAe"
      }
    },
    {
      "cell_type": "code",
      "source": [
        "\n",
        "import numpy as np\n",
        "import math\n",
        "import time\n",
        "\n",
        "criterion = nn.CrossEntropyLoss()\n",
        "'''\n",
        "num_epochs=10\n",
        "learning_rate=0.001\n",
        "\n",
        "\n",
        "device = torch.device('cuda' if torch.cuda.is_available() else 'cpu')\n",
        "\n",
        "\n",
        "hidden_size = 256\n",
        "encoder_embedding_size = 29\n",
        "decoder_embedding_size = 68\n",
        "encoder_dropout = 0.3\n",
        "decoder_dropout = 0.3\n",
        "\n",
        "num_layers = 1\n",
        "cell_type = \"gru\"\n",
        "\n",
        "encoder_net = Encoder(input_size_encoder, encoder_embedding_size, hidden_size, num_layers, cell_type, p=encoder_dropout).to(device)\n",
        "decoder_net = Decoder(input_size_decoder, decoder_embedding_size, hidden_size, output_size, num_layers, cell_type, p=decoder_dropout).to(device)\n",
        "model_bkl = Seq2Seq(encoder_net, decoder_net, cell_type).to(device)\n",
        "\n",
        "\n",
        "\n",
        "def init_weights(m: nn.Module):\n",
        "    for name, param in m.named_parameters():\n",
        "        if 'weight' in name:\n",
        "            nn.init.normal_(param.data, mean=0, std=0.01)\n",
        "        else:\n",
        "            nn.init.constant_(param.data, 0)\n",
        "\n",
        "#added custom weights\n",
        "model_bkl.apply(init_weights)\n",
        "\n",
        "#optimizer = optim.Adam(model_bkl.parameters())\n",
        "optimizer = optim.Adam(model_bkl.parameters(),lr=learning_rate)\n",
        "\n",
        "\n",
        "def count_parameters(model: nn.Module):\n",
        "    return sum(p.numel() for p in model.parameters() if p.requires_grad)\n",
        "\n",
        "'''\n",
        "def train(model_bkl: nn.Module, iterator: torch.utils.data.DataLoader, optimizer: optim.Optimizer, criterion: nn.Module, clip: float):\n",
        "\n",
        "    model_bkl.train()\n",
        "\n",
        "    epoch_loss = 0\n",
        "    epoch_acc = 0\n",
        "\n",
        "    for _, (source, target) in enumerate(iterator):\n",
        "        source, target = source.to(device), target.to(device)\n",
        "        optimizer.zero_grad()\n",
        "\n",
        "        output = model_bkl(source, target)\n",
        "        output = output[1:].view(-1, output.shape[-1])\n",
        "        target = target.permute(1,0)\n",
        "        target = torch.reshape(target[1:], (-1,))\n",
        "        loss = criterion(output, target)\n",
        "\n",
        "        # calculate accuracy\n",
        "        preds = torch.argmax(output, dim=1)\n",
        "        non_pad_elements = (target != 0).nonzero(as_tuple=True)[0]\n",
        "        correct = preds[non_pad_elements] == target[non_pad_elements]\n",
        "        epoch_acc += correct.sum().item() / len(non_pad_elements)\n",
        "        loss.backward()\n",
        "\n",
        "        torch.nn.utils.clip_grad_norm_(model_bkl.parameters(), clip)\n",
        "\n",
        "        optimizer.step()\n",
        "\n",
        "        epoch_loss += loss.item()\n",
        "\n",
        "    return epoch_loss / len(iterator), epoch_acc / len(iterator)\n",
        "\n",
        "\n",
        "def evaluate(model_bkl: nn.Module, iterator: torch.utils.data.DataLoader, criterion: nn.Module):\n",
        "\n",
        "    model_bkl.eval()\n",
        "    solulu=[]\n",
        "    epoch_loss = 0\n",
        "    epoch_acc = 0\n",
        "\n",
        "    with torch.no_grad():\n",
        "\n",
        "        for _, (source, target) in enumerate(iterator):\n",
        "            source, target = source.to(device), target.to(device)\n",
        "\n",
        "            output = model_bkl(source, target, 0) #turn off teacher forcing\n",
        "            output = output[1:].view(-1, output.shape[-1])\n",
        "\n",
        "            target = target.permute(1,0)\n",
        "            target = torch.reshape(target[1:], (-1,))\n",
        "\n",
        "            loss = criterion(output, target)\n",
        "\n",
        "            epoch_loss += loss.item()\n",
        "            # calculate accuracy\n",
        "            preds = torch.argmax(output, dim=1)\n",
        "            b=np.zeros((16,27))\n",
        "            for i in range(16):\n",
        "              for j in range (27):\n",
        "                 b[i][j]=preds[16*j+i]\n",
        "\n",
        "            for i in range(16):\n",
        "              solulu.append(reverse_tokenize(b[i]))\n",
        "            non_pad_elements = (target != 0).nonzero(as_tuple=True)[0]\n",
        "            correct = preds[non_pad_elements] == target[non_pad_elements]\n",
        "            epoch_acc += correct.sum().item() / len(non_pad_elements)\n",
        "\n",
        "\n",
        "    return epoch_loss / len(iterator), epoch_acc / len(iterator),solulu\n",
        "\n",
        "\n",
        "def epoch_time(start_time: int,\n",
        "               end_time: int):\n",
        "    elapsed_time = end_time - start_time\n",
        "    elapsed_mins = int(elapsed_time / 60)\n",
        "    elapsed_secs = int(elapsed_time - (elapsed_mins * 60))\n",
        "    return elapsed_mins, elapsed_secs\n",
        "\n",
        "\n",
        "num_epoch = 10\n",
        "CLIP = 1\n",
        "\n",
        "best_validation_loss = float('inf')\n",
        "\n",
        "\n",
        "for epoch in range(num_epoch):\n",
        "    # To calculate the computation time for an epoch\n",
        "    start_time = time.time()\n",
        "\n",
        "    train_loss,train_acc = train(model_bkl, train_itersn, optimizer, criterion, CLIP)\n",
        "    #valid_loss,valid_accuracy,solution_valid = evaluate(model_bkl, test_itersn, criterion)\n",
        "    valid_loss,valid_accuracy,solution_valid = evaluate(model_bkl, valid_itersn, criterion)\n",
        "\n",
        "    end_time = time.time()\n",
        "\n",
        "    epoch_in_mins, epoch_in_secs = epoch_time(start_time, end_time)\n",
        "\n",
        "    print(f'Epoch: {epoch+1:02} | Time: {epoch_in_mins}m {epoch_in_secs}s')\n",
        "    print(f'\\tTrain Loss: {train_loss:.3f} | Train accuracy: {train_acc:.3f}')\n",
        "    print(f'\\t Val. Loss: {valid_loss:.3f} | Val accuracy: {valid_accuracy:.3f}')\n",
        "    print(solution_valid[0])\n",
        "\n",
        "testing_loss,testing_accuracy,solution_test = evaluate(model_bkl, test_itersn, criterion)\n",
        "\n",
        "\n",
        "print(f'| Test Loss: {testing_loss:.3f} | Test accuracy: {testing_accuracy:.3f} |')\n",
        "\n",
        "\n"
      ],
      "metadata": {
        "colab": {
          "base_uri": "https://localhost:8080/"
        },
        "id": "uIzrhc6lLQpb",
        "outputId": "ed85edb5-5f6a-4e84-b50a-d02e01591b65"
      },
      "execution_count": null,
      "outputs": [
        {
          "output_type": "stream",
          "name": "stdout",
          "text": [
            "Epoch: 01 | Time: 1m 53s\n",
            "\tTrain Loss: 1.162 | Train accuracy: 0.113\n",
            "\t Val. Loss: 0.944 | Val accuracy: 0.139\n",
            "कारारा.\n",
            "Epoch: 02 | Time: 1m 51s\n",
            "\tTrain Loss: 1.011 | Train accuracy: 0.181\n",
            "\t Val. Loss: 0.938 | Val accuracy: 0.149\n",
            "किरारा.\n",
            "Epoch: 03 | Time: 1m 54s\n",
            "\tTrain Loss: 0.980 | Train accuracy: 0.202\n",
            "\t Val. Loss: 0.904 | Val accuracy: 0.169\n",
            "अा<unk>यारा.\n",
            "Epoch: 04 | Time: 1m 52s\n",
            "\tTrain Loss: 0.929 | Train accuracy: 0.233\n",
            "\t Val. Loss: 0.850 | Val accuracy: 0.207\n",
            "मारााा.\n",
            "Epoch: 05 | Time: 1m 51s\n",
            "\tTrain Loss: 0.890 | Train accuracy: 0.257\n",
            "\t Val. Loss: 0.820 | Val accuracy: 0.225\n",
            "जियारा.\n",
            "Epoch: 06 | Time: 1m 51s\n",
            "\tTrain Loss: 0.863 | Train accuracy: 0.278\n",
            "\t Val. Loss: 0.810 | Val accuracy: 0.252\n",
            "बारााा.\n",
            "Epoch: 07 | Time: 1m 52s\n",
            "\tTrain Loss: 0.833 | Train accuracy: 0.301\n",
            "\t Val. Loss: 0.773 | Val accuracy: 0.267\n",
            "जावााा.\n",
            "Epoch: 08 | Time: 1m 52s\n",
            "\tTrain Loss: 0.805 | Train accuracy: 0.323\n",
            "\t Val. Loss: 0.747 | Val accuracy: 0.295\n",
            "जालााा.\n",
            "Epoch: 09 | Time: 1m 52s\n",
            "\tTrain Loss: 0.774 | Train accuracy: 0.349\n",
            "\t Val. Loss: 0.734 | Val accuracy: 0.319\n",
            "जोलााा.\n",
            "Epoch: 10 | Time: 1m 52s\n",
            "\tTrain Loss: 0.750 | Train accuracy: 0.368\n",
            "\t Val. Loss: 0.726 | Val accuracy: 0.320\n",
            "जोरााा.\n",
            "| Test Loss: 0.780 | Test accuracy: 0.312 |\n"
          ]
        }
      ]
    },
    {
      "cell_type": "markdown",
      "source": [
        "# Wandb implimentation of the best Attention model on Test set"
      ],
      "metadata": {
        "id": "SbMcfauw7V0i"
      }
    },
    {
      "cell_type": "code",
      "source": [
        "sweep_config = {\n",
        "    'method': 'bayes', #grid, random,bayes\n",
        "    'metric': {\n",
        "      'name': 'val_accuracy',\n",
        "      'goal': 'maximize'\n",
        "    },\n",
        "    'parameters': {\n",
        "        'lr': {\n",
        "            'values': [0.001,0.0001]\n",
        "        },\n",
        "        'layer_size': {\n",
        "            'values': [1,2,3,4]\n",
        "        },\n",
        "        'cell_type':{\n",
        "            'values':['rnn','lstm','gru']\n",
        "        },\n",
        "        'dropout':{\n",
        "            'values':[0,0.2,0.4,0.6]\n",
        "        },\n",
        "        'hidden_layers':{\n",
        "            'values':[64,128,256]\n",
        "        },\n",
        "\n",
        "    }\n",
        "}\n",
        "\n",
        "sweep_id = wandb.sweep(sweep_config, entity='ed23d015', project=\"DL_Assignment_3\")\n",
        "\n",
        "def sweep_train():\n",
        "  # Default values for hyper-parameters we're going to sweep over\n",
        "  config_defaults = {\n",
        "      'lr':0.0001,\n",
        "      'layer_size':4,\n",
        "      'cell_type':'lstm',\n",
        "      'dropout':0.4,\n",
        "      'hidden_layers':128,\n",
        "  }\n",
        "\n",
        "  # Initialize a new wandb run\n",
        "  wandb.init(project='DL_Assignment_3', entity='ed23d015',config=config_defaults)\n",
        "  wandb.run.name = 'cell:'+ str(wandb.config.cell_type)+' ;lr:'+str(wandb.config.lr)+ ' ;layer_size:'+str(wandb.config.layer_size)+ ' ;dropout:'+str(wandb.config.dropout)+' ;hidden:'+str(wandb.config.hidden_layers)\n",
        "  config = wandb.config\n",
        "  lr = config.lr\n",
        "  layer_size = config.layer_size\n",
        "  cell_type = config.cell_type\n",
        "  hidden_layers = config.hidden_layers\n",
        "  dropout = config.dropout\n",
        "  # model_bkl training here\n",
        "\n",
        "  input_size_encoder = len(eng_token_map)\n",
        "  output_size=input_size_decoder=len(hin_token_map)\n",
        "\n",
        "  encoder_embedding_size = 29\n",
        "  decoder_embedding_size = 68\n",
        "  encoder_net_bkl = Encoder(input_size_encoder,encoder_embedding_size,hidden_layers,layer_size,cell_type,p=dropout).to(device)\n",
        "  decoder_net_bkl = Decoder(input_size_decoder,decoder_embedding_size,hidden_layers,output_size,layer_size,cell_type,p=dropout).to(device)\n",
        "  model_bkl = Seq2Seq(encoder_net_bkl,decoder_net_bkl ,cell_type).to(device)\n",
        "  criterion = nn.CrossEntropyLoss()\n",
        "  import math\n",
        "  import time\n",
        "\n",
        "  optimizer = optim.Adam(model_bkl.parameters(),lr=lr)\n",
        "  model_bkl.train()\n",
        "\n",
        "  training_epoch_loss = 0\n",
        "  training_epoch_accuracy = 0\n",
        "  validation_epoch_loss = 0\n",
        "  validation_epoch_accuracy = 0\n",
        "\n",
        "  N_EPOCHS = 10\n",
        "  CLIP = 1\n",
        "\n",
        "  for epoch in range(N_EPOCHS):\n",
        "\n",
        "  #TRAINING BLOCK\n",
        "    model_bkl.train()\n",
        "    for _, (source, target) in enumerate(train_itersn):\n",
        "        source, target = source.to(device), target.to(device)\n",
        "\n",
        "        optimizer.zero_grad()\n",
        "\n",
        "        output = model_bkl(source, target)\n",
        "        output = output[1:].view(-1, output.shape[-1])\n",
        "        target = target.permute(1,0)\n",
        "        target = torch.reshape(target[1:], (-1,))\n",
        "        loss = criterion(output, target)\n",
        "\n",
        "        # calculate accuracy\n",
        "        preds = torch.argmax(output, dim=1)\n",
        "        non_pad_elements = (target != 0).nonzero(as_tuple=True)[0]\n",
        "        train_correct = preds[non_pad_elements] == target[non_pad_elements]\n",
        "        training_epoch_accuracy += train_correct.sum().item() / len(non_pad_elements)\n",
        "        loss.backward()\n",
        "\n",
        "        #READ IF WE CAN PASS CLIP AS A HYPERPARAMETER\n",
        "        torch.nn.utils.clip_grad_norm_(model_bkl.parameters(), CLIP)\n",
        "\n",
        "        optimizer.step()\n",
        "\n",
        "        training_epoch_loss += loss.item()\n",
        "\n",
        "\n",
        "    training_epoch_loss = training_epoch_loss / len(train_itersn)\n",
        "    training_epoch_accuracy = training_epoch_accuracy / len(train_itersn)\n",
        "\n",
        "\n",
        "    #EVALUATION MODE\n",
        "    model_bkl.eval()\n",
        "\n",
        "    with torch.no_grad():\n",
        "\n",
        "        for _, (source, target) in enumerate(test_itersn): # Changed valid_itesn to test_itesn for checking on test set\n",
        "            source, target = source.to(device), target.to(device)\n",
        "\n",
        "            output = model_bkl(source, target, 0) # Turn off teacher forcing\n",
        "\n",
        "            output = output[1:].view(-1, output.shape[-1])\n",
        "            target = target.permute(1,0)\n",
        "            target = torch.reshape(target[1:], (-1,))\n",
        "\n",
        "            loss = criterion(output, target)\n",
        "\n",
        "            validation_epoch_loss += loss.item()\n",
        "            # calculate accuracy\n",
        "            preds = torch.argmax(output, dim=1)\n",
        "            non_pad_elements = (target != 0).nonzero(as_tuple=True)[0]\n",
        "            val_correct = preds[non_pad_elements] == target[non_pad_elements]\n",
        "            validation_epoch_accuracy += val_correct.sum().item() / len(non_pad_elements)\n",
        "\n",
        "    validation_epoch_loss = validation_epoch_loss / len(valid_itersn)\n",
        "    validation_epoch_accuracy = validation_epoch_accuracy / len(valid_itersn)\n",
        "\n",
        "    print(f'Epoch: {epoch+1:02} |Train Loss: {training_epoch_loss:.3f} | Train accuracy: {training_epoch_accuracy:.3f}|Val. Loss: {validation_epoch_loss:.3f} | Val accuracy: {validation_epoch_accuracy:.3f}')\n",
        "    wandb.log({\"train_loss\":training_epoch_loss,\"train_accuracy\": training_epoch_accuracy,\"val_loss\":validation_epoch_loss,\"val_accuracy\":validation_epoch_accuracy},)\n",
        "\n",
        "    # Emptying the cache after one complete run\n",
        "    if epoch==N_EPOCHS-1:\n",
        "            torch.cuda.empty_cache()\n",
        "\n",
        "\n",
        "#RUNNING THE SWEEP\n",
        "wandb.agent(sweep_id, function=sweep_train, count=1)\n"
      ],
      "metadata": {
        "id": "7XilzV75Y2XS",
        "colab": {
          "base_uri": "https://localhost:8080/",
          "height": 1000,
          "referenced_widgets": [
            "7cca19ec44104da186671d2b18e990ac",
            "6109c3878b9246d8b9636d1b8a7356b0",
            "851530c21fa8414c9946d7e39fa64d8a",
            "d9900590bde74e47ae05048b229666c7",
            "46d71f4e864043168af6626dd5e31f87",
            "eb184ca1c5594a4385a9042a4246f6fb",
            "d7bead6c61f14b35b95fd0e3577bb7e6",
            "75584978721741da89c389ee70ca4ab5",
            "89c5c6d98c4d4654b3bdc3970495a5a7",
            "3152fab876074c70bbc6b3016c8aad71",
            "8cc4a06769c242db803a1119a9329e32",
            "23156cdf12574c86984164546c53aa01",
            "12ac9b1222d54bfba6a5b99d4f35c688",
            "bcbd6b29ae3f4985a1081f9a145cf520",
            "bea9a3e55a484b5590e98d1167bd2bf3",
            "d8739da318464dd19d5ca8095539328d",
            "8a5beb7141a74afdbfa10d3ad2aa5004",
            "3ac402a29c654d38b2f25c6b7fa7d139",
            "548fbbdd80f2401cab737d0cb3c0bd52",
            "a0b8b9e71a5d4b558c5613c4c9fc9b42",
            "8221078d81a84f198ed9de25e574ce1e",
            "2a8e941fd2bf42098f8940da8eb0483c",
            "5fc00ae98fe14597930361e1c6c95421",
            "2707ddc54dcc446089ee24ad75e9e220"
          ]
        },
        "outputId": "1f5a754a-5bd7-4a33-98a0-edf3645181f5"
      },
      "execution_count": null,
      "outputs": [
        {
          "output_type": "stream",
          "name": "stdout",
          "text": [
            "Create sweep with ID: agff4xc5\n",
            "Sweep URL: https://wandb.ai/ed23d015/DL_Assignment_3/sweeps/agff4xc5\n"
          ]
        },
        {
          "output_type": "stream",
          "name": "stderr",
          "text": [
            "\u001b[34m\u001b[1mwandb\u001b[0m: Agent Starting Run: fhqt7yry with config:\n",
            "\u001b[34m\u001b[1mwandb\u001b[0m: \tcell_type: lstm\n",
            "\u001b[34m\u001b[1mwandb\u001b[0m: \tdropout: 0.6\n",
            "\u001b[34m\u001b[1mwandb\u001b[0m: \thidden_layers: 64\n",
            "\u001b[34m\u001b[1mwandb\u001b[0m: \tlayer_size: 2\n",
            "\u001b[34m\u001b[1mwandb\u001b[0m: \tlr: 0.001\n",
            "\u001b[34m\u001b[1mwandb\u001b[0m: Currently logged in as: \u001b[33med23d015\u001b[0m. Use \u001b[1m`wandb login --relogin`\u001b[0m to force relogin\n",
            "\u001b[34m\u001b[1mwandb\u001b[0m: \u001b[33mWARNING\u001b[0m Ignored wandb.init() arg project when running a sweep.\n",
            "\u001b[34m\u001b[1mwandb\u001b[0m: \u001b[33mWARNING\u001b[0m Ignored wandb.init() arg entity when running a sweep.\n"
          ]
        },
        {
          "output_type": "display_data",
          "data": {
            "text/plain": [
              "VBox(children=(Label(value='Waiting for wandb.init()...\\r'), FloatProgress(value=0.011466666666658258, max=1.0…"
            ],
            "application/vnd.jupyter.widget-view+json": {
              "version_major": 2,
              "version_minor": 0,
              "model_id": "7cca19ec44104da186671d2b18e990ac"
            }
          },
          "metadata": {}
        },
        {
          "output_type": "display_data",
          "data": {
            "text/plain": [
              "<IPython.core.display.HTML object>"
            ],
            "text/html": [
              "Tracking run with wandb version 0.17.0"
            ]
          },
          "metadata": {}
        },
        {
          "output_type": "display_data",
          "data": {
            "text/plain": [
              "<IPython.core.display.HTML object>"
            ],
            "text/html": [
              "Run data is saved locally in <code>C:\\Users\\aslwo\\wandb\\run-20240516_145701-fhqt7yry</code>"
            ]
          },
          "metadata": {}
        },
        {
          "output_type": "display_data",
          "data": {
            "text/plain": [
              "<IPython.core.display.HTML object>"
            ],
            "text/html": [
              "Syncing run <strong><a href='https://wandb.ai/ed23d015/DL_Assignment_3/runs/fhqt7yry' target=\"_blank\">wild-sweep-1</a></strong> to <a href='https://wandb.ai/ed23d015/DL_Assignment_3' target=\"_blank\">Weights & Biases</a> (<a href='https://wandb.me/run' target=\"_blank\">docs</a>)<br/>Sweep page: <a href='https://wandb.ai/ed23d015/DL_Assignment_3/sweeps/agff4xc5' target=\"_blank\">https://wandb.ai/ed23d015/DL_Assignment_3/sweeps/agff4xc5</a>"
            ]
          },
          "metadata": {}
        },
        {
          "output_type": "display_data",
          "data": {
            "text/plain": [
              "<IPython.core.display.HTML object>"
            ],
            "text/html": [
              " View project at <a href='https://wandb.ai/ed23d015/DL_Assignment_3' target=\"_blank\">https://wandb.ai/ed23d015/DL_Assignment_3</a>"
            ]
          },
          "metadata": {}
        },
        {
          "output_type": "display_data",
          "data": {
            "text/plain": [
              "<IPython.core.display.HTML object>"
            ],
            "text/html": [
              " View sweep at <a href='https://wandb.ai/ed23d015/DL_Assignment_3/sweeps/agff4xc5' target=\"_blank\">https://wandb.ai/ed23d015/DL_Assignment_3/sweeps/agff4xc5</a>"
            ]
          },
          "metadata": {}
        },
        {
          "output_type": "display_data",
          "data": {
            "text/plain": [
              "<IPython.core.display.HTML object>"
            ],
            "text/html": [
              " View run at <a href='https://wandb.ai/ed23d015/DL_Assignment_3/runs/fhqt7yry' target=\"_blank\">https://wandb.ai/ed23d015/DL_Assignment_3/runs/fhqt7yry</a>"
            ]
          },
          "metadata": {}
        },
        {
          "output_type": "stream",
          "name": "stdout",
          "text": [
            "Epoch: 01 |Train Loss: 1.090 | Train accuracy: 0.155|Val. Loss: 0.990 | Val accuracy: 0.141\n",
            "Epoch: 02 |Train Loss: 0.979 | Train accuracy: 0.205|Val. Loss: 0.947 | Val accuracy: 0.192\n",
            "Epoch: 03 |Train Loss: 0.921 | Train accuracy: 0.237|Val. Loss: 0.897 | Val accuracy: 0.222\n",
            "Epoch: 04 |Train Loss: 0.871 | Train accuracy: 0.268|Val. Loss: 0.842 | Val accuracy: 0.262\n",
            "Epoch: 05 |Train Loss: 0.820 | Train accuracy: 0.299|Val. Loss: 0.788 | Val accuracy: 0.295\n",
            "Epoch: 06 |Train Loss: 0.781 | Train accuracy: 0.325|Val. Loss: 0.745 | Val accuracy: 0.330\n",
            "Epoch: 07 |Train Loss: 0.743 | Train accuracy: 0.355|Val. Loss: 0.726 | Val accuracy: 0.343\n",
            "Epoch: 08 |Train Loss: 0.714 | Train accuracy: 0.377|Val. Loss: 0.688 | Val accuracy: 0.372\n",
            "Epoch: 09 |Train Loss: 0.692 | Train accuracy: 0.392|Val. Loss: 0.666 | Val accuracy: 0.381\n",
            "Epoch: 10 |Train Loss: 0.671 | Train accuracy: 0.408|Val. Loss: 0.648 | Val accuracy: 0.397\n"
          ]
        },
        {
          "output_type": "display_data",
          "data": {
            "text/plain": [
              "VBox(children=(Label(value='0.001 MB of 0.001 MB uploaded\\r'), FloatProgress(value=1.0, max=1.0)))"
            ],
            "application/vnd.jupyter.widget-view+json": {
              "version_major": 2,
              "version_minor": 0,
              "model_id": "89c5c6d98c4d4654b3bdc3970495a5a7"
            }
          },
          "metadata": {}
        },
        {
          "output_type": "display_data",
          "data": {
            "text/plain": [
              "<IPython.core.display.HTML object>"
            ],
            "text/html": [
              "<style>\n",
              "    table.wandb td:nth-child(1) { padding: 0 10px; text-align: left ; width: auto;} td:nth-child(2) {text-align: left ; width: 100%}\n",
              "    .wandb-row { display: flex; flex-direction: row; flex-wrap: wrap; justify-content: flex-start; width: 100% }\n",
              "    .wandb-col { display: flex; flex-direction: column; flex-basis: 100%; flex: 1; padding: 10px; }\n",
              "    </style>\n",
              "<div class=\"wandb-row\"><div class=\"wandb-col\"><h3>Run history:</h3><br/><table class=\"wandb\"><tr><td>train_accuracy</td><td>▁▂▃▄▅▆▇▇██</td></tr><tr><td>train_loss</td><td>█▆▅▄▃▃▂▂▁▁</td></tr><tr><td>val_accuracy</td><td>▁▂▃▄▅▆▇▇██</td></tr><tr><td>val_loss</td><td>█▇▆▅▄▃▃▂▁▁</td></tr></table><br/></div><div class=\"wandb-col\"><h3>Run summary:</h3><br/><table class=\"wandb\"><tr><td>train_accuracy</td><td>0.40755</td></tr><tr><td>train_loss</td><td>0.67124</td></tr><tr><td>val_accuracy</td><td>0.39739</td></tr><tr><td>val_loss</td><td>0.64792</td></tr></table><br/></div></div>"
            ]
          },
          "metadata": {}
        },
        {
          "output_type": "display_data",
          "data": {
            "text/plain": [
              "<IPython.core.display.HTML object>"
            ],
            "text/html": [
              " View run <strong style=\"color:#cdcd00\">wild-sweep-1</strong> at: <a href='https://wandb.ai/ed23d015/DL_Assignment_3/runs/fhqt7yry' target=\"_blank\">https://wandb.ai/ed23d015/DL_Assignment_3/runs/fhqt7yry</a><br/> View project at: <a href='https://wandb.ai/ed23d015/DL_Assignment_3' target=\"_blank\">https://wandb.ai/ed23d015/DL_Assignment_3</a><br/>Synced 6 W&B file(s), 0 media file(s), 0 artifact file(s) and 0 other file(s)"
            ]
          },
          "metadata": {}
        },
        {
          "output_type": "display_data",
          "data": {
            "text/plain": [
              "<IPython.core.display.HTML object>"
            ],
            "text/html": [
              "Find logs at: <code>.\\wandb\\run-20240516_145701-fhqt7yry\\logs</code>"
            ]
          },
          "metadata": {}
        },
        {
          "output_type": "stream",
          "name": "stderr",
          "text": [
            "\u001b[34m\u001b[1mwandb\u001b[0m: Agent Starting Run: g3k2fbd6 with config:\n",
            "\u001b[34m\u001b[1mwandb\u001b[0m: \tcell_type: rnn\n",
            "\u001b[34m\u001b[1mwandb\u001b[0m: \tdropout: 0.6\n",
            "\u001b[34m\u001b[1mwandb\u001b[0m: \thidden_layers: 128\n",
            "\u001b[34m\u001b[1mwandb\u001b[0m: \tlayer_size: 3\n",
            "\u001b[34m\u001b[1mwandb\u001b[0m: \tlr: 0.0001\n",
            "\u001b[34m\u001b[1mwandb\u001b[0m: \u001b[33mWARNING\u001b[0m Ignored wandb.init() arg project when running a sweep.\n",
            "\u001b[34m\u001b[1mwandb\u001b[0m: \u001b[33mWARNING\u001b[0m Ignored wandb.init() arg entity when running a sweep.\n"
          ]
        },
        {
          "output_type": "display_data",
          "data": {
            "text/plain": [
              "VBox(children=(Label(value='Waiting for wandb.init()...\\r'), FloatProgress(value=0.011111111111111112, max=1.0…"
            ],
            "application/vnd.jupyter.widget-view+json": {
              "version_major": 2,
              "version_minor": 0,
              "model_id": "8a5beb7141a74afdbfa10d3ad2aa5004"
            }
          },
          "metadata": {}
        },
        {
          "output_type": "display_data",
          "data": {
            "text/plain": [
              "<IPython.core.display.HTML object>"
            ],
            "text/html": [
              "Tracking run with wandb version 0.17.0"
            ]
          },
          "metadata": {}
        },
        {
          "output_type": "display_data",
          "data": {
            "text/plain": [
              "<IPython.core.display.HTML object>"
            ],
            "text/html": [
              "Run data is saved locally in <code>C:\\Users\\aslwo\\wandb\\run-20240516_152023-g3k2fbd6</code>"
            ]
          },
          "metadata": {}
        },
        {
          "output_type": "display_data",
          "data": {
            "text/plain": [
              "<IPython.core.display.HTML object>"
            ],
            "text/html": [
              "Syncing run <strong><a href='https://wandb.ai/ed23d015/DL_Assignment_3/runs/g3k2fbd6' target=\"_blank\">classic-sweep-2</a></strong> to <a href='https://wandb.ai/ed23d015/DL_Assignment_3' target=\"_blank\">Weights & Biases</a> (<a href='https://wandb.me/run' target=\"_blank\">docs</a>)<br/>Sweep page: <a href='https://wandb.ai/ed23d015/DL_Assignment_3/sweeps/agff4xc5' target=\"_blank\">https://wandb.ai/ed23d015/DL_Assignment_3/sweeps/agff4xc5</a>"
            ]
          },
          "metadata": {}
        },
        {
          "output_type": "display_data",
          "data": {
            "text/plain": [
              "<IPython.core.display.HTML object>"
            ],
            "text/html": [
              " View project at <a href='https://wandb.ai/ed23d015/DL_Assignment_3' target=\"_blank\">https://wandb.ai/ed23d015/DL_Assignment_3</a>"
            ]
          },
          "metadata": {}
        },
        {
          "output_type": "display_data",
          "data": {
            "text/plain": [
              "<IPython.core.display.HTML object>"
            ],
            "text/html": [
              " View sweep at <a href='https://wandb.ai/ed23d015/DL_Assignment_3/sweeps/agff4xc5' target=\"_blank\">https://wandb.ai/ed23d015/DL_Assignment_3/sweeps/agff4xc5</a>"
            ]
          },
          "metadata": {}
        },
        {
          "output_type": "display_data",
          "data": {
            "text/plain": [
              "<IPython.core.display.HTML object>"
            ],
            "text/html": [
              " View run at <a href='https://wandb.ai/ed23d015/DL_Assignment_3/runs/g3k2fbd6' target=\"_blank\">https://wandb.ai/ed23d015/DL_Assignment_3/runs/g3k2fbd6</a>"
            ]
          },
          "metadata": {}
        },
        {
          "output_type": "stream",
          "name": "stdout",
          "text": [
            "Epoch: 01 |Train Loss: 1.198 | Train accuracy: 0.125|Val. Loss: 1.168 | Val accuracy: 0.102\n",
            "Epoch: 02 |Train Loss: 1.107 | Train accuracy: 0.146|Val. Loss: 1.177 | Val accuracy: 0.100\n",
            "Epoch: 03 |Train Loss: 1.094 | Train accuracy: 0.152|Val. Loss: 1.164 | Val accuracy: 0.100\n"
          ]
        }
      ]
    },
    {
      "cell_type": "markdown",
      "source": [
        "# CSV files and Word level accuracy"
      ],
      "metadata": {
        "id": "u6_EGlcOZHok"
      }
    },
    {
      "cell_type": "code",
      "source": [
        "# Removing end of sentence token\n",
        "solulu_test_att = solution_test_attain\n",
        "solulu_test = solution_test\n",
        "print(solution_test_attain)\n",
        "print(solution_test)\n",
        "print(test_hin)\n",
        "\n",
        "solulu_test_att = [word.replace('.', '') for word in solulu_test_att]\n",
        "solulu_test = [word.replace('.', '') for word in solulu_test]\n",
        "def calculate_accuracy(list1, list2):\n",
        "    total_words = len(list1)\n",
        "    correct_words = 0\n",
        "\n",
        "    for wordH, wordE in zip(list1, list2):\n",
        "        if wordH == wordE:\n",
        "            correct_words += 1\n",
        "\n",
        "    accuracy = correct_words / total_words * 100\n",
        "    return accuracy\n",
        "\n",
        "vanilla_seq2seq_accuracy=calculate_accuracy(test_hin,solulu_test)\n",
        "attention_seq2seq_accuracy=calculate_accuracy(test_hin,solulu_test_att)\n",
        "print('vanilla_seq2seq_Acc.:',vanilla_seq2seq_accuracy)\n",
        "print('attention_seq2seq_Acc.:',attention_seq2seq_accuracy)"
      ],
      "metadata": {
        "id": "PTv4z41cZFno",
        "colab": {
          "base_uri": "https://localhost:8080/"
        },
        "outputId": "95b5ddda-de40-455b-aa3b-99039e93d22d"
      },
      "execution_count": null,
      "outputs": [
        {
          "output_type": "stream",
          "name": "stdout",
          "text": [
            "['थर<unk>मैक<unk>स.', 'सिखाएगा.', 'लीयर<unk>न.', 'ट<unk>विटर<unk>स.', 'तिरुनेलवेली.', 'इंडेपेंडेंस.', 'स<unk>पेशियों.', 'शुरूह.', 'कोल<unk>हापुर.', 'अझर.', 'करार.', 'अंका.', 'वीपीडी.', 'हाशिए.', 'ग<unk>लेन<unk>डले.', 'उधेड.', 'एक<unk>ठी.', 'आईडीए.', 'अंबिकापुर.', 'मकेरे.', 'सबूदाने.', 'फूहड़ता.', 'सिकवेंट.', 'शुबु.', 'पनिहाटी.', 'समेतती.', 'उखरुल.', 'ब<unk>रह<unk>मलिन.', 'उतराधिकारी.', 'इक़बाल.', 'दयालपुरा.', 'सोहराई.', 'तकरीबन.', 'फररुखनगर.', 'थींगा.', 'त<unk>योइहारों.', 'कर<unk>णेश<unk>वर<unk>धाम.', 'उमनाथ.', 'दाँशिल.', 'साहित<unk>योत<unk>सव.', 'शाततिनिकेतन.', 'शिकायतकर<unk>ता.', 'अंदरखाने.', 'पैन<unk>टर.', 'लीडारों.', 'गालगंद.', 'कारनियाँ.', 'मुर<unk>गीपालन.', 'मुशाहिद.', 'मॉड<unk>युल.', 'राजौरी.', 'सुश<unk>रुषा.', 'श<unk>रिंगार.', 'हॉल<unk>ट.', 'लैगिकता.', 'इजाजत.', 'वंक<unk>षेत<unk>र.', 'भुताल.', 'स<unk>वादप<unk>रेमियों.', 'निनेतीज.', 'फ<unk>रेक<unk>टर.', 'लिखकर.', 'इयारकणदीश<unk>नर.', 'नब<unk>ज़.', 'क<unk>वेस.', 'बोनी.', 'कारगुजारियां.', 'गांगनाम.', 'तापिया.', 'तेजपुर.', 'तलवे.', 'सीमाई.', 'दर<unk>शनार<unk>थी.', 'रिवास.', 'तर<unk>कवाड.', 'अनुसारका.', 'कोआकेला.', 'लतककर.', 'पत<unk>रववलियां.', 'परिषद.', 'स<unk>पिंज.', 'अंशिदा.', 'डेजेसस.', 'सरायममोहौद<unk>दीनपुर.', 'लॉवेल.', 'कैपैकिटर.', 'पैसेंगरजजिंड.', 'ग<unk>रंथियों.', 'बुएना.', 'कैंटरबरी.', 'काठियावड़ी.', 'टेकचनदनी.', 'फिसाद.', 'बेरहरमी.', 'निष<unk>कारशाह.', 'एक<unk>टिविटीज.', 'रिकैल<unk>लीब<unk>रेशन.', 'शसनाधिकारियों.', 'फिजूलखर<unk>ची.', 'डब<unk>ल<unk>यूपीडी.', 'पीएसी.', 'दस<unk>तर.', 'कैटलिन.', 'जोड<unk>डता.', 'किल<unk>लाट.', 'ग<unk>रूहनगर.', 'वॉन<unk>डर.', 'वातर.', 'श<unk>विंग.', 'पष<unk>टुन.', 'फार<unk>म.', 'दिबानु.', 'पश<unk>चमी.', 'उठपतक.', 'निलाभ.', 'लक<unk>समीनियाँ.', 'महानगरवासियों.', 'उपनेता.', 'कन<unk>वेनशन.', 'शार<unk>प.', 'कार<unk>ययोजना.', 'मास.', 'वेस<unk>टिंग.', 'कुर<unk>वती.', 'ज<unk>याड़ा.', 'मुकेशशवरी.', 'श<unk>रीमती.', 'विवेकाधिकारों.', 'लोकसभावली.', 'कबहा.', 'भ<unk>रान<unk>तियों.', 'विवेकहीन.', 'बालमिकी.', 'हर<unk>याना.', 'जिवराज.', 'फ<unk>लान.', 'राना.', 'विष<unk>णुपुरा.', 'घोटालेबाजों.', 'हैरातंगेंज़.', 'तकलीफादेह.', 'पीपाध.', 'धभाशारा.', 'अं<unk>त<unk>दियां.', 'रॉबिन.', 'सिंगर.', 'गुमशुदागी.', 'बालकृष<unk>ण.', 'फब<unk>ती.', 'पलतने.', 'लहलहाती.', 'नगाड़ा.', 'उदनें.', 'क<unk>लें.', 'जुलुस.', 'कार<unk>यभार.', 'मैन<unk>तो.', 'पैमैश.', 'कोविना.', 'पेंशन.', 'ओगस<unk>टावेस<unk>टेलेंड.', 'सें<unk>ट<unk>रींग.', 'एक<unk>टिवा.', 'बारकर.', 'वालकन.', 'वृतों.', 'कबड़<unk>ड़ी.', 'रौनख.', 'कैइटल.', 'फूस.', 'जंगडना.', 'उपख<unk>यानों.', 'सुन<unk>द<unk>रम.', 'कोचिन.', 'नेको.', 'कौशल.', 'फलिया.', 'एसीवेडो.', 'कोट<unk>टयाम.', 'दिलाएगा.', 'कुरववी.', 'सौनपेंगी.', 'लेखन.', 'गुडेपु.', 'फररसे.', 'नुबिया.', 'ताजा.', 'आंत<unk>रित.', 'क़ज़ी.', 'मुर<unk>ीपालन.', 'एड<unk>डी.', 'नेगिने.', 'सुभा.', 'लुस.', 'विजयपुरम.', 'बताओ.', 'ओचोआ.', 'साइंस.', 'सरकरें.', 'ब<unk>रेमर<unk>टन.', 'गुरुपदो.', 'सनयुक<unk>त.', 'रालोड.', 'बाढ़ाओं.', 'गौमुत<unk>र.', 'सभाएं.', 'तानी.', 'देल<unk>ही.', 'सुकेन.', 'विनीत.', 'चिमते.', 'किकियाना.', 'रॉकेट.', 'मैक<unk>सवेल.', 'हिप<unk>पो.', 'दीपन.', 'अर<unk>यमा.', 'भुलता.', 'कर<unk>माचारी.', 'दुर<unk>गपुर.', 'त<unk>रिभाषा.', 'सुदखोों.', 'प<unk>रस<unk>तावों.', 'सरविन.', 'प<unk>राप<unk>ति.', 'गिरिवासियों.', 'सिड<unk>यिंग.', 'वेलवेट.', 'मुक़ररार.', 'बैक<unk>सटर.', 'डिनियर.', 'सीएस.', 'उठनी.', 'घासी.', 'इकाठ<unk>ठा.', 'भूपसिंह.', 'डाबोचने.', 'क<unk>रॉस<unk>ी.', 'नामीगिरामी.', 'हूर<unk>ले.', 'जर<unk>दा.', 'लिप<unk>रधनमंत<unk>री.', 'भ<unk>रांती.', 'एजेंक<unk>यों.', 'बागो.', 'फोर<unk>सी.', 'बोसान.', 'करकी.', 'गिनाटे.', 'मनोकामनाओं.', 'सम<unk>मपत<unk>तियाँ.', 'पोलिठीनों.', 'मटके.', 'परिचार.', 'बाबादी.', 'स<unk>रेन.', 'लामियाँ.', 'उल<unk>हसनगर.', 'प<unk>रभानमंत<unk>री.', 'शिवालापूरवा.', 'फर<unk>थ.', 'सुहागिन.', 'सराइकेला.', 'रोमिविले.', 'राजस<unk>थानवासियों.', 'प<unk>रतिरोधात<unk>मक.', 'स<unk>वर<unk>णिका.', 'व<unk>यवस<unk>थापन.', 'टेल.', 'गलत<unk>फह<unk>मी.', 'टेकेंसाइडर.', 'माइक<unk>रोफिबर.', 'श<unk>रीमहपूर<unk>ण.', 'फाल<unk>जाज़ा.', 'डोनाल<unk>डसन.', 'चढ़ने.', 'जीवविज<unk>ञानियों.', 'क<unk>रिकेटिंग.', 'रिडक<unk>शन.', 'अवाज़ें.', 'व<unk>लाद.', 'प<unk>रथ<unk>मिक.', 'थेंगा.', 'एक<unk>ससल.', 'चटकाते.', 'कुबुद<unk>दीन.', 'ताज़ा.', 'पदानी.', 'निचाई.', 'वुसौउ.', 'आलोचकों.', 'जलजले.', 'सुरत.', 'जीवती.', 'प<unk>रहारक.', 'श<unk>रीसदगुरू.', 'संचलनों.', 'भल<unk>.', 'तुघलाक.', 'उठापतक.', 'हस<unk>तान<unk>तरीनय.', 'उत<unk>साहवर<unk>द<unk>धन.', 'संगोष<unk>ट<unk>री.', 'शासनाधिकारियों.', 'महाधिपतियों.', 'फतिमा.', 'फोड.', 'का<unk>तिन<unk>यू.', 'कामनाएं.', 'चुटिले.', 'संख<unk>याएं.', 'कृंज.', 'बरसता.', 'परिकल<unk>पित.', 'हरपाल.', 'माओंत.', 'ग<unk>रोवर.', 'बायोलोजिस.', 'हलिसहर.', 'अंगेलो.', 'जनौधरी.', 'बिचबचाव.', 'पोकर.', 'अपवार<unk>तित.', 'आस<unk>टिन.', 'प<unk>रतिष<unk>ठावाले.', 'बुएनावेंतुरा.', 'डेक<unk>नन.', 'सेरीव.', 'पर<unk>ा.', 'इमिले.', 'शैली.', 'ईस<unk>टवाले.', 'छल<unk>ला.', 'लक<unk>ष<unk>यों.', 'होअफ.', 'जरररीह.', 'रह<unk>य.', 'महकने.', 'देवी.', 'निल<unk>सेन.', 'भिरा.', 'चबुतरे.', 'भूषण.', 'रुकते.', 'आमदानी.', 'तालक<unk>षाउ.', 'जुनागढ़.', 'पढ़ता.', 'ओढ़कर.', 'ब<unk>रोक.', 'तलाशा.', 'परिवारवाले.', 'ट<unk>रुब<unk>यूनल.', 'ब<unk>रॉक.', 'यल<unk>लाप<unk>पा.', 'तस<unk>वरों.', 'तुगलकी.', 'पिक.', 'सर<unk>क<unk>यूलेशन.', 'ज<unk>वर.', 'कनिन<unk>धम.', 'कुश.', 'प<unk>रोपरफेसबुक.', 'अश<unk>रफी.', 'चढ़ें.', 'वांगचुक.', 'होनेवेल.', 'राडीयमधर<unk>मी.', 'लढ़ेगे.', 'सचन.', 'अर<unk>थशास<unk>त<unk>रियों.', 'कैन<unk>टॉन.', 'आत<unk>ममुग<unk>ध.', 'पॉन<unk>टियक.', 'लोपेज.', 'घोंटना.', 'अंबननी.', 'मार<unk>यदाओं.', 'रतलाम.', 'हर<unk>क<unk>यूल<unk>स.', 'अकोला.', 'सक<unk>षण.', 'नोतबनदीशुदा.', 'लगवाती.', 'अलिवे.', 'जिवंत.', 'फोडा.', 'फतही.', 'नूबिया.', 'लालमननी.', 'फैसला.', 'कृत<unk>या.', 'धुआन.', 'अहुजा.', 'प<unk>रतिपालपुर.', 'नमकीन.', 'मंजिलें.', 'लफ<unk>ाजी.', 'जुराब.', 'फुलाई.', 'कास<unk>टलॉय.', 'ब<unk>लैक.', 'सूराज.', 'ब<unk>रॉन<unk>च.', 'अवर<unk>णता.', 'जोहरी.', 'टेवरी.', 'सैंडर<unk>स.', 'वेल<unk>डर.', 'एनीयू.', 'भरष<unk>टचारियों.', 'लालमणी.', 'खातेदार.', 'आज़माना.', 'आवृत<unk>तियों.', 'कुल<unk>लवी.', 'बहावलपुर.', 'प<unk>रथ<unk>मिकता.', 'मोबिले.', 'कतिहार.', 'स<unk>वेचा.', 'हामिदन.', 'समधा<unk>षणी.', 'द<unk>रिध.', 'गोंड.', 'विशेष.', 'काबिलेगौर.', 'लॉरेंसे.', 'हिशाम.', 'चौसिंगा.', 'पाफिन.', 'मते.', 'बॉइल<unk>डकॉन.', 'टीकों.', 'अथक.', 'जिन<unk>दगगी.', 'चायल.', 'माप.', 'लस<unk><unk>ट.', 'गाजरा.', 'रत<unk>रिचार.', 'काठला.', 'सहूलियता.', 'पत<unk>त<unk>नैक.', 'न<unk>यायलयीन.', 'मुख<unk>यमंत<unk>रियों.', 'जीतनेवालों.', 'स<unk>वफ<unk>ोटो.', 'क<unk>लिफ<unk>टन.', 'डोडा.', 'पेंडुलम.', 'चिपकने.', 'नलाकासा.', 'छा.', 'गोंड.', 'समीक<unk>षाकर<unk>ता.', 'मन<unk>त<unk>रिपाद.', 'लिबरेशन.', 'असमान<unk>य.', 'चुंगियों.', 'अरिका.', 'बलोट.', 'थिन.', 'फार<unk>मिक.', 'युद<unk>धक.', 'वेगस.', 'लस<unk>.', 'चित<unk>राशशी.', 'अवरान<unk>ता.', 'वास<unk>टिंग.', 'वितार<unk>क.', 'मुकबाले.', 'धर<unk>माूरवी.', 'अंबानी.', 'इबिजा.', 'महामेडिया.', 'सुल<unk>लों.', 'वर<unk>णित.', 'झुठलाने.', 'मदुराई.', 'कौंडल.', 'लपट<unk>टा.', 'क<unk>षिन.', 'तेवरी.', 'रायचुर.', 'लिंडों.', 'पुलामा.', 'ओलराउंडर.', 'गरीबों.', 'कैल<unk>हन.', 'वबाग.', 'कैपधारी.', 'अट<unk>.', 'बरेली.', 'जिंग.', 'जीवन.', 'रेड<unk>डी.', 'पहनी.', 'तानु.', 'दीपिका.', 'लोहाी.', 'कक<unk>कड़.', 'मौलवियों.', 'डुंगरपुर.', 'ज़लाना.', 'लक<unk>मे.', 'प<unk>रॉस<unk>पेक<unk>स.', 'वेस<unk>टिंघाउस.', 'बवारा.', 'ठक<unk>क<unk>र.', 'इच<unk>छाचारी.', 'त<unk>रिया.', 'ढवकों.', 'डमले.', 'श<unk>रवणाबेगालो.', 'निलकमल.', 'कर<unk>मचारी.', 'पूर<unk>वोत<unk>तर.', 'लहरायी.', 'हैटो.', 'प<unk>रकांध.', 'खेलमंत<unk>री.', 'भविष<unk>या.', 'इग<unk>मोर.', 'श<unk>रृंगर.', 'सौपेंगी.', 'क<unk>नॉक<unk>सविले.', 'बेन<unk>दर.', 'सुन<unk>दाराम.', 'प<unk>रदेश.', 'संवेदीकरण.', 'लागुना.', 'भिषम.', 'येम<unk>मिगानुर.', 'हुहतामकी.', 'वाडली.', 'गैईएल.', 'रसस.', 'सालाज़र.', 'डिफ<unk>थेरिया.', 'द<unk>राध.', 'शादाधि.', 'प<unk>रबोधिनी.', 'लोकप<unk>रतिनिधियों.', 'जतती.', 'मंगला.', 'बेरविन.', 'मुम.', 'उदयगा़ी.', 'अकापुलको.', 'वैध<unk>रुती.', 'चरणबद<unk>ध.', 'मण<unk>डाड़ी.', 'युक<unk>लिड.', 'पारमपरिितता.', 'हफ़ते.', 'सािया.', 'संघियता.', 'मुख<unk>यातिथियों.', 'व<unk>यवस<unk>थविरोधी.', 'रक<unk>तदाताओं.', 'बारामादे.', 'तरुतल.', 'कुट<unk>ता.', 'झाड़ा.', 'किशुन.', 'शैफफ<unk>लर.', 'अमरोही.', 'रेयिडल.', 'जेन<unk>नर.', 'वर<unk>षिया.', 'हसिनो.', 'शावकों.', 'रूपा.', 'स<unk>वार<unk>थपरक.', 'वेरोनिका.', 'वेब<unk>ब.', 'महापत<unk>र.', 'चेंकें.', 'आग<unk>रा.', 'जियांगको.', 'वेस<unk>टवर<unk>क.', 'जननगनना.', 'पैस<unk>को.', 'जाधव.', 'एंटरप<unk>राइस.', 'संशायों.', 'वर<unk>णव<unk>ववस<unk>थावादियों.', 'उपस<unk>थियों.', 'मुदीचु.', 'पर<unk>णस<unk>तारों.', 'आईए.', 'बैला.', 'लिवाल.', 'हिल<unk>सबोरो.', 'राष<unk>ट<unk>रियाध<unk>यक<unk>षा.', 'पीडबल<unk>यूती.', 'थाउसंद.', 'शाकिर.', 'सलहकार.', 'विश<unk>वाकर<unk>मा.', 'रिज.', 'स<unk>वास<unk>थ<unk>यहीनता.', 'रिश<unk>वतखोर.', 'प<unk>राविंसेस.', 'दफ<unk>तरवाले.', 'फिजिशियन.', 'एलओजी.', 'जोधिका.', 'सेवला.', 'दूबत.', 'सिपाह.', 'भरममा.', 'प<unk>रतिज<unk>ञा.', 'मेघवाल.', 'नन<unk>दोई.', 'औरोरा.', 'फारमुले.', 'दुर<unk>घ<unk><unk>ना.', 'स<unk>वतंतं<unk>रसिंह.', 'मॉन<unk>टरीय.', 'बालती.', 'कोलम<unk>बिया.', 'विटिटर.', 'डुक<unk>के.', 'कबॉक.', 'चमकना.', 'शीलभाग.', 'बिस<unk>तागोंड.', 'फिंडले.', 'बापा.', 'डेहरा.', 'एआईएसई.', 'श<unk>रानखाला.', 'हस<unk>ताक<unk>षरों.', 'तिरुपति.', 'मंगलमूर<unk>तिः.', 'कुरसियों.', 'मिठाइयां.', 'पहनो.', 'हेलेबिड.', 'बंग<unk>श.', 'ऑफिशियली.', 'सेवाई.', 'गुरजजर.', 'समानवायका.', 'पार<unk>नेल.', 'सुनसन.', 'कुसेक<unk>स.', 'मध<unk>य.', 'युध<unk>रत.', 'अरबंदले.', 'ब<unk>रिग<unk>स.', 'इररर.', 'चिखली.', 'वाँ.', 'अधिकारियां.', 'रोनोके.', 'हाओकिप.', 'पूर<unk>वपेक<unk>षाओं.', 'मशीनावत.', 'कडमो.', 'कुरामी.', 'विद<unk>याथ<unk>यों.', 'सिम<unk>तता.', 'सांगरुर.', 'स<unk>ट<unk>रॉन<unk>ग<unk>सविले.', 'अगवाई.', 'जंगनन.', 'नागराज.', 'यरियाँ.', 'भाग<unk>ेश<unk>वर.', 'जिवती.', 'सुखोोरों.', 'रुकवाकर.', 'ब<unk>रह<unk>मवर<unk>ता.', 'ग<unk>रे.', 'भ<unk>रान<unk>ति.', 'पुरूषोत<unk>तममापुर.', 'तेजी.', 'स<unk>वातन.', 'मन<unk>तरिमण<unk>डलिय.', 'अश<unk>ले.', 'मठेव<unk>स.', 'मूलों.', 'अक<unk>जो.', 'हमिरपुर.', 'पोखरियाल.', 'बोलतीन.', 'प<unk>रतिष<unk>ठववले.', 'दबंगता.', 'धुरिया.', 'टीअप.', 'गज़ी.', 'इजाजत.', 'मेजबानी.', 'टोलेडो.', 'मोहधा.', 'पुटली.', 'संचारी.', 'तापनी.', 'लिटल.', 'नरनारी.', 'धनिये.', 'गढूंगा.', 'फाड़ी.', 'गम<unk>मत.', 'ट<unk>युरक<unk>यूलोसिस.', 'नारजुना.', 'राजनीची.', 'मेडिजेंसर.', 'लफ<unk>फाजी.', 'कॉमर<unk>स.', 'माथलू.', 'चातागांव.', 'हिलिग.', 'इसनपेक<unk>टर.', 'टेस<unk>टिंग.', 'नौशाद.', 'फाल<unk>जुा.', 'पिक.', 'जीवान.', 'काटल.', 'डब<unk>ल<unk>यूइफ.', 'बेसिल.', 'स<unk>लाइडन.', 'सैंदन.', 'जररेमी.', 'गाँव.', 'टोडेंगे.', 'उदान.', 'सप<unk>त<unk>रान<unk>ति.', 'मिरंदा.', 'व<unk>यापक.', 'मैडी.', 'सभासदों.', 'नौवाहन.', 'अतमैन.', 'रोसा.', 'दमाए.', 'मिडवेस<unk>ट.', 'त<unk>रेलाराह.', 'मार<unk>लबोरोग.', 'वाको.', 'विमार<unk>शन.', 'खन<unk>न.', 'डिफारार<unk>ड.', 'सरसा.', 'हेस<unk>टर.', 'उत<unk>तर.', 'कसेरा.', 'कुराने.', 'दायतवों.', 'चयननितों.', 'मोरेल<unk>स.', 'हिरॉस.', 'प<unk>रेममूलक.', 'मोरन.', 'जाइदस.', 'नेल<unk>सन.', 'अमरपाल.', 'फत<unk>ने.', 'टिंका.', 'गायिकाओ.', 'पकायें.', 'भ<unk>रष<unk>टाचारियों.', 'चलित.', 'एएफीएल.', 'मॉड.', 'रजनितिकारों.', 'अर<unk>थों.', 'गालिगलौज.', 'अन<unk>योन<unk>यश<unk>रितता.', 'उदाया.', 'कुटलरी.', 'प<unk>रतिबन<unk>धह.', 'नीलाभ.', 'बिलाई.', 'खुल<unk>लममुख<unk>ला.', 'स<unk>वानसन.', 'अनवाहार<unk>य.', 'रेवारी.', 'सहकलाकर.', 'चैम<unk>शियशशिप.', 'भड़काया.', 'नामधारी.', 'अल<unk>बा.', 'वतनुकूल<unk>लन.', 'खातधारक.', 'टेक<unk>सास.', 'स<unk>पेशियल.', 'हरवांश.', 'दिनु.', 'शानवर.', 'डी.', 'दाबी.', 'नहिनकरवाई.', 'मारवाद.', 'पीडियों.', 'ब<unk>रिग<unk>टन.', 'मनाय.', 'लिगर.', 'दिलागा.', 'आधिन.', 'परवा.', 'हेम<unk>प<unk><unk>टेड.', 'ममूूली.', 'प<unk>रदेशिका.', 'वेरिफिकेशन.', 'फेफाडा.', 'विसंगतिया.', 'कच<unk>छे.', 'घोस<unk>ट.', 'पिपली.', 'लोवासा.', 'हेल<unk>पर.', 'डूबनेवाले.', 'बख<unk>शने.', 'इन<unk><unk>रियोंके.', 'बरहाड़.', 'रिसाली.', 'कक<unk>षीवती.', 'विश<unk>वरक<unk>त.', 'लोड़ी.', 'पीच<unk>ट<unk>री.', 'घुमक<unk>डकों.', 'औझा.', 'इलाज.', 'अरुनाई.', 'अयोध<unk>येनाथ.', 'भौतिकवाडियों.', 'रोकेट.', 'न<unk>रोकेमिस<unk>ट<unk>री.', 'कॉल<unk>डवेल.', 'आवाज़ें.', 'मूल.', 'मल<unk>टिप<unk>लेक<unk>सन.', 'त<unk>योयहर.', 'रोटेशन.', 'बेलाचा.', 'सहकलाकर.', 'जदित.', 'नगारा.', 'बरपाया.', 'डूंगरपुर.', 'लैं<unk>ड.', 'उच<unk>छर<unk>नलाता.', 'फैलैया.', 'सुची.', 'नून.', 'आरपी.', 'शिल<unk>ड.', 'पालनपुर.', 'इलेक<unk>ट<unk>रॉस<unk>टील.', 'ओब<unk>स<unk>क<unk>रु.', 'सिग<unk>रेटन.', 'दिखाई.', 'रसेल.', 'नज़रन<unk>दाज़.', 'कुलामंपूर.', 'अस<unk>टिन.', 'रेएक<unk>रस.', 'टीएसएनएस.', 'स<unk>वायत<unk>त<unk>षससन.', 'मूद.', 'दौलताबाद.', 'भुलता.', 'प<unk>रतिकारा.', 'निज<unk>ट<unk>स.', 'नकम.', 'शुट<unk>टिंग.', 'राष<unk><unk><unk>र.', 'बेचकर.', 'स<unk>टोन.', 'वा<unk>ध.', 'दीडब<unk>लयुती.', 'देसबाठुला.', 'बापा.', 'बागबान.', 'आदेशाह.', 'उडेलकर.', 'तारोको.', 'याद<unk>दश<unk>ष.', 'इन<unk>हालेशन.', 'सफ<unk>रादगंज.', 'रूपक.', 'स<unk>क<unk>रैन<unk>टन.', 'वर<unk>णव<unk>यवस<unk>थावादियों.', 'शिक<unk>षकर<unk>मियों.', 'खांडेलवाल.', 'बेवेरेजेस.', 'पिडिया.', 'नादफ.', 'जहे.', 'ढहाएंगे.', 'मस<unk>तमौला.', 'अगरताला.', 'जमाया.', 'पर<unk>देसी.', 'अर<unk>य.', 'वेलवेट.', 'आपदाईं.', 'आगशे.', 'अच<unk>छी.', 'उद<unk>घोष.', 'स<unk>वभवातः.', 'बनी.', 'रायकर.', 'पिडिलाइट.', 'दुअल.', 'भीरा.', 'सिल<unk>वा.', 'अधिकरण.', 'रंगकता.', 'श<unk>रीचक<unk>र.', 'गोवमुत<unk>र.', 'निचला.', 'बुरहनपुर.', 'सहूलियता.', 'लब<unk>ध.', 'पूले.', 'स<unk>ट<unk>रेशन.', 'पिकिंग.', 'ओडितार.', 'डिनियार.', 'अजित.', 'लैंगडों.', 'अवशिस<unk>त.', 'झा<unk>.', 'प<unk>रशास<unk>निक.', 'बॉसियर.', 'बढ़चाधाकर.', 'गिरीडीह.', 'भुज.', 'रीडिंग.', 'फ़ाारे.', 'अदवैत.', 'रुकते.', 'आनोंदिता.', 'फोनटना.', 'न<unk>यूत<unk>रियो.', 'पैलोटॉन.', 'जदें.', 'बोरीवाली.', 'इलाईची.', 'एलिएंस.', 'धम<unk>मा.', 'नहरगढ़.', 'एनएसयययू.', 'सपात.', 'लेंगदान.', 'पनामा.', 'पुटल.', 'आसापास.', 'अलवाधी.', 'मुफलिसी.', 'संसठान.', 'दर<unk>शनार<unk>ी.', 'लोकोत<unk>सव.', 'ग<unk>राहकोनने.', 'उच<unk>चाधिकारियों.', 'भव.', 'रेजा.', 'मोथर<unk>सन.', 'कुप<unk>लैक<unk>स.', 'आबुरोड.', 'हेइडलबर<unk>गसियट.', 'चिमाती.', 'सरफैक<unk>टेंट<unk>स.', 'मिताओ.', 'कैलना.', 'टनकर.', 'ओढ़कर.', 'मर<unk>ता.', 'मेगवाल.', 'रस<unk>यनिक.', 'सूचनाह.', 'सुगामता.', 'जॉकी.', 'मुनाफ.', 'निस<unk>वर<unk>थ.', 'क<unk>षेत<unk>रद<unk>वारा.', 'महावर.', 'बुल<unk>धना.', 'धमकता.', 'भुस<unk>वामी.', 'विज<unk>ञान.', 'क<unk>वेट.', 'बेवकुफनना.', 'जजमौ.', 'बेल<unk>ट<unk>रन.', 'विलास.', 'मखदुमपुर.', 'कोलोराडो.', 'ब<unk>लैकबर<unk>ण.', 'सुनिती.', 'घिग<unk>घी.', 'फ<unk>लावोनोइड<unk>स.', 'चाहुनमुखी.', 'सुपाच<unk>ये.', 'सिरती.', 'विष<unk>णु.', 'चौदहववन.', 'चौधारी.', 'आब<unk>रु.', 'बालूरक.', 'दावंगेरे.', 'अनुरित.', 'शिप<unk>पिंग.', 'पतियाला.', 'जानम.', 'फिनेशश.', 'डमा.', 'पोलिसी.', 'आईसीसी.', 'कुछ<unk>छ.', 'चीखना.', 'रिलियंस.', 'ऊर<unk>वरकों.', 'रवेल.', 'लढ़कियों.', 'मुकेश<unk>वरी.', 'वानक<unk>षेत<unk>र.', 'उम<unk>मीडे.', 'कहावः.', 'कानतिपूर<unk>ण.', 'बदाएं.', 'इंसीयार<unk>डब<unk>यूसी.', 'प<unk>रतिबद<unk>धता.', 'फॉलो.', 'सेवामुक<unk>त.', 'एवनस<unk>तोन.', 'चरस.', 'हिल<unk>स.', 'रॉबर<unk>टसन.', 'भदौरिया.', 'ग<unk>लैक<unk>सोस<unk>थिक<unk>लिनान.', 'प<unk>रोडक<unk>टन.', 'गुवारा.', 'विज<unk>ञानों.', 'जरविस.', 'लफ<unk>फ<unk>ज़.', 'फॉन<unk>ट.', 'पराधीन.', 'शक.', 'गणझू.', 'डीआईटी.', 'डेप<unk><unk>तियों.', 'माधिखेधा.', 'प<unk>रतिष<unk>ठानों.', 'सूंद.', 'गिन<unk>टे.', 'अलागलग.', 'स<unk>वस<unk>तिककार.', 'प<unk>रतिकरा.', 'आस<unk>तिक.', 'निवेशकर<unk>ता.', 'सवल.', 'संस<unk>कृतियां.', 'रौबदार.', 'रघुरम.', 'इंतरव<unk>यु.', 'छरहरी.', 'सॉयरर.', 'भससापा.', 'ज<unk>वारों.', 'संस<unk>थिता.', 'पार<unk>श<unk>दों.', 'पुलात<unk>सकर.', 'उठाएंगे.', 'लैंगी.', 'ओईफ.', 'वालसाद.', 'मुलों.', 'पुतलियां.', 'ष<unk>मिल.', 'रिज<unk>स.', 'कमारिलो.', 'सफ<unk>लता.', 'विनाष<unk>ट.', 'केपिंग.', 'जयललिथा.', 'आईटीईएमएस.', 'सॉस<unk>कर.', 'एस<unk>फल<unk>ट.', 'मेहरोत<unk>रा.', 'चुने.', 'ज़रख.', 'मेजबानी.', 'मुफ<unk>लिसी.', 'लुना.', 'वर<unk>णव<unk>यवस<unk>थावादियों.', 'लिपाई.', 'उठनी.', 'बजज.', 'हिसारह.', 'दम<unk>पतियों.', 'वाट<unk>सन.', 'ऑगस<unk>टुस<unk>टाइन.', 'पताक<unk>षेप.', 'ढांधेखोरी.', 'उभरेगा.', 'अंटोन.', 'अपरदर<unk>शी.', 'निहलानी.', 'तिवोली.', 'हॉगिस.', 'विंटर.', 'बदलवाकर.', 'घुमाई.', 'पेतालुमा.', 'बीम<unk>डब<unk>लयूम.', 'बख<unk>शते.', 'संवेदीकरण.', 'टेलों.', 'घुम<unk>मकड़ों.', 'हाँफते.', 'फरहीन.', 'जेम<unk>स.', 'किरतपुर.', 'रेडिंग.', 'शक़.', 'सरप<unk>राइज.', 'किसनों.', 'चलेंगे.', 'योडर.', 'स<unk>टेन.', 'पैथेलोजिस<unk>ट.', 'लेबेलिंग.', 'इक<unk>ठियोसिस.', 'लिबरेशन.', 'फूढ़ों.', 'ननहें.', 'भदौरिया.', 'जटिला.', 'पहुंचनी.', 'राष<unk>ट<unk>रों.', 'ब<unk>लॉसम.', 'टण<unk>डों.', 'गडबड़बड़ी.', 'सनस<unk>थिता.', 'यत<unk>राएं.', 'आदन.', 'जवते.', 'नियुत<unk>तियों.', 'भिष<unk>म.', 'हुंडिया.', 'मुर<unk>ीपालन.', 'मालेकर.', 'लोवेलैंड.', 'मावे.', 'विक<unk>रम.', 'हेनफफे.', 'बैरकैकपोर.', 'गाज़िबाद.', 'तारकों.', 'एसपीएफ.', 'आर<unk>टेमिस.', 'एआईपीपी.', 'जयबन.', 'गैरैरादतन.', 'विवेकाधिन.', 'सबाजूनियार.', 'फलिया.', 'प<unk>रेक<unk>षकगणों.', 'पुर<unk>वासियों.', 'विपन<unk>नता.', 'मांगा.', 'आर<unk>डेनेस.', 'प<unk>राधन.', 'अभियुक<unk>तोंके.', 'विरतखंड.', 'हिजबुल.', 'विद<unk>याओं.', 'मंजू.', 'छविन<unk>द<unk>र.', 'छूपकर.', 'डोरंदा.', 'सेम.', 'मिठाइयाँ.', 'जीवविज<unk>ञानियों.', 'पष<unk>टुआन.', 'ब<unk>रह<unk>राचारीनी.', 'जेरुसलेम.', 'एल<unk>टामोन<unk>टे.', 'सिहुनता.', 'हेमवाती.', 'कोषाधिकारी.', 'आशंका.', 'बीन.', 'वैज<unk>ञानिकता.', 'झीलों.', 'रोबार<unk>टो.', 'श<unk>रीरामपुर.', 'मांचिया.', 'वसूलता.', 'मोरिसन.', 'म<unk>हग<unk>रंथ.', 'ट<unk>रासिस<unk>टर.', 'सर<unk>ज<unk>तातिय.', 'पतोत<unk>सव.', 'हौकी.', 'मेडिथसन.', 'उदाना.', 'सरायममोहौद<unk>दीनपुर.', 'पीटर<unk>सबर<unk>ग.', 'राजकाठा.', 'डिया.', 'मोहिन<unk>दर.', 'मस<unk>तेक.', 'निरबाध.', 'ऐहसास.', 'अवृतियों.', 'एशियावन.', 'ठकी.', 'टर<unk>बिन.', 'दिमाक.', 'जोढपुर.', 'दुर<unk>धरा.', 'खास<unk>तौर.', 'मकरानी.', 'हिघ.', 'फतही.', 'मरिया.', 'गेएव.', 'पेण<unk>डुलम.', 'आविषकार.', 'नतिजेह.', 'जेफर<unk>सननविले.', 'ब<unk>रह<unk>मसिद<unk>धि.', 'तुलशीदास.', 'रीता.', 'चर<unk>चामंच.', 'प<unk>रतिकारा.', 'तर<unk>कवाड.', 'डबंगों.', 'हिचकीचा.', 'शीर<unk>षकों.', 'डाम.', 'ड<unk>वियर<unk>थी.', 'जवाबाह.', 'बहुमान.', 'जांचकरता.', 'वं<unk>दमातरम.', 'शॉल<unk>ड.', 'एसीएसटीए.', 'नेउ.', 'दस<unk>तखत<unk>शुदा.', 'सूरीनामा.', 'किंगखान.', 'तरस.', 'रिकननेक<unk>टिंग.', 'फैब<unk>रिक.', 'क<unk>लेयर.', 'छेजत.', 'मोमिनाटोला.', 'विरोध.', 'अरेना.', 'उनिओनवाड़ी.', 'बामलेश<unk>वरी.', 'बोसा.', 'इम<unk>माच<unk>रिटी.', 'संस<unk>थान.', 'जिन.', 'दादरेवा.', 'काइडे.', 'करवानो.', 'पुटिन.', 'टनकार.', 'खटकती.', 'जडड<unk>ड.', 'पुष<unk>पा.', 'जीएम.', 'युसुगी.', 'कोरोला.', 'प<unk>याडे.', 'करवायेगी.', 'बलातकारियों.', 'जतती.', 'गुर<unk>दसपुर.', 'श<unk>रेष<unk>ठस<unk>वरूप.', 'शुभप<unk>रभा.', 'यूरोप<unk>लास<unk>ट.', 'राष<unk>ट<unk>रभक<unk>तों.', 'कैंटरबारी.', 'कम<unk>यूनिकेटर<unk>स.', 'महमंच.', 'कॉनवे.', 'डीएफएफ.', 'रीवेस.', 'दभोई.', 'भूतल.', 'इंसानो.', 'इमिली.', 'विज<unk>ञानम.', 'सपते.', 'अत<unk>वाल.', 'हिंदन.', 'औफिसरी.', 'मान<unk>टक<unk>लेयर.', 'पुर<unk>णस<unk>वीकृत.', 'रिचार<unk>डसस.', 'संद<unk>रभ.', 'फार<unk>गो.', 'अलीम.', 'सप<unk>तक<unk>रान<unk>ति.', 'एचरी.', 'इमानदारी.', 'कॉन<unk>ट<unk>रेक<unk>टिंग.', 'गंगाजल.', 'गौर.', 'अधिकारियों.', 'बंधन.', 'सेंधा.', 'डबल<unk>यूपिडी.', 'ग<unk>राविटा.', 'लिनकॉल.', 'प<unk>रवृत<unk>तिविज<unk>ञानों.', 'सीमेंटेशन.', 'बगगड़.', 'जेंट<unk>री.', 'डेट<unk>सन.', 'मोन<unk>टेबोलो.', 'रेनीवेबल<unk>स.', 'नकसालवाड.', 'एत<unk>राज.', 'इतिभाग<unk>वती.', 'निवेशकर<unk>ता.', 'पटकथाएं.', 'काबिलेतारिफ.', 'भाड़स.', 'भोगते.', 'हॉल<unk>डिंग.', 'धट<unk>ता.', 'ढोरों.', 'उपख<unk>यनों.', 'फेयेटेविले.', 'स<unk>टॉक<unk>टन.', 'ब<unk>रिजेश.', 'प<unk>रतिज<unk>ञा.', 'बढ़ाती.', 'थेन.', 'थोमस.', 'ध<unk>येवाड़ी.', 'टुस<unk>डे.', 'वूजीपीएल.', 'ओवुम.', 'गती.', 'न<unk>यूक<unk>लियस.', 'क<unk>रार.', 'पुरूषोत<unk>तमाचार<unk>य.', 'माचंदा.', 'लहसुन.', 'नक़ाब.', 'सुजा.', 'मैकेंजी.', 'पुर<unk>जन.', 'बहुंत.', 'ब<unk>रेवो.', 'अमानत.', 'झुठला.', 'बुश.', 'चौखते.', 'अपर.', 'एस<unk>थेटिक.', 'क<unk>षेत<unk>रद<unk>वारा.', 'सज<unk>ज.', 'धहाने.', 'नाियालयुक<unk>त.', 'जीयलस.', 'कुरसियो.', 'सिंघाड़े.', 'अमय.', 'अन<unk>तरमुख.', 'ठक<unk>कर.', 'बडबोलेपन.', 'नक<unk>सलियों.', 'मैननर.', 'हिमाली.', 'नक<unk>सलवाद.', 'हेल<unk>फ.', 'महाधर<unk>माध<unk>यक<unk>षा.', 'पर<unk>माजूड.', 'टिप<unk>पणिकर.', 'पेरेल<unk>स.', 'भपपी.', 'बीताने.', 'वालवे.', 'द<unk>विरुक<unk>त.', 'एड<unk>डी.', 'जिवनियां.', 'पंघल.', 'खण<unk>ड.', 'ऊरवरकों.', 'बेसिन.', 'गिरिवासियों.', 'पराधिन.', 'पुखता.', 'अचनेरा.', 'कार<unk>सन.', 'डेल<unk>टा.', 'त<unk>रिपुरा.', 'अलयमनी.', 'खेड़ा.', 'नहरगढ़.', 'शालिमार.', 'इम<unk>माइच<unk>योरि.', 'एलेंड<unk>ट.', 'प<unk>रोपर<unk>फेसबकुक.', 'उदानों.', 'म<unk>जाजन.', 'मोसेस.', 'बतायाकी.', 'अलाई.', 'इलेक<unk>ट<unk>रोमीटर.', 'अमोद.', 'रूकेंगे.', 'मारिया.', 'रागों.', 'एआईपीफ.', 'फलितार<unk>था.', 'सुपाची.', 'अवशिस<unk>त.', 'इशात.', 'रते.', 'आता.', 'महालों.', 'वरिष<unk>ठों.', 'जलापोट.', 'कत<unk>रिना.', 'जिस<unk>मफरोशी.', 'सेलरी.', 'राजा.', 'रेक<unk>टेर.', 'बसिल.', 'बढ़ाता.', 'चरणबद<unk>ध.', 'भाड़कया.', 'साहित<unk>योत<unk>सव.', 'नरसीपुरा.', 'समझूंगा.', 'चन<unk>द<unk>रापुर.', 'सरका.', 'ढाह.', 'प<unk>रौध.', 'अहितकारी.', 'दरावनी.', 'बेलिन<unk>दा.', 'आलायमनी.', 'दत<unk>सुन.', 'एटी.', 'फास<unk>टरनर<unk>स.', 'बंग<unk>रावला.', 'सैरा.', 'अट<unk>ठस.', 'निर<unk>दल.', 'महबुबनगर.', 'दरते.', 'वालक<unk>कन.', 'खस<unk>तौर.', 'बरसाई.', 'आनंद<unk>ायक.', 'बनबी.', 'तोह.', 'अस<unk>मन<unk>ये.', 'विपन<unk>नता.', 'स<unk>पास<unk>ट.', 'अमजेरा.', 'बेचकर.', 'घटबबढ़.', 'कौशलता.', 'माचिन.', 'वायरेेस.', 'फें<unk>न.', 'गानो.', 'खम<unk>भत.', 'क<unk>यूअूपीस.', 'डबलिन.', 'एमटीए.', 'समरुद<unk>धियों.', 'राधक<unk>रुष<unk>णदास.', 'कांस<unk>टिंग.', 'इडुक<unk>की.', 'इंडस<unk>ट<unk>रियल.', 'भारतवंशी.', 'माँगी.', 'रोबिन<unk>स.', 'व<unk>लैडिमिर.', 'पेहोवा.', 'बाग.', 'उम<unk>मिदवारी.', 'साफगोई.', 'कूट<unk>ता.', 'आदान.', 'ग<unk>रेनाइट.', 'उस<unk>तरा.', 'ढूंढता.', 'संघीयता.', 'कुमारी.', 'देप<unk>थिरिया.', 'अडचने.', 'कोरियाह.', 'प<unk>रापत.', 'छुड़वाया.', 'सुइयां.', 'वेरोनिका.', 'शैफफ<unk>लर.', 'ज<unk>याड़ा.', 'पॉटर.', 'मेडिया.', 'यरुषालेम.', 'पिचडे.', 'लेतासेंग.', 'अर<unk>थव<unk>यवस<unk>थताओं.', 'काकू.', 'निर<unk>देशिका.', 'सेटो.', 'नवते.', 'संवेदनशीलता.', 'रोडरेज.', 'छहों.', 'लफ<unk>ज.', 'वं<unk>शवाद.', 'रोहतक.', 'अतकता.', 'बावरा.', 'क<unk>रीबारभ.', 'प<unk>रकाशाकह.', 'स<unk>टाइरोल<unk>यूशन.', 'अपारदर<unk>शी.', 'बेंगालूरू.', 'अंधापन.', 'मैनन.', 'क<unk>याह.', 'फ़ॉर<unk>मुले.', 'हमलावर.', 'अमावस<unk>य.', 'पूर<unk>वपेक<unk>षाओं.', 'दैशवाला.', 'ओकलाहोमा.', 'दरमैत.', 'सहकलाकर.', 'फत<unk>मा.', 'खलाती.', 'दयित<unk>व.', 'क<unk>यूसैक<unk>स.', 'तोलाकर<unk>मी.', 'वर<unk>शन.', 'परिसमवाद.', 'इम<unk>ुुने.', 'बचती.', 'यूटिलिटीज.', 'मलमास.', 'कैडमियम.', 'एंटियोच.', 'खतेदार.', 'मोहिनी.', 'विश<unk>वस<unk>नियता.', 'रहमन.', 'कैबबोन.', 'आर<unk>ििका.', 'मेरेज.', 'छींक.', 'फलाता.', 'बागोरा.', 'पकौडे.', 'लुसी.', 'फतेहगढ़.', 'ग<unk>रहणनकाल.', 'जॉब<unk>स.', 'सदानन<unk>द.', 'डुत<unk>त.', 'मुर<unk>ीपलन.', 'लुरहहते.', 'पाल<unk>मोनारी.', 'विन.', 'उभारा.', 'बीकेके.', 'पदरौौना.', 'बंढ़ते.', 'कपूर.', 'सेवाला.', 'वर<unk>शन.', 'चिढ़ते.', 'ठने.', 'निकालोगी.', 'मोगाली.', 'ड<unk>रेडर.', 'नागरिक.', 'गजजीपुर.', 'वडक.', 'मिचेल.', 'ज<unk>ञात<unk>वी.', 'स<unk>तनधारी.', 'धोराजी.', 'अब<unk>दुन<unk>नासिर.', 'विश<unk>व<unk>ध<unk>ध<unk>य.', 'सत<unk>यार<unk>थप<unk>रकाश.', 'शिवामोग<unk>गा.', 'घुमक<unk>कडी.', 'गयें.', 'ची.', 'थीएटरों.', 'अनाधिकारिक.', 'शासक.', 'हेन<unk>स.', 'बेट<unk>तियह.', 'धतना.', 'रहमत.', 'मोतिहारी.', 'पीर<unk>सन.', 'अजबैक.', 'व<unk>हीलिंग.', 'पाइथोगरस.', 'विप<unk>रो.', 'काबिलेतारीफ.', 'जमाते.', 'पुलाम.', 'दौबारा.', 'पोर<unk>टिलो.', 'अधिक.', 'धुम<unk>रपान.', 'दाम<unk>पत<unk>य.', 'जामुडिया.', 'पीडू.', 'पिप<unk>रा.', 'ब<unk>लेयर.', 'कम<unk>यूनिकेशंस.', 'अलययंस.', 'अरदद.', 'गुडना.', 'जस<unk>ट.', 'आवजों.', 'बेनवर.', 'अमारिलो.', 'ब<unk>रमहान<unk>द.', 'दिखई.', 'तैन<unk>त<unk>रो.', 'आसन.', 'तुग<unk>लाकाबाद.', 'सुट<unk>तों.', 'कैंड<unk>रौर.', 'खन<unk>ना.', 'निकलनी.', 'डिबानू.', 'इम<unk>मायरयरिटी.', 'तोलासन.', 'जानाकरी.', 'लिवाल.', 'इंजेलाइन.', 'रुषिता.', 'फ़लिंट.', 'वृष<unk>चिकहससस<unk>पा<unk>तः.', 'आस<unk>तती.', 'गिरकर.', 'वैज<unk>ञानिक.', 'बिषधी.', 'फूलती.', 'पुनःस<unk>थापन.', 'बढ़.', 'गंधा.', 'चक<unk>षु.', 'मिक<unk>ताम.', 'लिइदारों.', 'ज़बरदस<unk>त.', 'स<unk>तुटी.', 'औरतो.', 'हेबलिकर.', 'रत<unk>तेबाजी.', 'फ<unk>रेंसिसा.', 'मुम<unk>बा.', 'प<unk>रतियुक<unk>ति.', 'दरती.', 'प<unk>रणों.', 'माडिसन.', 'निभाईगी.', 'मायर<unk>स.', 'कश<unk>यप<unk>.', 'ब<unk>रिगडियर.', 'अंबिकाओं.', 'होगाह.', 'इशाक.', 'सुमी.', 'देश<unk>भक<unk>तिमय.', 'धर<unk>मपत<unk>रियां.', 'कृष<unk>णनगर.', 'ईए.', 'आयुधनिर<unk>मानी.', 'ताजा.', 'अजसरा.', 'फिजुलखर<unk>ची.', 'मन<unk>त<unk>रयों.', 'तान<unk>ता.', 'डीलरशिप.', 'चेपेल.', 'ध<unk>वनिमिकों.', 'एडुकेशन.', 'जरख.', 'नीत.', 'जिलवासियों.', 'सम<unk><unk><unk><unk>भभतु.', 'कसेगा.', 'पकनेवाला.', 'दीपन.', 'कलसाना.', 'मुगालता.', 'टोकने.', 'फलिभूत.', 'ग<unk>योंथ.', 'दिखाई.', 'शामजीभाई.', 'पहनाकर.', 'किसानी.', 'उधारदाताओं.', 'रामतेक.', 'व<unk>याख<unk>यात<unk>मका.', 'सोमवार.', 'विस<unk>ता.', 'पॉलिमर.', 'रक<unk>ताभ.', 'भुगता.', 'भ<unk>रष<unk>टचररियों.', 'खातकति.', 'मुख<unk>यमंत<unk>रियों.', 'मैड.', 'कक<unk>षांग.', 'जैन.', 'महिन.', 'सुरवाना.', 'बाँगरोतिया.', 'रसायनिक.', 'औरोरा.', 'चममागिरी.', 'एनसीआरएसी.', 'एंठे.', 'एसेल.', 'देशसेवा.', 'इलेक<unk>ट<unk>रोटेक<unk>स.', 'वोर<unk>कार<unk>ग.', 'कारवाई.', 'झंकता.', 'अर<unk>जेंट.', 'सप<unk>रमण.', 'मौर<unk>य.', 'जिनी.', 'जगददीशशंद<unk>र.', 'असुरक<unk>षित.', 'काव<unk>योक<unk>तियाँ.', 'अलनकार.', 'स<unk>वाद<unk><unk>रेमियों.', 'जातक.', 'रॉलर<unk>स.', 'अशक<unk>तता.', 'काठियावडी.', 'आवृति.', 'विद<unk>यायें.', 'विधिवत.', 'राढ़े.', 'मुख<unk>यम<unk>त<unk>रिसवाद<unk>दाता.', 'प<unk>राणसंगलली.', 'कनलोग.', 'पुडुक<unk>कोट<unk>टई.', 'निकी.', 'फुहड़ता.', 'पाटाकेप.', 'रिट<unk>रीट.', 'मनोवैज<unk>ञानियों.', 'स<unk>तनाधारी.', 'मुख<unk>योपाध<unk>याय.', 'निरबाध.', 'तोडने.', 'अवुति.', 'परिक<unk>षणकर<unk>ताओं.', 'एक<unk>सटैक<unk>टर.', 'नशिक.', 'रसायनों.', 'वैत<unk>रवती.', 'ओग<unk>रनाइज.', 'चौसिंघा.', 'फलोड़ी.', 'स<unk>खलन.', 'पनामा.', 'निगर.', 'मोन<unk>ते.', 'सुनीति.', 'श<unk>रबों.', 'अंबिकाओं.', 'गुजारा.', 'फोटोफ<unk>रेम.', 'प<unk>रह<unk>लाद.', 'बीसवां.', 'द<unk>विवेदी.', 'देनेवाली.', 'बर<unk>लेसन.', 'भाराद<unk>वाज.', 'जताती.', 'मालेगांव.', 'रहुगान.', 'महामन<unk>त<unk>र.', 'बीस<unk>ट.', 'दिव<unk>यता.', 'संजीवन.', 'कुपोषित.', 'इक<unk>सक<unk>लेशन.', 'चढ़ेगा.', 'टेक<unk>सारकाना.', 'डुंगरपुर.', 'सराही.', 'लालापरी.', 'एरोनॉटिक<unk>स.', 'वार<unk>थ.', 'एस<unk>टीन.', 'स<unk>वप<unk>निका.', 'उपकार<unk>यालयों.', 'मिमिक<unk>री.', 'बल<unk>लाभ.', 'वेरिफिकेशन.', 'हैकेनसैक.', 'आकाष.', 'बोना.', 'क<unk>लॉक.', 'डफ़न.', 'पेगव.', 'कहलाया.', 'मधीखेध़ा.', 'तेलीबाग.', 'धारक.', 'निकालनी.', 'कांघे.', 'प<unk>रष<unk>नोत<unk>तरी.', 'ककिनाड़ा.', 'भाग<unk>योदय.', 'सिंगर.', 'मछाए.', 'लेखकगणों.', 'उछलने.', 'धर<unk>मराजने.', 'एंजल.', 'बंटता.', 'फार<unk>म.', 'रेवेल.', 'हनुमानगढ़.', 'वीरांगनाओं.', 'गयतत<unk>री.', 'वेंकटरमण.', 'डिबनू.', 'पुरूषोत<unk>तमाचार<unk>य.', 'सन<unk>योजकों.', 'झाऊगंज.', 'सरकरें.', 'न<unk>वेटेस<unk>ट.', 'श<unk>रीकर.', 'मिताओ.', 'दियोतसिद<unk>ध.', 'भूपसिंह.', 'चर<unk>चाएं.', 'प<unk>रसारकों.', 'निष<unk>पाप.', 'फ<unk>लिन.', 'रण<unk>नीतिबना.', 'ईअर<unk>जी.', 'ढागा.', 'गोमुख.', 'जुड.', 'खानिकर<unk>मी.', 'शरभ.', 'आरेलानो.', 'उखाधाकर.', 'लेनेवली.', 'कुमा.', 'सिंघडे.', 'टॉनसिल.', 'दविंदरपाल.', 'सिंगार.', 'खिसकते.', 'एनिद.', 'मेगापिक<unk>सल.', 'दिग<unk>विजय.', 'फज़लों.', 'डोगे.', 'लबबलों.', 'मुनाफा.', 'बढ़ने.', 'वर<unk>.', 'सातसेरा.', 'ओर<unk>टेगा.', 'रॉव.', 'भािया.', 'राजस<unk>थानवासियों.', 'बागबगीचों.', 'विलिंसन.', 'दराती.', 'अट<unk>के.', 'प<unk>रमुखतापूर<unk>वक.', 'यतना.', 'नितिन.', 'सिटी.', 'रैडिको.', 'दुकनों.', 'जलसंाधन.', 'मस<unk>वेन<unk>द<unk>रनाथ.', 'बहर.', 'बर<unk>शीय.', 'एवरयू.', 'दा<unk>व.', 'ना़ब.', 'सारेगामा.', 'हुगली.', 'सत<unk>ती.', 'नेग.', 'महाबलेश<unk>वर.', 'प<unk>लासेंशिया.', 'वरसाचे.', 'कुमाउ.', 'एएमआई.', 'थीएट<unk>र.', 'इरिका.', 'खिंचाकर.', 'रौबादर.', 'एल<unk>टो.', 'कव<unk>वविधाओं.', 'कून.', 'अकरों.', 'तहखाना.', 'समज<unk>जनों.', 'मछाए.', 'सूर<unk>यदेव.', 'प<unk>रथमिक.', 'प<unk>रवृत<unk>रियों.', 'ताजा.', 'जिवनशैली.', 'रक<unk>त<unk>ताताओं.', 'बलेश<unk>वर.', 'भौतिकवाडियों.', 'लगातीन.', 'झइयाँ.', 'वंशवाद.', 'नवननगर.', 'नाजरन<unk>दाज़.', 'अनशानकन.', 'फुंकने.', 'मतपत<unk>रों.', 'मोदुले.', 'फार<unk>म<unk>स.', 'पहुंचोगी.', 'मैदी.', 'थिएफ.', 'पफडॉड<unk>लर.', 'अमित.', 'पूर<unk>वभद<unk>रपाद.', 'लंदारा.', 'गोनपो.', 'वेसले.', 'शाओ.', 'हमीदान.', 'वीक<unk>स.', 'मिनेराल.', 'सेंटेनशयल.', 'बस<unk>तियो.', 'बगगगीचों.', 'प<unk>रणित.', 'भेड़ावों.', 'कराहना.', 'ग<unk>रीनविले.', 'शेरावत.', 'रालौउ.', 'जाकाों.', 'रिशते.', 'बेन<unk>टोनविले.', 'नजीबााद.', 'फाइनेंसियर<unk>स.', 'फटही.', 'केराला.', 'लड़ाइयों.', 'हररजन.', 'व<unk>हिटकर.', 'विदिशा.', 'पौल.', 'अर<unk>यों.', 'खिलाना.', 'छुतनने.', 'दुखियों.', 'पूर<unk>णेश<unk>वरी.', 'विसाबल.', 'दाराम<unk>यननी.', 'यारी.', 'विधमान.', 'यत<unk>राएं.', 'संटेक.', 'गुजराता.', 'नियानता.', 'डुम.', 'अवस<unk>थि.', 'प<unk>लस.', 'भें.', 'स<unk>टॉप<unk>स.', 'ढकेलते.', 'केपीओ.', 'दमघोंटु.', 'इंसानो.', 'मेरेज.', 'असफाल<unk>ट.', 'लांड<unk>री.', 'रत<unk>नाभूषण.', 'स<unk>की.', 'दुशवारियों.', 'अनुप<unk>र<unk>योगों.', 'देशसेवा.', 'लेला.', 'जगरागल<unk>लू.', 'मेजबानी.', 'डेहरी.', 'चक<unk>कर.', 'क<unk>राफोर<unk>ड.', 'गुडुरी.', 'डीवीसी.', 'प<unk>रक<unk>रियागत.', 'नाग.', 'मत<unk>स<unk>यवतर.', 'स<unk>कूटरों.', 'अर<unk>धविश<unk>वास.', 'दरम<unk>यानी.', 'सूरवना.', 'स<unk>थितियां.', 'धर<unk>मानन<unk>द.', 'सॉफनर.', 'स<unk>क<unk>वश.', 'विधनसभाएं.', 'रांडोल<unk>फ.', 'मेज़बान.', 'स<unk>प<unk>रिट.', 'शीलभंग.', 'कलमें.', 'स<unk>वर<unk>णिका.', 'मांदी.', 'अर<unk>थव<unk>यवस<unk>थताओं.', 'कुंडलिया.', 'निमकथना.', 'फार<unk>म.', 'हत<unk>यारोपित.', 'पुट<unk>ता.', 'फॉरेंसिस.', 'पुरूषोत<unk>तमाचार<unk>य.', 'बॉन<unk>ड<unk>स.', 'शिकायतकर<unk>ता.', 'क<unk>रॉनफ<unk>रेंसिंग.', 'उबाल.', 'बाबाओ.', 'हलमातपुरा.', 'हकीक़.', 'बरमान.', 'वर<unk>तमान.', 'बाँटिन.', 'अचनभा.', 'जीवनपर<unk>यंत.', 'वाारा.', 'सदाकें.', 'एआईसीए.', 'ज<unk>योतिश<unk>यशश<unk>त<unk>रों.', 'पाइथागोरस.', 'इंजेलिन.', 'कपोलकल<unk>पना.', 'द<unk>रोपाडियों.', 'रोजलिन.', 'श<unk>रीराम.', 'गोपालक.', 'बैंगबाधधु.', 'मिस<unk>ट<unk>रियां.', 'उसे.', 'मर<unk>काडो.', 'माइसोर.', 'ओफ<unk>शॉर.', 'कपूर<unk>थला.', 'सहोवलिया.', 'मलादहिया.', 'हायमेन.', 'इन<unk>दौरनगर.', 'विशेषा<unk>यताओं.', 'उसकी.', 'कैपलिन.', 'महाप<unk>रन.', 'रुपेश.', 'रेनो.', 'सुदीप<unk>तों.', 'स<unk>वामी.', 'अमरा.', 'व<unk>यवस<unk>थामूलक.', 'सेंसिंग.', 'टाललर.', 'संगरेड<unk>डी.', 'पहनो.', 'मारदानी.', 'बामलेश<unk>वरी.', 'दीवानी.', 'फिनकॉर<unk>प.', 'नवा.', 'शिमत.', 'सोहावल.', 'बनाम.', 'प<unk>रवरूत<unk>रियों.', 'काईंग.', 'वार<unk>स<unk>टेड.', 'राजों.', 'चीखना.', 'नैममल.', 'बढोत<unk>री.', 'एंटनी.', 'छन<unk>यासा.', 'निर<unk>देशिका.', 'निप<unk>तारा.', 'जुडने.', 'सुझती.', 'पैथलोजिस<unk>त.', 'टाइड.', 'श<unk>रुंगर.', 'ब<unk>रान<unk>डेस.', 'पर<unk>मेश<unk>वरपुर.', 'जेड़तीसाफ<unk>त.', 'उद<unk>धातन.', 'स<unk>टैन.', 'आदिवादियों.', 'जुलाहों.', 'महाराजा.', 'गतिशिलता.', 'शिप<unk>रा.', 'ट<unk>रिब<unk>यूनल.', 'खाइबर.', 'वनववभाग.', 'घटातोप.', 'धर<unk>माग<unk>रन<unk>थों.', 'प<unk>रवृत<unk>तियों.', 'गाँठ.', 'माइसोर.', 'सहगल.', 'नामकिन.', 'वैध.', 'वनस<unk>पतियां.', 'जिआंगकोउ.', 'पखनडी.', 'प<unk>रोटेक<unk>ट<unk>स.', 'एल<unk>बाइनो.', 'लिन<unk>डन.', 'सोहवल.', 'भूरभुरा.', 'गेस<unk>ट<unk>रोलॉजी.', 'विद<unk>रूप.', 'सजसज<unk>जा.', 'रात<unk>रिचार.', 'रोजना.', 'जलभ<unk>रव.', 'मांटगोमी.', 'सेव.', 'भ<unk>रस<unk>त<unk>राारारियों.', 'ड<unk>वन.', 'स<unk>त<unk>रेषण.', 'गंठे.', 'गेहलोट.', 'छतेनी.', 'विश<unk>वस<unk>निया.', 'जिवनियां.', 'दस<unk>तानें.', 'धोना.', 'खरुवार.', 'सुरीनाम.', 'मंगलसिंह.', 'अन<unk>योन<unk>यश<unk>रित<unk>ता.', 'निंटीज.', 'पाँचोलास.', 'रेसन.', 'वातानुकूलिं.', 'चतुष<unk>कोना.', 'आमडीी.', 'दुष<unk>तापूर<unk>वक.', 'बेचते.', 'चुका.', 'मिजोराम.', 'टोरेंस.', 'अनुचित.', 'अवरोधक.', 'रॉस.', 'अच<unk>युत.', 'उधमी.', 'हरावल.', 'गॉल<unk>ड.', 'दाव.', 'सृजनविज<unk>ञानी.', 'नेक<unk>स<unk>टजन.', 'रुकावतों.', 'भावनाओं.', 'देहधारी.', 'परिखाएं.', 'उतने.', 'संस<unk>कृतन.', 'प<unk>रॉस<unk>पेक<unk>स.', 'नाइदिल<unk>ली.', 'सायन.', 'गेनेवा.', 'रसाद.', 'बारामुला.', 'वं<unk>दमतारम.', 'सफरी.', 'चम<unk>बा.', 'सवाल.', 'बन<unk>नारी.', 'फतेहपुर.', 'पहनते.', 'स<unk>प<unk>रे.', 'नोर<unk>मल.', 'एलॉउट.', 'मनासास.', 'मन<unk>त<unk>रियोंके.', 'कार<unk>यकार<unk>यकर<unk>ताओं.', 'फाड़हे.', 'ग<unk>रेग.', 'बैतूल.', 'कुशान.', 'सुब<unk>बनी.', 'इंफिबीयम.', 'खतखताकर.', 'चााजी.', 'चन<unk>द<unk>रबली.', 'बरिपाड़ा.', 'रूहेलखण<unk>ड.', 'घैरकानूनी.', 'आरेखह.', 'प<unk>रमुखकर<unk>मियों.', 'ली.', 'थायीटर<unk>स.', 'अस<unk>मा.', 'फानों.', 'ज<unk>याडा.', 'थीएटरों.', 'सफाईकर<unk>मी.', 'बिसेस.', 'क<unk>रॉनफ<unk>रेंसिंग.', 'जीवराज.', 'थिरके.', 'शक<unk>षुबहीय.', 'पाराट<unk>रूपर.', 'दभारा.', 'यूएसआ.', 'निहसंदेह.', 'महानाम.', 'बंठिया.', 'आनाएम.', 'कश<unk>मिर.', 'बावड़ी.', 'भुत<unk>तों.', 'मारके.', 'कार<unk>ययोजना.', 'फ<unk>रैंसिस<unk>को.', 'अदानी.', 'धुरिया.', 'म<unk>हविद<unk>या.', 'मेगपिप<unk>सल.', 'क<unk>रिप<unk>टोकर<unk>रेन.', 'मुथ.', 'ऑथोरिती.', 'अपरिवर<unk>तनशील.', 'प<unk>राधनमंत<unk>रिकी.', 'आगाशे.', 'नवजागरन.', 'अत<unk>त<unk>रा.', 'उबाला.', 'अमनाी.', 'खम<unk>मम.', 'हारना.', 'भवभभवव<unk>यक<unk>तियों.', 'पुष<unk>कर.', 'शांतियों.', 'नेरोलैक.', 'चौका.', 'सिद<unk>धािंगा.', 'भारतना<unk>याम.', 'जवाबाह.', 'दुशववरियों.', 'मानचीय.', 'जियो.', 'सप<unk>रमान.', 'सिम.', 'पीचडबब<unk>यूसीस.', 'बहव.', 'टिक.', 'अगवै.', 'हिगमैन.', 'क़िवी.', 'अज<unk>ञत.', 'अजेंडे.', 'लिंकबर<unk>ग.', 'माँगीना.', 'खतखताएगी.', 'जोढ़िका.', 'श<unk>रजजनविज<unk>ञानी.', 'देतासन.', 'बदलवा.', 'यूआरएफ.', 'छापममार.', 'लक<unk>स.', 'भोपाल.', 'फलिभूत.', 'पैथेलाजजिस<unk>ट.', 'पर<unk>यप<unk><unk>त<unk>ता.', 'फ़र<unk>ती.', 'मृत<unk>युनिवारक.', 'मारुती.', 'उठाकर.', 'अलो.', 'पेगाउ.', 'पिलिभित.', 'सोमी.', 'संचालों.', 'कंचिपुरम.', 'दराती.', 'यद<unk>दश<unk>त.', 'सबुदनना.', 'वेल<unk>डिंग.', 'वेरोनिका.', 'स<unk>टिमबरवाला.', 'मयजाल.', 'पेस.', 'अतुल.', 'आउटोमैटिक<unk>ली.', 'जांचना.', 'मिथिलांचल.', 'फिकसिंगह.', 'सजेती.', 'प<unk>लानो.', 'विसंगतिया.', 'खोमचे.', 'लग<unk>ना.', 'मुकेश<unk>वरी.', 'तस<unk>वारों.', 'देव.', 'वेश.', 'ज<unk>योथ<unk>य.', 'लंदल.', 'विरांगनाओं.', 'यनित.', 'पुर<unk>निया.', 'चौक.', 'लदीन.', 'चेस<unk>ट.', 'कसेगा.', 'अबुत.', 'रेनुका.', 'लूवे.', 'गुलाबाग.', 'लज<unk>जलु.', 'सभार.', 'गैरराष<unk>ट<unk>रववादी.', 'धावकों.', 'लिम.', 'विधाएं.', 'स<unk>वयमस<unk>वीक<unk>रत.', 'इलेक<unk>ट<unk>रोटेक<unk>स.', 'रामराज.', 'जनभवना.', 'यौनिकता.', 'हाठे.', 'डुने.', 'प<unk>रोटेक<unk>ट<unk>स.', 'वररिण<unk>ये.', 'मजबूरी.', 'प<unk>रवींचंद.', 'वैज<unk>ञानिक.', 'टॉरेंट.', 'आत<unk>मयें.', 'सम<unk><unk><unk>तति.', 'मत<unk>ठे.', 'सविता.', 'अटलांटिक.', 'जलगती.', 'चच<unk>चा.', 'अफ<unk>रीन.', 'बज़ररू.', 'चौकी.', 'फरसे.', 'टुनिंग.', 'नोदरानी.', 'मॉम.', 'विधानी.', 'गुजर.', 'पकड़कर.', 'आँखें.', 'आपका.', 'वार<unk>नर.', 'अनवाहर<unk>य.', 'लिखहैं.', 'पाठ<unk>यक<unk>रम.', 'शाकों.', 'यरूषलेम.', 'मंडलायुक<unk>तो.', 'नैनो.', 'झाइयाँ.', 'सिम<unk>फरोपॉल.', 'धाम<unk>म.', 'निखारेगा.', 'घुमान.', 'होंगा.', 'ढाकल.', 'सागरिका.', 'बर<unk>नार<unk>ड.', 'योगाबल.', 'ब<unk>रीवरीयस.', 'डिश.', 'एथान.', 'वर<unk>तमान.', 'ट<unk>रेमासिक.', 'तसववरे.', 'व<unk>यवहारगग.', 'मराठा.', 'बनवा.', 'स<unk>वर<unk>णिका.', 'प<unk>रसाथ.', 'ओवरॉल.', 'पुरवाफलगुनी.', 'प<unk>रोपर<unk>फासिबूक.', 'सुवेन.', 'सपते.', 'झा.', 'करघे.', 'देशकाल.', 'नथदवारा.', 'ठनवी.', 'ओरन.', 'सेरानो.', 'ईयर.', 'सबिशन.', 'धारक.', 'तादा.', 'ग<unk>रीनववड.', 'हौटे.', 'बेहुरिया.', 'नियनताओं.', 'चुरु.', 'मिस<unk>सौरी.', 'अन<unk>यया.', 'जेनेरत.', 'न<unk>युटेस<unk>ट.', 'गरुड.', 'स<unk>वास<unk>तिककार.', 'शाई.', 'सिद<unk>धन<unk>तवादियों.', 'अनवाश<unk>यक.', 'सीटेन.', 'गुलशन.', 'रिया.', 'फिरमियन.', 'टायर.', 'ची.', 'बदलापुर.', 'युद<unk>धनौका.', 'एनबीसीसी.', 'श<unk>रीगंगनगरवासियों.', 'उड़ा.', 'कैमब<unk>रिज.', 'एरवे.', 'आइडॉल.', 'कैलूमेट.', 'आजमाना.', 'तंत<unk>रिकाओ.', 'जोनेस<unk>बोरो.', 'बुद<unk>दिजीवों.', 'क<unk>लोज़प.', 'एनएमडीसी.', 'राष<unk>ट<unk>रपित.', 'कमरहाटी.', 'अस<unk>ॉॉ<unk>ट.', 'फ<unk>रांसिस<unk>को.', 'भल<unk>ला.', 'मौलविदों.', 'नारवार.', 'लहलहाती.', 'ब<unk>यावा.', 'घटाएगी.', 'नामजददीगी.', 'तकह.', 'सेवाग<unk>राम.', 'लामियाँ.', 'जीआईएन.', 'स<unk>वेछ<unk>.', 'अं<unk>ताियां.', 'अर<unk>य.', 'पोलिशिंग.', 'जोखीमाभारा.', 'उमदती.', 'तान<unk>त<unk>रा.', 'समोआ.', 'सीएसआइ.', 'मण<unk><unk>या.', 'लावरी.', 'पहंते.', 'अंकोर.', 'निम<unk>णवत.', 'रैपिंग.', 'रूपेश.', 'प<unk>रतिबद<unk>धता.', 'नादेप.', 'सैलानीपन.', 'मेनराज<unk>य.', 'दाव.', 'आबूरोड.', 'पाथ<unk>यक<unk>रमों.', 'निविदाताओं.', 'गांधीपुरा.', 'फ<unk>वक<unk>स.', 'नारायंगढ़.', 'जयलालिता.', 'सुसनस<unk>कृत.', 'मसूद.', 'वानसककेट.', 'संस<unk>कृतियां.', 'आूआरएफएफ.', 'थेराटीपली.', 'प<unk>रतिनिर<unk>देश.', 'उलहासपुर.', 'पहनते.', 'धवकों.', 'भागेध.', 'प<unk>रणसंगलली.', 'जलवायु.', 'भिजवाई.', 'सेरा.', 'क<unk>रेण<unk>ड<unk>रॉन.', 'मौजूद.', 'सिद<unk>धान<unk>त.', 'काम<unk>युनिकेतर<unk>स.', 'चिदचिदापन.', 'मुथूत.', 'विवेकाधिकारों.', 'मलौं.', 'सिंसिन<unk>नाटी.', 'रेगिस<unk>तान.', 'पैरॉसने.', 'विचारकों.', 'जनभवना.', 'अंदमन.', 'बद<unk>याल.', 'मोरेपेन.', 'बीअर<unk>ड.', 'नोदरानी.', 'दिखायी.', 'चिंक.', 'व<unk>याख<unk>यात<unk>मक<unk>ता.', 'शैशव.', 'एंन<unk>ू.', 'आहेमदाबादह.', 'जायके.', 'सिग<unk>निटी.', 'कुरुक<unk>षेत<unk>र.', 'प<unk>रववृत<unk>तियों.', 'चर<unk>चा.', 'लक<unk>ष<unk>मीचंद<unk>र.', 'हममोंड.', 'निभागी.', 'धुनई.', 'जनभावना.', 'कैन<unk>ट.', 'मेलाघात.', 'मुए.', 'श<unk>विंग.', 'दम<unk>पत<unk>या.', 'कपाडा.', 'सं<unk>तति.', 'मानवतरहित.', 'आनुप<unk>रयोगी.', 'हर<unk>वी.', 'कजजू.', 'सेरीटॉस.', 'टेक<unk>समको.', 'संचार.', 'तुथ.', 'लोजानो.', 'रोपने.', 'हॉल<unk>वाड.', 'छिनके.', 'धम<unk>मा.', 'टेक<unk>नोप<unk>लास<unk>ट.', 'पुजापथ.', 'चानान.', 'श<unk>रनखालओं.', 'छेदना.', 'कार<unk>बोजेन.', 'व<unk>यवधन.', 'शुल<unk>ट<unk>ज़.', 'इस<unk>त<unk>रिलियों.', 'स<unk>क<unk>वश.', 'डेविले.', 'प<unk>राना.', 'ठाकूरवादी.', 'प<unk>रयोगशास<unk>त<unk>र.', 'व<unk>यक<unk>तियों.', 'मेट<unk>रोलॉजिस<unk>ट.', 'मधुरा.', 'पालियों.', 'देनवर.', 'एपीजे.', 'बेनी.', 'प<unk>रतिस<unk>थान.', 'भ<unk>रष<unk>टाचारियों.', 'लकीर.', 'सुधारग<unk>रह.', 'संदली.', 'जग<unk>िति.', 'तलवार.', 'जनाशिक<unk>षा.', 'तापूवो.', 'बुलेटिन.', 'बल<unk>लेबाजी.', 'माधीखेढ़ा.', 'अर<unk>थशास<unk><unk><unk>रियों.', 'स<unk>काइनिंग.', 'मेहमन.', 'रहेगी.', 'जमशेदपुर.', 'त<unk>यौहरों.', 'दरशाना.', 'बीचबचाव.', 'सुलाती.', 'वर<unk>षण.', 'सुधारती.', 'वसामुक<unk>त.', 'पाटिल.', 'जेवाब.', 'सोटो.', 'ढ<unk>तुएं.', 'डोस.', 'भागडौड़.', 'पगाबढ़ा.', 'अरुषि.', 'अगुस<unk>ता.', 'टितान.', 'इक<unk>विटीज.', 'एयर<unk>टल.', 'अलेप<unk>स.', 'नकसाली.', 'अचिवमेंट.', 'गलाएगा.', 'फूडों.', 'राजनीची.', 'अर<unk>य.', 'स<unk>ट<unk>रीमवुड.', 'घीओट.', 'मुसिक.', 'पुर<unk>कायस<unk>था.', 'नोरा.', 'टोनिक.', 'गुजारने.', 'वाटर.', 'सुनसान.', 'सिरसा.', 'तंगीराला.', 'हैनसन.', 'वरुन.', 'द<unk>रेजर.', 'दौडाते.', 'शराबों.', 'व<unk>यक<unk>तियों.', 'सातसेरा.', 'दारजनो.', 'अग<unk>नियां.', 'धोना.', 'कार<unk>यकर<unk>त<unk>रियों.', 'अवस<unk>थाएं.', 'हिममानव.', 'ट<unk>वो.', 'एआईएल.', 'बंधुओं.', 'श<unk>रद<unk>धववनों.', 'मरियो.', 'व<unk>याघाट.', 'मिचाल.', 'अद<unk>र<unk>घ.', 'विठ<unk>ठल.', 'प<unk>राुअप.', 'ढूंढति.', 'डुबाना.', 'लडने.', 'फ़ॉर<unk>म.', 'ज़ुअरी.', 'परिवरवाले.', 'पेरानोर<unk>मल.', 'भुवनेश<unk>वप<unk>रसाद.', 'आईआरआईएस.', 'प<unk>रतिज<unk>ञाूर<unk>ण.', 'लेबालों.', 'श<unk>रीक<unk>षुषणन.', 'स<unk>निकारसे.', 'कैं.', 'भूस<unk>वामी.', 'करता.', 'अन<unk>यय.', 'नोकारी.', 'प<unk>रिसिजन.', 'क<unk>रॉम.', 'जुए.', 'बॉविलिंग.', 'ताप<unk>ती.', 'कैथोलिकन.', 'नज़ानंदज़.', 'मुलचंद.', 'स<unk>वेचा.', 'नन<unk>ौौला.', 'घोंटना.', 'अदवैतवाद.', 'अंडरवूड.', 'लुभावना.', 'पेट<unk>रोसेली.', 'एमडीआई.', 'रोपान.', 'डेसी.', 'जबबी.', 'सूपीपी.', 'फाड़े.', 'उलहनना.', 'उन<unk>नातियों.', 'मोलिना.', 'गांदचूभोनास<unk>छाोचे.छछ', 'हन.', 'प<unk>रदर<unk>शन.', 'सरजुगा.', 'बिदार.', 'अमरगाड.', 'जुए.', 'टोंक.', 'देवापुर.', 'इंटेलिजेंस.', 'नीतियों.', 'खनौड़ा.', 'पोरबंदर.', 'सिम.', 'लग<unk>नेश.', 'गायिकाओ.', 'पृष<unk>ठभूमियों.', 'मूलचंद.', 'सिलचर.', 'मारगारिता.', 'उदाकिशुगंज.', 'सिर<unk>ती.', 'यमाला.', 'प<unk>रशिक<unk>षु.', 'सियररा.', 'आल<unk>हा.', 'पेक.', 'तसखीर.', 'डका.', 'नोमिनेट.', 'सपत.', 'कॉइम<unk>बेटर.', 'कोरापुट.', 'स<unk>वयत<unk>त<unk>शशन.', 'विद<unk>युतिकृत.', 'किकियाना.', 'अरुनाई.', 'रिगल.', 'डायमोंड.', 'मृदुभाषी.', 'वाल<unk>टर<unk>स.', 'सुत<unk>रपाडा.', 'कीति.', 'जिलाधिकारी.', 'मंगेश.', 'पेनशन.', 'लगनेवाले.', 'जिलावसियों.', 'प<unk>लोस<unk>की.', 'एकसाथ.', 'सेखर.', 'डॉव.', 'अर<unk>दवविव<unk>वास.', 'राजस<unk>थान.', 'विकासखंड.', 'समशायों.', 'बढ़ना.', 'क<unk>लासन.', 'इखरुल.', 'फुरामे.', 'एबैज.', 'बाताया.', 'जुशानतन.', 'स<unk>त<unk>रॉन<unk>ग.', 'राजनितिकरों.', 'पािपत.', 'ब<unk>लानकार<unk>ड.', 'झबुआ.', 'जैिंटो.', 'बरहससिंगा.', 'सुचना.', 'इलेक<unk>ट<unk>रोमेजिक.', 'लालमानी.', 'भौलाल.', 'कठुआ.', 'पलारी.', 'अमिताओ.', 'तदनरस<unk>ती.', 'वाबस<unk>ता.', 'व<unk>लैड.', 'स<unk>लाश.', 'वेटरबरी.', 'सेल<unk>फी.', 'लुस.', 'पंचसूत<unk>र.', 'अर<unk>यमा.', 'वादक.', 'जजन<unk>शन.', 'जेनरिक.', 'जिया.', 'अदेन.', 'सोफननर.', 'क<unk>वव<unk>सा.', 'ध<unk>वनिमिकों.', 'फीड<unk>स.', 'सुकडियाल.', 'अंगढ़.', 'बवजी.', 'छोड़ये.', 'सिपीएलए.', 'विज<unk>ञानों.', 'धसमाना.', 'लोंगेवाल.', 'बदम.', 'अत<unk>राक<unk>त.', 'सराहा.', 'नृत<unk>यशैली.', 'संवरी.', 'यक<unk>षाधिपति.', 'अराब<unk>पतियों.', 'मुकद<unk>दमों.', 'फोड़.', 'सिहुनता.', 'जीवन.', 'ढूंढतता.', 'स<unk>रूस.', 'कार<unk>यकर<unk>त<unk>रियों.', 'प<unk>रतिबद<unk>धताएं.', 'डीएलवी.', 'प<unk>लैन.', 'पैलोट.', 'अधिवास.', 'फैं<unk>न.', 'फववारा.', 'हललचल.', 'विश<unk>ववीर.', 'क<unk>रेस<unk>ट.', 'ब<unk>रह<unk>मलीन.', 'विरेचन.', 'याद<unk>दाश<unk>त.', 'उज<unk>जैन.', 'सह<unk>यात<unk>रे.', 'जिम<unk>मे.', 'सरावगी.', 'देखिएगा.', 'वजूद.', 'कुण<unk>डल.', 'रिया.', 'स<unk>लाइडर.', 'मैनेजमेंट.', 'कार<unk>यकार<unk>यकर<unk>ताओं.', 'क<unk>रिस<unk>टिस.', 'रुक<unk>ते.', 'डिस<unk>ट<unk>राब<unk>युटर<unk>स.', 'स<unk>पेल.', 'दममापर.', 'ठिकने.', 'इंटिरक<unk>युलिटि.', 'क<unk>डायन.', 'सौथ.', 'आपका.', 'नहिनकरवाई.', 'जाग<unk>ति.', 'छूढ़े.', 'थिर<unk>ती.', 'नादसा.', 'जीएसएम.', 'गुजरत.', 'दर<unk>ष<unk>नर<unk>थी.', 'नभा.', 'ढोकेबाज.', 'लेगा.', 'बीआईईएंीम.', 'सोमवार.', 'वनों.', 'औध<unk>योगिकरण.', 'अग<unk>रहरी.', 'आफा.', 'टीमार<unk>डरों.', 'मिस<unk>रा.', 'सेरेब<unk>रा.', 'नाग<unk>रिक.', 'दस<unk>तार.', 'मकरह.', 'जीटीओर.', 'बॉलिस<unk>टिक.', 'चढ़ेगा.', 'माँगे.', 'निलाभ.', 'मेनशराब.', 'सिंघड़े.', 'हिसारः.', 'रामकोट.', 'बैठते.', 'तसखीर.', 'इशारा.', 'सोलापुर.', 'मेजबानी.', 'फ<unk>लोरेंस.', 'परामर<unk>षक.', 'झाड़ने.', 'थीएटर<unk>स.', 'आदान.', 'एम<unk>बिएंस.', 'सुरक<unk>षाह.', 'हिकारिको.', 'बान<unk>या.', 'रूकवाई.', 'मित<unk>रवत.', 'बोकारो.', 'मौर<unk>य.', 'प<unk>रतिनिधिकारी.', 'चन<unk>द<unk>रमाओं.', 'परोसने.', 'धैया.', 'स<unk>पायरिट<unk>स.', 'लेंड<unk>रो.', 'सीन.', 'स<unk>वार<unk>थपारक.', 'चुचियां.', 'महामिदिय.', 'पूरवाजनमों.', 'शोहदापन<unk>ती.', 'कुशान.', 'जामलोकी.', 'इवरेस<unk>ट.', 'तस<unk>वारों.', 'अदविवास.', 'प<unk>रेमलाटा.', 'मुरीयेटा.', 'वैमनस<unk>य.', 'केली.', 'टिनपलेट.', 'वाँ.', 'महमन<unk>त<unk>र.', 'मेज़बान.', 'शुमाली.', 'फुलाये.', 'प<unk>रुत<unk>त.', 'रॉजवेल<unk>ट.', 'प<unk>रशासानिक.', 'उलज़ानों.', 'पत<unk>रकारवर<unk>ता.', 'डुअर.', 'काफफोड़वव.', 'बिपिन.', 'ओफ<unk>र<unk>ह.', 'इसायियों.', 'प<unk>रॉपेलेंट.', 'कणसाई.', 'सिखिन.', 'सीडीसीएल.', 'अब<unk>बॉट.', 'कतलारी.', 'आदिवाडियों.', 'चित<unk>रकथा.', 'अवशषष<unk>ट.', 'फ<unk>यूचचरिस<unk>टिक.', 'तेरीह.', 'नन<unk>े.', 'एवरी.', 'सुबा.', 'शखाएं.', 'त<unk>रिकालदर<unk>शी.', 'पालसाही.', 'फैलैये.', 'झौवा.', 'जमाती.', 'जन<unk>हानी.', 'पॉण<unk>डिंग.', 'तस<unk>वरों.', 'देशकल.', 'हिचकीचा.', 'बस<unk>तीह.', 'गरीबी.', 'फड़फ़ाएं.', 'सिताराम.', 'कमेरे.', 'बैरकपुर.', 'स<unk>वयमस<unk>ििक<unk>तर.', 'कासोवो.', 'मजबूरी.', 'कनवोकेशन.', 'स<unk>किप<unk>र.', 'जैपुर.', 'प<unk>रस<unk>थानों.', 'नार<unk>म.', 'रेडियोप<unk>रेमी.', 'तितागढ़.', 'चिको.', 'राज<unk>यमंत<unk>रीस<unk>वतंत<unk>र.', 'मैनवल.', 'गुजरना.', 'सत<unk>लुज.', 'जतियों.', 'अन<unk>होनी.', 'टेलिलिंक<unk>स.', 'लब<unk>स.', 'हरावल.', 'मेरियागे.', 'मनिया.', 'ट<unk>रैक<unk>टर<unk>स.', 'कांचन.', 'लैरी.', 'कार<unk>यावधि.', 'जलभरव.', 'भाड़ा.', 'बागोरा.', 'पिगा.', 'स<unk>टेफेन<unk>स.', 'अभिमत.', 'एक<unk>सेल<unk>या.', 'वायररेस.', 'चौड़ा.', 'पर<unk>भानी.', 'खातेड़र.', 'बढ़ना.', 'बर<unk>च.', 'उपद<unk>रवों.', 'टिकियों.', 'मिल<unk>क.', 'डुबोना.', 'बककर.', 'सुताली.', 'बुद<unk>धाराम.', 'वेल<unk>थ.', 'पतत<unk>रानी.', 'अर<unk>धविश<unk>वास.', 'पैम.', 'कैस<unk>टानेडा.', 'बालजित.', 'भटनगर.', 'जातकों.', 'इक<unk>यूडॉर.', 'स<unk>वर<unk>गडूत.', 'रुशिकुल.', 'तते.', 'काठर.', 'बीयलैै.', 'यूरोपिया.', 'गये.', 'दादरेवा.', 'बिखेरने.', 'हमलो.', 'पकड़ाए.', 'उपलब<unk>धियों.', 'कोलोराडो.', 'पैकर<unk>ड.', 'जगरुति.', 'अंध<unk>रा.', 'चौंकते.', 'बेखवाबियां.', 'नफा.', 'सिन<unk>हा.', 'उत<unk>पिदन.', 'सागा.', 'आर<unk>य.', 'दिखाइये.', 'अनिष<unk>टता.', 'उदान.', 'सन<unk>युक<unk>तावस<unk>था.', 'शम<unk>तल.', 'एवा.', 'अधिवक<unk>तागण.', 'रा<unk>हन.', 'झुठलने.', 'पुर<unk>वाभास.', 'बिजेन<unk>द<unk>रसिंह.', 'चिनमानी.', 'लोकसभवाली.', 'लड़की.', 'नरसिंघगढ़.', 'संघठनमंन<unk>त<unk>रियों.', 'रूपी.', 'करर<unk>यार<unk>ताओं.', 'औगस<unk>ता.', 'मनमारजजी.', 'अं<unk>त<unk>रमुख.', 'अनुमार.', 'रिष<unk>तनाता.', 'द<unk>वियार<unk>थी.', 'चूटिले.', 'हेटीसबर<unk>ग.', 'यूजी.', 'राज.', 'राइगुलिजेशन.', 'विंध<unk>या.', 'फिक<unk>सिंगह.', 'कमजोर.', 'भारा.', 'चौधववन.', 'फलनने.', 'श<unk>रुंखला.', 'विपन<unk>नता.', 'प<unk>रूफ<unk><unk><unk><unk>डिड.', 'ज़मना.', 'घटाएगी.', 'डांगा.', 'इरिका.', 'भोला.', 'व<unk>याख<unk>यात<unk>मक<unk>ता.', 'योजनाह.', 'वेबुनियाडी.', 'रुमानी.', 'साहू.', 'प<unk>राधानगगर.', 'सीट<unk>ल.', 'स<unk>टेन.', 'इंसानी.', 'हमला.', 'न<unk>यूट<unk>रियो.', 'लाडड<unk>ड.', 'अं<unk>ताियां.', 'कुशवाहा.', 'कोच<unk>चिह.', 'गणपपथी.', 'फार<unk>मिक.', 'पदेंगी.', 'अर<unk>थ.', 'मुकर<unk>रर.', 'निप<unk>तकर.', 'हॉलिडेयस.', 'कूछ.', 'उत<unk>ठक.', 'सुलखान.', 'कमेरे.', 'जगाएगा.', 'सन<unk>त<unk>री.', 'शख<unk>सियतें.', 'पंचांग.', 'ज़लाना.', 'नित<unk>या.', 'इचछछी.', 'हब<unk>रा.', 'पालियों.', 'अज़स<unk>पर<unk><unk>मिया.', 'ताविज.', 'फावर<unk>क<unk>स.', 'ग<unk>रहहम.', 'प<unk>रभानमन<unk>त<unk>री.', 'सेथ.', 'जगताप.', 'हर<unk>षित.', 'डब<unk>ना.', 'रक<unk>तदताओं.', 'मेक<unk>सिको.', 'तासिर.', 'इयारकन<unk>दिश<unk>नर.', 'एडी.', 'मैकोन.', 'इसरानी.', 'एं<unk>थ.', 'श<unk>रीमहपूर<unk>ण.', 'डोर<unk>क.', 'जीनों.', 'घरीबों.', 'तराशकर.', 'आब<unk>जरववर.', 'आर<unk>य.', 'उखड़.', 'साठसाठ.', 'पैकागोन.', 'हिं<unk>दों.', 'अप<unk>रिहर<unk>य.', 'माजििल.', 'एलएक<unk>स.', 'कर<unk>वी.', 'दुभाषियों.', 'रिकन<unk>नेक<unk>टिंग.', 'विं<unk>द.', 'क<unk>लाएंट.', 'शरारत.', 'वें<unk>तुरा.', 'रॉलिन<unk>स.', 'हेनेस.', 'निकेतन.', 'क<unk>रान<unk>तियों.', 'ट<unk>विन.', 'दिव<unk>य.', 'गिडगिडेट.', 'निगमायुक<unk>त.', 'गबली.', 'नोवाटो.', 'रिश<unk>वतखोर.', 'फांसी.', 'गरजना.', 'निहलानी.', 'पिन<unk>ता.', 'ग<unk>रीयर.', 'लेविस<unk>विले.', 'प<unk>रकाषित.', 'क<unk>लायर<unk>टन.', 'खायल.', 'ड<unk>वियार<unk>थी.', 'राखे.', 'बुलंदशाहर.', 'स<unk>टेफर<unk>ड.', 'नजरियों.', 'वॉर<unk>ल<unk>ड.', 'जीवनियाँ.', 'परमेश<unk>वरपुर.', 'उठनी.', 'न<unk>यूत<unk>रियो.', 'जेठा.', 'बागबगगचचों.', 'सुचिकित<unk>सा.', 'नाममन<unk>दल.', 'प<unk>रदाधिकारियों.', 'उरवर<unk>ता.', 'नेल.', 'क<unk>रिप<unk>टोकर<unk>रेन.', 'स<unk>वायत<unk>त<unk>षशासन.', 'ज़र<unk>दा.', 'उपलक<unk>ष<unk>य.', 'छुड़वाया.', 'विदाग<unk>धा.', 'मुख<unk>यमंत<unk>रिपतना.', 'जेने.', 'रतनपुर.', 'महन<unk>तम.', 'गुणा.', 'मटटेक.', 'देनेवली.', 'नाभिकुंड.', 'विशेषणों.', 'लंगारों.', 'पॉलिथेनॉन.', 'सम<unk>बित.', 'धुंध.', 'हाँ.', 'टकरा.', 'ढाढधेखोरी.', 'पुलिंदे.', 'एपोक<unk>लिप<unk>स.', 'विज<unk>ञानपीडिया.', 'महोनी.', 'पूंजीतान<unk>त<unk>र.', 'खरे.', 'एक<unk>स<unk>टैक<unk>टर.', 'जुनहेबोटो.', 'प<unk>रियामनी.', 'सवाल.', 'सुखाकर.', 'आलोचक.', 'फाँस.', 'जयललिता.', 'अमझेरा.', 'बोमबे.', 'व<unk>याग<unk>र.', 'अपनानी.', 'रिसने.', 'छुरे.', 'चार<unk>टोट<unk>टे.', 'जोसे.', 'रेलीह.', 'मेजबान.', 'धनधन<unk>य.', 'दबूर.', 'बीएसएस.', 'नाजिब.', 'अवस<unk>थायें.', 'जबलपुर.', 'धर<unk>मनिप<unk>पेक<unk>षताके.', 'फार<unk>मर.', 'एनएसएल.', 'सोमरविले.', 'बुल.', 'झुलाई.', 'खग<unk>यार.', 'मेहराम.', 'धस<unk>मना.', 'रिपान.', 'भागडौड.', 'मिठ<unk>या.', 'ललानिया.', 'भुलों.', 'वाडली.', 'नागप<unk>पत<unk>टिनाम.', 'वैमन<unk>य.', 'बिग<unk>सेस<unk>ट.', 'जोड़ता.', 'महत<unk>तरों.', 'ओर<unk>छा.', 'धैर<unk>यवान.', 'सुन<unk>द.', 'प<unk>रिंस.', 'ज़ुबनन.', 'कैम<unk>स<unk>टुडियो.', 'यूरोपिया.', 'मेज़ा.', 'भुसावल.', 'गयात<unk>री.', 'वारे.', 'बुद<unk>दिज़ीवों.', 'एंथ.', 'रदार.', 'इलायाची.', 'उबाल.', 'श<unk>रीगंगनगरवासियों.', 'फिट<unk>ज़राल<unk>ड.', 'जीवनशैली.', 'चार<unk>ट.', 'सरगी.', 'वेदों.', 'मुरमुर.', 'भाते.', 'विपखा.', 'बयाने.', 'मदननगंजा.', 'पैकेजन.', 'वर<unk>णनकर<unk>ताओं.', 'ज<unk>याडा.', 'लोकोत<unk>सव.', 'तेवरी.', 'झौगुंज.', 'मलवान.', 'तदनरस<unk>ति.', 'एल.', 'क़ब़़़ा.', 'सुसंस<unk>कृत.', 'संधोल.', 'आमरियापढ़ा.', 'हाबबन.', 'बॉविलिंग.', 'रसमे.', 'इम<unk>डाब<unk>यूपीयल.', 'विधाओं.', 'बॉवी.', 'चेन<unk>नई.', 'कममजीत.', 'सिंघा.', 'पेंशनधारियों.', 'बरह.', 'डुबाना.', 'इसेटल.', 'चौहन.', 'फललने.', 'सिद<unk>धार<unk>थः.', 'एपेक<unk>स.', 'डल<unk>टन.', 'श<unk>रीखण<unk>ड.', 'टेक<unk>सटाइल<unk>स.', 'अगरवाल.', 'मिथ<unk>याचारियों.', 'सीमेंट.', 'क<unk>रानफ<unk>रेंसिंग.', 'संस<unk>क<unk>रुतियों.', 'ढाककर.', 'निज़ामाबाद.', 'छतेनी.', 'दुष<unk>क<unk>रिया.', 'ससरम.', 'चिढ़ते.', 'लम<unk>बा.', 'लॉटिस.', 'खाएँ.', 'ढंढ़े.', 'अं<unk>तयंत.', 'मैस.', 'बरामद.', 'क<unk>रेमिस<unk>ट<unk>री.', 'उठनेवले.', 'लहना.', 'सिरागित<unk>ति.', 'कॉन<unk>ट<unk>रॉल.', 'अंदाजी.', 'कैटलाइन.', 'पक<unk>षपत.', 'फोडो.', 'फ<unk>रैंसिस<unk>का.', 'प<unk>रयोगपपुष<unk>ठ.', 'क<unk>रान<unk>तिधारा.', 'दैशवाला.', 'खुरसन.', 'क<unk>वारांटटाइन.', 'फोन<unk>ड.', 'पक<unk>षपत.', 'पुटला.', 'ट<unk>रुथ.', 'साथसाठ.', 'मोहिम.', 'जोहनसन.', 'सीपीएम.', 'बताया.', 'पैल<unk>मर.', 'तुघलाकाबाद.', 'एपकॉटेक<unk>स.', 'हैराम.', 'सरेबाजर.', 'जेरुसलेम.', 'मोल<unk>ड.', 'वर<unk>णनकर<unk>ताओं.', 'हूपर.', 'वेटर<unk>स.', 'लुढाते.', 'फेफडा.', 'कमोत<unk>तेजना.', 'दम<unk>पती.', 'सोया.', 'बरबररतापूर<unk>ण.', 'ताड़पपर.', 'लूट<unk>फ.', 'तारिको.', 'छता.', 'पिट<unk>टमैन.', 'पहला.', 'मुल<unk>टीमेडिया.', 'त<unk>योहार.', 'लबेल.', 'ले.', 'तिर<unk>थतन.', 'सतुआ.', 'वरगस.', 'डाबोलिम.', 'सूचनाह.', 'लेबेलिंग.', 'रोसेविले.', 'फाइब<unk>रेट<unk>स.', 'अल<unk>टो.', 'पर<unk>टननी.', 'अस<unk>मिताओं.', 'वान<unk>ट.', 'तदपती.', 'पटेल.', 'काजी.', 'दोस<unk>तनापूर<unk>ण.', 'क<unk>षेत<unk>रों.', 'लिंच.', 'स<unk>टेट.', 'रागोन.', 'मालहोत<unk>रा.', 'प<unk>रज<unk>ञातन<unk>त<unk>र.', 'दुनीर<unk>ति.', 'क<unk>रॉस.', 'अव<unk>यवसायी.', 'धिर<unk>यवान.', 'तामे.', 'अशरीरी.', 'चन<unk>द<unk>रदास.', 'ज<unk>योतिषी.', 'एलिक<unk>सैंड<unk>रिया.', 'बेवकूफ़ाना.', 'सिरपुर.', 'उज़बेक.', 'खरुवार.', 'धर<unk>मविहीनता.', 'सुरेन<unk>द<unk>रननगर.', 'आल<unk>हा.', 'अरुणाचल.', 'क<unk>रुगगर.', 'बगली.', 'दविनदरपाल.', 'चापलूसी.', 'संस<unk>कारियों.', 'इंजीइन<unk>स.', 'मेन<unk>डेज.', 'सियाह.', 'गुजारने.', 'गजरा.', 'कावी.', 'मिडनापोर.', 'वृत<unk>तों.', 'सिरमों.', 'वर<unk>तमैन.', 'उभरेगा.', 'पिलोट.', 'नरभक<unk>षी.', 'एन<unk>ट<unk>रीक<unk>स.', 'डेटन.', 'बड़ू.', 'अलराउंडर.', 'निश<unk>र.', 'वढववन.', 'जेनसेन.', 'पाली.', 'त<unk>रिमासिक.', 'अत<unk>त<unk>रैक<unk>त.', 'वविद<unk>यालय.', 'चंदन.', 'मेगा.', 'मान<unk>सफी<unk>ड.', 'मत<unk>तांचेरी.', 'नवकेतन.', 'कमतार.', 'पित<unk>यूनिय.', 'पुरूषोत<unk>तम<unk>पुर.', 'टापन.', 'जुबान.', 'इंसीआर<unk>डबल<unk>यूसी.', 'हैमबालिन.', 'आराम.', 'यश<unk>पाल.', 'वोखा.', 'छेत<unk>री.', 'ओमेक<unk>स.', 'परववीन.', 'कुकरेजा.', 'प<unk>रेमफला.', 'नर<unk>मी.', 'श<unk>रृंखाओं.', 'अव<unk>रोधक.', 'तीरों.', 'गणेशा.', 'झड़.', 'अनुपमा.', 'तलबगार.', 'बिन<unk>दल.', 'ज़वला.', 'आम<unk>रियापाड़ा.', 'प<unk>रतिनिधिकरी.', 'हलमतपुरा.', 'बूदम.', 'मेसियाज.', 'मेडिकल.', 'रिस<unk>पेक<unk>टिंग.', 'राजक<unk>ता.', 'डाए.', 'सक<unk>शन.', 'भूमी.', 'त<unk>योहरों.', 'रंगते.', 'उत<unk>त<unk>रा.', 'पेणशंधारियों.', 'करर<unk>यरक<unk>ताओं.', 'विद<unk>याओं.', 'दफन.', 'सरहिन<unk>द.', 'खासकर.', 'राथथ.', 'गुड़गौनवव.', 'सहब.', 'उदानों.', 'मजेस<unk>को.', 'पुष<unk>पा.', 'केशारी.', 'बोम<unk>बी.', 'करगिल.', 'टकरा.', 'बिजी.', 'क<unk>रोम.', 'स<unk>तिथी.', 'गुल<unk>फ.', 'कालोनिवासियों.', 'आवृतियों.', 'सुहनुभूति.', 'चममच.', 'विरोधाभासी.', 'साभार.', 'एलकार<unk>गो.', 'हरना.', 'अव<unk>यवसयी.', 'प<unk>रविंसेस.', 'छेत<unk>ठारी.', 'प<unk>रतिष<unk>ठि.', 'सापा.', 'पटकी.', 'पर<unk>चियों.', 'प<unk>रतिवाद.', 'लिफाफ़ा.', 'दरशाना.', 'गैरिसन.', 'आकंदों.', 'ढण<unk>डों.', 'डिस<unk>ट<unk>रीब<unk>यूतरी.', 'खाती.', 'पंजिका.', 'बातः.', 'रवले.', 'कागन.', 'प<unk>रेमात<unk>मक.', 'सिपही.', 'नोतेबनदशुदा.', 'देवलाहा.', 'हल<unk>ला.', 'झमातें.', 'मैस<unk>सी.', 'उसक.', 'पितामह.', 'विवरणहारतीय.', 'नेगरकॉइल.', 'लखखखी.', 'अछी.', 'सतिन.', 'नागपुर.', 'बसिरहात.', 'छेलाई.', 'उबरकर.', 'सन<unk>युक<unk>तावस<unk>था.', 'सुरी.', 'भापाई.', 'व<unk>यक<unk>तिगत.', 'म<unk>हथिर.', 'फ<unk>लेश.', 'राष<unk>ट<unk>रक.', 'राजभाई.', 'हॉन<unk>ग.', 'लैंग<unk>रोन.', 'सुभाय.', 'फंड.', 'फ<unk>लावर<unk>स.', 'उठने.', 'बड़ा.', 'मिश<unk>र.', 'शत.', 'मन<unk>हत<unk>तन.', 'सरगुजा.', 'इवनिंग.', 'ग<unk>रहनकाल.', 'बगली.', 'नियू.', 'मुंडवा.', 'तोलासन.', 'जेडातीसिफ<unk>फ.', 'नागमण<unk>डल.', 'कनाल.', 'मािलीतत<unk>नम.', 'फेलिक<unk>स.', 'हस<unk>ताक<unk>षरों.', 'भिलाई.', 'कॉन<unk>ट<unk>रक<unk>टिंग.', 'क<unk>रार.', 'जौन.', 'भलू.', 'फार<unk>टिस.', 'गिरिजाघरों.', 'जैनों.', 'अर<unk>थव<unk>यवस<unk>थाः.', 'ऑक<unk>सीस.', 'खिताबोन.', 'एंका.', 'चश<unk>मा.', 'बटाओ.', 'घृतकुमारी.', 'प<unk>रेटस<unk>टेंट.', 'बॉर.', 'लक<unk>ष<unk>मीधार.', 'सियासी.', 'उप<unk>योगिवाडियों.', 'तूगा.', 'समदजियों.', 'खुर<unk>पाका.', 'कुमावत.', 'एमवीपी.', 'सुराज.', 'न<unk>यूरोसिंटिस<unk>ट.', 'चन<unk>द<unk>रेश<unk>वरानगर.', 'तनिश.', 'फरुखनगर.', 'अवाज़ों.', 'नजराने.', 'पशुचारा.', 'वेबुनियाडी.', 'डैनबरी.', 'नैदिल<unk>ली.', 'छल<unk>ला.', 'रोवान.', 'शेओपुर.', 'रालानी.', 'संवरी.', 'ढाक.', 'मासे.', 'इंस<unk>यर<unk>सन.', 'सम<unk><unk><unk>भभूता.', 'राष<unk>ठ<unk>रा.', 'जौहारी.', 'जुडाई.', 'बदमाशों.', 'खिताबों.', 'स<unk>वायम.', 'आगः.', 'ढिंढवाल.', 'घिसे.', 'सप<unk>पननवाली.', 'निखारें.', 'बाधित.', 'ब<unk>रह<unk>मापुर.', 'बैत<unk>उन.', 'कोलिंग.', 'समाधियों.', 'यूनियनवाड़ी.', 'छपेमार.', 'गरीबों.', 'थाउसंद.', 'दासिला.', 'कंजेंतेवाइतिस.', 'बढ़ाओं.', 'लगगेगा.', 'दुर<unk>घटना.', 'नितियों.', 'कपधारी.', 'अत<unk>री.', 'सिंगमम.', 'वास<unk>त<unk>विक.', 'सबस<unk>टेंसिस.', 'पीलेपन.', 'उठनी.', 'हंडिया.', 'प<unk>रतिरक<unk>षी.', 'लालकर<unk>ता.', 'दुकानों.', 'निविदाताओं.', 'सर<unk>ज<unk>ततीय.', 'नरसनहरों.', 'नीमकथना.', 'हेर<unk>रेरा.', 'जुनन.', 'इकाई.', 'जग<unk>दलपुर.', 'स<unk>विफ<unk>टलेट.', 'जलागती.', 'पिट<unk>स.', 'रोपी.', 'अदांगा.', 'अलासी.', 'चौकियां.', 'लेटन.', 'वक<unk>रंगी.', 'डेवलमेंट.', 'शवनी.', 'पर<unk>देसियों.', 'भूगोल.', 'बागीची.', 'सिवन.', 'स<unk>ट<unk>रे.', 'आल<unk>सी.', 'वीयू.', 'विषिन.', 'किसागोई.', 'महानिदेशक.', 'चिकित<unk>साववम.', 'भट<unk>ताचार<unk>य.', 'ट<unk>रेंटन.', 'कण<unk>याएं.', 'प<unk>रियादर<unk>शिनी.', 'हुखूख.', 'शुलकह.', 'रने.', 'महाविद<unk>या.', 'संश<unk>यों.', 'श<unk>रेणीह.', 'ओडॉम.', 'बेनितेज.', 'त<unk>योहर.', 'मतियाना.', 'शव<unk>यात<unk>र.', 'रिष<unk>ते.', 'रेहाना.', 'क<unk>स.', 'अनावश<unk>यक.', 'रिझाया.', 'ब<unk>रिगडे.', 'सैपने.', 'चुनीन.', 'कोषाधिकारी.', 'करब.', 'पल<unk>टने.', 'कर<unk>णेश<unk>वर<unk>धम.', 'आर<unk>यननस.', 'प<unk>रतिष<unk>ठानों.', 'कराईकल.', 'उसकी.', 'विप<unk>रीतता.', 'परिक<unk>षाओ.', 'फ<unk>यूजी.', 'लामिनार.', 'जुटती.', 'कौशिक.', 'बेकाबू.', 'ननो.', 'ओरिसा.', 'टोमर.', 'रोपी.', 'थप<unk>पड़बाझी.', 'बाबत.', 'अत<unk>हसा.', 'कोलन.', 'प<unk>रतिलीतर.', 'भुसी.', 'हलिया.', 'उत<unk>पीडन.', 'पोपे.', 'करखेले.', 'बहुल<unk>या.', 'अस<unk>वभविक.', 'कठनायों.', 'रममीलाल.', 'वसुलता.', 'मुख<unk>यमंत<unk>री.', 'मारिया.', 'सतमेव.', 'बकसा.', 'उदार.', 'मनन.', 'बुद<unk>धिजिवों.', 'सुदिप.', 'जोडो.', 'तस<unk>दीक.', 'निकालनी.', 'भटकाना.', 'हरना.', 'डिलों.', 'रिजिस<unk>टर<unk>ड.', 'भं<unk>डारा.', 'ललनिया.', 'लिमा.', 'लालकृष<unk>ण.', 'रत<unk>नाूषण.', 'स<unk>परीवर.', 'साह.', 'समेट<unk>टी.', 'पायरया.', 'मामलोनमें.', 'ब<unk>रात.', 'वैइसन.', 'विल<unk>ला.', 'लिंदा.', 'खरिया.', 'चेल<unk>नानी.', 'इलेक<unk>ट<unk>रोनिक<unk>स.', 'रिशिराज.', 'उदापुर.', 'पगला.', 'रितुकान<unk>त.', 'कुर<unk>मी.', 'दस<unk>ताना.', 'एम<unk>राल<unk>ड.', 'घुमाई.', 'उपद<unk>रवियों.', 'ओकलाहोमा.', 'धर<unk>मराजने.', 'झाओहुए.', 'उप<unk>पीदन.', 'खेमिक.', 'तुगलकी.', 'डुअर.', 'एवी.', 'जडेत.', 'तैबू.', 'प<unk>रोग<unk>राम<unk>मर<unk>स.', 'टेलोस<unk>सविले.', 'चड<unk>रों.', 'रेसर.', 'भका.', 'अं<unk>भभक<unk>तो.', 'ओब<unk>रायन.', 'कृत<unk>य.', 'पीरन.', 'नाजरियों.', 'मयूर.', 'चौधववान.', 'स<unk>वरगगूत.', 'फेका.', 'इन<unk>डेपंडेत.', 'तिनका.', 'गुड<unk>डन.', 'जातियों.', 'समानवायका.', 'सुबे.', 'चंदना.', 'प<unk>रारम<unk>भिकता.', 'ट<unk>रैप.', 'उदान<unk>त.', 'डायनामेटिक.', 'विद<unk>युतीकृत.', 'ललनिया.', 'वादरा.', 'वेड.', 'फड़फड़एं.', 'ट<unk>रेडेड.', 'अखुआपाड़ा.', 'सराहा.', 'विज<unk>ञानवादियों.', 'कममोर.', 'याउंगस<unk>टॉन.', 'आर<unk>यम.', 'पटकथाएं.', 'बाजपाई.', 'जस<unk>सी.', 'नौ.', 'एवव.', 'लगतार.', 'सुमन.', 'पदनी.', 'मिन<unk>त<unk>री.', 'डिस<unk>ट<unk>रीब<unk>यूरी.', 'जनकारों.', 'शंकाचाचार<unk>य.', 'ऑफ़शोर.', 'दुखों.', 'नेस<unk>को.', 'फूलती.', 'टूल<unk>स.', 'वर<unk>गर.', 'दुमघोंटु.', 'विदेयोह.', 'राजमान.', 'आत<unk>ममुग<unk>ध.', 'रॉकफोर<unk>ड.', 'मित<unk>रा.', 'देवनार.', 'ओकीई.', 'उत<unk>तरिया.', 'कैनाविज.', 'गैलेक<unk>शन.', 'जिवनीया.', 'हकीकत.', 'एलिमिनेटर.', 'ऑगस<unk>टीइन.', 'कर.', 'बितने.', 'दफ<unk>तरवाले.', 'बैराध.', 'कम<unk>बलों.', 'ज<unk>वर.', 'फतमा.', 'विव<unk>स.', 'डीए<unk>वट.', 'ढातूएं.', 'सियाहा.', 'पिटने.', 'बिच<unk>चों.', 'जिता.', 'सेवाला.', 'बतौर.', 'आदित<unk>य.', 'क<unk>षेत<unk>रेन.', 'अंकेनी.', 'छेतर.', 'मुकारते.', 'एंथे.', 'बाल<unk>टी.', 'खंगाली.', 'बीसेस.', 'बंजजससम.', 'पुष<unk>पित.', 'लिंमार<unk>गा.', 'पेरेड<unk>डी.', 'बोडारा.', 'फोकस.', 'दूताय.', 'श<unk>रीलीथर<unk>स.', 'महानकमाडन.', 'घुंसा.', 'काव<unk>यविधाओं.', 'क<unk>षत<unk>रियाडि.', 'जानकारों.', 'रखना.', 'रिश<unk>तेदारों.', 'श<unk>रावणी.', 'कुबुद<unk>दीन.', 'जेवेलर<unk>स.', 'मेहमन.', 'रोजलिन.', 'जैकरा.', 'चबुत<unk>रे.', 'हरादील.', 'ट<unk>रक.', 'न<unk>यूरोवैक<unk>यूलर.', 'खेलाने.', 'स<unk>ट<unk>रेशन.', 'लक<unk>षयतीर<unk>थ.', 'नेशंस.', 'पाठशशालायें.', 'निवेदनाह.', 'लिडारों.', 'ताना.', 'सेवकों.', 'पूर<unk>वपेक<unk>षाओं.', 'मनी.', 'सोमवार.', 'प<unk>रन.', 'आवेज<unk>ञानिक.', 'एविएशन.', 'ब<unk>रॉन.', 'नाकाम.', 'अधिवास.', 'जनजग<unk>रन.', 'राजनागगाओं.', 'लैरी.', 'भालू.', 'तरीको.', 'चिकोपी.', 'रीफ<unk>रैक<unk>टरीज.', 'बारामाद.', 'कव.', 'एमेराल<unk>ड.', 'विवेकाधीन.', 'फड़फड़ाएं.', 'केलाना.', 'पें<unk>ट<unk>स.', 'पिट<unk>टसबर<unk>घ.', 'होखात.', 'चौरसिया.', 'सच<unk>चदानद.', 'साइड.', 'चरों.', 'रिजववी.', 'क<unk>ले.', 'दणपती.', 'दूरगढ़.', 'देवापुर.', 'मनवाया.', 'लतककर.', 'मेहमान.', 'निया.', 'उधम<unk>पुर.', 'अटहहर.', 'छुपता.', 'तुंगनाथ.', 'रघुपति.', 'प<unk>रकांध.', 'चेंगड.', 'गंग<unk>तोक.', 'क<unk>रिकेट.', 'फ<unk>रैंसिस<unk>को.', 'भगने.', 'अदंगा.', 'फिक<unk>सिंह.', 'कमौउ.', 'टिकोने.', 'पाम.', 'तारिकों.', 'आगमन.', 'किदवाई.', 'आश<unk>तितों.', 'राघवन.', 'जनेउधारी.', 'डेवेनपोर<unk>ट.', 'प<unk>रेरणापूरी.', 'महासिंह.', 'लोर<unk>दा.', 'इं<unk>ट<unk>रोक<unk>शन.', 'स<unk>वभावतः.', 'गृष<unk>मोत<unk>वव.', 'तलाशेगा.', 'सहरसा.', 'म<unk>के.', 'मोशे.', 'ग<unk>रंथियां.', 'लोहाती.', 'अलियंस.', 'तगडड़े.', 'चिनके.', 'सिवान.', 'ठकी.', 'लेटाकर.', 'हिकारिको.', 'टायर<unk>स.', 'न<unk>रुत<unk>यों.', 'डीरफील<unk>ड.', 'चरित.', 'बेथलेहेम.', 'फाइनटक<unk>स.', 'असही.', 'पहन.', 'धनश<unk>याम.', 'फारेंसिस.', 'लहना.', 'द<unk>वारिकेश.', 'दुबाना.', 'कराबोरियों.', 'गोलामुरी.', 'रखनौ.', 'विपनक.', 'पुंचांग.', 'ब<unk>रीड.', 'गुल<unk>लरवाला.', 'एवीपी.', 'बाजी.', 'हरपाल.', 'प<unk>रेमेश<unk>वर.', 'प<unk>रैप<unk>त.', 'नक<unk>सलवाड.', 'कंठहर.', 'ऑक<unk>साइड.', 'खैरती.', 'देशके.', 'सुनासियर.', 'अफासरों.', 'सेहो.', 'चबते.', 'मिती.', 'बेलछा.', 'सफ<unk>लता.', 'शबबाना.', 'खाटूटोला.', 'शिवस<unk>तावा.', 'प<unk>रेरानापुरी.']\n",
            "['थ<unk>लेस<unk>ट.', 'साखााा.', 'जिनों.', 'ट<unk>रेस<unk>ट<unk>ट.', 'टिल<unk>ल<unk>लालिया.', 'इन<unk>ट<unk>रेसेंस.', 'स<unk>रिशियों.', 'शाना.', 'काापपुर.', 'अधार.', 'कारा.', 'अर<unk>ा.', 'सीपीपी.', 'हाहा.', 'ग<unk>रेललेल.', 'उशाड.', 'अस<unk>या.', 'एसीई.', 'अल<unk>प<unk>र<unk>पुर.', 'माल<unk>ररा.', 'सालाााल.', 'फाराात.', 'सिंस<unk>ट.', 'शिम.', 'पिश<unk>या.', 'सिप<unk>ति.', 'इनाना.', 'ब<unk>रियिनन.', 'उत<unk>तााााा.', 'इल<unk>लाल.', 'तालापााा.', 'सहारी.', 'तुर<unk>नान.', 'पर<unk>वार<unk>वार.', 'थाल<unk>ल.', 'त<unk>रियां.', 'कार<unk><unk>ष<unk>त<unk>राा.', 'उनाथ.', 'दिशियों.', 'सहित<unk>यात<unk>त.', 'शिर<unk>यामिंिं.', 'श<unk>रा<unk>त<unk>र<unk>त<unk>.', 'अन<unk>वावााा.', 'पार<unk>ट.', 'जोलालों.', 'गोंगों.', 'किर<unk>यांची.', 'मुर<unk>रालानन.', 'माश<unk>यात.', 'मोल<unk>स<unk>स.', 'लारारी.', 'सु<unk>ष<unk>ता.', 'शिर<unk>रार.', 'हेस<unk>स.', 'जामापार.', 'इनाता.', 'विश<unk>र<unk>त<unk>र.', 'भोड़.', 'स<unk>रास<unk>रिंियां.', 'नियोसिस.', 'फ<unk>रास<unk>ट.', 'जिहारर.', 'अन<unk>यार<unk>याााात.', 'निक<unk>.', 'कीएससीस.', 'बिला.', 'कार<unk>यां<unk>रांची.', 'गिल<unk>लाली.', 'तेपाया.', 'टेप<unk>पुर.', 'तेवान.', 'सममाई.', 'दिर<unk>ष<unk>त<unk>य.', 'रित<unk>त.', 'तुर<unk>वात.', 'अन<unk>पारााा.', 'कोललललल.', 'जाराारा.', 'पुर<unk>विंग<unk>यां.', 'पर<unk>थित.', 'स<unk>सीसीएस.', 'अन<unk>याता.', 'डिस<unk>ट<unk>स.', 'ति<unk>यार<unk>यास<unk>त<unk>र<unk>त.', 'जोललल.', 'कोर<unk>ट<unk>रेट.', 'पोर<unk>ट<unk>रिंिंग.', 'ग<unk>रियियां.', 'बुरा.', 'काल<unk>ट<unk>ररी.', 'किश<unk>या<unk>ती.', 'तिंच<unk>यां.', 'फिर<unk>स.', 'बिलाााया.', 'राष<unk>याश<unk>र.', 'एक<unk>टिसिशिस.', 'राम<unk>र<unk>यासेशन.', 'शिर<unk>यांस<unk>यांच.', 'फर<unk>मााल<unk>याची.', 'डिलोलेस<unk>टिया.', 'पेले.', 'देप<unk>ता.', 'कोल<unk>सी.', 'बेर<unk>प<unk>र.', 'कोल<unk>सि..', 'ग<unk>रावावा.', 'वेल<unk>टर.', 'वार<unk>.', 'शिंिंग.', 'पहात<unk>.', 'फिरी.', 'दिलानी.', 'पहाचिया.', 'उशापात.', 'निलाचा.', 'लिस<unk>रामालियां.', 'महान<unk>यांस<unk>रिंं.', 'उप<unk>पा.', 'किल<unk>योंिंग.', 'शेप<unk>स.', 'कार<unk>रााालचा.', 'मेस.', 'विस<unk>टिंग.', 'क<unk>रार<unk>त.', 'जितारा.', 'मुत<unk>रा<unk>या.', 'शिर<unk>तिती.', 'विश<unk>वांक<unk>रं.', 'जुलााााचा.', 'कााही.', 'महियिंिंिन.', 'विविधियों.', 'बिलिया.', 'हर<unk>याह.', 'जिवार.', 'फ<unk>लिंग.', 'राा.', 'विश<unk>रपुर.', 'घुल<unk>मालेंों.', 'हांडिक<unk>रिंों.', 'तालाााााा.', 'पर<unk>ाा.', 'धार<unk>ााा.', 'अर<unk>यियियों.', 'रिनिन.', 'सिंगर.', 'गिर<unk>यात<unk>र.', 'बुर<unk>यााान.', 'फाम<unk>सी.', 'पोलेंो.', 'जहााामी.', 'नाााा.', 'उदोगों.', 'क<unk>लीएल.', 'जेस<unk>स.', 'कुर<unk>याा.', 'मोड़.', 'पिशिया.', 'कुल<unk>या.', 'पहानों.', 'इं<unk>र<unk>र<unk>टेशन<unk>ट.', 'कोल<unk>ट<unk>र<unk>ंग.', 'अर<unk>त<unk>या.', 'बाररा.', 'वानों.', 'व<unk>रेंग.', 'कार<unk>त<unk>री.', 'रावाह.', 'किलिंि..', 'फेल<unk>स.', 'जनवाााा.', 'उप<unk>नाानन.', 'सिक<unk>ररी.', 'केशिय.', 'नोको.', 'काशन.', 'फालाया.', 'अंगरों.', 'क<unk>रासमी.', 'देलााा.', 'कुर<unk>या.', 'सिल<unk>र<unk>री.', 'जाखों.', 'गोपपुर.', 'पाास.', 'नियाया.', 'ताा.', 'आम<unk>त<unk>र<unk>त.', 'कामी.', 'मुर<unk>रालान.', 'एस<unk>ी.', 'निनानी.', 'सुखा.', 'जीएीसी.', 'विमापप<unk>री.', 'बसा.', 'ओचा.', 'स<unk>टिलिस.', 'सुर<unk>यां.', 'ब<unk>रेस<unk>टिन.', 'गुर<unk>पार.', 'सियित<unk>त.', 'लोगों.', 'बाखान.', 'गार<unk>पुर.', 'सहान.', 'तेही.', 'तियाह.', 'सुनों.', 'वियिस.', 'चिस<unk>स.', 'किर<unk>यानी.', 'रेस<unk>ट<unk>.', 'मुर<unk>लोलोल.', 'हेप<unk>स.', 'डेपोर.', 'अर<unk>याया.', 'भारा.', 'कार<unk>यााा.', 'दुप<unk>पुर.', 'त<unk>राश<unk>या.', 'सुंकांों.', 'प<unk>रांकर<unk>ष.', 'स<unk>विविन.', 'प<unk>राप<unk>र.', 'गिर<unk>यियियों.', 'सिंडिं<unk>ंग.', 'विर<unk>ट.', 'मुर<unk>द<unk>रा.', 'बेस<unk>प<unk>र.', 'डियोरी.', 'सीएीएस.', 'इशाही.', 'घुसी.', 'उपााा.', 'भार<unk>यां.', 'देचालाल.', 'स<unk>स<unk>रि.', 'निलामामाया.', 'हिलिया.', 'जर<unk>ता.', 'जिक<unk>र<unk>यास<unk>र<unk>त<unk>री.', 'भिर<unk>ती.', 'अल<unk>योलिनिन.', 'बान.', 'फोर<unk>टी.', 'बस<unk>थ.', 'कुरारी.', 'गिमिस.', 'मालानांचाल.', 'सि<unk>यास<unk>यासित.', 'पेलेशनें.', 'मुस<unk>ा.', 'पर<unk>ाशी.', 'बालााा.', 'क<unk>रेल.', 'जियायां.', 'उनानारार.', 'प<unk>रित<unk>या<unk>त<unk>य.', 'शिर<unk>रवर<unk>दर.', 'फर<unk>थ.', 'सिहियों.', 'सुलालाला.', 'लिल<unk>लेलियों.', 'रिय<unk>यास<unk>यांिंं.', 'प<unk>रत<unk>यास<unk>त<unk>त.', 'स<unk>वार<unk>वाी.', 'व<unk>रास<unk>ताााा.', 'सेल.', 'गिलामाया.', 'टिल<unk>योसिस<unk>ट.', 'मिल<unk>ट<unk>रिसि.', 'शिर<unk>मास<unk>रों.', 'फोलालाा.', 'डोलोलेंों.', 'चाना.', 'बिं<unk>यां<unk>यिंियों.', 'क<unk>रेक<unk>टिं<unk>ंग.', 'रिस<unk>रिंिंग.', 'अनानन.', 'व<unk>रेक.', 'प<unk>रियिया..', 'थोंड़.', 'एस<unk>सीएल.', 'चास<unk>ता.', 'किर<unk>रिंग.', 'तारा.', 'पारा.', 'नाहाया.', 'वासा.', 'आनानानों.', 'जोललला.', 'सुस<unk>त.', 'जिताती.', 'प<unk>रााश.', 'शिर<unk>र<unk>ररारर.', 'साहानानों.', 'भोल.', 'तानान.', 'उश<unk>पापत.', 'हिस<unk>प<unk>रामाच<unk>या.', 'उत<unk>त<unk>र<unk>ष<unk>षां.', 'सहाम<unk>र<unk>त<unk>.', 'शिर<unk>यांस<unk>यांच.', 'महियामियांत.', 'फर<unk>मी.', 'फोलो.', 'किल<unk>यांची.', 'कामानें.', 'चिलिया.', 'सिभ<unk>यां.', 'क<unk>रिन.', 'बस<unk>ता.', 'पर<unk>प<unk>रिस.', 'हरपारा.', 'मेशन<unk>.', 'ग<unk>रार<unk>.', 'बिलिसिस.', 'हर<unk>मासा.', 'अल<unk>ललल.', 'जाााााा.', 'बाहाााा.', 'पर<unk>ो.', 'अप<unk>त<unk>त<unk>त.', 'आस<unk>ति.', 'प<unk>राास<unk>यााच<unk>.', 'बुर<unk>रार<unk>रर.', 'डेल<unk>लो.', 'सिर<unk>त.', 'पर<unk>ारा.', 'एल<unk>मी.', 'शेमी.', 'आप<unk>राला.', 'छाला.', 'जिश<unk>यों.', 'होफो.', 'जिरावा.', 'रहाई.', 'महाना.', 'दिया.', 'निलिसिन.', 'भारी.', 'चारपार.', 'भानाश.', 'रुस<unk>ता.', 'आम<unk>या.', 'तार<unk>वों.', 'जुवाधा.', 'पहाता.', 'अधारा.', 'ब<unk>रान.', 'ताराा.', 'पर<unk>वार<unk>ानी.', 'त<unk>रान<unk>यान.', 'ब<unk>रेक<unk>स.', 'मालपपपार.', 'तुर<unk>वां.', 'तुल<unk>राली.', 'पिंट.', 'क<unk>रेक<unk>लिंिन.', 'ब<unk>रार.', 'काश<unk>याची.', 'काश.', 'प<unk>रेक<unk>रेस<unk>टेशन.', 'अमासिय.', 'चानन.', 'विशनान.', 'हाल<unk>लिलन.', 'रिम<unk>या<unk>याती.', 'जाहान.', 'साहों.', 'अर<unk>यात<unk>यियिं<unk>ं.', 'कोलों.', 'आत<unk>राााााा.', 'पिल<unk>टिस.', 'जेपोर.', 'घुरााा.', 'अम<unk>याली.', 'मुर<unk>यां.', 'रोसिया.', 'होल<unk>सेसिस.', 'अल<unk>ला.', 'साशन.', 'राम<unk>प<unk>राााास.', 'जााााा.', 'अरिया.', 'जिवात.', 'फोड़.', 'पहाा.', 'निलामाया.', 'जोललली.', 'फोलाा.', 'क<unk>रायायी.', 'धुन.', 'आहाा.', 'प<unk>राप<unk>रप<unk>राप.', 'नियों.', 'मिलिलों.', 'जोमासा.', 'जिका.', 'फोला.', 'कोर<unk>टेलिया.', 'ब<unk>रें.', 'सोरो.', 'ब<unk>रानच.', 'अन<unk>तााा.', 'जहारी.', 'तुर<unk>री.', 'सेम<unk>ट<unk>ट.', 'वेल<unk>टर.', 'इलालच.', 'भार<unk>यांस<unk>यां.', 'जोललाली.', 'खारपार.', 'आलाााा.', 'आत<unk>यियिं<unk>यों.', 'कुर<unk>लाला.', 'बहाद<unk>ररर.', 'प<unk>राश<unk>यात.', 'मोलली.', 'किश<unk>री.', 'स<unk>राचा.', 'हामान<unk>.', 'सि<unk>याश<unk>या.', 'द<unk>रिह.', 'गोडो.', 'विश<unk>श.', 'काल<unk>लार<unk>र.', 'जोमेस<unk>ट.', 'हामा.', 'चिंद<unk>र.', 'पिनिस.', 'मेप.', 'बोल<unk>लेंग.', 'तोलों.', 'अधाक.', 'जिन<unk>द<unk>रा.', 'चिला.', 'मेप.', 'जीस<unk>स.', 'गुराा.', 'रित<unk>राा.', 'कााााा.', 'सहाम<unk>याती.', 'पर<unk>तिक<unk>.', 'निक<unk>रियां.', 'मिं<unk>यां<unk>यिंिं.', 'जोलानांंग.', 'स<unk>रााास.', 'क<unk>रेस<unk>स.', 'डोड़ा.', 'पोल<unk>ट<unk>री.', 'चेलााा.', 'नालापा.', 'छोला.', 'गोडो.', 'सं<unk>ष<unk>त<unk>त<unk>ता.', 'मां<unk>र<unk>प<unk>र.', 'जिल<unk>मिनिन.', 'अम<unk>याय.', 'चिंगियों.', 'अस<unk>मा.', 'बेन<unk>स.', 'तिह.', 'फिलिसिस.', 'उद<unk>वाव.', 'वेट<unk>स.', 'जीएस.', 'चि<unk>याश<unk>य.', 'अर<unk>त<unk>वा.', 'विस<unk>टिंग.', 'विर<unk>त.', 'मुलालाचा.', 'धर<unk>यापारा.', 'अम<unk>याय.', 'इनिया.', 'महियामी.', 'सोल<unk>लों.', 'विर<unk>ट.', 'भानााच.', 'मुरारी.', 'कोंगाल.', 'जसपपता.', 'क<unk>यिन.', 'तुरारी.', 'राहाती.', 'जिलोंग.', 'पुराली.', 'इं<unk>ट<unk>रोरोर.', 'गिलोंों.', 'कोललला.', 'वानो.', 'कार<unk>त<unk>या.', 'अप<unk>ता.', 'बेलली.', 'जिन<unk>..', 'जिवान.', 'रिस<unk>री.', 'पहिया.', 'तारा.', 'डेपारी.', 'जाहाती.', 'कार<unk>व.', 'मिंगियों.', 'देर<unk>पुर<unk>र.', 'जलाााा.', 'जोमाई.', 'प<unk>रेस<unk>ट<unk>र<unk>ट.', 'क<unk>रास<unk>याश<unk>.', 'बावाा.', 'थार<unk>ट.', 'उच<unk>याााचा.', 'त<unk>रिया.', 'धन<unk>नों.', 'टेलल.', 'शिल<unk>लालााालाला.', 'रिललेली.', 'कार<unk>यााा.', 'पर<unk>र<unk>र<unk>पुर.', 'जिहाया.', 'हासा.', 'प<unk>रााान.', 'खिल<unk>र<unk>रिर.', 'भा<unk>याया.', 'इक<unk>टी.', 'शिर<unk>द<unk>र.', 'सेल<unk>टेल.', 'क<unk>रेक<unk>लिलिन.', 'बेर<unk>र.', 'सुर<unk>रारी.', 'प<unk>राशन.', 'सं<unk>यांक<unk>र.', 'जोगााा.', 'भिया.', 'योंडिक<unk>रिन.', 'हिमात<unk>या.', 'विलारी.', 'गोली.', 'रेम.', 'सालारा.', 'दिश<unk>यातीया.', 'द<unk>राह.', 'शाहाा.', 'प<unk>रियांची.', 'जिस<unk>र<unk>यास<unk>यांची.', 'जिसा.', 'माललाल.', 'बिरिवान.', 'मीएी.', 'उद<unk>यााा.', 'अल<unk>पोरो.', 'विश<unk>वत<unk>.', 'चंद<unk>रां.', 'माद<unk>री.', 'एल<unk>टिक.', 'पर<unk><unk>राप<unk>र<unk>ती.', 'हासाप.', 'सहामी.', 'सम<unk>याा<unk>य.', 'मियाश<unk>याशियिं.', 'वृष<unk>विव<unk>वा<unk>या.', 'रास<unk>राााश.', 'बाराार.', 'तुराा.', 'कुप<unk>त.', 'भारा.', 'किशिन.', 'सेस<unk>टेलेट.', 'अर<unk>याही.', 'लिलेलिन.', 'जोल<unk>र.', 'विश<unk>या.', 'हर<unk>ना.', 'शानवां.', 'रसप.', 'स<unk>वार<unk>त<unk>त<unk>त.', 'विर<unk>राला.', 'वीएीएस.', 'महापपार.', 'चिलिन.', 'अर<unk>रा.', 'जिन<unk>द<unk>रान.', 'व<unk>रास<unk>ट<unk>ट.', 'जननाााा.', 'पोर<unk>ट.', 'जवाव.', 'इं<unk>प<unk>र<unk>ट<unk>रिट.', 'सहाशिन.', 'मार<unk>र<unk>यार<unk>र<unk>र<unk>रांचाल.', 'इस<unk>तियाश.', 'मुराचा.', 'पर<unk>ट<unk>रोंों.', 'एआईए.', 'बाला.', 'जिनान.', 'होल<unk>ट<unk>रेल.', 'रात<unk>याश<unk>या<unk><unk>ष<unk>ती.', 'पेल<unk>लेसेशन.', 'थेंसों.', 'शिर<unk>त.', 'सााााा.', 'विश<unk>वाव<unk>या.', 'रिक<unk>त.', 'स<unk>रात<unk>राास<unk>ध<unk>या.', 'राव<unk>वा<unk><unk>त.', 'प<unk>रिशिसिश.', 'दुर<unk>ारााा.', 'फिलिमियिन.', 'जोड.', 'जाहाार.', 'सुलााा.', 'डेपोस.', 'सुसाही.', 'भाराई.', 'प<unk>राम<unk>या.', 'माहनान.', 'नालारा.', 'आपारा.', 'फोल<unk>मिया.', 'दुर<unk>वाा.', 'स<unk>वित<unk>र<unk>यां<unk>ं.', 'मोल<unk>टिया.', 'बियार.', 'कोल<unk>लिया.', 'घ<unk>रित<unk>ती.', 'दुर<unk>ा.', 'कोर<unk>स<unk>स.', 'चानाा.', 'शिनाने.', 'ब<unk>रेंसेंग.', 'फोल<unk>लिया.', 'बसा.', 'ताहारी.', 'एआईएसए.', 'शिन<unk>वाचा.', 'हर<unk>स<unk>रााांश.', 'तिप<unk>प<unk>री.', 'माल<unk>यार<unk>रिया.', 'क<unk>रियिंग.', 'मिश<unk>यां.', 'पहोलो.', 'हिलिस<unk>.', 'बाशन.', 'इप<unk>ट<unk>लिलियान.', 'सुमा.', 'गुर<unk>रा.', 'संक<unk>रााा.', 'पोलोला.', 'सुन<unk>न.', 'सीस<unk>स<unk>स.', 'माहाई.', 'यावात<unk>त.', 'उप<unk>राललाल.', 'ब<unk>रिस<unk>स.', 'एक<unk>टर.', 'चिल<unk>या.', 'वाओ.', 'अधियांियां.', 'लोगाना.', 'हाइपप.', 'प<unk>रास<unk>रांचां.', 'महास<unk>थात.', 'कारार.', 'कुराया.', 'विय<unk>यियिं.', 'सुप<unk>त<unk>य.', 'संगरुर.', 'स<unk>ट<unk>रेक<unk>रिलिन.', 'अर<unk>या.', 'जननों.', 'रागार.', 'युनियां.', 'भाव<unk>यात<unk>र.', 'जित<unk>या.', 'सुर<unk>वांन.', 'रुद<unk>वावा.', 'बृत<unk>वाव<unk>त.', 'ग<unk>रीयी.', 'भिर<unk>तिया.', 'पर<unk>प<unk>रप<unk>रपात<unk>त.', 'टिमी.', 'स<unk>वाशन.', 'माल<unk>याल<unk>याल<unk>या.', 'अचिली.', 'महित<unk>त.', 'मोलों.', 'अर<unk>रो.', 'हिर<unk>पपुर.', 'पहिलियां.', 'बेलेले.', 'प<unk>राश<unk>यांच<unk>.', 'दाराााा.', 'धिराया.', 'टेप<unk>स.', 'गीआई.', 'इनात.', 'मिल<unk>लाली.', 'टोलोसो.', 'माहाा.', 'पिर<unk>री.', 'साहााया.', 'तेपाा.', 'जिस<unk>टी.', 'निकारा.', 'धिया.', 'गहानान.', 'फारी.', 'गिम<unk>ट.', 'टिस<unk>ट<unk>रेशिस.', 'नागारााा.', 'रामाचच<unk>या.', 'मेल<unk>यार<unk>ट.', 'जााााा.', 'केल<unk>सिसि.', 'माचान.', 'चानां.', 'हिमिं.', 'इं<unk>प<unk>र<unk>ट<unk>ट.', 'टिल<unk>टिंग.', 'नाशात.', 'फोलाला.', 'पिया.', 'जिवान.', 'कोटा.', 'डिलेसिसिं.', 'बिलिन.', 'स<unk>टेंों.', 'सानान.', 'जिमिया.', 'गावो.', 'टोल<unk>लों.', 'उदान.', 'सुर<unk>त<unk>र<unk>त<unk>री.', 'मुर<unk>दा.', 'विस<unk>त.', 'मिर<unk>री.', 'सहानांों.', 'राखान.', 'अस<unk>यान.', 'रोसा.', 'तामा.', 'मित<unk>रित.', 'त<unk>राााा.', 'मुल<unk>रालाना.', 'वोलो.', 'विश<unk>यां.', 'खों.', 'डिप<unk>र<unk>ट.', 'सुसारा.', 'हिस<unk>प.', 'उप<unk>तत.', 'कापारा.', 'कुरााा.', 'दिवांग.', 'चिमिंों.', 'मोल<unk>से.', 'हेस<unk>स.', 'प<unk>रेन<unk>लेशन.', 'मुनों.', 'जिस<unk>ट.', 'नोल<unk>सो.', 'अल<unk>पुरा.', 'फालो.', 'तिनार.', 'गालाया.', 'पिनान.', 'भार<unk>यां<unk>यांिं.', 'चिस<unk>स.', 'एक<unk>सी.', 'मेआर.', 'रिज<unk>रांद<unk>रों.', 'आर<unk>षों.', 'गोलालालेल.', 'अन<unk>यास<unk>यात<unk>त<unk>त.', 'उताई.', 'क<unk>रेर<unk>मी.', 'प<unk>राा<unk>याच<unk>या.', 'निलाचा.', 'बेली.', 'खाल<unk>लालालचा.', 'स<unk>रांग.', 'अन<unk>वावाया.', 'रुवारी.', 'शार<unk>ारा.', 'चिस<unk>स<unk>टिशिस.', 'भावाााई.', 'राहातीया.', 'अल<unk>ला.', 'विलोलाललाल.', 'चार<unk>ााा.', 'टेस<unk>ट.', 'स<unk>टेलिया.', 'हर<unk>वाश.', 'दिनी.', 'शिवार.', 'टेआई.', 'तेमी.', 'खिर<unk>द<unk>रााला.', 'मुदावा.', 'पिलियिं.', 'ब<unk>रेंग.', 'मिसिया.', 'जिकार.', 'देलाला.', 'हाहों.', 'परवा.', 'हिस<unk>प<unk>रेट.', 'मोलली.', 'प<unk>राास<unk>या.', 'किल<unk>स<unk>टिशन.', 'फोराा.', 'विस<unk>रामा<unk>या.', 'नचाचा.', 'घ<unk>ट<unk>स.', 'पिस<unk>री.', 'जासाा.', 'हेस<unk>पर.', 'डोल<unk>लालाला.', 'बश<unk>शन.', 'इं<unk>र<unk>रिंिन.', 'बाहत.', 'रिसिया.', 'किश<unk>रात<unk>.', 'विश<unk>वात<unk>त.', 'जेमी.', 'पार<unk>यासी.', 'घुर<unk>ंगों.', 'अचा.', 'इनिन.', 'अर<unk>या.', 'अश<unk>ष<unk>षांा.', 'भिं<unk>विं<unk>यिंं.', 'रोस<unk>स.', 'निय<unk>रास<unk>ट<unk>रिटिटी.', 'कोल<unk>लोल.', 'आंगान.', 'मोलो.', 'मेस<unk>ट<unk>रें<unk>टिंग.', 'तिर<unk>या.', 'रिस<unk>यों.', 'बोलाचा.', 'शारााााा.', 'जित<unk>त.', 'नााााा.', 'बस<unk>ताया.', 'डेल<unk>प<unk>रपुर.', 'जोड़.', 'अध<unk>राााााााा.', 'फालमा.', 'सुमाह.', 'नोनों.', 'एसएसपी.', 'शिलिंस.', 'पर<unk>पपुर.', 'इंट<unk>रोस<unk>टेल.', 'एक<unk>ट<unk>राइ.', 'कॉर<unk>ट<unk>रिंग.', 'तिहाही.', 'र<unk>स<unk>लेल.', 'नालाााार.', 'कोल<unk>पोरासा.', 'आप<unk>रिक.', 'रिक<unk>ट<unk>र<unk>ट.', 'टीएसएसएस.', 'स<unk>विश<unk>याश<unk>त.', 'मोड़.', 'देंदारा.', 'भारा.', 'प<unk>राास<unk>रा.', 'खिसिस.', 'नामा.', 'शिर<unk>िंग.', 'राश<unk>त<unk>र.', 'बाारा.', 'स<unk>टेल.', 'वर<unk>धा.', 'डिल<unk>मेस<unk>टिया.', 'दुरााााा.', 'बासा.', 'बाहान.', 'आराचा.', 'उंडरर.', 'तुर<unk>का.', 'यात<unk>याश<unk>त.', 'इनियामिं.', 'सुर<unk>रोंग.', 'रोपसा.', 'स<unk>टेंस<unk>न.', 'मार<unk>र<unk>यार<unk>र<unk>र<unk>रांचाल.', 'शि<unk>यां<unk>यियिं.', 'खुल<unk>लाला.', 'बिलांस<unk>त.', 'पिरिया.', 'नेटो.', 'जाही.', 'धानानों.', 'मुस<unk>रामा.', 'अल<unk>पारा.', 'जमााई.', 'पिर<unk>टि.', 'अर<unk>या.', 'विर<unk>ट.', 'आप<unk>रा.', 'हााा.', 'अचिया.', 'उद<unk>थों.', 'स<unk>वावाध<unk>.', 'बाइ.', 'रादार.', 'पिलिसिस.', 'डीएलए.', 'भारा.', 'सुन<unk>या.', 'अध<unk>वानों.', 'रागारार.', 'स<unk>वावावा.', 'गुर<unk>द<unk>रर.', 'नालचा.', 'बार<unk>त<unk>रर.', 'सहामामाती.', 'जाना.', 'पोलल.', 'ट<unk>रेस<unk>टिन.', 'पिलिंिंग.', 'इस<unk>त<unk>र.', 'डियिया.', 'अम<unk>स.', 'जोंगों.', 'अश<unk>यात<unk>त.', 'झाई.', 'प<unk>रियियां.', 'ब<unk>रेस<unk>टी.', 'महानााााा.', 'गिर<unk>यिया.', 'भोड़.', 'रियिंग.', 'फरााा.', 'अत<unk>त<unk>त.', 'रुस<unk>ा.', 'अल<unk>मापारा.', 'फर<unk>ाला.', 'रिक<unk>रियिय.', 'पोलोलों.', 'जोनों.', 'बुर<unk>लाली.', 'इनाच<unk>या.', 'अल<unk>लेमिन.', 'धारीया.', 'नाखावा.', 'क<unk>रीयी.', 'सर<unk>त.', 'जोल<unk>ंग.', 'पाला.', 'पोर<unk>टो.', 'आपापात.', 'अर<unk>वाही.', 'मिस<unk>टिया.', 'सुश<unk>शन.', 'दिर<unk>ष<unk>षाता.', 'जोर<unk>पोड.', 'ग<unk>रांग<unk>नान.', 'यहाच<unk>यामा<unk>या.', 'भाव.', 'रोबा.', 'माल<unk>यांों.', 'केर<unk>ट<unk>टिस.', 'आंड़र<unk>ड.', 'हाइप<unk>रोस<unk>ट<unk>रेश.', 'चिस<unk>मी.', 'सेस<unk>ट<unk>रेंस.', 'मुसा.', 'कोलाला.', 'तारार.', 'अध<unk>रर.', 'मुस<unk>ता.', 'मुलाना.', 'रित<unk>यिं.', 'सुखाचे.', 'सुराता.', 'जिल<unk>री.', 'मेस<unk>स.', 'रित<unk>र<unk>त.', 'क<unk>रत<unk>र<unk>त<unk>रााा.', 'महारर.', 'बुरााचा.', 'धर<unk>ता.', 'भार<unk>या.', 'वियियों.', 'कुस<unk>.', 'बुर<unk>ाााा.', 'जामाा.', 'बेर<unk>लोर.', 'विस<unk>स.', 'महारपुर<unk>त.', 'कोलोपों.', 'ब<unk>रेक<unk>रिंग.', 'सिस<unk>या.', 'घिन<unk>या.', 'फ<unk>रेस<unk>टिंग.', 'चि<unk>या<unk>या.', 'सुम<unk>या.', 'सुस<unk>या.', 'विश<unk>य.', 'चंधावां.', 'चा<unk>या.', 'आर<unk>रा.', 'बारोगा.', 'दांगारा.', 'अम<unk>त<unk>त.', 'शिल<unk>ट<unk>स.', 'पर<unk>माली.', 'जमाम.', 'फिल<unk>लिलियो.', 'तामा.', 'पिलियो.', 'एमएीएस.', 'कुखचा.', 'चानचा.', 'लिल<unk>लिन.', 'उद<unk>वावां.', 'राना.', 'जिहियां.', 'मुत<unk>राााा.', 'विश<unk>र<unk>त<unk>र.', 'इन<unk>सिया.', 'काहाा.', 'काल<unk>ट<unk>रेंट.', 'बानान.', 'इप<unk>र<unk>ट<unk>रेशन<unk>याइ.', 'प<unk>रत<unk>ष<unk>तााा.', 'फोलोंों.', 'सिव<unk>र<unk>त<unk>र.', 'इंडेंग.', 'चास<unk>स.', 'हिल<unk>स.', 'रोस<unk>ट<unk>रों.', 'भारााया.', 'क<unk>रेस<unk>ट<unk>रेशनियों.', 'प<unk>रोन<unk>टोंों.', 'गुरावा.', 'विर<unk>यिंं.', 'जित<unk>त.', 'जासा.', 'फेंट.', 'पर<unk>षान.', 'शास.', 'गोखाच.', 'टीसी.', 'डिल<unk>याइस.', 'माध<unk>यााचा.', 'प<unk>रश<unk>यांशिं.', 'सोंड.', 'गिर<unk>स.', 'अलानगों.', 'स<unk>वार<unk>त<unk>र<unk>र.', 'प<unk>राार<unk>ारी.', 'आप<unk>तत.', 'राष<unk>त<unk>र<unk>त<unk>र.', 'साना.', 'सि<unk>यां<unk>रियिं.', 'राद<unk>रर.', 'लाहारी.', 'इं<unk>रवारी.', 'छाराया.', 'सिवारी.', 'भापा.', 'ब<unk>रानन.', 'सिश<unk>रात.', 'पर<unk>शन.', 'पर<unk>प<unk>र<unk>ट.', 'उशानान.', 'जोलाल.', 'एईएीएफ.', 'वास<unk>ट.', 'मोलों.', 'प<unk>रियियों.', 'शिलिम.', 'जीएससीस.', 'कोलोलिलिन.', 'सुपारा.', 'विश<unk>त.', 'क<unk>रेस<unk>स.', 'जामााााा.', 'इस<unk>स.', 'सेस<unk>टोर.', 'अप<unk>सेश.', 'माहार<unk>तर.', 'चेल.', 'जुवाह.', 'मिल<unk>याली.', 'मिस<unk>टिया.', 'जोना.', 'मार<unk>र<unk>यार<unk>र<unk>र<unk>रांचाल.', 'जेपाई.', 'इशिया.', 'बान.', 'हर<unk>या.', 'डियासिशि.', 'विस<unk>ों.', 'आप<unk>र<unk>ट<unk>रिक<unk>ट.', 'पर<unk>प<unk>रत.', 'धार<unk>याााा.', 'अनावारा.', 'अर<unk>ों.', 'अप<unk>त<unk>याता.', 'नियानिया.', 'तिल<unk>लाल.', 'हिमिस.', 'विर<unk>टी.', 'बांदाराा.', 'घामी.', 'पोरामाया.', 'बेलोलेलिलियाइल.', 'बश<unk>शा.', 'संग<unk>रांक<unk>ण.', 'टोलों.', 'घुर<unk>नांगों.', 'हाइसेस.', 'पहाने.', 'जिस<unk>स.', 'कर<unk>प<unk>रत.', 'रिजिंग.', 'शात.', 'स<unk>ट<unk>रास<unk>टी.', 'किर<unk>नों.', 'चिलोंों.', 'योड़र.', 'स<unk>सियो.', 'पेल<unk>योसिसिस.', 'जिलिंग.', 'इं<unk>यियियिश.', 'जिल<unk>मिनिन.', 'फोलों.', 'निहिन.', 'भारााया.', 'जोमााा.', 'पहाचच<unk>ला.', 'राश<unk>यांत.', 'ब<unk>रेसिस.', 'तेंगों.', 'गुल<unk>द<unk>रार.', 'सिश<unk>राता.', 'युर<unk>शन.', 'हरान.', 'जाता.', 'नियियियिं.', 'भियिय.', 'हिर<unk>यायी.', 'मुर<unk>राालाल.', 'मालरा.', 'जोंगंगों.', 'मावी.', 'विर<unk>री.', 'हेल<unk>स.', 'बोर<unk>ट<unk>रार<unk>रर.', 'घुर<unk>मा.', 'तुन<unk>ंग.', 'सीएसएस.', 'अस<unk>टियिस.', 'एआईपीपी.', 'जिनों.', 'गार<unk>यााााा.', 'विव<unk>यांह.', 'सिमाल<unk>मारी.', 'फोलिया.', 'प<unk>रांकर<unk>ंंन.', 'प<unk>रियियां.', 'विस<unk>पाा.', 'मानाा.', 'इं<unk>ट<unk>रें.', 'प<unk>राान.', 'अधिक<unk>रिंगर.', 'वित<unk>वांत.', 'होल<unk>लोल.', 'वियियों.', 'माना.', 'छाद<unk>रावी.', 'छारपुर.', 'दुर<unk>दा.', 'समी.', 'मिहायाच.', 'बिं<unk>यांिं<unk>यों.', 'पहाश<unk>त.', 'ब<unk>राम<unk>याश<unk>यां.', 'जिल<unk>सेली.', 'अल<unk>टेसेश.', 'सिहात<unk>ती.', 'हिर<unk>तिया.', 'काश<unk>यााा.', 'आखााा.', 'बेन.', 'विश<unk>रार<unk>ती.', 'झोलों.', 'रोस<unk>टो.', 'श<unk>राप<unk>रपुर.', 'माचच<unk>या.', 'वापापाला.', 'मिस<unk>टें.', 'भार<unk>वां.', 'ट<unk>रेस<unk>ट<unk>र<unk>ट.', 'सु<unk>र<unk>या<unk>या.', 'पर<unk>त<unk>त.', 'हारा.', 'मिश<unk>याश.', 'उदाा.', 'ति<unk>याप<unk>र<unk>त<unk>र<unk>त<unk>त.', 'पोर<unk>ट<unk>र<unk>ट<unk>ट.', 'रा<unk>षााा.', 'तिया.', 'महाद<unk>र.', 'मुस<unk>त.', 'रिक<unk>यान.', 'हासा.', 'अर<unk>त<unk>यिंिं.', 'अध<unk>यांह.', 'ताही.', 'त<unk>रियान.', 'दिया.', 'बाापपु.', 'दुरवाा.', 'खास<unk>ता.', 'मुर<unk>या.', 'हाहे.', 'पाहा.', 'मुराई.', 'गाव.', 'पोल<unk>लाली.', 'आश<unk>रााा.', 'नियाया.', 'ज<unk>लेक<unk>रोलेल<unk>लाल.', 'ब<unk>राश<unk>याश<unk>या.', 'तिश<unk>यास.', 'रासा.', 'चिन<unk>चाचच.', 'प<unk>राप<unk>राा.', 'तुर<unk>वात.', 'देंगों.', 'हामाचच<unk>या.', 'शिन<unk>शन.', 'तेम.', 'द<unk>रियाशि.', 'जुखाा.', 'बहानि..', 'जन<unk>यााााता.', 'विलाप<unk>रापी.', 'शेल<unk>स.', 'एस<unk>पी.', 'नेआई.', 'दुर<unk>ष<unk>तााात.', 'सुर<unk>याया.', 'कुर<unk>धन.', 'तेट<unk>.', 'रेल<unk>ट<unk>रिंिंग.', 'फिलिसि.', 'क<unk>री.', 'छास<unk>स.', 'मोलोलालाला.', 'विर<unk>थ.', 'अराना.', 'युं<unk>यार<unk>या.', 'बालाााााम.', 'बोला.', 'इन<unk>मिस<unk>टिती.', 'सिश<unk>राश.', 'जीए.', 'दुवारा.', 'किमी.', 'कुराााा.', 'पिर<unk>ट.', 'तारारा.', 'खास<unk>ता.', 'जातत.', 'पर<unk>ता.', 'गीएीए.', 'युर<unk>ती.', 'कोलोला.', 'प<unk>रियो.', 'कामाााा.', 'बाल<unk>यांिंियों.', 'जसात.', 'गुर<unk>प<unk>रपुर.', 'श<unk>रास<unk>त<unk>रास<unk>तत.', 'शि<unk>ष<unk>यााा.', 'एक<unk>ट<unk>र<unk>ट.', 'राद<unk>वा<unk>ष<unk>त<unk>ंं.', 'काल<unk>प<unk>ररी.', 'कॉम<unk>ट<unk>रेशिसिस.', 'महाचचे.', 'कुलाय.', 'डीएीएस.', 'रियास.', 'ताहाई.', 'भोलो.', 'उप<unk>नान.', 'एलियी.', 'विर<unk>याया.', 'सेपारी.', 'अर<unk>वान.', 'हर<unk>नों.', 'आम<unk>प<unk>राइ.', 'मोल<unk>ट<unk>रेर.', 'प<unk>रित<unk>रित<unk>र<unk>त.', 'रायान<unk>ंग.', 'सिवावान.', 'फोरोग.', 'एलीमी.', 'सु<unk>त<unk>र<unk>त<unk>री.', 'आआईए.', 'इनियार<unk>या.', 'किल<unk>ट<unk>रिं<unk>ंग.', 'गोलालाल.', 'गुर.', 'अधियिंियों.', 'बाखन.', 'सुखाओ.', 'डिल<unk>प<unk>रिटि.', 'ग<unk>रित<unk>त.', 'जोल<unk>लों.', 'प<unk>रविव<unk>रिं<unk>रिंंग.', 'केल<unk>योसिशन.', 'बाड़.', 'गिर<unk>टी.', 'डेस<unk>ों.', 'मोल<unk>लोलेलल.', 'रेमोलिंिंग.', 'रागार<unk>दों.', 'अर<unk>ट<unk>री.', 'उन<unk>यात<unk>र<unk>ती.', 'राश<unk>वा<unk>त<unk>त.', 'पर<unk>षियां.', 'केच<unk>योसिशिस.', 'भासत.', 'भार<unk>त.', 'हिंगिंग.', 'धर<unk>त.', 'धोंों.', 'उप<unk>नानां.', 'फिल<unk>लेलिलिन.', 'स<unk>टेक<unk>टें.', 'ब<unk>रिशिन.', 'प<unk>रियारी.', 'बहाती.', 'थेन.', 'थेस<unk>स.', 'धिव<unk>यावी.', 'तुर<unk>तिया.', 'सीएीएीएस.', 'इक<unk>री.', 'गीआई.', 'रेस<unk>टिन.', 'क<unk>रीरी.', 'प<unk>रास<unk>त<unk>रामा<unk>या.', 'माहाााा.', 'जाशन.', 'राना.', 'सुरा.', 'म<unk>रेक<unk>लिया.', 'पर<unk>टों.', 'बाहात.', 'ब<unk>राव.', 'अनातत.', 'भा<unk>चा.', 'बाथ.', 'चा<unk>षा.', 'अप<unk>र.', 'अस<unk>सिशिस.', 'क<unk>राव<unk>र<unk>त<unk>रा.', 'सुलाा.', 'धाचन.', 'रियियिंिंग.', 'जेमेस.', 'क<unk>रियानी.', 'सियायाया.', 'अमी.', 'अत<unk>रााारी.', 'थारका.', 'बोलोलेसा.', 'रेल<unk>लेशन.', 'माल<unk>ड़.', 'हिलमा.', 'रागारााा.', 'हेसेस.', 'महाश<unk>रास<unk>त<unk>रााच.', 'पोर<unk>लेंों.', 'टेर<unk>प<unk>रार.', 'पेल<unk>स.', 'भापा.', 'बासाच.', 'वाना.', 'द<unk>रार<unk>र<unk>त.', 'एस<unk>टी.', 'जिवियांिय.', 'पाचना.', 'खोड़.', 'उद<unk>द<unk>वां.', 'बिसिन.', 'गिर<unk>यियिंं.', 'पर<unk>शन.', 'परााा.', 'अचारा.', 'कोर<unk>ों.', 'डेपोर.', 'त<unk>राप<unk>रा.', 'अलियाली.', 'खाता.', 'नहावावा.', 'शिलमा.', 'इन<unk>यामिस<unk>यियास.', 'इंट<unk>र<unk>स.', 'प<unk>रेस<unk>प<unk>रेशन.', 'उदोगों.', 'भोंो.', 'मेस<unk>स.', 'बारााय.', 'अलाई.', 'इन<unk>प<unk>रेस<unk>टिटर.', 'अल<unk>स.', 'लोक<unk>रों.', 'मुमाया.', 'रोगों.', 'हेमिस<unk>स.', 'फार<unk>पारा.', 'सुमाची.', 'अश<unk>यात<unk>त.', 'इशास.', 'रेस.', 'आरा.', 'महोनों.', 'विश<unk>याश.', 'जेपपोप.', 'कुर<unk>ारा.', 'ज<unk>रास<unk>यासाश.', 'सेमारी.', 'राका.', 'रोस<unk>टरा.', 'बिनि.', 'बहाता.', 'चार<unk>ााााा.', 'भावााई.', 'सहित<unk>यात<unk>त.', 'नापपपपार.', 'संधानान.', 'चिर<unk>पुर<unk>.', 'सुराा.', 'धाही.', 'प<unk>रााा.', 'आचातारा.', 'दुवावा.', 'बाल<unk>राल.', 'अलिमाच<unk>या.', 'देर<unk>त.', 'असा.', 'फोर<unk>टेस<unk>स.', 'बांगावाला.', 'सारा.', 'अस<unk>थ.', 'रिल<unk>रो.', 'महान<unk>द<unk>रर.', 'दिमारी.', 'विंगों.', 'खुस<unk>ता.', 'बस<unk>ता.', 'अन<unk>यांक<unk>रा.', 'बिला.', 'ताह.', 'अप<unk>याय.', 'विस<unk>ट<unk>रा.', 'स<unk>प<unk>र<unk>स.', 'अल<unk>पुरा.', 'बाहाार.', 'घाराा.', 'काश<unk>रा.', 'महियाँ.', 'किलिसिस<unk>स.', 'फिनों.', 'गोहो.', 'खास<unk>थ.', 'केर<unk>टेशिसिस.', 'डिल<unk>लोल.', 'एसएीए.', 'सि<unk>यां<unk>यिं.', 'राश<unk>यास<unk>तात<unk>त.', 'किय<unk>यिंग.', 'इद<unk>रीरी.', 'इं<unk>ट<unk>र<unk>रिक<unk>.', 'भार<unk>ष<unk>षाश.', 'मानिया.', 'रिइस<unk>स.', 'विस<unk>टियिन.', 'पहााा.', 'बाह.', 'इं<unk>र<unk>रियारी.', 'सेल<unk>सा.', 'कापपार.', 'अरान.', 'ग<unk>रेसियो.', 'उप<unk>ता.', 'धर<unk>था.', 'साहााााय.', 'कुराया.', 'दिर<unk>याम<unk>य.', 'अल<unk>चाच.', 'कुराया.', 'प<unk>राप<unk>ट.', 'छावााा.', 'सियान.', 'विर<unk>राला.', 'सेस<unk>टेलेट.', 'जुरााय.', 'पोर<unk>टर.', 'मिराई.', 'माल<unk>याया.', 'पिशिन.', 'जेल<unk>सों.', 'अर<unk>ष<unk>यास<unk>त<unk>रांश.', 'कोना.', 'नित<unk>याश<unk>र.', 'सोसो.', 'नाता.', 'सं<unk>याप<unk>राााा.', 'रोर<unk>रार.', 'छों.', 'जेश.', 'वाश<unk>वात.', 'राहत.', 'अर<unk>ता.', 'बावाा.', 'क<unk>राााची.', 'प<unk>रााााा.', 'ट<unk>रेक<unk>लिंिन.', 'अप<unk>रस<unk>त<unk>ता.', 'बाल<unk>राररा.', 'अनाााा.', 'मानों.', 'कुमाही.', 'फोर<unk>लाली.', 'हानाररा.', 'अम<unk>यारी.', 'प<unk>राास<unk>ष<unk>षों.', 'ताखाााा.', 'इप<unk>लाच<unk>या.', 'दिर<unk>त.', 'शाराााा.', 'फर<unk>मी.', 'खारा.', 'दिवात<unk>.', 'क<unk>रिसिस.', 'टेल<unk>टेला.', 'विस<unk>टिन.', 'पर<unk>त<unk>रित.', 'इन<unk>मिन.', 'बाशिय.', 'इस<unk>टियिशिस.', 'मेसिया.', 'किल<unk>टियी.', 'अस<unk>याच.', 'खारपार.', 'महिया.', 'विश<unk>या<unk>यास<unk>ती.', 'रिहिन.', 'कोल<unk>लों.', 'आर<unk>यारी.', 'मुर<unk>र.', 'छिंड.', 'फााा.', 'बालााा.', 'परााा.', 'जीमी.', 'पाखााा.', 'ग<unk>रााााच.', 'जीएसस.', 'संगांग.', 'डीप<unk>स.', 'मुर<unk>लाााा.', 'जाराााा.', 'पाल<unk>टेली.', 'विनी.', 'अध<unk>रा.', 'बीएीएस.', 'पर<unk>ाााा.', 'बाशाा.', 'कोपोरा.', 'सुलााा.', 'विश<unk>थ.', 'चिश<unk>त.', 'थोन.', 'निल<unk>लिया.', 'मोलला.', 'ड<unk>रेट<unk>र.', 'रागार.', 'गोपपुर.', 'वार<unk>.', 'मेलिलिन.', 'ग<unk>रित<unk>.', 'स<unk>वा<unk>याय.', 'धारमी.', 'अं<unk>र<unk>र<unk>रिति.', 'विव<unk>विव<unk>याही.', 'सुत<unk>ष<unk>त<unk>त<unk>ताता.', 'शिंग<unk>रां.', 'घुर<unk>र<unk>री.', 'गियों.', 'चेम.', 'थेल<unk>लें.', 'अध<unk>यांद<unk>र.', 'शासत.', 'हिमिस.', 'ब<unk>राशिया.', 'धर<unk>ा.', 'राहत<unk>त.', 'मुत<unk>या.', 'पोर<unk>टों.', 'इंट<unk>रों.', 'घिलिंग.', 'पर<unk>स<unk>ताश.', 'विप<unk>रर.', 'केचेन<unk>सेशिस.', 'जासा.', 'पिलाम.', 'दारााा.', 'पोर<unk>टोलिन.', 'अधिक.', 'धर<unk>पारा.', 'देपापाती.', 'जिमारीया.', 'पोलो.', 'पर<unk>टी.', 'बिर<unk>री.', 'कॉम<unk>ट<unk>रिशिंिस.', 'अमिनिं.', 'असातत.', 'गुराा.', 'जीस<unk>स.', 'हरंगों.', 'बारार.', 'अल<unk>लेलल.', 'ब<unk>रिशिंं.', 'तिहाई.', 'तेर<unk>ता.', 'हर<unk>न.', 'तुर<unk>द<unk>रों.', 'स<unk>रोंों.', 'कार<unk>द<unk>रर.', 'खोना.', 'निल<unk>याली.', 'देलाने.', 'इन<unk>यामास<unk>यिया.', 'तेलालो.', 'जााााा.', 'जिनान.', 'इंडिललल.', 'रात<unk>शा.', 'फ<unk>रिंस.', 'क<unk>रत<unk>ष<unk>त<unk>र<unk>त<unk>ता.', 'आप<unk>सिया.', 'गुर<unk>री.', 'वियियांि.', 'बिश<unk>धा.', 'फेलेपा.', 'पर<unk>ष<unk>ताााा.', 'बाह.', 'गाखा.', 'चा<unk>थ.', 'मुस<unk>या.', 'जिल<unk>नां.', 'बिर<unk>त<unk>तत.', 'स<unk>पीटी.', 'आर<unk>ता.', 'हिल<unk>रुरी.', 'रिस<unk>रामा.', 'फ<unk>रेस<unk>टिस.', 'मुराई.', 'प<unk>रित<unk>यित<unk>त.', 'दिता.', 'प<unk>रोनों.', 'मेंसें.', 'निहाया.', 'मिस<unk>स.', 'काश<unk>सी.', 'ब<unk>रिक<unk>रि.', 'अम<unk>मिनिन.', 'हराा.', 'इशास.', 'सुमी.', 'दिष<unk>या<unk>या<unk>या.', 'धिर<unk>यास<unk>यास<unk>य.', 'क<unk>रार<unk>राां.', 'एआईए.', 'आध<unk>यां<unk>रियां.', 'तारा.', 'अकापा.', 'फर<unk><unk>यांच<unk>या.', 'मुंद<unk>यां.', 'तारा.', 'डियेस<unk>टिस.', 'चेलो.', 'धिर<unk>यिंंग..', 'इप<unk>रिनिन.', 'जुखा.', 'नेस<unk>स.', 'जिम<unk>यामिंं.', 'सु<unk>त<unk>रााता.', 'कारााा.', 'परवालाा.', 'डीएसस.', 'कालाााा.', 'मुरााााा.', 'तोलोन.', 'फेशिंों.', 'विस<unk>श.', 'ताहाया.', 'शिलाच<unk>या.', 'पहााार.', 'किसिया.', 'उचाश<unk>रााां.', 'रिस<unk>त.', 'वित<unk>र<unk>त<unk>त<unk>त<unk>या.', 'सुर<unk>रा.', 'विस<unk>त.', 'पेलिसी.', 'रुस<unk>धा.', 'भारता.', 'भार<unk>यास<unk>यांच.', 'खित<unk>ता.', 'मिं<unk>यां<unk>यिंिं.', 'मेड़.', 'काश<unk>नां.', 'जेन.', 'महिन.', 'सुववाा.', 'बाल<unk>यार<unk>या.', 'रिम<unk>याश.', 'आपारा.', 'चिंद<unk>यां.', 'एनएसएीएसएस.', 'आमिया.', 'एस<unk>से.', 'दश<unk>रात.', 'इन<unk>ट<unk>रेंस<unk>ट.', 'विर<unk>रांका.', 'कारााया.', 'भार<unk>ार.', 'इंट<unk>रोड.', 'सुस<unk>ता.', 'मुराया.', 'जिया.', 'जन<unk>याप<unk>र<unk>रााा.', 'अप<unk>त<unk>यातत.', 'किर<unk>यां<unk>यियों.', 'अल<unk>रुरा.', 'स<unk>रिक<unk>रिंियों.', 'जातत.', 'लेस<unk>ट<unk>स.', 'अश<unk>रााा.', 'काश<unk>या<unk>या.', 'आम<unk>त<unk>री.', 'विर<unk>यियिं.', 'विश<unk>वत.', 'राहा.', 'ऑप<unk>रास<unk>प<unk>रिप<unk>र<unk>ट.', 'प<unk>रास<unk>राललाल.', 'कोंगों.', 'पर<unk>र<unk>र<unk>र<unk>रर.', 'रिमिय.', 'पहराता.', 'पास<unk>पास.', 'रिस<unk>टास.', 'मंग<unk>रिं<unk>यांियों.', 'स<unk>वा<unk>याा.', 'मा<unk>या<unk>याा<unk>या.', 'रित<unk>याह.', 'तोल<unk>ो.', 'अर<unk>ती.', 'पर<unk><unk>ष<unk>त<unk>र<unk>ंंग.', 'एक<unk>प<unk>रेट<unk>ट.', 'खिस<unk>.', 'रिकाशन.', 'वित<unk>र<unk>त<unk>री.', 'इं<unk>र<unk>रानी.', 'चि<unk>षाचा.', 'फेलेर.', 'स<unk>राच.', 'पाााा.', 'रागी.', 'मोस<unk>ट.', 'सिमासी.', 'शिल<unk>नों.', 'अम<unk>मिनों.', 'गुराा.', 'फेल<unk>टिसि.', 'प<unk>रााशन.', 'बुराशन.', 'द<unk>रिविया.', 'दिल<unk>याला.', 'ब<unk>रोलों.', 'भाववाड़.', 'जिसाती.', 'मोलानों.', 'राहावों.', 'महाद<unk>रात<unk>र.', 'बिस<unk>स.', 'दिव<unk>त<unk>ती.', 'सिंगवां.', 'किस<unk>टिस.', 'एक<unk>ट<unk>रेंिंिन.', 'छारा.', 'टोर<unk>पोलाा.', 'डेक<unk>प<unk>रर.', 'सुहाई.', 'लालपापा.', 'एम<unk>ट<unk>रेंटिस.', 'विस<unk>व.', 'आप<unk>सों.', 'स<unk>वार<unk>री.', 'उप<unk>रमामांचे.', 'मिल<unk>टियी.', 'बललाचा.', 'विस<unk>यासिशिन.', 'होल<unk>ट<unk>रें<unk>ट.', 'आराथ.', 'बोला.', 'क<unk>रें.', 'ताशो.', 'परवा.', 'काहाया.', 'मधाााचा.', 'टेल<unk>ले.', 'धारत.', 'निल<unk>याली.', 'काखा.', 'प<unk>रास<unk>त<unk>रिती.', 'कारााा.', 'भार<unk>यारी.', 'सिंगर.', 'माहाय.', 'जनहांगनों.', 'अभालचे.', 'धिर<unk>माना.', 'आलललल.', 'बासाा.', 'पेमी.', 'रोगा.', 'हर<unk>नााााा.', 'विर<unk>नांगनों.', 'गिर<unk>ती.', 'विर<unk>र<unk>रान.', 'डिलोलो.', 'प<unk>रास<unk>त<unk>रापा<unk>या.', 'संगलांग.', 'भांगों.', 'सुर<unk>नान.', 'रिय<unk>ट<unk>ट.', 'शिर<unk>ता.', 'मुसाह.', 'दिर<unk>यियांत.', 'भार<unk>यांों.', 'चिनाचे.', 'प<unk>रांकां.', 'नास<unk>प<unk>त.', 'फ<unk>लेन.', 'राल<unk>याााााा.', 'अलामार.', 'धााा.', 'गुलाह.', 'जीत.', 'खिर<unk>यारी.', 'शाहा.', 'अल<unk>लोलल.', 'उध<unk>वााा.', 'जिलालाली.', 'कुरा.', 'सिंहान.', 'टिल<unk>लोल.', 'दाल<unk>रार<unk>रर.', 'सिंगरी.', 'खिस<unk>ता.', 'इनिक.', 'मोल<unk>टेस<unk>ट.', 'दिवियायी.', 'फोलोंों.', 'डोलो.', 'जोलोलो.', 'मोसाा.', 'बाखा.', 'विरी.', 'सापापार.', 'अप<unk>रा.', 'रोगा.', 'भाती.', 'रिय<unk>यास<unk>यांिंं.', 'बालालालांों.', 'विल<unk>लिंों.', 'दाराती.', 'अस<unk>रा.', 'प<unk>रत<unk>र<unk>त<unk>रांकर.', 'यूरा.', 'नियियो.', 'सीएीएस.', 'लोस<unk>न.', 'दुंगन.', 'बार<unk>ाााां.', 'मुत<unk>यास<unk>यांत.', 'बाहर.', 'बिश<unk>या.', 'अर<unk>रा.', 'ताव.', 'राना.', 'सुमााा.', 'हिलली.', 'सिप<unk>री.', 'नेक.', 'महान<unk>रार<unk>त.', 'प<unk>रेस<unk>टिया.', 'विस<unk>चाचा.', 'कुराई.', 'एआईएी.', 'थ<unk>रेस<unk>ट.', 'अर<unk>या.', 'खारााा.', 'रागारर.', 'अस<unk>टो.', 'काव<unk>यां<unk>वन.', 'कोलो.', 'अर<unk>गों.', 'तशाधा.', 'संगलांों.', 'महाया.', 'सुर<unk>वित.', 'प<unk>रिशिय.', 'प<unk>रिविं<unk>विंि.', 'तारा.', 'जियायाच<unk>या.', 'रास<unk>रााांश.', 'बाहारार.', 'भिं<unk>यां<unk>रियों.', 'जिनानों.', 'झिना.', 'वाश<unk>वात.', 'नवावारा.', 'नालाााार.', 'अन<unk>नााां.', 'फुरानन.', 'मुर<unk>पार<unk>.', 'मोलला.', 'फिस<unk>स.', 'पहालालला.', 'मिया.', 'टिमिस.', 'प<unk>रेस<unk>टल.', 'अमीसी.', 'पर<unk>र<unk>त<unk>र<unk>त<unk>त.', 'जागारा.', 'गोपोप.', 'वेल<unk>सी.', 'शाा.', 'हिर<unk>न.', 'वीएीसीसी.', 'मिललाल.', 'कोल<unk>लिलिलन.', 'ब<unk>रिया.', 'बालानांचन.', 'प<unk>रिसि.', 'भावाानन.', 'कााााा.', 'ग<unk>रेन<unk>लिननी.', 'शारसात.', 'जोर<unk>त.', 'जोरों.', 'रिश<unk>त.', 'बोल<unk>ल<unk>लालिया.', 'निमाााा.', 'फिल<unk>यिसिस.', 'पहाा.', 'कोलाा.', 'जियानें.', 'हर<unk>नान.', 'घुर<unk>ती.', 'विश<unk>या.', 'पोला.', 'अर<unk>निन.', 'खोलाला.', 'छारा.', 'दिशियां.', 'पर<unk><unk>रा<unk>रिया.', 'विस<unk>ला.', 'दिर<unk>याची.', 'यूआईए.', 'विश<unk>यां.', 'युर<unk>यां.', 'सेक<unk>ट<unk>ंग.', 'गुरााा.', 'नियास<unk>त.', 'टीआईए.', 'अस<unk>याती.', 'प<unk>रेस.', 'भों.', 'स<unk>प<unk>र<unk>स.', 'धोल<unk>टो.', 'सीपीआर.', 'दाहार<unk>द.', 'उप<unk>नों.', 'मुर<unk>रानी.', 'अस<unk>टें.', 'जिक<unk>ररी.', 'रास<unk>षाशन.', 'स<unk>सी.', 'दिव<unk>यियां.', 'अल<unk>ट<unk>रोंोंों.', 'दश<unk>रात.', 'लोला.', 'बालालााला.', 'मिल<unk>लाली.', 'तिहिरी.', 'चुर<unk>र.', 'क<unk>रेस<unk>ट<unk>ट.', 'गुर<unk>री.', 'टीएीएस.', 'प<unk>रित<unk>यात<unk>त.', 'नाक.', 'मुत<unk>र<unk>त<unk>त<unk>र.', 'स<unk>टोलोलो.', 'अर<unk>ष<unk>याश<unk>त<unk>त.', 'दिर<unk>याची.', 'सुरवााा.', 'स<unk>यियियिं.', 'धर<unk>यांंग.', 'सेस<unk>टो.', 'स<unk>राश.', 'विश<unk>याश<unk>न.', 'रोलााांड.', 'मुल<unk>नान.', 'स<unk>प<unk>रिट.', 'शिनानें.', 'किलियों.', 'स<unk>वार<unk>वाी.', 'मानिया.', 'अर<unk>ष<unk>यास<unk>त<unk>रांश.', 'कुल<unk>यालीया.', 'नित<unk>रााच.', 'फिरी.', 'हिम<unk>यास<unk>प<unk>त.', 'पर<unk>तत.', 'फिस<unk>टिसिस.', 'पर<unk>त<unk>राप<unk>राम<unk>य.', 'बेल<unk>स.', 'श<unk>रा<unk>ष<unk>त<unk>त<unk>र.', 'क<unk>रेक<unk>रिंिंग.', 'उलो.', 'बााा.', 'हालपपपपुर.', 'हासापत.', 'बिरान.', 'विर<unk>यां.', 'बियियों.', 'अभाचा.', 'बिर<unk>यास<unk>त<unk>त<unk>त.', 'वाराा.', 'सुनान.', 'असाई.', 'जिक<unk>र<unk>यास<unk>यास<unk>त.', 'पर<unk>स<unk>यास.', 'इंडिलल.', 'कोर<unk>पोपाला.', 'ड<unk>रेक<unk>रिनिन.', 'रिल<unk>लो.', 'स<unk>रिया.', 'गोरोसा.', 'मांगावाला.', 'मुर<unk>यियियों.', 'उसाई.', 'मोर<unk>टों.', 'मेसारा.', 'इप<unk>टेस.', 'कुर<unk>ाााा.', 'सहान<unk>याया.', 'मालाच<unk>या.', 'हिमिन.', 'उंद<unk>रार<unk>रर.', 'विश<unk>याश<unk>यांश.', 'उत<unk>या.', 'केल<unk>सी.', 'महार<unk>त.', 'रस<unk>त.', 'रोनो.', 'सेस<unk>टेंस.', 'स<unk>विया.', 'अराा.', 'विस<unk>रास<unk>रांच.', 'सिलिंग.', 'टिल<unk>स.', 'संग<unk>रिद<unk>र.', 'पहोलों.', 'मुर<unk>या.', 'बालाााााम.', 'दिनाया.', 'फोर<unk>ट<unk>ट.', 'नावा.', 'शिस<unk>त.', 'सहाना.', 'बााय.', 'प<unk>रिविं<unk>विं<unk>.', 'फिलिंग.', 'विस<unk>ट<unk>ट.', 'रोनों.', 'चाचाचा.', 'निलिल.', 'बहित<unk>री.', 'अल<unk>टिन.', 'छास<unk>ा.', 'नित<unk>राास<unk>य.', 'रस<unk>पारा.', 'जुर<unk>न.', 'सिहाती.', 'पिल<unk>यिंिस.', 'तिर<unk>.', 'शिर<unk>दुर.', 'ब<unk>रेस<unk>ट.', 'पर<unk>र<unk>त<unk>रपुर<unk>त.', 'जिस<unk>यासेशिस.', 'उत<unk>थााश.', 'स<unk>से.', 'आरिय<unk>यिं<unk>यों.', 'जिनाना.', 'माहााा.', 'गा<unk>ष<unk>यात.', 'शिप<unk>री.', 'ट<unk>रेन<unk>लाल.', 'खिर<unk>टी.', 'विवाध<unk>न.', 'घापपप.', 'धर<unk><unk>ष<unk>यांंग.', 'प<unk>रिं<unk>यिंिं<unk>.', 'गाशा.', 'मुस<unk>टी.', 'सहानल.', 'नियिन.', 'वाह.', 'विश<unk>यास<unk>या.', 'जिल<unk>द<unk>राल.', 'पहार<unk>री.', 'प<unk>रेस<unk>ट<unk>स.', 'इं<unk>लालल.', 'जिनिंग.', 'सहाना.', 'भावावाा.', 'गिर<unk>ट<unk>रेल.', 'विस<unk>ट<unk>ट.', 'सुर<unk>ताला.', 'रित<unk>यााता.', 'रोलााा.', 'जनवादा.', 'मोल<unk>ट<unk>रिरी.', 'सात.', 'महिन<unk>यां<unk>रिं<unk>यों.', 'डीएीएस.', 'स<unk>रासिश.', 'गाशा.', 'गोमिं.', 'छिमा.', 'विश<unk>या<unk>यिया.', 'जिवियियों.', 'दिर<unk>शन.', 'धोना.', 'खुरााा.', 'सुर<unk>याय.', 'मान<unk>यांची.', 'अन<unk>यात<unk>यात<unk>त<unk>त.', 'नियिसिस.', 'पाचालें.', 'रेसो.', 'विलोलेशन<unk>लें.', 'चि<unk>या<unk>याच<unk>या.', 'आमियी.', 'दिवार<unk>त<unk>त<unk>त.', 'बशास.', 'चाका.', 'मिल<unk>री.', 'टेर<unk>टेल.', 'अमिशित.', 'अवावावा.', 'रीस<unk>स.', 'अधित<unk>.', 'अभामी.', 'हरवाना.', 'गोल<unk>ड.', 'ताव.', 'स<unk>विक<unk>रियांची.', 'र<unk>स<unk>टें<unk>.', 'रुर<unk>वांों.', 'भावां.', 'तहारायी.', 'पर<unk>षियों.', 'उसिया.', 'सि<unk>र<unk>योंिंिंग.', 'प<unk>रेस<unk>ट<unk>ट.', 'निलिलिला.', 'सियों.', 'गुनाा.', 'रासत.', 'बालाााा.', 'विलाप<unk>पारी.', 'सेपाया.', 'चेमा.', 'साना.', 'बालारी.', 'फारपाप.', 'पहासे.', 'स<unk>पीरी.', 'निलले.', 'अल<unk>टों.', 'मास<unk>सेश.', 'मुंद<unk>रिंिं.', 'किर<unk>त<unk>र<unk>र<unk>रांं.', 'पहाचा.', 'ग<unk>रीएस.', 'बोलोल.', 'काशन.', 'सुल<unk>लाल.', 'इन<unk>टिलिया.', 'चार<unk>ाााा.', 'चिनाही.', 'चिल<unk>लाल<unk>या.', 'बारपारा.', 'लाहांदेंग.', 'घाल<unk>यालाल.', 'आराधा.', 'प<unk>रिय<unk>यांियिं.', 'जेए.', 'शिर<unk>यिस.', 'अस<unk>टी.', 'फोलों.', 'जित<unk>या.', 'थेल<unk>लें.', 'सिमापारी.', 'बिस<unk>सिस.', 'क<unk>रेक<unk>रिंिंग.', 'जिवारार.', 'थिरार.', 'शिर<unk>याची.', 'पर<unk>पप<unk>रपार.', 'ताहाा.', 'आईपीए.', 'रिश<unk>याश<unk>.', 'महास<unk>ती.', 'बिश<unk>या.', 'अमाम.', 'किश<unk>ती.', 'बाराा.', 'भार<unk>त.', 'माराा.', 'किर<unk>यांच<unk>या.', 'फ<unk>रेक<unk>टिंग.', 'अरानी.', 'धर<unk>या.', 'यहाद<unk>या.', 'मेल<unk>लेस<unk>टि.', 'र<unk><unk>ट<unk>र<unk>र<unk>र<unk>रिंन.', 'मुता.', 'आम<unk>यातित.', 'अप<unk>र<unk>यास<unk>याशि.', 'प<unk>रित<unk>र<unk>यां<unk>तिय.', 'आराश.', 'रागांगा.', 'अप<unk>त<unk>री.', 'उलाा.', 'अमासी.', 'खिमाम.', 'हराााा.', 'भाद<unk>यां<unk>रियिंं.', 'पर<unk>था.', 'शिश<unk>यिं.', 'नेल<unk>टोल.', 'चार.', 'संक<unk>र<unk>यांची.', 'भार<unk>यास<unk>ती.', 'जुखाह.', 'दिव<unk>यियां.', 'माचची.', 'जिया.', 'सुस<unk>राा.', 'सीमी.', 'पेल<unk>योसेश<unk>रिशन.', 'बाह.', 'तिम.', 'अवावा.', 'हिमिन.', 'किया.', 'अमित<unk>त.', 'अलोकों.', 'जिल<unk>यों<unk>ंग.', 'मालााला.', 'चार<unk>ाााा.', 'जााााा.', 'स<unk>विव<unk>र<unk>यांच<unk>या.', 'देस<unk>श.', 'बागावा.', 'एईएीसी.', 'छापपारी.', 'रेस<unk>स.', 'भोपो.', 'फालेशिस.', 'पिश<unk>यासिसिस.', 'पर<unk>त<unk>त<unk>त<unk>र.', 'फुर<unk>टी.', 'मुर<unk>त<unk>र<unk>र<unk>रिं.', 'मुस<unk>ती.', 'उशारा.', 'अलो.', 'परवा.', 'पियियियों.', 'सेमी.', 'साहाननों.', 'काच<unk>प<unk>रम.', 'दारा.', 'याश<unk>तात.', 'सुंकााा.', 'विल<unk>ंग.', 'विल<unk>लाला.', 'स<unk>रार<unk>रालाल.', 'मालाच.', 'पीएस.', 'अर<unk>ना.', 'इन<unk>ट<unk>रेलिलियान.', 'जनाचाचा.', 'माल<unk>याचच<unk>ल.', 'फिश<unk>यांियां.', 'सेमास.', 'प<unk>लोलो.', 'विस<unk>रामा<unk>या.', 'चिच<unk>चा.', 'जोगाा.', 'मुद<unk>वा<unk>या.', 'तुर<unk>वां.', 'तेव.', 'वाश.', 'जियिया.', 'जोलाल.', 'विर<unk>नांगन.', 'याइस.', 'पुर<unk>या.', 'चास.', 'जोनों.', 'चीस<unk>स.', 'कोपाा.', 'अस<unk>त.', 'रोगारा.', 'जोगा.', 'गुलााा.', 'जोललाला.', 'सहारा.', 'विर<unk>त<unk>रापाराा.', 'धन<unk>नों.', 'जीएीए.', 'विशियां.', 'स<unk>वित<unk>र<unk>त<unk>र<unk>त.', 'इंट<unk>रोस<unk>ट<unk>ट.', 'रिक<unk>र.', 'जनवाधा.', 'युं<unk>यार<unk>र.', 'हााा.', 'दुना.', 'प<unk>रेस<unk>टिस.', 'विल<unk>याय.', 'मोल<unk>ररी.', 'प<unk>रान<unk>यांं.', 'वियियिंग.', 'टिस<unk>ट<unk>ट.', 'आस<unk>यियां.', 'सिप<unk>प<unk>री.', 'मुश<unk>.', 'सात<unk>त.', 'एक<unk>टिसिस.', 'जिक<unk>रर.', 'चालचा.', 'अस<unk>टेन.', 'बाररा.', 'चिया.', 'फापेट.', 'तिंगंग.', 'रालाााा.', 'मीएम.', 'विश<unk>या.', 'गुरुर.', 'परवारर.', 'हरानन.', 'आपारा.', 'विर<unk>रा.', 'अव<unk>वावायी.', 'जिहाची.', 'पहित<unk>त<unk>या.', 'शांकों.', 'माल<unk>यामिया.', 'मांद<unk>रांदर.', 'नानो.', 'झिनान.', 'सेल<unk>टेलेट.', 'धिमी.', 'नावााााा.', 'घोमा.', 'हराना.', 'धोना.', 'साराारा.', 'बुर<unk>द<unk>.', 'योलाला.', 'ब<unk>रिसिसिश.', 'तिश.', 'हाना..', 'विस<unk>ाश.', 'त<unk>रियिसिस.', 'तुर<unk>त<unk>री.', 'विव<unk>वात<unk>त.', 'मुराा.', 'बावाा.', 'स<unk>वार<unk>वी.', 'प<unk>रााश.', 'इंडललल.', 'पर<unk>र<unk>र<unk>रानी.', 'प<unk>रेस<unk>पोलेशन.', 'सुन<unk>व.', 'सुपा.', 'माा.', 'कुखा.', 'देश<unk>या.', 'खुश<unk>वारा.', 'थिवा.', 'अकोन.', 'सुर<unk>नो.', 'आआईए.', 'सिम<unk>यिसिशन.', 'धार.', 'तारत.', 'ग<unk>रेंगंग.', 'हासा.', 'बिहारी.', 'नियानियों.', 'चाड़ा.', 'मुस<unk>टिया.', 'अम<unk>याही.', 'गोर<unk>ट<unk>स.', 'रिस<unk>टिस.', 'गुर<unk>त.', 'स<unk>वार<unk>त<unk>र<unk>ता.', 'शाम.', 'सि<unk>यां<unk>यां<unk>यां.', 'अन<unk>धित<unk>व.', 'सिनें.', 'गुशन.', 'रिया.', 'फिरियिन.', 'तिरा.', 'चीए.', 'बारपुरर.', 'उद<unk>रााााा.', 'एनएीएीएस.', 'कार<unk>यार<unk>र<unk>रांकांच.', 'उरा.', 'काल<unk>ट<unk>रिंग.', 'आर<unk>या.', 'ओलीएल.', 'केल<unk>सिस.', 'आलाााा.', 'तिर<unk>रारा.', 'जोल<unk>टेल<unk>र.', 'बुर<unk>विंंगों.', 'क<unk>रेस<unk>ट.', 'एनएीएसएस.', 'राश<unk>याप<unk>त<unk>त.', 'काश<unk>री.', 'अप<unk>सेश.', 'स<unk>ट<unk>रेंस.', 'भोला.', 'मुंद<unk>रों.', 'रावरा.', 'जहाामी.', 'बुरावा.', 'घारामी.', 'नालााााा.', 'तावा.', 'सिवार<unk>री.', 'जियायिन.', 'गीएी.', 'स<unk>राचा.', 'अत<unk>यांियां.', 'अर<unk>या.', 'पिलिंिंग.', 'जाचााााा.', 'इन<unk>ता.', 'तार<unk>तर.', 'सामा.', 'सीएीएस.', 'मान<unk>या.', 'जिवारी.', 'पहाते.', 'अल<unk>दो.', 'रियार<unk>त.', 'रेस<unk>ट<unk>ट.', 'रोसास.', 'प<unk>रत<unk>ष<unk>ताता.', 'नेप<unk>स.', 'सालालापा.', 'मुल<unk>याली.', 'ताव.', 'आलोंडो.', 'पहियांिंिं.', 'रित<unk>याश<unk>न.', 'गाहापारा.', 'फिलिस<unk>स.', 'नारााााा.', 'जोमालाा.', 'सुस<unk>त<unk>र<unk>त<unk>त.', 'मोसोट.', 'कोल<unk>ट<unk>रेट.', 'सि<unk>र<unk>यां<unk>रियों.', 'एमएसएस.', 'थिल<unk>पेलिया.', 'प<unk>रिश<unk>यासित.', 'याापपपुर.', 'पहाात.', 'धन<unk>नों.', 'भावा..', 'प<unk>रान<unk>रालाली.', 'जावााी.', 'भावाया.', 'सारा.', 'क<unk>रेंस<unk>न.', 'मार<unk>द.', 'सि<unk>याश<unk>त.', 'काम<unk>यास<unk>यिं<unk>ट.', 'चिर<unk>यासास.', 'माशास.', 'विश<unk>वांक<unk>रं.', 'मोलों.', 'किल<unk>ट<unk>रियोन.', 'रिस<unk>टिंग.', 'पर<unk>टों.', 'विशानांों.', 'जनवाधा.', 'अन<unk>यान.', 'बिलानी.', 'मोल<unk>से.', 'बार<unk>त.', 'रालारारा.', 'दिहायी.', 'चिन<unk>स.', 'वित<unk>यात<unk>यात<unk>त.', 'शाहात.', 'आनाशन.', 'आन<unk>यााााा.', 'जिया.', 'किर<unk>ियि.', 'क<unk>रात<unk>र<unk>त<unk>र.', 'प<unk>रिं<unk>यिंिंिं.', 'चाचा.', 'जन<unk>याप<unk>र<unk>त<unk>रा.', 'हिलिंग.', 'निहिया.', 'धारी.', 'जनवाााा.', 'केस<unk>स.', 'मानााा.', 'मुआई.', 'शिंगिं.', 'देप<unk>पारी.', 'क<unk>रार.', 'सिप<unk>ती.', 'माहात<unk>यात<unk>त.', 'अल<unk>प<unk>रारिया.', 'हर<unk>या.', 'कारा.', 'क<unk>रेस<unk>सिस.', 'डिस<unk>टें.', 'साहाा.', 'तात.', 'जोलोल.', 'लेस<unk>या.', 'होल<unk>लेंग.', 'छिलाल.', 'धारी.', 'टेल<unk>टेस<unk>ट<unk>स.', 'पर<unk>ताा.', 'चान.', 'शिर<unk>नांचन.', 'छाराा.', 'कोल<unk>लों.', 'विववाधन.', 'स<unk>टेस<unk>स.', 'इं<unk><unk>रियियों.', 'स<unk>राश.', 'दिल<unk>लाली.', 'प<unk>राा.', 'शिवार<unk>राा.', 'प<unk>रत<unk>यात<unk>त<unk>त<unk>त.', 'विर<unk>यियों.', 'मेस<unk>ट<unk>रें<unk>ट.', 'माहारा.', 'पिलियों.', 'देव<unk>र.', 'एस<unk>स.', 'बिया.', 'प<unk>रिश<unk>याश.', 'महाच<unk>यांस<unk>यां.', 'जोमर.', 'संवाववारी.', 'सेंगाली.', 'जिर<unk>ती.', 'तारार.', 'जिश<unk>यााा.', 'तुराता.', 'बिल<unk>लिन.', 'बोललेलाली.', 'माध<unk>यााचा.', 'अर<unk>याश<unk>यांित<unk>ष.', 'स<unk>टिंिंग.', 'माहिन.', 'रहारी.', 'जा<unk>प<unk>प<unk>र.', 'त<unk>रिश<unk>न.', 'दुश<unk>धा.', 'बाचााााा.', 'सुस<unk>या.', 'विशान.', 'सा<unk>ष<unk>ता.', 'विश<unk>र<unk>त.', 'पिनि.', 'जिवा.', 'सोसो.', 'धिर<unk>.', 'डेपी.', 'भाराााड.', 'पाराााा.', 'अस<unk>या.', 'अस<unk>पुर.', 'तिन<unk>.', 'एस<unk>टियिस.', 'अल<unk>टेल.', 'एस<unk>स.', 'निलारा.', 'अभियिंिंग.', 'गोलाा.', 'फोलों.', 'रिमाच<unk>या.', 'अर<unk>या.', 'त<unk>रास<unk>र<unk>ंग.', 'घोट.', 'मिस<unk>स.', 'प<unk>राश<unk>रात.', 'नोरा.', 'टेल<unk>स.', 'गुर<unk>ाना.', 'वास<unk>र.', 'सुर<unk>शन.', 'सुस<unk>त.', 'ताल<unk>लााला.', 'होलों.', 'वार<unk>.', 'ड<unk>रेटि.', 'देराता.', 'शेंगों.', 'विर<unk>यियों.', 'सुपापारा.', 'दुराना.', 'अन<unk>यियां.', 'धाला.', 'किर<unk>र<unk>र<unk>रिं<unk>यों.', 'अस<unk>शाश.', 'हर<unk>माना.', 'ट<unk>रा.', 'एलीए.', 'बाखनों.', 'शिव<unk>वांकों.', 'मियाय.', 'वित<unk>थ.', 'माचचे.', 'अर<unk>वा.', 'विशियां.', 'प<unk>राप<unk>ट.', 'धि<unk>यासा.', 'दुराा.', 'जोना.', 'फेर<unk>स.', 'जिराई.', 'पर<unk>वांग<unk>रा.', 'पोल<unk>लेलाल.', 'भार<unk>त<unk>र<unk>त<unk>र<unk>त.', 'इस<unk>स.', 'प<unk>रास<unk>रिं<unk>रिंग.', 'जोलोलो.', 'श<unk>रान<unk>यांंग.', 'स<unk>रेस<unk>टि.', 'काओ.', 'भार<unk>याया.', 'कुर<unk>ता.', 'अमिया.', 'रालरा.', 'प<unk>रेमिसिन.', 'चिली.', 'जीआई.', 'बिंगिंग.', 'ताप<unk>री.', 'कोलोलिलों.', 'नालाारार.', 'मानानें.', 'स<unk>राचचा.', 'नालाााा.', 'घोड़ाा.', 'अर<unk>त<unk>र<unk>त<unk>व.', 'उंद<unk>रोगों.', 'जनवााा.', 'पोर<unk>टेलिया.', 'अम<unk>री.', 'रोसाला.', 'टियिस.', 'जोमाई.', 'सीपीएस.', 'फाा.', 'उलाचा.', 'इं<unk>यियां.', 'मोललला.', 'ऑटिक<unk>रासर.', 'हाा.', 'प<unk>रााश<unk>ष.', 'सुर<unk>राा.', 'बिर<unk>र.', 'अंदरा.', 'जीया.', 'तोंड.', 'दारपुर.', 'इन<unk>ट<unk>रेनिसिन.', 'नियियिन.', 'खारााा.', 'पर<unk>ट<unk>रोर.', 'सीमी.', 'जाशन<unk>.', 'गामाा.', 'प<unk>रिश<unk>यांियिं.', 'मानानें.', 'सिमाना.', 'मुर<unk>तारा.', 'उन<unk>यांिं<unk>ंं.', 'सिस<unk>ति.', 'योलाा.', 'प<unk>राश<unk>याश.', 'सुर<unk>री.', 'आखा.', 'पेंट.', 'तिश<unk>ती.', 'ताा.', 'निमेस<unk>स.', 'सापत.', 'कोल<unk>टेस<unk>टी.', 'कोपपपत.', 'स<unk>विश<unk>याश<unk>त.', 'वित<unk>यियित<unk>त.', 'कुर<unk>याच<unk>या.', 'अर<unk>याा.', 'रिनन.', 'डियिंिंग.', 'मुत<unk>याश<unk>याच.', 'विस<unk>ट<unk>स.', 'सुप<unk>रपार.', 'केमी.', 'जिमाााामाय.', 'माशान.', 'पिलिंिं.', 'जननानाला.', 'जिम<unk>यांिं.', 'प<unk>रेसेल.', 'अस<unk>था.', 'साहार.', 'तेक.', 'अर<unk>ष<unk>ष<unk>त<unk>त<unk>ष.', 'रास<unk>शाथ.', 'विश<unk>वांत.', 'सिश<unk>यां.', 'बाखाा.', 'क<unk>रेसों.', 'इवानिन.', 'फुराया.', 'एल<unk>.', 'बाहाी.', 'जन<unk>शां.', 'स<unk>टें<unk>स.', 'रिज<unk>रिंगरों.', 'पास<unk>प<unk>त.', 'बुर<unk>रोग<unk>ड.', 'झारा.', 'जेल<unk>टें.', 'बार<unk>यााा.', 'सुखाचे.', 'इन<unk>ट<unk>रेस<unk>टिनिस.', 'जोललीया.', 'भोलाला.', 'काहा.', 'पारामी.', 'अस<unk>या.', 'तार<unk>यार<unk>त<unk>.', 'वास<unk>पार.', 'वीएीएस.', 'स<unk>टेश.', 'विर<unk>ट<unk>री.', 'सेमिली.', 'जीएीसी.', 'पहाप<unk>रपुर.', 'अर<unk>याय.', 'वार<unk>.', 'जिक<unk>रिंन.', 'गोल<unk>टि.', 'जिया.', 'अकों.', 'सेमेप.', 'क<unk>रावर.', 'धिर<unk>यिंंग.', 'फिल<unk>स.', 'सुर<unk>यांची.', 'अर<unk>धन.', 'बिवाई.', 'छिमाया.', 'केर<unk>मी.', 'वियिंगन.', 'धर<unk>याा.', 'जोलगाला.', 'बारा.', 'अत<unk>त<unk>त<unk>त.', 'सुाहा.', 'न<unk>रास<unk>याशिय.', 'सावारी.', 'याश<unk>याप<unk>त<unk>ती.', 'अप<unk>रिसिशियों.', 'मुर<unk>द<unk>रों.', 'फेलो.', 'सिहात<unk>त.', 'जानान.', 'धारााा.', 'स<unk>स<unk>सिस.', 'किर<unk>यां<unk>रिं<unk>यों.', 'प<unk>रास<unk>यास<unk>यां.', 'डीएीएस.', 'प<unk>लोल.', 'पेल<unk>स.', 'अध<unk>रात.', 'फेंों.', 'फरवावा.', 'हालला.', 'विश<unk>वावर.', 'स<unk>स<unk>स<unk>स.', 'ब<unk>रियानन.', 'विश<unk>ना.', 'मात<unk>रााात.', 'इस<unk>निन.', 'सहात<unk>ती.', 'जिमिया.', 'सुवारी.', 'दिखाराया.', 'वानोड.', 'कुल<unk>ना.', 'रीआई.', 'स<unk>टेर<unk>.', 'मिलिमिंों.', 'कार<unk>त<unk>र<unk>र<unk>र<unk>रंं.', 'क<unk>रेस<unk>स.', 'रिस<unk>री.', 'डिस<unk>ट<unk>रेस<unk>टिटिट.', 'स<unk>सीली.', 'तापपा.', 'थिनान.', 'इं<unk>ट<unk>रेस<unk>टियिया.', 'ग<unk>रियोन.', 'सुन.', 'आपारा.', 'खिर<unk>द<unk>रााला.', 'जियात<unk>री.', 'चाना.', 'तिहित.', 'नास<unk>त.', 'सीएीएस.', 'गुर<unk>तत.', 'दिर<unk>ष<unk>षाता.', 'नाहा.', 'धिलाला.', 'जोका.', 'याहामियाया.', 'सुरारी.', 'वानों.', 'आध<unk>यांक<unk>रां.', 'अर<unk>वावी.', 'आआईपी.', 'तिल<unk>यांांो.', 'मुस<unk>ती.', 'कोर<unk>टरी.', 'नियाद<unk>र.', 'दुप<unk>ता.', 'मुखा.', 'ग<unk>रीआर.', 'बिल<unk>स<unk>टिस.', 'छाराा.', 'मानों.', 'निलाचे.', 'मान<unk>याा.', 'सिवाधन.', 'हर<unk>ाा.', 'रोस<unk>ट.', 'बश<unk>ता.', 'तिश<unk>रा.', 'इशारा.', 'सोपपपुर.', 'मिल<unk>याली.', 'फ<unk>रेस<unk>सों.', 'पर<unk>ष<unk>तात.', 'भाना.', 'थिस<unk>ट<unk>स.', 'हराा.', 'अल<unk>मिलिन.', 'सुर<unk>धाा.', 'हाल<unk>माले.', 'बालाया.', 'रुगाराया.', 'मुत<unk>त<unk>त.', 'बोराा.', 'मुराया.', 'प<unk>राम<unk>या<unk>यांची.', 'चिंद<unk>रान.', 'पर<unk>टोल.', 'धाईया.', 'स<unk>टिस<unk>टिस.', 'जोल<unk>रुर.', 'सेन.', 'स<unk>वार<unk>त<unk>त<unk>.', 'चिश<unk>याच.', 'महियायाय.', 'पर<unk><unk>रिंगन.', 'शान<unk>पारा.', 'काशन.', 'जिल<unk>ला.', 'इन<unk>ट<unk>ट<unk>स.', 'तुर<unk>वां.', 'अत<unk>त<unk>त<unk>.', 'प<unk>रासेसा.', 'मुस<unk>त<unk>या.', 'विमास<unk>या.', 'कोलिया.', 'टेल<unk>ट<unk>रि.', 'वाओ.', 'महियात<unk>त.', 'मुल<unk>नान.', 'शिलमी.', 'फोराया.', 'प<unk>रिस<unk>ट.', 'रोक<unk>रों.', 'प<unk>रिशियां.', 'उनोलानों.', 'पर<unk>रवर<unk>त<unk>रर.', 'दुर.', 'काश<unk>राा.', 'बिसिस.', 'इस<unk>टाल.', 'इन<unk>यियों.', 'प<unk>रेस<unk>टेंस.', 'कासा.', 'सिहिय.', 'सीएीएीएस.', 'अम<unk>स<unk>ट.', 'कार<unk>री.', 'आरिय<unk>यिं<unk>यों.', 'चा<unk>ष<unk>तााा.', 'अश<unk>याश<unk>त.', 'फिश<unk>यास<unk>टिशिस.', 'तुमाची.', 'नाहा.', 'अम<unk>री.', 'सुरा.', 'शिश<unk>ना.', 'त<unk>रास<unk>रासाा.', 'पालााया.', 'फेलिया.', 'भावा.', 'जियारी.', 'जयहान.', 'पिल<unk>ंग.', 'तुर<unk>वां.', 'ताचान.', 'हामााचच<unk>या.', 'ब<unk>राश.', 'गिरिया.', 'पहानााा.', 'सिस<unk>या.', 'क<unk>रीमी.', 'बार<unk>पुरर.', 'स<unk>वित<unk>यात<unk>त<unk>त.', 'कोरााो.', 'मोल<unk>ररी.', 'कोल<unk>ट<unk>रिंन.', 'स<unk>प<unk>र<unk>टर.', 'जापपुर.', 'प<unk>राश<unk>यां.', 'रेमी.', 'रेम<unk>प<unk>रिया.', 'तुर<unk>धा.', 'चेली.', 'निक<unk>ष<unk>त<unk>र<unk>र<unk>र<unk>रांचा.', 'मांगाल.', 'गुराााा.', 'सोल<unk>टो.', 'जियियों.', 'अभिला.', 'टिल<unk>लिं<unk>स.', 'जीएसस.', 'हरवाना.', 'मुर<unk>दिया.', 'मालया.', 'ट<unk>रेस<unk>ट<unk>ट.', 'काचचा.', 'जिया.', 'कार<unk><unk>यााा.', 'जनवााा.', 'भारा.', 'बालारा.', 'पर<unk>या.', 'स<unk>टेसिस.', 'अभितित.', 'अल<unk>मालाया.', 'किस<unk>टिंस.', 'चाता.', 'पर<unk>याह.', 'खारपार.', 'बाखा.', 'ब<unk>राच.', 'उप<unk>रवांग.', 'तियियों.', 'मिन<unk>..', 'दुलाला.', 'बाड़.', 'सुसाया.', 'बुर<unk>ध<unk>या.', 'विशन.', 'पर<unk>तिया.', 'अर<unk>ष<unk>ष<unk>त<unk>त<unk>ष.', 'पिया.', 'कोर<unk>टाला.', 'बिलिस.', 'भारवाड़.', 'जोनाां.', 'इंडर<unk>र.', 'स<unk>रास<unk>ट<unk>ट.', 'रिक<unk>यां.', 'तेट.', 'काशारा.', 'बालांग.', 'अल<unk>पपा.', 'गीआई.', 'दुवारा.', 'बान<unk>यां.', 'होलला.', 'परााा.', 'इप<unk>रियांचे.', 'कोल<unk>टोलो.', 'पर<unk>ट<unk>रोड.', 'जिर<unk>त<unk>री.', 'अरावाा.', 'चेंसाा.', 'बिहांग<unk>यां.', 'नााा.', 'सुखाई.', 'इस<unk>ट<unk>रा.', 'साा.', 'हुराई.', 'दिहायया.', 'अश<unk>यास<unk>त.', 'उदो.', 'सं<unk>त<unk>र<unk>त<unk>तार.', 'शेम<unk>स.', 'अवावा.', 'अध<unk>वांक<unk>वों.', 'राहन.', 'झालााा.', 'प<unk>राश<unk>रा.', 'बिर<unk>यास<unk>यांिन.', 'चिलियाल.', 'जिर<unk>राााच<unk>या.', 'जिकारी.', 'रित<unk>र<unk>रााान.', 'श<unk>र<unk>यार<unk>यांस<unk>यां.', 'लेप<unk>री.', 'कुर<unk>रांकों.', 'आप<unk>रपुर.', 'मिंगरीया.', 'अर<unk>त<unk>रिया.', 'अमारर.', 'रा<unk>ष<unk>ताता.', 'द<unk>रियात<unk>.', 'चिलले.', 'हिर<unk>ट<unk>रिं<unk>टिक.', 'योलाल.', 'रासा.', 'लिल<unk>यानिंिंन.', 'विव<unk>याही.', 'फुर<unk>यानिया.', 'कोल<unk>रर.', 'भारा.', 'चाखान.', 'फोलोल.', 'शिन<unk>वाला.', 'विस<unk>ट<unk>रा.', 'प<unk>रेस<unk>टें.', 'जोराा.', 'घाराा.', 'दाना.', 'एस<unk>मा.', 'भोला.', 'वित<unk>यात<unk>यात<unk>त.', 'युनाचा.', 'विल<unk>यामिया.', 'रिजिया.', 'सहा.', 'प<unk>रवार<unk>ां.', 'सेस<unk>ट<unk>र.', 'स<unk>टिन.', 'इस<unk>याय.', 'होला.', 'रिस<unk>री.', 'जाद<unk>त.', 'अर<unk>यियां.', 'कुराधा.', 'काचच<unk>या.', 'गारात<unk>य.', 'फिलिस.', 'पाल<unk>लों.', 'अस<unk>ा.', 'मुर<unk>द<unk>रा.', 'रास<unk>पुर.', 'हिमिसिस.', 'कोलो.', 'उत<unk>थ.', 'सुनाधन.', 'कामरी.', 'जागााा.', 'सिक<unk>रर.', 'शिश<unk>यियां.', 'पहानों.', 'जोलाा.', 'नियायी.', 'उचच<unk>या.', 'हर<unk>ा.', 'पिलियों.', 'अल<unk>प<unk>रापाया.', 'तियात.', 'फोर<unk>ट<unk>र<unk>ट.', 'ग<unk>रिया.', 'प<unk>रास<unk>यांत<unk>यां.', 'साथ.', 'जस<unk>तत.', 'हियास.', 'दुलाा.', 'रास<unk>राााश.', 'मिस<unk>सेस.', 'तिस<unk>टी.', 'अन<unk>यार<unk>यांत<unk>र.', 'एस<unk>टी.', 'मोलों.', 'उप<unk>याय.', 'हासा..', 'श<unk>राम<unk>र<unk>र<unk>ट.', 'डीडी.', 'जोनों.', 'घोलिनों.', 'ताराााा.', 'एक<unk>ट<unk>र<unk>र.', 'हुराई.', 'उथा.', 'सा<unk>षात.', 'पर<unk>ंगों.', 'होंगों.', 'अप<unk>रिया.', 'मेलिली.', 'एीएीएस.', 'कुराी.', 'दिश<unk>यियों.', 'जिक<unk>रिंिंिंग.', 'विय<unk>स.', 'क<unk>रिस<unk>स.', 'शारता.', 'वार<unk>ररा.', 'लिस<unk>टिंग.', 'हिमिस.', 'निक<unk>शन.', 'क<unk>रिंियों.', 'त<unk>रिन.', 'दिवायी.', 'गिर<unk>यास<unk>त.', 'रियियियित.', 'गोलाया.', 'नाराा.', 'राव<unk>वा<unk><unk>त.', 'फियास.', 'गुरााा.', 'नियानी.', 'पर<unk>ती.', 'ग<unk>रीटी.', 'जिल<unk>लिंग<unk>या.', 'प<unk>राश<unk>तित.', 'क<unk>रेस<unk>सिस.', 'खिला.', 'द<unk>रियात<unk>य.', 'राहा.', 'बिर<unk>यााात.', 'स<unk>टेस<unk>टों.', 'नियानिं.', 'वेल<unk>ट.', 'जिन<unk>यांिय.', 'पर<unk>र<unk>त<unk>रपुर<unk>त.', 'उचान.', 'निक<unk>रियानी.', 'जाहा.', 'बालानांचें.', 'सिश<unk>यास<unk>ती.', 'निलांगल.', 'प<unk>रिय<unk>यांियों.', 'उप<unk>तवार.', 'नेले.', 'क<unk>र<unk>र<unk>र<unk>र<unk>रिंिंन.', 'स<unk>विश<unk>यास<unk>त<unk>ष.', 'जुरारा.', 'उप<unk>त<unk>याच<unk>या.', 'छावावी.', 'विववावा.', 'यां<unk>र<unk>याप<unk>राश<unk>र.', 'गोली.', 'रापपपुर.', 'याहासी.', 'गुरा.', 'म<unk>सेच.', 'दिल<unk>लाली.', 'खिर<unk>यांंग.', 'विश<unk>यांश.', 'जोगानों.', 'पेलेलेशन.', 'सिमिस.', 'धन<unk>थ.', 'हाा.', 'तुरारा.', 'धार<unk>यााा.', 'पोर<unk>टों.', 'एक<unk>ट<unk>रिस<unk>स.', 'विर<unk>प<unk>रामा<unk>या.', 'महिया.', 'पर<unk>र<unk>र<unk>ट<unk>र<unk>ट.', 'खार.', 'एक<unk>ट<unk>र<unk>ट<unk>ट.', 'जेनानांों.', 'प<unk>रियिया.', 'साना.', 'सावावा.', 'आंचा.', 'फेशन.', 'जालामााा.', 'आकाराा.', 'बेलिया.', 'विर<unk>वारी.', 'अप<unk>राच.', 'रिसिन.', 'छाड़.', 'चेल<unk>प<unk>र.', 'जीएसए.', 'लिलाची.', 'मुल<unk>नो.', 'धा<unk>याचा.', 'देरर.', 'बीएसएससी.', 'नियो.', 'अत<unk>यियां.', 'जेलपुरर.', 'धिर<unk>यास<unk>त<unk>रास<unk>ता.', 'फिर<unk>टी.', 'लेलो.', 'सिल<unk>लेलिलाल.', 'बेलोल.', 'झोला.', 'खुरारी.', 'माहाती.', 'धर<unk>मा.', 'रेस<unk>.', 'भारवाड.', 'मिश<unk>या.', 'जलमााया.', 'भोंों.', 'वालारी.', 'नियाप<unk>राप<unk>री.', 'विलाया.', 'बिर<unk>ट<unk>ट.', 'जोप<unk>र.', 'महान<unk>त<unk>त.', 'असाचा.', 'धिव<unk>यां.', 'सुकों.', 'प<unk>रेसिन.', 'जिनों.', 'केर<unk>ट<unk>रिट.', 'मोल<unk>पारमा.', 'मोरा.', 'भाराा.', 'गिर<unk>ती.', 'वारा.', 'बुर<unk>विंंगों.', 'अस<unk>ह.', 'रादा.', 'इनाच<unk>या.', 'उलोल.', 'कार<unk>यार<unk>र<unk>रांकांच.', 'फोर<unk>ट<unk>रें<unk>ंग.', 'जिमाच<unk>याच.', 'चास<unk>त.', 'सुरारी.', 'वेंडो.', 'मुर<unk>ती.', 'भास.', 'विराा.', 'बाहान.', 'मांगारााा.', 'पर<unk>लोंों.', 'विर<unk>रांकरण.', 'जित<unk>या.', 'जोर<unk>पोड.', 'तुर<unk>री.', 'भांगों.', 'मुननों.', 'तिं<unk>र<unk>त<unk>र.', 'एआईए.', 'कुराा.', 'सिप<unk>रिस<unk>ट<unk>ट.', 'सानान.', 'आत<unk>यापाााा.', 'हालों.', 'बिंगिंग.', 'रेसी.', 'इल<unk>मोल<unk>मेशन.', 'विश<unk>न.', 'बिया.', 'चिलाला.', 'कालेसिस.', 'सुखाच.', 'पर<unk>याम<unk>यियां.', 'बााह.', 'दुराा.', 'एक<unk>सो.', 'चाना.', 'फोलेल.', 'सु<unk>याश<unk>वाठी.', 'एक<unk>स<unk>स.', 'डोलों.', 'शिर<unk>विं.', 'ट<unk>रेस<unk>टिस.', 'अंगावा.', 'मियाश<unk>यांियों.', 'सेमिस<unk>स.', 'क<unk>रेक<unk>रिंिंिंग.', 'सि<unk>र<unk>रिंिंिन.', 'धर<unk>कर.', 'निमामात.', 'छालिया.', 'दिव<unk>वा<unk>या.', 'सुसाया.', 'चिश<unk>त.', 'जोमा.', 'जियिस.', 'खों.', 'धर<unk>च.', 'अन<unk>यास<unk>त.', 'मेस<unk>स.', 'बारात.', 'क<unk>रिस<unk>टिरिटी.', 'उनानानाला.', 'जाहाल.', 'सि<unk>यात<unk>तित.', 'कोल<unk>टोल.', 'अल<unk>मााा.', 'कोलिलिया.', 'पहरापत.', 'फोलो.', 'फ<unk>रेक<unk>टिन.', 'प<unk>रत<unk>यास<unk>तात.', 'क<unk>रा<unk><unk>ष<unk>ता.', 'दाखााा.', 'खुराश.', 'क<unk>रिंिंिन.', 'फोंड.', 'पर<unk>थपत.', 'पर<unk>टो.', 'त<unk>रात.', 'सहाात.', 'मिही.', 'बेशनों.', 'सीएीपी.', 'बासाही.', 'पेलिटी.', 'तांदारां.', 'एक<unk>स<unk>टेस.', 'हामरी.', 'सारारार.', 'जिल<unk>सेली.', 'मोडो.', 'विर<unk>रांकरण.', 'हापपो.', 'विस<unk>ट.', 'जाशार.', 'फोर<unk>ट.', 'काल<unk>ट<unk>राल.', 'टेप<unk>पी.', 'सेमा.', 'मुर<unk>प<unk>रापर<unk>ण.', 'तापपुर.', 'जीएसस.', 'तुर<unk>न.', 'चासा.', 'पिर<unk>ियिस.', 'पहाला.', 'मिर<unk>ट<unk>रिया.', 'तिर<unk>या.', 'जोलल.', 'जेआई.', 'तिर<unk>शित.', 'सुरा.', 'वास<unk>त.', 'डिलिली.', 'सुलाचचा.', 'जिल<unk>लिंग.', 'रिस<unk>लेलल.', 'शिस<unk>ट<unk>र<unk>ट.', 'आलोड़.', 'पर<unk>ताला.', 'अस<unk>याशिन.', 'वास<unk>स.', 'तेपापा.', 'पेलो.', 'कामी.', 'डेप<unk>रापपारा.', 'क<unk>रेशन.', 'जियाच.', 'स<unk>टेट.', 'रोगों.', 'महार<unk>रर.', 'प<unk>रत<unk>र<unk>त<unk>र<unk>त.', 'दिर<unk>ट<unk>री.', 'स<unk>स<unk>ट<unk>स.', 'अर<unk>याव<unk>या.', 'धिव<unk>यां.', 'तिमी.', 'अध<unk>रियी.', 'चिंद<unk>रात.', 'ज<unk>यासिया.', 'अल<unk>ट<unk>रेक<unk>रि.', 'बालाााााा.', 'सुप<unk>रर.', 'इस<unk>टो.', 'खुरााा.', 'धर<unk>या<unk>ष<unk>तााा.', 'सुर<unk>र<unk>र<unk>रार.', 'आहाा.', 'अल<unk>नाचाचा.', 'क<unk>रेक<unk>र.', 'बिलाली.', 'दार<unk>यार<unk>रार.', 'चिप<unk>री.', 'सिं<unk>रिंिं.', 'इन<unk>टिंस.', 'मोल<unk>टो.', 'सुमही.', 'गुराााा.', 'गाारा.', 'काही.', 'मुर<unk>पुर<unk>.', 'व<unk>रेस<unk>ट.', 'सिलिंग.', 'विर<unk>या.', 'अनावार.', 'पिल<unk>स.', 'रिष<unk>याा.', 'इं<unk>ट<unk>र<unk>ट.', 'देंड.', 'बोड़ा.', 'अल<unk>ट<unk>रोर<unk>टो.', 'निश<unk>री.', 'वाखवा.', 'जेन<unk>स.', 'पाली.', 'त<unk>रियियिस.', 'अर<unk>त<unk>रित<unk>त.', 'विंग<unk>रायाया.', 'चानों.', 'मोरा.', 'मेल<unk>लिंस.', 'मुर<unk>याासी.', 'रावांग.', 'कार<unk>त.', 'पर<unk>मालिया.', 'पर<unk>प<unk>रप<unk>रप<unk>र.', 'तेसा.', 'जुनान.', 'इप<unk>र<unk>ट<unk>रेशन<unk>यान.', 'हिलिलिलों.', 'आमाा.', 'याशास.', 'वाहा.', 'छित<unk>री.', 'इंटेर.', 'पर<unk>वां.', 'कुर<unk>राा.', 'प<unk>रामालचा.', 'नियारी.', 'शिर<unk>नांचन.', 'अर<unk>ववाव.', 'तेल<unk>ों.', 'गाशा.', 'भार.', 'अल<unk>पारा.', 'तालारारा.', 'बिलान.', 'जावाा.', 'आत<unk>पाप<unk>राता.', 'प<unk>राम<unk>या<unk>यांची.', 'हापपपपपारा.', 'बेला.', 'मिसिस.', 'मोल<unk>लिन.', 'र<unk>ट<unk>रेंस<unk>ट.', 'राग<unk>र<unk>त.', 'ताा.', 'सिस<unk>टिन.', 'भिमी.', 'तिर<unk>शन.', 'रागाात.', 'इप<unk>ट<unk>र.', 'पहिश<unk>यांियां.', 'कुर<unk>त<unk>रांों.', 'विर<unk>यिं.', 'डेनो.', 'सिहिंद.', 'खारपा.', 'राथ.', 'गुरवादों.', 'सहाम.', 'उदानों.', 'मोल<unk>सोस.', 'पर<unk>ता.', 'काश<unk>यी.', 'बेलिया.', 'कुल<unk>यो.', 'ताराा.', 'बिया.', 'चिली.', 'स<unk>रिया.', 'गीएसएस.', 'काम<unk>यामिंियों.', 'आर<unk>यियिंिं.', 'सिम<unk>याश<unk>य.', 'चाना.', 'वित<unk>याश<unk>य.', 'साहार.', 'अल<unk>टोलोंो.', 'हराा.', 'अर<unk>या<unk>याय.', 'प<unk>रिसिशिं.', 'छात<unk>ती.', 'प<unk>रियाशित.', 'सोपा.', 'पर<unk>ती.', 'पिशियां.', 'प<unk>रित<unk>त<unk>.', 'जापााा.', 'दुशाधा.', 'गुर<unk>टें.', 'आंगानों.', 'धोंगों.', 'डिस<unk>प<unk>रास<unk>टिया.', 'खित<unk>र.', 'पर<unk>लाल.', 'बाहा.', 'राजीया.', 'कोंगो.', 'प<unk>रियासित.', 'सुमाया.', 'नियास<unk>रासासात.', 'दुलाचा.', 'होलाला.', 'भास<unk>श.', 'मिस<unk>टी.', 'उसा.', 'पर<unk>याही.', 'काश<unk>याप<unk>रााच<unk>या.', 'निलोलेलल.', 'जहाही.', 'अचाई.', 'सियों.', 'रापपुर.', 'बिश<unk>तत.', 'छोली.', 'उदरारर.', 'सं<unk>त<unk>र<unk>त<unk>तार.', 'सुरी.', 'भापा.', 'वित<unk>यित<unk>त.', 'याहती.', 'फ<unk>रेश.', 'राहात<unk>त.', 'रामाचा.', 'होंों.', 'जोंगलों.', 'सुमही.', 'फोर<unk>.', 'फ<unk>रेस<unk>ट.', 'उचाओ.', 'बााा.', 'मास<unk>थी.', 'शेस.', 'महाश<unk>त.', 'सुरारा.', 'इंगिंग.', 'ग<unk>रांच<unk>यां.', 'बालाली.', 'नेलो.', 'मुरवार.', 'टोलोसो.', 'जिस<unk>सेशिस.', 'निलालांग.', 'कोला.', 'महिल<unk>यास<unk>टि.', 'फेल<unk>स<unk>स.', 'हर<unk>तासांक.', 'भोली.', 'कॉर<unk>ट<unk>रिं<unk>ंग.', 'क<unk>रीरी.', 'जोव.', 'भोला.', 'फिस<unk>टिस.', 'गुर<unk>यांकों.', 'जोनों.', 'अर<unk>ष<unk>या<unk><unk>ष<unk>ता.', 'एम<unk>सीसीस.', 'खिलिंों.', 'अक<unk>ना.', 'चा<unk>या.', 'बसा.', 'विच<unk>रापारी.', 'प<unk>रेस<unk>टिस<unk>ट.', 'बारा.', 'जिश<unk>यााता.', 'सिमित.', 'इं<unk>र<unk>र<unk>यांियों.', 'तोराा.', 'सिमियिंिं.', 'खर<unk>पारा.', 'कुर<unk>त.', 'एमएीपी.', 'सुरा.', 'रॉक<unk>र<unk>ट<unk>रिंिंट.', 'छाद<unk>र<unk>र<unk>रांकर.', 'तिशान.', 'परवावारा.', 'अंगान.', 'निकाला.', 'पहााााा.', 'विय<unk>रियारी.', 'डिल<unk>ररी.', 'निलिलली.', 'छोला.', 'रुनों.', 'शेपपुर.', 'रिगानी.', 'सावावा.', 'धार.', 'मस<unk>स.', 'इं<unk>ट<unk>रें.', 'सु<unk>त<unk>ताता.', 'रा<unk>ष<unk>त<unk>.', 'जाहारी.', 'जुरा.', 'मानाशाश.', 'खिनिशन.', 'स<unk>विया.', 'हराह.', 'धिं<unk>वाने.', 'घिसी.', 'सुप<unk>राााा.', 'रिहानिन.', 'बिश<unk>त.', 'ब<unk>रास<unk>त<unk>त.', 'बार<unk>ंग.', 'कोल<unk>ंग.', 'सिहियां.', 'यां<unk>यार<unk>रिया.', 'छापपा.', 'गोलिलों.', 'थेंसों.', 'डेलाया.', 'किश<unk>यास<unk>यासित.', 'बाखन.', 'जोगाा.', 'दुर<unk>धाव.', 'नियियिं.', 'कुराती.', 'अप<unk>री.', 'सिमिया.', 'वित<unk>त<unk>त.', 'सिस<unk>ट<unk>रिसिस.', 'पोलेसेट.', 'इनाही.', 'हिम<unk>याया.', 'प<unk>रास<unk>यातित.', 'जोरापुरा.', 'दुंगनों.', 'नित<unk>यांत.', 'सुर<unk>त<unk>याची.', 'रा<unk>षांकों.', 'नामााााा.', 'हर<unk>पुरा.', 'जुनों.', 'आईएीए.', 'बालपुरुर.', 'स<unk>टेस<unk>टिस.', 'जामारर.', 'पीसीसीसी.', 'रससी.', 'अनावा.', 'अम<unk>मी.', 'चिंियां.', 'जोन<unk>स.', 'विर<unk>गारा.', 'डियोस<unk>ट<unk>रिस.', 'शानान.', 'पिर<unk>मिशिन.', 'भोलों.', 'बिचाया.', 'सुविन.', 'स<unk>पीरी.', 'आम<unk>सी.', 'विरी.', 'विशिय.', 'क<unk>रास<unk>या.', 'महाश<unk>यांत.', 'चिर<unk>यास<unk>तिय.', 'भार<unk>यााा.', 'ट<unk>रेंों.', 'कियियां.', 'प<unk>रियाश<unk>यिय.', 'हाखाओं.', 'शानाला.', 'रोना.', 'महियावीया.', 'सिशियों.', 'शिल<unk>याच.', 'एलीएम.', 'बिलिस<unk>स.', 'तिर<unk>य.', 'मुर<unk>ाची.', 'शिवात<unk>र.', 'रिश<unk>यित.', 'राहाा.', 'सीएीएस.', 'अन<unk>ष<unk>ताश.', 'राहाही.', 'ब<unk>रार<unk>.', 'सोसाा.', 'चिलों.', 'काश<unk>या<unk>ता.', 'कारा.', 'पर<unk>लोल.', 'कार<unk><unk>ष<unk>त<unk>राा.', 'हिमासा.', 'प<unk>रश<unk>यांश.', 'कोलााा.', 'एस<unk>ी.', 'विस<unk>पापार.', 'पर<unk>ष<unk>षा.', 'फ<unk>रिया.', 'जिमाार.', 'ज<unk>राती.', 'किशित.', 'बोलााा.', 'नानो.', 'इस<unk>टिस.', 'टेर<unk>टी.', 'रेपी.', 'शार<unk>याााचा.', 'बासत.', 'अप<unk>ताथ.', 'कोलोल.', 'प<unk>रास<unk>टिसा.', 'भिती.', 'हिमाया.', 'उप<unk>टानों.', 'पेपो.', 'कुलाचा.', 'बाहाली.', 'अत<unk>रिविवां.', 'काश<unk>यांच.', 'लोलाललाल.', 'वर<unk>पार.', 'माहिय<unk>र<unk>त<unk>री.', 'मुराई.', 'सित<unk>त.', 'बस<unk>ता.', 'उदा.', 'मेओ.', 'बिर<unk>विंग<unk>ं.', 'सेप<unk>ट.', 'जोडो.', 'तेर<unk>त.', 'निल<unk>यानी.', 'भाराााा.', 'हराा.', 'डिल<unk>लों.', 'रिक<unk>र<unk>ट<unk>ट.', 'भारााा.', 'जलमाली.', 'जीमी.', 'जिक<unk>राााल.', 'रा<unk>ष<unk>षांों.', 'स<unk>वार<unk>त<unk>र.', 'फाह.', 'सिम<unk>प<unk>री.', 'प<unk>रिया.', 'मालिलिलिन.', 'ब<unk>रास.', 'विशिस.', 'विललल.', 'जिकार.', 'खियाई.', 'चिललली.', 'इन<unk>ट<unk>रें<unk>टिस.', 'रिश<unk>याश.', 'यूप<unk>रर.', 'पलला.', 'रित<unk>रित.', 'कुरीया.', 'दुरााा.', 'एक<unk>ट<unk>र.', 'घामाई.', 'इं<unk><unk>रिंियों.', 'इप<unk>लाच<unk>या.', 'धर<unk>मांचा.', 'झाहा.', 'इप<unk>ट<unk>राइस.', 'खिमिस.', 'तिल<unk>राला.', 'दुर.', 'अमारी.', 'जास<unk>ट.', 'तेलो.', 'प<unk>रेस<unk>ट<unk>रिसिस.', 'टिल<unk>ल<unk>र<unk>लिलाल.', 'चांगों.', 'लेस<unk>र.', 'भारा.', 'अवाध<unk>रांक.', 'इं<unk>रियान.', 'क<unk>रिया.', 'पर<unk>न.', 'नियिंगी.', 'मारर.', 'छावान.', 'स<unk>रार<unk>रांड.', 'फारा.', 'इन<unk>प<unk>रेट<unk>ट.', 'तुरानी.', 'गुर<unk>ों.', 'जियियों.', 'संक<unk>रााा.', 'सुमा.', 'चानााा.', 'प<unk>रत<unk>याास<unk>ा.', 'ट<unk>रेप.', 'उदात.', 'डियिसिसिस.', 'वित<unk>यिय<unk>रित<unk>त.', 'जलमालाया.', 'वाराा.', 'वीआर.', 'फर<unk>नांों.', 'त<unk>रेंट.', 'अश<unk>रााा.', 'सुहा.', 'वित<unk>यां<unk>रियों.', 'कोर<unk>रर.', 'योल<unk>ट<unk>रें<unk>ंग.', 'हिमाया.', 'पर<unk>षियां.', 'बेपारा.', 'जेस<unk>टी.', 'नाा.', 'अवाव.', 'जापााा.', 'सिना..', 'पालाा.', 'मिंड<unk>रिर.', 'डिक<unk>र<unk>ट<unk>रिटिया.', 'जनंगों.', 'शाच<unk>राााााच<unk>या.', 'इप<unk>टेसेश.', 'दुखन.', 'नेस<unk>स.', 'फेलेसे.', 'टेल<unk>स.', 'विर<unk>रर.', 'दिवाााा.', 'विश<unk>य.', 'रिनिन.', 'आत<unk>यांत<unk>ष.', 'रोस<unk>ट<unk>र<unk>ट.', 'मुर<unk>ती.', 'दारावा.', 'एले.', 'उप<unk>त<unk>या.', 'कियांगी.', 'गोल<unk>लिं.', 'जिवायायी.', 'हर<unk>तात.', 'इन<unk>मेस<unk>टि.', 'आप<unk>रिक<unk>रि.', 'काआर.', 'बिरान.', 'दुर<unk>राााल.', 'बाराह.', 'कोलेंों.', 'ब<unk>रार.', 'फारा.', 'वियिस.', 'डीएीआरपी.', 'धिम<unk>श.', 'सुमही.', 'पिर<unk>ट.', 'बाचान.', 'जीती.', 'सुलाा.', 'बारत.', 'अर<unk>यायी.', 'क<unk>रिशिं.', 'अल<unk>यानी.', 'छास<unk>ट.', 'मुर<unk>ता.', 'असाचा.', 'बियोर.', 'खालाला.', 'बेलेस<unk>स.', 'बालापारी.', 'पिश<unk>तत.', 'जिकार<unk>रा.', 'पिर<unk>टिर.', 'बाराा.', 'फेर<unk>स.', 'डेपाया.', 'स<unk>टेश<unk>सिशन.', 'महान<unk>यांगर.', 'घुसा.', 'कार<unk>विं<unk>वां.', 'क<unk>रित<unk>यात<unk>य.', 'जन<unk>नांग.', 'राखा.', 'रा<unk>ष<unk>ताता.', 'शिव<unk>वाी.', 'कुर<unk>रोंों.', 'जिल<unk>लिं<unk>ट.', 'माहियों.', 'रोल<unk>लिन.', 'जाारा.', 'चिर<unk>पुर.', 'हाल<unk>रा.', 'ट<unk>रेक<unk>स.', 'रोल<unk>ट<unk>रार<unk>रर.', 'खोलले.', 'स<unk>टिक<unk>टिन.', 'जिश<unk>यास<unk>त<unk>त.', 'नियिसिस.', 'पहाच<unk>यांचे.', 'रिवावाचा.', 'जिन<unk>नों.', 'तोलाा.', 'सुंगों.', 'पर<unk>त<unk>रांसां.', 'माई.', 'सुर<unk>र.', 'प<unk>रोन.', 'अनियिंगिय.', 'अमियियों.', 'ब<unk>रेंग.', 'नामा.', 'अध<unk>रात.', 'जन<unk>दांगा.', 'जिवानंगों.', 'जिरी.', 'भोला.', 'तेनाा.', 'चेप<unk>रि.', 'र<unk>प<unk>रेस<unk>टिसिस.', 'बारात.', 'काओ.', 'इंडेंग.', 'विश<unk>वांचन.', 'फर<unk>नानों.', 'कालााा.', 'पियिस<unk>स.', 'प<unk>रिस<unk>टिरि.', 'हाात.', 'चित<unk>याया.', 'साहान<unk>यांंग.', 'सेमि.', 'चेंों.', 'रिवारी.', 'सीएीएई.', 'देप<unk>पी.', 'दुरााा.', 'दापपुर.', 'मुखारी.', 'जारारर.', 'माहिन.', 'निया.', 'इचापपुर.', 'अवाता.', 'छापार.', 'तुर<unk>धन.', 'राहाप<unk>री.', 'प<unk>रवानन.', 'चांडों.', 'गोंडों.', 'क<unk>रेस<unk>स.', 'फ<unk>रेस<unk>टिंग.', 'भाना.', 'अनावाा.', 'फ<unk>रिशिन.', 'कामा.', 'तिल<unk>नों.', 'पाम.', 'तिंगों.', 'आंाना.', 'कुर<unk>या.', 'हान<unk>यांश.', 'रवाधन.', 'जाााााया.', 'डेंड<unk>प<unk>र<unk>ट.', 'प<unk>राप<unk>रापार.', 'मश<unk>याह.', 'जोरारा.', 'इं<unk>ट<unk>र<unk>ट<unk>रिंन.', 'स<unk>वावाध<unk>.', 'ग<unk>रास<unk>यात<unk>त.', 'ताराााा.', 'सहातत.', 'म<unk>रीया.', 'माश.', 'ग<unk>रियियिं.', 'जाहाती.', 'अलिलिमो.', 'तार<unk>ड.', 'चिल<unk>न.', 'सुवान.', 'थारी.', 'जोपारा.', 'हर<unk>द<unk>रान.', 'त<unk>रिस.', 'र<unk>टिंिन.', 'डिल<unk>टिंस.', 'चिस<unk>त.', 'बिचायाय.', 'फेल<unk>टिस<unk>स.', 'अराही.', 'पहान.', 'धि<unk>याशी.', 'फिस<unk>सिसिस.', 'जाहाा.', 'द<unk>रिश<unk>यां.', 'दुरााा.', 'किल<unk>यांिन.', 'गोल<unk>माली.', 'राखाा.', 'विस<unk>ता.', 'पर<unk>नांों.', 'ब<unk>रेट.', 'गुर<unk>लाााााा.', 'एआईपीपी.', 'बेआई.', 'हरसाा.', 'प<unk>रा<unk>यात<unk>.', 'प<unk>रेप<unk>स.', 'राग<unk>राां.', 'काश<unk>वा.', 'एस<unk>सीएसएस.', 'खिस<unk>ती.', 'दाश<unk>स.', 'सेस<unk>टा.', 'अलानाा.', 'साह.', 'चेसा.', 'मीती.', 'बोलाचा.', 'सोपोरा.', 'शेनाा.', 'चोलापाला.', 'श<unk>रवात<unk>र.', 'प<unk>राप<unk>रापार.']\n",
            "['थरमैक्स', 'सिखाएगा', 'लर्न', 'ट्विटर्स', 'तिरुनेलवेली', 'इंडिपेंडेंस', 'स्पेशियों', 'शुरूः', 'कोल्हापुर', 'अजहर', 'क़रार', 'अंक', 'डब्ल्यूपीडी', 'हाशिए', 'ग्लेंडल', 'उधेड़', 'इकठ्ठी', 'आईडिया', 'अम्बिकापुर', 'माकेरेरे', 'साबूदाने', 'फूहड़ता', 'सेक्वेंट', 'शुऐब', 'पानीहाटी', 'समेटती', 'उखरुल', 'ब्रह्मलीन', 'उतराधिकारी', 'इक़बाल', 'दयालपुरा', 'सोहराई', 'तक़रीबन', 'फर्रूखनगर', 'ठेंगा', 'त्यौहारों', 'कर्णेश्वरधाम', 'उमानाथ', 'दानशील', 'साहित्योत्सव', 'शांतिनिकेतन', 'शिकायतकर्ता', 'अंदरखाने', 'पंटर', 'लीडरों', 'गलगंड', 'कार्नियां', 'मुर्गीपालन', 'मुशाहिद', 'मॉड्यूल्स', 'रजौरी', 'सुश्रुषा', 'शृंगार', 'होल्ट', 'लैंगिकता', 'इजाजत', 'वनक्षेत्र', 'भूतल', 'स्वादप्रेमियों', 'नाइनटीज', 'फ्रेक्टर', 'लिखकर', 'एयरकंडीशनर', 'नब्ज़', 'कुएस', 'बौनी', 'कारगुजारियां', 'गांगनाम', 'तापीया', 'तेज़पुर', 'तलवे', 'सीमाई', 'दर्शनार्थी', 'रिवास', 'तर्कवाद', 'अनुसारका', 'कोचेला', 'लटककर', 'पत्रावलियां', 'परिषद', 'स्पिन्ज', 'अनशिदा', 'डिजीसस', 'सरायमोहिउद्दीनपुर', 'लॉवेल', 'कैपेसिटर', 'पैसेंजरजींद', 'ग्रंथियों', 'बुएना', 'कैंटरबरी', 'काठियावड़ी', 'टेकचंदानी', 'फ़ीसद', 'बेरहरमी', 'निष्कर्षः', 'ऐक्टिविटीज', 'रिकैलीब्रेशन', 'शासनाधिकारियों', 'फिजूलखर्ची', 'डब्ल्यूपीडी', 'पेस', 'दस्तार', 'कैटलिन', 'जोड़ता', 'किल्लत', 'गृहनगर', 'वंडर', 'वाटर', 'श्विंग', 'पश्तून', 'फार्म', 'डिबनू', 'पश्चमी', 'उठापटक', 'नीलाभ', 'लक्ष्मीनियां', 'महानगरवासियों', 'उपनेता', 'कन्वेंशन', 'शाॅर्प', 'कार्ययोजना', 'मास', 'वेस्टिंग', 'कुर्वेती', 'ज़यादा', 'मुकेश्वरी', 'श्रीमति', 'विवेकाधिकारों', 'लोकसभावाली', 'कबहा', 'भ्रांतियों', 'विवेकहीन', 'बाल्मीकि', 'हरयाणा', 'जीवराज', 'फ्लिन', 'राणा', 'विष्णुपुरा', 'घोटालेबाजों', 'हैरतअंगेज़', 'तकलीफ़देह', 'पीपाड़', 'धभाशारा', 'अंतडियां', 'राबिन', 'सिंगार', 'गुमशुदगी', 'बालकृष्ण', 'फब्ती', 'पलटने', 'लहलहाती', 'नगाड़ा', 'उड़ानें', 'क्लेन', 'जूलूस', 'कार्यभार', 'मंटो', 'पैमाइश', 'कोविना', 'पेंषन', 'ऑगस्टावेस्टलैंड', 'सैंट्रींग', 'ऐक्टिवा', 'बार्कर', 'वल्कन', 'वृत्तों', 'कबड्डी', 'रौनक़', 'कैटलिन', 'फूस', 'जनगणना', 'उपाख्यानों', 'सुंदरम', 'कोचीन', 'नेको', 'कौशल', 'फालिया', 'एस्वेडो', 'कोट्टयम', 'दिलाएगा', 'कर्वी', 'सौंपेंगी', 'लेख़न', 'गुडेपु', 'फरसे', 'नूबिया', 'ताजा', 'आंत्रित', 'काजी', 'मुर्गीपालन', 'एड्डी', 'नगीने', 'सुब्हा', 'लुइस', 'विजयापुरम', 'बताअाे', 'ओकोआ', 'साइंस', 'सरकारें', 'ब्रेमटन', 'गुरुपदो', 'संयुक्त', 'रालोद', 'बाधाओं', 'गौमूत्र', 'सभाएं', 'तनी', 'दिल्ली', 'सुजेन', 'विनीत', 'चिमाते', 'किकियाना', 'रॊकेट', 'मैक्सवेल', 'हिप्पो', 'दीपन', 'अर्यमा', 'भूलता', 'कर्माचारी', 'दुर्गापुर', 'त्रिभाषा', 'सूदखोरों', 'प्रस्तावों', 'सुरवीन', 'प्राप्ती', 'गिरिवासियों', 'सिडयूसिंग', 'वेलवेट', 'मुक़र्रर', 'बैक्सटर', 'डेनिअर', 'सीडब्ल्यू', 'उठनी', 'घासी', 'इकट्ठा', 'भूपसिंह', 'दबोचने', 'क्रॉस्बी', 'नामीगिरामी', 'हर्ले', 'जर्दा', 'लिएप्रधानमंत्री', 'भ्रांति', 'ऐजेंसियों', 'बागो', 'फारसी', 'बोसान', 'कार्की', 'गिनते', 'मनोकामनाओं', 'संम्पत्तियां', 'पॉलिथीनों', 'एमटेक', 'परिचर', 'बडबडी', 'क्रेन', 'लामियां', 'उल्हासनगर', 'प्रभानमंत्री', 'शिवालापुरवा', 'फर्थ', 'सुहागिन', 'सरायकेला', 'रोमियोविल', 'राजस्थानवासियों', 'प्रतिरोधात्मक', 'स्वर्णिका', 'व्यवस्थापना', 'तेल', 'ग़लतफ़हमी', 'टेकइनसाइडर', 'माइक्रोफाइबर', 'श्रीमहापूर्ण', 'फ़ल्लूजा', 'डोनल्डसन', 'चढ़ने', 'जीवविज्ञानियों', 'क्रिकेटिंग', 'रिडक्शन', 'आवाज़ें', 'व्लाद', 'प्राथमिक', 'ठेंगा', 'एक्सेल', 'चटकाते', 'कुबुद्दीन', 'ताजा', 'पड़नी', 'नीचाई', 'वौसौ', 'आलोचकों', 'ज़लज़ले', 'सूरत', 'जीवति', 'प्रहारक', 'श्रीसद्गुरु', 'संचालनों', 'भाल', 'तुगलक', 'उठापटक', 'हस्तांतरणीय', 'उत्साहवर्द्धन', 'संगोष्ट्री', 'शासनाधिकारियों', 'महाधिपतियों', 'फातिमा', 'फोड़े', 'कंटिन्यू', 'कामानाएं', 'चुटीले', 'संख्याएं', 'करंज', 'बरसाता', 'परिकल्पित', 'हरपाल', 'माऊंट', 'ग्रोवर', 'बायोलॉजिस्', 'हालिशहर', 'एंजेलो', 'जनेऊधारी', 'बीचबचाव', 'पोकर', 'अपवर्तित', 'आस्तीन', 'प्रतिष्ठावाले', 'ब्युनावेंचुरा', 'डेक्कन', 'सेरिव', 'पर्दा', 'एमिल', 'शैली', 'ईस्टवेल', 'छल्ला', 'लक्ष्यों', 'हॉफ', 'जरूरीः', 'रह्या', 'महकने', 'देवी', 'नील्सन', 'भीरा', 'चबूतरे', 'भूषण', 'रुकते', 'आमदनी', 'टॉकशो', 'जूनागढ़', 'पढ़ाता', 'ओढ़कर', 'ब्रोक', 'तलाशा', 'परिवारवाले', 'ट्रिब्यूनल', 'ब्रोक', 'यल्लाप्पा', 'तस्वारों', 'तुगलकी', 'पिक', 'सर्किलेशन', 'ज्वार', 'कनिंघम', 'कुश', 'प्रॉपरफेसबुक', 'अशरफी', 'चढ़ें', 'वांगचुक', 'हनीवेल', 'रेडियमधर्मी', 'लड़ेगे', 'सचन', 'अर्थशास्त्रीयों', 'कैंटन', 'आत्ममुग्ध', 'पॉन्टिएक', 'लोपेज़', 'घोंटना', 'अम्बानी', 'मर्यादाओं', 'रतलाम', 'हरक्यूलिस', 'अकोला', 'सक्शन', 'नोटबंदीशुदा', 'लगवाती', 'अलाइव', 'जीवंत', 'फोड़ा', 'फटही', 'नूबिया', 'लालमणी', 'फ़ैसला', 'कृत्या', 'धुआं', 'आहूजा', 'प्रतिपालपुर', 'नमकीन', 'मंजिलें', 'लफ्फाजी', 'जुराब', 'फुलाए', 'केस्टालॉय', 'ब्लैक', 'सूरज', 'ब्रॉन्च', 'अवर्णता', 'जोहरी', 'तेवरी', 'सेंडर्स', 'वेल्डर', 'एनईयू', 'भरष्टाचारियों', 'लालमणी', 'खातेदार', 'आजमाना', 'आवृत्तियों', 'कुल्लवी', 'बहावलपुर', 'प्राथमिकता', 'मोबाइल', 'कटिहार', 'स्वेच्छा', 'हामिदन', 'समदर्शिनी', 'दृढ़', 'गोंद', 'विशेश', 'काबिलेगौर', 'लौरेंस', 'हिशाम', 'चौसिंगा', 'पफिन', 'मेट', 'बिल्डकॉन', 'टीकों', 'अथक', 'जिदंगी', 'चायल', 'माप', 'लास्ट', 'गजरा', 'रात्रिचर', 'काथला', 'सहूलियत', 'पटनायक', 'न्यायालयीन', 'मुख्यमंत्रियाें', 'जीतनेवालों', 'स्वफ़ोटो', 'क्लिफ्टन', 'डोडा', 'पेंडुलम', 'चिपकने', 'नलकसा', 'छह', 'गोंड', 'समीक्षाकर्ता', 'मंत्रीपद', 'लिब्रेशन', 'असमान्य', 'चुंगियों', 'एरिका', 'बेलोट', 'थींं', 'फार्मिक', 'युद्धक', 'वेगास', 'लास्ट', 'चित्रांशी', 'अवर्णता', 'वेस्टिंग', 'वितर्क', 'मुकबाले', 'धर्मपूर्वी', 'अंबानी', 'इबीजा', 'महामीडिया', 'सुज़लोन', 'वर्णित', 'झुठलाने', 'मदुरई', 'कौण्डल', 'लापत्ता', 'क्षीण', 'तेवरी', 'रायचूर', 'लिंडन', 'पुलमा', 'ऑलराउंडर', 'ग़रीबों', 'कालाहान', 'वाबाग', 'कैपधारी', 'आटा', 'बरेली', 'जिंग', 'जीवन', 'रेड्डी', 'पहनी', 'तनु', 'दीपिका', 'लोहाती', 'कक्कड़', 'मौलवियों', 'डूंगरपुर', 'झालाना', 'लक्मे', 'प्रोस्पैक्ट्स', 'वेस्टिंगहाउस', 'बावरा', 'ठक्कर', 'इच्छाचारी', 'त्रिया', 'धावकों', 'दामले', 'श्रवणाबेलागोला', 'नीलकमल', 'कर्माचारी', 'पूर्वाेत्तर', 'लहराई', 'हैतो', 'प्रकाण्ड़', 'खेलमंत्री', 'भविष्य', 'एगमोर', 'शृंगार', 'सौंपेंगी', 'नॉक्सविल', 'बेंडर', 'सुंदरम', 'प्रदेश', 'संवेदीकरण', 'लगुना', 'भीष्म', 'येम्मिगनुर', 'हुहतमाकी', 'वडाली', 'गेल', 'रेस', 'सालाज़र', 'डिप्थीरिया', 'दृढ़', 'शदधि', 'प्रबोधिनी', 'लोकप्रतिनिधियों', 'जताती', 'मंगला', 'बर्विन', 'मम', 'उदयगढ़ी', 'अकापुल्को', 'वैधृति', 'चरणबद्घ', 'मनदड़ी', 'यूक्लिड', 'पारंपरिकता', 'हांफते', 'साथिया', 'संघीयता', 'मुख्यअतिथियों', 'व्यवस्थाविरोधी', 'रक्तदाताओं', 'बरामदे', 'तरुतल', 'कुत्ता', 'झाड़ा', 'किशुन', 'स्कैफ़लर', 'अमरोही', 'रैडिकल', 'जेनर', 'वर्षिय', 'हसीनों', 'शावकों', 'रूपा', 'स्वार्थपरक', 'वेरोनिका', 'वेब', 'महापात्रा', 'छींके', 'अग्र', 'जियांगकोऊ', 'वेस्टवर्क', 'जनगणना', 'पास्को', 'जाधव', 'एंटरप्राइज', 'संशयों', 'वर्णव्यवस्थावादियों', 'उपस्थियों', 'मुडिचु', 'पर्नस्टारों', 'ईए', 'बैला', 'लिवाल', 'हिल्सबोरो', 'राष्ट्रियाध्यक्ष', 'पीडब्ल्यूटी', 'थाउजेंड', 'शाकिर', 'सलाहकार', 'विश्वकर्मा', 'रिज', 'स्वास्थ्यहीनता', 'रिश्वतखोर', 'प्राविंसेस', 'दफ्तरवाले', 'फिजिशियन', 'लोग', 'जोधिका', 'सेवाला', 'डूबत', 'सिपाह', 'भरमा', 'प्रतिज्ञा', 'मेघवाल', 'नंदोई', 'ऑरोरा', 'फार्मूले', 'दुर्घटना', 'स्वतंत्रसिंह', 'मोंटेरे', 'बाल्टी', 'कोलंबिया', 'व्हिटियर', 'दुक्के', 'क्यूबेक', 'चमकना', 'शीलभंग', 'बिस्तागोंड', 'फाइंडले', 'बापा', 'देहरा', 'ऐसे', 'श्रंखला', 'हस्ताक्षरों', 'तिरुपति', 'मंगलमूर्तिः', 'कुर्सियों', 'मिठाइयाँ', 'पहनो', 'हैलबिड', 'बंगश', 'ऑफिशियली', 'सेंवई', 'गुर्जर', 'समन्वयक', 'पार्नेल', 'सूनसान', 'क्यूसैक्स', 'मध्य', 'युद्धरत', 'अर्बनडेल', 'ब्रिग्स', 'एरर', 'चिखली', 'वाण', 'अधिकारियां', 'रोनोक', 'हाओकिप', 'पूर्वापेक्षाओं', 'मशीनवत', 'कदमो', 'कुरमी', 'विद्याथयों', 'सिमटता', 'संगरूर', 'स्ट्रोंगस्विल', 'अगवाई', 'जनगन', 'नागराज', 'यारियां', 'भाग्येष्वर', 'जीवति', 'सूदखोरों', 'रुकवाकर', 'ब्रह्मवर्ता', 'ग्रे', 'भ्रांति', 'पुरूषोत्तमपुर', 'तेजी', 'स्वातं', 'मंत्रिमंडलीय', 'एशले', 'मेथिव्स', 'मूलों', 'एक्ज़ो', 'हमीरपुर', 'पोखरियाल', 'बोलतीं', 'प्रतिष्ठावाले', 'दबंगता', 'धुरिया', 'टिप', 'गाज़ी', 'इजाजत', 'मेज़बानी', 'टोलेडो', 'मोहड़ा', 'पुतली', 'संचारी', 'टापनी', 'लिटिल', 'नरनारी', 'धनिये', 'गाड़ूँगा', 'फाड़ी', 'गम्मत', 'ट्यूबरक्यूलोसिस', 'नागार्जुन', 'राजनीचि', 'मेडिजेन्सर', 'लफ्फाजी', 'कॉमर्स', 'माथलू', 'चटगांव', 'हीलिग', 'इस्न्पेक्टोर', 'टेस्टिंग', 'नौशाद', 'फ़ल्लूजा', 'पिक', 'जीवन', 'कताल', 'डब्ल्यूईएफ', 'बेसिल', 'स्लाइडों', 'सैंदान', 'जेरेमी', 'गॉंव', 'तोड़ेंगे', 'उड़ान', 'सप्तक्रांति', 'मिरांडा', 'व्यापक', 'मैडी', 'सभासदों', 'नौवहन', 'आत्माएं', 'रोज़ा', 'दमाए', 'मिडवेस्ट', 'ट्रेलरः', 'मालबर', 'वाको', 'विमर्शों', 'खान', 'डिफरर्ड', 'सरसा', 'हेस्टर', 'उत्तर', 'कसेरा', 'कुरआने', 'दायित्वों', 'चयनितों', 'मोराल्स', 'हीरोज', 'प्रेममूलक', 'मोरन', 'ज़ाइडस', 'नेल्सन', 'अमरपाल', 'फटने', 'टिंका', 'गायिकाओ', 'पकाएं', 'भ्रष्टाचारीयों', 'चालित', 'एफल', 'मॉड', 'राजनीतिकारों', 'अर्थों', 'गालीगलौज', 'अन्योन्याश्रितता', 'उडाया', 'कटलरी', 'प्रतिबन्धः', 'नीलाभ', 'बिलाई', 'खुल्लमखुल्ला', 'स्वानसन', 'अन्वाहार्य', 'रेवाड़ी', 'सहकलाकार', 'चैंपियनशिप', 'भड़काया', 'नामधारी', 'अल्बा', 'वातानुकूलन', 'खाताधारक', 'टेक्सस', 'स्पेशल', 'हरवंश', 'दीनु', 'शनिवार', 'डीई', 'डाबी', 'नहींकरवाई', 'मारवाड़', 'पीड़ियों', 'ब्रिगटन', 'मनाए', 'लिगर', 'दिलाएगा', 'आधीन', 'परवा', 'हेम्प्सटेड', 'मामूली', 'प्रदेशिका', 'वैरीफ़िकेशन', 'फेफड़ा', 'विसंगतिया', 'कच्छे', 'घोस्ट', 'पिपली', 'लवासा', 'हेल्पर', 'डूबनेवाले', 'बख्शने', 'इन्द्रियोंके', 'बरहद', 'रिसाली', 'काक्षीवती', 'विश्वरक्त', 'लोदी', 'पीचट्री', 'घुमक्कड़ों', 'ओझा', 'इलाज़', 'अरुणाई', 'अयोध्यानाथ', 'भौतिकवादियों', 'रॊकेट', 'न्यूरोकेमिस्ट्री', 'काल्डवेल', 'आवाज़ें', 'मूल', 'मल्टिप्लेक्सों', 'त्यौहार', 'रोटेशन', 'बेलचा', 'सहकलाकार', 'जड़ित', 'नगाड़ा', 'बरपाया', 'डूंगरपुर', 'लैंड', 'उच्छृंखलता', 'फैलाइए', 'सूची', 'नून', 'आरपी', 'सील्ड', 'पालनपुर', 'इलेक्ट्रोस्टील', 'ऑब्स्क्योरा', 'सिगरेटों', 'दिखाईं', 'रसल', 'नजरंदाज', 'कुआलालंपूर', 'ऑस्टिन', 'रैडक्रास', 'टीसीएनएस', 'स्वायत्तशासन', 'मूड', 'दौलताबाद', 'भूलता', 'प्रतिकारा', 'नाइट्रस', 'नाकाम', 'शुटिंग', 'राष्ट्रा', 'बेचकर', 'स्टोन', 'वर्धा', 'डीडब्ल्यूटी', 'देसबथुला', 'बापा', 'बाघबान', 'आदेशः', 'उड़ेलकर', 'तर्कों', 'याद्दाश्त', 'इनहेलेशन', 'सफरदगंज', 'रूपक', 'स्क्रेनटन', 'वर्णव्यवस्थावादियों', 'शिक्षाकार्मियों', 'खंडेलवाल', 'बेवरेजेस', 'पीडिया', 'नदफ', 'जेहे', 'ढहाएँगे', 'मस्तमौला', 'अगरतला', 'जमाया', 'परदेसी', 'आर्यों', 'वेलवेट', 'आपदाएं', 'आगाशे', 'अच्छी', 'उदघोष', 'स्वभावतः', 'बानी', 'राइकर', 'पीडीलाइट', 'ड्युअल', 'भीरा', 'सिल्वा', 'अधिकरन', 'रंजकता', 'श्रीचक्र', 'गौमूत्र', 'निचला', 'बुरहानपुर', 'सहूलियत', 'लब्ध', 'पूल', 'स्ट्रेशन', 'पीकिंग', 'ऑडिटर', 'डेनिअर', 'अजित', 'लैंगडन', 'अवशिष्ट', 'झ', 'प्रशासनिक', 'बोसीयर', 'बढ़ाचढ़ाकर', 'गिरिडीह', 'भुज', 'रीडिंग', 'फव्वारे', 'अद्वैत', 'रुकते', 'अनोंदिता', 'फोंटाना', 'न्यूट्रियो', 'पायलटों', 'जड़ें', 'बोरीवली', 'इलाइची', 'एलियंस', 'धम्मा', 'नाहरगढ', 'एनएसआईयू', 'सपाट', 'लैंगडन', 'पनामा', 'पुतले', 'आसापास', 'अल्वधि', 'मुफलिसी', 'संसथान', 'दर्शनार्थी', 'लोकोत्सव', 'ग्राहकोंने', 'उच्चअधिकारीयो', 'बहाव', 'रेजा', 'मदरसन', 'काॅप्लेक्स', 'आबूरोड', 'हैडलबेर्गसिएट', 'चिमटी', 'सर्फेकटेंट्स', 'मिटाओ', 'कायलाना', 'टंकार', 'ओढ़कर', 'मेड़ता', 'मेगवाल', 'रसायनिक', 'सूचनाः', 'सुगमता', 'जोकि', 'मुनाफ', 'निस्वार्थ', 'क्षेत्रद्वारा', 'महावर', 'बुलढाना', 'धमकाता', 'भूस्वामी', 'विज्ञान', 'क्यूट', 'बेवकूफाना', 'जाजमऊ', 'बेल्ट्रान', 'विलास', 'मखदुमपुर', 'कोलोराडो', 'ब्लैकबर्न', 'सुनीति', 'घिग्घी', 'फ्लेवनाइड्स', 'चहुंमुखी', 'सुपाच्य', 'सिरती', 'विष्णु', 'चौदहवां', 'चौधरी', 'आबरू', 'बलुरक', 'दावणगेरे', 'अनुरीत', 'शिपिंग', 'पटियाला', 'जानम', 'फाइनेंसियल', 'दमाए', 'पालिसी', 'आइसीसी', 'कुच्छ', 'चीखना', 'रिलायंस', 'उर्वरकों', 'रवैल', 'लड़कियो', 'मुकेश्वरी', 'वनक्षेत्र', 'उम्मीदे', 'कहावह', 'कांतिपूर्ण', 'बड़ाएँ', 'एनसीआरडब्ल्यूसी', 'प्रतिबद्धाता', 'फ़ॉलो', 'सेवामुक्त', 'इवान्स्टन', 'चरस', 'हील्स', 'रॉबर्टसन', 'भदौरिया', 'ग्लैक्सोस्मिथक्लीन', 'प्रॉडक्टों', 'गेवारा', 'विज्ञानों', 'जार्विस', 'लफ्ज', 'फॉन्ट', 'पराधीन', 'शक़', 'गंझू', 'डिट', 'दंपतियों', 'माड़ीखेड़ा', 'प्रतिष्ठानोंं', 'सूंड़', 'गिनते', 'अलगअलग', 'स्वास्तिकाकार', 'प्रतिकारा', 'आस्तिक', 'निवेशकर्ता', 'सवाल', 'संस्कृतियां', 'रौबदार', 'रघुराम', 'इंटरव्यु', 'छरहरी', 'सॉयर', 'भासपा', 'ज्वारों', 'संस्थिता', 'पार्षदों', 'पुलत्स्कर', 'उठाएँगे', 'लाएंगी', 'ओईएफ', 'वलसाड', 'मूलों', 'पुतलियां', 'शमिल', 'रिग्स', 'कैमेरिलो', 'सफ़लता', 'विनष्ट', 'कपिंग', 'जयललिता', 'आइटम्स', 'सॉकर', 'एस्फाल्ट', 'मेहरोत्रा', 'चुने', 'जरख', 'मेज़बानी', 'मुफलिसी', 'लूना', 'वर्णव्यवस्थावादियों', 'लिपाई', 'उठनी', 'बजाज', 'हिसारः', 'दंपतियों', 'वॉटसन', 'अगस्टाइन', 'पटाक्षेप', 'धंधेखोरी', 'उभरेगा', 'एंटोन', 'अपारदर्शी', 'निहलानी', 'टिवोली', 'होगिस', 'विंटर', 'बदलवाकर', 'घुमाई', 'पेटालुमा', 'बीएमडब्ल्यूएम', 'बख्शते', 'संवेदीकरण', 'तेलों', 'घुमक्कड़ों', 'हांफते', 'फरहीन', 'जेम्स', 'कीरतपुर', 'रेडिंग', 'शक़', 'सरप्राइज़', 'किसानों', 'चलेंगे', 'योडेर', 'स्टीन', 'पैथेलॉजिस्ट', 'लेबलिंग', 'इक्थियोसिस', 'लिबरेशन', 'फूडॉन', 'नन्हें', 'भदौरिया', 'जटिला', 'पहुंचनी', 'राष्ट्रोंं', 'ब्लॉसम', 'टंडन', 'गड़बड़बड़ी', 'संस्थिता', 'यात्राएं', 'आदान', 'जावते', 'नियुत्तियों', 'भीष्म', 'हंडिया', 'मुर्गीपालन', 'मालेकर', 'लवलैंड', 'मावे', 'विक्रम', 'हांफते', 'बैरकपुर', 'ग़ाज़ियाबाद', 'तर्कों', 'एसपीएफ', 'आर्टेमिस', 'ऐप्प', 'जयबाण', 'गैरइरादतन', 'विवेकाधीन', 'सबजूनियर', 'फालिया', 'प्रेक्षकगणों', 'पुरवासियों', 'विपन्नता', 'मांगा', 'ऑर्डनेंस', 'प्रधान', 'अभियुक्तोंके', 'विराटखंड', 'हिजबुल', 'विद्याओं', 'मंजू', 'छविंद्र', 'छुपकर', 'डोरंडा', 'सायं', 'मिठाइयाँ', 'जीवविज्ञानियों', 'पश्तून', 'ब्रह्राचारिणी', 'यरूशलेम', 'एल्टामोंटे', 'सिहुंता', 'हेमवती', 'कोषाधिकारी', 'आशंका', 'बीन', 'वैज्ञानिकता', 'झीलों', 'रोबर्तो', 'श्रीरामपुर', 'मंचीय', 'वसूलता', 'मोरीसन', 'महाग्रंथ', 'ट्रांजिस्टर', 'सर्वजातीय', 'पाटोत्सव', 'हाॅकी', 'मेडिथ्सन', 'उड़ाना', 'सरायमोहिउद्दीनपुर', 'पीटर्सबर्ग', 'रंजकता', 'दीया', 'माेहिंदर', 'मस्टेक', 'निर्बाध', 'एहसास', 'आवृत्तियों', 'एशियवन', 'थकी', 'टरबाइन', 'दिमाक', 'जोधपुर', 'दरदरा', 'ख़ासतौर', 'मकरानी', 'हाई', 'फटही', 'मारिया', 'गॉंव', 'पेंडुलम', 'आविष्कार', 'नतीजेः', 'जेफरसनविल', 'ब्रह्मसिद्धि', 'तुलसीदास', 'रीता', 'चर्चामंच', 'प्रतिकारा', 'तर्कवाद', 'दबंगों', 'हिचकिचा', 'शीर्षकों', 'डम', 'द्विअर्थी', 'जवाबः', 'बहुमान', 'जांचकर्ता', 'वन्देमातरम्', 'शुड', 'अगस्ता', 'एनईयू', 'दस्तखतशुदा', 'सूरीनाम', 'किंगखान', 'तरस', 'रिकनेक्टिंग', 'फाइब्रिक', 'क्लेयर', 'छीजत', 'मोमिनटोला', 'विरोध', 'अरेना', 'यूनियनवादी', 'बम्लेश्वरी', 'बोका', 'इम्मैच्योरिटी', 'संसथान', 'जीन', 'ददरेवा', 'कीड़े', 'करावणौ', 'पुतिन', 'टंकार', 'खटकती', 'जड़', 'पुष्प', 'जीएम', 'युसूगी', 'कोरोला', 'प्यादे', 'करवायेगी', 'बलात्कारियों', 'जताती', 'गुरदासपुर', 'श्रेष्ठस्वरूप', 'शुभप्रभा', 'यूरोप्लास्ट', 'राष्ट्रभक्तों', 'कैंटरबरी', 'कम्युनिकेटर्स', 'महामंच', 'कॉन्वे', 'डीडब्ल्यूएफ', 'रीव्स', 'डभोई', 'भूतल', 'इंसानो', 'एमिल', 'विज्ञानम', 'सपाटे', 'अटवाल', 'हिंडन', 'ऑफिसरी', 'मोंटक्लेयर', 'पुर्नस्वीकृत', 'रिचर्डसन', 'संदर्भ', 'फार्गो', 'अलीम', 'सप्तक्रांति', 'एचआर', 'इमानदारी', 'कॉन्ट्रेक्टिंग', 'गंगाजल', 'गौर', 'अधिकरियों', 'बंधान', 'सेंधा', 'डब्ल्यूपीडी', 'ग्रविटा', 'लिंगकन', 'प्रवृत्तिविज्ञानों', 'सीमेंटेशन', 'बगड़', 'जेन्ट्री', 'डैटसन', 'मोंटेबेल्लो', 'रिन्यूएबल्स', 'नक्सलवाद', 'ऐतराज़', 'इतिभगवती', 'निवेशकर्ता', 'पटकथाएं', 'काबिलेतारीफ', 'भादस', 'भोगते', 'होल्डिंग', 'धत्ता', 'धोरों', 'उपाख्यानों', 'फयेत्तेविल्ले', 'स्टॉकटन', 'ब्रजेश', 'प्रतिज्ञा', 'बढ़ाती', 'थेन', 'थॉमस', 'ध्येयवादी', 'ट्यूजडे', 'डब्ल्यूजीपीएल', 'ओवम', 'गति', 'न्यूक्लियस', 'क़रार', 'पुरूषोत्तमाचार्य', 'मनचंदा', 'लहसुन', 'नक़ाब', 'सूजा', 'मैकेंज़ी', 'पुर्जों', 'बहुंत', 'ब्रावो', 'अमानत', 'झुठला', 'बुश', 'चौखटे', 'अपर', 'एस्थेटिक', 'क्षेत्रद्वारा', 'सज्जा', 'ढहाने', 'नारियलयुक्त', 'जूलूस', 'कुर्सियॉ', 'सिंघाड़े', 'एमी', 'अंतर्मुख', 'ठक्कर', 'बड़बोलेपन', 'नक्सलियों', 'मैनर', 'हिमाली', 'नक्सलवाद', 'हॉफ', 'महाधर्माध्यक्ष', 'परमौजूद', 'टिप्पणीकार', 'पेरेल्स', 'भपाई', 'बीताने', 'वाल्व', 'द्विरुक्त', 'एड्डी', 'जीवनियां', 'पंघाल', 'खंडा', 'उर्वरकों', 'बेसिन', 'गिरिवासियों', 'पराधीन', 'पुख़्ता', 'अछनेरा', 'कार्सन', 'डेल्टा', 'त्रिपुरा', 'अलयमनी', 'खेड़ा', 'नाहरगढ', 'शालीमार', 'इम्मैच्योरिटी', 'एलएंडटी', 'प्रॉपरफेसबुक', 'उड़ानों', 'महाजन', 'मोसेस', 'बतायाकि', 'अली', 'इलेक्ट्रोमीटर', 'आमोद', 'रूकेंगे', 'मारिया', 'रागों', 'आइपीएफ', 'फलितार्थ', 'सुपाच्य', 'अवशिष्ट', 'ईष्ट', 'रेट', 'आटा', 'महलों', 'वरिष्ठों', 'जलपोत', 'कैटरीना', 'जिस्मफरोशी', 'सैलरी', 'रज़ा', 'रैकेटियर', 'बेसिल', 'बढ़ाता', 'चरणबद्घ', 'भड़काया', 'साहित्योत्सव', 'नरसीपुरा', 'समझूंगा', 'चंद्रपुर', 'सरका', 'ढाह', 'प्रौढ', 'अहितकारी', 'डरावनी', 'बेलिंडा', 'अलयमनी', 'डैटसन', 'अते', 'फास्नर्स', 'बंगरावाला', 'सायरा', 'अट्टहास', 'निर्दल', 'महबूबनगर', 'डराते', 'वल्कन', 'ख़ासतौर', 'बरसाई', 'आनंददायक', 'बांबी', 'तो', 'असमान्य', 'विपन्नता', 'स्पस्ट', 'अमझेरा', 'बेचकर', 'घटबढ़', 'कौशलता', 'मशीन', 'वायरलेस', 'फैंन', 'गानो', 'खंभात', 'क्यूआईपीएस', 'डबलिन', 'एमटीए', 'समृद्धियों', 'राधाकृष्णदास', 'कांस्टिंग', 'इड्डुक्कि', 'इंडस्ट्रियल', 'भारतवंशी', 'मांगी', 'रॉबिंस', 'व्लादिमीर', 'पेहोवा', 'बाग', 'उम्मीदवारी', 'साफगोई', 'कूत्ता', 'एडेन', 'ग्रेनाइट', 'उस्तरा', 'ढूंढता', 'संघीयता', 'कुमारी', 'डिप्थीरिया', 'अड़चने', 'कोरियाः', 'प्रपात', 'छुड़वाया', 'सूइयां', 'वेरोनिका', 'स्कैफलर', 'ज़यादा', 'पॉटर', 'मीडिया', 'यरूशलेम', 'पिछड़े', 'लेटसेंग', 'अर्थव्यवस्थताओं', 'काकू', 'निर्देशिका', 'सेटो', 'नवाते', 'संवेदन्शीलता', 'रोडरेज', 'छहों', 'लफ्ज', 'वंशवाद', 'रोहतक', 'अटकता', 'बावरा', 'कृबरभ', 'प्रकाशकः', 'स्टायरोल्यूशन', 'अपारदर्शी', 'बेंगलुरु', 'अंधापन', 'मैनन', 'क्याः', 'फार्मूले', 'हमलावर', 'अमावस्या', 'पूर्वापेक्षाओं', 'डैशवाला', 'ओकलाहोमा', 'डारमैट', 'सहकलाकार', 'फातमा', 'खलती', 'दायित्व', 'क्यूसैक्स', 'टोलकर्मी', 'वर्शन', 'परिसंवाद', 'इम्युन', 'बचती', 'यूटिलिटीज', 'मलमास', 'कैडमियम', 'एन्टीओक', 'खातेदार', 'मोहिनी', 'विश्वसनीयता', 'रहमान', 'कंबलों', 'आर्यिका', 'मैरेज', 'छींक', 'फलता', 'बागोरा', 'पकौड़े', 'लूसी', 'फतेहगढ़', 'ग्रहणकाल', 'जॉब्स', 'सदानंद', 'दत्त', 'मुर्गीपालन', 'लुढ़कते', 'पल्मोनरी', 'डब्ल्यूआईएन', 'उभारा', 'बेक', 'पडरौना', 'बांधते', 'कपूर', 'सेवाला', 'वर्शन', 'चिढ़ते', 'थाणे', 'निकलेगी', 'मोगली', 'ड्रेजर', 'नागारिक', 'गाजीपुर', 'वादक', 'मिचेल', 'ज्ञातव्य', 'स्तनधारी', 'धोराजी', 'अब्दुन्नासिर', 'विश्ववंद्या', 'सत्यार्थप्रकाश', 'शिवमोगा', 'घुमक्कड़ी', 'गाएं', 'ची', 'थिएटरों', 'अनाधिकारिक', 'शासक', 'हाइंस', 'बेतिया', 'धटना', 'रहमत', 'मोतिहारी', 'पियरसन', 'उज़्बेक', 'व्हीलिंग', 'पाइथागोरस', 'विप्रो', 'काबिलेतारीफ', 'जमाती', 'पुलम', 'दौबारा', 'पोर्टिलो', 'अधीक', 'धुम्रपान', 'दांपत्य', 'जामुड़िया', 'पेडू', 'पिपरा', 'ब्लेयर', 'कम्यूनिकेशन्स', 'अलायंस', 'अरदास', 'गुदना', 'जस्ट', 'आवाज़ों', 'बेंवर', 'अमारिलो', 'ब्रह्माण्ड़', 'दिखार्इ', 'तंत्रों', 'आसान', 'तुगलकाबाद', 'सट्टन', 'कंदरौर', 'खन्ना', 'निकालनी', 'डिबनू', 'इम्मैच्योरिटी', 'तोलासन', 'जानाकरी', 'लिवाल', 'एंजेलिन', 'ऋषिता', 'फ्लिंट', 'वृश्चिकःसप्ताह', 'आसमती', 'गिरकर', 'वैज्ञानिक', 'बिशड़ी', 'फूलती', 'पुनःस्थापना', 'बाध', 'गंध', 'चक्षु', 'मिकटॉम', 'लीडरों', 'ज़बर्दस्त', 'स्तुति', 'औरतो', 'हेब्लिकर', 'रट्टेबाजी', 'फ्रांसिस्का', 'बंबा', 'प्रतियुक्ति', 'डराती', 'प्राणों', 'मेडिसन', 'निभाएगी', 'मयर्स', 'कश्यप', 'ब्रिगेडियर', 'अम्बिकाओं', 'होगाः', 'इशाक', 'सुमि', 'देशभक्तिमय', 'धर्मपत्रियां', 'कृष्णानगर', 'ईए', 'आयुधनिर्माणी', 'ताजा', 'अजस्र', 'फिजूलखर्ची', 'मंत्रयों', 'तांता', 'डीलरशिप', 'चैपल', 'ध्वनिमिकों', 'एजुकेशन', 'जरख', 'नीट', 'जिलावासियों', 'संप्रभुता', 'कसेगा', 'पकानेवाला', 'दीपन', 'कलसाना', 'मुगालता', 'टोकने', 'फलीभूत', 'ग्योंठ', 'दिखार्इ', 'शामजीभाई', 'पहनाकर', 'किसानी', 'उधारदाताओं', 'रामटेक', 'व्याख्यात्मकता', 'साेमवार', 'विस्टा', 'पॉलिमर', 'रक्ताभ', 'भुगता', 'भ्रष्टाचारीयों', 'खटकती', 'मुख्यमन्त्रियों', 'मैड', 'कक्षांग', 'जैन', 'महीन', 'सुर्वणा', 'बांगरोटिया', 'रसायनिक', 'औरोरा', 'चमचागिरी', 'एनसीआरडब्ल्यूसी', 'ऐंठे', 'एस्सेल', 'देशसेवा', 'इलेक्ट्रोटेक्स', 'वर्कचार्ज', 'कार्वाई', 'झांकता', 'अर्जेंट', 'सप्रमाण', 'मौर्यों', 'जिनी', 'जगदीशचंद्र', 'असुरक्षित', 'काव्योक्तियां', 'अलंकार', 'स्वादप्रेमियों', 'जातक', 'रोलर्स', 'अशक्तता', 'काठियावड़ी', 'आवृत्ति', 'विद्याएं', 'विधिवत', 'राधे', 'मुख्यमंत्रीसंवाददाता', 'प्राणसंगली', 'कनलोग', 'पुदुकोट्टई', 'निकी', 'फूहड़ता', 'पटाक्षेप', 'रीट्वीट', 'मनोवैज्ञानियों', 'स्तनधारी', 'मुखोपाध्याय', 'निर्बाध', 'तोडऩे', 'आवृत्ति', 'परीक्षणकर्ताओं', 'एक्सटेक्टर', 'नाशिक', 'रसायनों', 'वैत्रवती', 'ऑग्रेनाइज', 'चौसिंगा', 'फलोदी', 'स्खलन', 'पनामा', 'निगर', 'मोंटे', 'सुनीति', 'शराबों', 'अम्बिकाओं', 'गुजारा', 'फोटोफ्रेम', 'प्रहलाद', 'बीसवां', 'द्विवेदी', 'देनेवाली', 'बर्ल्सन', 'भारद्वाज', 'जताती', 'मालेगांव', 'रहुगाँ', 'महामंत्र', 'बीस्ट', 'दिव्यता', 'संजीवन', 'कुपोषित', 'एक्सक्लेशन', 'चढ़ेगा', 'टेक्सरकाना', 'डूंगरपुर', 'सराही', 'लालपरी', 'एरोनॉटिक्स', 'वर्थ', 'आस्तीन', 'स्वप्निका', 'उपकार्यालयों', 'मिमिक्री', 'बल्लभ', 'वैरीफ़िकेशन', 'हैकेंसैक', 'आकाश', 'बोना', 'क्लाक', 'द़फन', 'पेगव', 'कहलाया', 'माड़ीखेड़ा', 'तेलीबाग', 'धारक', 'निकालनी', 'कंघे', 'प्रश्नोत्तरी', 'काकीनाड़ा', 'भाग्योदय', 'सिंगार', 'मचाए', 'लेखकगणों', 'उछालने', 'धर्मराजने', 'ऐंजल', 'बंटता', 'फाॅर्म', 'रवैल', 'हनुमानगढ़', 'वीरांगनाओं', 'गायत्री', 'वेंकटरमन', 'डिबनू', 'पुरूषोत्तमाचार्य', 'संयोजकों', 'झाउगंज', 'सरकारें', 'न्यूटेस्ट', 'श्रीकर', 'मिटाओ', 'दियोटसिद्ध', 'भूपसिंह', 'चर्चाएँ', 'प्रसारकों', 'निष्पाप', 'फ्लिन', 'रणनीतिबना', 'ईआरजी', 'धागा', 'गौमुख', 'जूड', 'खनिकर्म', 'शरभ', 'अरेलानो', 'उखड़कर', 'लेनेवाली', 'कुमार', 'सिंघाड़े', 'टोंसिल', 'दविन्दरपाल', 'सिंगार', 'खिसकते', 'एनिड', 'मेगापिक्सल', 'दिग्विजय', 'फजलों', 'दोगे', 'लेबलों', 'मुनाफा', 'बड़ने', 'वैरी', 'सातसेरा', 'ओर्टेगा', 'रोवे', 'भाटिया', 'राजस्थानवासियों', 'बागबगीचों', 'विल्किंसन', 'डराती', 'अटके', 'प्रमुखतापूर्वक', 'यत्न', 'नितिन', 'सिटी', 'रेडिको', 'दुकानों', 'जलसंसाधन', 'मत्स्येंद्रनाथ', 'बिहार', 'बर्षीय', 'अवरु', 'दाव', 'नक़ाब', 'सारेगामा', 'हुगली', 'सत्ती', 'नेग', 'महाबलेश्वर', 'प्लेसेंटिया', 'वर्साचे', 'कुमाऊ', 'एमी', 'थियेटर्स', 'एरिका', 'खिंचकर', 'रौबदार', 'ऑल्टो', 'काव्यविधाओं', 'कून', 'अक्रोन', 'तहखाना', 'समाजजनों', 'मचाए', 'सूर्यदेव', 'प्राथमिक', 'प्रवृत्रियों', 'ताजा', 'जीवनशैली', 'रक्तदाताओं', 'बालेश्वर', 'भौतिकवादियों', 'लगातीं', 'झाइयां', 'वंशवाद', 'नवानगर', 'नजरंदाज', 'अंशांकन', 'फुंकने', 'मतपत्रों', 'मॉड्यूल', 'फार्म्स', 'पहुंचोगी', 'मैडी', 'थीफ', 'फाउडलर', 'अमित', 'पूर्वाभाद्रपद', 'लंगड़ा', 'गोंपो', 'वेस्ले', 'शाओ', 'हामिदन', 'वीक्स', 'मिनरल', 'सेंटेंनियल', 'बस्तियो', 'बागबगीचों', 'प्रनीत', 'भेदभावों', 'कराहना', 'ग्रीनविल', 'सहरावत', 'रालोद', 'जातकों', 'रिश्ते', 'बेंटनविल', 'नजीबाबाद', 'फाइनेंसर्स', 'फटही', 'केरला', 'लड़ाईयों', 'हरिजन', 'वाईटेकर', 'विदिशा', 'पॉल', 'आर्यों', 'खिलाना', 'छूटने', 'दुखियों', 'पूर्णेश्वरी', 'विसबल', 'दरम्यानी', 'यारी', 'विधमान', 'यात्राएं', 'सनटेक', 'गुजारता', 'नियंता', 'डम', 'अवस्थी', 'पल्स', 'भें', 'स्टॉप्स', 'धकेलते', 'केपीओ', 'दमघोंटू', 'इंसानो', 'मैरेज', 'एस्फाल्ट', 'लॉन्ड्री', 'रत्नाभूषण', 'स्की', 'दुश्वारियों', 'अनुप्रयोगों', 'देशसेवा', 'लेलऽ', 'जगारागल्लू', 'मेजबानी', 'डेहरी', 'चक्कर', 'क्रोफोर्ड', 'गुदुरी', 'डीवीसी', 'प्रक्रियागत', 'नग', 'मत्स्यावतार', 'स्कूटरों', 'अर्धविश्वास', 'दरम्यानी', 'सुर्वणा', 'स्थितियां', 'धर्मानंद', 'सॉफ़्नर', 'स्क्वैश', 'विधानसभाएं', 'रैंडोल्फ', 'मेज़बान', 'स्प्रिट', 'शीलभंग', 'कलमें', 'स्वर्णिका', 'मंडी', 'अर्थव्यवस्थताओं', 'कुंडलियाँ', 'नीमकाथाना', 'फाॅर्म', 'हत्यारोपित', 'पुट्टा', 'फारेंसिस', 'पुरूषोत्तमाचार्य', 'बॉंन्ड्स', 'शिकायतकर्ता', 'क्रान्फ्रेंसिंग', 'उबाल', 'बाबाओ', 'हलमतपुरा', 'हकीकत', 'बर्मन', 'वर्तमान', 'बांटीं', 'अचंभा', 'जीवनपर्यंत', 'वदरा', 'सडक़ें', 'एेसा', 'ज्योतिष्यशास्त्रों', 'पाइथागोरस', 'एंजेलिन', 'कपोलकल्पना', 'द्रोपदियों', 'रोजलिन', 'श्रीराम', 'गोपालक', 'बंगबंधु', 'मिस्त्रियां', 'उसेे', 'मर्काडो', 'मैसोर', 'ऑफशोर', 'कपूरथला', 'साहोवालिया', 'मलदहिया', 'हाइमन', 'इंदौरनगर', 'विशेषज्ञताओं', 'उसकी', 'कैपलिन', 'महाप्राण', 'रुपेश', 'रिनो', 'सुदीप्तों', 'स्वामी', 'अमारा', 'व्यवस्थामूलक', 'सेंसिंग', 'टाइलर', 'संगारेड्डी', 'पहनो', 'मरदानी', 'बम्लेश्वरी', 'दिवानी', 'फिनकॉर्प', 'नवा', 'शिमट', 'सोहावल', 'बनाम', 'प्रवृत्रियों', 'शियोंग', 'वर्स्टेड', 'राजों', 'चीखना', 'नैमुल', 'बढ़ोतरी', 'एंटोनी', 'छांयसा', 'निर्देशिका', 'निपटारा', 'जुडने', 'सुझाती', 'पैथेलॉजिस्ट', 'टाइड', 'शृंगार', 'ब्रान्डेस', 'परमेश्वरपुर', 'जेडटीईसाफ्ट', 'उद्धाटन', 'स्टैन', 'आदिवादियों', 'जुलाहों', 'महाराजा', 'गतिशीलता', 'शिप्रा', 'ट्रिब्युनल', 'ख़ैबर', 'वनविभाग', 'घटाटोप', 'धर्मग्रंथों', 'प्रवृत्तीयों', 'गांठ', 'मैसोर', 'सहगल', 'नमकीन', 'वैध्', 'वनस्पतियाँ', 'जियांगकोऊ', 'पाखंडी', 'प्रोटेक्ट्स', 'एल्बाइनो', 'लिंडेन', 'सोहावल', 'भुरभुरा', 'गैस्ट्रोलॉजी', 'विद्रूप', 'साजसज्जा', 'रात्रिचर', 'रोजना', 'जलभराव', 'मोंटगोमरी', 'सेव', 'भ्रष्ट्राचारियों', 'डीडब्ल्यूएन', 'स्ट्रेशन', 'गांठे', 'गहलोत', 'छतेनी', 'विश्वसनीय', 'जीवनियां', 'दस्तानें', 'धोना', 'खरुवार', 'सूरीनाम', 'मंगलसिंह', 'अन्योन्याश्रितता', 'नाइनटीज', 'पांचोलास', 'रेसों', 'वातानुकूलितों', 'चतुष्कोणीय', 'आमदी', 'दुष्टतापूर्वक', 'बेचते', 'चौका', 'मिज़ोरम', 'टोरेंस', 'अनुचित', 'अवरोधक', 'रॉस', 'अच्युत', 'ऊधामी', 'हरावल', 'गोल्ड', 'दाव', 'सृजनविज्ञानी', 'नेक्स्टजेन', 'रूकावटों', 'भावनाओं', 'देहधारी', 'परीक्षाएं', 'उतने', 'संस्कृतिओं', 'प्रॉस्पेक्स', 'नईदिल्ली', 'सायं', 'जिनीवा', 'रसद', 'बारामुला', 'वन्देमातरम्', 'सफारी', 'चम्बा', 'सवाल', 'बन्नारी', 'फ़तेहपुर', 'पहनता', 'स्प्रे', 'नॉर्मल', 'ऑलआउट', 'मनासस', 'मंत्रियोंके', 'कार्यकार्यकर्ताओं', 'फाडऩे', 'ग्रेग', 'बैतूल', 'कुषाण', 'सुब्बनी', 'इन्फिबीम', 'खटखटाकर', 'चाचाजी', 'चंद्रबली', 'बारिपदा', 'रूहेलखंड', 'ग़ैरकानूनी', 'आरेखः', 'प्रमुखकर्मियों', 'ली', 'थियेटर्स', 'असम', 'फानों', 'ज़्यादा', 'थियेटरों', 'सफाईकर्मी', 'बीएसएसएस', 'क्रान्फ्रेंसिंग', 'जीवराज', 'थिरके', 'शकसुबहे', 'पैराट्रूपर', 'डभरा', 'उसी', 'निःसंदेह', 'महानतम', 'बांठिया', 'अनम', 'कश्मीर', 'बावडी', 'भुट्टो', 'मारके', 'कार्ययोजना', 'फ्रांसिस्को', 'अदाणी', 'धुरिया', 'महाविद्या', 'मेगापिक्सल', 'क्रिप्टोकरेंसियों', 'मूठ', 'ऑथोरिटी', 'अपरिवर्तनशील', 'प्रधानमंत्रीकी', 'आगाशे', 'नवजागरण', 'अट्टरा', 'उबाला', 'अमानती', 'खम्मम', 'हारना', 'भावाभिव्यक्तियों', 'पुष्कर', 'शांतियों', 'नेरोलेक', 'चौका', 'सिद्दालिंगा', 'भरतनाट्यम्', 'जवाबः', 'दुश्वारियों', 'मंचीय', 'जीयो', 'सप्रमाण', 'सीम', 'पीएचडब्ल्यूसीएस', 'बहाव', 'टिक', 'अगवाई', 'हाइमन', 'क्यूआईडब्ल्यूआई', 'अज्ञात', 'एजेंडे', 'लिंचबर्ग', 'मांगीना', 'खटखटाएगी', 'जोधिका', 'सृजनविज्ञानी', 'डेटसन', 'बदलवा', 'उर्फ', 'छापेमार', 'लक्स', 'भोपाल', 'फलीभूत', 'पैथेलॉजिस्ट', 'पर्याप्तता', 'फूर्ति', 'मृत्युनिवारक', 'मारुति', 'उठाकर', 'एएलओ', 'पेगव', 'पीलीभीत', 'सोमी', 'संचालनों', 'कांचीपुरम', 'डराती', 'याद्दाश्त', 'साबुदाना', 'वेल्डिंग', 'वेरोनिका', 'स्टिम्बेरवाला', 'मायाजाल', 'पेस', 'अतुल', 'औटोमैटिकली', 'जांचना', 'मिथिलांचल', 'फिक्सिंगः', 'सजेती', 'प्लानो', 'विसंगतिया', 'खोमचे', 'लगना', 'मुकेश्वरी', 'तस्वारों', 'देव', 'वेश', 'ज्योथी', 'लेंडल', 'वीरांगनाओं', 'यनित', 'पूर्णिया', 'चौक', 'लड़ीं', 'चेस्ट', 'कसेगा', 'एबट', 'रेनुका', 'लूवे', 'गुलाबाग', 'लज्जालु', 'साभार', 'गैरराष्ट्रवादी', 'धावकों', 'लिम', 'विद्याएं', 'स्वयंस्वीकृत', 'इलेक्ट्रोटेक्स', 'रामराज', 'जनभावना', 'यौनिकता', 'हाथे', 'दूने', 'प्रोटेक्ट्स', 'वरेण्य', 'मज़बूरी', 'प्रवीनचंद', 'वैज्ञानिक', 'टोरेंट', 'आत्माएं', 'संप्रति', 'मत्थे', 'सविता', 'अटलांटिक', 'जलगति', 'चच्चा', 'आफरीन', 'बाजारू', 'चौकी', 'फरसे', 'ट्यूनिंग', 'नोडरानी', 'मौम', 'विधाणी', 'गुजार', 'पकडकर', 'ऑंखें', 'आपका', 'वार्नर', 'अन्वाहार्य', 'लिखेहैं', 'पाठ्यक्रम', 'शावकों', 'यरूशलेम', 'मण्डलायुक्तो', 'नैनो', 'झाइयां', 'सिम्फरपोल', 'धम्म', 'निखरेगा', 'घुमाण', 'होऊंगा', 'ढकाल', 'सागरिका', 'बर्नार्ड', 'योगबल', 'ब्रेवरीज', 'डिश', 'ऐठन', 'वर्तमान', 'त्रैमासिक', 'तस्वीरे', 'व्यवहारगत', 'मराठा', 'बनवा', 'स्वर्णिका', 'प्रसाथ', 'ओवरऑल', 'पूर्वाफाल्गुनी', 'प्रॉपरफेसबुक', 'सुवेन', 'सपाटे', 'झ', 'करघे', 'देशकाल', 'नाथवाड़ा', 'थानवी', 'ओरण', 'सेरानो', 'इअर', 'सबमिशन', 'धारक', 'तदाद', 'ग्रीनवुड', 'हाउते', 'बहुरिया', 'नियंताओं', 'चूरू', 'मिसौरी', 'अन्याय', 'जेनरेट', 'न्यूटेस्ट', 'गरुड़', 'स्वास्तिकाकार', 'शैइ', 'सिद्धांतवादियों', 'अनावश्यक', 'सीटें', 'गुलशन', 'रिया', 'फर्मिऑन', 'टायर', 'ची', 'बदलापुर', 'युद्धनौका', 'एनबीसीसी', 'श्रीगंगानगरवासियों', 'उदा', 'कैंब्रिज', 'एयरवे', 'आइडल', 'कैल्यूमेट', 'आजमाना', 'तंत्रिकाओं', 'जोन्सबोरो', 'बुद्धिजीवों', 'क्लोज़अप', 'एनएमडीसी', 'राष्ट्रपित', 'कमारहाटी', 'एस्फाल्ट', 'फ्रांसिस्को', 'भल्ला', 'मौलवियों', 'नरवर', 'लहलहाती', 'ब्यावर', 'घटाएगी', 'नामजदगी', 'तकः', 'सेवाग्राम', 'लामियां', 'जिन', 'स्वेच्छा', 'अंतडियां', 'आर्यो', 'पॉलिशिंग', 'जोखिमभरा', 'उमड़ती', 'तंत्र', 'सामोआ', 'सीएसआई', 'मांड्या', 'लॉरी', 'पहनते', 'अंकोर', 'निम्नवत्', 'रैपिंग', 'रुपेश', 'प्रतिबद्धाता', 'नाडेप', 'सैलानीपन', 'मेंराज्य', 'दाव', 'आबूरोड', 'पाठ्यक्रमों', 'निविदाताओं', 'गांधीपुरा', 'पीएचडब्ल्यूसीएस', 'नारायणगढ़', 'जयललिता', 'सुसंस्कृत', 'मसूद', 'वुनसोकेट', 'संस्कृतियां', 'उर्फ', 'थेराटीपल्ली', 'प्रतिनिर्देश', 'उल्हासपुर', 'पहनते', 'धावकों', 'भगेड़', 'प्राणसंगली', 'जलवायु', 'भिजवाई', 'सायरा', 'क्रेन्द्रों', 'मौजुद', 'सिद्घांत', 'कम्युनिकेटर्स', 'चिड़चिड़ापन', 'मुथूट', 'विवेकाधिकारों', 'मलौन', 'सिनसिनाटी', 'रेगिस्तान', 'परोसने', 'विचारकों', 'जनभावना', 'अंडमान', 'बडयाल', 'मोरपेन', 'बियर्ड', 'नोडरानी', 'दिखायेे', 'छींक', 'व्याख्यात्मकता', 'शैशव', 'आइंथू', 'अहमदाबादः', 'जायके', 'सिग्निटी', 'कुरुक्षेत्र', 'प्रवृत्तीयों', 'चर्चा', 'लक्ष्मीचन्द्र', 'हैमंड', 'निभाएगी', 'धुनाई', 'जनभावना', 'कांट', 'मेलघाट', 'मुऐ', 'श्विंग', 'दांपत्य', 'कपड़ा', 'संतति', 'मानवटरहित', 'अनुप्रयोगों', 'हार्वे', 'काजू', 'सेररितोस', 'टेक्समैको', 'संचार', 'ट्रुथ', 'लोज़ानों', 'रोपने', 'हॉलीवुड', 'छींके', 'धम्मा', 'टेक्नोप्लास्ट', 'पूजापाठ', 'चानन', 'श्रंखलाओं', 'छेड़ना', 'कार्बोजेन', 'व्यवधान', 'शुल्ट्ज', 'इस्त्राइलियों', 'स्क्वाश', 'डैनविल', 'प्राना', 'ठाकुरवादी', 'प्रयोगशास्त्र', 'व्यक्तीयों', 'मैट्रोलॉजिस्ट', 'मढ़ौरा', 'पालियों', 'डेनवर', 'एपीजे', 'बैनी', 'प्रतिस्थान', 'भ्रष्टाचारीयों', 'लकीर', 'सुधारगृह', 'संदली', 'जागृति', 'तलवार', 'जनशिक्षा', 'टापुओं', 'बुलेटिन', 'बल्लेबाज़ी', 'माड़ीखेड़ा', 'अर्थशास्त्रीयों', 'स्कैनिंग', 'मेहमान', 'रहेगी', 'जमशेदपुर', 'त्यौहारों', 'दर्शाना', 'बीचबचाव', 'सुलाती', 'वर्शन', 'सुधारती', 'वसामुक्त', 'पाटिल', 'जेवाब', 'सोटो', 'धातुएं', 'डोसे', 'भागदौड', 'पगबाधा', 'आरुषि', 'अगस्ता', 'टाइटन', 'इक्विटीज', 'एयरटेल', 'ऐल्प्स', 'नक्सली', 'अचीवमेंट', 'गलाएगा', 'फूडॉन', 'राजनीचि', 'आर्य', 'स्ट्रीमवुड', 'घोट', 'म्यूजिक', 'पुरकायस्थ', 'नोरा', 'टॉनिक', 'गुजारने', 'वाटर', 'सूनसान', 'सिरसा', 'टेंगीरला', 'हेनसन', 'वरुण', 'ड्रेजर', 'दौड़ाते', 'शराबों', 'व्यक्तीयों', 'सातसेरा', 'दर्जनों', 'अग्नियां', 'धोना', 'कार्यकर्त्रियों', 'अवस्थाएं', 'हिममानव', 'टु', 'ऐल', 'बंधुओं', 'श्रद्धावानों', 'मारियो', 'व्याघात', 'माईकल', 'अद्र्घ', 'विट्ठल', 'प्रारूप', 'ढूंढती', 'डुबाना', 'लडने', 'फार्म', 'जुवारी', 'परिवारवाले', 'पैरानॉर्मल', 'भुवनेश्वप्रसाद', 'आईरिस', 'प्रतिज्ञापूर्ण', 'लेबलों', 'श्रीकृष्णन', 'स्नीकर्स', 'कईं', 'भूस्वामी', 'कटरा', 'अन्याय', 'नोकरी', 'प्रिसिशन', 'क्रोम', 'जुए', 'बोलिंग', 'ताप्ती', 'कैथोलिकों', 'नजरंदाज', 'मूलचंद', 'स्वेच्छा', 'नन्यौला', 'घोंटना', 'अद्वैतवाद', 'अंडरवुड', 'लुभावना', 'पेट्रोसेली', 'आमदी', 'रोपने', 'डेजी', 'जबाबी', 'कप', 'फाड़े', 'उलाहना', 'उन्नतियों', 'मोलिना', 'गांडचुभोनाचूसनाछोटे', 'हां', 'प्रर्दशन', 'सरगुजा', 'बीदर', 'अमरगढ़', 'जुए', 'टोंक', 'देवापुर', 'इंटेलीजेंस', 'नीतियों', 'खनौदा', 'पोरबंदर', 'सिम', 'लग्नेश', 'गायिकाओ', 'पृष्ठभूमियों', 'मूलचंद', 'सिल्चर', 'मार्गरिटा', 'उदाकिशुनगंज', 'सिरती', 'यमला', 'प्रशिक्षु', 'सिएरा', 'आल्हा', 'पेक', 'तसखीर', 'डाका', 'नॉमिनेट', 'सपाट', 'कोयम्बटूर', 'कोरापुट', 'स्वायत्तशासन', 'विद्युतीकृत', 'किकियाना', 'अरुणाई', 'रीगल', 'डायमंड', 'मृदुभाषी', 'वाल्टर्स', 'सूत्रपाडा', 'कीति', 'ज़िलाधिकारी', 'मंगेश', 'पेंषन', 'लगनेवाले', 'जिलावासियों', 'प्लोस्की', 'एकसाथ', 'सेखर', 'डीओडब्ल्यू', 'अर्धविश्वास', 'राजस्थान', 'विकासखण्ड', 'संशयों', 'बढना', 'क्लासों', 'उखरुल', 'फुरामे', 'एबज', 'बाताया', 'जुशान्तान', 'स्ट्रॉन्ग', 'राजनीतिकारों', 'पानीपत', 'ब्लांकार्ड', 'झाबुआ', 'जकिंटो', 'बारहसिंगा', 'सूचनाः', 'इलेक्ट्रोमैजिक', 'लालमणी', 'भाऊलाल', 'कठुआ', 'पलारी', 'अमिताव', 'तदंरुस्ती', 'वाबस्ता', 'व्लाद', 'स्लैश', 'वाटरबरी', 'सेल्फी', 'लुईस', 'पंचसूत्र', 'अर्यमा', 'वादक', 'जंक्शन', 'जेनरिक', 'जिया', 'एडेन', 'सॉफ़्नर', 'क्यूडब्ल्यूवीजीए', 'ध्वनिमिकों', 'फीड्स', 'सुकडि़याल', 'अनगढ़', 'बावजी', 'छोडिये', 'सिप्ला', 'विज्ञानों', 'धस्माना', 'लोंगोवाल', 'बदाम', 'अट्रैक्ट', 'सराहा', 'नृत्यशैली', 'संवरी', 'यक्षाधिपति', 'अरबपतियों', 'मुकद्दमों', 'फोड़े', 'सिहुंता', 'जीवन', 'ढूंढता', 'क्रुसेस', 'कार्यकर्त्रियों', 'प्रतिबद्धताएं', 'डीएलडब्ल्यू', 'प्लेन', 'पायलट', 'अधिवास', 'फैंन', 'फव्वारा', 'हालचाल', 'विश्ववीर', 'क्रेस्ट', 'ब्रह्मलीन', 'विरेचन', 'याद्दाश्त', 'उज्जैन', 'सहयात्री', 'जिम्मे', 'सारावागी', 'देखियेगा', 'वजूद', 'कुंडल', 'रिया', 'स्लाइडर', 'मैनेजमेंट', 'कार्यकार्यकर्ताओं', 'क्रिस्टिस', 'रुकते', 'डिस्ट्रब्यूटर्स', 'स्पेल', 'दमपर', 'ठिकाने', 'इंटरटेक्चुअलिटी', 'सीडीयां', 'साउथ', 'आपका', 'नहींकरवाई', 'जागृति', 'चूड़े', 'थर्टी', 'नक्सल', 'जीएसएम', 'गुजरात', 'दर्शनार्थी', 'नाभा', 'धोखेबाज', 'लेगा', 'बीआईआईटीएम', 'साेमवार', 'वाणों', 'औद्योगिकरण', 'अग्रहरि', 'आफॅ', 'तीमारदारों', 'मिश्रा', 'सेरेब्रा', 'नागारिक', 'दस्तार', 'मकरः', 'जीतोड़', 'बैलिस्टिक', 'चढ़ेगा', 'मांगे', 'नीलाभ', 'मेंशराब', 'सिंघाड़े', 'हिसारः', 'रामकोट', 'बैठते', 'तसखीर', 'इशारा', 'सोलापुर', 'मेजबानी', 'फ्लोरेंस', 'परामर्शक', 'झाड़ने', 'थियेटर्स', 'आदान', 'आंबियंस', 'सुरक्षाः', 'हिकारिको', 'बांया', 'रुकवाई', 'मित्रवत', 'बोकारो', 'मौर्या', 'प्रतिनिधिकारी', 'चंद्रमाओं', 'परोसने', 'ढैया', 'स्पिरिट्स', 'लियान्ड्रो', 'शॉन', 'स्वार्थपरक', 'चूचियां', 'महामीडिया', 'पूर्वजन्मों', 'शोहदापंती', 'कुषाण', 'जमलोकी', 'एवरेस्ट', 'तस्वारों', 'अधिवास', 'प्रेमलता', 'मुर्रिएटा', 'वैमनस्य', 'केली', 'टिनप्लेट', 'वाण', 'महामंत्र', 'मेजबान', 'शुमाली', 'फुलाए', 'प्रूट', 'रुजवेल्ट', 'प्रशासनिक', 'उलझानों', 'पत्रकारवार्ता', 'दुआर', 'कठफोड़वे', 'बिपिन', 'ऑफरः', 'ईसाइयों', 'प्रोपेलेंट', 'कंसाई', 'सीखीं', 'सीडीसीएल', 'एबोट', 'कटलरी', 'आदिवादियों', 'चित्रकथा', 'अवशिष्ट', 'फ्यूचुरिस्टिक', 'तेरीः', 'नन्हें', 'एवरी', 'सूबा', 'शाखाएं', 'त्रिकालदर्शी', 'पालसाही', 'फैलाइए', 'झउवा', 'जमाती', 'जनहानि', 'पोंडिंग', 'तस्वारों', 'देशकाल', 'हिचकिचा', 'बस्तीः', 'गरीबी', 'फड़फड़ाएं', 'सीताराम', 'कमेरे', 'बैरकपुर', 'स्वयंस्वीकृत', 'कासोवो', 'मज़बूरी', 'कन्वोकेशन', 'स्किपर', 'जयपुर', 'प्रस्थानों', 'नरम', 'रेडियोप्रेमी', 'टीटागढ़', 'चिको', 'राज्यमंत्रीस्वतंत्र', 'मैनवल', 'गुजारना', 'सतलुज', 'जातियों', 'अनहोनी', 'टेलीलिंक्स', 'लैब्स', 'हरावल', 'मैरेज', 'मनिया', 'ट्रैक्टर्स', 'कंचन', 'लैरी', 'कार्यावधि', 'जलभराव', 'भाड़ा', 'बागोरा', 'पिएगा', 'स्टीफेंस', 'अभिमत', 'एक्सेल्या', 'वायरलेस', 'चौड़ा', 'परभणी', 'खातेदार', 'बढना', 'बर्च', 'उपद्रवों', 'टिकियों', 'मिल्क', 'डुबोना', 'बेकर', 'सुतली', 'बुद्धाराम', 'वेल्थ', 'पटरानी', 'अर्धविश्वास', 'पैम', 'कास्टानेडा', 'बलजीत', 'भटनागर', 'जातकों', 'इक्वाडोर', 'स्वर्गदूत', 'ऋषिकुल', 'टेट', 'कंठहार', 'बेऔलाद', 'यूरोपिया', 'गए', 'ददरेवा', 'बिखेरने', 'हमलो', 'पकड़ाए', 'उपलब्धियों', 'कोलोराडो', 'पैकर्ड', 'जागृति', 'आंध्रा', 'चौंकाते', 'बेख्वाबियां', 'नफ़ा', 'सिन्हा', 'उत्पीडऩ', 'सागा', 'आर्य', 'दिखाइये', 'अनिष्टता', 'उड़ान', 'संयुक्तावस्था', 'शमलात', 'एवव', 'अधिवक्तागण', 'रल्हन', 'झुठलाने', 'पूर्वाभास', 'बिजेन्द्रसिंह', 'चिनमणि', 'लोकसभावाली', 'लड़की', 'नरसिंहगढ़', 'संगठनमंत्रियों', 'रूपी', 'कार्यकर्ताओं', 'अगस्ता', 'मनमर्जी', 'अंतर्मुख', 'अनुमार', 'रिश्तानाता', 'द्विअर्थी', 'चुटीले', 'हैटीज़बर्ग', 'यूजी', 'राज', 'रैगुलाइजेशन', 'विंध्या', 'फिक्सिंगः', 'कमज़ोर', 'भरा', 'चौदहवां', 'फलने', 'श्रंखला', 'विपन्नता', 'प्रूफ़रीड', 'ज़माना', 'घटाएगी', 'दंगा', 'एरिका', 'भोला', 'व्याख्यात्मकता', 'योजनाः', 'वेबुनियादी', 'रुमानी', 'साहू', 'प्रधाननगर', 'सीऐटल', 'स्टैन', 'इनसानी', 'हमला', 'न्यूट्रियो', 'लदड', 'अंतडियां', 'कुशवाहा', 'कोच्चिः', 'गणपति', 'फार्मिक', 'पड़ेंगी', 'अर्थ', 'मुक़र्रर', 'निपटाकर', 'होलिडेस', 'कूच', 'उठ्ठक', 'सुलखान', 'कमेरे', 'जगाएगा', 'संत्री', 'शख्सियतें', 'पंचांग', 'झालाना', 'नित्या', 'इच्छी', 'हाबरा', 'पालियों', 'एजूस्पर्मिया', 'तावीज', 'फ़ूडवर्क्स', 'ग्राहम', 'प्रभानमंत्री', 'सेथ', 'जगताप', 'हर्षित', 'डूबना', 'रक्तदाताओं', 'मेक्सिको', 'तासीर', 'एयरकंडीशनर', 'एड्डी', 'मैकॉन', 'इसरानी', 'ऐंठ', 'श्रीमहापूर्ण', 'डॉर्क', 'जीनों', 'ग़रीबों', 'तराशकर', 'ऑब्जर्वर', 'आर्यो', 'उखड', 'साथसाथ', 'पैकेजों', 'हिंडन', 'अपरिहार्य', 'मंजिल', 'एलएक्स', 'कर्वी', 'दुभाषियों', 'रिकनेक्टिंग', 'विंड', 'क्लांइट', 'शरारत', 'वेंचुरा', 'रोलिंस', 'हैन्स', 'निकेतन', 'क्रांतियों', 'ट्विन', 'दिव्य', 'गिड़गिड़ाते', 'निगमायुक्त', 'गबली', 'नोवाटो', 'रिश्वतखोर', 'फांसी', 'गर्जना', 'निहलानी', 'पिंटा', 'ग्रीर', 'लेविसविल', 'प्रकाषित', 'क्लैरिएंट', 'क़ायल', 'द्विअर्थी', 'राखे', 'बुलंदशहर', 'स्टेफोर्ड', 'नजरियों', 'वर्ल्ड', 'जीवनियां', 'परमेश्वरपुर', 'उठनी', 'न्यूट्रियो', 'जेठा', 'बागबगीचों', 'सुचिकित्सा', 'नागमण्डल', 'प्रदाधिकारियों', 'उर्वरता', 'नील', 'क्रिप्टोकरेंसियों', 'स्वायत्तशासन', 'जर्दा', 'उपलक्ष्य', 'छुड़वाया', 'विदग्धा', 'मुख्यमंत्रीपटना', 'जैने', 'रतनपुर', 'महानतम', 'गुना', 'एमटेक', 'देनेवाली', 'नाभिकुंड', 'विशेषणों', 'लंगरों', 'पॉलिथीनों', 'संबित', 'ढूंढ', 'हां', 'टकरा', 'धंधेखोरी', 'पुलिंदे', 'एपोक्लिप्स', 'विज्ञानपीडिया', 'महोनी', 'पूंजीतंत्र', 'खरे', 'एक्सटेक्टर', 'ज़ुन्हेबोटो', 'प्रियामणि', 'सवाल', 'सूखाकर', 'आलोचक', 'फाँस', 'जयललिता', 'अमझेरा', 'बॉम्बे', 'व्यग्र', 'अपनानी', 'रिसने', 'छुरे', 'शार्लेट', 'जोस', 'रैलीः', 'मेज़बान', 'धनधान्य', 'डाबर', 'बीएसएसएस', 'नजीब', 'अवस्थाएं', 'जबलपुर', 'धर्मनिरपेक्षताके', 'फार्मर', 'एनएसीएल', 'समरविल', 'बुल', 'झुलए', 'खग्यार', 'मेहराम', 'धस्माना', 'रिपन', 'भागदौड़', 'मिथ्या', 'ललानिया', 'भूलों', 'वडाली', 'नागापट्टिनम', 'वैमनस्य', 'बिगेस्ट', 'जोड़ता', 'महत्तरों', 'ओरछा', 'धैर्यवान', 'सूंड़', 'प्रिंस', 'ज़ुबान', 'कैमस्टूडियो', 'यूरोपिया', 'मेज़ा', 'भुसावल', 'गायत्री', 'वेयर', 'बुद्धिजीवों', 'ऐंठ', 'रदर', 'इलाइची', 'उबाल', 'श्रीगंगानगरवासियों', 'फिजराल्ड़', 'जीवनशैली', 'चार्ट', 'सरगी', 'वेदों', 'मरमर', 'भाते', 'विप्ख', 'बयाने', 'मदनगंज', 'पैकेजों', 'वर्णनकर्ताओं', 'ज़यादा', 'लोकोत्सव', 'तेवरी', 'झाउगंज', 'मालवान', 'तदंरुस्ती', 'ऐल', 'क़ब्ज़ा', 'सुसंस्कृत', 'संधोल', 'आमरियापाड़ा', 'हाब्बन', 'बाउलिंग', 'रस्मे', 'एमडब्ल्यूपीएल', 'विद्याओं', 'बोवी', 'चेन्नई', 'कमलजीत', 'सिंहा', 'पेंशनधारियों', 'बारह', 'डूबना', 'एसेटल', 'चौहान', 'फलने', 'सिद्धार्थः', 'एपेक्स', 'डाल्टन', 'श्रीखंड', 'टेक्सटाइल्स', 'अग्रवाल', 'मिथ्याचारियों', 'सिमटे', 'क्रान्फ्रेंसिंग', 'संस्कृतियों', 'ढंककर', 'निज़ामाबाद', 'छतेनी', 'दुष्क्रिया', 'सासाराम', 'चिढ़ते', 'लाम्बा', 'लउटिस', 'खाएँ', 'धंधे', 'अन्त्यन्त', 'मास', 'बरामद', 'क्रेमिस्ट्री', 'उठनेवाले', 'लहना', 'सिरगिट्टी', 'कंट्रोल', 'अंदाजी', 'कैटलिन', 'पक्षपात', 'फोड़ों', 'फ्रांसिस्का', 'प्रयोगपृष्ठ', 'क्रांतिधरा', 'डैशवाला', 'खुरासान', 'क्वॉरेनटाइन', 'फोंड', 'पक्षपात', 'पुतला', 'ट्रुथ', 'साथसाथ', 'मोहिम', 'जॉनसन', 'सीपीएम', 'बाताया', 'पाल्मर', 'तुगलकाबाद', 'एपकोटेक्स', 'हैरम', 'सरेबाजार', 'येरुशलम', 'मोल्ड', 'वर्णनकर्ताओं', 'हूपर', 'वाटर्स', 'लुभाते', 'फेफड़ा', 'कामोत्तेजना', 'दंपति', 'सोया', 'बर्बरतापूर्ण', 'तड़ीपार', 'लुत्फ', 'तरीको', 'चता', 'पिटमैन', 'पहला', 'मल्टीमीडिया', 'त्यौहार', 'लेबल', 'ले', 'तीर्थाटन', 'सतुआ', 'वर्गस', 'डाबोलिम', 'सूचनाः', 'लेबलिंग', 'रोज़विल', 'फ़ाईब्रेट्स', 'ऑल्टो', 'परतानी', 'अस्मिताओं', 'वांट', 'तड़पती', 'पटेल', 'काजी', 'दोस्तानापूर्ण', 'क्षेत्राें', 'लिंच', 'स्टेट', 'रागों', 'मल्होत्रा', 'प्रज्ञातंत्र', 'दुर्नीति', 'क्रॉस', 'अव्यवसायी', 'धैर्यवान', 'टाइम', 'अशरीरी', 'चन्द्रदास', 'ज्योतिषि', 'एलेक्जेंड्रिया', 'बेवकूफाना', 'सिरपुर', 'उज़्बेक', 'खरुवार', 'धर्मविहीनता', 'सुरेंद्रनगर', 'आल्हा', 'अरुणाचल', 'क्रुएगर', 'बागली', 'दविन्दरपाल', 'चापलूसी', 'संस्कारियों', 'इंजन्स', 'मेंडेज़', 'सियाह', 'गुजारने', 'गजरा', 'कवि', 'मिदनापुर', 'वृत्तों', 'सिरमोन', 'वर्तमान', 'उभरेगा', 'पायलट', 'नरभक्षी', 'एंट्रीक्स', 'डेटन', 'बडू', 'ऑलराउंडर', 'निश्रा', 'वधावन', 'जेन्सन', 'पाली', 'त्रैमासिक', 'अट्रैक्ट', 'वविद्यालय', 'चंदन', 'मेगा', 'मैन्सफील्ड', 'मट्टानचेरी', 'नवकेतन', 'कमतर', 'पिट्यूनिया', 'पुरूषोत्तमपुर', 'तपन', 'ज़ुबान', 'एनसीआरडब्ल्यूसी', 'हैम्बलिन', 'आराम', 'यशपाल', 'वोखा', 'छेत्री', 'ओमैक्स', 'परवीन', 'कुकरेजा', 'प्रेमफलः', 'नरमी', 'श्रंखलाओं', 'अवरोधक', 'तीरों', 'गणेशा', 'झाड़ा', 'अनुपमा', 'तलबगार', 'बिन्दल', 'ज़वाला', 'आमरियापाड़ा', 'प्रतिनिधिकारी', 'हलमतपुरा', 'बूदम', 'मैकियास', 'मेडीकल', 'रिस्पेक्टिंग', 'रंजकता', 'दा', 'सक्शन', 'भूमी', 'त्यौहारों', 'रंगते', 'उत्तरा', 'पेंशनधारियों', 'कार्यकर्ताओं', 'विद्याओं', 'द़फन', 'सरहिंद', 'ख़ासकर', 'रैथ', 'गुडगौंव', 'साहब', 'उड़ानों', 'मेजेस्को', 'पुष्पा', 'केशरी', 'बांबी', 'कारगिल', 'टकरा', 'बिजी', 'क्रोम', 'स्तिथि', 'गल्फ', 'कालोनीवासियों', 'आवृत्तियों', 'सुहानुभूति', 'चमच', 'विरोधाभासी', 'साभार', 'ऑलकार्गो', 'हारना', 'अव्यवसायी', 'प्राविंसेस', 'छेत्री', 'प्रतिष्ठी', 'सपा्', 'पटकी', 'पर्चियों', 'प्रतिवाद', 'लिफ़ाफ़ा', 'दर्शाना', 'गेरीसन', 'आकंड़ों', 'धंधों', 'डिस्ट्रीब्यूटरी', 'खत्री', 'पंजिका', 'बातः', 'रावले', 'कंगन', 'प्रेमात्मक', 'सिपाही', 'नोटबंदीशुदा', 'देवलहा', 'हल्ला', 'ज़मातें', 'मैसी', 'उसक', 'पितामह', 'विवरणःभारतीय', 'नागेरकोइल', 'लख्खी', 'अच्छी', 'सैटिन', 'नागपुर', 'बसीरहाट', 'छेलै', 'उबरकर', 'संयुक्तावस्था', 'सूरी', 'भपाई', 'व्यक्तिगत', 'महाथिर', 'फ्लेश', 'राष्ट्रक', 'राजभाई', 'हॉन्ग', 'लंगरों', 'सुभाय', 'फंड', 'फ्लावर्स', 'उठने', 'बडा़', 'मिश्रा', 'षट्', 'मैनहट्टन', 'सरगुजा', 'ईवनिंग', 'ग्रहणकाल', 'बागली', 'नीऊ', 'मुंडवा', 'तोलासन', 'जेडटीईसाफ्ट', 'नागमण्डल', 'कनाल', 'मछलीपट्टनम', 'फेलिक्स', 'हस्ताक्षरों', 'भिलाई', 'कॉन्ट्रेक्टिंग', 'क़रार', 'जौं', 'भाालू', 'फोर्टिस', 'गिरजाघरों', 'जैनों', 'अर्थव्यवस्थाः', 'ऑक्सीज', 'खिताबों', 'एनका', 'चष्मा', 'बताअाे', 'घृतकुमारी', 'प्राटेस्टेंट', 'ब्युर', 'लक्ष्मीधर', 'सियासी', 'उपयोगितावादियों', 'टूगा', 'समाधियों', 'खुरपका', 'कुमावत', 'एमडब्ल्यूपी', 'सूरज', 'न्यूरोसाइंटिस्ट्स', 'चंद्रेश्वरनगर', 'टैनिस', 'फर्रूखनगर', 'आवाज़ों', 'नजराने', 'पशुचारा', 'वेबुनियादी', 'डेनबरी', 'नईदिल्ली', 'छल्ला', 'रोवन', 'श्योपुर', 'रव्लानी', 'संवरी', 'धाक', 'मस्से', 'इंश्योरेंस', 'संप्रभुता', 'राष्ट्रा', 'जौहरी', 'जुदाई', 'बदमाशाें', 'खिताबों', 'स्वयँ', 'आग़ा', 'ढिंडवाल', 'घिसे', 'सप्पांवाली', 'निखारें', 'बाधित', 'ब्रह्मपुर', 'बैटाउन', 'कोलिंग', 'समाधियों', 'यूनियनवादी', 'छापेमार', 'ग़रीबों', 'थाऊजेंड', 'डसीला', 'कंजेंटेवाइटिस', 'बाधाओं', 'लगेगा', 'दुर्घटना', 'नितियों', 'कैपधारी', 'अत्री', 'सिंगम', 'वास्तविक', 'सबस्टेंसिस', 'पीलेपन', 'उठनी', 'हंडिया', 'प्रतिरक्षी', 'ललकारता', 'दुकानों', 'निविदाताओं', 'सर्वजातीय', 'नरसंहारों', 'नीमकाथाना', 'हेरेरा', 'जुनून', 'इकाई', 'जगदलपुर', 'स्विफ्टलेट', 'जलगति', 'पिट्स', 'रोपी', 'अड़ंगा', 'आलसी', 'चौकियां', 'लेटन', 'वकरंगी', 'डेवलपमेंट', 'शॉनी', 'परदेसियों', 'भूगोल', 'बगीची', 'सिवान', 'स्ट्रे', 'आलसी', 'व्यू', 'विषहीन', 'किस्सागोई', 'महानिदेशक', 'चिकित्साएवं', 'भट्टाचार्य', 'ट्रेंटन', 'कन्याएं', 'प्रियदर्शिनी', 'हुक़ूक़', 'शुल्कः', 'राणे', 'महाविद्या', 'संशयों', 'श्रेणीः', 'ओडोम', 'बेनिटेज़', 'त्यौहार', 'मतियाना', 'शवयात्रा', 'रिश्ते', 'रेहाना', 'क्यूएसएस', 'अनावश्यक', 'रिझाया', 'ब्रिगेड', 'सपने', 'चुनीं', 'कोषाधिकारी', 'करब', 'पलटने', 'कर्णेश्वरधाम', 'आर्यनस', 'प्रतिष्ठानोंं', 'कराईकल', 'उसकी', 'विपरीतता', 'परीक्षाओ', 'फ्यूजी', 'लामिनार', 'जुटाती', 'कौशिक', 'बेकाबू', 'नैनो', 'ओडिसा', 'तोमर', 'रोपी', 'थप्पड़बाज़ी', 'बाबत', 'अट्टहास', 'कोलन', 'प्रतिलीटर', 'भूसी', 'हलिया', 'उत्पीडऩ', 'पोप', 'करखेले', 'बाहुल्य', 'अस्वभाविक', 'कठनाईयों', 'रामजीलाल', 'वसूलता', 'मुख्यमंत्री', 'मारिया', 'सत्मेव', 'बक्सा', 'उदर', 'मैन', 'बुद्धिजीवों', 'सुदीप', 'जोड़ो', 'तसदीक', 'निकालनी', 'भटकाना', 'हारना', 'डिल्लों', 'रजिस्टर्ड', 'भंडारा', 'ललानिया', 'लिमा', 'लालकृष्ण', 'रत्नाभूषण', 'सपरिवार', 'साह', 'समेटती', 'पाइरिया', 'मामलोंमें', 'बरात', 'वैइसन', 'विला', 'लिंडा', 'खरिया', 'चेलानी', 'इलेक्ट्रॉनिक्स', 'ऋषिराज', 'उदयपुर', 'पगला', 'ऋतुकांत', 'कुर्मी', 'दस्ताना', 'एमरल्ड', 'घुमाई', 'उपद्रवियों', 'ओक्लाहोमा', 'धर्मराजने', 'झाओहुई', 'उप्पीड़न', 'खेमिक', 'तुगलकी', 'दोआर', 'अवि', 'जड़ित', 'टैबू', 'प्रोग्रामर्स', 'टेलर्सविले', 'चादरों', 'रेसर', 'भका', 'अंधभक्तो', 'ओब्रायन', 'कृत्या', 'पीरान', 'नजरियों', 'मयूर', 'चौदहवां', 'स्वर्गदूत', 'फेका', 'इंडिपेन्डेट', 'टिंका', 'गुर्दों', 'जातियों', 'समन्वयक', 'सूबे', 'चंदन', 'प्रारंभिकता', 'ट्रैप', 'उदंत', 'डायनामेटिक', 'विद्युतीकृत', 'ललानिया', 'वदरा', 'वेड', 'फड़फड़ाएं', 'ट्रेडेड', 'अखुआपाड़ा', 'सराहा', 'विज्ञानवादियों', 'कमज़ोर', 'यंगस्टाउन', 'आर्यम्', 'पटकथाएं', 'बाजपेयी', 'जस्सी', 'नाऊ', 'एवव', 'लागातार', 'सुमन', 'पड़नी', 'माइंडट्री', 'ड्रिस्ट्रीब्यूट्री', 'जानकारों', 'शंकचराचार्य', 'ऑफशोर', 'दुखों', 'नेस्को', 'फूलती', 'टूल्स', 'वर्गर', 'दमघोंटू', 'वीडियोः', 'राजमां', 'आत्ममुग्ध', 'रॉकफोर्ड', 'मित्रा', 'देवनार', 'ओकोई', 'उत्तरिया', 'कैनविज', 'गैलेक्सियों', 'जीवनियां', 'हकीकत', 'एलिमिनेटर', 'अगस्टाइन', 'कर', 'बीताने', 'दफ्तरवाले', 'बैराढ', 'कंबलों', 'ज्वार', 'फातमा', 'विवेस', 'डीडब्ल्यूटी', 'धातुएं', 'सियाह', 'पीटने', 'बिच्चों', 'जिता', 'सेवाला', 'बताैर', 'आदित्या', 'क्षेत्रें', 'एंकेनी', 'छेत्र', 'मुकरते', 'ऐंठे', 'बाल्टी', 'खंगाली', 'बीएसएसएस', 'ब्ंजजसम', 'पुष्पित', 'लिंमर्ग', 'पेरेड्डी', 'बोदरा', 'फ़ोकस', 'दूताय', 'श्रीलेदर्स', 'महंकमदान', 'घूंसा', 'काव्यविधाओं', 'क्षत्रियादि', 'जानकारों', 'रखना', 'रिश्तेदारो', 'श्रावणी', 'कुबुद्दीन', 'ज्वेलर्स', 'मेहमान', 'रोजलिन', 'जयकारा', 'चबूतरे', 'हरदिल', 'ट्रक', 'न्यूरोवेस्कुलर', 'खेलाने', 'स्ट्रेशन', 'लक्ष्यतीर्थ', 'नेशंस', 'पाठशालाएं', 'निवेदनः', 'लीडरों', 'टेनला', 'सेवकों', 'पूर्वापेक्षाओं', 'मणि', 'साेमवार', 'प्राण', 'अवैज्ञानिक', 'ऐवीऐशन', 'ब्राउन', 'नाकाम', 'अधिवास', 'जनजागरण', 'राजनंदगांव', 'लैरी', 'भाालू', 'तरीको', 'चिकोपी', 'रिफ्रेक्टरीज़', 'बरामद', 'काव', 'एमरल्ड', 'विवेकाधीन', 'फड़फड़ाएं', 'कायलाना', 'पेंट्स', 'पिट्सबर्ग', 'होखत', 'चौरसिया', 'सच्चिदानंद', 'सीड', 'चारों', 'रिज़वी', 'क्ले', 'दंपति', 'दूर्गध', 'देवापुर', 'मनवाया', 'लटककर', 'मेहमान', 'निया', 'उधमपुर', 'अतहर', 'छुपता', 'तुंगनाथ', 'रघुपति', 'प्रकाण्ड़', 'चेंज्ड', 'गंगटोक', 'क्रिकेट', 'फ्रांसिस्को', 'भगाने', 'अड़ंगा', 'फिक्सिंगः', 'कमाऊ', 'तिकोने', 'पैम', 'तरीक़ों', 'आगमन', 'किदवई', 'आश्रितों', 'राघवन', 'जनेऊधारी', 'डेवनपोर्ट', 'प्रेरणापुरी', 'महासिंह', 'लोरदा', 'इंट्रोडक्शन', 'स्वभावतः', 'ग्रीष्मोत्सव', 'तलाशेगा', 'सहरसा', 'मैके', 'मोशे', 'ग्रंथियां', 'लोहाती', 'अलायंस', 'तगड़े', 'छींके', 'सिवान', 'थकी', 'लेटकर', 'हिकारिको', 'टायर्स', 'नृत्यों', 'डियरफील्ड', 'चरित', 'बैथलहम', 'फिनोटेक्स', 'असाही', 'पहन', 'धनश्याम', 'फारेंसिस', 'लहना', 'द्वारिकेश', 'डुबाना', 'काराबोरियों', 'गोलमुरी', 'राखणौ', 'विपणक', 'पंचांग', 'ब्रीद', 'गुल्लरवाला', 'एडब्ल्यूपी', 'बाज़ी', 'हरपाल', 'प्रेमेश्वर', 'प्राप्त', 'नक्सलवाद', 'कंठहार', 'ऑक्साइड', 'खैराती', 'देशके', 'सुनासीर', 'अफसराें', 'सेहो', 'चबाते', 'मिति', 'बेलचा', 'सफ़लता', 'शबाना', 'खातूटोला', 'शिवास्तव', 'प्रेरणापुरी']\n",
            "vanilla_seq2seq_Acc.: 0.29296875\n",
            "attention_seq2seq_Acc.: 22.1923828125\n"
          ]
        }
      ]
    },
    {
      "cell_type": "markdown",
      "source": [
        "## For saving in local PC while using Local run time"
      ],
      "metadata": {
        "id": "GXA7X2ZoqSov"
      }
    },
    {
      "cell_type": "code",
      "source": [
        "import csv\n",
        "\n",
        "# file_path = r\"C:\\Users\\ASL 5\\Downloads\\DL_Assignment_3\\Attaintion\\Predictions_attention_.csv\"\n",
        "file_path = r\"C:\\Users\\aslwo\\Downloads\\Predictions_attention_.csv\"\n",
        "\n",
        "with open(file_path, 'w', newline='', encoding='utf-8-sig') as file:\n",
        "    writer = csv.writer(file)\n",
        "\n",
        "    # The column headers\n",
        "    writer.writerow(['ENGLISH', 'HINDI_translation', 'Attention_seq2seq_pred'])\n",
        "\n",
        "    # The data rows\n",
        "    for rows in zip(test_eng, test_hin, solulu_test_att):\n",
        "        writer.writerow(rows)\n"
      ],
      "metadata": {
        "id": "ZMRAEYdP69f0"
      },
      "execution_count": null,
      "outputs": []
    },
    {
      "cell_type": "code",
      "source": [
        "import csv\n",
        "file_path = r\"C:\\Users\\aslwo\\Downloads\\Predictions_vanilla_.csv\"\n",
        "\n",
        "with open(file_path, 'w', newline='', encoding='utf-8-sig') as file:\n",
        "    writer = csv.writer(file)\n",
        "\n",
        "    # The column headers\n",
        "    writer.writerow(['ENGLISH', 'HINDI_translation', 'Vanilla_seq2seq_pred'])\n",
        "\n",
        "    # The data rows\n",
        "    for rows in zip(test_eng, test_hin, solulu_test):\n",
        "        writer.writerow(rows)"
      ],
      "metadata": {
        "id": "VkTpb7GFqOf3"
      },
      "execution_count": null,
      "outputs": []
    },
    {
      "cell_type": "markdown",
      "source": [
        "## For saving in gdrive while using colab online"
      ],
      "metadata": {
        "id": "9bVsPgDdqgKY"
      }
    },
    {
      "cell_type": "code",
      "source": [
        "import csv\n",
        "\n",
        "file_path = '/content/drive/MyDrive/Predictions_attention_/Predictions_attention_.csv'\n",
        "\n",
        "with open(file_path, 'w', newline='') as file:\n",
        "    writer = csv.writer(file)\n",
        "\n",
        "    # The column headers\n",
        "    writer.writerow(['ENGLISH', 'HINDI_translation', 'Attention_seq2seq_pred'])\n",
        "\n",
        "    # The data rows\n",
        "    for rows in zip(test_eng, test_hin, solulu_test_att):\n",
        "        writer.writerow(rows)"
      ],
      "metadata": {
        "id": "TS3P4TLMawgt",
        "colab": {
          "base_uri": "https://localhost:8080/",
          "height": 211
        },
        "outputId": "377551bf-21ba-4677-ede3-c51e171b1383"
      },
      "execution_count": null,
      "outputs": [
        {
          "output_type": "error",
          "ename": "FileNotFoundError",
          "evalue": "[Errno 2] No such file or directory: '/content/drive/MyDrive/Predictions_attention_/Predictions_attention_.csv'",
          "traceback": [
            "\u001b[0;31m---------------------------------------------------------------------------\u001b[0m",
            "\u001b[0;31mFileNotFoundError\u001b[0m                         Traceback (most recent call last)",
            "\u001b[0;32m<ipython-input-2-665aaa1bb533>\u001b[0m in \u001b[0;36m<cell line: 5>\u001b[0;34m()\u001b[0m\n\u001b[1;32m      3\u001b[0m \u001b[0mfile_path\u001b[0m \u001b[0;34m=\u001b[0m \u001b[0;34m'/content/drive/MyDrive/Predictions_attention_/Predictions_attention_.csv'\u001b[0m\u001b[0;34m\u001b[0m\u001b[0;34m\u001b[0m\u001b[0m\n\u001b[1;32m      4\u001b[0m \u001b[0;34m\u001b[0m\u001b[0m\n\u001b[0;32m----> 5\u001b[0;31m \u001b[0;32mwith\u001b[0m \u001b[0mopen\u001b[0m\u001b[0;34m(\u001b[0m\u001b[0mfile_path\u001b[0m\u001b[0;34m,\u001b[0m \u001b[0;34m'w'\u001b[0m\u001b[0;34m,\u001b[0m \u001b[0mnewline\u001b[0m\u001b[0;34m=\u001b[0m\u001b[0;34m''\u001b[0m\u001b[0;34m)\u001b[0m \u001b[0;32mas\u001b[0m \u001b[0mfile\u001b[0m\u001b[0;34m:\u001b[0m\u001b[0;34m\u001b[0m\u001b[0;34m\u001b[0m\u001b[0m\n\u001b[0m\u001b[1;32m      6\u001b[0m     \u001b[0mwriter\u001b[0m \u001b[0;34m=\u001b[0m \u001b[0mcsv\u001b[0m\u001b[0;34m.\u001b[0m\u001b[0mwriter\u001b[0m\u001b[0;34m(\u001b[0m\u001b[0mfile\u001b[0m\u001b[0;34m)\u001b[0m\u001b[0;34m\u001b[0m\u001b[0;34m\u001b[0m\u001b[0m\n\u001b[1;32m      7\u001b[0m \u001b[0;34m\u001b[0m\u001b[0m\n",
            "\u001b[0;31mFileNotFoundError\u001b[0m: [Errno 2] No such file or directory: '/content/drive/MyDrive/Predictions_attention_/Predictions_attention_.csv'"
          ]
        }
      ]
    },
    {
      "cell_type": "code",
      "source": [
        "import csv\n",
        "file_path = '/content/drive/MyDrive/Predictions_vanilla_/Predictions_vanilla_.csv'\n",
        "with open(file_path, 'w', newline='') as file:\n",
        "    writer = csv.writer(file)\n",
        "\n",
        "    # The column headers\n",
        "    writer.writerow(['ENGLISH', 'HINDI_translation', 'Vanilla_seq2seq_pred'])\n",
        "\n",
        "    # The data rows\n",
        "    for rows in zip(test_eng, test_hin, solulu_test):\n",
        "        writer.writerow(rows)"
      ],
      "metadata": {
        "id": "rrK51JlnayWa"
      },
      "execution_count": null,
      "outputs": []
    }
  ]
}