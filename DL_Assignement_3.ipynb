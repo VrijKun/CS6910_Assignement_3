{
  "nbformat": 4,
  "nbformat_minor": 0,
  "metadata": {
    "colab": {
      "provenance": [],
      "gpuType": "T4",
      "include_colab_link": true
    },
    "kernelspec": {
      "name": "python3",
      "display_name": "Python 3"
    },
    "language_info": {
      "name": "python"
    },
    "widgets": {
      "application/vnd.jupyter.widget-state+json": {
        "f044f3cbdf644c069200091119237229": {
          "model_module": "@jupyter-widgets/controls",
          "model_name": "VBoxModel",
          "model_module_version": "1.5.0",
          "state": {
            "_dom_classes": [],
            "_model_module": "@jupyter-widgets/controls",
            "_model_module_version": "1.5.0",
            "_model_name": "VBoxModel",
            "_view_count": null,
            "_view_module": "@jupyter-widgets/controls",
            "_view_module_version": "1.5.0",
            "_view_name": "VBoxView",
            "box_style": "",
            "children": [
              "IPY_MODEL_bd3b9be4abf54f3f86395e8af7257d09",
              "IPY_MODEL_5c3675774b0c4ded831bce988ac8e4ae"
            ],
            "layout": "IPY_MODEL_1fc1ea4a28094935b7360cb3c9c0213b"
          }
        },
        "bd3b9be4abf54f3f86395e8af7257d09": {
          "model_module": "@jupyter-widgets/controls",
          "model_name": "LabelModel",
          "model_module_version": "1.5.0",
          "state": {
            "_dom_classes": [],
            "_model_module": "@jupyter-widgets/controls",
            "_model_module_version": "1.5.0",
            "_model_name": "LabelModel",
            "_view_count": null,
            "_view_module": "@jupyter-widgets/controls",
            "_view_module_version": "1.5.0",
            "_view_name": "LabelView",
            "description": "",
            "description_tooltip": null,
            "layout": "IPY_MODEL_69facbd52da44ebbb069953379aad742",
            "placeholder": "​",
            "style": "IPY_MODEL_f508c8ecb50145ad9adcfb1d4ad1564d",
            "value": "0.012 MB of 0.012 MB uploaded\r"
          }
        },
        "5c3675774b0c4ded831bce988ac8e4ae": {
          "model_module": "@jupyter-widgets/controls",
          "model_name": "FloatProgressModel",
          "model_module_version": "1.5.0",
          "state": {
            "_dom_classes": [],
            "_model_module": "@jupyter-widgets/controls",
            "_model_module_version": "1.5.0",
            "_model_name": "FloatProgressModel",
            "_view_count": null,
            "_view_module": "@jupyter-widgets/controls",
            "_view_module_version": "1.5.0",
            "_view_name": "ProgressView",
            "bar_style": "",
            "description": "",
            "description_tooltip": null,
            "layout": "IPY_MODEL_26ce70cd64164eeaa4a428963b9225aa",
            "max": 1,
            "min": 0,
            "orientation": "horizontal",
            "style": "IPY_MODEL_2d201b1a895148d5b1eb1ef2f7a482ff",
            "value": 1
          }
        },
        "1fc1ea4a28094935b7360cb3c9c0213b": {
          "model_module": "@jupyter-widgets/base",
          "model_name": "LayoutModel",
          "model_module_version": "1.2.0",
          "state": {
            "_model_module": "@jupyter-widgets/base",
            "_model_module_version": "1.2.0",
            "_model_name": "LayoutModel",
            "_view_count": null,
            "_view_module": "@jupyter-widgets/base",
            "_view_module_version": "1.2.0",
            "_view_name": "LayoutView",
            "align_content": null,
            "align_items": null,
            "align_self": null,
            "border": null,
            "bottom": null,
            "display": null,
            "flex": null,
            "flex_flow": null,
            "grid_area": null,
            "grid_auto_columns": null,
            "grid_auto_flow": null,
            "grid_auto_rows": null,
            "grid_column": null,
            "grid_gap": null,
            "grid_row": null,
            "grid_template_areas": null,
            "grid_template_columns": null,
            "grid_template_rows": null,
            "height": null,
            "justify_content": null,
            "justify_items": null,
            "left": null,
            "margin": null,
            "max_height": null,
            "max_width": null,
            "min_height": null,
            "min_width": null,
            "object_fit": null,
            "object_position": null,
            "order": null,
            "overflow": null,
            "overflow_x": null,
            "overflow_y": null,
            "padding": null,
            "right": null,
            "top": null,
            "visibility": null,
            "width": null
          }
        },
        "69facbd52da44ebbb069953379aad742": {
          "model_module": "@jupyter-widgets/base",
          "model_name": "LayoutModel",
          "model_module_version": "1.2.0",
          "state": {
            "_model_module": "@jupyter-widgets/base",
            "_model_module_version": "1.2.0",
            "_model_name": "LayoutModel",
            "_view_count": null,
            "_view_module": "@jupyter-widgets/base",
            "_view_module_version": "1.2.0",
            "_view_name": "LayoutView",
            "align_content": null,
            "align_items": null,
            "align_self": null,
            "border": null,
            "bottom": null,
            "display": null,
            "flex": null,
            "flex_flow": null,
            "grid_area": null,
            "grid_auto_columns": null,
            "grid_auto_flow": null,
            "grid_auto_rows": null,
            "grid_column": null,
            "grid_gap": null,
            "grid_row": null,
            "grid_template_areas": null,
            "grid_template_columns": null,
            "grid_template_rows": null,
            "height": null,
            "justify_content": null,
            "justify_items": null,
            "left": null,
            "margin": null,
            "max_height": null,
            "max_width": null,
            "min_height": null,
            "min_width": null,
            "object_fit": null,
            "object_position": null,
            "order": null,
            "overflow": null,
            "overflow_x": null,
            "overflow_y": null,
            "padding": null,
            "right": null,
            "top": null,
            "visibility": null,
            "width": null
          }
        },
        "f508c8ecb50145ad9adcfb1d4ad1564d": {
          "model_module": "@jupyter-widgets/controls",
          "model_name": "DescriptionStyleModel",
          "model_module_version": "1.5.0",
          "state": {
            "_model_module": "@jupyter-widgets/controls",
            "_model_module_version": "1.5.0",
            "_model_name": "DescriptionStyleModel",
            "_view_count": null,
            "_view_module": "@jupyter-widgets/base",
            "_view_module_version": "1.2.0",
            "_view_name": "StyleView",
            "description_width": ""
          }
        },
        "26ce70cd64164eeaa4a428963b9225aa": {
          "model_module": "@jupyter-widgets/base",
          "model_name": "LayoutModel",
          "model_module_version": "1.2.0",
          "state": {
            "_model_module": "@jupyter-widgets/base",
            "_model_module_version": "1.2.0",
            "_model_name": "LayoutModel",
            "_view_count": null,
            "_view_module": "@jupyter-widgets/base",
            "_view_module_version": "1.2.0",
            "_view_name": "LayoutView",
            "align_content": null,
            "align_items": null,
            "align_self": null,
            "border": null,
            "bottom": null,
            "display": null,
            "flex": null,
            "flex_flow": null,
            "grid_area": null,
            "grid_auto_columns": null,
            "grid_auto_flow": null,
            "grid_auto_rows": null,
            "grid_column": null,
            "grid_gap": null,
            "grid_row": null,
            "grid_template_areas": null,
            "grid_template_columns": null,
            "grid_template_rows": null,
            "height": null,
            "justify_content": null,
            "justify_items": null,
            "left": null,
            "margin": null,
            "max_height": null,
            "max_width": null,
            "min_height": null,
            "min_width": null,
            "object_fit": null,
            "object_position": null,
            "order": null,
            "overflow": null,
            "overflow_x": null,
            "overflow_y": null,
            "padding": null,
            "right": null,
            "top": null,
            "visibility": null,
            "width": null
          }
        },
        "2d201b1a895148d5b1eb1ef2f7a482ff": {
          "model_module": "@jupyter-widgets/controls",
          "model_name": "ProgressStyleModel",
          "model_module_version": "1.5.0",
          "state": {
            "_model_module": "@jupyter-widgets/controls",
            "_model_module_version": "1.5.0",
            "_model_name": "ProgressStyleModel",
            "_view_count": null,
            "_view_module": "@jupyter-widgets/base",
            "_view_module_version": "1.2.0",
            "_view_name": "StyleView",
            "bar_color": null,
            "description_width": ""
          }
        },
        "9cf94f9059024e1d8a9868d2a55ab5e4": {
          "model_module": "@jupyter-widgets/controls",
          "model_name": "VBoxModel",
          "model_module_version": "1.5.0",
          "state": {
            "_dom_classes": [],
            "_model_module": "@jupyter-widgets/controls",
            "_model_module_version": "1.5.0",
            "_model_name": "VBoxModel",
            "_view_count": null,
            "_view_module": "@jupyter-widgets/controls",
            "_view_module_version": "1.5.0",
            "_view_name": "VBoxView",
            "box_style": "",
            "children": [
              "IPY_MODEL_d24ca89a1348483b9489c9af794fd5e3",
              "IPY_MODEL_681be83f8f694db4bce168eb6e35c4ab"
            ],
            "layout": "IPY_MODEL_4e0eb90c0a074645a68ea2bc512fe0c8"
          }
        },
        "d24ca89a1348483b9489c9af794fd5e3": {
          "model_module": "@jupyter-widgets/controls",
          "model_name": "LabelModel",
          "model_module_version": "1.5.0",
          "state": {
            "_dom_classes": [],
            "_model_module": "@jupyter-widgets/controls",
            "_model_module_version": "1.5.0",
            "_model_name": "LabelModel",
            "_view_count": null,
            "_view_module": "@jupyter-widgets/controls",
            "_view_module_version": "1.5.0",
            "_view_name": "LabelView",
            "description": "",
            "description_tooltip": null,
            "layout": "IPY_MODEL_d9bfada4cd5740f2a46cbe30cb8ce02d",
            "placeholder": "​",
            "style": "IPY_MODEL_664c27b758e7459ebf327f69b68e5976",
            "value": "0.012 MB of 0.012 MB uploaded\r"
          }
        },
        "681be83f8f694db4bce168eb6e35c4ab": {
          "model_module": "@jupyter-widgets/controls",
          "model_name": "FloatProgressModel",
          "model_module_version": "1.5.0",
          "state": {
            "_dom_classes": [],
            "_model_module": "@jupyter-widgets/controls",
            "_model_module_version": "1.5.0",
            "_model_name": "FloatProgressModel",
            "_view_count": null,
            "_view_module": "@jupyter-widgets/controls",
            "_view_module_version": "1.5.0",
            "_view_name": "ProgressView",
            "bar_style": "",
            "description": "",
            "description_tooltip": null,
            "layout": "IPY_MODEL_281e9d0a8b0b48fba07bcc1acf0323d0",
            "max": 1,
            "min": 0,
            "orientation": "horizontal",
            "style": "IPY_MODEL_4f049dc9ec2a47b6a70acc00dccb7bd9",
            "value": 1
          }
        },
        "4e0eb90c0a074645a68ea2bc512fe0c8": {
          "model_module": "@jupyter-widgets/base",
          "model_name": "LayoutModel",
          "model_module_version": "1.2.0",
          "state": {
            "_model_module": "@jupyter-widgets/base",
            "_model_module_version": "1.2.0",
            "_model_name": "LayoutModel",
            "_view_count": null,
            "_view_module": "@jupyter-widgets/base",
            "_view_module_version": "1.2.0",
            "_view_name": "LayoutView",
            "align_content": null,
            "align_items": null,
            "align_self": null,
            "border": null,
            "bottom": null,
            "display": null,
            "flex": null,
            "flex_flow": null,
            "grid_area": null,
            "grid_auto_columns": null,
            "grid_auto_flow": null,
            "grid_auto_rows": null,
            "grid_column": null,
            "grid_gap": null,
            "grid_row": null,
            "grid_template_areas": null,
            "grid_template_columns": null,
            "grid_template_rows": null,
            "height": null,
            "justify_content": null,
            "justify_items": null,
            "left": null,
            "margin": null,
            "max_height": null,
            "max_width": null,
            "min_height": null,
            "min_width": null,
            "object_fit": null,
            "object_position": null,
            "order": null,
            "overflow": null,
            "overflow_x": null,
            "overflow_y": null,
            "padding": null,
            "right": null,
            "top": null,
            "visibility": null,
            "width": null
          }
        },
        "d9bfada4cd5740f2a46cbe30cb8ce02d": {
          "model_module": "@jupyter-widgets/base",
          "model_name": "LayoutModel",
          "model_module_version": "1.2.0",
          "state": {
            "_model_module": "@jupyter-widgets/base",
            "_model_module_version": "1.2.0",
            "_model_name": "LayoutModel",
            "_view_count": null,
            "_view_module": "@jupyter-widgets/base",
            "_view_module_version": "1.2.0",
            "_view_name": "LayoutView",
            "align_content": null,
            "align_items": null,
            "align_self": null,
            "border": null,
            "bottom": null,
            "display": null,
            "flex": null,
            "flex_flow": null,
            "grid_area": null,
            "grid_auto_columns": null,
            "grid_auto_flow": null,
            "grid_auto_rows": null,
            "grid_column": null,
            "grid_gap": null,
            "grid_row": null,
            "grid_template_areas": null,
            "grid_template_columns": null,
            "grid_template_rows": null,
            "height": null,
            "justify_content": null,
            "justify_items": null,
            "left": null,
            "margin": null,
            "max_height": null,
            "max_width": null,
            "min_height": null,
            "min_width": null,
            "object_fit": null,
            "object_position": null,
            "order": null,
            "overflow": null,
            "overflow_x": null,
            "overflow_y": null,
            "padding": null,
            "right": null,
            "top": null,
            "visibility": null,
            "width": null
          }
        },
        "664c27b758e7459ebf327f69b68e5976": {
          "model_module": "@jupyter-widgets/controls",
          "model_name": "DescriptionStyleModel",
          "model_module_version": "1.5.0",
          "state": {
            "_model_module": "@jupyter-widgets/controls",
            "_model_module_version": "1.5.0",
            "_model_name": "DescriptionStyleModel",
            "_view_count": null,
            "_view_module": "@jupyter-widgets/base",
            "_view_module_version": "1.2.0",
            "_view_name": "StyleView",
            "description_width": ""
          }
        },
        "281e9d0a8b0b48fba07bcc1acf0323d0": {
          "model_module": "@jupyter-widgets/base",
          "model_name": "LayoutModel",
          "model_module_version": "1.2.0",
          "state": {
            "_model_module": "@jupyter-widgets/base",
            "_model_module_version": "1.2.0",
            "_model_name": "LayoutModel",
            "_view_count": null,
            "_view_module": "@jupyter-widgets/base",
            "_view_module_version": "1.2.0",
            "_view_name": "LayoutView",
            "align_content": null,
            "align_items": null,
            "align_self": null,
            "border": null,
            "bottom": null,
            "display": null,
            "flex": null,
            "flex_flow": null,
            "grid_area": null,
            "grid_auto_columns": null,
            "grid_auto_flow": null,
            "grid_auto_rows": null,
            "grid_column": null,
            "grid_gap": null,
            "grid_row": null,
            "grid_template_areas": null,
            "grid_template_columns": null,
            "grid_template_rows": null,
            "height": null,
            "justify_content": null,
            "justify_items": null,
            "left": null,
            "margin": null,
            "max_height": null,
            "max_width": null,
            "min_height": null,
            "min_width": null,
            "object_fit": null,
            "object_position": null,
            "order": null,
            "overflow": null,
            "overflow_x": null,
            "overflow_y": null,
            "padding": null,
            "right": null,
            "top": null,
            "visibility": null,
            "width": null
          }
        },
        "4f049dc9ec2a47b6a70acc00dccb7bd9": {
          "model_module": "@jupyter-widgets/controls",
          "model_name": "ProgressStyleModel",
          "model_module_version": "1.5.0",
          "state": {
            "_model_module": "@jupyter-widgets/controls",
            "_model_module_version": "1.5.0",
            "_model_name": "ProgressStyleModel",
            "_view_count": null,
            "_view_module": "@jupyter-widgets/base",
            "_view_module_version": "1.2.0",
            "_view_name": "StyleView",
            "bar_color": null,
            "description_width": ""
          }
        },
        "abc1b3405b3a453b8c63e787f89d8270": {
          "model_module": "@jupyter-widgets/controls",
          "model_name": "VBoxModel",
          "model_module_version": "1.5.0",
          "state": {
            "_dom_classes": [],
            "_model_module": "@jupyter-widgets/controls",
            "_model_module_version": "1.5.0",
            "_model_name": "VBoxModel",
            "_view_count": null,
            "_view_module": "@jupyter-widgets/controls",
            "_view_module_version": "1.5.0",
            "_view_name": "VBoxView",
            "box_style": "",
            "children": [
              "IPY_MODEL_73b97e0b363b4a4db9d83326bd86ee22",
              "IPY_MODEL_86bd6c2f0fe145699f8f4ab5f0ed78ca"
            ],
            "layout": "IPY_MODEL_4ece8e2681c0482c88de65332f42e89b"
          }
        },
        "73b97e0b363b4a4db9d83326bd86ee22": {
          "model_module": "@jupyter-widgets/controls",
          "model_name": "LabelModel",
          "model_module_version": "1.5.0",
          "state": {
            "_dom_classes": [],
            "_model_module": "@jupyter-widgets/controls",
            "_model_module_version": "1.5.0",
            "_model_name": "LabelModel",
            "_view_count": null,
            "_view_module": "@jupyter-widgets/controls",
            "_view_module_version": "1.5.0",
            "_view_name": "LabelView",
            "description": "",
            "description_tooltip": null,
            "layout": "IPY_MODEL_2b2f8ae3b87f45aa9efb6e0196e33d02",
            "placeholder": "​",
            "style": "IPY_MODEL_cf02a1e0e8784c2ba657f34884576490",
            "value": "0.012 MB of 0.012 MB uploaded\r"
          }
        },
        "86bd6c2f0fe145699f8f4ab5f0ed78ca": {
          "model_module": "@jupyter-widgets/controls",
          "model_name": "FloatProgressModel",
          "model_module_version": "1.5.0",
          "state": {
            "_dom_classes": [],
            "_model_module": "@jupyter-widgets/controls",
            "_model_module_version": "1.5.0",
            "_model_name": "FloatProgressModel",
            "_view_count": null,
            "_view_module": "@jupyter-widgets/controls",
            "_view_module_version": "1.5.0",
            "_view_name": "ProgressView",
            "bar_style": "",
            "description": "",
            "description_tooltip": null,
            "layout": "IPY_MODEL_3f5a60cff3f741628e6cdfe2d9a45220",
            "max": 1,
            "min": 0,
            "orientation": "horizontal",
            "style": "IPY_MODEL_c213df67e55c4b9f8c5dcf5467f43be5",
            "value": 1
          }
        },
        "4ece8e2681c0482c88de65332f42e89b": {
          "model_module": "@jupyter-widgets/base",
          "model_name": "LayoutModel",
          "model_module_version": "1.2.0",
          "state": {
            "_model_module": "@jupyter-widgets/base",
            "_model_module_version": "1.2.0",
            "_model_name": "LayoutModel",
            "_view_count": null,
            "_view_module": "@jupyter-widgets/base",
            "_view_module_version": "1.2.0",
            "_view_name": "LayoutView",
            "align_content": null,
            "align_items": null,
            "align_self": null,
            "border": null,
            "bottom": null,
            "display": null,
            "flex": null,
            "flex_flow": null,
            "grid_area": null,
            "grid_auto_columns": null,
            "grid_auto_flow": null,
            "grid_auto_rows": null,
            "grid_column": null,
            "grid_gap": null,
            "grid_row": null,
            "grid_template_areas": null,
            "grid_template_columns": null,
            "grid_template_rows": null,
            "height": null,
            "justify_content": null,
            "justify_items": null,
            "left": null,
            "margin": null,
            "max_height": null,
            "max_width": null,
            "min_height": null,
            "min_width": null,
            "object_fit": null,
            "object_position": null,
            "order": null,
            "overflow": null,
            "overflow_x": null,
            "overflow_y": null,
            "padding": null,
            "right": null,
            "top": null,
            "visibility": null,
            "width": null
          }
        },
        "2b2f8ae3b87f45aa9efb6e0196e33d02": {
          "model_module": "@jupyter-widgets/base",
          "model_name": "LayoutModel",
          "model_module_version": "1.2.0",
          "state": {
            "_model_module": "@jupyter-widgets/base",
            "_model_module_version": "1.2.0",
            "_model_name": "LayoutModel",
            "_view_count": null,
            "_view_module": "@jupyter-widgets/base",
            "_view_module_version": "1.2.0",
            "_view_name": "LayoutView",
            "align_content": null,
            "align_items": null,
            "align_self": null,
            "border": null,
            "bottom": null,
            "display": null,
            "flex": null,
            "flex_flow": null,
            "grid_area": null,
            "grid_auto_columns": null,
            "grid_auto_flow": null,
            "grid_auto_rows": null,
            "grid_column": null,
            "grid_gap": null,
            "grid_row": null,
            "grid_template_areas": null,
            "grid_template_columns": null,
            "grid_template_rows": null,
            "height": null,
            "justify_content": null,
            "justify_items": null,
            "left": null,
            "margin": null,
            "max_height": null,
            "max_width": null,
            "min_height": null,
            "min_width": null,
            "object_fit": null,
            "object_position": null,
            "order": null,
            "overflow": null,
            "overflow_x": null,
            "overflow_y": null,
            "padding": null,
            "right": null,
            "top": null,
            "visibility": null,
            "width": null
          }
        },
        "cf02a1e0e8784c2ba657f34884576490": {
          "model_module": "@jupyter-widgets/controls",
          "model_name": "DescriptionStyleModel",
          "model_module_version": "1.5.0",
          "state": {
            "_model_module": "@jupyter-widgets/controls",
            "_model_module_version": "1.5.0",
            "_model_name": "DescriptionStyleModel",
            "_view_count": null,
            "_view_module": "@jupyter-widgets/base",
            "_view_module_version": "1.2.0",
            "_view_name": "StyleView",
            "description_width": ""
          }
        },
        "3f5a60cff3f741628e6cdfe2d9a45220": {
          "model_module": "@jupyter-widgets/base",
          "model_name": "LayoutModel",
          "model_module_version": "1.2.0",
          "state": {
            "_model_module": "@jupyter-widgets/base",
            "_model_module_version": "1.2.0",
            "_model_name": "LayoutModel",
            "_view_count": null,
            "_view_module": "@jupyter-widgets/base",
            "_view_module_version": "1.2.0",
            "_view_name": "LayoutView",
            "align_content": null,
            "align_items": null,
            "align_self": null,
            "border": null,
            "bottom": null,
            "display": null,
            "flex": null,
            "flex_flow": null,
            "grid_area": null,
            "grid_auto_columns": null,
            "grid_auto_flow": null,
            "grid_auto_rows": null,
            "grid_column": null,
            "grid_gap": null,
            "grid_row": null,
            "grid_template_areas": null,
            "grid_template_columns": null,
            "grid_template_rows": null,
            "height": null,
            "justify_content": null,
            "justify_items": null,
            "left": null,
            "margin": null,
            "max_height": null,
            "max_width": null,
            "min_height": null,
            "min_width": null,
            "object_fit": null,
            "object_position": null,
            "order": null,
            "overflow": null,
            "overflow_x": null,
            "overflow_y": null,
            "padding": null,
            "right": null,
            "top": null,
            "visibility": null,
            "width": null
          }
        },
        "c213df67e55c4b9f8c5dcf5467f43be5": {
          "model_module": "@jupyter-widgets/controls",
          "model_name": "ProgressStyleModel",
          "model_module_version": "1.5.0",
          "state": {
            "_model_module": "@jupyter-widgets/controls",
            "_model_module_version": "1.5.0",
            "_model_name": "ProgressStyleModel",
            "_view_count": null,
            "_view_module": "@jupyter-widgets/base",
            "_view_module_version": "1.2.0",
            "_view_name": "StyleView",
            "bar_color": null,
            "description_width": ""
          }
        },
        "d4d44212afd2479087726d752f19083d": {
          "model_module": "@jupyter-widgets/controls",
          "model_name": "VBoxModel",
          "model_module_version": "1.5.0",
          "state": {
            "_dom_classes": [],
            "_model_module": "@jupyter-widgets/controls",
            "_model_module_version": "1.5.0",
            "_model_name": "VBoxModel",
            "_view_count": null,
            "_view_module": "@jupyter-widgets/controls",
            "_view_module_version": "1.5.0",
            "_view_name": "VBoxView",
            "box_style": "",
            "children": [
              "IPY_MODEL_7f0142d8017f441eba3a46e577bf37eb",
              "IPY_MODEL_a1ef121cd8eb4f93baab32b41130e363"
            ],
            "layout": "IPY_MODEL_428f3809c5e445a09639573149253c94"
          }
        },
        "7f0142d8017f441eba3a46e577bf37eb": {
          "model_module": "@jupyter-widgets/controls",
          "model_name": "LabelModel",
          "model_module_version": "1.5.0",
          "state": {
            "_dom_classes": [],
            "_model_module": "@jupyter-widgets/controls",
            "_model_module_version": "1.5.0",
            "_model_name": "LabelModel",
            "_view_count": null,
            "_view_module": "@jupyter-widgets/controls",
            "_view_module_version": "1.5.0",
            "_view_name": "LabelView",
            "description": "",
            "description_tooltip": null,
            "layout": "IPY_MODEL_899de4beea40427baeb5895f4ac3e621",
            "placeholder": "​",
            "style": "IPY_MODEL_9a8fa90d79174d61afe44e1e21a970ef",
            "value": "0.012 MB of 0.012 MB uploaded\r"
          }
        },
        "a1ef121cd8eb4f93baab32b41130e363": {
          "model_module": "@jupyter-widgets/controls",
          "model_name": "FloatProgressModel",
          "model_module_version": "1.5.0",
          "state": {
            "_dom_classes": [],
            "_model_module": "@jupyter-widgets/controls",
            "_model_module_version": "1.5.0",
            "_model_name": "FloatProgressModel",
            "_view_count": null,
            "_view_module": "@jupyter-widgets/controls",
            "_view_module_version": "1.5.0",
            "_view_name": "ProgressView",
            "bar_style": "",
            "description": "",
            "description_tooltip": null,
            "layout": "IPY_MODEL_7d12b00ac08c4608993c7765d92ba411",
            "max": 1,
            "min": 0,
            "orientation": "horizontal",
            "style": "IPY_MODEL_e5fe476aee9c4155b7a6673bbe0dac87",
            "value": 1
          }
        },
        "428f3809c5e445a09639573149253c94": {
          "model_module": "@jupyter-widgets/base",
          "model_name": "LayoutModel",
          "model_module_version": "1.2.0",
          "state": {
            "_model_module": "@jupyter-widgets/base",
            "_model_module_version": "1.2.0",
            "_model_name": "LayoutModel",
            "_view_count": null,
            "_view_module": "@jupyter-widgets/base",
            "_view_module_version": "1.2.0",
            "_view_name": "LayoutView",
            "align_content": null,
            "align_items": null,
            "align_self": null,
            "border": null,
            "bottom": null,
            "display": null,
            "flex": null,
            "flex_flow": null,
            "grid_area": null,
            "grid_auto_columns": null,
            "grid_auto_flow": null,
            "grid_auto_rows": null,
            "grid_column": null,
            "grid_gap": null,
            "grid_row": null,
            "grid_template_areas": null,
            "grid_template_columns": null,
            "grid_template_rows": null,
            "height": null,
            "justify_content": null,
            "justify_items": null,
            "left": null,
            "margin": null,
            "max_height": null,
            "max_width": null,
            "min_height": null,
            "min_width": null,
            "object_fit": null,
            "object_position": null,
            "order": null,
            "overflow": null,
            "overflow_x": null,
            "overflow_y": null,
            "padding": null,
            "right": null,
            "top": null,
            "visibility": null,
            "width": null
          }
        },
        "899de4beea40427baeb5895f4ac3e621": {
          "model_module": "@jupyter-widgets/base",
          "model_name": "LayoutModel",
          "model_module_version": "1.2.0",
          "state": {
            "_model_module": "@jupyter-widgets/base",
            "_model_module_version": "1.2.0",
            "_model_name": "LayoutModel",
            "_view_count": null,
            "_view_module": "@jupyter-widgets/base",
            "_view_module_version": "1.2.0",
            "_view_name": "LayoutView",
            "align_content": null,
            "align_items": null,
            "align_self": null,
            "border": null,
            "bottom": null,
            "display": null,
            "flex": null,
            "flex_flow": null,
            "grid_area": null,
            "grid_auto_columns": null,
            "grid_auto_flow": null,
            "grid_auto_rows": null,
            "grid_column": null,
            "grid_gap": null,
            "grid_row": null,
            "grid_template_areas": null,
            "grid_template_columns": null,
            "grid_template_rows": null,
            "height": null,
            "justify_content": null,
            "justify_items": null,
            "left": null,
            "margin": null,
            "max_height": null,
            "max_width": null,
            "min_height": null,
            "min_width": null,
            "object_fit": null,
            "object_position": null,
            "order": null,
            "overflow": null,
            "overflow_x": null,
            "overflow_y": null,
            "padding": null,
            "right": null,
            "top": null,
            "visibility": null,
            "width": null
          }
        },
        "9a8fa90d79174d61afe44e1e21a970ef": {
          "model_module": "@jupyter-widgets/controls",
          "model_name": "DescriptionStyleModel",
          "model_module_version": "1.5.0",
          "state": {
            "_model_module": "@jupyter-widgets/controls",
            "_model_module_version": "1.5.0",
            "_model_name": "DescriptionStyleModel",
            "_view_count": null,
            "_view_module": "@jupyter-widgets/base",
            "_view_module_version": "1.2.0",
            "_view_name": "StyleView",
            "description_width": ""
          }
        },
        "7d12b00ac08c4608993c7765d92ba411": {
          "model_module": "@jupyter-widgets/base",
          "model_name": "LayoutModel",
          "model_module_version": "1.2.0",
          "state": {
            "_model_module": "@jupyter-widgets/base",
            "_model_module_version": "1.2.0",
            "_model_name": "LayoutModel",
            "_view_count": null,
            "_view_module": "@jupyter-widgets/base",
            "_view_module_version": "1.2.0",
            "_view_name": "LayoutView",
            "align_content": null,
            "align_items": null,
            "align_self": null,
            "border": null,
            "bottom": null,
            "display": null,
            "flex": null,
            "flex_flow": null,
            "grid_area": null,
            "grid_auto_columns": null,
            "grid_auto_flow": null,
            "grid_auto_rows": null,
            "grid_column": null,
            "grid_gap": null,
            "grid_row": null,
            "grid_template_areas": null,
            "grid_template_columns": null,
            "grid_template_rows": null,
            "height": null,
            "justify_content": null,
            "justify_items": null,
            "left": null,
            "margin": null,
            "max_height": null,
            "max_width": null,
            "min_height": null,
            "min_width": null,
            "object_fit": null,
            "object_position": null,
            "order": null,
            "overflow": null,
            "overflow_x": null,
            "overflow_y": null,
            "padding": null,
            "right": null,
            "top": null,
            "visibility": null,
            "width": null
          }
        },
        "e5fe476aee9c4155b7a6673bbe0dac87": {
          "model_module": "@jupyter-widgets/controls",
          "model_name": "ProgressStyleModel",
          "model_module_version": "1.5.0",
          "state": {
            "_model_module": "@jupyter-widgets/controls",
            "_model_module_version": "1.5.0",
            "_model_name": "ProgressStyleModel",
            "_view_count": null,
            "_view_module": "@jupyter-widgets/base",
            "_view_module_version": "1.2.0",
            "_view_name": "StyleView",
            "bar_color": null,
            "description_width": ""
          }
        },
        "42e98cd35ba948ac83ec4704629a1364": {
          "model_module": "@jupyter-widgets/controls",
          "model_name": "VBoxModel",
          "model_module_version": "1.5.0",
          "state": {
            "_dom_classes": [],
            "_model_module": "@jupyter-widgets/controls",
            "_model_module_version": "1.5.0",
            "_model_name": "VBoxModel",
            "_view_count": null,
            "_view_module": "@jupyter-widgets/controls",
            "_view_module_version": "1.5.0",
            "_view_name": "VBoxView",
            "box_style": "",
            "children": [
              "IPY_MODEL_5b8ddb0404d147589ab84d8fc62164bb",
              "IPY_MODEL_dc9dbf6cf2c04cc8a9bb732bbccac4da"
            ],
            "layout": "IPY_MODEL_d60af0e0dab84cf293a04381ffd9be96"
          }
        },
        "5b8ddb0404d147589ab84d8fc62164bb": {
          "model_module": "@jupyter-widgets/controls",
          "model_name": "LabelModel",
          "model_module_version": "1.5.0",
          "state": {
            "_dom_classes": [],
            "_model_module": "@jupyter-widgets/controls",
            "_model_module_version": "1.5.0",
            "_model_name": "LabelModel",
            "_view_count": null,
            "_view_module": "@jupyter-widgets/controls",
            "_view_module_version": "1.5.0",
            "_view_name": "LabelView",
            "description": "",
            "description_tooltip": null,
            "layout": "IPY_MODEL_cabef52565624088afde7e79b25b94ea",
            "placeholder": "​",
            "style": "IPY_MODEL_b33b26e9b45946419c2055dd9c41a8d0",
            "value": "Waiting for wandb.init()...\r"
          }
        },
        "dc9dbf6cf2c04cc8a9bb732bbccac4da": {
          "model_module": "@jupyter-widgets/controls",
          "model_name": "FloatProgressModel",
          "model_module_version": "1.5.0",
          "state": {
            "_dom_classes": [],
            "_model_module": "@jupyter-widgets/controls",
            "_model_module_version": "1.5.0",
            "_model_name": "FloatProgressModel",
            "_view_count": null,
            "_view_module": "@jupyter-widgets/controls",
            "_view_module_version": "1.5.0",
            "_view_name": "ProgressView",
            "bar_style": "",
            "description": "",
            "description_tooltip": null,
            "layout": "IPY_MODEL_d0073174190a4763b1c04f5fe55c5588",
            "max": 1,
            "min": 0,
            "orientation": "horizontal",
            "style": "IPY_MODEL_b51dcbaf7e0747178ee2ba006c4c4dbb",
            "value": 1
          }
        },
        "d60af0e0dab84cf293a04381ffd9be96": {
          "model_module": "@jupyter-widgets/base",
          "model_name": "LayoutModel",
          "model_module_version": "1.2.0",
          "state": {
            "_model_module": "@jupyter-widgets/base",
            "_model_module_version": "1.2.0",
            "_model_name": "LayoutModel",
            "_view_count": null,
            "_view_module": "@jupyter-widgets/base",
            "_view_module_version": "1.2.0",
            "_view_name": "LayoutView",
            "align_content": null,
            "align_items": null,
            "align_self": null,
            "border": null,
            "bottom": null,
            "display": null,
            "flex": null,
            "flex_flow": null,
            "grid_area": null,
            "grid_auto_columns": null,
            "grid_auto_flow": null,
            "grid_auto_rows": null,
            "grid_column": null,
            "grid_gap": null,
            "grid_row": null,
            "grid_template_areas": null,
            "grid_template_columns": null,
            "grid_template_rows": null,
            "height": null,
            "justify_content": null,
            "justify_items": null,
            "left": null,
            "margin": null,
            "max_height": null,
            "max_width": null,
            "min_height": null,
            "min_width": null,
            "object_fit": null,
            "object_position": null,
            "order": null,
            "overflow": null,
            "overflow_x": null,
            "overflow_y": null,
            "padding": null,
            "right": null,
            "top": null,
            "visibility": null,
            "width": null
          }
        },
        "cabef52565624088afde7e79b25b94ea": {
          "model_module": "@jupyter-widgets/base",
          "model_name": "LayoutModel",
          "model_module_version": "1.2.0",
          "state": {
            "_model_module": "@jupyter-widgets/base",
            "_model_module_version": "1.2.0",
            "_model_name": "LayoutModel",
            "_view_count": null,
            "_view_module": "@jupyter-widgets/base",
            "_view_module_version": "1.2.0",
            "_view_name": "LayoutView",
            "align_content": null,
            "align_items": null,
            "align_self": null,
            "border": null,
            "bottom": null,
            "display": null,
            "flex": null,
            "flex_flow": null,
            "grid_area": null,
            "grid_auto_columns": null,
            "grid_auto_flow": null,
            "grid_auto_rows": null,
            "grid_column": null,
            "grid_gap": null,
            "grid_row": null,
            "grid_template_areas": null,
            "grid_template_columns": null,
            "grid_template_rows": null,
            "height": null,
            "justify_content": null,
            "justify_items": null,
            "left": null,
            "margin": null,
            "max_height": null,
            "max_width": null,
            "min_height": null,
            "min_width": null,
            "object_fit": null,
            "object_position": null,
            "order": null,
            "overflow": null,
            "overflow_x": null,
            "overflow_y": null,
            "padding": null,
            "right": null,
            "top": null,
            "visibility": null,
            "width": null
          }
        },
        "b33b26e9b45946419c2055dd9c41a8d0": {
          "model_module": "@jupyter-widgets/controls",
          "model_name": "DescriptionStyleModel",
          "model_module_version": "1.5.0",
          "state": {
            "_model_module": "@jupyter-widgets/controls",
            "_model_module_version": "1.5.0",
            "_model_name": "DescriptionStyleModel",
            "_view_count": null,
            "_view_module": "@jupyter-widgets/base",
            "_view_module_version": "1.2.0",
            "_view_name": "StyleView",
            "description_width": ""
          }
        },
        "d0073174190a4763b1c04f5fe55c5588": {
          "model_module": "@jupyter-widgets/base",
          "model_name": "LayoutModel",
          "model_module_version": "1.2.0",
          "state": {
            "_model_module": "@jupyter-widgets/base",
            "_model_module_version": "1.2.0",
            "_model_name": "LayoutModel",
            "_view_count": null,
            "_view_module": "@jupyter-widgets/base",
            "_view_module_version": "1.2.0",
            "_view_name": "LayoutView",
            "align_content": null,
            "align_items": null,
            "align_self": null,
            "border": null,
            "bottom": null,
            "display": null,
            "flex": null,
            "flex_flow": null,
            "grid_area": null,
            "grid_auto_columns": null,
            "grid_auto_flow": null,
            "grid_auto_rows": null,
            "grid_column": null,
            "grid_gap": null,
            "grid_row": null,
            "grid_template_areas": null,
            "grid_template_columns": null,
            "grid_template_rows": null,
            "height": null,
            "justify_content": null,
            "justify_items": null,
            "left": null,
            "margin": null,
            "max_height": null,
            "max_width": null,
            "min_height": null,
            "min_width": null,
            "object_fit": null,
            "object_position": null,
            "order": null,
            "overflow": null,
            "overflow_x": null,
            "overflow_y": null,
            "padding": null,
            "right": null,
            "top": null,
            "visibility": null,
            "width": null
          }
        },
        "b51dcbaf7e0747178ee2ba006c4c4dbb": {
          "model_module": "@jupyter-widgets/controls",
          "model_name": "ProgressStyleModel",
          "model_module_version": "1.5.0",
          "state": {
            "_model_module": "@jupyter-widgets/controls",
            "_model_module_version": "1.5.0",
            "_model_name": "ProgressStyleModel",
            "_view_count": null,
            "_view_module": "@jupyter-widgets/base",
            "_view_module_version": "1.2.0",
            "_view_name": "StyleView",
            "bar_color": null,
            "description_width": ""
          }
        },
        "37e31409c9d54a06bd167a64b793014a": {
          "model_module": "@jupyter-widgets/controls",
          "model_name": "VBoxModel",
          "model_module_version": "1.5.0",
          "state": {
            "_dom_classes": [],
            "_model_module": "@jupyter-widgets/controls",
            "_model_module_version": "1.5.0",
            "_model_name": "VBoxModel",
            "_view_count": null,
            "_view_module": "@jupyter-widgets/controls",
            "_view_module_version": "1.5.0",
            "_view_name": "VBoxView",
            "box_style": "",
            "children": [
              "IPY_MODEL_9a71d32498da46ef828a7b6def95826e",
              "IPY_MODEL_d50d2223b2c64b1599d8cc189a83db2c"
            ],
            "layout": "IPY_MODEL_df54b92b41064834a90fcde5aad2a97d"
          }
        },
        "9a71d32498da46ef828a7b6def95826e": {
          "model_module": "@jupyter-widgets/controls",
          "model_name": "LabelModel",
          "model_module_version": "1.5.0",
          "state": {
            "_dom_classes": [],
            "_model_module": "@jupyter-widgets/controls",
            "_model_module_version": "1.5.0",
            "_model_name": "LabelModel",
            "_view_count": null,
            "_view_module": "@jupyter-widgets/controls",
            "_view_module_version": "1.5.0",
            "_view_name": "LabelView",
            "description": "",
            "description_tooltip": null,
            "layout": "IPY_MODEL_471862f9a956465497be2ab20d381353",
            "placeholder": "​",
            "style": "IPY_MODEL_021d893deebf47cb9321c3acab99c8a4",
            "value": "0.028 MB of 0.028 MB uploaded\r"
          }
        },
        "d50d2223b2c64b1599d8cc189a83db2c": {
          "model_module": "@jupyter-widgets/controls",
          "model_name": "FloatProgressModel",
          "model_module_version": "1.5.0",
          "state": {
            "_dom_classes": [],
            "_model_module": "@jupyter-widgets/controls",
            "_model_module_version": "1.5.0",
            "_model_name": "FloatProgressModel",
            "_view_count": null,
            "_view_module": "@jupyter-widgets/controls",
            "_view_module_version": "1.5.0",
            "_view_name": "ProgressView",
            "bar_style": "",
            "description": "",
            "description_tooltip": null,
            "layout": "IPY_MODEL_8c42e9d206a54970ba64f0f131126a8b",
            "max": 1,
            "min": 0,
            "orientation": "horizontal",
            "style": "IPY_MODEL_5f9c7e3ead904b81a6916f82b061a13d",
            "value": 1
          }
        },
        "df54b92b41064834a90fcde5aad2a97d": {
          "model_module": "@jupyter-widgets/base",
          "model_name": "LayoutModel",
          "model_module_version": "1.2.0",
          "state": {
            "_model_module": "@jupyter-widgets/base",
            "_model_module_version": "1.2.0",
            "_model_name": "LayoutModel",
            "_view_count": null,
            "_view_module": "@jupyter-widgets/base",
            "_view_module_version": "1.2.0",
            "_view_name": "LayoutView",
            "align_content": null,
            "align_items": null,
            "align_self": null,
            "border": null,
            "bottom": null,
            "display": null,
            "flex": null,
            "flex_flow": null,
            "grid_area": null,
            "grid_auto_columns": null,
            "grid_auto_flow": null,
            "grid_auto_rows": null,
            "grid_column": null,
            "grid_gap": null,
            "grid_row": null,
            "grid_template_areas": null,
            "grid_template_columns": null,
            "grid_template_rows": null,
            "height": null,
            "justify_content": null,
            "justify_items": null,
            "left": null,
            "margin": null,
            "max_height": null,
            "max_width": null,
            "min_height": null,
            "min_width": null,
            "object_fit": null,
            "object_position": null,
            "order": null,
            "overflow": null,
            "overflow_x": null,
            "overflow_y": null,
            "padding": null,
            "right": null,
            "top": null,
            "visibility": null,
            "width": null
          }
        },
        "471862f9a956465497be2ab20d381353": {
          "model_module": "@jupyter-widgets/base",
          "model_name": "LayoutModel",
          "model_module_version": "1.2.0",
          "state": {
            "_model_module": "@jupyter-widgets/base",
            "_model_module_version": "1.2.0",
            "_model_name": "LayoutModel",
            "_view_count": null,
            "_view_module": "@jupyter-widgets/base",
            "_view_module_version": "1.2.0",
            "_view_name": "LayoutView",
            "align_content": null,
            "align_items": null,
            "align_self": null,
            "border": null,
            "bottom": null,
            "display": null,
            "flex": null,
            "flex_flow": null,
            "grid_area": null,
            "grid_auto_columns": null,
            "grid_auto_flow": null,
            "grid_auto_rows": null,
            "grid_column": null,
            "grid_gap": null,
            "grid_row": null,
            "grid_template_areas": null,
            "grid_template_columns": null,
            "grid_template_rows": null,
            "height": null,
            "justify_content": null,
            "justify_items": null,
            "left": null,
            "margin": null,
            "max_height": null,
            "max_width": null,
            "min_height": null,
            "min_width": null,
            "object_fit": null,
            "object_position": null,
            "order": null,
            "overflow": null,
            "overflow_x": null,
            "overflow_y": null,
            "padding": null,
            "right": null,
            "top": null,
            "visibility": null,
            "width": null
          }
        },
        "021d893deebf47cb9321c3acab99c8a4": {
          "model_module": "@jupyter-widgets/controls",
          "model_name": "DescriptionStyleModel",
          "model_module_version": "1.5.0",
          "state": {
            "_model_module": "@jupyter-widgets/controls",
            "_model_module_version": "1.5.0",
            "_model_name": "DescriptionStyleModel",
            "_view_count": null,
            "_view_module": "@jupyter-widgets/base",
            "_view_module_version": "1.2.0",
            "_view_name": "StyleView",
            "description_width": ""
          }
        },
        "8c42e9d206a54970ba64f0f131126a8b": {
          "model_module": "@jupyter-widgets/base",
          "model_name": "LayoutModel",
          "model_module_version": "1.2.0",
          "state": {
            "_model_module": "@jupyter-widgets/base",
            "_model_module_version": "1.2.0",
            "_model_name": "LayoutModel",
            "_view_count": null,
            "_view_module": "@jupyter-widgets/base",
            "_view_module_version": "1.2.0",
            "_view_name": "LayoutView",
            "align_content": null,
            "align_items": null,
            "align_self": null,
            "border": null,
            "bottom": null,
            "display": null,
            "flex": null,
            "flex_flow": null,
            "grid_area": null,
            "grid_auto_columns": null,
            "grid_auto_flow": null,
            "grid_auto_rows": null,
            "grid_column": null,
            "grid_gap": null,
            "grid_row": null,
            "grid_template_areas": null,
            "grid_template_columns": null,
            "grid_template_rows": null,
            "height": null,
            "justify_content": null,
            "justify_items": null,
            "left": null,
            "margin": null,
            "max_height": null,
            "max_width": null,
            "min_height": null,
            "min_width": null,
            "object_fit": null,
            "object_position": null,
            "order": null,
            "overflow": null,
            "overflow_x": null,
            "overflow_y": null,
            "padding": null,
            "right": null,
            "top": null,
            "visibility": null,
            "width": null
          }
        },
        "5f9c7e3ead904b81a6916f82b061a13d": {
          "model_module": "@jupyter-widgets/controls",
          "model_name": "ProgressStyleModel",
          "model_module_version": "1.5.0",
          "state": {
            "_model_module": "@jupyter-widgets/controls",
            "_model_module_version": "1.5.0",
            "_model_name": "ProgressStyleModel",
            "_view_count": null,
            "_view_module": "@jupyter-widgets/base",
            "_view_module_version": "1.2.0",
            "_view_name": "StyleView",
            "bar_color": null,
            "description_width": ""
          }
        },
        "8675d203ff5445058f154679815ed837": {
          "model_module": "@jupyter-widgets/controls",
          "model_name": "VBoxModel",
          "model_module_version": "1.5.0",
          "state": {
            "_dom_classes": [],
            "_model_module": "@jupyter-widgets/controls",
            "_model_module_version": "1.5.0",
            "_model_name": "VBoxModel",
            "_view_count": null,
            "_view_module": "@jupyter-widgets/controls",
            "_view_module_version": "1.5.0",
            "_view_name": "VBoxView",
            "box_style": "",
            "children": [
              "IPY_MODEL_a649b7cb1df94e2d809c9eb6c8e45a83",
              "IPY_MODEL_f29a337390ba41da80fa8b6e47858ccb"
            ],
            "layout": "IPY_MODEL_c46bda9205df492580644893a489cb65"
          }
        },
        "a649b7cb1df94e2d809c9eb6c8e45a83": {
          "model_module": "@jupyter-widgets/controls",
          "model_name": "LabelModel",
          "model_module_version": "1.5.0",
          "state": {
            "_dom_classes": [],
            "_model_module": "@jupyter-widgets/controls",
            "_model_module_version": "1.5.0",
            "_model_name": "LabelModel",
            "_view_count": null,
            "_view_module": "@jupyter-widgets/controls",
            "_view_module_version": "1.5.0",
            "_view_name": "LabelView",
            "description": "",
            "description_tooltip": null,
            "layout": "IPY_MODEL_4837dbf471f04fe392181814e8b9bbec",
            "placeholder": "​",
            "style": "IPY_MODEL_589a248059cb434fa2ab97ee32d5717b",
            "value": "Waiting for wandb.init()...\r"
          }
        },
        "f29a337390ba41da80fa8b6e47858ccb": {
          "model_module": "@jupyter-widgets/controls",
          "model_name": "FloatProgressModel",
          "model_module_version": "1.5.0",
          "state": {
            "_dom_classes": [],
            "_model_module": "@jupyter-widgets/controls",
            "_model_module_version": "1.5.0",
            "_model_name": "FloatProgressModel",
            "_view_count": null,
            "_view_module": "@jupyter-widgets/controls",
            "_view_module_version": "1.5.0",
            "_view_name": "ProgressView",
            "bar_style": "",
            "description": "",
            "description_tooltip": null,
            "layout": "IPY_MODEL_fe29f03d94034b9c8ae2bc9445465069",
            "max": 1,
            "min": 0,
            "orientation": "horizontal",
            "style": "IPY_MODEL_53807a5035884efaaef0e2fdea7ab0ea",
            "value": 1
          }
        },
        "c46bda9205df492580644893a489cb65": {
          "model_module": "@jupyter-widgets/base",
          "model_name": "LayoutModel",
          "model_module_version": "1.2.0",
          "state": {
            "_model_module": "@jupyter-widgets/base",
            "_model_module_version": "1.2.0",
            "_model_name": "LayoutModel",
            "_view_count": null,
            "_view_module": "@jupyter-widgets/base",
            "_view_module_version": "1.2.0",
            "_view_name": "LayoutView",
            "align_content": null,
            "align_items": null,
            "align_self": null,
            "border": null,
            "bottom": null,
            "display": null,
            "flex": null,
            "flex_flow": null,
            "grid_area": null,
            "grid_auto_columns": null,
            "grid_auto_flow": null,
            "grid_auto_rows": null,
            "grid_column": null,
            "grid_gap": null,
            "grid_row": null,
            "grid_template_areas": null,
            "grid_template_columns": null,
            "grid_template_rows": null,
            "height": null,
            "justify_content": null,
            "justify_items": null,
            "left": null,
            "margin": null,
            "max_height": null,
            "max_width": null,
            "min_height": null,
            "min_width": null,
            "object_fit": null,
            "object_position": null,
            "order": null,
            "overflow": null,
            "overflow_x": null,
            "overflow_y": null,
            "padding": null,
            "right": null,
            "top": null,
            "visibility": null,
            "width": null
          }
        },
        "4837dbf471f04fe392181814e8b9bbec": {
          "model_module": "@jupyter-widgets/base",
          "model_name": "LayoutModel",
          "model_module_version": "1.2.0",
          "state": {
            "_model_module": "@jupyter-widgets/base",
            "_model_module_version": "1.2.0",
            "_model_name": "LayoutModel",
            "_view_count": null,
            "_view_module": "@jupyter-widgets/base",
            "_view_module_version": "1.2.0",
            "_view_name": "LayoutView",
            "align_content": null,
            "align_items": null,
            "align_self": null,
            "border": null,
            "bottom": null,
            "display": null,
            "flex": null,
            "flex_flow": null,
            "grid_area": null,
            "grid_auto_columns": null,
            "grid_auto_flow": null,
            "grid_auto_rows": null,
            "grid_column": null,
            "grid_gap": null,
            "grid_row": null,
            "grid_template_areas": null,
            "grid_template_columns": null,
            "grid_template_rows": null,
            "height": null,
            "justify_content": null,
            "justify_items": null,
            "left": null,
            "margin": null,
            "max_height": null,
            "max_width": null,
            "min_height": null,
            "min_width": null,
            "object_fit": null,
            "object_position": null,
            "order": null,
            "overflow": null,
            "overflow_x": null,
            "overflow_y": null,
            "padding": null,
            "right": null,
            "top": null,
            "visibility": null,
            "width": null
          }
        },
        "589a248059cb434fa2ab97ee32d5717b": {
          "model_module": "@jupyter-widgets/controls",
          "model_name": "DescriptionStyleModel",
          "model_module_version": "1.5.0",
          "state": {
            "_model_module": "@jupyter-widgets/controls",
            "_model_module_version": "1.5.0",
            "_model_name": "DescriptionStyleModel",
            "_view_count": null,
            "_view_module": "@jupyter-widgets/base",
            "_view_module_version": "1.2.0",
            "_view_name": "StyleView",
            "description_width": ""
          }
        },
        "fe29f03d94034b9c8ae2bc9445465069": {
          "model_module": "@jupyter-widgets/base",
          "model_name": "LayoutModel",
          "model_module_version": "1.2.0",
          "state": {
            "_model_module": "@jupyter-widgets/base",
            "_model_module_version": "1.2.0",
            "_model_name": "LayoutModel",
            "_view_count": null,
            "_view_module": "@jupyter-widgets/base",
            "_view_module_version": "1.2.0",
            "_view_name": "LayoutView",
            "align_content": null,
            "align_items": null,
            "align_self": null,
            "border": null,
            "bottom": null,
            "display": null,
            "flex": null,
            "flex_flow": null,
            "grid_area": null,
            "grid_auto_columns": null,
            "grid_auto_flow": null,
            "grid_auto_rows": null,
            "grid_column": null,
            "grid_gap": null,
            "grid_row": null,
            "grid_template_areas": null,
            "grid_template_columns": null,
            "grid_template_rows": null,
            "height": null,
            "justify_content": null,
            "justify_items": null,
            "left": null,
            "margin": null,
            "max_height": null,
            "max_width": null,
            "min_height": null,
            "min_width": null,
            "object_fit": null,
            "object_position": null,
            "order": null,
            "overflow": null,
            "overflow_x": null,
            "overflow_y": null,
            "padding": null,
            "right": null,
            "top": null,
            "visibility": null,
            "width": null
          }
        },
        "53807a5035884efaaef0e2fdea7ab0ea": {
          "model_module": "@jupyter-widgets/controls",
          "model_name": "ProgressStyleModel",
          "model_module_version": "1.5.0",
          "state": {
            "_model_module": "@jupyter-widgets/controls",
            "_model_module_version": "1.5.0",
            "_model_name": "ProgressStyleModel",
            "_view_count": null,
            "_view_module": "@jupyter-widgets/base",
            "_view_module_version": "1.2.0",
            "_view_name": "StyleView",
            "bar_color": null,
            "description_width": ""
          }
        },
        "1d8a983107a74b1697a78bda0113d278": {
          "model_module": "@jupyter-widgets/controls",
          "model_name": "VBoxModel",
          "model_module_version": "1.5.0",
          "state": {
            "_dom_classes": [],
            "_model_module": "@jupyter-widgets/controls",
            "_model_module_version": "1.5.0",
            "_model_name": "VBoxModel",
            "_view_count": null,
            "_view_module": "@jupyter-widgets/controls",
            "_view_module_version": "1.5.0",
            "_view_name": "VBoxView",
            "box_style": "",
            "children": [
              "IPY_MODEL_e0a74953121b47bdaeb02b8a8434182b",
              "IPY_MODEL_de5e331e7052458497e8ff56ee3cbd0c"
            ],
            "layout": "IPY_MODEL_77da06a93b2648e9ad8fccbce365d8aa"
          }
        },
        "e0a74953121b47bdaeb02b8a8434182b": {
          "model_module": "@jupyter-widgets/controls",
          "model_name": "LabelModel",
          "model_module_version": "1.5.0",
          "state": {
            "_dom_classes": [],
            "_model_module": "@jupyter-widgets/controls",
            "_model_module_version": "1.5.0",
            "_model_name": "LabelModel",
            "_view_count": null,
            "_view_module": "@jupyter-widgets/controls",
            "_view_module_version": "1.5.0",
            "_view_name": "LabelView",
            "description": "",
            "description_tooltip": null,
            "layout": "IPY_MODEL_7d51eb66329943fa98fe3bb88637a720",
            "placeholder": "​",
            "style": "IPY_MODEL_ecd8103fba684b6ab0a02c4468f23d0b",
            "value": "0.028 MB of 0.028 MB uploaded\r"
          }
        },
        "de5e331e7052458497e8ff56ee3cbd0c": {
          "model_module": "@jupyter-widgets/controls",
          "model_name": "FloatProgressModel",
          "model_module_version": "1.5.0",
          "state": {
            "_dom_classes": [],
            "_model_module": "@jupyter-widgets/controls",
            "_model_module_version": "1.5.0",
            "_model_name": "FloatProgressModel",
            "_view_count": null,
            "_view_module": "@jupyter-widgets/controls",
            "_view_module_version": "1.5.0",
            "_view_name": "ProgressView",
            "bar_style": "",
            "description": "",
            "description_tooltip": null,
            "layout": "IPY_MODEL_f545eb95372f4bc8b8d27d4e39df392f",
            "max": 1,
            "min": 0,
            "orientation": "horizontal",
            "style": "IPY_MODEL_72fc6249ec364c34a8c49b5ef2123b43",
            "value": 1
          }
        },
        "77da06a93b2648e9ad8fccbce365d8aa": {
          "model_module": "@jupyter-widgets/base",
          "model_name": "LayoutModel",
          "model_module_version": "1.2.0",
          "state": {
            "_model_module": "@jupyter-widgets/base",
            "_model_module_version": "1.2.0",
            "_model_name": "LayoutModel",
            "_view_count": null,
            "_view_module": "@jupyter-widgets/base",
            "_view_module_version": "1.2.0",
            "_view_name": "LayoutView",
            "align_content": null,
            "align_items": null,
            "align_self": null,
            "border": null,
            "bottom": null,
            "display": null,
            "flex": null,
            "flex_flow": null,
            "grid_area": null,
            "grid_auto_columns": null,
            "grid_auto_flow": null,
            "grid_auto_rows": null,
            "grid_column": null,
            "grid_gap": null,
            "grid_row": null,
            "grid_template_areas": null,
            "grid_template_columns": null,
            "grid_template_rows": null,
            "height": null,
            "justify_content": null,
            "justify_items": null,
            "left": null,
            "margin": null,
            "max_height": null,
            "max_width": null,
            "min_height": null,
            "min_width": null,
            "object_fit": null,
            "object_position": null,
            "order": null,
            "overflow": null,
            "overflow_x": null,
            "overflow_y": null,
            "padding": null,
            "right": null,
            "top": null,
            "visibility": null,
            "width": null
          }
        },
        "7d51eb66329943fa98fe3bb88637a720": {
          "model_module": "@jupyter-widgets/base",
          "model_name": "LayoutModel",
          "model_module_version": "1.2.0",
          "state": {
            "_model_module": "@jupyter-widgets/base",
            "_model_module_version": "1.2.0",
            "_model_name": "LayoutModel",
            "_view_count": null,
            "_view_module": "@jupyter-widgets/base",
            "_view_module_version": "1.2.0",
            "_view_name": "LayoutView",
            "align_content": null,
            "align_items": null,
            "align_self": null,
            "border": null,
            "bottom": null,
            "display": null,
            "flex": null,
            "flex_flow": null,
            "grid_area": null,
            "grid_auto_columns": null,
            "grid_auto_flow": null,
            "grid_auto_rows": null,
            "grid_column": null,
            "grid_gap": null,
            "grid_row": null,
            "grid_template_areas": null,
            "grid_template_columns": null,
            "grid_template_rows": null,
            "height": null,
            "justify_content": null,
            "justify_items": null,
            "left": null,
            "margin": null,
            "max_height": null,
            "max_width": null,
            "min_height": null,
            "min_width": null,
            "object_fit": null,
            "object_position": null,
            "order": null,
            "overflow": null,
            "overflow_x": null,
            "overflow_y": null,
            "padding": null,
            "right": null,
            "top": null,
            "visibility": null,
            "width": null
          }
        },
        "ecd8103fba684b6ab0a02c4468f23d0b": {
          "model_module": "@jupyter-widgets/controls",
          "model_name": "DescriptionStyleModel",
          "model_module_version": "1.5.0",
          "state": {
            "_model_module": "@jupyter-widgets/controls",
            "_model_module_version": "1.5.0",
            "_model_name": "DescriptionStyleModel",
            "_view_count": null,
            "_view_module": "@jupyter-widgets/base",
            "_view_module_version": "1.2.0",
            "_view_name": "StyleView",
            "description_width": ""
          }
        },
        "f545eb95372f4bc8b8d27d4e39df392f": {
          "model_module": "@jupyter-widgets/base",
          "model_name": "LayoutModel",
          "model_module_version": "1.2.0",
          "state": {
            "_model_module": "@jupyter-widgets/base",
            "_model_module_version": "1.2.0",
            "_model_name": "LayoutModel",
            "_view_count": null,
            "_view_module": "@jupyter-widgets/base",
            "_view_module_version": "1.2.0",
            "_view_name": "LayoutView",
            "align_content": null,
            "align_items": null,
            "align_self": null,
            "border": null,
            "bottom": null,
            "display": null,
            "flex": null,
            "flex_flow": null,
            "grid_area": null,
            "grid_auto_columns": null,
            "grid_auto_flow": null,
            "grid_auto_rows": null,
            "grid_column": null,
            "grid_gap": null,
            "grid_row": null,
            "grid_template_areas": null,
            "grid_template_columns": null,
            "grid_template_rows": null,
            "height": null,
            "justify_content": null,
            "justify_items": null,
            "left": null,
            "margin": null,
            "max_height": null,
            "max_width": null,
            "min_height": null,
            "min_width": null,
            "object_fit": null,
            "object_position": null,
            "order": null,
            "overflow": null,
            "overflow_x": null,
            "overflow_y": null,
            "padding": null,
            "right": null,
            "top": null,
            "visibility": null,
            "width": null
          }
        },
        "72fc6249ec364c34a8c49b5ef2123b43": {
          "model_module": "@jupyter-widgets/controls",
          "model_name": "ProgressStyleModel",
          "model_module_version": "1.5.0",
          "state": {
            "_model_module": "@jupyter-widgets/controls",
            "_model_module_version": "1.5.0",
            "_model_name": "ProgressStyleModel",
            "_view_count": null,
            "_view_module": "@jupyter-widgets/base",
            "_view_module_version": "1.2.0",
            "_view_name": "StyleView",
            "bar_color": null,
            "description_width": ""
          }
        },
        "e7edc553c6714aefaf3bb6b2b8d7c734": {
          "model_module": "@jupyter-widgets/controls",
          "model_name": "VBoxModel",
          "model_module_version": "1.5.0",
          "state": {
            "_dom_classes": [],
            "_model_module": "@jupyter-widgets/controls",
            "_model_module_version": "1.5.0",
            "_model_name": "VBoxModel",
            "_view_count": null,
            "_view_module": "@jupyter-widgets/controls",
            "_view_module_version": "1.5.0",
            "_view_name": "VBoxView",
            "box_style": "",
            "children": [
              "IPY_MODEL_382dce0294f646b9981873eee2359b2a",
              "IPY_MODEL_5bd459fdc12c4a698630fcb042feda63"
            ],
            "layout": "IPY_MODEL_6f069368fc444321879945ccc264e51f"
          }
        },
        "382dce0294f646b9981873eee2359b2a": {
          "model_module": "@jupyter-widgets/controls",
          "model_name": "LabelModel",
          "model_module_version": "1.5.0",
          "state": {
            "_dom_classes": [],
            "_model_module": "@jupyter-widgets/controls",
            "_model_module_version": "1.5.0",
            "_model_name": "LabelModel",
            "_view_count": null,
            "_view_module": "@jupyter-widgets/controls",
            "_view_module_version": "1.5.0",
            "_view_name": "LabelView",
            "description": "",
            "description_tooltip": null,
            "layout": "IPY_MODEL_1baa120b7b7441c68a69878276b563fe",
            "placeholder": "​",
            "style": "IPY_MODEL_dc6821d8716b45c7be82c55231af7379",
            "value": "Waiting for wandb.init()...\r"
          }
        },
        "5bd459fdc12c4a698630fcb042feda63": {
          "model_module": "@jupyter-widgets/controls",
          "model_name": "FloatProgressModel",
          "model_module_version": "1.5.0",
          "state": {
            "_dom_classes": [],
            "_model_module": "@jupyter-widgets/controls",
            "_model_module_version": "1.5.0",
            "_model_name": "FloatProgressModel",
            "_view_count": null,
            "_view_module": "@jupyter-widgets/controls",
            "_view_module_version": "1.5.0",
            "_view_name": "ProgressView",
            "bar_style": "",
            "description": "",
            "description_tooltip": null,
            "layout": "IPY_MODEL_0a48051d4c1b42ecbf1fb7c9dcc02228",
            "max": 1,
            "min": 0,
            "orientation": "horizontal",
            "style": "IPY_MODEL_ad680785c148434d815fccfe36aeed9c",
            "value": 1
          }
        },
        "6f069368fc444321879945ccc264e51f": {
          "model_module": "@jupyter-widgets/base",
          "model_name": "LayoutModel",
          "model_module_version": "1.2.0",
          "state": {
            "_model_module": "@jupyter-widgets/base",
            "_model_module_version": "1.2.0",
            "_model_name": "LayoutModel",
            "_view_count": null,
            "_view_module": "@jupyter-widgets/base",
            "_view_module_version": "1.2.0",
            "_view_name": "LayoutView",
            "align_content": null,
            "align_items": null,
            "align_self": null,
            "border": null,
            "bottom": null,
            "display": null,
            "flex": null,
            "flex_flow": null,
            "grid_area": null,
            "grid_auto_columns": null,
            "grid_auto_flow": null,
            "grid_auto_rows": null,
            "grid_column": null,
            "grid_gap": null,
            "grid_row": null,
            "grid_template_areas": null,
            "grid_template_columns": null,
            "grid_template_rows": null,
            "height": null,
            "justify_content": null,
            "justify_items": null,
            "left": null,
            "margin": null,
            "max_height": null,
            "max_width": null,
            "min_height": null,
            "min_width": null,
            "object_fit": null,
            "object_position": null,
            "order": null,
            "overflow": null,
            "overflow_x": null,
            "overflow_y": null,
            "padding": null,
            "right": null,
            "top": null,
            "visibility": null,
            "width": null
          }
        },
        "1baa120b7b7441c68a69878276b563fe": {
          "model_module": "@jupyter-widgets/base",
          "model_name": "LayoutModel",
          "model_module_version": "1.2.0",
          "state": {
            "_model_module": "@jupyter-widgets/base",
            "_model_module_version": "1.2.0",
            "_model_name": "LayoutModel",
            "_view_count": null,
            "_view_module": "@jupyter-widgets/base",
            "_view_module_version": "1.2.0",
            "_view_name": "LayoutView",
            "align_content": null,
            "align_items": null,
            "align_self": null,
            "border": null,
            "bottom": null,
            "display": null,
            "flex": null,
            "flex_flow": null,
            "grid_area": null,
            "grid_auto_columns": null,
            "grid_auto_flow": null,
            "grid_auto_rows": null,
            "grid_column": null,
            "grid_gap": null,
            "grid_row": null,
            "grid_template_areas": null,
            "grid_template_columns": null,
            "grid_template_rows": null,
            "height": null,
            "justify_content": null,
            "justify_items": null,
            "left": null,
            "margin": null,
            "max_height": null,
            "max_width": null,
            "min_height": null,
            "min_width": null,
            "object_fit": null,
            "object_position": null,
            "order": null,
            "overflow": null,
            "overflow_x": null,
            "overflow_y": null,
            "padding": null,
            "right": null,
            "top": null,
            "visibility": null,
            "width": null
          }
        },
        "dc6821d8716b45c7be82c55231af7379": {
          "model_module": "@jupyter-widgets/controls",
          "model_name": "DescriptionStyleModel",
          "model_module_version": "1.5.0",
          "state": {
            "_model_module": "@jupyter-widgets/controls",
            "_model_module_version": "1.5.0",
            "_model_name": "DescriptionStyleModel",
            "_view_count": null,
            "_view_module": "@jupyter-widgets/base",
            "_view_module_version": "1.2.0",
            "_view_name": "StyleView",
            "description_width": ""
          }
        },
        "0a48051d4c1b42ecbf1fb7c9dcc02228": {
          "model_module": "@jupyter-widgets/base",
          "model_name": "LayoutModel",
          "model_module_version": "1.2.0",
          "state": {
            "_model_module": "@jupyter-widgets/base",
            "_model_module_version": "1.2.0",
            "_model_name": "LayoutModel",
            "_view_count": null,
            "_view_module": "@jupyter-widgets/base",
            "_view_module_version": "1.2.0",
            "_view_name": "LayoutView",
            "align_content": null,
            "align_items": null,
            "align_self": null,
            "border": null,
            "bottom": null,
            "display": null,
            "flex": null,
            "flex_flow": null,
            "grid_area": null,
            "grid_auto_columns": null,
            "grid_auto_flow": null,
            "grid_auto_rows": null,
            "grid_column": null,
            "grid_gap": null,
            "grid_row": null,
            "grid_template_areas": null,
            "grid_template_columns": null,
            "grid_template_rows": null,
            "height": null,
            "justify_content": null,
            "justify_items": null,
            "left": null,
            "margin": null,
            "max_height": null,
            "max_width": null,
            "min_height": null,
            "min_width": null,
            "object_fit": null,
            "object_position": null,
            "order": null,
            "overflow": null,
            "overflow_x": null,
            "overflow_y": null,
            "padding": null,
            "right": null,
            "top": null,
            "visibility": null,
            "width": null
          }
        },
        "ad680785c148434d815fccfe36aeed9c": {
          "model_module": "@jupyter-widgets/controls",
          "model_name": "ProgressStyleModel",
          "model_module_version": "1.5.0",
          "state": {
            "_model_module": "@jupyter-widgets/controls",
            "_model_module_version": "1.5.0",
            "_model_name": "ProgressStyleModel",
            "_view_count": null,
            "_view_module": "@jupyter-widgets/base",
            "_view_module_version": "1.2.0",
            "_view_name": "StyleView",
            "bar_color": null,
            "description_width": ""
          }
        },
        "a0776109d33d4dcc9541245bfe24f76a": {
          "model_module": "@jupyter-widgets/controls",
          "model_name": "VBoxModel",
          "model_module_version": "1.5.0",
          "state": {
            "_dom_classes": [],
            "_model_module": "@jupyter-widgets/controls",
            "_model_module_version": "1.5.0",
            "_model_name": "VBoxModel",
            "_view_count": null,
            "_view_module": "@jupyter-widgets/controls",
            "_view_module_version": "1.5.0",
            "_view_name": "VBoxView",
            "box_style": "",
            "children": [
              "IPY_MODEL_05185040baf64ae197a408156892b70c",
              "IPY_MODEL_c1fe70d7464d4292a8d73b61f7db7c1b"
            ],
            "layout": "IPY_MODEL_6c27b5c41f3144348a946835f0757ebf"
          }
        },
        "05185040baf64ae197a408156892b70c": {
          "model_module": "@jupyter-widgets/controls",
          "model_name": "LabelModel",
          "model_module_version": "1.5.0",
          "state": {
            "_dom_classes": [],
            "_model_module": "@jupyter-widgets/controls",
            "_model_module_version": "1.5.0",
            "_model_name": "LabelModel",
            "_view_count": null,
            "_view_module": "@jupyter-widgets/controls",
            "_view_module_version": "1.5.0",
            "_view_name": "LabelView",
            "description": "",
            "description_tooltip": null,
            "layout": "IPY_MODEL_49b96e9dea354558aae6d867048989b5",
            "placeholder": "​",
            "style": "IPY_MODEL_a8c7b9705a0b4b0e8e8ccd818b5cf63b",
            "value": "0.028 MB of 0.028 MB uploaded\r"
          }
        },
        "c1fe70d7464d4292a8d73b61f7db7c1b": {
          "model_module": "@jupyter-widgets/controls",
          "model_name": "FloatProgressModel",
          "model_module_version": "1.5.0",
          "state": {
            "_dom_classes": [],
            "_model_module": "@jupyter-widgets/controls",
            "_model_module_version": "1.5.0",
            "_model_name": "FloatProgressModel",
            "_view_count": null,
            "_view_module": "@jupyter-widgets/controls",
            "_view_module_version": "1.5.0",
            "_view_name": "ProgressView",
            "bar_style": "",
            "description": "",
            "description_tooltip": null,
            "layout": "IPY_MODEL_513130ecfbf04b87a47952aba22bb218",
            "max": 1,
            "min": 0,
            "orientation": "horizontal",
            "style": "IPY_MODEL_df023f8f56db412881a6ca27469b7290",
            "value": 1
          }
        },
        "6c27b5c41f3144348a946835f0757ebf": {
          "model_module": "@jupyter-widgets/base",
          "model_name": "LayoutModel",
          "model_module_version": "1.2.0",
          "state": {
            "_model_module": "@jupyter-widgets/base",
            "_model_module_version": "1.2.0",
            "_model_name": "LayoutModel",
            "_view_count": null,
            "_view_module": "@jupyter-widgets/base",
            "_view_module_version": "1.2.0",
            "_view_name": "LayoutView",
            "align_content": null,
            "align_items": null,
            "align_self": null,
            "border": null,
            "bottom": null,
            "display": null,
            "flex": null,
            "flex_flow": null,
            "grid_area": null,
            "grid_auto_columns": null,
            "grid_auto_flow": null,
            "grid_auto_rows": null,
            "grid_column": null,
            "grid_gap": null,
            "grid_row": null,
            "grid_template_areas": null,
            "grid_template_columns": null,
            "grid_template_rows": null,
            "height": null,
            "justify_content": null,
            "justify_items": null,
            "left": null,
            "margin": null,
            "max_height": null,
            "max_width": null,
            "min_height": null,
            "min_width": null,
            "object_fit": null,
            "object_position": null,
            "order": null,
            "overflow": null,
            "overflow_x": null,
            "overflow_y": null,
            "padding": null,
            "right": null,
            "top": null,
            "visibility": null,
            "width": null
          }
        },
        "49b96e9dea354558aae6d867048989b5": {
          "model_module": "@jupyter-widgets/base",
          "model_name": "LayoutModel",
          "model_module_version": "1.2.0",
          "state": {
            "_model_module": "@jupyter-widgets/base",
            "_model_module_version": "1.2.0",
            "_model_name": "LayoutModel",
            "_view_count": null,
            "_view_module": "@jupyter-widgets/base",
            "_view_module_version": "1.2.0",
            "_view_name": "LayoutView",
            "align_content": null,
            "align_items": null,
            "align_self": null,
            "border": null,
            "bottom": null,
            "display": null,
            "flex": null,
            "flex_flow": null,
            "grid_area": null,
            "grid_auto_columns": null,
            "grid_auto_flow": null,
            "grid_auto_rows": null,
            "grid_column": null,
            "grid_gap": null,
            "grid_row": null,
            "grid_template_areas": null,
            "grid_template_columns": null,
            "grid_template_rows": null,
            "height": null,
            "justify_content": null,
            "justify_items": null,
            "left": null,
            "margin": null,
            "max_height": null,
            "max_width": null,
            "min_height": null,
            "min_width": null,
            "object_fit": null,
            "object_position": null,
            "order": null,
            "overflow": null,
            "overflow_x": null,
            "overflow_y": null,
            "padding": null,
            "right": null,
            "top": null,
            "visibility": null,
            "width": null
          }
        },
        "a8c7b9705a0b4b0e8e8ccd818b5cf63b": {
          "model_module": "@jupyter-widgets/controls",
          "model_name": "DescriptionStyleModel",
          "model_module_version": "1.5.0",
          "state": {
            "_model_module": "@jupyter-widgets/controls",
            "_model_module_version": "1.5.0",
            "_model_name": "DescriptionStyleModel",
            "_view_count": null,
            "_view_module": "@jupyter-widgets/base",
            "_view_module_version": "1.2.0",
            "_view_name": "StyleView",
            "description_width": ""
          }
        },
        "513130ecfbf04b87a47952aba22bb218": {
          "model_module": "@jupyter-widgets/base",
          "model_name": "LayoutModel",
          "model_module_version": "1.2.0",
          "state": {
            "_model_module": "@jupyter-widgets/base",
            "_model_module_version": "1.2.0",
            "_model_name": "LayoutModel",
            "_view_count": null,
            "_view_module": "@jupyter-widgets/base",
            "_view_module_version": "1.2.0",
            "_view_name": "LayoutView",
            "align_content": null,
            "align_items": null,
            "align_self": null,
            "border": null,
            "bottom": null,
            "display": null,
            "flex": null,
            "flex_flow": null,
            "grid_area": null,
            "grid_auto_columns": null,
            "grid_auto_flow": null,
            "grid_auto_rows": null,
            "grid_column": null,
            "grid_gap": null,
            "grid_row": null,
            "grid_template_areas": null,
            "grid_template_columns": null,
            "grid_template_rows": null,
            "height": null,
            "justify_content": null,
            "justify_items": null,
            "left": null,
            "margin": null,
            "max_height": null,
            "max_width": null,
            "min_height": null,
            "min_width": null,
            "object_fit": null,
            "object_position": null,
            "order": null,
            "overflow": null,
            "overflow_x": null,
            "overflow_y": null,
            "padding": null,
            "right": null,
            "top": null,
            "visibility": null,
            "width": null
          }
        },
        "df023f8f56db412881a6ca27469b7290": {
          "model_module": "@jupyter-widgets/controls",
          "model_name": "ProgressStyleModel",
          "model_module_version": "1.5.0",
          "state": {
            "_model_module": "@jupyter-widgets/controls",
            "_model_module_version": "1.5.0",
            "_model_name": "ProgressStyleModel",
            "_view_count": null,
            "_view_module": "@jupyter-widgets/base",
            "_view_module_version": "1.2.0",
            "_view_name": "StyleView",
            "bar_color": null,
            "description_width": ""
          }
        },
        "dced7e1c49644d0b8995e53c68a28792": {
          "model_module": "@jupyter-widgets/controls",
          "model_name": "VBoxModel",
          "model_module_version": "1.5.0",
          "state": {
            "_dom_classes": [],
            "_model_module": "@jupyter-widgets/controls",
            "_model_module_version": "1.5.0",
            "_model_name": "VBoxModel",
            "_view_count": null,
            "_view_module": "@jupyter-widgets/controls",
            "_view_module_version": "1.5.0",
            "_view_name": "VBoxView",
            "box_style": "",
            "children": [
              "IPY_MODEL_d29c128c1ad046078117308325a4d443",
              "IPY_MODEL_84b4ce42e2d14cbf8536dc6271be3a0e"
            ],
            "layout": "IPY_MODEL_5862781800f64aaeae3943daa2777be7"
          }
        },
        "d29c128c1ad046078117308325a4d443": {
          "model_module": "@jupyter-widgets/controls",
          "model_name": "LabelModel",
          "model_module_version": "1.5.0",
          "state": {
            "_dom_classes": [],
            "_model_module": "@jupyter-widgets/controls",
            "_model_module_version": "1.5.0",
            "_model_name": "LabelModel",
            "_view_count": null,
            "_view_module": "@jupyter-widgets/controls",
            "_view_module_version": "1.5.0",
            "_view_name": "LabelView",
            "description": "",
            "description_tooltip": null,
            "layout": "IPY_MODEL_7264ff1af86f4470b5e17ca6721a586e",
            "placeholder": "​",
            "style": "IPY_MODEL_92c3ec44b3724d64b81a45ea15ff9440",
            "value": "Waiting for wandb.init()...\r"
          }
        },
        "84b4ce42e2d14cbf8536dc6271be3a0e": {
          "model_module": "@jupyter-widgets/controls",
          "model_name": "FloatProgressModel",
          "model_module_version": "1.5.0",
          "state": {
            "_dom_classes": [],
            "_model_module": "@jupyter-widgets/controls",
            "_model_module_version": "1.5.0",
            "_model_name": "FloatProgressModel",
            "_view_count": null,
            "_view_module": "@jupyter-widgets/controls",
            "_view_module_version": "1.5.0",
            "_view_name": "ProgressView",
            "bar_style": "",
            "description": "",
            "description_tooltip": null,
            "layout": "IPY_MODEL_53233d07ea564bd3bd48628bb208174a",
            "max": 1,
            "min": 0,
            "orientation": "horizontal",
            "style": "IPY_MODEL_e41b9c1af92f4f09a3644e7e2bc911b1",
            "value": 1
          }
        },
        "5862781800f64aaeae3943daa2777be7": {
          "model_module": "@jupyter-widgets/base",
          "model_name": "LayoutModel",
          "model_module_version": "1.2.0",
          "state": {
            "_model_module": "@jupyter-widgets/base",
            "_model_module_version": "1.2.0",
            "_model_name": "LayoutModel",
            "_view_count": null,
            "_view_module": "@jupyter-widgets/base",
            "_view_module_version": "1.2.0",
            "_view_name": "LayoutView",
            "align_content": null,
            "align_items": null,
            "align_self": null,
            "border": null,
            "bottom": null,
            "display": null,
            "flex": null,
            "flex_flow": null,
            "grid_area": null,
            "grid_auto_columns": null,
            "grid_auto_flow": null,
            "grid_auto_rows": null,
            "grid_column": null,
            "grid_gap": null,
            "grid_row": null,
            "grid_template_areas": null,
            "grid_template_columns": null,
            "grid_template_rows": null,
            "height": null,
            "justify_content": null,
            "justify_items": null,
            "left": null,
            "margin": null,
            "max_height": null,
            "max_width": null,
            "min_height": null,
            "min_width": null,
            "object_fit": null,
            "object_position": null,
            "order": null,
            "overflow": null,
            "overflow_x": null,
            "overflow_y": null,
            "padding": null,
            "right": null,
            "top": null,
            "visibility": null,
            "width": null
          }
        },
        "7264ff1af86f4470b5e17ca6721a586e": {
          "model_module": "@jupyter-widgets/base",
          "model_name": "LayoutModel",
          "model_module_version": "1.2.0",
          "state": {
            "_model_module": "@jupyter-widgets/base",
            "_model_module_version": "1.2.0",
            "_model_name": "LayoutModel",
            "_view_count": null,
            "_view_module": "@jupyter-widgets/base",
            "_view_module_version": "1.2.0",
            "_view_name": "LayoutView",
            "align_content": null,
            "align_items": null,
            "align_self": null,
            "border": null,
            "bottom": null,
            "display": null,
            "flex": null,
            "flex_flow": null,
            "grid_area": null,
            "grid_auto_columns": null,
            "grid_auto_flow": null,
            "grid_auto_rows": null,
            "grid_column": null,
            "grid_gap": null,
            "grid_row": null,
            "grid_template_areas": null,
            "grid_template_columns": null,
            "grid_template_rows": null,
            "height": null,
            "justify_content": null,
            "justify_items": null,
            "left": null,
            "margin": null,
            "max_height": null,
            "max_width": null,
            "min_height": null,
            "min_width": null,
            "object_fit": null,
            "object_position": null,
            "order": null,
            "overflow": null,
            "overflow_x": null,
            "overflow_y": null,
            "padding": null,
            "right": null,
            "top": null,
            "visibility": null,
            "width": null
          }
        },
        "92c3ec44b3724d64b81a45ea15ff9440": {
          "model_module": "@jupyter-widgets/controls",
          "model_name": "DescriptionStyleModel",
          "model_module_version": "1.5.0",
          "state": {
            "_model_module": "@jupyter-widgets/controls",
            "_model_module_version": "1.5.0",
            "_model_name": "DescriptionStyleModel",
            "_view_count": null,
            "_view_module": "@jupyter-widgets/base",
            "_view_module_version": "1.2.0",
            "_view_name": "StyleView",
            "description_width": ""
          }
        },
        "53233d07ea564bd3bd48628bb208174a": {
          "model_module": "@jupyter-widgets/base",
          "model_name": "LayoutModel",
          "model_module_version": "1.2.0",
          "state": {
            "_model_module": "@jupyter-widgets/base",
            "_model_module_version": "1.2.0",
            "_model_name": "LayoutModel",
            "_view_count": null,
            "_view_module": "@jupyter-widgets/base",
            "_view_module_version": "1.2.0",
            "_view_name": "LayoutView",
            "align_content": null,
            "align_items": null,
            "align_self": null,
            "border": null,
            "bottom": null,
            "display": null,
            "flex": null,
            "flex_flow": null,
            "grid_area": null,
            "grid_auto_columns": null,
            "grid_auto_flow": null,
            "grid_auto_rows": null,
            "grid_column": null,
            "grid_gap": null,
            "grid_row": null,
            "grid_template_areas": null,
            "grid_template_columns": null,
            "grid_template_rows": null,
            "height": null,
            "justify_content": null,
            "justify_items": null,
            "left": null,
            "margin": null,
            "max_height": null,
            "max_width": null,
            "min_height": null,
            "min_width": null,
            "object_fit": null,
            "object_position": null,
            "order": null,
            "overflow": null,
            "overflow_x": null,
            "overflow_y": null,
            "padding": null,
            "right": null,
            "top": null,
            "visibility": null,
            "width": null
          }
        },
        "e41b9c1af92f4f09a3644e7e2bc911b1": {
          "model_module": "@jupyter-widgets/controls",
          "model_name": "ProgressStyleModel",
          "model_module_version": "1.5.0",
          "state": {
            "_model_module": "@jupyter-widgets/controls",
            "_model_module_version": "1.5.0",
            "_model_name": "ProgressStyleModel",
            "_view_count": null,
            "_view_module": "@jupyter-widgets/base",
            "_view_module_version": "1.2.0",
            "_view_name": "StyleView",
            "bar_color": null,
            "description_width": ""
          }
        },
        "a7a1e6b550a0457ab618097024597eca": {
          "model_module": "@jupyter-widgets/controls",
          "model_name": "VBoxModel",
          "model_module_version": "1.5.0",
          "state": {
            "_dom_classes": [],
            "_model_module": "@jupyter-widgets/controls",
            "_model_module_version": "1.5.0",
            "_model_name": "VBoxModel",
            "_view_count": null,
            "_view_module": "@jupyter-widgets/controls",
            "_view_module_version": "1.5.0",
            "_view_name": "VBoxView",
            "box_style": "",
            "children": [
              "IPY_MODEL_a2ef5d03b0b0456b89705c5bb05b67eb",
              "IPY_MODEL_b1a3d1ff53344e218f17d43d55103d32"
            ],
            "layout": "IPY_MODEL_0c1f188b1bd047bcb70dacd9e2b562bc"
          }
        },
        "a2ef5d03b0b0456b89705c5bb05b67eb": {
          "model_module": "@jupyter-widgets/controls",
          "model_name": "LabelModel",
          "model_module_version": "1.5.0",
          "state": {
            "_dom_classes": [],
            "_model_module": "@jupyter-widgets/controls",
            "_model_module_version": "1.5.0",
            "_model_name": "LabelModel",
            "_view_count": null,
            "_view_module": "@jupyter-widgets/controls",
            "_view_module_version": "1.5.0",
            "_view_name": "LabelView",
            "description": "",
            "description_tooltip": null,
            "layout": "IPY_MODEL_d43adecf972849cda6460677b112c0b8",
            "placeholder": "​",
            "style": "IPY_MODEL_5411336b35c24240a34ff7c12fd95abc",
            "value": "0.028 MB of 0.028 MB uploaded\r"
          }
        },
        "b1a3d1ff53344e218f17d43d55103d32": {
          "model_module": "@jupyter-widgets/controls",
          "model_name": "FloatProgressModel",
          "model_module_version": "1.5.0",
          "state": {
            "_dom_classes": [],
            "_model_module": "@jupyter-widgets/controls",
            "_model_module_version": "1.5.0",
            "_model_name": "FloatProgressModel",
            "_view_count": null,
            "_view_module": "@jupyter-widgets/controls",
            "_view_module_version": "1.5.0",
            "_view_name": "ProgressView",
            "bar_style": "",
            "description": "",
            "description_tooltip": null,
            "layout": "IPY_MODEL_8617d0739a2d4824bf6a604825e53d94",
            "max": 1,
            "min": 0,
            "orientation": "horizontal",
            "style": "IPY_MODEL_a315af61a6894225a93d6bc6f5e17a87",
            "value": 1
          }
        },
        "0c1f188b1bd047bcb70dacd9e2b562bc": {
          "model_module": "@jupyter-widgets/base",
          "model_name": "LayoutModel",
          "model_module_version": "1.2.0",
          "state": {
            "_model_module": "@jupyter-widgets/base",
            "_model_module_version": "1.2.0",
            "_model_name": "LayoutModel",
            "_view_count": null,
            "_view_module": "@jupyter-widgets/base",
            "_view_module_version": "1.2.0",
            "_view_name": "LayoutView",
            "align_content": null,
            "align_items": null,
            "align_self": null,
            "border": null,
            "bottom": null,
            "display": null,
            "flex": null,
            "flex_flow": null,
            "grid_area": null,
            "grid_auto_columns": null,
            "grid_auto_flow": null,
            "grid_auto_rows": null,
            "grid_column": null,
            "grid_gap": null,
            "grid_row": null,
            "grid_template_areas": null,
            "grid_template_columns": null,
            "grid_template_rows": null,
            "height": null,
            "justify_content": null,
            "justify_items": null,
            "left": null,
            "margin": null,
            "max_height": null,
            "max_width": null,
            "min_height": null,
            "min_width": null,
            "object_fit": null,
            "object_position": null,
            "order": null,
            "overflow": null,
            "overflow_x": null,
            "overflow_y": null,
            "padding": null,
            "right": null,
            "top": null,
            "visibility": null,
            "width": null
          }
        },
        "d43adecf972849cda6460677b112c0b8": {
          "model_module": "@jupyter-widgets/base",
          "model_name": "LayoutModel",
          "model_module_version": "1.2.0",
          "state": {
            "_model_module": "@jupyter-widgets/base",
            "_model_module_version": "1.2.0",
            "_model_name": "LayoutModel",
            "_view_count": null,
            "_view_module": "@jupyter-widgets/base",
            "_view_module_version": "1.2.0",
            "_view_name": "LayoutView",
            "align_content": null,
            "align_items": null,
            "align_self": null,
            "border": null,
            "bottom": null,
            "display": null,
            "flex": null,
            "flex_flow": null,
            "grid_area": null,
            "grid_auto_columns": null,
            "grid_auto_flow": null,
            "grid_auto_rows": null,
            "grid_column": null,
            "grid_gap": null,
            "grid_row": null,
            "grid_template_areas": null,
            "grid_template_columns": null,
            "grid_template_rows": null,
            "height": null,
            "justify_content": null,
            "justify_items": null,
            "left": null,
            "margin": null,
            "max_height": null,
            "max_width": null,
            "min_height": null,
            "min_width": null,
            "object_fit": null,
            "object_position": null,
            "order": null,
            "overflow": null,
            "overflow_x": null,
            "overflow_y": null,
            "padding": null,
            "right": null,
            "top": null,
            "visibility": null,
            "width": null
          }
        },
        "5411336b35c24240a34ff7c12fd95abc": {
          "model_module": "@jupyter-widgets/controls",
          "model_name": "DescriptionStyleModel",
          "model_module_version": "1.5.0",
          "state": {
            "_model_module": "@jupyter-widgets/controls",
            "_model_module_version": "1.5.0",
            "_model_name": "DescriptionStyleModel",
            "_view_count": null,
            "_view_module": "@jupyter-widgets/base",
            "_view_module_version": "1.2.0",
            "_view_name": "StyleView",
            "description_width": ""
          }
        },
        "8617d0739a2d4824bf6a604825e53d94": {
          "model_module": "@jupyter-widgets/base",
          "model_name": "LayoutModel",
          "model_module_version": "1.2.0",
          "state": {
            "_model_module": "@jupyter-widgets/base",
            "_model_module_version": "1.2.0",
            "_model_name": "LayoutModel",
            "_view_count": null,
            "_view_module": "@jupyter-widgets/base",
            "_view_module_version": "1.2.0",
            "_view_name": "LayoutView",
            "align_content": null,
            "align_items": null,
            "align_self": null,
            "border": null,
            "bottom": null,
            "display": null,
            "flex": null,
            "flex_flow": null,
            "grid_area": null,
            "grid_auto_columns": null,
            "grid_auto_flow": null,
            "grid_auto_rows": null,
            "grid_column": null,
            "grid_gap": null,
            "grid_row": null,
            "grid_template_areas": null,
            "grid_template_columns": null,
            "grid_template_rows": null,
            "height": null,
            "justify_content": null,
            "justify_items": null,
            "left": null,
            "margin": null,
            "max_height": null,
            "max_width": null,
            "min_height": null,
            "min_width": null,
            "object_fit": null,
            "object_position": null,
            "order": null,
            "overflow": null,
            "overflow_x": null,
            "overflow_y": null,
            "padding": null,
            "right": null,
            "top": null,
            "visibility": null,
            "width": null
          }
        },
        "a315af61a6894225a93d6bc6f5e17a87": {
          "model_module": "@jupyter-widgets/controls",
          "model_name": "ProgressStyleModel",
          "model_module_version": "1.5.0",
          "state": {
            "_model_module": "@jupyter-widgets/controls",
            "_model_module_version": "1.5.0",
            "_model_name": "ProgressStyleModel",
            "_view_count": null,
            "_view_module": "@jupyter-widgets/base",
            "_view_module_version": "1.2.0",
            "_view_name": "StyleView",
            "bar_color": null,
            "description_width": ""
          }
        },
        "2566ce5e46a84c17868e17cac0e6c104": {
          "model_module": "@jupyter-widgets/controls",
          "model_name": "VBoxModel",
          "model_module_version": "1.5.0",
          "state": {
            "_dom_classes": [],
            "_model_module": "@jupyter-widgets/controls",
            "_model_module_version": "1.5.0",
            "_model_name": "VBoxModel",
            "_view_count": null,
            "_view_module": "@jupyter-widgets/controls",
            "_view_module_version": "1.5.0",
            "_view_name": "VBoxView",
            "box_style": "",
            "children": [
              "IPY_MODEL_3ff4eb7e576b4f9abc58fb3030731e98",
              "IPY_MODEL_7294b1aff9df4b459fd5733ec0613f56"
            ],
            "layout": "IPY_MODEL_fe9ea93fbbc64fa79e9b69fe43b1942f"
          }
        },
        "3ff4eb7e576b4f9abc58fb3030731e98": {
          "model_module": "@jupyter-widgets/controls",
          "model_name": "LabelModel",
          "model_module_version": "1.5.0",
          "state": {
            "_dom_classes": [],
            "_model_module": "@jupyter-widgets/controls",
            "_model_module_version": "1.5.0",
            "_model_name": "LabelModel",
            "_view_count": null,
            "_view_module": "@jupyter-widgets/controls",
            "_view_module_version": "1.5.0",
            "_view_name": "LabelView",
            "description": "",
            "description_tooltip": null,
            "layout": "IPY_MODEL_d7f3154fbab44efebcb1693e97091fde",
            "placeholder": "​",
            "style": "IPY_MODEL_91636d6a17e14cc0911ed47e80146685",
            "value": "Waiting for wandb.init()...\r"
          }
        },
        "7294b1aff9df4b459fd5733ec0613f56": {
          "model_module": "@jupyter-widgets/controls",
          "model_name": "FloatProgressModel",
          "model_module_version": "1.5.0",
          "state": {
            "_dom_classes": [],
            "_model_module": "@jupyter-widgets/controls",
            "_model_module_version": "1.5.0",
            "_model_name": "FloatProgressModel",
            "_view_count": null,
            "_view_module": "@jupyter-widgets/controls",
            "_view_module_version": "1.5.0",
            "_view_name": "ProgressView",
            "bar_style": "",
            "description": "",
            "description_tooltip": null,
            "layout": "IPY_MODEL_50c486923d9c4e5a92879fd6357fcd0f",
            "max": 1,
            "min": 0,
            "orientation": "horizontal",
            "style": "IPY_MODEL_be197b262ce545bd9941cf6212327b73",
            "value": 1
          }
        },
        "fe9ea93fbbc64fa79e9b69fe43b1942f": {
          "model_module": "@jupyter-widgets/base",
          "model_name": "LayoutModel",
          "model_module_version": "1.2.0",
          "state": {
            "_model_module": "@jupyter-widgets/base",
            "_model_module_version": "1.2.0",
            "_model_name": "LayoutModel",
            "_view_count": null,
            "_view_module": "@jupyter-widgets/base",
            "_view_module_version": "1.2.0",
            "_view_name": "LayoutView",
            "align_content": null,
            "align_items": null,
            "align_self": null,
            "border": null,
            "bottom": null,
            "display": null,
            "flex": null,
            "flex_flow": null,
            "grid_area": null,
            "grid_auto_columns": null,
            "grid_auto_flow": null,
            "grid_auto_rows": null,
            "grid_column": null,
            "grid_gap": null,
            "grid_row": null,
            "grid_template_areas": null,
            "grid_template_columns": null,
            "grid_template_rows": null,
            "height": null,
            "justify_content": null,
            "justify_items": null,
            "left": null,
            "margin": null,
            "max_height": null,
            "max_width": null,
            "min_height": null,
            "min_width": null,
            "object_fit": null,
            "object_position": null,
            "order": null,
            "overflow": null,
            "overflow_x": null,
            "overflow_y": null,
            "padding": null,
            "right": null,
            "top": null,
            "visibility": null,
            "width": null
          }
        },
        "d7f3154fbab44efebcb1693e97091fde": {
          "model_module": "@jupyter-widgets/base",
          "model_name": "LayoutModel",
          "model_module_version": "1.2.0",
          "state": {
            "_model_module": "@jupyter-widgets/base",
            "_model_module_version": "1.2.0",
            "_model_name": "LayoutModel",
            "_view_count": null,
            "_view_module": "@jupyter-widgets/base",
            "_view_module_version": "1.2.0",
            "_view_name": "LayoutView",
            "align_content": null,
            "align_items": null,
            "align_self": null,
            "border": null,
            "bottom": null,
            "display": null,
            "flex": null,
            "flex_flow": null,
            "grid_area": null,
            "grid_auto_columns": null,
            "grid_auto_flow": null,
            "grid_auto_rows": null,
            "grid_column": null,
            "grid_gap": null,
            "grid_row": null,
            "grid_template_areas": null,
            "grid_template_columns": null,
            "grid_template_rows": null,
            "height": null,
            "justify_content": null,
            "justify_items": null,
            "left": null,
            "margin": null,
            "max_height": null,
            "max_width": null,
            "min_height": null,
            "min_width": null,
            "object_fit": null,
            "object_position": null,
            "order": null,
            "overflow": null,
            "overflow_x": null,
            "overflow_y": null,
            "padding": null,
            "right": null,
            "top": null,
            "visibility": null,
            "width": null
          }
        },
        "91636d6a17e14cc0911ed47e80146685": {
          "model_module": "@jupyter-widgets/controls",
          "model_name": "DescriptionStyleModel",
          "model_module_version": "1.5.0",
          "state": {
            "_model_module": "@jupyter-widgets/controls",
            "_model_module_version": "1.5.0",
            "_model_name": "DescriptionStyleModel",
            "_view_count": null,
            "_view_module": "@jupyter-widgets/base",
            "_view_module_version": "1.2.0",
            "_view_name": "StyleView",
            "description_width": ""
          }
        },
        "50c486923d9c4e5a92879fd6357fcd0f": {
          "model_module": "@jupyter-widgets/base",
          "model_name": "LayoutModel",
          "model_module_version": "1.2.0",
          "state": {
            "_model_module": "@jupyter-widgets/base",
            "_model_module_version": "1.2.0",
            "_model_name": "LayoutModel",
            "_view_count": null,
            "_view_module": "@jupyter-widgets/base",
            "_view_module_version": "1.2.0",
            "_view_name": "LayoutView",
            "align_content": null,
            "align_items": null,
            "align_self": null,
            "border": null,
            "bottom": null,
            "display": null,
            "flex": null,
            "flex_flow": null,
            "grid_area": null,
            "grid_auto_columns": null,
            "grid_auto_flow": null,
            "grid_auto_rows": null,
            "grid_column": null,
            "grid_gap": null,
            "grid_row": null,
            "grid_template_areas": null,
            "grid_template_columns": null,
            "grid_template_rows": null,
            "height": null,
            "justify_content": null,
            "justify_items": null,
            "left": null,
            "margin": null,
            "max_height": null,
            "max_width": null,
            "min_height": null,
            "min_width": null,
            "object_fit": null,
            "object_position": null,
            "order": null,
            "overflow": null,
            "overflow_x": null,
            "overflow_y": null,
            "padding": null,
            "right": null,
            "top": null,
            "visibility": null,
            "width": null
          }
        },
        "be197b262ce545bd9941cf6212327b73": {
          "model_module": "@jupyter-widgets/controls",
          "model_name": "ProgressStyleModel",
          "model_module_version": "1.5.0",
          "state": {
            "_model_module": "@jupyter-widgets/controls",
            "_model_module_version": "1.5.0",
            "_model_name": "ProgressStyleModel",
            "_view_count": null,
            "_view_module": "@jupyter-widgets/base",
            "_view_module_version": "1.2.0",
            "_view_name": "StyleView",
            "bar_color": null,
            "description_width": ""
          }
        },
        "42641a415b2041eab3afb4cfeafa6ced": {
          "model_module": "@jupyter-widgets/controls",
          "model_name": "VBoxModel",
          "model_module_version": "1.5.0",
          "state": {
            "_dom_classes": [],
            "_model_module": "@jupyter-widgets/controls",
            "_model_module_version": "1.5.0",
            "_model_name": "VBoxModel",
            "_view_count": null,
            "_view_module": "@jupyter-widgets/controls",
            "_view_module_version": "1.5.0",
            "_view_name": "VBoxView",
            "box_style": "",
            "children": [
              "IPY_MODEL_a2a17042f6db4b029a34c7cd1e9bb431",
              "IPY_MODEL_7e16f0b15305472cb2133a1b989f2a54"
            ],
            "layout": "IPY_MODEL_d317ca485e5d4ec89b3c8f9783c8e255"
          }
        },
        "a2a17042f6db4b029a34c7cd1e9bb431": {
          "model_module": "@jupyter-widgets/controls",
          "model_name": "LabelModel",
          "model_module_version": "1.5.0",
          "state": {
            "_dom_classes": [],
            "_model_module": "@jupyter-widgets/controls",
            "_model_module_version": "1.5.0",
            "_model_name": "LabelModel",
            "_view_count": null,
            "_view_module": "@jupyter-widgets/controls",
            "_view_module_version": "1.5.0",
            "_view_name": "LabelView",
            "description": "",
            "description_tooltip": null,
            "layout": "IPY_MODEL_cf06c1d93b56457a8e1354ef770978ba",
            "placeholder": "​",
            "style": "IPY_MODEL_28444d776d6747f48ab3d34644ff88ff",
            "value": "0.028 MB of 0.028 MB uploaded\r"
          }
        },
        "7e16f0b15305472cb2133a1b989f2a54": {
          "model_module": "@jupyter-widgets/controls",
          "model_name": "FloatProgressModel",
          "model_module_version": "1.5.0",
          "state": {
            "_dom_classes": [],
            "_model_module": "@jupyter-widgets/controls",
            "_model_module_version": "1.5.0",
            "_model_name": "FloatProgressModel",
            "_view_count": null,
            "_view_module": "@jupyter-widgets/controls",
            "_view_module_version": "1.5.0",
            "_view_name": "ProgressView",
            "bar_style": "",
            "description": "",
            "description_tooltip": null,
            "layout": "IPY_MODEL_32a224e6b49141ebbdd5e6001e466cff",
            "max": 1,
            "min": 0,
            "orientation": "horizontal",
            "style": "IPY_MODEL_00a33404015246bcb3937a011e5a3c4e",
            "value": 1
          }
        },
        "d317ca485e5d4ec89b3c8f9783c8e255": {
          "model_module": "@jupyter-widgets/base",
          "model_name": "LayoutModel",
          "model_module_version": "1.2.0",
          "state": {
            "_model_module": "@jupyter-widgets/base",
            "_model_module_version": "1.2.0",
            "_model_name": "LayoutModel",
            "_view_count": null,
            "_view_module": "@jupyter-widgets/base",
            "_view_module_version": "1.2.0",
            "_view_name": "LayoutView",
            "align_content": null,
            "align_items": null,
            "align_self": null,
            "border": null,
            "bottom": null,
            "display": null,
            "flex": null,
            "flex_flow": null,
            "grid_area": null,
            "grid_auto_columns": null,
            "grid_auto_flow": null,
            "grid_auto_rows": null,
            "grid_column": null,
            "grid_gap": null,
            "grid_row": null,
            "grid_template_areas": null,
            "grid_template_columns": null,
            "grid_template_rows": null,
            "height": null,
            "justify_content": null,
            "justify_items": null,
            "left": null,
            "margin": null,
            "max_height": null,
            "max_width": null,
            "min_height": null,
            "min_width": null,
            "object_fit": null,
            "object_position": null,
            "order": null,
            "overflow": null,
            "overflow_x": null,
            "overflow_y": null,
            "padding": null,
            "right": null,
            "top": null,
            "visibility": null,
            "width": null
          }
        },
        "cf06c1d93b56457a8e1354ef770978ba": {
          "model_module": "@jupyter-widgets/base",
          "model_name": "LayoutModel",
          "model_module_version": "1.2.0",
          "state": {
            "_model_module": "@jupyter-widgets/base",
            "_model_module_version": "1.2.0",
            "_model_name": "LayoutModel",
            "_view_count": null,
            "_view_module": "@jupyter-widgets/base",
            "_view_module_version": "1.2.0",
            "_view_name": "LayoutView",
            "align_content": null,
            "align_items": null,
            "align_self": null,
            "border": null,
            "bottom": null,
            "display": null,
            "flex": null,
            "flex_flow": null,
            "grid_area": null,
            "grid_auto_columns": null,
            "grid_auto_flow": null,
            "grid_auto_rows": null,
            "grid_column": null,
            "grid_gap": null,
            "grid_row": null,
            "grid_template_areas": null,
            "grid_template_columns": null,
            "grid_template_rows": null,
            "height": null,
            "justify_content": null,
            "justify_items": null,
            "left": null,
            "margin": null,
            "max_height": null,
            "max_width": null,
            "min_height": null,
            "min_width": null,
            "object_fit": null,
            "object_position": null,
            "order": null,
            "overflow": null,
            "overflow_x": null,
            "overflow_y": null,
            "padding": null,
            "right": null,
            "top": null,
            "visibility": null,
            "width": null
          }
        },
        "28444d776d6747f48ab3d34644ff88ff": {
          "model_module": "@jupyter-widgets/controls",
          "model_name": "DescriptionStyleModel",
          "model_module_version": "1.5.0",
          "state": {
            "_model_module": "@jupyter-widgets/controls",
            "_model_module_version": "1.5.0",
            "_model_name": "DescriptionStyleModel",
            "_view_count": null,
            "_view_module": "@jupyter-widgets/base",
            "_view_module_version": "1.2.0",
            "_view_name": "StyleView",
            "description_width": ""
          }
        },
        "32a224e6b49141ebbdd5e6001e466cff": {
          "model_module": "@jupyter-widgets/base",
          "model_name": "LayoutModel",
          "model_module_version": "1.2.0",
          "state": {
            "_model_module": "@jupyter-widgets/base",
            "_model_module_version": "1.2.0",
            "_model_name": "LayoutModel",
            "_view_count": null,
            "_view_module": "@jupyter-widgets/base",
            "_view_module_version": "1.2.0",
            "_view_name": "LayoutView",
            "align_content": null,
            "align_items": null,
            "align_self": null,
            "border": null,
            "bottom": null,
            "display": null,
            "flex": null,
            "flex_flow": null,
            "grid_area": null,
            "grid_auto_columns": null,
            "grid_auto_flow": null,
            "grid_auto_rows": null,
            "grid_column": null,
            "grid_gap": null,
            "grid_row": null,
            "grid_template_areas": null,
            "grid_template_columns": null,
            "grid_template_rows": null,
            "height": null,
            "justify_content": null,
            "justify_items": null,
            "left": null,
            "margin": null,
            "max_height": null,
            "max_width": null,
            "min_height": null,
            "min_width": null,
            "object_fit": null,
            "object_position": null,
            "order": null,
            "overflow": null,
            "overflow_x": null,
            "overflow_y": null,
            "padding": null,
            "right": null,
            "top": null,
            "visibility": null,
            "width": null
          }
        },
        "00a33404015246bcb3937a011e5a3c4e": {
          "model_module": "@jupyter-widgets/controls",
          "model_name": "ProgressStyleModel",
          "model_module_version": "1.5.0",
          "state": {
            "_model_module": "@jupyter-widgets/controls",
            "_model_module_version": "1.5.0",
            "_model_name": "ProgressStyleModel",
            "_view_count": null,
            "_view_module": "@jupyter-widgets/base",
            "_view_module_version": "1.2.0",
            "_view_name": "StyleView",
            "bar_color": null,
            "description_width": ""
          }
        },
        "7592b2424ce843f3a18f5617163b39e3": {
          "model_module": "@jupyter-widgets/controls",
          "model_name": "VBoxModel",
          "model_module_version": "1.5.0",
          "state": {
            "_dom_classes": [],
            "_model_module": "@jupyter-widgets/controls",
            "_model_module_version": "1.5.0",
            "_model_name": "VBoxModel",
            "_view_count": null,
            "_view_module": "@jupyter-widgets/controls",
            "_view_module_version": "1.5.0",
            "_view_name": "VBoxView",
            "box_style": "",
            "children": [
              "IPY_MODEL_ec61c2ed932b40619057259b7d7a8868",
              "IPY_MODEL_f90f44df615f4a29bef23e3842685bb6"
            ],
            "layout": "IPY_MODEL_391f743d87f14dadb6f7d257dca006e8"
          }
        },
        "ec61c2ed932b40619057259b7d7a8868": {
          "model_module": "@jupyter-widgets/controls",
          "model_name": "LabelModel",
          "model_module_version": "1.5.0",
          "state": {
            "_dom_classes": [],
            "_model_module": "@jupyter-widgets/controls",
            "_model_module_version": "1.5.0",
            "_model_name": "LabelModel",
            "_view_count": null,
            "_view_module": "@jupyter-widgets/controls",
            "_view_module_version": "1.5.0",
            "_view_name": "LabelView",
            "description": "",
            "description_tooltip": null,
            "layout": "IPY_MODEL_40670cdb101442049bb472687d3ea32c",
            "placeholder": "​",
            "style": "IPY_MODEL_3a69e55527e6450ba7b6ae657d7eba65",
            "value": "Waiting for wandb.init()...\r"
          }
        },
        "f90f44df615f4a29bef23e3842685bb6": {
          "model_module": "@jupyter-widgets/controls",
          "model_name": "FloatProgressModel",
          "model_module_version": "1.5.0",
          "state": {
            "_dom_classes": [],
            "_model_module": "@jupyter-widgets/controls",
            "_model_module_version": "1.5.0",
            "_model_name": "FloatProgressModel",
            "_view_count": null,
            "_view_module": "@jupyter-widgets/controls",
            "_view_module_version": "1.5.0",
            "_view_name": "ProgressView",
            "bar_style": "",
            "description": "",
            "description_tooltip": null,
            "layout": "IPY_MODEL_cd22dabc87ed4e58be3ca114bc66230b",
            "max": 1,
            "min": 0,
            "orientation": "horizontal",
            "style": "IPY_MODEL_6cb3eb7c1f4d4d38b2bc4abac2908136",
            "value": 1
          }
        },
        "391f743d87f14dadb6f7d257dca006e8": {
          "model_module": "@jupyter-widgets/base",
          "model_name": "LayoutModel",
          "model_module_version": "1.2.0",
          "state": {
            "_model_module": "@jupyter-widgets/base",
            "_model_module_version": "1.2.0",
            "_model_name": "LayoutModel",
            "_view_count": null,
            "_view_module": "@jupyter-widgets/base",
            "_view_module_version": "1.2.0",
            "_view_name": "LayoutView",
            "align_content": null,
            "align_items": null,
            "align_self": null,
            "border": null,
            "bottom": null,
            "display": null,
            "flex": null,
            "flex_flow": null,
            "grid_area": null,
            "grid_auto_columns": null,
            "grid_auto_flow": null,
            "grid_auto_rows": null,
            "grid_column": null,
            "grid_gap": null,
            "grid_row": null,
            "grid_template_areas": null,
            "grid_template_columns": null,
            "grid_template_rows": null,
            "height": null,
            "justify_content": null,
            "justify_items": null,
            "left": null,
            "margin": null,
            "max_height": null,
            "max_width": null,
            "min_height": null,
            "min_width": null,
            "object_fit": null,
            "object_position": null,
            "order": null,
            "overflow": null,
            "overflow_x": null,
            "overflow_y": null,
            "padding": null,
            "right": null,
            "top": null,
            "visibility": null,
            "width": null
          }
        },
        "40670cdb101442049bb472687d3ea32c": {
          "model_module": "@jupyter-widgets/base",
          "model_name": "LayoutModel",
          "model_module_version": "1.2.0",
          "state": {
            "_model_module": "@jupyter-widgets/base",
            "_model_module_version": "1.2.0",
            "_model_name": "LayoutModel",
            "_view_count": null,
            "_view_module": "@jupyter-widgets/base",
            "_view_module_version": "1.2.0",
            "_view_name": "LayoutView",
            "align_content": null,
            "align_items": null,
            "align_self": null,
            "border": null,
            "bottom": null,
            "display": null,
            "flex": null,
            "flex_flow": null,
            "grid_area": null,
            "grid_auto_columns": null,
            "grid_auto_flow": null,
            "grid_auto_rows": null,
            "grid_column": null,
            "grid_gap": null,
            "grid_row": null,
            "grid_template_areas": null,
            "grid_template_columns": null,
            "grid_template_rows": null,
            "height": null,
            "justify_content": null,
            "justify_items": null,
            "left": null,
            "margin": null,
            "max_height": null,
            "max_width": null,
            "min_height": null,
            "min_width": null,
            "object_fit": null,
            "object_position": null,
            "order": null,
            "overflow": null,
            "overflow_x": null,
            "overflow_y": null,
            "padding": null,
            "right": null,
            "top": null,
            "visibility": null,
            "width": null
          }
        },
        "3a69e55527e6450ba7b6ae657d7eba65": {
          "model_module": "@jupyter-widgets/controls",
          "model_name": "DescriptionStyleModel",
          "model_module_version": "1.5.0",
          "state": {
            "_model_module": "@jupyter-widgets/controls",
            "_model_module_version": "1.5.0",
            "_model_name": "DescriptionStyleModel",
            "_view_count": null,
            "_view_module": "@jupyter-widgets/base",
            "_view_module_version": "1.2.0",
            "_view_name": "StyleView",
            "description_width": ""
          }
        },
        "cd22dabc87ed4e58be3ca114bc66230b": {
          "model_module": "@jupyter-widgets/base",
          "model_name": "LayoutModel",
          "model_module_version": "1.2.0",
          "state": {
            "_model_module": "@jupyter-widgets/base",
            "_model_module_version": "1.2.0",
            "_model_name": "LayoutModel",
            "_view_count": null,
            "_view_module": "@jupyter-widgets/base",
            "_view_module_version": "1.2.0",
            "_view_name": "LayoutView",
            "align_content": null,
            "align_items": null,
            "align_self": null,
            "border": null,
            "bottom": null,
            "display": null,
            "flex": null,
            "flex_flow": null,
            "grid_area": null,
            "grid_auto_columns": null,
            "grid_auto_flow": null,
            "grid_auto_rows": null,
            "grid_column": null,
            "grid_gap": null,
            "grid_row": null,
            "grid_template_areas": null,
            "grid_template_columns": null,
            "grid_template_rows": null,
            "height": null,
            "justify_content": null,
            "justify_items": null,
            "left": null,
            "margin": null,
            "max_height": null,
            "max_width": null,
            "min_height": null,
            "min_width": null,
            "object_fit": null,
            "object_position": null,
            "order": null,
            "overflow": null,
            "overflow_x": null,
            "overflow_y": null,
            "padding": null,
            "right": null,
            "top": null,
            "visibility": null,
            "width": null
          }
        },
        "6cb3eb7c1f4d4d38b2bc4abac2908136": {
          "model_module": "@jupyter-widgets/controls",
          "model_name": "ProgressStyleModel",
          "model_module_version": "1.5.0",
          "state": {
            "_model_module": "@jupyter-widgets/controls",
            "_model_module_version": "1.5.0",
            "_model_name": "ProgressStyleModel",
            "_view_count": null,
            "_view_module": "@jupyter-widgets/base",
            "_view_module_version": "1.2.0",
            "_view_name": "StyleView",
            "bar_color": null,
            "description_width": ""
          }
        },
        "7cca19ec44104da186671d2b18e990ac": {
          "model_module": "@jupyter-widgets/controls",
          "model_name": "VBoxModel",
          "model_module_version": "1.5.0",
          "state": {
            "_dom_classes": [],
            "_model_module": "@jupyter-widgets/controls",
            "_model_module_version": "1.5.0",
            "_model_name": "VBoxModel",
            "_view_count": null,
            "_view_module": "@jupyter-widgets/controls",
            "_view_module_version": "1.5.0",
            "_view_name": "VBoxView",
            "box_style": "",
            "children": [
              "IPY_MODEL_6109c3878b9246d8b9636d1b8a7356b0",
              "IPY_MODEL_851530c21fa8414c9946d7e39fa64d8a"
            ],
            "layout": "IPY_MODEL_d9900590bde74e47ae05048b229666c7"
          }
        },
        "6109c3878b9246d8b9636d1b8a7356b0": {
          "model_module": "@jupyter-widgets/controls",
          "model_name": "LabelModel",
          "model_module_version": "1.5.0",
          "state": {
            "_dom_classes": [],
            "_model_module": "@jupyter-widgets/controls",
            "_model_module_version": "1.5.0",
            "_model_name": "LabelModel",
            "_view_count": null,
            "_view_module": "@jupyter-widgets/controls",
            "_view_module_version": "1.5.0",
            "_view_name": "LabelView",
            "description": "",
            "description_tooltip": null,
            "layout": "IPY_MODEL_46d71f4e864043168af6626dd5e31f87",
            "placeholder": "​",
            "style": "IPY_MODEL_eb184ca1c5594a4385a9042a4246f6fb",
            "value": "Waiting for wandb.init()...\r"
          }
        },
        "851530c21fa8414c9946d7e39fa64d8a": {
          "model_module": "@jupyter-widgets/controls",
          "model_name": "FloatProgressModel",
          "model_module_version": "1.5.0",
          "state": {
            "_dom_classes": [],
            "_model_module": "@jupyter-widgets/controls",
            "_model_module_version": "1.5.0",
            "_model_name": "FloatProgressModel",
            "_view_count": null,
            "_view_module": "@jupyter-widgets/controls",
            "_view_module_version": "1.5.0",
            "_view_name": "ProgressView",
            "bar_style": "",
            "description": "",
            "description_tooltip": null,
            "layout": "IPY_MODEL_d7bead6c61f14b35b95fd0e3577bb7e6",
            "max": 1,
            "min": 0,
            "orientation": "horizontal",
            "style": "IPY_MODEL_75584978721741da89c389ee70ca4ab5",
            "value": 1
          }
        },
        "d9900590bde74e47ae05048b229666c7": {
          "model_module": "@jupyter-widgets/base",
          "model_name": "LayoutModel",
          "model_module_version": "1.2.0",
          "state": {
            "_model_module": "@jupyter-widgets/base",
            "_model_module_version": "1.2.0",
            "_model_name": "LayoutModel",
            "_view_count": null,
            "_view_module": "@jupyter-widgets/base",
            "_view_module_version": "1.2.0",
            "_view_name": "LayoutView",
            "align_content": null,
            "align_items": null,
            "align_self": null,
            "border": null,
            "bottom": null,
            "display": null,
            "flex": null,
            "flex_flow": null,
            "grid_area": null,
            "grid_auto_columns": null,
            "grid_auto_flow": null,
            "grid_auto_rows": null,
            "grid_column": null,
            "grid_gap": null,
            "grid_row": null,
            "grid_template_areas": null,
            "grid_template_columns": null,
            "grid_template_rows": null,
            "height": null,
            "justify_content": null,
            "justify_items": null,
            "left": null,
            "margin": null,
            "max_height": null,
            "max_width": null,
            "min_height": null,
            "min_width": null,
            "object_fit": null,
            "object_position": null,
            "order": null,
            "overflow": null,
            "overflow_x": null,
            "overflow_y": null,
            "padding": null,
            "right": null,
            "top": null,
            "visibility": null,
            "width": null
          }
        },
        "46d71f4e864043168af6626dd5e31f87": {
          "model_module": "@jupyter-widgets/base",
          "model_name": "LayoutModel",
          "model_module_version": "1.2.0",
          "state": {
            "_model_module": "@jupyter-widgets/base",
            "_model_module_version": "1.2.0",
            "_model_name": "LayoutModel",
            "_view_count": null,
            "_view_module": "@jupyter-widgets/base",
            "_view_module_version": "1.2.0",
            "_view_name": "LayoutView",
            "align_content": null,
            "align_items": null,
            "align_self": null,
            "border": null,
            "bottom": null,
            "display": null,
            "flex": null,
            "flex_flow": null,
            "grid_area": null,
            "grid_auto_columns": null,
            "grid_auto_flow": null,
            "grid_auto_rows": null,
            "grid_column": null,
            "grid_gap": null,
            "grid_row": null,
            "grid_template_areas": null,
            "grid_template_columns": null,
            "grid_template_rows": null,
            "height": null,
            "justify_content": null,
            "justify_items": null,
            "left": null,
            "margin": null,
            "max_height": null,
            "max_width": null,
            "min_height": null,
            "min_width": null,
            "object_fit": null,
            "object_position": null,
            "order": null,
            "overflow": null,
            "overflow_x": null,
            "overflow_y": null,
            "padding": null,
            "right": null,
            "top": null,
            "visibility": null,
            "width": null
          }
        },
        "eb184ca1c5594a4385a9042a4246f6fb": {
          "model_module": "@jupyter-widgets/controls",
          "model_name": "DescriptionStyleModel",
          "model_module_version": "1.5.0",
          "state": {
            "_model_module": "@jupyter-widgets/controls",
            "_model_module_version": "1.5.0",
            "_model_name": "DescriptionStyleModel",
            "_view_count": null,
            "_view_module": "@jupyter-widgets/base",
            "_view_module_version": "1.2.0",
            "_view_name": "StyleView",
            "description_width": ""
          }
        },
        "d7bead6c61f14b35b95fd0e3577bb7e6": {
          "model_module": "@jupyter-widgets/base",
          "model_name": "LayoutModel",
          "model_module_version": "1.2.0",
          "state": {
            "_model_module": "@jupyter-widgets/base",
            "_model_module_version": "1.2.0",
            "_model_name": "LayoutModel",
            "_view_count": null,
            "_view_module": "@jupyter-widgets/base",
            "_view_module_version": "1.2.0",
            "_view_name": "LayoutView",
            "align_content": null,
            "align_items": null,
            "align_self": null,
            "border": null,
            "bottom": null,
            "display": null,
            "flex": null,
            "flex_flow": null,
            "grid_area": null,
            "grid_auto_columns": null,
            "grid_auto_flow": null,
            "grid_auto_rows": null,
            "grid_column": null,
            "grid_gap": null,
            "grid_row": null,
            "grid_template_areas": null,
            "grid_template_columns": null,
            "grid_template_rows": null,
            "height": null,
            "justify_content": null,
            "justify_items": null,
            "left": null,
            "margin": null,
            "max_height": null,
            "max_width": null,
            "min_height": null,
            "min_width": null,
            "object_fit": null,
            "object_position": null,
            "order": null,
            "overflow": null,
            "overflow_x": null,
            "overflow_y": null,
            "padding": null,
            "right": null,
            "top": null,
            "visibility": null,
            "width": null
          }
        },
        "75584978721741da89c389ee70ca4ab5": {
          "model_module": "@jupyter-widgets/controls",
          "model_name": "ProgressStyleModel",
          "model_module_version": "1.5.0",
          "state": {
            "_model_module": "@jupyter-widgets/controls",
            "_model_module_version": "1.5.0",
            "_model_name": "ProgressStyleModel",
            "_view_count": null,
            "_view_module": "@jupyter-widgets/base",
            "_view_module_version": "1.2.0",
            "_view_name": "StyleView",
            "bar_color": null,
            "description_width": ""
          }
        },
        "89c5c6d98c4d4654b3bdc3970495a5a7": {
          "model_module": "@jupyter-widgets/controls",
          "model_name": "VBoxModel",
          "model_module_version": "1.5.0",
          "state": {
            "_dom_classes": [],
            "_model_module": "@jupyter-widgets/controls",
            "_model_module_version": "1.5.0",
            "_model_name": "VBoxModel",
            "_view_count": null,
            "_view_module": "@jupyter-widgets/controls",
            "_view_module_version": "1.5.0",
            "_view_name": "VBoxView",
            "box_style": "",
            "children": [
              "IPY_MODEL_3152fab876074c70bbc6b3016c8aad71",
              "IPY_MODEL_8cc4a06769c242db803a1119a9329e32"
            ],
            "layout": "IPY_MODEL_23156cdf12574c86984164546c53aa01"
          }
        },
        "3152fab876074c70bbc6b3016c8aad71": {
          "model_module": "@jupyter-widgets/controls",
          "model_name": "LabelModel",
          "model_module_version": "1.5.0",
          "state": {
            "_dom_classes": [],
            "_model_module": "@jupyter-widgets/controls",
            "_model_module_version": "1.5.0",
            "_model_name": "LabelModel",
            "_view_count": null,
            "_view_module": "@jupyter-widgets/controls",
            "_view_module_version": "1.5.0",
            "_view_name": "LabelView",
            "description": "",
            "description_tooltip": null,
            "layout": "IPY_MODEL_12ac9b1222d54bfba6a5b99d4f35c688",
            "placeholder": "​",
            "style": "IPY_MODEL_bcbd6b29ae3f4985a1081f9a145cf520",
            "value": "0.028 MB of 0.028 MB uploaded\r"
          }
        },
        "8cc4a06769c242db803a1119a9329e32": {
          "model_module": "@jupyter-widgets/controls",
          "model_name": "FloatProgressModel",
          "model_module_version": "1.5.0",
          "state": {
            "_dom_classes": [],
            "_model_module": "@jupyter-widgets/controls",
            "_model_module_version": "1.5.0",
            "_model_name": "FloatProgressModel",
            "_view_count": null,
            "_view_module": "@jupyter-widgets/controls",
            "_view_module_version": "1.5.0",
            "_view_name": "ProgressView",
            "bar_style": "",
            "description": "",
            "description_tooltip": null,
            "layout": "IPY_MODEL_bea9a3e55a484b5590e98d1167bd2bf3",
            "max": 1,
            "min": 0,
            "orientation": "horizontal",
            "style": "IPY_MODEL_d8739da318464dd19d5ca8095539328d",
            "value": 1
          }
        },
        "23156cdf12574c86984164546c53aa01": {
          "model_module": "@jupyter-widgets/base",
          "model_name": "LayoutModel",
          "model_module_version": "1.2.0",
          "state": {
            "_model_module": "@jupyter-widgets/base",
            "_model_module_version": "1.2.0",
            "_model_name": "LayoutModel",
            "_view_count": null,
            "_view_module": "@jupyter-widgets/base",
            "_view_module_version": "1.2.0",
            "_view_name": "LayoutView",
            "align_content": null,
            "align_items": null,
            "align_self": null,
            "border": null,
            "bottom": null,
            "display": null,
            "flex": null,
            "flex_flow": null,
            "grid_area": null,
            "grid_auto_columns": null,
            "grid_auto_flow": null,
            "grid_auto_rows": null,
            "grid_column": null,
            "grid_gap": null,
            "grid_row": null,
            "grid_template_areas": null,
            "grid_template_columns": null,
            "grid_template_rows": null,
            "height": null,
            "justify_content": null,
            "justify_items": null,
            "left": null,
            "margin": null,
            "max_height": null,
            "max_width": null,
            "min_height": null,
            "min_width": null,
            "object_fit": null,
            "object_position": null,
            "order": null,
            "overflow": null,
            "overflow_x": null,
            "overflow_y": null,
            "padding": null,
            "right": null,
            "top": null,
            "visibility": null,
            "width": null
          }
        },
        "12ac9b1222d54bfba6a5b99d4f35c688": {
          "model_module": "@jupyter-widgets/base",
          "model_name": "LayoutModel",
          "model_module_version": "1.2.0",
          "state": {
            "_model_module": "@jupyter-widgets/base",
            "_model_module_version": "1.2.0",
            "_model_name": "LayoutModel",
            "_view_count": null,
            "_view_module": "@jupyter-widgets/base",
            "_view_module_version": "1.2.0",
            "_view_name": "LayoutView",
            "align_content": null,
            "align_items": null,
            "align_self": null,
            "border": null,
            "bottom": null,
            "display": null,
            "flex": null,
            "flex_flow": null,
            "grid_area": null,
            "grid_auto_columns": null,
            "grid_auto_flow": null,
            "grid_auto_rows": null,
            "grid_column": null,
            "grid_gap": null,
            "grid_row": null,
            "grid_template_areas": null,
            "grid_template_columns": null,
            "grid_template_rows": null,
            "height": null,
            "justify_content": null,
            "justify_items": null,
            "left": null,
            "margin": null,
            "max_height": null,
            "max_width": null,
            "min_height": null,
            "min_width": null,
            "object_fit": null,
            "object_position": null,
            "order": null,
            "overflow": null,
            "overflow_x": null,
            "overflow_y": null,
            "padding": null,
            "right": null,
            "top": null,
            "visibility": null,
            "width": null
          }
        },
        "bcbd6b29ae3f4985a1081f9a145cf520": {
          "model_module": "@jupyter-widgets/controls",
          "model_name": "DescriptionStyleModel",
          "model_module_version": "1.5.0",
          "state": {
            "_model_module": "@jupyter-widgets/controls",
            "_model_module_version": "1.5.0",
            "_model_name": "DescriptionStyleModel",
            "_view_count": null,
            "_view_module": "@jupyter-widgets/base",
            "_view_module_version": "1.2.0",
            "_view_name": "StyleView",
            "description_width": ""
          }
        },
        "bea9a3e55a484b5590e98d1167bd2bf3": {
          "model_module": "@jupyter-widgets/base",
          "model_name": "LayoutModel",
          "model_module_version": "1.2.0",
          "state": {
            "_model_module": "@jupyter-widgets/base",
            "_model_module_version": "1.2.0",
            "_model_name": "LayoutModel",
            "_view_count": null,
            "_view_module": "@jupyter-widgets/base",
            "_view_module_version": "1.2.0",
            "_view_name": "LayoutView",
            "align_content": null,
            "align_items": null,
            "align_self": null,
            "border": null,
            "bottom": null,
            "display": null,
            "flex": null,
            "flex_flow": null,
            "grid_area": null,
            "grid_auto_columns": null,
            "grid_auto_flow": null,
            "grid_auto_rows": null,
            "grid_column": null,
            "grid_gap": null,
            "grid_row": null,
            "grid_template_areas": null,
            "grid_template_columns": null,
            "grid_template_rows": null,
            "height": null,
            "justify_content": null,
            "justify_items": null,
            "left": null,
            "margin": null,
            "max_height": null,
            "max_width": null,
            "min_height": null,
            "min_width": null,
            "object_fit": null,
            "object_position": null,
            "order": null,
            "overflow": null,
            "overflow_x": null,
            "overflow_y": null,
            "padding": null,
            "right": null,
            "top": null,
            "visibility": null,
            "width": null
          }
        },
        "d8739da318464dd19d5ca8095539328d": {
          "model_module": "@jupyter-widgets/controls",
          "model_name": "ProgressStyleModel",
          "model_module_version": "1.5.0",
          "state": {
            "_model_module": "@jupyter-widgets/controls",
            "_model_module_version": "1.5.0",
            "_model_name": "ProgressStyleModel",
            "_view_count": null,
            "_view_module": "@jupyter-widgets/base",
            "_view_module_version": "1.2.0",
            "_view_name": "StyleView",
            "bar_color": null,
            "description_width": ""
          }
        },
        "8a5beb7141a74afdbfa10d3ad2aa5004": {
          "model_module": "@jupyter-widgets/controls",
          "model_name": "VBoxModel",
          "model_module_version": "1.5.0",
          "state": {
            "_dom_classes": [],
            "_model_module": "@jupyter-widgets/controls",
            "_model_module_version": "1.5.0",
            "_model_name": "VBoxModel",
            "_view_count": null,
            "_view_module": "@jupyter-widgets/controls",
            "_view_module_version": "1.5.0",
            "_view_name": "VBoxView",
            "box_style": "",
            "children": [
              "IPY_MODEL_3ac402a29c654d38b2f25c6b7fa7d139",
              "IPY_MODEL_548fbbdd80f2401cab737d0cb3c0bd52"
            ],
            "layout": "IPY_MODEL_a0b8b9e71a5d4b558c5613c4c9fc9b42"
          }
        },
        "3ac402a29c654d38b2f25c6b7fa7d139": {
          "model_module": "@jupyter-widgets/controls",
          "model_name": "LabelModel",
          "model_module_version": "1.5.0",
          "state": {
            "_dom_classes": [],
            "_model_module": "@jupyter-widgets/controls",
            "_model_module_version": "1.5.0",
            "_model_name": "LabelModel",
            "_view_count": null,
            "_view_module": "@jupyter-widgets/controls",
            "_view_module_version": "1.5.0",
            "_view_name": "LabelView",
            "description": "",
            "description_tooltip": null,
            "layout": "IPY_MODEL_8221078d81a84f198ed9de25e574ce1e",
            "placeholder": "​",
            "style": "IPY_MODEL_2a8e941fd2bf42098f8940da8eb0483c",
            "value": "Waiting for wandb.init()...\r"
          }
        },
        "548fbbdd80f2401cab737d0cb3c0bd52": {
          "model_module": "@jupyter-widgets/controls",
          "model_name": "FloatProgressModel",
          "model_module_version": "1.5.0",
          "state": {
            "_dom_classes": [],
            "_model_module": "@jupyter-widgets/controls",
            "_model_module_version": "1.5.0",
            "_model_name": "FloatProgressModel",
            "_view_count": null,
            "_view_module": "@jupyter-widgets/controls",
            "_view_module_version": "1.5.0",
            "_view_name": "ProgressView",
            "bar_style": "",
            "description": "",
            "description_tooltip": null,
            "layout": "IPY_MODEL_5fc00ae98fe14597930361e1c6c95421",
            "max": 1,
            "min": 0,
            "orientation": "horizontal",
            "style": "IPY_MODEL_2707ddc54dcc446089ee24ad75e9e220",
            "value": 1
          }
        },
        "a0b8b9e71a5d4b558c5613c4c9fc9b42": {
          "model_module": "@jupyter-widgets/base",
          "model_name": "LayoutModel",
          "model_module_version": "1.2.0",
          "state": {
            "_model_module": "@jupyter-widgets/base",
            "_model_module_version": "1.2.0",
            "_model_name": "LayoutModel",
            "_view_count": null,
            "_view_module": "@jupyter-widgets/base",
            "_view_module_version": "1.2.0",
            "_view_name": "LayoutView",
            "align_content": null,
            "align_items": null,
            "align_self": null,
            "border": null,
            "bottom": null,
            "display": null,
            "flex": null,
            "flex_flow": null,
            "grid_area": null,
            "grid_auto_columns": null,
            "grid_auto_flow": null,
            "grid_auto_rows": null,
            "grid_column": null,
            "grid_gap": null,
            "grid_row": null,
            "grid_template_areas": null,
            "grid_template_columns": null,
            "grid_template_rows": null,
            "height": null,
            "justify_content": null,
            "justify_items": null,
            "left": null,
            "margin": null,
            "max_height": null,
            "max_width": null,
            "min_height": null,
            "min_width": null,
            "object_fit": null,
            "object_position": null,
            "order": null,
            "overflow": null,
            "overflow_x": null,
            "overflow_y": null,
            "padding": null,
            "right": null,
            "top": null,
            "visibility": null,
            "width": null
          }
        },
        "8221078d81a84f198ed9de25e574ce1e": {
          "model_module": "@jupyter-widgets/base",
          "model_name": "LayoutModel",
          "model_module_version": "1.2.0",
          "state": {
            "_model_module": "@jupyter-widgets/base",
            "_model_module_version": "1.2.0",
            "_model_name": "LayoutModel",
            "_view_count": null,
            "_view_module": "@jupyter-widgets/base",
            "_view_module_version": "1.2.0",
            "_view_name": "LayoutView",
            "align_content": null,
            "align_items": null,
            "align_self": null,
            "border": null,
            "bottom": null,
            "display": null,
            "flex": null,
            "flex_flow": null,
            "grid_area": null,
            "grid_auto_columns": null,
            "grid_auto_flow": null,
            "grid_auto_rows": null,
            "grid_column": null,
            "grid_gap": null,
            "grid_row": null,
            "grid_template_areas": null,
            "grid_template_columns": null,
            "grid_template_rows": null,
            "height": null,
            "justify_content": null,
            "justify_items": null,
            "left": null,
            "margin": null,
            "max_height": null,
            "max_width": null,
            "min_height": null,
            "min_width": null,
            "object_fit": null,
            "object_position": null,
            "order": null,
            "overflow": null,
            "overflow_x": null,
            "overflow_y": null,
            "padding": null,
            "right": null,
            "top": null,
            "visibility": null,
            "width": null
          }
        },
        "2a8e941fd2bf42098f8940da8eb0483c": {
          "model_module": "@jupyter-widgets/controls",
          "model_name": "DescriptionStyleModel",
          "model_module_version": "1.5.0",
          "state": {
            "_model_module": "@jupyter-widgets/controls",
            "_model_module_version": "1.5.0",
            "_model_name": "DescriptionStyleModel",
            "_view_count": null,
            "_view_module": "@jupyter-widgets/base",
            "_view_module_version": "1.2.0",
            "_view_name": "StyleView",
            "description_width": ""
          }
        },
        "5fc00ae98fe14597930361e1c6c95421": {
          "model_module": "@jupyter-widgets/base",
          "model_name": "LayoutModel",
          "model_module_version": "1.2.0",
          "state": {
            "_model_module": "@jupyter-widgets/base",
            "_model_module_version": "1.2.0",
            "_model_name": "LayoutModel",
            "_view_count": null,
            "_view_module": "@jupyter-widgets/base",
            "_view_module_version": "1.2.0",
            "_view_name": "LayoutView",
            "align_content": null,
            "align_items": null,
            "align_self": null,
            "border": null,
            "bottom": null,
            "display": null,
            "flex": null,
            "flex_flow": null,
            "grid_area": null,
            "grid_auto_columns": null,
            "grid_auto_flow": null,
            "grid_auto_rows": null,
            "grid_column": null,
            "grid_gap": null,
            "grid_row": null,
            "grid_template_areas": null,
            "grid_template_columns": null,
            "grid_template_rows": null,
            "height": null,
            "justify_content": null,
            "justify_items": null,
            "left": null,
            "margin": null,
            "max_height": null,
            "max_width": null,
            "min_height": null,
            "min_width": null,
            "object_fit": null,
            "object_position": null,
            "order": null,
            "overflow": null,
            "overflow_x": null,
            "overflow_y": null,
            "padding": null,
            "right": null,
            "top": null,
            "visibility": null,
            "width": null
          }
        },
        "2707ddc54dcc446089ee24ad75e9e220": {
          "model_module": "@jupyter-widgets/controls",
          "model_name": "ProgressStyleModel",
          "model_module_version": "1.5.0",
          "state": {
            "_model_module": "@jupyter-widgets/controls",
            "_model_module_version": "1.5.0",
            "_model_name": "ProgressStyleModel",
            "_view_count": null,
            "_view_module": "@jupyter-widgets/base",
            "_view_module_version": "1.2.0",
            "_view_name": "StyleView",
            "bar_color": null,
            "description_width": ""
          }
        }
      }
    },
    "accelerator": "GPU"
  },
  "cells": [
    {
      "cell_type": "markdown",
      "metadata": {
        "id": "view-in-github",
        "colab_type": "text"
      },
      "source": [
        "<a href=\"https://colab.research.google.com/github/VrijKun/CS6910_Assignement_3/blob/main/DL_Assignement_3.ipynb\" target=\"_parent\"><img src=\"https://colab.research.google.com/assets/colab-badge.svg\" alt=\"Open In Colab\"/></a>"
      ]
    },
    {
      "cell_type": "code",
      "source": [
        "!nvidia-smi\n"
      ],
      "metadata": {
        "colab": {
          "base_uri": "https://localhost:8080/"
        },
        "id": "9lHT4qEMQnyv",
        "outputId": "0f69b80f-3ac2-4e67-e021-b1c3dc138d5b"
      },
      "execution_count": 1,
      "outputs": [
        {
          "output_type": "stream",
          "name": "stdout",
          "text": [
            "Fri May 17 11:08:00 2024       \n",
            "+---------------------------------------------------------------------------------------+\n",
            "| NVIDIA-SMI 535.104.05             Driver Version: 535.104.05   CUDA Version: 12.2     |\n",
            "|-----------------------------------------+----------------------+----------------------+\n",
            "| GPU  Name                 Persistence-M | Bus-Id        Disp.A | Volatile Uncorr. ECC |\n",
            "| Fan  Temp   Perf          Pwr:Usage/Cap |         Memory-Usage | GPU-Util  Compute M. |\n",
            "|                                         |                      |               MIG M. |\n",
            "|=========================================+======================+======================|\n",
            "|   0  Tesla T4                       Off | 00000000:00:04.0 Off |                    0 |\n",
            "| N/A   48C    P8               9W /  70W |      0MiB / 15360MiB |      0%      Default |\n",
            "|                                         |                      |                  N/A |\n",
            "+-----------------------------------------+----------------------+----------------------+\n",
            "                                                                                         \n",
            "+---------------------------------------------------------------------------------------+\n",
            "| Processes:                                                                            |\n",
            "|  GPU   GI   CI        PID   Type   Process name                            GPU Memory |\n",
            "|        ID   ID                                                             Usage      |\n",
            "|=======================================================================================|\n",
            "|  No running processes found                                                           |\n",
            "+---------------------------------------------------------------------------------------+\n"
          ]
        }
      ]
    },
    {
      "cell_type": "code",
      "source": [
        "# Run while using google Collab\n",
        "!yes | wget \"https://drive.google.com/drive/folders/1tmm5HT2Zwj-4vDZzRFc4Av4KoWHYowoG?usp=sharing\""
      ],
      "metadata": {
        "id": "DNTkPBjP9dlM",
        "colab": {
          "base_uri": "https://localhost:8080/"
        },
        "outputId": "b0c6a4df-ba16-4020-e724-ffa3f12b8a0d"
      },
      "execution_count": 2,
      "outputs": [
        {
          "output_type": "stream",
          "name": "stdout",
          "text": [
            "--2024-05-17 11:08:02--  https://drive.google.com/drive/folders/1tmm5HT2Zwj-4vDZzRFc4Av4KoWHYowoG?usp=sharing\n",
            "Resolving drive.google.com (drive.google.com)... 142.250.101.113, 142.250.101.102, 142.250.101.101, ...\n",
            "Connecting to drive.google.com (drive.google.com)|142.250.101.113|:443... connected.\n",
            "HTTP request sent, awaiting response... 200 OK\n",
            "Length: unspecified [text/html]\n",
            "Saving to: ‘1tmm5HT2Zwj-4vDZzRFc4Av4KoWHYowoG?usp=sharing’\n",
            "\n",
            "1tmm5HT2Zwj-4vDZzRF     [ <=>                ] 401.37K  2.39MB/s    in 0.2s    \n",
            "\n",
            "2024-05-17 11:08:03 (2.39 MB/s) - ‘1tmm5HT2Zwj-4vDZzRFc4Av4KoWHYowoG?usp=sharing’ saved [411003]\n",
            "\n"
          ]
        }
      ]
    },
    {
      "cell_type": "code",
      "source": [
        "# Run while using google Collab\n",
        "from google.colab import drive\n",
        "drive.mount('/content/drive')\n"
      ],
      "metadata": {
        "colab": {
          "base_uri": "https://localhost:8080/"
        },
        "id": "6vIU8i0W7h5V",
        "outputId": "71bd2fb8-62be-46d3-ec24-12ce6abc1eb5"
      },
      "execution_count": 3,
      "outputs": [
        {
          "output_type": "stream",
          "name": "stdout",
          "text": [
            "Mounted at /content/drive\n"
          ]
        }
      ]
    },
    {
      "cell_type": "code",
      "source": [
        "# Run while using google Collab\n",
        "\n",
        "import pandas as pds\n",
        "\n",
        "# function for loading data\n",
        "def dt_ld(path):\n",
        "  with open(path) as fil :\n",
        "    dt = pds.read_csv(fil,sep=',',header=None,names=[\"eng\",\"hin\",\"\"],skip_blank_lines=True,index_col=None)\n",
        "  word_data = dt[dt['eng'].notna()]\n",
        "  word_data = dt[dt['hin'].notna()]\n",
        "  word_data = dt[['eng', 'hin']]\n",
        "  return word_data\n",
        "\n",
        "# You'll need to shange the path here based on the path you have saved data.\n",
        "train_data = dt_ld(\"/content/drive/MyDrive/aksharantar_sampled/hin/hin_train.csv\")\n",
        "valid_data = dt_ld(\"/content/drive/MyDrive/aksharantar_sampled/hin/hin_valid.csv\")\n",
        "test_data = dt_ld(\"/content/drive/MyDrive/aksharantar_sampled/hin/hin_test.csv\")\n",
        "\n",
        "print(test_data)\n",
        "# Saving the data in CSV's again in list form\n",
        "test_hin = list(test_data['hin'])\n",
        "test_eng = list(test_data['eng'])\n",
        "\n",
        "# Some visualization of data\n",
        "print(test_eng)\n",
        "print(test_hin)\n",
        "print(len(train_data))\n",
        "print(len(valid_data))\n",
        "print(len(test_data))\n",
        "#print(\"test_hindi: \", test_hin)\n",
        "#print(\"test_english: \", test_eng)\n",
        "\n"
      ],
      "metadata": {
        "id": "1d_5GXyE-dLF",
        "colab": {
          "base_uri": "https://localhost:8080/"
        },
        "outputId": "37869673-fb12-4124-e1f8-2318ccacf508"
      },
      "execution_count": 4,
      "outputs": [
        {
          "output_type": "stream",
          "name": "stdout",
          "text": [
            "               eng          hin\n",
            "0          thermax      थरमैक्स\n",
            "1        sikhaaega      सिखाएगा\n",
            "2            learn         लर्न\n",
            "3         twitters     ट्विटर्स\n",
            "4      tirunelveli  तिरुनेलवेली\n",
            "...            ...          ...\n",
            "4091       saflata       सफ़लता\n",
            "4092        shbana        शबाना\n",
            "4093  khaatootolaa     खातूटोला\n",
            "4094    shivastava     शिवास्तव\n",
            "4095  preranapuree  प्रेरणापुरी\n",
            "\n",
            "[4096 rows x 2 columns]\n",
            "['thermax', 'sikhaaega', 'learn', 'twitters', 'tirunelveli', 'independence', 'speshiyon', 'shurooh', 'kolhapur', 'ajhar', 'karaar', 'anka', 'wpd', 'haashie', 'glendale', 'udhed', 'ekthi', 'idea', 'ambikapur', 'makerere', 'saboodaane', 'foohadta', 'sequent', 'shueb', 'panihati', 'sametati', 'ukhrul', 'brahmlin', 'utaraadhikaaree', 'iqbal', 'dayaalapuraa', 'sohrai', 'takreeban', 'farrukhnagar', 'theinga', 'tyoiharon', 'karneshvardhaam', 'umanath', 'daanshil', 'saahityotsav', 'shantiniketan', 'shikayatkarta', 'andarkhane', 'panter', 'leedaron', 'galgand', 'kaarniyaan', 'murgipaalan', 'mushahid', 'modules', 'rajouri', 'sushrushaa', 'shringaar', 'holt', 'laigikata', 'ijaajat', 'vankshetra', 'bhutal', 'swaadpremiyon', 'nineteez', 'frektar', 'likhkar', 'eyarkandeeshnar', 'nabz', 'quess', 'bouni', 'kaaragujaariyaan', 'gaangnam', 'tapia', 'tezpur', 'talve', 'seemaai', 'darshnaarthi', 'rivas', 'tarkvaad', 'anusaarakaa', 'coachella', 'latakakar', 'patravaliyan', 'parishad', 'spinj', 'anshida', 'dejesus', 'saraaymohiuddinpur', 'lowell', 'capacitor', 'passengerjind', 'granthiyon', 'buena', 'canterbury', 'kaathiyavadi', 'tekchandani', 'fisad', 'beraharamee', 'nishkarshah', 'activities', 'rikailleebreshan', 'shasanadhikaariyon', 'fijoolkharchi', 'dablyoopeedee', 'pace', 'dastar', 'catlin', 'joddta', 'killat', 'gruhnagar', 'wonder', 'vatar', 'shving', 'pashtun', 'farm', 'dibanu', 'pashchamee', 'uthapatak', 'nilaabh', 'laxmeeniyaan', 'mahaanagarawaasiyon', 'upneta', 'convention', 'sharp', 'kaaryayojana', 'maas', 'westing', 'kurvetee', 'jyaada', 'mukeshvari', 'shrimati', 'vivekadhikaron', 'loksabhavalee', 'kabahaa', 'bhraantiyon', 'vivekahin', 'balmiki', 'haryana', 'jivraj', 'flynn', 'rana', 'vishnupura', 'ghotaalebaajon', 'hairatangenz', 'takaleephadeh', 'peepaadh', 'dhabhaashaaraa', 'antdiyan', 'robin', 'singar', 'gumshudagi', 'balkrishna', 'phabti', 'palatne', 'lahlahaati', 'nagaada', 'udanen', 'klein', 'juloos', 'karyabhar', 'manto', 'paimaish', 'covina', 'penshan', 'ogastaavestalaind', 'centreeng', 'activa', 'barker', 'valkan', 'vruton', 'kabaddi', 'raunakh', 'caitlyn', 'phoos', 'jangadnaa', 'upakhyaanon', 'sundram', 'cochin', 'neko', 'kaushal', 'phaliya', 'acevedo', 'kottayam', 'dilaaega', 'kurvi', 'saunpengi', 'lekhan', 'gudepu', 'pharase', 'nubiya', 'taja', 'aantrit', 'qazi', 'murgipalan', 'eddy', 'nagine', 'subha', 'luis', 'vijayapuram', 'bataao', 'ochoa', 'science', 'sarkarein', 'bremerton', 'gurupado', 'sanyukt', 'raalod', 'baadhaon', 'gaumutra', 'sabhaen', 'tani', 'delhi', 'suken', 'vineet', 'chimate', 'kikiyana', 'rocket', 'maxwell', 'hippo', 'deepan', 'arymaa', 'bhulata', 'karmaacharee', 'durgapur', 'tribhaashaa', 'soodkhoron', 'prastaavon', 'survin', 'prapti', 'girivaasiyon', 'siducing', 'welwet', 'muqarrar', 'baxter', 'denier', 'cw', 'uthani', 'ghasi', 'ikattha', 'bhupsingh', 'dabochne', 'crosby', 'naameegiraamee', 'hurley', 'jarda', 'liepradhanmantri', 'bhranti', 'agencyyon', 'bago', 'forcee', 'bosaan', 'karki', 'ginate', 'manokaamnaaon', 'sammpattiyaan', 'politheenon', 'mtake', 'parichar', 'badabadee', 'crane', 'laamiyaan', 'ulhasnagar', 'prabhanmantri', 'shiwalapurwa', 'ferth', 'suhagin', 'saraikela', 'romeoville', 'raajsthanvasiyon', 'pratirodhaatmak', 'svarnikaa', 'vyavasthapana', 'tel', 'galatfahmi', 'takeinsider', 'microfiber', 'shreemahapoorn', 'fallujaa', 'donaldson', 'chadhne', 'jeevvigyaaniyon', 'cricketing', 'reduction', 'awaazen', 'wlaad', 'prathmik', 'thenga', 'excel', 'chatakaate', 'kubuddin', 'taaza', 'padani', 'nichaai', 'wausau', 'aalochakon', 'jaljale', 'surat', 'jeevati', 'prahaarak', 'shreesadguru', 'sanchalanon', 'bhal', 'tughlaq', 'uthaapatak', 'hastaantaraneey', 'utsaahawarddhan', 'sangoshtree', 'shaasanadhikariyon', 'mahadhipatiyon', 'fatima', 'fode', 'kantinyoo', 'kaamanaen', 'chutile', 'sankhyaen', 'kranj', 'barsata', 'parikalpit', 'harpal', 'maaoont', 'grover', 'biolozis', 'halisahar', 'angelo', 'janeudharee', 'bichbachaav', 'pokar', 'apvartit', 'aastin', 'pratishthaavaale', 'buenaventura', 'deccan', 'seriw', 'pardaa', 'emile', 'shaili', 'eastvale', 'chhallaa', 'lakshyon', 'hoaf', 'jarurih', 'rahya', 'mahkane', 'devi', 'nielsen', 'bhira', 'chabutare', 'bhushan', 'rukte', 'aamdani', 'talkshow', 'junagadh', 'padhata', 'odhakar', 'broke', 'talaasha', 'parivaarwaale', 'trubyunal', 'brock', 'yallaappaa', 'tasvaron', 'tugalaki', 'pick', 'circulation', 'jvar', 'kanindham', 'kush', 'properfacebuk', 'ashrafi', 'chadhen', 'vangchuk', 'honeywell', 'radiumdharmee', 'ladhege', 'sachan', 'arthshastriyon', 'canton', 'aatmamugdha', 'pontiac', 'lopez', 'ghontanaa', 'ambani', 'maryadaon', 'ratlam', 'hercules', 'akola', 'sakshan', 'notbandeeshuda', 'lagavaatee', 'alive', 'jivant', 'foda', 'fatahee', 'noobiyaa', 'lalmanee', 'faisala', 'krutyaa', 'dhuan', 'ahuja', 'pratipaalpur', 'namkeen', 'manjilen', 'laffaajee', 'juraab', 'fulae', 'castalloy', 'black', 'sooraj', 'bronch', 'avarnataa', 'johari', 'tevree', 'sanders', 'welder', 'eneeyoo', 'bharashtachaariyon', 'laalmanee', 'khaatedaar', 'aazmaanaa', 'aavrittiyon', 'kullawee', 'bahawalpur', 'prathmikta', 'mobile', 'katihar', 'swecha', 'haamidan', 'samdharshni', 'dridh', 'gond', 'wishesh', 'kaabilegour', 'laurense', 'hisham', 'chausinga', 'pafin', 'mate', 'buildcon', 'teekon', 'athak', 'jindagee', 'chayal', 'maap', 'last', 'gajra', 'ratrichar', 'kaathalaa', 'sahuuliyata', 'pattnaik', 'nyayalayeen', 'mukhyamantriyon', 'jeetanewalon', 'swaphoto', 'clifton', 'doda', 'pendulum', 'chipakane', 'nalakasa', 'chhah', 'gond', 'sameekshaakartaa', 'mantripad', 'liberation', 'asamaany', 'chungiyon', 'arica', 'balot', 'thin', 'formic', 'yuddhak', 'vegas', 'las', 'chitranshi', 'avranta', 'wasting', 'vitark', 'mukabaale', 'dharmapoorwee', 'ambaani', 'ibija', 'mahamedia', 'suzlon', 'varnit', 'jhuthlane', 'madurai', 'kaundal', 'lapatta', 'kshin', 'tewaree', 'raichur', 'lindon', 'pulama', 'olraunder', 'garibon', 'callahan', 'wabag', 'kaipdhari', 'atta', 'bareli', 'jing', 'jivan', 'reddy', 'pehni', 'tanu', 'deepika', 'lohati', 'kakkad', 'maulviyon', 'dungarpur', 'zaalaanaa', 'lakme', 'prospectus', 'westinghouse', 'bawara', 'thakkr', 'ichchhaachaaree', 'triya', 'dhavakon', 'damle', 'shravanabelagola', 'nilkamal', 'karmacharee', 'poorwottar', 'lehrayi', 'haito', 'prakaandh', 'khelmantree', 'bhavishya', 'egmor', 'shringar', 'saupengee', 'knoxville', 'bender', 'sundaram', 'pradesh', 'samvedikaran', 'laguna', 'bhisham', 'yemmiganur', 'huhtamaki', 'vadli', 'gail', 'race', 'salazar', 'diphtheria', 'dradh', 'shadadhi', 'prabodhini', 'lokpratinidhiyon', 'jatati', 'mangla', 'berwyn', 'mum', 'udaygadhi', 'akapulko', 'vaidhruti', 'charanbaddh', 'mandadi', 'euclid', 'paarampariktaa', 'hafate', 'sathiya', 'sanghiyataa', 'mukhyaatithiyon', 'vyavasthavirodhi', 'raktadaataaon', 'baramade', 'tarutal', 'kutta', 'jhaadaa', 'kishun', 'schaeffler', 'amrohi', 'raidical', 'jenner', 'varshiya', 'hasino', 'shaavakon', 'rupa', 'swaarthparak', 'weronika', 'webb', 'mahapatra', 'chenkein', 'agra', 'jiyaangkou', 'westwork', 'janaganna', 'pasco', 'jadhav', 'enterprise', 'sanshayon', 'varnavyavasthaavaadiyon', 'upasthiyon', 'mudichu', 'parnstaron', 'ia', 'baila', 'livaal', 'hillsboro', 'rashtriyadhyaksha', 'peedablyootee', 'thousand', 'shaakir', 'salahkaar', 'vishwakarma', 'ridge', 'swaasthyaheenataa', 'rishvatkhor', 'praavinses', 'daftarvaale', 'physician', 'log', 'jodhika', 'sevalaa', 'doobat', 'sipah', 'bharamaa', 'prtigyaa', 'meghwal', 'nandoi', 'aurora', 'formuley', 'durghtna', 'swatantrasingh', 'monterey', 'baalti', 'columbia', 'whittier', 'dukke', 'cubeck', 'chamakna', 'sheelbhag', 'bistagond', 'findlay', 'bapaa', 'dehra', 'aise', 'shrankhala', 'hastaaksharon', 'tirupati', 'mangalmoortih', 'kursiyon', 'mithaiyaan', 'pahno', 'halebid', 'bangsh', 'officially', 'sevai', 'gurjar', 'samanvayaka', 'parnel', 'sunsan', 'cusex', 'madhya', 'yudhrat', 'urbandale', 'briggs', 'error', 'chikhali', 'waan', 'adhikaariyaan', 'roanoke', 'haokip', 'poorvapekshaaon', 'masheenawat', 'kadmo', 'kurami', 'vidyaathyon', 'simtataa', 'sangrur', 'strongsville', 'agvaai', 'jangan', 'nagraj', 'yariyan', 'bhagyeshwar', 'jivati', 'sudkhoron', 'rukwaakar', 'brahmvarta', 'gray', 'bhraanti', 'purooshottamapur', 'teji', 'svaatan', 'mantarimandaliya', 'ashley', 'mathews', 'moolon', 'akzo', 'hamirpur', 'pokhriyal', 'bolateen', 'pratishthavale', 'dabangata', 'dhuriya', 'teap', 'gazi', 'ijajat', 'mejbani', 'toledo', 'mohadhaa', 'putli', 'sanchari', 'taapanee', 'little', 'narnaari', 'dhaniye', 'gadhoonga', 'faadi', 'gammat', 'tuberculosis', 'nagarjuna', 'raajneechi', 'medizensar', 'laphphaajee', 'commerce', 'maathaloo', 'chatagaon', 'hilig', 'isnpector', 'testing', 'naushad', 'falluja', 'pik', 'jiwan', 'katal', 'dablyooeeef', 'besil', 'slidon', 'saindan', 'jeremy', 'gaanv', 'todenge', 'udaan', 'saptkraanti', 'miranda', 'vyapak', 'maddy', 'sabhasadon', 'nauvahan', 'atmaen', 'rosa', 'damaae', 'midwest', 'trelarah', 'marlborough', 'waco', 'vimarshon', 'khan', 'difarard', 'sarsaa', 'hester', 'uttar', 'kasera', 'kuraaane', 'dayitvon', 'chayaniton', 'morales', 'heros', 'premamoolak', 'moran', 'zydus', 'nelson', 'amarpal', 'phatne', 'tinka', 'gaayikaao', 'pakayen', 'bhrashtachariyon', 'chalit', 'affle', 'mod', 'rajnitikaaron', 'arthon', 'gaaligalauj', 'anyonyashritata', 'udaya', 'cutlery', 'pratibandhah', 'neelaabh', 'bilae', 'khullamkhulla', 'swanson', 'anvaahaarya', 'rewari', 'sahkalakar', 'championship', 'bhadkaayaa', 'namdhari', 'alba', 'watanukoollan', 'khaatadhaarak', 'texas', 'special', 'harvansh', 'dinu', 'shaniwar', 'de', 'dabi', 'nahinkarvaaee', 'maarvaad', 'peediyon', 'brigton', 'mnaey', 'ligar', 'dilaega', 'aadhin', 'parwa', 'hempstead', 'mamooli', 'pradeshikaa', 'verification', 'fefada', 'wisangatiyaa', 'kachchhe', 'ghost', 'pipli', 'lovasa', 'helper', 'doobnewaale', 'bakhshane', 'indriyonke', 'barhad', 'risaalee', 'kaksheevati', 'vishvarakt', 'lodi', 'peachtree', 'ghumakkdon', 'ojha', 'ilaaj', 'arunai', 'ayodhyeanath', 'bhautikwadiyon', 'roket', 'nurochemistry', 'coldvel', 'aawaazen', 'mool', 'multiplexon', 'tyoihar', 'rotation', 'belacha', 'sahakalaakar', 'jadit', 'nagaaraa', 'barpaya', 'doongarpur', 'land', 'uchchhrunkhalataa', 'failaiya', 'suchi', 'noon', 'rp', 'shield', 'palanpur', 'electrosteel', 'obscura', 'cigretton', 'dikhaee', 'russell', 'nazarandaaz', 'kualalampoor', 'austin', 'raidcras', 'tcns', 'svaayattshasan', 'mood', 'daulatabad', 'bhulta', 'pratikaara', 'nights', 'nakam', 'shutting', 'raashtra', 'bechkar', 'stone', 'wardha', 'deedablyutee', 'desabathula', 'baapa', 'baghbaan', 'aadeshah', 'udelkar', 'tarko', 'yaaddaasht', 'inhalation', 'safradganj', 'roopak', 'scranton', 'varnavyavasthaawaadiyon', 'shikshakarmiyon', 'khandelwal', 'beverages', 'pidiya', 'nadaf', 'jehe', 'dhahaaenge', 'mastmaula', 'agartala', 'jamayaa', 'pardesi', 'arya', 'velvet', 'aapdaein', 'aagashe', 'achchi', 'udghosh', 'swabhawatah', 'bani', 'raykar', 'pidilite', 'dual', 'bheera', 'silva', 'adhikaran', 'rangkata', 'srichakra', 'gowmutra', 'nichalaa', 'burhanpur', 'sahooliyata', 'labdh', 'poole', 'strasion', 'picking', 'oditar', 'deniar', 'ajit', 'langdon', 'avashist', 'jha', 'prashasnik', 'bossier', 'badhachadhakar', 'giridih', 'bhuj', 'reading', 'fawaare', 'advait', 'rukate', 'anonditaa', 'fontana', 'nyutriyo', 'pailoton', 'jaden', 'boriwali', 'ilaichi', 'alliance', 'dhammaa', 'nahargadh', 'nsiu', 'sapaat', 'lengdan', 'panama', 'putle', 'aasaapaas', 'alwadhi', 'mufalisi', 'sansathaan', 'darshnaarthee', 'lokotsav', 'graahakonne', 'uchchaadhikaareeyo', 'bhav', 'reja', 'motherson', 'kauplaiks', 'aaburod', 'heidelbergceat', 'chimati', 'surfactants', 'mitao', 'kailana', 'tankar', 'odhkar', 'merta', 'megavaal', 'rasyanik', 'soochnah', 'sugamata', 'jockey', 'munaf', 'niswarth', 'kshetradwaaraa', 'mahawar', 'buldhana', 'dhamkata', 'bhusvami', 'vigyan', 'quete', 'bevkufana', 'jajmau', 'beltran', 'vilas', 'makhdumpur', 'kolorado', 'blackburn', 'suniti', 'ghigghee', 'flavonoids', 'chahunmukhi', 'supachye', 'siratee', 'vishnu', 'chaudahavan', 'chaudhari', 'aabru', 'balurak', 'davangere', 'anurit', 'shipping', 'patiala', 'jaanam', 'financial', 'damae', 'policy', 'icc', 'kuchchh', 'cheekhna', 'reliance', 'urvarakon', 'ravael', 'ladhkiyon', 'mukeshwaree', 'wankshetra', 'ummeede', 'kahaavah', 'kaantipoorn', 'badaaen', 'enseeaardablyusee', 'pratibaddhataa', 'follow', 'sevamukta', 'evanston', 'charas', 'hills', 'robertsan', 'bhadauriya', 'glaxosmithkline', 'producton', 'guevara', 'vigyaanon', 'jarvis', 'laphz', 'font', 'paradheen', 'shak', 'ganjhoo', 'dit', 'danptiyon', 'maadhikhedhaa', 'pratishthaanon', 'soond', 'ginte', 'alagalag', 'swastikakaar', 'pratikaraa', 'aastik', 'niveshkartaa', 'saval', 'sanskritiyan', 'raubdar', 'raghuram', 'intaravyu', 'chharhari', 'sawyer', 'bhasapa', 'jvaaron', 'sansthita', 'parshdon', 'pulatskar', 'uthaaeange', 'laengee', 'oeeef', 'valsad', 'mulon', 'putliyan', 'shmil', 'riggs', 'camarillo', 'saflataa', 'vinasht', 'kping', 'jayalalithaa', 'items', 'soccer', 'asphalt', 'mehrotra', 'chune', 'zarakh', 'mejbaani', 'muflisi', 'luna', 'warnavyavasthaavaadiyon', 'lipaaee', 'uthni', 'bajaj', 'hisarah', 'dampatiyon', 'watson', 'augustustine', 'pataakshep', 'dhandhekhoree', 'ubhregaa', 'anton', 'apardarshi', 'nihlaani', 'tivolee', 'hogis', 'winter', 'badalavaakar', 'ghumaee', 'petaluma', 'beeemdablyooem', 'bakhshate', 'sanvedikaran', 'telon', 'ghummakkadon', 'haanfte', 'farheen', 'james', 'kiratpur', 'redding', 'shaq', 'surprise', 'kisanon', 'chalenge', 'yoder', 'stein', 'paithelojist', 'labeling', 'ikthiyosis', 'liberation', 'phoodon', 'nanhein', 'bhadauria', 'jatilaa', 'pahunchanee', 'raashtron', 'blossom', 'tandon', 'gadbadbadee', 'sanasthita', 'yatraen', 'aadan', 'javate', 'niyuttiyon', 'bhishm', 'hundiya', 'murgeepaalan', 'malekar', 'loveland', 'mavey', 'vikram', 'hanfte', 'barrackpore', 'ghaziabad', 'tarkon', 'spf', 'artemis', 'aipp', 'jaiban', 'gairairaadatan', 'vivekadhin', 'sabajooniyar', 'faliya', 'prekshakganon', 'purvaasiyon', 'vipannata', 'maanga', 'ordanens', 'pradhan', 'abhiyuktonke', 'viratkhand', 'hijbul', 'vidyaon', 'manju', 'chhawindra', 'chhupkar', 'doranda', 'saym', 'mithhaiyaan', 'jeevvigyaniyon', 'pashtuun', 'brahraachaarinee', 'jerusalem', 'altamonte', 'sihuntaa', 'hemwati', 'koshadhikaaree', 'ashanka', 'bean', 'vaigyanikata', 'jheelon', 'robarto', 'shrirampur', 'manchiya', 'vasoolataa', 'morrison', 'mhagranth', 'transistor', 'sarvjaatiya', 'patotsav', 'houkee', 'medithsan', 'udana', 'saraaymohiuddeenpur', 'petersburg', 'ranjkatha', 'diya', 'mohindar', 'mastek', 'nirbadh', 'ehsaas', 'avrutiyon', 'eshiyavan', 'thki', 'turbine', 'dimaak', 'jodhpur', 'durdhara', 'khaastaur', 'makrani', 'high', 'fatahi', 'mariya', 'ganv', 'pendulam', 'aavishakaar', 'natijeh', 'jeffersonville', 'brahmasiddhi', 'tulshidas', 'reeta', 'charchaamanch', 'pratikaaraa', 'tarkwaad', 'dabangon', 'hichkicha', 'sheershakon', 'dam', 'dviarthee', 'jawabah', 'bahumaan', 'jaanchkarata', 'vandemaataram', 'should', 'agsta', 'neu', 'dastakhatshuda', 'surinama', 'kingkhan', 'taras', 'rekannecting', 'phaibrik', 'clair', 'chhejat', 'mominatolaa', 'virodh', 'arena', 'unionwaadi', 'bamleshvaree', 'boca', 'immaturity', 'sansthaan', 'jin', 'dadrewa', 'kide', 'karawanou', 'putin', 'tankaar', 'khatakati', 'jadd', 'pushpa', 'gm', 'yusugi', 'korola', 'pyade', 'karavaayegee', 'balaatkaariyon', 'jatatee', 'gurdaspur', 'shreshthaswaroop', 'shubhprabhaa', 'europlast', 'rashtrabhakton', 'canterbari', 'communicators', 'mahamanch', 'conway', 'dwf', 'reeves', 'dabhoi', 'bhootal', 'insaano', 'emily', 'vigyaanam', 'sapatey', 'atwaal', 'hindan', 'aaufisaree', 'montclair', 'purnsveekrit', 'richardson', 'sandrbh', 'fargo', 'aleem', 'saptakranti', 'hr', 'imaandaari', 'kontrekting', 'gangajal', 'gaur', 'adhikariyon', 'bandhan', 'sendha', 'dablyoopidi', 'gravita', 'lincoln', 'pravrittivigyanon', 'cementation', 'bagad', 'gentry', 'datson', 'montebello', 'renewables', 'naksalwad', 'aitraz', 'itibhagwatee', 'niveshkarta', 'patkathayen', 'kaabiletaarif', 'bhaadas', 'bhogte', 'holding', 'dhatta', 'dhoron', 'upakhyanon', 'fayetteville', 'stockton', 'brijesh', 'pratigya', 'badhaati', 'then', 'thomas', 'dhyeywadi', 'tuesday', 'wgpl', 'ovum', 'gati', 'nucleus', 'kraar', 'purooshottamaachary', 'manchanda', 'lahsun', 'naqaab', 'suja', 'mckenzie', 'purzon', 'bahunt', 'bravo', 'amaanat', 'jhuthla', 'bush', 'chaukhate', 'apar', 'asthetic', 'kshetradwara', 'sajja', 'dhahaane', 'nariyalyukt', 'jealous', 'kursiyo', 'singhaadey', 'amy', 'antarmukh', 'thakkar', 'badbolepan', 'naxaliyon', 'manner', 'himali', 'naksalavaad', 'half', 'mahaadharmaadhyaksha', 'parmoujood', 'tippanikar', 'perels', 'bhapaee', 'beetaane', 'valve', 'dwirookta', 'eddie', 'jivaniyaan', 'panghal', 'khand', 'urvarkon', 'besin', 'giriwasiyon', 'paradhin', 'pukhtaa', 'achnera', 'carson', 'delta', 'tripura', 'alaymani', 'kheda', 'nahargarh', 'shalimar', 'immaichyority', 'elendt', 'properphasebuk', 'udanon', 'mhajan', 'moses', 'bataayaaki', 'alai', 'ilectromeetar', 'amod', 'rookenge', 'maariya', 'raagon', 'aaipief', 'phalitartha', 'supachy', 'awashist', 'ishat', 'rate', 'aata', 'mahalon', 'warishthon', 'jalapot', 'katrina', 'jismafaroshee', 'salary', 'raza', 'rectare', 'basil', 'badhaataa', 'charanbaddha', 'bhadkaya', 'sahityotsav', 'naraseepura', 'samjhunga', 'chandrapur', 'sarkaa', 'dhaah', 'praudh', 'ahitakaaree', 'darawani', 'belinda', 'alayamanee', 'datsun', 'ate', 'fasteners', 'bangravala', 'saira', 'atthas', 'nirdal', 'mahbubnagar', 'daratey', 'valkkan', 'khastaur', 'barsaai', 'ananddaayak', 'banbi', 'toh', 'asmanye', 'wipannta', 'spast', 'amzera', 'bechakar', 'ghatabadh', 'kaushalta', 'machine', 'wireless', 'fainn', 'gaano', 'khambhat', 'kyooaaeepeees', 'dublin', 'mta', 'samruddhiyon', 'radhakrushnadas', 'kaansting', 'idukki', 'industrial', 'bharatwanshee', 'maangi', 'robins', 'vladimir', 'pehowa', 'bagh', 'ummidwaaree', 'saafgoi', 'koottaa', 'adain', 'grenite', 'ustara', 'dhundhta', 'sangheeyataa', 'kumari', 'depthiriya', 'adchane', 'koriyaah', 'prapat', 'chhudawaaya', 'suiyan', 'veronika', 'schaeffler', 'jyaadaa', 'potter', 'media', 'yarushalem', 'pichde', 'letaseng', 'arthavyawasthataaon', 'kakoo', 'nirdeshika', 'seto', 'navate', 'samvedansheelata', 'roadrej', 'chhahon', 'laphj', 'vanshvad', 'rohtak', 'atakta', 'baawaraa', 'kribarabh', 'prakashakah', 'styrolution', 'apaardarshi', 'bengaluru', 'andhapan', 'mainan', 'kyaah', 'formulae', 'hamalavar', 'amavasya', 'purvapekshaaon', 'daishawaalaa', 'oklahoma', 'darmait', 'sahakalakar', 'fatma', 'khalati', 'dayitva', 'kyusaiks', 'tolakarmee', 'version', 'parisamvad', 'immune', 'bachti', 'utilities', 'malmaas', 'cadmium', 'antioch', 'khatedaar', 'mohini', 'vishwasniiyataa', 'rehman', 'kanblon', 'aaryika', 'marrej', 'chheenk', 'phalata', 'baagoraa', 'pakaude', 'lucie', 'fatehgadh', 'grahanakaal', 'jobs', 'sadanand', 'dutt', 'murgeepalan', 'lurhakate', 'palmonari', 'win', 'ubhaara', 'beck', 'padaraunaa', 'bandhate', 'kapoor', 'sevaala', 'vershan', 'chidhate', 'thane', 'nikalogi', 'mogali', 'dredger', 'nagarik', 'gajipur', 'vadak', 'mitchell', 'gyatvy', 'standhaari', 'dhoraaji', 'abdunnaasir', 'vishvwandhya', 'satyaarthprakash', 'shivamogga', 'ghumakkdi', 'gayen', 'chee', 'theateron', 'anadhikaarik', 'shasak', 'hines', 'bettiah', 'dhatna', 'rahamat', 'motihari', 'pearson', 'ujback', 'wheeling', 'pythogaras', 'wipro', 'kaabiletaareef', 'jamaate', 'pulam', 'daubaaraa', 'portillo', 'adhik', 'dhumrapaan', 'daampatya', 'jamudiya', 'pedoo', 'pipra', 'blair', 'communications', 'alayans', 'aradas', 'gudna', 'just', 'aawajon', 'benvar', 'amarillo', 'bramhaand', 'dikhai', 'tantro', 'aasan', 'tuglakabad', 'sutton', 'kandrour', 'khanna', 'nikalani', 'dibanoo', 'immachyoritee', 'tolaasan', 'jaanaakaree', 'liwaal', 'engeline', 'rushitaa', 'flint', 'vrishchikahsaptah', 'aasmatee', 'girkar', 'vaigyaanik', 'bishadhee', 'phoolatee', 'punahsthapana', 'badh', 'gandha', 'chakshu', 'miktaam', 'liidaron', 'zabardast', 'stuti', 'aurato', 'heblikar', 'rattebaajee', 'francisca', 'mumba', 'pratiyukti', 'darati', 'pranon', 'madison', 'nibhaaegee', 'myers', 'kashyap', 'brigadier', 'ambikaaon', 'hogaah', 'ishaak', 'sumi', 'deshbhaktimaya', 'dharmapatriyaan', 'krishnanagar', 'ea', 'aayudhnirmaanee', 'taaja', 'ajasra', 'fijulkharchi', 'mantrayon', 'tanta', 'dealership', 'chapel', 'dhwanimikon', 'education', 'jarakh', 'neet', 'jilawaasiyon', 'samprabhuta', 'kasegaa', 'pakanevala', 'deepn', 'kalasaanaa', 'mugaalataa', 'tokne', 'falibhoot', 'gyonth', 'dikhaai', 'shaamjeebhaaee', 'pahnaakar', 'kisaani', 'udhaaradaataaon', 'ramtek', 'wyaakhyaatmaktaa', 'somvaar', 'vista', 'polimer', 'raktaabh', 'bhugta', 'bhrashtachareeyon', 'khatakti', 'mukhyamantriyon', 'mad', 'kakshaang', 'jain', 'mahin', 'survana', 'baangarotiya', 'rasaayanik', 'aurora', 'chamchagiree', 'ncrwc', 'ainthey', 'essel', 'deshsewa', 'ilectrotecs', 'workcharge', 'kaarwaai', 'jhanktaa', 'urgent', 'sapraman', 'maurya', 'jini', 'jagadeeshachandra', 'asurakshit', 'kaavyoktiyaan', 'alnkaar', 'svadpremiyon', 'jaatak', 'rollers', 'ashaktataa', 'kaathiyavadee', 'aavriti', 'vidyaayein', 'vidhivat', 'raadhe', 'mukhyamantrisamvaaddaata', 'praansangalee', 'kanalog', 'pudukkottai', 'nicky', 'fuhadtaa', 'patachep', 'retreate', 'manovaigyaaniyon', 'stanadhari', 'mukhyopadhyaay', 'nirbaadh', 'todne', 'avuti', 'parikshankartaon', 'extactor', 'nashik', 'rasayanon', 'vaitravati', 'ogrenaaij', 'chausingha', 'phalodi', 'skhalan', 'panaamaa', 'nigar', 'monte', 'suneeti', 'shrabon', 'ambikaon', 'gujara', 'photofrem', 'prahlaad', 'beesavaan', 'dvivedi', 'denewaali', 'burleson', 'bharadwaj', 'jataati', 'malegaon', 'rahugaan', 'mahamantra', 'beast', 'divyata', 'sanjivan', 'kuposhit', 'eksclation', 'chadhega', 'texarkana', 'dungerpur', 'sarahi', 'laalaparee', 'aeronautics', 'worth', 'aasteen', 'svapnika', 'upakaaryaalayon', 'mimicry', 'ballabh', 'veriphication', 'hackensack', 'aakaash', 'bona', 'clock', 'daphan', 'pegav', 'kahlaya', 'madheekhedha', 'teleebag', 'dhaarak', 'nikaalani', 'kanghe', 'prashnottari', 'kakinada', 'bhaagyoday', 'singer', 'machaye', 'lekhakganon', 'uchhalne', 'dharmarajne', 'ainjal', 'bantata', 'pharm', 'ravel', 'hanumangarh', 'veeraangnaaon', 'gaytri', 'venkatraman', 'dibnoo', 'purooshottamachaary', 'sanyojakon', 'jhaauganj', 'sarkaren', 'newtest', 'shrikar', 'mitaao', 'diyotsiddh', 'bhoopsingh', 'charchaaen', 'prasarakon', 'nishpaap', 'flin', 'ranneetibanaa', 'eeaarjee', 'dhaagaa', 'gomukh', 'jud', 'khanikarmi', 'sharabh', 'arellano', 'ukhadhakar', 'lenevali', 'kumar', 'singhde', 'toncil', 'davindarpal', 'singaar', 'khisakate', 'enid', 'megapixal', 'digvijay', 'fazalon', 'doge', 'labelon', 'munafa', 'badhane', 'very', 'saatsera', 'ortega', 'rowe', 'bhatia', 'raajsthanwasiyon', 'baagbageechon', 'wilkinson', 'daraati', 'atke', 'pramukhataapoorwak', 'yatna', 'nitin', 'city', 'radico', 'dukanon', 'jalsansadhan', 'masyendranath', 'behar', 'barsheey', 'avru', 'daw', 'naqab', 'saregama', 'hugli', 'satti', 'neg', 'mahabaleshwar', 'placentia', 'varsaache', 'kumau', 'emi', 'theatrs', 'erika', 'khinchakar', 'raubadar', 'alto', 'kavyavidhaaon', 'coon', 'akron', 'tahkhaana', 'samajjanon', 'machaaye', 'suryadev', 'prathamik', 'pravritriyon', 'taajaa', 'jivanshaili', 'raktdaataaon', 'baleshwar', 'bhautikwaadiyon', 'lagaateen', 'jhaiyaan', 'vanshvaad', 'navanagar', 'najarandaaz', 'anshaankan', 'funkane', 'matpatron', 'module', 'farms', 'pahunchogee', 'maidi', 'thief', 'pfaudler', 'amit', 'poorvabhadrapad', 'landara', 'gonpo', 'vesle', 'shaao', 'hamidan', 'weeks', 'mineral', 'centennial', 'bastiyo', 'bagbagichon', 'pranit', 'bhedabhaavon', 'karaahanaa', 'greenville', 'sherawat', 'ralaud', 'jatakon', 'rishte', 'bentonville', 'najibabaad', 'financiers', 'phatahee', 'kerala', 'ladaaiyon', 'harijan', 'whitaker', 'vidisha', 'paul', 'aryon', 'khilana', 'chhutane', 'dukhiyon', 'poorneshwari', 'visabal', 'daramyanee', 'yari', 'vidhamaan', 'yatraein', 'sunteck', 'gujarata', 'niyanta', 'dum', 'awasthi', 'plus', 'bhen', 'stops', 'dhakelte', 'kpo', 'damghontu', 'insano', 'merraige', 'asfalt', 'laundry', 'ratnaabhooshan', 'ski', 'dushwaariyon', 'anupryogon', 'deshseva', 'lela', 'jagaragallu', 'mejbani', 'dehri', 'chkkar', 'crawford', 'guduri', 'dvc', 'prakriyagat', 'nag', 'matsyavatar', 'scootaron', 'ardhavishvas', 'daramyaanee', 'survanaa', 'sthitiyan', 'dharmaanand', 'sofner', 'squash', 'vidhansabhaen', 'randolph', 'mezbaan', 'sprit', 'sheelabhang', 'kalmein', 'swarnikaa', 'mandi', 'arthawyavasthataaon', 'kundaliya', 'nimkathana', 'farm', 'hatyaaropit', 'putta', 'faurensis', 'purooshottamachary', 'bonds', 'shikaayatkartaa', 'cronfrencing', 'ubal', 'baabaao', 'halmatpura', 'haqeeqat', 'barman', 'vartmaan', 'baantin', 'achanbha', 'jiwanparyant', 'wadara', 'sadaqen', 'aisa', 'jyotishyshastron', 'pythagoras', 'engelin', 'kapolkalpana', 'dropadiyon', 'rozlyn', 'sriram', 'gopaalak', 'bangbandhu', 'mistriyan', 'usay', 'mercado', 'maisore', 'offshor', 'kapurthala', 'sahovaliya', 'maladahiya', 'hymen', 'indaurnagar', 'visheshagyataon', 'usaki', 'caplin', 'mahapran', 'rupesh', 'reno', 'sudeepton', 'swamy', 'amara', 'vyavasthaamoolak', 'sensing', 'tyler', 'sangareddi', 'pehno', 'mardani', 'bamleshwaree', 'deewani', 'fincorp', 'navaa', 'shimat', 'sohawal', 'banaam', 'prawrutriyon', 'xiong', 'varsted', 'raajon', 'cheekhana', 'naimul', 'badhotri', 'antony', 'chhanyasa', 'nirdeshikaa', 'niptaaraa', 'judne', 'sujhati', 'pathalogist', 'tide', 'shrungar', 'braandes', 'parmeshvarpur', 'jedateeisaaft', 'uddhaatan', 'stan', 'aadivaadiyon', 'julaahon', 'maharaja', 'gatishilata', 'shipra', 'tribunal', 'khyber', 'wanvibhag', 'ghataatop', 'dharmagranthon', 'prawrittiyon', 'gaanth', 'mysore', 'sehgal', 'namkin', 'vaidh', 'vanaspatiyaan', 'jiangkou', 'pakhandi', 'protekts', 'elbaino', 'linden', 'sohaval', 'bhurbhura', 'gastrology', 'widroop', 'sajsajja', 'raatrichar', 'rojana', 'jalbhrav', 'montgomery', 'sev', 'bhrastrachariyon', 'dwn', 'streshan', 'ganthe', 'gehlot', 'chhateni', 'vishwasniiya', 'jivaniyan', 'dastaanen', 'dhona', 'kharuwaar', 'suriname', 'mangalsinh', 'anyonyashritta', 'ninties', 'paancholaas', 'reson', 'vaataanukooliton', 'chatushkoniya', 'aamdi', 'dushtaapurvak', 'bechate', 'chuka', 'mizoram', 'torrance', 'anuchit', 'avarodhak', 'ross', 'achyut', 'oodhami', 'haraval', 'gould', 'daaw', 'srijanvigyanee', 'nextgen', 'rukavaton', 'bhavanaon', 'dehdhaari', 'parikhaen', 'utaney', 'sanskrition', 'prospex', 'naeedilli', 'saayn', 'geneva', 'rasad', 'baramula', 'vandemataram', 'safari', 'chamba', 'sawal', 'bannari', 'fatehpur', 'pehnate', 'spray', 'normal', 'allout', 'manassas', 'mantriyonke', 'karyakaryakartaon', 'phaadanhe', 'greg', 'baitool', 'kushan', 'subbanee', 'infibeam', 'khatakhataakar', 'chachaji', 'chandrabali', 'baripada', 'roohelkhand', 'ghairakaanoonee', 'aarekhah', 'pramukhkarmiyon', 'lee', 'thiyeters', 'assam', 'faanon', 'jyada', 'theateron', 'safaikarmi', 'bieseses', 'cronfrensing', 'jeevraaj', 'thirake', 'shaksubahey', 'paratrooper', 'dabhara', 'usi', 'nihsandeh', 'mahanatam', 'banthia', 'anam', 'kashmir', 'baavadee', 'bhutto', 'maarake', 'kaaryayojna', 'francisko', 'adani', 'dhuriyaa', 'mhavidya', 'megapixel', 'cryptocurrencyon', 'muth', 'authoritee', 'aparivartanshil', 'pradhanmantriki', 'aagaashe', 'navjaagaran', 'attraa', 'ubala', 'amanati', 'khammam', 'haaranaa', 'bhavabhivyaktiyon', 'pushkar', 'shaantiyon', 'nerolac', 'chauka', 'siddhalingaa', 'bharatnatyam', 'javabah', 'dushwariyon', 'manchiy', 'jiyo', 'sapramaan', 'sim', 'peeechdablyooseees', 'bahav', 'tik', 'agavai', 'higman', 'qiwi', 'agyat', 'agende', 'lynchburg', 'maangeena', 'khatakhataaegee', 'jodhikaa', 'srujanvigyaani', 'detasan', 'badalwa', 'urf', 'chhaapemaar', 'lux', 'bhopal', 'phalibhoot', 'paithelaujist', 'paryaptta', 'furti', 'mrutyuniwaarak', 'maruti', 'uthaakar', 'alo', 'pegaw', 'pilibhit', 'somi', 'sanchalnon', 'kanchipuram', 'daraatee', 'yaddasht', 'sabudana', 'welding', 'veronica', 'stimberwala', 'mayajaal', 'pes', 'atul', 'outomaitically', 'jaanchana', 'mithilanchal', 'phiksingah', 'sajetee', 'plano', 'visangatiyaa', 'khhomche', 'lagna', 'mukeshwari', 'tasvaaron', 'dev', 'vesh', 'jyothy', 'landal', 'viraangnaaon', 'yanit', 'purnia', 'chauk', 'ladeen', 'chest', 'kasega', 'abut', 'renuka', 'loowe', 'gulaabaag', 'lajjalu', 'sabhaar', 'gairarashtravaadee', 'dhaavakon', 'lim', 'vidhaaein', 'svayamsveekrat', 'electrotex', 'ramraj', 'janbhavna', 'yauniktaa', 'haathe', 'dune', 'protects', 'vareinye', 'mazboori', 'praveenchand', 'vaigyanik', 'torrent', 'aatmayen', 'samprati', 'matthe', 'savita', 'atlantic', 'jalgti', 'chacchaa', 'afreen', 'bazaru', 'chauki', 'pharse', 'tuning', 'nodaraanee', 'maum', 'vidhaanee', 'gujar', 'pakadkar', 'aankhen', 'aapka', 'warner', 'anvaharya', 'likhehain', 'paathyakram', 'shavkon', 'yarooshaleim', 'mandalaayukto', 'naino', 'jhaaiyaan', 'simferopol', 'dhamm', 'nikharegaa', 'ghumaan', 'hounga', 'dhakal', 'sagarika', 'bernard', 'yogabal', 'breweries', 'dish', 'aithan', 'vartamaan', 'tremasik', 'tasvire', 'vyvhargat', 'maratha', 'banvaa', 'svarnika', 'prasath', 'overall', 'purwafalguni', 'properphasebook', 'suven', 'sapate', 'jh', 'karghe', 'deshkaal', 'nathdwara', 'thanvi', 'oran', 'serrano', 'ear', 'submission', 'dharak', 'tadad', 'greenwood', 'haute', 'behuria', 'niyantaaon', 'churu', 'missouri', 'anyaya', 'generat', 'nyutest', 'garud', 'swaastikakaar', 'shaie', 'siddhantavaadiyon', 'anawashyak', 'seaten', 'gulshan', 'riya', 'firmian', 'tyre', 'chi', 'badlapur', 'yuddhanaukaa', 'nbcc', 'shreeganganagarvaasiyon', 'udaa', 'cambridge', 'airway', 'idol', 'calumet', 'aajmaanaa', 'tantrikao', 'jonesboro', 'buddhijeewon', 'klozup', 'nmdc', 'raashtrapit', 'kamarhati', 'asphault', 'fransisko', 'bhalla', 'maulvidon', 'narwar', 'lahlahati', 'byaawa', 'ghataaegi', 'naamajadagee', 'takah', 'sevagram', 'laamiyan', 'gin', 'swechha', 'antadiyaan', 'arya', 'polishing', 'jokhimabharaa', 'umadatee', 'tantra', 'samoa', 'csi', 'mandya', 'lawrie', 'pahante', 'ankor', 'nimnavat', 'rapping', 'roopesh', 'pratibaddhata', 'nadep', 'sailaaneepan', 'menrajya', 'daav', 'aaboorod', 'pathyakramon', 'nividaataaon', 'gandhipura', 'phwcs', 'narayangadh', 'jaylalita', 'susanskrut', 'masood', 'woonsocket', 'sanskrutiyan', 'urff', 'theratipally', 'pratinirdesh', 'ulhaaspur', 'pahanate', 'dhawakon', 'bhagedh', 'pransangali', 'jalvayu', 'bhijvaai', 'sayra', 'krendron', 'maujud', 'siddhaant', 'kamyuniketars', 'chidchidapan', 'muthoot', 'wiwekadhikaron', 'maloun', 'cincinnati', 'registan', 'parosne', 'vichaarakon', 'janbhawna', 'andaman', 'badyal', 'morepen', 'beard', 'nodarani', 'dikhayee', 'chink', 'wyakhyatmakta', 'shaishav', 'aainthoo', 'ahemdabadah', 'jaayke', 'cigniti', 'kurukshetra', 'pravritteeyon', 'charcha', 'lakshmeechandra', 'hammond', 'nibhaegi', 'dhunai', 'janbhaavna', 'cant', 'melaghaat', 'mue', 'shwing', 'dampatya', 'kpada', 'santati', 'maanavtarhit', 'anuprayogi', 'harvey', 'kaju', 'cerritos', 'texmaco', 'sanchar', 'tuth', 'lozano', 'ropaney', 'hollywood', 'chhinke', 'dhamma', 'technoplast', 'pujapath', 'chanan', 'shrankhalaaon', 'chhednaa', 'carbogen', 'vyavadhan', 'schultz', 'istrailiyon', 'squash', 'danville', 'prana', 'thaakurvaadee', 'prayogshaastra', 'wyakteeyon', 'metrologist', 'madhura', 'paliyon', 'denver', 'apj', 'beni', 'pratisthaan', 'bhrashtaachaariyon', 'lakeer', 'sudhaargrah', 'sandali', 'jagriti', 'talwar', 'janashiksha', 'tapuwo', 'bulletin', 'ballebaajee', 'maadheekhedhaa', 'arthshaastriyon', 'scaining', 'mehman', 'rahegi', 'jamshedpur', 'tyauharon', 'darshaana', 'beechbachaav', 'sulati', 'varshan', 'sudhaaratee', 'wasaamukt', 'patil', 'jewaab', 'soto', 'dhtuen', 'dose', 'bhaagadaud', 'pagabadha', 'arushi', 'agusta', 'titan', 'equities', 'airtel', 'alaps', 'naksali', 'achivement', 'galaega', 'foodon', 'rajnichi', 'arya', 'streamwood', 'ghot', 'music', 'purkayastha', 'nora', 'tonic', 'gujaarne', 'water', 'sunsaan', 'sirsa', 'tangirala', 'hanson', 'varun', 'dreijer', 'doudaate', 'sharabon', 'vyakteeyon', 'saatseraa', 'darjano', 'agniyaan', 'dhonaa', 'karyakartriyon', 'awasthaen', 'himamaanav', 'two', 'ail', 'bandhuon', 'shraddhavanon', 'mariyo', 'vyaghat', 'michael', 'adrgh', 'vitthal', 'prarup', 'dhoondhti', 'dubana', 'ladne', 'form', 'zuari', 'pariwarwale', 'peranormal', 'bhuvneshvaprasad', 'iris', 'pratigyapoorn', 'lebalon', 'shreekrushnan', 'snikarse', 'kain', 'bhooswaami', 'karta', 'anyay', 'nokari', 'precision', 'chrom', 'jue', 'bowling', 'taapti', 'catholicon', 'nazarandaz', 'mulchand', 'sweccha', 'nanyaulaa', 'ghontana', 'advaitwad', 'underwood', 'lubhaavna', 'petroselee', 'amdi', 'ropane', 'daisy', 'jababee', 'cup', 'phaade', 'ulahna', 'unnatiyon', 'molina', 'gaandchubhonachoosnachhote', 'han', 'pradarshan', 'sarjuga', 'bidar', 'amargad', 'juye', 'tonk', 'devaapur', 'intelligence', 'neetiyon', 'khanaudaa', 'porbandar', 'sim', 'lagnesh', 'gaayikao', 'prishthabhoomiyon', 'moolchand', 'silchar', 'margarita', 'udakishuganj', 'sirtee', 'yamala', 'prashikshu', 'sierra', 'aalhaa', 'peck', 'taskhir', 'daka', 'nominate', 'sapat', 'coimbatore', 'koraput', 'svayattshasan', 'vidyutikrit', 'kikiyaanaa', 'arunaai', 'rigal', 'diamond', 'mridubhaashee', 'walters', 'sutrapada', 'keeti', 'zilaadhikaari', 'mangesh', 'pension', 'laganewale', 'jilavasiyon', 'ploskee', 'eksath', 'sekhar', 'dow', 'ardhawishwaas', 'rajasthan', 'vikaskhand', 'samshayon', 'badhanaa', 'classon', 'ikhrul', 'furaame', 'ebaz', 'baataaya', 'jushantan', 'strong', 'rajnitikaron', 'panipat', 'blankaard', 'jhabua', 'jacinto', 'barahsinga', 'suchnah', 'electromagic', 'lalmani', 'bhaaulaal', 'kathua', 'palaari', 'amitao', 'tadanrustee', 'vaabastaa', 'vlad', 'slash', 'waterbury', 'selfie', 'luis', 'panchasootra', 'aryama', 'vaadak', 'junction', 'generic', 'jiya', 'aden', 'sophner', 'qwvga', 'dhvanimikon', 'feeds', 'sukadiyaal', 'angadh', 'bavji', 'chhodiye', 'cipla', 'vigyanon', 'dhasmaanaa', 'longewal', 'badam', 'atraikt', 'saraaha', 'nrityashaili', 'sanvari', 'yakshadhipati', 'arabpatiyon', 'mukaddamon', 'phode', 'sihunta', 'jeewan', 'dhoondhata', 'cruces', 'kaaryakartriyon', 'pratibaddhtaaen', 'dlw', 'plan', 'pailot', 'adhiwas', 'phainn', 'favvara', 'halchal', 'wishvaweer', 'crest', 'brahmleen', 'virechan', 'yaaddaashta', 'ujjain', 'sahyaatre', 'jimme', 'sarawagi', 'dekhiyegaa', 'wajood', 'kundal', 'ria', 'slider', 'management', 'karyakaaryakartaon', 'cristis', 'ruktey', 'distrabyuters', 'spell', 'damapar', 'thikane', 'interactuality', 'cdyaan', 'south', 'aapkaa', 'nahinkarwaaee', 'jaagriti', 'choodhe', 'thirty', 'nadsa', 'gsm', 'gujarat', 'darshnarthee', 'nabha', 'dhokebaaj', 'lega', 'beeaaeeaaeeteeem', 'somwaar', 'wanon', 'audhyogikaran', 'agrahari', 'aafa', 'teemaardaron', 'misra', 'cerebra', 'naagrik', 'dastaar', 'makarh', 'gtor', 'ballistic', 'chadhegaa', 'maange', 'nilabh', 'mensharaab', 'singhade', 'hisaarah', 'ramkot', 'baithate', 'taskheer', 'ishaara', 'solapur', 'mejbaani', 'florence', 'paraamarshak', 'jhaadane', 'theaters', 'aadaan', 'ambience', 'surakshaah', 'hikaarico', 'baanyaa', 'rookvaai', 'mitravat', 'bokaro', 'maurya', 'pratinidhikaaree', 'chandramaon', 'parosane', 'dhaiya', 'spirits', 'leandro', 'sean', 'swarthparak', 'chuchiyaan', 'mahamidiya', 'poorwajanmon', 'shohadapantee', 'kushaan', 'jamloki', 'everest', 'taswaaron', 'advivas', 'premlata', 'murrieta', 'vaimanasya', 'kelly', 'tinplate', 'vaan', 'mahamantr', 'mezbaan', 'shumali', 'fulaaye', 'pruitt', 'rojvelt', 'prashasanik', 'ulazaanon', 'patrakaarvarta', 'duar', 'kathfodave', 'bipin', 'offerh', 'isayiyon', 'propellent', 'kansai', 'sikhin', 'cdcl', 'abbott', 'katlari', 'aadiwadiyon', 'chitrakathaa', 'avshisht', 'phyuchuristic', 'tereeh', 'nanhe', 'avery', 'suba', 'shakhayen', 'trikaldarshee', 'paalasaahee', 'failaiye', 'jhauvaa', 'jamati', 'janhani', 'ponding', 'taswaron', 'deshkal', 'hichkichaa', 'basteeh', 'garibi', 'phadphadaaen', 'sitaram', 'kmere', 'bairakpur', 'svayamswikrat', 'kaasovo', 'majboori', 'convocation', 'skipper', 'jaipur', 'prasthaanon', 'narm', 'radiopremi', 'titagarh', 'chico', 'rajyamantreesvatantra', 'mainval', 'gujarana', 'satluj', 'jatiyon', 'anhoni', 'telelinks', 'labs', 'harawal', 'marriage', 'maniya', 'tractors', 'kanchan', 'lairi', 'kaaryaawadhi', 'jalbharav', 'bhaadaa', 'baagora', 'piega', 'stephens', 'abhimat', 'accelya', 'wirerless', 'chauda', 'parbhani', 'khaatedar', 'badhna', 'burch', 'upadrawon', 'tikiyon', 'milk', 'dubona', 'baker', 'sutali', 'buddharam', 'wealth', 'patrani', 'ardhavishwaas', 'paim', 'castaneda', 'baljit', 'bhatnagar', 'jaatakon', 'ecuador', 'swargdoot', 'rushikul', 'tate', 'kanthhar', 'beaulad', 'europea', 'gaye', 'dadreva', 'bikherane', 'hamlo', 'pakdaae', 'uplabdhiyon', 'colorado', 'packard', 'jagruti', 'andhra', 'chounkate', 'bekhvaabiyaan', 'naphaa', 'sinha', 'utpidan', 'saga', 'aarya', 'dikhaaiye', 'anishtata', 'udan', 'sanyuktawastha', 'shamtal', 'evava', 'adhiwaktaagan', 'ralhan', 'jhuthalane', 'purvaabhaas', 'bijendrasinh', 'chinmani', 'loksbhavaali', 'ladki', 'narsinghgarh', 'sanghathanamantriyon', 'roopi', 'karykartaon', 'augusta', 'manmarji', 'antrmukh', 'anumar', 'rishtanaataa', 'dviarthi', 'chootile', 'hattiesburg', 'yoojee', 'raaj', 'raigulization', 'vindhya', 'fixingah', 'kamjor', 'bhara', 'chaudhavan', 'falne', 'shrunkhla', 'vipannta', 'proofread', 'zamana', 'ghataaegee', 'danga', 'erica', 'bhola', 'vyakhyatmakta', 'yojnah', 'webuniyadee', 'rumani', 'sahu', 'pradhaannagar', 'seattle', 'stain', 'insaani', 'hamla', 'nutrio', 'ladadd', 'antadiyan', 'kushwaha', 'kochchih', 'ganapathy', 'farmic', 'padengee', 'arth', 'mukarrar', 'niptakar', 'holidays', 'cooch', 'utthak', 'sulkhan', 'kamere', 'jagayega', 'santree', 'shakhsiyaten', 'panchang', 'zalana', 'nitya', 'ichchhee', 'habra', 'paaliyon', 'azoospermia', 'taavij', 'foodworks', 'graham', 'prabhaanmantree', 'seth', 'jagtap', 'harshit', 'dubna', 'raktadataon', 'mexico', 'tasir', 'eyarkandishnar', 'eddi', 'macon', 'israni', 'ainth', 'shreemahapurn', 'dork', 'jeenon', 'ghareebon', 'taraashakar', 'observer', 'aarya', 'ukhad', 'saathsaath', 'packagon', 'hindon', 'aprihary', 'manzil', 'lx', 'karvi', 'dubhashiyon', 'rikannekting', 'wind', 'client', 'shararat', 'ventura', 'rollins', 'haynes', 'niketan', 'krantiyon', 'twin', 'divya', 'gidgidate', 'nigmaayukt', 'gabalee', 'novato', 'rishwatkhor', 'faansi', 'garjana', 'nihlani', 'pintaa', 'greer', 'lewisville', 'prakaashit', 'clariant', 'khaayal', 'dwiarthi', 'raakhe', 'bulandshahr', 'stafford', 'najariyon', 'world', 'jeevniyaan', 'parmeshwarpur', 'uthanee', 'nyootriyo', 'jetha', 'baagbagichon', 'suchikitsaa', 'nagmandal', 'pradadhikariyon', 'urvarta', 'neal', 'kriptocurrencyon', 'svaayattshaasan', 'zarda', 'uplakshya', 'chhudwaya', 'vidagdhaa', 'mukhyamantripatana', 'gene', 'ratanpur', 'mhantam', 'guna', 'mtech', 'denevali', 'naabhikund', 'visheshanon', 'langaron', 'polythenon', 'sambit', 'dhundh', 'haan', 'takra', 'dhandhekhori', 'pulinde', 'epoklips', 'vigyaanapeediyaa', 'mahoney', 'poonjitantra', 'khare', 'ekstactor', 'zunheboto', 'priyamani', 'sawaal', 'sukhakar', 'aalochak', 'phaans', 'jayalalitaa', 'amjhera', 'bombay', 'vyagra', 'apnani', 'risane', 'chhure', 'charlotte', 'jose', 'raileeh', 'mejbaan', 'dhandhanya', 'dabur', 'bsss', 'najib', 'avsthayen', 'jabalpur', 'dharmanirpekshtaake', 'farmer', 'nacl', 'somerville', 'bull', 'jhulae', 'khagyaar', 'meharaam', 'dhasmana', 'ripan', 'bhagdaud', 'mithya', 'lalaaniyaa', 'bhulon', 'vadali', 'nagappattinam', 'vaimanya', 'biggest', 'jodta', 'mahattaron', 'orchha', 'dhairyavaan', 'sund', 'prince', 'zuban', 'camstudio', 'yooropiyaa', 'meza', 'bhusawal', 'gayatri', 'ware', 'buddhizeevon', 'enth', 'radar', 'ilayachi', 'ubaal', 'shreeganganagarwaasiyon', 'fitzgerald', 'jeevanshaili', 'chart', 'sargi', 'vedon', 'murmur', 'bhaate', 'wipkha', 'bayaane', 'madanaganja', 'packageon', 'varnankartaaon', 'jyada', 'lokotsaw', 'tewree', 'jhaugunj', 'malwan', 'tadanrusti', 'el', 'qabzaa', 'susanskrit', 'sandhol', 'aamariyapadha', 'haabban', 'bowling', 'rasme', 'emdablyupiel', 'vidhaaon', 'bowie', 'chennai', 'kamaljeet', 'singha', 'pensiondhariyon', 'barah', 'dubana', 'esetal', 'chouhan', 'phalne', 'siddhaarthah', 'apex', 'dalton', 'shrikhand', 'textiles', 'agarwal', 'mithyaachariyon', 'cement', 'kraanfrensing', 'sanskrutiyon', 'dhankkar', 'nizamabad', 'chhatenee', 'dushkriyaa', 'sasaram', 'chidhte', 'lamba', 'lautis', 'khaen', 'dhndhe', 'antayant', 'mass', 'baraamad', 'kremistry', 'uthanevale', 'lehna', 'siragitti', 'control', 'andaajee', 'cateline', 'pakshpat', 'fodo', 'franciska', 'prayogaprushth', 'krantidhara', 'daishwala', 'khurasan', 'quarantine', 'fond', 'pakshapat', 'putla', 'truth', 'sathsath', 'mohim', 'johnson', 'cpm', 'bataaya', 'palmer', 'tughlaqabad', 'apcotex', 'hairam', 'sarebajar', 'jerusalem', 'mold', 'warnankartaaon', 'hooper', 'waters', 'lubhaate', 'fefda', 'kamottejna', 'dampati', 'soya', 'barbartapurna', 'tadipar', 'lutf', 'tariko', 'chataa', 'pittman', 'pahla', 'multimedia', 'tyohaar', 'label', 'le', 'tirthatan', 'satuaa', 'vargas', 'dabolim', 'soochnaah', 'labelling', 'roseville', 'phaaeebrets', 'aalto', 'partanee', 'asmitaon', 'want', 'tadpatee', 'patel', 'kaaji', 'dostanapurna', 'kshetron', 'lynch', 'state', 'ragon', 'malhotra', 'pragyatantra', 'duneerti', 'crosse', 'avyavasayi', 'dhiryawaan', 'time', 'ashariri', 'chandradas', 'jyotishi', 'alexandria', 'bewakoofaanaa', 'sirpur', 'uzbek', 'kharuvaar', 'dharmaviheenataa', 'surendranagar', 'aalha', 'arunachal', 'krueger', 'bagli', 'davindarpaal', 'chaplusi', 'sanskariyon', 'engines', 'mendez', 'siyah', 'gujaarane', 'gajara', 'kavi', 'midnapore', 'vrutton', 'sirmon', 'vartman', 'ubhrega', 'pilot', 'narbhakshi', 'entreeks', 'dayton', 'badoo', 'allrounder', 'nishra', 'wadhawan', 'jensen', 'pali', 'trimasik', 'attraikt', 'vavidyaalaya', 'chandan', 'mega', 'mansfield', 'mattancheri', 'navketan', 'kamtar', 'pityooniya', 'purooshottampur', 'tapan', 'jubaan', 'enseeaardablyoosee', 'haimbalin', 'aaraam', 'yashpal', 'wokha', 'chhetri', 'omaxe', 'parween', 'kukreja', 'premphalah', 'narmi', 'shrinkhalaon', 'avrodhak', 'teeron', 'ganesha', 'jhada', 'anupama', 'talabgaar', 'bindal', 'zavala', 'aamriyapada', 'pratinidhikaree', 'halmatpuraa', 'boodam', 'macias', 'medical', 'respecting', 'ranjkta', 'da', 'suction', 'bhumi', 'tyoharon', 'rangate', 'uttra', 'penshandhaariyon', 'karykartaaon', 'vidyaaon', 'dafan', 'sarhind', 'khaaskar', 'raith', 'gudagaunw', 'sahab', 'udaanon', 'majesco', 'pushpa', 'keshari', 'bombi', 'kargil', 'takara', 'biji', 'chrome', 'stithi', 'gulf', 'kaaloniwaasiyon', 'aavritiyon', 'suhanubhooti', 'chamach', 'virodhabhasi', 'saabhaar', 'allcargo', 'harana', 'avyavasayee', 'pravinses', 'chhetthari', 'pratishthi', 'sapa', 'patki', 'parchiyon', 'prativad', 'liphaaphaa', 'darshana', 'garrison', 'aakandon', 'dhandon', 'distreebyootaree', 'khatri', 'panjika', 'baatah', 'ravaley', 'kangan', 'premaatmak', 'sipahi', 'notebandishuda', 'devlaha', 'halla', 'jhamaaten', 'massey', 'usak', 'pitamah', 'vivaranahbhaarateey', 'nagercoil', 'lakhkhi', 'achhi', 'satin', 'nagpur', 'basirhat', 'chhelai', 'ubarkar', 'sanyuktavastha', 'suri', 'bhapaai', 'vyaktigat', 'mhathir', 'flesh', 'rashtrak', 'raajbhaaee', 'hong', 'langron', 'subhaay', 'fund', 'flowers', 'uthane', 'badaa', 'mishra', 'shat', 'manhattan', 'sarguja', 'evening', 'grahankaal', 'bagali', 'neeoo', 'mundwa', 'tolasan', 'jedateeisaft', 'naagmandal', 'kanaal', 'machilipatnam', 'felix', 'hastaksharon', 'bhilai', 'contracting', 'qraar', 'jaun', 'bhaloo', 'fortis', 'girijagharon', 'jainon', 'arthavyavasthaah', 'oxys', 'khitabon', 'enka', 'chashma', 'batao', 'ghrutakumaaree', 'pratestent', 'bauer', 'lakshmidhar', 'siyasi', 'upyogitawadiyon', 'toogaa', 'samadjiyon', 'khurpaka', 'kumavat', 'mwp', 'suraj', 'neuroscientists', 'chandreshwaranagar', 'tanish', 'farukhnagar', 'awaazon', 'najraane', 'pashuchaaraa', 'webuniyadi', 'danbury', 'naidillee', 'chhalla', 'rowan', 'sheopur', 'rawlani', 'sanvaree', 'dhaak', 'masse', 'insurance', 'samprbhuta', 'raashtraa', 'jauhari', 'judai', 'badamaashon', 'khitaabon', 'swayam', 'aagah', 'dhindhwal', 'ghise', 'sappaanwaalee', 'nikharen', 'baadhit', 'brahmapur', 'baytown', 'koling', 'samadhiyon', 'yooniyanwaadi', 'chhapemar', 'gareebon', 'thousand', 'dasila', 'kanjentevaaitis', 'badhaon', 'lagega', 'durghatna', 'nitiyon', 'capdhari', 'atri', 'singam', 'vastvik', 'substensis', 'peelepan', 'uthnee', 'handiyaa', 'pratirakshi', 'lalkarta', 'dukaanon', 'nividaataon', 'sarvjaateeya', 'narsanharon', 'neemkathana', 'herrera', 'junun', 'ikai', 'jagdalpur', 'swiftlet', 'jalagati', 'pitts', 'ropi', 'adanga', 'alasi', 'chaukiyan', 'layton', 'vakrangee', 'development', 'shawnee', 'pardesiyon', 'bhoogol', 'bagichi', 'sivan', 'stray', 'aalsi', 'view', 'vishhin', 'kissagoi', 'mahanideshak', 'chikitsaevam', 'bhattacharya', 'trenton', 'kanyaein', 'priyadarshini', 'hukhookh', 'shulkah', 'rane', 'mahavidya', 'sanshyon', 'shreneeh', 'odom', 'benitez', 'tyohar', 'matiyaanaa', 'shavyaatra', 'rishtey', 'rehaana', 'qss', 'anaavashyak', 'rijhaayaa', 'brigade', 'sapane', 'chuneen', 'koshadhikaari', 'karab', 'paltane', 'karneshwardham', 'aaryanas', 'pratishthanon', 'karaikal', 'uski', 'vipreetataa', 'parikshao', 'fyuji', 'laaminaar', 'jutati', 'kaushik', 'bekaaboo', 'nano', 'orissa', 'tomar', 'ropee', 'thappadhabaajhee', 'baabat', 'attahasa', 'colan', 'pratileetar', 'bhusi', 'haliyaa', 'utpeedan', 'pope', 'karkhele', 'bahulya', 'aswbhavik', 'kathhnaeeyon', 'ramjeelaal', 'vasulta', 'mukhyamantri', 'maria', 'satmev', 'baksa', 'udar', 'man', 'buddhijivon', 'sudip', 'jodo', 'tasdeek', 'nikaalni', 'bhatkaanaa', 'harna', 'dillon', 'registerd', 'bhandara', 'lalaniya', 'lima', 'lalkrishna', 'ratnabhooshan', 'sparivar', 'sah', 'sametti', 'pyria', 'maamalonmen', 'braat', 'vaiisan', 'villa', 'linda', 'khariya', 'chellani', 'electronics', 'rishiraj', 'udaipur', 'pagla', 'ritukaant', 'kurmi', 'dastaanaa', 'emrald', 'ghumaaee', 'updraviyon', 'oklahoma', 'dharmaraajne', 'jhaohuee', 'uppidan', 'khemik', 'tugalki', 'duar', 'avi', 'jadet', 'taiboo', 'programmers', 'taylorsville', 'chadron', 'racer', 'bhakaa', 'andhabhakto', 'obrayan', 'krutya', 'peeran', 'najriyon', 'mayur', 'chaudhawan', 'swargadoot', 'feka', 'independet', 'tinkaa', 'gurdon', 'jaatiyon', 'samanwayaka', 'sube', 'chandana', 'praarambhikataa', 'trap', 'udant', 'dynamatic', 'vidyuteekrit', 'lalaniyaa', 'wadaraa', 'ved', 'fadfadaen', 'traded', 'akhuaapaadaa', 'saraha', 'vigyaanvaadiyon', 'kamzor', 'youngstown', 'aaryam', 'patkathaein', 'bajpai', 'jassee', 'nau', 'evav', 'lagataar', 'suman', 'padanee', 'mindtree', 'distributary', 'jankaron', 'shankacharaachaarya', 'offshore', 'dukhon', 'nesco', 'phooltee', 'tools', 'verger', 'dumghontu', 'videoh', 'rajman', 'aatmamugdh', 'rockford', 'mitra', 'devnaar', 'ocoee', 'uttariya', 'kainawij', 'galaxion', 'jivaniya', 'hakikat', 'eliminator', 'augustine', 'kar', 'bitane', 'daftarwale', 'bairaadh', 'kambalon', 'jwar', 'fatama', 'vives', 'dwt', 'dhaatuein', 'siyaha', 'pitne', 'bichchon', 'jita', 'sevala', 'bataur', 'aditya', 'kshetren', 'ankeny', 'chheter', 'mukarte', 'enthe', 'balty', 'khangaali', 'beeeseses', 'banjajasam', 'pushpit', 'linmarga', 'pereddy', 'bodara', 'focus', 'dootaay', 'sreeleathers', 'mahankmadaan', 'ghunsa', 'kaavyavidhaaon', 'kshatriyaadi', 'jaankaaron', 'rakhna', 'rishtedaaro', 'shravani', 'kubuddeen', 'jewellers', 'mehaman', 'rojlin', 'jaikara', 'chabutre', 'haradil', 'truck', 'neurovascular', 'khelaane', 'stration', 'lakshayatirth', 'nations', 'paathshaalaayein', 'nivedanah', 'lidaron', 'tanla', 'sevakon', 'poorvapekshaon', 'mani', 'somvar', 'pran', 'avegyanik', 'aviation', 'brown', 'naakaam', 'adhivas', 'janjagran', 'rajnandgaon', 'larry', 'bhalu', 'tareeko', 'chicopee', 'refractories', 'baramad', 'kav', 'emerald', 'vivekaadheen', 'fadfadaaen', 'kaylana', 'paints', 'pittsburgh', 'hokhat', 'chaurasiya', 'sacchidanand', 'seide', 'charon', 'rizvi', 'clay', 'danpati', 'doorgadh', 'devapur', 'manwaayaa', 'latakkar', 'mehmaan', 'niya', 'udhampur', 'ataher', 'chhupata', 'tungnath', 'raghupati', 'prakandh', 'changed', 'gangtok', 'cricket', 'francisco', 'bhagane', 'adangaa', 'fixingh', 'kamau', 'tikone', 'pam', 'tarikon', 'aagaman', 'kidwai', 'aashriton', 'raghavan', 'janeudhari', 'davenport', 'preranaapuree', 'mahasinh', 'lordaa', 'introduction', 'swabhavatah', 'grishmotsav', 'talaashegaa', 'saharsa', 'mckay', 'moshe', 'granthiyan', 'lohaati', 'aliance', 'tagde', 'chinke', 'siwan', 'thaki', 'letakar', 'hikariko', 'tyres', 'nrutyon', 'deerfield', 'charit', 'bethlehem', 'fineotex', 'asahi', 'pehan', 'dhanshyaam', 'faarensis', 'lahanaa', 'dwarikesh', 'dubaana', 'karaboriyon', 'golamuree', 'raakhnau', 'vipanak', 'punchang', 'breed', 'gullaravaalaa', 'awp', 'baji', 'harpaal', 'premeshwar', 'prapt', 'naksalwaad', 'kanthahar', 'oxide', 'khairati', 'deshke', 'sunaseer', 'aphasaron', 'seho', 'chabate', 'miti', 'belcha', 'saflata', 'shbana', 'khaatootolaa', 'shivastava', 'preranapuree']\n",
            "['थरमैक्स', 'सिखाएगा', 'लर्न', 'ट्विटर्स', 'तिरुनेलवेली', 'इंडिपेंडेंस', 'स्पेशियों', 'शुरूः', 'कोल्हापुर', 'अजहर', 'क़रार', 'अंक', 'डब्ल्यूपीडी', 'हाशिए', 'ग्लेंडल', 'उधेड़', 'इकठ्ठी', 'आईडिया', 'अम्बिकापुर', 'माकेरेरे', 'साबूदाने', 'फूहड़ता', 'सेक्वेंट', 'शुऐब', 'पानीहाटी', 'समेटती', 'उखरुल', 'ब्रह्मलीन', 'उतराधिकारी', 'इक़बाल', 'दयालपुरा', 'सोहराई', 'तक़रीबन', 'फर्रूखनगर', 'ठेंगा', 'त्यौहारों', 'कर्णेश्वरधाम', 'उमानाथ', 'दानशील', 'साहित्योत्सव', 'शांतिनिकेतन', 'शिकायतकर्ता', 'अंदरखाने', 'पंटर', 'लीडरों', 'गलगंड', 'कार्नियां', 'मुर्गीपालन', 'मुशाहिद', 'मॉड्यूल्स', 'रजौरी', 'सुश्रुषा', 'शृंगार', 'होल्ट', 'लैंगिकता', 'इजाजत', 'वनक्षेत्र', 'भूतल', 'स्वादप्रेमियों', 'नाइनटीज', 'फ्रेक्टर', 'लिखकर', 'एयरकंडीशनर', 'नब्ज़', 'कुएस', 'बौनी', 'कारगुजारियां', 'गांगनाम', 'तापीया', 'तेज़पुर', 'तलवे', 'सीमाई', 'दर्शनार्थी', 'रिवास', 'तर्कवाद', 'अनुसारका', 'कोचेला', 'लटककर', 'पत्रावलियां', 'परिषद', 'स्पिन्ज', 'अनशिदा', 'डिजीसस', 'सरायमोहिउद्दीनपुर', 'लॉवेल', 'कैपेसिटर', 'पैसेंजरजींद', 'ग्रंथियों', 'बुएना', 'कैंटरबरी', 'काठियावड़ी', 'टेकचंदानी', 'फ़ीसद', 'बेरहरमी', 'निष्कर्षः', 'ऐक्टिविटीज', 'रिकैलीब्रेशन', 'शासनाधिकारियों', 'फिजूलखर्ची', 'डब्ल्यूपीडी', 'पेस', 'दस्तार', 'कैटलिन', 'जोड़ता', 'किल्लत', 'गृहनगर', 'वंडर', 'वाटर', 'श्विंग', 'पश्तून', 'फार्म', 'डिबनू', 'पश्चमी', 'उठापटक', 'नीलाभ', 'लक्ष्मीनियां', 'महानगरवासियों', 'उपनेता', 'कन्वेंशन', 'शाॅर्प', 'कार्ययोजना', 'मास', 'वेस्टिंग', 'कुर्वेती', 'ज़यादा', 'मुकेश्वरी', 'श्रीमति', 'विवेकाधिकारों', 'लोकसभावाली', 'कबहा', 'भ्रांतियों', 'विवेकहीन', 'बाल्मीकि', 'हरयाणा', 'जीवराज', 'फ्लिन', 'राणा', 'विष्णुपुरा', 'घोटालेबाजों', 'हैरतअंगेज़', 'तकलीफ़देह', 'पीपाड़', 'धभाशारा', 'अंतडियां', 'राबिन', 'सिंगार', 'गुमशुदगी', 'बालकृष्ण', 'फब्ती', 'पलटने', 'लहलहाती', 'नगाड़ा', 'उड़ानें', 'क्लेन', 'जूलूस', 'कार्यभार', 'मंटो', 'पैमाइश', 'कोविना', 'पेंषन', 'ऑगस्टावेस्टलैंड', 'सैंट्रींग', 'ऐक्टिवा', 'बार्कर', 'वल्कन', 'वृत्तों', 'कबड्डी', 'रौनक़', 'कैटलिन', 'फूस', 'जनगणना', 'उपाख्यानों', 'सुंदरम', 'कोचीन', 'नेको', 'कौशल', 'फालिया', 'एस्वेडो', 'कोट्टयम', 'दिलाएगा', 'कर्वी', 'सौंपेंगी', 'लेख़न', 'गुडेपु', 'फरसे', 'नूबिया', 'ताजा', 'आंत्रित', 'काजी', 'मुर्गीपालन', 'एड्डी', 'नगीने', 'सुब्हा', 'लुइस', 'विजयापुरम', 'बताअाे', 'ओकोआ', 'साइंस', 'सरकारें', 'ब्रेमटन', 'गुरुपदो', 'संयुक्त', 'रालोद', 'बाधाओं', 'गौमूत्र', 'सभाएं', 'तनी', 'दिल्ली', 'सुजेन', 'विनीत', 'चिमाते', 'किकियाना', 'रॊकेट', 'मैक्सवेल', 'हिप्पो', 'दीपन', 'अर्यमा', 'भूलता', 'कर्माचारी', 'दुर्गापुर', 'त्रिभाषा', 'सूदखोरों', 'प्रस्तावों', 'सुरवीन', 'प्राप्ती', 'गिरिवासियों', 'सिडयूसिंग', 'वेलवेट', 'मुक़र्रर', 'बैक्सटर', 'डेनिअर', 'सीडब्ल्यू', 'उठनी', 'घासी', 'इकट्ठा', 'भूपसिंह', 'दबोचने', 'क्रॉस्बी', 'नामीगिरामी', 'हर्ले', 'जर्दा', 'लिएप्रधानमंत्री', 'भ्रांति', 'ऐजेंसियों', 'बागो', 'फारसी', 'बोसान', 'कार्की', 'गिनते', 'मनोकामनाओं', 'संम्पत्तियां', 'पॉलिथीनों', 'एमटेक', 'परिचर', 'बडबडी', 'क्रेन', 'लामियां', 'उल्हासनगर', 'प्रभानमंत्री', 'शिवालापुरवा', 'फर्थ', 'सुहागिन', 'सरायकेला', 'रोमियोविल', 'राजस्थानवासियों', 'प्रतिरोधात्मक', 'स्वर्णिका', 'व्यवस्थापना', 'तेल', 'ग़लतफ़हमी', 'टेकइनसाइडर', 'माइक्रोफाइबर', 'श्रीमहापूर्ण', 'फ़ल्लूजा', 'डोनल्डसन', 'चढ़ने', 'जीवविज्ञानियों', 'क्रिकेटिंग', 'रिडक्शन', 'आवाज़ें', 'व्लाद', 'प्राथमिक', 'ठेंगा', 'एक्सेल', 'चटकाते', 'कुबुद्दीन', 'ताजा', 'पड़नी', 'नीचाई', 'वौसौ', 'आलोचकों', 'ज़लज़ले', 'सूरत', 'जीवति', 'प्रहारक', 'श्रीसद्गुरु', 'संचालनों', 'भाल', 'तुगलक', 'उठापटक', 'हस्तांतरणीय', 'उत्साहवर्द्धन', 'संगोष्ट्री', 'शासनाधिकारियों', 'महाधिपतियों', 'फातिमा', 'फोड़े', 'कंटिन्यू', 'कामानाएं', 'चुटीले', 'संख्याएं', 'करंज', 'बरसाता', 'परिकल्पित', 'हरपाल', 'माऊंट', 'ग्रोवर', 'बायोलॉजिस्', 'हालिशहर', 'एंजेलो', 'जनेऊधारी', 'बीचबचाव', 'पोकर', 'अपवर्तित', 'आस्तीन', 'प्रतिष्ठावाले', 'ब्युनावेंचुरा', 'डेक्कन', 'सेरिव', 'पर्दा', 'एमिल', 'शैली', 'ईस्टवेल', 'छल्ला', 'लक्ष्यों', 'हॉफ', 'जरूरीः', 'रह्या', 'महकने', 'देवी', 'नील्सन', 'भीरा', 'चबूतरे', 'भूषण', 'रुकते', 'आमदनी', 'टॉकशो', 'जूनागढ़', 'पढ़ाता', 'ओढ़कर', 'ब्रोक', 'तलाशा', 'परिवारवाले', 'ट्रिब्यूनल', 'ब्रोक', 'यल्लाप्पा', 'तस्वारों', 'तुगलकी', 'पिक', 'सर्किलेशन', 'ज्वार', 'कनिंघम', 'कुश', 'प्रॉपरफेसबुक', 'अशरफी', 'चढ़ें', 'वांगचुक', 'हनीवेल', 'रेडियमधर्मी', 'लड़ेगे', 'सचन', 'अर्थशास्त्रीयों', 'कैंटन', 'आत्ममुग्ध', 'पॉन्टिएक', 'लोपेज़', 'घोंटना', 'अम्बानी', 'मर्यादाओं', 'रतलाम', 'हरक्यूलिस', 'अकोला', 'सक्शन', 'नोटबंदीशुदा', 'लगवाती', 'अलाइव', 'जीवंत', 'फोड़ा', 'फटही', 'नूबिया', 'लालमणी', 'फ़ैसला', 'कृत्या', 'धुआं', 'आहूजा', 'प्रतिपालपुर', 'नमकीन', 'मंजिलें', 'लफ्फाजी', 'जुराब', 'फुलाए', 'केस्टालॉय', 'ब्लैक', 'सूरज', 'ब्रॉन्च', 'अवर्णता', 'जोहरी', 'तेवरी', 'सेंडर्स', 'वेल्डर', 'एनईयू', 'भरष्टाचारियों', 'लालमणी', 'खातेदार', 'आजमाना', 'आवृत्तियों', 'कुल्लवी', 'बहावलपुर', 'प्राथमिकता', 'मोबाइल', 'कटिहार', 'स्वेच्छा', 'हामिदन', 'समदर्शिनी', 'दृढ़', 'गोंद', 'विशेश', 'काबिलेगौर', 'लौरेंस', 'हिशाम', 'चौसिंगा', 'पफिन', 'मेट', 'बिल्डकॉन', 'टीकों', 'अथक', 'जिदंगी', 'चायल', 'माप', 'लास्ट', 'गजरा', 'रात्रिचर', 'काथला', 'सहूलियत', 'पटनायक', 'न्यायालयीन', 'मुख्यमंत्रियाें', 'जीतनेवालों', 'स्वफ़ोटो', 'क्लिफ्टन', 'डोडा', 'पेंडुलम', 'चिपकने', 'नलकसा', 'छह', 'गोंड', 'समीक्षाकर्ता', 'मंत्रीपद', 'लिब्रेशन', 'असमान्य', 'चुंगियों', 'एरिका', 'बेलोट', 'थींं', 'फार्मिक', 'युद्धक', 'वेगास', 'लास्ट', 'चित्रांशी', 'अवर्णता', 'वेस्टिंग', 'वितर्क', 'मुकबाले', 'धर्मपूर्वी', 'अंबानी', 'इबीजा', 'महामीडिया', 'सुज़लोन', 'वर्णित', 'झुठलाने', 'मदुरई', 'कौण्डल', 'लापत्ता', 'क्षीण', 'तेवरी', 'रायचूर', 'लिंडन', 'पुलमा', 'ऑलराउंडर', 'ग़रीबों', 'कालाहान', 'वाबाग', 'कैपधारी', 'आटा', 'बरेली', 'जिंग', 'जीवन', 'रेड्डी', 'पहनी', 'तनु', 'दीपिका', 'लोहाती', 'कक्कड़', 'मौलवियों', 'डूंगरपुर', 'झालाना', 'लक्मे', 'प्रोस्पैक्ट्स', 'वेस्टिंगहाउस', 'बावरा', 'ठक्कर', 'इच्छाचारी', 'त्रिया', 'धावकों', 'दामले', 'श्रवणाबेलागोला', 'नीलकमल', 'कर्माचारी', 'पूर्वाेत्तर', 'लहराई', 'हैतो', 'प्रकाण्ड़', 'खेलमंत्री', 'भविष्य', 'एगमोर', 'शृंगार', 'सौंपेंगी', 'नॉक्सविल', 'बेंडर', 'सुंदरम', 'प्रदेश', 'संवेदीकरण', 'लगुना', 'भीष्म', 'येम्मिगनुर', 'हुहतमाकी', 'वडाली', 'गेल', 'रेस', 'सालाज़र', 'डिप्थीरिया', 'दृढ़', 'शदधि', 'प्रबोधिनी', 'लोकप्रतिनिधियों', 'जताती', 'मंगला', 'बर्विन', 'मम', 'उदयगढ़ी', 'अकापुल्को', 'वैधृति', 'चरणबद्घ', 'मनदड़ी', 'यूक्लिड', 'पारंपरिकता', 'हांफते', 'साथिया', 'संघीयता', 'मुख्यअतिथियों', 'व्यवस्थाविरोधी', 'रक्तदाताओं', 'बरामदे', 'तरुतल', 'कुत्ता', 'झाड़ा', 'किशुन', 'स्कैफ़लर', 'अमरोही', 'रैडिकल', 'जेनर', 'वर्षिय', 'हसीनों', 'शावकों', 'रूपा', 'स्वार्थपरक', 'वेरोनिका', 'वेब', 'महापात्रा', 'छींके', 'अग्र', 'जियांगकोऊ', 'वेस्टवर्क', 'जनगणना', 'पास्को', 'जाधव', 'एंटरप्राइज', 'संशयों', 'वर्णव्यवस्थावादियों', 'उपस्थियों', 'मुडिचु', 'पर्नस्टारों', 'ईए', 'बैला', 'लिवाल', 'हिल्सबोरो', 'राष्ट्रियाध्यक्ष', 'पीडब्ल्यूटी', 'थाउजेंड', 'शाकिर', 'सलाहकार', 'विश्वकर्मा', 'रिज', 'स्वास्थ्यहीनता', 'रिश्वतखोर', 'प्राविंसेस', 'दफ्तरवाले', 'फिजिशियन', 'लोग', 'जोधिका', 'सेवाला', 'डूबत', 'सिपाह', 'भरमा', 'प्रतिज्ञा', 'मेघवाल', 'नंदोई', 'ऑरोरा', 'फार्मूले', 'दुर्घटना', 'स्वतंत्रसिंह', 'मोंटेरे', 'बाल्टी', 'कोलंबिया', 'व्हिटियर', 'दुक्के', 'क्यूबेक', 'चमकना', 'शीलभंग', 'बिस्तागोंड', 'फाइंडले', 'बापा', 'देहरा', 'ऐसे', 'श्रंखला', 'हस्ताक्षरों', 'तिरुपति', 'मंगलमूर्तिः', 'कुर्सियों', 'मिठाइयाँ', 'पहनो', 'हैलबिड', 'बंगश', 'ऑफिशियली', 'सेंवई', 'गुर्जर', 'समन्वयक', 'पार्नेल', 'सूनसान', 'क्यूसैक्स', 'मध्य', 'युद्धरत', 'अर्बनडेल', 'ब्रिग्स', 'एरर', 'चिखली', 'वाण', 'अधिकारियां', 'रोनोक', 'हाओकिप', 'पूर्वापेक्षाओं', 'मशीनवत', 'कदमो', 'कुरमी', 'विद्याथयों', 'सिमटता', 'संगरूर', 'स्ट्रोंगस्विल', 'अगवाई', 'जनगन', 'नागराज', 'यारियां', 'भाग्येष्वर', 'जीवति', 'सूदखोरों', 'रुकवाकर', 'ब्रह्मवर्ता', 'ग्रे', 'भ्रांति', 'पुरूषोत्तमपुर', 'तेजी', 'स्वातं', 'मंत्रिमंडलीय', 'एशले', 'मेथिव्स', 'मूलों', 'एक्ज़ो', 'हमीरपुर', 'पोखरियाल', 'बोलतीं', 'प्रतिष्ठावाले', 'दबंगता', 'धुरिया', 'टिप', 'गाज़ी', 'इजाजत', 'मेज़बानी', 'टोलेडो', 'मोहड़ा', 'पुतली', 'संचारी', 'टापनी', 'लिटिल', 'नरनारी', 'धनिये', 'गाड़ूँगा', 'फाड़ी', 'गम्मत', 'ट्यूबरक्यूलोसिस', 'नागार्जुन', 'राजनीचि', 'मेडिजेन्सर', 'लफ्फाजी', 'कॉमर्स', 'माथलू', 'चटगांव', 'हीलिग', 'इस्न्पेक्टोर', 'टेस्टिंग', 'नौशाद', 'फ़ल्लूजा', 'पिक', 'जीवन', 'कताल', 'डब्ल्यूईएफ', 'बेसिल', 'स्लाइडों', 'सैंदान', 'जेरेमी', 'गॉंव', 'तोड़ेंगे', 'उड़ान', 'सप्तक्रांति', 'मिरांडा', 'व्यापक', 'मैडी', 'सभासदों', 'नौवहन', 'आत्माएं', 'रोज़ा', 'दमाए', 'मिडवेस्ट', 'ट्रेलरः', 'मालबर', 'वाको', 'विमर्शों', 'खान', 'डिफरर्ड', 'सरसा', 'हेस्टर', 'उत्तर', 'कसेरा', 'कुरआने', 'दायित्वों', 'चयनितों', 'मोराल्स', 'हीरोज', 'प्रेममूलक', 'मोरन', 'ज़ाइडस', 'नेल्सन', 'अमरपाल', 'फटने', 'टिंका', 'गायिकाओ', 'पकाएं', 'भ्रष्टाचारीयों', 'चालित', 'एफल', 'मॉड', 'राजनीतिकारों', 'अर्थों', 'गालीगलौज', 'अन्योन्याश्रितता', 'उडाया', 'कटलरी', 'प्रतिबन्धः', 'नीलाभ', 'बिलाई', 'खुल्लमखुल्ला', 'स्वानसन', 'अन्वाहार्य', 'रेवाड़ी', 'सहकलाकार', 'चैंपियनशिप', 'भड़काया', 'नामधारी', 'अल्बा', 'वातानुकूलन', 'खाताधारक', 'टेक्सस', 'स्पेशल', 'हरवंश', 'दीनु', 'शनिवार', 'डीई', 'डाबी', 'नहींकरवाई', 'मारवाड़', 'पीड़ियों', 'ब्रिगटन', 'मनाए', 'लिगर', 'दिलाएगा', 'आधीन', 'परवा', 'हेम्प्सटेड', 'मामूली', 'प्रदेशिका', 'वैरीफ़िकेशन', 'फेफड़ा', 'विसंगतिया', 'कच्छे', 'घोस्ट', 'पिपली', 'लवासा', 'हेल्पर', 'डूबनेवाले', 'बख्शने', 'इन्द्रियोंके', 'बरहद', 'रिसाली', 'काक्षीवती', 'विश्वरक्त', 'लोदी', 'पीचट्री', 'घुमक्कड़ों', 'ओझा', 'इलाज़', 'अरुणाई', 'अयोध्यानाथ', 'भौतिकवादियों', 'रॊकेट', 'न्यूरोकेमिस्ट्री', 'काल्डवेल', 'आवाज़ें', 'मूल', 'मल्टिप्लेक्सों', 'त्यौहार', 'रोटेशन', 'बेलचा', 'सहकलाकार', 'जड़ित', 'नगाड़ा', 'बरपाया', 'डूंगरपुर', 'लैंड', 'उच्छृंखलता', 'फैलाइए', 'सूची', 'नून', 'आरपी', 'सील्ड', 'पालनपुर', 'इलेक्ट्रोस्टील', 'ऑब्स्क्योरा', 'सिगरेटों', 'दिखाईं', 'रसल', 'नजरंदाज', 'कुआलालंपूर', 'ऑस्टिन', 'रैडक्रास', 'टीसीएनएस', 'स्वायत्तशासन', 'मूड', 'दौलताबाद', 'भूलता', 'प्रतिकारा', 'नाइट्रस', 'नाकाम', 'शुटिंग', 'राष्ट्रा', 'बेचकर', 'स्टोन', 'वर्धा', 'डीडब्ल्यूटी', 'देसबथुला', 'बापा', 'बाघबान', 'आदेशः', 'उड़ेलकर', 'तर्कों', 'याद्दाश्त', 'इनहेलेशन', 'सफरदगंज', 'रूपक', 'स्क्रेनटन', 'वर्णव्यवस्थावादियों', 'शिक्षाकार्मियों', 'खंडेलवाल', 'बेवरेजेस', 'पीडिया', 'नदफ', 'जेहे', 'ढहाएँगे', 'मस्तमौला', 'अगरतला', 'जमाया', 'परदेसी', 'आर्यों', 'वेलवेट', 'आपदाएं', 'आगाशे', 'अच्छी', 'उदघोष', 'स्वभावतः', 'बानी', 'राइकर', 'पीडीलाइट', 'ड्युअल', 'भीरा', 'सिल्वा', 'अधिकरन', 'रंजकता', 'श्रीचक्र', 'गौमूत्र', 'निचला', 'बुरहानपुर', 'सहूलियत', 'लब्ध', 'पूल', 'स्ट्रेशन', 'पीकिंग', 'ऑडिटर', 'डेनिअर', 'अजित', 'लैंगडन', 'अवशिष्ट', 'झ', 'प्रशासनिक', 'बोसीयर', 'बढ़ाचढ़ाकर', 'गिरिडीह', 'भुज', 'रीडिंग', 'फव्वारे', 'अद्वैत', 'रुकते', 'अनोंदिता', 'फोंटाना', 'न्यूट्रियो', 'पायलटों', 'जड़ें', 'बोरीवली', 'इलाइची', 'एलियंस', 'धम्मा', 'नाहरगढ', 'एनएसआईयू', 'सपाट', 'लैंगडन', 'पनामा', 'पुतले', 'आसापास', 'अल्वधि', 'मुफलिसी', 'संसथान', 'दर्शनार्थी', 'लोकोत्सव', 'ग्राहकोंने', 'उच्चअधिकारीयो', 'बहाव', 'रेजा', 'मदरसन', 'काॅप्लेक्स', 'आबूरोड', 'हैडलबेर्गसिएट', 'चिमटी', 'सर्फेकटेंट्स', 'मिटाओ', 'कायलाना', 'टंकार', 'ओढ़कर', 'मेड़ता', 'मेगवाल', 'रसायनिक', 'सूचनाः', 'सुगमता', 'जोकि', 'मुनाफ', 'निस्वार्थ', 'क्षेत्रद्वारा', 'महावर', 'बुलढाना', 'धमकाता', 'भूस्वामी', 'विज्ञान', 'क्यूट', 'बेवकूफाना', 'जाजमऊ', 'बेल्ट्रान', 'विलास', 'मखदुमपुर', 'कोलोराडो', 'ब्लैकबर्न', 'सुनीति', 'घिग्घी', 'फ्लेवनाइड्स', 'चहुंमुखी', 'सुपाच्य', 'सिरती', 'विष्णु', 'चौदहवां', 'चौधरी', 'आबरू', 'बलुरक', 'दावणगेरे', 'अनुरीत', 'शिपिंग', 'पटियाला', 'जानम', 'फाइनेंसियल', 'दमाए', 'पालिसी', 'आइसीसी', 'कुच्छ', 'चीखना', 'रिलायंस', 'उर्वरकों', 'रवैल', 'लड़कियो', 'मुकेश्वरी', 'वनक्षेत्र', 'उम्मीदे', 'कहावह', 'कांतिपूर्ण', 'बड़ाएँ', 'एनसीआरडब्ल्यूसी', 'प्रतिबद्धाता', 'फ़ॉलो', 'सेवामुक्त', 'इवान्स्टन', 'चरस', 'हील्स', 'रॉबर्टसन', 'भदौरिया', 'ग्लैक्सोस्मिथक्लीन', 'प्रॉडक्टों', 'गेवारा', 'विज्ञानों', 'जार्विस', 'लफ्ज', 'फॉन्ट', 'पराधीन', 'शक़', 'गंझू', 'डिट', 'दंपतियों', 'माड़ीखेड़ा', 'प्रतिष्ठानोंं', 'सूंड़', 'गिनते', 'अलगअलग', 'स्वास्तिकाकार', 'प्रतिकारा', 'आस्तिक', 'निवेशकर्ता', 'सवाल', 'संस्कृतियां', 'रौबदार', 'रघुराम', 'इंटरव्यु', 'छरहरी', 'सॉयर', 'भासपा', 'ज्वारों', 'संस्थिता', 'पार्षदों', 'पुलत्स्कर', 'उठाएँगे', 'लाएंगी', 'ओईएफ', 'वलसाड', 'मूलों', 'पुतलियां', 'शमिल', 'रिग्स', 'कैमेरिलो', 'सफ़लता', 'विनष्ट', 'कपिंग', 'जयललिता', 'आइटम्स', 'सॉकर', 'एस्फाल्ट', 'मेहरोत्रा', 'चुने', 'जरख', 'मेज़बानी', 'मुफलिसी', 'लूना', 'वर्णव्यवस्थावादियों', 'लिपाई', 'उठनी', 'बजाज', 'हिसारः', 'दंपतियों', 'वॉटसन', 'अगस्टाइन', 'पटाक्षेप', 'धंधेखोरी', 'उभरेगा', 'एंटोन', 'अपारदर्शी', 'निहलानी', 'टिवोली', 'होगिस', 'विंटर', 'बदलवाकर', 'घुमाई', 'पेटालुमा', 'बीएमडब्ल्यूएम', 'बख्शते', 'संवेदीकरण', 'तेलों', 'घुमक्कड़ों', 'हांफते', 'फरहीन', 'जेम्स', 'कीरतपुर', 'रेडिंग', 'शक़', 'सरप्राइज़', 'किसानों', 'चलेंगे', 'योडेर', 'स्टीन', 'पैथेलॉजिस्ट', 'लेबलिंग', 'इक्थियोसिस', 'लिबरेशन', 'फूडॉन', 'नन्हें', 'भदौरिया', 'जटिला', 'पहुंचनी', 'राष्ट्रोंं', 'ब्लॉसम', 'टंडन', 'गड़बड़बड़ी', 'संस्थिता', 'यात्राएं', 'आदान', 'जावते', 'नियुत्तियों', 'भीष्म', 'हंडिया', 'मुर्गीपालन', 'मालेकर', 'लवलैंड', 'मावे', 'विक्रम', 'हांफते', 'बैरकपुर', 'ग़ाज़ियाबाद', 'तर्कों', 'एसपीएफ', 'आर्टेमिस', 'ऐप्प', 'जयबाण', 'गैरइरादतन', 'विवेकाधीन', 'सबजूनियर', 'फालिया', 'प्रेक्षकगणों', 'पुरवासियों', 'विपन्नता', 'मांगा', 'ऑर्डनेंस', 'प्रधान', 'अभियुक्तोंके', 'विराटखंड', 'हिजबुल', 'विद्याओं', 'मंजू', 'छविंद्र', 'छुपकर', 'डोरंडा', 'सायं', 'मिठाइयाँ', 'जीवविज्ञानियों', 'पश्तून', 'ब्रह्राचारिणी', 'यरूशलेम', 'एल्टामोंटे', 'सिहुंता', 'हेमवती', 'कोषाधिकारी', 'आशंका', 'बीन', 'वैज्ञानिकता', 'झीलों', 'रोबर्तो', 'श्रीरामपुर', 'मंचीय', 'वसूलता', 'मोरीसन', 'महाग्रंथ', 'ट्रांजिस्टर', 'सर्वजातीय', 'पाटोत्सव', 'हाॅकी', 'मेडिथ्सन', 'उड़ाना', 'सरायमोहिउद्दीनपुर', 'पीटर्सबर्ग', 'रंजकता', 'दीया', 'माेहिंदर', 'मस्टेक', 'निर्बाध', 'एहसास', 'आवृत्तियों', 'एशियवन', 'थकी', 'टरबाइन', 'दिमाक', 'जोधपुर', 'दरदरा', 'ख़ासतौर', 'मकरानी', 'हाई', 'फटही', 'मारिया', 'गॉंव', 'पेंडुलम', 'आविष्कार', 'नतीजेः', 'जेफरसनविल', 'ब्रह्मसिद्धि', 'तुलसीदास', 'रीता', 'चर्चामंच', 'प्रतिकारा', 'तर्कवाद', 'दबंगों', 'हिचकिचा', 'शीर्षकों', 'डम', 'द्विअर्थी', 'जवाबः', 'बहुमान', 'जांचकर्ता', 'वन्देमातरम्', 'शुड', 'अगस्ता', 'एनईयू', 'दस्तखतशुदा', 'सूरीनाम', 'किंगखान', 'तरस', 'रिकनेक्टिंग', 'फाइब्रिक', 'क्लेयर', 'छीजत', 'मोमिनटोला', 'विरोध', 'अरेना', 'यूनियनवादी', 'बम्लेश्वरी', 'बोका', 'इम्मैच्योरिटी', 'संसथान', 'जीन', 'ददरेवा', 'कीड़े', 'करावणौ', 'पुतिन', 'टंकार', 'खटकती', 'जड़', 'पुष्प', 'जीएम', 'युसूगी', 'कोरोला', 'प्यादे', 'करवायेगी', 'बलात्कारियों', 'जताती', 'गुरदासपुर', 'श्रेष्ठस्वरूप', 'शुभप्रभा', 'यूरोप्लास्ट', 'राष्ट्रभक्तों', 'कैंटरबरी', 'कम्युनिकेटर्स', 'महामंच', 'कॉन्वे', 'डीडब्ल्यूएफ', 'रीव्स', 'डभोई', 'भूतल', 'इंसानो', 'एमिल', 'विज्ञानम', 'सपाटे', 'अटवाल', 'हिंडन', 'ऑफिसरी', 'मोंटक्लेयर', 'पुर्नस्वीकृत', 'रिचर्डसन', 'संदर्भ', 'फार्गो', 'अलीम', 'सप्तक्रांति', 'एचआर', 'इमानदारी', 'कॉन्ट्रेक्टिंग', 'गंगाजल', 'गौर', 'अधिकरियों', 'बंधान', 'सेंधा', 'डब्ल्यूपीडी', 'ग्रविटा', 'लिंगकन', 'प्रवृत्तिविज्ञानों', 'सीमेंटेशन', 'बगड़', 'जेन्ट्री', 'डैटसन', 'मोंटेबेल्लो', 'रिन्यूएबल्स', 'नक्सलवाद', 'ऐतराज़', 'इतिभगवती', 'निवेशकर्ता', 'पटकथाएं', 'काबिलेतारीफ', 'भादस', 'भोगते', 'होल्डिंग', 'धत्ता', 'धोरों', 'उपाख्यानों', 'फयेत्तेविल्ले', 'स्टॉकटन', 'ब्रजेश', 'प्रतिज्ञा', 'बढ़ाती', 'थेन', 'थॉमस', 'ध्येयवादी', 'ट्यूजडे', 'डब्ल्यूजीपीएल', 'ओवम', 'गति', 'न्यूक्लियस', 'क़रार', 'पुरूषोत्तमाचार्य', 'मनचंदा', 'लहसुन', 'नक़ाब', 'सूजा', 'मैकेंज़ी', 'पुर्जों', 'बहुंत', 'ब्रावो', 'अमानत', 'झुठला', 'बुश', 'चौखटे', 'अपर', 'एस्थेटिक', 'क्षेत्रद्वारा', 'सज्जा', 'ढहाने', 'नारियलयुक्त', 'जूलूस', 'कुर्सियॉ', 'सिंघाड़े', 'एमी', 'अंतर्मुख', 'ठक्कर', 'बड़बोलेपन', 'नक्सलियों', 'मैनर', 'हिमाली', 'नक्सलवाद', 'हॉफ', 'महाधर्माध्यक्ष', 'परमौजूद', 'टिप्पणीकार', 'पेरेल्स', 'भपाई', 'बीताने', 'वाल्व', 'द्विरुक्त', 'एड्डी', 'जीवनियां', 'पंघाल', 'खंडा', 'उर्वरकों', 'बेसिन', 'गिरिवासियों', 'पराधीन', 'पुख़्ता', 'अछनेरा', 'कार्सन', 'डेल्टा', 'त्रिपुरा', 'अलयमनी', 'खेड़ा', 'नाहरगढ', 'शालीमार', 'इम्मैच्योरिटी', 'एलएंडटी', 'प्रॉपरफेसबुक', 'उड़ानों', 'महाजन', 'मोसेस', 'बतायाकि', 'अली', 'इलेक्ट्रोमीटर', 'आमोद', 'रूकेंगे', 'मारिया', 'रागों', 'आइपीएफ', 'फलितार्थ', 'सुपाच्य', 'अवशिष्ट', 'ईष्ट', 'रेट', 'आटा', 'महलों', 'वरिष्ठों', 'जलपोत', 'कैटरीना', 'जिस्मफरोशी', 'सैलरी', 'रज़ा', 'रैकेटियर', 'बेसिल', 'बढ़ाता', 'चरणबद्घ', 'भड़काया', 'साहित्योत्सव', 'नरसीपुरा', 'समझूंगा', 'चंद्रपुर', 'सरका', 'ढाह', 'प्रौढ', 'अहितकारी', 'डरावनी', 'बेलिंडा', 'अलयमनी', 'डैटसन', 'अते', 'फास्नर्स', 'बंगरावाला', 'सायरा', 'अट्टहास', 'निर्दल', 'महबूबनगर', 'डराते', 'वल्कन', 'ख़ासतौर', 'बरसाई', 'आनंददायक', 'बांबी', 'तो', 'असमान्य', 'विपन्नता', 'स्पस्ट', 'अमझेरा', 'बेचकर', 'घटबढ़', 'कौशलता', 'मशीन', 'वायरलेस', 'फैंन', 'गानो', 'खंभात', 'क्यूआईपीएस', 'डबलिन', 'एमटीए', 'समृद्धियों', 'राधाकृष्णदास', 'कांस्टिंग', 'इड्डुक्कि', 'इंडस्ट्रियल', 'भारतवंशी', 'मांगी', 'रॉबिंस', 'व्लादिमीर', 'पेहोवा', 'बाग', 'उम्मीदवारी', 'साफगोई', 'कूत्ता', 'एडेन', 'ग्रेनाइट', 'उस्तरा', 'ढूंढता', 'संघीयता', 'कुमारी', 'डिप्थीरिया', 'अड़चने', 'कोरियाः', 'प्रपात', 'छुड़वाया', 'सूइयां', 'वेरोनिका', 'स्कैफलर', 'ज़यादा', 'पॉटर', 'मीडिया', 'यरूशलेम', 'पिछड़े', 'लेटसेंग', 'अर्थव्यवस्थताओं', 'काकू', 'निर्देशिका', 'सेटो', 'नवाते', 'संवेदन्शीलता', 'रोडरेज', 'छहों', 'लफ्ज', 'वंशवाद', 'रोहतक', 'अटकता', 'बावरा', 'कृबरभ', 'प्रकाशकः', 'स्टायरोल्यूशन', 'अपारदर्शी', 'बेंगलुरु', 'अंधापन', 'मैनन', 'क्याः', 'फार्मूले', 'हमलावर', 'अमावस्या', 'पूर्वापेक्षाओं', 'डैशवाला', 'ओकलाहोमा', 'डारमैट', 'सहकलाकार', 'फातमा', 'खलती', 'दायित्व', 'क्यूसैक्स', 'टोलकर्मी', 'वर्शन', 'परिसंवाद', 'इम्युन', 'बचती', 'यूटिलिटीज', 'मलमास', 'कैडमियम', 'एन्टीओक', 'खातेदार', 'मोहिनी', 'विश्वसनीयता', 'रहमान', 'कंबलों', 'आर्यिका', 'मैरेज', 'छींक', 'फलता', 'बागोरा', 'पकौड़े', 'लूसी', 'फतेहगढ़', 'ग्रहणकाल', 'जॉब्स', 'सदानंद', 'दत्त', 'मुर्गीपालन', 'लुढ़कते', 'पल्मोनरी', 'डब्ल्यूआईएन', 'उभारा', 'बेक', 'पडरौना', 'बांधते', 'कपूर', 'सेवाला', 'वर्शन', 'चिढ़ते', 'थाणे', 'निकलेगी', 'मोगली', 'ड्रेजर', 'नागारिक', 'गाजीपुर', 'वादक', 'मिचेल', 'ज्ञातव्य', 'स्तनधारी', 'धोराजी', 'अब्दुन्नासिर', 'विश्ववंद्या', 'सत्यार्थप्रकाश', 'शिवमोगा', 'घुमक्कड़ी', 'गाएं', 'ची', 'थिएटरों', 'अनाधिकारिक', 'शासक', 'हाइंस', 'बेतिया', 'धटना', 'रहमत', 'मोतिहारी', 'पियरसन', 'उज़्बेक', 'व्हीलिंग', 'पाइथागोरस', 'विप्रो', 'काबिलेतारीफ', 'जमाती', 'पुलम', 'दौबारा', 'पोर्टिलो', 'अधीक', 'धुम्रपान', 'दांपत्य', 'जामुड़िया', 'पेडू', 'पिपरा', 'ब्लेयर', 'कम्यूनिकेशन्स', 'अलायंस', 'अरदास', 'गुदना', 'जस्ट', 'आवाज़ों', 'बेंवर', 'अमारिलो', 'ब्रह्माण्ड़', 'दिखार्इ', 'तंत्रों', 'आसान', 'तुगलकाबाद', 'सट्टन', 'कंदरौर', 'खन्ना', 'निकालनी', 'डिबनू', 'इम्मैच्योरिटी', 'तोलासन', 'जानाकरी', 'लिवाल', 'एंजेलिन', 'ऋषिता', 'फ्लिंट', 'वृश्चिकःसप्ताह', 'आसमती', 'गिरकर', 'वैज्ञानिक', 'बिशड़ी', 'फूलती', 'पुनःस्थापना', 'बाध', 'गंध', 'चक्षु', 'मिकटॉम', 'लीडरों', 'ज़बर्दस्त', 'स्तुति', 'औरतो', 'हेब्लिकर', 'रट्टेबाजी', 'फ्रांसिस्का', 'बंबा', 'प्रतियुक्ति', 'डराती', 'प्राणों', 'मेडिसन', 'निभाएगी', 'मयर्स', 'कश्यप', 'ब्रिगेडियर', 'अम्बिकाओं', 'होगाः', 'इशाक', 'सुमि', 'देशभक्तिमय', 'धर्मपत्रियां', 'कृष्णानगर', 'ईए', 'आयुधनिर्माणी', 'ताजा', 'अजस्र', 'फिजूलखर्ची', 'मंत्रयों', 'तांता', 'डीलरशिप', 'चैपल', 'ध्वनिमिकों', 'एजुकेशन', 'जरख', 'नीट', 'जिलावासियों', 'संप्रभुता', 'कसेगा', 'पकानेवाला', 'दीपन', 'कलसाना', 'मुगालता', 'टोकने', 'फलीभूत', 'ग्योंठ', 'दिखार्इ', 'शामजीभाई', 'पहनाकर', 'किसानी', 'उधारदाताओं', 'रामटेक', 'व्याख्यात्मकता', 'साेमवार', 'विस्टा', 'पॉलिमर', 'रक्ताभ', 'भुगता', 'भ्रष्टाचारीयों', 'खटकती', 'मुख्यमन्त्रियों', 'मैड', 'कक्षांग', 'जैन', 'महीन', 'सुर्वणा', 'बांगरोटिया', 'रसायनिक', 'औरोरा', 'चमचागिरी', 'एनसीआरडब्ल्यूसी', 'ऐंठे', 'एस्सेल', 'देशसेवा', 'इलेक्ट्रोटेक्स', 'वर्कचार्ज', 'कार्वाई', 'झांकता', 'अर्जेंट', 'सप्रमाण', 'मौर्यों', 'जिनी', 'जगदीशचंद्र', 'असुरक्षित', 'काव्योक्तियां', 'अलंकार', 'स्वादप्रेमियों', 'जातक', 'रोलर्स', 'अशक्तता', 'काठियावड़ी', 'आवृत्ति', 'विद्याएं', 'विधिवत', 'राधे', 'मुख्यमंत्रीसंवाददाता', 'प्राणसंगली', 'कनलोग', 'पुदुकोट्टई', 'निकी', 'फूहड़ता', 'पटाक्षेप', 'रीट्वीट', 'मनोवैज्ञानियों', 'स्तनधारी', 'मुखोपाध्याय', 'निर्बाध', 'तोडऩे', 'आवृत्ति', 'परीक्षणकर्ताओं', 'एक्सटेक्टर', 'नाशिक', 'रसायनों', 'वैत्रवती', 'ऑग्रेनाइज', 'चौसिंगा', 'फलोदी', 'स्खलन', 'पनामा', 'निगर', 'मोंटे', 'सुनीति', 'शराबों', 'अम्बिकाओं', 'गुजारा', 'फोटोफ्रेम', 'प्रहलाद', 'बीसवां', 'द्विवेदी', 'देनेवाली', 'बर्ल्सन', 'भारद्वाज', 'जताती', 'मालेगांव', 'रहुगाँ', 'महामंत्र', 'बीस्ट', 'दिव्यता', 'संजीवन', 'कुपोषित', 'एक्सक्लेशन', 'चढ़ेगा', 'टेक्सरकाना', 'डूंगरपुर', 'सराही', 'लालपरी', 'एरोनॉटिक्स', 'वर्थ', 'आस्तीन', 'स्वप्निका', 'उपकार्यालयों', 'मिमिक्री', 'बल्लभ', 'वैरीफ़िकेशन', 'हैकेंसैक', 'आकाश', 'बोना', 'क्लाक', 'द़फन', 'पेगव', 'कहलाया', 'माड़ीखेड़ा', 'तेलीबाग', 'धारक', 'निकालनी', 'कंघे', 'प्रश्नोत्तरी', 'काकीनाड़ा', 'भाग्योदय', 'सिंगार', 'मचाए', 'लेखकगणों', 'उछालने', 'धर्मराजने', 'ऐंजल', 'बंटता', 'फाॅर्म', 'रवैल', 'हनुमानगढ़', 'वीरांगनाओं', 'गायत्री', 'वेंकटरमन', 'डिबनू', 'पुरूषोत्तमाचार्य', 'संयोजकों', 'झाउगंज', 'सरकारें', 'न्यूटेस्ट', 'श्रीकर', 'मिटाओ', 'दियोटसिद्ध', 'भूपसिंह', 'चर्चाएँ', 'प्रसारकों', 'निष्पाप', 'फ्लिन', 'रणनीतिबना', 'ईआरजी', 'धागा', 'गौमुख', 'जूड', 'खनिकर्म', 'शरभ', 'अरेलानो', 'उखड़कर', 'लेनेवाली', 'कुमार', 'सिंघाड़े', 'टोंसिल', 'दविन्दरपाल', 'सिंगार', 'खिसकते', 'एनिड', 'मेगापिक्सल', 'दिग्विजय', 'फजलों', 'दोगे', 'लेबलों', 'मुनाफा', 'बड़ने', 'वैरी', 'सातसेरा', 'ओर्टेगा', 'रोवे', 'भाटिया', 'राजस्थानवासियों', 'बागबगीचों', 'विल्किंसन', 'डराती', 'अटके', 'प्रमुखतापूर्वक', 'यत्न', 'नितिन', 'सिटी', 'रेडिको', 'दुकानों', 'जलसंसाधन', 'मत्स्येंद्रनाथ', 'बिहार', 'बर्षीय', 'अवरु', 'दाव', 'नक़ाब', 'सारेगामा', 'हुगली', 'सत्ती', 'नेग', 'महाबलेश्वर', 'प्लेसेंटिया', 'वर्साचे', 'कुमाऊ', 'एमी', 'थियेटर्स', 'एरिका', 'खिंचकर', 'रौबदार', 'ऑल्टो', 'काव्यविधाओं', 'कून', 'अक्रोन', 'तहखाना', 'समाजजनों', 'मचाए', 'सूर्यदेव', 'प्राथमिक', 'प्रवृत्रियों', 'ताजा', 'जीवनशैली', 'रक्तदाताओं', 'बालेश्वर', 'भौतिकवादियों', 'लगातीं', 'झाइयां', 'वंशवाद', 'नवानगर', 'नजरंदाज', 'अंशांकन', 'फुंकने', 'मतपत्रों', 'मॉड्यूल', 'फार्म्स', 'पहुंचोगी', 'मैडी', 'थीफ', 'फाउडलर', 'अमित', 'पूर्वाभाद्रपद', 'लंगड़ा', 'गोंपो', 'वेस्ले', 'शाओ', 'हामिदन', 'वीक्स', 'मिनरल', 'सेंटेंनियल', 'बस्तियो', 'बागबगीचों', 'प्रनीत', 'भेदभावों', 'कराहना', 'ग्रीनविल', 'सहरावत', 'रालोद', 'जातकों', 'रिश्ते', 'बेंटनविल', 'नजीबाबाद', 'फाइनेंसर्स', 'फटही', 'केरला', 'लड़ाईयों', 'हरिजन', 'वाईटेकर', 'विदिशा', 'पॉल', 'आर्यों', 'खिलाना', 'छूटने', 'दुखियों', 'पूर्णेश्वरी', 'विसबल', 'दरम्यानी', 'यारी', 'विधमान', 'यात्राएं', 'सनटेक', 'गुजारता', 'नियंता', 'डम', 'अवस्थी', 'पल्स', 'भें', 'स्टॉप्स', 'धकेलते', 'केपीओ', 'दमघोंटू', 'इंसानो', 'मैरेज', 'एस्फाल्ट', 'लॉन्ड्री', 'रत्नाभूषण', 'स्की', 'दुश्वारियों', 'अनुप्रयोगों', 'देशसेवा', 'लेलऽ', 'जगारागल्लू', 'मेजबानी', 'डेहरी', 'चक्कर', 'क्रोफोर्ड', 'गुदुरी', 'डीवीसी', 'प्रक्रियागत', 'नग', 'मत्स्यावतार', 'स्कूटरों', 'अर्धविश्वास', 'दरम्यानी', 'सुर्वणा', 'स्थितियां', 'धर्मानंद', 'सॉफ़्नर', 'स्क्वैश', 'विधानसभाएं', 'रैंडोल्फ', 'मेज़बान', 'स्प्रिट', 'शीलभंग', 'कलमें', 'स्वर्णिका', 'मंडी', 'अर्थव्यवस्थताओं', 'कुंडलियाँ', 'नीमकाथाना', 'फाॅर्म', 'हत्यारोपित', 'पुट्टा', 'फारेंसिस', 'पुरूषोत्तमाचार्य', 'बॉंन्ड्स', 'शिकायतकर्ता', 'क्रान्फ्रेंसिंग', 'उबाल', 'बाबाओ', 'हलमतपुरा', 'हकीकत', 'बर्मन', 'वर्तमान', 'बांटीं', 'अचंभा', 'जीवनपर्यंत', 'वदरा', 'सडक़ें', 'एेसा', 'ज्योतिष्यशास्त्रों', 'पाइथागोरस', 'एंजेलिन', 'कपोलकल्पना', 'द्रोपदियों', 'रोजलिन', 'श्रीराम', 'गोपालक', 'बंगबंधु', 'मिस्त्रियां', 'उसेे', 'मर्काडो', 'मैसोर', 'ऑफशोर', 'कपूरथला', 'साहोवालिया', 'मलदहिया', 'हाइमन', 'इंदौरनगर', 'विशेषज्ञताओं', 'उसकी', 'कैपलिन', 'महाप्राण', 'रुपेश', 'रिनो', 'सुदीप्तों', 'स्वामी', 'अमारा', 'व्यवस्थामूलक', 'सेंसिंग', 'टाइलर', 'संगारेड्डी', 'पहनो', 'मरदानी', 'बम्लेश्वरी', 'दिवानी', 'फिनकॉर्प', 'नवा', 'शिमट', 'सोहावल', 'बनाम', 'प्रवृत्रियों', 'शियोंग', 'वर्स्टेड', 'राजों', 'चीखना', 'नैमुल', 'बढ़ोतरी', 'एंटोनी', 'छांयसा', 'निर्देशिका', 'निपटारा', 'जुडने', 'सुझाती', 'पैथेलॉजिस्ट', 'टाइड', 'शृंगार', 'ब्रान्डेस', 'परमेश्वरपुर', 'जेडटीईसाफ्ट', 'उद्धाटन', 'स्टैन', 'आदिवादियों', 'जुलाहों', 'महाराजा', 'गतिशीलता', 'शिप्रा', 'ट्रिब्युनल', 'ख़ैबर', 'वनविभाग', 'घटाटोप', 'धर्मग्रंथों', 'प्रवृत्तीयों', 'गांठ', 'मैसोर', 'सहगल', 'नमकीन', 'वैध्', 'वनस्पतियाँ', 'जियांगकोऊ', 'पाखंडी', 'प्रोटेक्ट्स', 'एल्बाइनो', 'लिंडेन', 'सोहावल', 'भुरभुरा', 'गैस्ट्रोलॉजी', 'विद्रूप', 'साजसज्जा', 'रात्रिचर', 'रोजना', 'जलभराव', 'मोंटगोमरी', 'सेव', 'भ्रष्ट्राचारियों', 'डीडब्ल्यूएन', 'स्ट्रेशन', 'गांठे', 'गहलोत', 'छतेनी', 'विश्वसनीय', 'जीवनियां', 'दस्तानें', 'धोना', 'खरुवार', 'सूरीनाम', 'मंगलसिंह', 'अन्योन्याश्रितता', 'नाइनटीज', 'पांचोलास', 'रेसों', 'वातानुकूलितों', 'चतुष्कोणीय', 'आमदी', 'दुष्टतापूर्वक', 'बेचते', 'चौका', 'मिज़ोरम', 'टोरेंस', 'अनुचित', 'अवरोधक', 'रॉस', 'अच्युत', 'ऊधामी', 'हरावल', 'गोल्ड', 'दाव', 'सृजनविज्ञानी', 'नेक्स्टजेन', 'रूकावटों', 'भावनाओं', 'देहधारी', 'परीक्षाएं', 'उतने', 'संस्कृतिओं', 'प्रॉस्पेक्स', 'नईदिल्ली', 'सायं', 'जिनीवा', 'रसद', 'बारामुला', 'वन्देमातरम्', 'सफारी', 'चम्बा', 'सवाल', 'बन्नारी', 'फ़तेहपुर', 'पहनता', 'स्प्रे', 'नॉर्मल', 'ऑलआउट', 'मनासस', 'मंत्रियोंके', 'कार्यकार्यकर्ताओं', 'फाडऩे', 'ग्रेग', 'बैतूल', 'कुषाण', 'सुब्बनी', 'इन्फिबीम', 'खटखटाकर', 'चाचाजी', 'चंद्रबली', 'बारिपदा', 'रूहेलखंड', 'ग़ैरकानूनी', 'आरेखः', 'प्रमुखकर्मियों', 'ली', 'थियेटर्स', 'असम', 'फानों', 'ज़्यादा', 'थियेटरों', 'सफाईकर्मी', 'बीएसएसएस', 'क्रान्फ्रेंसिंग', 'जीवराज', 'थिरके', 'शकसुबहे', 'पैराट्रूपर', 'डभरा', 'उसी', 'निःसंदेह', 'महानतम', 'बांठिया', 'अनम', 'कश्मीर', 'बावडी', 'भुट्टो', 'मारके', 'कार्ययोजना', 'फ्रांसिस्को', 'अदाणी', 'धुरिया', 'महाविद्या', 'मेगापिक्सल', 'क्रिप्टोकरेंसियों', 'मूठ', 'ऑथोरिटी', 'अपरिवर्तनशील', 'प्रधानमंत्रीकी', 'आगाशे', 'नवजागरण', 'अट्टरा', 'उबाला', 'अमानती', 'खम्मम', 'हारना', 'भावाभिव्यक्तियों', 'पुष्कर', 'शांतियों', 'नेरोलेक', 'चौका', 'सिद्दालिंगा', 'भरतनाट्यम्', 'जवाबः', 'दुश्वारियों', 'मंचीय', 'जीयो', 'सप्रमाण', 'सीम', 'पीएचडब्ल्यूसीएस', 'बहाव', 'टिक', 'अगवाई', 'हाइमन', 'क्यूआईडब्ल्यूआई', 'अज्ञात', 'एजेंडे', 'लिंचबर्ग', 'मांगीना', 'खटखटाएगी', 'जोधिका', 'सृजनविज्ञानी', 'डेटसन', 'बदलवा', 'उर्फ', 'छापेमार', 'लक्स', 'भोपाल', 'फलीभूत', 'पैथेलॉजिस्ट', 'पर्याप्तता', 'फूर्ति', 'मृत्युनिवारक', 'मारुति', 'उठाकर', 'एएलओ', 'पेगव', 'पीलीभीत', 'सोमी', 'संचालनों', 'कांचीपुरम', 'डराती', 'याद्दाश्त', 'साबुदाना', 'वेल्डिंग', 'वेरोनिका', 'स्टिम्बेरवाला', 'मायाजाल', 'पेस', 'अतुल', 'औटोमैटिकली', 'जांचना', 'मिथिलांचल', 'फिक्सिंगः', 'सजेती', 'प्लानो', 'विसंगतिया', 'खोमचे', 'लगना', 'मुकेश्वरी', 'तस्वारों', 'देव', 'वेश', 'ज्योथी', 'लेंडल', 'वीरांगनाओं', 'यनित', 'पूर्णिया', 'चौक', 'लड़ीं', 'चेस्ट', 'कसेगा', 'एबट', 'रेनुका', 'लूवे', 'गुलाबाग', 'लज्जालु', 'साभार', 'गैरराष्ट्रवादी', 'धावकों', 'लिम', 'विद्याएं', 'स्वयंस्वीकृत', 'इलेक्ट्रोटेक्स', 'रामराज', 'जनभावना', 'यौनिकता', 'हाथे', 'दूने', 'प्रोटेक्ट्स', 'वरेण्य', 'मज़बूरी', 'प्रवीनचंद', 'वैज्ञानिक', 'टोरेंट', 'आत्माएं', 'संप्रति', 'मत्थे', 'सविता', 'अटलांटिक', 'जलगति', 'चच्चा', 'आफरीन', 'बाजारू', 'चौकी', 'फरसे', 'ट्यूनिंग', 'नोडरानी', 'मौम', 'विधाणी', 'गुजार', 'पकडकर', 'ऑंखें', 'आपका', 'वार्नर', 'अन्वाहार्य', 'लिखेहैं', 'पाठ्यक्रम', 'शावकों', 'यरूशलेम', 'मण्डलायुक्तो', 'नैनो', 'झाइयां', 'सिम्फरपोल', 'धम्म', 'निखरेगा', 'घुमाण', 'होऊंगा', 'ढकाल', 'सागरिका', 'बर्नार्ड', 'योगबल', 'ब्रेवरीज', 'डिश', 'ऐठन', 'वर्तमान', 'त्रैमासिक', 'तस्वीरे', 'व्यवहारगत', 'मराठा', 'बनवा', 'स्वर्णिका', 'प्रसाथ', 'ओवरऑल', 'पूर्वाफाल्गुनी', 'प्रॉपरफेसबुक', 'सुवेन', 'सपाटे', 'झ', 'करघे', 'देशकाल', 'नाथवाड़ा', 'थानवी', 'ओरण', 'सेरानो', 'इअर', 'सबमिशन', 'धारक', 'तदाद', 'ग्रीनवुड', 'हाउते', 'बहुरिया', 'नियंताओं', 'चूरू', 'मिसौरी', 'अन्याय', 'जेनरेट', 'न्यूटेस्ट', 'गरुड़', 'स्वास्तिकाकार', 'शैइ', 'सिद्धांतवादियों', 'अनावश्यक', 'सीटें', 'गुलशन', 'रिया', 'फर्मिऑन', 'टायर', 'ची', 'बदलापुर', 'युद्धनौका', 'एनबीसीसी', 'श्रीगंगानगरवासियों', 'उदा', 'कैंब्रिज', 'एयरवे', 'आइडल', 'कैल्यूमेट', 'आजमाना', 'तंत्रिकाओं', 'जोन्सबोरो', 'बुद्धिजीवों', 'क्लोज़अप', 'एनएमडीसी', 'राष्ट्रपित', 'कमारहाटी', 'एस्फाल्ट', 'फ्रांसिस्को', 'भल्ला', 'मौलवियों', 'नरवर', 'लहलहाती', 'ब्यावर', 'घटाएगी', 'नामजदगी', 'तकः', 'सेवाग्राम', 'लामियां', 'जिन', 'स्वेच्छा', 'अंतडियां', 'आर्यो', 'पॉलिशिंग', 'जोखिमभरा', 'उमड़ती', 'तंत्र', 'सामोआ', 'सीएसआई', 'मांड्या', 'लॉरी', 'पहनते', 'अंकोर', 'निम्नवत्', 'रैपिंग', 'रुपेश', 'प्रतिबद्धाता', 'नाडेप', 'सैलानीपन', 'मेंराज्य', 'दाव', 'आबूरोड', 'पाठ्यक्रमों', 'निविदाताओं', 'गांधीपुरा', 'पीएचडब्ल्यूसीएस', 'नारायणगढ़', 'जयललिता', 'सुसंस्कृत', 'मसूद', 'वुनसोकेट', 'संस्कृतियां', 'उर्फ', 'थेराटीपल्ली', 'प्रतिनिर्देश', 'उल्हासपुर', 'पहनते', 'धावकों', 'भगेड़', 'प्राणसंगली', 'जलवायु', 'भिजवाई', 'सायरा', 'क्रेन्द्रों', 'मौजुद', 'सिद्घांत', 'कम्युनिकेटर्स', 'चिड़चिड़ापन', 'मुथूट', 'विवेकाधिकारों', 'मलौन', 'सिनसिनाटी', 'रेगिस्तान', 'परोसने', 'विचारकों', 'जनभावना', 'अंडमान', 'बडयाल', 'मोरपेन', 'बियर्ड', 'नोडरानी', 'दिखायेे', 'छींक', 'व्याख्यात्मकता', 'शैशव', 'आइंथू', 'अहमदाबादः', 'जायके', 'सिग्निटी', 'कुरुक्षेत्र', 'प्रवृत्तीयों', 'चर्चा', 'लक्ष्मीचन्द्र', 'हैमंड', 'निभाएगी', 'धुनाई', 'जनभावना', 'कांट', 'मेलघाट', 'मुऐ', 'श्विंग', 'दांपत्य', 'कपड़ा', 'संतति', 'मानवटरहित', 'अनुप्रयोगों', 'हार्वे', 'काजू', 'सेररितोस', 'टेक्समैको', 'संचार', 'ट्रुथ', 'लोज़ानों', 'रोपने', 'हॉलीवुड', 'छींके', 'धम्मा', 'टेक्नोप्लास्ट', 'पूजापाठ', 'चानन', 'श्रंखलाओं', 'छेड़ना', 'कार्बोजेन', 'व्यवधान', 'शुल्ट्ज', 'इस्त्राइलियों', 'स्क्वाश', 'डैनविल', 'प्राना', 'ठाकुरवादी', 'प्रयोगशास्त्र', 'व्यक्तीयों', 'मैट्रोलॉजिस्ट', 'मढ़ौरा', 'पालियों', 'डेनवर', 'एपीजे', 'बैनी', 'प्रतिस्थान', 'भ्रष्टाचारीयों', 'लकीर', 'सुधारगृह', 'संदली', 'जागृति', 'तलवार', 'जनशिक्षा', 'टापुओं', 'बुलेटिन', 'बल्लेबाज़ी', 'माड़ीखेड़ा', 'अर्थशास्त्रीयों', 'स्कैनिंग', 'मेहमान', 'रहेगी', 'जमशेदपुर', 'त्यौहारों', 'दर्शाना', 'बीचबचाव', 'सुलाती', 'वर्शन', 'सुधारती', 'वसामुक्त', 'पाटिल', 'जेवाब', 'सोटो', 'धातुएं', 'डोसे', 'भागदौड', 'पगबाधा', 'आरुषि', 'अगस्ता', 'टाइटन', 'इक्विटीज', 'एयरटेल', 'ऐल्प्स', 'नक्सली', 'अचीवमेंट', 'गलाएगा', 'फूडॉन', 'राजनीचि', 'आर्य', 'स्ट्रीमवुड', 'घोट', 'म्यूजिक', 'पुरकायस्थ', 'नोरा', 'टॉनिक', 'गुजारने', 'वाटर', 'सूनसान', 'सिरसा', 'टेंगीरला', 'हेनसन', 'वरुण', 'ड्रेजर', 'दौड़ाते', 'शराबों', 'व्यक्तीयों', 'सातसेरा', 'दर्जनों', 'अग्नियां', 'धोना', 'कार्यकर्त्रियों', 'अवस्थाएं', 'हिममानव', 'टु', 'ऐल', 'बंधुओं', 'श्रद्धावानों', 'मारियो', 'व्याघात', 'माईकल', 'अद्र्घ', 'विट्ठल', 'प्रारूप', 'ढूंढती', 'डुबाना', 'लडने', 'फार्म', 'जुवारी', 'परिवारवाले', 'पैरानॉर्मल', 'भुवनेश्वप्रसाद', 'आईरिस', 'प्रतिज्ञापूर्ण', 'लेबलों', 'श्रीकृष्णन', 'स्नीकर्स', 'कईं', 'भूस्वामी', 'कटरा', 'अन्याय', 'नोकरी', 'प्रिसिशन', 'क्रोम', 'जुए', 'बोलिंग', 'ताप्ती', 'कैथोलिकों', 'नजरंदाज', 'मूलचंद', 'स्वेच्छा', 'नन्यौला', 'घोंटना', 'अद्वैतवाद', 'अंडरवुड', 'लुभावना', 'पेट्रोसेली', 'आमदी', 'रोपने', 'डेजी', 'जबाबी', 'कप', 'फाड़े', 'उलाहना', 'उन्नतियों', 'मोलिना', 'गांडचुभोनाचूसनाछोटे', 'हां', 'प्रर्दशन', 'सरगुजा', 'बीदर', 'अमरगढ़', 'जुए', 'टोंक', 'देवापुर', 'इंटेलीजेंस', 'नीतियों', 'खनौदा', 'पोरबंदर', 'सिम', 'लग्नेश', 'गायिकाओ', 'पृष्ठभूमियों', 'मूलचंद', 'सिल्चर', 'मार्गरिटा', 'उदाकिशुनगंज', 'सिरती', 'यमला', 'प्रशिक्षु', 'सिएरा', 'आल्हा', 'पेक', 'तसखीर', 'डाका', 'नॉमिनेट', 'सपाट', 'कोयम्बटूर', 'कोरापुट', 'स्वायत्तशासन', 'विद्युतीकृत', 'किकियाना', 'अरुणाई', 'रीगल', 'डायमंड', 'मृदुभाषी', 'वाल्टर्स', 'सूत्रपाडा', 'कीति', 'ज़िलाधिकारी', 'मंगेश', 'पेंषन', 'लगनेवाले', 'जिलावासियों', 'प्लोस्की', 'एकसाथ', 'सेखर', 'डीओडब्ल्यू', 'अर्धविश्वास', 'राजस्थान', 'विकासखण्ड', 'संशयों', 'बढना', 'क्लासों', 'उखरुल', 'फुरामे', 'एबज', 'बाताया', 'जुशान्तान', 'स्ट्रॉन्ग', 'राजनीतिकारों', 'पानीपत', 'ब्लांकार्ड', 'झाबुआ', 'जकिंटो', 'बारहसिंगा', 'सूचनाः', 'इलेक्ट्रोमैजिक', 'लालमणी', 'भाऊलाल', 'कठुआ', 'पलारी', 'अमिताव', 'तदंरुस्ती', 'वाबस्ता', 'व्लाद', 'स्लैश', 'वाटरबरी', 'सेल्फी', 'लुईस', 'पंचसूत्र', 'अर्यमा', 'वादक', 'जंक्शन', 'जेनरिक', 'जिया', 'एडेन', 'सॉफ़्नर', 'क्यूडब्ल्यूवीजीए', 'ध्वनिमिकों', 'फीड्स', 'सुकडि़याल', 'अनगढ़', 'बावजी', 'छोडिये', 'सिप्ला', 'विज्ञानों', 'धस्माना', 'लोंगोवाल', 'बदाम', 'अट्रैक्ट', 'सराहा', 'नृत्यशैली', 'संवरी', 'यक्षाधिपति', 'अरबपतियों', 'मुकद्दमों', 'फोड़े', 'सिहुंता', 'जीवन', 'ढूंढता', 'क्रुसेस', 'कार्यकर्त्रियों', 'प्रतिबद्धताएं', 'डीएलडब्ल्यू', 'प्लेन', 'पायलट', 'अधिवास', 'फैंन', 'फव्वारा', 'हालचाल', 'विश्ववीर', 'क्रेस्ट', 'ब्रह्मलीन', 'विरेचन', 'याद्दाश्त', 'उज्जैन', 'सहयात्री', 'जिम्मे', 'सारावागी', 'देखियेगा', 'वजूद', 'कुंडल', 'रिया', 'स्लाइडर', 'मैनेजमेंट', 'कार्यकार्यकर्ताओं', 'क्रिस्टिस', 'रुकते', 'डिस्ट्रब्यूटर्स', 'स्पेल', 'दमपर', 'ठिकाने', 'इंटरटेक्चुअलिटी', 'सीडीयां', 'साउथ', 'आपका', 'नहींकरवाई', 'जागृति', 'चूड़े', 'थर्टी', 'नक्सल', 'जीएसएम', 'गुजरात', 'दर्शनार्थी', 'नाभा', 'धोखेबाज', 'लेगा', 'बीआईआईटीएम', 'साेमवार', 'वाणों', 'औद्योगिकरण', 'अग्रहरि', 'आफॅ', 'तीमारदारों', 'मिश्रा', 'सेरेब्रा', 'नागारिक', 'दस्तार', 'मकरः', 'जीतोड़', 'बैलिस्टिक', 'चढ़ेगा', 'मांगे', 'नीलाभ', 'मेंशराब', 'सिंघाड़े', 'हिसारः', 'रामकोट', 'बैठते', 'तसखीर', 'इशारा', 'सोलापुर', 'मेजबानी', 'फ्लोरेंस', 'परामर्शक', 'झाड़ने', 'थियेटर्स', 'आदान', 'आंबियंस', 'सुरक्षाः', 'हिकारिको', 'बांया', 'रुकवाई', 'मित्रवत', 'बोकारो', 'मौर्या', 'प्रतिनिधिकारी', 'चंद्रमाओं', 'परोसने', 'ढैया', 'स्पिरिट्स', 'लियान्ड्रो', 'शॉन', 'स्वार्थपरक', 'चूचियां', 'महामीडिया', 'पूर्वजन्मों', 'शोहदापंती', 'कुषाण', 'जमलोकी', 'एवरेस्ट', 'तस्वारों', 'अधिवास', 'प्रेमलता', 'मुर्रिएटा', 'वैमनस्य', 'केली', 'टिनप्लेट', 'वाण', 'महामंत्र', 'मेजबान', 'शुमाली', 'फुलाए', 'प्रूट', 'रुजवेल्ट', 'प्रशासनिक', 'उलझानों', 'पत्रकारवार्ता', 'दुआर', 'कठफोड़वे', 'बिपिन', 'ऑफरः', 'ईसाइयों', 'प्रोपेलेंट', 'कंसाई', 'सीखीं', 'सीडीसीएल', 'एबोट', 'कटलरी', 'आदिवादियों', 'चित्रकथा', 'अवशिष्ट', 'फ्यूचुरिस्टिक', 'तेरीः', 'नन्हें', 'एवरी', 'सूबा', 'शाखाएं', 'त्रिकालदर्शी', 'पालसाही', 'फैलाइए', 'झउवा', 'जमाती', 'जनहानि', 'पोंडिंग', 'तस्वारों', 'देशकाल', 'हिचकिचा', 'बस्तीः', 'गरीबी', 'फड़फड़ाएं', 'सीताराम', 'कमेरे', 'बैरकपुर', 'स्वयंस्वीकृत', 'कासोवो', 'मज़बूरी', 'कन्वोकेशन', 'स्किपर', 'जयपुर', 'प्रस्थानों', 'नरम', 'रेडियोप्रेमी', 'टीटागढ़', 'चिको', 'राज्यमंत्रीस्वतंत्र', 'मैनवल', 'गुजारना', 'सतलुज', 'जातियों', 'अनहोनी', 'टेलीलिंक्स', 'लैब्स', 'हरावल', 'मैरेज', 'मनिया', 'ट्रैक्टर्स', 'कंचन', 'लैरी', 'कार्यावधि', 'जलभराव', 'भाड़ा', 'बागोरा', 'पिएगा', 'स्टीफेंस', 'अभिमत', 'एक्सेल्या', 'वायरलेस', 'चौड़ा', 'परभणी', 'खातेदार', 'बढना', 'बर्च', 'उपद्रवों', 'टिकियों', 'मिल्क', 'डुबोना', 'बेकर', 'सुतली', 'बुद्धाराम', 'वेल्थ', 'पटरानी', 'अर्धविश्वास', 'पैम', 'कास्टानेडा', 'बलजीत', 'भटनागर', 'जातकों', 'इक्वाडोर', 'स्वर्गदूत', 'ऋषिकुल', 'टेट', 'कंठहार', 'बेऔलाद', 'यूरोपिया', 'गए', 'ददरेवा', 'बिखेरने', 'हमलो', 'पकड़ाए', 'उपलब्धियों', 'कोलोराडो', 'पैकर्ड', 'जागृति', 'आंध्रा', 'चौंकाते', 'बेख्वाबियां', 'नफ़ा', 'सिन्हा', 'उत्पीडऩ', 'सागा', 'आर्य', 'दिखाइये', 'अनिष्टता', 'उड़ान', 'संयुक्तावस्था', 'शमलात', 'एवव', 'अधिवक्तागण', 'रल्हन', 'झुठलाने', 'पूर्वाभास', 'बिजेन्द्रसिंह', 'चिनमणि', 'लोकसभावाली', 'लड़की', 'नरसिंहगढ़', 'संगठनमंत्रियों', 'रूपी', 'कार्यकर्ताओं', 'अगस्ता', 'मनमर्जी', 'अंतर्मुख', 'अनुमार', 'रिश्तानाता', 'द्विअर्थी', 'चुटीले', 'हैटीज़बर्ग', 'यूजी', 'राज', 'रैगुलाइजेशन', 'विंध्या', 'फिक्सिंगः', 'कमज़ोर', 'भरा', 'चौदहवां', 'फलने', 'श्रंखला', 'विपन्नता', 'प्रूफ़रीड', 'ज़माना', 'घटाएगी', 'दंगा', 'एरिका', 'भोला', 'व्याख्यात्मकता', 'योजनाः', 'वेबुनियादी', 'रुमानी', 'साहू', 'प्रधाननगर', 'सीऐटल', 'स्टैन', 'इनसानी', 'हमला', 'न्यूट्रियो', 'लदड', 'अंतडियां', 'कुशवाहा', 'कोच्चिः', 'गणपति', 'फार्मिक', 'पड़ेंगी', 'अर्थ', 'मुक़र्रर', 'निपटाकर', 'होलिडेस', 'कूच', 'उठ्ठक', 'सुलखान', 'कमेरे', 'जगाएगा', 'संत्री', 'शख्सियतें', 'पंचांग', 'झालाना', 'नित्या', 'इच्छी', 'हाबरा', 'पालियों', 'एजूस्पर्मिया', 'तावीज', 'फ़ूडवर्क्स', 'ग्राहम', 'प्रभानमंत्री', 'सेथ', 'जगताप', 'हर्षित', 'डूबना', 'रक्तदाताओं', 'मेक्सिको', 'तासीर', 'एयरकंडीशनर', 'एड्डी', 'मैकॉन', 'इसरानी', 'ऐंठ', 'श्रीमहापूर्ण', 'डॉर्क', 'जीनों', 'ग़रीबों', 'तराशकर', 'ऑब्जर्वर', 'आर्यो', 'उखड', 'साथसाथ', 'पैकेजों', 'हिंडन', 'अपरिहार्य', 'मंजिल', 'एलएक्स', 'कर्वी', 'दुभाषियों', 'रिकनेक्टिंग', 'विंड', 'क्लांइट', 'शरारत', 'वेंचुरा', 'रोलिंस', 'हैन्स', 'निकेतन', 'क्रांतियों', 'ट्विन', 'दिव्य', 'गिड़गिड़ाते', 'निगमायुक्त', 'गबली', 'नोवाटो', 'रिश्वतखोर', 'फांसी', 'गर्जना', 'निहलानी', 'पिंटा', 'ग्रीर', 'लेविसविल', 'प्रकाषित', 'क्लैरिएंट', 'क़ायल', 'द्विअर्थी', 'राखे', 'बुलंदशहर', 'स्टेफोर्ड', 'नजरियों', 'वर्ल्ड', 'जीवनियां', 'परमेश्वरपुर', 'उठनी', 'न्यूट्रियो', 'जेठा', 'बागबगीचों', 'सुचिकित्सा', 'नागमण्डल', 'प्रदाधिकारियों', 'उर्वरता', 'नील', 'क्रिप्टोकरेंसियों', 'स्वायत्तशासन', 'जर्दा', 'उपलक्ष्य', 'छुड़वाया', 'विदग्धा', 'मुख्यमंत्रीपटना', 'जैने', 'रतनपुर', 'महानतम', 'गुना', 'एमटेक', 'देनेवाली', 'नाभिकुंड', 'विशेषणों', 'लंगरों', 'पॉलिथीनों', 'संबित', 'ढूंढ', 'हां', 'टकरा', 'धंधेखोरी', 'पुलिंदे', 'एपोक्लिप्स', 'विज्ञानपीडिया', 'महोनी', 'पूंजीतंत्र', 'खरे', 'एक्सटेक्टर', 'ज़ुन्हेबोटो', 'प्रियामणि', 'सवाल', 'सूखाकर', 'आलोचक', 'फाँस', 'जयललिता', 'अमझेरा', 'बॉम्बे', 'व्यग्र', 'अपनानी', 'रिसने', 'छुरे', 'शार्लेट', 'जोस', 'रैलीः', 'मेज़बान', 'धनधान्य', 'डाबर', 'बीएसएसएस', 'नजीब', 'अवस्थाएं', 'जबलपुर', 'धर्मनिरपेक्षताके', 'फार्मर', 'एनएसीएल', 'समरविल', 'बुल', 'झुलए', 'खग्यार', 'मेहराम', 'धस्माना', 'रिपन', 'भागदौड़', 'मिथ्या', 'ललानिया', 'भूलों', 'वडाली', 'नागापट्टिनम', 'वैमनस्य', 'बिगेस्ट', 'जोड़ता', 'महत्तरों', 'ओरछा', 'धैर्यवान', 'सूंड़', 'प्रिंस', 'ज़ुबान', 'कैमस्टूडियो', 'यूरोपिया', 'मेज़ा', 'भुसावल', 'गायत्री', 'वेयर', 'बुद्धिजीवों', 'ऐंठ', 'रदर', 'इलाइची', 'उबाल', 'श्रीगंगानगरवासियों', 'फिजराल्ड़', 'जीवनशैली', 'चार्ट', 'सरगी', 'वेदों', 'मरमर', 'भाते', 'विप्ख', 'बयाने', 'मदनगंज', 'पैकेजों', 'वर्णनकर्ताओं', 'ज़यादा', 'लोकोत्सव', 'तेवरी', 'झाउगंज', 'मालवान', 'तदंरुस्ती', 'ऐल', 'क़ब्ज़ा', 'सुसंस्कृत', 'संधोल', 'आमरियापाड़ा', 'हाब्बन', 'बाउलिंग', 'रस्मे', 'एमडब्ल्यूपीएल', 'विद्याओं', 'बोवी', 'चेन्नई', 'कमलजीत', 'सिंहा', 'पेंशनधारियों', 'बारह', 'डूबना', 'एसेटल', 'चौहान', 'फलने', 'सिद्धार्थः', 'एपेक्स', 'डाल्टन', 'श्रीखंड', 'टेक्सटाइल्स', 'अग्रवाल', 'मिथ्याचारियों', 'सिमटे', 'क्रान्फ्रेंसिंग', 'संस्कृतियों', 'ढंककर', 'निज़ामाबाद', 'छतेनी', 'दुष्क्रिया', 'सासाराम', 'चिढ़ते', 'लाम्बा', 'लउटिस', 'खाएँ', 'धंधे', 'अन्त्यन्त', 'मास', 'बरामद', 'क्रेमिस्ट्री', 'उठनेवाले', 'लहना', 'सिरगिट्टी', 'कंट्रोल', 'अंदाजी', 'कैटलिन', 'पक्षपात', 'फोड़ों', 'फ्रांसिस्का', 'प्रयोगपृष्ठ', 'क्रांतिधरा', 'डैशवाला', 'खुरासान', 'क्वॉरेनटाइन', 'फोंड', 'पक्षपात', 'पुतला', 'ट्रुथ', 'साथसाथ', 'मोहिम', 'जॉनसन', 'सीपीएम', 'बाताया', 'पाल्मर', 'तुगलकाबाद', 'एपकोटेक्स', 'हैरम', 'सरेबाजार', 'येरुशलम', 'मोल्ड', 'वर्णनकर्ताओं', 'हूपर', 'वाटर्स', 'लुभाते', 'फेफड़ा', 'कामोत्तेजना', 'दंपति', 'सोया', 'बर्बरतापूर्ण', 'तड़ीपार', 'लुत्फ', 'तरीको', 'चता', 'पिटमैन', 'पहला', 'मल्टीमीडिया', 'त्यौहार', 'लेबल', 'ले', 'तीर्थाटन', 'सतुआ', 'वर्गस', 'डाबोलिम', 'सूचनाः', 'लेबलिंग', 'रोज़विल', 'फ़ाईब्रेट्स', 'ऑल्टो', 'परतानी', 'अस्मिताओं', 'वांट', 'तड़पती', 'पटेल', 'काजी', 'दोस्तानापूर्ण', 'क्षेत्राें', 'लिंच', 'स्टेट', 'रागों', 'मल्होत्रा', 'प्रज्ञातंत्र', 'दुर्नीति', 'क्रॉस', 'अव्यवसायी', 'धैर्यवान', 'टाइम', 'अशरीरी', 'चन्द्रदास', 'ज्योतिषि', 'एलेक्जेंड्रिया', 'बेवकूफाना', 'सिरपुर', 'उज़्बेक', 'खरुवार', 'धर्मविहीनता', 'सुरेंद्रनगर', 'आल्हा', 'अरुणाचल', 'क्रुएगर', 'बागली', 'दविन्दरपाल', 'चापलूसी', 'संस्कारियों', 'इंजन्स', 'मेंडेज़', 'सियाह', 'गुजारने', 'गजरा', 'कवि', 'मिदनापुर', 'वृत्तों', 'सिरमोन', 'वर्तमान', 'उभरेगा', 'पायलट', 'नरभक्षी', 'एंट्रीक्स', 'डेटन', 'बडू', 'ऑलराउंडर', 'निश्रा', 'वधावन', 'जेन्सन', 'पाली', 'त्रैमासिक', 'अट्रैक्ट', 'वविद्यालय', 'चंदन', 'मेगा', 'मैन्सफील्ड', 'मट्टानचेरी', 'नवकेतन', 'कमतर', 'पिट्यूनिया', 'पुरूषोत्तमपुर', 'तपन', 'ज़ुबान', 'एनसीआरडब्ल्यूसी', 'हैम्बलिन', 'आराम', 'यशपाल', 'वोखा', 'छेत्री', 'ओमैक्स', 'परवीन', 'कुकरेजा', 'प्रेमफलः', 'नरमी', 'श्रंखलाओं', 'अवरोधक', 'तीरों', 'गणेशा', 'झाड़ा', 'अनुपमा', 'तलबगार', 'बिन्दल', 'ज़वाला', 'आमरियापाड़ा', 'प्रतिनिधिकारी', 'हलमतपुरा', 'बूदम', 'मैकियास', 'मेडीकल', 'रिस्पेक्टिंग', 'रंजकता', 'दा', 'सक्शन', 'भूमी', 'त्यौहारों', 'रंगते', 'उत्तरा', 'पेंशनधारियों', 'कार्यकर्ताओं', 'विद्याओं', 'द़फन', 'सरहिंद', 'ख़ासकर', 'रैथ', 'गुडगौंव', 'साहब', 'उड़ानों', 'मेजेस्को', 'पुष्पा', 'केशरी', 'बांबी', 'कारगिल', 'टकरा', 'बिजी', 'क्रोम', 'स्तिथि', 'गल्फ', 'कालोनीवासियों', 'आवृत्तियों', 'सुहानुभूति', 'चमच', 'विरोधाभासी', 'साभार', 'ऑलकार्गो', 'हारना', 'अव्यवसायी', 'प्राविंसेस', 'छेत्री', 'प्रतिष्ठी', 'सपा्', 'पटकी', 'पर्चियों', 'प्रतिवाद', 'लिफ़ाफ़ा', 'दर्शाना', 'गेरीसन', 'आकंड़ों', 'धंधों', 'डिस्ट्रीब्यूटरी', 'खत्री', 'पंजिका', 'बातः', 'रावले', 'कंगन', 'प्रेमात्मक', 'सिपाही', 'नोटबंदीशुदा', 'देवलहा', 'हल्ला', 'ज़मातें', 'मैसी', 'उसक', 'पितामह', 'विवरणःभारतीय', 'नागेरकोइल', 'लख्खी', 'अच्छी', 'सैटिन', 'नागपुर', 'बसीरहाट', 'छेलै', 'उबरकर', 'संयुक्तावस्था', 'सूरी', 'भपाई', 'व्यक्तिगत', 'महाथिर', 'फ्लेश', 'राष्ट्रक', 'राजभाई', 'हॉन्ग', 'लंगरों', 'सुभाय', 'फंड', 'फ्लावर्स', 'उठने', 'बडा़', 'मिश्रा', 'षट्', 'मैनहट्टन', 'सरगुजा', 'ईवनिंग', 'ग्रहणकाल', 'बागली', 'नीऊ', 'मुंडवा', 'तोलासन', 'जेडटीईसाफ्ट', 'नागमण्डल', 'कनाल', 'मछलीपट्टनम', 'फेलिक्स', 'हस्ताक्षरों', 'भिलाई', 'कॉन्ट्रेक्टिंग', 'क़रार', 'जौं', 'भाालू', 'फोर्टिस', 'गिरजाघरों', 'जैनों', 'अर्थव्यवस्थाः', 'ऑक्सीज', 'खिताबों', 'एनका', 'चष्मा', 'बताअाे', 'घृतकुमारी', 'प्राटेस्टेंट', 'ब्युर', 'लक्ष्मीधर', 'सियासी', 'उपयोगितावादियों', 'टूगा', 'समाधियों', 'खुरपका', 'कुमावत', 'एमडब्ल्यूपी', 'सूरज', 'न्यूरोसाइंटिस्ट्स', 'चंद्रेश्वरनगर', 'टैनिस', 'फर्रूखनगर', 'आवाज़ों', 'नजराने', 'पशुचारा', 'वेबुनियादी', 'डेनबरी', 'नईदिल्ली', 'छल्ला', 'रोवन', 'श्योपुर', 'रव्लानी', 'संवरी', 'धाक', 'मस्से', 'इंश्योरेंस', 'संप्रभुता', 'राष्ट्रा', 'जौहरी', 'जुदाई', 'बदमाशाें', 'खिताबों', 'स्वयँ', 'आग़ा', 'ढिंडवाल', 'घिसे', 'सप्पांवाली', 'निखारें', 'बाधित', 'ब्रह्मपुर', 'बैटाउन', 'कोलिंग', 'समाधियों', 'यूनियनवादी', 'छापेमार', 'ग़रीबों', 'थाऊजेंड', 'डसीला', 'कंजेंटेवाइटिस', 'बाधाओं', 'लगेगा', 'दुर्घटना', 'नितियों', 'कैपधारी', 'अत्री', 'सिंगम', 'वास्तविक', 'सबस्टेंसिस', 'पीलेपन', 'उठनी', 'हंडिया', 'प्रतिरक्षी', 'ललकारता', 'दुकानों', 'निविदाताओं', 'सर्वजातीय', 'नरसंहारों', 'नीमकाथाना', 'हेरेरा', 'जुनून', 'इकाई', 'जगदलपुर', 'स्विफ्टलेट', 'जलगति', 'पिट्स', 'रोपी', 'अड़ंगा', 'आलसी', 'चौकियां', 'लेटन', 'वकरंगी', 'डेवलपमेंट', 'शॉनी', 'परदेसियों', 'भूगोल', 'बगीची', 'सिवान', 'स्ट्रे', 'आलसी', 'व्यू', 'विषहीन', 'किस्सागोई', 'महानिदेशक', 'चिकित्साएवं', 'भट्टाचार्य', 'ट्रेंटन', 'कन्याएं', 'प्रियदर्शिनी', 'हुक़ूक़', 'शुल्कः', 'राणे', 'महाविद्या', 'संशयों', 'श्रेणीः', 'ओडोम', 'बेनिटेज़', 'त्यौहार', 'मतियाना', 'शवयात्रा', 'रिश्ते', 'रेहाना', 'क्यूएसएस', 'अनावश्यक', 'रिझाया', 'ब्रिगेड', 'सपने', 'चुनीं', 'कोषाधिकारी', 'करब', 'पलटने', 'कर्णेश्वरधाम', 'आर्यनस', 'प्रतिष्ठानोंं', 'कराईकल', 'उसकी', 'विपरीतता', 'परीक्षाओ', 'फ्यूजी', 'लामिनार', 'जुटाती', 'कौशिक', 'बेकाबू', 'नैनो', 'ओडिसा', 'तोमर', 'रोपी', 'थप्पड़बाज़ी', 'बाबत', 'अट्टहास', 'कोलन', 'प्रतिलीटर', 'भूसी', 'हलिया', 'उत्पीडऩ', 'पोप', 'करखेले', 'बाहुल्य', 'अस्वभाविक', 'कठनाईयों', 'रामजीलाल', 'वसूलता', 'मुख्यमंत्री', 'मारिया', 'सत्मेव', 'बक्सा', 'उदर', 'मैन', 'बुद्धिजीवों', 'सुदीप', 'जोड़ो', 'तसदीक', 'निकालनी', 'भटकाना', 'हारना', 'डिल्लों', 'रजिस्टर्ड', 'भंडारा', 'ललानिया', 'लिमा', 'लालकृष्ण', 'रत्नाभूषण', 'सपरिवार', 'साह', 'समेटती', 'पाइरिया', 'मामलोंमें', 'बरात', 'वैइसन', 'विला', 'लिंडा', 'खरिया', 'चेलानी', 'इलेक्ट्रॉनिक्स', 'ऋषिराज', 'उदयपुर', 'पगला', 'ऋतुकांत', 'कुर्मी', 'दस्ताना', 'एमरल्ड', 'घुमाई', 'उपद्रवियों', 'ओक्लाहोमा', 'धर्मराजने', 'झाओहुई', 'उप्पीड़न', 'खेमिक', 'तुगलकी', 'दोआर', 'अवि', 'जड़ित', 'टैबू', 'प्रोग्रामर्स', 'टेलर्सविले', 'चादरों', 'रेसर', 'भका', 'अंधभक्तो', 'ओब्रायन', 'कृत्या', 'पीरान', 'नजरियों', 'मयूर', 'चौदहवां', 'स्वर्गदूत', 'फेका', 'इंडिपेन्डेट', 'टिंका', 'गुर्दों', 'जातियों', 'समन्वयक', 'सूबे', 'चंदन', 'प्रारंभिकता', 'ट्रैप', 'उदंत', 'डायनामेटिक', 'विद्युतीकृत', 'ललानिया', 'वदरा', 'वेड', 'फड़फड़ाएं', 'ट्रेडेड', 'अखुआपाड़ा', 'सराहा', 'विज्ञानवादियों', 'कमज़ोर', 'यंगस्टाउन', 'आर्यम्', 'पटकथाएं', 'बाजपेयी', 'जस्सी', 'नाऊ', 'एवव', 'लागातार', 'सुमन', 'पड़नी', 'माइंडट्री', 'ड्रिस्ट्रीब्यूट्री', 'जानकारों', 'शंकचराचार्य', 'ऑफशोर', 'दुखों', 'नेस्को', 'फूलती', 'टूल्स', 'वर्गर', 'दमघोंटू', 'वीडियोः', 'राजमां', 'आत्ममुग्ध', 'रॉकफोर्ड', 'मित्रा', 'देवनार', 'ओकोई', 'उत्तरिया', 'कैनविज', 'गैलेक्सियों', 'जीवनियां', 'हकीकत', 'एलिमिनेटर', 'अगस्टाइन', 'कर', 'बीताने', 'दफ्तरवाले', 'बैराढ', 'कंबलों', 'ज्वार', 'फातमा', 'विवेस', 'डीडब्ल्यूटी', 'धातुएं', 'सियाह', 'पीटने', 'बिच्चों', 'जिता', 'सेवाला', 'बताैर', 'आदित्या', 'क्षेत्रें', 'एंकेनी', 'छेत्र', 'मुकरते', 'ऐंठे', 'बाल्टी', 'खंगाली', 'बीएसएसएस', 'ब्ंजजसम', 'पुष्पित', 'लिंमर्ग', 'पेरेड्डी', 'बोदरा', 'फ़ोकस', 'दूताय', 'श्रीलेदर्स', 'महंकमदान', 'घूंसा', 'काव्यविधाओं', 'क्षत्रियादि', 'जानकारों', 'रखना', 'रिश्तेदारो', 'श्रावणी', 'कुबुद्दीन', 'ज्वेलर्स', 'मेहमान', 'रोजलिन', 'जयकारा', 'चबूतरे', 'हरदिल', 'ट्रक', 'न्यूरोवेस्कुलर', 'खेलाने', 'स्ट्रेशन', 'लक्ष्यतीर्थ', 'नेशंस', 'पाठशालाएं', 'निवेदनः', 'लीडरों', 'टेनला', 'सेवकों', 'पूर्वापेक्षाओं', 'मणि', 'साेमवार', 'प्राण', 'अवैज्ञानिक', 'ऐवीऐशन', 'ब्राउन', 'नाकाम', 'अधिवास', 'जनजागरण', 'राजनंदगांव', 'लैरी', 'भाालू', 'तरीको', 'चिकोपी', 'रिफ्रेक्टरीज़', 'बरामद', 'काव', 'एमरल्ड', 'विवेकाधीन', 'फड़फड़ाएं', 'कायलाना', 'पेंट्स', 'पिट्सबर्ग', 'होखत', 'चौरसिया', 'सच्चिदानंद', 'सीड', 'चारों', 'रिज़वी', 'क्ले', 'दंपति', 'दूर्गध', 'देवापुर', 'मनवाया', 'लटककर', 'मेहमान', 'निया', 'उधमपुर', 'अतहर', 'छुपता', 'तुंगनाथ', 'रघुपति', 'प्रकाण्ड़', 'चेंज्ड', 'गंगटोक', 'क्रिकेट', 'फ्रांसिस्को', 'भगाने', 'अड़ंगा', 'फिक्सिंगः', 'कमाऊ', 'तिकोने', 'पैम', 'तरीक़ों', 'आगमन', 'किदवई', 'आश्रितों', 'राघवन', 'जनेऊधारी', 'डेवनपोर्ट', 'प्रेरणापुरी', 'महासिंह', 'लोरदा', 'इंट्रोडक्शन', 'स्वभावतः', 'ग्रीष्मोत्सव', 'तलाशेगा', 'सहरसा', 'मैके', 'मोशे', 'ग्रंथियां', 'लोहाती', 'अलायंस', 'तगड़े', 'छींके', 'सिवान', 'थकी', 'लेटकर', 'हिकारिको', 'टायर्स', 'नृत्यों', 'डियरफील्ड', 'चरित', 'बैथलहम', 'फिनोटेक्स', 'असाही', 'पहन', 'धनश्याम', 'फारेंसिस', 'लहना', 'द्वारिकेश', 'डुबाना', 'काराबोरियों', 'गोलमुरी', 'राखणौ', 'विपणक', 'पंचांग', 'ब्रीद', 'गुल्लरवाला', 'एडब्ल्यूपी', 'बाज़ी', 'हरपाल', 'प्रेमेश्वर', 'प्राप्त', 'नक्सलवाद', 'कंठहार', 'ऑक्साइड', 'खैराती', 'देशके', 'सुनासीर', 'अफसराें', 'सेहो', 'चबाते', 'मिति', 'बेलचा', 'सफ़लता', 'शबाना', 'खातूटोला', 'शिवास्तव', 'प्रेरणापुरी']\n",
            "51200\n",
            "4096\n",
            "4096\n"
          ]
        }
      ]
    },
    {
      "cell_type": "markdown",
      "source": [
        "## For local run time"
      ],
      "metadata": {
        "id": "xn__-gCOPg64"
      }
    },
    {
      "cell_type": "code",
      "source": [
        "# For Local run\n",
        "# Had to intall panda, there was no other way\n",
        "\n",
        "!pip install pandas"
      ],
      "metadata": {
        "colab": {
          "base_uri": "https://localhost:8080/"
        },
        "id": "VaVQFWdLoFkn",
        "outputId": "d0edea44-e890-4ab0-9c28-d38bbca2f89a"
      },
      "execution_count": null,
      "outputs": [
        {
          "output_type": "stream",
          "name": "stdout",
          "text": [
            "Requirement already satisfied: pandas in c:\\users\\aslwo\\anaconda3\\lib\\site-packages (2.1.4)\n",
            "Requirement already satisfied: numpy<2,>=1.23.2 in c:\\users\\aslwo\\anaconda3\\lib\\site-packages (from pandas) (1.24.3)\n",
            "Requirement already satisfied: python-dateutil>=2.8.2 in c:\\users\\aslwo\\anaconda3\\lib\\site-packages (from pandas) (2.8.2)\n",
            "Requirement already satisfied: pytz>=2020.1 in c:\\users\\aslwo\\anaconda3\\lib\\site-packages (from pandas) (2023.3.post1)\n",
            "Requirement already satisfied: tzdata>=2022.1 in c:\\users\\aslwo\\anaconda3\\lib\\site-packages (from pandas) (2023.3)\n",
            "Requirement already satisfied: six>=1.5 in c:\\users\\aslwo\\anaconda3\\lib\\site-packages (from python-dateutil>=2.8.2->pandas) (1.16.0)\n"
          ]
        }
      ]
    },
    {
      "cell_type": "code",
      "source": [
        "# For Local run\n",
        "import pandas as pd\n",
        "\n",
        "# Define the function for loading data\n",
        "def dt_ld(path):\n",
        "    # Load data from the CSV file using pandas\n",
        "    dt = pd.read_csv(path, sep=',', header=None, names=[\"eng\", \"hin\", \"\"], skip_blank_lines=True, index_col=None, encoding='utf-8')\n",
        "\n",
        "    # Filter out rows where either 'eng' or 'hin' column is NaN\n",
        "    word_data = dt.dropna(subset=['eng', 'hin'])\n",
        "\n",
        "    # Select only 'eng' and 'hin' columns\n",
        "    word_data = word_data[['eng', 'hin']]\n",
        "\n",
        "    return word_data\n",
        "\n",
        "# Define the file paths for train, valid, and test data on your local machine\n",
        "\n",
        "train_file_path = r\"C:\\Users\\aslwo\\Downloads\\aksharantar_sampled\\hin\\hin_train.csv\"\n",
        "valid_file_path = r\"C:\\Users\\aslwo\\Downloads\\aksharantar_sampled\\hin\\hin_valid.csv\"\n",
        "test_file_path = r\"C:\\Users\\aslwo\\Downloads\\aksharantar_sampled\\hin\\hin_test.csv\"\n",
        "\n",
        "# Load the data using the defined function\n",
        "train_data = dt_ld(train_file_path)\n",
        "valid_data = dt_ld(valid_file_path)\n",
        "test_data = dt_ld(test_file_path)\n",
        "\n",
        "# Display test_data\n",
        "print(test_data)\n",
        "\n",
        "# Extracting 'eng' and 'hin' columns into lists\n",
        "test_hin = list(test_data['hin'])\n",
        "test_eng = list(test_data['eng'])\n",
        "\n",
        "# Some visualization of data\n",
        "print(test_eng)\n",
        "print(test_hin)\n",
        "print(len(train_data))\n",
        "print(len(valid_data))\n",
        "print(len(test_data))\n"
      ],
      "metadata": {
        "colab": {
          "base_uri": "https://localhost:8080/"
        },
        "id": "84WpCJlDoTjX",
        "outputId": "dfadef77-4673-47bc-f831-fbe1be5718b6"
      },
      "execution_count": null,
      "outputs": [
        {
          "output_type": "stream",
          "name": "stdout",
          "text": [
            "               eng          hin\n",
            "0          thermax      थरमैक्स\n",
            "1        sikhaaega      सिखाएगा\n",
            "2            learn         लर्न\n",
            "3         twitters     ट्विटर्स\n",
            "4      tirunelveli  तिरुनेलवेली\n",
            "...            ...          ...\n",
            "4091       saflata       सफ़लता\n",
            "4092        shbana        शबाना\n",
            "4093  khaatootolaa     खातूटोला\n",
            "4094    shivastava     शिवास्तव\n",
            "4095  preranapuree  प्रेरणापुरी\n",
            "\n",
            "[4096 rows x 2 columns]\n",
            "['thermax', 'sikhaaega', 'learn', 'twitters', 'tirunelveli', 'independence', 'speshiyon', 'shurooh', 'kolhapur', 'ajhar', 'karaar', 'anka', 'wpd', 'haashie', 'glendale', 'udhed', 'ekthi', 'idea', 'ambikapur', 'makerere', 'saboodaane', 'foohadta', 'sequent', 'shueb', 'panihati', 'sametati', 'ukhrul', 'brahmlin', 'utaraadhikaaree', 'iqbal', 'dayaalapuraa', 'sohrai', 'takreeban', 'farrukhnagar', 'theinga', 'tyoiharon', 'karneshvardhaam', 'umanath', 'daanshil', 'saahityotsav', 'shantiniketan', 'shikayatkarta', 'andarkhane', 'panter', 'leedaron', 'galgand', 'kaarniyaan', 'murgipaalan', 'mushahid', 'modules', 'rajouri', 'sushrushaa', 'shringaar', 'holt', 'laigikata', 'ijaajat', 'vankshetra', 'bhutal', 'swaadpremiyon', 'nineteez', 'frektar', 'likhkar', 'eyarkandeeshnar', 'nabz', 'quess', 'bouni', 'kaaragujaariyaan', 'gaangnam', 'tapia', 'tezpur', 'talve', 'seemaai', 'darshnaarthi', 'rivas', 'tarkvaad', 'anusaarakaa', 'coachella', 'latakakar', 'patravaliyan', 'parishad', 'spinj', 'anshida', 'dejesus', 'saraaymohiuddinpur', 'lowell', 'capacitor', 'passengerjind', 'granthiyon', 'buena', 'canterbury', 'kaathiyavadi', 'tekchandani', 'fisad', 'beraharamee', 'nishkarshah', 'activities', 'rikailleebreshan', 'shasanadhikaariyon', 'fijoolkharchi', 'dablyoopeedee', 'pace', 'dastar', 'catlin', 'joddta', 'killat', 'gruhnagar', 'wonder', 'vatar', 'shving', 'pashtun', 'farm', 'dibanu', 'pashchamee', 'uthapatak', 'nilaabh', 'laxmeeniyaan', 'mahaanagarawaasiyon', 'upneta', 'convention', 'sharp', 'kaaryayojana', 'maas', 'westing', 'kurvetee', 'jyaada', 'mukeshvari', 'shrimati', 'vivekadhikaron', 'loksabhavalee', 'kabahaa', 'bhraantiyon', 'vivekahin', 'balmiki', 'haryana', 'jivraj', 'flynn', 'rana', 'vishnupura', 'ghotaalebaajon', 'hairatangenz', 'takaleephadeh', 'peepaadh', 'dhabhaashaaraa', 'antdiyan', 'robin', 'singar', 'gumshudagi', 'balkrishna', 'phabti', 'palatne', 'lahlahaati', 'nagaada', 'udanen', 'klein', 'juloos', 'karyabhar', 'manto', 'paimaish', 'covina', 'penshan', 'ogastaavestalaind', 'centreeng', 'activa', 'barker', 'valkan', 'vruton', 'kabaddi', 'raunakh', 'caitlyn', 'phoos', 'jangadnaa', 'upakhyaanon', 'sundram', 'cochin', 'neko', 'kaushal', 'phaliya', 'acevedo', 'kottayam', 'dilaaega', 'kurvi', 'saunpengi', 'lekhan', 'gudepu', 'pharase', 'nubiya', 'taja', 'aantrit', 'qazi', 'murgipalan', 'eddy', 'nagine', 'subha', 'luis', 'vijayapuram', 'bataao', 'ochoa', 'science', 'sarkarein', 'bremerton', 'gurupado', 'sanyukt', 'raalod', 'baadhaon', 'gaumutra', 'sabhaen', 'tani', 'delhi', 'suken', 'vineet', 'chimate', 'kikiyana', 'rocket', 'maxwell', 'hippo', 'deepan', 'arymaa', 'bhulata', 'karmaacharee', 'durgapur', 'tribhaashaa', 'soodkhoron', 'prastaavon', 'survin', 'prapti', 'girivaasiyon', 'siducing', 'welwet', 'muqarrar', 'baxter', 'denier', 'cw', 'uthani', 'ghasi', 'ikattha', 'bhupsingh', 'dabochne', 'crosby', 'naameegiraamee', 'hurley', 'jarda', 'liepradhanmantri', 'bhranti', 'agencyyon', 'bago', 'forcee', 'bosaan', 'karki', 'ginate', 'manokaamnaaon', 'sammpattiyaan', 'politheenon', 'mtake', 'parichar', 'badabadee', 'crane', 'laamiyaan', 'ulhasnagar', 'prabhanmantri', 'shiwalapurwa', 'ferth', 'suhagin', 'saraikela', 'romeoville', 'raajsthanvasiyon', 'pratirodhaatmak', 'svarnikaa', 'vyavasthapana', 'tel', 'galatfahmi', 'takeinsider', 'microfiber', 'shreemahapoorn', 'fallujaa', 'donaldson', 'chadhne', 'jeevvigyaaniyon', 'cricketing', 'reduction', 'awaazen', 'wlaad', 'prathmik', 'thenga', 'excel', 'chatakaate', 'kubuddin', 'taaza', 'padani', 'nichaai', 'wausau', 'aalochakon', 'jaljale', 'surat', 'jeevati', 'prahaarak', 'shreesadguru', 'sanchalanon', 'bhal', 'tughlaq', 'uthaapatak', 'hastaantaraneey', 'utsaahawarddhan', 'sangoshtree', 'shaasanadhikariyon', 'mahadhipatiyon', 'fatima', 'fode', 'kantinyoo', 'kaamanaen', 'chutile', 'sankhyaen', 'kranj', 'barsata', 'parikalpit', 'harpal', 'maaoont', 'grover', 'biolozis', 'halisahar', 'angelo', 'janeudharee', 'bichbachaav', 'pokar', 'apvartit', 'aastin', 'pratishthaavaale', 'buenaventura', 'deccan', 'seriw', 'pardaa', 'emile', 'shaili', 'eastvale', 'chhallaa', 'lakshyon', 'hoaf', 'jarurih', 'rahya', 'mahkane', 'devi', 'nielsen', 'bhira', 'chabutare', 'bhushan', 'rukte', 'aamdani', 'talkshow', 'junagadh', 'padhata', 'odhakar', 'broke', 'talaasha', 'parivaarwaale', 'trubyunal', 'brock', 'yallaappaa', 'tasvaron', 'tugalaki', 'pick', 'circulation', 'jvar', 'kanindham', 'kush', 'properfacebuk', 'ashrafi', 'chadhen', 'vangchuk', 'honeywell', 'radiumdharmee', 'ladhege', 'sachan', 'arthshastriyon', 'canton', 'aatmamugdha', 'pontiac', 'lopez', 'ghontanaa', 'ambani', 'maryadaon', 'ratlam', 'hercules', 'akola', 'sakshan', 'notbandeeshuda', 'lagavaatee', 'alive', 'jivant', 'foda', 'fatahee', 'noobiyaa', 'lalmanee', 'faisala', 'krutyaa', 'dhuan', 'ahuja', 'pratipaalpur', 'namkeen', 'manjilen', 'laffaajee', 'juraab', 'fulae', 'castalloy', 'black', 'sooraj', 'bronch', 'avarnataa', 'johari', 'tevree', 'sanders', 'welder', 'eneeyoo', 'bharashtachaariyon', 'laalmanee', 'khaatedaar', 'aazmaanaa', 'aavrittiyon', 'kullawee', 'bahawalpur', 'prathmikta', 'mobile', 'katihar', 'swecha', 'haamidan', 'samdharshni', 'dridh', 'gond', 'wishesh', 'kaabilegour', 'laurense', 'hisham', 'chausinga', 'pafin', 'mate', 'buildcon', 'teekon', 'athak', 'jindagee', 'chayal', 'maap', 'last', 'gajra', 'ratrichar', 'kaathalaa', 'sahuuliyata', 'pattnaik', 'nyayalayeen', 'mukhyamantriyon', 'jeetanewalon', 'swaphoto', 'clifton', 'doda', 'pendulum', 'chipakane', 'nalakasa', 'chhah', 'gond', 'sameekshaakartaa', 'mantripad', 'liberation', 'asamaany', 'chungiyon', 'arica', 'balot', 'thin', 'formic', 'yuddhak', 'vegas', 'las', 'chitranshi', 'avranta', 'wasting', 'vitark', 'mukabaale', 'dharmapoorwee', 'ambaani', 'ibija', 'mahamedia', 'suzlon', 'varnit', 'jhuthlane', 'madurai', 'kaundal', 'lapatta', 'kshin', 'tewaree', 'raichur', 'lindon', 'pulama', 'olraunder', 'garibon', 'callahan', 'wabag', 'kaipdhari', 'atta', 'bareli', 'jing', 'jivan', 'reddy', 'pehni', 'tanu', 'deepika', 'lohati', 'kakkad', 'maulviyon', 'dungarpur', 'zaalaanaa', 'lakme', 'prospectus', 'westinghouse', 'bawara', 'thakkr', 'ichchhaachaaree', 'triya', 'dhavakon', 'damle', 'shravanabelagola', 'nilkamal', 'karmacharee', 'poorwottar', 'lehrayi', 'haito', 'prakaandh', 'khelmantree', 'bhavishya', 'egmor', 'shringar', 'saupengee', 'knoxville', 'bender', 'sundaram', 'pradesh', 'samvedikaran', 'laguna', 'bhisham', 'yemmiganur', 'huhtamaki', 'vadli', 'gail', 'race', 'salazar', 'diphtheria', 'dradh', 'shadadhi', 'prabodhini', 'lokpratinidhiyon', 'jatati', 'mangla', 'berwyn', 'mum', 'udaygadhi', 'akapulko', 'vaidhruti', 'charanbaddh', 'mandadi', 'euclid', 'paarampariktaa', 'hafate', 'sathiya', 'sanghiyataa', 'mukhyaatithiyon', 'vyavasthavirodhi', 'raktadaataaon', 'baramade', 'tarutal', 'kutta', 'jhaadaa', 'kishun', 'schaeffler', 'amrohi', 'raidical', 'jenner', 'varshiya', 'hasino', 'shaavakon', 'rupa', 'swaarthparak', 'weronika', 'webb', 'mahapatra', 'chenkein', 'agra', 'jiyaangkou', 'westwork', 'janaganna', 'pasco', 'jadhav', 'enterprise', 'sanshayon', 'varnavyavasthaavaadiyon', 'upasthiyon', 'mudichu', 'parnstaron', 'ia', 'baila', 'livaal', 'hillsboro', 'rashtriyadhyaksha', 'peedablyootee', 'thousand', 'shaakir', 'salahkaar', 'vishwakarma', 'ridge', 'swaasthyaheenataa', 'rishvatkhor', 'praavinses', 'daftarvaale', 'physician', 'log', 'jodhika', 'sevalaa', 'doobat', 'sipah', 'bharamaa', 'prtigyaa', 'meghwal', 'nandoi', 'aurora', 'formuley', 'durghtna', 'swatantrasingh', 'monterey', 'baalti', 'columbia', 'whittier', 'dukke', 'cubeck', 'chamakna', 'sheelbhag', 'bistagond', 'findlay', 'bapaa', 'dehra', 'aise', 'shrankhala', 'hastaaksharon', 'tirupati', 'mangalmoortih', 'kursiyon', 'mithaiyaan', 'pahno', 'halebid', 'bangsh', 'officially', 'sevai', 'gurjar', 'samanvayaka', 'parnel', 'sunsan', 'cusex', 'madhya', 'yudhrat', 'urbandale', 'briggs', 'error', 'chikhali', 'waan', 'adhikaariyaan', 'roanoke', 'haokip', 'poorvapekshaaon', 'masheenawat', 'kadmo', 'kurami', 'vidyaathyon', 'simtataa', 'sangrur', 'strongsville', 'agvaai', 'jangan', 'nagraj', 'yariyan', 'bhagyeshwar', 'jivati', 'sudkhoron', 'rukwaakar', 'brahmvarta', 'gray', 'bhraanti', 'purooshottamapur', 'teji', 'svaatan', 'mantarimandaliya', 'ashley', 'mathews', 'moolon', 'akzo', 'hamirpur', 'pokhriyal', 'bolateen', 'pratishthavale', 'dabangata', 'dhuriya', 'teap', 'gazi', 'ijajat', 'mejbani', 'toledo', 'mohadhaa', 'putli', 'sanchari', 'taapanee', 'little', 'narnaari', 'dhaniye', 'gadhoonga', 'faadi', 'gammat', 'tuberculosis', 'nagarjuna', 'raajneechi', 'medizensar', 'laphphaajee', 'commerce', 'maathaloo', 'chatagaon', 'hilig', 'isnpector', 'testing', 'naushad', 'falluja', 'pik', 'jiwan', 'katal', 'dablyooeeef', 'besil', 'slidon', 'saindan', 'jeremy', 'gaanv', 'todenge', 'udaan', 'saptkraanti', 'miranda', 'vyapak', 'maddy', 'sabhasadon', 'nauvahan', 'atmaen', 'rosa', 'damaae', 'midwest', 'trelarah', 'marlborough', 'waco', 'vimarshon', 'khan', 'difarard', 'sarsaa', 'hester', 'uttar', 'kasera', 'kuraaane', 'dayitvon', 'chayaniton', 'morales', 'heros', 'premamoolak', 'moran', 'zydus', 'nelson', 'amarpal', 'phatne', 'tinka', 'gaayikaao', 'pakayen', 'bhrashtachariyon', 'chalit', 'affle', 'mod', 'rajnitikaaron', 'arthon', 'gaaligalauj', 'anyonyashritata', 'udaya', 'cutlery', 'pratibandhah', 'neelaabh', 'bilae', 'khullamkhulla', 'swanson', 'anvaahaarya', 'rewari', 'sahkalakar', 'championship', 'bhadkaayaa', 'namdhari', 'alba', 'watanukoollan', 'khaatadhaarak', 'texas', 'special', 'harvansh', 'dinu', 'shaniwar', 'de', 'dabi', 'nahinkarvaaee', 'maarvaad', 'peediyon', 'brigton', 'mnaey', 'ligar', 'dilaega', 'aadhin', 'parwa', 'hempstead', 'mamooli', 'pradeshikaa', 'verification', 'fefada', 'wisangatiyaa', 'kachchhe', 'ghost', 'pipli', 'lovasa', 'helper', 'doobnewaale', 'bakhshane', 'indriyonke', 'barhad', 'risaalee', 'kaksheevati', 'vishvarakt', 'lodi', 'peachtree', 'ghumakkdon', 'ojha', 'ilaaj', 'arunai', 'ayodhyeanath', 'bhautikwadiyon', 'roket', 'nurochemistry', 'coldvel', 'aawaazen', 'mool', 'multiplexon', 'tyoihar', 'rotation', 'belacha', 'sahakalaakar', 'jadit', 'nagaaraa', 'barpaya', 'doongarpur', 'land', 'uchchhrunkhalataa', 'failaiya', 'suchi', 'noon', 'rp', 'shield', 'palanpur', 'electrosteel', 'obscura', 'cigretton', 'dikhaee', 'russell', 'nazarandaaz', 'kualalampoor', 'austin', 'raidcras', 'tcns', 'svaayattshasan', 'mood', 'daulatabad', 'bhulta', 'pratikaara', 'nights', 'nakam', 'shutting', 'raashtra', 'bechkar', 'stone', 'wardha', 'deedablyutee', 'desabathula', 'baapa', 'baghbaan', 'aadeshah', 'udelkar', 'tarko', 'yaaddaasht', 'inhalation', 'safradganj', 'roopak', 'scranton', 'varnavyavasthaawaadiyon', 'shikshakarmiyon', 'khandelwal', 'beverages', 'pidiya', 'nadaf', 'jehe', 'dhahaaenge', 'mastmaula', 'agartala', 'jamayaa', 'pardesi', 'arya', 'velvet', 'aapdaein', 'aagashe', 'achchi', 'udghosh', 'swabhawatah', 'bani', 'raykar', 'pidilite', 'dual', 'bheera', 'silva', 'adhikaran', 'rangkata', 'srichakra', 'gowmutra', 'nichalaa', 'burhanpur', 'sahooliyata', 'labdh', 'poole', 'strasion', 'picking', 'oditar', 'deniar', 'ajit', 'langdon', 'avashist', 'jha', 'prashasnik', 'bossier', 'badhachadhakar', 'giridih', 'bhuj', 'reading', 'fawaare', 'advait', 'rukate', 'anonditaa', 'fontana', 'nyutriyo', 'pailoton', 'jaden', 'boriwali', 'ilaichi', 'alliance', 'dhammaa', 'nahargadh', 'nsiu', 'sapaat', 'lengdan', 'panama', 'putle', 'aasaapaas', 'alwadhi', 'mufalisi', 'sansathaan', 'darshnaarthee', 'lokotsav', 'graahakonne', 'uchchaadhikaareeyo', 'bhav', 'reja', 'motherson', 'kauplaiks', 'aaburod', 'heidelbergceat', 'chimati', 'surfactants', 'mitao', 'kailana', 'tankar', 'odhkar', 'merta', 'megavaal', 'rasyanik', 'soochnah', 'sugamata', 'jockey', 'munaf', 'niswarth', 'kshetradwaaraa', 'mahawar', 'buldhana', 'dhamkata', 'bhusvami', 'vigyan', 'quete', 'bevkufana', 'jajmau', 'beltran', 'vilas', 'makhdumpur', 'kolorado', 'blackburn', 'suniti', 'ghigghee', 'flavonoids', 'chahunmukhi', 'supachye', 'siratee', 'vishnu', 'chaudahavan', 'chaudhari', 'aabru', 'balurak', 'davangere', 'anurit', 'shipping', 'patiala', 'jaanam', 'financial', 'damae', 'policy', 'icc', 'kuchchh', 'cheekhna', 'reliance', 'urvarakon', 'ravael', 'ladhkiyon', 'mukeshwaree', 'wankshetra', 'ummeede', 'kahaavah', 'kaantipoorn', 'badaaen', 'enseeaardablyusee', 'pratibaddhataa', 'follow', 'sevamukta', 'evanston', 'charas', 'hills', 'robertsan', 'bhadauriya', 'glaxosmithkline', 'producton', 'guevara', 'vigyaanon', 'jarvis', 'laphz', 'font', 'paradheen', 'shak', 'ganjhoo', 'dit', 'danptiyon', 'maadhikhedhaa', 'pratishthaanon', 'soond', 'ginte', 'alagalag', 'swastikakaar', 'pratikaraa', 'aastik', 'niveshkartaa', 'saval', 'sanskritiyan', 'raubdar', 'raghuram', 'intaravyu', 'chharhari', 'sawyer', 'bhasapa', 'jvaaron', 'sansthita', 'parshdon', 'pulatskar', 'uthaaeange', 'laengee', 'oeeef', 'valsad', 'mulon', 'putliyan', 'shmil', 'riggs', 'camarillo', 'saflataa', 'vinasht', 'kping', 'jayalalithaa', 'items', 'soccer', 'asphalt', 'mehrotra', 'chune', 'zarakh', 'mejbaani', 'muflisi', 'luna', 'warnavyavasthaavaadiyon', 'lipaaee', 'uthni', 'bajaj', 'hisarah', 'dampatiyon', 'watson', 'augustustine', 'pataakshep', 'dhandhekhoree', 'ubhregaa', 'anton', 'apardarshi', 'nihlaani', 'tivolee', 'hogis', 'winter', 'badalavaakar', 'ghumaee', 'petaluma', 'beeemdablyooem', 'bakhshate', 'sanvedikaran', 'telon', 'ghummakkadon', 'haanfte', 'farheen', 'james', 'kiratpur', 'redding', 'shaq', 'surprise', 'kisanon', 'chalenge', 'yoder', 'stein', 'paithelojist', 'labeling', 'ikthiyosis', 'liberation', 'phoodon', 'nanhein', 'bhadauria', 'jatilaa', 'pahunchanee', 'raashtron', 'blossom', 'tandon', 'gadbadbadee', 'sanasthita', 'yatraen', 'aadan', 'javate', 'niyuttiyon', 'bhishm', 'hundiya', 'murgeepaalan', 'malekar', 'loveland', 'mavey', 'vikram', 'hanfte', 'barrackpore', 'ghaziabad', 'tarkon', 'spf', 'artemis', 'aipp', 'jaiban', 'gairairaadatan', 'vivekadhin', 'sabajooniyar', 'faliya', 'prekshakganon', 'purvaasiyon', 'vipannata', 'maanga', 'ordanens', 'pradhan', 'abhiyuktonke', 'viratkhand', 'hijbul', 'vidyaon', 'manju', 'chhawindra', 'chhupkar', 'doranda', 'saym', 'mithhaiyaan', 'jeevvigyaniyon', 'pashtuun', 'brahraachaarinee', 'jerusalem', 'altamonte', 'sihuntaa', 'hemwati', 'koshadhikaaree', 'ashanka', 'bean', 'vaigyanikata', 'jheelon', 'robarto', 'shrirampur', 'manchiya', 'vasoolataa', 'morrison', 'mhagranth', 'transistor', 'sarvjaatiya', 'patotsav', 'houkee', 'medithsan', 'udana', 'saraaymohiuddeenpur', 'petersburg', 'ranjkatha', 'diya', 'mohindar', 'mastek', 'nirbadh', 'ehsaas', 'avrutiyon', 'eshiyavan', 'thki', 'turbine', 'dimaak', 'jodhpur', 'durdhara', 'khaastaur', 'makrani', 'high', 'fatahi', 'mariya', 'ganv', 'pendulam', 'aavishakaar', 'natijeh', 'jeffersonville', 'brahmasiddhi', 'tulshidas', 'reeta', 'charchaamanch', 'pratikaaraa', 'tarkwaad', 'dabangon', 'hichkicha', 'sheershakon', 'dam', 'dviarthee', 'jawabah', 'bahumaan', 'jaanchkarata', 'vandemaataram', 'should', 'agsta', 'neu', 'dastakhatshuda', 'surinama', 'kingkhan', 'taras', 'rekannecting', 'phaibrik', 'clair', 'chhejat', 'mominatolaa', 'virodh', 'arena', 'unionwaadi', 'bamleshvaree', 'boca', 'immaturity', 'sansthaan', 'jin', 'dadrewa', 'kide', 'karawanou', 'putin', 'tankaar', 'khatakati', 'jadd', 'pushpa', 'gm', 'yusugi', 'korola', 'pyade', 'karavaayegee', 'balaatkaariyon', 'jatatee', 'gurdaspur', 'shreshthaswaroop', 'shubhprabhaa', 'europlast', 'rashtrabhakton', 'canterbari', 'communicators', 'mahamanch', 'conway', 'dwf', 'reeves', 'dabhoi', 'bhootal', 'insaano', 'emily', 'vigyaanam', 'sapatey', 'atwaal', 'hindan', 'aaufisaree', 'montclair', 'purnsveekrit', 'richardson', 'sandrbh', 'fargo', 'aleem', 'saptakranti', 'hr', 'imaandaari', 'kontrekting', 'gangajal', 'gaur', 'adhikariyon', 'bandhan', 'sendha', 'dablyoopidi', 'gravita', 'lincoln', 'pravrittivigyanon', 'cementation', 'bagad', 'gentry', 'datson', 'montebello', 'renewables', 'naksalwad', 'aitraz', 'itibhagwatee', 'niveshkarta', 'patkathayen', 'kaabiletaarif', 'bhaadas', 'bhogte', 'holding', 'dhatta', 'dhoron', 'upakhyanon', 'fayetteville', 'stockton', 'brijesh', 'pratigya', 'badhaati', 'then', 'thomas', 'dhyeywadi', 'tuesday', 'wgpl', 'ovum', 'gati', 'nucleus', 'kraar', 'purooshottamaachary', 'manchanda', 'lahsun', 'naqaab', 'suja', 'mckenzie', 'purzon', 'bahunt', 'bravo', 'amaanat', 'jhuthla', 'bush', 'chaukhate', 'apar', 'asthetic', 'kshetradwara', 'sajja', 'dhahaane', 'nariyalyukt', 'jealous', 'kursiyo', 'singhaadey', 'amy', 'antarmukh', 'thakkar', 'badbolepan', 'naxaliyon', 'manner', 'himali', 'naksalavaad', 'half', 'mahaadharmaadhyaksha', 'parmoujood', 'tippanikar', 'perels', 'bhapaee', 'beetaane', 'valve', 'dwirookta', 'eddie', 'jivaniyaan', 'panghal', 'khand', 'urvarkon', 'besin', 'giriwasiyon', 'paradhin', 'pukhtaa', 'achnera', 'carson', 'delta', 'tripura', 'alaymani', 'kheda', 'nahargarh', 'shalimar', 'immaichyority', 'elendt', 'properphasebuk', 'udanon', 'mhajan', 'moses', 'bataayaaki', 'alai', 'ilectromeetar', 'amod', 'rookenge', 'maariya', 'raagon', 'aaipief', 'phalitartha', 'supachy', 'awashist', 'ishat', 'rate', 'aata', 'mahalon', 'warishthon', 'jalapot', 'katrina', 'jismafaroshee', 'salary', 'raza', 'rectare', 'basil', 'badhaataa', 'charanbaddha', 'bhadkaya', 'sahityotsav', 'naraseepura', 'samjhunga', 'chandrapur', 'sarkaa', 'dhaah', 'praudh', 'ahitakaaree', 'darawani', 'belinda', 'alayamanee', 'datsun', 'ate', 'fasteners', 'bangravala', 'saira', 'atthas', 'nirdal', 'mahbubnagar', 'daratey', 'valkkan', 'khastaur', 'barsaai', 'ananddaayak', 'banbi', 'toh', 'asmanye', 'wipannta', 'spast', 'amzera', 'bechakar', 'ghatabadh', 'kaushalta', 'machine', 'wireless', 'fainn', 'gaano', 'khambhat', 'kyooaaeepeees', 'dublin', 'mta', 'samruddhiyon', 'radhakrushnadas', 'kaansting', 'idukki', 'industrial', 'bharatwanshee', 'maangi', 'robins', 'vladimir', 'pehowa', 'bagh', 'ummidwaaree', 'saafgoi', 'koottaa', 'adain', 'grenite', 'ustara', 'dhundhta', 'sangheeyataa', 'kumari', 'depthiriya', 'adchane', 'koriyaah', 'prapat', 'chhudawaaya', 'suiyan', 'veronika', 'schaeffler', 'jyaadaa', 'potter', 'media', 'yarushalem', 'pichde', 'letaseng', 'arthavyawasthataaon', 'kakoo', 'nirdeshika', 'seto', 'navate', 'samvedansheelata', 'roadrej', 'chhahon', 'laphj', 'vanshvad', 'rohtak', 'atakta', 'baawaraa', 'kribarabh', 'prakashakah', 'styrolution', 'apaardarshi', 'bengaluru', 'andhapan', 'mainan', 'kyaah', 'formulae', 'hamalavar', 'amavasya', 'purvapekshaaon', 'daishawaalaa', 'oklahoma', 'darmait', 'sahakalakar', 'fatma', 'khalati', 'dayitva', 'kyusaiks', 'tolakarmee', 'version', 'parisamvad', 'immune', 'bachti', 'utilities', 'malmaas', 'cadmium', 'antioch', 'khatedaar', 'mohini', 'vishwasniiyataa', 'rehman', 'kanblon', 'aaryika', 'marrej', 'chheenk', 'phalata', 'baagoraa', 'pakaude', 'lucie', 'fatehgadh', 'grahanakaal', 'jobs', 'sadanand', 'dutt', 'murgeepalan', 'lurhakate', 'palmonari', 'win', 'ubhaara', 'beck', 'padaraunaa', 'bandhate', 'kapoor', 'sevaala', 'vershan', 'chidhate', 'thane', 'nikalogi', 'mogali', 'dredger', 'nagarik', 'gajipur', 'vadak', 'mitchell', 'gyatvy', 'standhaari', 'dhoraaji', 'abdunnaasir', 'vishvwandhya', 'satyaarthprakash', 'shivamogga', 'ghumakkdi', 'gayen', 'chee', 'theateron', 'anadhikaarik', 'shasak', 'hines', 'bettiah', 'dhatna', 'rahamat', 'motihari', 'pearson', 'ujback', 'wheeling', 'pythogaras', 'wipro', 'kaabiletaareef', 'jamaate', 'pulam', 'daubaaraa', 'portillo', 'adhik', 'dhumrapaan', 'daampatya', 'jamudiya', 'pedoo', 'pipra', 'blair', 'communications', 'alayans', 'aradas', 'gudna', 'just', 'aawajon', 'benvar', 'amarillo', 'bramhaand', 'dikhai', 'tantro', 'aasan', 'tuglakabad', 'sutton', 'kandrour', 'khanna', 'nikalani', 'dibanoo', 'immachyoritee', 'tolaasan', 'jaanaakaree', 'liwaal', 'engeline', 'rushitaa', 'flint', 'vrishchikahsaptah', 'aasmatee', 'girkar', 'vaigyaanik', 'bishadhee', 'phoolatee', 'punahsthapana', 'badh', 'gandha', 'chakshu', 'miktaam', 'liidaron', 'zabardast', 'stuti', 'aurato', 'heblikar', 'rattebaajee', 'francisca', 'mumba', 'pratiyukti', 'darati', 'pranon', 'madison', 'nibhaaegee', 'myers', 'kashyap', 'brigadier', 'ambikaaon', 'hogaah', 'ishaak', 'sumi', 'deshbhaktimaya', 'dharmapatriyaan', 'krishnanagar', 'ea', 'aayudhnirmaanee', 'taaja', 'ajasra', 'fijulkharchi', 'mantrayon', 'tanta', 'dealership', 'chapel', 'dhwanimikon', 'education', 'jarakh', 'neet', 'jilawaasiyon', 'samprabhuta', 'kasegaa', 'pakanevala', 'deepn', 'kalasaanaa', 'mugaalataa', 'tokne', 'falibhoot', 'gyonth', 'dikhaai', 'shaamjeebhaaee', 'pahnaakar', 'kisaani', 'udhaaradaataaon', 'ramtek', 'wyaakhyaatmaktaa', 'somvaar', 'vista', 'polimer', 'raktaabh', 'bhugta', 'bhrashtachareeyon', 'khatakti', 'mukhyamantriyon', 'mad', 'kakshaang', 'jain', 'mahin', 'survana', 'baangarotiya', 'rasaayanik', 'aurora', 'chamchagiree', 'ncrwc', 'ainthey', 'essel', 'deshsewa', 'ilectrotecs', 'workcharge', 'kaarwaai', 'jhanktaa', 'urgent', 'sapraman', 'maurya', 'jini', 'jagadeeshachandra', 'asurakshit', 'kaavyoktiyaan', 'alnkaar', 'svadpremiyon', 'jaatak', 'rollers', 'ashaktataa', 'kaathiyavadee', 'aavriti', 'vidyaayein', 'vidhivat', 'raadhe', 'mukhyamantrisamvaaddaata', 'praansangalee', 'kanalog', 'pudukkottai', 'nicky', 'fuhadtaa', 'patachep', 'retreate', 'manovaigyaaniyon', 'stanadhari', 'mukhyopadhyaay', 'nirbaadh', 'todne', 'avuti', 'parikshankartaon', 'extactor', 'nashik', 'rasayanon', 'vaitravati', 'ogrenaaij', 'chausingha', 'phalodi', 'skhalan', 'panaamaa', 'nigar', 'monte', 'suneeti', 'shrabon', 'ambikaon', 'gujara', 'photofrem', 'prahlaad', 'beesavaan', 'dvivedi', 'denewaali', 'burleson', 'bharadwaj', 'jataati', 'malegaon', 'rahugaan', 'mahamantra', 'beast', 'divyata', 'sanjivan', 'kuposhit', 'eksclation', 'chadhega', 'texarkana', 'dungerpur', 'sarahi', 'laalaparee', 'aeronautics', 'worth', 'aasteen', 'svapnika', 'upakaaryaalayon', 'mimicry', 'ballabh', 'veriphication', 'hackensack', 'aakaash', 'bona', 'clock', 'daphan', 'pegav', 'kahlaya', 'madheekhedha', 'teleebag', 'dhaarak', 'nikaalani', 'kanghe', 'prashnottari', 'kakinada', 'bhaagyoday', 'singer', 'machaye', 'lekhakganon', 'uchhalne', 'dharmarajne', 'ainjal', 'bantata', 'pharm', 'ravel', 'hanumangarh', 'veeraangnaaon', 'gaytri', 'venkatraman', 'dibnoo', 'purooshottamachaary', 'sanyojakon', 'jhaauganj', 'sarkaren', 'newtest', 'shrikar', 'mitaao', 'diyotsiddh', 'bhoopsingh', 'charchaaen', 'prasarakon', 'nishpaap', 'flin', 'ranneetibanaa', 'eeaarjee', 'dhaagaa', 'gomukh', 'jud', 'khanikarmi', 'sharabh', 'arellano', 'ukhadhakar', 'lenevali', 'kumar', 'singhde', 'toncil', 'davindarpal', 'singaar', 'khisakate', 'enid', 'megapixal', 'digvijay', 'fazalon', 'doge', 'labelon', 'munafa', 'badhane', 'very', 'saatsera', 'ortega', 'rowe', 'bhatia', 'raajsthanwasiyon', 'baagbageechon', 'wilkinson', 'daraati', 'atke', 'pramukhataapoorwak', 'yatna', 'nitin', 'city', 'radico', 'dukanon', 'jalsansadhan', 'masyendranath', 'behar', 'barsheey', 'avru', 'daw', 'naqab', 'saregama', 'hugli', 'satti', 'neg', 'mahabaleshwar', 'placentia', 'varsaache', 'kumau', 'emi', 'theatrs', 'erika', 'khinchakar', 'raubadar', 'alto', 'kavyavidhaaon', 'coon', 'akron', 'tahkhaana', 'samajjanon', 'machaaye', 'suryadev', 'prathamik', 'pravritriyon', 'taajaa', 'jivanshaili', 'raktdaataaon', 'baleshwar', 'bhautikwaadiyon', 'lagaateen', 'jhaiyaan', 'vanshvaad', 'navanagar', 'najarandaaz', 'anshaankan', 'funkane', 'matpatron', 'module', 'farms', 'pahunchogee', 'maidi', 'thief', 'pfaudler', 'amit', 'poorvabhadrapad', 'landara', 'gonpo', 'vesle', 'shaao', 'hamidan', 'weeks', 'mineral', 'centennial', 'bastiyo', 'bagbagichon', 'pranit', 'bhedabhaavon', 'karaahanaa', 'greenville', 'sherawat', 'ralaud', 'jatakon', 'rishte', 'bentonville', 'najibabaad', 'financiers', 'phatahee', 'kerala', 'ladaaiyon', 'harijan', 'whitaker', 'vidisha', 'paul', 'aryon', 'khilana', 'chhutane', 'dukhiyon', 'poorneshwari', 'visabal', 'daramyanee', 'yari', 'vidhamaan', 'yatraein', 'sunteck', 'gujarata', 'niyanta', 'dum', 'awasthi', 'plus', 'bhen', 'stops', 'dhakelte', 'kpo', 'damghontu', 'insano', 'merraige', 'asfalt', 'laundry', 'ratnaabhooshan', 'ski', 'dushwaariyon', 'anupryogon', 'deshseva', 'lela', 'jagaragallu', 'mejbani', 'dehri', 'chkkar', 'crawford', 'guduri', 'dvc', 'prakriyagat', 'nag', 'matsyavatar', 'scootaron', 'ardhavishvas', 'daramyaanee', 'survanaa', 'sthitiyan', 'dharmaanand', 'sofner', 'squash', 'vidhansabhaen', 'randolph', 'mezbaan', 'sprit', 'sheelabhang', 'kalmein', 'swarnikaa', 'mandi', 'arthawyavasthataaon', 'kundaliya', 'nimkathana', 'farm', 'hatyaaropit', 'putta', 'faurensis', 'purooshottamachary', 'bonds', 'shikaayatkartaa', 'cronfrencing', 'ubal', 'baabaao', 'halmatpura', 'haqeeqat', 'barman', 'vartmaan', 'baantin', 'achanbha', 'jiwanparyant', 'wadara', 'sadaqen', 'aisa', 'jyotishyshastron', 'pythagoras', 'engelin', 'kapolkalpana', 'dropadiyon', 'rozlyn', 'sriram', 'gopaalak', 'bangbandhu', 'mistriyan', 'usay', 'mercado', 'maisore', 'offshor', 'kapurthala', 'sahovaliya', 'maladahiya', 'hymen', 'indaurnagar', 'visheshagyataon', 'usaki', 'caplin', 'mahapran', 'rupesh', 'reno', 'sudeepton', 'swamy', 'amara', 'vyavasthaamoolak', 'sensing', 'tyler', 'sangareddi', 'pehno', 'mardani', 'bamleshwaree', 'deewani', 'fincorp', 'navaa', 'shimat', 'sohawal', 'banaam', 'prawrutriyon', 'xiong', 'varsted', 'raajon', 'cheekhana', 'naimul', 'badhotri', 'antony', 'chhanyasa', 'nirdeshikaa', 'niptaaraa', 'judne', 'sujhati', 'pathalogist', 'tide', 'shrungar', 'braandes', 'parmeshvarpur', 'jedateeisaaft', 'uddhaatan', 'stan', 'aadivaadiyon', 'julaahon', 'maharaja', 'gatishilata', 'shipra', 'tribunal', 'khyber', 'wanvibhag', 'ghataatop', 'dharmagranthon', 'prawrittiyon', 'gaanth', 'mysore', 'sehgal', 'namkin', 'vaidh', 'vanaspatiyaan', 'jiangkou', 'pakhandi', 'protekts', 'elbaino', 'linden', 'sohaval', 'bhurbhura', 'gastrology', 'widroop', 'sajsajja', 'raatrichar', 'rojana', 'jalbhrav', 'montgomery', 'sev', 'bhrastrachariyon', 'dwn', 'streshan', 'ganthe', 'gehlot', 'chhateni', 'vishwasniiya', 'jivaniyan', 'dastaanen', 'dhona', 'kharuwaar', 'suriname', 'mangalsinh', 'anyonyashritta', 'ninties', 'paancholaas', 'reson', 'vaataanukooliton', 'chatushkoniya', 'aamdi', 'dushtaapurvak', 'bechate', 'chuka', 'mizoram', 'torrance', 'anuchit', 'avarodhak', 'ross', 'achyut', 'oodhami', 'haraval', 'gould', 'daaw', 'srijanvigyanee', 'nextgen', 'rukavaton', 'bhavanaon', 'dehdhaari', 'parikhaen', 'utaney', 'sanskrition', 'prospex', 'naeedilli', 'saayn', 'geneva', 'rasad', 'baramula', 'vandemataram', 'safari', 'chamba', 'sawal', 'bannari', 'fatehpur', 'pehnate', 'spray', 'normal', 'allout', 'manassas', 'mantriyonke', 'karyakaryakartaon', 'phaadanhe', 'greg', 'baitool', 'kushan', 'subbanee', 'infibeam', 'khatakhataakar', 'chachaji', 'chandrabali', 'baripada', 'roohelkhand', 'ghairakaanoonee', 'aarekhah', 'pramukhkarmiyon', 'lee', 'thiyeters', 'assam', 'faanon', 'jyada', 'theateron', 'safaikarmi', 'bieseses', 'cronfrensing', 'jeevraaj', 'thirake', 'shaksubahey', 'paratrooper', 'dabhara', 'usi', 'nihsandeh', 'mahanatam', 'banthia', 'anam', 'kashmir', 'baavadee', 'bhutto', 'maarake', 'kaaryayojna', 'francisko', 'adani', 'dhuriyaa', 'mhavidya', 'megapixel', 'cryptocurrencyon', 'muth', 'authoritee', 'aparivartanshil', 'pradhanmantriki', 'aagaashe', 'navjaagaran', 'attraa', 'ubala', 'amanati', 'khammam', 'haaranaa', 'bhavabhivyaktiyon', 'pushkar', 'shaantiyon', 'nerolac', 'chauka', 'siddhalingaa', 'bharatnatyam', 'javabah', 'dushwariyon', 'manchiy', 'jiyo', 'sapramaan', 'sim', 'peeechdablyooseees', 'bahav', 'tik', 'agavai', 'higman', 'qiwi', 'agyat', 'agende', 'lynchburg', 'maangeena', 'khatakhataaegee', 'jodhikaa', 'srujanvigyaani', 'detasan', 'badalwa', 'urf', 'chhaapemaar', 'lux', 'bhopal', 'phalibhoot', 'paithelaujist', 'paryaptta', 'furti', 'mrutyuniwaarak', 'maruti', 'uthaakar', 'alo', 'pegaw', 'pilibhit', 'somi', 'sanchalnon', 'kanchipuram', 'daraatee', 'yaddasht', 'sabudana', 'welding', 'veronica', 'stimberwala', 'mayajaal', 'pes', 'atul', 'outomaitically', 'jaanchana', 'mithilanchal', 'phiksingah', 'sajetee', 'plano', 'visangatiyaa', 'khhomche', 'lagna', 'mukeshwari', 'tasvaaron', 'dev', 'vesh', 'jyothy', 'landal', 'viraangnaaon', 'yanit', 'purnia', 'chauk', 'ladeen', 'chest', 'kasega', 'abut', 'renuka', 'loowe', 'gulaabaag', 'lajjalu', 'sabhaar', 'gairarashtravaadee', 'dhaavakon', 'lim', 'vidhaaein', 'svayamsveekrat', 'electrotex', 'ramraj', 'janbhavna', 'yauniktaa', 'haathe', 'dune', 'protects', 'vareinye', 'mazboori', 'praveenchand', 'vaigyanik', 'torrent', 'aatmayen', 'samprati', 'matthe', 'savita', 'atlantic', 'jalgti', 'chacchaa', 'afreen', 'bazaru', 'chauki', 'pharse', 'tuning', 'nodaraanee', 'maum', 'vidhaanee', 'gujar', 'pakadkar', 'aankhen', 'aapka', 'warner', 'anvaharya', 'likhehain', 'paathyakram', 'shavkon', 'yarooshaleim', 'mandalaayukto', 'naino', 'jhaaiyaan', 'simferopol', 'dhamm', 'nikharegaa', 'ghumaan', 'hounga', 'dhakal', 'sagarika', 'bernard', 'yogabal', 'breweries', 'dish', 'aithan', 'vartamaan', 'tremasik', 'tasvire', 'vyvhargat', 'maratha', 'banvaa', 'svarnika', 'prasath', 'overall', 'purwafalguni', 'properphasebook', 'suven', 'sapate', 'jh', 'karghe', 'deshkaal', 'nathdwara', 'thanvi', 'oran', 'serrano', 'ear', 'submission', 'dharak', 'tadad', 'greenwood', 'haute', 'behuria', 'niyantaaon', 'churu', 'missouri', 'anyaya', 'generat', 'nyutest', 'garud', 'swaastikakaar', 'shaie', 'siddhantavaadiyon', 'anawashyak', 'seaten', 'gulshan', 'riya', 'firmian', 'tyre', 'chi', 'badlapur', 'yuddhanaukaa', 'nbcc', 'shreeganganagarvaasiyon', 'udaa', 'cambridge', 'airway', 'idol', 'calumet', 'aajmaanaa', 'tantrikao', 'jonesboro', 'buddhijeewon', 'klozup', 'nmdc', 'raashtrapit', 'kamarhati', 'asphault', 'fransisko', 'bhalla', 'maulvidon', 'narwar', 'lahlahati', 'byaawa', 'ghataaegi', 'naamajadagee', 'takah', 'sevagram', 'laamiyan', 'gin', 'swechha', 'antadiyaan', 'arya', 'polishing', 'jokhimabharaa', 'umadatee', 'tantra', 'samoa', 'csi', 'mandya', 'lawrie', 'pahante', 'ankor', 'nimnavat', 'rapping', 'roopesh', 'pratibaddhata', 'nadep', 'sailaaneepan', 'menrajya', 'daav', 'aaboorod', 'pathyakramon', 'nividaataaon', 'gandhipura', 'phwcs', 'narayangadh', 'jaylalita', 'susanskrut', 'masood', 'woonsocket', 'sanskrutiyan', 'urff', 'theratipally', 'pratinirdesh', 'ulhaaspur', 'pahanate', 'dhawakon', 'bhagedh', 'pransangali', 'jalvayu', 'bhijvaai', 'sayra', 'krendron', 'maujud', 'siddhaant', 'kamyuniketars', 'chidchidapan', 'muthoot', 'wiwekadhikaron', 'maloun', 'cincinnati', 'registan', 'parosne', 'vichaarakon', 'janbhawna', 'andaman', 'badyal', 'morepen', 'beard', 'nodarani', 'dikhayee', 'chink', 'wyakhyatmakta', 'shaishav', 'aainthoo', 'ahemdabadah', 'jaayke', 'cigniti', 'kurukshetra', 'pravritteeyon', 'charcha', 'lakshmeechandra', 'hammond', 'nibhaegi', 'dhunai', 'janbhaavna', 'cant', 'melaghaat', 'mue', 'shwing', 'dampatya', 'kpada', 'santati', 'maanavtarhit', 'anuprayogi', 'harvey', 'kaju', 'cerritos', 'texmaco', 'sanchar', 'tuth', 'lozano', 'ropaney', 'hollywood', 'chhinke', 'dhamma', 'technoplast', 'pujapath', 'chanan', 'shrankhalaaon', 'chhednaa', 'carbogen', 'vyavadhan', 'schultz', 'istrailiyon', 'squash', 'danville', 'prana', 'thaakurvaadee', 'prayogshaastra', 'wyakteeyon', 'metrologist', 'madhura', 'paliyon', 'denver', 'apj', 'beni', 'pratisthaan', 'bhrashtaachaariyon', 'lakeer', 'sudhaargrah', 'sandali', 'jagriti', 'talwar', 'janashiksha', 'tapuwo', 'bulletin', 'ballebaajee', 'maadheekhedhaa', 'arthshaastriyon', 'scaining', 'mehman', 'rahegi', 'jamshedpur', 'tyauharon', 'darshaana', 'beechbachaav', 'sulati', 'varshan', 'sudhaaratee', 'wasaamukt', 'patil', 'jewaab', 'soto', 'dhtuen', 'dose', 'bhaagadaud', 'pagabadha', 'arushi', 'agusta', 'titan', 'equities', 'airtel', 'alaps', 'naksali', 'achivement', 'galaega', 'foodon', 'rajnichi', 'arya', 'streamwood', 'ghot', 'music', 'purkayastha', 'nora', 'tonic', 'gujaarne', 'water', 'sunsaan', 'sirsa', 'tangirala', 'hanson', 'varun', 'dreijer', 'doudaate', 'sharabon', 'vyakteeyon', 'saatseraa', 'darjano', 'agniyaan', 'dhonaa', 'karyakartriyon', 'awasthaen', 'himamaanav', 'two', 'ail', 'bandhuon', 'shraddhavanon', 'mariyo', 'vyaghat', 'michael', 'adrgh', 'vitthal', 'prarup', 'dhoondhti', 'dubana', 'ladne', 'form', 'zuari', 'pariwarwale', 'peranormal', 'bhuvneshvaprasad', 'iris', 'pratigyapoorn', 'lebalon', 'shreekrushnan', 'snikarse', 'kain', 'bhooswaami', 'karta', 'anyay', 'nokari', 'precision', 'chrom', 'jue', 'bowling', 'taapti', 'catholicon', 'nazarandaz', 'mulchand', 'sweccha', 'nanyaulaa', 'ghontana', 'advaitwad', 'underwood', 'lubhaavna', 'petroselee', 'amdi', 'ropane', 'daisy', 'jababee', 'cup', 'phaade', 'ulahna', 'unnatiyon', 'molina', 'gaandchubhonachoosnachhote', 'han', 'pradarshan', 'sarjuga', 'bidar', 'amargad', 'juye', 'tonk', 'devaapur', 'intelligence', 'neetiyon', 'khanaudaa', 'porbandar', 'sim', 'lagnesh', 'gaayikao', 'prishthabhoomiyon', 'moolchand', 'silchar', 'margarita', 'udakishuganj', 'sirtee', 'yamala', 'prashikshu', 'sierra', 'aalhaa', 'peck', 'taskhir', 'daka', 'nominate', 'sapat', 'coimbatore', 'koraput', 'svayattshasan', 'vidyutikrit', 'kikiyaanaa', 'arunaai', 'rigal', 'diamond', 'mridubhaashee', 'walters', 'sutrapada', 'keeti', 'zilaadhikaari', 'mangesh', 'pension', 'laganewale', 'jilavasiyon', 'ploskee', 'eksath', 'sekhar', 'dow', 'ardhawishwaas', 'rajasthan', 'vikaskhand', 'samshayon', 'badhanaa', 'classon', 'ikhrul', 'furaame', 'ebaz', 'baataaya', 'jushantan', 'strong', 'rajnitikaron', 'panipat', 'blankaard', 'jhabua', 'jacinto', 'barahsinga', 'suchnah', 'electromagic', 'lalmani', 'bhaaulaal', 'kathua', 'palaari', 'amitao', 'tadanrustee', 'vaabastaa', 'vlad', 'slash', 'waterbury', 'selfie', 'luis', 'panchasootra', 'aryama', 'vaadak', 'junction', 'generic', 'jiya', 'aden', 'sophner', 'qwvga', 'dhvanimikon', 'feeds', 'sukadiyaal', 'angadh', 'bavji', 'chhodiye', 'cipla', 'vigyanon', 'dhasmaanaa', 'longewal', 'badam', 'atraikt', 'saraaha', 'nrityashaili', 'sanvari', 'yakshadhipati', 'arabpatiyon', 'mukaddamon', 'phode', 'sihunta', 'jeewan', 'dhoondhata', 'cruces', 'kaaryakartriyon', 'pratibaddhtaaen', 'dlw', 'plan', 'pailot', 'adhiwas', 'phainn', 'favvara', 'halchal', 'wishvaweer', 'crest', 'brahmleen', 'virechan', 'yaaddaashta', 'ujjain', 'sahyaatre', 'jimme', 'sarawagi', 'dekhiyegaa', 'wajood', 'kundal', 'ria', 'slider', 'management', 'karyakaaryakartaon', 'cristis', 'ruktey', 'distrabyuters', 'spell', 'damapar', 'thikane', 'interactuality', 'cdyaan', 'south', 'aapkaa', 'nahinkarwaaee', 'jaagriti', 'choodhe', 'thirty', 'nadsa', 'gsm', 'gujarat', 'darshnarthee', 'nabha', 'dhokebaaj', 'lega', 'beeaaeeaaeeteeem', 'somwaar', 'wanon', 'audhyogikaran', 'agrahari', 'aafa', 'teemaardaron', 'misra', 'cerebra', 'naagrik', 'dastaar', 'makarh', 'gtor', 'ballistic', 'chadhegaa', 'maange', 'nilabh', 'mensharaab', 'singhade', 'hisaarah', 'ramkot', 'baithate', 'taskheer', 'ishaara', 'solapur', 'mejbaani', 'florence', 'paraamarshak', 'jhaadane', 'theaters', 'aadaan', 'ambience', 'surakshaah', 'hikaarico', 'baanyaa', 'rookvaai', 'mitravat', 'bokaro', 'maurya', 'pratinidhikaaree', 'chandramaon', 'parosane', 'dhaiya', 'spirits', 'leandro', 'sean', 'swarthparak', 'chuchiyaan', 'mahamidiya', 'poorwajanmon', 'shohadapantee', 'kushaan', 'jamloki', 'everest', 'taswaaron', 'advivas', 'premlata', 'murrieta', 'vaimanasya', 'kelly', 'tinplate', 'vaan', 'mahamantr', 'mezbaan', 'shumali', 'fulaaye', 'pruitt', 'rojvelt', 'prashasanik', 'ulazaanon', 'patrakaarvarta', 'duar', 'kathfodave', 'bipin', 'offerh', 'isayiyon', 'propellent', 'kansai', 'sikhin', 'cdcl', 'abbott', 'katlari', 'aadiwadiyon', 'chitrakathaa', 'avshisht', 'phyuchuristic', 'tereeh', 'nanhe', 'avery', 'suba', 'shakhayen', 'trikaldarshee', 'paalasaahee', 'failaiye', 'jhauvaa', 'jamati', 'janhani', 'ponding', 'taswaron', 'deshkal', 'hichkichaa', 'basteeh', 'garibi', 'phadphadaaen', 'sitaram', 'kmere', 'bairakpur', 'svayamswikrat', 'kaasovo', 'majboori', 'convocation', 'skipper', 'jaipur', 'prasthaanon', 'narm', 'radiopremi', 'titagarh', 'chico', 'rajyamantreesvatantra', 'mainval', 'gujarana', 'satluj', 'jatiyon', 'anhoni', 'telelinks', 'labs', 'harawal', 'marriage', 'maniya', 'tractors', 'kanchan', 'lairi', 'kaaryaawadhi', 'jalbharav', 'bhaadaa', 'baagora', 'piega', 'stephens', 'abhimat', 'accelya', 'wirerless', 'chauda', 'parbhani', 'khaatedar', 'badhna', 'burch', 'upadrawon', 'tikiyon', 'milk', 'dubona', 'baker', 'sutali', 'buddharam', 'wealth', 'patrani', 'ardhavishwaas', 'paim', 'castaneda', 'baljit', 'bhatnagar', 'jaatakon', 'ecuador', 'swargdoot', 'rushikul', 'tate', 'kanthhar', 'beaulad', 'europea', 'gaye', 'dadreva', 'bikherane', 'hamlo', 'pakdaae', 'uplabdhiyon', 'colorado', 'packard', 'jagruti', 'andhra', 'chounkate', 'bekhvaabiyaan', 'naphaa', 'sinha', 'utpidan', 'saga', 'aarya', 'dikhaaiye', 'anishtata', 'udan', 'sanyuktawastha', 'shamtal', 'evava', 'adhiwaktaagan', 'ralhan', 'jhuthalane', 'purvaabhaas', 'bijendrasinh', 'chinmani', 'loksbhavaali', 'ladki', 'narsinghgarh', 'sanghathanamantriyon', 'roopi', 'karykartaon', 'augusta', 'manmarji', 'antrmukh', 'anumar', 'rishtanaataa', 'dviarthi', 'chootile', 'hattiesburg', 'yoojee', 'raaj', 'raigulization', 'vindhya', 'fixingah', 'kamjor', 'bhara', 'chaudhavan', 'falne', 'shrunkhla', 'vipannta', 'proofread', 'zamana', 'ghataaegee', 'danga', 'erica', 'bhola', 'vyakhyatmakta', 'yojnah', 'webuniyadee', 'rumani', 'sahu', 'pradhaannagar', 'seattle', 'stain', 'insaani', 'hamla', 'nutrio', 'ladadd', 'antadiyan', 'kushwaha', 'kochchih', 'ganapathy', 'farmic', 'padengee', 'arth', 'mukarrar', 'niptakar', 'holidays', 'cooch', 'utthak', 'sulkhan', 'kamere', 'jagayega', 'santree', 'shakhsiyaten', 'panchang', 'zalana', 'nitya', 'ichchhee', 'habra', 'paaliyon', 'azoospermia', 'taavij', 'foodworks', 'graham', 'prabhaanmantree', 'seth', 'jagtap', 'harshit', 'dubna', 'raktadataon', 'mexico', 'tasir', 'eyarkandishnar', 'eddi', 'macon', 'israni', 'ainth', 'shreemahapurn', 'dork', 'jeenon', 'ghareebon', 'taraashakar', 'observer', 'aarya', 'ukhad', 'saathsaath', 'packagon', 'hindon', 'aprihary', 'manzil', 'lx', 'karvi', 'dubhashiyon', 'rikannekting', 'wind', 'client', 'shararat', 'ventura', 'rollins', 'haynes', 'niketan', 'krantiyon', 'twin', 'divya', 'gidgidate', 'nigmaayukt', 'gabalee', 'novato', 'rishwatkhor', 'faansi', 'garjana', 'nihlani', 'pintaa', 'greer', 'lewisville', 'prakaashit', 'clariant', 'khaayal', 'dwiarthi', 'raakhe', 'bulandshahr', 'stafford', 'najariyon', 'world', 'jeevniyaan', 'parmeshwarpur', 'uthanee', 'nyootriyo', 'jetha', 'baagbagichon', 'suchikitsaa', 'nagmandal', 'pradadhikariyon', 'urvarta', 'neal', 'kriptocurrencyon', 'svaayattshaasan', 'zarda', 'uplakshya', 'chhudwaya', 'vidagdhaa', 'mukhyamantripatana', 'gene', 'ratanpur', 'mhantam', 'guna', 'mtech', 'denevali', 'naabhikund', 'visheshanon', 'langaron', 'polythenon', 'sambit', 'dhundh', 'haan', 'takra', 'dhandhekhori', 'pulinde', 'epoklips', 'vigyaanapeediyaa', 'mahoney', 'poonjitantra', 'khare', 'ekstactor', 'zunheboto', 'priyamani', 'sawaal', 'sukhakar', 'aalochak', 'phaans', 'jayalalitaa', 'amjhera', 'bombay', 'vyagra', 'apnani', 'risane', 'chhure', 'charlotte', 'jose', 'raileeh', 'mejbaan', 'dhandhanya', 'dabur', 'bsss', 'najib', 'avsthayen', 'jabalpur', 'dharmanirpekshtaake', 'farmer', 'nacl', 'somerville', 'bull', 'jhulae', 'khagyaar', 'meharaam', 'dhasmana', 'ripan', 'bhagdaud', 'mithya', 'lalaaniyaa', 'bhulon', 'vadali', 'nagappattinam', 'vaimanya', 'biggest', 'jodta', 'mahattaron', 'orchha', 'dhairyavaan', 'sund', 'prince', 'zuban', 'camstudio', 'yooropiyaa', 'meza', 'bhusawal', 'gayatri', 'ware', 'buddhizeevon', 'enth', 'radar', 'ilayachi', 'ubaal', 'shreeganganagarwaasiyon', 'fitzgerald', 'jeevanshaili', 'chart', 'sargi', 'vedon', 'murmur', 'bhaate', 'wipkha', 'bayaane', 'madanaganja', 'packageon', 'varnankartaaon', 'jyada', 'lokotsaw', 'tewree', 'jhaugunj', 'malwan', 'tadanrusti', 'el', 'qabzaa', 'susanskrit', 'sandhol', 'aamariyapadha', 'haabban', 'bowling', 'rasme', 'emdablyupiel', 'vidhaaon', 'bowie', 'chennai', 'kamaljeet', 'singha', 'pensiondhariyon', 'barah', 'dubana', 'esetal', 'chouhan', 'phalne', 'siddhaarthah', 'apex', 'dalton', 'shrikhand', 'textiles', 'agarwal', 'mithyaachariyon', 'cement', 'kraanfrensing', 'sanskrutiyon', 'dhankkar', 'nizamabad', 'chhatenee', 'dushkriyaa', 'sasaram', 'chidhte', 'lamba', 'lautis', 'khaen', 'dhndhe', 'antayant', 'mass', 'baraamad', 'kremistry', 'uthanevale', 'lehna', 'siragitti', 'control', 'andaajee', 'cateline', 'pakshpat', 'fodo', 'franciska', 'prayogaprushth', 'krantidhara', 'daishwala', 'khurasan', 'quarantine', 'fond', 'pakshapat', 'putla', 'truth', 'sathsath', 'mohim', 'johnson', 'cpm', 'bataaya', 'palmer', 'tughlaqabad', 'apcotex', 'hairam', 'sarebajar', 'jerusalem', 'mold', 'warnankartaaon', 'hooper', 'waters', 'lubhaate', 'fefda', 'kamottejna', 'dampati', 'soya', 'barbartapurna', 'tadipar', 'lutf', 'tariko', 'chataa', 'pittman', 'pahla', 'multimedia', 'tyohaar', 'label', 'le', 'tirthatan', 'satuaa', 'vargas', 'dabolim', 'soochnaah', 'labelling', 'roseville', 'phaaeebrets', 'aalto', 'partanee', 'asmitaon', 'want', 'tadpatee', 'patel', 'kaaji', 'dostanapurna', 'kshetron', 'lynch', 'state', 'ragon', 'malhotra', 'pragyatantra', 'duneerti', 'crosse', 'avyavasayi', 'dhiryawaan', 'time', 'ashariri', 'chandradas', 'jyotishi', 'alexandria', 'bewakoofaanaa', 'sirpur', 'uzbek', 'kharuvaar', 'dharmaviheenataa', 'surendranagar', 'aalha', 'arunachal', 'krueger', 'bagli', 'davindarpaal', 'chaplusi', 'sanskariyon', 'engines', 'mendez', 'siyah', 'gujaarane', 'gajara', 'kavi', 'midnapore', 'vrutton', 'sirmon', 'vartman', 'ubhrega', 'pilot', 'narbhakshi', 'entreeks', 'dayton', 'badoo', 'allrounder', 'nishra', 'wadhawan', 'jensen', 'pali', 'trimasik', 'attraikt', 'vavidyaalaya', 'chandan', 'mega', 'mansfield', 'mattancheri', 'navketan', 'kamtar', 'pityooniya', 'purooshottampur', 'tapan', 'jubaan', 'enseeaardablyoosee', 'haimbalin', 'aaraam', 'yashpal', 'wokha', 'chhetri', 'omaxe', 'parween', 'kukreja', 'premphalah', 'narmi', 'shrinkhalaon', 'avrodhak', 'teeron', 'ganesha', 'jhada', 'anupama', 'talabgaar', 'bindal', 'zavala', 'aamriyapada', 'pratinidhikaree', 'halmatpuraa', 'boodam', 'macias', 'medical', 'respecting', 'ranjkta', 'da', 'suction', 'bhumi', 'tyoharon', 'rangate', 'uttra', 'penshandhaariyon', 'karykartaaon', 'vidyaaon', 'dafan', 'sarhind', 'khaaskar', 'raith', 'gudagaunw', 'sahab', 'udaanon', 'majesco', 'pushpa', 'keshari', 'bombi', 'kargil', 'takara', 'biji', 'chrome', 'stithi', 'gulf', 'kaaloniwaasiyon', 'aavritiyon', 'suhanubhooti', 'chamach', 'virodhabhasi', 'saabhaar', 'allcargo', 'harana', 'avyavasayee', 'pravinses', 'chhetthari', 'pratishthi', 'sapa', 'patki', 'parchiyon', 'prativad', 'liphaaphaa', 'darshana', 'garrison', 'aakandon', 'dhandon', 'distreebyootaree', 'khatri', 'panjika', 'baatah', 'ravaley', 'kangan', 'premaatmak', 'sipahi', 'notebandishuda', 'devlaha', 'halla', 'jhamaaten', 'massey', 'usak', 'pitamah', 'vivaranahbhaarateey', 'nagercoil', 'lakhkhi', 'achhi', 'satin', 'nagpur', 'basirhat', 'chhelai', 'ubarkar', 'sanyuktavastha', 'suri', 'bhapaai', 'vyaktigat', 'mhathir', 'flesh', 'rashtrak', 'raajbhaaee', 'hong', 'langron', 'subhaay', 'fund', 'flowers', 'uthane', 'badaa', 'mishra', 'shat', 'manhattan', 'sarguja', 'evening', 'grahankaal', 'bagali', 'neeoo', 'mundwa', 'tolasan', 'jedateeisaft', 'naagmandal', 'kanaal', 'machilipatnam', 'felix', 'hastaksharon', 'bhilai', 'contracting', 'qraar', 'jaun', 'bhaloo', 'fortis', 'girijagharon', 'jainon', 'arthavyavasthaah', 'oxys', 'khitabon', 'enka', 'chashma', 'batao', 'ghrutakumaaree', 'pratestent', 'bauer', 'lakshmidhar', 'siyasi', 'upyogitawadiyon', 'toogaa', 'samadjiyon', 'khurpaka', 'kumavat', 'mwp', 'suraj', 'neuroscientists', 'chandreshwaranagar', 'tanish', 'farukhnagar', 'awaazon', 'najraane', 'pashuchaaraa', 'webuniyadi', 'danbury', 'naidillee', 'chhalla', 'rowan', 'sheopur', 'rawlani', 'sanvaree', 'dhaak', 'masse', 'insurance', 'samprbhuta', 'raashtraa', 'jauhari', 'judai', 'badamaashon', 'khitaabon', 'swayam', 'aagah', 'dhindhwal', 'ghise', 'sappaanwaalee', 'nikharen', 'baadhit', 'brahmapur', 'baytown', 'koling', 'samadhiyon', 'yooniyanwaadi', 'chhapemar', 'gareebon', 'thousand', 'dasila', 'kanjentevaaitis', 'badhaon', 'lagega', 'durghatna', 'nitiyon', 'capdhari', 'atri', 'singam', 'vastvik', 'substensis', 'peelepan', 'uthnee', 'handiyaa', 'pratirakshi', 'lalkarta', 'dukaanon', 'nividaataon', 'sarvjaateeya', 'narsanharon', 'neemkathana', 'herrera', 'junun', 'ikai', 'jagdalpur', 'swiftlet', 'jalagati', 'pitts', 'ropi', 'adanga', 'alasi', 'chaukiyan', 'layton', 'vakrangee', 'development', 'shawnee', 'pardesiyon', 'bhoogol', 'bagichi', 'sivan', 'stray', 'aalsi', 'view', 'vishhin', 'kissagoi', 'mahanideshak', 'chikitsaevam', 'bhattacharya', 'trenton', 'kanyaein', 'priyadarshini', 'hukhookh', 'shulkah', 'rane', 'mahavidya', 'sanshyon', 'shreneeh', 'odom', 'benitez', 'tyohar', 'matiyaanaa', 'shavyaatra', 'rishtey', 'rehaana', 'qss', 'anaavashyak', 'rijhaayaa', 'brigade', 'sapane', 'chuneen', 'koshadhikaari', 'karab', 'paltane', 'karneshwardham', 'aaryanas', 'pratishthanon', 'karaikal', 'uski', 'vipreetataa', 'parikshao', 'fyuji', 'laaminaar', 'jutati', 'kaushik', 'bekaaboo', 'nano', 'orissa', 'tomar', 'ropee', 'thappadhabaajhee', 'baabat', 'attahasa', 'colan', 'pratileetar', 'bhusi', 'haliyaa', 'utpeedan', 'pope', 'karkhele', 'bahulya', 'aswbhavik', 'kathhnaeeyon', 'ramjeelaal', 'vasulta', 'mukhyamantri', 'maria', 'satmev', 'baksa', 'udar', 'man', 'buddhijivon', 'sudip', 'jodo', 'tasdeek', 'nikaalni', 'bhatkaanaa', 'harna', 'dillon', 'registerd', 'bhandara', 'lalaniya', 'lima', 'lalkrishna', 'ratnabhooshan', 'sparivar', 'sah', 'sametti', 'pyria', 'maamalonmen', 'braat', 'vaiisan', 'villa', 'linda', 'khariya', 'chellani', 'electronics', 'rishiraj', 'udaipur', 'pagla', 'ritukaant', 'kurmi', 'dastaanaa', 'emrald', 'ghumaaee', 'updraviyon', 'oklahoma', 'dharmaraajne', 'jhaohuee', 'uppidan', 'khemik', 'tugalki', 'duar', 'avi', 'jadet', 'taiboo', 'programmers', 'taylorsville', 'chadron', 'racer', 'bhakaa', 'andhabhakto', 'obrayan', 'krutya', 'peeran', 'najriyon', 'mayur', 'chaudhawan', 'swargadoot', 'feka', 'independet', 'tinkaa', 'gurdon', 'jaatiyon', 'samanwayaka', 'sube', 'chandana', 'praarambhikataa', 'trap', 'udant', 'dynamatic', 'vidyuteekrit', 'lalaniyaa', 'wadaraa', 'ved', 'fadfadaen', 'traded', 'akhuaapaadaa', 'saraha', 'vigyaanvaadiyon', 'kamzor', 'youngstown', 'aaryam', 'patkathaein', 'bajpai', 'jassee', 'nau', 'evav', 'lagataar', 'suman', 'padanee', 'mindtree', 'distributary', 'jankaron', 'shankacharaachaarya', 'offshore', 'dukhon', 'nesco', 'phooltee', 'tools', 'verger', 'dumghontu', 'videoh', 'rajman', 'aatmamugdh', 'rockford', 'mitra', 'devnaar', 'ocoee', 'uttariya', 'kainawij', 'galaxion', 'jivaniya', 'hakikat', 'eliminator', 'augustine', 'kar', 'bitane', 'daftarwale', 'bairaadh', 'kambalon', 'jwar', 'fatama', 'vives', 'dwt', 'dhaatuein', 'siyaha', 'pitne', 'bichchon', 'jita', 'sevala', 'bataur', 'aditya', 'kshetren', 'ankeny', 'chheter', 'mukarte', 'enthe', 'balty', 'khangaali', 'beeeseses', 'banjajasam', 'pushpit', 'linmarga', 'pereddy', 'bodara', 'focus', 'dootaay', 'sreeleathers', 'mahankmadaan', 'ghunsa', 'kaavyavidhaaon', 'kshatriyaadi', 'jaankaaron', 'rakhna', 'rishtedaaro', 'shravani', 'kubuddeen', 'jewellers', 'mehaman', 'rojlin', 'jaikara', 'chabutre', 'haradil', 'truck', 'neurovascular', 'khelaane', 'stration', 'lakshayatirth', 'nations', 'paathshaalaayein', 'nivedanah', 'lidaron', 'tanla', 'sevakon', 'poorvapekshaon', 'mani', 'somvar', 'pran', 'avegyanik', 'aviation', 'brown', 'naakaam', 'adhivas', 'janjagran', 'rajnandgaon', 'larry', 'bhalu', 'tareeko', 'chicopee', 'refractories', 'baramad', 'kav', 'emerald', 'vivekaadheen', 'fadfadaaen', 'kaylana', 'paints', 'pittsburgh', 'hokhat', 'chaurasiya', 'sacchidanand', 'seide', 'charon', 'rizvi', 'clay', 'danpati', 'doorgadh', 'devapur', 'manwaayaa', 'latakkar', 'mehmaan', 'niya', 'udhampur', 'ataher', 'chhupata', 'tungnath', 'raghupati', 'prakandh', 'changed', 'gangtok', 'cricket', 'francisco', 'bhagane', 'adangaa', 'fixingh', 'kamau', 'tikone', 'pam', 'tarikon', 'aagaman', 'kidwai', 'aashriton', 'raghavan', 'janeudhari', 'davenport', 'preranaapuree', 'mahasinh', 'lordaa', 'introduction', 'swabhavatah', 'grishmotsav', 'talaashegaa', 'saharsa', 'mckay', 'moshe', 'granthiyan', 'lohaati', 'aliance', 'tagde', 'chinke', 'siwan', 'thaki', 'letakar', 'hikariko', 'tyres', 'nrutyon', 'deerfield', 'charit', 'bethlehem', 'fineotex', 'asahi', 'pehan', 'dhanshyaam', 'faarensis', 'lahanaa', 'dwarikesh', 'dubaana', 'karaboriyon', 'golamuree', 'raakhnau', 'vipanak', 'punchang', 'breed', 'gullaravaalaa', 'awp', 'baji', 'harpaal', 'premeshwar', 'prapt', 'naksalwaad', 'kanthahar', 'oxide', 'khairati', 'deshke', 'sunaseer', 'aphasaron', 'seho', 'chabate', 'miti', 'belcha', 'saflata', 'shbana', 'khaatootolaa', 'shivastava', 'preranapuree']\n",
            "['थरमैक्स', 'सिखाएगा', 'लर्न', 'ट्विटर्स', 'तिरुनेलवेली', 'इंडिपेंडेंस', 'स्पेशियों', 'शुरूः', 'कोल्हापुर', 'अजहर', 'क़रार', 'अंक', 'डब्ल्यूपीडी', 'हाशिए', 'ग्लेंडल', 'उधेड़', 'इकठ्ठी', 'आईडिया', 'अम्बिकापुर', 'माकेरेरे', 'साबूदाने', 'फूहड़ता', 'सेक्वेंट', 'शुऐब', 'पानीहाटी', 'समेटती', 'उखरुल', 'ब्रह्मलीन', 'उतराधिकारी', 'इक़बाल', 'दयालपुरा', 'सोहराई', 'तक़रीबन', 'फर्रूखनगर', 'ठेंगा', 'त्यौहारों', 'कर्णेश्वरधाम', 'उमानाथ', 'दानशील', 'साहित्योत्सव', 'शांतिनिकेतन', 'शिकायतकर्ता', 'अंदरखाने', 'पंटर', 'लीडरों', 'गलगंड', 'कार्नियां', 'मुर्गीपालन', 'मुशाहिद', 'मॉड्यूल्स', 'रजौरी', 'सुश्रुषा', 'शृंगार', 'होल्ट', 'लैंगिकता', 'इजाजत', 'वनक्षेत्र', 'भूतल', 'स्वादप्रेमियों', 'नाइनटीज', 'फ्रेक्टर', 'लिखकर', 'एयरकंडीशनर', 'नब्ज़', 'कुएस', 'बौनी', 'कारगुजारियां', 'गांगनाम', 'तापीया', 'तेज़पुर', 'तलवे', 'सीमाई', 'दर्शनार्थी', 'रिवास', 'तर्कवाद', 'अनुसारका', 'कोचेला', 'लटककर', 'पत्रावलियां', 'परिषद', 'स्पिन्ज', 'अनशिदा', 'डिजीसस', 'सरायमोहिउद्दीनपुर', 'लॉवेल', 'कैपेसिटर', 'पैसेंजरजींद', 'ग्रंथियों', 'बुएना', 'कैंटरबरी', 'काठियावड़ी', 'टेकचंदानी', 'फ़ीसद', 'बेरहरमी', 'निष्कर्षः', 'ऐक्टिविटीज', 'रिकैलीब्रेशन', 'शासनाधिकारियों', 'फिजूलखर्ची', 'डब्ल्यूपीडी', 'पेस', 'दस्तार', 'कैटलिन', 'जोड़ता', 'किल्लत', 'गृहनगर', 'वंडर', 'वाटर', 'श्विंग', 'पश्तून', 'फार्म', 'डिबनू', 'पश्चमी', 'उठापटक', 'नीलाभ', 'लक्ष्मीनियां', 'महानगरवासियों', 'उपनेता', 'कन्वेंशन', 'शाॅर्प', 'कार्ययोजना', 'मास', 'वेस्टिंग', 'कुर्वेती', 'ज़यादा', 'मुकेश्वरी', 'श्रीमति', 'विवेकाधिकारों', 'लोकसभावाली', 'कबहा', 'भ्रांतियों', 'विवेकहीन', 'बाल्मीकि', 'हरयाणा', 'जीवराज', 'फ्लिन', 'राणा', 'विष्णुपुरा', 'घोटालेबाजों', 'हैरतअंगेज़', 'तकलीफ़देह', 'पीपाड़', 'धभाशारा', 'अंतडियां', 'राबिन', 'सिंगार', 'गुमशुदगी', 'बालकृष्ण', 'फब्ती', 'पलटने', 'लहलहाती', 'नगाड़ा', 'उड़ानें', 'क्लेन', 'जूलूस', 'कार्यभार', 'मंटो', 'पैमाइश', 'कोविना', 'पेंषन', 'ऑगस्टावेस्टलैंड', 'सैंट्रींग', 'ऐक्टिवा', 'बार्कर', 'वल्कन', 'वृत्तों', 'कबड्डी', 'रौनक़', 'कैटलिन', 'फूस', 'जनगणना', 'उपाख्यानों', 'सुंदरम', 'कोचीन', 'नेको', 'कौशल', 'फालिया', 'एस्वेडो', 'कोट्टयम', 'दिलाएगा', 'कर्वी', 'सौंपेंगी', 'लेख़न', 'गुडेपु', 'फरसे', 'नूबिया', 'ताजा', 'आंत्रित', 'काजी', 'मुर्गीपालन', 'एड्डी', 'नगीने', 'सुब्हा', 'लुइस', 'विजयापुरम', 'बताअाे', 'ओकोआ', 'साइंस', 'सरकारें', 'ब्रेमटन', 'गुरुपदो', 'संयुक्त', 'रालोद', 'बाधाओं', 'गौमूत्र', 'सभाएं', 'तनी', 'दिल्ली', 'सुजेन', 'विनीत', 'चिमाते', 'किकियाना', 'रॊकेट', 'मैक्सवेल', 'हिप्पो', 'दीपन', 'अर्यमा', 'भूलता', 'कर्माचारी', 'दुर्गापुर', 'त्रिभाषा', 'सूदखोरों', 'प्रस्तावों', 'सुरवीन', 'प्राप्ती', 'गिरिवासियों', 'सिडयूसिंग', 'वेलवेट', 'मुक़र्रर', 'बैक्सटर', 'डेनिअर', 'सीडब्ल्यू', 'उठनी', 'घासी', 'इकट्ठा', 'भूपसिंह', 'दबोचने', 'क्रॉस्बी', 'नामीगिरामी', 'हर्ले', 'जर्दा', 'लिएप्रधानमंत्री', 'भ्रांति', 'ऐजेंसियों', 'बागो', 'फारसी', 'बोसान', 'कार्की', 'गिनते', 'मनोकामनाओं', 'संम्पत्तियां', 'पॉलिथीनों', 'एमटेक', 'परिचर', 'बडबडी', 'क्रेन', 'लामियां', 'उल्हासनगर', 'प्रभानमंत्री', 'शिवालापुरवा', 'फर्थ', 'सुहागिन', 'सरायकेला', 'रोमियोविल', 'राजस्थानवासियों', 'प्रतिरोधात्मक', 'स्वर्णिका', 'व्यवस्थापना', 'तेल', 'ग़लतफ़हमी', 'टेकइनसाइडर', 'माइक्रोफाइबर', 'श्रीमहापूर्ण', 'फ़ल्लूजा', 'डोनल्डसन', 'चढ़ने', 'जीवविज्ञानियों', 'क्रिकेटिंग', 'रिडक्शन', 'आवाज़ें', 'व्लाद', 'प्राथमिक', 'ठेंगा', 'एक्सेल', 'चटकाते', 'कुबुद्दीन', 'ताजा', 'पड़नी', 'नीचाई', 'वौसौ', 'आलोचकों', 'ज़लज़ले', 'सूरत', 'जीवति', 'प्रहारक', 'श्रीसद्गुरु', 'संचालनों', 'भाल', 'तुगलक', 'उठापटक', 'हस्तांतरणीय', 'उत्साहवर्द्धन', 'संगोष्ट्री', 'शासनाधिकारियों', 'महाधिपतियों', 'फातिमा', 'फोड़े', 'कंटिन्यू', 'कामानाएं', 'चुटीले', 'संख्याएं', 'करंज', 'बरसाता', 'परिकल्पित', 'हरपाल', 'माऊंट', 'ग्रोवर', 'बायोलॉजिस्', 'हालिशहर', 'एंजेलो', 'जनेऊधारी', 'बीचबचाव', 'पोकर', 'अपवर्तित', 'आस्तीन', 'प्रतिष्ठावाले', 'ब्युनावेंचुरा', 'डेक्कन', 'सेरिव', 'पर्दा', 'एमिल', 'शैली', 'ईस्टवेल', 'छल्ला', 'लक्ष्यों', 'हॉफ', 'जरूरीः', 'रह्या', 'महकने', 'देवी', 'नील्सन', 'भीरा', 'चबूतरे', 'भूषण', 'रुकते', 'आमदनी', 'टॉकशो', 'जूनागढ़', 'पढ़ाता', 'ओढ़कर', 'ब्रोक', 'तलाशा', 'परिवारवाले', 'ट्रिब्यूनल', 'ब्रोक', 'यल्लाप्पा', 'तस्वारों', 'तुगलकी', 'पिक', 'सर्किलेशन', 'ज्वार', 'कनिंघम', 'कुश', 'प्रॉपरफेसबुक', 'अशरफी', 'चढ़ें', 'वांगचुक', 'हनीवेल', 'रेडियमधर्मी', 'लड़ेगे', 'सचन', 'अर्थशास्त्रीयों', 'कैंटन', 'आत्ममुग्ध', 'पॉन्टिएक', 'लोपेज़', 'घोंटना', 'अम्बानी', 'मर्यादाओं', 'रतलाम', 'हरक्यूलिस', 'अकोला', 'सक्शन', 'नोटबंदीशुदा', 'लगवाती', 'अलाइव', 'जीवंत', 'फोड़ा', 'फटही', 'नूबिया', 'लालमणी', 'फ़ैसला', 'कृत्या', 'धुआं', 'आहूजा', 'प्रतिपालपुर', 'नमकीन', 'मंजिलें', 'लफ्फाजी', 'जुराब', 'फुलाए', 'केस्टालॉय', 'ब्लैक', 'सूरज', 'ब्रॉन्च', 'अवर्णता', 'जोहरी', 'तेवरी', 'सेंडर्स', 'वेल्डर', 'एनईयू', 'भरष्टाचारियों', 'लालमणी', 'खातेदार', 'आजमाना', 'आवृत्तियों', 'कुल्लवी', 'बहावलपुर', 'प्राथमिकता', 'मोबाइल', 'कटिहार', 'स्वेच्छा', 'हामिदन', 'समदर्शिनी', 'दृढ़', 'गोंद', 'विशेश', 'काबिलेगौर', 'लौरेंस', 'हिशाम', 'चौसिंगा', 'पफिन', 'मेट', 'बिल्डकॉन', 'टीकों', 'अथक', 'जिदंगी', 'चायल', 'माप', 'लास्ट', 'गजरा', 'रात्रिचर', 'काथला', 'सहूलियत', 'पटनायक', 'न्यायालयीन', 'मुख्यमंत्रियाें', 'जीतनेवालों', 'स्वफ़ोटो', 'क्लिफ्टन', 'डोडा', 'पेंडुलम', 'चिपकने', 'नलकसा', 'छह', 'गोंड', 'समीक्षाकर्ता', 'मंत्रीपद', 'लिब्रेशन', 'असमान्य', 'चुंगियों', 'एरिका', 'बेलोट', 'थींं', 'फार्मिक', 'युद्धक', 'वेगास', 'लास्ट', 'चित्रांशी', 'अवर्णता', 'वेस्टिंग', 'वितर्क', 'मुकबाले', 'धर्मपूर्वी', 'अंबानी', 'इबीजा', 'महामीडिया', 'सुज़लोन', 'वर्णित', 'झुठलाने', 'मदुरई', 'कौण्डल', 'लापत्ता', 'क्षीण', 'तेवरी', 'रायचूर', 'लिंडन', 'पुलमा', 'ऑलराउंडर', 'ग़रीबों', 'कालाहान', 'वाबाग', 'कैपधारी', 'आटा', 'बरेली', 'जिंग', 'जीवन', 'रेड्डी', 'पहनी', 'तनु', 'दीपिका', 'लोहाती', 'कक्कड़', 'मौलवियों', 'डूंगरपुर', 'झालाना', 'लक्मे', 'प्रोस्पैक्ट्स', 'वेस्टिंगहाउस', 'बावरा', 'ठक्कर', 'इच्छाचारी', 'त्रिया', 'धावकों', 'दामले', 'श्रवणाबेलागोला', 'नीलकमल', 'कर्माचारी', 'पूर्वाेत्तर', 'लहराई', 'हैतो', 'प्रकाण्ड़', 'खेलमंत्री', 'भविष्य', 'एगमोर', 'शृंगार', 'सौंपेंगी', 'नॉक्सविल', 'बेंडर', 'सुंदरम', 'प्रदेश', 'संवेदीकरण', 'लगुना', 'भीष्म', 'येम्मिगनुर', 'हुहतमाकी', 'वडाली', 'गेल', 'रेस', 'सालाज़र', 'डिप्थीरिया', 'दृढ़', 'शदधि', 'प्रबोधिनी', 'लोकप्रतिनिधियों', 'जताती', 'मंगला', 'बर्विन', 'मम', 'उदयगढ़ी', 'अकापुल्को', 'वैधृति', 'चरणबद्घ', 'मनदड़ी', 'यूक्लिड', 'पारंपरिकता', 'हांफते', 'साथिया', 'संघीयता', 'मुख्यअतिथियों', 'व्यवस्थाविरोधी', 'रक्तदाताओं', 'बरामदे', 'तरुतल', 'कुत्ता', 'झाड़ा', 'किशुन', 'स्कैफ़लर', 'अमरोही', 'रैडिकल', 'जेनर', 'वर्षिय', 'हसीनों', 'शावकों', 'रूपा', 'स्वार्थपरक', 'वेरोनिका', 'वेब', 'महापात्रा', 'छींके', 'अग्र', 'जियांगकोऊ', 'वेस्टवर्क', 'जनगणना', 'पास्को', 'जाधव', 'एंटरप्राइज', 'संशयों', 'वर्णव्यवस्थावादियों', 'उपस्थियों', 'मुडिचु', 'पर्नस्टारों', 'ईए', 'बैला', 'लिवाल', 'हिल्सबोरो', 'राष्ट्रियाध्यक्ष', 'पीडब्ल्यूटी', 'थाउजेंड', 'शाकिर', 'सलाहकार', 'विश्वकर्मा', 'रिज', 'स्वास्थ्यहीनता', 'रिश्वतखोर', 'प्राविंसेस', 'दफ्तरवाले', 'फिजिशियन', 'लोग', 'जोधिका', 'सेवाला', 'डूबत', 'सिपाह', 'भरमा', 'प्रतिज्ञा', 'मेघवाल', 'नंदोई', 'ऑरोरा', 'फार्मूले', 'दुर्घटना', 'स्वतंत्रसिंह', 'मोंटेरे', 'बाल्टी', 'कोलंबिया', 'व्हिटियर', 'दुक्के', 'क्यूबेक', 'चमकना', 'शीलभंग', 'बिस्तागोंड', 'फाइंडले', 'बापा', 'देहरा', 'ऐसे', 'श्रंखला', 'हस्ताक्षरों', 'तिरुपति', 'मंगलमूर्तिः', 'कुर्सियों', 'मिठाइयाँ', 'पहनो', 'हैलबिड', 'बंगश', 'ऑफिशियली', 'सेंवई', 'गुर्जर', 'समन्वयक', 'पार्नेल', 'सूनसान', 'क्यूसैक्स', 'मध्य', 'युद्धरत', 'अर्बनडेल', 'ब्रिग्स', 'एरर', 'चिखली', 'वाण', 'अधिकारियां', 'रोनोक', 'हाओकिप', 'पूर्वापेक्षाओं', 'मशीनवत', 'कदमो', 'कुरमी', 'विद्याथयों', 'सिमटता', 'संगरूर', 'स्ट्रोंगस्विल', 'अगवाई', 'जनगन', 'नागराज', 'यारियां', 'भाग्येष्वर', 'जीवति', 'सूदखोरों', 'रुकवाकर', 'ब्रह्मवर्ता', 'ग्रे', 'भ्रांति', 'पुरूषोत्तमपुर', 'तेजी', 'स्वातं', 'मंत्रिमंडलीय', 'एशले', 'मेथिव्स', 'मूलों', 'एक्ज़ो', 'हमीरपुर', 'पोखरियाल', 'बोलतीं', 'प्रतिष्ठावाले', 'दबंगता', 'धुरिया', 'टिप', 'गाज़ी', 'इजाजत', 'मेज़बानी', 'टोलेडो', 'मोहड़ा', 'पुतली', 'संचारी', 'टापनी', 'लिटिल', 'नरनारी', 'धनिये', 'गाड़ूँगा', 'फाड़ी', 'गम्मत', 'ट्यूबरक्यूलोसिस', 'नागार्जुन', 'राजनीचि', 'मेडिजेन्सर', 'लफ्फाजी', 'कॉमर्स', 'माथलू', 'चटगांव', 'हीलिग', 'इस्न्पेक्टोर', 'टेस्टिंग', 'नौशाद', 'फ़ल्लूजा', 'पिक', 'जीवन', 'कताल', 'डब्ल्यूईएफ', 'बेसिल', 'स्लाइडों', 'सैंदान', 'जेरेमी', 'गॉंव', 'तोड़ेंगे', 'उड़ान', 'सप्तक्रांति', 'मिरांडा', 'व्यापक', 'मैडी', 'सभासदों', 'नौवहन', 'आत्माएं', 'रोज़ा', 'दमाए', 'मिडवेस्ट', 'ट्रेलरः', 'मालबर', 'वाको', 'विमर्शों', 'खान', 'डिफरर्ड', 'सरसा', 'हेस्टर', 'उत्तर', 'कसेरा', 'कुरआने', 'दायित्वों', 'चयनितों', 'मोराल्स', 'हीरोज', 'प्रेममूलक', 'मोरन', 'ज़ाइडस', 'नेल्सन', 'अमरपाल', 'फटने', 'टिंका', 'गायिकाओ', 'पकाएं', 'भ्रष्टाचारीयों', 'चालित', 'एफल', 'मॉड', 'राजनीतिकारों', 'अर्थों', 'गालीगलौज', 'अन्योन्याश्रितता', 'उडाया', 'कटलरी', 'प्रतिबन्धः', 'नीलाभ', 'बिलाई', 'खुल्लमखुल्ला', 'स्वानसन', 'अन्वाहार्य', 'रेवाड़ी', 'सहकलाकार', 'चैंपियनशिप', 'भड़काया', 'नामधारी', 'अल्बा', 'वातानुकूलन', 'खाताधारक', 'टेक्सस', 'स्पेशल', 'हरवंश', 'दीनु', 'शनिवार', 'डीई', 'डाबी', 'नहींकरवाई', 'मारवाड़', 'पीड़ियों', 'ब्रिगटन', 'मनाए', 'लिगर', 'दिलाएगा', 'आधीन', 'परवा', 'हेम्प्सटेड', 'मामूली', 'प्रदेशिका', 'वैरीफ़िकेशन', 'फेफड़ा', 'विसंगतिया', 'कच्छे', 'घोस्ट', 'पिपली', 'लवासा', 'हेल्पर', 'डूबनेवाले', 'बख्शने', 'इन्द्रियोंके', 'बरहद', 'रिसाली', 'काक्षीवती', 'विश्वरक्त', 'लोदी', 'पीचट्री', 'घुमक्कड़ों', 'ओझा', 'इलाज़', 'अरुणाई', 'अयोध्यानाथ', 'भौतिकवादियों', 'रॊकेट', 'न्यूरोकेमिस्ट्री', 'काल्डवेल', 'आवाज़ें', 'मूल', 'मल्टिप्लेक्सों', 'त्यौहार', 'रोटेशन', 'बेलचा', 'सहकलाकार', 'जड़ित', 'नगाड़ा', 'बरपाया', 'डूंगरपुर', 'लैंड', 'उच्छृंखलता', 'फैलाइए', 'सूची', 'नून', 'आरपी', 'सील्ड', 'पालनपुर', 'इलेक्ट्रोस्टील', 'ऑब्स्क्योरा', 'सिगरेटों', 'दिखाईं', 'रसल', 'नजरंदाज', 'कुआलालंपूर', 'ऑस्टिन', 'रैडक्रास', 'टीसीएनएस', 'स्वायत्तशासन', 'मूड', 'दौलताबाद', 'भूलता', 'प्रतिकारा', 'नाइट्रस', 'नाकाम', 'शुटिंग', 'राष्ट्रा', 'बेचकर', 'स्टोन', 'वर्धा', 'डीडब्ल्यूटी', 'देसबथुला', 'बापा', 'बाघबान', 'आदेशः', 'उड़ेलकर', 'तर्कों', 'याद्दाश्त', 'इनहेलेशन', 'सफरदगंज', 'रूपक', 'स्क्रेनटन', 'वर्णव्यवस्थावादियों', 'शिक्षाकार्मियों', 'खंडेलवाल', 'बेवरेजेस', 'पीडिया', 'नदफ', 'जेहे', 'ढहाएँगे', 'मस्तमौला', 'अगरतला', 'जमाया', 'परदेसी', 'आर्यों', 'वेलवेट', 'आपदाएं', 'आगाशे', 'अच्छी', 'उदघोष', 'स्वभावतः', 'बानी', 'राइकर', 'पीडीलाइट', 'ड्युअल', 'भीरा', 'सिल्वा', 'अधिकरन', 'रंजकता', 'श्रीचक्र', 'गौमूत्र', 'निचला', 'बुरहानपुर', 'सहूलियत', 'लब्ध', 'पूल', 'स्ट्रेशन', 'पीकिंग', 'ऑडिटर', 'डेनिअर', 'अजित', 'लैंगडन', 'अवशिष्ट', 'झ', 'प्रशासनिक', 'बोसीयर', 'बढ़ाचढ़ाकर', 'गिरिडीह', 'भुज', 'रीडिंग', 'फव्वारे', 'अद्वैत', 'रुकते', 'अनोंदिता', 'फोंटाना', 'न्यूट्रियो', 'पायलटों', 'जड़ें', 'बोरीवली', 'इलाइची', 'एलियंस', 'धम्मा', 'नाहरगढ', 'एनएसआईयू', 'सपाट', 'लैंगडन', 'पनामा', 'पुतले', 'आसापास', 'अल्वधि', 'मुफलिसी', 'संसथान', 'दर्शनार्थी', 'लोकोत्सव', 'ग्राहकोंने', 'उच्चअधिकारीयो', 'बहाव', 'रेजा', 'मदरसन', 'काॅप्लेक्स', 'आबूरोड', 'हैडलबेर्गसिएट', 'चिमटी', 'सर्फेकटेंट्स', 'मिटाओ', 'कायलाना', 'टंकार', 'ओढ़कर', 'मेड़ता', 'मेगवाल', 'रसायनिक', 'सूचनाः', 'सुगमता', 'जोकि', 'मुनाफ', 'निस्वार्थ', 'क्षेत्रद्वारा', 'महावर', 'बुलढाना', 'धमकाता', 'भूस्वामी', 'विज्ञान', 'क्यूट', 'बेवकूफाना', 'जाजमऊ', 'बेल्ट्रान', 'विलास', 'मखदुमपुर', 'कोलोराडो', 'ब्लैकबर्न', 'सुनीति', 'घिग्घी', 'फ्लेवनाइड्स', 'चहुंमुखी', 'सुपाच्य', 'सिरती', 'विष्णु', 'चौदहवां', 'चौधरी', 'आबरू', 'बलुरक', 'दावणगेरे', 'अनुरीत', 'शिपिंग', 'पटियाला', 'जानम', 'फाइनेंसियल', 'दमाए', 'पालिसी', 'आइसीसी', 'कुच्छ', 'चीखना', 'रिलायंस', 'उर्वरकों', 'रवैल', 'लड़कियो', 'मुकेश्वरी', 'वनक्षेत्र', 'उम्मीदे', 'कहावह', 'कांतिपूर्ण', 'बड़ाएँ', 'एनसीआरडब्ल्यूसी', 'प्रतिबद्धाता', 'फ़ॉलो', 'सेवामुक्त', 'इवान्स्टन', 'चरस', 'हील्स', 'रॉबर्टसन', 'भदौरिया', 'ग्लैक्सोस्मिथक्लीन', 'प्रॉडक्टों', 'गेवारा', 'विज्ञानों', 'जार्विस', 'लफ्ज', 'फॉन्ट', 'पराधीन', 'शक़', 'गंझू', 'डिट', 'दंपतियों', 'माड़ीखेड़ा', 'प्रतिष्ठानोंं', 'सूंड़', 'गिनते', 'अलगअलग', 'स्वास्तिकाकार', 'प्रतिकारा', 'आस्तिक', 'निवेशकर्ता', 'सवाल', 'संस्कृतियां', 'रौबदार', 'रघुराम', 'इंटरव्यु', 'छरहरी', 'सॉयर', 'भासपा', 'ज्वारों', 'संस्थिता', 'पार्षदों', 'पुलत्स्कर', 'उठाएँगे', 'लाएंगी', 'ओईएफ', 'वलसाड', 'मूलों', 'पुतलियां', 'शमिल', 'रिग्स', 'कैमेरिलो', 'सफ़लता', 'विनष्ट', 'कपिंग', 'जयललिता', 'आइटम्स', 'सॉकर', 'एस्फाल्ट', 'मेहरोत्रा', 'चुने', 'जरख', 'मेज़बानी', 'मुफलिसी', 'लूना', 'वर्णव्यवस्थावादियों', 'लिपाई', 'उठनी', 'बजाज', 'हिसारः', 'दंपतियों', 'वॉटसन', 'अगस्टाइन', 'पटाक्षेप', 'धंधेखोरी', 'उभरेगा', 'एंटोन', 'अपारदर्शी', 'निहलानी', 'टिवोली', 'होगिस', 'विंटर', 'बदलवाकर', 'घुमाई', 'पेटालुमा', 'बीएमडब्ल्यूएम', 'बख्शते', 'संवेदीकरण', 'तेलों', 'घुमक्कड़ों', 'हांफते', 'फरहीन', 'जेम्स', 'कीरतपुर', 'रेडिंग', 'शक़', 'सरप्राइज़', 'किसानों', 'चलेंगे', 'योडेर', 'स्टीन', 'पैथेलॉजिस्ट', 'लेबलिंग', 'इक्थियोसिस', 'लिबरेशन', 'फूडॉन', 'नन्हें', 'भदौरिया', 'जटिला', 'पहुंचनी', 'राष्ट्रोंं', 'ब्लॉसम', 'टंडन', 'गड़बड़बड़ी', 'संस्थिता', 'यात्राएं', 'आदान', 'जावते', 'नियुत्तियों', 'भीष्म', 'हंडिया', 'मुर्गीपालन', 'मालेकर', 'लवलैंड', 'मावे', 'विक्रम', 'हांफते', 'बैरकपुर', 'ग़ाज़ियाबाद', 'तर्कों', 'एसपीएफ', 'आर्टेमिस', 'ऐप्प', 'जयबाण', 'गैरइरादतन', 'विवेकाधीन', 'सबजूनियर', 'फालिया', 'प्रेक्षकगणों', 'पुरवासियों', 'विपन्नता', 'मांगा', 'ऑर्डनेंस', 'प्रधान', 'अभियुक्तोंके', 'विराटखंड', 'हिजबुल', 'विद्याओं', 'मंजू', 'छविंद्र', 'छुपकर', 'डोरंडा', 'सायं', 'मिठाइयाँ', 'जीवविज्ञानियों', 'पश्तून', 'ब्रह्राचारिणी', 'यरूशलेम', 'एल्टामोंटे', 'सिहुंता', 'हेमवती', 'कोषाधिकारी', 'आशंका', 'बीन', 'वैज्ञानिकता', 'झीलों', 'रोबर्तो', 'श्रीरामपुर', 'मंचीय', 'वसूलता', 'मोरीसन', 'महाग्रंथ', 'ट्रांजिस्टर', 'सर्वजातीय', 'पाटोत्सव', 'हाॅकी', 'मेडिथ्सन', 'उड़ाना', 'सरायमोहिउद्दीनपुर', 'पीटर्सबर्ग', 'रंजकता', 'दीया', 'माेहिंदर', 'मस्टेक', 'निर्बाध', 'एहसास', 'आवृत्तियों', 'एशियवन', 'थकी', 'टरबाइन', 'दिमाक', 'जोधपुर', 'दरदरा', 'ख़ासतौर', 'मकरानी', 'हाई', 'फटही', 'मारिया', 'गॉंव', 'पेंडुलम', 'आविष्कार', 'नतीजेः', 'जेफरसनविल', 'ब्रह्मसिद्धि', 'तुलसीदास', 'रीता', 'चर्चामंच', 'प्रतिकारा', 'तर्कवाद', 'दबंगों', 'हिचकिचा', 'शीर्षकों', 'डम', 'द्विअर्थी', 'जवाबः', 'बहुमान', 'जांचकर्ता', 'वन्देमातरम्', 'शुड', 'अगस्ता', 'एनईयू', 'दस्तखतशुदा', 'सूरीनाम', 'किंगखान', 'तरस', 'रिकनेक्टिंग', 'फाइब्रिक', 'क्लेयर', 'छीजत', 'मोमिनटोला', 'विरोध', 'अरेना', 'यूनियनवादी', 'बम्लेश्वरी', 'बोका', 'इम्मैच्योरिटी', 'संसथान', 'जीन', 'ददरेवा', 'कीड़े', 'करावणौ', 'पुतिन', 'टंकार', 'खटकती', 'जड़', 'पुष्प', 'जीएम', 'युसूगी', 'कोरोला', 'प्यादे', 'करवायेगी', 'बलात्कारियों', 'जताती', 'गुरदासपुर', 'श्रेष्ठस्वरूप', 'शुभप्रभा', 'यूरोप्लास्ट', 'राष्ट्रभक्तों', 'कैंटरबरी', 'कम्युनिकेटर्स', 'महामंच', 'कॉन्वे', 'डीडब्ल्यूएफ', 'रीव्स', 'डभोई', 'भूतल', 'इंसानो', 'एमिल', 'विज्ञानम', 'सपाटे', 'अटवाल', 'हिंडन', 'ऑफिसरी', 'मोंटक्लेयर', 'पुर्नस्वीकृत', 'रिचर्डसन', 'संदर्भ', 'फार्गो', 'अलीम', 'सप्तक्रांति', 'एचआर', 'इमानदारी', 'कॉन्ट्रेक्टिंग', 'गंगाजल', 'गौर', 'अधिकरियों', 'बंधान', 'सेंधा', 'डब्ल्यूपीडी', 'ग्रविटा', 'लिंगकन', 'प्रवृत्तिविज्ञानों', 'सीमेंटेशन', 'बगड़', 'जेन्ट्री', 'डैटसन', 'मोंटेबेल्लो', 'रिन्यूएबल्स', 'नक्सलवाद', 'ऐतराज़', 'इतिभगवती', 'निवेशकर्ता', 'पटकथाएं', 'काबिलेतारीफ', 'भादस', 'भोगते', 'होल्डिंग', 'धत्ता', 'धोरों', 'उपाख्यानों', 'फयेत्तेविल्ले', 'स्टॉकटन', 'ब्रजेश', 'प्रतिज्ञा', 'बढ़ाती', 'थेन', 'थॉमस', 'ध्येयवादी', 'ट्यूजडे', 'डब्ल्यूजीपीएल', 'ओवम', 'गति', 'न्यूक्लियस', 'क़रार', 'पुरूषोत्तमाचार्य', 'मनचंदा', 'लहसुन', 'नक़ाब', 'सूजा', 'मैकेंज़ी', 'पुर्जों', 'बहुंत', 'ब्रावो', 'अमानत', 'झुठला', 'बुश', 'चौखटे', 'अपर', 'एस्थेटिक', 'क्षेत्रद्वारा', 'सज्जा', 'ढहाने', 'नारियलयुक्त', 'जूलूस', 'कुर्सियॉ', 'सिंघाड़े', 'एमी', 'अंतर्मुख', 'ठक्कर', 'बड़बोलेपन', 'नक्सलियों', 'मैनर', 'हिमाली', 'नक्सलवाद', 'हॉफ', 'महाधर्माध्यक्ष', 'परमौजूद', 'टिप्पणीकार', 'पेरेल्स', 'भपाई', 'बीताने', 'वाल्व', 'द्विरुक्त', 'एड्डी', 'जीवनियां', 'पंघाल', 'खंडा', 'उर्वरकों', 'बेसिन', 'गिरिवासियों', 'पराधीन', 'पुख़्ता', 'अछनेरा', 'कार्सन', 'डेल्टा', 'त्रिपुरा', 'अलयमनी', 'खेड़ा', 'नाहरगढ', 'शालीमार', 'इम्मैच्योरिटी', 'एलएंडटी', 'प्रॉपरफेसबुक', 'उड़ानों', 'महाजन', 'मोसेस', 'बतायाकि', 'अली', 'इलेक्ट्रोमीटर', 'आमोद', 'रूकेंगे', 'मारिया', 'रागों', 'आइपीएफ', 'फलितार्थ', 'सुपाच्य', 'अवशिष्ट', 'ईष्ट', 'रेट', 'आटा', 'महलों', 'वरिष्ठों', 'जलपोत', 'कैटरीना', 'जिस्मफरोशी', 'सैलरी', 'रज़ा', 'रैकेटियर', 'बेसिल', 'बढ़ाता', 'चरणबद्घ', 'भड़काया', 'साहित्योत्सव', 'नरसीपुरा', 'समझूंगा', 'चंद्रपुर', 'सरका', 'ढाह', 'प्रौढ', 'अहितकारी', 'डरावनी', 'बेलिंडा', 'अलयमनी', 'डैटसन', 'अते', 'फास्नर्स', 'बंगरावाला', 'सायरा', 'अट्टहास', 'निर्दल', 'महबूबनगर', 'डराते', 'वल्कन', 'ख़ासतौर', 'बरसाई', 'आनंददायक', 'बांबी', 'तो', 'असमान्य', 'विपन्नता', 'स्पस्ट', 'अमझेरा', 'बेचकर', 'घटबढ़', 'कौशलता', 'मशीन', 'वायरलेस', 'फैंन', 'गानो', 'खंभात', 'क्यूआईपीएस', 'डबलिन', 'एमटीए', 'समृद्धियों', 'राधाकृष्णदास', 'कांस्टिंग', 'इड्डुक्कि', 'इंडस्ट्रियल', 'भारतवंशी', 'मांगी', 'रॉबिंस', 'व्लादिमीर', 'पेहोवा', 'बाग', 'उम्मीदवारी', 'साफगोई', 'कूत्ता', 'एडेन', 'ग्रेनाइट', 'उस्तरा', 'ढूंढता', 'संघीयता', 'कुमारी', 'डिप्थीरिया', 'अड़चने', 'कोरियाः', 'प्रपात', 'छुड़वाया', 'सूइयां', 'वेरोनिका', 'स्कैफलर', 'ज़यादा', 'पॉटर', 'मीडिया', 'यरूशलेम', 'पिछड़े', 'लेटसेंग', 'अर्थव्यवस्थताओं', 'काकू', 'निर्देशिका', 'सेटो', 'नवाते', 'संवेदन्शीलता', 'रोडरेज', 'छहों', 'लफ्ज', 'वंशवाद', 'रोहतक', 'अटकता', 'बावरा', 'कृबरभ', 'प्रकाशकः', 'स्टायरोल्यूशन', 'अपारदर्शी', 'बेंगलुरु', 'अंधापन', 'मैनन', 'क्याः', 'फार्मूले', 'हमलावर', 'अमावस्या', 'पूर्वापेक्षाओं', 'डैशवाला', 'ओकलाहोमा', 'डारमैट', 'सहकलाकार', 'फातमा', 'खलती', 'दायित्व', 'क्यूसैक्स', 'टोलकर्मी', 'वर्शन', 'परिसंवाद', 'इम्युन', 'बचती', 'यूटिलिटीज', 'मलमास', 'कैडमियम', 'एन्टीओक', 'खातेदार', 'मोहिनी', 'विश्वसनीयता', 'रहमान', 'कंबलों', 'आर्यिका', 'मैरेज', 'छींक', 'फलता', 'बागोरा', 'पकौड़े', 'लूसी', 'फतेहगढ़', 'ग्रहणकाल', 'जॉब्स', 'सदानंद', 'दत्त', 'मुर्गीपालन', 'लुढ़कते', 'पल्मोनरी', 'डब्ल्यूआईएन', 'उभारा', 'बेक', 'पडरौना', 'बांधते', 'कपूर', 'सेवाला', 'वर्शन', 'चिढ़ते', 'थाणे', 'निकलेगी', 'मोगली', 'ड्रेजर', 'नागारिक', 'गाजीपुर', 'वादक', 'मिचेल', 'ज्ञातव्य', 'स्तनधारी', 'धोराजी', 'अब्दुन्नासिर', 'विश्ववंद्या', 'सत्यार्थप्रकाश', 'शिवमोगा', 'घुमक्कड़ी', 'गाएं', 'ची', 'थिएटरों', 'अनाधिकारिक', 'शासक', 'हाइंस', 'बेतिया', 'धटना', 'रहमत', 'मोतिहारी', 'पियरसन', 'उज़्बेक', 'व्हीलिंग', 'पाइथागोरस', 'विप्रो', 'काबिलेतारीफ', 'जमाती', 'पुलम', 'दौबारा', 'पोर्टिलो', 'अधीक', 'धुम्रपान', 'दांपत्य', 'जामुड़िया', 'पेडू', 'पिपरा', 'ब्लेयर', 'कम्यूनिकेशन्स', 'अलायंस', 'अरदास', 'गुदना', 'जस्ट', 'आवाज़ों', 'बेंवर', 'अमारिलो', 'ब्रह्माण्ड़', 'दिखार्इ', 'तंत्रों', 'आसान', 'तुगलकाबाद', 'सट्टन', 'कंदरौर', 'खन्ना', 'निकालनी', 'डिबनू', 'इम्मैच्योरिटी', 'तोलासन', 'जानाकरी', 'लिवाल', 'एंजेलिन', 'ऋषिता', 'फ्लिंट', 'वृश्चिकःसप्ताह', 'आसमती', 'गिरकर', 'वैज्ञानिक', 'बिशड़ी', 'फूलती', 'पुनःस्थापना', 'बाध', 'गंध', 'चक्षु', 'मिकटॉम', 'लीडरों', 'ज़बर्दस्त', 'स्तुति', 'औरतो', 'हेब्लिकर', 'रट्टेबाजी', 'फ्रांसिस्का', 'बंबा', 'प्रतियुक्ति', 'डराती', 'प्राणों', 'मेडिसन', 'निभाएगी', 'मयर्स', 'कश्यप', 'ब्रिगेडियर', 'अम्बिकाओं', 'होगाः', 'इशाक', 'सुमि', 'देशभक्तिमय', 'धर्मपत्रियां', 'कृष्णानगर', 'ईए', 'आयुधनिर्माणी', 'ताजा', 'अजस्र', 'फिजूलखर्ची', 'मंत्रयों', 'तांता', 'डीलरशिप', 'चैपल', 'ध्वनिमिकों', 'एजुकेशन', 'जरख', 'नीट', 'जिलावासियों', 'संप्रभुता', 'कसेगा', 'पकानेवाला', 'दीपन', 'कलसाना', 'मुगालता', 'टोकने', 'फलीभूत', 'ग्योंठ', 'दिखार्इ', 'शामजीभाई', 'पहनाकर', 'किसानी', 'उधारदाताओं', 'रामटेक', 'व्याख्यात्मकता', 'साेमवार', 'विस्टा', 'पॉलिमर', 'रक्ताभ', 'भुगता', 'भ्रष्टाचारीयों', 'खटकती', 'मुख्यमन्त्रियों', 'मैड', 'कक्षांग', 'जैन', 'महीन', 'सुर्वणा', 'बांगरोटिया', 'रसायनिक', 'औरोरा', 'चमचागिरी', 'एनसीआरडब्ल्यूसी', 'ऐंठे', 'एस्सेल', 'देशसेवा', 'इलेक्ट्रोटेक्स', 'वर्कचार्ज', 'कार्वाई', 'झांकता', 'अर्जेंट', 'सप्रमाण', 'मौर्यों', 'जिनी', 'जगदीशचंद्र', 'असुरक्षित', 'काव्योक्तियां', 'अलंकार', 'स्वादप्रेमियों', 'जातक', 'रोलर्स', 'अशक्तता', 'काठियावड़ी', 'आवृत्ति', 'विद्याएं', 'विधिवत', 'राधे', 'मुख्यमंत्रीसंवाददाता', 'प्राणसंगली', 'कनलोग', 'पुदुकोट्टई', 'निकी', 'फूहड़ता', 'पटाक्षेप', 'रीट्वीट', 'मनोवैज्ञानियों', 'स्तनधारी', 'मुखोपाध्याय', 'निर्बाध', 'तोडऩे', 'आवृत्ति', 'परीक्षणकर्ताओं', 'एक्सटेक्टर', 'नाशिक', 'रसायनों', 'वैत्रवती', 'ऑग्रेनाइज', 'चौसिंगा', 'फलोदी', 'स्खलन', 'पनामा', 'निगर', 'मोंटे', 'सुनीति', 'शराबों', 'अम्बिकाओं', 'गुजारा', 'फोटोफ्रेम', 'प्रहलाद', 'बीसवां', 'द्विवेदी', 'देनेवाली', 'बर्ल्सन', 'भारद्वाज', 'जताती', 'मालेगांव', 'रहुगाँ', 'महामंत्र', 'बीस्ट', 'दिव्यता', 'संजीवन', 'कुपोषित', 'एक्सक्लेशन', 'चढ़ेगा', 'टेक्सरकाना', 'डूंगरपुर', 'सराही', 'लालपरी', 'एरोनॉटिक्स', 'वर्थ', 'आस्तीन', 'स्वप्निका', 'उपकार्यालयों', 'मिमिक्री', 'बल्लभ', 'वैरीफ़िकेशन', 'हैकेंसैक', 'आकाश', 'बोना', 'क्लाक', 'द़फन', 'पेगव', 'कहलाया', 'माड़ीखेड़ा', 'तेलीबाग', 'धारक', 'निकालनी', 'कंघे', 'प्रश्नोत्तरी', 'काकीनाड़ा', 'भाग्योदय', 'सिंगार', 'मचाए', 'लेखकगणों', 'उछालने', 'धर्मराजने', 'ऐंजल', 'बंटता', 'फाॅर्म', 'रवैल', 'हनुमानगढ़', 'वीरांगनाओं', 'गायत्री', 'वेंकटरमन', 'डिबनू', 'पुरूषोत्तमाचार्य', 'संयोजकों', 'झाउगंज', 'सरकारें', 'न्यूटेस्ट', 'श्रीकर', 'मिटाओ', 'दियोटसिद्ध', 'भूपसिंह', 'चर्चाएँ', 'प्रसारकों', 'निष्पाप', 'फ्लिन', 'रणनीतिबना', 'ईआरजी', 'धागा', 'गौमुख', 'जूड', 'खनिकर्म', 'शरभ', 'अरेलानो', 'उखड़कर', 'लेनेवाली', 'कुमार', 'सिंघाड़े', 'टोंसिल', 'दविन्दरपाल', 'सिंगार', 'खिसकते', 'एनिड', 'मेगापिक्सल', 'दिग्विजय', 'फजलों', 'दोगे', 'लेबलों', 'मुनाफा', 'बड़ने', 'वैरी', 'सातसेरा', 'ओर्टेगा', 'रोवे', 'भाटिया', 'राजस्थानवासियों', 'बागबगीचों', 'विल्किंसन', 'डराती', 'अटके', 'प्रमुखतापूर्वक', 'यत्न', 'नितिन', 'सिटी', 'रेडिको', 'दुकानों', 'जलसंसाधन', 'मत्स्येंद्रनाथ', 'बिहार', 'बर्षीय', 'अवरु', 'दाव', 'नक़ाब', 'सारेगामा', 'हुगली', 'सत्ती', 'नेग', 'महाबलेश्वर', 'प्लेसेंटिया', 'वर्साचे', 'कुमाऊ', 'एमी', 'थियेटर्स', 'एरिका', 'खिंचकर', 'रौबदार', 'ऑल्टो', 'काव्यविधाओं', 'कून', 'अक्रोन', 'तहखाना', 'समाजजनों', 'मचाए', 'सूर्यदेव', 'प्राथमिक', 'प्रवृत्रियों', 'ताजा', 'जीवनशैली', 'रक्तदाताओं', 'बालेश्वर', 'भौतिकवादियों', 'लगातीं', 'झाइयां', 'वंशवाद', 'नवानगर', 'नजरंदाज', 'अंशांकन', 'फुंकने', 'मतपत्रों', 'मॉड्यूल', 'फार्म्स', 'पहुंचोगी', 'मैडी', 'थीफ', 'फाउडलर', 'अमित', 'पूर्वाभाद्रपद', 'लंगड़ा', 'गोंपो', 'वेस्ले', 'शाओ', 'हामिदन', 'वीक्स', 'मिनरल', 'सेंटेंनियल', 'बस्तियो', 'बागबगीचों', 'प्रनीत', 'भेदभावों', 'कराहना', 'ग्रीनविल', 'सहरावत', 'रालोद', 'जातकों', 'रिश्ते', 'बेंटनविल', 'नजीबाबाद', 'फाइनेंसर्स', 'फटही', 'केरला', 'लड़ाईयों', 'हरिजन', 'वाईटेकर', 'विदिशा', 'पॉल', 'आर्यों', 'खिलाना', 'छूटने', 'दुखियों', 'पूर्णेश्वरी', 'विसबल', 'दरम्यानी', 'यारी', 'विधमान', 'यात्राएं', 'सनटेक', 'गुजारता', 'नियंता', 'डम', 'अवस्थी', 'पल्स', 'भें', 'स्टॉप्स', 'धकेलते', 'केपीओ', 'दमघोंटू', 'इंसानो', 'मैरेज', 'एस्फाल्ट', 'लॉन्ड्री', 'रत्नाभूषण', 'स्की', 'दुश्वारियों', 'अनुप्रयोगों', 'देशसेवा', 'लेलऽ', 'जगारागल्लू', 'मेजबानी', 'डेहरी', 'चक्कर', 'क्रोफोर्ड', 'गुदुरी', 'डीवीसी', 'प्रक्रियागत', 'नग', 'मत्स्यावतार', 'स्कूटरों', 'अर्धविश्वास', 'दरम्यानी', 'सुर्वणा', 'स्थितियां', 'धर्मानंद', 'सॉफ़्नर', 'स्क्वैश', 'विधानसभाएं', 'रैंडोल्फ', 'मेज़बान', 'स्प्रिट', 'शीलभंग', 'कलमें', 'स्वर्णिका', 'मंडी', 'अर्थव्यवस्थताओं', 'कुंडलियाँ', 'नीमकाथाना', 'फाॅर्म', 'हत्यारोपित', 'पुट्टा', 'फारेंसिस', 'पुरूषोत्तमाचार्य', 'बॉंन्ड्स', 'शिकायतकर्ता', 'क्रान्फ्रेंसिंग', 'उबाल', 'बाबाओ', 'हलमतपुरा', 'हकीकत', 'बर्मन', 'वर्तमान', 'बांटीं', 'अचंभा', 'जीवनपर्यंत', 'वदरा', 'सडक़ें', 'एेसा', 'ज्योतिष्यशास्त्रों', 'पाइथागोरस', 'एंजेलिन', 'कपोलकल्पना', 'द्रोपदियों', 'रोजलिन', 'श्रीराम', 'गोपालक', 'बंगबंधु', 'मिस्त्रियां', 'उसेे', 'मर्काडो', 'मैसोर', 'ऑफशोर', 'कपूरथला', 'साहोवालिया', 'मलदहिया', 'हाइमन', 'इंदौरनगर', 'विशेषज्ञताओं', 'उसकी', 'कैपलिन', 'महाप्राण', 'रुपेश', 'रिनो', 'सुदीप्तों', 'स्वामी', 'अमारा', 'व्यवस्थामूलक', 'सेंसिंग', 'टाइलर', 'संगारेड्डी', 'पहनो', 'मरदानी', 'बम्लेश्वरी', 'दिवानी', 'फिनकॉर्प', 'नवा', 'शिमट', 'सोहावल', 'बनाम', 'प्रवृत्रियों', 'शियोंग', 'वर्स्टेड', 'राजों', 'चीखना', 'नैमुल', 'बढ़ोतरी', 'एंटोनी', 'छांयसा', 'निर्देशिका', 'निपटारा', 'जुडने', 'सुझाती', 'पैथेलॉजिस्ट', 'टाइड', 'शृंगार', 'ब्रान्डेस', 'परमेश्वरपुर', 'जेडटीईसाफ्ट', 'उद्धाटन', 'स्टैन', 'आदिवादियों', 'जुलाहों', 'महाराजा', 'गतिशीलता', 'शिप्रा', 'ट्रिब्युनल', 'ख़ैबर', 'वनविभाग', 'घटाटोप', 'धर्मग्रंथों', 'प्रवृत्तीयों', 'गांठ', 'मैसोर', 'सहगल', 'नमकीन', 'वैध्', 'वनस्पतियाँ', 'जियांगकोऊ', 'पाखंडी', 'प्रोटेक्ट्स', 'एल्बाइनो', 'लिंडेन', 'सोहावल', 'भुरभुरा', 'गैस्ट्रोलॉजी', 'विद्रूप', 'साजसज्जा', 'रात्रिचर', 'रोजना', 'जलभराव', 'मोंटगोमरी', 'सेव', 'भ्रष्ट्राचारियों', 'डीडब्ल्यूएन', 'स्ट्रेशन', 'गांठे', 'गहलोत', 'छतेनी', 'विश्वसनीय', 'जीवनियां', 'दस्तानें', 'धोना', 'खरुवार', 'सूरीनाम', 'मंगलसिंह', 'अन्योन्याश्रितता', 'नाइनटीज', 'पांचोलास', 'रेसों', 'वातानुकूलितों', 'चतुष्कोणीय', 'आमदी', 'दुष्टतापूर्वक', 'बेचते', 'चौका', 'मिज़ोरम', 'टोरेंस', 'अनुचित', 'अवरोधक', 'रॉस', 'अच्युत', 'ऊधामी', 'हरावल', 'गोल्ड', 'दाव', 'सृजनविज्ञानी', 'नेक्स्टजेन', 'रूकावटों', 'भावनाओं', 'देहधारी', 'परीक्षाएं', 'उतने', 'संस्कृतिओं', 'प्रॉस्पेक्स', 'नईदिल्ली', 'सायं', 'जिनीवा', 'रसद', 'बारामुला', 'वन्देमातरम्', 'सफारी', 'चम्बा', 'सवाल', 'बन्नारी', 'फ़तेहपुर', 'पहनता', 'स्प्रे', 'नॉर्मल', 'ऑलआउट', 'मनासस', 'मंत्रियोंके', 'कार्यकार्यकर्ताओं', 'फाडऩे', 'ग्रेग', 'बैतूल', 'कुषाण', 'सुब्बनी', 'इन्फिबीम', 'खटखटाकर', 'चाचाजी', 'चंद्रबली', 'बारिपदा', 'रूहेलखंड', 'ग़ैरकानूनी', 'आरेखः', 'प्रमुखकर्मियों', 'ली', 'थियेटर्स', 'असम', 'फानों', 'ज़्यादा', 'थियेटरों', 'सफाईकर्मी', 'बीएसएसएस', 'क्रान्फ्रेंसिंग', 'जीवराज', 'थिरके', 'शकसुबहे', 'पैराट्रूपर', 'डभरा', 'उसी', 'निःसंदेह', 'महानतम', 'बांठिया', 'अनम', 'कश्मीर', 'बावडी', 'भुट्टो', 'मारके', 'कार्ययोजना', 'फ्रांसिस्को', 'अदाणी', 'धुरिया', 'महाविद्या', 'मेगापिक्सल', 'क्रिप्टोकरेंसियों', 'मूठ', 'ऑथोरिटी', 'अपरिवर्तनशील', 'प्रधानमंत्रीकी', 'आगाशे', 'नवजागरण', 'अट्टरा', 'उबाला', 'अमानती', 'खम्मम', 'हारना', 'भावाभिव्यक्तियों', 'पुष्कर', 'शांतियों', 'नेरोलेक', 'चौका', 'सिद्दालिंगा', 'भरतनाट्यम्', 'जवाबः', 'दुश्वारियों', 'मंचीय', 'जीयो', 'सप्रमाण', 'सीम', 'पीएचडब्ल्यूसीएस', 'बहाव', 'टिक', 'अगवाई', 'हाइमन', 'क्यूआईडब्ल्यूआई', 'अज्ञात', 'एजेंडे', 'लिंचबर्ग', 'मांगीना', 'खटखटाएगी', 'जोधिका', 'सृजनविज्ञानी', 'डेटसन', 'बदलवा', 'उर्फ', 'छापेमार', 'लक्स', 'भोपाल', 'फलीभूत', 'पैथेलॉजिस्ट', 'पर्याप्तता', 'फूर्ति', 'मृत्युनिवारक', 'मारुति', 'उठाकर', 'एएलओ', 'पेगव', 'पीलीभीत', 'सोमी', 'संचालनों', 'कांचीपुरम', 'डराती', 'याद्दाश्त', 'साबुदाना', 'वेल्डिंग', 'वेरोनिका', 'स्टिम्बेरवाला', 'मायाजाल', 'पेस', 'अतुल', 'औटोमैटिकली', 'जांचना', 'मिथिलांचल', 'फिक्सिंगः', 'सजेती', 'प्लानो', 'विसंगतिया', 'खोमचे', 'लगना', 'मुकेश्वरी', 'तस्वारों', 'देव', 'वेश', 'ज्योथी', 'लेंडल', 'वीरांगनाओं', 'यनित', 'पूर्णिया', 'चौक', 'लड़ीं', 'चेस्ट', 'कसेगा', 'एबट', 'रेनुका', 'लूवे', 'गुलाबाग', 'लज्जालु', 'साभार', 'गैरराष्ट्रवादी', 'धावकों', 'लिम', 'विद्याएं', 'स्वयंस्वीकृत', 'इलेक्ट्रोटेक्स', 'रामराज', 'जनभावना', 'यौनिकता', 'हाथे', 'दूने', 'प्रोटेक्ट्स', 'वरेण्य', 'मज़बूरी', 'प्रवीनचंद', 'वैज्ञानिक', 'टोरेंट', 'आत्माएं', 'संप्रति', 'मत्थे', 'सविता', 'अटलांटिक', 'जलगति', 'चच्चा', 'आफरीन', 'बाजारू', 'चौकी', 'फरसे', 'ट्यूनिंग', 'नोडरानी', 'मौम', 'विधाणी', 'गुजार', 'पकडकर', 'ऑंखें', 'आपका', 'वार्नर', 'अन्वाहार्य', 'लिखेहैं', 'पाठ्यक्रम', 'शावकों', 'यरूशलेम', 'मण्डलायुक्तो', 'नैनो', 'झाइयां', 'सिम्फरपोल', 'धम्म', 'निखरेगा', 'घुमाण', 'होऊंगा', 'ढकाल', 'सागरिका', 'बर्नार्ड', 'योगबल', 'ब्रेवरीज', 'डिश', 'ऐठन', 'वर्तमान', 'त्रैमासिक', 'तस्वीरे', 'व्यवहारगत', 'मराठा', 'बनवा', 'स्वर्णिका', 'प्रसाथ', 'ओवरऑल', 'पूर्वाफाल्गुनी', 'प्रॉपरफेसबुक', 'सुवेन', 'सपाटे', 'झ', 'करघे', 'देशकाल', 'नाथवाड़ा', 'थानवी', 'ओरण', 'सेरानो', 'इअर', 'सबमिशन', 'धारक', 'तदाद', 'ग्रीनवुड', 'हाउते', 'बहुरिया', 'नियंताओं', 'चूरू', 'मिसौरी', 'अन्याय', 'जेनरेट', 'न्यूटेस्ट', 'गरुड़', 'स्वास्तिकाकार', 'शैइ', 'सिद्धांतवादियों', 'अनावश्यक', 'सीटें', 'गुलशन', 'रिया', 'फर्मिऑन', 'टायर', 'ची', 'बदलापुर', 'युद्धनौका', 'एनबीसीसी', 'श्रीगंगानगरवासियों', 'उदा', 'कैंब्रिज', 'एयरवे', 'आइडल', 'कैल्यूमेट', 'आजमाना', 'तंत्रिकाओं', 'जोन्सबोरो', 'बुद्धिजीवों', 'क्लोज़अप', 'एनएमडीसी', 'राष्ट्रपित', 'कमारहाटी', 'एस्फाल्ट', 'फ्रांसिस्को', 'भल्ला', 'मौलवियों', 'नरवर', 'लहलहाती', 'ब्यावर', 'घटाएगी', 'नामजदगी', 'तकः', 'सेवाग्राम', 'लामियां', 'जिन', 'स्वेच्छा', 'अंतडियां', 'आर्यो', 'पॉलिशिंग', 'जोखिमभरा', 'उमड़ती', 'तंत्र', 'सामोआ', 'सीएसआई', 'मांड्या', 'लॉरी', 'पहनते', 'अंकोर', 'निम्नवत्', 'रैपिंग', 'रुपेश', 'प्रतिबद्धाता', 'नाडेप', 'सैलानीपन', 'मेंराज्य', 'दाव', 'आबूरोड', 'पाठ्यक्रमों', 'निविदाताओं', 'गांधीपुरा', 'पीएचडब्ल्यूसीएस', 'नारायणगढ़', 'जयललिता', 'सुसंस्कृत', 'मसूद', 'वुनसोकेट', 'संस्कृतियां', 'उर्फ', 'थेराटीपल्ली', 'प्रतिनिर्देश', 'उल्हासपुर', 'पहनते', 'धावकों', 'भगेड़', 'प्राणसंगली', 'जलवायु', 'भिजवाई', 'सायरा', 'क्रेन्द्रों', 'मौजुद', 'सिद्घांत', 'कम्युनिकेटर्स', 'चिड़चिड़ापन', 'मुथूट', 'विवेकाधिकारों', 'मलौन', 'सिनसिनाटी', 'रेगिस्तान', 'परोसने', 'विचारकों', 'जनभावना', 'अंडमान', 'बडयाल', 'मोरपेन', 'बियर्ड', 'नोडरानी', 'दिखायेे', 'छींक', 'व्याख्यात्मकता', 'शैशव', 'आइंथू', 'अहमदाबादः', 'जायके', 'सिग्निटी', 'कुरुक्षेत्र', 'प्रवृत्तीयों', 'चर्चा', 'लक्ष्मीचन्द्र', 'हैमंड', 'निभाएगी', 'धुनाई', 'जनभावना', 'कांट', 'मेलघाट', 'मुऐ', 'श्विंग', 'दांपत्य', 'कपड़ा', 'संतति', 'मानवटरहित', 'अनुप्रयोगों', 'हार्वे', 'काजू', 'सेररितोस', 'टेक्समैको', 'संचार', 'ट्रुथ', 'लोज़ानों', 'रोपने', 'हॉलीवुड', 'छींके', 'धम्मा', 'टेक्नोप्लास्ट', 'पूजापाठ', 'चानन', 'श्रंखलाओं', 'छेड़ना', 'कार्बोजेन', 'व्यवधान', 'शुल्ट्ज', 'इस्त्राइलियों', 'स्क्वाश', 'डैनविल', 'प्राना', 'ठाकुरवादी', 'प्रयोगशास्त्र', 'व्यक्तीयों', 'मैट्रोलॉजिस्ट', 'मढ़ौरा', 'पालियों', 'डेनवर', 'एपीजे', 'बैनी', 'प्रतिस्थान', 'भ्रष्टाचारीयों', 'लकीर', 'सुधारगृह', 'संदली', 'जागृति', 'तलवार', 'जनशिक्षा', 'टापुओं', 'बुलेटिन', 'बल्लेबाज़ी', 'माड़ीखेड़ा', 'अर्थशास्त्रीयों', 'स्कैनिंग', 'मेहमान', 'रहेगी', 'जमशेदपुर', 'त्यौहारों', 'दर्शाना', 'बीचबचाव', 'सुलाती', 'वर्शन', 'सुधारती', 'वसामुक्त', 'पाटिल', 'जेवाब', 'सोटो', 'धातुएं', 'डोसे', 'भागदौड', 'पगबाधा', 'आरुषि', 'अगस्ता', 'टाइटन', 'इक्विटीज', 'एयरटेल', 'ऐल्प्स', 'नक्सली', 'अचीवमेंट', 'गलाएगा', 'फूडॉन', 'राजनीचि', 'आर्य', 'स्ट्रीमवुड', 'घोट', 'म्यूजिक', 'पुरकायस्थ', 'नोरा', 'टॉनिक', 'गुजारने', 'वाटर', 'सूनसान', 'सिरसा', 'टेंगीरला', 'हेनसन', 'वरुण', 'ड्रेजर', 'दौड़ाते', 'शराबों', 'व्यक्तीयों', 'सातसेरा', 'दर्जनों', 'अग्नियां', 'धोना', 'कार्यकर्त्रियों', 'अवस्थाएं', 'हिममानव', 'टु', 'ऐल', 'बंधुओं', 'श्रद्धावानों', 'मारियो', 'व्याघात', 'माईकल', 'अद्र्घ', 'विट्ठल', 'प्रारूप', 'ढूंढती', 'डुबाना', 'लडने', 'फार्म', 'जुवारी', 'परिवारवाले', 'पैरानॉर्मल', 'भुवनेश्वप्रसाद', 'आईरिस', 'प्रतिज्ञापूर्ण', 'लेबलों', 'श्रीकृष्णन', 'स्नीकर्स', 'कईं', 'भूस्वामी', 'कटरा', 'अन्याय', 'नोकरी', 'प्रिसिशन', 'क्रोम', 'जुए', 'बोलिंग', 'ताप्ती', 'कैथोलिकों', 'नजरंदाज', 'मूलचंद', 'स्वेच्छा', 'नन्यौला', 'घोंटना', 'अद्वैतवाद', 'अंडरवुड', 'लुभावना', 'पेट्रोसेली', 'आमदी', 'रोपने', 'डेजी', 'जबाबी', 'कप', 'फाड़े', 'उलाहना', 'उन्नतियों', 'मोलिना', 'गांडचुभोनाचूसनाछोटे', 'हां', 'प्रर्दशन', 'सरगुजा', 'बीदर', 'अमरगढ़', 'जुए', 'टोंक', 'देवापुर', 'इंटेलीजेंस', 'नीतियों', 'खनौदा', 'पोरबंदर', 'सिम', 'लग्नेश', 'गायिकाओ', 'पृष्ठभूमियों', 'मूलचंद', 'सिल्चर', 'मार्गरिटा', 'उदाकिशुनगंज', 'सिरती', 'यमला', 'प्रशिक्षु', 'सिएरा', 'आल्हा', 'पेक', 'तसखीर', 'डाका', 'नॉमिनेट', 'सपाट', 'कोयम्बटूर', 'कोरापुट', 'स्वायत्तशासन', 'विद्युतीकृत', 'किकियाना', 'अरुणाई', 'रीगल', 'डायमंड', 'मृदुभाषी', 'वाल्टर्स', 'सूत्रपाडा', 'कीति', 'ज़िलाधिकारी', 'मंगेश', 'पेंषन', 'लगनेवाले', 'जिलावासियों', 'प्लोस्की', 'एकसाथ', 'सेखर', 'डीओडब्ल्यू', 'अर्धविश्वास', 'राजस्थान', 'विकासखण्ड', 'संशयों', 'बढना', 'क्लासों', 'उखरुल', 'फुरामे', 'एबज', 'बाताया', 'जुशान्तान', 'स्ट्रॉन्ग', 'राजनीतिकारों', 'पानीपत', 'ब्लांकार्ड', 'झाबुआ', 'जकिंटो', 'बारहसिंगा', 'सूचनाः', 'इलेक्ट्रोमैजिक', 'लालमणी', 'भाऊलाल', 'कठुआ', 'पलारी', 'अमिताव', 'तदंरुस्ती', 'वाबस्ता', 'व्लाद', 'स्लैश', 'वाटरबरी', 'सेल्फी', 'लुईस', 'पंचसूत्र', 'अर्यमा', 'वादक', 'जंक्शन', 'जेनरिक', 'जिया', 'एडेन', 'सॉफ़्नर', 'क्यूडब्ल्यूवीजीए', 'ध्वनिमिकों', 'फीड्स', 'सुकडि़याल', 'अनगढ़', 'बावजी', 'छोडिये', 'सिप्ला', 'विज्ञानों', 'धस्माना', 'लोंगोवाल', 'बदाम', 'अट्रैक्ट', 'सराहा', 'नृत्यशैली', 'संवरी', 'यक्षाधिपति', 'अरबपतियों', 'मुकद्दमों', 'फोड़े', 'सिहुंता', 'जीवन', 'ढूंढता', 'क्रुसेस', 'कार्यकर्त्रियों', 'प्रतिबद्धताएं', 'डीएलडब्ल्यू', 'प्लेन', 'पायलट', 'अधिवास', 'फैंन', 'फव्वारा', 'हालचाल', 'विश्ववीर', 'क्रेस्ट', 'ब्रह्मलीन', 'विरेचन', 'याद्दाश्त', 'उज्जैन', 'सहयात्री', 'जिम्मे', 'सारावागी', 'देखियेगा', 'वजूद', 'कुंडल', 'रिया', 'स्लाइडर', 'मैनेजमेंट', 'कार्यकार्यकर्ताओं', 'क्रिस्टिस', 'रुकते', 'डिस्ट्रब्यूटर्स', 'स्पेल', 'दमपर', 'ठिकाने', 'इंटरटेक्चुअलिटी', 'सीडीयां', 'साउथ', 'आपका', 'नहींकरवाई', 'जागृति', 'चूड़े', 'थर्टी', 'नक्सल', 'जीएसएम', 'गुजरात', 'दर्शनार्थी', 'नाभा', 'धोखेबाज', 'लेगा', 'बीआईआईटीएम', 'साेमवार', 'वाणों', 'औद्योगिकरण', 'अग्रहरि', 'आफॅ', 'तीमारदारों', 'मिश्रा', 'सेरेब्रा', 'नागारिक', 'दस्तार', 'मकरः', 'जीतोड़', 'बैलिस्टिक', 'चढ़ेगा', 'मांगे', 'नीलाभ', 'मेंशराब', 'सिंघाड़े', 'हिसारः', 'रामकोट', 'बैठते', 'तसखीर', 'इशारा', 'सोलापुर', 'मेजबानी', 'फ्लोरेंस', 'परामर्शक', 'झाड़ने', 'थियेटर्स', 'आदान', 'आंबियंस', 'सुरक्षाः', 'हिकारिको', 'बांया', 'रुकवाई', 'मित्रवत', 'बोकारो', 'मौर्या', 'प्रतिनिधिकारी', 'चंद्रमाओं', 'परोसने', 'ढैया', 'स्पिरिट्स', 'लियान्ड्रो', 'शॉन', 'स्वार्थपरक', 'चूचियां', 'महामीडिया', 'पूर्वजन्मों', 'शोहदापंती', 'कुषाण', 'जमलोकी', 'एवरेस्ट', 'तस्वारों', 'अधिवास', 'प्रेमलता', 'मुर्रिएटा', 'वैमनस्य', 'केली', 'टिनप्लेट', 'वाण', 'महामंत्र', 'मेजबान', 'शुमाली', 'फुलाए', 'प्रूट', 'रुजवेल्ट', 'प्रशासनिक', 'उलझानों', 'पत्रकारवार्ता', 'दुआर', 'कठफोड़वे', 'बिपिन', 'ऑफरः', 'ईसाइयों', 'प्रोपेलेंट', 'कंसाई', 'सीखीं', 'सीडीसीएल', 'एबोट', 'कटलरी', 'आदिवादियों', 'चित्रकथा', 'अवशिष्ट', 'फ्यूचुरिस्टिक', 'तेरीः', 'नन्हें', 'एवरी', 'सूबा', 'शाखाएं', 'त्रिकालदर्शी', 'पालसाही', 'फैलाइए', 'झउवा', 'जमाती', 'जनहानि', 'पोंडिंग', 'तस्वारों', 'देशकाल', 'हिचकिचा', 'बस्तीः', 'गरीबी', 'फड़फड़ाएं', 'सीताराम', 'कमेरे', 'बैरकपुर', 'स्वयंस्वीकृत', 'कासोवो', 'मज़बूरी', 'कन्वोकेशन', 'स्किपर', 'जयपुर', 'प्रस्थानों', 'नरम', 'रेडियोप्रेमी', 'टीटागढ़', 'चिको', 'राज्यमंत्रीस्वतंत्र', 'मैनवल', 'गुजारना', 'सतलुज', 'जातियों', 'अनहोनी', 'टेलीलिंक्स', 'लैब्स', 'हरावल', 'मैरेज', 'मनिया', 'ट्रैक्टर्स', 'कंचन', 'लैरी', 'कार्यावधि', 'जलभराव', 'भाड़ा', 'बागोरा', 'पिएगा', 'स्टीफेंस', 'अभिमत', 'एक्सेल्या', 'वायरलेस', 'चौड़ा', 'परभणी', 'खातेदार', 'बढना', 'बर्च', 'उपद्रवों', 'टिकियों', 'मिल्क', 'डुबोना', 'बेकर', 'सुतली', 'बुद्धाराम', 'वेल्थ', 'पटरानी', 'अर्धविश्वास', 'पैम', 'कास्टानेडा', 'बलजीत', 'भटनागर', 'जातकों', 'इक्वाडोर', 'स्वर्गदूत', 'ऋषिकुल', 'टेट', 'कंठहार', 'बेऔलाद', 'यूरोपिया', 'गए', 'ददरेवा', 'बिखेरने', 'हमलो', 'पकड़ाए', 'उपलब्धियों', 'कोलोराडो', 'पैकर्ड', 'जागृति', 'आंध्रा', 'चौंकाते', 'बेख्वाबियां', 'नफ़ा', 'सिन्हा', 'उत्पीडऩ', 'सागा', 'आर्य', 'दिखाइये', 'अनिष्टता', 'उड़ान', 'संयुक्तावस्था', 'शमलात', 'एवव', 'अधिवक्तागण', 'रल्हन', 'झुठलाने', 'पूर्वाभास', 'बिजेन्द्रसिंह', 'चिनमणि', 'लोकसभावाली', 'लड़की', 'नरसिंहगढ़', 'संगठनमंत्रियों', 'रूपी', 'कार्यकर्ताओं', 'अगस्ता', 'मनमर्जी', 'अंतर्मुख', 'अनुमार', 'रिश्तानाता', 'द्विअर्थी', 'चुटीले', 'हैटीज़बर्ग', 'यूजी', 'राज', 'रैगुलाइजेशन', 'विंध्या', 'फिक्सिंगः', 'कमज़ोर', 'भरा', 'चौदहवां', 'फलने', 'श्रंखला', 'विपन्नता', 'प्रूफ़रीड', 'ज़माना', 'घटाएगी', 'दंगा', 'एरिका', 'भोला', 'व्याख्यात्मकता', 'योजनाः', 'वेबुनियादी', 'रुमानी', 'साहू', 'प्रधाननगर', 'सीऐटल', 'स्टैन', 'इनसानी', 'हमला', 'न्यूट्रियो', 'लदड', 'अंतडियां', 'कुशवाहा', 'कोच्चिः', 'गणपति', 'फार्मिक', 'पड़ेंगी', 'अर्थ', 'मुक़र्रर', 'निपटाकर', 'होलिडेस', 'कूच', 'उठ्ठक', 'सुलखान', 'कमेरे', 'जगाएगा', 'संत्री', 'शख्सियतें', 'पंचांग', 'झालाना', 'नित्या', 'इच्छी', 'हाबरा', 'पालियों', 'एजूस्पर्मिया', 'तावीज', 'फ़ूडवर्क्स', 'ग्राहम', 'प्रभानमंत्री', 'सेथ', 'जगताप', 'हर्षित', 'डूबना', 'रक्तदाताओं', 'मेक्सिको', 'तासीर', 'एयरकंडीशनर', 'एड्डी', 'मैकॉन', 'इसरानी', 'ऐंठ', 'श्रीमहापूर्ण', 'डॉर्क', 'जीनों', 'ग़रीबों', 'तराशकर', 'ऑब्जर्वर', 'आर्यो', 'उखड', 'साथसाथ', 'पैकेजों', 'हिंडन', 'अपरिहार्य', 'मंजिल', 'एलएक्स', 'कर्वी', 'दुभाषियों', 'रिकनेक्टिंग', 'विंड', 'क्लांइट', 'शरारत', 'वेंचुरा', 'रोलिंस', 'हैन्स', 'निकेतन', 'क्रांतियों', 'ट्विन', 'दिव्य', 'गिड़गिड़ाते', 'निगमायुक्त', 'गबली', 'नोवाटो', 'रिश्वतखोर', 'फांसी', 'गर्जना', 'निहलानी', 'पिंटा', 'ग्रीर', 'लेविसविल', 'प्रकाषित', 'क्लैरिएंट', 'क़ायल', 'द्विअर्थी', 'राखे', 'बुलंदशहर', 'स्टेफोर्ड', 'नजरियों', 'वर्ल्ड', 'जीवनियां', 'परमेश्वरपुर', 'उठनी', 'न्यूट्रियो', 'जेठा', 'बागबगीचों', 'सुचिकित्सा', 'नागमण्डल', 'प्रदाधिकारियों', 'उर्वरता', 'नील', 'क्रिप्टोकरेंसियों', 'स्वायत्तशासन', 'जर्दा', 'उपलक्ष्य', 'छुड़वाया', 'विदग्धा', 'मुख्यमंत्रीपटना', 'जैने', 'रतनपुर', 'महानतम', 'गुना', 'एमटेक', 'देनेवाली', 'नाभिकुंड', 'विशेषणों', 'लंगरों', 'पॉलिथीनों', 'संबित', 'ढूंढ', 'हां', 'टकरा', 'धंधेखोरी', 'पुलिंदे', 'एपोक्लिप्स', 'विज्ञानपीडिया', 'महोनी', 'पूंजीतंत्र', 'खरे', 'एक्सटेक्टर', 'ज़ुन्हेबोटो', 'प्रियामणि', 'सवाल', 'सूखाकर', 'आलोचक', 'फाँस', 'जयललिता', 'अमझेरा', 'बॉम्बे', 'व्यग्र', 'अपनानी', 'रिसने', 'छुरे', 'शार्लेट', 'जोस', 'रैलीः', 'मेज़बान', 'धनधान्य', 'डाबर', 'बीएसएसएस', 'नजीब', 'अवस्थाएं', 'जबलपुर', 'धर्मनिरपेक्षताके', 'फार्मर', 'एनएसीएल', 'समरविल', 'बुल', 'झुलए', 'खग्यार', 'मेहराम', 'धस्माना', 'रिपन', 'भागदौड़', 'मिथ्या', 'ललानिया', 'भूलों', 'वडाली', 'नागापट्टिनम', 'वैमनस्य', 'बिगेस्ट', 'जोड़ता', 'महत्तरों', 'ओरछा', 'धैर्यवान', 'सूंड़', 'प्रिंस', 'ज़ुबान', 'कैमस्टूडियो', 'यूरोपिया', 'मेज़ा', 'भुसावल', 'गायत्री', 'वेयर', 'बुद्धिजीवों', 'ऐंठ', 'रदर', 'इलाइची', 'उबाल', 'श्रीगंगानगरवासियों', 'फिजराल्ड़', 'जीवनशैली', 'चार्ट', 'सरगी', 'वेदों', 'मरमर', 'भाते', 'विप्ख', 'बयाने', 'मदनगंज', 'पैकेजों', 'वर्णनकर्ताओं', 'ज़यादा', 'लोकोत्सव', 'तेवरी', 'झाउगंज', 'मालवान', 'तदंरुस्ती', 'ऐल', 'क़ब्ज़ा', 'सुसंस्कृत', 'संधोल', 'आमरियापाड़ा', 'हाब्बन', 'बाउलिंग', 'रस्मे', 'एमडब्ल्यूपीएल', 'विद्याओं', 'बोवी', 'चेन्नई', 'कमलजीत', 'सिंहा', 'पेंशनधारियों', 'बारह', 'डूबना', 'एसेटल', 'चौहान', 'फलने', 'सिद्धार्थः', 'एपेक्स', 'डाल्टन', 'श्रीखंड', 'टेक्सटाइल्स', 'अग्रवाल', 'मिथ्याचारियों', 'सिमटे', 'क्रान्फ्रेंसिंग', 'संस्कृतियों', 'ढंककर', 'निज़ामाबाद', 'छतेनी', 'दुष्क्रिया', 'सासाराम', 'चिढ़ते', 'लाम्बा', 'लउटिस', 'खाएँ', 'धंधे', 'अन्त्यन्त', 'मास', 'बरामद', 'क्रेमिस्ट्री', 'उठनेवाले', 'लहना', 'सिरगिट्टी', 'कंट्रोल', 'अंदाजी', 'कैटलिन', 'पक्षपात', 'फोड़ों', 'फ्रांसिस्का', 'प्रयोगपृष्ठ', 'क्रांतिधरा', 'डैशवाला', 'खुरासान', 'क्वॉरेनटाइन', 'फोंड', 'पक्षपात', 'पुतला', 'ट्रुथ', 'साथसाथ', 'मोहिम', 'जॉनसन', 'सीपीएम', 'बाताया', 'पाल्मर', 'तुगलकाबाद', 'एपकोटेक्स', 'हैरम', 'सरेबाजार', 'येरुशलम', 'मोल्ड', 'वर्णनकर्ताओं', 'हूपर', 'वाटर्स', 'लुभाते', 'फेफड़ा', 'कामोत्तेजना', 'दंपति', 'सोया', 'बर्बरतापूर्ण', 'तड़ीपार', 'लुत्फ', 'तरीको', 'चता', 'पिटमैन', 'पहला', 'मल्टीमीडिया', 'त्यौहार', 'लेबल', 'ले', 'तीर्थाटन', 'सतुआ', 'वर्गस', 'डाबोलिम', 'सूचनाः', 'लेबलिंग', 'रोज़विल', 'फ़ाईब्रेट्स', 'ऑल्टो', 'परतानी', 'अस्मिताओं', 'वांट', 'तड़पती', 'पटेल', 'काजी', 'दोस्तानापूर्ण', 'क्षेत्राें', 'लिंच', 'स्टेट', 'रागों', 'मल्होत्रा', 'प्रज्ञातंत्र', 'दुर्नीति', 'क्रॉस', 'अव्यवसायी', 'धैर्यवान', 'टाइम', 'अशरीरी', 'चन्द्रदास', 'ज्योतिषि', 'एलेक्जेंड्रिया', 'बेवकूफाना', 'सिरपुर', 'उज़्बेक', 'खरुवार', 'धर्मविहीनता', 'सुरेंद्रनगर', 'आल्हा', 'अरुणाचल', 'क्रुएगर', 'बागली', 'दविन्दरपाल', 'चापलूसी', 'संस्कारियों', 'इंजन्स', 'मेंडेज़', 'सियाह', 'गुजारने', 'गजरा', 'कवि', 'मिदनापुर', 'वृत्तों', 'सिरमोन', 'वर्तमान', 'उभरेगा', 'पायलट', 'नरभक्षी', 'एंट्रीक्स', 'डेटन', 'बडू', 'ऑलराउंडर', 'निश्रा', 'वधावन', 'जेन्सन', 'पाली', 'त्रैमासिक', 'अट्रैक्ट', 'वविद्यालय', 'चंदन', 'मेगा', 'मैन्सफील्ड', 'मट्टानचेरी', 'नवकेतन', 'कमतर', 'पिट्यूनिया', 'पुरूषोत्तमपुर', 'तपन', 'ज़ुबान', 'एनसीआरडब्ल्यूसी', 'हैम्बलिन', 'आराम', 'यशपाल', 'वोखा', 'छेत्री', 'ओमैक्स', 'परवीन', 'कुकरेजा', 'प्रेमफलः', 'नरमी', 'श्रंखलाओं', 'अवरोधक', 'तीरों', 'गणेशा', 'झाड़ा', 'अनुपमा', 'तलबगार', 'बिन्दल', 'ज़वाला', 'आमरियापाड़ा', 'प्रतिनिधिकारी', 'हलमतपुरा', 'बूदम', 'मैकियास', 'मेडीकल', 'रिस्पेक्टिंग', 'रंजकता', 'दा', 'सक्शन', 'भूमी', 'त्यौहारों', 'रंगते', 'उत्तरा', 'पेंशनधारियों', 'कार्यकर्ताओं', 'विद्याओं', 'द़फन', 'सरहिंद', 'ख़ासकर', 'रैथ', 'गुडगौंव', 'साहब', 'उड़ानों', 'मेजेस्को', 'पुष्पा', 'केशरी', 'बांबी', 'कारगिल', 'टकरा', 'बिजी', 'क्रोम', 'स्तिथि', 'गल्फ', 'कालोनीवासियों', 'आवृत्तियों', 'सुहानुभूति', 'चमच', 'विरोधाभासी', 'साभार', 'ऑलकार्गो', 'हारना', 'अव्यवसायी', 'प्राविंसेस', 'छेत्री', 'प्रतिष्ठी', 'सपा्', 'पटकी', 'पर्चियों', 'प्रतिवाद', 'लिफ़ाफ़ा', 'दर्शाना', 'गेरीसन', 'आकंड़ों', 'धंधों', 'डिस्ट्रीब्यूटरी', 'खत्री', 'पंजिका', 'बातः', 'रावले', 'कंगन', 'प्रेमात्मक', 'सिपाही', 'नोटबंदीशुदा', 'देवलहा', 'हल्ला', 'ज़मातें', 'मैसी', 'उसक', 'पितामह', 'विवरणःभारतीय', 'नागेरकोइल', 'लख्खी', 'अच्छी', 'सैटिन', 'नागपुर', 'बसीरहाट', 'छेलै', 'उबरकर', 'संयुक्तावस्था', 'सूरी', 'भपाई', 'व्यक्तिगत', 'महाथिर', 'फ्लेश', 'राष्ट्रक', 'राजभाई', 'हॉन्ग', 'लंगरों', 'सुभाय', 'फंड', 'फ्लावर्स', 'उठने', 'बडा़', 'मिश्रा', 'षट्', 'मैनहट्टन', 'सरगुजा', 'ईवनिंग', 'ग्रहणकाल', 'बागली', 'नीऊ', 'मुंडवा', 'तोलासन', 'जेडटीईसाफ्ट', 'नागमण्डल', 'कनाल', 'मछलीपट्टनम', 'फेलिक्स', 'हस्ताक्षरों', 'भिलाई', 'कॉन्ट्रेक्टिंग', 'क़रार', 'जौं', 'भाालू', 'फोर्टिस', 'गिरजाघरों', 'जैनों', 'अर्थव्यवस्थाः', 'ऑक्सीज', 'खिताबों', 'एनका', 'चष्मा', 'बताअाे', 'घृतकुमारी', 'प्राटेस्टेंट', 'ब्युर', 'लक्ष्मीधर', 'सियासी', 'उपयोगितावादियों', 'टूगा', 'समाधियों', 'खुरपका', 'कुमावत', 'एमडब्ल्यूपी', 'सूरज', 'न्यूरोसाइंटिस्ट्स', 'चंद्रेश्वरनगर', 'टैनिस', 'फर्रूखनगर', 'आवाज़ों', 'नजराने', 'पशुचारा', 'वेबुनियादी', 'डेनबरी', 'नईदिल्ली', 'छल्ला', 'रोवन', 'श्योपुर', 'रव्लानी', 'संवरी', 'धाक', 'मस्से', 'इंश्योरेंस', 'संप्रभुता', 'राष्ट्रा', 'जौहरी', 'जुदाई', 'बदमाशाें', 'खिताबों', 'स्वयँ', 'आग़ा', 'ढिंडवाल', 'घिसे', 'सप्पांवाली', 'निखारें', 'बाधित', 'ब्रह्मपुर', 'बैटाउन', 'कोलिंग', 'समाधियों', 'यूनियनवादी', 'छापेमार', 'ग़रीबों', 'थाऊजेंड', 'डसीला', 'कंजेंटेवाइटिस', 'बाधाओं', 'लगेगा', 'दुर्घटना', 'नितियों', 'कैपधारी', 'अत्री', 'सिंगम', 'वास्तविक', 'सबस्टेंसिस', 'पीलेपन', 'उठनी', 'हंडिया', 'प्रतिरक्षी', 'ललकारता', 'दुकानों', 'निविदाताओं', 'सर्वजातीय', 'नरसंहारों', 'नीमकाथाना', 'हेरेरा', 'जुनून', 'इकाई', 'जगदलपुर', 'स्विफ्टलेट', 'जलगति', 'पिट्स', 'रोपी', 'अड़ंगा', 'आलसी', 'चौकियां', 'लेटन', 'वकरंगी', 'डेवलपमेंट', 'शॉनी', 'परदेसियों', 'भूगोल', 'बगीची', 'सिवान', 'स्ट्रे', 'आलसी', 'व्यू', 'विषहीन', 'किस्सागोई', 'महानिदेशक', 'चिकित्साएवं', 'भट्टाचार्य', 'ट्रेंटन', 'कन्याएं', 'प्रियदर्शिनी', 'हुक़ूक़', 'शुल्कः', 'राणे', 'महाविद्या', 'संशयों', 'श्रेणीः', 'ओडोम', 'बेनिटेज़', 'त्यौहार', 'मतियाना', 'शवयात्रा', 'रिश्ते', 'रेहाना', 'क्यूएसएस', 'अनावश्यक', 'रिझाया', 'ब्रिगेड', 'सपने', 'चुनीं', 'कोषाधिकारी', 'करब', 'पलटने', 'कर्णेश्वरधाम', 'आर्यनस', 'प्रतिष्ठानोंं', 'कराईकल', 'उसकी', 'विपरीतता', 'परीक्षाओ', 'फ्यूजी', 'लामिनार', 'जुटाती', 'कौशिक', 'बेकाबू', 'नैनो', 'ओडिसा', 'तोमर', 'रोपी', 'थप्पड़बाज़ी', 'बाबत', 'अट्टहास', 'कोलन', 'प्रतिलीटर', 'भूसी', 'हलिया', 'उत्पीडऩ', 'पोप', 'करखेले', 'बाहुल्य', 'अस्वभाविक', 'कठनाईयों', 'रामजीलाल', 'वसूलता', 'मुख्यमंत्री', 'मारिया', 'सत्मेव', 'बक्सा', 'उदर', 'मैन', 'बुद्धिजीवों', 'सुदीप', 'जोड़ो', 'तसदीक', 'निकालनी', 'भटकाना', 'हारना', 'डिल्लों', 'रजिस्टर्ड', 'भंडारा', 'ललानिया', 'लिमा', 'लालकृष्ण', 'रत्नाभूषण', 'सपरिवार', 'साह', 'समेटती', 'पाइरिया', 'मामलोंमें', 'बरात', 'वैइसन', 'विला', 'लिंडा', 'खरिया', 'चेलानी', 'इलेक्ट्रॉनिक्स', 'ऋषिराज', 'उदयपुर', 'पगला', 'ऋतुकांत', 'कुर्मी', 'दस्ताना', 'एमरल्ड', 'घुमाई', 'उपद्रवियों', 'ओक्लाहोमा', 'धर्मराजने', 'झाओहुई', 'उप्पीड़न', 'खेमिक', 'तुगलकी', 'दोआर', 'अवि', 'जड़ित', 'टैबू', 'प्रोग्रामर्स', 'टेलर्सविले', 'चादरों', 'रेसर', 'भका', 'अंधभक्तो', 'ओब्रायन', 'कृत्या', 'पीरान', 'नजरियों', 'मयूर', 'चौदहवां', 'स्वर्गदूत', 'फेका', 'इंडिपेन्डेट', 'टिंका', 'गुर्दों', 'जातियों', 'समन्वयक', 'सूबे', 'चंदन', 'प्रारंभिकता', 'ट्रैप', 'उदंत', 'डायनामेटिक', 'विद्युतीकृत', 'ललानिया', 'वदरा', 'वेड', 'फड़फड़ाएं', 'ट्रेडेड', 'अखुआपाड़ा', 'सराहा', 'विज्ञानवादियों', 'कमज़ोर', 'यंगस्टाउन', 'आर्यम्', 'पटकथाएं', 'बाजपेयी', 'जस्सी', 'नाऊ', 'एवव', 'लागातार', 'सुमन', 'पड़नी', 'माइंडट्री', 'ड्रिस्ट्रीब्यूट्री', 'जानकारों', 'शंकचराचार्य', 'ऑफशोर', 'दुखों', 'नेस्को', 'फूलती', 'टूल्स', 'वर्गर', 'दमघोंटू', 'वीडियोः', 'राजमां', 'आत्ममुग्ध', 'रॉकफोर्ड', 'मित्रा', 'देवनार', 'ओकोई', 'उत्तरिया', 'कैनविज', 'गैलेक्सियों', 'जीवनियां', 'हकीकत', 'एलिमिनेटर', 'अगस्टाइन', 'कर', 'बीताने', 'दफ्तरवाले', 'बैराढ', 'कंबलों', 'ज्वार', 'फातमा', 'विवेस', 'डीडब्ल्यूटी', 'धातुएं', 'सियाह', 'पीटने', 'बिच्चों', 'जिता', 'सेवाला', 'बताैर', 'आदित्या', 'क्षेत्रें', 'एंकेनी', 'छेत्र', 'मुकरते', 'ऐंठे', 'बाल्टी', 'खंगाली', 'बीएसएसएस', 'ब्ंजजसम', 'पुष्पित', 'लिंमर्ग', 'पेरेड्डी', 'बोदरा', 'फ़ोकस', 'दूताय', 'श्रीलेदर्स', 'महंकमदान', 'घूंसा', 'काव्यविधाओं', 'क्षत्रियादि', 'जानकारों', 'रखना', 'रिश्तेदारो', 'श्रावणी', 'कुबुद्दीन', 'ज्वेलर्स', 'मेहमान', 'रोजलिन', 'जयकारा', 'चबूतरे', 'हरदिल', 'ट्रक', 'न्यूरोवेस्कुलर', 'खेलाने', 'स्ट्रेशन', 'लक्ष्यतीर्थ', 'नेशंस', 'पाठशालाएं', 'निवेदनः', 'लीडरों', 'टेनला', 'सेवकों', 'पूर्वापेक्षाओं', 'मणि', 'साेमवार', 'प्राण', 'अवैज्ञानिक', 'ऐवीऐशन', 'ब्राउन', 'नाकाम', 'अधिवास', 'जनजागरण', 'राजनंदगांव', 'लैरी', 'भाालू', 'तरीको', 'चिकोपी', 'रिफ्रेक्टरीज़', 'बरामद', 'काव', 'एमरल्ड', 'विवेकाधीन', 'फड़फड़ाएं', 'कायलाना', 'पेंट्स', 'पिट्सबर्ग', 'होखत', 'चौरसिया', 'सच्चिदानंद', 'सीड', 'चारों', 'रिज़वी', 'क्ले', 'दंपति', 'दूर्गध', 'देवापुर', 'मनवाया', 'लटककर', 'मेहमान', 'निया', 'उधमपुर', 'अतहर', 'छुपता', 'तुंगनाथ', 'रघुपति', 'प्रकाण्ड़', 'चेंज्ड', 'गंगटोक', 'क्रिकेट', 'फ्रांसिस्को', 'भगाने', 'अड़ंगा', 'फिक्सिंगः', 'कमाऊ', 'तिकोने', 'पैम', 'तरीक़ों', 'आगमन', 'किदवई', 'आश्रितों', 'राघवन', 'जनेऊधारी', 'डेवनपोर्ट', 'प्रेरणापुरी', 'महासिंह', 'लोरदा', 'इंट्रोडक्शन', 'स्वभावतः', 'ग्रीष्मोत्सव', 'तलाशेगा', 'सहरसा', 'मैके', 'मोशे', 'ग्रंथियां', 'लोहाती', 'अलायंस', 'तगड़े', 'छींके', 'सिवान', 'थकी', 'लेटकर', 'हिकारिको', 'टायर्स', 'नृत्यों', 'डियरफील्ड', 'चरित', 'बैथलहम', 'फिनोटेक्स', 'असाही', 'पहन', 'धनश्याम', 'फारेंसिस', 'लहना', 'द्वारिकेश', 'डुबाना', 'काराबोरियों', 'गोलमुरी', 'राखणौ', 'विपणक', 'पंचांग', 'ब्रीद', 'गुल्लरवाला', 'एडब्ल्यूपी', 'बाज़ी', 'हरपाल', 'प्रेमेश्वर', 'प्राप्त', 'नक्सलवाद', 'कंठहार', 'ऑक्साइड', 'खैराती', 'देशके', 'सुनासीर', 'अफसराें', 'सेहो', 'चबाते', 'मिति', 'बेलचा', 'सफ़लता', 'शबाना', 'खातूटोला', 'शिवास्तव', 'प्रेरणापुरी']\n",
            "51200\n",
            "4096\n",
            "4096\n"
          ]
        }
      ]
    },
    {
      "cell_type": "markdown",
      "source": [
        "#Creating tokenizied dataset here"
      ],
      "metadata": {
        "id": "E0ZegZYePoQC"
      }
    },
    {
      "cell_type": "code",
      "source": [
        "# Creating tokenizied dataset here\n",
        "\n",
        "# Define a function to generate unique tokens for Hindi and English words from a dataset\n",
        "def uni_tok(dataset):\n",
        "  # Extract Hindi and English sentences from the dataset\n",
        "  hin = dataset['hin'].values\n",
        "  eng = dataset['eng'].values\n",
        "\n",
        "  # Initialize sets to store unique tokens for Hindi and English\n",
        "  hin_token = set()\n",
        "  eng_token = set()\n",
        "\n",
        "  # Iterate through pairs of Hindi and English sentences\n",
        "  for i, j in zip(eng, hin):\n",
        "    # Iterate through characters in Hindi sentence\n",
        "    for chare in j:\n",
        "      # Add each character to Hindi tokens set\n",
        "      hin_token.add(chare)\n",
        "    # Iterate through characters in English sentence\n",
        "    for chare in i:\n",
        "      # Add each character to English tokens set\n",
        "      eng_token.add(chare)\n",
        "\n",
        "  # Sort the sets and convert them to lists\n",
        "  hin_token = sorted(list(hin_token))\n",
        "  eng_token = sorted(list(eng_token))\n",
        "\n",
        "  # Return the lists of unique Hindi and English tokens\n",
        "  return hin_token, eng_token\n",
        "\n",
        "# Call the function to generate tokens for the training data\n",
        "hindi_token, english_token = uni_tok(train_data)\n",
        "\n",
        "# Print some statistics and samples of the generated tokens\n",
        "print(\"english_token : \", english_token)\n",
        "print(\"length of english words : \", len(english_token))\n",
        "print(\"hindi_token : \", hindi_token)\n",
        "print(\"length of hindi words : \", len(hindi_token))\n",
        "\n",
        "# \"Matraon\" ke liye alag se token hai mtlb ki"
      ],
      "metadata": {
        "colab": {
          "base_uri": "https://localhost:8080/"
        },
        "id": "lOO8dojV7snM",
        "outputId": "08b58b3a-e65c-40b0-bb9a-c95d2f4aef23"
      },
      "execution_count": 5,
      "outputs": [
        {
          "output_type": "stream",
          "name": "stdout",
          "text": [
            "english_token :  ['a', 'b', 'c', 'd', 'e', 'f', 'g', 'h', 'i', 'j', 'k', 'l', 'm', 'n', 'o', 'p', 'q', 'r', 's', 't', 'u', 'v', 'w', 'x', 'y', 'z']\n",
            "length of english words :  26\n",
            "hindi_token :  ['ँ', 'ं', 'ः', 'अ', 'आ', 'इ', 'ई', 'उ', 'ऊ', 'ऋ', 'ए', 'ऐ', 'ऑ', 'ओ', 'औ', 'क', 'ख', 'ग', 'घ', 'ङ', 'च', 'छ', 'ज', 'झ', 'ञ', 'ट', 'ठ', 'ड', 'ढ', 'ण', 'त', 'थ', 'द', 'ध', 'न', 'प', 'फ', 'ब', 'भ', 'म', 'य', 'र', 'ल', 'ळ', 'व', 'श', 'ष', 'स', 'ह', '़', 'ऽ', 'ा', 'ि', 'ी', 'ु', 'ू', 'ृ', 'ॅ', 'े', 'ै', 'ॉ', 'ो', 'ौ', '्']\n",
            "length of hindi words :  64\n"
          ]
        }
      ]
    },
    {
      "cell_type": "markdown",
      "source": [
        "#Creating token map here"
      ],
      "metadata": {
        "id": "wrnTY-9sPrlZ"
      }
    },
    {
      "cell_type": "code",
      "source": [
        "# Creating token map here\n",
        "\n",
        "def tokenize_map(language_tokens , english_tokens):\n",
        "\n",
        "    # Create English token map with characters as keys and their index + 1 as values\n",
        "    english_token_map = dict([(ch,i+1) for i,ch in enumerate(english_tokens)])\n",
        "\n",
        "    # Create language token map with characters as keys and their index + 1 as values\n",
        "    language_token_map = dict([(ch,i+1) for i,ch in enumerate(language_tokens)])\n",
        "\n",
        "    # Create a reverse language token map with index + 1 as keys and characters as values\n",
        "    reverse_language_token_map = dict([(i+1,ch) for i,ch in enumerate(language_tokens)])\n",
        "\n",
        "    # Adding blank space to both token maps with value 0\n",
        "    language_token_map[\" \"] = 0\n",
        "    english_token_map[\" \"] = 0\n",
        "\n",
        "    # Add special tokens for beginning and end of sentence in language token map\n",
        "    language_token_map[';']=65\n",
        "    language_token_map['.']=66\n",
        "\n",
        "    # Add special tokens for beginning and end of sentence in English token map\n",
        "    english_token_map[';']=27\n",
        "    english_token_map['.']=28\n",
        "\n",
        "    # Add <unk> token for unknown characters to language token maps\n",
        "    language_token_map['<unk>']=64\n",
        "\n",
        "    # Update the reverse language token map with special tokens\n",
        "    reverse_language_token_map[64]='<unk>'\n",
        "    reverse_language_token_map[65]=';'\n",
        "    reverse_language_token_map[66]='.'\n",
        "    reverse_language_token_map[0]=''\n",
        "\n",
        "    # Return the Marathi token map, English token map, and reverse Marathi token map\n",
        "    return language_token_map, reverse_language_token_map, english_token_map\n",
        "\n",
        "# Call the function to generate token maps for hindi and english\n",
        "hin_token_map, reverse_hin_token_map, eng_token_map = tokenize_map(hindi_token, english_token)\n",
        "\n",
        "# Print the generated token maps\n",
        "print(hin_token_map)\n",
        "print(reverse_hin_token_map)\n",
        "print(eng_token_map)\n",
        "\n",
        "# Print the lengths of Marathi and English token maps\n",
        "print('hindi token map length:', len(hin_token_map))\n",
        "print('english token map length:', len(eng_token_map))\n",
        "\n"
      ],
      "metadata": {
        "colab": {
          "base_uri": "https://localhost:8080/"
        },
        "id": "EP1SUzLZZx1X",
        "outputId": "f395aa05-e56d-4e87-afb6-283db67858be"
      },
      "execution_count": 6,
      "outputs": [
        {
          "output_type": "stream",
          "name": "stdout",
          "text": [
            "{'ँ': 1, 'ं': 2, 'ः': 3, 'अ': 4, 'आ': 5, 'इ': 6, 'ई': 7, 'उ': 8, 'ऊ': 9, 'ऋ': 10, 'ए': 11, 'ऐ': 12, 'ऑ': 13, 'ओ': 14, 'औ': 15, 'क': 16, 'ख': 17, 'ग': 18, 'घ': 19, 'ङ': 20, 'च': 21, 'छ': 22, 'ज': 23, 'झ': 24, 'ञ': 25, 'ट': 26, 'ठ': 27, 'ड': 28, 'ढ': 29, 'ण': 30, 'त': 31, 'थ': 32, 'द': 33, 'ध': 34, 'न': 35, 'प': 36, 'फ': 37, 'ब': 38, 'भ': 39, 'म': 40, 'य': 41, 'र': 42, 'ल': 43, 'ळ': 44, 'व': 45, 'श': 46, 'ष': 47, 'स': 48, 'ह': 49, '़': 50, 'ऽ': 51, 'ा': 52, 'ि': 53, 'ी': 54, 'ु': 55, 'ू': 56, 'ृ': 57, 'ॅ': 58, 'े': 59, 'ै': 60, 'ॉ': 61, 'ो': 62, 'ौ': 63, '्': 64, ' ': 0, ';': 65, '.': 66, '<unk>': 64}\n",
            "{1: 'ँ', 2: 'ं', 3: 'ः', 4: 'अ', 5: 'आ', 6: 'इ', 7: 'ई', 8: 'उ', 9: 'ऊ', 10: 'ऋ', 11: 'ए', 12: 'ऐ', 13: 'ऑ', 14: 'ओ', 15: 'औ', 16: 'क', 17: 'ख', 18: 'ग', 19: 'घ', 20: 'ङ', 21: 'च', 22: 'छ', 23: 'ज', 24: 'झ', 25: 'ञ', 26: 'ट', 27: 'ठ', 28: 'ड', 29: 'ढ', 30: 'ण', 31: 'त', 32: 'थ', 33: 'द', 34: 'ध', 35: 'न', 36: 'प', 37: 'फ', 38: 'ब', 39: 'भ', 40: 'म', 41: 'य', 42: 'र', 43: 'ल', 44: 'ळ', 45: 'व', 46: 'श', 47: 'ष', 48: 'स', 49: 'ह', 50: '़', 51: 'ऽ', 52: 'ा', 53: 'ि', 54: 'ी', 55: 'ु', 56: 'ू', 57: 'ृ', 58: 'ॅ', 59: 'े', 60: 'ै', 61: 'ॉ', 62: 'ो', 63: 'ौ', 64: '<unk>', 65: ';', 66: '.', 0: ''}\n",
            "{'a': 1, 'b': 2, 'c': 3, 'd': 4, 'e': 5, 'f': 6, 'g': 7, 'h': 8, 'i': 9, 'j': 10, 'k': 11, 'l': 12, 'm': 13, 'n': 14, 'o': 15, 'p': 16, 'q': 17, 'r': 18, 's': 19, 't': 20, 'u': 21, 'v': 22, 'w': 23, 'x': 24, 'y': 25, 'z': 26, ' ': 0, ';': 27, '.': 28}\n",
            "hindi token map length: 68\n",
            "english token map length: 29\n"
          ]
        }
      ]
    },
    {
      "cell_type": "markdown",
      "source": [
        "# Lets see what is the maximun word length avaiolable in the dataset\n"
      ],
      "metadata": {
        "id": "dez4nINnPwop"
      }
    },
    {
      "cell_type": "code",
      "source": [
        "# Lets see what is the maximun word length avaiolable in the dataset\n",
        "\n",
        "# Assigning values from the 'hin' and 'eng' columns of the test_data DataFrame to variables 'hiii' and 'ennn' respectively.\n",
        "hiii = test_data['hin'].values\n",
        "ennn = test_data['eng'].values\n",
        "\n",
        "# Adding ';' at the beginning and '.' at the end of each element in the 'hiii' and 'ennn' arrays.\n",
        "# Adding special characters like ';' and '.' the start and end of a sentence or phrase, which is necessary for subsequent processing or analysis being performed on the strings.\n",
        "hiii = ';' + hiii + '.'\n",
        "ennn = ';' + ennn + '.'\n",
        "\n",
        "#print(hiii)\n",
        "\n",
        "# Finding the maximum length of a string in the 'hiii' array.\n",
        "maximum_hin = max([len(i) for i in hiii])\n",
        "# Finding the maximum length of a string in the 'ennn' array.\n",
        "maximum_eng = max([len(i) for i in ennn])\n",
        "\n",
        "# Printing the maximum word length in Hindi.\n",
        "print(\"maximum word length in hindi is : \", maximum_hin)\n",
        "# Printing the maximum word length in English.\n",
        "print(\"maximum word length in english is : \", maximum_eng)\n"
      ],
      "metadata": {
        "colab": {
          "base_uri": "https://localhost:8080/"
        },
        "id": "3t1NmzzG-FEi",
        "outputId": "d86826fe-eb74-4a03-ee44-17b6a24bc28b"
      },
      "execution_count": 7,
      "outputs": [
        {
          "output_type": "stream",
          "name": "stdout",
          "text": [
            "maximum word length in hindi is :  22\n",
            "maximum word length in english is :  28\n"
          ]
        }
      ]
    },
    {
      "cell_type": "markdown",
      "source": [
        "# NOw we do one hot encoding\n"
      ],
      "metadata": {
        "id": "WtBPxsCiPzUr"
      }
    },
    {
      "cell_type": "code",
      "source": [
        "# NOw we do one hot encoding\n",
        "\n",
        "import torch\n",
        "#unknown token present in validation set as 'r.(in hindi)'\n",
        "unknown_token=64\n",
        "def process(data):\n",
        "    x,y = data['eng'].values, data['hin'].values\n",
        "    x = \";\" + x + \".\"\n",
        "    y = \";\" + y + \".\"\n",
        "    print(x[0:3])\n",
        "    print(y[0:3])\n",
        "\n",
        "    a = torch.zeros((len(x),maximum_eng),dtype=torch.int64)\n",
        "    print(a.shape)\n",
        "\n",
        "    b = torch.zeros((len(y),maximum_eng),dtype=torch.int64)\n",
        "\n",
        "    data=[]\n",
        "    for i,(xx,yy) in enumerate(zip(x,y)):\n",
        "        for j,ch in enumerate(xx):\n",
        "            a[i,j] = eng_token_map[ch]\n",
        "\n",
        "        #a[i,j+1:] = eng_token_map[\" \"]\n",
        "        for j,ch in enumerate(yy):\n",
        "            if ch in hin_token_map:\n",
        "             b[i,j] = hin_token_map[ch]\n",
        "            else:\n",
        "              b[i,j]= unknown_token\n",
        "\n",
        "\n",
        "    '''\n",
        "    data = []\n",
        "    for xx, yy in zip(x, y):\n",
        "        a_seq = [eng_token_map[ch] for ch in xx]\n",
        "        b_seq = [hin_token_map.get(ch, unknown_token) for ch in yy]\n",
        "        data.append((a_seq, b_seq))\n",
        "    '''\n",
        "\n",
        "    data = [(a[i], b[i]) for i in range(len(x))]\n",
        "    print(a.shape)\n",
        "    print(b.shape)\n",
        "    return data\n",
        "\n",
        "# print(train_data)\n",
        "train_procs = process(train_data)\n",
        "valid_procs = process(valid_data)\n",
        "test_procs = process(test_data)\n",
        "# print(train_process.shape)\n",
        "print('\\n')\n",
        "print('num of rows:',len(train_procs))\n",
        "print('num of columns:',len(train_procs[0]))\n",
        "print(train_procs[0][1])\n",
        "#print(valid_procs[0][1])\n",
        "#print(test_procs[0][1])\n",
        "\n"
      ],
      "metadata": {
        "id": "Y50ML0xPARbJ",
        "colab": {
          "base_uri": "https://localhost:8080/"
        },
        "outputId": "61d025a0-23b1-4403-c825-32669acd0e4c"
      },
      "execution_count": 8,
      "outputs": [
        {
          "output_type": "stream",
          "name": "stdout",
          "text": [
            "[';shastragaar.' ';bindhya.' ';kirankant.']\n",
            "[';शस्त्रागार.' ';बिन्द्या.' ';किरणकांत.']\n",
            "torch.Size([51200, 28])\n",
            "torch.Size([51200, 28])\n",
            "torch.Size([51200, 28])\n",
            "[';jaisawal.' ';bajai.' ';sanghthan.']\n",
            "[';जयसवाल.' ';बजाई.' ';संघठन.']\n",
            "torch.Size([4096, 28])\n",
            "torch.Size([4096, 28])\n",
            "torch.Size([4096, 28])\n",
            "[';thermax.' ';sikhaaega.' ';learn.']\n",
            "[';थरमैक्स.' ';सिखाएगा.' ';लर्न.']\n",
            "torch.Size([4096, 28])\n",
            "torch.Size([4096, 28])\n",
            "torch.Size([4096, 28])\n",
            "\n",
            "\n",
            "num of rows: 51200\n",
            "num of columns: 2\n",
            "tensor([65, 46, 48, 64, 31, 64, 42, 52, 18, 52, 42, 66,  0,  0,  0,  0,  0,  0,\n",
            "         0,  0,  0,  0,  0,  0,  0,  0,  0,  0])\n"
          ]
        }
      ]
    },
    {
      "cell_type": "markdown",
      "source": [
        "# For reading the words"
      ],
      "metadata": {
        "id": "-wPWPKusP-zf"
      }
    },
    {
      "cell_type": "code",
      "source": [
        "# For reading the words, bro...\n",
        "\n",
        "def reverse_tokenize(data):\n",
        "    # Convert each element in data to an integer\n",
        "    data = map(int, data)\n",
        "    # Map each integer to its corresponding character using reverse_marathi_token_map\n",
        "    characters = map(reverse_hin_token_map.get, data)\n",
        "    # Join the characters into a single string\n",
        "    predicted_seq = ''.join(characters)\n",
        "    return predicted_seq"
      ],
      "metadata": {
        "id": "VvnAb8a5BQzZ"
      },
      "execution_count": 9,
      "outputs": []
    },
    {
      "cell_type": "markdown",
      "source": [
        "# Dataloader"
      ],
      "metadata": {
        "id": "Dm9MO4Q_QECA"
      }
    },
    {
      "cell_type": "code",
      "source": [
        "\n",
        "import torch\n",
        "\n",
        "device = torch.device('cuda' if torch.cuda.is_available() else 'cpu')\n",
        "\n",
        "BATCH_bitch_SIZE = 16\n",
        "\n",
        "PAD_IDX = 0\n",
        "BOS_IDX = ';'\n",
        "EOS_IDX = '.'\n",
        "from torch.nn.utils.rnn import pad_sequence\n",
        "from torch.utils.data import DataLoader\n",
        "\n",
        "\n",
        "train_itersn = DataLoader(train_procs, batch_size=BATCH_bitch_SIZE,\n",
        "                        shuffle=False)\n",
        "valid_itersn = DataLoader(valid_procs, batch_size=BATCH_bitch_SIZE,\n",
        "                        shuffle=False)\n",
        "test_itersn = DataLoader(test_procs, batch_size=BATCH_bitch_SIZE,\n",
        "                       shuffle=False)\n",
        "\n",
        "# Let's see what we got\n",
        "print(len(train_itersn))\n",
        "print(train_itersn)\n",
        "print(len(test_itersn))\n",
        "print(len(valid_itersn))"
      ],
      "metadata": {
        "colab": {
          "base_uri": "https://localhost:8080/"
        },
        "id": "jUiH0-giEBGS",
        "outputId": "5d9d0882-139c-4e3c-e713-49e6f3c27c42"
      },
      "execution_count": 10,
      "outputs": [
        {
          "output_type": "stream",
          "name": "stdout",
          "text": [
            "3200\n",
            "<torch.utils.data.dataloader.DataLoader object at 0x79e1b3c60e20>\n",
            "256\n",
            "256\n"
          ]
        }
      ]
    },
    {
      "cell_type": "code",
      "source": [
        "import torch\n",
        "import torch.nn as nn\n",
        "import torch.optim as optim\n",
        "import string\n",
        "import random\n",
        "from collections import Counter\n",
        "# Set random seed for reproducibility\n",
        "SEED = 1234\n",
        "random.seed(SEED)\n",
        "torch.manual_seed(SEED)\n",
        "import os\n"
      ],
      "metadata": {
        "id": "aFI61OHpGqhJ"
      },
      "execution_count": 11,
      "outputs": []
    },
    {
      "cell_type": "markdown",
      "source": [
        "# Attention implimenetation here"
      ],
      "metadata": {
        "id": "lCdaE9frJltJ"
      }
    },
    {
      "cell_type": "code",
      "source": [
        "import random\n",
        "from typing import Tuple\n",
        "\n",
        "import torch.nn as nn\n",
        "import torch.optim as optim\n",
        "import torch.nn.functional as F\n",
        "from torch import Tensor\n",
        "\n",
        "\n",
        "class Encoder(nn.Module):\n",
        "    def __init__(self, input_dimension: int, emb_dimension: int, enc_hid_dimension: int, dec_hid_dimension: int, dropout: float):\n",
        "        super().__init__()\n",
        "\n",
        "        self.input_dimension = input_dimension\n",
        "        self.emb_dimension = emb_dimension\n",
        "        self.enc_hid_dimension = enc_hid_dimension\n",
        "        self.dec_hid_dimension = dec_hid_dimension\n",
        "        self.dropout = dropout\n",
        "\n",
        "        #print('inp. dim')\n",
        "        #print(self.input_dim)\n",
        "        #print('emb. dim')\n",
        "        #print(self.emb_dim)\n",
        "        self.embedding = nn.Embedding(self.input_dimension, self.emb_dimension)\n",
        "\n",
        "\n",
        "        self.rnn = nn.GRU(emb_dimension, enc_hid_dimension, bidirectional = True)\n",
        "\n",
        "        self.fc = nn.Linear(enc_hid_dimension * 2, dec_hid_dimension)\n",
        "\n",
        "        self.dropout = nn.Dropout(dropout)\n",
        "\n",
        "    def forward(self, src: Tensor) -> Tuple[Tensor]:\n",
        "        src = src.permute(1,0)\n",
        "        #print(src)\n",
        "        embedded = self.dropout(self.embedding(src))\n",
        "\n",
        "        outputs, hidden = self.rnn(embedded)\n",
        "\n",
        "        hidden = torch.tanh(self.fc(torch.cat((hidden[-2,:,:], hidden[-1,:,:]), dim = 1)))\n",
        "\n",
        "        return outputs, hidden\n",
        "\n",
        "\n",
        "class Attention(nn.Module):\n",
        "    def __init__(self, enc_hid_dimension: int, dec_hid_dimension: int, attn_dimension: int):\n",
        "        super().__init__()\n",
        "\n",
        "        self.enc_hid_dimension = enc_hid_dimension\n",
        "        self.dec_hid_dimension = dec_hid_dimension\n",
        "\n",
        "        self.attn_in = (enc_hid_dimension * 2) + dec_hid_dimension\n",
        "\n",
        "        self.attn = nn.Linear(self.attn_in, attn_dimension)\n",
        "\n",
        "    def forward(self, decoder_hidden: Tensor, encoder_outputs: Tensor) -> Tensor:\n",
        "\n",
        "        src_len = encoder_outputs.shape[0]\n",
        "\n",
        "        repeated_decoder_hidden = decoder_hidden.unsqueeze(1).repeat(1, src_len, 1)\n",
        "\n",
        "        encoder_outputs = encoder_outputs.permute(1, 0, 2)\n",
        "\n",
        "        energy = torch.tanh(self.attn(torch.cat((\n",
        "            repeated_decoder_hidden,\n",
        "            encoder_outputs),\n",
        "            dim = 2)))\n",
        "\n",
        "        attention = torch.sum(energy, dim=2)\n",
        "\n",
        "        return F.softmax(attention, dim=1)\n",
        "\n",
        "\n",
        "class Decoder(nn.Module):\n",
        "    def __init__(self, output_dimension: int, emb_dimension: int, enc_hid_dimension: int, dec_hid_dimension: int, dropout: int, attention: nn.Module):\n",
        "        super().__init__()\n",
        "\n",
        "        self.emb_dimension = emb_dimension\n",
        "        self.enc_hid_dimension = enc_hid_dimension\n",
        "        self.dec_hid_dimension = dec_hid_dimension\n",
        "        self.output_dimension = output_dimension\n",
        "        self.dropout = dropout\n",
        "        self.attention = attention\n",
        "\n",
        "        self.embedding = nn.Embedding(output_dimension, emb_dimension)\n",
        "\n",
        "        self.rnn = nn.GRU((enc_hid_dimension * 2) + emb_dimension, dec_hid_dimension)\n",
        "\n",
        "        self.out = nn.Linear(self.attention.attn_in + emb_dimension, output_dimension)\n",
        "\n",
        "        self.dropout = nn.Dropout(dropout)\n",
        "\n",
        "\n",
        "    def _weighted_encoder_rep(self, decoder_hidden: Tensor, encoder_outputs: Tensor) -> Tensor:\n",
        "\n",
        "        a = self.attention(decoder_hidden, encoder_outputs)\n",
        "\n",
        "        a = a.unsqueeze(1)\n",
        "\n",
        "        encoder_outputs = encoder_outputs.permute(1, 0, 2)\n",
        "\n",
        "        weighted_encoder_rep = torch.bmm(a, encoder_outputs)\n",
        "\n",
        "        weighted_encoder_rep = weighted_encoder_rep.permute(1, 0, 2)\n",
        "\n",
        "        return weighted_encoder_rep\n",
        "\n",
        "\n",
        "    def forward(self, input_: Tensor, decoder_hidden: Tensor, encoder_outputs: Tensor) -> Tuple[Tensor]:\n",
        "\n",
        "        input_ = input_.unsqueeze(0)\n",
        "        input_ = input_.permute(1,0)\n",
        "        embedded = self.dropout(self.embedding(input_))\n",
        "        weighted_encoder_rep = self._weighted_encoder_rep(decoder_hidden,\n",
        "                                                          encoder_outputs)\n",
        "\n",
        "        #print(weighted_encoder_rep.shape)\n",
        "        embedded = embedded.permute(1,0,2)\n",
        "\n",
        "        rnn_input = torch.cat((embedded, weighted_encoder_rep), dim = 2)\n",
        "\n",
        "        output, decoder_hidden = self.rnn(rnn_input, decoder_hidden.unsqueeze(0))\n",
        "\n",
        "        embedded = embedded.squeeze(0)\n",
        "        output = output.squeeze(0)\n",
        "        weighted_encoder_rep = weighted_encoder_rep.squeeze(0)\n",
        "\n",
        "        output = self.out(torch.cat((output, weighted_encoder_rep, embedded), dim = 1))\n",
        "\n",
        "        return output, decoder_hidden.squeeze(0)\n",
        "\n",
        "\n",
        "class Seq2Seq(nn.Module):\n",
        "    def __init__(self, encoder: nn.Module, decoder: nn.Module, device: torch.device):\n",
        "        super().__init__()\n",
        "\n",
        "        self.encoder = encoder\n",
        "        self.decoder = decoder\n",
        "        self.device = device\n",
        "\n",
        "    def forward(self, src: Tensor, trg: Tensor, teacher_forcing_ratio: float = 0.5) -> Tensor:\n",
        "\n",
        "        batch_size = src.shape[0]\n",
        "        max_len = trg.shape[1]\n",
        "        trg_vocab_size = self.decoder.output_dimension\n",
        "        outputs = torch.zeros(max_len, batch_size, trg_vocab_size).to(self.device)\n",
        "        #ATTENTION HEAT MAP METHOD\n",
        "        #attentions = torch.zeros(max_len, batch_size, src.shape[1]).to(self.device)\n",
        "\n",
        "        encoder_outputs, hidden = self.encoder(src)\n",
        "\n",
        "        # first input to the decoder is the <sos> token\n",
        "        trg = trg.permute(1,0)\n",
        "        output = trg[0,:]\n",
        "\n",
        "        for t in range(1, max_len):\n",
        "            output, hidden = self.decoder(output, hidden, encoder_outputs)\n",
        "            outputs[t] = output\n",
        "            teacher_force = random.random() < teacher_forcing_ratio\n",
        "            top1 = output.max(1)[1]\n",
        "            output = (trg[t] if teacher_force else top1)\n",
        "\n",
        "        return outputs\n",
        "\n",
        "\n",
        "INPUT_DIMENSION = len(eng_token_map)\n",
        "OUTPUT_DIMENSION = len(hin_token_map)\n",
        "\n",
        "'''\n",
        "ENC_EMB_DIMENSION = 512\n",
        "DEC_EMB_DIMENSION = 512\n",
        "ENC_HID_DIMENSION  = 256\n",
        "DEC_HID_DIMENSION  = 256\n",
        "ATTN_DIMENSION  = 256\n",
        "ENC_DROPOUT = 0.3\n",
        "DEC_DROPOUT = 0.3\n",
        "'''\n",
        "\n",
        "ENC_EMB_DIMENSION = 128\n",
        "DEC_EMB_DIMENSION = 128\n",
        "ENC_HID_DIMENSION  = 512\n",
        "DEC_HID_DIMENSION  = 512\n",
        "ATTN_DIMENSION  = 64\n",
        "ENC_DROPOUT = 0.3\n",
        "DEC_DROPOUT = 0.3\n",
        "\n",
        "encoder_bkl = Encoder(INPUT_DIMENSION , ENC_EMB_DIMENSION, ENC_HID_DIMENSION, DEC_HID_DIMENSION, ENC_DROPOUT)\n",
        "attension_bkl = Attention(ENC_HID_DIMENSION, DEC_HID_DIMENSION, ATTN_DIMENSION)\n",
        "decoder_bkl = Decoder(OUTPUT_DIMENSION , DEC_EMB_DIMENSION,  ENC_HID_DIMENSION, DEC_HID_DIMENSION, DEC_DROPOUT, attension_bkl)\n",
        "model_bkl = Seq2Seq(encoder_bkl, decoder_bkl, device).to(device)\n",
        "\n",
        "\n",
        "def init_weights(m: nn.Module):\n",
        "    for name, param in m.named_parameters():\n",
        "        if 'weight' in name:\n",
        "            nn.init.normal_(param.data, mean=0, std=0.01)\n",
        "        else:\n",
        "            nn.init.constant_(param.data, 0)\n",
        "\n",
        "#added custom weights\n",
        "model_bkl.apply(init_weights)\n",
        "\n",
        "optimizer = optim.Adam(model_bkl.parameters())\n",
        "\n",
        "\n",
        "def count_parameters(model: nn.Module):\n",
        "    return sum(p.numel() for p in model.parameters() if p.requires_grad)\n",
        "\n",
        "\n",
        "print(f'The model has {count_parameters(model_bkl):,} trainable parameters')\n",
        "print(\"That's alot of parameters!\")"
      ],
      "metadata": {
        "colab": {
          "base_uri": "https://localhost:8080/"
        },
        "id": "EbIItUKpwflu",
        "outputId": "8c70b0b0-2344-40f4-b0a4-c11f80c0a535"
      },
      "execution_count": 15,
      "outputs": [
        {
          "output_type": "stream",
          "name": "stdout",
          "text": [
            "The model has 5,280,004 trainable parameters\n",
            "That's alot of parameters!\n"
          ]
        }
      ]
    },
    {
      "cell_type": "markdown",
      "source": [
        "# Wandb implimenststion of Attantion"
      ],
      "metadata": {
        "id": "b9Rd9asq8Wk9"
      }
    },
    {
      "cell_type": "code",
      "source": [
        "!pip install --upgrade wandb\n",
        "!wandb login 3c21150eb43b007ee446a1ff6e87f640ec7528c4 #my API key for wandb login\n",
        "import wandb"
      ],
      "metadata": {
        "colab": {
          "base_uri": "https://localhost:8080/"
        },
        "id": "_qNbTSZcFxOk",
        "outputId": "e3ce091f-fc3a-4e82-8076-4fe391d3ee4a"
      },
      "execution_count": null,
      "outputs": [
        {
          "output_type": "stream",
          "name": "stdout",
          "text": [
            "Requirement already satisfied: wandb in c:\\users\\asl 5\\.conda\\envs\\cuda121_pytorch222\\lib\\site-packages (0.17.0)\n",
            "Requirement already satisfied: click!=8.0.0,>=7.1 in c:\\users\\asl 5\\.conda\\envs\\cuda121_pytorch222\\lib\\site-packages (from wandb) (8.1.7)\n",
            "Requirement already satisfied: docker-pycreds>=0.4.0 in c:\\users\\asl 5\\.conda\\envs\\cuda121_pytorch222\\lib\\site-packages (from wandb) (0.4.0)\n",
            "Requirement already satisfied: gitpython!=3.1.29,>=1.0.0 in c:\\users\\asl 5\\.conda\\envs\\cuda121_pytorch222\\lib\\site-packages (from wandb) (3.1.43)\n",
            "Requirement already satisfied: platformdirs in c:\\users\\asl 5\\.conda\\envs\\cuda121_pytorch222\\lib\\site-packages (from wandb) (3.10.0)\n",
            "Requirement already satisfied: protobuf!=4.21.0,<5,>=3.19.0 in c:\\users\\asl 5\\.conda\\envs\\cuda121_pytorch222\\lib\\site-packages (from wandb) (4.25.3)\n",
            "Requirement already satisfied: psutil>=5.0.0 in c:\\users\\asl 5\\.conda\\envs\\cuda121_pytorch222\\lib\\site-packages (from wandb) (5.9.0)\n",
            "Requirement already satisfied: pyyaml in c:\\users\\asl 5\\.conda\\envs\\cuda121_pytorch222\\lib\\site-packages (from wandb) (6.0.1)\n",
            "Requirement already satisfied: requests<3,>=2.0.0 in c:\\users\\asl 5\\.conda\\envs\\cuda121_pytorch222\\lib\\site-packages (from wandb) (2.31.0)\n",
            "Requirement already satisfied: sentry-sdk>=1.0.0 in c:\\users\\asl 5\\.conda\\envs\\cuda121_pytorch222\\lib\\site-packages (from wandb) (2.1.1)\n",
            "Requirement already satisfied: setproctitle in c:\\users\\asl 5\\.conda\\envs\\cuda121_pytorch222\\lib\\site-packages (from wandb) (1.3.3)\n",
            "Requirement already satisfied: setuptools in c:\\users\\asl 5\\.conda\\envs\\cuda121_pytorch222\\lib\\site-packages (from wandb) (68.2.2)\n",
            "Requirement already satisfied: typing-extensions in c:\\users\\asl 5\\.conda\\envs\\cuda121_pytorch222\\lib\\site-packages (from wandb) (4.9.0)\n",
            "Requirement already satisfied: colorama in c:\\users\\asl 5\\.conda\\envs\\cuda121_pytorch222\\lib\\site-packages (from click!=8.0.0,>=7.1->wandb) (0.4.6)\n",
            "Requirement already satisfied: six>=1.4.0 in c:\\users\\asl 5\\.conda\\envs\\cuda121_pytorch222\\lib\\site-packages (from docker-pycreds>=0.4.0->wandb) (1.16.0)\n",
            "Requirement already satisfied: gitdb<5,>=4.0.1 in c:\\users\\asl 5\\.conda\\envs\\cuda121_pytorch222\\lib\\site-packages (from gitpython!=3.1.29,>=1.0.0->wandb) (4.0.11)\n",
            "Requirement already satisfied: charset-normalizer<4,>=2 in c:\\users\\asl 5\\.conda\\envs\\cuda121_pytorch222\\lib\\site-packages (from requests<3,>=2.0.0->wandb) (2.0.4)\n",
            "Requirement already satisfied: idna<4,>=2.5 in c:\\users\\asl 5\\.conda\\envs\\cuda121_pytorch222\\lib\\site-packages (from requests<3,>=2.0.0->wandb) (3.4)\n",
            "Requirement already satisfied: urllib3<3,>=1.21.1 in c:\\users\\asl 5\\.conda\\envs\\cuda121_pytorch222\\lib\\site-packages (from requests<3,>=2.0.0->wandb) (2.1.0)\n",
            "Requirement already satisfied: certifi>=2017.4.17 in c:\\users\\asl 5\\.conda\\envs\\cuda121_pytorch222\\lib\\site-packages (from requests<3,>=2.0.0->wandb) (2024.2.2)\n",
            "Requirement already satisfied: smmap<6,>=3.0.1 in c:\\users\\asl 5\\.conda\\envs\\cuda121_pytorch222\\lib\\site-packages (from gitdb<5,>=4.0.1->gitpython!=3.1.29,>=1.0.0->wandb) (5.0.1)\n"
          ]
        },
        {
          "output_type": "stream",
          "name": "stderr",
          "text": [
            "wandb: Appending key for api.wandb.ai to your netrc file: C:\\Users\\ASL 5\\.netrc\n"
          ]
        }
      ]
    },
    {
      "cell_type": "code",
      "source": [
        "# Wandb Implimentation\n",
        "\n",
        "import math\n",
        "import time\n",
        "sweep_config = {\n",
        "    'method': 'bayes', #grid, random,bayes\n",
        "    'metric': {\n",
        "      'name': 'valid_accuracy',\n",
        "      'goal': 'maximize'\n",
        "    },\n",
        "    'parameters': {\n",
        "        'embed_dimension': {\n",
        "            'values': [64,128,256,512]\n",
        "        },\n",
        "        'hidden_layer_dimension': {\n",
        "            'values': [64,128,256,512]\n",
        "        },\n",
        "        'attention_dimension':{\n",
        "            'values':[64,128,256]\n",
        "        },\n",
        "        'dropout':{\n",
        "            'values':[0.3,0.5,0.6]\n",
        "        },\n",
        "    }\n",
        "}\n",
        "\n",
        "sweep_id = wandb.sweep(sweep_config, entity='ed23d015', project=\"DL_Assignment_3\")\n",
        "\n",
        "def sweep_train():\n",
        "  # Default values for hyper-parameters we're going to sweep over\n",
        "  config_defaults = {\n",
        "      'embed_dimension':256,\n",
        "      'hidden_layer_dimension':256,\n",
        "      'attention_dimension':128,\n",
        "      'dropout':0.6,\n",
        "  }\n",
        "\n",
        "  # Initialize a new wandb run\n",
        "  wandb.init(project='DL_Assignment_3', entity='ed23d015',config=config_defaults)\n",
        "  wandb.run.name = 'embed_dimension:'+ str(wandb.config.embed_dimension)+' ;hl:'+str(wandb.config.hidden_layer_dimension)+ ' ;attention_dimension:'+str(wandb.config.attention_dimension)+ ' ;dropout:'+str(wandb.config.dropout)\n",
        "\n",
        "  config = wandb.config\n",
        "  embed_dimension = config.embed_dimension\n",
        "  hidden_layer_dimension = config.hidden_layer_dimension\n",
        "  attention_dimension = config.attention_dimension\n",
        "  dropout = config.dropout\n",
        "\n",
        "  # Doing Model training here\n",
        "  INPUT_DIM = len(eng_token_map)\n",
        "  OUTPUT_DIM = len(hin_token_map)\n",
        "\n",
        "\n",
        "  encoder_bkl = Encoder(INPUT_DIM, embed_dimension, hidden_layer_dimension, hidden_layer_dimension, dropout)\n",
        "\n",
        "  attension_bkl = Attention(hidden_layer_dimension, hidden_layer_dimension, attention_dimension)\n",
        "\n",
        "  decoder_bkl = Decoder(OUTPUT_DIM, embed_dimension, hidden_layer_dimension, hidden_layer_dimension, dropout, attension_bkl)\n",
        "\n",
        "  model_bkl = Seq2Seq(encoder_bkl, decoder_bkl, device).to(device)\n",
        "  model_bkl.apply(init_weights)\n",
        "  optimizer = optim.Adam(model_bkl.parameters())\n",
        "  criterion = nn.CrossEntropyLoss()\n",
        "\n",
        "  model_bkl.train()\n",
        "\n",
        "  # Initializing losses and accuracies\n",
        "  training_epoch_loss = 0\n",
        "  training_epoch_accuracy = 0\n",
        "  validation_epoch_loss = 0\n",
        "  validation_epoch_accuracy = 0\n",
        "\n",
        "  num_epoch = 10\n",
        "  CLIP = 1\n",
        "\n",
        "  for epoch in range(num_epoch):\n",
        "\n",
        "  #TRAINING BLOCK\n",
        "    model_bkl.train()\n",
        "    for _, (source, target) in enumerate(train_itersn):\n",
        "        source, target = source.to(device), target.to(device)\n",
        "        #print(\"target1: \", target)\n",
        "        optimizer.zero_grad()\n",
        "\n",
        "        output = model_bkl(source, target)\n",
        "\n",
        "        output = output[1:].view(-1, output.shape[-1])\n",
        "        target = target.permute(1,0)\n",
        "        target = torch.reshape(target[1:], (-1,))\n",
        "        #print(\"target2: \", target.shape)\n",
        "        loss = criterion(output, target)\n",
        "\n",
        "        # calculating accuracy\n",
        "        predz = torch.argmax(output, dim=1)\n",
        "        #print(\"pred: \", predz)\n",
        "        #print(\"target3: \", target)\n",
        "        non_pad_elements = (target != 0).nonzero(as_tuple=True)[0]\n",
        "        #print(\"non_pad_elements: \", non_pad_elements)\n",
        "        train_correct = predz[non_pad_elements] == target[non_pad_elements]\n",
        "\n",
        "        #print(\"len(non_pad_elements): \", len(non_pad_elements))\n",
        "        training_epoch_accuracy += train_correct.sum().item() / len(non_pad_elements)\n",
        "        loss.backward()\n",
        "\n",
        "        torch.nn.utils.clip_grad_norm_(model_bkl.parameters(), CLIP)\n",
        "\n",
        "        optimizer.step()\n",
        "\n",
        "        training_epoch_loss += loss.item()\n",
        "\n",
        "\n",
        "    training_epoch_loss = training_epoch_loss / len(train_itersn)\n",
        "    training_epoch_accuracy = training_epoch_accuracy / len(train_itersn)\n",
        "\n",
        "\n",
        "    #EVALUATION MODE ON\n",
        "    model_bkl.eval()\n",
        "\n",
        "    with torch.no_grad():\n",
        "\n",
        "        for _, (source, target) in enumerate(valid_itersn):\n",
        "            source, target = source.to(device), target.to(device)\n",
        "\n",
        "            output = model_bkl(source, target, 0) # Turn off teacher forcing\n",
        "\n",
        "            output = output[1:].view(-1, output.shape[-1])\n",
        "            target = target.permute(1,0)\n",
        "            target = torch.reshape(target[1:], (-1,))\n",
        "\n",
        "            loss = criterion(output, target)\n",
        "\n",
        "            validation_epoch_loss += loss.item()\n",
        "            # Calculating accuracy\n",
        "            predz = torch.argmax(output, dim=1)\n",
        "            non_pad_elements = (target != 0).nonzero(as_tuple=True)[0]\n",
        "            val_correct = predz[non_pad_elements] == target[non_pad_elements]\n",
        "            validation_epoch_accuracy += val_correct.sum().item() / len(non_pad_elements)\n",
        "\n",
        "    validation_epoch_accuracy = validation_epoch_accuracy / len(valid_itersn)\n",
        "    validation_epoch_loss = validation_epoch_loss / len(valid_itersn)\n",
        "\n",
        "    print(f'Epoch: {epoch+1:02} |Train Loss: {training_epoch_loss:.3f} | Train accuracy: {training_epoch_accuracy:.3f}|Val. Loss: {validation_epoch_loss:.3f} | Val accuracy: {validation_epoch_accuracy:.3f}')\n",
        "    wandb.log({\"train_loss\":training_epoch_loss,\"train_accuracy\": training_epoch_accuracy,\"val_loss\":validation_epoch_loss,\"val_accuracy\":validation_epoch_accuracy},)\n",
        "\n",
        "    # Emptying the cache after one complete run\n",
        "    if epoch==num_epoch-1:\n",
        "            torch.cuda.empty_cache()\n",
        "\n",
        "\n",
        "#RUNNING THE SWEEP\n",
        "wandb.agent(sweep_id, function=sweep_train, count=120)"
      ],
      "metadata": {
        "colab": {
          "base_uri": "https://localhost:8080/",
          "height": 1000,
          "referenced_widgets": [
            "f044f3cbdf644c069200091119237229",
            "bd3b9be4abf54f3f86395e8af7257d09",
            "5c3675774b0c4ded831bce988ac8e4ae",
            "1fc1ea4a28094935b7360cb3c9c0213b",
            "69facbd52da44ebbb069953379aad742",
            "f508c8ecb50145ad9adcfb1d4ad1564d",
            "26ce70cd64164eeaa4a428963b9225aa",
            "2d201b1a895148d5b1eb1ef2f7a482ff",
            "9cf94f9059024e1d8a9868d2a55ab5e4",
            "d24ca89a1348483b9489c9af794fd5e3",
            "681be83f8f694db4bce168eb6e35c4ab",
            "4e0eb90c0a074645a68ea2bc512fe0c8",
            "d9bfada4cd5740f2a46cbe30cb8ce02d",
            "664c27b758e7459ebf327f69b68e5976",
            "281e9d0a8b0b48fba07bcc1acf0323d0",
            "4f049dc9ec2a47b6a70acc00dccb7bd9",
            "abc1b3405b3a453b8c63e787f89d8270",
            "73b97e0b363b4a4db9d83326bd86ee22",
            "86bd6c2f0fe145699f8f4ab5f0ed78ca",
            "4ece8e2681c0482c88de65332f42e89b",
            "2b2f8ae3b87f45aa9efb6e0196e33d02",
            "cf02a1e0e8784c2ba657f34884576490",
            "3f5a60cff3f741628e6cdfe2d9a45220",
            "c213df67e55c4b9f8c5dcf5467f43be5",
            "d4d44212afd2479087726d752f19083d",
            "7f0142d8017f441eba3a46e577bf37eb",
            "a1ef121cd8eb4f93baab32b41130e363",
            "428f3809c5e445a09639573149253c94",
            "899de4beea40427baeb5895f4ac3e621",
            "9a8fa90d79174d61afe44e1e21a970ef",
            "7d12b00ac08c4608993c7765d92ba411",
            "e5fe476aee9c4155b7a6673bbe0dac87"
          ]
        },
        "id": "Q_mn5Fzk8j9r",
        "outputId": "ec772afd-6bbf-4aac-87ea-7a4ea7f42058"
      },
      "execution_count": null,
      "outputs": [
        {
          "output_type": "stream",
          "name": "stdout",
          "text": [
            "Create sweep with ID: 4y27zte3\n",
            "Sweep URL: https://wandb.ai/ed23d015/DL_Assignment_3/sweeps/4y27zte3\n"
          ]
        },
        {
          "output_type": "stream",
          "name": "stderr",
          "text": [
            "\u001b[34m\u001b[1mwandb\u001b[0m: Agent Starting Run: 6r83dwzx with config:\n",
            "\u001b[34m\u001b[1mwandb\u001b[0m: \tattention_dimension: 256\n",
            "\u001b[34m\u001b[1mwandb\u001b[0m: \tdropout: 0.3\n",
            "\u001b[34m\u001b[1mwandb\u001b[0m: \tembed_dimension: 128\n",
            "\u001b[34m\u001b[1mwandb\u001b[0m: \thidden_layer_dimension: 512\n",
            "\u001b[34m\u001b[1mwandb\u001b[0m: Currently logged in as: \u001b[33med23d015\u001b[0m. Use \u001b[1m`wandb login --relogin`\u001b[0m to force relogin\n",
            "\u001b[34m\u001b[1mwandb\u001b[0m: \u001b[33mWARNING\u001b[0m Ignored wandb.init() arg project when running a sweep.\n",
            "\u001b[34m\u001b[1mwandb\u001b[0m: \u001b[33mWARNING\u001b[0m Ignored wandb.init() arg entity when running a sweep.\n"
          ]
        },
        {
          "output_type": "display_data",
          "data": {
            "text/plain": [
              "<IPython.core.display.HTML object>"
            ],
            "text/html": [
              "Tracking run with wandb version 0.17.0"
            ]
          },
          "metadata": {}
        },
        {
          "output_type": "display_data",
          "data": {
            "text/plain": [
              "<IPython.core.display.HTML object>"
            ],
            "text/html": [
              "Run data is saved locally in <code>/content/wandb/run-20240514_132836-6r83dwzx</code>"
            ]
          },
          "metadata": {}
        },
        {
          "output_type": "display_data",
          "data": {
            "text/plain": [
              "<IPython.core.display.HTML object>"
            ],
            "text/html": [
              "Syncing run <strong><a href='https://wandb.ai/ed23d015/DL_Assignment_3/runs/6r83dwzx' target=\"_blank\">pious-sweep-1</a></strong> to <a href='https://wandb.ai/ed23d015/DL_Assignment_3' target=\"_blank\">Weights & Biases</a> (<a href='https://wandb.me/run' target=\"_blank\">docs</a>)<br/>Sweep page: <a href='https://wandb.ai/ed23d015/DL_Assignment_3/sweeps/4y27zte3' target=\"_blank\">https://wandb.ai/ed23d015/DL_Assignment_3/sweeps/4y27zte3</a>"
            ]
          },
          "metadata": {}
        },
        {
          "output_type": "display_data",
          "data": {
            "text/plain": [
              "<IPython.core.display.HTML object>"
            ],
            "text/html": [
              " View project at <a href='https://wandb.ai/ed23d015/DL_Assignment_3' target=\"_blank\">https://wandb.ai/ed23d015/DL_Assignment_3</a>"
            ]
          },
          "metadata": {}
        },
        {
          "output_type": "display_data",
          "data": {
            "text/plain": [
              "<IPython.core.display.HTML object>"
            ],
            "text/html": [
              " View sweep at <a href='https://wandb.ai/ed23d015/DL_Assignment_3/sweeps/4y27zte3' target=\"_blank\">https://wandb.ai/ed23d015/DL_Assignment_3/sweeps/4y27zte3</a>"
            ]
          },
          "metadata": {}
        },
        {
          "output_type": "display_data",
          "data": {
            "text/plain": [
              "<IPython.core.display.HTML object>"
            ],
            "text/html": [
              " View run at <a href='https://wandb.ai/ed23d015/DL_Assignment_3/runs/6r83dwzx' target=\"_blank\">https://wandb.ai/ed23d015/DL_Assignment_3/runs/6r83dwzx</a>"
            ]
          },
          "metadata": {}
        },
        {
          "output_type": "stream",
          "name": "stdout",
          "text": [
            "Epoch: 01 |Train Loss: 0.775 | Train accuracy: 0.362|Val. Loss: 0.508 | Val accuracy: 0.516\n",
            "Epoch: 02 |Train Loss: 0.409 | Train accuracy: 0.631|Val. Loss: 0.411 | Val accuracy: 0.612\n",
            "Epoch: 03 |Train Loss: 0.320 | Train accuracy: 0.708|Val. Loss: 0.396 | Val accuracy: 0.628\n",
            "Epoch: 04 |Train Loss: 0.277 | Train accuracy: 0.747|Val. Loss: 0.395 | Val accuracy: 0.650\n",
            "Epoch: 05 |Train Loss: 0.249 | Train accuracy: 0.772|Val. Loss: 0.396 | Val accuracy: 0.659\n",
            "Epoch: 06 |Train Loss: 0.229 | Train accuracy: 0.790|Val. Loss: 0.409 | Val accuracy: 0.656\n",
            "Epoch: 07 |Train Loss: 0.212 | Train accuracy: 0.806|Val. Loss: 0.416 | Val accuracy: 0.656\n",
            "Epoch: 08 |Train Loss: 0.199 | Train accuracy: 0.818|Val. Loss: 0.406 | Val accuracy: 0.664\n",
            "Epoch: 09 |Train Loss: 0.189 | Train accuracy: 0.828|Val. Loss: 0.423 | Val accuracy: 0.663\n",
            "Epoch: 10 |Train Loss: 0.180 | Train accuracy: 0.836|Val. Loss: 0.437 | Val accuracy: 0.657\n"
          ]
        },
        {
          "output_type": "display_data",
          "data": {
            "text/plain": [
              "VBox(children=(Label(value='0.001 MB of 0.012 MB uploaded\\r'), FloatProgress(value=0.10036689767631472, max=1.…"
            ],
            "application/vnd.jupyter.widget-view+json": {
              "version_major": 2,
              "version_minor": 0,
              "model_id": "f044f3cbdf644c069200091119237229"
            }
          },
          "metadata": {}
        },
        {
          "output_type": "display_data",
          "data": {
            "text/plain": [
              "<IPython.core.display.HTML object>"
            ],
            "text/html": [
              "<style>\n",
              "    table.wandb td:nth-child(1) { padding: 0 10px; text-align: left ; width: auto;} td:nth-child(2) {text-align: left ; width: 100%}\n",
              "    .wandb-row { display: flex; flex-direction: row; flex-wrap: wrap; justify-content: flex-start; width: 100% }\n",
              "    .wandb-col { display: flex; flex-direction: column; flex-basis: 100%; flex: 1; padding: 10px; }\n",
              "    </style>\n",
              "<div class=\"wandb-row\"><div class=\"wandb-col\"><h3>Run history:</h3><br/><table class=\"wandb\"><tr><td>train_accuracy</td><td>▁▅▆▇▇▇████</td></tr><tr><td>train_loss</td><td>█▄▃▂▂▂▁▁▁▁</td></tr><tr><td>val_accuracy</td><td>▁▆▆▇██████</td></tr><tr><td>val_loss</td><td>█▂▁▁▁▂▂▂▃▄</td></tr></table><br/></div><div class=\"wandb-col\"><h3>Run summary:</h3><br/><table class=\"wandb\"><tr><td>train_accuracy</td><td>0.83577</td></tr><tr><td>train_loss</td><td>0.17972</td></tr><tr><td>val_accuracy</td><td>0.6572</td></tr><tr><td>val_loss</td><td>0.43668</td></tr></table><br/></div></div>"
            ]
          },
          "metadata": {}
        },
        {
          "output_type": "display_data",
          "data": {
            "text/plain": [
              "<IPython.core.display.HTML object>"
            ],
            "text/html": [
              " View run <strong style=\"color:#cdcd00\">pious-sweep-1</strong> at: <a href='https://wandb.ai/ed23d015/DL_Assignment_3/runs/6r83dwzx' target=\"_blank\">https://wandb.ai/ed23d015/DL_Assignment_3/runs/6r83dwzx</a><br/> View project at: <a href='https://wandb.ai/ed23d015/DL_Assignment_3' target=\"_blank\">https://wandb.ai/ed23d015/DL_Assignment_3</a><br/>Synced 5 W&B file(s), 0 media file(s), 0 artifact file(s) and 0 other file(s)"
            ]
          },
          "metadata": {}
        },
        {
          "output_type": "display_data",
          "data": {
            "text/plain": [
              "<IPython.core.display.HTML object>"
            ],
            "text/html": [
              "Find logs at: <code>./wandb/run-20240514_132836-6r83dwzx/logs</code>"
            ]
          },
          "metadata": {}
        },
        {
          "output_type": "stream",
          "name": "stderr",
          "text": [
            "\u001b[34m\u001b[1mwandb\u001b[0m: Sweep Agent: Waiting for job.\n",
            "\u001b[34m\u001b[1mwandb\u001b[0m: Job received.\n",
            "\u001b[34m\u001b[1mwandb\u001b[0m: Agent Starting Run: 5uiz7z0e with config:\n",
            "\u001b[34m\u001b[1mwandb\u001b[0m: \tattention_dimension: 128\n",
            "\u001b[34m\u001b[1mwandb\u001b[0m: \tdropout: 0.6\n",
            "\u001b[34m\u001b[1mwandb\u001b[0m: \tembed_dimension: 128\n",
            "\u001b[34m\u001b[1mwandb\u001b[0m: \thidden_layer_dimension: 256\n",
            "\u001b[34m\u001b[1mwandb\u001b[0m: \u001b[33mWARNING\u001b[0m Ignored wandb.init() arg project when running a sweep.\n",
            "\u001b[34m\u001b[1mwandb\u001b[0m: \u001b[33mWARNING\u001b[0m Ignored wandb.init() arg entity when running a sweep.\n"
          ]
        },
        {
          "output_type": "display_data",
          "data": {
            "text/plain": [
              "<IPython.core.display.HTML object>"
            ],
            "text/html": [
              "Tracking run with wandb version 0.17.0"
            ]
          },
          "metadata": {}
        },
        {
          "output_type": "display_data",
          "data": {
            "text/plain": [
              "<IPython.core.display.HTML object>"
            ],
            "text/html": [
              "Run data is saved locally in <code>/content/wandb/run-20240514_140003-5uiz7z0e</code>"
            ]
          },
          "metadata": {}
        },
        {
          "output_type": "display_data",
          "data": {
            "text/plain": [
              "<IPython.core.display.HTML object>"
            ],
            "text/html": [
              "Syncing run <strong><a href='https://wandb.ai/ed23d015/DL_Assignment_3/runs/5uiz7z0e' target=\"_blank\">vocal-sweep-2</a></strong> to <a href='https://wandb.ai/ed23d015/DL_Assignment_3' target=\"_blank\">Weights & Biases</a> (<a href='https://wandb.me/run' target=\"_blank\">docs</a>)<br/>Sweep page: <a href='https://wandb.ai/ed23d015/DL_Assignment_3/sweeps/4y27zte3' target=\"_blank\">https://wandb.ai/ed23d015/DL_Assignment_3/sweeps/4y27zte3</a>"
            ]
          },
          "metadata": {}
        },
        {
          "output_type": "display_data",
          "data": {
            "text/plain": [
              "<IPython.core.display.HTML object>"
            ],
            "text/html": [
              " View project at <a href='https://wandb.ai/ed23d015/DL_Assignment_3' target=\"_blank\">https://wandb.ai/ed23d015/DL_Assignment_3</a>"
            ]
          },
          "metadata": {}
        },
        {
          "output_type": "display_data",
          "data": {
            "text/plain": [
              "<IPython.core.display.HTML object>"
            ],
            "text/html": [
              " View sweep at <a href='https://wandb.ai/ed23d015/DL_Assignment_3/sweeps/4y27zte3' target=\"_blank\">https://wandb.ai/ed23d015/DL_Assignment_3/sweeps/4y27zte3</a>"
            ]
          },
          "metadata": {}
        },
        {
          "output_type": "display_data",
          "data": {
            "text/plain": [
              "<IPython.core.display.HTML object>"
            ],
            "text/html": [
              " View run at <a href='https://wandb.ai/ed23d015/DL_Assignment_3/runs/5uiz7z0e' target=\"_blank\">https://wandb.ai/ed23d015/DL_Assignment_3/runs/5uiz7z0e</a>"
            ]
          },
          "metadata": {}
        },
        {
          "output_type": "stream",
          "name": "stdout",
          "text": [
            "Epoch: 01 |Train Loss: 0.922 | Train accuracy: 0.255|Val. Loss: 0.645 | Val accuracy: 0.396\n",
            "Epoch: 02 |Train Loss: 0.510 | Train accuracy: 0.556|Val. Loss: 0.451 | Val accuracy: 0.596\n",
            "Epoch: 03 |Train Loss: 0.324 | Train accuracy: 0.711|Val. Loss: 0.402 | Val accuracy: 0.642\n",
            "Epoch: 04 |Train Loss: 0.277 | Train accuracy: 0.750|Val. Loss: 0.392 | Val accuracy: 0.655\n",
            "Epoch: 05 |Train Loss: 0.252 | Train accuracy: 0.773|Val. Loss: 0.379 | Val accuracy: 0.672\n",
            "Epoch: 06 |Train Loss: 0.236 | Train accuracy: 0.787|Val. Loss: 0.378 | Val accuracy: 0.682\n",
            "Epoch: 07 |Train Loss: 0.226 | Train accuracy: 0.795|Val. Loss: 0.361 | Val accuracy: 0.686\n",
            "Epoch: 08 |Train Loss: 0.220 | Train accuracy: 0.801|Val. Loss: 0.365 | Val accuracy: 0.687\n",
            "Epoch: 09 |Train Loss: 0.211 | Train accuracy: 0.809|Val. Loss: 0.367 | Val accuracy: 0.696\n",
            "Epoch: 10 |Train Loss: 0.205 | Train accuracy: 0.815|Val. Loss: 0.366 | Val accuracy: 0.693\n"
          ]
        },
        {
          "output_type": "display_data",
          "data": {
            "text/plain": [
              "VBox(children=(Label(value='0.001 MB of 0.001 MB uploaded\\r'), FloatProgress(value=1.0, max=1.0)))"
            ],
            "application/vnd.jupyter.widget-view+json": {
              "version_major": 2,
              "version_minor": 0,
              "model_id": "9cf94f9059024e1d8a9868d2a55ab5e4"
            }
          },
          "metadata": {}
        },
        {
          "output_type": "display_data",
          "data": {
            "text/plain": [
              "<IPython.core.display.HTML object>"
            ],
            "text/html": [
              "<style>\n",
              "    table.wandb td:nth-child(1) { padding: 0 10px; text-align: left ; width: auto;} td:nth-child(2) {text-align: left ; width: 100%}\n",
              "    .wandb-row { display: flex; flex-direction: row; flex-wrap: wrap; justify-content: flex-start; width: 100% }\n",
              "    .wandb-col { display: flex; flex-direction: column; flex-basis: 100%; flex: 1; padding: 10px; }\n",
              "    </style>\n",
              "<div class=\"wandb-row\"><div class=\"wandb-col\"><h3>Run history:</h3><br/><table class=\"wandb\"><tr><td>train_accuracy</td><td>▁▅▇▇▇█████</td></tr><tr><td>train_loss</td><td>█▄▂▂▁▁▁▁▁▁</td></tr><tr><td>val_accuracy</td><td>▁▆▇▇▇█████</td></tr><tr><td>val_loss</td><td>█▃▂▂▁▁▁▁▁▁</td></tr></table><br/></div><div class=\"wandb-col\"><h3>Run summary:</h3><br/><table class=\"wandb\"><tr><td>train_accuracy</td><td>0.81465</td></tr><tr><td>train_loss</td><td>0.20546</td></tr><tr><td>val_accuracy</td><td>0.69345</td></tr><tr><td>val_loss</td><td>0.36635</td></tr></table><br/></div></div>"
            ]
          },
          "metadata": {}
        },
        {
          "output_type": "display_data",
          "data": {
            "text/plain": [
              "<IPython.core.display.HTML object>"
            ],
            "text/html": [
              " View run <strong style=\"color:#cdcd00\">vocal-sweep-2</strong> at: <a href='https://wandb.ai/ed23d015/DL_Assignment_3/runs/5uiz7z0e' target=\"_blank\">https://wandb.ai/ed23d015/DL_Assignment_3/runs/5uiz7z0e</a><br/> View project at: <a href='https://wandb.ai/ed23d015/DL_Assignment_3' target=\"_blank\">https://wandb.ai/ed23d015/DL_Assignment_3</a><br/>Synced 5 W&B file(s), 0 media file(s), 0 artifact file(s) and 0 other file(s)"
            ]
          },
          "metadata": {}
        },
        {
          "output_type": "display_data",
          "data": {
            "text/plain": [
              "<IPython.core.display.HTML object>"
            ],
            "text/html": [
              "Find logs at: <code>./wandb/run-20240514_140003-5uiz7z0e/logs</code>"
            ]
          },
          "metadata": {}
        },
        {
          "output_type": "stream",
          "name": "stderr",
          "text": [
            "\u001b[34m\u001b[1mwandb\u001b[0m: Agent Starting Run: hf7sw6z9 with config:\n",
            "\u001b[34m\u001b[1mwandb\u001b[0m: \tattention_dimension: 256\n",
            "\u001b[34m\u001b[1mwandb\u001b[0m: \tdropout: 0.3\n",
            "\u001b[34m\u001b[1mwandb\u001b[0m: \tembed_dimension: 128\n",
            "\u001b[34m\u001b[1mwandb\u001b[0m: \thidden_layer_dimension: 512\n",
            "\u001b[34m\u001b[1mwandb\u001b[0m: \u001b[33mWARNING\u001b[0m Ignored wandb.init() arg project when running a sweep.\n",
            "\u001b[34m\u001b[1mwandb\u001b[0m: \u001b[33mWARNING\u001b[0m Ignored wandb.init() arg entity when running a sweep.\n"
          ]
        },
        {
          "output_type": "display_data",
          "data": {
            "text/plain": [
              "<IPython.core.display.HTML object>"
            ],
            "text/html": [
              "Tracking run with wandb version 0.17.0"
            ]
          },
          "metadata": {}
        },
        {
          "output_type": "display_data",
          "data": {
            "text/plain": [
              "<IPython.core.display.HTML object>"
            ],
            "text/html": [
              "Run data is saved locally in <code>/content/wandb/run-20240514_143003-hf7sw6z9</code>"
            ]
          },
          "metadata": {}
        },
        {
          "output_type": "display_data",
          "data": {
            "text/plain": [
              "<IPython.core.display.HTML object>"
            ],
            "text/html": [
              "Syncing run <strong><a href='https://wandb.ai/ed23d015/DL_Assignment_3/runs/hf7sw6z9' target=\"_blank\">avid-sweep-3</a></strong> to <a href='https://wandb.ai/ed23d015/DL_Assignment_3' target=\"_blank\">Weights & Biases</a> (<a href='https://wandb.me/run' target=\"_blank\">docs</a>)<br/>Sweep page: <a href='https://wandb.ai/ed23d015/DL_Assignment_3/sweeps/4y27zte3' target=\"_blank\">https://wandb.ai/ed23d015/DL_Assignment_3/sweeps/4y27zte3</a>"
            ]
          },
          "metadata": {}
        },
        {
          "output_type": "display_data",
          "data": {
            "text/plain": [
              "<IPython.core.display.HTML object>"
            ],
            "text/html": [
              " View project at <a href='https://wandb.ai/ed23d015/DL_Assignment_3' target=\"_blank\">https://wandb.ai/ed23d015/DL_Assignment_3</a>"
            ]
          },
          "metadata": {}
        },
        {
          "output_type": "display_data",
          "data": {
            "text/plain": [
              "<IPython.core.display.HTML object>"
            ],
            "text/html": [
              " View sweep at <a href='https://wandb.ai/ed23d015/DL_Assignment_3/sweeps/4y27zte3' target=\"_blank\">https://wandb.ai/ed23d015/DL_Assignment_3/sweeps/4y27zte3</a>"
            ]
          },
          "metadata": {}
        },
        {
          "output_type": "display_data",
          "data": {
            "text/plain": [
              "<IPython.core.display.HTML object>"
            ],
            "text/html": [
              " View run at <a href='https://wandb.ai/ed23d015/DL_Assignment_3/runs/hf7sw6z9' target=\"_blank\">https://wandb.ai/ed23d015/DL_Assignment_3/runs/hf7sw6z9</a>"
            ]
          },
          "metadata": {}
        },
        {
          "output_type": "stream",
          "name": "stdout",
          "text": [
            "Epoch: 01 |Train Loss: 0.797 | Train accuracy: 0.346|Val. Loss: 0.518 | Val accuracy: 0.499\n",
            "Epoch: 02 |Train Loss: 0.421 | Train accuracy: 0.623|Val. Loss: 0.429 | Val accuracy: 0.603\n",
            "Epoch: 03 |Train Loss: 0.327 | Train accuracy: 0.704|Val. Loss: 0.406 | Val accuracy: 0.630\n",
            "Epoch: 04 |Train Loss: 0.281 | Train accuracy: 0.744|Val. Loss: 0.402 | Val accuracy: 0.649\n",
            "Epoch: 05 |Train Loss: 0.253 | Train accuracy: 0.769|Val. Loss: 0.399 | Val accuracy: 0.658\n",
            "Epoch: 06 |Train Loss: 0.231 | Train accuracy: 0.790|Val. Loss: 0.391 | Val accuracy: 0.668\n",
            "Epoch: 07 |Train Loss: 0.215 | Train accuracy: 0.804|Val. Loss: 0.407 | Val accuracy: 0.671\n",
            "Epoch: 08 |Train Loss: 0.200 | Train accuracy: 0.818|Val. Loss: 0.429 | Val accuracy: 0.651\n",
            "Epoch: 09 |Train Loss: 0.189 | Train accuracy: 0.828|Val. Loss: 0.420 | Val accuracy: 0.667\n",
            "Epoch: 10 |Train Loss: 0.181 | Train accuracy: 0.835|Val. Loss: 0.430 | Val accuracy: 0.662\n"
          ]
        },
        {
          "output_type": "display_data",
          "data": {
            "text/plain": [
              "VBox(children=(Label(value='0.001 MB of 0.001 MB uploaded\\r'), FloatProgress(value=1.0, max=1.0)))"
            ],
            "application/vnd.jupyter.widget-view+json": {
              "version_major": 2,
              "version_minor": 0,
              "model_id": "abc1b3405b3a453b8c63e787f89d8270"
            }
          },
          "metadata": {}
        },
        {
          "output_type": "display_data",
          "data": {
            "text/plain": [
              "<IPython.core.display.HTML object>"
            ],
            "text/html": [
              "<style>\n",
              "    table.wandb td:nth-child(1) { padding: 0 10px; text-align: left ; width: auto;} td:nth-child(2) {text-align: left ; width: 100%}\n",
              "    .wandb-row { display: flex; flex-direction: row; flex-wrap: wrap; justify-content: flex-start; width: 100% }\n",
              "    .wandb-col { display: flex; flex-direction: column; flex-basis: 100%; flex: 1; padding: 10px; }\n",
              "    </style>\n",
              "<div class=\"wandb-row\"><div class=\"wandb-col\"><h3>Run history:</h3><br/><table class=\"wandb\"><tr><td>train_accuracy</td><td>▁▅▆▇▇▇████</td></tr><tr><td>train_loss</td><td>█▄▃▂▂▂▁▁▁▁</td></tr><tr><td>val_accuracy</td><td>▁▅▆▇▇██▇██</td></tr><tr><td>val_loss</td><td>█▃▂▂▁▁▂▃▃▃</td></tr></table><br/></div><div class=\"wandb-col\"><h3>Run summary:</h3><br/><table class=\"wandb\"><tr><td>train_accuracy</td><td>0.83473</td></tr><tr><td>train_loss</td><td>0.18124</td></tr><tr><td>val_accuracy</td><td>0.66206</td></tr><tr><td>val_loss</td><td>0.42985</td></tr></table><br/></div></div>"
            ]
          },
          "metadata": {}
        },
        {
          "output_type": "display_data",
          "data": {
            "text/plain": [
              "<IPython.core.display.HTML object>"
            ],
            "text/html": [
              " View run <strong style=\"color:#cdcd00\">avid-sweep-3</strong> at: <a href='https://wandb.ai/ed23d015/DL_Assignment_3/runs/hf7sw6z9' target=\"_blank\">https://wandb.ai/ed23d015/DL_Assignment_3/runs/hf7sw6z9</a><br/> View project at: <a href='https://wandb.ai/ed23d015/DL_Assignment_3' target=\"_blank\">https://wandb.ai/ed23d015/DL_Assignment_3</a><br/>Synced 5 W&B file(s), 0 media file(s), 0 artifact file(s) and 0 other file(s)"
            ]
          },
          "metadata": {}
        },
        {
          "output_type": "display_data",
          "data": {
            "text/plain": [
              "<IPython.core.display.HTML object>"
            ],
            "text/html": [
              "Find logs at: <code>./wandb/run-20240514_143003-hf7sw6z9/logs</code>"
            ]
          },
          "metadata": {}
        },
        {
          "output_type": "stream",
          "name": "stderr",
          "text": [
            "\u001b[34m\u001b[1mwandb\u001b[0m: Agent Starting Run: yac6eswg with config:\n",
            "\u001b[34m\u001b[1mwandb\u001b[0m: \tattention_dimension: 64\n",
            "\u001b[34m\u001b[1mwandb\u001b[0m: \tdropout: 0.6\n",
            "\u001b[34m\u001b[1mwandb\u001b[0m: \tembed_dimension: 256\n",
            "\u001b[34m\u001b[1mwandb\u001b[0m: \thidden_layer_dimension: 256\n",
            "\u001b[34m\u001b[1mwandb\u001b[0m: \u001b[33mWARNING\u001b[0m Ignored wandb.init() arg project when running a sweep.\n",
            "\u001b[34m\u001b[1mwandb\u001b[0m: \u001b[33mWARNING\u001b[0m Ignored wandb.init() arg entity when running a sweep.\n"
          ]
        },
        {
          "output_type": "display_data",
          "data": {
            "text/plain": [
              "<IPython.core.display.HTML object>"
            ],
            "text/html": [
              "Tracking run with wandb version 0.17.0"
            ]
          },
          "metadata": {}
        },
        {
          "output_type": "display_data",
          "data": {
            "text/plain": [
              "<IPython.core.display.HTML object>"
            ],
            "text/html": [
              "Run data is saved locally in <code>/content/wandb/run-20240514_150120-yac6eswg</code>"
            ]
          },
          "metadata": {}
        },
        {
          "output_type": "display_data",
          "data": {
            "text/plain": [
              "<IPython.core.display.HTML object>"
            ],
            "text/html": [
              "Syncing run <strong><a href='https://wandb.ai/ed23d015/DL_Assignment_3/runs/yac6eswg' target=\"_blank\">peachy-sweep-4</a></strong> to <a href='https://wandb.ai/ed23d015/DL_Assignment_3' target=\"_blank\">Weights & Biases</a> (<a href='https://wandb.me/run' target=\"_blank\">docs</a>)<br/>Sweep page: <a href='https://wandb.ai/ed23d015/DL_Assignment_3/sweeps/4y27zte3' target=\"_blank\">https://wandb.ai/ed23d015/DL_Assignment_3/sweeps/4y27zte3</a>"
            ]
          },
          "metadata": {}
        },
        {
          "output_type": "display_data",
          "data": {
            "text/plain": [
              "<IPython.core.display.HTML object>"
            ],
            "text/html": [
              " View project at <a href='https://wandb.ai/ed23d015/DL_Assignment_3' target=\"_blank\">https://wandb.ai/ed23d015/DL_Assignment_3</a>"
            ]
          },
          "metadata": {}
        },
        {
          "output_type": "display_data",
          "data": {
            "text/plain": [
              "<IPython.core.display.HTML object>"
            ],
            "text/html": [
              " View sweep at <a href='https://wandb.ai/ed23d015/DL_Assignment_3/sweeps/4y27zte3' target=\"_blank\">https://wandb.ai/ed23d015/DL_Assignment_3/sweeps/4y27zte3</a>"
            ]
          },
          "metadata": {}
        },
        {
          "output_type": "display_data",
          "data": {
            "text/plain": [
              "<IPython.core.display.HTML object>"
            ],
            "text/html": [
              " View run at <a href='https://wandb.ai/ed23d015/DL_Assignment_3/runs/yac6eswg' target=\"_blank\">https://wandb.ai/ed23d015/DL_Assignment_3/runs/yac6eswg</a>"
            ]
          },
          "metadata": {}
        },
        {
          "output_type": "stream",
          "name": "stdout",
          "text": [
            "Epoch: 01 |Train Loss: 0.657 | Train accuracy: 0.459|Val. Loss: 0.411 | Val accuracy: 0.609\n",
            "Epoch: 02 |Train Loss: 0.293 | Train accuracy: 0.734|Val. Loss: 0.396 | Val accuracy: 0.654\n",
            "Epoch: 03 |Train Loss: 0.248 | Train accuracy: 0.775|Val. Loss: 0.364 | Val accuracy: 0.684\n",
            "Epoch: 04 |Train Loss: 0.229 | Train accuracy: 0.794|Val. Loss: 0.373 | Val accuracy: 0.680\n",
            "Epoch: 05 |Train Loss: 0.214 | Train accuracy: 0.807|Val. Loss: 0.373 | Val accuracy: 0.682\n",
            "Epoch: 06 |Train Loss: 0.202 | Train accuracy: 0.818|Val. Loss: 0.369 | Val accuracy: 0.690\n",
            "Epoch: 07 |Train Loss: 0.196 | Train accuracy: 0.824|Val. Loss: 0.366 | Val accuracy: 0.698\n",
            "Epoch: 08 |Train Loss: 0.188 | Train accuracy: 0.830|Val. Loss: 0.360 | Val accuracy: 0.699\n",
            "Epoch: 09 |Train Loss: 0.185 | Train accuracy: 0.833|Val. Loss: 0.365 | Val accuracy: 0.700\n",
            "Epoch: 10 |Train Loss: 0.181 | Train accuracy: 0.838|Val. Loss: 0.366 | Val accuracy: 0.707\n"
          ]
        },
        {
          "output_type": "display_data",
          "data": {
            "text/plain": [
              "VBox(children=(Label(value='0.001 MB of 0.012 MB uploaded\\r'), FloatProgress(value=0.10040783034257748, max=1.…"
            ],
            "application/vnd.jupyter.widget-view+json": {
              "version_major": 2,
              "version_minor": 0,
              "model_id": "d4d44212afd2479087726d752f19083d"
            }
          },
          "metadata": {}
        },
        {
          "output_type": "display_data",
          "data": {
            "text/plain": [
              "<IPython.core.display.HTML object>"
            ],
            "text/html": [
              "<style>\n",
              "    table.wandb td:nth-child(1) { padding: 0 10px; text-align: left ; width: auto;} td:nth-child(2) {text-align: left ; width: 100%}\n",
              "    .wandb-row { display: flex; flex-direction: row; flex-wrap: wrap; justify-content: flex-start; width: 100% }\n",
              "    .wandb-col { display: flex; flex-direction: column; flex-basis: 100%; flex: 1; padding: 10px; }\n",
              "    </style>\n",
              "<div class=\"wandb-row\"><div class=\"wandb-col\"><h3>Run history:</h3><br/><table class=\"wandb\"><tr><td>train_accuracy</td><td>▁▆▇▇▇█████</td></tr><tr><td>train_loss</td><td>█▃▂▂▁▁▁▁▁▁</td></tr><tr><td>val_accuracy</td><td>▁▄▆▆▆▇▇▇██</td></tr><tr><td>val_loss</td><td>█▆▂▃▃▂▂▁▂▂</td></tr></table><br/></div><div class=\"wandb-col\"><h3>Run summary:</h3><br/><table class=\"wandb\"><tr><td>train_accuracy</td><td>0.83769</td></tr><tr><td>train_loss</td><td>0.18065</td></tr><tr><td>val_accuracy</td><td>0.70722</td></tr><tr><td>val_loss</td><td>0.36589</td></tr></table><br/></div></div>"
            ]
          },
          "metadata": {}
        },
        {
          "output_type": "display_data",
          "data": {
            "text/plain": [
              "<IPython.core.display.HTML object>"
            ],
            "text/html": [
              " View run <strong style=\"color:#cdcd00\">peachy-sweep-4</strong> at: <a href='https://wandb.ai/ed23d015/DL_Assignment_3/runs/yac6eswg' target=\"_blank\">https://wandb.ai/ed23d015/DL_Assignment_3/runs/yac6eswg</a><br/> View project at: <a href='https://wandb.ai/ed23d015/DL_Assignment_3' target=\"_blank\">https://wandb.ai/ed23d015/DL_Assignment_3</a><br/>Synced 5 W&B file(s), 0 media file(s), 0 artifact file(s) and 0 other file(s)"
            ]
          },
          "metadata": {}
        },
        {
          "output_type": "display_data",
          "data": {
            "text/plain": [
              "<IPython.core.display.HTML object>"
            ],
            "text/html": [
              "Find logs at: <code>./wandb/run-20240514_150120-yac6eswg/logs</code>"
            ]
          },
          "metadata": {}
        },
        {
          "output_type": "stream",
          "name": "stderr",
          "text": [
            "\u001b[34m\u001b[1mwandb\u001b[0m: Agent Starting Run: re3xhged with config:\n",
            "\u001b[34m\u001b[1mwandb\u001b[0m: \tattention_dimension: 128\n",
            "\u001b[34m\u001b[1mwandb\u001b[0m: \tdropout: 0.3\n",
            "\u001b[34m\u001b[1mwandb\u001b[0m: \tembed_dimension: 512\n",
            "\u001b[34m\u001b[1mwandb\u001b[0m: \thidden_layer_dimension: 512\n",
            "\u001b[34m\u001b[1mwandb\u001b[0m: \u001b[33mWARNING\u001b[0m Ignored wandb.init() arg project when running a sweep.\n",
            "\u001b[34m\u001b[1mwandb\u001b[0m: \u001b[33mWARNING\u001b[0m Ignored wandb.init() arg entity when running a sweep.\n"
          ]
        },
        {
          "output_type": "display_data",
          "data": {
            "text/plain": [
              "<IPython.core.display.HTML object>"
            ],
            "text/html": [
              "Tracking run with wandb version 0.17.0"
            ]
          },
          "metadata": {}
        },
        {
          "output_type": "display_data",
          "data": {
            "text/plain": [
              "<IPython.core.display.HTML object>"
            ],
            "text/html": [
              "Run data is saved locally in <code>/content/wandb/run-20240514_153110-re3xhged</code>"
            ]
          },
          "metadata": {}
        },
        {
          "output_type": "display_data",
          "data": {
            "text/plain": [
              "<IPython.core.display.HTML object>"
            ],
            "text/html": [
              "Syncing run <strong><a href='https://wandb.ai/ed23d015/DL_Assignment_3/runs/re3xhged' target=\"_blank\">mild-sweep-5</a></strong> to <a href='https://wandb.ai/ed23d015/DL_Assignment_3' target=\"_blank\">Weights & Biases</a> (<a href='https://wandb.me/run' target=\"_blank\">docs</a>)<br/>Sweep page: <a href='https://wandb.ai/ed23d015/DL_Assignment_3/sweeps/4y27zte3' target=\"_blank\">https://wandb.ai/ed23d015/DL_Assignment_3/sweeps/4y27zte3</a>"
            ]
          },
          "metadata": {}
        },
        {
          "output_type": "display_data",
          "data": {
            "text/plain": [
              "<IPython.core.display.HTML object>"
            ],
            "text/html": [
              " View project at <a href='https://wandb.ai/ed23d015/DL_Assignment_3' target=\"_blank\">https://wandb.ai/ed23d015/DL_Assignment_3</a>"
            ]
          },
          "metadata": {}
        },
        {
          "output_type": "display_data",
          "data": {
            "text/plain": [
              "<IPython.core.display.HTML object>"
            ],
            "text/html": [
              " View sweep at <a href='https://wandb.ai/ed23d015/DL_Assignment_3/sweeps/4y27zte3' target=\"_blank\">https://wandb.ai/ed23d015/DL_Assignment_3/sweeps/4y27zte3</a>"
            ]
          },
          "metadata": {}
        },
        {
          "output_type": "display_data",
          "data": {
            "text/plain": [
              "<IPython.core.display.HTML object>"
            ],
            "text/html": [
              " View run at <a href='https://wandb.ai/ed23d015/DL_Assignment_3/runs/re3xhged' target=\"_blank\">https://wandb.ai/ed23d015/DL_Assignment_3/runs/re3xhged</a>"
            ]
          },
          "metadata": {}
        },
        {
          "output_type": "stream",
          "name": "stdout",
          "text": [
            "Epoch: 01 |Train Loss: 0.572 | Train accuracy: 0.525|Val. Loss: 0.402 | Val accuracy: 0.627\n",
            "Epoch: 02 |Train Loss: 0.262 | Train accuracy: 0.765|Val. Loss: 0.385 | Val accuracy: 0.657\n",
            "Epoch: 03 |Train Loss: 0.223 | Train accuracy: 0.800|Val. Loss: 0.407 | Val accuracy: 0.667\n",
            "Epoch: 04 |Train Loss: 0.207 | Train accuracy: 0.816|Val. Loss: 0.402 | Val accuracy: 0.680\n"
          ]
        },
        {
          "output_type": "stream",
          "name": "stderr",
          "text": [
            "\u001b[34m\u001b[1mwandb\u001b[0m: Ctrl + C detected. Stopping sweep.\n"
          ]
        }
      ]
    },
    {
      "cell_type": "markdown",
      "source": [
        "# For comparing word accuracy (Attention model)"
      ],
      "metadata": {
        "id": "vJJBHPfzo-cO"
      }
    },
    {
      "cell_type": "code",
      "source": [
        "\n",
        "import math\n",
        "import time\n",
        "import numpy as np\n",
        "\n",
        "criterion = nn.CrossEntropyLoss()\n",
        "\n",
        "\n",
        "def train(model_bkl: nn.Module, iterator: torch.utils.data.DataLoader, optimizer: optim.Optimizer, criterion: nn.Module, clip: float):\n",
        "\n",
        "    model_bkl.train()\n",
        "\n",
        "    epoch_loss = 0\n",
        "    epoch_accuracy = 0\n",
        "    epoch_word_accuracy = 0\n",
        "    total_charecters = 0\n",
        "    correct_charecters = 0\n",
        "    total_words = 0\n",
        "    correct_words = 0\n",
        "\n",
        "\n",
        "    for _, (source, target) in enumerate(iterator):\n",
        "        source, target = source.to(device), target.to(device)\n",
        "        optimizer.zero_grad()\n",
        "\n",
        "        output = model_bkl(source, target)\n",
        "        output = output[1:].view(-1, output.shape[-1])\n",
        "        target = target.permute(1,0)\n",
        "        target = torch.reshape(target[1:], (-1,))\n",
        "        loss = criterion(output, target)\n",
        "\n",
        "        # calculate character level accuracy\n",
        "        preds = torch.argmax(output, dim=1)\n",
        "        non_pad_elements = (target != 0).nonzero(as_tuple=True)[0]\n",
        "        correct = preds[non_pad_elements] == target[non_pad_elements]\n",
        "        epoch_accuracy += correct.sum().item() / len(non_pad_elements)\n",
        "\n",
        "        loss.backward()\n",
        "\n",
        "        torch.nn.utils.clip_grad_norm_(model_bkl.parameters(), clip)\n",
        "\n",
        "        optimizer.step()\n",
        "\n",
        "        epoch_loss += loss.item()\n",
        "\n",
        "    return epoch_loss / len(iterator), epoch_accuracy / len(iterator)\n",
        "\n",
        "\n",
        "def evaluate(model_bkl: nn.Module, iterator: torch.utils.data.DataLoader, criterion: nn.Module):\n",
        "\n",
        "    model_bkl.eval()\n",
        "\n",
        "    epoch_loss = 0\n",
        "    epoch_accuracy = 0\n",
        "    epoch_word_accuracy = 0\n",
        "    total_charecters = 0\n",
        "    correct_charecters = 0\n",
        "    total_words = 0\n",
        "    correct_words = 0\n",
        "    solution = []\n",
        "    with torch.no_grad():\n",
        "\n",
        "        for _, (source, target) in enumerate(iterator):\n",
        "            source, target = source.to(device), target.to(device)\n",
        "\n",
        "            output = model_bkl(source, target, 0) # Turn off teacher forcing\n",
        "\n",
        "            output = output[1:].view(-1, output.shape[-1])\n",
        "            target = target.permute(1,0)\n",
        "            target = torch.reshape(target[1:], (-1,))\n",
        "\n",
        "            loss = criterion(output, target)\n",
        "\n",
        "            epoch_loss += loss.item()\n",
        "\n",
        "            # calculate accuracy\n",
        "            preds = torch.argmax(output, dim=1)\n",
        "            non_pad_elements = (target != 0).nonzero(as_tuple=True)[0]\n",
        "            correct = preds[non_pad_elements] == target[non_pad_elements]\n",
        "            epoch_accuracy += correct.sum().item() / len(non_pad_elements)\n",
        "\n",
        "            b=np.zeros((16,27))\n",
        "            for i in range(16):\n",
        "              for j in range (27):\n",
        "                 b[i][j]=preds[16*j+i]\n",
        "\n",
        "            for i in range(16):\n",
        "              # print('reverse_tokenize(b[i]: ' , reverse_tokenize(b[i]))\n",
        "              solution.append(reverse_tokenize(b[i]))\n",
        "\n",
        "\n",
        "    return epoch_loss / len(iterator), epoch_accuracy / len(iterator), solution\n",
        "\n",
        "\n",
        "def epoch_time(start_time: int, end_time: int):\n",
        "    elapsed_time = end_time - start_time\n",
        "    elapsed_mins = int(elapsed_time / 60)\n",
        "    elapsed_secs = int(elapsed_time - (elapsed_mins * 60))\n",
        "    return elapsed_mins, elapsed_secs\n",
        "\n",
        "\n",
        "CLIP = 1\n",
        "num_epoch = 10\n",
        "\n",
        "best_valid_loss = float('inf')\n",
        "\n",
        "for epoch in range(num_epoch):\n",
        "    # To calculate the computation time for an epoch\n",
        "    start_time = time.time()\n",
        "\n",
        "    train_loss,train_acc = train(model_bkl, train_itersn, optimizer, criterion, CLIP)\n",
        "    #valid_loss,valid_accuracy,solution_valid = evaluate(model_bkl, test_itersn, criterion)\n",
        "    valid_loss,valid_accuracy,solution_valid = evaluate(model_bkl, valid_itersn, criterion)\n",
        "\n",
        "    end_time = time.time()\n",
        "\n",
        "    epoch_in_mins, epoch_in_secs = epoch_time(start_time, end_time)\n",
        "\n",
        "    print(f'Epoch: {epoch+1:02} | Time: {epoch_in_mins}m {epoch_in_secs}s')\n",
        "    print(f'\\tTrain Loss: {train_loss:.3f} | Train accuracy: {train_acc:.3f}')\n",
        "    print(f'\\t Val. Loss: {valid_loss:.3f} | Val accuracy: {valid_accuracy:.3f}')\n",
        "    print(solution_valid[0])\n",
        "\n",
        "# testing_loss, testing_accuracy, solution_test_attain = evaluate(model_bkl, train_itersn, criterion)\n",
        "testing_loss, testing_accuracy, solution_test_attain = evaluate(model_bkl, test_itersn, criterion)\n",
        "\n",
        "print(f'| Val Loss: {testing_loss:.3f} | Val accuracy: {testing_accuracy:.3f} |')"
      ],
      "metadata": {
        "colab": {
          "base_uri": "https://localhost:8080/"
        },
        "id": "Y1RliBYNjSRm",
        "outputId": "648d85ef-e51f-42c2-9942-870236f735e6"
      },
      "execution_count": 16,
      "outputs": [
        {
          "output_type": "stream",
          "name": "stdout",
          "text": [
            "Epoch: 01 | Time: 3m 9s\n",
            "\tTrain Loss: 0.569 | Train accuracy: 0.527\n",
            "\t Val. Loss: 0.404 | Val accuracy: 0.627\n",
            "जैसवाल.\n",
            "Epoch: 02 | Time: 3m 9s\n",
            "\tTrain Loss: 0.269 | Train accuracy: 0.759\n",
            "\t Val. Loss: 0.378 | Val accuracy: 0.667\n",
            "जैसावल.\n",
            "Epoch: 03 | Time: 3m 9s\n",
            "\tTrain Loss: 0.229 | Train accuracy: 0.795\n",
            "\t Val. Loss: 0.372 | Val accuracy: 0.680\n",
            "जैसवल.\n",
            "Epoch: 04 | Time: 3m 8s\n",
            "\tTrain Loss: 0.207 | Train accuracy: 0.816\n",
            "\t Val. Loss: 0.372 | Val accuracy: 0.689\n",
            "जैसावल.\n",
            "Epoch: 05 | Time: 3m 9s\n",
            "\tTrain Loss: 0.192 | Train accuracy: 0.829\n",
            "\t Val. Loss: 0.376 | Val accuracy: 0.688\n",
            "जैसवाल.\n",
            "Epoch: 06 | Time: 3m 11s\n",
            "\tTrain Loss: 0.180 | Train accuracy: 0.839\n",
            "\t Val. Loss: 0.393 | Val accuracy: 0.689\n",
            "जैसवाल.\n",
            "Epoch: 07 | Time: 3m 9s\n",
            "\tTrain Loss: 0.173 | Train accuracy: 0.846\n",
            "\t Val. Loss: 0.380 | Val accuracy: 0.693\n",
            "जैसवाल.\n",
            "Epoch: 08 | Time: 3m 10s\n",
            "\tTrain Loss: 0.167 | Train accuracy: 0.852\n",
            "\t Val. Loss: 0.392 | Val accuracy: 0.696\n",
            "जैसवाल.\n",
            "Epoch: 09 | Time: 3m 8s\n",
            "\tTrain Loss: 0.162 | Train accuracy: 0.856\n",
            "\t Val. Loss: 0.388 | Val accuracy: 0.690\n",
            "जैसावल.\n",
            "Epoch: 10 | Time: 3m 10s\n",
            "\tTrain Loss: 0.160 | Train accuracy: 0.858\n",
            "\t Val. Loss: 0.386 | Val accuracy: 0.693\n",
            "जैसववल.\n",
            "| Val Loss: 0.432 | Val accuracy: 0.688 |\n"
          ]
        }
      ]
    },
    {
      "cell_type": "markdown",
      "source": [
        "# Vanilla Sequence to Sequence Model"
      ],
      "metadata": {
        "id": "4es7SQFZMaUZ"
      }
    },
    {
      "cell_type": "code",
      "source": [
        "# Define the vocabulary of English and Devanagari characters\n",
        "\n",
        "# Define the maximum sequence lengths for input and output sequences\n",
        "MAX_LEN_EN = 30\n",
        "MAX_LEN_MA = 30\n",
        "\n",
        "# Define the start and end of sequence tokens\n",
        "BOS_token = 28\n",
        "EOS_token = 29\n",
        "\n",
        "\n",
        "class Encoder(nn.Module):\n",
        "    def __init__(self, input_size, embedding_size, hidden_size, num_layers=1 , cell_type=\"lstm\", p = 0.3):\n",
        "        super(Encoder, self).__init__()\n",
        "        self.hidden_size = hidden_size\n",
        "        self.num_layers = num_layers\n",
        "        self.cell_type=cell_type\n",
        "        self.dropout=nn.Dropout(p)\n",
        "        self.embedding = nn.Embedding(input_size,embedding_size)\n",
        "\n",
        "        if cell_type == \"gru\":\n",
        "            self.rnn = nn.GRU(input_size, hidden_size, num_layers,dropout=p)\n",
        "        elif cell_type == \"lstm\":\n",
        "            self.rnn = nn.LSTM(input_size, hidden_size, num_layers,dropout=p)\n",
        "        elif cell_type == \"rnn\":\n",
        "            self.rnn = nn.RNN(input_size, hidden_size, num_layers,dropout=p)\n",
        "        else:\n",
        "            raise ValueError(\"Invalid cell type selected: {}\".format(cell_type))\n",
        "\n",
        "    def forward(self, x):\n",
        "\n",
        "        x=x.permute(1,0)\n",
        "        embedding=self.dropout(self.embedding(x))\n",
        "        if self.cell_type==\"lstm\":\n",
        "         outputs,(hidden,cell)=self.rnn(embedding)\n",
        "        else:\n",
        "           hidden, cell = self.rnn(embedding)\n",
        "        return hidden, cell\n",
        "\n",
        "\n",
        "class Decoder(nn.Module):\n",
        "    def __init__(self, input_size, embedding_size, hidden_size, output_size, num_layers=1, cell_type=\"lstm\",p = 0.3):\n",
        "        super(Decoder, self).__init__()\n",
        "        self.hidden_size = hidden_size\n",
        "        self.num_layers = num_layers\n",
        "        self.dropout=nn.Dropout(p)\n",
        "        self.embedding=nn.Embedding(input_size, embedding_size)\n",
        "        self.cell_type=cell_type\n",
        "\n",
        "        self.output_size = output_size\n",
        "        if cell_type == \"gru\":\n",
        "            self.rnn = nn.GRU(output_size, hidden_size, num_layers)\n",
        "        elif cell_type == \"lstm\":\n",
        "            self.rnn = nn.LSTM(embedding_size, hidden_size, num_layers,dropout=p)\n",
        "        elif cell_type == \"rnn\":\n",
        "            self.rnn = nn.RNN(output_size, hidden_size, num_layers)\n",
        "        else:\n",
        "            raise ValueError(\"Invalid cell type selected: {}\".format(cell_type))\n",
        "        self.fc = nn.Linear(hidden_size, output_size)\n",
        "\n",
        "    def forward(self, x, hidden,cell):\n",
        "       # shape of x: (N) but we want (1,N)\n",
        "       x=x.unsqueeze(0)\n",
        "\n",
        "       embedding= self.dropout(self.embedding(x))\n",
        "       #embedding shape: (1,N,hidden_size)\n",
        "\n",
        "       if self.cell_type==\"lstm\":\n",
        "        outputs,(hidden,cell) = self.rnn(embedding, (hidden,cell))\n",
        "       else:\n",
        "         outputs, hidden = self.rnn(embedding, hidden)\n",
        "       #shape of outputs: (1,N,hidden_size)\n",
        "\n",
        "\n",
        "       predictions=self.fc(outputs)\n",
        "       #shape of predictions: (1,N,length_of_vocab)\n",
        "\n",
        "       predictions = predictions.squeeze(0)\n",
        "\n",
        "       if self.cell_type==\"lstm\":\n",
        "         return predictions, hidden, cell\n",
        "       else:\n",
        "         return predictions, hidden\n",
        "\n",
        "\n",
        "class Seq2Seq(nn.Module):\n",
        "    def __init__(\n",
        "        self,encoder,decoder,cell_type=\"lstm\"):\n",
        "        super(Seq2Seq, self).__init__()\n",
        "        self.encoder = encoder\n",
        "        self.decoder = decoder\n",
        "        self.cell_type = cell_type\n",
        "\n",
        "    def forward(self, source, target, teacher_force_ratio=0.5):\n",
        "        batch_size = source.shape[0]\n",
        "\n",
        "        target_len = target.shape[1]\n",
        "        target_vocab_size=self.decoder.output_size\n",
        "\n",
        "        outputs=torch.zeros(target_len,batch_size,target_vocab_size).to(device)\n",
        "\n",
        "        cell,hidden=self.encoder(source)\n",
        "\n",
        "        target = target.permute(1,0)\n",
        "        x = target[0,:]\n",
        "        for t in range(1,target_len):\n",
        "          if self.cell_type==\"lstm\":\n",
        "           output,hidden,cell =self.decoder(x,hidden,cell)\n",
        "          else:\n",
        "            output, hidden = self.decoder(x,hidden,cell)\n",
        "\n",
        "          outputs[t] = output\n",
        "\n",
        "          best_guess = output.argmax(1)\n",
        "\n",
        "          x= target[t] if random.random() < teacher_force_ratio else best_guess\n",
        "        return outputs\n",
        "\n",
        "'''\n",
        "INPUT_DIMENSION = len(eng_token_map)\n",
        "OUTPUT_DIMENSION = len(hin_token_map)\n",
        "ENC_EMB_DIMENSION = 512\n",
        "DEC_EMB_DIMENSION = 512\n",
        "ENC_HID_DIMENSION  = 256\n",
        "DEC_HID_DIMENSION  = 256\n",
        "ATTN_DIMENSION  = 256\n",
        "ENC_DROPOUT = 0.3\n",
        "DEC_DROPOUT = 0.3\n",
        "\n",
        "encoder_bkl = Encoder(INPUT_DIMENSION , ENC_EMB_DIMENSION, ENC_HID_DIMENSION, DEC_HID_DIMENSION, ENC_DROPOUT)\n",
        "attension_bkl = Attention(ENC_HID_DIMENSION, DEC_HID_DIMENSION, ATTN_DIMENSION)\n",
        "decoder_bkl = Decoder(OUTPUT_DIMENSION , DEC_EMB_DIMENSION,  ENC_HID_DIMENSION, DEC_HID_DIMENSION, DEC_DROPOUT, attension_bkl)\n",
        "model_bkl = Seq2Seq(encoder_bkl, decoder_bkl, device).to(device)\n",
        "'''\n",
        "encoder_embedding_size = 29\n",
        "decoder_embedding_size = 68\n",
        "'''\n",
        "encoder_embedding_size  = 512\n",
        "decoder_embedding_size  = 512\n",
        "'''\n",
        "cell_type=\"gru\"\n",
        "layer_size = 3\n",
        "dropout = 0.4\n",
        "# model_bkl training here\n",
        "hidden_layers = hidden_size = 256\n",
        "input_size_encoder = len(eng_token_map)\n",
        "output_size=input_size_decoder=len(hin_token_map)\n",
        "'''\n",
        "encoder_embedding_size = 29 # Might need to chnge here\n",
        "decoder_embedding_size = 68\n",
        "'''\n",
        "encoder_net_bkl = Encoder(input_size_encoder, encoder_embedding_size, hidden_layers, layer_size, cell_type, p = dropout)\n",
        "decoder_net_bkl = Decoder(input_size_decoder, decoder_embedding_size, hidden_layers, output_size, layer_size, cell_type, p = dropout)\n",
        "model_bkl = Seq2Seq(encoder_net_bkl,decoder_net_bkl ,cell_type).to(device)\n",
        "\n",
        "def init_weights(m: nn.Module):\n",
        "    for name, param in m.named_parameters():\n",
        "        if 'weight' in name:\n",
        "            nn.init.normal_(param.data, mean=0, std=0.01)\n",
        "        else:\n",
        "            nn.init.constant_(param.data, 0)\n",
        "\n",
        "#added custom weights\n",
        "model_bkl.apply(init_weights)\n",
        "\n",
        "optimizer = optim.Adam(model_bkl.parameters())\n",
        "\n",
        "\n",
        "def count_parameters(model: nn.Module):\n",
        "    return sum(p.numel() for p in model.parameters() if p.requires_grad)\n",
        "\n",
        "\n",
        "print(f'The model has {count_parameters(model_bkl):,} trainable parameters')\n",
        "print(\"That's alot of parameters!\")"
      ],
      "metadata": {
        "id": "BWNMQwLODXys",
        "colab": {
          "base_uri": "https://localhost:8080/"
        },
        "outputId": "9884cd7e-8c07-4f74-f219-01aa625b8520"
      },
      "execution_count": 13,
      "outputs": [
        {
          "output_type": "stream",
          "name": "stdout",
          "text": [
            "The model has 2,072,733 trainable parameters\n",
            "That's alot of parameters!\n"
          ]
        }
      ]
    },
    {
      "cell_type": "markdown",
      "source": [
        "# Wandb implimentstion of Vanilla Sequence to Sequence Model\n",
        "---\n",
        "\n"
      ],
      "metadata": {
        "id": "REhsy47AMwvQ"
      }
    },
    {
      "cell_type": "code",
      "source": [
        "sweep_config = {\n",
        "    'method': 'bayes', #grid, random,bayes\n",
        "    'metric': {\n",
        "      'name': 'val_accuracy',\n",
        "      'goal': 'maximize'\n",
        "    },\n",
        "    'parameters': {\n",
        "        'lr': {\n",
        "            'values': [0.001,0.0001]\n",
        "        },\n",
        "        'layer_size': {\n",
        "            'values': [1,2,3,4]\n",
        "        },\n",
        "        'cell_type':{\n",
        "            'values':['rnn','lstm','gru']\n",
        "        },\n",
        "        'dropout':{\n",
        "            'values':[0,0.2,0.4,0.6]\n",
        "        },\n",
        "        'hidden_layers':{\n",
        "            'values':[64,128,256]\n",
        "        },\n",
        "\n",
        "    }\n",
        "}\n",
        "\n",
        "sweep_id = wandb.sweep(sweep_config, entity='ed23d015', project=\"DL_Assignment_3\")\n",
        "\n",
        "def sweep_train():\n",
        "  # Default values for hyper-parameters we're going to sweep over\n",
        "  config_defaults = {\n",
        "      'lr':0.0001,\n",
        "      'layer_size':4,\n",
        "      'cell_type':'lstm',\n",
        "      'dropout':0.4,\n",
        "      'hidden_layers':128,\n",
        "  }\n",
        "\n",
        "  # Initialize a new wandb run\n",
        "  wandb.init(project='DL_Assignment_3', entity='ed23d015',config=config_defaults)\n",
        "  wandb.run.name = 'cell:'+ str(wandb.config.cell_type)+' ;lr:'+str(wandb.config.lr)+ ' ;layer_size:'+str(wandb.config.layer_size)+ ' ;dropout:'+str(wandb.config.dropout)+' ;hidden:'+str(wandb.config.hidden_layers)\n",
        "\n",
        "  config = wandb.config\n",
        "  lr = config.lr\n",
        "  layer_size = config.layer_size\n",
        "  cell_type = config.cell_type\n",
        "  hidden_layers = config.hidden_layers\n",
        "  dropout = config.dropout\n",
        "\n",
        "  encoder_embedding_size  = 512\n",
        "  decoder_embedding_size  = 512\n",
        "\n",
        "  # model_bkl training here\n",
        "\n",
        "  input_size_encoder = len(eng_token_map)\n",
        "  output_size=input_size_decoder=len(hin_token_map)\n",
        "\n",
        "  encoder_embedding_size = 29\n",
        "  decoder_embedding_size = 68\n",
        "  encoder_net_bkl = Encoder(input_size_encoder, encoder_embedding_size, hidden_layers, layer_size, cell_type, dropout).to(device)\n",
        "  decoder_net_bkl = Decoder(input_size_decoder, decoder_embedding_size, hidden_layers, output_size, layer_size, cell_type, p = dropout).to(device)\n",
        "  model_bkl = Seq2Seq(encoder_net_bkl,decoder_net_bkl ,cell_type).to(device)\n",
        "  criterion = nn.CrossEntropyLoss()\n",
        "  import math\n",
        "  import time\n",
        "\n",
        "  optimizer = optim.Adam(model_bkl.parameters(),lr=lr)\n",
        "  model_bkl.train()\n",
        "\n",
        "  training_epoch_loss = 0\n",
        "  training_epoch_accuracy = 0\n",
        "  validation_epoch_loss = 0\n",
        "  validation_epoch_accuracy = 0\n",
        "\n",
        "  num_epoch = 10\n",
        "  CLIP = 1\n",
        "\n",
        "  for epoch in range(num_epoch):\n",
        "\n",
        "  #TRAINING BLOCK\n",
        "    model_bkl.train()\n",
        "    for _, (source, target) in enumerate(train_itersn):\n",
        "        source, target = source.to(device), target.to(device)\n",
        "\n",
        "        optimizer.zero_grad()\n",
        "\n",
        "        output = model_bkl(source, target)\n",
        "        output = output[1:].view(-1, output.shape[-1])\n",
        "        target = target.permute(1,0)\n",
        "        target = torch.reshape(target[1:], (-1,))\n",
        "        loss = criterion(output, target)\n",
        "\n",
        "        # calculate accuracy\n",
        "        preds = torch.argmax(output, dim=1)\n",
        "        non_pad_elements = (target != 0).nonzero(as_tuple=True)[0]\n",
        "        train_correct = preds[non_pad_elements] == target[non_pad_elements]\n",
        "        training_epoch_accuracy += train_correct.sum().item() / len(non_pad_elements)\n",
        "        loss.backward()\n",
        "\n",
        "        #READ IF WE CAN PASS CLIP AS A HYPERPARAMETER\n",
        "        torch.nn.utils.clip_grad_norm_(model_bkl.parameters(), CLIP)\n",
        "\n",
        "        optimizer.step()\n",
        "\n",
        "        training_epoch_loss += loss.item()\n",
        "\n",
        "\n",
        "    training_epoch_loss = training_epoch_loss / len(train_itersn)\n",
        "    training_epoch_accuracy = training_epoch_accuracy / len(train_itersn)\n",
        "\n",
        "\n",
        "    #EVALUATION MODE\n",
        "    model_bkl.eval()\n",
        "\n",
        "    with torch.no_grad():\n",
        "\n",
        "        for _, (source, target) in enumerate(valid_itersn):\n",
        "            source, target = source.to(device), target.to(device)\n",
        "\n",
        "            output = model_bkl(source, target, 0) #turn off teacher forcing\n",
        "\n",
        "            output = output[1:].view(-1, output.shape[-1])\n",
        "            target = target.permute(1,0)\n",
        "            target = torch.reshape(target[1:], (-1,))\n",
        "\n",
        "            loss = criterion(output, target)\n",
        "\n",
        "            validation_epoch_loss += loss.item()\n",
        "            # calculate accuracy\n",
        "            preds = torch.argmax(output, dim=1)\n",
        "            non_pad_elements = (target != 0).nonzero(as_tuple=True)[0]\n",
        "            val_correct = preds[non_pad_elements] == target[non_pad_elements]\n",
        "            validation_epoch_accuracy += val_correct.sum().item() / len(non_pad_elements)\n",
        "\n",
        "    validation_epoch_loss = validation_epoch_loss / len(valid_itersn)\n",
        "    validation_epoch_accuracy = validation_epoch_accuracy / len(valid_itersn)\n",
        "\n",
        "    print(f'Epoch: {epoch+1:02} |Train Loss: {training_epoch_loss:.3f} | Train accuracy: {training_epoch_accuracy:.3f}|Val. Loss: {validation_epoch_loss:.3f} | Val accuracy: {validation_epoch_accuracy:.3f}')\n",
        "    wandb.log({\"train_loss\":training_epoch_loss,\"train_accuracy\": training_epoch_accuracy,\"val_loss\":validation_epoch_loss,\"val_accuracy\":validation_epoch_accuracy},)\n",
        "    #emptying the cache after one complete run\n",
        "    if epoch==num_epoch-1:\n",
        "            torch.cuda.empty_cache()\n",
        "\n",
        "\n",
        "#RUNNING THE SWEEP\n",
        "wandb.agent(sweep_id, function=sweep_train, count=40)\n"
      ],
      "metadata": {
        "colab": {
          "base_uri": "https://localhost:8080/",
          "height": 1000,
          "referenced_widgets": [
            "42e98cd35ba948ac83ec4704629a1364",
            "5b8ddb0404d147589ab84d8fc62164bb",
            "dc9dbf6cf2c04cc8a9bb732bbccac4da",
            "d60af0e0dab84cf293a04381ffd9be96",
            "cabef52565624088afde7e79b25b94ea",
            "b33b26e9b45946419c2055dd9c41a8d0",
            "d0073174190a4763b1c04f5fe55c5588",
            "b51dcbaf7e0747178ee2ba006c4c4dbb",
            "37e31409c9d54a06bd167a64b793014a",
            "9a71d32498da46ef828a7b6def95826e",
            "d50d2223b2c64b1599d8cc189a83db2c",
            "df54b92b41064834a90fcde5aad2a97d",
            "471862f9a956465497be2ab20d381353",
            "021d893deebf47cb9321c3acab99c8a4",
            "8c42e9d206a54970ba64f0f131126a8b",
            "5f9c7e3ead904b81a6916f82b061a13d",
            "8675d203ff5445058f154679815ed837",
            "a649b7cb1df94e2d809c9eb6c8e45a83",
            "f29a337390ba41da80fa8b6e47858ccb",
            "c46bda9205df492580644893a489cb65",
            "4837dbf471f04fe392181814e8b9bbec",
            "589a248059cb434fa2ab97ee32d5717b",
            "fe29f03d94034b9c8ae2bc9445465069",
            "53807a5035884efaaef0e2fdea7ab0ea",
            "1d8a983107a74b1697a78bda0113d278",
            "e0a74953121b47bdaeb02b8a8434182b",
            "de5e331e7052458497e8ff56ee3cbd0c",
            "77da06a93b2648e9ad8fccbce365d8aa",
            "7d51eb66329943fa98fe3bb88637a720",
            "ecd8103fba684b6ab0a02c4468f23d0b",
            "f545eb95372f4bc8b8d27d4e39df392f",
            "72fc6249ec364c34a8c49b5ef2123b43",
            "e7edc553c6714aefaf3bb6b2b8d7c734",
            "382dce0294f646b9981873eee2359b2a",
            "5bd459fdc12c4a698630fcb042feda63",
            "6f069368fc444321879945ccc264e51f",
            "1baa120b7b7441c68a69878276b563fe",
            "dc6821d8716b45c7be82c55231af7379",
            "0a48051d4c1b42ecbf1fb7c9dcc02228",
            "ad680785c148434d815fccfe36aeed9c",
            "a0776109d33d4dcc9541245bfe24f76a",
            "05185040baf64ae197a408156892b70c",
            "c1fe70d7464d4292a8d73b61f7db7c1b",
            "6c27b5c41f3144348a946835f0757ebf",
            "49b96e9dea354558aae6d867048989b5",
            "a8c7b9705a0b4b0e8e8ccd818b5cf63b",
            "513130ecfbf04b87a47952aba22bb218",
            "df023f8f56db412881a6ca27469b7290",
            "dced7e1c49644d0b8995e53c68a28792",
            "d29c128c1ad046078117308325a4d443",
            "84b4ce42e2d14cbf8536dc6271be3a0e",
            "5862781800f64aaeae3943daa2777be7",
            "7264ff1af86f4470b5e17ca6721a586e",
            "92c3ec44b3724d64b81a45ea15ff9440",
            "53233d07ea564bd3bd48628bb208174a",
            "e41b9c1af92f4f09a3644e7e2bc911b1",
            "a7a1e6b550a0457ab618097024597eca",
            "a2ef5d03b0b0456b89705c5bb05b67eb",
            "b1a3d1ff53344e218f17d43d55103d32",
            "0c1f188b1bd047bcb70dacd9e2b562bc",
            "d43adecf972849cda6460677b112c0b8",
            "5411336b35c24240a34ff7c12fd95abc",
            "8617d0739a2d4824bf6a604825e53d94",
            "a315af61a6894225a93d6bc6f5e17a87",
            "2566ce5e46a84c17868e17cac0e6c104",
            "3ff4eb7e576b4f9abc58fb3030731e98",
            "7294b1aff9df4b459fd5733ec0613f56",
            "fe9ea93fbbc64fa79e9b69fe43b1942f",
            "d7f3154fbab44efebcb1693e97091fde",
            "91636d6a17e14cc0911ed47e80146685",
            "50c486923d9c4e5a92879fd6357fcd0f",
            "be197b262ce545bd9941cf6212327b73",
            "42641a415b2041eab3afb4cfeafa6ced",
            "a2a17042f6db4b029a34c7cd1e9bb431",
            "7e16f0b15305472cb2133a1b989f2a54",
            "d317ca485e5d4ec89b3c8f9783c8e255",
            "cf06c1d93b56457a8e1354ef770978ba",
            "28444d776d6747f48ab3d34644ff88ff",
            "32a224e6b49141ebbdd5e6001e466cff",
            "00a33404015246bcb3937a011e5a3c4e",
            "7592b2424ce843f3a18f5617163b39e3",
            "ec61c2ed932b40619057259b7d7a8868",
            "f90f44df615f4a29bef23e3842685bb6",
            "391f743d87f14dadb6f7d257dca006e8",
            "40670cdb101442049bb472687d3ea32c",
            "3a69e55527e6450ba7b6ae657d7eba65",
            "cd22dabc87ed4e58be3ca114bc66230b",
            "6cb3eb7c1f4d4d38b2bc4abac2908136"
          ]
        },
        "id": "8nXjA9Ae7cOB",
        "outputId": "8b1e0dc4-8ba7-452b-9569-7a0fef9c3c1e"
      },
      "execution_count": null,
      "outputs": [
        {
          "output_type": "stream",
          "name": "stdout",
          "text": [
            "Create sweep with ID: t1lheec6\n",
            "Sweep URL: https://wandb.ai/ed23d015/DL_Assignment_3/sweeps/t1lheec6\n"
          ]
        },
        {
          "output_type": "stream",
          "name": "stderr",
          "text": [
            "\u001b[34m\u001b[1mwandb\u001b[0m: Agent Starting Run: 75g9chzu with config:\n",
            "\u001b[34m\u001b[1mwandb\u001b[0m: \tcell_type: lstm\n",
            "\u001b[34m\u001b[1mwandb\u001b[0m: \tdropout: 0\n",
            "\u001b[34m\u001b[1mwandb\u001b[0m: \thidden_layers: 64\n",
            "\u001b[34m\u001b[1mwandb\u001b[0m: \tlayer_size: 3\n",
            "\u001b[34m\u001b[1mwandb\u001b[0m: \tlr: 0.0001\n",
            "\u001b[34m\u001b[1mwandb\u001b[0m: \u001b[33mWARNING\u001b[0m Ignored wandb.init() arg project when running a sweep.\n",
            "\u001b[34m\u001b[1mwandb\u001b[0m: \u001b[33mWARNING\u001b[0m Ignored wandb.init() arg entity when running a sweep.\n"
          ]
        },
        {
          "output_type": "display_data",
          "data": {
            "text/plain": [
              "VBox(children=(Label(value='Waiting for wandb.init()...\\r'), FloatProgress(value=0.01127777777777131, max=1.0)…"
            ],
            "application/vnd.jupyter.widget-view+json": {
              "version_major": 2,
              "version_minor": 0,
              "model_id": "42e98cd35ba948ac83ec4704629a1364"
            }
          },
          "metadata": {}
        },
        {
          "output_type": "display_data",
          "data": {
            "text/plain": [
              "<IPython.core.display.HTML object>"
            ],
            "text/html": [
              "Tracking run with wandb version 0.17.0"
            ]
          },
          "metadata": {}
        },
        {
          "output_type": "display_data",
          "data": {
            "text/plain": [
              "<IPython.core.display.HTML object>"
            ],
            "text/html": [
              "Run data is saved locally in <code>C:\\Users\\aslwo\\wandb\\run-20240516_190614-75g9chzu</code>"
            ]
          },
          "metadata": {}
        },
        {
          "output_type": "display_data",
          "data": {
            "text/plain": [
              "<IPython.core.display.HTML object>"
            ],
            "text/html": [
              "Syncing run <strong><a href='https://wandb.ai/ed23d015/DL_Assignment_3/runs/75g9chzu' target=\"_blank\">colorful-sweep-1</a></strong> to <a href='https://wandb.ai/ed23d015/DL_Assignment_3' target=\"_blank\">Weights & Biases</a> (<a href='https://wandb.me/run' target=\"_blank\">docs</a>)<br/>Sweep page: <a href='https://wandb.ai/ed23d015/DL_Assignment_3/sweeps/t1lheec6' target=\"_blank\">https://wandb.ai/ed23d015/DL_Assignment_3/sweeps/t1lheec6</a>"
            ]
          },
          "metadata": {}
        },
        {
          "output_type": "display_data",
          "data": {
            "text/plain": [
              "<IPython.core.display.HTML object>"
            ],
            "text/html": [
              " View project at <a href='https://wandb.ai/ed23d015/DL_Assignment_3' target=\"_blank\">https://wandb.ai/ed23d015/DL_Assignment_3</a>"
            ]
          },
          "metadata": {}
        },
        {
          "output_type": "display_data",
          "data": {
            "text/plain": [
              "<IPython.core.display.HTML object>"
            ],
            "text/html": [
              " View sweep at <a href='https://wandb.ai/ed23d015/DL_Assignment_3/sweeps/t1lheec6' target=\"_blank\">https://wandb.ai/ed23d015/DL_Assignment_3/sweeps/t1lheec6</a>"
            ]
          },
          "metadata": {}
        },
        {
          "output_type": "display_data",
          "data": {
            "text/plain": [
              "<IPython.core.display.HTML object>"
            ],
            "text/html": [
              " View run at <a href='https://wandb.ai/ed23d015/DL_Assignment_3/runs/75g9chzu' target=\"_blank\">https://wandb.ai/ed23d015/DL_Assignment_3/runs/75g9chzu</a>"
            ]
          },
          "metadata": {}
        },
        {
          "output_type": "stream",
          "name": "stdout",
          "text": [
            "Epoch: 01 |Train Loss: 1.257 | Train accuracy: 0.120|Val. Loss: 0.941 | Val accuracy: 0.164\n",
            "Epoch: 02 |Train Loss: 1.065 | Train accuracy: 0.161|Val. Loss: 0.924 | Val accuracy: 0.157\n",
            "Epoch: 03 |Train Loss: 1.023 | Train accuracy: 0.184|Val. Loss: 0.918 | Val accuracy: 0.168\n",
            "Epoch: 04 |Train Loss: 0.985 | Train accuracy: 0.203|Val. Loss: 0.893 | Val accuracy: 0.187\n",
            "Epoch: 05 |Train Loss: 0.961 | Train accuracy: 0.215|Val. Loss: 0.871 | Val accuracy: 0.194\n",
            "Epoch: 06 |Train Loss: 0.940 | Train accuracy: 0.229|Val. Loss: 0.864 | Val accuracy: 0.203\n",
            "Epoch: 07 |Train Loss: 0.920 | Train accuracy: 0.238|Val. Loss: 0.849 | Val accuracy: 0.211\n",
            "Epoch: 08 |Train Loss: 0.901 | Train accuracy: 0.252|Val. Loss: 0.840 | Val accuracy: 0.231\n",
            "Epoch: 09 |Train Loss: 0.880 | Train accuracy: 0.267|Val. Loss: 0.816 | Val accuracy: 0.236\n",
            "Epoch: 10 |Train Loss: 0.862 | Train accuracy: 0.279|Val. Loss: 0.799 | Val accuracy: 0.245\n"
          ]
        },
        {
          "output_type": "display_data",
          "data": {
            "text/plain": [
              "VBox(children=(Label(value='0.001 MB of 0.001 MB uploaded\\r'), FloatProgress(value=1.0, max=1.0)))"
            ],
            "application/vnd.jupyter.widget-view+json": {
              "version_major": 2,
              "version_minor": 0,
              "model_id": "37e31409c9d54a06bd167a64b793014a"
            }
          },
          "metadata": {}
        },
        {
          "output_type": "display_data",
          "data": {
            "text/plain": [
              "<IPython.core.display.HTML object>"
            ],
            "text/html": [
              "<style>\n",
              "    table.wandb td:nth-child(1) { padding: 0 10px; text-align: left ; width: auto;} td:nth-child(2) {text-align: left ; width: 100%}\n",
              "    .wandb-row { display: flex; flex-direction: row; flex-wrap: wrap; justify-content: flex-start; width: 100% }\n",
              "    .wandb-col { display: flex; flex-direction: column; flex-basis: 100%; flex: 1; padding: 10px; }\n",
              "    </style>\n",
              "<div class=\"wandb-row\"><div class=\"wandb-col\"><h3>Run history:</h3><br/><table class=\"wandb\"><tr><td>train_accuracy</td><td>▁▃▄▅▅▆▆▇▇█</td></tr><tr><td>train_loss</td><td>█▅▄▃▃▂▂▂▁▁</td></tr><tr><td>val_accuracy</td><td>▂▁▂▃▄▅▅▇▇█</td></tr><tr><td>val_loss</td><td>█▇▇▆▅▄▃▃▂▁</td></tr></table><br/></div><div class=\"wandb-col\"><h3>Run summary:</h3><br/><table class=\"wandb\"><tr><td>train_accuracy</td><td>0.27876</td></tr><tr><td>train_loss</td><td>0.8616</td></tr><tr><td>val_accuracy</td><td>0.24463</td></tr><tr><td>val_loss</td><td>0.79947</td></tr></table><br/></div></div>"
            ]
          },
          "metadata": {}
        },
        {
          "output_type": "display_data",
          "data": {
            "text/plain": [
              "<IPython.core.display.HTML object>"
            ],
            "text/html": [
              " View run <strong style=\"color:#cdcd00\">colorful-sweep-1</strong> at: <a href='https://wandb.ai/ed23d015/DL_Assignment_3/runs/75g9chzu' target=\"_blank\">https://wandb.ai/ed23d015/DL_Assignment_3/runs/75g9chzu</a><br/> View project at: <a href='https://wandb.ai/ed23d015/DL_Assignment_3' target=\"_blank\">https://wandb.ai/ed23d015/DL_Assignment_3</a><br/>Synced 6 W&B file(s), 0 media file(s), 0 artifact file(s) and 0 other file(s)"
            ]
          },
          "metadata": {}
        },
        {
          "output_type": "display_data",
          "data": {
            "text/plain": [
              "<IPython.core.display.HTML object>"
            ],
            "text/html": [
              "Find logs at: <code>.\\wandb\\run-20240516_190614-75g9chzu\\logs</code>"
            ]
          },
          "metadata": {}
        },
        {
          "output_type": "stream",
          "name": "stderr",
          "text": [
            "\u001b[34m\u001b[1mwandb\u001b[0m: Sweep Agent: Waiting for job.\n",
            "\u001b[34m\u001b[1mwandb\u001b[0m: Job received.\n",
            "\u001b[34m\u001b[1mwandb\u001b[0m: Agent Starting Run: bj54812s with config:\n",
            "\u001b[34m\u001b[1mwandb\u001b[0m: \tcell_type: rnn\n",
            "\u001b[34m\u001b[1mwandb\u001b[0m: \tdropout: 0\n",
            "\u001b[34m\u001b[1mwandb\u001b[0m: \thidden_layers: 256\n",
            "\u001b[34m\u001b[1mwandb\u001b[0m: \tlayer_size: 1\n",
            "\u001b[34m\u001b[1mwandb\u001b[0m: \tlr: 0.001\n",
            "\u001b[34m\u001b[1mwandb\u001b[0m: \u001b[33mWARNING\u001b[0m Ignored wandb.init() arg project when running a sweep.\n",
            "\u001b[34m\u001b[1mwandb\u001b[0m: \u001b[33mWARNING\u001b[0m Ignored wandb.init() arg entity when running a sweep.\n"
          ]
        },
        {
          "output_type": "display_data",
          "data": {
            "text/plain": [
              "VBox(children=(Label(value='Waiting for wandb.init()...\\r'), FloatProgress(value=0.01127777777777131, max=1.0)…"
            ],
            "application/vnd.jupyter.widget-view+json": {
              "version_major": 2,
              "version_minor": 0,
              "model_id": "8675d203ff5445058f154679815ed837"
            }
          },
          "metadata": {}
        },
        {
          "output_type": "display_data",
          "data": {
            "text/plain": [
              "<IPython.core.display.HTML object>"
            ],
            "text/html": [
              "Tracking run with wandb version 0.17.0"
            ]
          },
          "metadata": {}
        },
        {
          "output_type": "display_data",
          "data": {
            "text/plain": [
              "<IPython.core.display.HTML object>"
            ],
            "text/html": [
              "Run data is saved locally in <code>C:\\Users\\aslwo\\wandb\\run-20240516_193019-bj54812s</code>"
            ]
          },
          "metadata": {}
        },
        {
          "output_type": "display_data",
          "data": {
            "text/plain": [
              "<IPython.core.display.HTML object>"
            ],
            "text/html": [
              "Syncing run <strong><a href='https://wandb.ai/ed23d015/DL_Assignment_3/runs/bj54812s' target=\"_blank\">eager-sweep-2</a></strong> to <a href='https://wandb.ai/ed23d015/DL_Assignment_3' target=\"_blank\">Weights & Biases</a> (<a href='https://wandb.me/run' target=\"_blank\">docs</a>)<br/>Sweep page: <a href='https://wandb.ai/ed23d015/DL_Assignment_3/sweeps/t1lheec6' target=\"_blank\">https://wandb.ai/ed23d015/DL_Assignment_3/sweeps/t1lheec6</a>"
            ]
          },
          "metadata": {}
        },
        {
          "output_type": "display_data",
          "data": {
            "text/plain": [
              "<IPython.core.display.HTML object>"
            ],
            "text/html": [
              " View project at <a href='https://wandb.ai/ed23d015/DL_Assignment_3' target=\"_blank\">https://wandb.ai/ed23d015/DL_Assignment_3</a>"
            ]
          },
          "metadata": {}
        },
        {
          "output_type": "display_data",
          "data": {
            "text/plain": [
              "<IPython.core.display.HTML object>"
            ],
            "text/html": [
              " View sweep at <a href='https://wandb.ai/ed23d015/DL_Assignment_3/sweeps/t1lheec6' target=\"_blank\">https://wandb.ai/ed23d015/DL_Assignment_3/sweeps/t1lheec6</a>"
            ]
          },
          "metadata": {}
        },
        {
          "output_type": "display_data",
          "data": {
            "text/plain": [
              "<IPython.core.display.HTML object>"
            ],
            "text/html": [
              " View run at <a href='https://wandb.ai/ed23d015/DL_Assignment_3/runs/bj54812s' target=\"_blank\">https://wandb.ai/ed23d015/DL_Assignment_3/runs/bj54812s</a>"
            ]
          },
          "metadata": {}
        },
        {
          "output_type": "stream",
          "name": "stdout",
          "text": [
            "Epoch: 01 |Train Loss: 1.088 | Train accuracy: 0.160|Val. Loss: 1.118 | Val accuracy: 0.085\n",
            "Epoch: 02 |Train Loss: 1.060 | Train accuracy: 0.171|Val. Loss: 1.116 | Val accuracy: 0.092\n",
            "Epoch: 03 |Train Loss: 1.053 | Train accuracy: 0.174|Val. Loss: 1.137 | Val accuracy: 0.093\n",
            "Epoch: 04 |Train Loss: 1.050 | Train accuracy: 0.175|Val. Loss: 1.118 | Val accuracy: 0.081\n",
            "Epoch: 05 |Train Loss: 1.050 | Train accuracy: 0.174|Val. Loss: 1.191 | Val accuracy: 0.095\n",
            "Epoch: 06 |Train Loss: 1.048 | Train accuracy: 0.176|Val. Loss: 1.245 | Val accuracy: 0.095\n",
            "Epoch: 07 |Train Loss: 1.046 | Train accuracy: 0.177|Val. Loss: 1.151 | Val accuracy: 0.068\n",
            "Epoch: 08 |Train Loss: 1.046 | Train accuracy: 0.176|Val. Loss: 1.117 | Val accuracy: 0.095\n",
            "Epoch: 09 |Train Loss: 1.045 | Train accuracy: 0.177|Val. Loss: 1.115 | Val accuracy: 0.090\n",
            "Epoch: 10 |Train Loss: 1.043 | Train accuracy: 0.178|Val. Loss: 1.102 | Val accuracy: 0.092\n"
          ]
        },
        {
          "output_type": "display_data",
          "data": {
            "text/plain": [
              "VBox(children=(Label(value='0.001 MB of 0.001 MB uploaded\\r'), FloatProgress(value=1.0, max=1.0)))"
            ],
            "application/vnd.jupyter.widget-view+json": {
              "version_major": 2,
              "version_minor": 0,
              "model_id": "1d8a983107a74b1697a78bda0113d278"
            }
          },
          "metadata": {}
        },
        {
          "output_type": "display_data",
          "data": {
            "text/plain": [
              "<IPython.core.display.HTML object>"
            ],
            "text/html": [
              "<style>\n",
              "    table.wandb td:nth-child(1) { padding: 0 10px; text-align: left ; width: auto;} td:nth-child(2) {text-align: left ; width: 100%}\n",
              "    .wandb-row { display: flex; flex-direction: row; flex-wrap: wrap; justify-content: flex-start; width: 100% }\n",
              "    .wandb-col { display: flex; flex-direction: column; flex-basis: 100%; flex: 1; padding: 10px; }\n",
              "    </style>\n",
              "<div class=\"wandb-row\"><div class=\"wandb-col\"><h3>Run history:</h3><br/><table class=\"wandb\"><tr><td>train_accuracy</td><td>▁▅▆▇▇▇█▇██</td></tr><tr><td>train_loss</td><td>█▄▃▂▂▂▁▁▁▁</td></tr><tr><td>val_accuracy</td><td>▅▇▇▄██▁█▇▇</td></tr><tr><td>val_loss</td><td>▂▂▃▂▅█▃▂▂▁</td></tr></table><br/></div><div class=\"wandb-col\"><h3>Run summary:</h3><br/><table class=\"wandb\"><tr><td>train_accuracy</td><td>0.17804</td></tr><tr><td>train_loss</td><td>1.04334</td></tr><tr><td>val_accuracy</td><td>0.09189</td></tr><tr><td>val_loss</td><td>1.10182</td></tr></table><br/></div></div>"
            ]
          },
          "metadata": {}
        },
        {
          "output_type": "display_data",
          "data": {
            "text/plain": [
              "<IPython.core.display.HTML object>"
            ],
            "text/html": [
              " View run <strong style=\"color:#cdcd00\">eager-sweep-2</strong> at: <a href='https://wandb.ai/ed23d015/DL_Assignment_3/runs/bj54812s' target=\"_blank\">https://wandb.ai/ed23d015/DL_Assignment_3/runs/bj54812s</a><br/> View project at: <a href='https://wandb.ai/ed23d015/DL_Assignment_3' target=\"_blank\">https://wandb.ai/ed23d015/DL_Assignment_3</a><br/>Synced 6 W&B file(s), 0 media file(s), 0 artifact file(s) and 0 other file(s)"
            ]
          },
          "metadata": {}
        },
        {
          "output_type": "display_data",
          "data": {
            "text/plain": [
              "<IPython.core.display.HTML object>"
            ],
            "text/html": [
              "Find logs at: <code>.\\wandb\\run-20240516_193019-bj54812s\\logs</code>"
            ]
          },
          "metadata": {}
        },
        {
          "output_type": "stream",
          "name": "stderr",
          "text": [
            "\u001b[34m\u001b[1mwandb\u001b[0m: Agent Starting Run: 7vuggr5j with config:\n",
            "\u001b[34m\u001b[1mwandb\u001b[0m: \tcell_type: lstm\n",
            "\u001b[34m\u001b[1mwandb\u001b[0m: \tdropout: 0.4\n",
            "\u001b[34m\u001b[1mwandb\u001b[0m: \thidden_layers: 256\n",
            "\u001b[34m\u001b[1mwandb\u001b[0m: \tlayer_size: 2\n",
            "\u001b[34m\u001b[1mwandb\u001b[0m: \tlr: 0.001\n",
            "\u001b[34m\u001b[1mwandb\u001b[0m: \u001b[33mWARNING\u001b[0m Ignored wandb.init() arg project when running a sweep.\n",
            "\u001b[34m\u001b[1mwandb\u001b[0m: \u001b[33mWARNING\u001b[0m Ignored wandb.init() arg entity when running a sweep.\n"
          ]
        },
        {
          "output_type": "display_data",
          "data": {
            "text/plain": [
              "VBox(children=(Label(value='Waiting for wandb.init()...\\r'), FloatProgress(value=0.011288888888884685, max=1.0…"
            ],
            "application/vnd.jupyter.widget-view+json": {
              "version_major": 2,
              "version_minor": 0,
              "model_id": "e7edc553c6714aefaf3bb6b2b8d7c734"
            }
          },
          "metadata": {}
        },
        {
          "output_type": "display_data",
          "data": {
            "text/plain": [
              "<IPython.core.display.HTML object>"
            ],
            "text/html": [
              "Tracking run with wandb version 0.17.0"
            ]
          },
          "metadata": {}
        },
        {
          "output_type": "display_data",
          "data": {
            "text/plain": [
              "<IPython.core.display.HTML object>"
            ],
            "text/html": [
              "Run data is saved locally in <code>C:\\Users\\aslwo\\wandb\\run-20240516_194735-7vuggr5j</code>"
            ]
          },
          "metadata": {}
        },
        {
          "output_type": "display_data",
          "data": {
            "text/plain": [
              "<IPython.core.display.HTML object>"
            ],
            "text/html": [
              "Syncing run <strong><a href='https://wandb.ai/ed23d015/DL_Assignment_3/runs/7vuggr5j' target=\"_blank\">fancy-sweep-3</a></strong> to <a href='https://wandb.ai/ed23d015/DL_Assignment_3' target=\"_blank\">Weights & Biases</a> (<a href='https://wandb.me/run' target=\"_blank\">docs</a>)<br/>Sweep page: <a href='https://wandb.ai/ed23d015/DL_Assignment_3/sweeps/t1lheec6' target=\"_blank\">https://wandb.ai/ed23d015/DL_Assignment_3/sweeps/t1lheec6</a>"
            ]
          },
          "metadata": {}
        },
        {
          "output_type": "display_data",
          "data": {
            "text/plain": [
              "<IPython.core.display.HTML object>"
            ],
            "text/html": [
              " View project at <a href='https://wandb.ai/ed23d015/DL_Assignment_3' target=\"_blank\">https://wandb.ai/ed23d015/DL_Assignment_3</a>"
            ]
          },
          "metadata": {}
        },
        {
          "output_type": "display_data",
          "data": {
            "text/plain": [
              "<IPython.core.display.HTML object>"
            ],
            "text/html": [
              " View sweep at <a href='https://wandb.ai/ed23d015/DL_Assignment_3/sweeps/t1lheec6' target=\"_blank\">https://wandb.ai/ed23d015/DL_Assignment_3/sweeps/t1lheec6</a>"
            ]
          },
          "metadata": {}
        },
        {
          "output_type": "display_data",
          "data": {
            "text/plain": [
              "<IPython.core.display.HTML object>"
            ],
            "text/html": [
              " View run at <a href='https://wandb.ai/ed23d015/DL_Assignment_3/runs/7vuggr5j' target=\"_blank\">https://wandb.ai/ed23d015/DL_Assignment_3/runs/7vuggr5j</a>"
            ]
          },
          "metadata": {}
        },
        {
          "output_type": "stream",
          "name": "stdout",
          "text": [
            "Epoch: 01 |Train Loss: 1.035 | Train accuracy: 0.177|Val. Loss: 0.930 | Val accuracy: 0.132\n",
            "Epoch: 02 |Train Loss: 0.955 | Train accuracy: 0.215|Val. Loss: 0.852 | Val accuracy: 0.196\n",
            "Epoch: 03 |Train Loss: 0.817 | Train accuracy: 0.316|Val. Loss: 0.676 | Val accuracy: 0.370\n",
            "Epoch: 04 |Train Loss: 0.616 | Train accuracy: 0.476|Val. Loss: 0.537 | Val accuracy: 0.506\n",
            "Epoch: 05 |Train Loss: 0.480 | Train accuracy: 0.581|Val. Loss: 0.463 | Val accuracy: 0.569\n",
            "Epoch: 06 |Train Loss: 0.405 | Train accuracy: 0.640|Val. Loss: 0.420 | Val accuracy: 0.606\n",
            "Epoch: 07 |Train Loss: 0.358 | Train accuracy: 0.678|Val. Loss: 0.422 | Val accuracy: 0.621\n",
            "Epoch: 08 |Train Loss: 0.328 | Train accuracy: 0.704|Val. Loss: 0.399 | Val accuracy: 0.642\n",
            "Epoch: 09 |Train Loss: 0.307 | Train accuracy: 0.722|Val. Loss: 0.387 | Val accuracy: 0.650\n",
            "Epoch: 10 |Train Loss: 0.291 | Train accuracy: 0.736|Val. Loss: 0.393 | Val accuracy: 0.655\n"
          ]
        },
        {
          "output_type": "display_data",
          "data": {
            "text/plain": [
              "VBox(children=(Label(value='0.001 MB of 0.001 MB uploaded\\r'), FloatProgress(value=1.0, max=1.0)))"
            ],
            "application/vnd.jupyter.widget-view+json": {
              "version_major": 2,
              "version_minor": 0,
              "model_id": "a0776109d33d4dcc9541245bfe24f76a"
            }
          },
          "metadata": {}
        },
        {
          "output_type": "display_data",
          "data": {
            "text/plain": [
              "<IPython.core.display.HTML object>"
            ],
            "text/html": [
              "<style>\n",
              "    table.wandb td:nth-child(1) { padding: 0 10px; text-align: left ; width: auto;} td:nth-child(2) {text-align: left ; width: 100%}\n",
              "    .wandb-row { display: flex; flex-direction: row; flex-wrap: wrap; justify-content: flex-start; width: 100% }\n",
              "    .wandb-col { display: flex; flex-direction: column; flex-basis: 100%; flex: 1; padding: 10px; }\n",
              "    </style>\n",
              "<div class=\"wandb-row\"><div class=\"wandb-col\"><h3>Run history:</h3><br/><table class=\"wandb\"><tr><td>train_accuracy</td><td>▁▁▃▅▆▇▇███</td></tr><tr><td>train_loss</td><td>█▇▆▄▃▂▂▁▁▁</td></tr><tr><td>val_accuracy</td><td>▁▂▄▆▇▇████</td></tr><tr><td>val_loss</td><td>█▇▅▃▂▁▁▁▁▁</td></tr></table><br/></div><div class=\"wandb-col\"><h3>Run summary:</h3><br/><table class=\"wandb\"><tr><td>train_accuracy</td><td>0.73599</td></tr><tr><td>train_loss</td><td>0.29051</td></tr><tr><td>val_accuracy</td><td>0.65528</td></tr><tr><td>val_loss</td><td>0.39258</td></tr></table><br/></div></div>"
            ]
          },
          "metadata": {}
        },
        {
          "output_type": "display_data",
          "data": {
            "text/plain": [
              "<IPython.core.display.HTML object>"
            ],
            "text/html": [
              " View run <strong style=\"color:#cdcd00\">fancy-sweep-3</strong> at: <a href='https://wandb.ai/ed23d015/DL_Assignment_3/runs/7vuggr5j' target=\"_blank\">https://wandb.ai/ed23d015/DL_Assignment_3/runs/7vuggr5j</a><br/> View project at: <a href='https://wandb.ai/ed23d015/DL_Assignment_3' target=\"_blank\">https://wandb.ai/ed23d015/DL_Assignment_3</a><br/>Synced 6 W&B file(s), 0 media file(s), 0 artifact file(s) and 0 other file(s)"
            ]
          },
          "metadata": {}
        },
        {
          "output_type": "display_data",
          "data": {
            "text/plain": [
              "<IPython.core.display.HTML object>"
            ],
            "text/html": [
              "Find logs at: <code>.\\wandb\\run-20240516_194735-7vuggr5j\\logs</code>"
            ]
          },
          "metadata": {}
        },
        {
          "output_type": "stream",
          "name": "stderr",
          "text": [
            "\u001b[34m\u001b[1mwandb\u001b[0m: Agent Starting Run: 5cgint2d with config:\n",
            "\u001b[34m\u001b[1mwandb\u001b[0m: \tcell_type: rnn\n",
            "\u001b[34m\u001b[1mwandb\u001b[0m: \tdropout: 0.2\n",
            "\u001b[34m\u001b[1mwandb\u001b[0m: \thidden_layers: 64\n",
            "\u001b[34m\u001b[1mwandb\u001b[0m: \tlayer_size: 2\n",
            "\u001b[34m\u001b[1mwandb\u001b[0m: \tlr: 0.0001\n",
            "\u001b[34m\u001b[1mwandb\u001b[0m: \u001b[33mWARNING\u001b[0m Ignored wandb.init() arg project when running a sweep.\n",
            "\u001b[34m\u001b[1mwandb\u001b[0m: \u001b[33mWARNING\u001b[0m Ignored wandb.init() arg entity when running a sweep.\n"
          ]
        },
        {
          "output_type": "display_data",
          "data": {
            "text/plain": [
              "VBox(children=(Label(value='Waiting for wandb.init()...\\r'), FloatProgress(value=0.011111111111111112, max=1.0…"
            ],
            "application/vnd.jupyter.widget-view+json": {
              "version_major": 2,
              "version_minor": 0,
              "model_id": "dced7e1c49644d0b8995e53c68a28792"
            }
          },
          "metadata": {}
        },
        {
          "output_type": "display_data",
          "data": {
            "text/plain": [
              "<IPython.core.display.HTML object>"
            ],
            "text/html": [
              "Tracking run with wandb version 0.17.0"
            ]
          },
          "metadata": {}
        },
        {
          "output_type": "display_data",
          "data": {
            "text/plain": [
              "<IPython.core.display.HTML object>"
            ],
            "text/html": [
              "Run data is saved locally in <code>C:\\Users\\aslwo\\wandb\\run-20240516_201321-5cgint2d</code>"
            ]
          },
          "metadata": {}
        },
        {
          "output_type": "display_data",
          "data": {
            "text/plain": [
              "<IPython.core.display.HTML object>"
            ],
            "text/html": [
              "Syncing run <strong><a href='https://wandb.ai/ed23d015/DL_Assignment_3/runs/5cgint2d' target=\"_blank\">balmy-sweep-4</a></strong> to <a href='https://wandb.ai/ed23d015/DL_Assignment_3' target=\"_blank\">Weights & Biases</a> (<a href='https://wandb.me/run' target=\"_blank\">docs</a>)<br/>Sweep page: <a href='https://wandb.ai/ed23d015/DL_Assignment_3/sweeps/t1lheec6' target=\"_blank\">https://wandb.ai/ed23d015/DL_Assignment_3/sweeps/t1lheec6</a>"
            ]
          },
          "metadata": {}
        },
        {
          "output_type": "display_data",
          "data": {
            "text/plain": [
              "<IPython.core.display.HTML object>"
            ],
            "text/html": [
              " View project at <a href='https://wandb.ai/ed23d015/DL_Assignment_3' target=\"_blank\">https://wandb.ai/ed23d015/DL_Assignment_3</a>"
            ]
          },
          "metadata": {}
        },
        {
          "output_type": "display_data",
          "data": {
            "text/plain": [
              "<IPython.core.display.HTML object>"
            ],
            "text/html": [
              " View sweep at <a href='https://wandb.ai/ed23d015/DL_Assignment_3/sweeps/t1lheec6' target=\"_blank\">https://wandb.ai/ed23d015/DL_Assignment_3/sweeps/t1lheec6</a>"
            ]
          },
          "metadata": {}
        },
        {
          "output_type": "display_data",
          "data": {
            "text/plain": [
              "<IPython.core.display.HTML object>"
            ],
            "text/html": [
              " View run at <a href='https://wandb.ai/ed23d015/DL_Assignment_3/runs/5cgint2d' target=\"_blank\">https://wandb.ai/ed23d015/DL_Assignment_3/runs/5cgint2d</a>"
            ]
          },
          "metadata": {}
        },
        {
          "output_type": "stream",
          "name": "stdout",
          "text": [
            "Epoch: 01 |Train Loss: 1.261 | Train accuracy: 0.119|Val. Loss: 1.090 | Val accuracy: 0.091\n",
            "Epoch: 02 |Train Loss: 1.100 | Train accuracy: 0.151|Val. Loss: 1.106 | Val accuracy: 0.100\n",
            "Epoch: 03 |Train Loss: 1.088 | Train accuracy: 0.156|Val. Loss: 1.101 | Val accuracy: 0.100\n",
            "Epoch: 04 |Train Loss: 1.081 | Train accuracy: 0.160|Val. Loss: 1.099 | Val accuracy: 0.100\n",
            "Epoch: 05 |Train Loss: 1.073 | Train accuracy: 0.163|Val. Loss: 1.097 | Val accuracy: 0.100\n",
            "Epoch: 06 |Train Loss: 1.071 | Train accuracy: 0.164|Val. Loss: 1.096 | Val accuracy: 0.100\n",
            "Epoch: 07 |Train Loss: 1.067 | Train accuracy: 0.165|Val. Loss: 1.100 | Val accuracy: 0.100\n",
            "Epoch: 08 |Train Loss: 1.064 | Train accuracy: 0.167|Val. Loss: 1.103 | Val accuracy: 0.100\n",
            "Epoch: 09 |Train Loss: 1.063 | Train accuracy: 0.168|Val. Loss: 1.095 | Val accuracy: 0.100\n",
            "Epoch: 10 |Train Loss: 1.063 | Train accuracy: 0.167|Val. Loss: 1.091 | Val accuracy: 0.100\n"
          ]
        },
        {
          "output_type": "display_data",
          "data": {
            "text/plain": [
              "VBox(children=(Label(value='0.001 MB of 0.001 MB uploaded\\r'), FloatProgress(value=1.0, max=1.0)))"
            ],
            "application/vnd.jupyter.widget-view+json": {
              "version_major": 2,
              "version_minor": 0,
              "model_id": "a7a1e6b550a0457ab618097024597eca"
            }
          },
          "metadata": {}
        },
        {
          "output_type": "display_data",
          "data": {
            "text/plain": [
              "<IPython.core.display.HTML object>"
            ],
            "text/html": [
              "<style>\n",
              "    table.wandb td:nth-child(1) { padding: 0 10px; text-align: left ; width: auto;} td:nth-child(2) {text-align: left ; width: 100%}\n",
              "    .wandb-row { display: flex; flex-direction: row; flex-wrap: wrap; justify-content: flex-start; width: 100% }\n",
              "    .wandb-col { display: flex; flex-direction: column; flex-basis: 100%; flex: 1; padding: 10px; }\n",
              "    </style>\n",
              "<div class=\"wandb-row\"><div class=\"wandb-col\"><h3>Run history:</h3><br/><table class=\"wandb\"><tr><td>train_accuracy</td><td>▁▆▆▇▇▇████</td></tr><tr><td>train_loss</td><td>█▂▂▂▁▁▁▁▁▁</td></tr><tr><td>val_accuracy</td><td>▁█████████</td></tr><tr><td>val_loss</td><td>▁█▆▅▄▃▅▆▃▂</td></tr></table><br/></div><div class=\"wandb-col\"><h3>Run summary:</h3><br/><table class=\"wandb\"><tr><td>train_accuracy</td><td>0.16661</td></tr><tr><td>train_loss</td><td>1.06335</td></tr><tr><td>val_accuracy</td><td>0.09955</td></tr><tr><td>val_loss</td><td>1.09147</td></tr></table><br/></div></div>"
            ]
          },
          "metadata": {}
        },
        {
          "output_type": "display_data",
          "data": {
            "text/plain": [
              "<IPython.core.display.HTML object>"
            ],
            "text/html": [
              " View run <strong style=\"color:#cdcd00\">balmy-sweep-4</strong> at: <a href='https://wandb.ai/ed23d015/DL_Assignment_3/runs/5cgint2d' target=\"_blank\">https://wandb.ai/ed23d015/DL_Assignment_3/runs/5cgint2d</a><br/> View project at: <a href='https://wandb.ai/ed23d015/DL_Assignment_3' target=\"_blank\">https://wandb.ai/ed23d015/DL_Assignment_3</a><br/>Synced 6 W&B file(s), 0 media file(s), 0 artifact file(s) and 0 other file(s)"
            ]
          },
          "metadata": {}
        },
        {
          "output_type": "display_data",
          "data": {
            "text/plain": [
              "<IPython.core.display.HTML object>"
            ],
            "text/html": [
              "Find logs at: <code>.\\wandb\\run-20240516_201321-5cgint2d\\logs</code>"
            ]
          },
          "metadata": {}
        },
        {
          "output_type": "stream",
          "name": "stderr",
          "text": [
            "\u001b[34m\u001b[1mwandb\u001b[0m: Agent Starting Run: d9y6jco5 with config:\n",
            "\u001b[34m\u001b[1mwandb\u001b[0m: \tcell_type: gru\n",
            "\u001b[34m\u001b[1mwandb\u001b[0m: \tdropout: 0.4\n",
            "\u001b[34m\u001b[1mwandb\u001b[0m: \thidden_layers: 256\n",
            "\u001b[34m\u001b[1mwandb\u001b[0m: \tlayer_size: 2\n",
            "\u001b[34m\u001b[1mwandb\u001b[0m: \tlr: 0.0001\n",
            "\u001b[34m\u001b[1mwandb\u001b[0m: \u001b[33mWARNING\u001b[0m Ignored wandb.init() arg project when running a sweep.\n",
            "\u001b[34m\u001b[1mwandb\u001b[0m: \u001b[33mWARNING\u001b[0m Ignored wandb.init() arg entity when running a sweep.\n"
          ]
        },
        {
          "output_type": "display_data",
          "data": {
            "text/plain": [
              "VBox(children=(Label(value='Waiting for wandb.init()...\\r'), FloatProgress(value=0.011111111111111112, max=1.0…"
            ],
            "application/vnd.jupyter.widget-view+json": {
              "version_major": 2,
              "version_minor": 0,
              "model_id": "2566ce5e46a84c17868e17cac0e6c104"
            }
          },
          "metadata": {}
        },
        {
          "output_type": "display_data",
          "data": {
            "text/plain": [
              "<IPython.core.display.HTML object>"
            ],
            "text/html": [
              "Tracking run with wandb version 0.17.0"
            ]
          },
          "metadata": {}
        },
        {
          "output_type": "display_data",
          "data": {
            "text/plain": [
              "<IPython.core.display.HTML object>"
            ],
            "text/html": [
              "Run data is saved locally in <code>C:\\Users\\aslwo\\wandb\\run-20240516_203448-d9y6jco5</code>"
            ]
          },
          "metadata": {}
        },
        {
          "output_type": "display_data",
          "data": {
            "text/plain": [
              "<IPython.core.display.HTML object>"
            ],
            "text/html": [
              "Syncing run <strong><a href='https://wandb.ai/ed23d015/DL_Assignment_3/runs/d9y6jco5' target=\"_blank\">fresh-sweep-5</a></strong> to <a href='https://wandb.ai/ed23d015/DL_Assignment_3' target=\"_blank\">Weights & Biases</a> (<a href='https://wandb.me/run' target=\"_blank\">docs</a>)<br/>Sweep page: <a href='https://wandb.ai/ed23d015/DL_Assignment_3/sweeps/t1lheec6' target=\"_blank\">https://wandb.ai/ed23d015/DL_Assignment_3/sweeps/t1lheec6</a>"
            ]
          },
          "metadata": {}
        },
        {
          "output_type": "display_data",
          "data": {
            "text/plain": [
              "<IPython.core.display.HTML object>"
            ],
            "text/html": [
              " View project at <a href='https://wandb.ai/ed23d015/DL_Assignment_3' target=\"_blank\">https://wandb.ai/ed23d015/DL_Assignment_3</a>"
            ]
          },
          "metadata": {}
        },
        {
          "output_type": "display_data",
          "data": {
            "text/plain": [
              "<IPython.core.display.HTML object>"
            ],
            "text/html": [
              " View sweep at <a href='https://wandb.ai/ed23d015/DL_Assignment_3/sweeps/t1lheec6' target=\"_blank\">https://wandb.ai/ed23d015/DL_Assignment_3/sweeps/t1lheec6</a>"
            ]
          },
          "metadata": {}
        },
        {
          "output_type": "display_data",
          "data": {
            "text/plain": [
              "<IPython.core.display.HTML object>"
            ],
            "text/html": [
              " View run at <a href='https://wandb.ai/ed23d015/DL_Assignment_3/runs/d9y6jco5' target=\"_blank\">https://wandb.ai/ed23d015/DL_Assignment_3/runs/d9y6jco5</a>"
            ]
          },
          "metadata": {}
        },
        {
          "output_type": "stream",
          "name": "stdout",
          "text": [
            "Epoch: 01 |Train Loss: 1.095 | Train accuracy: 0.161|Val. Loss: 0.884 | Val accuracy: 0.175\n",
            "Epoch: 02 |Train Loss: 0.923 | Train accuracy: 0.244|Val. Loss: 0.788 | Val accuracy: 0.256\n",
            "Epoch: 03 |Train Loss: 0.809 | Train accuracy: 0.319|Val. Loss: 0.686 | Val accuracy: 0.323\n",
            "Epoch: 04 |Train Loss: 0.710 | Train accuracy: 0.388|Val. Loss: 0.612 | Val accuracy: 0.388\n",
            "Epoch: 05 |Train Loss: 0.626 | Train accuracy: 0.451|Val. Loss: 0.556 | Val accuracy: 0.450\n",
            "Epoch: 06 |Train Loss: 0.566 | Train accuracy: 0.497|Val. Loss: 0.518 | Val accuracy: 0.495\n",
            "Epoch: 07 |Train Loss: 0.521 | Train accuracy: 0.533|Val. Loss: 0.493 | Val accuracy: 0.520\n",
            "Epoch: 08 |Train Loss: 0.485 | Train accuracy: 0.563|Val. Loss: 0.469 | Val accuracy: 0.539\n",
            "Epoch: 09 |Train Loss: 0.453 | Train accuracy: 0.589|Val. Loss: 0.451 | Val accuracy: 0.559\n",
            "Epoch: 10 |Train Loss: 0.428 | Train accuracy: 0.611|Val. Loss: 0.438 | Val accuracy: 0.572\n"
          ]
        },
        {
          "output_type": "display_data",
          "data": {
            "text/plain": [
              "VBox(children=(Label(value='0.001 MB of 0.001 MB uploaded\\r'), FloatProgress(value=1.0, max=1.0)))"
            ],
            "application/vnd.jupyter.widget-view+json": {
              "version_major": 2,
              "version_minor": 0,
              "model_id": "42641a415b2041eab3afb4cfeafa6ced"
            }
          },
          "metadata": {}
        },
        {
          "output_type": "display_data",
          "data": {
            "text/plain": [
              "<IPython.core.display.HTML object>"
            ],
            "text/html": [
              "<style>\n",
              "    table.wandb td:nth-child(1) { padding: 0 10px; text-align: left ; width: auto;} td:nth-child(2) {text-align: left ; width: 100%}\n",
              "    .wandb-row { display: flex; flex-direction: row; flex-wrap: wrap; justify-content: flex-start; width: 100% }\n",
              "    .wandb-col { display: flex; flex-direction: column; flex-basis: 100%; flex: 1; padding: 10px; }\n",
              "    </style>\n",
              "<div class=\"wandb-row\"><div class=\"wandb-col\"><h3>Run history:</h3><br/><table class=\"wandb\"><tr><td>train_accuracy</td><td>▁▂▃▅▆▆▇▇██</td></tr><tr><td>train_loss</td><td>█▆▅▄▃▂▂▂▁▁</td></tr><tr><td>val_accuracy</td><td>▁▂▄▅▆▇▇▇██</td></tr><tr><td>val_loss</td><td>█▆▅▄▃▂▂▁▁▁</td></tr></table><br/></div><div class=\"wandb-col\"><h3>Run summary:</h3><br/><table class=\"wandb\"><tr><td>train_accuracy</td><td>0.61105</td></tr><tr><td>train_loss</td><td>0.42799</td></tr><tr><td>val_accuracy</td><td>0.5721</td></tr><tr><td>val_loss</td><td>0.43807</td></tr></table><br/></div></div>"
            ]
          },
          "metadata": {}
        },
        {
          "output_type": "display_data",
          "data": {
            "text/plain": [
              "<IPython.core.display.HTML object>"
            ],
            "text/html": [
              " View run <strong style=\"color:#cdcd00\">fresh-sweep-5</strong> at: <a href='https://wandb.ai/ed23d015/DL_Assignment_3/runs/d9y6jco5' target=\"_blank\">https://wandb.ai/ed23d015/DL_Assignment_3/runs/d9y6jco5</a><br/> View project at: <a href='https://wandb.ai/ed23d015/DL_Assignment_3' target=\"_blank\">https://wandb.ai/ed23d015/DL_Assignment_3</a><br/>Synced 6 W&B file(s), 0 media file(s), 0 artifact file(s) and 0 other file(s)"
            ]
          },
          "metadata": {}
        },
        {
          "output_type": "display_data",
          "data": {
            "text/plain": [
              "<IPython.core.display.HTML object>"
            ],
            "text/html": [
              "Find logs at: <code>.\\wandb\\run-20240516_203448-d9y6jco5\\logs</code>"
            ]
          },
          "metadata": {}
        },
        {
          "output_type": "stream",
          "name": "stderr",
          "text": [
            "\u001b[34m\u001b[1mwandb\u001b[0m: Agent Starting Run: taru1vek with config:\n",
            "\u001b[34m\u001b[1mwandb\u001b[0m: \tcell_type: gru\n",
            "\u001b[34m\u001b[1mwandb\u001b[0m: \tdropout: 0.4\n",
            "\u001b[34m\u001b[1mwandb\u001b[0m: \thidden_layers: 256\n",
            "\u001b[34m\u001b[1mwandb\u001b[0m: \tlayer_size: 3\n",
            "\u001b[34m\u001b[1mwandb\u001b[0m: \tlr: 0.0001\n",
            "\u001b[34m\u001b[1mwandb\u001b[0m: \u001b[33mWARNING\u001b[0m Ignored wandb.init() arg project when running a sweep.\n",
            "\u001b[34m\u001b[1mwandb\u001b[0m: \u001b[33mWARNING\u001b[0m Ignored wandb.init() arg entity when running a sweep.\n"
          ]
        },
        {
          "output_type": "display_data",
          "data": {
            "text/plain": [
              "VBox(children=(Label(value='Waiting for wandb.init()...\\r'), FloatProgress(value=0.01127777777777131, max=1.0)…"
            ],
            "application/vnd.jupyter.widget-view+json": {
              "version_major": 2,
              "version_minor": 0,
              "model_id": "7592b2424ce843f3a18f5617163b39e3"
            }
          },
          "metadata": {}
        },
        {
          "output_type": "display_data",
          "data": {
            "text/plain": [
              "<IPython.core.display.HTML object>"
            ],
            "text/html": [
              "Tracking run with wandb version 0.17.0"
            ]
          },
          "metadata": {}
        },
        {
          "output_type": "display_data",
          "data": {
            "text/plain": [
              "<IPython.core.display.HTML object>"
            ],
            "text/html": [
              "Run data is saved locally in <code>C:\\Users\\aslwo\\wandb\\run-20240516_205954-taru1vek</code>"
            ]
          },
          "metadata": {}
        },
        {
          "output_type": "display_data",
          "data": {
            "text/plain": [
              "<IPython.core.display.HTML object>"
            ],
            "text/html": [
              "Syncing run <strong><a href='https://wandb.ai/ed23d015/DL_Assignment_3/runs/taru1vek' target=\"_blank\">misty-sweep-6</a></strong> to <a href='https://wandb.ai/ed23d015/DL_Assignment_3' target=\"_blank\">Weights & Biases</a> (<a href='https://wandb.me/run' target=\"_blank\">docs</a>)<br/>Sweep page: <a href='https://wandb.ai/ed23d015/DL_Assignment_3/sweeps/t1lheec6' target=\"_blank\">https://wandb.ai/ed23d015/DL_Assignment_3/sweeps/t1lheec6</a>"
            ]
          },
          "metadata": {}
        },
        {
          "output_type": "display_data",
          "data": {
            "text/plain": [
              "<IPython.core.display.HTML object>"
            ],
            "text/html": [
              " View project at <a href='https://wandb.ai/ed23d015/DL_Assignment_3' target=\"_blank\">https://wandb.ai/ed23d015/DL_Assignment_3</a>"
            ]
          },
          "metadata": {}
        },
        {
          "output_type": "display_data",
          "data": {
            "text/plain": [
              "<IPython.core.display.HTML object>"
            ],
            "text/html": [
              " View sweep at <a href='https://wandb.ai/ed23d015/DL_Assignment_3/sweeps/t1lheec6' target=\"_blank\">https://wandb.ai/ed23d015/DL_Assignment_3/sweeps/t1lheec6</a>"
            ]
          },
          "metadata": {}
        },
        {
          "output_type": "display_data",
          "data": {
            "text/plain": [
              "<IPython.core.display.HTML object>"
            ],
            "text/html": [
              " View run at <a href='https://wandb.ai/ed23d015/DL_Assignment_3/runs/taru1vek' target=\"_blank\">https://wandb.ai/ed23d015/DL_Assignment_3/runs/taru1vek</a>"
            ]
          },
          "metadata": {}
        },
        {
          "output_type": "stream",
          "name": "stdout",
          "text": [
            "Epoch: 01 |Train Loss: 1.092 | Train accuracy: 0.161|Val. Loss: 0.888 | Val accuracy: 0.175\n"
          ]
        }
      ]
    },
    {
      "cell_type": "markdown",
      "source": [
        "# For comparing word accuracy (Vanilla model)"
      ],
      "metadata": {
        "id": "kqeBSugfahAe"
      }
    },
    {
      "cell_type": "code",
      "source": [
        "\n",
        "import numpy as np\n",
        "import math\n",
        "import time\n",
        "\n",
        "criterion = nn.CrossEntropyLoss()\n",
        "\n",
        "\n",
        "def train(model_bkl: nn.Module, iterator: torch.utils.data.DataLoader, optimizer: optim.Optimizer, criterion: nn.Module, clip: float):\n",
        "\n",
        "    model_bkl.train()\n",
        "\n",
        "    epoch_loss = 0\n",
        "    epoch_acc = 0\n",
        "\n",
        "    for _, (source, target) in enumerate(iterator):\n",
        "        source, target = source.to(device), target.to(device)\n",
        "        optimizer.zero_grad()\n",
        "\n",
        "        output = model_bkl(source, target)\n",
        "        output = output[1:].view(-1, output.shape[-1])\n",
        "        target = target.permute(1,0)\n",
        "        target = torch.reshape(target[1:], (-1,))\n",
        "        loss = criterion(output, target)\n",
        "\n",
        "        # calculate accuracy\n",
        "        preds = torch.argmax(output, dim=1)\n",
        "        non_pad_elements = (target != 0).nonzero(as_tuple=True)[0]\n",
        "        correct = preds[non_pad_elements] == target[non_pad_elements]\n",
        "        epoch_acc += correct.sum().item() / len(non_pad_elements)\n",
        "        loss.backward()\n",
        "\n",
        "        torch.nn.utils.clip_grad_norm_(model_bkl.parameters(), clip)\n",
        "\n",
        "        optimizer.step()\n",
        "\n",
        "        epoch_loss += loss.item()\n",
        "\n",
        "    return epoch_loss / len(iterator), epoch_acc / len(iterator)\n",
        "\n",
        "\n",
        "def evaluate(model_bkl: nn.Module, iterator: torch.utils.data.DataLoader, criterion: nn.Module):\n",
        "\n",
        "    model_bkl.eval()\n",
        "    solulu=[]\n",
        "    epoch_loss = 0\n",
        "    epoch_acc = 0\n",
        "\n",
        "    with torch.no_grad():\n",
        "\n",
        "        for _, (source, target) in enumerate(iterator):\n",
        "            source, target = source.to(device), target.to(device)\n",
        "\n",
        "            output = model_bkl(source, target, 0) #turn off teacher forcing\n",
        "            output = output[1:].view(-1, output.shape[-1])\n",
        "\n",
        "            target = target.permute(1,0)\n",
        "            target = torch.reshape(target[1:], (-1,))\n",
        "\n",
        "            loss = criterion(output, target)\n",
        "\n",
        "            epoch_loss += loss.item()\n",
        "            # calculate accuracy\n",
        "            preds = torch.argmax(output, dim=1)\n",
        "            b=np.zeros((16,27))\n",
        "            for i in range(16):\n",
        "              for j in range (27):\n",
        "                 b[i][j]=preds[16*j+i]\n",
        "\n",
        "            for i in range(16):\n",
        "              solulu.append(reverse_tokenize(b[i]))\n",
        "            non_pad_elements = (target != 0).nonzero(as_tuple=True)[0]\n",
        "            correct = preds[non_pad_elements] == target[non_pad_elements]\n",
        "            epoch_acc += correct.sum().item() / len(non_pad_elements)\n",
        "\n",
        "\n",
        "    return epoch_loss / len(iterator), epoch_acc / len(iterator),solulu\n",
        "\n",
        "\n",
        "def epoch_time(start_time: int,\n",
        "               end_time: int):\n",
        "    elapsed_time = end_time - start_time\n",
        "    elapsed_mins = int(elapsed_time / 60)\n",
        "    elapsed_secs = int(elapsed_time - (elapsed_mins * 60))\n",
        "    return elapsed_mins, elapsed_secs\n",
        "\n",
        "\n",
        "num_epoch = 10\n",
        "CLIP = 1\n",
        "\n",
        "best_validation_loss = float('inf')\n",
        "\n",
        "\n",
        "for epoch in range(num_epoch):\n",
        "    # To calculate the computation time for an epoch\n",
        "    start_time = time.time()\n",
        "\n",
        "    train_loss,train_acc = train(model_bkl, train_itersn, optimizer, criterion, CLIP)\n",
        "    #valid_loss,valid_accuracy,solution_valid = evaluate(model_bkl, test_itersn, criterion)\n",
        "    valid_loss,valid_accuracy,solution_valid = evaluate(model_bkl, valid_itersn, criterion)\n",
        "\n",
        "    end_time = time.time()\n",
        "\n",
        "    epoch_in_mins, epoch_in_secs = epoch_time(start_time, end_time)\n",
        "\n",
        "    print(f'Epoch: {epoch+1:02} | Time: {epoch_in_mins}m {epoch_in_secs}s')\n",
        "    print(f'\\tTrain Loss: {train_loss:.3f} | Train accuracy: {train_acc:.3f}')\n",
        "    print(f'\\t Val. Loss: {valid_loss:.3f} | Val accuracy: {valid_accuracy:.3f}')\n",
        "    print(solution_valid[0])\n",
        "\n",
        "testing_loss,testing_accuracy,solution_test = evaluate(model_bkl, test_itersn, criterion)\n",
        "\n",
        "\n",
        "print(f'| Test Loss: {testing_loss:.3f} | Test accuracy: {testing_accuracy:.3f} |')\n",
        "\n",
        "\n"
      ],
      "metadata": {
        "colab": {
          "base_uri": "https://localhost:8080/"
        },
        "id": "uIzrhc6lLQpb",
        "outputId": "b48b6222-795c-43ca-8c87-3bb686dd8fbd"
      },
      "execution_count": 14,
      "outputs": [
        {
          "output_type": "stream",
          "name": "stdout",
          "text": [
            "Epoch: 01 | Time: 2m 13s\n",
            "\tTrain Loss: 0.917 | Train accuracy: 0.251\n",
            "\t Val. Loss: 0.682 | Val accuracy: 0.335\n",
            "जापारा.\n",
            "Epoch: 02 | Time: 2m 11s\n",
            "\tTrain Loss: 0.656 | Train accuracy: 0.415\n",
            "\t Val. Loss: 0.582 | Val accuracy: 0.418\n",
            "जदसाल.\n",
            "Epoch: 03 | Time: 2m 11s\n",
            "\tTrain Loss: 0.541 | Train accuracy: 0.509\n",
            "\t Val. Loss: 0.512 | Val accuracy: 0.503\n",
            "ज़वालल.\n",
            "Epoch: 04 | Time: 2m 9s\n",
            "\tTrain Loss: 0.444 | Train accuracy: 0.597\n",
            "\t Val. Loss: 0.459 | Val accuracy: 0.557\n",
            "जैसावल.\n",
            "Epoch: 05 | Time: 2m 10s\n",
            "\tTrain Loss: 0.379 | Train accuracy: 0.656\n",
            "\t Val. Loss: 0.428 | Val accuracy: 0.592\n",
            "जैसावल.\n",
            "Epoch: 06 | Time: 2m 10s\n",
            "\tTrain Loss: 0.338 | Train accuracy: 0.692\n",
            "\t Val. Loss: 0.418 | Val accuracy: 0.610\n",
            "जैसावल.\n",
            "Epoch: 07 | Time: 2m 22s\n",
            "\tTrain Loss: 0.309 | Train accuracy: 0.719\n",
            "\t Val. Loss: 0.409 | Val accuracy: 0.626\n",
            "जयसावल.\n",
            "Epoch: 08 | Time: 2m 19s\n",
            "\tTrain Loss: 0.290 | Train accuracy: 0.735\n",
            "\t Val. Loss: 0.408 | Val accuracy: 0.630\n",
            "जैसावल.\n",
            "Epoch: 09 | Time: 2m 14s\n",
            "\tTrain Loss: 0.278 | Train accuracy: 0.746\n",
            "\t Val. Loss: 0.409 | Val accuracy: 0.631\n",
            "जैसावल.\n",
            "Epoch: 10 | Time: 2m 15s\n",
            "\tTrain Loss: 0.264 | Train accuracy: 0.759\n",
            "\t Val. Loss: 0.409 | Val accuracy: 0.639\n",
            "जयसवाल.\n",
            "| Test Loss: 0.468 | Test accuracy: 0.619 |\n"
          ]
        }
      ]
    },
    {
      "cell_type": "markdown",
      "source": [
        "# Wandb implimentation of the best Attention model on Test set"
      ],
      "metadata": {
        "id": "SbMcfauw7V0i"
      }
    },
    {
      "cell_type": "code",
      "source": [
        "sweep_config = {\n",
        "    'method': 'bayes', #grid, random,bayes\n",
        "    'metric': {\n",
        "      'name': 'val_accuracy',\n",
        "      'goal': 'maximize'\n",
        "    },\n",
        "    'parameters': {\n",
        "        'lr': {\n",
        "            'values': [0.001,0.0001]\n",
        "        },\n",
        "        'layer_size': {\n",
        "            'values': [1,2,3,4]\n",
        "        },\n",
        "        'cell_type':{\n",
        "            'values':['rnn','lstm','gru']\n",
        "        },\n",
        "        'dropout':{\n",
        "            'values':[0,0.2,0.4,0.6]\n",
        "        },\n",
        "        'hidden_layers':{\n",
        "            'values':[64,128,256]\n",
        "        },\n",
        "\n",
        "    }\n",
        "}\n",
        "\n",
        "sweep_id = wandb.sweep(sweep_config, entity='ed23d015', project=\"DL_Assignment_3\")\n",
        "\n",
        "def sweep_train():\n",
        "  # Default values for hyper-parameters we're going to sweep over\n",
        "  config_defaults = {\n",
        "      'lr':0.0001,\n",
        "      'layer_size':4,\n",
        "      'cell_type':'lstm',\n",
        "      'dropout':0.4,\n",
        "      'hidden_layers':128,\n",
        "  }\n",
        "\n",
        "  # Initialize a new wandb run\n",
        "  wandb.init(project='DL_Assignment_3', entity='ed23d015',config=config_defaults)\n",
        "  wandb.run.name = 'cell:'+ str(wandb.config.cell_type)+' ;lr:'+str(wandb.config.lr)+ ' ;layer_size:'+str(wandb.config.layer_size)+ ' ;dropout:'+str(wandb.config.dropout)+' ;hidden:'+str(wandb.config.hidden_layers)\n",
        "  config = wandb.config\n",
        "  lr = config.lr\n",
        "  layer_size = config.layer_size\n",
        "  cell_type = config.cell_type\n",
        "  hidden_layers = config.hidden_layers\n",
        "  dropout = config.dropout\n",
        "  # model_bkl training here\n",
        "\n",
        "  input_size_encoder = len(eng_token_map)\n",
        "  output_size=input_size_decoder=len(hin_token_map)\n",
        "\n",
        "  encoder_embedding_size = 29\n",
        "  decoder_embedding_size = 68\n",
        "  encoder_net_bkl = Encoder(input_size_encoder,encoder_embedding_size,hidden_layers,layer_size,cell_type,p=dropout).to(device)\n",
        "  decoder_net_bkl = Decoder(input_size_decoder,decoder_embedding_size,hidden_layers,output_size,layer_size,cell_type,p=dropout).to(device)\n",
        "  model_bkl = Seq2Seq(encoder_net_bkl,decoder_net_bkl ,cell_type).to(device)\n",
        "  criterion = nn.CrossEntropyLoss()\n",
        "  import math\n",
        "  import time\n",
        "\n",
        "  optimizer = optim.Adam(model_bkl.parameters(),lr=lr)\n",
        "  model_bkl.train()\n",
        "\n",
        "  training_epoch_loss = 0\n",
        "  training_epoch_accuracy = 0\n",
        "  validation_epoch_loss = 0\n",
        "  validation_epoch_accuracy = 0\n",
        "\n",
        "  N_EPOCHS = 10\n",
        "  CLIP = 1\n",
        "\n",
        "  for epoch in range(N_EPOCHS):\n",
        "\n",
        "  #TRAINING BLOCK\n",
        "    model_bkl.train()\n",
        "    for _, (source, target) in enumerate(train_itersn):\n",
        "        source, target = source.to(device), target.to(device)\n",
        "\n",
        "        optimizer.zero_grad()\n",
        "\n",
        "        output = model_bkl(source, target)\n",
        "        output = output[1:].view(-1, output.shape[-1])\n",
        "        target = target.permute(1,0)\n",
        "        target = torch.reshape(target[1:], (-1,))\n",
        "        loss = criterion(output, target)\n",
        "\n",
        "        # calculate accuracy\n",
        "        preds = torch.argmax(output, dim=1)\n",
        "        non_pad_elements = (target != 0).nonzero(as_tuple=True)[0]\n",
        "        train_correct = preds[non_pad_elements] == target[non_pad_elements]\n",
        "        training_epoch_accuracy += train_correct.sum().item() / len(non_pad_elements)\n",
        "        loss.backward()\n",
        "\n",
        "        #READ IF WE CAN PASS CLIP AS A HYPERPARAMETER\n",
        "        torch.nn.utils.clip_grad_norm_(model_bkl.parameters(), CLIP)\n",
        "\n",
        "        optimizer.step()\n",
        "\n",
        "        training_epoch_loss += loss.item()\n",
        "\n",
        "\n",
        "    training_epoch_loss = training_epoch_loss / len(train_itersn)\n",
        "    training_epoch_accuracy = training_epoch_accuracy / len(train_itersn)\n",
        "\n",
        "\n",
        "    #EVALUATION MODE\n",
        "    model_bkl.eval()\n",
        "\n",
        "    with torch.no_grad():\n",
        "\n",
        "        for _, (source, target) in enumerate(test_itersn): # Changed valid_itesn to test_itesn for checking on test set\n",
        "            source, target = source.to(device), target.to(device)\n",
        "\n",
        "            output = model_bkl(source, target, 0) # Turn off teacher forcing\n",
        "\n",
        "            output = output[1:].view(-1, output.shape[-1])\n",
        "            target = target.permute(1,0)\n",
        "            target = torch.reshape(target[1:], (-1,))\n",
        "\n",
        "            loss = criterion(output, target)\n",
        "\n",
        "            validation_epoch_loss += loss.item()\n",
        "            # calculate accuracy\n",
        "            preds = torch.argmax(output, dim=1)\n",
        "            non_pad_elements = (target != 0).nonzero(as_tuple=True)[0]\n",
        "            val_correct = preds[non_pad_elements] == target[non_pad_elements]\n",
        "            validation_epoch_accuracy += val_correct.sum().item() / len(non_pad_elements)\n",
        "\n",
        "    validation_epoch_loss = validation_epoch_loss / len(valid_itersn)\n",
        "    validation_epoch_accuracy = validation_epoch_accuracy / len(valid_itersn)\n",
        "\n",
        "    print(f'Epoch: {epoch+1:02} |Train Loss: {training_epoch_loss:.3f} | Train accuracy: {training_epoch_accuracy:.3f}|Val. Loss: {validation_epoch_loss:.3f} | Val accuracy: {validation_epoch_accuracy:.3f}')\n",
        "    wandb.log({\"train_loss\":training_epoch_loss,\"train_accuracy\": training_epoch_accuracy,\"val_loss\":validation_epoch_loss,\"val_accuracy\":validation_epoch_accuracy},)\n",
        "\n",
        "    # Emptying the cache after one complete run\n",
        "    if epoch==N_EPOCHS-1:\n",
        "            torch.cuda.empty_cache()\n",
        "\n",
        "\n",
        "#RUNNING THE SWEEP\n",
        "wandb.agent(sweep_id, function=sweep_train, count=1)\n"
      ],
      "metadata": {
        "id": "7XilzV75Y2XS",
        "colab": {
          "base_uri": "https://localhost:8080/",
          "height": 1000,
          "referenced_widgets": [
            "7cca19ec44104da186671d2b18e990ac",
            "6109c3878b9246d8b9636d1b8a7356b0",
            "851530c21fa8414c9946d7e39fa64d8a",
            "d9900590bde74e47ae05048b229666c7",
            "46d71f4e864043168af6626dd5e31f87",
            "eb184ca1c5594a4385a9042a4246f6fb",
            "d7bead6c61f14b35b95fd0e3577bb7e6",
            "75584978721741da89c389ee70ca4ab5",
            "89c5c6d98c4d4654b3bdc3970495a5a7",
            "3152fab876074c70bbc6b3016c8aad71",
            "8cc4a06769c242db803a1119a9329e32",
            "23156cdf12574c86984164546c53aa01",
            "12ac9b1222d54bfba6a5b99d4f35c688",
            "bcbd6b29ae3f4985a1081f9a145cf520",
            "bea9a3e55a484b5590e98d1167bd2bf3",
            "d8739da318464dd19d5ca8095539328d",
            "8a5beb7141a74afdbfa10d3ad2aa5004",
            "3ac402a29c654d38b2f25c6b7fa7d139",
            "548fbbdd80f2401cab737d0cb3c0bd52",
            "a0b8b9e71a5d4b558c5613c4c9fc9b42",
            "8221078d81a84f198ed9de25e574ce1e",
            "2a8e941fd2bf42098f8940da8eb0483c",
            "5fc00ae98fe14597930361e1c6c95421",
            "2707ddc54dcc446089ee24ad75e9e220"
          ]
        },
        "outputId": "1f5a754a-5bd7-4a33-98a0-edf3645181f5"
      },
      "execution_count": null,
      "outputs": [
        {
          "output_type": "stream",
          "name": "stdout",
          "text": [
            "Create sweep with ID: agff4xc5\n",
            "Sweep URL: https://wandb.ai/ed23d015/DL_Assignment_3/sweeps/agff4xc5\n"
          ]
        },
        {
          "output_type": "stream",
          "name": "stderr",
          "text": [
            "\u001b[34m\u001b[1mwandb\u001b[0m: Agent Starting Run: fhqt7yry with config:\n",
            "\u001b[34m\u001b[1mwandb\u001b[0m: \tcell_type: lstm\n",
            "\u001b[34m\u001b[1mwandb\u001b[0m: \tdropout: 0.6\n",
            "\u001b[34m\u001b[1mwandb\u001b[0m: \thidden_layers: 64\n",
            "\u001b[34m\u001b[1mwandb\u001b[0m: \tlayer_size: 2\n",
            "\u001b[34m\u001b[1mwandb\u001b[0m: \tlr: 0.001\n",
            "\u001b[34m\u001b[1mwandb\u001b[0m: Currently logged in as: \u001b[33med23d015\u001b[0m. Use \u001b[1m`wandb login --relogin`\u001b[0m to force relogin\n",
            "\u001b[34m\u001b[1mwandb\u001b[0m: \u001b[33mWARNING\u001b[0m Ignored wandb.init() arg project when running a sweep.\n",
            "\u001b[34m\u001b[1mwandb\u001b[0m: \u001b[33mWARNING\u001b[0m Ignored wandb.init() arg entity when running a sweep.\n"
          ]
        },
        {
          "output_type": "display_data",
          "data": {
            "text/plain": [
              "VBox(children=(Label(value='Waiting for wandb.init()...\\r'), FloatProgress(value=0.011466666666658258, max=1.0…"
            ],
            "application/vnd.jupyter.widget-view+json": {
              "version_major": 2,
              "version_minor": 0,
              "model_id": "7cca19ec44104da186671d2b18e990ac"
            }
          },
          "metadata": {}
        },
        {
          "output_type": "display_data",
          "data": {
            "text/plain": [
              "<IPython.core.display.HTML object>"
            ],
            "text/html": [
              "Tracking run with wandb version 0.17.0"
            ]
          },
          "metadata": {}
        },
        {
          "output_type": "display_data",
          "data": {
            "text/plain": [
              "<IPython.core.display.HTML object>"
            ],
            "text/html": [
              "Run data is saved locally in <code>C:\\Users\\aslwo\\wandb\\run-20240516_145701-fhqt7yry</code>"
            ]
          },
          "metadata": {}
        },
        {
          "output_type": "display_data",
          "data": {
            "text/plain": [
              "<IPython.core.display.HTML object>"
            ],
            "text/html": [
              "Syncing run <strong><a href='https://wandb.ai/ed23d015/DL_Assignment_3/runs/fhqt7yry' target=\"_blank\">wild-sweep-1</a></strong> to <a href='https://wandb.ai/ed23d015/DL_Assignment_3' target=\"_blank\">Weights & Biases</a> (<a href='https://wandb.me/run' target=\"_blank\">docs</a>)<br/>Sweep page: <a href='https://wandb.ai/ed23d015/DL_Assignment_3/sweeps/agff4xc5' target=\"_blank\">https://wandb.ai/ed23d015/DL_Assignment_3/sweeps/agff4xc5</a>"
            ]
          },
          "metadata": {}
        },
        {
          "output_type": "display_data",
          "data": {
            "text/plain": [
              "<IPython.core.display.HTML object>"
            ],
            "text/html": [
              " View project at <a href='https://wandb.ai/ed23d015/DL_Assignment_3' target=\"_blank\">https://wandb.ai/ed23d015/DL_Assignment_3</a>"
            ]
          },
          "metadata": {}
        },
        {
          "output_type": "display_data",
          "data": {
            "text/plain": [
              "<IPython.core.display.HTML object>"
            ],
            "text/html": [
              " View sweep at <a href='https://wandb.ai/ed23d015/DL_Assignment_3/sweeps/agff4xc5' target=\"_blank\">https://wandb.ai/ed23d015/DL_Assignment_3/sweeps/agff4xc5</a>"
            ]
          },
          "metadata": {}
        },
        {
          "output_type": "display_data",
          "data": {
            "text/plain": [
              "<IPython.core.display.HTML object>"
            ],
            "text/html": [
              " View run at <a href='https://wandb.ai/ed23d015/DL_Assignment_3/runs/fhqt7yry' target=\"_blank\">https://wandb.ai/ed23d015/DL_Assignment_3/runs/fhqt7yry</a>"
            ]
          },
          "metadata": {}
        },
        {
          "output_type": "stream",
          "name": "stdout",
          "text": [
            "Epoch: 01 |Train Loss: 1.090 | Train accuracy: 0.155|Val. Loss: 0.990 | Val accuracy: 0.141\n",
            "Epoch: 02 |Train Loss: 0.979 | Train accuracy: 0.205|Val. Loss: 0.947 | Val accuracy: 0.192\n",
            "Epoch: 03 |Train Loss: 0.921 | Train accuracy: 0.237|Val. Loss: 0.897 | Val accuracy: 0.222\n",
            "Epoch: 04 |Train Loss: 0.871 | Train accuracy: 0.268|Val. Loss: 0.842 | Val accuracy: 0.262\n",
            "Epoch: 05 |Train Loss: 0.820 | Train accuracy: 0.299|Val. Loss: 0.788 | Val accuracy: 0.295\n",
            "Epoch: 06 |Train Loss: 0.781 | Train accuracy: 0.325|Val. Loss: 0.745 | Val accuracy: 0.330\n",
            "Epoch: 07 |Train Loss: 0.743 | Train accuracy: 0.355|Val. Loss: 0.726 | Val accuracy: 0.343\n",
            "Epoch: 08 |Train Loss: 0.714 | Train accuracy: 0.377|Val. Loss: 0.688 | Val accuracy: 0.372\n",
            "Epoch: 09 |Train Loss: 0.692 | Train accuracy: 0.392|Val. Loss: 0.666 | Val accuracy: 0.381\n",
            "Epoch: 10 |Train Loss: 0.671 | Train accuracy: 0.408|Val. Loss: 0.648 | Val accuracy: 0.397\n"
          ]
        },
        {
          "output_type": "display_data",
          "data": {
            "text/plain": [
              "VBox(children=(Label(value='0.001 MB of 0.001 MB uploaded\\r'), FloatProgress(value=1.0, max=1.0)))"
            ],
            "application/vnd.jupyter.widget-view+json": {
              "version_major": 2,
              "version_minor": 0,
              "model_id": "89c5c6d98c4d4654b3bdc3970495a5a7"
            }
          },
          "metadata": {}
        },
        {
          "output_type": "display_data",
          "data": {
            "text/plain": [
              "<IPython.core.display.HTML object>"
            ],
            "text/html": [
              "<style>\n",
              "    table.wandb td:nth-child(1) { padding: 0 10px; text-align: left ; width: auto;} td:nth-child(2) {text-align: left ; width: 100%}\n",
              "    .wandb-row { display: flex; flex-direction: row; flex-wrap: wrap; justify-content: flex-start; width: 100% }\n",
              "    .wandb-col { display: flex; flex-direction: column; flex-basis: 100%; flex: 1; padding: 10px; }\n",
              "    </style>\n",
              "<div class=\"wandb-row\"><div class=\"wandb-col\"><h3>Run history:</h3><br/><table class=\"wandb\"><tr><td>train_accuracy</td><td>▁▂▃▄▅▆▇▇██</td></tr><tr><td>train_loss</td><td>█▆▅▄▃▃▂▂▁▁</td></tr><tr><td>val_accuracy</td><td>▁▂▃▄▅▆▇▇██</td></tr><tr><td>val_loss</td><td>█▇▆▅▄▃▃▂▁▁</td></tr></table><br/></div><div class=\"wandb-col\"><h3>Run summary:</h3><br/><table class=\"wandb\"><tr><td>train_accuracy</td><td>0.40755</td></tr><tr><td>train_loss</td><td>0.67124</td></tr><tr><td>val_accuracy</td><td>0.39739</td></tr><tr><td>val_loss</td><td>0.64792</td></tr></table><br/></div></div>"
            ]
          },
          "metadata": {}
        },
        {
          "output_type": "display_data",
          "data": {
            "text/plain": [
              "<IPython.core.display.HTML object>"
            ],
            "text/html": [
              " View run <strong style=\"color:#cdcd00\">wild-sweep-1</strong> at: <a href='https://wandb.ai/ed23d015/DL_Assignment_3/runs/fhqt7yry' target=\"_blank\">https://wandb.ai/ed23d015/DL_Assignment_3/runs/fhqt7yry</a><br/> View project at: <a href='https://wandb.ai/ed23d015/DL_Assignment_3' target=\"_blank\">https://wandb.ai/ed23d015/DL_Assignment_3</a><br/>Synced 6 W&B file(s), 0 media file(s), 0 artifact file(s) and 0 other file(s)"
            ]
          },
          "metadata": {}
        },
        {
          "output_type": "display_data",
          "data": {
            "text/plain": [
              "<IPython.core.display.HTML object>"
            ],
            "text/html": [
              "Find logs at: <code>.\\wandb\\run-20240516_145701-fhqt7yry\\logs</code>"
            ]
          },
          "metadata": {}
        },
        {
          "output_type": "stream",
          "name": "stderr",
          "text": [
            "\u001b[34m\u001b[1mwandb\u001b[0m: Agent Starting Run: g3k2fbd6 with config:\n",
            "\u001b[34m\u001b[1mwandb\u001b[0m: \tcell_type: rnn\n",
            "\u001b[34m\u001b[1mwandb\u001b[0m: \tdropout: 0.6\n",
            "\u001b[34m\u001b[1mwandb\u001b[0m: \thidden_layers: 128\n",
            "\u001b[34m\u001b[1mwandb\u001b[0m: \tlayer_size: 3\n",
            "\u001b[34m\u001b[1mwandb\u001b[0m: \tlr: 0.0001\n",
            "\u001b[34m\u001b[1mwandb\u001b[0m: \u001b[33mWARNING\u001b[0m Ignored wandb.init() arg project when running a sweep.\n",
            "\u001b[34m\u001b[1mwandb\u001b[0m: \u001b[33mWARNING\u001b[0m Ignored wandb.init() arg entity when running a sweep.\n"
          ]
        },
        {
          "output_type": "display_data",
          "data": {
            "text/plain": [
              "VBox(children=(Label(value='Waiting for wandb.init()...\\r'), FloatProgress(value=0.011111111111111112, max=1.0…"
            ],
            "application/vnd.jupyter.widget-view+json": {
              "version_major": 2,
              "version_minor": 0,
              "model_id": "8a5beb7141a74afdbfa10d3ad2aa5004"
            }
          },
          "metadata": {}
        },
        {
          "output_type": "display_data",
          "data": {
            "text/plain": [
              "<IPython.core.display.HTML object>"
            ],
            "text/html": [
              "Tracking run with wandb version 0.17.0"
            ]
          },
          "metadata": {}
        },
        {
          "output_type": "display_data",
          "data": {
            "text/plain": [
              "<IPython.core.display.HTML object>"
            ],
            "text/html": [
              "Run data is saved locally in <code>C:\\Users\\aslwo\\wandb\\run-20240516_152023-g3k2fbd6</code>"
            ]
          },
          "metadata": {}
        },
        {
          "output_type": "display_data",
          "data": {
            "text/plain": [
              "<IPython.core.display.HTML object>"
            ],
            "text/html": [
              "Syncing run <strong><a href='https://wandb.ai/ed23d015/DL_Assignment_3/runs/g3k2fbd6' target=\"_blank\">classic-sweep-2</a></strong> to <a href='https://wandb.ai/ed23d015/DL_Assignment_3' target=\"_blank\">Weights & Biases</a> (<a href='https://wandb.me/run' target=\"_blank\">docs</a>)<br/>Sweep page: <a href='https://wandb.ai/ed23d015/DL_Assignment_3/sweeps/agff4xc5' target=\"_blank\">https://wandb.ai/ed23d015/DL_Assignment_3/sweeps/agff4xc5</a>"
            ]
          },
          "metadata": {}
        },
        {
          "output_type": "display_data",
          "data": {
            "text/plain": [
              "<IPython.core.display.HTML object>"
            ],
            "text/html": [
              " View project at <a href='https://wandb.ai/ed23d015/DL_Assignment_3' target=\"_blank\">https://wandb.ai/ed23d015/DL_Assignment_3</a>"
            ]
          },
          "metadata": {}
        },
        {
          "output_type": "display_data",
          "data": {
            "text/plain": [
              "<IPython.core.display.HTML object>"
            ],
            "text/html": [
              " View sweep at <a href='https://wandb.ai/ed23d015/DL_Assignment_3/sweeps/agff4xc5' target=\"_blank\">https://wandb.ai/ed23d015/DL_Assignment_3/sweeps/agff4xc5</a>"
            ]
          },
          "metadata": {}
        },
        {
          "output_type": "display_data",
          "data": {
            "text/plain": [
              "<IPython.core.display.HTML object>"
            ],
            "text/html": [
              " View run at <a href='https://wandb.ai/ed23d015/DL_Assignment_3/runs/g3k2fbd6' target=\"_blank\">https://wandb.ai/ed23d015/DL_Assignment_3/runs/g3k2fbd6</a>"
            ]
          },
          "metadata": {}
        },
        {
          "output_type": "stream",
          "name": "stdout",
          "text": [
            "Epoch: 01 |Train Loss: 1.198 | Train accuracy: 0.125|Val. Loss: 1.168 | Val accuracy: 0.102\n",
            "Epoch: 02 |Train Loss: 1.107 | Train accuracy: 0.146|Val. Loss: 1.177 | Val accuracy: 0.100\n",
            "Epoch: 03 |Train Loss: 1.094 | Train accuracy: 0.152|Val. Loss: 1.164 | Val accuracy: 0.100\n"
          ]
        }
      ]
    },
    {
      "cell_type": "markdown",
      "source": [
        "# CSV files and Word level accuracy"
      ],
      "metadata": {
        "id": "u6_EGlcOZHok"
      }
    },
    {
      "cell_type": "code",
      "source": [
        "# Removing end of sentence token\n",
        "solulu_test_att = solution_test_attain\n",
        "solulu_test = solution_test\n",
        "print(solution_test_attain)\n",
        "print(solution_test)\n",
        "print(test_hin)\n",
        "\n",
        "solulu_test_att = [word.replace('.', '') for word in solulu_test_att]\n",
        "solulu_test = [word.replace('.', '') for word in solulu_test]\n",
        "def calculate_accuracy(list1, list2):\n",
        "    total_words = len(list1)\n",
        "    correct_words = 0\n",
        "\n",
        "    for wordH, wordE in zip(list1, list2):\n",
        "        if wordH == wordE:\n",
        "            correct_words += 1\n",
        "\n",
        "    accuracy = correct_words / total_words * 100\n",
        "    return accuracy\n",
        "\n",
        "vanilla_seq2seq_accuracy=calculate_accuracy(test_hin,solulu_test)\n",
        "attention_seq2seq_accuracy=calculate_accuracy(test_hin,solulu_test_att)\n",
        "print('vanilla_seq2seq_Acc.:',vanilla_seq2seq_accuracy)\n",
        "print('attention_seq2seq_Acc.:',attention_seq2seq_accuracy)"
      ],
      "metadata": {
        "id": "PTv4z41cZFno",
        "colab": {
          "base_uri": "https://localhost:8080/"
        },
        "outputId": "0ced3eb7-05a2-42c6-bb98-c06c005d20f2"
      },
      "execution_count": 17,
      "outputs": [
        {
          "output_type": "stream",
          "name": "stdout",
          "text": [
            "['थर<unk>मैक<unk>स.', 'सिखाएगा.', 'लियर<unk>न.', 'ट<unk>विटर<unk>स.', 'तिरुनेलवेली.', 'इंडीपेंडेंस.', 'स<unk>पेशियों.', 'शुरूह.', 'कोल<unk>हापुर.', 'अझर.', 'करार.', 'अंका.', 'वीपीडी.', 'हाशि.', 'ग<unk>लेंडल.', 'अडेड.', 'एक<unk>ठी.', 'आईडीईएईए.', 'अम<unk>बिकापुर.', 'मकेरेये.', 'सबूदाने.', 'फोहड़ता.', 'सिक<unk>टेंट.', 'शूब.', 'पनिहाती.', 'समेतति.', 'उखरुल.', 'ब<unk>राम<unk>लिन.', 'उतराधिकारी.', 'इकबाल.', 'दयालपुरा.', 'सोहराई.', 'तकरीबन.', 'फार<unk>रखनगर.', 'थींगा.', 'त<unk>योोहरों.', 'कर<unk>नेश<unk>वर<unk>धाम.', 'उमनथथ.', 'दांशिल.', 'साहित<unk>योत<unk>सव.', 'शान<unk>तिनिकेतन.', 'शिकायतकर<unk>ता.', 'अंदरखाने.', 'पैंटर.', 'लीडारों.', 'गालगांड.', 'कार<unk>नियाँ.', 'मुर<unk>गिपालन.', 'मुशाहिद.', 'मॉडुल<unk>स.', 'राजौरी.', 'सुश<unk>रुषा.', 'श<unk>रृंगार.', 'होल<unk>ट.', 'लैगिकता.', 'इजाजत.', 'वंक<unk>षेत<unk>र.', 'भुतल.', 'स<unk>वादप<unk>रेमियों.', 'निनेटीज.', 'फ<unk>रेक<unk>टर.', 'लिखकर.', 'एयर<unk>कनदीश<unk>नर.', 'नब<unk>ज.', 'क<unk>वेस.', 'बौनी.', 'कारगुजारियां.', 'गाँगनम.', 'टेपिया.', 'तेजपुर.', 'तल<unk>वे.', 'सीमाई.', 'दर<unk>शनार<unk>थि.', 'रिवास.', 'तर<unk>कवाद.', 'अनुसारका.', 'कूचेला.', 'लतकार.', 'पत<unk>रवालियां.', 'परिषद.', 'स<unk>पिंज.', 'अंशिदा.', 'डेजेसस.', 'सरायमोहिउद<unk>दीनपुर.', 'लूवेल.', 'कैपासिटर.', 'पैसेंगरजजिंड.', 'ग<unk>रनथथियों.', 'बुएना.', 'कैंटरबररी.', 'काथियावड़ी.', 'टेकचंदनी.', 'फिसाद.', 'बेरहरमी.', 'निष<unk>कर<unk>षहह.', 'एक<unk>टिविटीज.', 'रिकैल<unk>लीब<unk>रेषण.', 'शासानधिधाकारियों.', 'फ़िजूलखर<unk>ची.', 'डाल<unk>यूपीीी.', 'पेसीई.', 'दस<unk>तर.', 'केटलिन.', 'जॉड़ता.', 'किल<unk>लाट.', 'ग<unk>रहनगर.', 'वॉनडर.', 'वटर.', 'श<unk>विंग.', 'पष<unk>टुन.', 'फर<unk>म.', 'दिबानु.', 'पश<unk>चमी.', 'उठापतक.', 'निलाभ.', 'लक<unk>सममिनियाँ.', 'महानगरवासियों.', 'यूप<unk>नेटा.', 'कनवेंशन.', 'शार<unk>प.', 'कार<unk>ययोजन.', 'मास.', 'वेस<unk>टिंग.', 'कुर<unk>वेती.', 'ज<unk>याड़ा.', 'मुकेश<unk>वरी.', 'श<unk>रीमति.', 'विवेकाधिकारों.', 'लोकसभावली.', 'कबहा.', 'भ<unk>रान<unk>तियों.', 'विवेकहीन.', 'बालमिकी.', 'हार<unk>याना.', 'जिवराज.', 'फ<unk>लाईन.', 'रना.', 'विष<unk>णुपुरा.', 'घोटालेबाजों.', 'हेरतांगेज़.', 'तकलीफड़ेह.', 'पीपाध़.', 'धभाषारा.', 'अंटिियां.', 'रोबिन.', 'सिंगर.', 'गुमशुदगी.', 'बालकृष<unk>ण.', 'फबती.', 'पलटने.', 'लहलहाती.', 'नगाड़ा.', 'उदनें.', 'क<unk>लेन.', 'जूलूस.', 'कार<unk>यभार.', 'मान<unk>टो.', 'पैमैश.', 'कोविना.', 'पेंशन.', 'ओगस<unk>टावेस<unk>टलैंड.', 'सेन<unk>ट<unk>रींग.', 'एक<unk>टिवा.', 'बार<unk>कर.', 'वालकन.', 'वृतों.', 'कबद<unk>दी.', 'रौनख.', 'कैटलिन.', 'फ<unk>सू.', 'जंगड़ना.', 'उपख<unk>यानों.', 'सुन<unk>द<unk>रम.', 'कोचिन.', 'नेको.', 'कौशल.', 'फलिया.', 'एसववडो.', 'कोट<unk>टयम.', 'दिलाएगा.', 'कुर<unk>वी.', 'सौनपेंगी.', 'लेखान.', 'गुडेपु.', 'फरेस.', 'नूबिया.', 'ताजा.', 'आन<unk>त<unk>रित.', 'क़ज़.', 'मुर<unk>गिपालन.', 'इडीडी.', 'नेगाइन.', 'सुभा.', 'लुइस.', 'विजयपुरम.', 'बताओ.', 'ओओएचआ.', 'स<unk>यंंस.', 'सरकारें.', 'ब<unk>रेमर<unk>टन.', 'गुरुपदो.', 'संयुक<unk>त.', 'रालोड़.', 'बाध़ाओं.', 'गौमुत<unk>र.', 'सभाएं.', 'तननी.', 'देल<unk>ी.', 'सुकेन.', 'विनीट.', 'चिमटे.', 'किकियाना.', 'रॉकेट.', 'मैक<unk>सवेल.', 'हिप<unk>पो.', 'दीपन.', 'अर<unk>मामा.', 'भुलता.', 'कर<unk>माचरी.', 'दुर<unk>गपुर.', 'त<unk>रिभाषा.', 'सूडखोरों.', 'प<unk>रस<unk>तावों.', 'सरविन.', 'प<unk>रप<unk>ति.', 'गिरिवासियों.', 'सिड<unk>यूसिंग.', 'वेलवेट.', 'मुकर<unk>रर.', 'बैक<unk>सटटर.', 'डेनियर.', 'सीवी.', 'उठनी.', 'घासी.', 'इकट<unk>ठा.', 'भूपसिंह.', 'डाबोचने.', 'क<unk>रॉस<unk>बी.', 'नामीगिरामी.', 'हर<unk>ले.', 'जार<unk>डा.', 'लिप<unk>रधानमन<unk><unk><unk>री.', 'भ<unk>रा<unk>ति.', 'अजेंक<unk>यों.', 'बागो.', 'फॉर<unk>ीी.', 'बोसान.', 'कर<unk>की.', 'गिनेट.', 'मनोकामनाओं.', 'सम<unk>मप<unk>तियाँ.', 'पोलिथीनों.', 'मतकके.', 'परिचर.', 'बडबदी.', 'क<unk>रेन.', 'लामियां.', 'उल<unk>हसनगर.', 'प<unk>रभानमन<unk><unk>त<unk>री.', 'शिवालापूरवा.', 'फेर<unk>थ.', 'सुहागिन.', 'सरैकेला.', 'रोमिविले.', 'राजस<unk>थन<unk>वसियों.', 'प<unk>रतिरोधात<unk>मक.', 'स<unk>वर<unk>णिका.', 'व<unk>यवस<unk>थपण.', 'टेल.', 'गालाट<unk>महमी.', 'तकेंंसिदर.', 'माइक<unk>रोफाइबर.', 'श<unk>रीमहपू<unk><unk>ण.', 'फल<unk>लूजा.', 'डोनाल<unk>डसन.', 'चढ़ने.', 'जीविज<unk>ञानियों.', 'क<unk>रिकेटिंग.', 'रिडक<unk>शन.', 'अवाज़ें.', 'व<unk>लाद.', 'प<unk>रथ<unk>मिक.', 'थेंगा.', 'एक<unk>ससेल.', 'चटकाते.', 'कुबूद<unk>दीन.', 'ताज़ा.', 'पदानी.', 'निचाई.', 'वाउसा.', 'आलोचकों.', 'जलजले.', 'सुरत.', 'जीवती.', 'प<unk>रहारक.', 'श<unk>रीसदगुरु.', 'संचलनों.', 'भाल.', 'तुघलाक़.', 'उठापतक.', 'हस<unk>तान<unk>तरीनीय.', 'उत<unk>साहवर<unk>द<unk>धन.', 'संगोष<unk>ट<unk>री.', 'शासनाधिकारियों.', 'महाधिपतियों.', 'फतिमा.', 'फ़ोड.', 'कान<unk>तिन<unk>यू.', 'कामनाएं.', 'चुटिले.', 'संख<unk>याएं.', 'क<unk>रंज.', 'बरसाटा.', 'परिकल<unk>पित.', 'हरपाल.', 'माओंत.', 'ग<unk>रॉवर.', 'बायोलॉजिस.', 'हालिसहर.', 'अंगेलो.', 'जनेउधारी.', 'बिचबचाव.', 'पोकर.', 'अपवर<unk>तित.', 'आस<unk>टिन.', 'प<unk>रतिष<unk>ठावाले.', 'बुएनवेंटर.', 'डेक<unk>नान.', 'सेरिव.', 'परदा.', 'एमाइल.', 'शैली.', 'ईस<unk>टवाले.', 'छल<unk>ला.', 'लक<unk>ष<unk>यों.', 'हूआफ.', 'जरुरिह.', 'राह<unk>या.', 'महकने.', 'डेवी.', 'निलसेन.', 'भिरा.', 'चबुतारे.', 'भूषण.', 'रुकते.', 'आमदननी.', 'ताल<unk>कशोव.', 'जुनागढ़.', 'पढ़ता.', 'ओड़कर.', 'ब<unk>रोके.', 'तलाशा.', 'परिवारवाले.', 'त<unk>रब<unk>युनल.', 'ब<unk>रॉक.', 'यल<unk>लाप<unk>पा.', 'तस<unk>वरों.', 'तुगलकी.', 'पीआईके.', 'सर<unk>कुलेशन.', 'ज<unk>वर.', 'कनिनधाम.', 'कुश.', 'प<unk>रोपरफेसबुक.', 'आशराफी.', 'चढ़ें.', 'वांगछुक.', 'हनीवेल.', 'रेडियमधर<unk>मीी.', 'लढ़ेगे.', 'सचन.', 'अर<unk>थशास<unk>त<unk>रियों.', 'कैंटन.', 'आत<unk>ममुग<unk>ध.', 'पोनटियक.', 'लोपेज.', 'घोंटना.', 'अंबानी.', 'मार<unk>यदाओं.', 'रत<unk>लमम.', 'हर<unk>क<unk>युल<unk>स.', 'अकोला.', 'सक<unk>षण.', 'नोतबंदीशुदा.', 'लगवाती.', 'एलिव.', 'जिवन<unk>त.', 'फोडा.', 'फतही.', 'नूबिया.', 'लालमनी.', 'फैसाला.', 'कृत<unk>या.', 'धुआन.', 'अहुजा.', 'प<unk>रतिपालपुर.', 'नैकीन.', 'मंजिलें.', 'लफफाजी.', 'जुराब.', 'फुले.', 'कैस<unk>टैलॉय.', 'ब<unk>लैक.', 'सूरजज.', 'ब<unk>रॉन<unk>छ.', 'अवर<unk>णता.', 'जोहरी.', 'तेवरी.', 'सांडर<unk>स.', 'वेल<unk>डर.', 'इनीयू.', 'भरष<unk>टाचारियों.', 'लालमनी.', 'खातेदार.', 'आज़माना.', 'आवृत<unk>तियों.', 'कुल<unk>लवी.', 'बहाववपुर.', 'प<unk>रथथमिकता.', 'मोबिल.', 'कतिहार.', 'स<unk>वेचा.', 'हामिदनन.', 'समधर<unk>शनी.', 'दृढ़.', 'गण<unk>ड.', 'विशेष.', 'काबिलेगौर.', 'लॉरेंस.', 'हिशम.', 'चौसिंगा.', 'पाफिन.', 'मेट.', 'बिल<unk>डकॉन.', 'टीकों.', 'अथक.', 'जिनदगी.', 'चायल.', 'माप.', 'लस<unk>ट.', 'गाजरा.', 'रात<unk>रिचार.', 'काठला.', 'सहूलियता.', 'पत<unk>टनाइक.', 'न<unk>यायालयीन.', 'मुख<unk>यमं<unk><unk><unk>रियों.', 'जीतानेवालों.', 'स<unk>वफोथो.', 'क<unk>लिफ<unk>टन.', 'डोडा.', 'पेंडुलम.', 'चिपकने.', 'नलाकासा.', 'छाह.', 'गण<unk>ड.', 'समीक<unk>षाकर<unk>ता.', 'मन<unk>त<unk>रिपद.', 'लिबरेशन.', 'असमान<unk>य.', 'चुंगियों.', 'एरिका.', 'बालोट.', 'थिन.', 'फाॉर<unk>मिक.', 'युद<unk>धक.', 'वेगास.', 'लस.', 'चित<unk>रांशी.', 'अवरन<unk>ता.', 'वास<unk>टिंग.', 'वितर<unk>क.', 'मुकबाले.', 'धर<unk>मपूर<unk>वी.', 'अंबानी.', 'इबिजा.', 'महामेडिया.', 'सुज़लोन.', 'वर<unk>निट.', 'झूठलाने.', 'मदुराई.', 'कौंदल.', 'लपट<unk>टा.', 'क<unk>षिण.', 'तेवारी.', 'रायुर.', 'लिंडों.', 'पुलामा.', 'ओलरॉन<unk>डर.', 'गारिबोन.', 'कल<unk>लहन.', 'वाबाग.', 'कैपधारी.', 'अट<unk>टा.', 'बरेली.', 'जिंग.', 'जिवन.', 'रेडी.', 'पहनी.', 'तानु.', 'दीपिका.', 'लोहती.', 'कक<unk>कड़.', 'मौलवियों.', 'डूंगरपुर.', 'ज़ाानना.', 'लक<unk>मे.', 'प<unk>रॉस<unk>पेक<unk>टस.', 'वेस<unk>टिंगहाउस.', 'बवारा.', 'ठक<unk>क<unk>र.', 'इच<unk>छाचारी.', 'त<unk>रिया.', 'धवकों.', 'डामले.', 'श<unk>रवणाबेलागलला.', 'निलकमल.', 'कर<unk>मचचरी.', 'पूर<unk>वोत<unk>तर.', 'लेहरायी.', 'हाइतो.', 'प<unk>रकांध.', 'खेलमन<unk>त<unk>री.', 'भविष<unk>य.', 'एग<unk>मोर.', 'श<unk>रृंगर.', 'सौपेंगी.', 'क<unk>नॉक<unk>सविले.', 'बेन<unk>दर.', 'सुनदरम.', 'प<unk>रदेश.', 'संवेदीकरण.', 'लगुना.', 'भिशम.', 'येमिमाननुर.', 'हुहतमकी.', 'वाडली.', 'जीएईएल.', 'रसस.', 'सालजजर.', 'डिफथेरिया.', 'द<unk>राध.', 'शदधि.', 'प<unk>रबोधिनी.', 'लोकप<unk>रतिनिधियों.', 'जततती.', 'मांगला.', 'बर<unk>विन.', 'मुम.', 'उदयगढ़ी.', 'अकापूलको.', 'वैध<unk>रुति.', 'चरणबद<unk>ध.', 'मंददी.', 'यूक<unk>लिड.', 'पारमपरिकता.', 'हफते.', 'सथिया.', 'संघियता.', 'मुख<unk>यातिथियों.', 'व<unk>यवस<unk>थविरोधि.', 'रक<unk>तदाताओं.', 'बारामेे.', 'तरूतल.', 'कुट<unk>टा.', 'झाड़ा.', 'किशुन.', 'श<unk>रेफललर.', 'अमरोही.', 'रेडिकल.', 'जेनर.', 'वर<unk>षिया.', 'हासिनो.', 'शावकों.', 'रूपा.', 'स<unk>वार<unk>थपरक.', 'वेरोनिका.', 'वेब.', 'महापत<unk>र.', 'चेंकें.', 'अग<unk>रा.', 'जियांगको.', 'वेस<unk>टवॉर<unk>क.', 'जनगन<unk>ना.', 'पास<unk>को.', 'जाधव.', 'इंटरप<unk>राइज.', 'संशयों.', 'वर<unk>णव<unk>यवस<unk>थावादियों.', 'उपस<unk>थियों.', 'मुडीचु.', 'पार<unk>स<unk><unk>तारों.', 'आईए.', 'बैला.', 'लिवाल.', 'हिल<unk>सबोरो.', 'राष<unk>ट<unk>रियाध<unk>यक<unk>षा.', 'पीडबल<unk>यूटी.', 'थाउसंद.', 'शाकिर.', 'सलःकार.', 'विश<unk>वकर<unk>मम.', 'रिज.', 'स<unk>वास<unk>थ<unk>यहीनता.', 'रिश<unk>वतखोर.', 'प<unk>राविंसेस.', 'दफ<unk>तरवाले.', 'फिजिसियन.', 'लॉग.', 'जोधिका.', 'सेवला.', 'दूबत.', 'सिपह.', 'भरमा.', 'प<unk>रितिग<unk>ञा.', 'मेघवाल.', 'नंदोई.', 'औरोरा.', 'फार<unk>मयूले.', 'दुर<unk>घताना.', 'स<unk>वतंत<unk>रसिंह.', 'मंटरी.', 'बालति.', 'कोलिम<unk>बिया.', 'व<unk>हिट<unk>टर.', 'ढुक<unk>के.', 'क<unk>युबीक.', 'चमकनाा.', 'शीलबाग.', 'बिस<unk>टागोंड.', 'फिंडले.', 'बपा.', 'डेहरा.', 'आइस.', 'श<unk>रनखाला.', 'हस<unk>ताक<unk>षणों.', 'तिरुपति.', 'मंगलमूर<unk>तिह.', 'कुर<unk>सियों.', 'मिठैइयाँ.', 'पहनो.', 'हालेबिड.', 'बांगश.', 'ओफिशियली.', 'सेवाई.', 'गुरजजर.', 'सममनवायकाा.', 'पारनेल.', 'संसनन.', 'कुसेक<unk>स.', 'मध<unk>य.', 'युध<unk>रत.', 'अरबंदले.', 'ब<unk>रिग<unk>स.', 'एरोर.', 'चिखाली.', 'वान.', 'अधिकारियां.', 'रोणोके.', 'हाओकिप.', 'पूर<unk>वपेक<unk>षाओं.', 'मशीनावत.', 'कडमो.', 'कुरामी.', 'विद<unk>याथ<unk>यों.', 'सिम<unk>तता.', 'संगरर.', 'स<unk>ट<unk>रॉन<unk>गसविले.', 'अगवाई.', 'जागन.', 'नाराज.', 'यारियां.', 'भा<unk><unk>ेेश<unk>वर.', 'जीवती.', 'सुदखोरों.', 'रुकवाकर.', 'ब<unk>रह<unk>मवर<unk>ता.', 'ग<unk>रेय.', 'भ<unk>रान<unk>ति.', 'पुरूषोत<unk>तमापुर.', 'तेजी.', 'स<unk>वातन.', 'मंतरिमण<unk>डलिया.', 'एश<unk>ली.', 'मथथव<unk>स.', 'मूलों.', 'अक<unk>जो.', 'हमिरपुर.', 'पोख<unk>रियाल.', 'बोलेटीन.', 'प<unk>रतिष<unk>ठवळे.', 'दबंगता.', 'धुरिया.', 'टीअप.', 'गज़ी.', 'इजाजत.', 'मेजबानी.', 'टोलेडो.', 'मोहधा.', 'पुटली.', 'संचारी.', 'तापनी.', 'लिटल.', 'नरनारी.', 'धनिये.', 'गढ़ूँगा.', 'फाड़ी.', 'गम<unk>मत.', 'टुबरक<unk>यूलोसिस.', 'नाराजुना.', 'राजनीची.', 'मेडिजेंसर.', 'लपफ़ाजी.', 'कॉमर<unk>स.', 'माथलू.', 'चतागांव.', 'हिलिग.', 'इइएनपेक<unk>टर.', 'टेस<unk>टिंग.', 'नौशाद.', 'फल<unk>लुजा.', 'पिक.', 'जिवान.', 'कटल.', 'डाब<unk>लयूईी.', 'बेसिल.', 'स<unk>लिडों.', 'सैंदन.', 'जेरीमी.', 'गाँव.', 'टोडेंगे.', 'उदान.', 'सप<unk>त<unk>क<unk>रान<unk>ति.', 'मिरंदा.', 'व<unk>यापक.', 'मैडी.', 'सभसदों.', 'नौवहन.', 'आत<unk>में.', 'रोसा.', 'डमाए.', 'मिडवेस<unk>ट.', 'त<unk>रेलरह.', 'मार<unk>लबररुग.', 'वाको.', 'विमर<unk>शों.', 'खन<unk>.', 'डिफारार<unk>ड.', 'सरसा.', 'हेस<unk>टर.', 'उत<unk>तर.', 'कसेरा.', 'कुराने.', 'दयित<unk>वों.', 'चयनितों.', 'मोरेल<unk>स.', 'हेरोस.', 'प<unk>रेममूलक.', 'मोरन.', 'जाइडस.', 'नेलसन.', 'अमरपाल.', 'फटने.', 'टिंका.', 'गायिकाओ.', 'पकायें.', 'भ<unk>रष<unk>टाचारियों.', 'चलिट.', 'एएफएलई.', 'मोड.', 'राजनितिकारों.', 'अर<unk>थों.', 'गालीगलौज.', 'अन<unk>योण<unk>यश<unk>रीततता.', 'उड़या.', 'कटलरी.', 'प<unk>रतिबंधहह.', 'नीलाभ.', 'बिले.', 'खुल<unk>लममखुल<unk>ला.', 'स<unk>वानसन.', 'अनवाहार<unk>य.', 'रेवारी.', 'सहकलकर.', 'चैमपियोशिप.', 'भड़काया.', 'नमधारी.', 'अल<unk>बा.', 'वतानुकूल<unk>नान.', 'खातधारक.', 'टेक<unk>सास.', 'स<unk>पेशियल.', 'हरवंश.', 'दिनु.', 'शनिवार.', 'डे.', 'डबी.', 'नहिंकर<unk>वाई.', 'मारवाद.', 'पीडियों.', 'बृग<unk>तन.', 'मनेए.', 'लिगर.', 'दिलाएगा.', 'आधिन.', 'परवा.', 'हेम<unk>प<unk>स<unk>टेड.', 'ममूली.', 'प<unk>रदेशिका.', 'वेरिफिकेशन.', 'फफफड़ा.', 'विसंगतिया.', 'कच<unk>छे.', 'घोस<unk>ट.', 'पिपली.', 'लोवासा.', 'हेलपर.', 'दूबनेवाले.', 'बख<unk>शने.', 'इन<unk>द<unk>रियोंके.', 'बरहद.', 'रिसाली.', 'कक<unk>षिवती.', 'विश<unk>वरक<unk>त.', 'लोड़ी.', 'पीच<unk>ट<unk>री.', 'घुमक<unk>कों.', 'ओझा.', 'इलाज.', 'अरुणाई.', 'अयोध<unk>येननथ.', 'भौतिकवाडियों.', 'रोकेट.', 'न<unk>यूकैकैमिस<unk>ट<unk>री.', 'कॉल<unk>डवेल.', 'आवाज़ें.', 'मूल.', 'मल<unk>टिप<unk>लिक<unk>सन.', 'त<unk>योयहर.', 'रोटेशन.', 'बेलाचा.', 'सहकलाार.', 'जडित.', 'नगारा.', 'बरपाया.', 'डूंगरपुर.', 'लण<unk>ड.', 'उच<unk>छ<unk>रूंखलता.', 'फैलैया.', 'सुची.', 'नून.', 'आरपी.', 'शील<unk>ड.', 'पालनपुर.', 'इलेक<unk>ट<unk>रॉस<unk>टील.', 'ऑबीस<unk>क<unk>यूरा.', 'सिग<unk>रेटन.', 'दिखाई.', 'रसेल.', 'नाजारदाद.', 'कुअलालमपूर.', 'ऑस<unk>टिन.', 'रेडक<unk>रास.', 'टीसीएनएस.', 'स<unk>वायत<unk>तशासन.', 'मूड़.', 'दौलताबाद.', 'भुलता.', 'प<unk>रतिकारा.', 'नाइट<unk>स.', 'नकमम.', 'शटिंग.', 'राष<unk>ट<unk>र.', 'बेचकर.', 'स<unk>टोन.', 'वर<unk>ध.', 'दीडबल<unk>युती.', 'देसबथूला.', 'बापा.', 'बाबबान.', 'आदेशाह.', 'उडेलकर.', 'तरको.', 'याददाष<unk>ट.', 'इन<unk>ाेलेशन.', 'सफ<unk>रदगंज.', 'रूपक.', 'स<unk>क<unk>रेन<unk>टन.', 'वर<unk>णव<unk>यवस<unk>थावादियों.', 'शिक<unk>षकर<unk>मियों.', 'खंडेलवाल.', 'बेवेजेज.', 'पिडिया.', 'नदफ.', 'जहे.', 'ढहाएंगे.', 'मस<unk>टमौला.', 'अगरताला.', 'जमयाा.', 'पररेेसी.', 'आर<unk>या.', 'वेल<unk>वेट.', 'आपदाइं.', 'आगाशे.', 'अच<unk>ची.', 'उद<unk>घोष.', 'स<unk>वाभावतः.', 'बननी.', 'राकर.', 'पिडिलाइट.', 'डुआल.', 'भीरा.', 'सिल<unk>वा.', 'अधिकरण.', 'राजकताा.', 'श<unk>रीचक<unk>र.', 'गौवमुत<unk>र.', 'निचला.', 'बुरहनपुर.', 'सहूलियता.', 'लब<unk>ध.', 'पूले.', 'स<unk>ट<unk>रेशन.', 'पिकिंग.', 'ओडितार.', 'डेनियार.', 'अजित.', 'लैंगडों.', 'अवशिस<unk>त.', 'झा.', 'प<unk>रशासनिक.', 'बॉसियर.', 'बाडाचाधाार.', 'गिरीडीह.', 'भुज.', 'रीडिंग.', 'फवारे.', 'अद<unk>वैत.', 'रुकते.', 'अनोंदिता.', 'फोंटना.', 'न<unk>यूत<unk>रियो.', 'पैलोटन.', 'जडें.', 'बोरीवाली.', 'इलाईची.', 'अलियंस.', 'धम<unk>मा.', 'नहारगढ़.', 'एनसीआईयू.', 'सपात.', 'लेंगदान.', 'पनामा.', 'पुटल.', 'आसापास.', 'अलवाधि.', 'मुफालिसी.', 'संसाथान.', 'दर<unk>षणार<unk>थी.', 'लोकोत<unk>सव.', 'ग<unk>राहकोंने.', 'उच<unk>छाधिकारीयो.', 'भव.', 'रेजा.', 'मोथरसन.', 'कौप<unk>लैक<unk>स.', 'आबूरोद.', 'हीडेलबर<unk>गसीट.', 'चिमती.', 'सर<unk>फक<unk>टेंट<unk>स.', 'मिटाओ.', 'कैलना.', 'टंकर.', 'ओढकर.', 'मेर<unk>टा.', 'मेगवाल.', 'रसस<unk>यनिक.', 'सूचनाः.', 'सुगमता.', 'जॉकी.', 'मुनाफ.', 'निस<unk>वार<unk>थ.', 'क<unk>षेत<unk>रद<unk>दाराा.', 'महावर.', 'बुलधाना.', 'धमकाटा.', 'भुस<unk>वमी.', 'विज<unk>ञान.', 'क<unk>वेट.', 'बेवकुफाना.', 'जजमौ.', 'बेल<unk>ट<unk>रन.', 'विलस.', 'माददमपुर.', 'कोलोरादो.', 'ब<unk>लैकबबर<unk>न.', 'सुनिटी.', 'घिग<unk>घी.', 'फ<unk>लेवोनॉयड<unk>स.', 'हाुनमुखी.', 'सुपच<unk>ये.', 'सिरती.', 'विष<unk>णु.', 'चौदावन.', 'चौधरी.', 'आबरू.', 'बालुरक.', 'डवागेरे.', 'अनुरित.', 'शिप<unk>पिंग.', 'पेशियाला.', 'जानम.', 'फाइनेंशियल.', 'डमे.', 'पोलिसी.', 'आइसीसी.', 'कुचछ.', 'चीखना.', 'रिलियंस.', 'ऊर<unk>वरकों.', 'रवेल.', 'लढ़कियों.', 'मुकेश<unk>वरी.', 'वंक<unk>षेत<unk>र.', 'उम<unk>मीदे.', 'कहावह.', 'कांतिपूर<unk>ण.', 'बडाएं.', 'एनससारर<unk><unk>ब<unk>लयूसी.', 'प<unk>रतिबद<unk>धता.', 'फॉलोव.', 'सेवामुक<unk>त.', 'इवॉन<unk>स<unk>टन.', 'चारस.', 'हिल<unk>स.', 'रॉबर<unk>टसनन.', 'भदौरिया.', 'ग<unk>लक<unk>सोस<unk>मिथक<unk>लिनेन.', 'प<unk>रॉडक<unk>टन.', 'गुएवारा.', 'विज<unk>ञानों.', 'जारविस.', 'लाफ<unk>ज.', 'फॉन<unk>ट.', 'पराधीन.', 'षक.', 'गंझू.', 'डीआईटी.', 'दाप<unk>तियों.', 'माढिखेध़ा.', 'प<unk>रतिष<unk>ठानों.', 'सून<unk>ड.', 'गिन<unk>टे.', 'अलगलग.', 'स<unk>वस<unk>तिककार.', 'प<unk>रतिकरा.', 'आस<unk>तिक.', 'निवेषकर<unk>ता.', 'सवल.', 'सांस<unk>कृतियां.', 'रौबदार.', 'रागुराम.', 'इंतरव<unk><unk>यू.', 'छरहरी.', 'सेव<unk>ये.', 'भसापा.', 'ज<unk>वारों.', 'संस<unk>थिता.', 'पर<unk>शदों.', 'पुलास<unk>कर.', 'उठाएंगे.', 'लाएंगी.', 'ओएीएफएफ.', 'वालदाद.', 'मूलों.', 'पुतलियाँ.', 'श<unk>मिल.', 'रिग<unk>स.', 'कैमारिलो.', 'सफ<unk>लता.', 'विनाष<unk>ट.', 'केपिंग.', 'जयललिथा.', 'आईटीईएमएस.', 'सॉकर.', 'अस<unk>फल<unk>ट.', 'मेहरोत<unk>र.', 'छुने.', 'ज़रख.', 'मेजबानी.', 'मुफलिसी.', 'लुना.', 'वर<unk>णव<unk>यवाठावादियों.', 'लिपाई.', 'अठनी.', 'बजज.', 'हिसरह.', 'डम<unk>पिियों.', 'वाटसोन.', 'अगस<unk>टस<unk>टिन.', 'पताक<unk>षेप.', 'धांधेखरी.', 'उभ<unk>रेगा.', 'अंटों.', 'अपरदर<unk>शी.', 'निहलानी.', 'तिवोली.', 'होगिस.', 'विंटर.', 'बडलवाकर.', 'घुमाई.', 'पेटालुमा.', 'बीममदब<unk>ल<unk>यूम.', 'बख<unk>शते.', 'सांवेदकरण.', 'टेलों.', 'घुम<unk>मक<unk>कड़ों.', 'हान<unk>फ<unk>टे.', 'फरहीन.', 'जेमेस.', 'किरतपुर.', 'रेडिंग.', 'शक.', 'सरप<unk>राइज.', 'किसानों.', 'चलेंगे.', 'योडर.', 'स<unk>टेन.', 'पैथेलोजिज<unk>ट.', 'लेबेलिंग.', 'इक<unk>थियोसिस.', 'लिबरेशन.', 'फूड़ों.', 'नन<unk>हें.', 'भदौरिया.', 'जतिला.', 'पहुंचनी.', 'राष<unk>ट<unk>रों.', 'ब<unk>लॉसम.', 'तंदों.', 'गडबड़बड़ी.', 'सनस<unk>थिता.', 'यतराएं.', 'आदन.', 'जवते.', 'नियुत<unk>तियों.', 'भिश<unk>म.', 'हुन<unk>डिया.', 'मुरगीपालन.', 'माेेकर.', 'लोवेलैंड.', 'मेवी.', 'विक<unk>रम.', 'हैन<unk>ट<unk>.', 'बैरैकपोर.', 'घाजिआाादाद.', 'तरकों.', 'एसपीएफएफ.', 'अर<unk>टमिस.', 'एआईपीपी.', 'जयबन.', 'गैरैरादतन.', 'विवेकधीन.', 'सबजूनियार.', 'फलिया.', 'प<unk>रेक<unk>षकगणणों.', 'पूरवासियों.', 'विपन<unk>नता.', 'माँगा.', 'ओर<unk>डेनेन<unk>स.', 'प<unk>राधान.', 'अभियुक<unk>तोंके.', 'विरतखण<unk>ड.', 'हिजबुल.', 'विद<unk>याओं.', 'मंजू.', 'छाविंद<unk>र.', 'छुपकर.', 'डोरन<unk>डा.', 'सैम.', 'मिठाइयाँ.', 'जीविज<unk>ञानियों.', 'पष<unk>टूँ.', 'ब<unk>रह<unk>रााारिनि.', 'जेरूसलेम.', 'अल<unk>टमोंटे.', 'सिहुनता.', 'हेमवाती.', 'कोषाधिकारी.', 'आशांका.', 'बीन.', 'वैज<unk>ञानिकता.', 'झीलों.', 'रोबर<unk>टो.', 'श<unk>रीरामपुर.', 'मंचिया.', 'वसूलता.', 'मोरिसन.', 'म<unk>हार<unk>थथ.', 'ट<unk>रानसिसर.', 'सर<unk>वजातिया.', 'पतोत<unk>सव.', 'हौकी.', 'मेडिथथान.', 'उदना.', 'सरायमोहिउद<unk>दीनपुर.', 'पीटर<unk>सबुर<unk>ग.', 'राजकथथा.', 'डिया.', 'मोहिन<unk>दार.', 'मास<unk>टेक.', 'निरबा़.', 'अहसास.', 'अवृतियों.', 'एशियावन.', 'ठकी.', 'टरबाइन.', 'डिमाक.', 'जोधपुर.', 'दुरधारा.', 'खास<unk>तौर.', 'मकरानी.', 'हिग.', 'फताही.', 'मरिया.', 'गण<unk>व.', 'पें<unk>दूलम.', 'आविषकार.', 'नतिजेह.', 'जेफरससनविले.', 'ब<unk>रह<unk>मसिद<unk>धि.', 'तुलशिदास.', 'रीता.', 'चर<unk>छामंच.', 'प<unk>रतिकारा.', 'तर<unk>कवाद.', 'दबंगों.', 'हिचकीचा.', 'शीर<unk>षकों.', 'डम.', 'द<unk>वृ<unk><unk>थी.', 'जवाबाह.', 'बहुमान.', 'जाँचकराता.', 'वण<unk>दमातरम.', 'शौल<unk>ड.', 'एएसएसटीए.', 'नेयू.', 'दस<unk>तखाशशूदा.', 'सुरिनामा.', 'किंगखनन.', 'तरस.', 'रिकेनकेक<unk>टिंग.', 'फैब<unk>रिक.', 'क<unk>लेयर.', 'छेजत.', 'मोमिनाटोला.', 'विरोध.', 'अरेना.', 'उनियनवादी.', 'बमलेश<unk>वरी.', 'बोका.', 'इम<unk>मेच<unk>रिटी.', 'संस<unk>थान.', 'जिन.', 'डाड<unk>ेवा.', 'काइड.', 'करवानो.', 'पूतिन.', 'तनकार.', 'खटकतती.', 'जैड.', 'पुष<unk>पा.', 'जीएम.', 'युसुगी.', 'कोरोला.', 'प<unk>याेे.', 'करवाएगी.', 'बलातकारियों.', 'जतती.', 'गुरदसपुर.', 'श<unk>रेष<unk>ठस<unk>वरूप.', 'शुभ<unk>प<unk>रभा.', 'यूरोप<unk>लास<unk>ट.', 'राष<unk>ट<unk>रभक<unk>तों.', 'केंटरबारी.', 'कम<unk>मुनिकेटर<unk>स.', 'महामंच.', 'कनवे.', 'डीवीएफ.', 'रीवेस.', 'डभोई.', 'भूटल.', 'इंसानों.', 'एमिली.', 'विज<unk>ञानम.', 'सपते.', 'अत<unk>वाल.', 'हिन<unk>दन.', 'आौफिसरी.', 'मोन<unk>टक<unk>लेयर.', 'पूर<unk><unk><unk><unk><unk>वीकृत.', 'रिचाडडसन.', 'सान<unk>द<unk>रह.', 'फार<unk>गो.', 'अलीम.', 'सप<unk>तक<unk>रान<unk>ति.', 'हच.', 'इमानदारी.', 'कॉन<unk>ट<unk>रेक<unk>टिंग.', 'गंगजजल.', 'गौर.', 'अधिकारियों.', 'बाधन.', 'सेंधा.', 'डाल<unk>लीयपिडी.', 'ग<unk>रेविटा.', 'लिनकोलन.', 'प<unk>रवृत<unk>तिविज<unk>ञानों.', 'सीमेंटेशन.', 'बगड़.', 'जेंट<unk>ी.', 'दत<unk>सों.', 'मोंटेेलो.', 'रेनवेबल<unk>स.', 'नकसलवाड.', 'ऐत<unk>रजज.', 'इतिभाग<unk>वती.', 'निवेषकर<unk>ता.', 'पटकथठेयें.', 'काबिलेतारिफ.', 'भाड़स.', 'भोगते.', 'हॉल<unk>डिंग.', 'धट<unk>ता.', 'धोरों.', 'उपख<unk>यनों.', 'फायेटेटिवेल.', 'स<unk>टॉक<unk>टन.', 'बृजेश.', 'प<unk>रतिज<unk>ञ.', 'बढ़ाती.', 'थेन.', 'थोमास.', 'ध<unk>येयवाड़ी.', 'ट<unk>यूएसडे.', 'वीजीपीएल.', 'ओवुम.', 'गतती.', 'न<unk>यूक<unk>लियस.', 'क<unk>रार.', 'पुरूषोत<unk>तमाचरी.', 'मानचंडा.', 'लहहसन.', 'नकाब.', 'सुजा.', 'मैकेंज़ी.', 'पुरजोन.', 'बहुंत.', 'ब<unk>राो.', 'अमानत.', 'झुठला.', 'बुश.', 'चौखते.', 'अपर.', 'एस<unk>थिटिक.', 'क<unk>षेत<unk>राद<unk>वाारा.', 'सज<unk>जा.', 'धहाने.', 'नारियलयुक<unk>त.', 'जीलस.', 'कुरसियो.', 'सिंघाड़ी.', 'अमी.', 'अंतरमुख.', 'ठक<unk>कर.', 'बादबोलेपन.', 'नक<unk>सालियों.', 'मैनर.', 'हिमाली.', 'नकसालवाद.', 'हल<unk>फ.', 'महाधर<unk>माध<unk>यक<unk>षा.', 'परमौजूद.', 'टिप<unk>णणीकर.', 'पेरेल<unk>स.', 'भपाई.', 'बीताने.', 'वाल<unk>वे.', 'द<unk>विरुक<unk>त.', 'इडी.', 'जिवनियां.', 'पंघल.', 'खण<unk>ड.', 'ऊरवरकों.', 'बेसिन.', 'गिरिवासियों.', 'पराधिन.', 'पुखता.', 'अचनेरा.', 'कार<unk>सन.', 'डेल<unk>टा.', 'त<unk>रिपुरा.', 'अलयमनि.', 'खेड़ा.', 'नहरगढ़.', 'शालिमार.', 'इम<unk>मैचयोरिटी.', 'इलें<unk>ड<unk>ट.', 'प<unk>रोपरफेसबक.', 'उदनों.', 'माजनन.', 'मोजोस.', 'बतायाकी.', 'अलाई.', 'इलेक<unk>ट<unk>रोमीटर.', 'अमोद.', 'रूकेंगे.', 'मारिया.', 'रागों.', 'एआइपीएफ.', 'फलिटार<unk>था.', 'सुपाच<unk>य.', 'अवशििस<unk>त.', 'इशात.', 'रते.', 'आता.', 'महलों.', 'वरषष<unk>ठों.', 'जलपापोट.', 'कारीना.', 'जिस<unk>मफरोशी.', 'सेलरी.', 'राज़ा.', 'रेक<unk>टार.', 'बासिल.', 'बढ़ाता.', 'चरणबद<unk>धा.', 'भड़काया.', 'साहित<unk>योत<unk>सव.', 'नरसीपुरा.', 'समझूंगा.', 'चन<unk>द<unk>रपुर.', 'सरका.', 'धाः.', 'प<unk>रौध.', 'अहितकारी.', 'दरावानी.', 'बेलिंदा.', 'आलयमनी.', 'दत<unk>सुन.', 'एटे.', 'फास<unk>टेनर<unk>स.', 'बांगरावला.', 'साइरा.', 'अट<unk>ठास.', 'निर<unk>दल.', 'महबूबनगर.', 'डररेटे.', 'वालककान.', 'खस<unk>तौर.', 'बरसाई.', 'अननददायक.', 'बनबी.', 'तोह.', 'अस<unk>मन<unk>ये.', 'विपन<unk>न<unk>ता.', 'स<unk>पैस<unk>ट.', 'अमज़ेरा.', 'बेचकर.', 'घटबबध.', 'कौशलता.', 'मशीने.', 'वायरलेस.', 'फेन<unk>न.', 'गानो.', 'खम<unk>भाट.', 'क<unk>यूाइपीज.', 'डबलिन.', 'मीटा.', 'समरद<unk>धियों.', 'राधाकृष<unk>णदास.', 'कानस<unk>टिंग.', 'इदुक<unk>की.', 'इंडस<unk>ट<unk>रियल.', 'भरतवंशी.', 'माँगी.', 'रोबिन<unk>स.', 'व<unk>लाडिमिर.', 'पेहोवा.', 'बाग.', 'उम<unk>मीद<unk>वारी.', 'साफगोई.', 'कूट<unk>टा.', 'अदेन.', 'ग<unk>रेनाइट.', 'उस<unk>तरा.', 'ढुंधता.', 'संघीयता.', 'कुमारी.', 'देपथिरिया.', 'अड़चने.', 'कोरियाह.', 'प<unk>रपत.', 'छुड़वाया.', 'सुइयान.', 'वेरोनिका.', 'श<unk>रेफललर.', 'ज<unk>याड़ा.', 'पॉटर.', 'मेडिया.', 'यारुशलेम.', 'पिचडे.', 'लेटेसेंग.', 'अर<unk>थव<unk>यवस<unk>थताओं.', 'ककू.', 'निर<unk>देशिका.', 'सेटो.', 'नवते.', 'संवेदनशीलता.', 'रोअद<unk>रेज.', 'छहों.', 'लपज.', 'वांशवाद.', 'रोहतक.', 'अटकता.', 'बावरा.', 'क<unk>रीबारभ.', 'प<unk>रकाशाहह.', 'स<unk>ट<unk>रेल<unk>लशशन.', 'अपारदर<unk>शि.', 'बेंगलुरु.', 'अंधापन.', 'मैनान.', 'क<unk>याः.', 'फ़र<unk>मुले.', 'हमलावर.', 'अमवस<unk>य.', 'पूर<unk>वपेक<unk>षाओं.', 'डैशवाला.', 'ओकलहोमा.', 'दर<unk>मैत.', 'सहकलााार.', 'फत<unk>मा.', 'खलाटी.', 'दयित<unk>व.', 'क<unk>यूसिक<unk>स.', 'तोलाकर<unk>मी.', 'वर<unk>शन.', 'परिसमवाद.', 'इम<unk>युने.', 'बाचती.', 'यूटिलिटीज.', 'मलमास.', 'कैडमियम.', 'एंटियोच.', 'खतेेदार.', 'मोहिनी.', 'विश<unk>वस<unk>निय<unk>तता.', 'रेमन.', 'कैन<unk>लोन.', 'आर<unk>यका.', 'मररेज.', 'छींक.', 'फलाता.', 'बागोरा.', 'पकौड़े.', 'लुसी.', 'फतेहगढ़.', 'ग<unk>रहनकाल.', 'जॉबस.', 'सदानन<unk>द.', 'डट.', 'मुरगीपलन.', 'लुरहकते.', 'पालमोनारी.', 'विन.', 'उभारा.', 'बीक.', 'पदरौना.', 'बांतहे.', 'कपूर.', 'सेवाला.', 'वर<unk>शन.', 'चिधते.', 'थने.', 'निकालोगी.', 'मोगली.', 'ड<unk>रेडर.', 'नागरिक.', 'गाजीपुर.', 'वडक.', 'मिचेल.', 'ग<unk>यात<unk>व<unk>य.', 'स<unk>टनधारी.', 'धोराजी.', 'अब<unk>दुन<unk>नासिर.', 'विश<unk>वांध<unk>या.', 'सत<unk>यार<unk>थप<unk>रकाश.', 'शिवामोग<unk>गा.', 'घुमक<unk>की.', 'गयें.', 'ची.', 'थियेटररॉन.', 'अनाधिकारिक.', 'शसक.', 'हाइन<unk>स.', 'बेट<unk>टिया.', 'धतना.', 'रहमत.', 'मोतिहारी.', 'पीयरसन.', 'यूजैकैक.', 'व<unk>हीलिंग.', 'पाइथोगारास.', 'विप<unk>रो.', 'काबिलेतारीफ.', 'जमाते.', 'पुलम.', 'दौबारा.', 'पोर<unk>टिलो.', 'अधिक.', 'धूमरापान.', 'डामपत<unk>य.', 'जमुड़िया.', 'पेडू.', 'पिपरा.', 'ब<unk>लेयर.', 'कम<unk>यूनिकेशनस.', 'अलययनस.', 'अरदास.', 'गुडना.', 'जस<unk>ट.', 'आवजों.', 'बेनवर.', 'अमारिलो.', 'ब<unk>रम<unk>हाण<unk>द.', 'दिखाई.', 'तान<unk>त<unk>रो.', 'आसन.', 'तुग<unk>लाकाबाद.', 'सट<unk>टन.', 'कान<unk>द<unk>र.', 'खान<unk>ना.', 'निकलनी.', 'दिबानू.', 'इम<unk>माच<unk>योरिटी.', 'तोलासन.', 'जानाकरी.', 'लिवाल.', 'एंजेलाइन.', 'रुशिता.', 'फ<unk>लिंट.', 'वृच<unk>चिकहहसापतः.', 'आसमती.', 'गिरकर.', 'वैज<unk>ञानिक.', 'बिशाधी.', 'फूलती.', 'पुनःस<unk>थापन.', 'बढ़.', 'गांधा.', 'चक<unk>षु.', 'मिक<unk>ताम.', 'लिईदारों.', 'ज़बारदस<unk>त.', 'स<unk>टूटी.', 'औरातो.', 'हेबलीकर.', 'रत<unk>तेबाजी.', 'फ<unk>रानसिस<unk>का.', 'मुंबा.', 'प<unk>रतियुक<unk>ति.', 'दारतति.', 'प<unk>रणों.', 'मदिसों.', 'निभाएगी.', 'माइर<unk>स.', 'कश<unk>यप.', 'ब<unk>रिगेडियर.', 'अंबिकाओं.', 'होगाह.', 'ईशाक.', 'सुमी.', 'देशक<unk>तिमया.', 'धर<unk>मपत<unk>रियां.', 'कृष<unk>णनगर.', 'ईईएी.', 'आयुध<unk>निर<unk>माणी.', 'ताजा.', 'अजासरा.', 'फिजूलखर<unk>ची.', 'मंत<unk>र<unk>यों.', 'तान<unk>टा.', 'डीलरशिप.', 'छपेल.', 'ध<unk>वनिमिकों.', 'एडुकेशन.', 'जरख.', 'नीट.', 'जिलवासियों.', 'समप<unk>रभूता.', 'कसेगा.', 'पकानेवाला.', 'दीपन.', 'कलसाना.', 'मुगालता.', 'टोकने.', 'फलिभूत.', 'ग<unk>योंथ.', 'दिखाई.', 'शामजिभाई.', 'पहनाकर.', 'किसानी.', 'उधारदाताओं.', 'रामेेक.', 'व<unk>याख<unk>यात<unk>मक<unk>ता.', 'सोमवार.', 'विस<unk>ता.', 'पोलिमर.', 'रक<unk>ताभ.', 'भुगता.', 'भ<unk>रष<unk>टचररीयों.', 'खाक<unk>ति.', 'मुख<unk>यमं<unk><unk><unk>रियों.', 'मद.', 'कक<unk>षांग.', 'जैन.', 'महिन.', 'सूरवाना.', 'बांगरोटिया.', 'रसायनिक.', 'औरोरा.', 'चमचागिरी.', 'एनसीआरआरवीसी.', 'ऐंथे.', 'ईसेल.', 'देशसेवा.', 'इइलेक<unk>ट<unk>रोटेक<unk>स.', 'वर<unk>चाार<unk>ज.', 'कारवाई.', 'झंक<unk>टा.', 'अर<unk>जेंट.', 'साप<unk>रमण.', 'मौर<unk>य.', 'जिनी.', 'जगददेशचंद<unk>र.', 'असुरक<unk>षित.', 'काव<unk>योक<unk>तियाँ.', 'अलनकार.', 'स<unk>वादप<unk>रेमियों.', 'जातक.', 'रोलर<unk>स.', 'अशक<unk>तता.', 'काथियावडी.', 'आवृति.', 'विद<unk>यायें.', 'विधिवत.', 'राढ़े.', 'मुख<unk>यमं<unk>त<unk>रिसवादा.', 'प<unk>रानसंगली.', 'कानॉलॉग.', 'पुदुकोट<unk>टई.', 'निकी.', 'फुहड़ता.', 'पताचेप.', 'रेट<unk>रेट.', 'मनोवैज<unk>ञानियों.', 'स<unk>तानाधारी.', 'मुख<unk>योपध<unk>याय.', 'निरबाध़.', 'तोडने.', 'अवुति.', 'परिक<unk>षणकर<unk>ताओं.', 'एक<unk>सटैक<unk>टर.', 'नाशिक.', 'रसायनों.', 'वात<unk>रवती.', 'ओग<unk>रेनाइज.', 'चासिंघा.', 'फलोड़ी.', 'स<unk>लान.', 'पनामा.', 'निगर.', 'मोंटे.', 'सुनीति.', 'श<unk>रबों.', 'अम<unk>बिकाओं.', 'गुजरा.', 'फोटोफ<unk>रेम.', 'प<unk>रहलाद.', 'बीसवान.', 'द<unk>विवेदी.', 'डेनेवाली.', 'बर<unk>लेसन.', 'भरदवाज.', 'जताति.', 'मालेगांव.', 'रहुगान.', 'महामन<unk>त<unk>र.', 'बीअस<unk>ट.', 'दिव<unk>यता.', 'संजिवन.', 'कुपोषित.', 'इक<unk>सक<unk>लेशन.', 'चढ़ेगा.', 'टेक<unk>सारकाना.', 'डूंगरपुर.', 'सराही.', 'लालपरी.', 'एणोनॉटिक<unk>स.', 'वार<unk>थ.', 'आस<unk>टीन.', 'स<unk>वप<unk>निका.', 'उपकार<unk>यालयों.', 'मिमिक<unk>री.', 'बल<unk>लभ.', 'वेरीफिकेशन.', 'हैकेंसैक.', 'आकाश.', 'बोना.', 'क<unk>लॉक.', 'दफन.', 'पेगव.', 'कहलाया.', 'मढीखेढ़ा.', 'टेलीबाग.', 'धारक.', 'निकालनी.', 'कांघे.', 'प<unk>रश<unk>नोत<unk>तरी.', 'काकिनाड़ा.', 'भाज<unk>योडय.', 'सिंगर.', 'मचाएे.', 'लेखाकगणों.', 'उछलने.', 'धर<unk>मराजने.', 'इंजल.', 'बनटता.', 'फर<unk>म.', 'रवेल.', 'हनुमानढ़.', 'वीरांगनाओं.', 'गयत<unk>री.', 'वेंक<unk>त<unk>रमण.', 'दिबनू.', 'पुरूषोत<unk>तमचारी.', 'सन<unk>योजकों.', 'झाऊगंज.', 'सरकरें.', 'न<unk>यूटेस<unk>ट.', 'श<unk>रीकर.', 'मिताओ.', 'दियोत<unk>सिद<unk>ध.', 'भूपसिंह.', 'चर<unk>ाएं.', 'प<unk>रसरकों.', 'निष<unk>पाप.', 'फ<unk>लिन.', 'रन<unk>नीतिबना.', 'आेर<unk>जी.', 'ढागा.', 'गोमुख.', 'जुड.', 'खानिकर<unk>मी.', 'शरभ.', 'अरेलानो.', 'उखाधाकर.', 'लेनेवाली.', 'कुमार.', 'सिंघड़े.', 'टॉनसिल.', 'दविंदरपाल.', 'सिंगार.', 'खिसकते.', 'एनिड.', 'मेगापिक<unk>साल.', 'डिग<unk>विजय.', 'फज़लों.', 'डॉग.', 'लबेलों.', 'मुनफा.', 'बढ़ने.', 'वेरी.', 'सातसेरा.', 'ओर<unk>टेगा.', 'रूव.', 'भािया.', 'राजस<unk>थानवासियों.', 'बागबगीचों.', 'विल<unk>किंसन.', 'दराती.', 'अटके.', 'प<unk>रमुखतापूर<unk>वक.', 'यतना.', 'निटिन.', 'सिटी.', 'रेडिको.', 'दुकनों.', 'जलससंसधन.', 'मस<unk>येन<unk>द<unk>रनाथ.', 'बहह.', 'बर<unk>षिय.', 'अवरू.', 'डीव.', 'नक़ब.', 'सरेेगामा.', 'हुगली.', 'सत<unk>ती.', 'नेग.', 'महाबलेश<unk>वर.', 'प<unk>लेसेंटिया.', 'वरसाचे.', 'कुमाउ.', 'इएमई.', 'थीयट<unk>रस.', 'एरिका.', 'खिंचाकर.', 'रौबादर.', 'अल<unk>टो.', 'काव<unk>यविधाओं.', 'कून.', 'अक<unk>रों.', 'तहखाना.', 'समज<unk>जनों.', 'मछाए.', 'सूर<unk>यदेव.', 'प<unk>रथामिक.', 'प<unk>रवृत<unk>रियों.', 'ताजा.', 'जिवनशैली.', 'रक<unk>तदाताओं.', 'बालेश<unk>वर.', 'भौतिकवादियों.', 'लगातीं.', 'झइइयां.', 'वंशवाद.', 'नवनगर.', 'नजरनदाज़.', 'अनशांकन.', 'फँकने.', 'मतपत<unk>रों.', 'मोड<unk>यूल.', 'फ़र<unk>म<unk>स.', 'पहुंचोगी.', 'मैदी.', 'थीएफ.', 'फ<unk>फॉडलर.', 'अमित.', 'पूर<unk>वभद<unk>रपद.', 'लंडारा.', 'गोनपो.', 'वेस<unk>ले.', 'शाओ.', 'हमीदनन.', 'वीक<unk>स.', 'मिनेरल.', 'सेनटटनियल.', 'बस<unk>तियो.', 'बागबागीचों.', 'प<unk>रणित.', 'भेड़भावों.', 'कराहना.', 'ग<unk>रीनविले.', 'शेरावत.', 'रलौद.', 'जटकों.', 'रिश<unk>ते.', 'बेंटनविले.', 'नाजीबाबाद.', 'फाइनेंसियर<unk>स.', 'फतही.', 'केराला.', 'लड़ाइयों.', 'हरिजन.', 'व<unk>हिटेकर.', 'विदिषा.', 'पौल.', 'आर<unk>यों.', 'खिलाना.', 'छूटने.', 'दुखियों.', 'पूर<unk>नेश<unk>वरी.', 'विसबल.', 'दाराम<unk>ननी.', 'यारी.', 'विधमान.', 'यत<unk>राएं.', 'संटेक.', 'गुजरतता.', 'नियंता.', 'डुम.', 'अवस<unk>थि.', 'प<unk>लस.', 'भेन<unk>.', 'ट<unk>टॉप<unk>स.', 'ढकेलते.', 'केपीओ.', 'दमघों<unk>तु.', 'इंसानो.', 'मेरेएग.', 'अस<unk>फल<unk>ट.', 'लौंडरी.', 'रत<unk>नाभूषण.', 'एसकेआई.', 'दुश<unk>वारियों.', 'अनुप<unk>रोगों.', 'देशशेवा.', 'लेला.', 'जगरागल<unk>लू.', 'मेजबानी.', 'डेहरी.', 'चक<unk>कर.', 'क<unk>रावफ़र<unk>ड.', 'गुडुरी.', 'डीवीसी.', 'प<unk>रक<unk>रियागत.', 'नाग.', 'मत<unk>स<unk>यावतर.', 'स<unk>कूटरों.', 'अर<unk>धविश<unk>वस.', 'दरम<unk>यानी.', 'सूर<unk>वना.', 'स<unk>थितियां.', 'धर<unk>मानंद.', 'सफफनर.', 'स<unk>क<unk>वाश.', 'विधनसभां.', 'रेंडोल<unk>फ.', 'मेज़बान.', 'स<unk>प<unk>रित.', 'शीलभांग.', 'कामें.', 'स<unk>वर<unk>णिका.', 'मांडी.', 'अर<unk>थव<unk>यवस<unk>थताओं.', 'कुंदलिया.', 'निमकथनना.', 'फर<unk>म.', 'हत<unk>यारोपित.', 'पुट<unk>टा.', 'फ<unk>यूरेंसिस.', 'पुरूषोत<unk>तमाचरी.', 'बॉन<unk>ड.', 'शिकायतकर<unk>ता.', 'क<unk>रॉन<unk>फ<unk>रेंसिंग.', 'उबल.', 'बाबाओ.', 'हलममतपुरा.', 'हक़ीक़त.', 'बर<unk>मन.', 'वर<unk><unk>तमान.', 'बान<unk>तिन.', 'अचनभा.', 'जिवापर<unk>यन<unk>त.', 'वाारा.', 'सदाकें.', 'एआईएसए.', 'ज<unk>योतिश<unk>यशास<unk>त<unk>रों.', 'पाइथागोरस.', 'एंजेलिन.', 'कपोलकल<unk>पना.', 'द<unk>रोपदियों.', 'रॉजलिन.', 'श<unk>रीराम.', 'गोपालक.', 'बंगबन<unk>धु.', 'मिस<unk>ट<unk>रियां.', 'यूएसई.', 'मरकाडो.', 'मैसोरे.', 'ओफशॉर.', 'कपुर<unk>थला.', 'सहोवलिया.', 'मादाहिया.', 'हाइमेन.', 'इन<unk>दौरनगर.', 'विशेषज<unk>ञताओं.', 'उसकी.', 'कैप<unk>लिन.', 'महाप<unk>रन.', 'रूपेश.', 'रेनो.', 'सुदीप<unk>तों.', 'स<unk>वामी.', 'अमारा.', 'व<unk>यवस<unk>थामूलक.', 'सेन<unk>सिंग.', 'टाइलर.', 'संगारेड<unk>डी.', 'पहनो.', 'मारदानी.', 'बमलेश<unk>वरी.', 'दीवानी.', 'फिनकॉर<unk>प.', 'नवा.', 'शिमत.', 'सोहवाल.', 'बनाम.', 'प<unk>रव<unk>रुत<unk>रियों.', 'श<unk>वॉओंग.', 'वार<unk>स<unk>टेड.', 'राजों.', 'चीखाना.', 'नैमुल.', 'बाोतोत<unk>री.', 'एंटोनी.', 'छण<unk>यासा.', 'निर<unk>देशिका.', 'निप<unk>तारा.', 'जुडने.', 'सुझतती.', 'पथथलोजिस<unk>ट.', 'टाइड.', 'श<unk>रूंगर.', 'ब<unk>रान<unk>डेस.', 'पर<unk>मेश<unk>वरपुर.', 'जेडतीसााफ<unk>त.', 'उद<unk>धातन.', 'स<unk>टैन.', 'आदिवादियों.', 'जुलाहों.', 'महाराजा.', 'गतिशिलता.', 'शिप<unk>र.', 'ट<unk>राबुनल.', 'खाइबर.', 'वानविभाग.', 'घटाटोप.', 'धर<unk>माग<unk>रथनथों.', 'प<unk>रवृत<unk>तियों.', 'गांथ.', 'माइसोर.', 'सेगलाल.', 'नाककिन.', 'वैध.', 'वनस<unk>पतियां.', 'जियांगकोआ.', 'पाखंडी.', 'प<unk>रोटेक<unk>ट<unk>स.', 'एल<unk>ैैनो.', 'लिंडेन.', 'सोहवल.', 'भुरभूरा.', 'गस<unk>ट<unk>रोलॉजी.', 'विडरूप.', 'साजसज<unk>ज.', 'रात<unk>रिचर.', 'रोजना.', 'जललरव.', 'मांटगोमरीी.', 'सेव.', 'भ<unk>रस<unk>त<unk>राचारियों.', 'डीएन.', 'स<unk>त<unk>रेशन.', 'गांठे.', 'गहलोत.', 'छतेनी.', 'विश<unk>वस<unk>निय<unk>या.', 'जिवनियां.', 'दस<unk>तानें.', 'धोना.', 'खरुवार.', 'सुरिनामे.', 'मंगलसिंह.', 'अन<unk>योण<unk>यश<unk>रित<unk>त.', 'निनटीज.', 'पांचोलास.', 'रेसोन.', 'वातानुकूलितों.', 'चतुष<unk>कोनीया.', 'आमदी.', 'दुष<unk>तापूर<unk>वक.', 'बेचते.', 'चुका.', 'मिजोोरम.', 'टॉरेंस.', 'अनुचित.', 'अवरोधक.', 'रॉस.', 'अच<unk>युत.', 'ऊधमि.', 'हरावल.', 'गॉल<unk>ड.', 'दाव.', 'श<unk>रजनविज<unk>ञनी.', 'नेक<unk>सजेजन.', 'रुकवतों.', 'भाणाओं.', 'देहधारी.', 'परिखां.', 'यूटेनी.', 'संॅ<unk>क<unk>रिशन.', 'प<unk>रोस<unk>पेक<unk>स.', 'नईदिल<unk>ली.', 'सायन.', 'गेनेवा.', 'रसाद.', 'बारामुला.', 'वन<unk>दमतरम.', 'सफरी.', 'चंबा.', 'सवाल.', 'बन<unk>नारी.', 'फतेहपुर.', 'पहनेट.', 'स<unk>प<unk>रे.', 'नॉर<unk>माल.', 'अल<unk>लोउट.', 'मानासास.', 'मंत<unk>रियोंके.', 'कार<unk>यकार<unk>यकर<unk>ताओं.', 'फादनहें.', 'ग<unk>रेग.', 'बैतूल.', 'कुशान.', 'सुबनबी.', 'इंफीबियम.', 'खटखटााकर.', 'छाचजी.', 'चन<unk>द<unk>रबलली.', 'बरिपाड़ा.', 'रूलेलखण<unk>ड.', 'घैरकानूनी.', 'आरेखाह.', 'प<unk>रमुखकर<unk>मियों.', 'ली.', 'थियेटर<unk>स.', 'असमम.', 'फानों.', 'ज<unk>याडा.', 'थियेटररॉन.', 'सफफकर<unk>मी.', 'बाइजेस.', 'क<unk>रॉन<unk>फ<unk>रेन<unk>सिंग.', 'जीवराज.', 'ठिरके.', 'शक<unk>सबबहेहे.', 'पराट<unk>रूपर.', 'दारारा.', 'उूएसआई.', 'निहसंदेह.', 'महानतमम.', 'बानथिया.', 'अनाम.', 'कश<unk>मिर.', 'बावड़ी.', 'भुट<unk>टो.', 'मारके.', 'कार<unk>ययोजना.', 'फ<unk>रेंसिस<unk>को.', 'आदानी.', 'धुरिया.', 'माहविद<unk>य.', 'मेगापिक<unk>सेल.', 'क<unk>रिप<unk>टोकररेंक<unk>नों.', 'मुथ.', 'अथोरिटी.', 'अपरिवर<unk>तनशील.', 'प<unk>रधननमन<unk>त<unk>रिकी.', 'आगाशे.', 'नवजागरन.', 'अत<unk>त<unk>रा.', 'उबाला.', 'अमनतती.', 'खम<unk>मम.', 'हारणा.', 'भावभिव<unk>यक<unk>तियों.', 'पुष<unk>कर.', 'शान<unk>तियों.', 'नेरोलैक.', 'चौका.', 'सिद<unk>धलिंगा.', 'भरत<unk>नत<unk>यम<unk>यम<unk>.', 'जवाबह.', 'दुश<unk>वरियों.', 'मंचिय.', 'जियो.', 'सप<unk>रमाण.', 'सिम.', 'पीचडाबलूसीजीज.', 'बहव.', 'टिक.', 'अगवाई.', 'हिगमान.', 'किवी.', 'अज<unk>ञत.', 'अगें<unk>डे.', 'लिंचबर<unk>ग.', 'मांगीना.', 'खटखताएगी.', 'जोढिका.', 'स<unk>रुजनविज<unk>ञानी.', 'डिटासन.', 'बडलवा.', 'आरआफएफ.', 'छापेमार.', 'लक<unk>स.', 'भोपाल.', 'फालिभूत.', 'पैथेलॉजिस<unk>ट.', 'पर<unk>यप<unk>त<unk>ता.', 'फ़र<unk>टी.', 'मृत<unk>युनिवारक.', 'मरुति.', 'उठाकर.', 'अलो.', 'पेगव.', 'पिलीभित.', 'सोमी.', 'संचलनों.', 'कंचिपुरम.', 'दराती.', 'यददद<unk>त<unk>त.', 'सबूदना.', 'वेल<unk>डिंग.', 'वेरोनिका.', 'स<unk>टिंबरवाला.', 'मयजाल.', 'पीस.', 'अतुल.', 'ऑटोमैैटिकली.', 'जांचना.', 'मिथिलांचल.', 'फिकसिंगह.', 'सजेती.', 'प<unk>लानो.', 'विसंगतिया.', 'खोमचे.', 'लग<unk>ना.', 'मुकेश<unk>वरी.', 'तसवारों.', 'डेव.', 'वेश.', 'ज<unk>योथी.', 'लंडल.', 'विरांग<unk>नाओं.', 'यनित.', 'पुर<unk>निया.', 'चौक.', 'लादीन.', 'चेस<unk>ट.', 'कासेगा.', 'अबूत.', 'रेणुका.', 'लूवे.', 'गुलाबाग.', 'लज<unk>जलु.', 'सभार.', 'गैरर<unk><unk><unk><unk>रवादी.', 'धावकों.', 'लिम.', 'विधाएं.', 'स<unk>वय<unk><unk>वीक<unk>रत.', 'इलेक<unk>ट<unk>रोट<unk>ट<unk>क<unk>स.', 'रामराज.', 'जनभव<unk>ना.', 'यौनिकता.', 'हाठे.', 'डुने.', 'प<unk>रोटेक<unk>ट<unk>स.', 'वररिन<unk>ये.', 'मजबूरी.', 'प<unk>रवीणचण<unk>द.', 'वैज<unk>ञानिक.', 'टॉरेंट.', 'आत<unk>मयें.', 'संप<unk>रति.', 'मटटठे.', 'सविता.', 'अटलांटिक.', 'जललगती.', 'चच<unk>छा.', 'अफ<unk>रीन.', 'बाजारू.', 'चौकी.', 'फारसे.', 'ॉनिंग.', 'नोदरानी.', 'मॉम.', 'विधानी.', 'गुजर.', 'पकड़कर.', 'आंखें.', 'आपका.', 'वार<unk>नर.', 'अनवाहर<unk>य.', 'लिखेहैं.', 'पाथ<unk>यक<unk>रम.', 'शाकों.', 'यरूशालीम.', 'मण<unk>दलायुक<unk>तो.', 'नैनो.', 'झाइयां.', 'सिम<unk>फोपॉल.', 'धम<unk>म.', 'निखारेगा.', 'घुमान.', 'होंगा.', 'ढकल.', 'सागरिका.', 'बर<unk>नार<unk>ड.', 'योगबल.', 'ब<unk>रीवरीज.', 'डिश.', 'ऐतन.', 'वर<unk>तमान.', 'त<unk>रेमासिक.', 'तसविये.', 'व<unk>विर<unk>गत.', 'मराठा.', 'बनवा.', 'स<unk>वर<unk>णिका.', 'प<unk>रसाथ.', 'ओवरॉॉल.', 'पुर<unk>वफलगुनी.', 'प<unk>रोपरफेसबूक.', 'सुवेन.', 'सपते.', 'झ.', 'कारघे.', 'देशकाल.', 'नाथद<unk>वाा.', 'थानवी.', 'ओरन.', 'सेरानो.', 'ईएर.', 'सबमिशन.', 'धरक.', 'तदाद.', 'ग<unk>रीनवुड.', 'हाउटे.', 'बेहुरिया.', 'नियनताओं.', 'चुरू.', 'मिसोउरी.', 'अन<unk>यया.', 'जेनेरेट.', 'न<unk>यूटेस<unk>ट.', 'गरूद.', 'स<unk>वास<unk>तिककार.', 'शाइ.', 'सिद<unk>धन<unk>तवादियों.', 'अनवाश<unk>यक.', 'सीटेन.', 'गुलशान.', 'रिया.', 'फर<unk>ममियन.', 'तायर.', 'चि.', 'बदलापुर.', 'युद<unk>धनौका.', 'एनबीसीसी.', 'श<unk>रीगंगनगरवासियों.', 'उड़ा.', 'कैम<unk>ब<unk>रिज.', 'एरवे.', 'आईडीओएल.', 'कैल<unk>यूमेट.', 'आजमाना.', 'तंत<unk>रिकाओ.', 'जोनेसबोरो.', 'बुद<unk>धिजीवों.', 'क<unk>लॉज़.', 'एनएमडीसी.', 'राष<unk>ट<unk>रपित.', 'कममहटटी.', 'अस<unk>फॉल<unk>ट.', 'फ<unk>रांसिस<unk>को.', 'भल<unk>ला.', 'मौलविदों.', 'नरवार.', 'लहलहतती.', 'ब<unk>यावा.', 'घटाएगी.', 'नामजदगी.', 'ताकाह.', 'सेवाग<unk>राम.', 'लामियाँ.', 'जीन.', 'स<unk>वेछ<unk>छ.', 'अंतदियां.', 'आर<unk>या.', 'पोलिशिंग.', 'जोखीमभरा.', 'उमदती.', 'तान<unk>त<unk>र.', 'समोआ.', 'सीएसआई.', 'मण<unk>ड<unk>या.', 'लेरी.', 'पहान<unk>ते.', 'अनकोर.', 'निम<unk>नवत.', 'रेपिंग.', 'रुपेश.', 'प<unk>रतिबद<unk>धता.', 'नादेप.', 'सैलानीपन.', 'मेनराज<unk>य.', 'दाव.', 'आबूरोद.', 'पथ<unk>यक<unk>रमों.', 'निविदाताओं.', 'गांधीपुरा.', 'फीएीसीएसएस.', 'नारायंगढ़.', 'जयललिता.', 'सुसंस<unk>क<unk>रुत.', 'मसूद.', 'वूनसॉकेट.', 'संस<unk>कृतियां.', 'यूएफएफएफ.', 'थेरतिपल<unk>ली.', 'प<unk>रतिनिर<unk>देश.', 'उल<unk>हासपुर.', 'पहनते.', 'धवकों.', 'भाेे़.', 'प<unk>रनसंगली.', 'जलवायु.', 'भिजवाई.', 'सयरा.', 'क<unk>रेन<unk>द<unk>रों.', 'मौजूद.', 'सिद<unk>धान<unk>त.', 'काम<unk>युनिकेटर<unk>स.', 'चिड़चिड़नपन.', 'मुथूत.', 'विवेकाधिकारों.', 'मलों.', 'सिनिननाटी.', 'रेजिस<unk>टान.', 'परोसने.', 'विचारकों.', 'जनभव<unk>ना.', 'अंदमन.', 'बद<unk>याल.', 'मोरेपेन.', 'बीयर<unk>ड.', 'नोदारानी.', 'दिखाईी.', 'चिंक.', 'व<unk>याख<unk>यात<unk>मक<unk>ता.', 'शैशव.', 'आइंथू.', 'अहेमदादह.', 'जाकके.', 'सिग<unk>निटी.', 'कुरूक<unk>षेत<unk>र.', 'प<unk>रवृत<unk>तियों.', 'चर<unk>चा.', 'लक<unk>ष<unk>मीचंद<unk>र.', 'हममं<unk>ड.', 'निभाएगी.', 'धुनै.', 'जनभावना.', 'कांट.', 'मेलाघात.', 'मुए.', 'श<unk>विंग.', 'डम<unk>पत<unk>या.', 'क<unk>पाडा.', 'संतति.', 'मानवतहहित.', 'अनुप<unk>रयोगी.', 'हार<unk>वे.', 'काजू.', 'सेरिटस.', 'टेक<unk>समैको.', 'संचर.', 'तुथ.', 'लोजाानो.', 'रोपेने.', 'हॉलीवुड.', 'छिंके.', 'धम<unk>मा.', 'टेक<unk>नोप<unk>लास<unk>ट.', 'पुजापथ.', 'चनन.', 'श<unk>रनखलाओं.', 'छेदना.', 'कार<unk>बोजेन.', 'व<unk>यवधान.', 'श<unk>क<unk>ट<unk>ज.', 'इस<unk>ट<unk>रेइलियों.', 'स<unk>क<unk>वाश.', 'दैनविले.', 'प<unk>रना.', 'ठाकुरवादी.', 'प<unk>रयोगशास<unk>त<unk>र.', 'व<unk>यक<unk>तियों.', 'मेट<unk>रोलॉजिस<unk>ट.', 'मधुरा.', 'पलियों.', 'डेनवर.', 'एपीजी.', 'बेनी.', 'प<unk>रतिस<unk>थान.', 'भ<unk>रष<unk>टाचारियों.', 'लेकीर.', 'सुधारग<unk>रह.', 'सं<unk>दली.', 'जागृति.', 'तलवार.', 'जनशिक<unk>षा.', 'तपुवो.', 'बुलेटिन.', 'बालेबाजी.', 'माढीखेढ़ा.', 'अर<unk>थशास<unk>त<unk>रियों.', 'स<unk>केनिंग.', 'मेहमन.', 'रहेगी.', 'जमशेदपुर.', 'त<unk>यौहरों.', 'दर<unk>शाना.', 'बीचबचाव.', 'सुलति.', 'वर<unk>षण.', 'सुधारती.', 'वसामुक<unk>त.', 'पतिल.', 'जेवाब.', 'सोटो.', 'ध<unk>तुन.', 'डोसे.', 'भागडौद़.', 'पगबबाा.', 'अरुषी.', 'अगुस<unk>ता.', 'तितान.', 'इक<unk>विटीज.', 'एयरटेल.', 'अलेप<unk>स.', 'नकसाली.', 'एशिवमेंट.', 'गलाएगा.', 'फूड़ों.', 'राजनीची.', 'आर<unk>या.', 'स<unk>ट<unk>रेमवुड.', 'घोट.', 'मुसिक.', 'पुर<unk>कायस<unk>था.', 'नोरा.', 'टोनिक.', 'गुजारने.', 'वाटर.', 'सुनसान.', 'सिरसा.', 'टंगिराला.', 'हंसों.', 'वरुन.', 'ड<unk>रेजर.', 'दौड़ाते.', 'शारबों.', 'व<unk>यक<unk>तियों.', 'सातसेरा.', 'दर<unk>जनो.', 'अग<unk>नियाँ.', 'धोना.', 'कार<unk>यकार<unk>त<unk>रियों.', 'अवस<unk>थाएं.', 'हिममानव.', 'ट<unk>वो.', 'एआईए.', 'बांधुओं.', 'श<unk>रद<unk>धवनों.', 'मारियो.', 'व<unk>याघाट.', 'मिकेल.', 'अद<unk>र<unk>घ.', 'वित<unk>तल.', 'प<unk>ररूप.', 'ढूँधतती.', 'डुबाना.', 'लडने.', 'फ़ॉर<unk>म.', 'ज़ुआरी.', 'परिवरवाले.', 'पेरेनॉर<unk>मल.', 'भुवनेशवाप<unk>रसाद.', 'इआईआईएस.', 'प<unk>रतिज<unk>ञपूर<unk>ण.', 'लेबालोन.', 'श<unk>र<unk>रकृष<unk>णन.', 'स<unk>निकारसे.', 'कैन.', 'भूस<unk>वामी.', 'करता.', 'अन<unk>या.', 'नोकारी.', 'प<unk>रिसिजन.', 'क<unk>रोम.', 'जुए.', 'बाउलिंग.', 'तापति.', 'कैथोलिकॉन.', 'नाजारंदद.', 'मुलचंद.', 'स<unk>वेछ<unk>छा.', 'नन<unk>यौला.', 'घोंटना.', 'अद<unk>वैतवाद.', 'अंडरवुड.', 'लुभावना.', 'पेट<unk>रोसेली.', 'एएमडीआइ.', 'रोपने.', 'डेसि.', 'जबबी.', 'सीपी.', 'फाड़े.', 'उलहना.', 'उन<unk>नतियों.', 'मोलिना.', 'गांडचुभूभोचाचछे.', 'हन.', 'प<unk>रदर<unk>शन.', 'सरजूगा.', 'बिदार.', 'अमर<unk>गद.', 'जुए.', 'टोंक.', 'देवापुर.', 'इंटेलिजेंस.', 'नीतियों.', 'खनौदा.', 'पोरबंदार.', 'सिम.', 'लग<unk>नेश.', 'गायिकाओ.', 'पृष<unk>ठभूमियों.', 'मूलचन<unk>द.', 'सिल<unk>चर.', 'मार<unk>गरिटा.', 'उदाकिशुगंज.', 'सिर<unk>ती.', 'यमाला.', 'प<unk>रशिक<unk>षु.', 'सिरेरा.', 'आल<unk>हा.', 'पीईकी.', 'तासखिर.', 'डाका.', 'नोमिनेट.', 'सपत.', 'कोइम<unk>बेटर.', 'कोरापुत.', 'स<unk>वयत<unk>तशासन.', 'विद<unk>यूतिकृत.', 'किकियाना.', 'अरुणाई.', 'रिगल.', 'डायोंड.', 'मृदुभाशी.', 'वाल<unk>टर<unk>स.', 'सूत<unk>रपदा.', 'कीटी.', 'ज़िलाधिकारी.', 'मंगेश.', 'पेन<unk>शन.', 'लगानेवाले.', 'जिलावासियों.', 'प<unk>लॉस<unk>की.', 'एकसाठ.', 'सेखर.', 'डूओवी.', 'अर<unk>धविश<unk>वास.', 'राजस<unk>थन.', 'विकासखण<unk>ड.', 'सम<unk>शयों.', 'बढ़ना.', 'क<unk>लासन.', 'इखरुल.', 'फ़ुरामे.', 'एबाज.', 'बाताया.', 'जुशान<unk>तन.', 'स<unk>ट<unk>रॉंग.', 'राजनितिकरणों.', 'पनिपत.', 'ब<unk>लैनकार<unk>ड.', 'झबुआ.', 'जसिंतो.', 'बारहसिंगा.', 'सुचनाह.', 'इलेक<unk>ट<unk>रोमाजिक.', 'लालमनी.', 'भौलाल.', 'कठुआ.', 'पलारी.', 'अमिताओ.', 'तदनरस<unk>ती.', 'वाबस<unk>ता.', 'व<unk>लैड.', 'स<unk>लैश.', 'वाटरबबरी.', 'सेल<unk>फी.', 'लुइस.', 'पंचसूत<unk>र.', 'अर<unk>यमा.', 'वादक.', 'जंक<unk>शन.', 'जेनेरिक.', 'जिया.', 'एडेन.', 'सॉफ<unk>नर.', 'क<unk>वी<unk>गा.', 'ध<unk>विनिमिकों.', 'फीडस.', 'सुकड़ियाल.', 'अंगढ़.', 'बावजी.', 'छोडिए.', 'सीआईपीएलए.', 'विज<unk>ञानों.', 'धस<unk>माना.', 'लॉंगवाल.', 'बदम.', 'आत<unk>रैक<unk>त.', 'सराहा.', 'नृत<unk>यशैली.', 'संवरी.', 'यक<unk>षाधिपति.', 'अरबपतियों.', 'मुकद<unk>दमों.', 'फ़ोड़.', 'सिहुंता.', 'जीवन.', 'ढूँढता.', 'क<unk>रेसीज.', 'कार<unk>यकार<unk>त<unk>रियों.', 'प<unk>रतिबद<unk>धताएं.', 'डीएलवी.', 'प<unk>लन.', 'पेइलोट.', 'अधिवास.', 'फेन<unk>न.', 'फाववारा.', 'हल<unk>चल.', 'विश<unk>वववीर.', 'क<unk>रेस<unk>ट.', 'ब<unk>रहममीन.', 'विरेचन.', 'याद<unk>दाष<unk>ट.', 'उज<unk>जैन.', 'सह<unk>यात<unk>रे.', 'जिम<unk>मे.', 'सरावागी.', 'देखिएेगा.', 'वजूद.', 'कुंदल.', 'रिया.', 'स<unk>लाइडर.', 'मैनेजमेंट.', 'कार<unk>यकार<unk>यकर<unk>ताओं.', 'क<unk>रिस<unk>टिस.', 'रुक<unk>ते.', 'डिस<unk>ट<unk>रब<unk>युटर<unk>स.', 'स<unk>पेल.', 'दामापार.', 'थिकने.', 'इंट<unk>रैक<unk>ट<unk>अलिटी.', 'क<unk>ड<unk>यान.', 'साउथ.', 'आपका.', 'नहिंकर<unk>वाई.', 'जागृति.', 'चूढ़े.', 'थीर<unk>टी.', 'नादसा.', 'जीएसएम.', 'गुजरत.', 'डर<unk>शनार<unk>थी.', 'नाभा.', 'ढोकेबाज.', 'लेगा.', 'बीईयाइटीम.', 'सोमवार.', 'वनों.', 'औध<unk>योगिकरण.', 'अग<unk>रहरी.', 'आफा.', 'तीमारदाों.', 'मिसरा.', 'सेरेब<unk>रा.', 'नाग<unk>रिक.', 'दस<unk>तार.', 'मकर<unk>.', 'जीटीओआर.', 'बैलिस<unk>टिक.', 'चढ़ेेगा.', 'माँगे.', 'निलभ.', 'मेनशराब.', 'सिंघड़े.', 'हिसारह.', 'रामकोट.', 'बैठते.', 'तास<unk>खीर.', 'ईशारा.', 'सोलापुर.', 'मेजबानी.', 'फ<unk>लोरेंस.', 'परामर<unk>षक.', 'झाड़ने.', 'थीटर<unk>स.', 'आदान.', 'एम<unk>बीयेंस.', 'सुरक<unk>षाः.', 'हिकारिको.', 'बाण<unk>या.', 'रूकवाई.', 'मित<unk>रवत.', 'बोकारो.', 'मौर<unk>य.', 'प<unk>रतिनिधिकारी.', 'चन<unk>द<unk>रमाओं.', 'परोसने.', 'धैया.', 'स<unk>परिट<unk>स.', 'लिएन<unk>ड<unk>रो.', 'सिन.', 'स<unk>वार<unk>थपरक.', 'चुचियाँ.', 'महामिदिया.', 'पूर<unk>वजन<unk>मों.', 'शोहदापनती.', 'कुशान.', 'जमलोकी.', 'एवीरेस<unk>ट.', 'तस<unk>वारों.', 'अद<unk>विवस.', 'प<unk>रेमलताा.', 'मुरिटेटा.', 'वैमनस<unk>य.', 'केली.', 'टिनप<unk>लेट.', 'वाँ.', 'महामन<unk>त<unk>र.', 'मेज़बान.', 'शुमाली.', 'फुलाये.', 'प<unk>रिट<unk>ट.', 'रोजवेल<unk>ट.', 'प<unk>रशासनिक.', 'उलज़ानों.', 'पत<unk>रकारवर<unk>ता.', 'दुअर.', 'कथफोड़ेव.', 'बिपिन.', 'ओफरह.', 'इसयियों.', 'प<unk>रोपेलेंट.', 'कनसाई.', 'सिखिन.', 'सीडीसीएल.', 'अबॉॉट.', 'कटलारी.', 'आदिवादियों.', 'चित<unk>रकथा.', 'अवशिष<unk>ट.', 'फ<unk>यूचूरिस<unk>टिक.', 'तेरीह.', 'नन<unk>हे.', 'अवीरी.', 'सुबा.', 'शाखायें.', 'त<unk>रिकल<unk>दर<unk>शी.', 'पालसाही.', 'फैलाइये.', 'झौवा.', 'जमतत.', 'जन<unk>हनी.', 'पोंडिंग.', 'तस<unk>वरों.', 'देशकाल.', 'हिच<unk>किचा.', 'बस<unk>तीह.', 'गारिबी.', 'फड़पड़ाएं.', 'सितारम.', 'क<unk>मेरे.', 'बैरकपुर.', 'स<unk>वयमस<unk>विक<unk>रत.', 'कासोवों.', 'मजबूरी.', 'कन<unk>वोकेशन.', 'स<unk>किप<unk>पर.', 'जैपुर.', 'प<unk>रस<unk>थानों.', 'नर<unk>म.', 'रेडियोप<unk>रेमी.', 'तीतागढ़.', 'चिको.', 'राज<unk>यमन<unk>त<unk>रीज<unk>वतंत<unk>र.', 'मैनवल.', 'गुजरना.', 'सतलुज.', 'जतियों.', 'अन<unk>होनी.', 'टेलेलिंक<unk>स.', 'लब<unk>स.', 'हरावल.', 'मैरिएग.', 'मणिया.', 'ट<unk>रैक<unk>टर<unk>स.', 'कानचान.', 'लाइरी.', 'कार<unk>यावधि.', 'जलभरव.', 'भाड़ा.', 'बागोरा.', 'पीगा.', 'स<unk>टेफेन<unk>स.', 'अभिमत.', 'एकसेल<unk>या.', 'वायरलेस.', 'चौड़ा.', 'पर<unk>भनी.', 'खातेदर.', 'बढ़ना.', 'बुर<unk>च.', 'उपद<unk>रवों.', 'टिकियों.', 'मिल<unk>क.', 'डुबोना.', 'बेकर.', 'सुताली.', 'बुद<unk>धारम.', 'वेअल<unk>थ.', 'पत<unk>रनी.', 'अर<unk>धविश<unk>वास.', 'पैम.', 'कास<unk>टेनेडा.', 'बालजित.', 'भटटनगर.', 'जातकों.', 'इक<unk>यूडर.', 'स<unk>वार<unk>गडूट.', 'ऋशिकुल.', 'टेट.', 'कानहर.', 'बूअलाड.', 'युरोपीय.', 'गये.', 'दाद<unk>रेवा.', 'बिखेरने.', 'हमलो.', 'पकड़ाए.', 'उपलब<unk>धियों.', 'कोलोराडो.', 'पैकर<unk>ड.', 'जगरुति.', 'आंध<unk>रा.', 'चौंकते.', 'बेखवाबियां.', 'नफा.', 'सिंहा.', 'उत<unk>पिदन.', 'सागा.', 'आर<unk>य.', 'दिखाइये.', 'अनिष<unk>टता.', 'उदन.', 'सन<unk>युक<unk>तवस<unk>था.', 'शमताल.', 'एवाा.', 'अधिवक<unk>तागन.', 'रालन.', 'झुठलने.', 'पूर<unk>वाभास.', 'बिजेन<unk>द<unk>रसिंह.', 'चिनमनी.', 'लोकसभवाली.', 'लडकी.', 'नरसिंगढढ़.', 'संघथनमम<unk>र<unk><unk><unk>रियों.', 'रूपी.', 'कार<unk>कर<unk>ताओं.', 'अगुस<unk>ता.', 'मनमरजी.', 'अं<unk>त<unk>रमुख.', 'अनुमार.', 'रिष<unk>तनाता.', 'ड<unk>वायर<unk>थी.', 'छूटिले.', 'हैटीज़बर<unk>ग.', 'यूजी.', 'राज.', 'रेगुलाइजेशन.', 'विंध<unk>य.', 'फिक<unk>सिंगहह.', 'कमजोर.', 'भारा.', 'चौधवन.', 'फलने.', 'श<unk>रुंखला.', 'विपन<unk>न<unk>ता.', 'प<unk>रूफ<unk>रेड.', 'ज़माना.', 'घटाएगी.', 'डंगा.', 'इरिका.', 'भोला.', 'व<unk>याख<unk>यात<unk>मक<unk>ता.', 'योजनाह.', 'वेबुनियाीी.', 'रुमानी.', 'सहु.', 'प<unk>रधाननगर.', 'सीटल.', 'स<unk>टैन.', 'इंसानी.', 'हामला.', 'नूत<unk>रिओ.', 'लडड<unk><unk>ड.', 'अंतादियां.', 'कुशवाहा.', 'कोच<unk>छिह.', 'गणपथ<unk>ठी.', 'फार<unk>मिक.', 'पडेंगी.', 'अर<unk>थ.', 'मुकर<unk>रर.', 'निप<unk>तकर.', 'होलिडेज.', 'कूच.', 'उत<unk>ठक.', 'सुलखान.', 'कमेरे.', 'जगाएेगा.', 'संत<unk>री.', 'शख<unk>ियतें.', 'पनचंग.', 'ज़ाना.', 'नित<unk>या.', 'इच<unk>छही.', 'हबरा.', 'पालियों.', 'अज़ुस<unk>पर<unk>मिया.', 'ताविज.', 'फूडवर<unk>क<unk>स.', 'ग<unk>रहम.', 'प<unk>रभानमन<unk><unk><unk>री.', 'सेथ.', 'जगतप.', 'हर<unk>षित.', 'डुबना.', 'रक<unk>तदताओं.', 'मेक<unk>सिको.', 'तासिर.', 'एयरकांदिशननर.', 'एडी.', 'मैकोन.', 'इसरानी.', 'अंथ.', 'श<unk>रीमहापूर<unk>ण.', 'डॉर<unk>क.', 'जीनों.', 'घरीबों.', 'तराशकर.', 'अब<unk>जरवर.', 'आर<unk>य.', 'उखाड़.', 'साठसाथ.', 'पैकागोन.', 'हिन<unk>दों.', 'अप<unk>रिहरी.', 'मंजिल.', 'एलएफएक<unk>स.', 'कर<unk>वी.', 'दुभाषियों.', 'रिकेनकेक<unk>टिंग.', 'विंड.', 'क<unk>लियंट.', 'शरारत.', 'वें<unk>तुरा.', 'रोलिन<unk>स.', 'हेनेस.', 'निकेतन.', 'क<unk>रान<unk>तियों.', 'टीविन.', 'दिव<unk>य.', 'गिडिगेट.', 'निगमायुक<unk>त.', 'गबाली.', 'नोवाटो.', 'रिश<unk>वतखोर.', 'फांसी.', 'गरजजना.', 'निहलानी.', 'पिण<unk>टा.', 'ग<unk>रियर.', 'लेविसविल.', 'प<unk>रकाषित.', 'क<unk>लेरियेंट.', 'खायल.', 'ड<unk>वायर<unk>थी.', 'राखे.', 'बुलनददहहर.', 'स<unk>टैफ़र<unk>ड.', 'नजरियों.', 'वर<unk>ल<unk>ड.', 'जीवनियाँ.', 'पर<unk>मेश<unk>वरपुर.', 'उठनी.', 'न<unk>यूत<unk>रियो.', 'जेठा.', 'बागबगिचों.', 'सूचिकित<unk>सा.', 'नाममंदल.', 'प<unk>रदाधिकारियों.', 'ऊर<unk>वर<unk>ता.', 'नीयल.', 'क<unk>रिप<unk>टोकररेंक<unk>नों.', 'स<unk>वयात<unk>त<unk>ाासन.', 'ज़र<unk>दा.', 'उपलक<unk>ष<unk>य.', 'छुदवाया.', 'विदग<unk>धा.', 'मुख<unk>यमंत<unk>रिपतान.', 'जीनेई.', 'रतानपुर.', 'महनमतम.', 'गुणा.', 'मेटेक.ची.', 'डेनेवली.', 'नाभिकुंड.', 'विशेषणों.', 'लंगाों.', 'पोलिथेनोन.', 'सम<unk>बित.', 'ढुंध.', 'हां.', 'तकरा.', 'ढानेखेखोरी.', 'पुलिंदे.', 'इपोक<unk>लिप<unk>स.', 'विज<unk>ञानपीडिया.', 'महोनी.', 'पूंजितन<unk>त<unk>र.', 'खरे.', 'एकस<unk>टैक<unk>टर.', 'जुन<unk>हेबोतो.', 'प<unk>रियमणणी.', 'सवाल.', 'सुखाकर.', 'आलोचक.', 'फाँस.', 'जयललिता.', 'अमझेरा.', 'बोम<unk>बे.', 'व<unk>याग<unk>र.', 'अपनानी.', 'रिसाने.', 'छुरे.', 'चार<unk>लॉट.', 'जोसे.', 'रेलीह.', 'मेजबान.', 'ढाधन<unk>य<unk>य.', 'दाबुर.', 'बीएसएसएस.', 'नाजिब.', 'अवस<unk>थेयें.', 'जबलपुर.', 'धर<unk>मनिरपेक<unk>षताके.', 'फार<unk>मर.', 'नेस<unk>एल.', 'सोमरविले.', 'बुल.', 'झुले.', 'खज<unk>ञार.', 'मेहराम.', 'धस<unk>मना.', 'रिपन.', 'भग<unk>दौद.', 'मिथ<unk>या.', 'ललानिया.', 'भूलों.', 'वडली.', 'नगप<unk>प<unk>त<unk>तिनाम.', 'वैमन<unk>य.', 'बिगेस<unk>ट.', 'जोड़ता.', 'महत<unk>तरों.', 'ओरछचा.', 'धैर<unk>यवान.', 'संड.', 'प<unk>रिंस.', 'ज़ुबनन.', 'कैम<unk>स<unk>टूडियो.', 'यूरोपिया.', 'मेज़ा.', 'भुसावल.', 'गयात<unk>री.', 'वारे.', 'बुद<unk>धिजीवों.', 'एंथ.', 'रदर.', 'इलायाची.', 'उबाल.', 'श<unk>रीगंगनगरवााियों.', 'फिटजगररैल<unk>ड.', 'जीवनशैली.', 'चार<unk>ट.', 'सररगी.', 'वेदों.', 'मुरमुर.', 'भाते.', 'विप<unk>खा.', 'बयाने.', 'मदनगगंजा.', 'पैकेजियन.', 'वर<unk>णनर<unk>ताओं.', 'ज<unk>याडा.', 'लोकोत<unk>सव.', 'तेवरी.', 'झागुंज.', 'मलवान.', 'तदनरस<unk>ति.', 'ईएलए.', 'क़<unk><unk>ज़ा.', 'सुसंस<unk>कृत.', 'संधोल.', 'आमरियपपाढ़.', 'हाब<unk>बन.', 'बाउलिंग.', 'रसमे.', 'इमडब<unk><unk>लूपील.', 'विधाओं.', 'बुवी.', 'चेन<unk>नाई.', 'कमलजीत.', 'सिंघा.', 'पेंशिंधारियों.', 'बराह.', 'डुबाना.', 'इसेटल.', 'चौहन.', 'फलने.', 'सिद<unk>धार<unk>थः.', 'एपेक<unk>स.', 'डल<unk>टन.', 'श<unk>रीखण<unk>ड.', 'टेक<unk>सटाइल<unk>स.', 'अगरवाल.', 'मिथ<unk>याचारियों.', 'सीमेंट.', 'क<unk>रेनफ<unk>रेन<unk>सिंग.', 'संस<unk>कृतियों.', 'ढंककर.', 'निजमामबाद.', 'छतेनी.', 'दुष<unk>क<unk>रिया.', 'सासाराम.', 'चिधते.', 'लाम<unk>बा.', 'लाउटिस.', 'खाएं.', 'धींधे.', 'अंतयंत.', 'मास.', 'बरामद.', 'क<unk>रेमिस<unk>ट<unk>री.', 'उठठेवाले.', 'लेहना.', 'सिरागिट<unk>टी.', 'कॉन<unk>ट<unk>रॉल.', 'अन<unk>दाजी.', 'केटेलाइन.', 'पक<unk>षपत.', 'फोडो.', 'फ<unk>रेणसिस<unk>का.', 'प<unk>रयोगप<unk>रष<unk>ठ.', 'क<unk>रान<unk>तिधार.', 'डेशवाला.', 'खुरासन.', 'क<unk>वारेंटाइन.', 'फंड.', 'पक<unk>षपत.', 'पुतला.', 'त<unk>रुथ.', 'साथसथ.', 'मोहिम.', 'जोहसनों.', 'सीपीएमएम.', 'बताया.', 'पालमर.', 'तुघलाक़ाबाद.', 'एपकोटेक<unk>स.', 'हैरम.', 'सरेबजर.', 'जेरूसलेम.', 'मोल<unk>ड.', 'वर<unk>णणर<unk>ताओं.', 'हुपर.', 'वाटर<unk>स.', 'लुभाते.', 'फेफ<unk>डा.', 'कमोत<unk>तेजना.', 'दम<unk>पति.', 'सोया.', 'बाब<unk>बरतापूर<unk>ण.', 'तादीपर.', 'लूटफ.', 'तारिको.', 'छटा.', 'पिटमैन.', 'पहला.', 'मल<unk>टीमेडिया.', 'त<unk>योहार.', 'लबेल.', 'ले.', 'तीर<unk>थतन.', 'सतुआ.', 'वर<unk>गस.', 'डाबोलिम.', 'सूचनाह.', 'लेबेलिंग.', 'रोसविल.', 'फाइब<unk>रेट<unk>स.', 'आल<unk>टो.', 'पर<unk>तनी.', 'अस<unk>मिताओं.', 'वान<unk>ट.', 'तड़पती.', 'पतेल.', 'काजी.', 'दोस<unk>तानापूर<unk>ण.', 'क<unk>षेत<unk>रों.', 'लिंच.', 'स<unk>टेट.', 'रागों.', 'मल<unk>होत<unk>र.', 'प<unk>रज<unk>ञतंत<unk>र.', 'डुनीर<unk>ति.', 'क<unk>रॉस.', 'अव<unk>यवसाी.', 'धिर<unk>यवान.', 'टाइम.', 'आशारिरी.', 'चन<unk>द<unk>रदास.', 'ज<unk>योतिषी.', 'एलेक<unk>सां<unk>र<unk>िया.', 'बेवकूफाना.', 'सिरपुर.', 'अज़बेक.', 'खरुवार.', 'धर<unk>मविहीनता.', 'सुरेंद<unk>रनगर.', 'आल<unk>ह.', 'अरुणाचल.', 'क<unk>रूजर.', 'बगली.', 'दविंदरपाल.', 'चप<unk>लुसी.', 'संस<unk>कारियों.', 'इंगाइन<unk>स.', 'मेंडेज.', 'सियाह.', 'गुजारने.', 'गजरा.', 'कवि.', 'मिदनापोर.', 'वृत<unk>तो.', 'सिर<unk>मों.', 'वार<unk>टमैन.', 'उभ<unk>रेगा.', 'पिलोट.', 'नरभक<unk>षी.', 'एन<unk>ट<unk>रीक<unk>स.', 'दय<unk>तो.', 'बडदू.', 'अलररॉउंडर.', 'निशरा.', 'वाधावन.', 'जेनसेन.', 'पली.', 'त<unk>रिमासिक.', 'अत<unk>र<unk>रैक<unk>त.', 'वविद<unk>यालय.', 'चंदन.', 'मेगा.', 'मैन<unk>फील<unk>ड.', 'मत<unk>ताचेरी.', 'नवकेतन.', 'कामतर.', 'पित<unk>यूनिया.', 'पुरूषोत<unk>तमपुर.', 'तपन.', 'जुबान.', 'एनसियारडबब<unk>लूसी.', 'हैइमबिलिन.', 'आराम.', 'यशपाल.', 'वोखा.', 'छेत<unk>री.', 'ओमक<unk>स.', 'परवीन.', 'कुकरेजा.', 'प<unk>रेमफ़ाह.', 'नर<unk>मी.', 'श<unk>ृृणखलाओं.', 'अवरोधक.', 'टीरों.', 'गणेशा.', 'झडड़ा.', 'अनुपामा.', 'तलब<unk>गार.', 'बिं<unk>दल.', 'ज़वाला.', 'आमरियपदा.', 'प<unk>रतिनिधिकारी.', 'हलमतपुरा.', 'बूदम.', 'मेसियास.', 'मेडिकल.', 'रिस<unk>पेक<unk>टिंग.', 'राजजकताा.', 'डा.', 'सक<unk>शन.', 'भूमी.', 'त<unk>योहरों.', 'रंगते.', 'उत<unk>त<unk>र.', 'पेण<unk>धनधारियों.', 'कर<unk>यकर<unk>ताओं.', 'विद<unk>याओं.', 'दफान.', 'सरहिंद.', 'खास<unk>कर.', 'रेथ.', 'गुड़ौौंव.', 'सहब.', 'उदानों.', 'मेजेसको.', 'पुष<unk>पा.', 'केशरी.', 'बोम<unk>बी.', 'कर<unk>गिल.', 'तकरा.', 'बिजी.', 'क<unk>रोम.', 'स<unk>तिथि.', 'गुल<unk>फ.', 'कालोनिवासियों.', 'आवृतियों.', 'सुअनुभूति.', 'चमाच.', 'विरोधाभासी.', 'साभार.', 'अल<unk>कार<unk>गो.', 'हरना.', 'अव<unk>यवसाी.', 'प<unk>रेविंस.', 'छेठ<unk>ठरी.', 'प<unk>रतिष<unk>ठही.', 'सपा.', 'पटकी.', 'पररिियों.', 'प<unk>रतिवाद.', 'लिफाफ़ा.', 'दर<unk>शना.', 'गररिसन.', 'आकंदों.', 'धण<unk>डों.', 'डिस<unk>ट<unk>रीब<unk>यूटरी.', 'खात<unk>री.', 'पंजिका.', 'बातः.', 'रवेली.', 'कांगन.', 'प<unk>रेमात<unk>मक.', 'सिपही.', 'नोतेबंदिशुदा.', 'देवलाहा.', 'हल<unk>ला.', 'झमातें.', 'मासे.', 'उसक.', 'पितामह.', 'विवरणाभारती.', 'नेजरकॉइल.', 'लखखी.', 'अचीएी.', 'सतिन.', 'नागपुर.', 'बसिरहाट.', 'छेलाई.', 'उबरकर.', 'संयुक<unk>तवस<unk>था.', 'सुरी.', 'भपाई.', 'व<unk>यक<unk>तिगत.', 'माहिर.', 'फ<unk>लेश.', 'राष<unk>ट<unk>रक.', 'राजभाई.', 'होंग.', 'लांग<unk>रों.', 'सुभाय.', 'फंड.', 'फ<unk>लॉवर<unk>स.', 'उठने.', 'बड़ा.', 'मिशरा.', 'शत.', 'मान<unk><unk>त<unk>तान.', 'सर<unk>गुजा.', 'इवेनिंग.', 'ग<unk>रहनकाल.', 'बगली.', 'नीसू.', 'मुंडवा.', 'तोलासन.', 'जेडतीीसाफ<unk>त.', 'नागमंडल.', 'कनाल.', 'मशिलीपट<unk>नम.', 'फेलिक<unk>स.', 'हस<unk>ताक<unk>षरों.', 'भिलई.', 'कॉन<unk>ट<unk>राक<unk>टिंग.', 'क़रार.', 'जौन.', 'भालू.', 'फार<unk>टिस.', 'गिरिजाघरों.', 'जैनों.', 'अर<unk>थव<unk>यवस<unk>थाः.', 'ऑक<unk>सिस.', 'खिताों.', 'एंका.', 'चश<unk>म.', 'बताओ.', 'घ<unk>रुकुमारी.', 'प<unk>रेटेस<unk>टेंट.', 'ब<unk>यूअर.', 'लक<unk>ष<unk>मिधर.', 'सियासी.', 'उपयोगितावादियों.', 'टूगा.', 'समादजियों.', 'खुर<unk>पका.', 'कुमावत.', 'एमवीपी.', 'सुरज.', 'न<unk>यूरोसेइंििस<unk>ट<unk>स.', 'चन<unk>द<unk>रेश<unk>वरनगर.', 'तनिश.', 'फारूखनगर.', 'अवाजों.', 'नजराने.', 'पशुचारा.', 'वेबुनियाडी.', 'डानबुरी.', 'नेदिल<unk>ली.', 'छा<unk>ला.', 'रोवान.', 'शेओपुर.', 'रावलनी.', 'संवरी.', 'ढाक.', 'मासे.', 'इं<unk><unk>यरनस.', 'सम<unk>प<unk>रूता.', 'राष<unk>ट<unk>रा.', 'जौहारी.', 'जुड़ाई.', 'बदमाशों.', 'खिताबों.', 'स<unk>वय<unk>यम.', 'आगः.', 'ढिंधवाल.', 'घिसे.', 'सप<unk>पानवाली.', 'निखरें.', 'बाधित.', 'ब<unk>रह<unk>मपुर.', 'बेटोवन.', 'कोलिंग.', 'समाधियों.', 'यूनियनवादी.', 'छापेमार.', 'गरीबों.', 'थाउसंद.', 'दासिला.', 'कंजेन<unk>ेेवाइतिस.', 'बढ़ाओं.', 'लागेगा.', 'दुरघान<unk>ना.', 'नितियों.', 'कपधारी.', 'अत<unk>रीआई.', 'सिंगम.', 'वस<unk>त<unk>विक.', 'सबस<unk>टेंसिस.', 'पीलेपन.', 'उठनी.', 'हण<unk>डिया.', 'प<unk>रतिरक<unk>षी.', 'लालकर<unk>ता.', 'दुकानों.', 'निविदाताओं.', 'सर<unk>जातीय.', 'नरसनहहों.', 'नीमकथाना.', 'हेरेरा.', 'जुनून.', 'इकाई.', 'जग<unk>दलपुर.', 'स<unk>विफ<unk>टलट.', 'जाागतत.', 'पिट<unk>टस.', 'रोपी.', 'अदांगा.', 'अलासी.', 'चौकियां.', 'लेटन.', 'वक<unk>रांगीज.', 'डेवलपमेंट.', 'शानी.', 'पर<unk>देसियों.', 'भूगोल.', 'बागीची.', 'सिवां.', 'स<unk>ट<unk>रे.', 'एल<unk>ी.', 'वेयू.', 'विश<unk>न.', 'किसागोई.', 'महानिदेशक.', 'चिकितसेएवम.', 'भत<unk>ताचार<unk>य.', 'ट<unk>रेंटन.', 'कन<unk>याएं.', 'प<unk>रियदरशिनी.', 'हुखूख.', 'शुलकाह.', 'रने.', 'महाविद<unk>या.', 'संश<unk>यों.', 'श<unk>रेनीह.', 'ओडोम.', 'बेनिटेज.', 'त<unk>योहर.', 'मतियाना.', 'शव<unk>यात<unk>र.', 'रिश<unk>टे.', 'रहाना.', 'कीएसएसएस.', 'अनावश<unk>यक.', 'रिझाया.', 'ब<unk>रिगडे.', 'सपने.', 'चुनीं.', 'कोषाधिकारी.', 'करब.', 'पाल<unk>टनन.', 'कर<unk>ेेश<unk>वर<unk>धमम.', 'आर<unk>यनस.', 'प<unk>रतिष<unk>ठणों.', 'कराईकल.', 'अस<unk>की.', 'विपृतिता.', 'परिक<unk>षाओ.', 'फ<unk>यूजी.', 'लामिनार.', 'जुतति.', 'कौशिक.', 'बेकाबू.', 'ननो.', 'ओरिसाए.', 'टोमार.', 'रॉपी.', 'ठप<unk>पा़ााझी.', 'बाबत.', 'अत<unk>तहसा.', 'कोलान.', 'प<unk>रतिलीतर.', 'भूसि.', 'हलिया.', 'उत<unk>पीदन.', 'पोपे.', 'कारखेले.', 'बहुल<unk>या.', 'अस<unk>ववविक.', 'कथनईयों.', 'रमजीलाल.', 'वाुलता.', 'मुख<unk>यमं<unk>त<unk>री.', 'मारिया.', 'सतमेव.', 'बकसा.', 'उदार.', 'मन.', 'बुद<unk>धिजिवों.', 'सुदिप.', 'जोडोो.', 'तसदीक.', 'निकालनी.', 'भटकाना.', 'हरना.', 'दिलों.', 'रिजिस<unk>टर<unk>ड.', 'भंडारा.', 'लानानिया.', 'लिमा.', 'लालकृष<unk>ण.', 'रत<unk>नभूषण.', 'स<unk>परिवर.', 'साह.', 'समेट<unk>टी.', 'पाइरिया.', 'मामलोंमें.', 'ब<unk>रात.', 'वायसन.', 'विल<unk>ला.', 'लिंडा.', 'खरिया.', 'चेल<unk>लानी.', 'इलेक<unk>ट<unk>रोनिक<unk>स.', 'ऋषिराज.', 'उदैपुर.', 'पगला.', 'ऋतुकान<unk>त.', 'कुर<unk>मी.', 'दस<unk>ताना.', 'इमराल<unk>ड.', 'घुमाई.', 'उपद<unk>रवियों.', 'ओकलहोमा.', 'धर<unk>मराजने.', 'झाओहुई.', 'उप<unk>पिदन.', 'खेमिक.', 'तुगालकी.', 'दुअर.', 'अवीआई.', 'जडेट.', 'तैबू.', 'प<unk>रोग<unk>राम<unk>मर<unk>स.', 'टेलोर<unk>सविले.', 'चद<unk>रों.', 'रेसर.', 'भका.', 'अंधाक<unk>को.', 'ओब<unk>रायन.', 'क<unk>रुत<unk>य.', 'पीरन.', 'नाजरियों.', 'मयुर.', 'चौधवान.', 'स<unk>वर<unk>गडूत.', 'फेका.', 'इंडेपेंडेट.', 'तिंका.', 'गुर<unk>डों.', 'जातियों.', 'सममवायका.', 'सुबे.', 'चन<unk>दना.', 'प<unk>रारमभिकता.', 'ट<unk>रेप.', 'उदान<unk>त.', 'डायनामेटिक.', 'विद<unk>युतीकृत.', 'ललनिया.', 'वड़ाा.', 'वेडी.', 'फड़फड़ाएं.', 'ट<unk>रेडेड.', 'अखुआपाड़ा.', 'सरहा.', 'विज<unk>ञानवादियों.', 'कम<unk>जोर.', 'यूनगस<unk>स<unk>टॉउन.', 'आर<unk>यम.', 'पटकठठाइं.', 'बाजपाई.', 'जससी.', 'नौ.', 'एवव.', 'लगतार.', 'सुमन.', 'पदनी.', 'मिंद<unk>त<unk>री.', 'डिस<unk>ट<unk>रिब<unk>यूटरी.', 'जनकरों.', 'शंकचराचार<unk>य.', 'ओफशोर.', 'दुखों.', 'नेस<unk>को.', 'फूलटी.', 'टूल<unk>स.', 'वर<unk>जर.', 'दुम<unk>घों<unk>तु.', 'विदोह.', 'राजमान.', 'आत<unk>ममुद<unk>ध.', 'रॉकफ़ोर<unk>ड.', 'मित<unk>र.', 'देवनार.', 'ओकोई.', 'उत<unk>तरिया.', 'कैनविज.', 'गैलाक<unk>शन.', 'जिवनिया.', 'हकीकत.', 'एलिमिनेटर.', 'अगस<unk>टिन.', 'कर.', 'बिताने.', 'डफ<unk>तरवाले.', 'बैराध.', 'कामलों.', 'ज<unk>वार.', 'फतामा.', 'वाइव<unk>स.', 'डीवीटी.', 'धातुएं.', 'सियाहा.', 'पीटने.', 'बिच<unk>छों.', 'जिता.', 'सेवाला.', 'बतौर.', 'अदित<unk>य.', 'क<unk>षेत<unk>रेण.', 'अनकेनी.', 'छेतर.', 'मुकर<unk>ते.', 'एंथे.', 'बाल<unk>टी.', 'खंगाली.', 'बीजसेज.', 'बंजजसम.', 'पुष<unk>पित.', 'लिनमार<unk>गा.', 'पेरेड<unk>डी.', 'बोदारा.', 'फाकोस.', 'डूटाय.', 'श<unk>रीलियेशर<unk>स.', 'महांकमदान.', 'घुंसा.', 'काव<unk>यविधाओं.', 'क<unk>षत<unk>रियादी.', 'जानकारों.', 'रखना.', 'रिश<unk>तेदारो.', 'श<unk>रवणी.', 'कुबुद<unk>दीन.', 'ज<unk>वेलर<unk>स.', 'मेहमन.', 'रोजलिन.', 'जयकारा.', 'चबुत<unk>रे.', 'हरदिल.', 'ट<unk>रक.', 'न<unk>यूरोवास<unk>क<unk>युलर.', 'खेलाने.', 'स<unk>ट<unk>रेशन.', 'लक<unk>षायतीर<unk>थ.', 'नेशन<unk>स.', 'पाठशालायें.', 'निवेदनाह.', 'लिदारों.', 'तनला.', 'सेवकों.', 'पूर<unk>वपेक<unk>षाओं.', 'मानी.', 'सोमवरर.', 'प<unk>रन.', 'अवेज<unk>ञानिक.', 'अवियेशन.', 'ब<unk>रॉन.', 'नाकाम.', 'अधिवास.', 'जंजगरन.', 'राजनंददांव.', 'लेर<unk>.', 'भालू.', 'तरीको.', 'चिकोपी.', 'रीफ<unk>रैक<unk>टरीज.', 'बरामद.', 'कव.', 'एमराल<unk>ड.', 'विवेकाधीन.', 'फड़फडाएं.', 'केलाना.', 'पेंट<unk>स.', 'पिट<unk>स<unk>ुबर<unk>घ.', 'होखत.', 'चौरसिया.', 'सच<unk>छिदानंद.', 'साइड.', 'चरों.', 'रिजववी.', 'क<unk>ले.', 'डनपति.', 'दूरगढ़.', 'देवपुर.', 'मनवाया.', 'लतक<unk>कर.', 'मेममान.', 'निया.', 'उधमपुर.', 'अताहर.', 'छुपता.', 'तुंगनाथ.', 'रघुपति.', 'प<unk>रकाध.', 'चेंज<unk>ड.', 'गंग<unk>तोक.', 'क<unk>रिकेट.', 'फ<unk>रैनिसिस<unk>को.', 'भगने.', 'अड़ंगा.', 'फिक<unk>सिंह.', 'कमौ.', 'टिकोने.', 'पाम.', 'तारिकों.', 'आगमन.', 'किडवाई.', 'आश<unk>रितों.', 'राघवव.', 'जनुउधरर.', 'डेवेनपोर<unk>ट.', 'प<unk>रेरणापुरी.', 'महासिंह.', 'लोर<unk>डा.', 'इंट<unk>रॉडक<unk>शन.', 'स<unk>वाभावतः.', 'गृषमोत<unk>सव.', 'तलाशेगा.', 'सहरसा.', 'मैकेय.', 'मोशे.', 'ग<unk>रन<unk>थियां.', 'लोहाती.', 'एलियन<unk>स.', 'ताग<unk>ड.', 'चिंके.', 'सिवान.', 'थकी.', 'लेटाकर.', 'हिकारिको.', 'टाइरस.', 'नृत<unk>यों.', 'डीयफील<unk>ड.', 'चरित.', 'बेथलेहेम.', 'फिनोयोटेक<unk>स.', 'असहही.', 'पहन.', 'धांश<unk>याम.', 'फारेंसिस.', 'लहना.', 'द<unk>वारिकेश.', 'दुबाना.', 'करबोरियों.', 'गोलमुरी.', 'राखनाऊ.', 'विपणक.', 'पुनचंग.', 'ब<unk>रीड.', 'गुल<unk>लरवाला.', 'एव<unk>पी.', 'बाजी.', 'हरपाल.', 'प<unk>रेमेश<unk>वर.', 'प<unk>राप<unk>त.', 'नकसलवााद.', 'कंठहहर.', 'ऑक<unk>साड.', 'खैरति.', 'देशके.', 'सुनसिर.', 'अफासरों.', 'सेहो.', 'चबते.', 'मिटी.', 'बेलचा.', 'सफ<unk>लााटा.', 'श<unk>बना.', 'खातूतोला.', 'शिवस<unk>त<unk>वा.', 'प<unk>रेरणापुरी.']\n",
            "['थर<unk>मेक<unk>स.', 'सिखाएगा.', 'लीयर<unk>न.', 'ट<unk>विटर<unk>स.', 'तिरुनेवलली.', 'इंडेपेडेंस.', 'स<unk>पेशियों.', 'शुरूह.', 'कोलहहपुर.', 'अझर.', 'करार.', 'अंका.', 'पीपीडी.', 'हाशी.', 'ग<unk>लेंडल.', 'उधेद.', 'एक<unk>ती.', 'आईडीआईए.', 'अम<unk>बिकापुर.', 'मेकेरे.', 'सबूदने.', 'फूहड़ता.', 'सेक<unk>यूंट.', 'शुएब.', 'पानीहती.', 'समेटा.', 'उखरुल.', 'ब<unk>रहमलिन.', 'उतराधाकारी.', 'इकबाल.', 'दयायपुरा.', 'सोहराई.', 'तकरीबन.', 'फर<unk>रुनागर.', 'थेइंगा.', 'त<unk>योहरों.', 'कर<unk>देश<unk>वरनधम.', 'उमानाथ.', 'दांशिल.', 'साहित<unk>योत<unk>सव.', 'शानतिकिकतन.', 'शिकायतर<unk>ता.', 'अंदर<unk>खाने.', 'पंटर.', 'लीडारों.', 'गलगंड.', 'कार<unk>नियाँ.', 'मुर<unk>गीपाल.', 'मुशाहिद.', 'मोडुलेस.', 'राजौरी.', 'सुष<unk>रुषा.', 'श<unk>रींगर.', 'होल<unk>ट.', 'लैगिकता.', 'इज़ाज़त.', 'वन<unk>ष<unk>त<unk>र.', 'भुटल.', 'स<unk>वांपर<unk>मियों.', 'निनेटीज.', 'फ<unk>रेट<unk>टर.', 'लिखकर.', 'आयार<unk>क<unk>यानश<unk>रर.', 'नब<unk>ज़.', 'क<unk>यूज.', 'बोउनी.', 'कारगाज़ाज़ारियाँ.', 'गाँगम.', 'टापिया.', 'तेजपुर.', 'तलववे.', 'सीमाई.', 'दर<unk>ष<unk>णार<unk>थि.', 'रिवास.', 'तर<unk>कवाद.', 'अनुसारका.', 'कोएेशला.', 'लटककर.', 'पत<unk>रवालियां.', 'परिषद.', 'स<unk>पिंज.', 'अनशिदा.', 'डेजेस.', 'सरामहहाद<unk>यानपुरुर.', 'लॉवेल.', 'कैपाकिटर.', 'पासजेररननंड.', 'ग<unk>रंथियों.', 'ब<unk>यूना.', 'कैंटरबबरी.', 'काठियावाड़ी.', 'तेचचन<unk>नी.', 'फिसाद.', 'बेराहरमी.', 'निश<unk>कर<unk>षाह.', 'एक<unk>टिविटिज.', 'रिकाईलिर<unk>रेशन.', 'शससनाधारिकारियों.', 'फिजूलार<unk>ची.', 'डबल<unk>यूपपीडी.', 'पीसीईई.', 'दस<unk>तर.', 'कैटलिन.', 'जोडड़ा.', 'किल<unk>ल.', 'ग<unk>रहनगर.', 'वोंडर.', 'वातर.', 'श<unk>विंग.', 'पश<unk>तुन.', 'फार<unk>म.', 'डिबानु.', 'पश<unk>चमी.', 'उथपतत.', 'निलाभ.', 'लक<unk>समिनियाँ.', 'महानगरावासियों.', 'उपनेता.', 'कनवेन.', 'शर<unk>प.', 'कार<unk>यजोजना.', 'मास.', 'वेस<unk>टिंग.', 'कुर<unk>वेती.', 'ज<unk>यादा.', 'मुकेश<unk>वरी.', 'श<unk>रीमति.', 'विवेकाधिकरों.', 'लोकसभावी.', 'कबाहा.', 'भ<unk>रांतियों.', 'विवेकहीन.', 'बाममिकी.', 'हर<unk>याना.', 'जिवराज.', 'फ<unk>लिन.', 'रना.', 'विष<unk>णुपुरा.', 'घोतालाजाजों.', 'हैरातनगंज.', 'तकलीदेहह.', 'पीवढ़.', 'धभाशरा.', 'अंत<unk>डियां.', 'रोबिन.', 'सिंगर.', 'गुमशुदागी.', 'बालकृष<unk>ण.', 'फब<unk>ती.', 'पलातने.', 'लहलाहती.', 'नागाड़ा.', 'उदनें.', 'क<unk>लेन.', 'जुलूस.', 'कार<unk>याभार.', 'मन<unk>तो.', 'पैमैश.', 'कोविना.', 'पेंशन.', 'ओगस<unk>तेवासलाप<unk>टैड.', 'सेन<unk>टरिंग.', 'एक<unk>टिवा.', 'बारकर.', 'वालकन.', 'व<unk>रुटों.', 'कबाददी.', 'रौखाख.', 'कैटलिन.', 'फूस.', 'जंंगड़ा.', 'उपख<unk>यानों.', 'सुन<unk>द<unk>रम.', 'कॉचिन.', 'नेको.', 'कौशल.', 'फलिया.', 'असेवेडो.', 'कोट<unk>याम.', 'दिलाएगा.', 'कुरवी.', 'सौंपेंगी.', 'लेखन.', 'गुडेपु.', 'फरसे.', 'नुबिया.', 'तजा.', 'आंतृत.', 'काजी.', 'मुर<unk>गीपालन.', 'एडडी.', 'नागीने.', 'सुभा.', 'लिय<unk>स.', 'विजयपुरम.', 'बटाओ.', 'ओचोओ.', 'स<unk>नाइस.', 'सरकरेन.', 'ब<unk>रेमर<unk>टन.', 'गुरुपडो.', 'सान<unk>युक<unk>त.', 'रालोद.', 'बाढ़ाओं.', 'गौमुत<unk>र.', 'सभाओं.', 'तानी.', 'देली.', 'सुकेन.', 'विनीत.', 'चिमते.', 'किकियाना.', 'रॉक<unk>ट.', 'मैक<unk>सवेल.', 'हिप<unk>पो.', 'दीपन.', 'अर<unk>मा.', 'भुलता.', 'कर<unk>माचीरी.', 'दुर<unk>गपुर.', 'त<unk>रिभाषा.', 'सूखखोरों.', 'प<unk>रस<unk>तावों.', 'सुरविन.', 'प<unk>राप<unk>ति.', 'गिरिवासियों.', 'सिडासिंग.', 'वेलवेट.', 'मुकर<unk>ार.', 'बैक<unk>स.', 'डेनियर.', 'सीवी.', 'उठानी.', 'घसी.', 'इकाथ<unk>था.', 'भूपसिंह.', 'डबोचेन.', 'क<unk>रोस<unk>बी.', 'नामीगरमी.', 'हुर<unk>ली.', 'जरदा.', 'लीयपधारांत<unk>र<unk>री.', 'भ<unk>रांती.', 'अगेन<unk>ियों.', 'बगो.', 'फॉरसी.', 'बोसां.', 'कर<unk>की.', 'गिनेट.', 'मनोकानाओं.', 'सम<unk>मपत<unk>तियां.', 'पोलीथीनों.', 'म<unk>तेके.', 'परिचार.', 'बदबबदी.', 'क<unk>रेन.', 'लामियां.', 'उल<unk>हसनगर.', 'प<unk>रभनननत<unk>री.', 'शिवालपुरवा.', 'फेर<unk>थ.', 'सुहागिन.', 'सराईकाला.', 'रोमियलल.', 'राजस<unk>थाासासियों.', 'प<unk>रतितोधोर<unk>त<unk>मक.', 'स<unk>वर<unk>णिका.', 'व<unk>यवस<unk>थपपान.', 'टेल.', 'गफत<unk>हहम<unk>मी.', 'टेकींसर.', 'माइक<unk>रोफिबर.', 'श<unk>रीमहूपूर<unk>ण.', 'फललूजा.', 'डोनल<unk>डों.', 'चढ़ने.', 'जीव<unk>विजानियों.', 'क<unk>रिकेटिंग.', 'रियकक<unk>शन.', 'अवाजें.', 'व<unk>लाड़.', 'प<unk>रथमिक.', 'थेंगा.', 'एक<unk>ससल.', 'चटकाते.', 'कुबुद<unk>दीन.', 'ताजा.', 'पदानी.', 'निचाई.', 'वौसा.', 'आलोचाों.', 'जल<unk>लाे.', 'सुरत.', 'जीवती.', 'प<unk>रहारक.', 'श<unk>रीसुुरु.', 'संचलनों.', 'भल<unk>.', 'तुघलक.', 'उठापतक.', 'हस<unk>तानाररीयी.', 'उत<unk>साहासवर<unk>धन.', 'संगोश<unk>त<unk>री.', 'शासनधारिकारियों.', 'महाधिपतियों.', 'फटिमा.', 'फोडे.', 'कानतियों.', 'कामनाएं.', 'चुटिले.', 'संख<unk>याएं.', 'क<unk>रांज.', 'बरसता.', 'परिकललपित.', 'हर<unk>पल.', 'मानूंत.', 'ग<unk>रोवर.', 'बायोलजिस.', 'हलिसहर.', 'अंगेलो.', 'जनेदधरी.', 'बिचबाचाव.', 'पोकर.', 'अप<unk>रत<unk>तित.', 'आस<unk>तिन.', 'प<unk>रतिष<unk>ठावाले.', 'बुइनेवेवुर<unk>ा.', 'डेक<unk>न.', 'सेरिव.', 'पर<unk>डा.', 'एमिले.', 'शैली.', 'इस<unk>त<unk>वाले.', 'छल<unk>ला.', 'लक<unk>ष<unk>यों.', 'होएफ.', 'जरूरीह.', 'रह<unk>या.', 'महकने.', 'डेवी.', 'निएलसन.', 'भिरा.', 'चबुतरे.', 'भुशन.', 'रुक<unk>ते.', 'आम<unk>दानी.', 'तालक<unk>षोव.', 'जुनाड़.', 'पढ़ता.', 'ओधककर.', 'ब<unk>रोक.', 'तलाशा.', 'परिवरवाले.', 'ट<unk>रुब<unk>युनल.', 'बीआरओूसी.', 'यल<unk>लापा.', 'तस<unk>वरों.', 'तुगलकी.', 'पीआईसी.', 'सिर<unk>कुलेशन.', 'जववर.', 'कनिनधम.', 'कुश.', 'प<unk>रोपेक<unk>सुबुक.', 'अश<unk>रफी.', 'चढ़ें.', 'वांगचुक.', 'होनेवेल.', 'रेडियमध<unk>री.', 'लढ़ेगे.', 'सचान.', 'अर<unk>थश<unk>स<unk>थारियों.', 'कैनटटन.', 'आत<unk>ममुग<unk>ढा.', 'पोंटिक.', 'लोपजेज.', 'घोंटना.', 'अंबानी.', 'मर<unk>यादाओं.', 'रतलाम.', 'हर<unk>कुलल<unk>स.', 'अकोला.', 'सक<unk>षान.', 'नुथबनीदुषा.', 'लगवाती.', 'अलीवे.', 'जिवन<unk>त.', 'फोडा.', 'फतही.', 'नूबिया.', 'लालनी.', 'फैइसाला.', 'कृत<unk>या.', 'धूआ.', 'अहूजा.', 'प<unk>रतिलपुर.', 'नमकीं.', 'मंजिलें.', 'लफ़ााजी.', 'जुराब.', 'फुला.', 'कैस<unk>टललय.', 'बीआलएीसी.', 'सूराज.', 'ब<unk>रॉच.', 'अवर<unk>णता.', 'जोहरी.', 'तेवरी.', 'सैंडर<unk>स.', 'वेल<unk>डर.', 'एनीयोय.', 'भाषष<unk>चातारियों.', 'लालननी.', 'खाेेदार.', 'आजमाना.', 'आवृत<unk>तियों.', 'कुलवाी.', 'बहावलपुर.', 'प<unk>रथमिकता.', 'मोबिले.', 'कातिर.', 'स<unk>वेचा.', 'हामिदन.', 'सम<unk>धर<unk>शनी.', 'दृध.', 'गों<unk>ड.', 'विशेश.', 'काबिलेगुर.', 'लौरेंसे.', 'हिशम.', 'चौसिंगा.', 'पैफिन.', 'मेटे.', 'बाइल<unk>डॉन.', 'तीकों.', 'अठक.', 'जिन<unk>दगी.', 'चयाल.', 'माप.', 'लस<unk>त.', 'गजरा.', 'रत<unk>रचार.', 'काठला.', 'सहुलियता.', 'पट<unk>टनक.', 'न<unk>यायलायीन.', 'मुख<unk>यामत<unk>र<unk>तियों.', 'जीतनवालों.', 'स<unk>पेशोटो.', 'क<unk>लिइंटन.', 'डोडा.', 'पेंडुलुम.', 'चिपकने.', 'नालाकासा.', 'छाह.', 'गों<unk>ड.', 'समीक<unk>षाकर<unk>ता.', 'मंत<unk>रिपद.', 'लिबेरेशन.', 'असमानी.', 'चुंगियों.', 'अरिका.', 'बालोट.', 'थिन.', 'फॉर<unk>मिक.', 'युद<unk>धक.', 'वेगास.', 'लस.', 'चित<unk>रांशी.', 'अवरान<unk>ता.', 'वास<unk>टिंग.', 'वितर<unk>क.', 'मुकालले.', 'धर<unk>मपूरीवी.', 'अमबानी.', 'इबिजा.', 'महामेडिया.', 'सजजलों.', 'वर<unk>णित.', 'झुठलाने.', 'मदुराई.', 'कौंडल.', 'लपात<unk>टा.', 'क<unk>षिन.', 'तेवरी.', 'रेचुर.', 'लिंडों.', 'पुलामा.', 'ओल<unk>ाउर<unk>डर.', 'गरिबों.', 'कललाहन.', 'वाब.', 'कैपधारी.', 'अट<unk>टा.', 'बरेली.', 'जिंग.', 'जिवान.', 'रेड<unk>डी.', 'पहनी.', 'तानु.', 'दीपिका.', 'लोहती.', 'ककककाद.', 'मौलवियों.', 'दुंगरपुर.', 'जालाना.', 'लक<unk>मे.', 'प<unk>रॉस<unk>पेक<unk>ट.', 'वेस<unk>टिघोनस.', 'बवारा.', 'ठक<unk>र.', 'इच<unk>छाचारी.', 'त<unk>रिया.', 'ढावकों.', 'डामले.', 'श<unk>रववानेगलोला.', 'निलकमल.', 'कर<unk>मचरी.', 'पूर<unk>वोत<unk>तर.', 'लेहरायी.', 'हैइटो.', 'प<unk>रकांध.', 'खेल<unk>मन<unk>त<unk>री.', 'भविष<unk>य.', 'एगमोर.', 'श<unk>रींगर.', 'सौपेंगी.', 'क<unk>नोक<unk>सविले.', 'बेंडर.', 'सुन<unk>दररम.', 'प<unk>रदेश.', 'समवेदिकरण.', 'लगुना.', 'भिशम.', 'येमिनगुर.', 'हुहतामकी.', 'वादली.', 'गेल.', 'रेसे.', 'सलाजर.', 'डिश<unk>थेरिया.', 'दृध.', 'शादधि.', 'प<unk>रबोधिनी.', 'लोकप<unk>रतिविधियों.', 'जतती.', 'मंगला.', 'बेरविन.', 'मम.', 'उदागढ़ी.', 'अकापुल<unk>को.', 'वैधरुति.', 'चारंबद<unk>ध.', 'मंडड़ी.', 'एआईएलएलड.', 'पारममपरिकता.', 'हफ़ते.', 'सथिया.', 'संघियता.', 'मुख<unk>यातितियों.', 'व<unk>यवस<unk>वरवारोधी.', 'रक<unk>तादाताओं.', 'बरमाडे.', 'तरुतल.', 'कुत<unk>ता.', 'झाड़ा.', 'किशुन.', 'स<unk>फेफरर.', 'अमरोही.', 'रेडिकल.', 'जेन<unk>नर.', 'वर<unk>षिया.', 'हासिनो.', 'शावकों.', 'रुपा.', 'स<unk>वार<unk>थापक.', 'वेरोनिका.', 'वेब.', 'महापत<unk>र.', 'चेंकें.', 'एग<unk>रा.', 'जियांगकाओ.', 'वेस<unk>टवॉर<unk>क.', 'जनां<unk>ना.', 'पस<unk>को.', 'जधाव.', 'एंटरप<unk>राइज.', 'संशयों.', 'वर<unk>ाव<unk><unk>वस<unk>थानवादियों.', 'उपस<unk>थियों.', 'मुडीचु.', 'पर<unk>सस<unk>तरों.', 'आईए', 'बैला.', 'लिवाल.', 'हिल<unk>स<unk>बोर.', 'राष<unk>ट<unk>रिय<unk>यक<unk>षा.', 'पीड़ललैयूटी.', 'थोआसंड.', 'शाकिर.', 'सलाहकार.', 'विश<unk>वरक<unk>मा.', 'रिंगे.', 'स<unk>वसस<unk>थिनायतता.', 'रिश<unk>वाथोर.', 'प<unk>राविंस.', 'दफ<unk>तरवाले.', 'फिज़िशियन.', 'लोग.', 'जोढ़िका.', 'सेवलला.', 'दूबत.', 'सिपाह.', 'भरामा.', 'प<unk>रित<unk><unk>ञा.', 'मेघवाल.', 'नांडी.', 'औरोरा.', 'फॉर<unk>मुले.', 'दुर<unk>त<unk>ना.', 'स<unk>वतंत<unk>ससिंह.', 'मॉनटरी.', 'बालती.', 'कोलुंबिया.', 'व<unk>हिटरर.', 'दुक<unk>के.', 'क<unk>बेब<unk>क.', 'चमकाना.', 'शीलबाग.', 'बिस<unk>तागोंड.', 'फिंडलले.', 'बपाा.', 'डेहरा.', 'एएईईआई.', 'श<unk>रंखला.', 'हस<unk>ताक<unk>षरों.', 'तिरुपति.', 'मंगामूर<unk>तिह.', 'कुरसियों.', 'मिथायां.', 'पहनों.', 'हालिबिड.', 'बांग<unk>श.', 'ओफ<unk>सियली.', 'सेवाई.', 'गुरजार.', 'समावनायका.', 'पर<unk>नेल.', 'सुनसन.', 'क<unk>सेक<unk>स.', 'मध<unk>या.', 'युध<unk>रत.', 'उरबंदले.', 'ब<unk>रिग<unk>स.', 'एर<unk>रोर.', 'चिखली.', 'वान.', 'अधिकारियाँ.', 'रोोनके.', 'हॉकिप.', 'पूर<unk>वपेक<unk>ष<unk>याओं.', 'मशीनवत.', 'काडमो.', 'कुरामी.', 'विद<unk>याथयों.', 'सिमताता.', 'सांगरुर.', 'स<unk>ट<unk>रॉग<unk>सिविल.', 'अगवाई.', 'जंगन.', 'नागराज.', 'यारियाँ.', 'भगेेश<unk>वर.', 'जिवती.', 'सुड़खोरों.', 'रुकवाकर.', 'ब<unk>रहमवर<unk>ता.', 'ग<unk>राय.', 'भ<unk>रांती.', 'पुरुषोत<unk>त<unk>पूपर.', 'तेजी.', 'स<unk>वातन.', 'मंतरमंदिलायय.', 'अश<unk>ले.', 'मेथेव<unk>स.', 'मूलों.', 'अक<unk>जो.', 'हमिरपुर.', 'पोखरियाल.', 'बोलतीं.', 'प<unk>रतिष<unk>ठाे.', 'दबंगता.', 'धुरिया.', 'टीप.', 'गजी.', 'इजजजत.', 'मेजबानी.', 'तोलेडो.', 'मोहड़ा.', 'पुत<unk>ली.', 'संचारी.', 'तापनी.', 'लिट<unk>टल.', 'नरनारी.', 'धनिये.', 'गढ़ूंगा.', 'फाड़ी.', 'गमममत.', 'टाबेक<unk>लोलोसिस.', 'नागरजुना.', 'राजनीची.', 'मेडिजजनर.', 'लाश<unk>वाी.', 'कममरेस.', 'माठलू.', 'चतागांव.', 'हिलिग.', 'इस<unk>सनस<unk>क<unk>वर.', 'टेस<unk>टिंग.', 'नौशद.', 'फललूजा.', 'पिक.', 'जिवान.', 'कतल.', 'डब<unk>ल<unk>यूल.', 'बेसिल.', 'स<unk>लिडों.', 'सैंदन.', 'जेरेमी.', 'गांव.', 'तोडेंगे.', 'उदान.', 'सप<unk>त<unk>रांकि.', 'मिरंदा.', 'व<unk>यापक.', 'मद<unk>दी.', 'सभासदों.', 'नौवाहन.', 'अटमाएन.', 'रोसा.', 'दमाए.', 'मिडव<unk>सस<unk>ट.', 'त<unk>रेलारह.', 'मार<unk>लुरोो.', 'वाको.', 'विमर<unk>षों.', 'खन.', 'डिफारार<unk>ड.', 'सरसा.', 'हेस<unk>टर.', 'उत<unk>तर.', 'कसेरा.', 'कुराने.', 'दायित<unk>वों.', 'चययनितों.', 'मोरेलेस.', 'हेरोस.', 'प<unk>रीममूलक.', 'मोरन.', 'जिड<unk>.', 'नेल<unk>सन.', 'अमरपाल.', 'फटने.', 'तिनका.', 'गाडिकाओ.', 'पकायें.', 'भ<unk>रष<unk>चारारियों.', 'चलित.', 'एफ<unk>ले.', 'मोद.', 'राजनितिकारों.', 'अरथों.', 'गालिगलौज.', 'अन<unk>योन<unk>रिश<unk>रिता.', 'उदाया.', 'क<unk>यूटरी.', 'प<unk>रतिबंध.', 'नीलाभ.', 'बिला.', 'खुल<unk>ममखुला.', 'स<unk>वानससन.', 'अन<unk>वहार<unk>य.', 'रेवरी.', 'सहकलकर.', 'चैम<unk>पियनशिप.', 'भड़काया.', 'नमधारी.', 'अल<unk>बा.', 'वतननुकूलन.', 'खाठाधारक.', 'टेक<unk>स.', 'स<unk>पेशियल.', 'हरवंश.', 'दिनु.', 'शानीवर.', 'डीई.', 'डबी.', 'नहिनकरवाय.', 'मारवाद.', 'पीडियों.', 'ब<unk>रिग<unk>टन.', 'मननेए.', 'लिगर.', 'दिलागा.', 'आधिन.', 'परवा.', 'हेम<unk>स<unk>टीड.', 'मममूली.', 'प<unk>रदेशिका.', 'वरिफिकेशन.', 'फेफाड़ा.', 'विसंगतिया.', 'कछ<unk>छे.', 'घोस<unk>ट.', 'पिपली.', 'लोवासा.', 'हेल<unk>पर.', 'दूबनेवाले.', 'बख<unk>शने.', 'इं<unk>दिरियोंके.', 'बरहह.', 'रिसाली.', 'कक<unk>षीपति.', 'विश<unk>वरक<unk>त.', 'लोडी.', 'पीचत<unk>री.', 'घुमककडों.', 'ओझा.', 'इलाज़.', 'अरुणाई.', 'अयोध<unk>यानाथ.', 'भौतिकवाियों.', 'रोकेट.', 'न<unk>रोचेट<unk>ट<unk>री.', 'कॉल<unk>डलवेल.', 'आवाजें.', 'मूल.', 'मल<unk>टिप<unk>लक<unk>सन.', 'त<unk>योहर.', 'रोटेशन.', 'बेलाचा.', 'सहकलकर.', 'जदित.', 'नागारा.', 'बरपाया.', 'दूंगरपुर.', 'लैंड.', 'उच<unk>छ<unk>रंंत<unk>रता.', 'फैलैया.', 'सुची.', 'नून.', 'आरपी.', 'शिएल<unk>ड.', 'पलापपुर.', 'इलेक<unk>ट<unk>रोसलल.', 'ओब<unk>स<unk>क<unk>रा.', 'सिइर<unk><unk>टेटन.', 'दीखाई.', 'रसेलेल.', 'नजररंजा.', 'कुअलामपुर.', 'औस<unk>तिन.', 'रेडक<unk>रस.', 'टीसीएनएस.', 'स<unk>वाजत<unk>त<unk>शासन.', 'मूद.', 'दौलतबाद.', 'भुल<unk>ता.', 'प<unk>रतिकारा.', 'निघ<unk>ट<unk>स.', 'नकम.', 'शुत<unk>तिंग.', 'राष<unk>त<unk>र.', 'बेचकर.', 'स<unk>टोन.', 'वर<unk>धा.', 'डीडब<unk>लुटी.', 'देसाबुला.', 'बापा.', 'बाबाबान.', 'आदेशाह.', 'उडेलकर.', 'तरको.', 'याददष<unk>ठ.', 'इन<unk>ालेशन.', 'सफरागंज.', 'रूपक.', 'स<unk>क<unk>रन<unk>नों.', 'वर<unk>ाव<unk><unk>वस<unk>थानवादियों.', 'शिक<unk>षाकरमियों.', 'खंडेलवाल.', 'बेवरजग.', 'पिडिया.', 'नादफ.', 'जहहे.', 'ढहाएंगे.', 'मस<unk>त<unk>मौला.', 'अगरताला.', 'जमाया.', 'परदेसी.', 'अर<unk>या.', 'वेलवेट.', 'आपदाएं.', 'आगशे.', 'अच<unk>ची.', 'उद<unk>गोष.', 'स<unk>वाःवाह.', 'बनी.', 'रायकर.', 'पिडिलाइट.', 'दुअल.', 'भीरा.', 'सिलवा.', 'अधिकरण.', 'रांगका.', 'श<unk>रीचकर<unk>रा.', 'गुवमुत<unk>र.', 'निचला.', 'बुरहनपुर.', 'सहूलियता.', 'लब<unk>ध.', 'पूले.', 'स<unk>ट<unk>रेजन.', 'पिकिंग.', 'ओडितर.', 'डेनिया.', 'अजित.', 'लंंगडों.', 'अवशिस<unk>त.', 'जान.', 'प<unk>रशासिक.', 'बॉसियर.', 'बढ़ाकाचार.', 'गिरिडीह.', 'भुज.', 'रीडिंग.', 'फवारे.', 'अद<unk>वैत.', 'रुकते.', 'अनोन<unk>दिता.', 'फोंटना.', 'न<unk>युत<unk>रियों.', 'पैलोटों.', 'जडेन.', 'बोरिवाली.', 'इलाची.', 'एलियेंस.', 'ढम<unk>मा.', 'नहररगढ़.', 'निसिय.', 'सपात.', 'लेंगदान.', 'पनामा.', 'पुतले.', 'आसापास.', 'अल<unk>वधि.', 'मुफालिसी.', 'संसाथान.', 'दर<unk>शनार<unk>थी.', 'लोकोत<unk>सव.', 'ग<unk>राहकाओं.', 'उच<unk>चाचारिकारियो.', 'भव<unk>.', 'रेजा.', 'मोथर<unk>सन.', 'कौपलिक<unk>स.', 'आबोरुड.', 'हेडील<unk>र<unk>टेबिट.', 'चिमती.', 'सर<unk>फाक<unk>टास<unk>स.', 'मिताओ.', 'कैलाना.', 'तनकर.', 'ओधकार.', 'मेरता.', 'मेगवाल.', 'रास<unk>यानिक.', 'सूचनाह.', 'सुगमता.', 'जोके.', 'मुनफ.', 'निस<unk>वर<unk>थ.', 'क<unk>षेत<unk>रद<unk>रवारा.', 'महावर.', 'बुल<unk>नाना.', 'ढमकता.', 'भूस<unk>मामी.', 'विज<unk>ञान.', 'क<unk>यूटे.', 'बेवकुना.', 'जजमाऊ.', 'बेल<unk>टरन.', 'विलास.', 'मखखमदुर.', 'कोलोराडो.', 'ब<unk>लाकबंर<unk>', 'सुनिती.', 'घिघी.', 'फ<unk>लेवोडोन<unk>स.', 'चहहुन<unk>मुखी.', 'सुपाच<unk>ये.', 'सिरती.', 'विष<unk>णु.', 'चौद़ावन.', 'चौढ़री.', 'आबरू.', 'बालुरक.', 'दावंगेरे.', 'अनुरित.', 'शिप<unk>पिंग.', 'पतियाला.', 'जानम.', 'फिनेंशियल.', 'डमा.', 'पोलिकी.', 'आईसीएम.', 'कुछछ.', 'चीखना.', 'रिलिएंस.', 'उर<unk>वारकों.', 'रवाल.', 'लढ़कियों.', 'मुकेश<unk>वरी.', 'वन<unk>ष<unk>त<unk>र.', 'उम<unk>मीडे.', 'कहववह.', 'कांतीपूर<unk>ण.', 'बड़ाएं.', 'इनसीजराबबारीसी.', 'प<unk>रतिधदंतता.', 'फॉल<unk>लोव.', 'सेवामुक<unk>त.', 'इवास<unk>सन.', 'चरास.', 'हिल<unk>स.', 'रोबेरस<unk>नान.', 'भड़ारिया.', 'ग<unk>लाक<unk>स<unk>ट<unk>कोकिलिने.', 'प<unk>रोडक<unk>टन.', 'गुवेवा.', 'विज<unk>ञानों.', 'जारविस.', 'लाशज.', 'फॉन<unk>ट.', 'पराधीन.', 'शक<unk>.', 'गांझू.', 'डीआईटी.', 'दांपतियों.', 'माधधेखेड़ा.', 'प<unk>रतिष<unk>ठानों.', 'सूंद.', 'गिनटे.', 'अलागलाग.', 'स<unk>वस<unk>त<unk>तिकार.', 'प<unk>रतिकररा.', 'आस<unk>तिक.', 'निवेष<unk>करतता.', 'सवाल.', 'संस<unk>कृतियां.', 'रादबार.', 'रघुराम.', 'इंतरायवयु.', 'छारहरी.', 'सवयर.', 'भसपा.', 'जवारों.', 'संस<unk>थिता.', 'पर<unk>षदों.', 'पुला<unk>सकर.', 'उठाएंगे.', 'लैंगी.', 'ओएईएएफ.', 'वालसस.', 'मुलों.', 'पुतलियां.', 'शिमल.', 'रिज<unk>स.', 'कैमारिलो.', 'सफलाता.', 'विनश<unk>त.', 'क<unk>पिंग.', 'जयललिथा.', 'आईटीएमएस.', 'सॉसर.', 'एश<unk>लल<unk>ट.', 'मेहरोत<unk>र.', 'चुने.', 'जरख.', 'मेझानी.', 'मुलसिसी.', 'लूना.', 'वर<unk>ाव<unk><unk>वस<unk>थानवादियों.', 'लिपाई.', 'उठ<unk>नी.', 'बजाज.', 'हिसारह.', 'दमपतियों.', 'वाटसं.', 'ऑगुस<unk>टस<unk>टिन.', 'पटाक<unk>षेप.', 'धन<unk>धेखोरी.', 'उबरेगा.', 'अंटो.', 'अपरदर<unk>शी.', 'निहलानी.', 'तिवोली.', 'होगिस.', 'विनटर.', 'बदलवाकर.', 'घुमई.', 'पेतलमुमा.', 'बीइडललब<unk>लययोम.', 'बख<unk>शते.', 'संवेदिकरण.', 'तेलों.', 'घुम<unk>काकडानों.', 'हांफ़े.', 'फरहीन.', 'जेम<unk>स.', 'किरापुर.', 'रेडिंग.', 'शक<unk>.', 'सर<unk>प<unk>रिस.', 'किसानों.', 'चलेंगे.', 'योडेर.', 'स<unk>टेन.', 'पैथेलोजिज़<unk>ट.', 'लेबललिंग.', 'इख<unk>थियोस.', 'लिबेरेशन.', 'फूडों.', 'नन<unk>हें.', 'भदौरिया.', 'जतिला.', 'पहुंचाई.', 'राश<unk>त<unk>रों.', 'ब<unk>लॉसम.', 'तांडों.', 'गडबबाड़ी.', 'सासस<unk>थिता.', 'यातराएं.', 'आदान.', 'जवाते.', 'नियुत<unk>तियों.', 'भिश<unk>म.', 'हुंडिया.', 'मुर<unk>गीपालन.', 'मलेकर.', 'लॉवलैंड.', 'मवेय.', 'विकराम.', 'हैंटे.', 'बर<unk>रकपोर.', 'घज<unk>डिबाद.', 'तरकों.', 'एसपीएफ.', 'एर<unk>टेमिस.', 'एआईपीपी.', 'ज़बान.', 'गैराईदररण.', 'विवेकाधीन.', 'सबजनननिर.', 'फलिया.', 'प<unk>रेक<unk>षांगों.', 'पुरवासियों.', 'विपनना.', 'मांगा.', 'ओर<unk>डेन<unk>स.', 'प<unk>राधन.', 'अभियोकुत<unk>तके.', 'विराथखंड.', 'हिजबुल.', 'विद<unk>याओं.', 'मंजू.', 'छाविनदद<unk>र.', 'छुपकर.', 'दोरंडा.', 'सैम.', 'मिथाईयां.', 'जीव<unk>िज<unk>ञानियों.', 'पश<unk>तुन.', 'ब<unk>रह<unk>रहारारीणी.', 'जेरूसेल.', 'अल<unk>टमोंट.', 'सिहुंता.', 'हेमवाती.', 'कोशधधिकररी.', 'अशंका.', 'बीन.', 'वैग<unk>यानिकता.', 'झीलों.', 'रोबार<unk>टो.', 'श<unk>रीरामपुर.', 'मंचिया.', 'वसुलता.', 'मोर<unk>िसन.', 'मगरांथ.', 'ट<unk>रांसस<unk>टर.', 'सर<unk>ववातीय.', 'पटोटससवव.', 'हूकी.', 'मेदिथ<unk>सन.', 'उडाना.', 'सरामहाद<unk>यानपुरुर.', 'पेटरससबर<unk>ग.', 'रांजकाठा.', 'दिया.', 'मोहिनदार.', 'मस<unk>तेक.', 'निरबाड़.', 'एहसास.', 'अवृतियों.', 'ऐशियावन.', 'त<unk>की.', 'टर<unk>बाइन.', 'दिमक.', 'जोधपुर.', 'दुरधारा.', 'खास<unk>तौर.', 'मकरानी.', 'हिघ.', 'फताही.', 'मरिया.', 'गेंव.', 'पेंडुलम.', 'आविषाकार.', 'नतिजेह.', 'जेफ़ेनसस<unk>विलेल.', 'ब<unk>रह<unk>मसिद<unk>धि.', 'तुल<unk>ीदास.', 'रीता.', 'चर<unk>चामांच.', 'प<unk>रतिकारा.', 'तर<unk>कवाद.', 'दबांगों.', 'हिचकचचा.', 'शीर<unk>शकों.', 'डम.', 'द<unk>वियर<unk>थी.', 'जवाबाह.', 'बहूमां.', 'जांचकरता.', 'वन<unk>देतरम.', 'शॉल<unk>ड.', 'एजस<unk>टा.', 'नेउ.', 'दस<unk>तततुष<unk>द.', 'सुरिनामा.', 'किंगखान.', 'तरस.', 'रिकननक<unk>टिंग.', 'फैबरिक.', 'क<unk>लेर.', 'छेजत.', 'मोमिनातोला.', 'विरोध.', 'अरेना.', 'उनिंोवाडी.', 'बमलशेश<unk>वरी.', 'बोका.', 'इम<unk>माटिरी.', 'संस<unk>थाओं.', 'जिन.', 'दादरेवा.', 'किडे.', 'कररानु.', 'पुटिन.', 'तनकार.', 'खटकती.', 'जडडेडी.', 'पुषपा.', 'जीमम.', 'युसुगी.', 'कोरोला.', 'प<unk>यादे.', 'करवाएगी.', 'बलाताकारियों.', 'जतती.', 'गुर<unk>दपुर.', 'श<unk>रीष<unk>थारसूव.', 'शुभप<unk>रभा.', 'युरोप<unk>लस<unk>ट.', 'राष<unk>ट<unk>रभक<unk>तों.', 'कैंटरबी.', 'कम<unk>मनक<unk>टर.', 'महामांच.', 'कनववा.', 'डीवीएफ.', 'रीवेस.', 'दभभोई.', 'भूतल.', 'इंसानो.', 'एमिली.', 'विज<unk>ञानम.', 'सपटे.', 'अतवाल.', 'हिन<unk>डन.', 'आजफिसरी.', 'मॉंट<unk>रेयर.', 'पुर<unk>स<unk>पस<unk>विकित.', 'रिचार<unk>डों.', 'सांदर<unk>भ.', 'फार<unk>गो.', 'अलीम.', 'सप<unk>तरकां<unk>ति.', 'एचएर.', 'इमानारी.', 'कॉन<unk>ट<unk>रिक<unk>टिंग.', 'गंजाजल.', 'गौर.', 'अधिकारियों.', 'बांधन.', 'सेंधा.', 'दबललियूपडड़ी.', 'ग<unk>राविता.', 'लिंकॉल.', 'प<unk>रार<unk>तिवित<unk>याग<unk>ञानों.', 'सेमेनेशन.', 'बगाड़.', 'गेन<unk>त<unk>री.', 'दा<unk>सों.', 'मॉन<unk>टेलोल.', 'रेनववलल<unk>स.', 'नक<unk>सलवाद.', 'ऐइत<unk>रज.', 'इतिब<unk>वती.', 'निवेशक<unk>रता.', 'पटकाायें.', 'काबिलेतरल.', 'भादस.', 'भोगते.', 'हॉल<unk>डिंग.', 'ढट<unk>टा.', 'धोरों.', 'उपख<unk>यानों.', 'फेडेटिवलल.', 'स<unk>टॉक<unk>टन.', 'ब<unk>रिजेश.', 'प<unk>रतिज<unk>ञ.', 'बढ़ती.', 'थेन.', 'थोमास.', 'ध<unk>येवादी.', 'तुस<unk>दाय.', 'वीजीपीएल.', 'ओवूम.', 'गेटी.', 'न<unk>यूकलस.', 'क<unk>रार.', 'पुरुषोष<unk>तात<unk>री.', 'मंचन<unk>डा.', 'लहसुन.', 'नकाब.', 'सुजा.', 'मैक<unk>ेनीजी.', 'पुर<unk>जों.', 'बहुंत.', 'ब<unk>रावो.', 'अमानत.', 'झुठला.', 'बुश.', 'चौखते.', 'अपर.', 'एस<unk>थेटिक.', 'क<unk>षेत<unk>रद<unk>वारा.', 'सज<unk>ज़ा.', 'ढहाने.', 'नरियययुक<unk>त.', 'जिलॉउस.', 'कुरसियो.', 'सिंघा़े.', 'अमी.', 'अंतरमुख.', 'ठक<unk>कर.', 'बढबोलेपन.', 'नकक<unk>सियों.', 'मननर.', 'हिमली.', 'नक<unk>सलावद.', 'हैफ.', 'महाधर<unk>म<unk>या<unk>षका.', 'पर<unk>मुज़.', 'तिप<unk>पानकर.', 'परलेल<unk>स.', 'भपाई.', 'बीताने.', 'वालवे.', 'द<unk>विरुक<unk>त.', 'एडडीडीई.', 'जिवनियां.', 'पंघल.', 'खांड.', 'उर<unk>वरकों.', 'बेसिन.', 'गिरिवासियों.', 'पराधीं.', 'पुखता.', 'अचनेरा.', 'कारसन.', 'डेल<unk>टा.', 'त<unk>रिपुरा.', 'अलायमनी.', 'खेड़ा.', 'नहररगढ़.', 'शालिमर.', 'इम<unk>मैचियरिटी.', 'एलेंड<unk>ट.', 'प<unk>रोपेक<unk>षेबुपक.', 'उदानों.', 'मजान.', 'मोसें.', 'बतायकी.', 'अला.', 'इलेक<unk>ट<unk>रोमनटर.', 'अमोड.', 'रूकेंगे.', 'मारिया.', 'रागों.', 'आयपिएफ.', 'फलितार<unk>था.', 'सुपच<unk>ये.', 'अवशिस<unk>त.', 'इशात.', 'रेटे.', 'आता.', 'महलों.', 'वरिष<unk>ठों.', 'जलापोट.', 'कातरिना.', 'जिस<unk>मारफोरी.', 'सलारी.', 'राजा.', 'रेक<unk>टर.', 'बससिल.', 'बढ़ता.', 'चारंबध<unk>धा.', 'भड़काया.', 'सहहित<unk>योत<unk>सव.', 'नरसुपुरा.', 'समझूंगा.', 'चन<unk>द<unk>रपुर.', 'सरका.', 'धाह.', 'प<unk>रूढ.', 'अहितारी.', 'दरवानी.', 'बेलिंदा.', 'अलायनी.', 'दातसुन.', 'एटी.', 'फेस<unk>टनर<unk>स.', 'बंगरावाला.', 'सैरा.', 'अथ<unk>थस.', 'निरदल.', 'महुउनागर.', 'डररेटे.', 'वालककन.', 'खस<unk>तौर.', 'बरसाई.', 'अनंददायक.', 'बांबी.', 'टोह.', 'असमाने.', 'विपंता.', 'स<unk>पस<unk><unk>ट.', 'अमजेरा.', 'बेचकर.', 'घटबबाध.', 'कौशलता.', 'मशीने.', 'वायरलेस.', 'फैन<unk>न.', 'गानो.', 'खम<unk>भात.', 'क<unk>यूयेसीवीज.', 'डबलिन.', 'एमटीओ.', 'समर<unk>धुधियों.', 'राधाक<unk>रसुनास.', 'कानससिंग.', 'इदुक<unk>की.', 'इन<unk>डस<unk>ट<unk>रियल.', 'भावत<unk>षशी.', 'मांगी.', 'रॉबिंस.', 'व<unk>लेडिमिर.', 'पहोवा.', 'बघ<unk>ग.', 'उम<unk>मददवरीय.', 'साफोई.', 'कूत<unk>ता.', 'अदान.', 'ग<unk>रानिट.', 'उस<unk>तरा.', 'ढुंधता.', 'संघीयता.', 'कुमारी.', 'देप<unk>ठिरिया.', 'अदचाने.', 'कोरीयाह.', 'प<unk>रापत.', 'छुड़वाया.', 'सुयायन.', 'वेरोनिका.', 'स<unk>फेफरर.', 'ज़ायादा.', 'पोटर.', 'मेडिया.', 'यारुशेलेम.', 'पिचदे.', 'लेटसेंग.', 'अर<unk>थव<unk>यस<unk>थ<unk>ताातायाओं.', 'काकू.', 'निर<unk>देशिका.', 'सेटो.', 'नवाते.', 'समवीददशशललला.', 'रॉजरेज.', 'छाहों.', 'लाशज.', 'वंशवाद.', 'रोहत.', 'अटक<unk>ता.', 'बावरा.', 'कृतभर<unk>भ.', 'प<unk>रकाषाकः.', 'स<unk>टार<unk>युलेशन.', 'अपरदर<unk>शि.', 'बेंगारुलू.', 'अन<unk>धपन.', 'मैनान.', 'क<unk>याह.', 'फोर<unk>मुला.', 'हमालवर.', 'अमावस<unk>य.', 'पूर<unk>वपेक<unk>षाओं.', 'दैशवाला.', 'ओकलाहमा.', 'दर<unk>मैत.', 'सहकलकर.', 'फटमा.', 'खलाती.', 'दाित<unk>व.', 'क<unk>यूसिक<unk>स.', 'तोलकर<unk>मी.', 'वर<unk>सियन.', 'परिसम<unk>वाद.', 'इम<unk>मुने.', 'बच<unk>ती.', 'यूटिलिटीज.', 'मामास.', 'कैम<unk>यम.', 'एंटियाच.', 'खतेदार.', 'मोहनी.', 'विश<unk>वस<unk>नियतना.', 'रेहमन.', 'कांबलों.', 'आरियका.', 'मार<unk>ज.', 'छींक.', 'फलाता.', 'बागोरा.', 'पकौड़े.', 'लूसीई.', 'फतेगढ़.', 'ग<unk>रहणकाल.', 'जबओबीस.', 'सदननंद.', 'डीटीटीए', 'मुरगुपालन.', 'लुरहकते.', 'पालमोनारी.', 'विन.', 'उभारा.', 'बेक<unk>.', 'पदरौना.', 'बंढ़ते.', 'कपूर.', 'सेवाला.', 'वेरशान.', 'चिढ़ते.', 'थाने.', 'निकाओली.', 'मोगली.', 'ड<unk>रिजर.', 'नागरिक.', 'गजीपुर.', 'वदक.', 'मिचेल.', 'ग<unk>यात<unk>वी.', 'स<unk>तनधारी.', 'धोराजी.', 'अब<unk>नुदासिर.', 'विश<unk>वनवंध<unk>य.', 'सत<unk>यवत<unk>र<unk>र<unk>पाश.', 'शिवामोगा.', 'घुमक<unk>डी.', 'गेें.', 'ची.', 'थेयेटों.', 'अनधधिकारिक.', 'शासक.', 'हिनेस.', 'बेत<unk>तिह.', 'ढाना.', 'रहमत.', 'मोतिहरी.', 'पीरसन.', 'उजबैक.', 'व<unk>यूलिंग.', 'पिथोगारस.', 'विप<unk>रो.', 'काबिलेतरील.', 'जमाते.', 'पुलम.', 'डौबारा.', 'पोर<unk>टिलो.', 'अधिक.', 'धुमरापां.', 'दामपत<unk>य.', 'जमुडिया.', 'पेडू.', 'पिपरा.', 'ब<unk>लेर.', 'कम<unk>मुकिशन<unk>स.', 'अलायन<unk>स.', 'अरदास.', 'गुडना.', 'जुस<unk>ट.', 'आवजों.', 'बेनवर.', 'अमारिलो.', 'ब<unk>रामहंद.', 'दिखाई.', 'टांट<unk>रो.', 'आसन.', 'तुग<unk>लकाबाद.', 'सुत<unk>तों.', 'कांड<unk>रुर.', 'खनना.', 'निकलनी.', 'डिबनू.', 'इम<unk>मचच<unk>यरी.', 'तोलासन.', 'जानकरी.', 'लिवाल.', 'इंजेलिन.', 'रुषिता.', 'फ<unk>लिंट.', 'वृष<unk>कृतपत<unk>तः.', 'आस<unk>मती.', 'गिरकर.', 'वैज<unk>ञानिक.', 'बिशधी.', 'फूलती.', 'पुनःस<unk>थापना.', 'बढ़.', 'गंधा.', 'चक<unk>षु.', 'मिक<unk>तम.', 'लिइडारों.', 'जबरदस<unk>त.', 'स<unk>टुटी.', 'औरतो.', 'हेबलिकर.', 'रत<unk>तेबीजी.', 'फ<unk>रैंसिका.', 'मुमबा.', 'प<unk>रतियुक<unk>ति.', 'दरती.', 'प<unk>राणों.', 'मादिसों.', 'निभायी.', 'मायर<unk>स.', 'काश<unk>यप.', 'बृग<unk>यारियर.', 'अम<unk>बिकाओं.', 'होहाह.', 'इशाक.', 'सुमी.', 'देशभक<unk>तमीय.', 'धर<unk>मपत<unk>तियायां.', 'कृष<unk>णनगर.', 'ईआ.', 'आधुन<unk>धिरमणीयी.', 'ताजा.', 'अजस<unk>रा.', 'फिजुलर<unk>ची.', 'मंत<unk>रयों.', 'टंटा.', 'डिलर<unk>शिप.', 'चपेल.', 'ध<unk>वानिमिकों.', 'इडुक<unk>शेशन.', 'जरख.', 'नीत.', 'जिलवासियों.', 'सम<unk>प<unk>रभुता.', 'कसेगा.', 'पकनेवाला.', 'दीप<unk>न.', 'कलसाना.', 'मुगालता.', 'टॉकने.', 'फलिभूत.', 'ग<unk>योंथ.', 'दिखाई.', 'शाममीईझी.', 'पह<unk>नकर.', 'किसानी.', 'उधारादाााओं.', 'रामेटक.', 'व<unk>याखकाम<unk>यक<unk>त<unk>ता.', 'सोमवार.', 'विस<unk>ता.', 'पॉलिमर.', 'रक<unk>तभ.', 'भुगता.', 'ब<unk>रष<unk>चतारारियों.', 'खटक<unk>ति.', 'मुख<unk>यामत<unk>र<unk>तियों.', 'माद.', 'कक<unk>षांग.', 'जैन.', 'महिन.', 'सुरवाना.', 'बाँगरोतिया.', 'रसायनिक.', 'औरोरा.', 'चमचागिरी.', 'एनएकएीएरसी.', 'एंथी.', 'एसेल.', 'देश<unk>ेेवा.', 'इलेक<unk>टोरेक<unk>स.', 'वर<unk>कारेज.', 'कारवाई.', 'झंकता.', 'अर<unk>जेंट.', 'सपरमन.', 'मौर<unk>या.', 'जिनी.', 'जगदीचचाददद<unk>र.', 'असुर<unk>क<unk>षित.', 'काव<unk>योक<unk>तियाँ.', 'अल<unk>नकार.', 'स<unk>वंस<unk>रियों.', 'जातक.', 'रॉलर<unk>स.', 'अषक<unk>तता.', 'काठिवादी.', 'आवृति.', 'विद<unk>यायें.', 'विधिवत.', 'राढ़े.', 'मुख<unk>यार<unk>मस<unk>रताणारांता.', 'प<unk>रांसांगीली.', 'कनालोग.', 'पुडोकुत<unk>ताई.', 'निक<unk>.', 'फुहाड़ता.', 'पटाचेप.', 'रिट<unk>रेट.', 'मणोवैज<unk>ञानियों.', 'स<unk>तनधारी.', 'मुख<unk>योपध<unk>याय.', 'निरबाढ़.', 'टोडने.', 'अवुती.', 'परिक<unk>षणकर<unk>ताओं.', 'एक<unk>स<unk>टेरॉटर.', 'नशिक.', 'रसायनों.', 'वैत<unk>रवती.', 'ओग<unk>रेनाज़.', 'चौसिंगा.', 'फलोडी.', 'स<unk>लान.', 'पनामा.', 'निगर.', 'मोंटे.', 'सुनीती.', 'श<unk>रबों.', 'अम<unk>बिकाओं.', 'गुजारा.', 'फोटोल<unk><unk>मर.', 'प<unk>रहालाद.', 'बीसवां.', 'द<unk>विवेदी.', 'डेनेवाली.', 'बुर<unk>लेसन.', 'भारदवाज.', 'जताती.', 'मालेगांव.', 'रहूगां.', 'महमनत<unk>र.', 'बीईएस<unk>ट.', 'दिव<unk>यता.', 'संजीवन.', 'कुपोषित.', 'इक<unk>स<unk>लेकेशन.', 'चढ़ेगा.', 'टेक<unk>सकारा.', 'डुंगरपुर.', 'सराही.', 'लालपरी.', 'एयरोनोटिक<unk>स.', 'वोर<unk>थ.', 'आस<unk>तीन.', 'स<unk>पा<unk>निका.', 'उपरायारालायों.', 'मिमिकरी.', 'बल<unk>लभ.', 'वरिफफ़ेशन.', 'हैकनेस<unk>स.', 'आकाश.', 'बोना.', 'सीएलओसी.', 'दफन.', 'पेगव.', 'कहलाया.', 'मधधेखेड़ा.', 'तेलीबाग.', 'धारक.', 'निकालनी.', 'कांघे.', 'प<unk>रश<unk>नोत<unk>तरी.', 'काकिनाड़ा.', 'भाग<unk>योदय.', 'सिंगर.', 'मचाए.', 'लेखकागों.', 'उछल<unk>ने.', 'धर<unk>मराजने.', 'अिजल.', 'बंटता.', 'फर<unk>म.', 'रवेल.', 'हनुमनगढ़.', 'वीरंगानाओं.', 'गैतरी.', 'वेंकर<unk>मन.', 'डिबनू.', 'पुरोष<unk>षतामात<unk>री.', 'सान<unk>योजकों.', 'झाजगंज.', 'सरकरें.', 'नेवेस<unk>ट.', 'श<unk>रीकर.', 'मिताओ.', 'दियोतसिद<unk>ध.', 'भूपसिंह.', 'चरचाएं.', 'प<unk>रस<unk>रकों.', 'निष<unk>पाप.', 'फ<unk>लिन.', 'रणनीताना.', 'ययारीजी.', 'ढ़ाा.', 'गोमुख.', 'जुड.', 'खानिकर<unk>मी.', 'शररभ.', 'अरेलेनो.', 'उखाधकर.', 'लेनेवाली.', 'कुमर.', 'सिंघड़े.', 'टॉनसिल.', 'दविंदरपाल.', 'सिंगार.', 'खिसकते.', 'एनिड.', 'मेगापिकल.', 'डिगविजय.', 'फज़लों.', 'डोगे.', 'लेबेलों.', 'मुनाफा.', 'बढ़ने.', 'वेरी.', 'सातेसरा.', 'ओर<unk>तेगा.', 'रोवे.', 'भटिया.', 'राजस<unk>थाासासियों.', 'बागाबोचों.', 'विलिक<unk>सन.', 'दराती.', 'एटी.', 'प<unk>रमुखारपूर<unk>वक.', 'याना.', 'नितिन.', 'सिटी.', 'रेडिको.', 'दुकानों.', 'जलसंसधन.', 'मस<unk>येनदद<unk>रनाथ.', 'बहहर.', 'बर<unk>शी.', 'अवरू.', 'डव.', 'नकक.', 'सरेगामा.', 'हुगली.', 'सत<unk>ती.', 'नेग.', 'महालेश<unk>वेरर.', 'प<unk>लेसेंटिया.', 'वरसाचे.', 'कुमाउ.', 'एएमआई.', 'थिअटर<unk>स.', 'इरिका.', 'खिंचकर.', 'रादबार.', 'अल<unk>टो.', 'काव<unk>यववधायों.', 'कून.', 'अक<unk>रों.', 'तहकाना.', 'समजजनों.', 'मचाए.', 'सुर<unk>यदेव.', 'प<unk>रथमिक.', 'प<unk>राृत<unk>तियों.', 'ताजा.', 'जिवनशैली.', 'रक<unk>त<unk>दाताओं.', 'बलेश<unk>वर.', 'भौतिकावियियों.', 'लगातीन.', 'झाईयां.', 'वंशवाद.', 'नवननगर.', 'नजररंड.', 'अंशानकन.', 'फुंकने.', 'मत<unk>त<unk>रों.', 'मोडुले.', 'फार<unk>म<unk>स.', 'पहोंचोंगी.', 'मैदी.', 'थीईएईएफ.', 'प<unk>लाउडर.', 'अमित.', 'पूर<unk>वभापरदाद.', 'लंडारा.', 'गोंपो.', 'वेसले.', 'शाओ.', 'हमीदन.', 'वीक<unk>स.', 'मिनेरल.', 'सेनेंशियल.', 'बस<unk>तियो.', 'बागाबिचों.', 'प<unk>रनित.', 'भेदाभवों.', 'करहना.', 'ग<unk>रीनविले.', 'शेरावत.', 'रलौउद.', 'जतकों.', 'रिष<unk>टे.', 'बेंटोविल.', 'नज़ीबाबाद.', 'फिनांसर<unk>स.', 'फतही.', 'केराला.', 'लड़ाइं.', 'हरिजन.', 'विहाकेटर.', 'विदिशा.', 'पौल.', 'अर<unk>यों.', 'खिलाना.', 'छुतने.', 'दुखियों.', 'पूर<unk>नेश<unk>वरी.', 'विसाबल.', 'दरम<unk>यानी.', 'यारी.', 'विधामां.', 'यतराएं.', 'संटेक.', 'गुजरता.', 'नियान<unk>ा.', 'डम.', 'अवस<unk>थि.', 'प<unk>लस.', 'भें.', 'स<unk>टॉप<unk>स.', 'ढकेलते.', 'कीपीओ.', 'दमघोन<unk>तु.', 'इंसानो.', 'मेररागे.', 'एस<unk>फल<unk>ट.', 'लौंडरी.', 'रत<unk>नभूषण.', 'सीआरई.', 'दुषवारियों.', 'एनुप<unk>रुयोगों.', 'देश<unk>ेेवा.', 'लेला.', 'जगरालल<unk>लू.', 'मेजबानी.', 'देहरी.', 'क<unk>कार.', 'क<unk>रावफोर<unk>ड.', 'गुडुरी.', 'डीवीसी.', 'प<unk>रक<unk>रियागत.', 'नाग.', 'मात<unk>प<unk>यावतर.', 'स<unk>कूटरों.', 'अर<unk>धविशववस.', 'दरम<unk>यानी.', 'सुरवाना.', 'स<unk>थितियां.', 'धर<unk>मनन<unk>द.', 'सॉफर.', 'स<unk>कूश.', 'विधन<unk>साएं.', 'रेणडॉल<unk>फ.', 'मेझां.', 'स<unk>प<unk>रित.', 'शीलांंग.', 'कल<unk>में.', 'स<unk>वर<unk>णिका.', 'मांदी.', 'अर<unk>थव<unk>यस<unk>थ<unk>ताातायाओं.', 'कुंडालिया.', 'निमकाठाना.', 'फार<unk>म.', 'हा<unk>यारोपित.', 'पुट<unk>टा.', 'फाउरेंसिस.', 'पुरूष<unk>षतौत<unk>रारी.', 'बोंड<unk>स.', 'शिकाातर<unk>त<unk>ता.', 'क<unk>रान<unk>क<unk>रेंिंग.', 'उबल.', 'बाबाओ.', 'हल<unk>मापुरा.', 'हकीकत.', 'बरममन.', 'वर<unk>त<unk>मान.', 'बाँतिं.', 'अचना.', 'जिवंपर<unk>यंत.', 'वादारा.', 'सदककें.', 'एसा.', 'ज<unk>योतिश<unk>शित<unk>त<unk>रों.', 'पिथागोरास.', 'इंजेलिन.', 'कपोल<unk>कलपाना.', 'द<unk>रोपडियों.', 'रोजलिन.', 'श<unk>रीराम.', 'गोपालक.', 'बंगबंधु.', 'मिस<unk>तिरियां.', 'उसाय.', 'मेरकाडो.', 'मैसोर.', 'ओफ<unk>सोर.', 'कपुरथाला.', 'सहोवलिया.', 'मलाधिया.', 'हिमेन.', 'इन<unk>दौरनगर.', 'विशेष<unk>यााताओं.', 'उसकी.', 'कैपिलिन.', 'महापरान.', 'रूपेश.', 'रेनो.', 'सुडीप<unk>तों.', 'स<unk>वमी.', 'अमरा.', 'व<unk>यवस<unk>थापूल<unk>तक.', 'सेंसिंग.', 'ताइलर.', 'संगरेड़ी.', 'पहनो.', 'मरदानी.', 'बमलशेश<unk>वरी.', 'दीवनी.', 'फिंकपॉर<unk>स.', 'नवाा.', 'शिमत.', 'सोहावल.', 'बनाम.', 'प<unk>रार<unk>त<unk>रियों.', 'साइंग.', 'वार<unk>स<unk>टेड.', 'राजों.', 'चीखना.', 'नैमुल.', 'बढ़ततरी.', 'अंटोनी.', 'छन<unk>यासा.', 'निर<unk>देशिका.', 'निप<unk>तरा.', 'जुडने.', 'सुझती.', 'पाथलोगिस<unk>ट.', 'टिडे.', 'श<unk>रुनगर.', 'ब<unk>रांडेस.', 'पर<unk>मेश<unk>परपुर.', 'जेडेटाइल<unk>ट.', 'उद<unk>धातन.', 'स<unk>तान.', 'आदिवादियों.', 'जुलाहहों.', 'महाराजा.', 'गतिशिलता.', 'शिपपारा.', 'ट<unk>रिबनुल.', 'खिबेर.', 'वावविभाग.', 'घटाटोप.', 'धर<unk>माग<unk>रंथों.', 'प<unk>राृत<unk>तियों.', 'गांथ.', 'मिसोर.', 'सेहल.', 'नमकिन.', 'वैध.', 'वनस<unk>तायियां.', 'जियांगकु.', 'पखंडी.', 'प<unk>रोटेक<unk>ट<unk>स.', 'एलबैनो.', 'लिंडन.', 'सोहावल.', 'भुरभुरा.', 'गस<unk>त<unk>रोलॉजी.', 'विदरूप.', 'सासजजा.', 'रातरिचार.', 'रोजाना.', 'जलभरव.', 'मॉंट<unk>रोजरी.', 'एेव.', 'ब<unk>रस<unk>त<unk>रचारियों.', 'डीवीएम.', 'स<unk>त<unk>रेशण.', 'गंठे.', 'गहलोट.', 'छाटेनी.', 'विश<unk>वसनियी.', 'जिवनियां.', 'दस<unk>तानें.', 'ढोना.', 'खारूवार.', 'सुरिनामे.', 'मंगसिंह.', 'अन<unk>योनिर<unk>षित<unk>ता.', 'निन<unk>टीज.', 'पाँछोलास.', 'रेसों.', 'वातनाकुलूतों.', 'चाोशककोंिया.', 'आमदी.', 'दुष<unk>तापूर<unk>वक.', 'बेचते.', 'चुका.', 'मिजोराम.', 'टॉर<unk>ंस.', 'अनुचित.', 'अवोरोधक.', 'रॉस.', 'अच<unk>युत.', 'ओझमी.', 'हरावल.', 'गौल<unk>ड.', 'दाव.', 'श<unk>रीजनविन<unk>यानी.', 'नेक<unk>सेन.', 'रुकावतों.', 'भवनाओं.', 'देहदारी.', 'परिखाएं.', 'उतानी.', 'संस<unk>क<unk>रिशन.', 'प<unk>रॉसेप<unk>स.', 'नाडिलली.', 'सान.', 'गेनेवा.', 'रसाद.', 'बरममुला.', 'वन<unk>देतरम.', 'सफारी.', 'चम<unk>बा.', 'सवाल.', 'बननारी.', 'फतेहपुर.', 'पहनाते.', 'स<unk>प<unk>रय.', 'नोरमल.', 'अल<unk>लॉउट.', 'मनससास.', 'मंत<unk>रियोंके.', 'कार<unk>यार<unk>कार<unk>तााओं.', 'फाड़नेे.', 'ग<unk>रेग.', 'बैटूल.', 'कुशन.', 'सुबनी.', 'इन<unk>िबियम.', 'खटखकातर.', 'चाचाजी.', 'चांद<unk>रबली.', 'बरिपाड़ा.', 'रूहेलखंड.', 'घैरकनूनी.', 'आरेखाह.', 'प<unk>रमखकक<unk>रमियों.', 'ली.', 'थियिटर<unk>स.', 'असमम.', 'फानों.', 'ज<unk>यादा.', 'थेयेटों.', 'सफाईकर<unk>मी.', 'बायसेज.', 'क<unk>रोनक<unk>रेंसिंग.', 'जीवराज.', 'थिरके.', 'शक<unk>षुबाये.', 'परत<unk>रीपुर.', 'दभरा.', 'यूसीआई.', 'निहसान<unk>हेह.', 'महानातम.', 'बंठिया.', 'अनाम.', 'कश<unk>मिर.', 'बावदी.', 'भुट<unk>टो.', 'मारके.', 'कार<unk>यजजजनना.', 'फ<unk>रैंकस<unk>सो.', 'अदनी.', 'धुरिया.', 'महविद<unk>या.', 'मेगापिक<unk>सिल.', 'क<unk>रिप<unk>प<unk>रककक<unk>रिशन.', 'मुथ.', 'ऑथरोटिटी.', 'अपरिरार<unk>वशिल.', 'प<unk>रधान<unk>मृत<unk>तिकि.', 'आगाशे.', 'नवजारगरन.', 'अत<unk>र<unk>रा.', 'उबला.', 'अमानी.', 'खममम.', 'हारना.', 'भवभाभियातिक<unk>तियों.', 'पुष<unk>कर.', 'शांतियों.', 'नेरोलैक.', 'चौका.', 'सिध<unk>धलिंगा.', 'भारतनत<unk>यम.', 'जवाबाह.', 'दुष<unk>वरियों.', 'मांची.', 'जियो.', 'सपर<unk>मान.', 'सिम.', 'पीच<unk>यबाद<unk>याबीडीज.', 'बहव.', 'टिक.', 'अगावई.', 'हिगमान.', 'किवी.', 'अग<unk>ञात.', 'अगेंदे.', 'लिं<unk>चबुर<unk>ग.', 'माँगनना.', 'खतखातागी.', 'जोढ़िका.', 'स<unk>रुजविन<unk>याननी.', 'देतासन.', 'बदलवा.', 'यूर<unk>ल.', 'छापेमार.', 'एलक<unk>स.', 'भोपल.', 'फलिभूट.', 'पैथेलाजजिस<unk>ट.', 'पर<unk>यप<unk>तता.', 'फुर<unk>ती.', 'मृत<unk>विनुवर.', 'मरुती.', 'उठाकर.', 'अलो.', 'पेगव.', 'पिलिभित.', 'सोमी.', 'संचलनों.', 'कांचीपुराम.', 'दराती.', 'यद<unk>दश<unk>त.', 'सबुदाना.', 'वेल<unk>डिंग.', 'वेरोनिका.', 'स<unk>टिंबरवाला.', 'माज़ाल.', 'पीस.', 'अटुल.', 'ऑटोमैटिक<unk>लिकी.', 'जानचाना.', 'मिथिनचल.', 'फिकसिंह.', 'सजेती.', 'प<unk>लानो.', 'विसंगतिया.', 'छोमचे.', 'लगना.', 'मुकेश<unk>वरी.', 'तस<unk>वारों.', 'डेव.', 'वेश.', 'ज<unk>योथी.', 'लंडल.', 'विरंगाओं.', 'यानित.', 'पुर<unk>निया.', 'चौक.', 'लादीन.', 'चेस<unk>ट.', 'कसेगा.', 'अबूट.', 'रेनुका.', 'लूवे.', 'गुलाबाग.', 'लजजालु.', 'सभार.', 'गैराष<unk>रतारवादी.', 'धावकों.', 'लिम.', 'विधाएं.', 'स<unk>वयंस<unk>वृर<unk>त.', 'इलेक<unk>टोरेक<unk>स.', 'रामराज.', 'जनभनवा.', 'यौनिकता.', 'हाठे.', 'डुने.', 'प<unk>रोटेक<unk>ट<unk>स.', 'वरेनने.', 'मजबूरी.', 'प<unk>रविचंद.', 'वैज<unk>ञानिक.', 'टॉरें<unk>ट.', 'आत<unk>मायें.', 'सम<unk>परतती.', 'माठे.', 'सविता.', 'एटलांटिक.', 'जलग<unk>ती.', 'चच<unk>छा.', 'अफरीन.', 'बजारु.', 'चौकी.', 'फारसे.', 'तुनिंग.', 'नुदरानी.', 'मौम.', 'विधानी.', 'गुजार.', 'पकड़कर.', 'आंखें.', 'आप<unk>का.', 'वर<unk>नर.', 'अनवाहर<unk>य.', 'लिखेहैं.', 'पाठ<unk>यकरर.', 'शवकों.', 'यरेशललम.', 'मं<unk>लययुक<unk>तो.', 'नैनो.', 'झाइयाँ.', 'सिमफेपरोल.', 'धम<unk>म.', 'निखारेगा.', 'घुमाँ.', 'होंगा.', 'ढकल.', 'सगरिका.', 'बेरनार<unk>ड.', 'योगाबल.', 'ब<unk>रेवरीज.', 'दिश.', 'ऐठान.', 'वर<unk>तमान.', 'त<unk>रेमासिक.', 'तासविरे.', 'विध<unk>रत<unk>ग.', 'मराथा.', 'बनवा.', 'स<unk>वारणिका.', 'प<unk>रसथ.', 'ओवरेल.', 'पुर<unk>वालगुंनी.', 'प<unk>रोपेक<unk>षाबूसक.', 'सुवेन.', 'सपाते.', 'जूएनए', 'करघघे.', 'देश<unk>काल.', 'नथद<unk>वारा.', 'थानवी.', 'ओरान.', 'सेरनाो.', 'ईएर.', 'सब<unk>िशन.', 'ढरक.', 'तादाद.', 'ग<unk>रीनवूड.', 'हौते.', 'बेहुरिया.', 'नियानाओं.', 'चुरु.', 'मिस<unk>रौरी.', 'अन<unk>याय.', 'गेनेराट.', 'न<unk>यूटस<unk>स.', 'गरुद.', 'स<unk>वास<unk>तिकाकर.', 'शेई.', 'सिद<unk>धातावादियों.', 'आनावश<unk>याक.', 'सीटें.', 'गुलशन.', 'रिया.', 'फियरियन.', 'टाइर.', 'चि.', 'बदलपुर.', 'युद<unk>धनौका.', 'एनबीसीसी.', 'श<unk>रीजंगरवाासियां.', 'उडा.', 'कैमब<unk>रिड.', 'ऐयराय.', 'आईडीओए.', 'कालुमेट.', 'आजमाना.', 'तंत<unk>रिकाओ.', 'जोनेसबोर.', 'बुद<unk>धिीजवों.', 'क<unk>लोजप.', 'एनएमएमडी.', 'राष<unk>ट<unk>रपित.', 'कमरहति.', 'अश<unk>फॉल<unk>ट.', 'फ<unk>रांसिस<unk>को.', 'भल<unk>ला.', 'मौलविदों.', 'नरववर.', 'लहलाहती.', 'ब<unk>यावा.', 'घताएगी.', 'नामजाड़ी.', 'तकह.', 'सेवाग<unk>रम.', 'लामियां.', 'जिन.', 'स<unk>वेछा.', 'अंतादियाँ.', 'अर<unk>या.', 'पोलिशिंग.', 'जोखिमाभारा.', 'उम<unk>दतती.', 'तंत<unk>रा.', 'समौआ.', 'सीआीआई.', 'मंड<unk>या.', 'लावरी.', 'पहंते.', 'अंकोर.', 'निम<unk>नवत.', 'रापिंग.', 'रूपेश.', 'प<unk>रतिधदंतता.', 'नेदेप.', 'सैलाईपन.', 'मेन<unk>रज<unk>या.', 'दाव.', 'आबूरोड.', 'पाठ<unk>यक<unk>रमों.', 'निविदाताओं.', 'गांधीपुरा.', 'ए<unk>वीक<unk>स.', 'नारायागढ़.', 'जैलालिता.', 'सुसंस<unk>तुर.', 'मसूद.', 'वूंसकॉक<unk>ट.', 'संस<unk>कृतियां.', 'यूर<unk>एफएस.', 'थेराटपल<unk>ली.', 'प<unk>रतिकृणददशश.', 'उल<unk>हासपुर.', 'पहनाते.', 'ढावकों.', 'भगेेध.', 'प<unk>रांसांगली.', 'जलवायू.', 'भीजवाई.', 'सैरा.', 'क<unk>रेन<unk>ड<unk>रों.', 'मौज़.', 'सिद<unk>धांत.', 'कामियुनिकरर<unk>स.', 'चिदचीदपान.', 'मुठूत.', 'विवेकाधिकरों.', 'मलौँ.', 'सिनसिन<unk>टी.', 'रेजिस<unk>टान.', 'परोस<unk>ने.', 'विचारकों.', 'जनभनवा.', 'अं<unk>दमन.', 'बा<unk>याल.', 'मोरेपेन.', 'बीअर<unk>ड.', 'नोदरानी.', 'दिखायी.', 'चिनक.', 'व<unk>याख<unk>यमक<unk>त<unk>ता.', 'शैशव.', 'आयंथू.', 'अहेमददबबाह.', 'जायेके.', 'सिग<unk>निटी.', 'कुरुक<unk>षेत<unk>र.', 'प<unk>राृत<unk>तियों.', 'चरचा.', 'लक<unk>षमीचंद<unk>र.', 'हैममन.', 'निभागी.', 'धुनाई.', 'जनभावना.', 'केन<unk>ट.', 'मेलाघाट.', 'मु.', 'श<unk>विंग.', 'दम<unk>पत<unk>य.', 'क<unk>पाड़ा.', 'संतती.', 'मान<unk>वर<unk>थित.', 'अनुप<unk>रयोगी.', 'हावे.', 'काजू.', 'सर<unk>ििटोस.', 'टेक<unk>समस.', 'संचर.', 'तुथ.', 'लोजनो.', 'रोपने.', 'हॉल<unk>विुड.', 'छिनके.', 'धम<unk>मा.', 'टेक<unk>लोप<unk>स<unk>ट.', 'पुजापठ.', 'चनन.', 'श<unk>रंखलाओं.', 'छेड़ा.', 'कार<unk>बोजेन.', 'व<unk>यवधनन.', 'शिल<unk>टलज.', 'इस<unk>त<unk>रिलियों.', 'स<unk>कूश.', 'डानविले.', 'प<unk>राना.', 'ठाकूरवादी.', 'प<unk>राोगाशास<unk>त<unk>र.', 'व<unk>यक<unk>तियों.', 'मेट<unk>रोजिज<unk>स<unk>ट.', 'मधुरा.', 'पलियों.', 'डेनवर.', 'अपजज.', 'बेनी.', 'प<unk>रतिस<unk>थान.', 'ब<unk>रष<unk>चाचारियों.', 'लकीर.', 'सुधारग<unk>रह.', 'संदली.', 'जगरिती.', 'तलवार.', 'जनशिक<unk>षा.', 'तापुवो.', 'बुलेटिन.', 'बालबेजी.', 'माधधेखेड़ा.', 'अर<unk>थशास<unk>थारियों.', 'स<unk>नेइंिंग.', 'मेहमन.', 'रहेगी.', 'जमशेदपुर.', 'त<unk>याहरों.', 'दर<unk>षाना.', 'बीचचाव.', 'सुलती.', 'वर<unk>षण.', 'सुधारती.', 'वसामुक<unk>त.', 'पतिल.', 'जेवाब.', 'सोटो.', 'ध<unk>तुएं.', 'डीस.', 'भाड़ौड़.', 'पगड़ाबा.', 'अरुषी.', 'अगुस<unk>ता.', 'तितान.', 'इक<unk>विटिज.', 'एयर<unk>टल.', 'अलाप<unk>स.', 'नक<unk>साली.', 'एचीवमेंट.', 'गलाएगा.', 'फूडों.', 'राजनीची.', 'अर<unk>या.', 'स<unk>ट<unk>रमवुड.', 'घोट.', 'मुसिक.', 'पुर<unk>कासस<unk>था.', 'नोरा.', 'टोनिक.', 'गुजारने.', 'वाटर.', 'सुनसान.', 'सिरसा.', 'तांगीराला.', 'हनसों.', 'वरुन.', 'ड<unk>रीजर.', 'दुड़ाते.', 'शाराबों.', 'व<unk>यक<unk>तियों.', 'सातेसरा.', 'दर<unk>जनो.', 'अग<unk>नियाँ.', 'ढोना.', 'कार<unk>यार<unk>त<unk>रियों.', 'अवस<unk>थाएं.', 'हिमामाव.', 'टीवो.', 'एआलएल.', 'बांधुओं.', 'श<unk>रद<unk>धवनों.', 'मरियो.', 'व<unk>याघत.', 'मिचेल.', 'अडर<unk>घ.', 'विथथल.', 'प<unk>ररूप.', 'धूंधीत.', 'डुबाना.', 'लेडने.', 'फॉर<unk>म.', 'जुआरी.', 'परिवरवाले.', 'पेरननोरलाम.', 'भुवनेप<unk>रस<unk>वरद.', 'आईआरआईएस.', 'प<unk>रतियापूर<unk>ण.', 'लेबलों.', 'श<unk>रूकृष<unk>णन.', 'स<unk>निकरस.', 'कैन.', 'भूसवामी.', 'कर<unk>ता.', 'अन<unk>यय.', 'नोकरी.', 'प<unk>रेसिशन.', 'क<unk>रोम.', 'जू.', 'बॉवलिंग.', 'ताप<unk>ती.', 'कैथोलिकोन.', 'नजररंद.', 'मुलखंद.', 'स<unk>वेचा.', 'नन<unk>यौला.', 'घोंटना.', 'अद<unk>वत<unk>ताद.', 'अन<unk>डरवुड.', 'लुभावना.', 'पेट<unk>रोसीली.', 'आम<unk>दी.', 'रोपने.', 'दैस<unk>.', 'जबबी.', 'सीप.', 'फाड़े.', 'उलाहा.', 'उन<unk>नातियों.', 'मोलिना.', 'गन<unk>धूसभधछतततले.', 'हैन.', 'प<unk>रदर<unk>शन.', 'सरजूग.', 'बिदर.', 'अमरगगाड.', 'जुये.', 'टोंक.', 'देवापुर.', 'इंटीलिजेंस.', 'नीतियों.', 'खनौड़ा.', 'पोरबंदर.', 'सिम.', 'लग<unk>नेश.', 'गायिकाओ.', 'पृष<unk>भामियूं.', 'मूलचंद.', 'सिलखर.', 'मारगारिता.', 'उदकिष<unk>णगुु.', 'सिर<unk>टी.', 'यमाला.', 'प<unk>रशिक<unk>षु.', 'सियरा.', 'आलहहा.', 'पीक.', 'ताशिर.', 'डका.', 'नोमिनेट.', 'सपत.', 'कोइमेबर.', 'कोरापुट.', 'स<unk>वायत<unk>त<unk>शान.', 'विद<unk>युतृत<unk>तित.', 'किकियाना.', 'अरुनाई.', 'रिगल.', 'डियममंड.', 'मृदभभूषी.', 'वॉल<unk>टर<unk>स.', 'सुत<unk>रपाड़ा.', 'कीटी.', 'जिलाधिकारी.', 'मांगेश.', 'पेंसियन.', 'लगनेवाले.', 'जिलवासियों.', 'प<unk>लॉस<unk>की.', 'एकसाथ.', 'सेखर.', 'डॉव.', 'अर<unk>व<unk>विशिवास.', 'राजस<unk>थान.', 'विकासखखंड.', 'समशायों.', 'बढ़ाना.', 'क<unk>लाससन.', 'इखरुल.', 'फुरामे.', 'एबाज.', 'बाताया.', 'जुशानतन.', 'स<unk>ट<unk>रॉंग.', 'राजनीतरोकों.', 'पनिपत.', 'ब<unk>लानकार<unk>ड.', 'झब<unk>ज़.', 'जेसिंटो.', 'बरासिंगा.', 'सुचनाह.', 'इलेक<unk>ट<unk>रोजिनिक.', 'लालमानी.', 'भौलाल.', 'कठुआ.', 'पलारी.', 'अमिताओ.', 'तदन<unk>रसूती.', 'वाबस<unk>ता.', 'व<unk>लाड.', 'स<unk>लाश.', 'वाटरबबरी.', 'सेलफी.', 'लिय<unk>स.', 'पछसष<unk>त<unk>र.', 'अर<unk>यमा.', 'वादक.', 'जुनक<unk>शन.', 'जेनरिक.', 'जिया.', 'एडेएन.', 'सोफफनर.', 'सीवीएीएीए.', 'ध<unk>वानिमिकों.', 'फीड<unk>स.', 'सुकड़ियाल.', 'अं<unk>गढ़.', 'बावजी.', 'छोडिएे.', 'सीआईपीएलए.', 'विज<unk>ञानों.', 'ढसमाना.', 'लोंगेवाल.', 'बाम.', 'अट<unk>रेक<unk>त.', 'सराहा.', 'नृत<unk>यशशैली.', 'संवरी.', 'यक<unk>षशिपति.', 'अरबपतियों.', 'मुकद<unk>दमों.', 'फोड़े.', 'सिहुंता.', 'जीवन.', 'धूंधता.', 'क<unk>रूसेस.', 'कार<unk>यार<unk>त<unk>रिकियों.', 'प<unk>रतिबद<unk>धाएं.', 'डीएलवी.', 'प<unk>लान.', 'पैलोट.', 'अधिवास.', 'फैन<unk>न.', 'फववारा.', 'हलचल.', 'विश<unk>वरीयर.', 'क<unk>रेस<unk>ट.', 'ब<unk>रहमलीन.', 'विरेचन.', 'याद<unk>दशष<unk>टा.', 'उज<unk>जान.', 'सहहयत<unk>रे.', 'जिम<unk>मे.', 'सरवागी.', 'देखियेगा.', 'वजूद.', 'कुंडल.', 'रिया.', 'स<unk>लाइडर.', 'मेनाजेमेंट.', 'कार<unk>यकार<unk>यक<unk>रताओं.', 'क<unk>रिसिट<unk>स.', 'रुक<unk>ते.', 'डिस<unk>ट<unk>रबयुयूटर<unk>स.', 'एसएलएलएल.', 'दमापर.', 'थिकने.', 'इंटरकैट<unk>टिटी.', 'सिनययान.', 'सौथ.', 'आपका.', 'नहिनकरवाय.', 'जागरिती.', 'चूढ़े.', 'तिर<unk>ती.', 'नादसा.', 'जीएसएम.', 'गुजरत.', 'दर<unk>शनार<unk>थी.', 'नाभा.', 'ढोकेबाज.', 'लेगा.', 'बीयाइतिकीम.', 'सोमवार.', 'वनों.', 'औध<unk>योगिकरण.', 'अग<unk>रहरी.', 'आएफए.', 'तीमारादों.', 'मिसरा.', 'सेरेब<unk>रा.', 'नागरिक.', 'दस<unk>तार.', 'मकर<unk>ख.', 'जीटरओयूर.', 'बैलिस<unk>टिक.', 'चढ़ेगा.', 'मांगे.', 'निला.', 'मेंशारब.', 'सिंघड़े.', 'हिसारह.', 'रामकोट.', 'बैठते.', 'तशखीर.', 'इशारा.', 'सोलापुर.', 'मेझानी.', 'फ<unk>लोरेंस.', 'परामर<unk>षक.', 'झड़ने.', 'थिअटर<unk>स.', 'आड़ान.', 'एम<unk>बियेंस.', 'सुरक<unk>षःः.', 'हिकारिको.', 'बानया.', 'रूकवाई.', 'मित<unk>रवव.', 'बोकारो.', 'मौर<unk>या.', 'प<unk>रतिनिकिनारी.', 'चन<unk>द<unk>रमाओं.', 'परोसने.', 'ढ़ाया.', 'स<unk>पारिट<unk>स.', 'लेन<unk>ड<unk>रो.', 'सेन.', 'स<unk>वार<unk>थपरक.', 'चुचियाँ.', 'महामिदिया.', 'पूर<unk>वजनमों.', 'शोहदपत<unk>ते.', 'कुशान.', 'जममलोकी.', 'इवरेस<unk>ट.', 'तस<unk>वारों.', 'अदविवास.', 'प<unk>रेल<unk>लाा.', 'मुर<unk>रीता.', 'वैमानस<unk>य.', 'केली.', 'टिंपलेट.', 'वान.', 'महामनत<unk>र.', 'मेझां.', 'शुमाली.', 'फुलाये.', 'प<unk>रिट<unk>ट.', 'रॉजवेल<unk>ट.', 'प<unk>रशासिनिक.', 'उलजानों.', 'पत<unk>रारार<unk>रता.', 'दुआर.', 'कठडोड़वे.', 'बिपिन.', 'ओफ़हर.', 'इसाइयों.', 'प<unk>रोपलेंट.', 'कनसाई.', 'सिखिन.', 'सीएनसीएल.', 'अबॉटॉट.', 'काटली.', 'आदिवदियों.', 'चित<unk>रकठा.', 'अवशिष<unk>ट.', 'फ<unk>युच<unk>रिसिक<unk>स.', 'तेरीह.', 'नानहे.', 'अवेरी.', 'सुबा.', 'शखाएं.', 'त<unk>रिकलददीशी.', 'पालसाही.', 'फैलाइे.', 'झौवा.', 'जमती.', 'जनहनी.', 'पॉंडिंग.', 'तस<unk>वरों.', 'देश<unk>कल.', 'हिचकिचा.', 'बस<unk>तीह.', 'गरीबी.', 'फड़दाएं.', 'सितरम.', 'क<unk>मेरे.', 'बैरकपुर.', 'स<unk>वयमस<unk>विर<unk>त.', 'कासोवो.', 'मजबूरी.', 'कन<unk>वेकेशन.', 'स<unk>किपर.', 'जैपुर.', 'प<unk>रस<unk>थानों.', 'नार<unk>म.', 'रेडियोप<unk>रेमी.', 'तितागढ़.', 'चिको.', 'राज<unk>यमनसंस<unk>वृत<unk>र.', 'मैनवाल.', 'गुजरना.', 'सतलुज.', 'जतियों.', 'अनहहोनी.', 'टेलिलिक<unk>स.', 'लीबीएस.', 'हरावल.', 'मार<unk>रिज.', 'मनिया.', 'ट<unk>राक<unk>टर<unk>स.', 'काचन.', 'लैइरी.', 'कार<unk>यवाधि.', 'जलभारव.', 'भाड़ा.', 'बागोरा.', 'पिगा.', 'स<unk>टेफ<unk>स.', 'अभिमत.', 'एकेसिया.', 'वायरेल<unk>स.', 'चौडा.', 'परभानी.', 'खाेेदर.', 'बढ़ा.', 'बुर<unk>च.', 'उपद<unk>रवों.', 'तिकियों.', 'मिलक.', 'डुबोना.', 'बाकर.', 'सुतली.', 'बुद<unk>धराम.', 'वीलथ.', 'पतरानी.', 'अर<unk>व<unk>विशिवास.', 'पैम.', 'कास<unk>तानेडा.', 'बालजित.', 'भटनागर.', 'जातकों.', 'इकायादुर.', 'स<unk>वर<unk>गडूत.', 'रुशिकुल.', 'टेटे.', 'कंथर.', 'बीउलाड.', 'युरूपिया.', 'गेये.', 'दादरेवा.', 'बिखेरने.', 'हम<unk>लो.', 'पकड़ाई.', 'उपधाधियों.', 'कोलोराडो.', 'पैकार<unk>ड.', 'जगरुती.', 'अंध<unk>रा.', 'चूंकते.', 'बेखवाबियां.', 'नाशा.', 'सिन<unk>हा.', 'उत<unk>पिदान.', 'सागा.', 'आर<unk>या.', 'दिखाइे.', 'अनिष<unk>टता.', 'उदान.', 'सन<unk>युक<unk>तस<unk>था.', 'शमताल.', 'एवावा.', 'अधिवक<unk>तागान.', 'राहहान.', 'झुठलने.', 'पुर<unk>वभास.', 'बिजेनद<unk>रसिंह.', 'चिन<unk>नानी.', 'लोक<unk>षभाली.', 'लाड़की.', 'नरसिंगढ़.', 'संघाननत<unk>रत<unk>रियों.', 'रूपी.', 'करिकर<unk>ताओं.', 'अगुस<unk>ता.', 'मनमारजी.', 'अंत<unk>रमुख.', 'अनुमर.', 'रिष<unk>ठानता.', 'द<unk>वियार<unk>थी.', 'चूतिले.', 'हट<unk>टियरबाग.', 'यूजी.', 'राज.', 'रेजुलिइजेशन.', 'विंध<unk>य.', 'फिक<unk>सिंह.', 'कमजोर.', 'भारा.', 'चौढ़वां.', 'फालने.', 'श<unk>रुंखाला.', 'विपंता.', 'प<unk>रूफ<unk>र<unk>ड.', 'जमाना.', 'घटाएगी.', 'डंगा.', 'एरिका.', 'भोला.', 'व<unk>याख<unk>यमक<unk>त<unk>ता.', 'योजनाह.', 'वेबुनिनीयी.', 'रुमनी.', 'सहु.', 'प<unk>रधानगर.', 'सीट<unk>टल.', 'स<unk>टैन.', 'इनसानी.', 'हमला.', 'न<unk>यियरियो.', 'लडाद.', 'अंताडियां.', 'कुशवाहा.', 'कोचचीह.', 'गणपाठी.', 'फार<unk>मिक.', 'पडेंगी.', 'अर<unk>थ.', 'मुकर<unk>ार.', 'निप<unk>तकर.', 'होलीयाज.', 'कूच.', 'उत<unk>थक.', 'सुलखान.', 'कमेरे.', 'जगेेगा.', 'संत<unk>री.', 'शख<unk>सियतें.', 'पंचांग.', 'जलाना.', 'नित<unk>या.', 'इच<unk>छी.', 'हाबरा.', 'पालियों.', 'अजेससरमम<unk>मिया.', 'ताविज.', 'फाडवर<unk>क<unk>स.', 'ग<unk>रहम.', 'प<unk>रभानननत<unk>री.', 'सेथ.', 'जगतत.', 'हर<unk>षित.', 'डबना.', 'रक<unk>तादाताओं.', 'मेक<unk>सिको.', 'तसिर.', 'आयार<unk>क<unk>यांश<unk>रन.', 'एडडीआई.', 'मेकोन.', 'इसरानी.', 'एएंथ.', 'श<unk>रीनहूपूर<unk>ण.', 'डॉरक.', 'जीनों.', 'घरीबों.', 'तराशकर.', 'ऑब<unk>जेवर.', 'आर<unk>या.', 'उखाड़.', 'साथसाथ.', 'पककगों.', 'हिन<unk>दों.', 'अप<unk>रिहारी.', 'मंजिल.', 'एलसीएस.', 'करवी.', 'दुभाशियों.', 'रिकनक<unk>तिंग.', 'विं<unk>ड.', 'क<unk>लाइंट.', 'शरारत.', 'वेनतुरा.', 'रॉलिंस.', 'हेनेस.', 'निकेतन.', 'क<unk>रांतियों.', 'त<unk>विन.', 'दिव<unk>या.', 'गिडििडेट.', 'निग<unk>मयुक<unk>त.', 'गबली.', 'नोवाटो.', 'रिश<unk>वाथोो.', 'फाँसी.', 'गर<unk>जना.', 'निहलानी.', 'पिनता.', 'ग<unk>रीर.', 'लेविसिलल.', 'प<unk>रकाषित.', 'क<unk>लारियंट.', 'खायल.', 'द<unk>वियार<unk>थी.', 'राखे.', 'बुलानशशर.', 'स<unk>टेफोर<unk>ड.', 'नजरायों.', 'वर<unk>लड.', 'जीवनियां.', 'पर<unk>मेश<unk>परपुर.', 'उठनी.', 'न<unk>यूत<unk>रियों.', 'जेठा.', 'बागाबोचों.', 'सुचिकित<unk>सा.', 'नागमंडल.', 'प<unk>रदधधाधिकारियों.', 'उर<unk>वर<unk>ता.', 'नेल.', 'क<unk>रिप<unk>पोककक<unk>रिशन.', 'स<unk>वायत<unk>त<unk>शासन.', 'जरदा.', 'उपलाक<unk>षय.', 'छुड़वाया.', 'विदाध<unk>धा.', 'मुख<unk>याम<unk>रत<unk>रपपपता.', 'गेने.', 'रतनपुर.', 'मन<unk>तम.', 'गुना.', 'मीटीईची.', 'डेनेवाली.', 'नाभिकुंड.', 'विशेषोों.', 'लंगारों.', 'पोलीथेनों.', 'सम<unk>बित.', 'धूंध.', 'हान.', 'ताकरा.', 'धनधखेखोरी.', 'पुलिंदे.', 'इपकोपिल<unk>स.', 'विज<unk>ञानपपादीय.', 'महोनी.', 'पूंजीतंत<unk>र.', 'खरे.', 'एक<unk>स<unk>टॉक<unk>टर.', 'जुन<unk>बेबोट.', 'प<unk>रियानी.', 'सवाल.', 'सुखकर.', 'आलोचक.', 'फान<unk>स.', 'जयललिता.', 'अमझेरा.', 'बोमबा.', 'व<unk>याग<unk>रा.', 'अपनानी.', 'रिसने.', 'छुरे.', 'चारलोट.', 'जोसे.', 'रेलीह.', 'मेझां.', 'ढन<unk>धान<unk>या.', 'डबबुर.', 'बीएसएसएस.', 'नज़िब.', 'अवस<unk>थाएं.', 'जबलपुर.', 'धर<unk>मन<unk>कृषप<unk>पतके.', 'फारमर.', 'एनएसएल.', 'सॉमरविले.', 'बुल.', 'झुला.', 'खाग<unk>यार.', 'मेहराम.', 'ढासमाना.', 'रिपन.', 'भगडौौ.', 'मिठ<unk>य.', 'ललानिया.', 'भुलों.', 'वादली.', 'नगपपत<unk>तिनिमा.', 'वैमन<unk>या.', 'बिगेस<unk>ट.', 'जोड़ता.', 'महात<unk>रोों.', 'ओरछछा.', 'धैर<unk>यवां.', 'सुं<unk>ड.', 'प<unk>रिंस.', 'जुबान.', 'काम<unk>स<unk>टिडियो.', 'योरोपिया.', 'मेजा.', 'भूसावल.', 'गयात<unk>री.', 'वरे.', 'बुद<unk>धिीजवों.', 'एंथ.', 'रादार.', 'इलायाची.', 'उबाल.', 'श<unk>रीजंगरवाासियां.', 'फिट<unk>जरलैल<unk>ड.', 'जीवशनली.', 'चर<unk>त.', 'सरगी.', 'वेडों.', 'मुरमुर.', 'भाते.', 'विश<unk>ख.', 'बयने.', 'मदनगंजा.', 'पैकागेन.', 'वर<unk>णारक<unk>ताओं.', 'ज<unk>यादा.', 'लोकोत<unk>सव.', 'तेवरी.', 'झाजूंज.', 'मलवान.', 'तदन<unk>ुर<unk>ति.', 'ईएलएल.', 'कब<unk>ज़ा.', 'सुसंस<unk>कृत.', 'सांधोल.', 'आमरियाधाधा.', 'हाबबन.', 'बॉवलिंग.', 'रस<unk>मे.', 'इम<unk>डब<unk>लिपियल.', 'विधाओं.', 'बोवी.', 'चेननाई.', 'कमलजीत.', 'सिंघा.', 'पेंसियोधिरियों.', 'बरह.', 'डुबाना.', 'एसेटल.', 'चोहन.', 'फल<unk>ने.', 'सिद<unk>धार<unk>थः.', 'एपीक<unk>स.', 'डाल<unk>टन.', 'श<unk>रीखंद.', 'टेक<unk>सिलल<unk>स.', 'आगरवाल.', 'मिथ<unk>याचारियों.', 'सेमेंट.', 'क<unk>रानक<unk>रेसिंग.', 'संस<unk>कृतियों.', 'ढाकककर.', 'निज़माबाद.', 'छतेनी.', 'दुष<unk>कृरिया.', 'ससराम.', 'चिढ़ते.', 'लम<unk>बा.', 'लाउतिस.', 'खाएं.', 'ढिंधे.', 'अंतयांत.', 'मस<unk>स.', 'बरामद.', 'क<unk>रेमिस<unk>ट<unk>री.', 'उथानेवाले.', 'लेहना.', 'सिराग<unk>तिती.', 'कॉनट<unk>रोल.', 'अंदाजी.', 'कैटेलिन.', 'पक<unk>षपपत.', 'फोडो.', 'फ<unk>रैंसिका.', 'प<unk>रयोग<unk>रपुर<unk>थ.', 'क<unk>रांतिधारा.', 'दैशवाला.', 'खुरासन.', 'क<unk>रारांटिने.', 'फॉन<unk>ड.', 'पक<unk>षपपत.', 'पुतला.', 'त<unk>रथ.', 'सथथसथ.', 'मोहिम.', 'जोहनसों.', 'एसपीएम.', 'बटाया.', 'पालमर.', 'तुग<unk>लकाबाद.', 'एपकक<unk>ट<unk>स.', 'हैराम.', 'सरेबाजर.', 'जेरूसेल.', 'मोल<unk>ड.', 'वर<unk>णारक<unk>ताओं.', 'हूपर.', 'वेटर<unk>स.', 'लुभाते.', 'फेफडा.', 'कममत<unk>तोजना.', 'दम<unk>पति.', 'सोया.', 'बारबारपुर<unk>ण.', 'तादीपर.', 'लूट.', 'तरिको.', 'चता.', 'पितमैन.', 'पहला.', 'मुल<unk>टिमेडिया.', 'तिझौर.', 'लबेल.', 'ली.', 'तिर<unk>थान.', 'सतुआ.', 'वर<unk>गास.', 'डबबोलिम.', 'सूचनाह.', 'लेबललिंग.', 'रोसेविल.', 'फेहेबर<unk>ट<unk>स.', 'आल<unk>टो.', 'परतानी.', 'अस<unk>मिताओं.', 'वन<unk>त.', 'तडपती.', 'पतेल.', 'काजी.', 'दोस<unk>तानपूर<unk>ण.', 'क<unk>षेत<unk>रों.', 'लिंच.', 'स<unk>टेट.', 'रागों.', 'माहोत<unk>र.', 'प<unk>राग<unk>यतन<unk>त<unk>र.', 'दुनीरतती.', 'क<unk>रोस.', 'अव<unk>यवसायी.', 'धिर<unk>यवां.', 'टिम.', 'अशारिरी.', 'चन<unk>द<unk>रास.', 'ज<unk>योतिषी.', 'एलेक<unk>संडिरिया.', 'बेवककूना.', 'सिरपुर.', 'उजेबेक.', 'खरववर.', 'धर<unk>मनिवनहतता.', 'सुरेनदरननगर.', 'आल<unk>हा.', 'अरुनचल.', 'क<unk>रायर.', 'बागली.', 'दविंदरपाल.', 'चापसुली.', 'संस<unk>कारियों.', 'इंजिनेस.', 'मेंदेज.', 'सियाह.', 'गुजारने.', 'गजारा.', 'कवी.', 'मिड<unk>नापोर.', 'वृत<unk>तों.', 'सिरमों.', 'वर<unk>तमन.', 'उबरेगा.', 'पिलोट.', 'नर<unk>भाष<unk>षी.', 'एन<unk>ट<unk>रिक<unk>स.', 'डेयोटन.', 'बडू.', 'अल<unk>लोंडर.', 'निश<unk>रा.', 'वाधवान.', 'जेनसेन.', 'पली.', 'त<unk>रिमासिक.', 'एट<unk>रेक<unk>ट.', 'वािियालयालय.', 'चन<unk>दन.', 'मेगा.', 'मैनसफलल<unk>ड.', 'मत<unk>ताचेरी.', 'नवकेतन.', 'कमतार.', 'पितियूनिया.', 'पुरुषोत<unk>तपुर<unk>व.', 'तापन.', 'जुबान.', 'इनसीजरबार<unk>बासीयी.', 'हैमबालिन.', 'आराम.', 'यशपाल.', 'वोखा.', 'छेतरी.', 'ओएमेस<unk>सी.', 'परववन.', 'कुकरेजा.', 'प<unk>रेमश<unk>लाह.', 'नर<unk>मी.', 'श<unk>रृलखाओं.', 'अवरोधक.', 'तीरों.', 'गनेशा.', 'झाड़ा.', 'अनुपामा.', 'तलाबार.', 'बिंडल.', 'जवाला.', 'आमरियापद़ा.', 'प<unk>रतिनिकिकरी.', 'हल<unk>मापुरा.', 'बूदाम.', 'मैकियास.', 'मेडिकल.', 'रिस<unk>पेक<unk>टिंग.', 'रांक<unk>ता.', 'डीए', 'सिक<unk>शन.', 'भूमी.', 'त<unk>याहरों.', 'रंगते.', 'उत<unk>त<unk>रा.', 'पेंशाधारियों.', 'कारिकर<unk>ताओं.', 'विद<unk>याओं.', 'डफन.', 'सारिंद.', 'खासकर.', 'राइथ.', 'गुडागंव.', 'सहाब.', 'उदानों.', 'मजेस<unk>को.', 'पुषपा.', 'केशरी.', 'बोमबी.', 'करगील.', 'तकरा.', 'बिजी.', 'क<unk>रोम.', 'स<unk>तिथी.', 'गुल<unk>.', 'कालोनिवासियों.', 'आवृतियों.', 'सुभाभूति.', 'चमच.', 'विरोधाभासी.', 'साभार.', 'एल<unk>फ<unk>रार<unk>गो.', 'हराना.', 'अव<unk>यवसायी.', 'प<unk>रेविंस.', 'छेतराी.', 'प<unk>रतिष<unk>ठि.', 'सापा.', 'पतकी.', 'परचियों.', 'प<unk>रतिवाद.', 'लिशाफा.', 'दर<unk>शना.', 'गारिसों.', 'आकांडों.', 'धंडों.', 'डिस<unk>ट<unk>रुयूबररी.', 'खातरी.', 'पंजिका.', 'बहतः.', 'रवले.', 'कांगन.', 'प<unk>रेमात<unk>मक.', 'सिपाही.', 'नोतेबन<unk>दिषुदा.', 'देवलाहा.', 'हलला.', 'झमातें.', 'मस<unk>े.', 'उसक.', 'पितमाह.', 'विवर<unk>भानारीती.', 'नागेरॉलॉल.', 'लखखी.', 'अछी.', 'सतिन.', 'नागपुर.', 'बसिहाथ.', 'छेलाई.', 'उबरकर.', 'सन<unk>युक<unk>तस<unk>था.', 'सुरी.', 'भपाई.', 'व<unk>यक<unk>तितत.', 'महेतर.', 'फ<unk>लेश.', 'राष<unk>ट<unk>रक.', 'राझाई.', 'होंग.', 'लैंगरों.', 'सुभाय.', 'फंड.', 'फ<unk>लावर<unk>स.', 'उठेन.', 'बड़ा.', 'मिशरा.', 'शत<unk>.', 'माहात<unk>तन.', 'सरगूज.', 'इवेनिंग.', 'ग<unk>रहहान.', 'बागली.', 'नीयू.', 'मुंडवा.', 'तोलासन.', 'जेडेटेल<unk><unk>ट.', 'नागमंडल.', 'कनाल.', 'मछिलिपंतम.', 'फेलिक<unk>स.', 'हस<unk>तक<unk>षरों.', 'भीलई.', 'कन<unk>ट<unk>रक<unk>टिंग.', 'क<unk>रार.', 'जौन.', 'भलू.', 'फोर<unk>टिस.', 'जिरिजाघारों.', 'जैनों.', 'अर<unk>थव<unk>यवस<unk>थास<unk>थः.', 'ओक<unk>स.', 'खिताबों.', 'इएका.', 'चश<unk>मा.', 'बटाओ.', 'घ<unk>रुतामरी.', 'प<unk>रेटेस<unk>टेंट.', 'बाउर.', 'लक<unk>ष<unk>मधधर.', 'सियासी.', 'उपेग<unk>तावादियों.', 'तूगा.', 'समजद<unk>यों.', 'खुरपाका.', 'कुमावत.', 'एमवीपी.', 'सुराज.', 'न<unk>यूरोस<unk>सिटिट<unk>ट<unk>स.', 'चन<unk>द<unk>रेशेवननगर.', 'तानिश.', 'फरुखागर.', 'अवाजों.', 'नजराने.', 'पशुचारा.', 'वेबुनियादि.', 'डेंबरी.', 'नैडिली.', 'छल<unk>ला.', 'रोवन.', 'शेउपुर.', 'रवलानी.', 'संवरी.', 'ढ़क.', 'मससे.', 'इंसुरेंस.', 'सम<unk>प<unk>भभतता.', 'राष<unk>ट<unk>रा.', 'जाहरी.', 'जुड़ाई.', 'बदमाशों.', 'खिताबों.', 'स<unk>वयम.', 'आगह.', 'ढिंधवाल.', 'घिसे.', 'सपपानवाली.', 'निखरें.', 'बाधित.', 'ब<unk>रह<unk>मापुर.', 'बैटवॉन.', 'कोलिंग.', 'समाधियों.', 'यूनियांवाड़ी.', 'छापेमर.', 'गरीबों.', 'थोआसंड.', 'डसिला.', 'कांजेवसेन<unk>विस.', 'बढ़ाओं.', 'लगेगा.', 'दुर<unk>घटना.', 'नितियों.', 'कापधारी.', 'आत<unk>री.', 'सिंगम.', 'वास<unk>तिक.', 'सब<unk>सटनिस.', 'पीलेपन.', 'उठ<unk>ी.', 'हंडिया.', 'प<unk>रतिक<unk><unk>षि.', 'लालकर<unk>ता.', 'दुकानों.', 'निविदाताओं.', 'सर<unk>ववातीय.', 'नरसंहरों.', 'नीमकाथना.', 'हेरेरा.', 'जुनुन.', 'आईआईएआई.', 'जगदलपुर.', 'स<unk>विफ<unk>टलेट.', 'जलागती.', 'पिट<unk>स.', 'रोपी.', 'अडांगा.', 'अलासी.', 'चौकियां.', 'लेइटों.', 'वकरांगी.', 'डेवललपेम<unk>ट.', 'शवनी.', 'पर<unk>देसियों.', 'भूगोल.', 'बागीची.', 'सिवान.', 'स<unk>ट<unk>रे.', 'आलसी.', 'वियव.', 'विशिन.', 'किससागय.', 'महानिदेशक.', 'चिकित<unk>सववम.', 'भट<unk>चाचार<unk>य.', 'ट<unk>रेन<unk>टन.', 'कान<unk>याएँ.', 'प<unk>रियार<unk>शिरिषी.', 'हुखूख.', 'शुलकह.', 'रेन.', 'महाविद<unk>या.', 'सनश<unk>यों.', 'श<unk>रेनीह.', 'ओडोम.', 'बेनिटेज.', 'त<unk>योहर.', 'मतियाना.', 'शव<unk>यात<unk>र.', 'रिष<unk>टे.', 'रेहाना.', 'सीएसएस.', 'अनायवश<unk>याक.', 'रिझाया.', 'बृगाडे.', 'सपने.', 'चुनीन.', 'कोशाधिकारी.', 'कराब.', 'पलताने.', 'कर<unk>ेश<unk>वरनधाम.', 'आर<unk>यानास.', 'प<unk>रतिष<unk>ठाों.', 'कराईकल.', 'उस<unk>की.', 'विप<unk>रीतता.', 'परिक<unk>षाओ.', 'फ<unk>यूजी.', 'लामिनार.', 'जुतती.', 'कौशिक.', 'बेकाबू.', 'नानो.', 'ओरिसा.', 'तोमर.', 'रोपी.', 'ठप<unk>पाबाजीी.', 'बाबत.', 'अत<unk>तसहा.', 'कोलान.', 'प<unk>रतिलेतर.', 'भूसी.', 'हलिया.', 'उत<unk>पीदन.', 'पोपे.', 'करखेले.', 'बहुल<unk>या.', 'अस<unk>वाविक.', 'कठनाययों.', 'रामजीलाल.', 'वसुल<unk>ता.', 'मुख<unk>यमंत<unk>री.', 'मररिया.', 'सतमेव.', 'बक<unk>सा.', 'उदार.', 'मन.', 'बुद<unk>धिजीवों.', 'सुदिप.', 'जोडो.', 'तासदीक.', 'निकालनी.', 'भटकाना.', 'हरना.', 'डिलनों.', 'रेगिस<unk>टर<unk>ड.', 'भं<unk>डारा.', 'ललनिया.', 'लिमा.', 'लालकृष<unk>णा.', 'रत<unk>नभूषण.', 'स<unk>परीवर.', 'सह<unk>ह.', 'समेट<unk>टी.', 'पियरिया.', 'मामलोलमें.', 'ब<unk>रात.', 'वैससन.', 'विल<unk>ला.', 'लिंदा.', 'खरिया.', 'चेलनानी.', 'इलेक<unk>ट<unk>रिनिस<unk>स.', 'रिशिराज.', 'उदाईपुर.', 'पगला.', 'रितुकां<unk>त.', 'कुर<unk>मी.', 'दस<unk>ताना.', 'एमराल<unk>ड.', 'घुमाई.', 'उपद<unk>रवियों.', 'ओकलाहमा.', 'धर<unk>मारने.', 'झाहूी.', 'उप<unk>पिदान.', 'खेमिक.', 'तुगलकी.', 'दुआर.', 'एवी.', 'जडेट.', 'तैबू.', 'प<unk>रोग<unk>रेमें<unk><unk>स.', 'टेलोवस<unk>लिले.', 'चादरों.', 'रेसर.', 'भकाा.', 'अंधाक<unk>तो.', 'ओब<unk>रायान.', 'क<unk>रत<unk>या.', 'पीरन.', 'नजरियों.', 'मयुर.', 'चौढ़वां.', 'स<unk>वर<unk>गडूत.', 'फेका.', 'इन<unk>डेपेडडेट.', 'तिनका.', 'गुर<unk>दों.', 'जातियों.', 'समावनायका.', 'सब<unk>बे.', 'चन<unk>दना.', 'प<unk>रार<unk>भािकता.', 'ट<unk>रा.', 'उडं<unk>त.', 'डिनामेटिक.', 'विद<unk>युतिकृत.', 'ललनिया.', 'वदारा.', 'वेड.', 'फड़ड़ाएं.', 'ट<unk>रेडड.', 'अखुपाड़ा.', 'सराहा.', 'विज<unk>ञानवााियों.', 'कमजोर.', 'योग<unk>नसस<unk>वॉन.', 'आर<unk>यम.', 'पट<unk>ठाएं.', 'बजपाई.', 'जसी.', 'नौ.', 'एवव.', 'लगतार.', 'सुमान.', 'पदनी.', 'मिंड<unk><unk>री.', 'डिस<unk>ट<unk>रिबरी.', 'जनकरों.', 'शंकचचाचारार<unk>य.', 'ओफफोशर.', 'दुखों.', 'नेस<unk>को.', 'फूल<unk>टी.', 'टूल<unk>स.', 'वर<unk>जर.', 'दुम<unk>घोंटा.', 'विदेह.', 'राजमन.', 'आत<unk>ममुंग.', 'रॉकफोर<unk>ड.', 'मितरा.', 'देवनार.', 'ओकीओ.', 'उत<unk>तरिया.', 'कैनावीज.', 'गालास<unk>शन.', 'जिवनिया.', 'हकिकत.', 'इलिमिनेटर.', 'ऑगुस<unk>टिने.', 'कर<unk>.', 'बितेने.', 'दफ<unk>तरवाले.', 'बैराढ़.', 'कमबलों.', 'जववर.', 'फटामा.', 'विवेस.', 'डीवीटी.', 'धातिएं.', 'सियाहा.', 'पितने.', 'बिच<unk>छों.', 'जिता.', 'सेवाला.', 'बटौर.', 'अदित<unk>य.', 'क<unk>षेत<unk>रें.', 'अंकेनी.', 'छेतेर.', 'मुकर<unk>ते.', 'एंटी.', 'बाल<unk>टी.', 'खंगाली.', 'बीयोसिज.', 'बंजाजम.', 'पुष<unk>पित.', 'लिनमार<unk>गा.', 'पेरेड<unk>डी.', 'बोडारा.', 'फोकुस.', 'दूताय.', 'श<unk>रीलरिफ<unk><unk>स.', 'महामकाानन.', 'घुंसा.', 'काव<unk>यवधियां.', 'क<unk>षत<unk>रियादी.', 'जानकारों.', 'रख<unk>ा.', 'ऋष<unk>तेदारो.', 'श<unk>रवानी.', 'कुबुद<unk>नीन.', 'जेवललर<unk>स.', 'मेहमन.', 'रोजलिन.', 'जयकारा.', 'चबुत<unk>रे.', 'हरादिल.', 'ट<unk>रक.', 'न<unk>यूरोवस<unk>वलल.', 'खेलाने.', 'स<unk>ट<unk>रेशन.', 'लक<unk>षायित<unk>रथ.', 'नेशियं<unk>स.', 'पाठ<unk>शालायें.', 'निवेदानह.', 'लिदारों.', 'तानाला.', 'सेवकों.', 'पूर<unk>वपेक<unk>षाओं.', 'मनी.', 'सोमवर.', 'प<unk>रन.', 'अवजेयानिक.', 'अवियेशन.', 'ब<unk>रॉवन.', 'नाकम.', 'अधिवास.', 'जनजगरन.', 'राजदंजनाओं.', 'लारी.', 'भलु.', 'तरीको.', 'चिकोपी.', 'रिफ<unk>रेक<unk>ररीज.', 'बरमाद.', 'कव.', 'एमेरल<unk>ड.', 'विवेकाधीन.', 'फड़ड़ाएं.', 'कैलाना.', 'पैंट<unk>स.', 'पित<unk>ससस<unk>र.', 'होखत.', 'चौरसिया.', 'सच<unk>चिदानंद.', 'सेइड.', 'चारों.', 'रिजवी.', 'स<unk>ला.', 'दानपति.', 'दूरगढ़.', 'देवापुर.', 'मनवाया.', 'लटककर.', 'महमाँ.', 'निया.', 'उध<unk>मपुर.', 'अटेहर.', 'छुपता.', 'तुंगनाथ.', 'रघुपति.', 'प<unk>रकां<unk>ध.', 'चांगेड.', 'गंगोट.', 'क<unk>रिकेट.', 'फ<unk>रेंकिस<unk>सो.', 'भागने.', 'अड़ांगा.', 'फिकसिंह.', 'कमाऊ.', 'टिकोन.', 'पम.', 'तरिकों.', 'आगमन.', 'किदवाई.', 'आश<unk>रितों.', 'रघववन.', 'जनेयुधरी.', 'देवनपपोर<unk>ट.', 'प<unk>रेराणपपुरी.', 'महासिंह.', 'लोर<unk>डा.', 'इन<unk>ट<unk>रकक<unk>कियन.', 'स<unk>वाःवाह.', 'ग<unk>रिश<unk>मोस<unk>स<unk>व.', 'तलाशेगा.', 'सहरसा.', 'मैक<unk>काय.', 'मोशे.', 'ग<unk>रंथियां.', 'लोहाती.', 'अलियेंस.', 'टाडडे.', 'चिनके.', 'सिवान.', 'तकी.', 'लेटाकर.', 'हिकारिको.', 'टायर<unk>स.', 'न<unk>यूयूशन.', 'डीरफिइल<unk>ड.', 'चरित.', 'बेतलेह.', 'फिनीएट<unk><unk>स.', 'असाही.', 'पहहन.', 'धन<unk><unk>याम.', 'फारेंसिस.', 'लहाना.', 'ड<unk>वरिकेश.', 'दुबाना.', 'कराबोरियों.', 'गोलामुरी.', 'राखनऊ.', 'विपनक.', 'पुंचांग.', 'ब<unk>रीड.', 'गुल<unk>लावाला.', 'एवीप.', 'बजी.', 'हर<unk>पाल.', 'प<unk>रेमेश<unk>वर.', 'प<unk>राप<unk>ट.', 'नक<unk>सलवाद.', 'कंथहर.', 'ओक<unk>साइड.', 'खैरती.', 'देशके.', 'सुनसीर.', 'अशारोों.', 'सहहो.', 'चबते.', 'मिती.', 'बेलचा.', 'सफलाता.', 'शबना.', 'खाठूटाला.', 'शिवस<unk>तवा.', 'प<unk>रेराणपपुरी.']\n",
            "['थरमैक्स', 'सिखाएगा', 'लर्न', 'ट्विटर्स', 'तिरुनेलवेली', 'इंडिपेंडेंस', 'स्पेशियों', 'शुरूः', 'कोल्हापुर', 'अजहर', 'क़रार', 'अंक', 'डब्ल्यूपीडी', 'हाशिए', 'ग्लेंडल', 'उधेड़', 'इकठ्ठी', 'आईडिया', 'अम्बिकापुर', 'माकेरेरे', 'साबूदाने', 'फूहड़ता', 'सेक्वेंट', 'शुऐब', 'पानीहाटी', 'समेटती', 'उखरुल', 'ब्रह्मलीन', 'उतराधिकारी', 'इक़बाल', 'दयालपुरा', 'सोहराई', 'तक़रीबन', 'फर्रूखनगर', 'ठेंगा', 'त्यौहारों', 'कर्णेश्वरधाम', 'उमानाथ', 'दानशील', 'साहित्योत्सव', 'शांतिनिकेतन', 'शिकायतकर्ता', 'अंदरखाने', 'पंटर', 'लीडरों', 'गलगंड', 'कार्नियां', 'मुर्गीपालन', 'मुशाहिद', 'मॉड्यूल्स', 'रजौरी', 'सुश्रुषा', 'शृंगार', 'होल्ट', 'लैंगिकता', 'इजाजत', 'वनक्षेत्र', 'भूतल', 'स्वादप्रेमियों', 'नाइनटीज', 'फ्रेक्टर', 'लिखकर', 'एयरकंडीशनर', 'नब्ज़', 'कुएस', 'बौनी', 'कारगुजारियां', 'गांगनाम', 'तापीया', 'तेज़पुर', 'तलवे', 'सीमाई', 'दर्शनार्थी', 'रिवास', 'तर्कवाद', 'अनुसारका', 'कोचेला', 'लटककर', 'पत्रावलियां', 'परिषद', 'स्पिन्ज', 'अनशिदा', 'डिजीसस', 'सरायमोहिउद्दीनपुर', 'लॉवेल', 'कैपेसिटर', 'पैसेंजरजींद', 'ग्रंथियों', 'बुएना', 'कैंटरबरी', 'काठियावड़ी', 'टेकचंदानी', 'फ़ीसद', 'बेरहरमी', 'निष्कर्षः', 'ऐक्टिविटीज', 'रिकैलीब्रेशन', 'शासनाधिकारियों', 'फिजूलखर्ची', 'डब्ल्यूपीडी', 'पेस', 'दस्तार', 'कैटलिन', 'जोड़ता', 'किल्लत', 'गृहनगर', 'वंडर', 'वाटर', 'श्विंग', 'पश्तून', 'फार्म', 'डिबनू', 'पश्चमी', 'उठापटक', 'नीलाभ', 'लक्ष्मीनियां', 'महानगरवासियों', 'उपनेता', 'कन्वेंशन', 'शाॅर्प', 'कार्ययोजना', 'मास', 'वेस्टिंग', 'कुर्वेती', 'ज़यादा', 'मुकेश्वरी', 'श्रीमति', 'विवेकाधिकारों', 'लोकसभावाली', 'कबहा', 'भ्रांतियों', 'विवेकहीन', 'बाल्मीकि', 'हरयाणा', 'जीवराज', 'फ्लिन', 'राणा', 'विष्णुपुरा', 'घोटालेबाजों', 'हैरतअंगेज़', 'तकलीफ़देह', 'पीपाड़', 'धभाशारा', 'अंतडियां', 'राबिन', 'सिंगार', 'गुमशुदगी', 'बालकृष्ण', 'फब्ती', 'पलटने', 'लहलहाती', 'नगाड़ा', 'उड़ानें', 'क्लेन', 'जूलूस', 'कार्यभार', 'मंटो', 'पैमाइश', 'कोविना', 'पेंषन', 'ऑगस्टावेस्टलैंड', 'सैंट्रींग', 'ऐक्टिवा', 'बार्कर', 'वल्कन', 'वृत्तों', 'कबड्डी', 'रौनक़', 'कैटलिन', 'फूस', 'जनगणना', 'उपाख्यानों', 'सुंदरम', 'कोचीन', 'नेको', 'कौशल', 'फालिया', 'एस्वेडो', 'कोट्टयम', 'दिलाएगा', 'कर्वी', 'सौंपेंगी', 'लेख़न', 'गुडेपु', 'फरसे', 'नूबिया', 'ताजा', 'आंत्रित', 'काजी', 'मुर्गीपालन', 'एड्डी', 'नगीने', 'सुब्हा', 'लुइस', 'विजयापुरम', 'बताअाे', 'ओकोआ', 'साइंस', 'सरकारें', 'ब्रेमटन', 'गुरुपदो', 'संयुक्त', 'रालोद', 'बाधाओं', 'गौमूत्र', 'सभाएं', 'तनी', 'दिल्ली', 'सुजेन', 'विनीत', 'चिमाते', 'किकियाना', 'रॊकेट', 'मैक्सवेल', 'हिप्पो', 'दीपन', 'अर्यमा', 'भूलता', 'कर्माचारी', 'दुर्गापुर', 'त्रिभाषा', 'सूदखोरों', 'प्रस्तावों', 'सुरवीन', 'प्राप्ती', 'गिरिवासियों', 'सिडयूसिंग', 'वेलवेट', 'मुक़र्रर', 'बैक्सटर', 'डेनिअर', 'सीडब्ल्यू', 'उठनी', 'घासी', 'इकट्ठा', 'भूपसिंह', 'दबोचने', 'क्रॉस्बी', 'नामीगिरामी', 'हर्ले', 'जर्दा', 'लिएप्रधानमंत्री', 'भ्रांति', 'ऐजेंसियों', 'बागो', 'फारसी', 'बोसान', 'कार्की', 'गिनते', 'मनोकामनाओं', 'संम्पत्तियां', 'पॉलिथीनों', 'एमटेक', 'परिचर', 'बडबडी', 'क्रेन', 'लामियां', 'उल्हासनगर', 'प्रभानमंत्री', 'शिवालापुरवा', 'फर्थ', 'सुहागिन', 'सरायकेला', 'रोमियोविल', 'राजस्थानवासियों', 'प्रतिरोधात्मक', 'स्वर्णिका', 'व्यवस्थापना', 'तेल', 'ग़लतफ़हमी', 'टेकइनसाइडर', 'माइक्रोफाइबर', 'श्रीमहापूर्ण', 'फ़ल्लूजा', 'डोनल्डसन', 'चढ़ने', 'जीवविज्ञानियों', 'क्रिकेटिंग', 'रिडक्शन', 'आवाज़ें', 'व्लाद', 'प्राथमिक', 'ठेंगा', 'एक्सेल', 'चटकाते', 'कुबुद्दीन', 'ताजा', 'पड़नी', 'नीचाई', 'वौसौ', 'आलोचकों', 'ज़लज़ले', 'सूरत', 'जीवति', 'प्रहारक', 'श्रीसद्गुरु', 'संचालनों', 'भाल', 'तुगलक', 'उठापटक', 'हस्तांतरणीय', 'उत्साहवर्द्धन', 'संगोष्ट्री', 'शासनाधिकारियों', 'महाधिपतियों', 'फातिमा', 'फोड़े', 'कंटिन्यू', 'कामानाएं', 'चुटीले', 'संख्याएं', 'करंज', 'बरसाता', 'परिकल्पित', 'हरपाल', 'माऊंट', 'ग्रोवर', 'बायोलॉजिस्', 'हालिशहर', 'एंजेलो', 'जनेऊधारी', 'बीचबचाव', 'पोकर', 'अपवर्तित', 'आस्तीन', 'प्रतिष्ठावाले', 'ब्युनावेंचुरा', 'डेक्कन', 'सेरिव', 'पर्दा', 'एमिल', 'शैली', 'ईस्टवेल', 'छल्ला', 'लक्ष्यों', 'हॉफ', 'जरूरीः', 'रह्या', 'महकने', 'देवी', 'नील्सन', 'भीरा', 'चबूतरे', 'भूषण', 'रुकते', 'आमदनी', 'टॉकशो', 'जूनागढ़', 'पढ़ाता', 'ओढ़कर', 'ब्रोक', 'तलाशा', 'परिवारवाले', 'ट्रिब्यूनल', 'ब्रोक', 'यल्लाप्पा', 'तस्वारों', 'तुगलकी', 'पिक', 'सर्किलेशन', 'ज्वार', 'कनिंघम', 'कुश', 'प्रॉपरफेसबुक', 'अशरफी', 'चढ़ें', 'वांगचुक', 'हनीवेल', 'रेडियमधर्मी', 'लड़ेगे', 'सचन', 'अर्थशास्त्रीयों', 'कैंटन', 'आत्ममुग्ध', 'पॉन्टिएक', 'लोपेज़', 'घोंटना', 'अम्बानी', 'मर्यादाओं', 'रतलाम', 'हरक्यूलिस', 'अकोला', 'सक्शन', 'नोटबंदीशुदा', 'लगवाती', 'अलाइव', 'जीवंत', 'फोड़ा', 'फटही', 'नूबिया', 'लालमणी', 'फ़ैसला', 'कृत्या', 'धुआं', 'आहूजा', 'प्रतिपालपुर', 'नमकीन', 'मंजिलें', 'लफ्फाजी', 'जुराब', 'फुलाए', 'केस्टालॉय', 'ब्लैक', 'सूरज', 'ब्रॉन्च', 'अवर्णता', 'जोहरी', 'तेवरी', 'सेंडर्स', 'वेल्डर', 'एनईयू', 'भरष्टाचारियों', 'लालमणी', 'खातेदार', 'आजमाना', 'आवृत्तियों', 'कुल्लवी', 'बहावलपुर', 'प्राथमिकता', 'मोबाइल', 'कटिहार', 'स्वेच्छा', 'हामिदन', 'समदर्शिनी', 'दृढ़', 'गोंद', 'विशेश', 'काबिलेगौर', 'लौरेंस', 'हिशाम', 'चौसिंगा', 'पफिन', 'मेट', 'बिल्डकॉन', 'टीकों', 'अथक', 'जिदंगी', 'चायल', 'माप', 'लास्ट', 'गजरा', 'रात्रिचर', 'काथला', 'सहूलियत', 'पटनायक', 'न्यायालयीन', 'मुख्यमंत्रियाें', 'जीतनेवालों', 'स्वफ़ोटो', 'क्लिफ्टन', 'डोडा', 'पेंडुलम', 'चिपकने', 'नलकसा', 'छह', 'गोंड', 'समीक्षाकर्ता', 'मंत्रीपद', 'लिब्रेशन', 'असमान्य', 'चुंगियों', 'एरिका', 'बेलोट', 'थींं', 'फार्मिक', 'युद्धक', 'वेगास', 'लास्ट', 'चित्रांशी', 'अवर्णता', 'वेस्टिंग', 'वितर्क', 'मुकबाले', 'धर्मपूर्वी', 'अंबानी', 'इबीजा', 'महामीडिया', 'सुज़लोन', 'वर्णित', 'झुठलाने', 'मदुरई', 'कौण्डल', 'लापत्ता', 'क्षीण', 'तेवरी', 'रायचूर', 'लिंडन', 'पुलमा', 'ऑलराउंडर', 'ग़रीबों', 'कालाहान', 'वाबाग', 'कैपधारी', 'आटा', 'बरेली', 'जिंग', 'जीवन', 'रेड्डी', 'पहनी', 'तनु', 'दीपिका', 'लोहाती', 'कक्कड़', 'मौलवियों', 'डूंगरपुर', 'झालाना', 'लक्मे', 'प्रोस्पैक्ट्स', 'वेस्टिंगहाउस', 'बावरा', 'ठक्कर', 'इच्छाचारी', 'त्रिया', 'धावकों', 'दामले', 'श्रवणाबेलागोला', 'नीलकमल', 'कर्माचारी', 'पूर्वाेत्तर', 'लहराई', 'हैतो', 'प्रकाण्ड़', 'खेलमंत्री', 'भविष्य', 'एगमोर', 'शृंगार', 'सौंपेंगी', 'नॉक्सविल', 'बेंडर', 'सुंदरम', 'प्रदेश', 'संवेदीकरण', 'लगुना', 'भीष्म', 'येम्मिगनुर', 'हुहतमाकी', 'वडाली', 'गेल', 'रेस', 'सालाज़र', 'डिप्थीरिया', 'दृढ़', 'शदधि', 'प्रबोधिनी', 'लोकप्रतिनिधियों', 'जताती', 'मंगला', 'बर्विन', 'मम', 'उदयगढ़ी', 'अकापुल्को', 'वैधृति', 'चरणबद्घ', 'मनदड़ी', 'यूक्लिड', 'पारंपरिकता', 'हांफते', 'साथिया', 'संघीयता', 'मुख्यअतिथियों', 'व्यवस्थाविरोधी', 'रक्तदाताओं', 'बरामदे', 'तरुतल', 'कुत्ता', 'झाड़ा', 'किशुन', 'स्कैफ़लर', 'अमरोही', 'रैडिकल', 'जेनर', 'वर्षिय', 'हसीनों', 'शावकों', 'रूपा', 'स्वार्थपरक', 'वेरोनिका', 'वेब', 'महापात्रा', 'छींके', 'अग्र', 'जियांगकोऊ', 'वेस्टवर्क', 'जनगणना', 'पास्को', 'जाधव', 'एंटरप्राइज', 'संशयों', 'वर्णव्यवस्थावादियों', 'उपस्थियों', 'मुडिचु', 'पर्नस्टारों', 'ईए', 'बैला', 'लिवाल', 'हिल्सबोरो', 'राष्ट्रियाध्यक्ष', 'पीडब्ल्यूटी', 'थाउजेंड', 'शाकिर', 'सलाहकार', 'विश्वकर्मा', 'रिज', 'स्वास्थ्यहीनता', 'रिश्वतखोर', 'प्राविंसेस', 'दफ्तरवाले', 'फिजिशियन', 'लोग', 'जोधिका', 'सेवाला', 'डूबत', 'सिपाह', 'भरमा', 'प्रतिज्ञा', 'मेघवाल', 'नंदोई', 'ऑरोरा', 'फार्मूले', 'दुर्घटना', 'स्वतंत्रसिंह', 'मोंटेरे', 'बाल्टी', 'कोलंबिया', 'व्हिटियर', 'दुक्के', 'क्यूबेक', 'चमकना', 'शीलभंग', 'बिस्तागोंड', 'फाइंडले', 'बापा', 'देहरा', 'ऐसे', 'श्रंखला', 'हस्ताक्षरों', 'तिरुपति', 'मंगलमूर्तिः', 'कुर्सियों', 'मिठाइयाँ', 'पहनो', 'हैलबिड', 'बंगश', 'ऑफिशियली', 'सेंवई', 'गुर्जर', 'समन्वयक', 'पार्नेल', 'सूनसान', 'क्यूसैक्स', 'मध्य', 'युद्धरत', 'अर्बनडेल', 'ब्रिग्स', 'एरर', 'चिखली', 'वाण', 'अधिकारियां', 'रोनोक', 'हाओकिप', 'पूर्वापेक्षाओं', 'मशीनवत', 'कदमो', 'कुरमी', 'विद्याथयों', 'सिमटता', 'संगरूर', 'स्ट्रोंगस्विल', 'अगवाई', 'जनगन', 'नागराज', 'यारियां', 'भाग्येष्वर', 'जीवति', 'सूदखोरों', 'रुकवाकर', 'ब्रह्मवर्ता', 'ग्रे', 'भ्रांति', 'पुरूषोत्तमपुर', 'तेजी', 'स्वातं', 'मंत्रिमंडलीय', 'एशले', 'मेथिव्स', 'मूलों', 'एक्ज़ो', 'हमीरपुर', 'पोखरियाल', 'बोलतीं', 'प्रतिष्ठावाले', 'दबंगता', 'धुरिया', 'टिप', 'गाज़ी', 'इजाजत', 'मेज़बानी', 'टोलेडो', 'मोहड़ा', 'पुतली', 'संचारी', 'टापनी', 'लिटिल', 'नरनारी', 'धनिये', 'गाड़ूँगा', 'फाड़ी', 'गम्मत', 'ट्यूबरक्यूलोसिस', 'नागार्जुन', 'राजनीचि', 'मेडिजेन्सर', 'लफ्फाजी', 'कॉमर्स', 'माथलू', 'चटगांव', 'हीलिग', 'इस्न्पेक्टोर', 'टेस्टिंग', 'नौशाद', 'फ़ल्लूजा', 'पिक', 'जीवन', 'कताल', 'डब्ल्यूईएफ', 'बेसिल', 'स्लाइडों', 'सैंदान', 'जेरेमी', 'गॉंव', 'तोड़ेंगे', 'उड़ान', 'सप्तक्रांति', 'मिरांडा', 'व्यापक', 'मैडी', 'सभासदों', 'नौवहन', 'आत्माएं', 'रोज़ा', 'दमाए', 'मिडवेस्ट', 'ट्रेलरः', 'मालबर', 'वाको', 'विमर्शों', 'खान', 'डिफरर्ड', 'सरसा', 'हेस्टर', 'उत्तर', 'कसेरा', 'कुरआने', 'दायित्वों', 'चयनितों', 'मोराल्स', 'हीरोज', 'प्रेममूलक', 'मोरन', 'ज़ाइडस', 'नेल्सन', 'अमरपाल', 'फटने', 'टिंका', 'गायिकाओ', 'पकाएं', 'भ्रष्टाचारीयों', 'चालित', 'एफल', 'मॉड', 'राजनीतिकारों', 'अर्थों', 'गालीगलौज', 'अन्योन्याश्रितता', 'उडाया', 'कटलरी', 'प्रतिबन्धः', 'नीलाभ', 'बिलाई', 'खुल्लमखुल्ला', 'स्वानसन', 'अन्वाहार्य', 'रेवाड़ी', 'सहकलाकार', 'चैंपियनशिप', 'भड़काया', 'नामधारी', 'अल्बा', 'वातानुकूलन', 'खाताधारक', 'टेक्सस', 'स्पेशल', 'हरवंश', 'दीनु', 'शनिवार', 'डीई', 'डाबी', 'नहींकरवाई', 'मारवाड़', 'पीड़ियों', 'ब्रिगटन', 'मनाए', 'लिगर', 'दिलाएगा', 'आधीन', 'परवा', 'हेम्प्सटेड', 'मामूली', 'प्रदेशिका', 'वैरीफ़िकेशन', 'फेफड़ा', 'विसंगतिया', 'कच्छे', 'घोस्ट', 'पिपली', 'लवासा', 'हेल्पर', 'डूबनेवाले', 'बख्शने', 'इन्द्रियोंके', 'बरहद', 'रिसाली', 'काक्षीवती', 'विश्वरक्त', 'लोदी', 'पीचट्री', 'घुमक्कड़ों', 'ओझा', 'इलाज़', 'अरुणाई', 'अयोध्यानाथ', 'भौतिकवादियों', 'रॊकेट', 'न्यूरोकेमिस्ट्री', 'काल्डवेल', 'आवाज़ें', 'मूल', 'मल्टिप्लेक्सों', 'त्यौहार', 'रोटेशन', 'बेलचा', 'सहकलाकार', 'जड़ित', 'नगाड़ा', 'बरपाया', 'डूंगरपुर', 'लैंड', 'उच्छृंखलता', 'फैलाइए', 'सूची', 'नून', 'आरपी', 'सील्ड', 'पालनपुर', 'इलेक्ट्रोस्टील', 'ऑब्स्क्योरा', 'सिगरेटों', 'दिखाईं', 'रसल', 'नजरंदाज', 'कुआलालंपूर', 'ऑस्टिन', 'रैडक्रास', 'टीसीएनएस', 'स्वायत्तशासन', 'मूड', 'दौलताबाद', 'भूलता', 'प्रतिकारा', 'नाइट्रस', 'नाकाम', 'शुटिंग', 'राष्ट्रा', 'बेचकर', 'स्टोन', 'वर्धा', 'डीडब्ल्यूटी', 'देसबथुला', 'बापा', 'बाघबान', 'आदेशः', 'उड़ेलकर', 'तर्कों', 'याद्दाश्त', 'इनहेलेशन', 'सफरदगंज', 'रूपक', 'स्क्रेनटन', 'वर्णव्यवस्थावादियों', 'शिक्षाकार्मियों', 'खंडेलवाल', 'बेवरेजेस', 'पीडिया', 'नदफ', 'जेहे', 'ढहाएँगे', 'मस्तमौला', 'अगरतला', 'जमाया', 'परदेसी', 'आर्यों', 'वेलवेट', 'आपदाएं', 'आगाशे', 'अच्छी', 'उदघोष', 'स्वभावतः', 'बानी', 'राइकर', 'पीडीलाइट', 'ड्युअल', 'भीरा', 'सिल्वा', 'अधिकरन', 'रंजकता', 'श्रीचक्र', 'गौमूत्र', 'निचला', 'बुरहानपुर', 'सहूलियत', 'लब्ध', 'पूल', 'स्ट्रेशन', 'पीकिंग', 'ऑडिटर', 'डेनिअर', 'अजित', 'लैंगडन', 'अवशिष्ट', 'झ', 'प्रशासनिक', 'बोसीयर', 'बढ़ाचढ़ाकर', 'गिरिडीह', 'भुज', 'रीडिंग', 'फव्वारे', 'अद्वैत', 'रुकते', 'अनोंदिता', 'फोंटाना', 'न्यूट्रियो', 'पायलटों', 'जड़ें', 'बोरीवली', 'इलाइची', 'एलियंस', 'धम्मा', 'नाहरगढ', 'एनएसआईयू', 'सपाट', 'लैंगडन', 'पनामा', 'पुतले', 'आसापास', 'अल्वधि', 'मुफलिसी', 'संसथान', 'दर्शनार्थी', 'लोकोत्सव', 'ग्राहकोंने', 'उच्चअधिकारीयो', 'बहाव', 'रेजा', 'मदरसन', 'काॅप्लेक्स', 'आबूरोड', 'हैडलबेर्गसिएट', 'चिमटी', 'सर्फेकटेंट्स', 'मिटाओ', 'कायलाना', 'टंकार', 'ओढ़कर', 'मेड़ता', 'मेगवाल', 'रसायनिक', 'सूचनाः', 'सुगमता', 'जोकि', 'मुनाफ', 'निस्वार्थ', 'क्षेत्रद्वारा', 'महावर', 'बुलढाना', 'धमकाता', 'भूस्वामी', 'विज्ञान', 'क्यूट', 'बेवकूफाना', 'जाजमऊ', 'बेल्ट्रान', 'विलास', 'मखदुमपुर', 'कोलोराडो', 'ब्लैकबर्न', 'सुनीति', 'घिग्घी', 'फ्लेवनाइड्स', 'चहुंमुखी', 'सुपाच्य', 'सिरती', 'विष्णु', 'चौदहवां', 'चौधरी', 'आबरू', 'बलुरक', 'दावणगेरे', 'अनुरीत', 'शिपिंग', 'पटियाला', 'जानम', 'फाइनेंसियल', 'दमाए', 'पालिसी', 'आइसीसी', 'कुच्छ', 'चीखना', 'रिलायंस', 'उर्वरकों', 'रवैल', 'लड़कियो', 'मुकेश्वरी', 'वनक्षेत्र', 'उम्मीदे', 'कहावह', 'कांतिपूर्ण', 'बड़ाएँ', 'एनसीआरडब्ल्यूसी', 'प्रतिबद्धाता', 'फ़ॉलो', 'सेवामुक्त', 'इवान्स्टन', 'चरस', 'हील्स', 'रॉबर्टसन', 'भदौरिया', 'ग्लैक्सोस्मिथक्लीन', 'प्रॉडक्टों', 'गेवारा', 'विज्ञानों', 'जार्विस', 'लफ्ज', 'फॉन्ट', 'पराधीन', 'शक़', 'गंझू', 'डिट', 'दंपतियों', 'माड़ीखेड़ा', 'प्रतिष्ठानोंं', 'सूंड़', 'गिनते', 'अलगअलग', 'स्वास्तिकाकार', 'प्रतिकारा', 'आस्तिक', 'निवेशकर्ता', 'सवाल', 'संस्कृतियां', 'रौबदार', 'रघुराम', 'इंटरव्यु', 'छरहरी', 'सॉयर', 'भासपा', 'ज्वारों', 'संस्थिता', 'पार्षदों', 'पुलत्स्कर', 'उठाएँगे', 'लाएंगी', 'ओईएफ', 'वलसाड', 'मूलों', 'पुतलियां', 'शमिल', 'रिग्स', 'कैमेरिलो', 'सफ़लता', 'विनष्ट', 'कपिंग', 'जयललिता', 'आइटम्स', 'सॉकर', 'एस्फाल्ट', 'मेहरोत्रा', 'चुने', 'जरख', 'मेज़बानी', 'मुफलिसी', 'लूना', 'वर्णव्यवस्थावादियों', 'लिपाई', 'उठनी', 'बजाज', 'हिसारः', 'दंपतियों', 'वॉटसन', 'अगस्टाइन', 'पटाक्षेप', 'धंधेखोरी', 'उभरेगा', 'एंटोन', 'अपारदर्शी', 'निहलानी', 'टिवोली', 'होगिस', 'विंटर', 'बदलवाकर', 'घुमाई', 'पेटालुमा', 'बीएमडब्ल्यूएम', 'बख्शते', 'संवेदीकरण', 'तेलों', 'घुमक्कड़ों', 'हांफते', 'फरहीन', 'जेम्स', 'कीरतपुर', 'रेडिंग', 'शक़', 'सरप्राइज़', 'किसानों', 'चलेंगे', 'योडेर', 'स्टीन', 'पैथेलॉजिस्ट', 'लेबलिंग', 'इक्थियोसिस', 'लिबरेशन', 'फूडॉन', 'नन्हें', 'भदौरिया', 'जटिला', 'पहुंचनी', 'राष्ट्रोंं', 'ब्लॉसम', 'टंडन', 'गड़बड़बड़ी', 'संस्थिता', 'यात्राएं', 'आदान', 'जावते', 'नियुत्तियों', 'भीष्म', 'हंडिया', 'मुर्गीपालन', 'मालेकर', 'लवलैंड', 'मावे', 'विक्रम', 'हांफते', 'बैरकपुर', 'ग़ाज़ियाबाद', 'तर्कों', 'एसपीएफ', 'आर्टेमिस', 'ऐप्प', 'जयबाण', 'गैरइरादतन', 'विवेकाधीन', 'सबजूनियर', 'फालिया', 'प्रेक्षकगणों', 'पुरवासियों', 'विपन्नता', 'मांगा', 'ऑर्डनेंस', 'प्रधान', 'अभियुक्तोंके', 'विराटखंड', 'हिजबुल', 'विद्याओं', 'मंजू', 'छविंद्र', 'छुपकर', 'डोरंडा', 'सायं', 'मिठाइयाँ', 'जीवविज्ञानियों', 'पश्तून', 'ब्रह्राचारिणी', 'यरूशलेम', 'एल्टामोंटे', 'सिहुंता', 'हेमवती', 'कोषाधिकारी', 'आशंका', 'बीन', 'वैज्ञानिकता', 'झीलों', 'रोबर्तो', 'श्रीरामपुर', 'मंचीय', 'वसूलता', 'मोरीसन', 'महाग्रंथ', 'ट्रांजिस्टर', 'सर्वजातीय', 'पाटोत्सव', 'हाॅकी', 'मेडिथ्सन', 'उड़ाना', 'सरायमोहिउद्दीनपुर', 'पीटर्सबर्ग', 'रंजकता', 'दीया', 'माेहिंदर', 'मस्टेक', 'निर्बाध', 'एहसास', 'आवृत्तियों', 'एशियवन', 'थकी', 'टरबाइन', 'दिमाक', 'जोधपुर', 'दरदरा', 'ख़ासतौर', 'मकरानी', 'हाई', 'फटही', 'मारिया', 'गॉंव', 'पेंडुलम', 'आविष्कार', 'नतीजेः', 'जेफरसनविल', 'ब्रह्मसिद्धि', 'तुलसीदास', 'रीता', 'चर्चामंच', 'प्रतिकारा', 'तर्कवाद', 'दबंगों', 'हिचकिचा', 'शीर्षकों', 'डम', 'द्विअर्थी', 'जवाबः', 'बहुमान', 'जांचकर्ता', 'वन्देमातरम्', 'शुड', 'अगस्ता', 'एनईयू', 'दस्तखतशुदा', 'सूरीनाम', 'किंगखान', 'तरस', 'रिकनेक्टिंग', 'फाइब्रिक', 'क्लेयर', 'छीजत', 'मोमिनटोला', 'विरोध', 'अरेना', 'यूनियनवादी', 'बम्लेश्वरी', 'बोका', 'इम्मैच्योरिटी', 'संसथान', 'जीन', 'ददरेवा', 'कीड़े', 'करावणौ', 'पुतिन', 'टंकार', 'खटकती', 'जड़', 'पुष्प', 'जीएम', 'युसूगी', 'कोरोला', 'प्यादे', 'करवायेगी', 'बलात्कारियों', 'जताती', 'गुरदासपुर', 'श्रेष्ठस्वरूप', 'शुभप्रभा', 'यूरोप्लास्ट', 'राष्ट्रभक्तों', 'कैंटरबरी', 'कम्युनिकेटर्स', 'महामंच', 'कॉन्वे', 'डीडब्ल्यूएफ', 'रीव्स', 'डभोई', 'भूतल', 'इंसानो', 'एमिल', 'विज्ञानम', 'सपाटे', 'अटवाल', 'हिंडन', 'ऑफिसरी', 'मोंटक्लेयर', 'पुर्नस्वीकृत', 'रिचर्डसन', 'संदर्भ', 'फार्गो', 'अलीम', 'सप्तक्रांति', 'एचआर', 'इमानदारी', 'कॉन्ट्रेक्टिंग', 'गंगाजल', 'गौर', 'अधिकरियों', 'बंधान', 'सेंधा', 'डब्ल्यूपीडी', 'ग्रविटा', 'लिंगकन', 'प्रवृत्तिविज्ञानों', 'सीमेंटेशन', 'बगड़', 'जेन्ट्री', 'डैटसन', 'मोंटेबेल्लो', 'रिन्यूएबल्स', 'नक्सलवाद', 'ऐतराज़', 'इतिभगवती', 'निवेशकर्ता', 'पटकथाएं', 'काबिलेतारीफ', 'भादस', 'भोगते', 'होल्डिंग', 'धत्ता', 'धोरों', 'उपाख्यानों', 'फयेत्तेविल्ले', 'स्टॉकटन', 'ब्रजेश', 'प्रतिज्ञा', 'बढ़ाती', 'थेन', 'थॉमस', 'ध्येयवादी', 'ट्यूजडे', 'डब्ल्यूजीपीएल', 'ओवम', 'गति', 'न्यूक्लियस', 'क़रार', 'पुरूषोत्तमाचार्य', 'मनचंदा', 'लहसुन', 'नक़ाब', 'सूजा', 'मैकेंज़ी', 'पुर्जों', 'बहुंत', 'ब्रावो', 'अमानत', 'झुठला', 'बुश', 'चौखटे', 'अपर', 'एस्थेटिक', 'क्षेत्रद्वारा', 'सज्जा', 'ढहाने', 'नारियलयुक्त', 'जूलूस', 'कुर्सियॉ', 'सिंघाड़े', 'एमी', 'अंतर्मुख', 'ठक्कर', 'बड़बोलेपन', 'नक्सलियों', 'मैनर', 'हिमाली', 'नक्सलवाद', 'हॉफ', 'महाधर्माध्यक्ष', 'परमौजूद', 'टिप्पणीकार', 'पेरेल्स', 'भपाई', 'बीताने', 'वाल्व', 'द्विरुक्त', 'एड्डी', 'जीवनियां', 'पंघाल', 'खंडा', 'उर्वरकों', 'बेसिन', 'गिरिवासियों', 'पराधीन', 'पुख़्ता', 'अछनेरा', 'कार्सन', 'डेल्टा', 'त्रिपुरा', 'अलयमनी', 'खेड़ा', 'नाहरगढ', 'शालीमार', 'इम्मैच्योरिटी', 'एलएंडटी', 'प्रॉपरफेसबुक', 'उड़ानों', 'महाजन', 'मोसेस', 'बतायाकि', 'अली', 'इलेक्ट्रोमीटर', 'आमोद', 'रूकेंगे', 'मारिया', 'रागों', 'आइपीएफ', 'फलितार्थ', 'सुपाच्य', 'अवशिष्ट', 'ईष्ट', 'रेट', 'आटा', 'महलों', 'वरिष्ठों', 'जलपोत', 'कैटरीना', 'जिस्मफरोशी', 'सैलरी', 'रज़ा', 'रैकेटियर', 'बेसिल', 'बढ़ाता', 'चरणबद्घ', 'भड़काया', 'साहित्योत्सव', 'नरसीपुरा', 'समझूंगा', 'चंद्रपुर', 'सरका', 'ढाह', 'प्रौढ', 'अहितकारी', 'डरावनी', 'बेलिंडा', 'अलयमनी', 'डैटसन', 'अते', 'फास्नर्स', 'बंगरावाला', 'सायरा', 'अट्टहास', 'निर्दल', 'महबूबनगर', 'डराते', 'वल्कन', 'ख़ासतौर', 'बरसाई', 'आनंददायक', 'बांबी', 'तो', 'असमान्य', 'विपन्नता', 'स्पस्ट', 'अमझेरा', 'बेचकर', 'घटबढ़', 'कौशलता', 'मशीन', 'वायरलेस', 'फैंन', 'गानो', 'खंभात', 'क्यूआईपीएस', 'डबलिन', 'एमटीए', 'समृद्धियों', 'राधाकृष्णदास', 'कांस्टिंग', 'इड्डुक्कि', 'इंडस्ट्रियल', 'भारतवंशी', 'मांगी', 'रॉबिंस', 'व्लादिमीर', 'पेहोवा', 'बाग', 'उम्मीदवारी', 'साफगोई', 'कूत्ता', 'एडेन', 'ग्रेनाइट', 'उस्तरा', 'ढूंढता', 'संघीयता', 'कुमारी', 'डिप्थीरिया', 'अड़चने', 'कोरियाः', 'प्रपात', 'छुड़वाया', 'सूइयां', 'वेरोनिका', 'स्कैफलर', 'ज़यादा', 'पॉटर', 'मीडिया', 'यरूशलेम', 'पिछड़े', 'लेटसेंग', 'अर्थव्यवस्थताओं', 'काकू', 'निर्देशिका', 'सेटो', 'नवाते', 'संवेदन्शीलता', 'रोडरेज', 'छहों', 'लफ्ज', 'वंशवाद', 'रोहतक', 'अटकता', 'बावरा', 'कृबरभ', 'प्रकाशकः', 'स्टायरोल्यूशन', 'अपारदर्शी', 'बेंगलुरु', 'अंधापन', 'मैनन', 'क्याः', 'फार्मूले', 'हमलावर', 'अमावस्या', 'पूर्वापेक्षाओं', 'डैशवाला', 'ओकलाहोमा', 'डारमैट', 'सहकलाकार', 'फातमा', 'खलती', 'दायित्व', 'क्यूसैक्स', 'टोलकर्मी', 'वर्शन', 'परिसंवाद', 'इम्युन', 'बचती', 'यूटिलिटीज', 'मलमास', 'कैडमियम', 'एन्टीओक', 'खातेदार', 'मोहिनी', 'विश्वसनीयता', 'रहमान', 'कंबलों', 'आर्यिका', 'मैरेज', 'छींक', 'फलता', 'बागोरा', 'पकौड़े', 'लूसी', 'फतेहगढ़', 'ग्रहणकाल', 'जॉब्स', 'सदानंद', 'दत्त', 'मुर्गीपालन', 'लुढ़कते', 'पल्मोनरी', 'डब्ल्यूआईएन', 'उभारा', 'बेक', 'पडरौना', 'बांधते', 'कपूर', 'सेवाला', 'वर्शन', 'चिढ़ते', 'थाणे', 'निकलेगी', 'मोगली', 'ड्रेजर', 'नागारिक', 'गाजीपुर', 'वादक', 'मिचेल', 'ज्ञातव्य', 'स्तनधारी', 'धोराजी', 'अब्दुन्नासिर', 'विश्ववंद्या', 'सत्यार्थप्रकाश', 'शिवमोगा', 'घुमक्कड़ी', 'गाएं', 'ची', 'थिएटरों', 'अनाधिकारिक', 'शासक', 'हाइंस', 'बेतिया', 'धटना', 'रहमत', 'मोतिहारी', 'पियरसन', 'उज़्बेक', 'व्हीलिंग', 'पाइथागोरस', 'विप्रो', 'काबिलेतारीफ', 'जमाती', 'पुलम', 'दौबारा', 'पोर्टिलो', 'अधीक', 'धुम्रपान', 'दांपत्य', 'जामुड़िया', 'पेडू', 'पिपरा', 'ब्लेयर', 'कम्यूनिकेशन्स', 'अलायंस', 'अरदास', 'गुदना', 'जस्ट', 'आवाज़ों', 'बेंवर', 'अमारिलो', 'ब्रह्माण्ड़', 'दिखार्इ', 'तंत्रों', 'आसान', 'तुगलकाबाद', 'सट्टन', 'कंदरौर', 'खन्ना', 'निकालनी', 'डिबनू', 'इम्मैच्योरिटी', 'तोलासन', 'जानाकरी', 'लिवाल', 'एंजेलिन', 'ऋषिता', 'फ्लिंट', 'वृश्चिकःसप्ताह', 'आसमती', 'गिरकर', 'वैज्ञानिक', 'बिशड़ी', 'फूलती', 'पुनःस्थापना', 'बाध', 'गंध', 'चक्षु', 'मिकटॉम', 'लीडरों', 'ज़बर्दस्त', 'स्तुति', 'औरतो', 'हेब्लिकर', 'रट्टेबाजी', 'फ्रांसिस्का', 'बंबा', 'प्रतियुक्ति', 'डराती', 'प्राणों', 'मेडिसन', 'निभाएगी', 'मयर्स', 'कश्यप', 'ब्रिगेडियर', 'अम्बिकाओं', 'होगाः', 'इशाक', 'सुमि', 'देशभक्तिमय', 'धर्मपत्रियां', 'कृष्णानगर', 'ईए', 'आयुधनिर्माणी', 'ताजा', 'अजस्र', 'फिजूलखर्ची', 'मंत्रयों', 'तांता', 'डीलरशिप', 'चैपल', 'ध्वनिमिकों', 'एजुकेशन', 'जरख', 'नीट', 'जिलावासियों', 'संप्रभुता', 'कसेगा', 'पकानेवाला', 'दीपन', 'कलसाना', 'मुगालता', 'टोकने', 'फलीभूत', 'ग्योंठ', 'दिखार्इ', 'शामजीभाई', 'पहनाकर', 'किसानी', 'उधारदाताओं', 'रामटेक', 'व्याख्यात्मकता', 'साेमवार', 'विस्टा', 'पॉलिमर', 'रक्ताभ', 'भुगता', 'भ्रष्टाचारीयों', 'खटकती', 'मुख्यमन्त्रियों', 'मैड', 'कक्षांग', 'जैन', 'महीन', 'सुर्वणा', 'बांगरोटिया', 'रसायनिक', 'औरोरा', 'चमचागिरी', 'एनसीआरडब्ल्यूसी', 'ऐंठे', 'एस्सेल', 'देशसेवा', 'इलेक्ट्रोटेक्स', 'वर्कचार्ज', 'कार्वाई', 'झांकता', 'अर्जेंट', 'सप्रमाण', 'मौर्यों', 'जिनी', 'जगदीशचंद्र', 'असुरक्षित', 'काव्योक्तियां', 'अलंकार', 'स्वादप्रेमियों', 'जातक', 'रोलर्स', 'अशक्तता', 'काठियावड़ी', 'आवृत्ति', 'विद्याएं', 'विधिवत', 'राधे', 'मुख्यमंत्रीसंवाददाता', 'प्राणसंगली', 'कनलोग', 'पुदुकोट्टई', 'निकी', 'फूहड़ता', 'पटाक्षेप', 'रीट्वीट', 'मनोवैज्ञानियों', 'स्तनधारी', 'मुखोपाध्याय', 'निर्बाध', 'तोडऩे', 'आवृत्ति', 'परीक्षणकर्ताओं', 'एक्सटेक्टर', 'नाशिक', 'रसायनों', 'वैत्रवती', 'ऑग्रेनाइज', 'चौसिंगा', 'फलोदी', 'स्खलन', 'पनामा', 'निगर', 'मोंटे', 'सुनीति', 'शराबों', 'अम्बिकाओं', 'गुजारा', 'फोटोफ्रेम', 'प्रहलाद', 'बीसवां', 'द्विवेदी', 'देनेवाली', 'बर्ल्सन', 'भारद्वाज', 'जताती', 'मालेगांव', 'रहुगाँ', 'महामंत्र', 'बीस्ट', 'दिव्यता', 'संजीवन', 'कुपोषित', 'एक्सक्लेशन', 'चढ़ेगा', 'टेक्सरकाना', 'डूंगरपुर', 'सराही', 'लालपरी', 'एरोनॉटिक्स', 'वर्थ', 'आस्तीन', 'स्वप्निका', 'उपकार्यालयों', 'मिमिक्री', 'बल्लभ', 'वैरीफ़िकेशन', 'हैकेंसैक', 'आकाश', 'बोना', 'क्लाक', 'द़फन', 'पेगव', 'कहलाया', 'माड़ीखेड़ा', 'तेलीबाग', 'धारक', 'निकालनी', 'कंघे', 'प्रश्नोत्तरी', 'काकीनाड़ा', 'भाग्योदय', 'सिंगार', 'मचाए', 'लेखकगणों', 'उछालने', 'धर्मराजने', 'ऐंजल', 'बंटता', 'फाॅर्म', 'रवैल', 'हनुमानगढ़', 'वीरांगनाओं', 'गायत्री', 'वेंकटरमन', 'डिबनू', 'पुरूषोत्तमाचार्य', 'संयोजकों', 'झाउगंज', 'सरकारें', 'न्यूटेस्ट', 'श्रीकर', 'मिटाओ', 'दियोटसिद्ध', 'भूपसिंह', 'चर्चाएँ', 'प्रसारकों', 'निष्पाप', 'फ्लिन', 'रणनीतिबना', 'ईआरजी', 'धागा', 'गौमुख', 'जूड', 'खनिकर्म', 'शरभ', 'अरेलानो', 'उखड़कर', 'लेनेवाली', 'कुमार', 'सिंघाड़े', 'टोंसिल', 'दविन्दरपाल', 'सिंगार', 'खिसकते', 'एनिड', 'मेगापिक्सल', 'दिग्विजय', 'फजलों', 'दोगे', 'लेबलों', 'मुनाफा', 'बड़ने', 'वैरी', 'सातसेरा', 'ओर्टेगा', 'रोवे', 'भाटिया', 'राजस्थानवासियों', 'बागबगीचों', 'विल्किंसन', 'डराती', 'अटके', 'प्रमुखतापूर्वक', 'यत्न', 'नितिन', 'सिटी', 'रेडिको', 'दुकानों', 'जलसंसाधन', 'मत्स्येंद्रनाथ', 'बिहार', 'बर्षीय', 'अवरु', 'दाव', 'नक़ाब', 'सारेगामा', 'हुगली', 'सत्ती', 'नेग', 'महाबलेश्वर', 'प्लेसेंटिया', 'वर्साचे', 'कुमाऊ', 'एमी', 'थियेटर्स', 'एरिका', 'खिंचकर', 'रौबदार', 'ऑल्टो', 'काव्यविधाओं', 'कून', 'अक्रोन', 'तहखाना', 'समाजजनों', 'मचाए', 'सूर्यदेव', 'प्राथमिक', 'प्रवृत्रियों', 'ताजा', 'जीवनशैली', 'रक्तदाताओं', 'बालेश्वर', 'भौतिकवादियों', 'लगातीं', 'झाइयां', 'वंशवाद', 'नवानगर', 'नजरंदाज', 'अंशांकन', 'फुंकने', 'मतपत्रों', 'मॉड्यूल', 'फार्म्स', 'पहुंचोगी', 'मैडी', 'थीफ', 'फाउडलर', 'अमित', 'पूर्वाभाद्रपद', 'लंगड़ा', 'गोंपो', 'वेस्ले', 'शाओ', 'हामिदन', 'वीक्स', 'मिनरल', 'सेंटेंनियल', 'बस्तियो', 'बागबगीचों', 'प्रनीत', 'भेदभावों', 'कराहना', 'ग्रीनविल', 'सहरावत', 'रालोद', 'जातकों', 'रिश्ते', 'बेंटनविल', 'नजीबाबाद', 'फाइनेंसर्स', 'फटही', 'केरला', 'लड़ाईयों', 'हरिजन', 'वाईटेकर', 'विदिशा', 'पॉल', 'आर्यों', 'खिलाना', 'छूटने', 'दुखियों', 'पूर्णेश्वरी', 'विसबल', 'दरम्यानी', 'यारी', 'विधमान', 'यात्राएं', 'सनटेक', 'गुजारता', 'नियंता', 'डम', 'अवस्थी', 'पल्स', 'भें', 'स्टॉप्स', 'धकेलते', 'केपीओ', 'दमघोंटू', 'इंसानो', 'मैरेज', 'एस्फाल्ट', 'लॉन्ड्री', 'रत्नाभूषण', 'स्की', 'दुश्वारियों', 'अनुप्रयोगों', 'देशसेवा', 'लेलऽ', 'जगारागल्लू', 'मेजबानी', 'डेहरी', 'चक्कर', 'क्रोफोर्ड', 'गुदुरी', 'डीवीसी', 'प्रक्रियागत', 'नग', 'मत्स्यावतार', 'स्कूटरों', 'अर्धविश्वास', 'दरम्यानी', 'सुर्वणा', 'स्थितियां', 'धर्मानंद', 'सॉफ़्नर', 'स्क्वैश', 'विधानसभाएं', 'रैंडोल्फ', 'मेज़बान', 'स्प्रिट', 'शीलभंग', 'कलमें', 'स्वर्णिका', 'मंडी', 'अर्थव्यवस्थताओं', 'कुंडलियाँ', 'नीमकाथाना', 'फाॅर्म', 'हत्यारोपित', 'पुट्टा', 'फारेंसिस', 'पुरूषोत्तमाचार्य', 'बॉंन्ड्स', 'शिकायतकर्ता', 'क्रान्फ्रेंसिंग', 'उबाल', 'बाबाओ', 'हलमतपुरा', 'हकीकत', 'बर्मन', 'वर्तमान', 'बांटीं', 'अचंभा', 'जीवनपर्यंत', 'वदरा', 'सडक़ें', 'एेसा', 'ज्योतिष्यशास्त्रों', 'पाइथागोरस', 'एंजेलिन', 'कपोलकल्पना', 'द्रोपदियों', 'रोजलिन', 'श्रीराम', 'गोपालक', 'बंगबंधु', 'मिस्त्रियां', 'उसेे', 'मर्काडो', 'मैसोर', 'ऑफशोर', 'कपूरथला', 'साहोवालिया', 'मलदहिया', 'हाइमन', 'इंदौरनगर', 'विशेषज्ञताओं', 'उसकी', 'कैपलिन', 'महाप्राण', 'रुपेश', 'रिनो', 'सुदीप्तों', 'स्वामी', 'अमारा', 'व्यवस्थामूलक', 'सेंसिंग', 'टाइलर', 'संगारेड्डी', 'पहनो', 'मरदानी', 'बम्लेश्वरी', 'दिवानी', 'फिनकॉर्प', 'नवा', 'शिमट', 'सोहावल', 'बनाम', 'प्रवृत्रियों', 'शियोंग', 'वर्स्टेड', 'राजों', 'चीखना', 'नैमुल', 'बढ़ोतरी', 'एंटोनी', 'छांयसा', 'निर्देशिका', 'निपटारा', 'जुडने', 'सुझाती', 'पैथेलॉजिस्ट', 'टाइड', 'शृंगार', 'ब्रान्डेस', 'परमेश्वरपुर', 'जेडटीईसाफ्ट', 'उद्धाटन', 'स्टैन', 'आदिवादियों', 'जुलाहों', 'महाराजा', 'गतिशीलता', 'शिप्रा', 'ट्रिब्युनल', 'ख़ैबर', 'वनविभाग', 'घटाटोप', 'धर्मग्रंथों', 'प्रवृत्तीयों', 'गांठ', 'मैसोर', 'सहगल', 'नमकीन', 'वैध्', 'वनस्पतियाँ', 'जियांगकोऊ', 'पाखंडी', 'प्रोटेक्ट्स', 'एल्बाइनो', 'लिंडेन', 'सोहावल', 'भुरभुरा', 'गैस्ट्रोलॉजी', 'विद्रूप', 'साजसज्जा', 'रात्रिचर', 'रोजना', 'जलभराव', 'मोंटगोमरी', 'सेव', 'भ्रष्ट्राचारियों', 'डीडब्ल्यूएन', 'स्ट्रेशन', 'गांठे', 'गहलोत', 'छतेनी', 'विश्वसनीय', 'जीवनियां', 'दस्तानें', 'धोना', 'खरुवार', 'सूरीनाम', 'मंगलसिंह', 'अन्योन्याश्रितता', 'नाइनटीज', 'पांचोलास', 'रेसों', 'वातानुकूलितों', 'चतुष्कोणीय', 'आमदी', 'दुष्टतापूर्वक', 'बेचते', 'चौका', 'मिज़ोरम', 'टोरेंस', 'अनुचित', 'अवरोधक', 'रॉस', 'अच्युत', 'ऊधामी', 'हरावल', 'गोल्ड', 'दाव', 'सृजनविज्ञानी', 'नेक्स्टजेन', 'रूकावटों', 'भावनाओं', 'देहधारी', 'परीक्षाएं', 'उतने', 'संस्कृतिओं', 'प्रॉस्पेक्स', 'नईदिल्ली', 'सायं', 'जिनीवा', 'रसद', 'बारामुला', 'वन्देमातरम्', 'सफारी', 'चम्बा', 'सवाल', 'बन्नारी', 'फ़तेहपुर', 'पहनता', 'स्प्रे', 'नॉर्मल', 'ऑलआउट', 'मनासस', 'मंत्रियोंके', 'कार्यकार्यकर्ताओं', 'फाडऩे', 'ग्रेग', 'बैतूल', 'कुषाण', 'सुब्बनी', 'इन्फिबीम', 'खटखटाकर', 'चाचाजी', 'चंद्रबली', 'बारिपदा', 'रूहेलखंड', 'ग़ैरकानूनी', 'आरेखः', 'प्रमुखकर्मियों', 'ली', 'थियेटर्स', 'असम', 'फानों', 'ज़्यादा', 'थियेटरों', 'सफाईकर्मी', 'बीएसएसएस', 'क्रान्फ्रेंसिंग', 'जीवराज', 'थिरके', 'शकसुबहे', 'पैराट्रूपर', 'डभरा', 'उसी', 'निःसंदेह', 'महानतम', 'बांठिया', 'अनम', 'कश्मीर', 'बावडी', 'भुट्टो', 'मारके', 'कार्ययोजना', 'फ्रांसिस्को', 'अदाणी', 'धुरिया', 'महाविद्या', 'मेगापिक्सल', 'क्रिप्टोकरेंसियों', 'मूठ', 'ऑथोरिटी', 'अपरिवर्तनशील', 'प्रधानमंत्रीकी', 'आगाशे', 'नवजागरण', 'अट्टरा', 'उबाला', 'अमानती', 'खम्मम', 'हारना', 'भावाभिव्यक्तियों', 'पुष्कर', 'शांतियों', 'नेरोलेक', 'चौका', 'सिद्दालिंगा', 'भरतनाट्यम्', 'जवाबः', 'दुश्वारियों', 'मंचीय', 'जीयो', 'सप्रमाण', 'सीम', 'पीएचडब्ल्यूसीएस', 'बहाव', 'टिक', 'अगवाई', 'हाइमन', 'क्यूआईडब्ल्यूआई', 'अज्ञात', 'एजेंडे', 'लिंचबर्ग', 'मांगीना', 'खटखटाएगी', 'जोधिका', 'सृजनविज्ञानी', 'डेटसन', 'बदलवा', 'उर्फ', 'छापेमार', 'लक्स', 'भोपाल', 'फलीभूत', 'पैथेलॉजिस्ट', 'पर्याप्तता', 'फूर्ति', 'मृत्युनिवारक', 'मारुति', 'उठाकर', 'एएलओ', 'पेगव', 'पीलीभीत', 'सोमी', 'संचालनों', 'कांचीपुरम', 'डराती', 'याद्दाश्त', 'साबुदाना', 'वेल्डिंग', 'वेरोनिका', 'स्टिम्बेरवाला', 'मायाजाल', 'पेस', 'अतुल', 'औटोमैटिकली', 'जांचना', 'मिथिलांचल', 'फिक्सिंगः', 'सजेती', 'प्लानो', 'विसंगतिया', 'खोमचे', 'लगना', 'मुकेश्वरी', 'तस्वारों', 'देव', 'वेश', 'ज्योथी', 'लेंडल', 'वीरांगनाओं', 'यनित', 'पूर्णिया', 'चौक', 'लड़ीं', 'चेस्ट', 'कसेगा', 'एबट', 'रेनुका', 'लूवे', 'गुलाबाग', 'लज्जालु', 'साभार', 'गैरराष्ट्रवादी', 'धावकों', 'लिम', 'विद्याएं', 'स्वयंस्वीकृत', 'इलेक्ट्रोटेक्स', 'रामराज', 'जनभावना', 'यौनिकता', 'हाथे', 'दूने', 'प्रोटेक्ट्स', 'वरेण्य', 'मज़बूरी', 'प्रवीनचंद', 'वैज्ञानिक', 'टोरेंट', 'आत्माएं', 'संप्रति', 'मत्थे', 'सविता', 'अटलांटिक', 'जलगति', 'चच्चा', 'आफरीन', 'बाजारू', 'चौकी', 'फरसे', 'ट्यूनिंग', 'नोडरानी', 'मौम', 'विधाणी', 'गुजार', 'पकडकर', 'ऑंखें', 'आपका', 'वार्नर', 'अन्वाहार्य', 'लिखेहैं', 'पाठ्यक्रम', 'शावकों', 'यरूशलेम', 'मण्डलायुक्तो', 'नैनो', 'झाइयां', 'सिम्फरपोल', 'धम्म', 'निखरेगा', 'घुमाण', 'होऊंगा', 'ढकाल', 'सागरिका', 'बर्नार्ड', 'योगबल', 'ब्रेवरीज', 'डिश', 'ऐठन', 'वर्तमान', 'त्रैमासिक', 'तस्वीरे', 'व्यवहारगत', 'मराठा', 'बनवा', 'स्वर्णिका', 'प्रसाथ', 'ओवरऑल', 'पूर्वाफाल्गुनी', 'प्रॉपरफेसबुक', 'सुवेन', 'सपाटे', 'झ', 'करघे', 'देशकाल', 'नाथवाड़ा', 'थानवी', 'ओरण', 'सेरानो', 'इअर', 'सबमिशन', 'धारक', 'तदाद', 'ग्रीनवुड', 'हाउते', 'बहुरिया', 'नियंताओं', 'चूरू', 'मिसौरी', 'अन्याय', 'जेनरेट', 'न्यूटेस्ट', 'गरुड़', 'स्वास्तिकाकार', 'शैइ', 'सिद्धांतवादियों', 'अनावश्यक', 'सीटें', 'गुलशन', 'रिया', 'फर्मिऑन', 'टायर', 'ची', 'बदलापुर', 'युद्धनौका', 'एनबीसीसी', 'श्रीगंगानगरवासियों', 'उदा', 'कैंब्रिज', 'एयरवे', 'आइडल', 'कैल्यूमेट', 'आजमाना', 'तंत्रिकाओं', 'जोन्सबोरो', 'बुद्धिजीवों', 'क्लोज़अप', 'एनएमडीसी', 'राष्ट्रपित', 'कमारहाटी', 'एस्फाल्ट', 'फ्रांसिस्को', 'भल्ला', 'मौलवियों', 'नरवर', 'लहलहाती', 'ब्यावर', 'घटाएगी', 'नामजदगी', 'तकः', 'सेवाग्राम', 'लामियां', 'जिन', 'स्वेच्छा', 'अंतडियां', 'आर्यो', 'पॉलिशिंग', 'जोखिमभरा', 'उमड़ती', 'तंत्र', 'सामोआ', 'सीएसआई', 'मांड्या', 'लॉरी', 'पहनते', 'अंकोर', 'निम्नवत्', 'रैपिंग', 'रुपेश', 'प्रतिबद्धाता', 'नाडेप', 'सैलानीपन', 'मेंराज्य', 'दाव', 'आबूरोड', 'पाठ्यक्रमों', 'निविदाताओं', 'गांधीपुरा', 'पीएचडब्ल्यूसीएस', 'नारायणगढ़', 'जयललिता', 'सुसंस्कृत', 'मसूद', 'वुनसोकेट', 'संस्कृतियां', 'उर्फ', 'थेराटीपल्ली', 'प्रतिनिर्देश', 'उल्हासपुर', 'पहनते', 'धावकों', 'भगेड़', 'प्राणसंगली', 'जलवायु', 'भिजवाई', 'सायरा', 'क्रेन्द्रों', 'मौजुद', 'सिद्घांत', 'कम्युनिकेटर्स', 'चिड़चिड़ापन', 'मुथूट', 'विवेकाधिकारों', 'मलौन', 'सिनसिनाटी', 'रेगिस्तान', 'परोसने', 'विचारकों', 'जनभावना', 'अंडमान', 'बडयाल', 'मोरपेन', 'बियर्ड', 'नोडरानी', 'दिखायेे', 'छींक', 'व्याख्यात्मकता', 'शैशव', 'आइंथू', 'अहमदाबादः', 'जायके', 'सिग्निटी', 'कुरुक्षेत्र', 'प्रवृत्तीयों', 'चर्चा', 'लक्ष्मीचन्द्र', 'हैमंड', 'निभाएगी', 'धुनाई', 'जनभावना', 'कांट', 'मेलघाट', 'मुऐ', 'श्विंग', 'दांपत्य', 'कपड़ा', 'संतति', 'मानवटरहित', 'अनुप्रयोगों', 'हार्वे', 'काजू', 'सेररितोस', 'टेक्समैको', 'संचार', 'ट्रुथ', 'लोज़ानों', 'रोपने', 'हॉलीवुड', 'छींके', 'धम्मा', 'टेक्नोप्लास्ट', 'पूजापाठ', 'चानन', 'श्रंखलाओं', 'छेड़ना', 'कार्बोजेन', 'व्यवधान', 'शुल्ट्ज', 'इस्त्राइलियों', 'स्क्वाश', 'डैनविल', 'प्राना', 'ठाकुरवादी', 'प्रयोगशास्त्र', 'व्यक्तीयों', 'मैट्रोलॉजिस्ट', 'मढ़ौरा', 'पालियों', 'डेनवर', 'एपीजे', 'बैनी', 'प्रतिस्थान', 'भ्रष्टाचारीयों', 'लकीर', 'सुधारगृह', 'संदली', 'जागृति', 'तलवार', 'जनशिक्षा', 'टापुओं', 'बुलेटिन', 'बल्लेबाज़ी', 'माड़ीखेड़ा', 'अर्थशास्त्रीयों', 'स्कैनिंग', 'मेहमान', 'रहेगी', 'जमशेदपुर', 'त्यौहारों', 'दर्शाना', 'बीचबचाव', 'सुलाती', 'वर्शन', 'सुधारती', 'वसामुक्त', 'पाटिल', 'जेवाब', 'सोटो', 'धातुएं', 'डोसे', 'भागदौड', 'पगबाधा', 'आरुषि', 'अगस्ता', 'टाइटन', 'इक्विटीज', 'एयरटेल', 'ऐल्प्स', 'नक्सली', 'अचीवमेंट', 'गलाएगा', 'फूडॉन', 'राजनीचि', 'आर्य', 'स्ट्रीमवुड', 'घोट', 'म्यूजिक', 'पुरकायस्थ', 'नोरा', 'टॉनिक', 'गुजारने', 'वाटर', 'सूनसान', 'सिरसा', 'टेंगीरला', 'हेनसन', 'वरुण', 'ड्रेजर', 'दौड़ाते', 'शराबों', 'व्यक्तीयों', 'सातसेरा', 'दर्जनों', 'अग्नियां', 'धोना', 'कार्यकर्त्रियों', 'अवस्थाएं', 'हिममानव', 'टु', 'ऐल', 'बंधुओं', 'श्रद्धावानों', 'मारियो', 'व्याघात', 'माईकल', 'अद्र्घ', 'विट्ठल', 'प्रारूप', 'ढूंढती', 'डुबाना', 'लडने', 'फार्म', 'जुवारी', 'परिवारवाले', 'पैरानॉर्मल', 'भुवनेश्वप्रसाद', 'आईरिस', 'प्रतिज्ञापूर्ण', 'लेबलों', 'श्रीकृष्णन', 'स्नीकर्स', 'कईं', 'भूस्वामी', 'कटरा', 'अन्याय', 'नोकरी', 'प्रिसिशन', 'क्रोम', 'जुए', 'बोलिंग', 'ताप्ती', 'कैथोलिकों', 'नजरंदाज', 'मूलचंद', 'स्वेच्छा', 'नन्यौला', 'घोंटना', 'अद्वैतवाद', 'अंडरवुड', 'लुभावना', 'पेट्रोसेली', 'आमदी', 'रोपने', 'डेजी', 'जबाबी', 'कप', 'फाड़े', 'उलाहना', 'उन्नतियों', 'मोलिना', 'गांडचुभोनाचूसनाछोटे', 'हां', 'प्रर्दशन', 'सरगुजा', 'बीदर', 'अमरगढ़', 'जुए', 'टोंक', 'देवापुर', 'इंटेलीजेंस', 'नीतियों', 'खनौदा', 'पोरबंदर', 'सिम', 'लग्नेश', 'गायिकाओ', 'पृष्ठभूमियों', 'मूलचंद', 'सिल्चर', 'मार्गरिटा', 'उदाकिशुनगंज', 'सिरती', 'यमला', 'प्रशिक्षु', 'सिएरा', 'आल्हा', 'पेक', 'तसखीर', 'डाका', 'नॉमिनेट', 'सपाट', 'कोयम्बटूर', 'कोरापुट', 'स्वायत्तशासन', 'विद्युतीकृत', 'किकियाना', 'अरुणाई', 'रीगल', 'डायमंड', 'मृदुभाषी', 'वाल्टर्स', 'सूत्रपाडा', 'कीति', 'ज़िलाधिकारी', 'मंगेश', 'पेंषन', 'लगनेवाले', 'जिलावासियों', 'प्लोस्की', 'एकसाथ', 'सेखर', 'डीओडब्ल्यू', 'अर्धविश्वास', 'राजस्थान', 'विकासखण्ड', 'संशयों', 'बढना', 'क्लासों', 'उखरुल', 'फुरामे', 'एबज', 'बाताया', 'जुशान्तान', 'स्ट्रॉन्ग', 'राजनीतिकारों', 'पानीपत', 'ब्लांकार्ड', 'झाबुआ', 'जकिंटो', 'बारहसिंगा', 'सूचनाः', 'इलेक्ट्रोमैजिक', 'लालमणी', 'भाऊलाल', 'कठुआ', 'पलारी', 'अमिताव', 'तदंरुस्ती', 'वाबस्ता', 'व्लाद', 'स्लैश', 'वाटरबरी', 'सेल्फी', 'लुईस', 'पंचसूत्र', 'अर्यमा', 'वादक', 'जंक्शन', 'जेनरिक', 'जिया', 'एडेन', 'सॉफ़्नर', 'क्यूडब्ल्यूवीजीए', 'ध्वनिमिकों', 'फीड्स', 'सुकडि़याल', 'अनगढ़', 'बावजी', 'छोडिये', 'सिप्ला', 'विज्ञानों', 'धस्माना', 'लोंगोवाल', 'बदाम', 'अट्रैक्ट', 'सराहा', 'नृत्यशैली', 'संवरी', 'यक्षाधिपति', 'अरबपतियों', 'मुकद्दमों', 'फोड़े', 'सिहुंता', 'जीवन', 'ढूंढता', 'क्रुसेस', 'कार्यकर्त्रियों', 'प्रतिबद्धताएं', 'डीएलडब्ल्यू', 'प्लेन', 'पायलट', 'अधिवास', 'फैंन', 'फव्वारा', 'हालचाल', 'विश्ववीर', 'क्रेस्ट', 'ब्रह्मलीन', 'विरेचन', 'याद्दाश्त', 'उज्जैन', 'सहयात्री', 'जिम्मे', 'सारावागी', 'देखियेगा', 'वजूद', 'कुंडल', 'रिया', 'स्लाइडर', 'मैनेजमेंट', 'कार्यकार्यकर्ताओं', 'क्रिस्टिस', 'रुकते', 'डिस्ट्रब्यूटर्स', 'स्पेल', 'दमपर', 'ठिकाने', 'इंटरटेक्चुअलिटी', 'सीडीयां', 'साउथ', 'आपका', 'नहींकरवाई', 'जागृति', 'चूड़े', 'थर्टी', 'नक्सल', 'जीएसएम', 'गुजरात', 'दर्शनार्थी', 'नाभा', 'धोखेबाज', 'लेगा', 'बीआईआईटीएम', 'साेमवार', 'वाणों', 'औद्योगिकरण', 'अग्रहरि', 'आफॅ', 'तीमारदारों', 'मिश्रा', 'सेरेब्रा', 'नागारिक', 'दस्तार', 'मकरः', 'जीतोड़', 'बैलिस्टिक', 'चढ़ेगा', 'मांगे', 'नीलाभ', 'मेंशराब', 'सिंघाड़े', 'हिसारः', 'रामकोट', 'बैठते', 'तसखीर', 'इशारा', 'सोलापुर', 'मेजबानी', 'फ्लोरेंस', 'परामर्शक', 'झाड़ने', 'थियेटर्स', 'आदान', 'आंबियंस', 'सुरक्षाः', 'हिकारिको', 'बांया', 'रुकवाई', 'मित्रवत', 'बोकारो', 'मौर्या', 'प्रतिनिधिकारी', 'चंद्रमाओं', 'परोसने', 'ढैया', 'स्पिरिट्स', 'लियान्ड्रो', 'शॉन', 'स्वार्थपरक', 'चूचियां', 'महामीडिया', 'पूर्वजन्मों', 'शोहदापंती', 'कुषाण', 'जमलोकी', 'एवरेस्ट', 'तस्वारों', 'अधिवास', 'प्रेमलता', 'मुर्रिएटा', 'वैमनस्य', 'केली', 'टिनप्लेट', 'वाण', 'महामंत्र', 'मेजबान', 'शुमाली', 'फुलाए', 'प्रूट', 'रुजवेल्ट', 'प्रशासनिक', 'उलझानों', 'पत्रकारवार्ता', 'दुआर', 'कठफोड़वे', 'बिपिन', 'ऑफरः', 'ईसाइयों', 'प्रोपेलेंट', 'कंसाई', 'सीखीं', 'सीडीसीएल', 'एबोट', 'कटलरी', 'आदिवादियों', 'चित्रकथा', 'अवशिष्ट', 'फ्यूचुरिस्टिक', 'तेरीः', 'नन्हें', 'एवरी', 'सूबा', 'शाखाएं', 'त्रिकालदर्शी', 'पालसाही', 'फैलाइए', 'झउवा', 'जमाती', 'जनहानि', 'पोंडिंग', 'तस्वारों', 'देशकाल', 'हिचकिचा', 'बस्तीः', 'गरीबी', 'फड़फड़ाएं', 'सीताराम', 'कमेरे', 'बैरकपुर', 'स्वयंस्वीकृत', 'कासोवो', 'मज़बूरी', 'कन्वोकेशन', 'स्किपर', 'जयपुर', 'प्रस्थानों', 'नरम', 'रेडियोप्रेमी', 'टीटागढ़', 'चिको', 'राज्यमंत्रीस्वतंत्र', 'मैनवल', 'गुजारना', 'सतलुज', 'जातियों', 'अनहोनी', 'टेलीलिंक्स', 'लैब्स', 'हरावल', 'मैरेज', 'मनिया', 'ट्रैक्टर्स', 'कंचन', 'लैरी', 'कार्यावधि', 'जलभराव', 'भाड़ा', 'बागोरा', 'पिएगा', 'स्टीफेंस', 'अभिमत', 'एक्सेल्या', 'वायरलेस', 'चौड़ा', 'परभणी', 'खातेदार', 'बढना', 'बर्च', 'उपद्रवों', 'टिकियों', 'मिल्क', 'डुबोना', 'बेकर', 'सुतली', 'बुद्धाराम', 'वेल्थ', 'पटरानी', 'अर्धविश्वास', 'पैम', 'कास्टानेडा', 'बलजीत', 'भटनागर', 'जातकों', 'इक्वाडोर', 'स्वर्गदूत', 'ऋषिकुल', 'टेट', 'कंठहार', 'बेऔलाद', 'यूरोपिया', 'गए', 'ददरेवा', 'बिखेरने', 'हमलो', 'पकड़ाए', 'उपलब्धियों', 'कोलोराडो', 'पैकर्ड', 'जागृति', 'आंध्रा', 'चौंकाते', 'बेख्वाबियां', 'नफ़ा', 'सिन्हा', 'उत्पीडऩ', 'सागा', 'आर्य', 'दिखाइये', 'अनिष्टता', 'उड़ान', 'संयुक्तावस्था', 'शमलात', 'एवव', 'अधिवक्तागण', 'रल्हन', 'झुठलाने', 'पूर्वाभास', 'बिजेन्द्रसिंह', 'चिनमणि', 'लोकसभावाली', 'लड़की', 'नरसिंहगढ़', 'संगठनमंत्रियों', 'रूपी', 'कार्यकर्ताओं', 'अगस्ता', 'मनमर्जी', 'अंतर्मुख', 'अनुमार', 'रिश्तानाता', 'द्विअर्थी', 'चुटीले', 'हैटीज़बर्ग', 'यूजी', 'राज', 'रैगुलाइजेशन', 'विंध्या', 'फिक्सिंगः', 'कमज़ोर', 'भरा', 'चौदहवां', 'फलने', 'श्रंखला', 'विपन्नता', 'प्रूफ़रीड', 'ज़माना', 'घटाएगी', 'दंगा', 'एरिका', 'भोला', 'व्याख्यात्मकता', 'योजनाः', 'वेबुनियादी', 'रुमानी', 'साहू', 'प्रधाननगर', 'सीऐटल', 'स्टैन', 'इनसानी', 'हमला', 'न्यूट्रियो', 'लदड', 'अंतडियां', 'कुशवाहा', 'कोच्चिः', 'गणपति', 'फार्मिक', 'पड़ेंगी', 'अर्थ', 'मुक़र्रर', 'निपटाकर', 'होलिडेस', 'कूच', 'उठ्ठक', 'सुलखान', 'कमेरे', 'जगाएगा', 'संत्री', 'शख्सियतें', 'पंचांग', 'झालाना', 'नित्या', 'इच्छी', 'हाबरा', 'पालियों', 'एजूस्पर्मिया', 'तावीज', 'फ़ूडवर्क्स', 'ग्राहम', 'प्रभानमंत्री', 'सेथ', 'जगताप', 'हर्षित', 'डूबना', 'रक्तदाताओं', 'मेक्सिको', 'तासीर', 'एयरकंडीशनर', 'एड्डी', 'मैकॉन', 'इसरानी', 'ऐंठ', 'श्रीमहापूर्ण', 'डॉर्क', 'जीनों', 'ग़रीबों', 'तराशकर', 'ऑब्जर्वर', 'आर्यो', 'उखड', 'साथसाथ', 'पैकेजों', 'हिंडन', 'अपरिहार्य', 'मंजिल', 'एलएक्स', 'कर्वी', 'दुभाषियों', 'रिकनेक्टिंग', 'विंड', 'क्लांइट', 'शरारत', 'वेंचुरा', 'रोलिंस', 'हैन्स', 'निकेतन', 'क्रांतियों', 'ट्विन', 'दिव्य', 'गिड़गिड़ाते', 'निगमायुक्त', 'गबली', 'नोवाटो', 'रिश्वतखोर', 'फांसी', 'गर्जना', 'निहलानी', 'पिंटा', 'ग्रीर', 'लेविसविल', 'प्रकाषित', 'क्लैरिएंट', 'क़ायल', 'द्विअर्थी', 'राखे', 'बुलंदशहर', 'स्टेफोर्ड', 'नजरियों', 'वर्ल्ड', 'जीवनियां', 'परमेश्वरपुर', 'उठनी', 'न्यूट्रियो', 'जेठा', 'बागबगीचों', 'सुचिकित्सा', 'नागमण्डल', 'प्रदाधिकारियों', 'उर्वरता', 'नील', 'क्रिप्टोकरेंसियों', 'स्वायत्तशासन', 'जर्दा', 'उपलक्ष्य', 'छुड़वाया', 'विदग्धा', 'मुख्यमंत्रीपटना', 'जैने', 'रतनपुर', 'महानतम', 'गुना', 'एमटेक', 'देनेवाली', 'नाभिकुंड', 'विशेषणों', 'लंगरों', 'पॉलिथीनों', 'संबित', 'ढूंढ', 'हां', 'टकरा', 'धंधेखोरी', 'पुलिंदे', 'एपोक्लिप्स', 'विज्ञानपीडिया', 'महोनी', 'पूंजीतंत्र', 'खरे', 'एक्सटेक्टर', 'ज़ुन्हेबोटो', 'प्रियामणि', 'सवाल', 'सूखाकर', 'आलोचक', 'फाँस', 'जयललिता', 'अमझेरा', 'बॉम्बे', 'व्यग्र', 'अपनानी', 'रिसने', 'छुरे', 'शार्लेट', 'जोस', 'रैलीः', 'मेज़बान', 'धनधान्य', 'डाबर', 'बीएसएसएस', 'नजीब', 'अवस्थाएं', 'जबलपुर', 'धर्मनिरपेक्षताके', 'फार्मर', 'एनएसीएल', 'समरविल', 'बुल', 'झुलए', 'खग्यार', 'मेहराम', 'धस्माना', 'रिपन', 'भागदौड़', 'मिथ्या', 'ललानिया', 'भूलों', 'वडाली', 'नागापट्टिनम', 'वैमनस्य', 'बिगेस्ट', 'जोड़ता', 'महत्तरों', 'ओरछा', 'धैर्यवान', 'सूंड़', 'प्रिंस', 'ज़ुबान', 'कैमस्टूडियो', 'यूरोपिया', 'मेज़ा', 'भुसावल', 'गायत्री', 'वेयर', 'बुद्धिजीवों', 'ऐंठ', 'रदर', 'इलाइची', 'उबाल', 'श्रीगंगानगरवासियों', 'फिजराल्ड़', 'जीवनशैली', 'चार्ट', 'सरगी', 'वेदों', 'मरमर', 'भाते', 'विप्ख', 'बयाने', 'मदनगंज', 'पैकेजों', 'वर्णनकर्ताओं', 'ज़यादा', 'लोकोत्सव', 'तेवरी', 'झाउगंज', 'मालवान', 'तदंरुस्ती', 'ऐल', 'क़ब्ज़ा', 'सुसंस्कृत', 'संधोल', 'आमरियापाड़ा', 'हाब्बन', 'बाउलिंग', 'रस्मे', 'एमडब्ल्यूपीएल', 'विद्याओं', 'बोवी', 'चेन्नई', 'कमलजीत', 'सिंहा', 'पेंशनधारियों', 'बारह', 'डूबना', 'एसेटल', 'चौहान', 'फलने', 'सिद्धार्थः', 'एपेक्स', 'डाल्टन', 'श्रीखंड', 'टेक्सटाइल्स', 'अग्रवाल', 'मिथ्याचारियों', 'सिमटे', 'क्रान्फ्रेंसिंग', 'संस्कृतियों', 'ढंककर', 'निज़ामाबाद', 'छतेनी', 'दुष्क्रिया', 'सासाराम', 'चिढ़ते', 'लाम्बा', 'लउटिस', 'खाएँ', 'धंधे', 'अन्त्यन्त', 'मास', 'बरामद', 'क्रेमिस्ट्री', 'उठनेवाले', 'लहना', 'सिरगिट्टी', 'कंट्रोल', 'अंदाजी', 'कैटलिन', 'पक्षपात', 'फोड़ों', 'फ्रांसिस्का', 'प्रयोगपृष्ठ', 'क्रांतिधरा', 'डैशवाला', 'खुरासान', 'क्वॉरेनटाइन', 'फोंड', 'पक्षपात', 'पुतला', 'ट्रुथ', 'साथसाथ', 'मोहिम', 'जॉनसन', 'सीपीएम', 'बाताया', 'पाल्मर', 'तुगलकाबाद', 'एपकोटेक्स', 'हैरम', 'सरेबाजार', 'येरुशलम', 'मोल्ड', 'वर्णनकर्ताओं', 'हूपर', 'वाटर्स', 'लुभाते', 'फेफड़ा', 'कामोत्तेजना', 'दंपति', 'सोया', 'बर्बरतापूर्ण', 'तड़ीपार', 'लुत्फ', 'तरीको', 'चता', 'पिटमैन', 'पहला', 'मल्टीमीडिया', 'त्यौहार', 'लेबल', 'ले', 'तीर्थाटन', 'सतुआ', 'वर्गस', 'डाबोलिम', 'सूचनाः', 'लेबलिंग', 'रोज़विल', 'फ़ाईब्रेट्स', 'ऑल्टो', 'परतानी', 'अस्मिताओं', 'वांट', 'तड़पती', 'पटेल', 'काजी', 'दोस्तानापूर्ण', 'क्षेत्राें', 'लिंच', 'स्टेट', 'रागों', 'मल्होत्रा', 'प्रज्ञातंत्र', 'दुर्नीति', 'क्रॉस', 'अव्यवसायी', 'धैर्यवान', 'टाइम', 'अशरीरी', 'चन्द्रदास', 'ज्योतिषि', 'एलेक्जेंड्रिया', 'बेवकूफाना', 'सिरपुर', 'उज़्बेक', 'खरुवार', 'धर्मविहीनता', 'सुरेंद्रनगर', 'आल्हा', 'अरुणाचल', 'क्रुएगर', 'बागली', 'दविन्दरपाल', 'चापलूसी', 'संस्कारियों', 'इंजन्स', 'मेंडेज़', 'सियाह', 'गुजारने', 'गजरा', 'कवि', 'मिदनापुर', 'वृत्तों', 'सिरमोन', 'वर्तमान', 'उभरेगा', 'पायलट', 'नरभक्षी', 'एंट्रीक्स', 'डेटन', 'बडू', 'ऑलराउंडर', 'निश्रा', 'वधावन', 'जेन्सन', 'पाली', 'त्रैमासिक', 'अट्रैक्ट', 'वविद्यालय', 'चंदन', 'मेगा', 'मैन्सफील्ड', 'मट्टानचेरी', 'नवकेतन', 'कमतर', 'पिट्यूनिया', 'पुरूषोत्तमपुर', 'तपन', 'ज़ुबान', 'एनसीआरडब्ल्यूसी', 'हैम्बलिन', 'आराम', 'यशपाल', 'वोखा', 'छेत्री', 'ओमैक्स', 'परवीन', 'कुकरेजा', 'प्रेमफलः', 'नरमी', 'श्रंखलाओं', 'अवरोधक', 'तीरों', 'गणेशा', 'झाड़ा', 'अनुपमा', 'तलबगार', 'बिन्दल', 'ज़वाला', 'आमरियापाड़ा', 'प्रतिनिधिकारी', 'हलमतपुरा', 'बूदम', 'मैकियास', 'मेडीकल', 'रिस्पेक्टिंग', 'रंजकता', 'दा', 'सक्शन', 'भूमी', 'त्यौहारों', 'रंगते', 'उत्तरा', 'पेंशनधारियों', 'कार्यकर्ताओं', 'विद्याओं', 'द़फन', 'सरहिंद', 'ख़ासकर', 'रैथ', 'गुडगौंव', 'साहब', 'उड़ानों', 'मेजेस्को', 'पुष्पा', 'केशरी', 'बांबी', 'कारगिल', 'टकरा', 'बिजी', 'क्रोम', 'स्तिथि', 'गल्फ', 'कालोनीवासियों', 'आवृत्तियों', 'सुहानुभूति', 'चमच', 'विरोधाभासी', 'साभार', 'ऑलकार्गो', 'हारना', 'अव्यवसायी', 'प्राविंसेस', 'छेत्री', 'प्रतिष्ठी', 'सपा्', 'पटकी', 'पर्चियों', 'प्रतिवाद', 'लिफ़ाफ़ा', 'दर्शाना', 'गेरीसन', 'आकंड़ों', 'धंधों', 'डिस्ट्रीब्यूटरी', 'खत्री', 'पंजिका', 'बातः', 'रावले', 'कंगन', 'प्रेमात्मक', 'सिपाही', 'नोटबंदीशुदा', 'देवलहा', 'हल्ला', 'ज़मातें', 'मैसी', 'उसक', 'पितामह', 'विवरणःभारतीय', 'नागेरकोइल', 'लख्खी', 'अच्छी', 'सैटिन', 'नागपुर', 'बसीरहाट', 'छेलै', 'उबरकर', 'संयुक्तावस्था', 'सूरी', 'भपाई', 'व्यक्तिगत', 'महाथिर', 'फ्लेश', 'राष्ट्रक', 'राजभाई', 'हॉन्ग', 'लंगरों', 'सुभाय', 'फंड', 'फ्लावर्स', 'उठने', 'बडा़', 'मिश्रा', 'षट्', 'मैनहट्टन', 'सरगुजा', 'ईवनिंग', 'ग्रहणकाल', 'बागली', 'नीऊ', 'मुंडवा', 'तोलासन', 'जेडटीईसाफ्ट', 'नागमण्डल', 'कनाल', 'मछलीपट्टनम', 'फेलिक्स', 'हस्ताक्षरों', 'भिलाई', 'कॉन्ट्रेक्टिंग', 'क़रार', 'जौं', 'भाालू', 'फोर्टिस', 'गिरजाघरों', 'जैनों', 'अर्थव्यवस्थाः', 'ऑक्सीज', 'खिताबों', 'एनका', 'चष्मा', 'बताअाे', 'घृतकुमारी', 'प्राटेस्टेंट', 'ब्युर', 'लक्ष्मीधर', 'सियासी', 'उपयोगितावादियों', 'टूगा', 'समाधियों', 'खुरपका', 'कुमावत', 'एमडब्ल्यूपी', 'सूरज', 'न्यूरोसाइंटिस्ट्स', 'चंद्रेश्वरनगर', 'टैनिस', 'फर्रूखनगर', 'आवाज़ों', 'नजराने', 'पशुचारा', 'वेबुनियादी', 'डेनबरी', 'नईदिल्ली', 'छल्ला', 'रोवन', 'श्योपुर', 'रव्लानी', 'संवरी', 'धाक', 'मस्से', 'इंश्योरेंस', 'संप्रभुता', 'राष्ट्रा', 'जौहरी', 'जुदाई', 'बदमाशाें', 'खिताबों', 'स्वयँ', 'आग़ा', 'ढिंडवाल', 'घिसे', 'सप्पांवाली', 'निखारें', 'बाधित', 'ब्रह्मपुर', 'बैटाउन', 'कोलिंग', 'समाधियों', 'यूनियनवादी', 'छापेमार', 'ग़रीबों', 'थाऊजेंड', 'डसीला', 'कंजेंटेवाइटिस', 'बाधाओं', 'लगेगा', 'दुर्घटना', 'नितियों', 'कैपधारी', 'अत्री', 'सिंगम', 'वास्तविक', 'सबस्टेंसिस', 'पीलेपन', 'उठनी', 'हंडिया', 'प्रतिरक्षी', 'ललकारता', 'दुकानों', 'निविदाताओं', 'सर्वजातीय', 'नरसंहारों', 'नीमकाथाना', 'हेरेरा', 'जुनून', 'इकाई', 'जगदलपुर', 'स्विफ्टलेट', 'जलगति', 'पिट्स', 'रोपी', 'अड़ंगा', 'आलसी', 'चौकियां', 'लेटन', 'वकरंगी', 'डेवलपमेंट', 'शॉनी', 'परदेसियों', 'भूगोल', 'बगीची', 'सिवान', 'स्ट्रे', 'आलसी', 'व्यू', 'विषहीन', 'किस्सागोई', 'महानिदेशक', 'चिकित्साएवं', 'भट्टाचार्य', 'ट्रेंटन', 'कन्याएं', 'प्रियदर्शिनी', 'हुक़ूक़', 'शुल्कः', 'राणे', 'महाविद्या', 'संशयों', 'श्रेणीः', 'ओडोम', 'बेनिटेज़', 'त्यौहार', 'मतियाना', 'शवयात्रा', 'रिश्ते', 'रेहाना', 'क्यूएसएस', 'अनावश्यक', 'रिझाया', 'ब्रिगेड', 'सपने', 'चुनीं', 'कोषाधिकारी', 'करब', 'पलटने', 'कर्णेश्वरधाम', 'आर्यनस', 'प्रतिष्ठानोंं', 'कराईकल', 'उसकी', 'विपरीतता', 'परीक्षाओ', 'फ्यूजी', 'लामिनार', 'जुटाती', 'कौशिक', 'बेकाबू', 'नैनो', 'ओडिसा', 'तोमर', 'रोपी', 'थप्पड़बाज़ी', 'बाबत', 'अट्टहास', 'कोलन', 'प्रतिलीटर', 'भूसी', 'हलिया', 'उत्पीडऩ', 'पोप', 'करखेले', 'बाहुल्य', 'अस्वभाविक', 'कठनाईयों', 'रामजीलाल', 'वसूलता', 'मुख्यमंत्री', 'मारिया', 'सत्मेव', 'बक्सा', 'उदर', 'मैन', 'बुद्धिजीवों', 'सुदीप', 'जोड़ो', 'तसदीक', 'निकालनी', 'भटकाना', 'हारना', 'डिल्लों', 'रजिस्टर्ड', 'भंडारा', 'ललानिया', 'लिमा', 'लालकृष्ण', 'रत्नाभूषण', 'सपरिवार', 'साह', 'समेटती', 'पाइरिया', 'मामलोंमें', 'बरात', 'वैइसन', 'विला', 'लिंडा', 'खरिया', 'चेलानी', 'इलेक्ट्रॉनिक्स', 'ऋषिराज', 'उदयपुर', 'पगला', 'ऋतुकांत', 'कुर्मी', 'दस्ताना', 'एमरल्ड', 'घुमाई', 'उपद्रवियों', 'ओक्लाहोमा', 'धर्मराजने', 'झाओहुई', 'उप्पीड़न', 'खेमिक', 'तुगलकी', 'दोआर', 'अवि', 'जड़ित', 'टैबू', 'प्रोग्रामर्स', 'टेलर्सविले', 'चादरों', 'रेसर', 'भका', 'अंधभक्तो', 'ओब्रायन', 'कृत्या', 'पीरान', 'नजरियों', 'मयूर', 'चौदहवां', 'स्वर्गदूत', 'फेका', 'इंडिपेन्डेट', 'टिंका', 'गुर्दों', 'जातियों', 'समन्वयक', 'सूबे', 'चंदन', 'प्रारंभिकता', 'ट्रैप', 'उदंत', 'डायनामेटिक', 'विद्युतीकृत', 'ललानिया', 'वदरा', 'वेड', 'फड़फड़ाएं', 'ट्रेडेड', 'अखुआपाड़ा', 'सराहा', 'विज्ञानवादियों', 'कमज़ोर', 'यंगस्टाउन', 'आर्यम्', 'पटकथाएं', 'बाजपेयी', 'जस्सी', 'नाऊ', 'एवव', 'लागातार', 'सुमन', 'पड़नी', 'माइंडट्री', 'ड्रिस्ट्रीब्यूट्री', 'जानकारों', 'शंकचराचार्य', 'ऑफशोर', 'दुखों', 'नेस्को', 'फूलती', 'टूल्स', 'वर्गर', 'दमघोंटू', 'वीडियोः', 'राजमां', 'आत्ममुग्ध', 'रॉकफोर्ड', 'मित्रा', 'देवनार', 'ओकोई', 'उत्तरिया', 'कैनविज', 'गैलेक्सियों', 'जीवनियां', 'हकीकत', 'एलिमिनेटर', 'अगस्टाइन', 'कर', 'बीताने', 'दफ्तरवाले', 'बैराढ', 'कंबलों', 'ज्वार', 'फातमा', 'विवेस', 'डीडब्ल्यूटी', 'धातुएं', 'सियाह', 'पीटने', 'बिच्चों', 'जिता', 'सेवाला', 'बताैर', 'आदित्या', 'क्षेत्रें', 'एंकेनी', 'छेत्र', 'मुकरते', 'ऐंठे', 'बाल्टी', 'खंगाली', 'बीएसएसएस', 'ब्ंजजसम', 'पुष्पित', 'लिंमर्ग', 'पेरेड्डी', 'बोदरा', 'फ़ोकस', 'दूताय', 'श्रीलेदर्स', 'महंकमदान', 'घूंसा', 'काव्यविधाओं', 'क्षत्रियादि', 'जानकारों', 'रखना', 'रिश्तेदारो', 'श्रावणी', 'कुबुद्दीन', 'ज्वेलर्स', 'मेहमान', 'रोजलिन', 'जयकारा', 'चबूतरे', 'हरदिल', 'ट्रक', 'न्यूरोवेस्कुलर', 'खेलाने', 'स्ट्रेशन', 'लक्ष्यतीर्थ', 'नेशंस', 'पाठशालाएं', 'निवेदनः', 'लीडरों', 'टेनला', 'सेवकों', 'पूर्वापेक्षाओं', 'मणि', 'साेमवार', 'प्राण', 'अवैज्ञानिक', 'ऐवीऐशन', 'ब्राउन', 'नाकाम', 'अधिवास', 'जनजागरण', 'राजनंदगांव', 'लैरी', 'भाालू', 'तरीको', 'चिकोपी', 'रिफ्रेक्टरीज़', 'बरामद', 'काव', 'एमरल्ड', 'विवेकाधीन', 'फड़फड़ाएं', 'कायलाना', 'पेंट्स', 'पिट्सबर्ग', 'होखत', 'चौरसिया', 'सच्चिदानंद', 'सीड', 'चारों', 'रिज़वी', 'क्ले', 'दंपति', 'दूर्गध', 'देवापुर', 'मनवाया', 'लटककर', 'मेहमान', 'निया', 'उधमपुर', 'अतहर', 'छुपता', 'तुंगनाथ', 'रघुपति', 'प्रकाण्ड़', 'चेंज्ड', 'गंगटोक', 'क्रिकेट', 'फ्रांसिस्को', 'भगाने', 'अड़ंगा', 'फिक्सिंगः', 'कमाऊ', 'तिकोने', 'पैम', 'तरीक़ों', 'आगमन', 'किदवई', 'आश्रितों', 'राघवन', 'जनेऊधारी', 'डेवनपोर्ट', 'प्रेरणापुरी', 'महासिंह', 'लोरदा', 'इंट्रोडक्शन', 'स्वभावतः', 'ग्रीष्मोत्सव', 'तलाशेगा', 'सहरसा', 'मैके', 'मोशे', 'ग्रंथियां', 'लोहाती', 'अलायंस', 'तगड़े', 'छींके', 'सिवान', 'थकी', 'लेटकर', 'हिकारिको', 'टायर्स', 'नृत्यों', 'डियरफील्ड', 'चरित', 'बैथलहम', 'फिनोटेक्स', 'असाही', 'पहन', 'धनश्याम', 'फारेंसिस', 'लहना', 'द्वारिकेश', 'डुबाना', 'काराबोरियों', 'गोलमुरी', 'राखणौ', 'विपणक', 'पंचांग', 'ब्रीद', 'गुल्लरवाला', 'एडब्ल्यूपी', 'बाज़ी', 'हरपाल', 'प्रेमेश्वर', 'प्राप्त', 'नक्सलवाद', 'कंठहार', 'ऑक्साइड', 'खैराती', 'देशके', 'सुनासीर', 'अफसराें', 'सेहो', 'चबाते', 'मिति', 'बेलचा', 'सफ़लता', 'शबाना', 'खातूटोला', 'शिवास्तव', 'प्रेरणापुरी']\n",
            "vanilla_seq2seq_Acc.: 18.4326171875\n",
            "attention_seq2seq_Acc.: 22.5830078125\n"
          ]
        }
      ]
    },
    {
      "cell_type": "markdown",
      "source": [
        "## For saving in local PC while using Local run time"
      ],
      "metadata": {
        "id": "GXA7X2ZoqSov"
      }
    },
    {
      "cell_type": "code",
      "source": [
        "import csv\n",
        "\n",
        "# file_path = r\"C:\\Users\\ASL 5\\Downloads\\DL_Assignment_3\\Attaintion\\Predictions_attention_.csv\"\n",
        "file_path = r\"C:\\Users\\aslwo\\Downloads\\Predictions_attention_.csv\"\n",
        "\n",
        "with open(file_path, 'w', newline='', encoding='utf-8-sig') as file:\n",
        "    writer = csv.writer(file)\n",
        "\n",
        "    # The column headers\n",
        "    writer.writerow(['ENGLISH', 'HINDI_translation', 'Attention_seq2seq_pred'])\n",
        "\n",
        "    # The data rows\n",
        "    for rows in zip(test_eng, test_hin, solulu_test_att):\n",
        "        writer.writerow(rows)\n"
      ],
      "metadata": {
        "id": "ZMRAEYdP69f0"
      },
      "execution_count": null,
      "outputs": []
    },
    {
      "cell_type": "code",
      "source": [
        "import csv\n",
        "file_path = r\"C:\\Users\\aslwo\\Downloads\\Predictions_vanilla_.csv\"\n",
        "\n",
        "with open(file_path, 'w', newline='', encoding='utf-8-sig') as file:\n",
        "    writer = csv.writer(file)\n",
        "\n",
        "    # The column headers\n",
        "    writer.writerow(['ENGLISH', 'HINDI_translation', 'Vanilla_seq2seq_pred'])\n",
        "\n",
        "    # The data rows\n",
        "    for rows in zip(test_eng, test_hin, solulu_test):\n",
        "        writer.writerow(rows)"
      ],
      "metadata": {
        "id": "VkTpb7GFqOf3"
      },
      "execution_count": null,
      "outputs": []
    },
    {
      "cell_type": "markdown",
      "source": [
        "## For saving in gdrive while using colab online"
      ],
      "metadata": {
        "id": "9bVsPgDdqgKY"
      }
    },
    {
      "cell_type": "code",
      "source": [
        "import csv\n",
        "\n",
        "file_path = '/content/drive/MyDrive/Predictions_attention_/Predictions_attention_.csv'\n",
        "\n",
        "with open(file_path, 'w', newline='') as file:\n",
        "    writer = csv.writer(file)\n",
        "\n",
        "    # The column headers\n",
        "    writer.writerow(['ENGLISH', 'HINDI_translation', 'Attention_seq2seq_pred'])\n",
        "\n",
        "    # The data rows\n",
        "    for rows in zip(test_eng, test_hin, solulu_test_att):\n",
        "        writer.writerow(rows)"
      ],
      "metadata": {
        "id": "TS3P4TLMawgt"
      },
      "execution_count": 18,
      "outputs": []
    },
    {
      "cell_type": "code",
      "source": [
        "import csv\n",
        "file_path = '/content/drive/MyDrive/Predictions_vanilla_/Predictions_vanilla_.csv'\n",
        "with open(file_path, 'w', newline='') as file:\n",
        "    writer = csv.writer(file)\n",
        "\n",
        "    # The column headers\n",
        "    writer.writerow(['ENGLISH', 'HINDI_translation', 'Vanilla_seq2seq_pred'])\n",
        "\n",
        "    # The data rows\n",
        "    for rows in zip(test_eng, test_hin, solulu_test):\n",
        "        writer.writerow(rows)"
      ],
      "metadata": {
        "id": "rrK51JlnayWa"
      },
      "execution_count": 19,
      "outputs": []
    }
  ]
}